{
 "cells": [
  {
   "cell_type": "code",
   "execution_count": 1,
   "metadata": {
    "collapsed": true
   },
   "outputs": [
    {
     "name": "stderr",
     "output_type": "stream",
     "text": [
      "WARNING: You are using pip version 21.3.1; however, version 22.3.1 is available.\n",
      "You should consider upgrading via the 'c:\\users\\sleepy\\appdata\\local\\programs\\python\\python38\\python.exe -m pip install --upgrade pip' command.\n"
     ]
    },
    {
     "name": "stdout",
     "output_type": "stream",
     "text": [
      "Requirement already satisfied: toolz in c:\\users\\sleepy\\appdata\\local\\programs\\python\\python38\\lib\\site-packages (0.11.2)\n",
      "Requirement already satisfied: scikit-allel in c:\\users\\sleepy\\appdata\\local\\programs\\python\\python38\\lib\\site-packages (1.3.5)\n",
      "Requirement already satisfied: numpy in c:\\users\\sleepy\\appdata\\local\\programs\\python\\python38\\lib\\site-packages (from scikit-allel) (1.21.4+mkl)\n",
      "Requirement already satisfied: dask[array] in c:\\users\\sleepy\\appdata\\local\\programs\\python\\python38\\lib\\site-packages (from scikit-allel) (2022.2.1)\n",
      "Requirement already satisfied: packaging>=20.0 in c:\\users\\sleepy\\appdata\\local\\programs\\python\\python38\\lib\\site-packages (from dask[array]->scikit-allel) (21.3)\n",
      "Requirement already satisfied: pyyaml>=5.3.1 in c:\\users\\sleepy\\appdata\\local\\programs\\python\\python38\\lib\\site-packages (from dask[array]->scikit-allel) (6.0)\n",
      "Requirement already satisfied: fsspec>=0.6.0 in c:\\users\\sleepy\\appdata\\local\\programs\\python\\python38\\lib\\site-packages (from dask[array]->scikit-allel) (2022.2.0)\n",
      "Requirement already satisfied: cloudpickle>=1.1.1 in c:\\users\\sleepy\\appdata\\local\\programs\\python\\python38\\lib\\site-packages (from dask[array]->scikit-allel) (2.0.0)\n",
      "Requirement already satisfied: partd>=0.3.10 in c:\\users\\sleepy\\appdata\\local\\programs\\python\\python38\\lib\\site-packages (from dask[array]->scikit-allel) (1.2.0)\n",
      "Requirement already satisfied: pyparsing!=3.0.5,>=2.0.2 in c:\\users\\sleepy\\appdata\\local\\programs\\python\\python38\\lib\\site-packages (from packaging>=20.0->dask[array]->scikit-allel) (3.0.6)\n",
      "Requirement already satisfied: locket in c:\\users\\sleepy\\appdata\\local\\programs\\python\\python38\\lib\\site-packages (from partd>=0.3.10->dask[array]->scikit-allel) (0.2.1)\n"
     ]
    }
   ],
   "source": [
    "!pip install toolz scikit-allel\n",
    "\n",
    "import os\n",
    "import numpy as np\n",
    "import pandas as pd\n",
    "import ast\n",
    "import math\n",
    "import re\n",
    "import itertools\n",
    "import random\n",
    "import json\n",
    "import matplotlib\n",
    "from matplotlib.pyplot import plot as plt\n",
    "from scipy.spatial.distance import squareform\n",
    "from pylab import *\n",
    "mpl.use(\"pgf\")\n",
    "# activate latex text rendering\n",
    "rc('text', usetex=True)\n",
    "rc('axes', linewidth=2)\n",
    "rc('font', weight='bold')\n",
    "mpl.rcParams.update({\n",
    "    \"pgf.texsystem\": \"pdflatex\",\n",
    "    'font.family': 'serif',\n",
    "    'text.usetex': True,\n",
    "    'pgf.rcfonts': False,\n",
    "    'text.latex.preamble':r'\\usepackage{sfmath} \\boldmath'\n",
    "})\n",
    "%matplotlib inline\n",
    "import seaborn as sns\n",
    "sns.set_theme(style=\"whitegrid\")\n",
    "from sklearn.model_selection import KFold,StratifiedKFold\n",
    "from sklearn.model_selection import train_test_split\n",
    "from tqdm import tqdm\n",
    "import allel\n",
    "# sns.set_theme(style=\"ticks\")\n"
   ]
  },
  {
   "cell_type": "code",
   "execution_count": 2,
   "outputs": [
    {
     "data": {
      "text/plain": "         0    1    2    3    4    5    6    7    8    9    ...  563  564  565  \\\nHG00096  0|0  0|0  0|0  0|0  0|0  0|0  1|1  0|0  0|0  0|0  ...  0|0  0|1  0|0   \nHG00097  0|0  0|0  0|0  0|0  0|0  0|0  1|0  0|0  0|0  0|0  ...  0|0  0|1  0|0   \nHG00099  0|0  0|0  0|0  0|0  0|0  0|0  1|0  0|0  0|0  0|0  ...  0|0  0|0  0|0   \nHG00100  0|0  0|0  0|0  0|0  0|0  0|0  1|0  0|0  0|0  0|0  ...  0|0  0|0  0|0   \nHG00101  0|0  0|0  0|0  0|0  0|0  0|0  1|0  0|0  0|0  0|0  ...  0|0  0|0  0|0   \n...      ...  ...  ...  ...  ...  ...  ...  ...  ...  ...  ...  ...  ...  ...   \nNA21137  0|0  0|0  0|0  0|0  0|0  0|0  0|0  0|0  0|0  0|0  ...  0|0  0|0  0|0   \nNA21141  0|0  0|0  0|0  0|0  0|0  0|0  1|0  0|0  0|0  0|0  ...  0|0  1|0  0|0   \nNA21142  0|0  0|0  0|0  0|0  0|0  0|0  0|1  0|0  0|0  0|0  ...  0|0  1|0  0|0   \nNA21143  0|0  0|0  0|0  0|0  0|0  0|0  1|0  0|0  0|0  0|0  ...  0|0  0|1  0|0   \nNA21144  0|0  0|0  0|0  0|0  0|0  0|0  0|0  0|0  0|0  0|0  ...  0|0  0|0  0|0   \n\n         566  567  568  569  570  571  572  \nHG00096  0|0  0|0  0|0  0|0  0|0  0|0  0|0  \nHG00097  0|0  0|0  0|0  0|0  0|0  0|0  0|0  \nHG00099  0|0  0|0  0|0  0|0  0|0  0|0  0|0  \nHG00100  0|0  0|0  0|0  0|0  0|0  0|0  0|0  \nHG00101  0|0  0|0  0|0  0|0  0|0  0|0  0|0  \n...      ...  ...  ...  ...  ...  ...  ...  \nNA21137  0|0  0|0  0|0  0|0  0|0  0|0  0|0  \nNA21141  0|0  0|0  0|0  0|0  0|0  0|0  0|0  \nNA21142  0|0  0|0  0|0  0|0  0|0  0|0  0|0  \nNA21143  0|0  0|0  0|0  0|0  0|0  0|0  0|0  \nNA21144  0|0  0|0  0|0  0|0  0|0  0|0  0|0  \n\n[2504 rows x 573 columns]",
      "text/html": "<div>\n<style scoped>\n    .dataframe tbody tr th:only-of-type {\n        vertical-align: middle;\n    }\n\n    .dataframe tbody tr th {\n        vertical-align: top;\n    }\n\n    .dataframe thead th {\n        text-align: right;\n    }\n</style>\n<table border=\"1\" class=\"dataframe\">\n  <thead>\n    <tr style=\"text-align: right;\">\n      <th></th>\n      <th>0</th>\n      <th>1</th>\n      <th>2</th>\n      <th>3</th>\n      <th>4</th>\n      <th>5</th>\n      <th>6</th>\n      <th>7</th>\n      <th>8</th>\n      <th>9</th>\n      <th>...</th>\n      <th>563</th>\n      <th>564</th>\n      <th>565</th>\n      <th>566</th>\n      <th>567</th>\n      <th>568</th>\n      <th>569</th>\n      <th>570</th>\n      <th>571</th>\n      <th>572</th>\n    </tr>\n  </thead>\n  <tbody>\n    <tr>\n      <th>HG00096</th>\n      <td>0|0</td>\n      <td>0|0</td>\n      <td>0|0</td>\n      <td>0|0</td>\n      <td>0|0</td>\n      <td>0|0</td>\n      <td>1|1</td>\n      <td>0|0</td>\n      <td>0|0</td>\n      <td>0|0</td>\n      <td>...</td>\n      <td>0|0</td>\n      <td>0|1</td>\n      <td>0|0</td>\n      <td>0|0</td>\n      <td>0|0</td>\n      <td>0|0</td>\n      <td>0|0</td>\n      <td>0|0</td>\n      <td>0|0</td>\n      <td>0|0</td>\n    </tr>\n    <tr>\n      <th>HG00097</th>\n      <td>0|0</td>\n      <td>0|0</td>\n      <td>0|0</td>\n      <td>0|0</td>\n      <td>0|0</td>\n      <td>0|0</td>\n      <td>1|0</td>\n      <td>0|0</td>\n      <td>0|0</td>\n      <td>0|0</td>\n      <td>...</td>\n      <td>0|0</td>\n      <td>0|1</td>\n      <td>0|0</td>\n      <td>0|0</td>\n      <td>0|0</td>\n      <td>0|0</td>\n      <td>0|0</td>\n      <td>0|0</td>\n      <td>0|0</td>\n      <td>0|0</td>\n    </tr>\n    <tr>\n      <th>HG00099</th>\n      <td>0|0</td>\n      <td>0|0</td>\n      <td>0|0</td>\n      <td>0|0</td>\n      <td>0|0</td>\n      <td>0|0</td>\n      <td>1|0</td>\n      <td>0|0</td>\n      <td>0|0</td>\n      <td>0|0</td>\n      <td>...</td>\n      <td>0|0</td>\n      <td>0|0</td>\n      <td>0|0</td>\n      <td>0|0</td>\n      <td>0|0</td>\n      <td>0|0</td>\n      <td>0|0</td>\n      <td>0|0</td>\n      <td>0|0</td>\n      <td>0|0</td>\n    </tr>\n    <tr>\n      <th>HG00100</th>\n      <td>0|0</td>\n      <td>0|0</td>\n      <td>0|0</td>\n      <td>0|0</td>\n      <td>0|0</td>\n      <td>0|0</td>\n      <td>1|0</td>\n      <td>0|0</td>\n      <td>0|0</td>\n      <td>0|0</td>\n      <td>...</td>\n      <td>0|0</td>\n      <td>0|0</td>\n      <td>0|0</td>\n      <td>0|0</td>\n      <td>0|0</td>\n      <td>0|0</td>\n      <td>0|0</td>\n      <td>0|0</td>\n      <td>0|0</td>\n      <td>0|0</td>\n    </tr>\n    <tr>\n      <th>HG00101</th>\n      <td>0|0</td>\n      <td>0|0</td>\n      <td>0|0</td>\n      <td>0|0</td>\n      <td>0|0</td>\n      <td>0|0</td>\n      <td>1|0</td>\n      <td>0|0</td>\n      <td>0|0</td>\n      <td>0|0</td>\n      <td>...</td>\n      <td>0|0</td>\n      <td>0|0</td>\n      <td>0|0</td>\n      <td>0|0</td>\n      <td>0|0</td>\n      <td>0|0</td>\n      <td>0|0</td>\n      <td>0|0</td>\n      <td>0|0</td>\n      <td>0|0</td>\n    </tr>\n    <tr>\n      <th>...</th>\n      <td>...</td>\n      <td>...</td>\n      <td>...</td>\n      <td>...</td>\n      <td>...</td>\n      <td>...</td>\n      <td>...</td>\n      <td>...</td>\n      <td>...</td>\n      <td>...</td>\n      <td>...</td>\n      <td>...</td>\n      <td>...</td>\n      <td>...</td>\n      <td>...</td>\n      <td>...</td>\n      <td>...</td>\n      <td>...</td>\n      <td>...</td>\n      <td>...</td>\n      <td>...</td>\n    </tr>\n    <tr>\n      <th>NA21137</th>\n      <td>0|0</td>\n      <td>0|0</td>\n      <td>0|0</td>\n      <td>0|0</td>\n      <td>0|0</td>\n      <td>0|0</td>\n      <td>0|0</td>\n      <td>0|0</td>\n      <td>0|0</td>\n      <td>0|0</td>\n      <td>...</td>\n      <td>0|0</td>\n      <td>0|0</td>\n      <td>0|0</td>\n      <td>0|0</td>\n      <td>0|0</td>\n      <td>0|0</td>\n      <td>0|0</td>\n      <td>0|0</td>\n      <td>0|0</td>\n      <td>0|0</td>\n    </tr>\n    <tr>\n      <th>NA21141</th>\n      <td>0|0</td>\n      <td>0|0</td>\n      <td>0|0</td>\n      <td>0|0</td>\n      <td>0|0</td>\n      <td>0|0</td>\n      <td>1|0</td>\n      <td>0|0</td>\n      <td>0|0</td>\n      <td>0|0</td>\n      <td>...</td>\n      <td>0|0</td>\n      <td>1|0</td>\n      <td>0|0</td>\n      <td>0|0</td>\n      <td>0|0</td>\n      <td>0|0</td>\n      <td>0|0</td>\n      <td>0|0</td>\n      <td>0|0</td>\n      <td>0|0</td>\n    </tr>\n    <tr>\n      <th>NA21142</th>\n      <td>0|0</td>\n      <td>0|0</td>\n      <td>0|0</td>\n      <td>0|0</td>\n      <td>0|0</td>\n      <td>0|0</td>\n      <td>0|1</td>\n      <td>0|0</td>\n      <td>0|0</td>\n      <td>0|0</td>\n      <td>...</td>\n      <td>0|0</td>\n      <td>1|0</td>\n      <td>0|0</td>\n      <td>0|0</td>\n      <td>0|0</td>\n      <td>0|0</td>\n      <td>0|0</td>\n      <td>0|0</td>\n      <td>0|0</td>\n      <td>0|0</td>\n    </tr>\n    <tr>\n      <th>NA21143</th>\n      <td>0|0</td>\n      <td>0|0</td>\n      <td>0|0</td>\n      <td>0|0</td>\n      <td>0|0</td>\n      <td>0|0</td>\n      <td>1|0</td>\n      <td>0|0</td>\n      <td>0|0</td>\n      <td>0|0</td>\n      <td>...</td>\n      <td>0|0</td>\n      <td>0|1</td>\n      <td>0|0</td>\n      <td>0|0</td>\n      <td>0|0</td>\n      <td>0|0</td>\n      <td>0|0</td>\n      <td>0|0</td>\n      <td>0|0</td>\n      <td>0|0</td>\n    </tr>\n    <tr>\n      <th>NA21144</th>\n      <td>0|0</td>\n      <td>0|0</td>\n      <td>0|0</td>\n      <td>0|0</td>\n      <td>0|0</td>\n      <td>0|0</td>\n      <td>0|0</td>\n      <td>0|0</td>\n      <td>0|0</td>\n      <td>0|0</td>\n      <td>...</td>\n      <td>0|0</td>\n      <td>0|0</td>\n      <td>0|0</td>\n      <td>0|0</td>\n      <td>0|0</td>\n      <td>0|0</td>\n      <td>0|0</td>\n      <td>0|0</td>\n      <td>0|0</td>\n      <td>0|0</td>\n    </tr>\n  </tbody>\n</table>\n<p>2504 rows × 573 columns</p>\n</div>"
     },
     "execution_count": 2,
     "metadata": {},
     "output_type": "execute_result"
    }
   ],
   "source": [
    "# load data\n",
    "root_dir = './data/'\n",
    "new_data_header = \"\"\n",
    "# get header\n",
    "with open(root_dir + \"DELL.chr22.genotypes.full.vcf\", 'r') as f_in:\n",
    "    # skip info\n",
    "    for line_num in range(70):\n",
    "        f_in.readline()\n",
    "\n",
    "    new_data_header = f_in.readline()\n",
    "# load data\n",
    "\n",
    "# load genotype\n",
    "genotypes = pd.read_csv(root_dir + \"DELL.chr22.genotypes.full.vcf\",\n",
    "                        comment='#', sep='\\t',\n",
    "                        names=new_data_header.strip().split('\\t'),\n",
    "                        header=None).iloc[:, 9:].T\n",
    "\n",
    "headers = genotypes.columns[:]\n",
    "genotypes"
   ],
   "metadata": {
    "collapsed": false,
    "pycharm": {
     "name": "#%%\n"
    }
   }
  },
  {
   "cell_type": "code",
   "execution_count": 3,
   "outputs": [
    {
     "data": {
      "text/plain": "              Family ID Paternal ID Maternal ID  Gender  Phenotype Population  \\\nIndividual ID                                                                   \nHG00096         HG00096           0           0       1          0        GBR   \nHG00097         HG00097           0           0       2          0        GBR   \nHG00098         HG00098           0           0       1          0        GBR   \nHG00099         HG00099           0           0       2          0        GBR   \nHG00100         HG00100           0           0       2          0        GBR   \n\n              Relationship Siblings Second Order Third Order Children  \\\nIndividual ID                                                           \nHG00096              unrel        0            0           0        0   \nHG00097              unrel        0            0           0        0   \nHG00098              unrel        0            0           0        0   \nHG00099              unrel        0            0           0        0   \nHG00100              unrel        0            0           0        0   \n\n              Other Comments  \nIndividual ID                 \nHG00096                    0  \nHG00097                    0  \nHG00098                    0  \nHG00099                    0  \nHG00100                    0  ",
      "text/html": "<div>\n<style scoped>\n    .dataframe tbody tr th:only-of-type {\n        vertical-align: middle;\n    }\n\n    .dataframe tbody tr th {\n        vertical-align: top;\n    }\n\n    .dataframe thead th {\n        text-align: right;\n    }\n</style>\n<table border=\"1\" class=\"dataframe\">\n  <thead>\n    <tr style=\"text-align: right;\">\n      <th></th>\n      <th>Family ID</th>\n      <th>Paternal ID</th>\n      <th>Maternal ID</th>\n      <th>Gender</th>\n      <th>Phenotype</th>\n      <th>Population</th>\n      <th>Relationship</th>\n      <th>Siblings</th>\n      <th>Second Order</th>\n      <th>Third Order</th>\n      <th>Children</th>\n      <th>Other Comments</th>\n    </tr>\n    <tr>\n      <th>Individual ID</th>\n      <th></th>\n      <th></th>\n      <th></th>\n      <th></th>\n      <th></th>\n      <th></th>\n      <th></th>\n      <th></th>\n      <th></th>\n      <th></th>\n      <th></th>\n      <th></th>\n    </tr>\n  </thead>\n  <tbody>\n    <tr>\n      <th>HG00096</th>\n      <td>HG00096</td>\n      <td>0</td>\n      <td>0</td>\n      <td>1</td>\n      <td>0</td>\n      <td>GBR</td>\n      <td>unrel</td>\n      <td>0</td>\n      <td>0</td>\n      <td>0</td>\n      <td>0</td>\n      <td>0</td>\n    </tr>\n    <tr>\n      <th>HG00097</th>\n      <td>HG00097</td>\n      <td>0</td>\n      <td>0</td>\n      <td>2</td>\n      <td>0</td>\n      <td>GBR</td>\n      <td>unrel</td>\n      <td>0</td>\n      <td>0</td>\n      <td>0</td>\n      <td>0</td>\n      <td>0</td>\n    </tr>\n    <tr>\n      <th>HG00098</th>\n      <td>HG00098</td>\n      <td>0</td>\n      <td>0</td>\n      <td>1</td>\n      <td>0</td>\n      <td>GBR</td>\n      <td>unrel</td>\n      <td>0</td>\n      <td>0</td>\n      <td>0</td>\n      <td>0</td>\n      <td>0</td>\n    </tr>\n    <tr>\n      <th>HG00099</th>\n      <td>HG00099</td>\n      <td>0</td>\n      <td>0</td>\n      <td>2</td>\n      <td>0</td>\n      <td>GBR</td>\n      <td>unrel</td>\n      <td>0</td>\n      <td>0</td>\n      <td>0</td>\n      <td>0</td>\n      <td>0</td>\n    </tr>\n    <tr>\n      <th>HG00100</th>\n      <td>HG00100</td>\n      <td>0</td>\n      <td>0</td>\n      <td>2</td>\n      <td>0</td>\n      <td>GBR</td>\n      <td>unrel</td>\n      <td>0</td>\n      <td>0</td>\n      <td>0</td>\n      <td>0</td>\n      <td>0</td>\n    </tr>\n  </tbody>\n</table>\n</div>"
     },
     "execution_count": 3,
     "metadata": {},
     "output_type": "execute_result"
    }
   ],
   "source": [
    "ped_file = 'integrated_call_samples.20130502.ALL.ped'\n",
    "pedigree = pd.read_csv(root_dir+ped_file, sep='\\t', index_col='Individual ID')\n",
    "pedigree.head()"
   ],
   "metadata": {
    "collapsed": false,
    "pycharm": {
     "name": "#%%\n"
    }
   }
  },
  {
   "cell_type": "code",
   "execution_count": 4,
   "outputs": [
    {
     "data": {
      "text/plain": "(2504, 573)"
     },
     "execution_count": 4,
     "metadata": {},
     "output_type": "execute_result"
    }
   ],
   "source": [
    "Y_train = pedigree.loc[genotypes.index]['Population']\n",
    "X = genotypes[genotypes.index.isin(Y_train.index)]\n",
    "X = X.replace({\n",
    "    '0|0': 0,\n",
    "    '0|1': 1,\n",
    "    '1|0': 2,\n",
    "    '1|1': 3\n",
    "})\n",
    "X.shape"
   ],
   "metadata": {
    "collapsed": false,
    "pycharm": {
     "name": "#%%\n"
    }
   }
  },
  {
   "cell_type": "code",
   "execution_count": 5,
   "outputs": [
    {
     "data": {
      "text/plain": "(573, 573)"
     },
     "execution_count": 5,
     "metadata": {},
     "output_type": "execute_result"
    }
   ],
   "source": [
    "r = allel.rogers_huff_r(X.T)\n",
    "LD = squareform(r ** 2)\n",
    "LD.shape"
   ],
   "metadata": {
    "collapsed": false,
    "pycharm": {
     "name": "#%%\n"
    }
   }
  },
  {
   "cell_type": "code",
   "execution_count": 6,
   "outputs": [
    {
     "data": {
      "text/plain": "<matplotlib.image.AxesImage at 0x1f95b808c10>"
     },
     "execution_count": 6,
     "metadata": {},
     "output_type": "execute_result"
    },
    {
     "data": {
      "text/plain": "<Figure size 576x576 with 1 Axes>",
      "image/png": "[encoded data removed]"
     },
     "metadata": {},
     "output_type": "display_data"
    }
   ],
   "source": [
    "plt.figure(figsize=(8,8))\n",
    "plt.imshow(LD)"
   ],
   "metadata": {
    "collapsed": false,
    "pycharm": {
     "name": "#%%\n"
    }
   }
  },
  {
   "cell_type": "code",
   "execution_count": 7,
   "outputs": [
    {
     "data": {
      "text/plain": "(array([420.,  46.,  29.,  31.,  47.]),\n array([0. , 0.2, 0.4, 0.6, 0.8, 1. ]),\n <BarContainer object of 5 artists>)"
     },
     "execution_count": 7,
     "metadata": {},
     "output_type": "execute_result"
    },
    {
     "data": {
      "text/plain": "<Figure size 432x288 with 1 Axes>",
      "image/png": "[encoded data removed]"
     },
     "metadata": {},
     "output_type": "display_data"
    }
   ],
   "source": [
    "bins = [0, 0.2, 0.4, 0.6, 0.8, 1]\n",
    "plt.hist(np.max(LD, axis=1), bins=bins)"
   ],
   "metadata": {
    "collapsed": false,
    "pycharm": {
     "name": "#%%\n"
    }
   }
  },
  {
   "cell_type": "code",
   "execution_count": 8,
   "outputs": [
    {
     "data": {
      "text/plain": "(array([1, 2, 3, 4, 5], dtype=int64),\n array([420,  46,  29,  31,  47], dtype=int64))"
     },
     "execution_count": 8,
     "metadata": {},
     "output_type": "execute_result"
    }
   ],
   "source": [
    "LD_max_freqs = np.amax(LD, axis=1)\n",
    "# mean_LDs = np.mean(LD, axis=1)\n",
    "# max_mean_LD = np.max(mean_LDs)\n",
    "# min_mean_LD = np.min(mean_LDs)\n",
    "# mean_LDs_min_max_scaled = (mean_LDs - min_mean_LD)/(max_mean_LD - min_mean_LD)\n",
    "bin_labels = np.digitize(LD_max_freqs, bins=bins, right=True)\n",
    "# bin_labels = np.digitize(mean_LDs_min_max_scaled, bins=bins[1:], right=True)\n",
    "bin_general_labels, bin_counts = np.unique(bin_labels, return_counts=True)\n",
    "bin_general_labels, bin_counts"
   ],
   "metadata": {
    "collapsed": false,
    "pycharm": {
     "name": "#%%\n"
    }
   }
  },
  {
   "cell_type": "code",
   "execution_count": 24,
   "outputs": [
    {
     "name": "stdout",
     "output_type": "stream",
     "text": [
      "Fold: 1\n",
      "Missing rate: 0.05\n"
     ]
    },
    {
     "name": "stderr",
     "output_type": "stream",
     "text": [
      "100%|██████████| 835/835 [00:01<00:00, 697.40it/s]\n"
     ]
    },
    {
     "name": "stdout",
     "output_type": "stream",
     "text": [
      "Missing rate: 0.1\n"
     ]
    },
    {
     "name": "stderr",
     "output_type": "stream",
     "text": [
      "100%|██████████| 835/835 [00:01<00:00, 463.46it/s]\n"
     ]
    },
    {
     "name": "stdout",
     "output_type": "stream",
     "text": [
      "Missing rate: 0.2\n"
     ]
    },
    {
     "name": "stderr",
     "output_type": "stream",
     "text": [
      "100%|██████████| 835/835 [00:03<00:00, 270.22it/s]\n"
     ]
    },
    {
     "name": "stdout",
     "output_type": "stream",
     "text": [
      "Fold: 2\n",
      "Missing rate: 0.05\n"
     ]
    },
    {
     "name": "stderr",
     "output_type": "stream",
     "text": [
      "100%|██████████| 835/835 [00:01<00:00, 718.20it/s]\n"
     ]
    },
    {
     "name": "stdout",
     "output_type": "stream",
     "text": [
      "Missing rate: 0.1\n"
     ]
    },
    {
     "name": "stderr",
     "output_type": "stream",
     "text": [
      "100%|██████████| 835/835 [00:01<00:00, 446.56it/s]\n"
     ]
    },
    {
     "name": "stdout",
     "output_type": "stream",
     "text": [
      "Missing rate: 0.2\n"
     ]
    },
    {
     "name": "stderr",
     "output_type": "stream",
     "text": [
      "100%|██████████| 835/835 [00:03<00:00, 267.08it/s]\n"
     ]
    },
    {
     "name": "stdout",
     "output_type": "stream",
     "text": [
      "Fold: 3\n",
      "Missing rate: 0.05\n"
     ]
    },
    {
     "name": "stderr",
     "output_type": "stream",
     "text": [
      "100%|██████████| 834/834 [00:01<00:00, 714.64it/s]\n"
     ]
    },
    {
     "name": "stdout",
     "output_type": "stream",
     "text": [
      "Missing rate: 0.1\n"
     ]
    },
    {
     "name": "stderr",
     "output_type": "stream",
     "text": [
      "100%|██████████| 834/834 [00:01<00:00, 445.23it/s]\n"
     ]
    },
    {
     "name": "stdout",
     "output_type": "stream",
     "text": [
      "Missing rate: 0.2\n"
     ]
    },
    {
     "name": "stderr",
     "output_type": "stream",
     "text": [
      "100%|██████████| 834/834 [00:03<00:00, 271.61it/s]\n"
     ]
    },
    {
     "name": "stdout",
     "output_type": "stream",
     "text": [
      "Combining the results...\n"
     ]
    },
    {
     "name": "stderr",
     "output_type": "stream",
     "text": [
      "9it [00:00, 106.00it/s]\n"
     ]
    },
    {
     "data": {
      "text/plain": "       Fold MissingRate           Max LD Accuracy Sample ID\n0         1        0.05    0 <= LD < 0.2        1   NA21144\n1         1        0.05  0.2 <= LD < 0.4        1   NA21144\n2         1        0.05    0 <= LD < 0.2        1   NA21144\n3         1        0.05    0 <= LD < 0.2        1   NA21144\n4         1        0.05    0 <= LD < 0.2        1   NA21144\n...     ...         ...              ...      ...       ...\n498291    3         0.2    0 <= LD < 0.2        1   HG00097\n498292    3         0.2   0.8 <= LD <= 1        1   HG00097\n498293    3         0.2    0 <= LD < 0.2        1   HG00097\n498294    3         0.2  0.4 <= LD < 0.6        1   HG00097\n498295    3         0.2    0 <= LD < 0.2        1   HG00097\n\n[498296 rows x 5 columns]",
      "text/html": "<div>\n<style scoped>\n    .dataframe tbody tr th:only-of-type {\n        vertical-align: middle;\n    }\n\n    .dataframe tbody tr th {\n        vertical-align: top;\n    }\n\n    .dataframe thead th {\n        text-align: right;\n    }\n</style>\n<table border=\"1\" class=\"dataframe\">\n  <thead>\n    <tr style=\"text-align: right;\">\n      <th></th>\n      <th>Fold</th>\n      <th>MissingRate</th>\n      <th>Max LD</th>\n      <th>Accuracy</th>\n      <th>Sample ID</th>\n    </tr>\n  </thead>\n  <tbody>\n    <tr>\n      <th>0</th>\n      <td>1</td>\n      <td>0.05</td>\n      <td>0 &lt;= LD &lt; 0.2</td>\n      <td>1</td>\n      <td>NA21144</td>\n    </tr>\n    <tr>\n      <th>1</th>\n      <td>1</td>\n      <td>0.05</td>\n      <td>0.2 &lt;= LD &lt; 0.4</td>\n      <td>1</td>\n      <td>NA21144</td>\n    </tr>\n    <tr>\n      <th>2</th>\n      <td>1</td>\n      <td>0.05</td>\n      <td>0 &lt;= LD &lt; 0.2</td>\n      <td>1</td>\n      <td>NA21144</td>\n    </tr>\n    <tr>\n      <th>3</th>\n      <td>1</td>\n      <td>0.05</td>\n      <td>0 &lt;= LD &lt; 0.2</td>\n      <td>1</td>\n      <td>NA21144</td>\n    </tr>\n    <tr>\n      <th>4</th>\n      <td>1</td>\n      <td>0.05</td>\n      <td>0 &lt;= LD &lt; 0.2</td>\n      <td>1</td>\n      <td>NA21144</td>\n    </tr>\n    <tr>\n      <th>...</th>\n      <td>...</td>\n      <td>...</td>\n      <td>...</td>\n      <td>...</td>\n      <td>...</td>\n    </tr>\n    <tr>\n      <th>498291</th>\n      <td>3</td>\n      <td>0.2</td>\n      <td>0 &lt;= LD &lt; 0.2</td>\n      <td>1</td>\n      <td>HG00097</td>\n    </tr>\n    <tr>\n      <th>498292</th>\n      <td>3</td>\n      <td>0.2</td>\n      <td>0.8 &lt;= LD &lt;= 1</td>\n      <td>1</td>\n      <td>HG00097</td>\n    </tr>\n    <tr>\n      <th>498293</th>\n      <td>3</td>\n      <td>0.2</td>\n      <td>0 &lt;= LD &lt; 0.2</td>\n      <td>1</td>\n      <td>HG00097</td>\n    </tr>\n    <tr>\n      <th>498294</th>\n      <td>3</td>\n      <td>0.2</td>\n      <td>0.4 &lt;= LD &lt; 0.6</td>\n      <td>1</td>\n      <td>HG00097</td>\n    </tr>\n    <tr>\n      <th>498295</th>\n      <td>3</td>\n      <td>0.2</td>\n      <td>0 &lt;= LD &lt; 0.2</td>\n      <td>1</td>\n      <td>HG00097</td>\n    </tr>\n  </tbody>\n</table>\n<p>498296 rows × 5 columns</p>\n</div>"
     },
     "execution_count": 24,
     "metadata": {},
     "output_type": "execute_result"
    }
   ],
   "source": [
    "columns = [\"Fold\", \"MissingRate\", \"Max LD\", \"Accuracy\", \"Sample ID\"]\n",
    "dfs = []\n",
    "\n",
    "N_SPLITS=3\n",
    "kf = KFold(n_splits=N_SPLITS, shuffle=True, random_state=2022)\n",
    "fold = 0\n",
    "_x = X[X.index.isin(Y_train.index)].to_numpy()\n",
    "for train_index, test_index in kf.split(_x):\n",
    "  fold += 1\n",
    "  print(f\"Fold: {fold}\")\n",
    "  y = _x[test_index]\n",
    "  for missing_perc in [0.05,\n",
    "                       0.1,\n",
    "                       0.2]:\n",
    "    dataframe = pd.DataFrame(columns = columns)\n",
    "    print(f\"Missing rate: {missing_perc}\")\n",
    "    file_name = f\"./experimental_results/Chr22/DEL/minimac4/preds_mixed_mr_{missing_perc}_rs_{fold}_.csv\"\n",
    "    result_genotypes = pd.read_csv(file_name, index_col=0)\n",
    "    result_genotypes = result_genotypes.replace({\n",
    "        '0|0': 0,\n",
    "        '0|1': 1,\n",
    "        '1|0': 2,\n",
    "        '1|1': 3\n",
    "    })\n",
    "    yhat = result_genotypes.to_numpy()\n",
    "    assert y.shape == yhat.shape\n",
    "    for i in tqdm(list(range(y.shape[0]))):\n",
    "        missing_index, _ = train_test_split(np.arange(y.shape[1]), train_size=missing_perc,\n",
    "                                            random_state=i + fold,\n",
    "                                            shuffle=True,\n",
    "                                            stratify=bin_labels\n",
    "                                            )\n",
    "        # for mi in missing_index:\n",
    "        #     maf_bin_label = maf_bin_labels[mi]\n",
    "        #     df.loc[-1] = [fold, missing_perc, maf_bin_label, int(yhat[i, mi]==y[i, mi])]\n",
    "        #     df.index += 1\n",
    "        a = np.reshape(bin_labels[missing_index], (-1, 1))\n",
    "        b = np.array([fold for _ in missing_index]).reshape((-1, 1))\n",
    "        c = np.array([missing_perc for _ in missing_index]).reshape((-1, 1))\n",
    "        d = (yhat[i, missing_index]==y[i, missing_index]).astype(int).reshape((-1, 1))\n",
    "        e = np.array([X.index[test_index][i] for _ in missing_index]).astype(object).reshape((-1, 1))\n",
    "        dataframe = pd.concat([pd.DataFrame(np.concatenate([b,c,a,d,e], axis=1), columns=dataframe.columns), dataframe], ignore_index=True)\n",
    "    dfs.append(dataframe)\n",
    "\n",
    "df = pd.DataFrame(columns = columns)\n",
    "print(\"Combining the results...\")\n",
    "for i, dff in tqdm(enumerate(dfs)):\n",
    "    df = pd.concat([df, dff], ignore_index=True)\n",
    "del dfs\n",
    "\n",
    "df[\"Max LD\"] = df[\"Max LD\"].replace({\n",
    "    1.0: '0 <= LD < 0.2',\n",
    "    2.0: '0.2 <= LD < 0.4',\n",
    "    3.0: '0.4 <= LD < 0.6',\n",
    "    4.0: '0.6 <= LD < 0.8',\n",
    "    5.0: '0.8 <= LD <= 1',\n",
    "})\n",
    "df"
   ],
   "metadata": {
    "collapsed": false,
    "pycharm": {
     "name": "#%%\n"
    }
   }
  },
  {
   "cell_type": "code",
   "execution_count": null,
   "outputs": [],
   "source": [
    "df.to_csv(\"results_in_table/Chr22/DEL/LD_minimac4.csv\")"
   ],
   "metadata": {
    "collapsed": false,
    "pycharm": {
     "name": "#%%\n"
    }
   }
  },
  {
   "cell_type": "code",
   "execution_count": 25,
   "outputs": [
    {
     "data": {
      "text/plain": "                             Accuracy          \n                                 mean       std\nMissingRate Max LD                             \n0.05        0 <= LD < 0.2    0.952001  0.213767\n            0.2 <= LD < 0.4  0.983626  0.126921\n            0.4 <= LD < 0.6  0.999601  0.019984\n            0.6 <= LD < 0.8  0.999002  0.031585\n            0.8 <= LD <= 1   0.995607  0.066140\n0.10        0 <= LD < 0.2    0.950831  0.216222\n            0.2 <= LD < 0.4  0.984924  0.121861\n            0.4 <= LD < 0.6  0.999468  0.023071\n            0.6 <= LD < 0.8  0.999068  0.030514\n            0.8 <= LD <= 1   0.993930  0.077678\n0.20        0 <= LD < 0.2    0.951967  0.213836\n            0.2 <= LD < 0.4  0.983804  0.126233\n            0.4 <= LD < 0.6  0.999135  0.029404\n            0.6 <= LD < 0.8  0.998469  0.039098\n            0.8 <= LD <= 1   0.992501  0.086274",
      "text/html": "<div>\n<style scoped>\n    .dataframe tbody tr th:only-of-type {\n        vertical-align: middle;\n    }\n\n    .dataframe tbody tr th {\n        vertical-align: top;\n    }\n\n    .dataframe thead tr th {\n        text-align: left;\n    }\n\n    .dataframe thead tr:last-of-type th {\n        text-align: right;\n    }\n</style>\n<table border=\"1\" class=\"dataframe\">\n  <thead>\n    <tr>\n      <th></th>\n      <th></th>\n      <th colspan=\"2\" halign=\"left\">Accuracy</th>\n    </tr>\n    <tr>\n      <th></th>\n      <th></th>\n      <th>mean</th>\n      <th>std</th>\n    </tr>\n    <tr>\n      <th>MissingRate</th>\n      <th>Max LD</th>\n      <th></th>\n      <th></th>\n    </tr>\n  </thead>\n  <tbody>\n    <tr>\n      <th rowspan=\"5\" valign=\"top\">0.05</th>\n      <th>0 &lt;= LD &lt; 0.2</th>\n      <td>0.952001</td>\n      <td>0.213767</td>\n    </tr>\n    <tr>\n      <th>0.2 &lt;= LD &lt; 0.4</th>\n      <td>0.983626</td>\n      <td>0.126921</td>\n    </tr>\n    <tr>\n      <th>0.4 &lt;= LD &lt; 0.6</th>\n      <td>0.999601</td>\n      <td>0.019984</td>\n    </tr>\n    <tr>\n      <th>0.6 &lt;= LD &lt; 0.8</th>\n      <td>0.999002</td>\n      <td>0.031585</td>\n    </tr>\n    <tr>\n      <th>0.8 &lt;= LD &lt;= 1</th>\n      <td>0.995607</td>\n      <td>0.066140</td>\n    </tr>\n    <tr>\n      <th rowspan=\"5\" valign=\"top\">0.10</th>\n      <th>0 &lt;= LD &lt; 0.2</th>\n      <td>0.950831</td>\n      <td>0.216222</td>\n    </tr>\n    <tr>\n      <th>0.2 &lt;= LD &lt; 0.4</th>\n      <td>0.984924</td>\n      <td>0.121861</td>\n    </tr>\n    <tr>\n      <th>0.4 &lt;= LD &lt; 0.6</th>\n      <td>0.999468</td>\n      <td>0.023071</td>\n    </tr>\n    <tr>\n      <th>0.6 &lt;= LD &lt; 0.8</th>\n      <td>0.999068</td>\n      <td>0.030514</td>\n    </tr>\n    <tr>\n      <th>0.8 &lt;= LD &lt;= 1</th>\n      <td>0.993930</td>\n      <td>0.077678</td>\n    </tr>\n    <tr>\n      <th rowspan=\"5\" valign=\"top\">0.20</th>\n      <th>0 &lt;= LD &lt; 0.2</th>\n      <td>0.951967</td>\n      <td>0.213836</td>\n    </tr>\n    <tr>\n      <th>0.2 &lt;= LD &lt; 0.4</th>\n      <td>0.983804</td>\n      <td>0.126233</td>\n    </tr>\n    <tr>\n      <th>0.4 &lt;= LD &lt; 0.6</th>\n      <td>0.999135</td>\n      <td>0.029404</td>\n    </tr>\n    <tr>\n      <th>0.6 &lt;= LD &lt; 0.8</th>\n      <td>0.998469</td>\n      <td>0.039098</td>\n    </tr>\n    <tr>\n      <th>0.8 &lt;= LD &lt;= 1</th>\n      <td>0.992501</td>\n      <td>0.086274</td>\n    </tr>\n  </tbody>\n</table>\n</div>"
     },
     "execution_count": 25,
     "metadata": {},
     "output_type": "execute_result"
    }
   ],
   "source": [
    "df.groupby([\"MissingRate\", \"Max LD\"]).agg( {\"Accuracy\":[\"mean\", \"std\"]})"
   ],
   "metadata": {
    "collapsed": false,
    "pycharm": {
     "name": "#%%\n"
    }
   }
  },
  {
   "cell_type": "code",
   "execution_count": 26,
   "outputs": [
    {
     "name": "stdout",
     "output_type": "stream",
     "text": [
      "\\begin{tabular}{llrr}\n",
      "\\toprule\n",
      "     &                & \\multicolumn{2}{l}{Accuracy} \\\\\n",
      "     &                &      mean &       std \\\\\n",
      "MissingRate & Max LD &           &           \\\\\n",
      "\\midrule\n",
      "\\multirow{5}{*}{0.05} & 0 <= LD < 0.2 &  0.952001 &  0.213767 \\\\\n",
      "     & 0.2 <= LD < 0.4 &  0.983626 &  0.126921 \\\\\n",
      "     & 0.4 <= LD < 0.6 &  0.999601 &  0.019984 \\\\\n",
      "     & 0.6 <= LD < 0.8 &  0.999002 &  0.031585 \\\\\n",
      "     & 0.8 <= LD <= 1 &  0.995607 &  0.066140 \\\\\n",
      "\\cline{1-4}\n",
      "\\multirow{5}{*}{0.10} & 0 <= LD < 0.2 &  0.950831 &  0.216222 \\\\\n",
      "     & 0.2 <= LD < 0.4 &  0.984924 &  0.121861 \\\\\n",
      "     & 0.4 <= LD < 0.6 &  0.999468 &  0.023071 \\\\\n",
      "     & 0.6 <= LD < 0.8 &  0.999068 &  0.030514 \\\\\n",
      "     & 0.8 <= LD <= 1 &  0.993930 &  0.077678 \\\\\n",
      "\\cline{1-4}\n",
      "\\multirow{5}{*}{0.20} & 0 <= LD < 0.2 &  0.951967 &  0.213836 \\\\\n",
      "     & 0.2 <= LD < 0.4 &  0.983804 &  0.126233 \\\\\n",
      "     & 0.4 <= LD < 0.6 &  0.999135 &  0.029404 \\\\\n",
      "     & 0.6 <= LD < 0.8 &  0.998469 &  0.039098 \\\\\n",
      "     & 0.8 <= LD <= 1 &  0.992501 &  0.086274 \\\\\n",
      "\\bottomrule\n",
      "\\end{tabular}\n",
      "\n"
     ]
    }
   ],
   "source": [
    "print(df.groupby([\"MissingRate\", \"Max LD\"]).agg( {\"Accuracy\":[\"mean\", \"std\"]}).round({'mean': 4})#.rename(columns={\"Accuracy\": \"Max Accuracy\"})\n",
    "            .to_latex(multirow=True))"
   ],
   "metadata": {
    "collapsed": false,
    "pycharm": {
     "name": "#%%\n"
    }
   }
  },
  {
   "cell_type": "code",
   "execution_count": 27,
   "outputs": [
    {
     "data": {
      "text/plain": "                  Accuracy\nFold MissingRate          \n1    0.05         0.963088\n     0.10         0.961151\n     0.20         0.961981\n2    0.05         0.962318\n     0.10         0.962412\n     0.20         0.963000\n3    0.05         0.961888\n     0.10         0.962746\n     0.20         0.962851",
      "text/html": "<div>\n<style scoped>\n    .dataframe tbody tr th:only-of-type {\n        vertical-align: middle;\n    }\n\n    .dataframe tbody tr th {\n        vertical-align: top;\n    }\n\n    .dataframe thead th {\n        text-align: right;\n    }\n</style>\n<table border=\"1\" class=\"dataframe\">\n  <thead>\n    <tr style=\"text-align: right;\">\n      <th></th>\n      <th></th>\n      <th>Accuracy</th>\n    </tr>\n    <tr>\n      <th>Fold</th>\n      <th>MissingRate</th>\n      <th></th>\n    </tr>\n  </thead>\n  <tbody>\n    <tr>\n      <th rowspan=\"3\" valign=\"top\">1</th>\n      <th>0.05</th>\n      <td>0.963088</td>\n    </tr>\n    <tr>\n      <th>0.10</th>\n      <td>0.961151</td>\n    </tr>\n    <tr>\n      <th>0.20</th>\n      <td>0.961981</td>\n    </tr>\n    <tr>\n      <th rowspan=\"3\" valign=\"top\">2</th>\n      <th>0.05</th>\n      <td>0.962318</td>\n    </tr>\n    <tr>\n      <th>0.10</th>\n      <td>0.962412</td>\n    </tr>\n    <tr>\n      <th>0.20</th>\n      <td>0.963000</td>\n    </tr>\n    <tr>\n      <th rowspan=\"3\" valign=\"top\">3</th>\n      <th>0.05</th>\n      <td>0.961888</td>\n    </tr>\n    <tr>\n      <th>0.10</th>\n      <td>0.962746</td>\n    </tr>\n    <tr>\n      <th>0.20</th>\n      <td>0.962851</td>\n    </tr>\n  </tbody>\n</table>\n</div>"
     },
     "execution_count": 27,
     "metadata": {},
     "output_type": "execute_result"
    }
   ],
   "source": [
    "df1 = df.groupby([\"Fold\", \"MissingRate\", \"Sample ID\"]).agg( {\"Accuracy\":\"mean\"}).reset_index()\n",
    "df1 = df1.groupby([\"Fold\", \"MissingRate\"]).agg( {\"Accuracy\":\"mean\"})\n",
    "df1"
   ],
   "metadata": {
    "collapsed": false,
    "pycharm": {
     "name": "#%%\n"
    }
   }
  },
  {
   "cell_type": "code",
   "execution_count": 28,
   "outputs": [
    {
     "data": {
      "text/plain": "             Accuracy          \n                 mean       std\nMissingRate                    \n0.05         0.962431  0.000608\n0.10         0.962103  0.000841\n0.20         0.962611  0.000550",
      "text/html": "<div>\n<style scoped>\n    .dataframe tbody tr th:only-of-type {\n        vertical-align: middle;\n    }\n\n    .dataframe tbody tr th {\n        vertical-align: top;\n    }\n\n    .dataframe thead tr th {\n        text-align: left;\n    }\n\n    .dataframe thead tr:last-of-type th {\n        text-align: right;\n    }\n</style>\n<table border=\"1\" class=\"dataframe\">\n  <thead>\n    <tr>\n      <th></th>\n      <th colspan=\"2\" halign=\"left\">Accuracy</th>\n    </tr>\n    <tr>\n      <th></th>\n      <th>mean</th>\n      <th>std</th>\n    </tr>\n    <tr>\n      <th>MissingRate</th>\n      <th></th>\n      <th></th>\n    </tr>\n  </thead>\n  <tbody>\n    <tr>\n      <th>0.05</th>\n      <td>0.962431</td>\n      <td>0.000608</td>\n    </tr>\n    <tr>\n      <th>0.10</th>\n      <td>0.962103</td>\n      <td>0.000841</td>\n    </tr>\n    <tr>\n      <th>0.20</th>\n      <td>0.962611</td>\n      <td>0.000550</td>\n    </tr>\n  </tbody>\n</table>\n</div>"
     },
     "execution_count": 28,
     "metadata": {},
     "output_type": "execute_result"
    }
   ],
   "source": [
    "df1 = df.groupby([\"Fold\", \"MissingRate\", \"Sample ID\"]).agg( {\"Accuracy\":\"mean\"}).reset_index()\n",
    "df1 = df1.groupby([\"Fold\", \"MissingRate\"]).agg( {\"Accuracy\":\"mean\"}).reset_index()# df1.columns = df1.columns.droplevel(0)\n",
    "df1 = df1.groupby([\"MissingRate\"]).agg( {\"Accuracy\":[\"mean\", \"std\"]})#.reset_index()\n",
    "df1"
   ],
   "metadata": {
    "collapsed": false,
    "pycharm": {
     "name": "#%%\n"
    }
   }
  },
  {
   "cell_type": "code",
   "execution_count": 29,
   "outputs": [
    {
     "name": "stdout",
     "output_type": "stream",
     "text": [
      "\\begin{tabular}{llrr}\n",
      "\\toprule\n",
      "     &                & \\multicolumn{2}{l}{Accuracy} \\\\\n",
      "     &                &      mean &       std \\\\\n",
      "MissingRate & Max LD &           &           \\\\\n",
      "\\midrule\n",
      "\\multirow{5}{*}{0.05} & 0 <= LD < 0.2 &  0.952001 &  0.213767 \\\\\n",
      "     & 0.2 <= LD < 0.4 &  0.983626 &  0.126921 \\\\\n",
      "     & 0.4 <= LD < 0.6 &  0.999601 &  0.019984 \\\\\n",
      "     & 0.6 <= LD < 0.8 &  0.999002 &  0.031585 \\\\\n",
      "     & 0.8 <= LD <= 1 &  0.995607 &  0.066140 \\\\\n",
      "\\cline{1-4}\n",
      "\\multirow{5}{*}{0.10} & 0 <= LD < 0.2 &  0.950831 &  0.216222 \\\\\n",
      "     & 0.2 <= LD < 0.4 &  0.984924 &  0.121861 \\\\\n",
      "     & 0.4 <= LD < 0.6 &  0.999468 &  0.023071 \\\\\n",
      "     & 0.6 <= LD < 0.8 &  0.999068 &  0.030514 \\\\\n",
      "     & 0.8 <= LD <= 1 &  0.993930 &  0.077678 \\\\\n",
      "\\cline{1-4}\n",
      "\\multirow{5}{*}{0.20} & 0 <= LD < 0.2 &  0.951967 &  0.213836 \\\\\n",
      "     & 0.2 <= LD < 0.4 &  0.983804 &  0.126233 \\\\\n",
      "     & 0.4 <= LD < 0.6 &  0.999135 &  0.029404 \\\\\n",
      "     & 0.6 <= LD < 0.8 &  0.998469 &  0.039098 \\\\\n",
      "     & 0.8 <= LD <= 1 &  0.992501 &  0.086274 \\\\\n",
      "\\bottomrule\n",
      "\\end{tabular}\n",
      "\n"
     ]
    }
   ],
   "source": [
    "print(df.groupby([\"MissingRate\", \"Max LD\"]).agg( {\"Accuracy\":[\"mean\", \"std\"]}).round({'mean': 4})#.rename(columns={\"Accuracy\": \"Max Accuracy\"})\n",
    "            .to_latex(multirow=True))"
   ],
   "metadata": {
    "collapsed": false,
    "pycharm": {
     "name": "#%%\n"
    }
   }
  },
  {
   "cell_type": "code",
   "execution_count": null,
   "outputs": [],
   "source": [],
   "metadata": {
    "collapsed": false,
    "pycharm": {
     "name": "#%%\n"
    }
   }
  }
 ],
 "metadata": {
  "kernelspec": {
   "display_name": "Python 3",
   "language": "python",
   "name": "python3"
  },
  "language_info": {
   "codemirror_mode": {
    "name": "ipython",
    "version": 2
   },
   "file_extension": ".py",
   "mimetype": "text/x-python",
   "name": "python",
   "nbconvert_exporter": "python",
   "pygments_lexer": "ipython2",
   "version": "2.7.6"
  }
 },
 "nbformat": 4,
 "nbformat_minor": 0
}