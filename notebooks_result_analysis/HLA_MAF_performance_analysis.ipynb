{
 "cells": [
  {
   "cell_type": "code",
   "execution_count": 6,
   "metadata": {
    "collapsed": true
   },
   "outputs": [],
   "source": [
    "import os\n",
    "import numpy as np\n",
    "import pandas as pd\n",
    "import ast\n",
    "import math\n",
    "import re\n",
    "import itertools\n",
    "import random\n",
    "import json\n",
    "import matplotlib\n",
    "from matplotlib.pyplot import plot as plt\n",
    "from pylab import *\n",
    "mpl.use(\"pgf\")\n",
    "# activate latex text rendering\n",
    "rc('text', usetex=True)\n",
    "rc('axes', linewidth=2)\n",
    "rc('font', weight='bold')\n",
    "mpl.rcParams.update({\n",
    "    \"pgf.texsystem\": \"pdflatex\",\n",
    "    'font.family': 'serif',\n",
    "    'text.usetex': True,\n",
    "    'pgf.rcfonts': False,\n",
    "    'text.latex.preamble':r'\\usepackage{sfmath} \\boldmath'\n",
    "})\n",
    "%matplotlib inline\n",
    "import seaborn as sns\n",
    "sns.set_theme(style=\"whitegrid\")\n",
    "from sklearn.model_selection import KFold,StratifiedKFold\n",
    "from sklearn.model_selection import train_test_split\n",
    "from tqdm import tqdm\n",
    "import allel\n",
    "from scipy.spatial.distance import squareform\n",
    "# sns.set_theme(style=\"ticks\")\n"
   ]
  },
  {
   "cell_type": "code",
   "execution_count": 2,
   "outputs": [
    {
     "data": {
      "text/plain": "        6_33500639 6_33500853 6_33500930 6_33501330 6_33501648 6_33501844  \\\nHG00096        0|0        0|0        0|0        0|0        0|0        0|0   \nHG00097        0|0        1|0        1|0        0|0        1|0        0|0   \nHG00099        0|0        0|1        0|0        0|0        0|0        0|0   \nHG00100        0|0        0|1        0|1        0|0        0|1        0|0   \nHG00101        0|0        1|1        1|0        0|0        1|0        0|0   \n\n        6_33503018 6_33503323 6_33503878 6_33504462  ... 6_36596648  \\\nHG00096        0|0        0|0        0|0        0|0  ...        0|0   \nHG00097        0|0        0|0        0|0        1|0  ...        0|1   \nHG00099        0|0        0|0        0|0        0|0  ...        1|1   \nHG00100        0|0        0|0        0|0        0|1  ...        0|1   \nHG00101        0|0        0|0        0|0        1|0  ...        1|0   \n\n        6_36596784 6_36597695 6_36597907 6_36598178 6_36598209 6_36598837  \\\nHG00096        0|0        0|0        0|0        0|0        0|0        0|0   \nHG00097        0|1        0|1        0|1        0|0        0|1        0|1   \nHG00099        1|1        1|1        1|1        0|0        1|1        1|1   \nHG00100        0|1        0|1        0|1        0|0        0|1        0|1   \nHG00101        1|0        1|0        1|0        0|0        1|0        1|0   \n\n        6_36599010 6_36599596 6_36599812  \nHG00096        0|0        0|0        0|0  \nHG00097        0|1        0|1        0|0  \nHG00099        1|1        1|1        0|0  \nHG00100        0|1        0|1        0|0  \nHG00101        1|0        1|0        0|0  \n\n[5 rows x 7161 columns]",
      "text/html": "<div>\n<style scoped>\n    .dataframe tbody tr th:only-of-type {\n        vertical-align: middle;\n    }\n\n    .dataframe tbody tr th {\n        vertical-align: top;\n    }\n\n    .dataframe thead th {\n        text-align: right;\n    }\n</style>\n<table border=\"1\" class=\"dataframe\">\n  <thead>\n    <tr style=\"text-align: right;\">\n      <th></th>\n      <th>6_33500639</th>\n      <th>6_33500853</th>\n      <th>6_33500930</th>\n      <th>6_33501330</th>\n      <th>6_33501648</th>\n      <th>6_33501844</th>\n      <th>6_33503018</th>\n      <th>6_33503323</th>\n      <th>6_33503878</th>\n      <th>6_33504462</th>\n      <th>...</th>\n      <th>6_36596648</th>\n      <th>6_36596784</th>\n      <th>6_36597695</th>\n      <th>6_36597907</th>\n      <th>6_36598178</th>\n      <th>6_36598209</th>\n      <th>6_36598837</th>\n      <th>6_36599010</th>\n      <th>6_36599596</th>\n      <th>6_36599812</th>\n    </tr>\n  </thead>\n  <tbody>\n    <tr>\n      <th>HG00096</th>\n      <td>0|0</td>\n      <td>0|0</td>\n      <td>0|0</td>\n      <td>0|0</td>\n      <td>0|0</td>\n      <td>0|0</td>\n      <td>0|0</td>\n      <td>0|0</td>\n      <td>0|0</td>\n      <td>0|0</td>\n      <td>...</td>\n      <td>0|0</td>\n      <td>0|0</td>\n      <td>0|0</td>\n      <td>0|0</td>\n      <td>0|0</td>\n      <td>0|0</td>\n      <td>0|0</td>\n      <td>0|0</td>\n      <td>0|0</td>\n      <td>0|0</td>\n    </tr>\n    <tr>\n      <th>HG00097</th>\n      <td>0|0</td>\n      <td>1|0</td>\n      <td>1|0</td>\n      <td>0|0</td>\n      <td>1|0</td>\n      <td>0|0</td>\n      <td>0|0</td>\n      <td>0|0</td>\n      <td>0|0</td>\n      <td>1|0</td>\n      <td>...</td>\n      <td>0|1</td>\n      <td>0|1</td>\n      <td>0|1</td>\n      <td>0|1</td>\n      <td>0|0</td>\n      <td>0|1</td>\n      <td>0|1</td>\n      <td>0|1</td>\n      <td>0|1</td>\n      <td>0|0</td>\n    </tr>\n    <tr>\n      <th>HG00099</th>\n      <td>0|0</td>\n      <td>0|1</td>\n      <td>0|0</td>\n      <td>0|0</td>\n      <td>0|0</td>\n      <td>0|0</td>\n      <td>0|0</td>\n      <td>0|0</td>\n      <td>0|0</td>\n      <td>0|0</td>\n      <td>...</td>\n      <td>1|1</td>\n      <td>1|1</td>\n      <td>1|1</td>\n      <td>1|1</td>\n      <td>0|0</td>\n      <td>1|1</td>\n      <td>1|1</td>\n      <td>1|1</td>\n      <td>1|1</td>\n      <td>0|0</td>\n    </tr>\n    <tr>\n      <th>HG00100</th>\n      <td>0|0</td>\n      <td>0|1</td>\n      <td>0|1</td>\n      <td>0|0</td>\n      <td>0|1</td>\n      <td>0|0</td>\n      <td>0|0</td>\n      <td>0|0</td>\n      <td>0|0</td>\n      <td>0|1</td>\n      <td>...</td>\n      <td>0|1</td>\n      <td>0|1</td>\n      <td>0|1</td>\n      <td>0|1</td>\n      <td>0|0</td>\n      <td>0|1</td>\n      <td>0|1</td>\n      <td>0|1</td>\n      <td>0|1</td>\n      <td>0|0</td>\n    </tr>\n    <tr>\n      <th>HG00101</th>\n      <td>0|0</td>\n      <td>1|1</td>\n      <td>1|0</td>\n      <td>0|0</td>\n      <td>1|0</td>\n      <td>0|0</td>\n      <td>0|0</td>\n      <td>0|0</td>\n      <td>0|0</td>\n      <td>1|0</td>\n      <td>...</td>\n      <td>1|0</td>\n      <td>1|0</td>\n      <td>1|0</td>\n      <td>1|0</td>\n      <td>0|0</td>\n      <td>1|0</td>\n      <td>1|0</td>\n      <td>1|0</td>\n      <td>1|0</td>\n      <td>0|0</td>\n    </tr>\n  </tbody>\n</table>\n<p>5 rows × 7161 columns</p>\n</div>"
     },
     "execution_count": 2,
     "metadata": {},
     "output_type": "execute_result"
    }
   ],
   "source": [
    "# load data\n",
    "vcf_file = './data/HLA_recode_chr_pos.vcf'\n",
    "\n",
    "# load genotype\n",
    "genotypes = pd.read_csv(vcf_file, sep='\\t', index_col=0)#.iloc[:, :-1]\n",
    "\n",
    "headers = genotypes.columns[:]\n",
    "genotypes.head()"
   ],
   "metadata": {
    "collapsed": false,
    "pycharm": {
     "name": "#%%\n"
    }
   }
  },
  {
   "cell_type": "code",
   "execution_count": 4,
   "outputs": [
    {
     "data": {
      "text/plain": "              Family ID Paternal ID Maternal ID  Gender  Phenotype Population  \\\nIndividual ID                                                                   \nHG00096         HG00096           0           0       1          0        GBR   \nHG00097         HG00097           0           0       2          0        GBR   \nHG00098         HG00098           0           0       1          0        GBR   \nHG00099         HG00099           0           0       2          0        GBR   \nHG00100         HG00100           0           0       2          0        GBR   \n\n              Relationship Siblings Second Order Third Order Children  \\\nIndividual ID                                                           \nHG00096              unrel        0            0           0        0   \nHG00097              unrel        0            0           0        0   \nHG00098              unrel        0            0           0        0   \nHG00099              unrel        0            0           0        0   \nHG00100              unrel        0            0           0        0   \n\n              Other Comments  \nIndividual ID                 \nHG00096                    0  \nHG00097                    0  \nHG00098                    0  \nHG00099                    0  \nHG00100                    0  ",
      "text/html": "<div>\n<style scoped>\n    .dataframe tbody tr th:only-of-type {\n        vertical-align: middle;\n    }\n\n    .dataframe tbody tr th {\n        vertical-align: top;\n    }\n\n    .dataframe thead th {\n        text-align: right;\n    }\n</style>\n<table border=\"1\" class=\"dataframe\">\n  <thead>\n    <tr style=\"text-align: right;\">\n      <th></th>\n      <th>Family ID</th>\n      <th>Paternal ID</th>\n      <th>Maternal ID</th>\n      <th>Gender</th>\n      <th>Phenotype</th>\n      <th>Population</th>\n      <th>Relationship</th>\n      <th>Siblings</th>\n      <th>Second Order</th>\n      <th>Third Order</th>\n      <th>Children</th>\n      <th>Other Comments</th>\n    </tr>\n    <tr>\n      <th>Individual ID</th>\n      <th></th>\n      <th></th>\n      <th></th>\n      <th></th>\n      <th></th>\n      <th></th>\n      <th></th>\n      <th></th>\n      <th></th>\n      <th></th>\n      <th></th>\n      <th></th>\n    </tr>\n  </thead>\n  <tbody>\n    <tr>\n      <th>HG00096</th>\n      <td>HG00096</td>\n      <td>0</td>\n      <td>0</td>\n      <td>1</td>\n      <td>0</td>\n      <td>GBR</td>\n      <td>unrel</td>\n      <td>0</td>\n      <td>0</td>\n      <td>0</td>\n      <td>0</td>\n      <td>0</td>\n    </tr>\n    <tr>\n      <th>HG00097</th>\n      <td>HG00097</td>\n      <td>0</td>\n      <td>0</td>\n      <td>2</td>\n      <td>0</td>\n      <td>GBR</td>\n      <td>unrel</td>\n      <td>0</td>\n      <td>0</td>\n      <td>0</td>\n      <td>0</td>\n      <td>0</td>\n    </tr>\n    <tr>\n      <th>HG00098</th>\n      <td>HG00098</td>\n      <td>0</td>\n      <td>0</td>\n      <td>1</td>\n      <td>0</td>\n      <td>GBR</td>\n      <td>unrel</td>\n      <td>0</td>\n      <td>0</td>\n      <td>0</td>\n      <td>0</td>\n      <td>0</td>\n    </tr>\n    <tr>\n      <th>HG00099</th>\n      <td>HG00099</td>\n      <td>0</td>\n      <td>0</td>\n      <td>2</td>\n      <td>0</td>\n      <td>GBR</td>\n      <td>unrel</td>\n      <td>0</td>\n      <td>0</td>\n      <td>0</td>\n      <td>0</td>\n      <td>0</td>\n    </tr>\n    <tr>\n      <th>HG00100</th>\n      <td>HG00100</td>\n      <td>0</td>\n      <td>0</td>\n      <td>2</td>\n      <td>0</td>\n      <td>GBR</td>\n      <td>unrel</td>\n      <td>0</td>\n      <td>0</td>\n      <td>0</td>\n      <td>0</td>\n      <td>0</td>\n    </tr>\n  </tbody>\n</table>\n</div>"
     },
     "execution_count": 4,
     "metadata": {},
     "output_type": "execute_result"
    }
   ],
   "source": [
    "ped_file = './data/integrated_call_samples.20130502.ALL.ped'\n",
    "pedigree = pd.read_csv(ped_file, sep='\\t', index_col='Individual ID')\n",
    "pedigree.head()"
   ],
   "metadata": {
    "collapsed": false,
    "pycharm": {
     "name": "#%%\n"
    }
   }
  },
  {
   "cell_type": "code",
   "execution_count": 5,
   "outputs": [
    {
     "data": {
      "text/plain": "(2504, 7161)"
     },
     "execution_count": 5,
     "metadata": {},
     "output_type": "execute_result"
    }
   ],
   "source": [
    "Y_train = pedigree.loc[genotypes.index]['Population']\n",
    "X = genotypes[genotypes.index.isin(Y_train.index)]\n",
    "X = X.replace({\n",
    "    '0|0': 0,\n",
    "    '0|1': 1,\n",
    "    '1|0': 2,\n",
    "    '1|1': 3\n",
    "})\n",
    "X.shape"
   ],
   "metadata": {
    "collapsed": false,
    "pycharm": {
     "name": "#%%\n"
    }
   }
  },
  {
   "cell_type": "code",
   "execution_count": 7,
   "outputs": [
    {
     "data": {
      "text/plain": "(7161, 7161)"
     },
     "execution_count": 7,
     "metadata": {},
     "output_type": "execute_result"
    }
   ],
   "source": [
    "r = allel.rogers_huff_r(X.T)\n",
    "LD = squareform(r ** 2)\n",
    "LD.shape"
   ],
   "metadata": {
    "collapsed": false,
    "pycharm": {
     "name": "#%%\n"
    }
   }
  },
  {
   "cell_type": "code",
   "execution_count": 8,
   "outputs": [
    {
     "data": {
      "text/plain": "(array([  66.,  137.,  250.,  532., 6167.]),\n array([0. , 0.2, 0.4, 0.6, 0.8, 1. ]),\n <BarContainer object of 5 artists>)"
     },
     "execution_count": 8,
     "metadata": {},
     "output_type": "execute_result"
    },
    {
     "data": {
      "text/plain": "<Figure size 432x288 with 1 Axes>",
      "image/png": "[encoded data removed]"
     },
     "metadata": {},
     "output_type": "display_data"
    }
   ],
   "source": [
    "bins = [0, 0.2, 0.4, 0.6, 0.8, 1]\n",
    "plt.hist(np.max(LD, axis=1), bins=bins)"
   ],
   "metadata": {
    "collapsed": false,
    "pycharm": {
     "name": "#%%\n"
    }
   }
  },
  {
   "cell_type": "code",
   "execution_count": 12,
   "outputs": [
    {
     "data": {
      "text/plain": "<Figure size 432x288 with 1 Axes>",
      "image/png": "[encoded data removed]"
     },
     "metadata": {},
     "output_type": "display_data"
    }
   ],
   "source": [
    "def freq_mapper(g):\n",
    "  return 0 if g == 0 else 1 if g==1 or g==2 else 2\n",
    "\n",
    "def bin_label_to_maf(g):\n",
    "    return g/10\n",
    "\n",
    "def maf_mapper(g):\n",
    "  return min(g, 1-g)\n",
    "\n",
    "_X = X.applymap(freq_mapper)\n",
    "_X = _X.sum(axis=0)/(2*X.shape[0])\n",
    "mafs = _X.map(maf_mapper)\n",
    "plt.hist(mafs, bins=[0, 0.1, 0.2, 0.3, 0.4, 0.5])\n",
    "plt.show()"
   ],
   "metadata": {
    "collapsed": false,
    "pycharm": {
     "name": "#%%\n"
    }
   }
  },
  {
   "cell_type": "code",
   "execution_count": 13,
   "outputs": [
    {
     "data": {
      "text/plain": "(array([1, 2, 3, 4, 5], dtype=int64),\n array([1763, 1946, 1297,  917, 1238], dtype=int64))"
     },
     "execution_count": 13,
     "metadata": {},
     "output_type": "execute_result"
    }
   ],
   "source": [
    "bin_labels = np.digitize(mafs, bins=[0, 0.1, 0.2, 0.3, 0.4, 0.5], right=True)\n",
    "maf_bin_labels = np.vectorize(bin_label_to_maf)(bin_labels)\n",
    "bin_general_labels, bin_counts = np.unique(bin_labels, return_counts=True)\n",
    "bin_general_labels, bin_counts"
   ],
   "metadata": {
    "collapsed": false,
    "pycharm": {
     "name": "#%%\n"
    }
   }
  },
  {
   "cell_type": "code",
   "execution_count": 19,
   "outputs": [
    {
     "name": "stdout",
     "output_type": "stream",
     "text": [
      "Fold: 1\n"
     ]
    },
    {
     "name": "stderr",
     "output_type": "stream",
     "text": [
      "100%|██████████| 835/835 [00:02<00:00, 287.98it/s]\n",
      "100%|██████████| 835/835 [00:08<00:00, 97.21it/s] \n",
      "100%|██████████| 835/835 [00:14<00:00, 57.02it/s] \n",
      "100%|██████████| 835/835 [00:27<00:00, 30.45it/s]\n"
     ]
    },
    {
     "name": "stdout",
     "output_type": "stream",
     "text": [
      "Fold: 2\n"
     ]
    },
    {
     "name": "stderr",
     "output_type": "stream",
     "text": [
      "100%|██████████| 835/835 [00:02<00:00, 297.80it/s]\n",
      "100%|██████████| 835/835 [00:08<00:00, 101.53it/s]\n",
      "100%|██████████| 835/835 [00:16<00:00, 49.71it/s] \n",
      "100%|██████████| 835/835 [00:31<00:00, 26.12it/s]\n"
     ]
    },
    {
     "name": "stdout",
     "output_type": "stream",
     "text": [
      "Fold: 3\n"
     ]
    },
    {
     "name": "stderr",
     "output_type": "stream",
     "text": [
      "100%|██████████| 834/834 [00:03<00:00, 264.14it/s]\n",
      "100%|██████████| 834/834 [00:09<00:00, 84.00it/s] \n",
      "100%|██████████| 834/834 [00:17<00:00, 46.63it/s]\n",
      "100%|██████████| 834/834 [00:33<00:00, 24.94it/s]\n"
     ]
    },
    {
     "name": "stdout",
     "output_type": "stream",
     "text": [
      "Combining the results...\n"
     ]
    },
    {
     "name": "stderr",
     "output_type": "stream",
     "text": [
      "12it [00:01,  7.42it/s]\n"
     ]
    },
    {
     "data": {
      "text/plain": "        Fold MissingRate  MAF Accuracy Sample ID\n0          1        0.01  0.5        1   NA21144\n1          1        0.01  0.1        1   NA21144\n2          1        0.01  0.2        1   NA21144\n3          1        0.01  0.5        1   NA21144\n4          1        0.01  0.5        1   NA21144\n...      ...         ...  ...      ...       ...\n6452803    3         0.2  0.4        1   HG00097\n6452804    3         0.2  0.1        1   HG00097\n6452805    3         0.2  0.4        1   HG00097\n6452806    3         0.2  0.5        1   HG00097\n6452807    3         0.2  0.1        1   HG00097\n\n[6452808 rows x 5 columns]",
      "text/html": "<div>\n<style scoped>\n    .dataframe tbody tr th:only-of-type {\n        vertical-align: middle;\n    }\n\n    .dataframe tbody tr th {\n        vertical-align: top;\n    }\n\n    .dataframe thead th {\n        text-align: right;\n    }\n</style>\n<table border=\"1\" class=\"dataframe\">\n  <thead>\n    <tr style=\"text-align: right;\">\n      <th></th>\n      <th>Fold</th>\n      <th>MissingRate</th>\n      <th>MAF</th>\n      <th>Accuracy</th>\n      <th>Sample ID</th>\n    </tr>\n  </thead>\n  <tbody>\n    <tr>\n      <th>0</th>\n      <td>1</td>\n      <td>0.01</td>\n      <td>0.5</td>\n      <td>1</td>\n      <td>NA21144</td>\n    </tr>\n    <tr>\n      <th>1</th>\n      <td>1</td>\n      <td>0.01</td>\n      <td>0.1</td>\n      <td>1</td>\n      <td>NA21144</td>\n    </tr>\n    <tr>\n      <th>2</th>\n      <td>1</td>\n      <td>0.01</td>\n      <td>0.2</td>\n      <td>1</td>\n      <td>NA21144</td>\n    </tr>\n    <tr>\n      <th>3</th>\n      <td>1</td>\n      <td>0.01</td>\n      <td>0.5</td>\n      <td>1</td>\n      <td>NA21144</td>\n    </tr>\n    <tr>\n      <th>4</th>\n      <td>1</td>\n      <td>0.01</td>\n      <td>0.5</td>\n      <td>1</td>\n      <td>NA21144</td>\n    </tr>\n    <tr>\n      <th>...</th>\n      <td>...</td>\n      <td>...</td>\n      <td>...</td>\n      <td>...</td>\n      <td>...</td>\n    </tr>\n    <tr>\n      <th>6452803</th>\n      <td>3</td>\n      <td>0.2</td>\n      <td>0.4</td>\n      <td>1</td>\n      <td>HG00097</td>\n    </tr>\n    <tr>\n      <th>6452804</th>\n      <td>3</td>\n      <td>0.2</td>\n      <td>0.1</td>\n      <td>1</td>\n      <td>HG00097</td>\n    </tr>\n    <tr>\n      <th>6452805</th>\n      <td>3</td>\n      <td>0.2</td>\n      <td>0.4</td>\n      <td>1</td>\n      <td>HG00097</td>\n    </tr>\n    <tr>\n      <th>6452806</th>\n      <td>3</td>\n      <td>0.2</td>\n      <td>0.5</td>\n      <td>1</td>\n      <td>HG00097</td>\n    </tr>\n    <tr>\n      <th>6452807</th>\n      <td>3</td>\n      <td>0.2</td>\n      <td>0.1</td>\n      <td>1</td>\n      <td>HG00097</td>\n    </tr>\n  </tbody>\n</table>\n<p>6452808 rows × 5 columns</p>\n</div>"
     },
     "execution_count": 19,
     "metadata": {},
     "output_type": "execute_result"
    }
   ],
   "source": [
    "columns = [\"Fold\", \"MissingRate\", \"MAF\", \"Accuracy\", \"Sample ID\"]\n",
    "dfs = []\n",
    "N_SPLITS=3\n",
    "kf = KFold(n_splits=N_SPLITS, shuffle=True, random_state=2022)\n",
    "fold = 0\n",
    "_x = X[X.index.isin(Y_train.index)].to_numpy()\n",
    "for train_index, test_index in kf.split(_x):\n",
    "  fold += 1\n",
    "  print(f\"Fold: {fold}\")\n",
    "  y = _x[test_index]\n",
    "  for missing_perc in [0.01,\n",
    "                       0.05,\n",
    "                       0.1,\n",
    "                       0.2]:\n",
    "    dataframe = pd.DataFrame(columns = columns)\n",
    "    file_name = f\"./experimental_results/hla/maf/HLA_DEEP/HLA_DEEP_preds_mixed_mr_{missing_perc}_rs_{fold}_.csv\"\n",
    "    result_genotypes = pd.read_csv(file_name, index_col=0)\n",
    "    result_genotypes = result_genotypes.replace({\n",
    "        '0|0': 0,\n",
    "        '0|1': 1,\n",
    "        '1|0': 2,\n",
    "        '1|1': 3\n",
    "    })\n",
    "    yhat = result_genotypes.to_numpy()\n",
    "    assert y.shape == yhat.shape\n",
    "    for i in tqdm(list(range(y.shape[0]))):\n",
    "        missing_index, _ = train_test_split(np.arange(y.shape[1]), train_size=missing_perc,\n",
    "                                            random_state=i + fold,\n",
    "                                            shuffle=True,\n",
    "                                            stratify=bin_labels)\n",
    "        a = np.reshape(maf_bin_labels[missing_index], (-1, 1))\n",
    "        b = np.array([fold for _ in missing_index]).reshape((-1, 1))\n",
    "        c = np.array([missing_perc for _ in missing_index]).reshape((-1, 1))\n",
    "        d = (yhat[i, missing_index]==y[i, missing_index]).astype(int).reshape((-1, 1))\n",
    "        e = np.array([X.index[test_index][i] for _ in missing_index]).astype(object).reshape((-1, 1))\n",
    "        dataframe = pd.concat([pd.DataFrame(np.concatenate([b,c,a,d,e], axis=1), columns=dataframe.columns), dataframe], ignore_index=True)\n",
    "    dfs.append(dataframe)\n",
    "\n",
    "df = pd.DataFrame(columns = columns)\n",
    "print(\"Combining the results...\")\n",
    "for i, dff in tqdm(enumerate(dfs)):\n",
    "    df = pd.concat([df, dff], ignore_index=True)\n",
    "del dfs\n",
    "\n",
    "df"
   ],
   "metadata": {
    "collapsed": false,
    "pycharm": {
     "name": "#%%\n"
    }
   }
  },
  {
   "cell_type": "code",
   "execution_count": 14,
   "outputs": [],
   "source": [
    "df.to_csv(\"results_in_table/hla/maf/HLA_MAF_HLA_DEEP.csv\")"
   ],
   "metadata": {
    "collapsed": false,
    "pycharm": {
     "name": "#%%\n"
    }
   }
  },
  {
   "cell_type": "code",
   "execution_count": 15,
   "outputs": [
    {
     "data": {
      "text/plain": "                 Accuracy          \n                     mean       std\nMissingRate MAF                    \n0.01        0.1  0.988973  0.104429\n            0.2  0.987220  0.112323\n            0.3  0.981199  0.135823\n            0.4  0.971290  0.166993\n            0.5  0.983493  0.127417\n0.05        0.1  0.988641  0.105972\n            0.2  0.987529  0.110974\n            0.3  0.981414  0.135057\n            0.4  0.973590  0.160352\n            0.5  0.983459  0.127545\n0.10        0.1  0.988607  0.106129\n            0.2  0.987480  0.111191\n            0.3  0.981030  0.136418\n            0.4  0.972800  0.162666\n            0.5  0.983056  0.129061\n0.20        0.1  0.988076  0.108542\n            0.2  0.987242  0.112229\n            0.3  0.980582  0.137990\n            0.4  0.972173  0.164476\n            0.5  0.982792  0.130046",
      "text/html": "<div>\n<style scoped>\n    .dataframe tbody tr th:only-of-type {\n        vertical-align: middle;\n    }\n\n    .dataframe tbody tr th {\n        vertical-align: top;\n    }\n\n    .dataframe thead tr th {\n        text-align: left;\n    }\n\n    .dataframe thead tr:last-of-type th {\n        text-align: right;\n    }\n</style>\n<table border=\"1\" class=\"dataframe\">\n  <thead>\n    <tr>\n      <th></th>\n      <th></th>\n      <th colspan=\"2\" halign=\"left\">Accuracy</th>\n    </tr>\n    <tr>\n      <th></th>\n      <th></th>\n      <th>mean</th>\n      <th>std</th>\n    </tr>\n    <tr>\n      <th>MissingRate</th>\n      <th>MAF</th>\n      <th></th>\n      <th></th>\n    </tr>\n  </thead>\n  <tbody>\n    <tr>\n      <th rowspan=\"5\" valign=\"top\">0.01</th>\n      <th>0.1</th>\n      <td>0.988973</td>\n      <td>0.104429</td>\n    </tr>\n    <tr>\n      <th>0.2</th>\n      <td>0.987220</td>\n      <td>0.112323</td>\n    </tr>\n    <tr>\n      <th>0.3</th>\n      <td>0.981199</td>\n      <td>0.135823</td>\n    </tr>\n    <tr>\n      <th>0.4</th>\n      <td>0.971290</td>\n      <td>0.166993</td>\n    </tr>\n    <tr>\n      <th>0.5</th>\n      <td>0.983493</td>\n      <td>0.127417</td>\n    </tr>\n    <tr>\n      <th rowspan=\"5\" valign=\"top\">0.05</th>\n      <th>0.1</th>\n      <td>0.988641</td>\n      <td>0.105972</td>\n    </tr>\n    <tr>\n      <th>0.2</th>\n      <td>0.987529</td>\n      <td>0.110974</td>\n    </tr>\n    <tr>\n      <th>0.3</th>\n      <td>0.981414</td>\n      <td>0.135057</td>\n    </tr>\n    <tr>\n      <th>0.4</th>\n      <td>0.973590</td>\n      <td>0.160352</td>\n    </tr>\n    <tr>\n      <th>0.5</th>\n      <td>0.983459</td>\n      <td>0.127545</td>\n    </tr>\n    <tr>\n      <th rowspan=\"5\" valign=\"top\">0.10</th>\n      <th>0.1</th>\n      <td>0.988607</td>\n      <td>0.106129</td>\n    </tr>\n    <tr>\n      <th>0.2</th>\n      <td>0.987480</td>\n      <td>0.111191</td>\n    </tr>\n    <tr>\n      <th>0.3</th>\n      <td>0.981030</td>\n      <td>0.136418</td>\n    </tr>\n    <tr>\n      <th>0.4</th>\n      <td>0.972800</td>\n      <td>0.162666</td>\n    </tr>\n    <tr>\n      <th>0.5</th>\n      <td>0.983056</td>\n      <td>0.129061</td>\n    </tr>\n    <tr>\n      <th rowspan=\"5\" valign=\"top\">0.20</th>\n      <th>0.1</th>\n      <td>0.988076</td>\n      <td>0.108542</td>\n    </tr>\n    <tr>\n      <th>0.2</th>\n      <td>0.987242</td>\n      <td>0.112229</td>\n    </tr>\n    <tr>\n      <th>0.3</th>\n      <td>0.980582</td>\n      <td>0.137990</td>\n    </tr>\n    <tr>\n      <th>0.4</th>\n      <td>0.972173</td>\n      <td>0.164476</td>\n    </tr>\n    <tr>\n      <th>0.5</th>\n      <td>0.982792</td>\n      <td>0.130046</td>\n    </tr>\n  </tbody>\n</table>\n</div>"
     },
     "execution_count": 15,
     "metadata": {},
     "output_type": "execute_result"
    }
   ],
   "source": [
    "df.groupby([\"MissingRate\", \"MAF\"]).agg( {\"Accuracy\":[\"mean\", \"std\"]}).round({'mean': 4})#.rename(columns={\"Accuracy\": \"Max Accuracy\"})"
   ],
   "metadata": {
    "collapsed": false,
    "pycharm": {
     "name": "#%%\n"
    }
   }
  },
  {
   "cell_type": "code",
   "execution_count": 16,
   "outputs": [
    {
     "data": {
      "text/plain": "             Accuracy          \n                 mean       std\nMissingRate                    \n0.01         0.983913  0.000245\n0.05         0.984196  0.000192\n0.10         0.983934  0.000113\n0.20         0.983544  0.000128",
      "text/html": "<div>\n<style scoped>\n    .dataframe tbody tr th:only-of-type {\n        vertical-align: middle;\n    }\n\n    .dataframe tbody tr th {\n        vertical-align: top;\n    }\n\n    .dataframe thead tr th {\n        text-align: left;\n    }\n\n    .dataframe thead tr:last-of-type th {\n        text-align: right;\n    }\n</style>\n<table border=\"1\" class=\"dataframe\">\n  <thead>\n    <tr>\n      <th></th>\n      <th colspan=\"2\" halign=\"left\">Accuracy</th>\n    </tr>\n    <tr>\n      <th></th>\n      <th>mean</th>\n      <th>std</th>\n    </tr>\n    <tr>\n      <th>MissingRate</th>\n      <th></th>\n      <th></th>\n    </tr>\n  </thead>\n  <tbody>\n    <tr>\n      <th>0.01</th>\n      <td>0.983913</td>\n      <td>0.000245</td>\n    </tr>\n    <tr>\n      <th>0.05</th>\n      <td>0.984196</td>\n      <td>0.000192</td>\n    </tr>\n    <tr>\n      <th>0.10</th>\n      <td>0.983934</td>\n      <td>0.000113</td>\n    </tr>\n    <tr>\n      <th>0.20</th>\n      <td>0.983544</td>\n      <td>0.000128</td>\n    </tr>\n  </tbody>\n</table>\n</div>"
     },
     "execution_count": 16,
     "metadata": {},
     "output_type": "execute_result"
    }
   ],
   "source": [
    "df1 = df.groupby([\"Fold\", \"MissingRate\", \"Sample ID\"]).agg( {\"Accuracy\":\"mean\"}).reset_index()\n",
    "df1 = df1.groupby([\"Fold\", \"MissingRate\"]).agg( {\"Accuracy\":\"mean\"}).reset_index()# df1.columns = df1.columns.droplevel(0)\n",
    "df1 = df1.groupby([\"MissingRate\"]).agg( {\"Accuracy\":[\"mean\", \"std\"]})#.reset_index()\n",
    "df1"
   ],
   "metadata": {
    "collapsed": false,
    "pycharm": {
     "name": "#%%\n"
    }
   }
  },
  {
   "cell_type": "code",
   "execution_count": 20,
   "outputs": [
    {
     "data": {
      "text/plain": "                  Accuracy          \n                      mean       std\nFold MissingRate                    \n1    0.01         0.984195  0.015248\n     0.05         0.984006  0.009459\n     0.10         0.983857  0.008325\n     0.20         0.983489  0.008071\n2    0.01         0.983790  0.016689\n     0.05         0.984391  0.009287\n     0.10         0.984063  0.008432\n     0.20         0.983691  0.008101\n3    0.01         0.983754  0.016709\n     0.05         0.984191  0.009131\n     0.10         0.983880  0.008413\n     0.20         0.983453  0.008058",
      "text/html": "<div>\n<style scoped>\n    .dataframe tbody tr th:only-of-type {\n        vertical-align: middle;\n    }\n\n    .dataframe tbody tr th {\n        vertical-align: top;\n    }\n\n    .dataframe thead tr th {\n        text-align: left;\n    }\n\n    .dataframe thead tr:last-of-type th {\n        text-align: right;\n    }\n</style>\n<table border=\"1\" class=\"dataframe\">\n  <thead>\n    <tr>\n      <th></th>\n      <th></th>\n      <th colspan=\"2\" halign=\"left\">Accuracy</th>\n    </tr>\n    <tr>\n      <th></th>\n      <th></th>\n      <th>mean</th>\n      <th>std</th>\n    </tr>\n    <tr>\n      <th>Fold</th>\n      <th>MissingRate</th>\n      <th></th>\n      <th></th>\n    </tr>\n  </thead>\n  <tbody>\n    <tr>\n      <th rowspan=\"4\" valign=\"top\">1</th>\n      <th>0.01</th>\n      <td>0.984195</td>\n      <td>0.015248</td>\n    </tr>\n    <tr>\n      <th>0.05</th>\n      <td>0.984006</td>\n      <td>0.009459</td>\n    </tr>\n    <tr>\n      <th>0.10</th>\n      <td>0.983857</td>\n      <td>0.008325</td>\n    </tr>\n    <tr>\n      <th>0.20</th>\n      <td>0.983489</td>\n      <td>0.008071</td>\n    </tr>\n    <tr>\n      <th rowspan=\"4\" valign=\"top\">2</th>\n      <th>0.01</th>\n      <td>0.983790</td>\n      <td>0.016689</td>\n    </tr>\n    <tr>\n      <th>0.05</th>\n      <td>0.984391</td>\n      <td>0.009287</td>\n    </tr>\n    <tr>\n      <th>0.10</th>\n      <td>0.984063</td>\n      <td>0.008432</td>\n    </tr>\n    <tr>\n      <th>0.20</th>\n      <td>0.983691</td>\n      <td>0.008101</td>\n    </tr>\n    <tr>\n      <th rowspan=\"4\" valign=\"top\">3</th>\n      <th>0.01</th>\n      <td>0.983754</td>\n      <td>0.016709</td>\n    </tr>\n    <tr>\n      <th>0.05</th>\n      <td>0.984191</td>\n      <td>0.009131</td>\n    </tr>\n    <tr>\n      <th>0.10</th>\n      <td>0.983880</td>\n      <td>0.008413</td>\n    </tr>\n    <tr>\n      <th>0.20</th>\n      <td>0.983453</td>\n      <td>0.008058</td>\n    </tr>\n  </tbody>\n</table>\n</div>"
     },
     "execution_count": 20,
     "metadata": {},
     "output_type": "execute_result"
    }
   ],
   "source": [
    "df1 = df.groupby([\"Fold\", \"MissingRate\", \"Sample ID\"]).agg( {\"Accuracy\":\"mean\"}).reset_index()\n",
    "df1 = df1.groupby([\"Fold\", \"MissingRate\"]).agg( {\"Accuracy\":[\"mean\", \"std\"]})# df1.columns = df1.columns.droplevel(0)\n",
    "df1"
   ],
   "metadata": {
    "collapsed": false,
    "pycharm": {
     "name": "#%%\n"
    }
   }
  },
  {
   "cell_type": "code",
   "execution_count": 17,
   "outputs": [],
   "source": [
    "# print(df.groupby([\"MissingRate\", \"MAF\"]).agg( {\"Accuracy\":[\"mean\", \"std\"]}).round({'mean': 4})#.rename(columns={\"Accuracy\": \"Max Accuracy\"})\n",
    "#             .to_latex(multirow=True))"
   ],
   "metadata": {
    "collapsed": false,
    "pycharm": {
     "name": "#%%\n"
    }
   }
  },
  {
   "cell_type": "code",
   "execution_count": 21,
   "outputs": [
    {
     "name": "stdout",
     "output_type": "stream",
     "text": [
      "Fold: 1\n"
     ]
    },
    {
     "name": "stderr",
     "output_type": "stream",
     "text": [
      "100%|██████████| 835/835 [00:03<00:00, 254.85it/s]\n",
      "100%|██████████| 835/835 [00:09<00:00, 90.53it/s] \n",
      "100%|██████████| 835/835 [00:16<00:00, 50.96it/s]\n",
      "100%|██████████| 835/835 [00:31<00:00, 26.19it/s]\n"
     ]
    },
    {
     "name": "stdout",
     "output_type": "stream",
     "text": [
      "Fold: 2\n"
     ]
    },
    {
     "name": "stderr",
     "output_type": "stream",
     "text": [
      "100%|██████████| 835/835 [00:03<00:00, 259.75it/s]\n",
      "100%|██████████| 835/835 [00:09<00:00, 89.53it/s] \n",
      "100%|██████████| 835/835 [00:16<00:00, 50.70it/s]\n",
      "100%|██████████| 835/835 [00:29<00:00, 28.16it/s]\n"
     ]
    },
    {
     "name": "stdout",
     "output_type": "stream",
     "text": [
      "Fold: 3\n"
     ]
    },
    {
     "name": "stderr",
     "output_type": "stream",
     "text": [
      "100%|██████████| 834/834 [00:02<00:00, 286.62it/s]\n",
      "100%|██████████| 834/834 [00:09<00:00, 91.52it/s] \n",
      "100%|██████████| 834/834 [00:16<00:00, 49.25it/s]\n",
      "100%|██████████| 834/834 [00:30<00:00, 27.15it/s]\n"
     ]
    },
    {
     "name": "stdout",
     "output_type": "stream",
     "text": [
      "Combining the results...\n"
     ]
    },
    {
     "name": "stderr",
     "output_type": "stream",
     "text": [
      "12it [00:01,  8.58it/s]\n"
     ]
    },
    {
     "data": {
      "text/plain": "        Fold MissingRate  MAF Accuracy Sample ID\n0          1        0.01  0.5        1   NA21144\n1          1        0.01  0.1        1   NA21144\n2          1        0.01  0.2        1   NA21144\n3          1        0.01  0.5        1   NA21144\n4          1        0.01  0.5        1   NA21144\n...      ...         ...  ...      ...       ...\n6452803    3         0.2  0.4        1   HG00097\n6452804    3         0.2  0.1        1   HG00097\n6452805    3         0.2  0.4        1   HG00097\n6452806    3         0.2  0.5        1   HG00097\n6452807    3         0.2  0.1        1   HG00097\n\n[6452808 rows x 5 columns]",
      "text/html": "<div>\n<style scoped>\n    .dataframe tbody tr th:only-of-type {\n        vertical-align: middle;\n    }\n\n    .dataframe tbody tr th {\n        vertical-align: top;\n    }\n\n    .dataframe thead th {\n        text-align: right;\n    }\n</style>\n<table border=\"1\" class=\"dataframe\">\n  <thead>\n    <tr style=\"text-align: right;\">\n      <th></th>\n      <th>Fold</th>\n      <th>MissingRate</th>\n      <th>MAF</th>\n      <th>Accuracy</th>\n      <th>Sample ID</th>\n    </tr>\n  </thead>\n  <tbody>\n    <tr>\n      <th>0</th>\n      <td>1</td>\n      <td>0.01</td>\n      <td>0.5</td>\n      <td>1</td>\n      <td>NA21144</td>\n    </tr>\n    <tr>\n      <th>1</th>\n      <td>1</td>\n      <td>0.01</td>\n      <td>0.1</td>\n      <td>1</td>\n      <td>NA21144</td>\n    </tr>\n    <tr>\n      <th>2</th>\n      <td>1</td>\n      <td>0.01</td>\n      <td>0.2</td>\n      <td>1</td>\n      <td>NA21144</td>\n    </tr>\n    <tr>\n      <th>3</th>\n      <td>1</td>\n      <td>0.01</td>\n      <td>0.5</td>\n      <td>1</td>\n      <td>NA21144</td>\n    </tr>\n    <tr>\n      <th>4</th>\n      <td>1</td>\n      <td>0.01</td>\n      <td>0.5</td>\n      <td>1</td>\n      <td>NA21144</td>\n    </tr>\n    <tr>\n      <th>...</th>\n      <td>...</td>\n      <td>...</td>\n      <td>...</td>\n      <td>...</td>\n      <td>...</td>\n    </tr>\n    <tr>\n      <th>6452803</th>\n      <td>3</td>\n      <td>0.2</td>\n      <td>0.4</td>\n      <td>1</td>\n      <td>HG00097</td>\n    </tr>\n    <tr>\n      <th>6452804</th>\n      <td>3</td>\n      <td>0.2</td>\n      <td>0.1</td>\n      <td>1</td>\n      <td>HG00097</td>\n    </tr>\n    <tr>\n      <th>6452805</th>\n      <td>3</td>\n      <td>0.2</td>\n      <td>0.4</td>\n      <td>1</td>\n      <td>HG00097</td>\n    </tr>\n    <tr>\n      <th>6452806</th>\n      <td>3</td>\n      <td>0.2</td>\n      <td>0.5</td>\n      <td>1</td>\n      <td>HG00097</td>\n    </tr>\n    <tr>\n      <th>6452807</th>\n      <td>3</td>\n      <td>0.2</td>\n      <td>0.1</td>\n      <td>1</td>\n      <td>HG00097</td>\n    </tr>\n  </tbody>\n</table>\n<p>6452808 rows × 5 columns</p>\n</div>"
     },
     "execution_count": 21,
     "metadata": {},
     "output_type": "execute_result"
    }
   ],
   "source": [
    "columns = [\"Fold\", \"MissingRate\", \"MAF\", \"Accuracy\", \"Sample ID\"]\n",
    "dfs = []\n",
    "N_SPLITS=3\n",
    "kf = KFold(n_splits=N_SPLITS, shuffle=True, random_state=2022)\n",
    "fold = 0\n",
    "_x = X[X.index.isin(Y_train.index)].to_numpy()\n",
    "for train_index, test_index in kf.split(_x):\n",
    "  fold += 1\n",
    "  print(f\"Fold: {fold}\")\n",
    "  y = _x[test_index]\n",
    "  for missing_perc in [0.01,\n",
    "                       0.05,\n",
    "                       0.1,\n",
    "                       0.2]:\n",
    "    dataframe = pd.DataFrame(columns = columns)\n",
    "    file_name = f\"./experimental_results/hla/maf/SCDA/SCDA_preds_mixed_mr_{missing_perc}_rs_{fold}_.csv\"\n",
    "    result_genotypes = pd.read_csv(file_name, index_col=0)\n",
    "    result_genotypes = result_genotypes.replace({\n",
    "        '0|0': 0,\n",
    "        '0|1': 1,\n",
    "        '1|0': 2,\n",
    "        '1|1': 3\n",
    "    })\n",
    "    yhat = result_genotypes.to_numpy()\n",
    "    assert y.shape == yhat.shape\n",
    "    for i in tqdm(list(range(y.shape[0]))):\n",
    "        missing_index, _ = train_test_split(np.arange(y.shape[1]), train_size=missing_perc,\n",
    "                                            random_state=i + fold,\n",
    "                                            shuffle=True,\n",
    "                                            stratify=bin_labels)\n",
    "        a = np.reshape(maf_bin_labels[missing_index], (-1, 1))\n",
    "        b = np.array([fold for _ in missing_index]).reshape((-1, 1))\n",
    "        c = np.array([missing_perc for _ in missing_index]).reshape((-1, 1))\n",
    "        d = (yhat[i, missing_index]==y[i, missing_index]).astype(int).reshape((-1, 1))\n",
    "        e = np.array([X.index[test_index][i] for _ in missing_index]).astype(object).reshape((-1, 1))\n",
    "        dataframe = pd.concat([pd.DataFrame(np.concatenate([b,c,a,d,e], axis=1), columns=dataframe.columns), dataframe], ignore_index=True)\n",
    "    dfs.append(dataframe)\n",
    "\n",
    "df = pd.DataFrame(columns = columns)\n",
    "print(\"Combining the results...\")\n",
    "for i, dff in tqdm(enumerate(dfs)):\n",
    "    df = pd.concat([df, dff], ignore_index=True)\n",
    "del dfs\n",
    "\n",
    "df\n"
   ],
   "metadata": {
    "collapsed": false,
    "pycharm": {
     "name": "#%%\n"
    }
   }
  },
  {
   "cell_type": "code",
   "execution_count": 22,
   "outputs": [],
   "source": [
    "df.to_csv(\"results_in_table/hla/maf/HLA_MAF_SCDA.csv\")"
   ],
   "metadata": {
    "collapsed": false,
    "pycharm": {
     "name": "#%%\n"
    }
   }
  },
  {
   "cell_type": "code",
   "execution_count": 23,
   "outputs": [
    {
     "data": {
      "text/plain": "                 Accuracy          \n                     mean       std\nMissingRate MAF                    \n0.01        0.1  0.989972  0.099640\n            0.2  0.988376  0.107185\n            0.3  0.983565  0.127144\n            0.4  0.974130  0.158750\n            0.5  0.985623  0.119041\n0.05        0.1  0.989875  0.100111\n            0.2  0.988649  0.105934\n            0.3  0.983258  0.128305\n            0.4  0.976446  0.151654\n            0.5  0.986177  0.116756\n0.10        0.1  0.989746  0.100742\n            0.2  0.988616  0.106086\n            0.3  0.983101  0.128894\n            0.4  0.976637  0.151053\n            0.5  0.985819  0.118235\n0.20        0.1  0.989233  0.103204\n            0.2  0.988174  0.108102\n            0.3  0.982866  0.129772\n            0.4  0.976099  0.152740\n            0.5  0.985526  0.119433",
      "text/html": "<div>\n<style scoped>\n    .dataframe tbody tr th:only-of-type {\n        vertical-align: middle;\n    }\n\n    .dataframe tbody tr th {\n        vertical-align: top;\n    }\n\n    .dataframe thead tr th {\n        text-align: left;\n    }\n\n    .dataframe thead tr:last-of-type th {\n        text-align: right;\n    }\n</style>\n<table border=\"1\" class=\"dataframe\">\n  <thead>\n    <tr>\n      <th></th>\n      <th></th>\n      <th colspan=\"2\" halign=\"left\">Accuracy</th>\n    </tr>\n    <tr>\n      <th></th>\n      <th></th>\n      <th>mean</th>\n      <th>std</th>\n    </tr>\n    <tr>\n      <th>MissingRate</th>\n      <th>MAF</th>\n      <th></th>\n      <th></th>\n    </tr>\n  </thead>\n  <tbody>\n    <tr>\n      <th rowspan=\"5\" valign=\"top\">0.01</th>\n      <th>0.1</th>\n      <td>0.989972</td>\n      <td>0.099640</td>\n    </tr>\n    <tr>\n      <th>0.2</th>\n      <td>0.988376</td>\n      <td>0.107185</td>\n    </tr>\n    <tr>\n      <th>0.3</th>\n      <td>0.983565</td>\n      <td>0.127144</td>\n    </tr>\n    <tr>\n      <th>0.4</th>\n      <td>0.974130</td>\n      <td>0.158750</td>\n    </tr>\n    <tr>\n      <th>0.5</th>\n      <td>0.985623</td>\n      <td>0.119041</td>\n    </tr>\n    <tr>\n      <th rowspan=\"5\" valign=\"top\">0.05</th>\n      <th>0.1</th>\n      <td>0.989875</td>\n      <td>0.100111</td>\n    </tr>\n    <tr>\n      <th>0.2</th>\n      <td>0.988649</td>\n      <td>0.105934</td>\n    </tr>\n    <tr>\n      <th>0.3</th>\n      <td>0.983258</td>\n      <td>0.128305</td>\n    </tr>\n    <tr>\n      <th>0.4</th>\n      <td>0.976446</td>\n      <td>0.151654</td>\n    </tr>\n    <tr>\n      <th>0.5</th>\n      <td>0.986177</td>\n      <td>0.116756</td>\n    </tr>\n    <tr>\n      <th rowspan=\"5\" valign=\"top\">0.10</th>\n      <th>0.1</th>\n      <td>0.989746</td>\n      <td>0.100742</td>\n    </tr>\n    <tr>\n      <th>0.2</th>\n      <td>0.988616</td>\n      <td>0.106086</td>\n    </tr>\n    <tr>\n      <th>0.3</th>\n      <td>0.983101</td>\n      <td>0.128894</td>\n    </tr>\n    <tr>\n      <th>0.4</th>\n      <td>0.976637</td>\n      <td>0.151053</td>\n    </tr>\n    <tr>\n      <th>0.5</th>\n      <td>0.985819</td>\n      <td>0.118235</td>\n    </tr>\n    <tr>\n      <th rowspan=\"5\" valign=\"top\">0.20</th>\n      <th>0.1</th>\n      <td>0.989233</td>\n      <td>0.103204</td>\n    </tr>\n    <tr>\n      <th>0.2</th>\n      <td>0.988174</td>\n      <td>0.108102</td>\n    </tr>\n    <tr>\n      <th>0.3</th>\n      <td>0.982866</td>\n      <td>0.129772</td>\n    </tr>\n    <tr>\n      <th>0.4</th>\n      <td>0.976099</td>\n      <td>0.152740</td>\n    </tr>\n    <tr>\n      <th>0.5</th>\n      <td>0.985526</td>\n      <td>0.119433</td>\n    </tr>\n  </tbody>\n</table>\n</div>"
     },
     "execution_count": 23,
     "metadata": {},
     "output_type": "execute_result"
    }
   ],
   "source": [
    "df.groupby([\"MissingRate\", \"MAF\"]).agg( {\"Accuracy\":[\"mean\", \"std\"]}).round({'mean': 4})#.rename(columns={\"Accuracy\": \"Max Accuracy\"})"
   ],
   "metadata": {
    "collapsed": false,
    "pycharm": {
     "name": "#%%\n"
    }
   }
  },
  {
   "cell_type": "code",
   "execution_count": 24,
   "outputs": [
    {
     "data": {
      "text/plain": "             Accuracy          \n                 mean       std\nMissingRate                    \n0.01         0.985629  0.000602\n0.05         0.985975  0.000343\n0.10         0.985869  0.000288\n0.20         0.985471  0.000106",
      "text/html": "<div>\n<style scoped>\n    .dataframe tbody tr th:only-of-type {\n        vertical-align: middle;\n    }\n\n    .dataframe tbody tr th {\n        vertical-align: top;\n    }\n\n    .dataframe thead tr th {\n        text-align: left;\n    }\n\n    .dataframe thead tr:last-of-type th {\n        text-align: right;\n    }\n</style>\n<table border=\"1\" class=\"dataframe\">\n  <thead>\n    <tr>\n      <th></th>\n      <th colspan=\"2\" halign=\"left\">Accuracy</th>\n    </tr>\n    <tr>\n      <th></th>\n      <th>mean</th>\n      <th>std</th>\n    </tr>\n    <tr>\n      <th>MissingRate</th>\n      <th></th>\n      <th></th>\n    </tr>\n  </thead>\n  <tbody>\n    <tr>\n      <th>0.01</th>\n      <td>0.985629</td>\n      <td>0.000602</td>\n    </tr>\n    <tr>\n      <th>0.05</th>\n      <td>0.985975</td>\n      <td>0.000343</td>\n    </tr>\n    <tr>\n      <th>0.10</th>\n      <td>0.985869</td>\n      <td>0.000288</td>\n    </tr>\n    <tr>\n      <th>0.20</th>\n      <td>0.985471</td>\n      <td>0.000106</td>\n    </tr>\n  </tbody>\n</table>\n</div>"
     },
     "execution_count": 24,
     "metadata": {},
     "output_type": "execute_result"
    }
   ],
   "source": [
    "df1 = df.groupby([\"Fold\", \"MissingRate\", \"Sample ID\"]).agg( {\"Accuracy\":\"mean\"}).reset_index()\n",
    "df1 = df1.groupby([\"Fold\", \"MissingRate\"]).agg( {\"Accuracy\":\"mean\"}).reset_index()# df1.columns = df1.columns.droplevel(0)\n",
    "df1 = df1.groupby([\"MissingRate\"]).agg( {\"Accuracy\":[\"mean\", \"std\"]})#.reset_index()\n",
    "df1"
   ],
   "metadata": {
    "collapsed": false,
    "pycharm": {
     "name": "#%%\n"
    }
   }
  },
  {
   "cell_type": "code",
   "execution_count": 25,
   "outputs": [
    {
     "data": {
      "text/plain": "                  Accuracy          \n                      mean       std\nFold MissingRate                    \n1    0.01         0.986287  0.013824\n     0.05         0.986371  0.007960\n     0.10         0.986201  0.006747\n     0.20         0.985594  0.006573\n2    0.01         0.985106  0.015948\n     0.05         0.985759  0.008172\n     0.10         0.985692  0.007079\n     0.20         0.985420  0.006694\n3    0.01         0.985493  0.015279\n     0.05         0.985796  0.007905\n     0.10         0.985714  0.006751\n     0.20         0.985400  0.006520",
      "text/html": "<div>\n<style scoped>\n    .dataframe tbody tr th:only-of-type {\n        vertical-align: middle;\n    }\n\n    .dataframe tbody tr th {\n        vertical-align: top;\n    }\n\n    .dataframe thead tr th {\n        text-align: left;\n    }\n\n    .dataframe thead tr:last-of-type th {\n        text-align: right;\n    }\n</style>\n<table border=\"1\" class=\"dataframe\">\n  <thead>\n    <tr>\n      <th></th>\n      <th></th>\n      <th colspan=\"2\" halign=\"left\">Accuracy</th>\n    </tr>\n    <tr>\n      <th></th>\n      <th></th>\n      <th>mean</th>\n      <th>std</th>\n    </tr>\n    <tr>\n      <th>Fold</th>\n      <th>MissingRate</th>\n      <th></th>\n      <th></th>\n    </tr>\n  </thead>\n  <tbody>\n    <tr>\n      <th rowspan=\"4\" valign=\"top\">1</th>\n      <th>0.01</th>\n      <td>0.986287</td>\n      <td>0.013824</td>\n    </tr>\n    <tr>\n      <th>0.05</th>\n      <td>0.986371</td>\n      <td>0.007960</td>\n    </tr>\n    <tr>\n      <th>0.10</th>\n      <td>0.986201</td>\n      <td>0.006747</td>\n    </tr>\n    <tr>\n      <th>0.20</th>\n      <td>0.985594</td>\n      <td>0.006573</td>\n    </tr>\n    <tr>\n      <th rowspan=\"4\" valign=\"top\">2</th>\n      <th>0.01</th>\n      <td>0.985106</td>\n      <td>0.015948</td>\n    </tr>\n    <tr>\n      <th>0.05</th>\n      <td>0.985759</td>\n      <td>0.008172</td>\n    </tr>\n    <tr>\n      <th>0.10</th>\n      <td>0.985692</td>\n      <td>0.007079</td>\n    </tr>\n    <tr>\n      <th>0.20</th>\n      <td>0.985420</td>\n      <td>0.006694</td>\n    </tr>\n    <tr>\n      <th rowspan=\"4\" valign=\"top\">3</th>\n      <th>0.01</th>\n      <td>0.985493</td>\n      <td>0.015279</td>\n    </tr>\n    <tr>\n      <th>0.05</th>\n      <td>0.985796</td>\n      <td>0.007905</td>\n    </tr>\n    <tr>\n      <th>0.10</th>\n      <td>0.985714</td>\n      <td>0.006751</td>\n    </tr>\n    <tr>\n      <th>0.20</th>\n      <td>0.985400</td>\n      <td>0.006520</td>\n    </tr>\n  </tbody>\n</table>\n</div>"
     },
     "execution_count": 25,
     "metadata": {},
     "output_type": "execute_result"
    }
   ],
   "source": [
    "df1 = df.groupby([\"Fold\", \"MissingRate\", \"Sample ID\"]).agg( {\"Accuracy\":\"mean\"}).reset_index()\n",
    "df1 = df1.groupby([\"Fold\", \"MissingRate\"]).agg( {\"Accuracy\":[\"mean\", \"std\"]})# df1.columns = df1.columns.droplevel(0)\n",
    "df1\n",
    "\n",
    "# print(df.groupby([\"MissingRate\", \"MAF\"]).agg( {\"Accuracy\":[\"mean\", \"std\"]}).round({'mean': 4})#.rename(columns={\"Accuracy\": \"Max Accuracy\"})\n",
    "#             .to_latex(multirow=True))"
   ],
   "metadata": {
    "collapsed": false,
    "pycharm": {
     "name": "#%%\n"
    }
   }
  },
  {
   "cell_type": "code",
   "execution_count": 26,
   "outputs": [
    {
     "name": "stdout",
     "output_type": "stream",
     "text": [
      "Fold: 1\n"
     ]
    },
    {
     "name": "stderr",
     "output_type": "stream",
     "text": [
      "100%|██████████| 835/835 [00:03<00:00, 264.45it/s]\n",
      "100%|██████████| 835/835 [00:09<00:00, 88.14it/s] \n",
      "100%|██████████| 835/835 [00:16<00:00, 49.68it/s]\n",
      "100%|██████████| 835/835 [00:31<00:00, 26.78it/s]\n"
     ]
    },
    {
     "name": "stdout",
     "output_type": "stream",
     "text": [
      "Fold: 2\n"
     ]
    },
    {
     "name": "stderr",
     "output_type": "stream",
     "text": [
      "100%|██████████| 835/835 [00:03<00:00, 254.20it/s]\n",
      "100%|██████████| 835/835 [00:09<00:00, 84.87it/s] \n",
      "100%|██████████| 835/835 [00:17<00:00, 47.07it/s]\n",
      "100%|██████████| 835/835 [00:31<00:00, 26.35it/s]\n"
     ]
    },
    {
     "name": "stdout",
     "output_type": "stream",
     "text": [
      "Fold: 3\n"
     ]
    },
    {
     "name": "stderr",
     "output_type": "stream",
     "text": [
      "100%|██████████| 834/834 [00:03<00:00, 270.24it/s]\n",
      "100%|██████████| 834/834 [00:09<00:00, 88.86it/s] \n",
      "100%|██████████| 834/834 [00:16<00:00, 49.36it/s]\n",
      "100%|██████████| 834/834 [00:31<00:00, 26.53it/s]\n"
     ]
    },
    {
     "name": "stdout",
     "output_type": "stream",
     "text": [
      "Combining the results...\n"
     ]
    },
    {
     "name": "stderr",
     "output_type": "stream",
     "text": [
      "12it [00:01,  9.56it/s]\n"
     ]
    },
    {
     "data": {
      "text/plain": "        Fold MissingRate  MAF Accuracy Sample ID\n0          1        0.01  0.5        1   NA21144\n1          1        0.01  0.1        1   NA21144\n2          1        0.01  0.2        1   NA21144\n3          1        0.01  0.5        1   NA21144\n4          1        0.01  0.5        1   NA21144\n...      ...         ...  ...      ...       ...\n6452803    3         0.2  0.4        1   HG00097\n6452804    3         0.2  0.1        1   HG00097\n6452805    3         0.2  0.4        1   HG00097\n6452806    3         0.2  0.5        1   HG00097\n6452807    3         0.2  0.1        1   HG00097\n\n[6452808 rows x 5 columns]",
      "text/html": "<div>\n<style scoped>\n    .dataframe tbody tr th:only-of-type {\n        vertical-align: middle;\n    }\n\n    .dataframe tbody tr th {\n        vertical-align: top;\n    }\n\n    .dataframe thead th {\n        text-align: right;\n    }\n</style>\n<table border=\"1\" class=\"dataframe\">\n  <thead>\n    <tr style=\"text-align: right;\">\n      <th></th>\n      <th>Fold</th>\n      <th>MissingRate</th>\n      <th>MAF</th>\n      <th>Accuracy</th>\n      <th>Sample ID</th>\n    </tr>\n  </thead>\n  <tbody>\n    <tr>\n      <th>0</th>\n      <td>1</td>\n      <td>0.01</td>\n      <td>0.5</td>\n      <td>1</td>\n      <td>NA21144</td>\n    </tr>\n    <tr>\n      <th>1</th>\n      <td>1</td>\n      <td>0.01</td>\n      <td>0.1</td>\n      <td>1</td>\n      <td>NA21144</td>\n    </tr>\n    <tr>\n      <th>2</th>\n      <td>1</td>\n      <td>0.01</td>\n      <td>0.2</td>\n      <td>1</td>\n      <td>NA21144</td>\n    </tr>\n    <tr>\n      <th>3</th>\n      <td>1</td>\n      <td>0.01</td>\n      <td>0.5</td>\n      <td>1</td>\n      <td>NA21144</td>\n    </tr>\n    <tr>\n      <th>4</th>\n      <td>1</td>\n      <td>0.01</td>\n      <td>0.5</td>\n      <td>1</td>\n      <td>NA21144</td>\n    </tr>\n    <tr>\n      <th>...</th>\n      <td>...</td>\n      <td>...</td>\n      <td>...</td>\n      <td>...</td>\n      <td>...</td>\n    </tr>\n    <tr>\n      <th>6452803</th>\n      <td>3</td>\n      <td>0.2</td>\n      <td>0.4</td>\n      <td>1</td>\n      <td>HG00097</td>\n    </tr>\n    <tr>\n      <th>6452804</th>\n      <td>3</td>\n      <td>0.2</td>\n      <td>0.1</td>\n      <td>1</td>\n      <td>HG00097</td>\n    </tr>\n    <tr>\n      <th>6452805</th>\n      <td>3</td>\n      <td>0.2</td>\n      <td>0.4</td>\n      <td>1</td>\n      <td>HG00097</td>\n    </tr>\n    <tr>\n      <th>6452806</th>\n      <td>3</td>\n      <td>0.2</td>\n      <td>0.5</td>\n      <td>1</td>\n      <td>HG00097</td>\n    </tr>\n    <tr>\n      <th>6452807</th>\n      <td>3</td>\n      <td>0.2</td>\n      <td>0.1</td>\n      <td>1</td>\n      <td>HG00097</td>\n    </tr>\n  </tbody>\n</table>\n<p>6452808 rows × 5 columns</p>\n</div>"
     },
     "execution_count": 26,
     "metadata": {},
     "output_type": "execute_result"
    }
   ],
   "source": [
    "columns = [\"Fold\", \"MissingRate\", \"MAF\", \"Accuracy\", \"Sample ID\"]\n",
    "dfs = []\n",
    "N_SPLITS=3\n",
    "kf = KFold(n_splits=N_SPLITS, shuffle=True, random_state=2022)\n",
    "fold = 0\n",
    "_x = X[X.index.isin(Y_train.index)].to_numpy()\n",
    "for train_index, test_index in kf.split(_x):\n",
    "  fold += 1\n",
    "  print(f\"Fold: {fold}\")\n",
    "  y = _x[test_index]\n",
    "  for missing_perc in [0.01,\n",
    "                       0.05,\n",
    "                       0.1,\n",
    "                       0.2]:\n",
    "    dataframe = pd.DataFrame(columns = columns)\n",
    "    file_name = f\"./experimental_results/hla/maf/AE/AE_preds_mixed_mr_{missing_perc}_fold_{fold}_.csv\"\n",
    "    result_genotypes = pd.read_csv(file_name, index_col=0)\n",
    "    result_genotypes = result_genotypes.replace({\n",
    "        '0|0': 0,\n",
    "        '0|1': 1,\n",
    "        '1|0': 2,\n",
    "        '1|1': 3\n",
    "    })\n",
    "    yhat = result_genotypes.to_numpy()\n",
    "    assert y.shape == yhat.shape\n",
    "    for i in tqdm(list(range(y.shape[0]))):\n",
    "        missing_index, _ = train_test_split(np.arange(y.shape[1]), train_size=missing_perc,\n",
    "                                            random_state=i + fold,\n",
    "                                            shuffle=True,\n",
    "                                            stratify=bin_labels)\n",
    "        a = np.reshape(maf_bin_labels[missing_index], (-1, 1))\n",
    "        b = np.array([fold for _ in missing_index]).reshape((-1, 1))\n",
    "        c = np.array([missing_perc for _ in missing_index]).reshape((-1, 1))\n",
    "        d = (yhat[i, missing_index]==y[i, missing_index]).astype(int).reshape((-1, 1))\n",
    "        e = np.array([X.index[test_index][i] for _ in missing_index]).astype(object).reshape((-1, 1))\n",
    "        dataframe = pd.concat([pd.DataFrame(np.concatenate([b,c,a,d,e], axis=1), columns=dataframe.columns), dataframe], ignore_index=True)\n",
    "    dfs.append(dataframe)\n",
    "\n",
    "df = pd.DataFrame(columns = columns)\n",
    "print(\"Combining the results...\")\n",
    "for i, dff in tqdm(enumerate(dfs)):\n",
    "    df = pd.concat([df, dff], ignore_index=True)\n",
    "del dfs\n",
    "\n",
    "df"
   ],
   "metadata": {
    "collapsed": false,
    "pycharm": {
     "name": "#%%\n"
    }
   }
  },
  {
   "cell_type": "code",
   "execution_count": 27,
   "outputs": [],
   "source": [
    "df.to_csv(\"results_in_table/hla/maf/HLA_MAF_AE.csv\")"
   ],
   "metadata": {
    "collapsed": false,
    "pycharm": {
     "name": "#%%\n"
    }
   }
  },
  {
   "cell_type": "code",
   "execution_count": 28,
   "outputs": [
    {
     "data": {
      "text/plain": "                 Accuracy          \n                     mean       std\nMissingRate MAF                    \n0.01        0.1  0.839790  0.366805\n            0.2  0.838343  0.368140\n            0.3  0.810365  0.392018\n            0.4  0.755280  0.429930\n            0.5  0.821918  0.382588\n0.05        0.1  0.908401  0.288460\n            0.2  0.914442  0.279711\n            0.3  0.892867  0.309283\n            0.4  0.860432  0.346540\n            0.5  0.904173  0.294355\n0.10        0.1  0.929104  0.256651\n            0.2  0.933103  0.249844\n            0.3  0.915010  0.278867\n            0.4  0.888222  0.315093\n            0.5  0.922537  0.267325\n0.20        0.1  0.932475  0.250930\n            0.2  0.936005  0.244745\n            0.3  0.918135  0.274158\n            0.4  0.892596  0.309627\n            0.5  0.925263  0.262967",
      "text/html": "<div>\n<style scoped>\n    .dataframe tbody tr th:only-of-type {\n        vertical-align: middle;\n    }\n\n    .dataframe tbody tr th {\n        vertical-align: top;\n    }\n\n    .dataframe thead tr th {\n        text-align: left;\n    }\n\n    .dataframe thead tr:last-of-type th {\n        text-align: right;\n    }\n</style>\n<table border=\"1\" class=\"dataframe\">\n  <thead>\n    <tr>\n      <th></th>\n      <th></th>\n      <th colspan=\"2\" halign=\"left\">Accuracy</th>\n    </tr>\n    <tr>\n      <th></th>\n      <th></th>\n      <th>mean</th>\n      <th>std</th>\n    </tr>\n    <tr>\n      <th>MissingRate</th>\n      <th>MAF</th>\n      <th></th>\n      <th></th>\n    </tr>\n  </thead>\n  <tbody>\n    <tr>\n      <th rowspan=\"5\" valign=\"top\">0.01</th>\n      <th>0.1</th>\n      <td>0.839790</td>\n      <td>0.366805</td>\n    </tr>\n    <tr>\n      <th>0.2</th>\n      <td>0.838343</td>\n      <td>0.368140</td>\n    </tr>\n    <tr>\n      <th>0.3</th>\n      <td>0.810365</td>\n      <td>0.392018</td>\n    </tr>\n    <tr>\n      <th>0.4</th>\n      <td>0.755280</td>\n      <td>0.429930</td>\n    </tr>\n    <tr>\n      <th>0.5</th>\n      <td>0.821918</td>\n      <td>0.382588</td>\n    </tr>\n    <tr>\n      <th rowspan=\"5\" valign=\"top\">0.05</th>\n      <th>0.1</th>\n      <td>0.908401</td>\n      <td>0.288460</td>\n    </tr>\n    <tr>\n      <th>0.2</th>\n      <td>0.914442</td>\n      <td>0.279711</td>\n    </tr>\n    <tr>\n      <th>0.3</th>\n      <td>0.892867</td>\n      <td>0.309283</td>\n    </tr>\n    <tr>\n      <th>0.4</th>\n      <td>0.860432</td>\n      <td>0.346540</td>\n    </tr>\n    <tr>\n      <th>0.5</th>\n      <td>0.904173</td>\n      <td>0.294355</td>\n    </tr>\n    <tr>\n      <th rowspan=\"5\" valign=\"top\">0.10</th>\n      <th>0.1</th>\n      <td>0.929104</td>\n      <td>0.256651</td>\n    </tr>\n    <tr>\n      <th>0.2</th>\n      <td>0.933103</td>\n      <td>0.249844</td>\n    </tr>\n    <tr>\n      <th>0.3</th>\n      <td>0.915010</td>\n      <td>0.278867</td>\n    </tr>\n    <tr>\n      <th>0.4</th>\n      <td>0.888222</td>\n      <td>0.315093</td>\n    </tr>\n    <tr>\n      <th>0.5</th>\n      <td>0.922537</td>\n      <td>0.267325</td>\n    </tr>\n    <tr>\n      <th rowspan=\"5\" valign=\"top\">0.20</th>\n      <th>0.1</th>\n      <td>0.932475</td>\n      <td>0.250930</td>\n    </tr>\n    <tr>\n      <th>0.2</th>\n      <td>0.936005</td>\n      <td>0.244745</td>\n    </tr>\n    <tr>\n      <th>0.3</th>\n      <td>0.918135</td>\n      <td>0.274158</td>\n    </tr>\n    <tr>\n      <th>0.4</th>\n      <td>0.892596</td>\n      <td>0.309627</td>\n    </tr>\n    <tr>\n      <th>0.5</th>\n      <td>0.925263</td>\n      <td>0.262967</td>\n    </tr>\n  </tbody>\n</table>\n</div>"
     },
     "execution_count": 28,
     "metadata": {},
     "output_type": "execute_result"
    }
   ],
   "source": [
    "df.groupby([\"MissingRate\", \"MAF\"]).agg( {\"Accuracy\":[\"mean\", \"std\"]}).round({'mean': 4})#.rename(columns={\"Accuracy\": \"Max Accuracy\"})"
   ],
   "metadata": {
    "collapsed": false,
    "pycharm": {
     "name": "#%%\n"
    }
   }
  },
  {
   "cell_type": "code",
   "execution_count": 29,
   "outputs": [
    {
     "data": {
      "text/plain": "             Accuracy          \n                 mean       std\nMissingRate                    \n0.01         0.820283  0.002674\n0.05         0.900321  0.001239\n0.10         0.921239  0.001013\n0.20         0.924491  0.001688",
      "text/html": "<div>\n<style scoped>\n    .dataframe tbody tr th:only-of-type {\n        vertical-align: middle;\n    }\n\n    .dataframe tbody tr th {\n        vertical-align: top;\n    }\n\n    .dataframe thead tr th {\n        text-align: left;\n    }\n\n    .dataframe thead tr:last-of-type th {\n        text-align: right;\n    }\n</style>\n<table border=\"1\" class=\"dataframe\">\n  <thead>\n    <tr>\n      <th></th>\n      <th colspan=\"2\" halign=\"left\">Accuracy</th>\n    </tr>\n    <tr>\n      <th></th>\n      <th>mean</th>\n      <th>std</th>\n    </tr>\n    <tr>\n      <th>MissingRate</th>\n      <th></th>\n      <th></th>\n    </tr>\n  </thead>\n  <tbody>\n    <tr>\n      <th>0.01</th>\n      <td>0.820283</td>\n      <td>0.002674</td>\n    </tr>\n    <tr>\n      <th>0.05</th>\n      <td>0.900321</td>\n      <td>0.001239</td>\n    </tr>\n    <tr>\n      <th>0.10</th>\n      <td>0.921239</td>\n      <td>0.001013</td>\n    </tr>\n    <tr>\n      <th>0.20</th>\n      <td>0.924491</td>\n      <td>0.001688</td>\n    </tr>\n  </tbody>\n</table>\n</div>"
     },
     "execution_count": 29,
     "metadata": {},
     "output_type": "execute_result"
    }
   ],
   "source": [
    "df1 = df.groupby([\"Fold\", \"MissingRate\", \"Sample ID\"]).agg( {\"Accuracy\":\"mean\"}).reset_index()\n",
    "df1 = df1.groupby([\"Fold\", \"MissingRate\"]).agg( {\"Accuracy\":\"mean\"}).reset_index()# df1.columns = df1.columns.droplevel(0)\n",
    "df1 = df1.groupby([\"MissingRate\"]).agg( {\"Accuracy\":[\"mean\", \"std\"]})#.reset_index()\n",
    "df1\n"
   ],
   "metadata": {
    "collapsed": false,
    "pycharm": {
     "name": "#%%\n"
    }
   }
  },
  {
   "cell_type": "code",
   "execution_count": 30,
   "outputs": [
    {
     "data": {
      "text/plain": "                  Accuracy          \n                      mean       std\nFold MissingRate                    \n1    0.01         0.818352  0.076006\n     0.05         0.901636  0.048527\n     0.10         0.920137  0.041559\n     0.20         0.923285  0.037912\n2    0.01         0.819162  0.071894\n     0.05         0.899174  0.048158\n     0.10         0.921450  0.038833\n     0.20         0.923768  0.036379\n3    0.01         0.823336  0.072803\n     0.05         0.900155  0.049380\n     0.10         0.922129  0.040155\n     0.20         0.926420  0.036594",
      "text/html": "<div>\n<style scoped>\n    .dataframe tbody tr th:only-of-type {\n        vertical-align: middle;\n    }\n\n    .dataframe tbody tr th {\n        vertical-align: top;\n    }\n\n    .dataframe thead tr th {\n        text-align: left;\n    }\n\n    .dataframe thead tr:last-of-type th {\n        text-align: right;\n    }\n</style>\n<table border=\"1\" class=\"dataframe\">\n  <thead>\n    <tr>\n      <th></th>\n      <th></th>\n      <th colspan=\"2\" halign=\"left\">Accuracy</th>\n    </tr>\n    <tr>\n      <th></th>\n      <th></th>\n      <th>mean</th>\n      <th>std</th>\n    </tr>\n    <tr>\n      <th>Fold</th>\n      <th>MissingRate</th>\n      <th></th>\n      <th></th>\n    </tr>\n  </thead>\n  <tbody>\n    <tr>\n      <th rowspan=\"4\" valign=\"top\">1</th>\n      <th>0.01</th>\n      <td>0.818352</td>\n      <td>0.076006</td>\n    </tr>\n    <tr>\n      <th>0.05</th>\n      <td>0.901636</td>\n      <td>0.048527</td>\n    </tr>\n    <tr>\n      <th>0.10</th>\n      <td>0.920137</td>\n      <td>0.041559</td>\n    </tr>\n    <tr>\n      <th>0.20</th>\n      <td>0.923285</td>\n      <td>0.037912</td>\n    </tr>\n    <tr>\n      <th rowspan=\"4\" valign=\"top\">2</th>\n      <th>0.01</th>\n      <td>0.819162</td>\n      <td>0.071894</td>\n    </tr>\n    <tr>\n      <th>0.05</th>\n      <td>0.899174</td>\n      <td>0.048158</td>\n    </tr>\n    <tr>\n      <th>0.10</th>\n      <td>0.921450</td>\n      <td>0.038833</td>\n    </tr>\n    <tr>\n      <th>0.20</th>\n      <td>0.923768</td>\n      <td>0.036379</td>\n    </tr>\n    <tr>\n      <th rowspan=\"4\" valign=\"top\">3</th>\n      <th>0.01</th>\n      <td>0.823336</td>\n      <td>0.072803</td>\n    </tr>\n    <tr>\n      <th>0.05</th>\n      <td>0.900155</td>\n      <td>0.049380</td>\n    </tr>\n    <tr>\n      <th>0.10</th>\n      <td>0.922129</td>\n      <td>0.040155</td>\n    </tr>\n    <tr>\n      <th>0.20</th>\n      <td>0.926420</td>\n      <td>0.036594</td>\n    </tr>\n  </tbody>\n</table>\n</div>"
     },
     "execution_count": 30,
     "metadata": {},
     "output_type": "execute_result"
    }
   ],
   "source": [
    "df1 = df.groupby([\"Fold\", \"MissingRate\", \"Sample ID\"]).agg( {\"Accuracy\":\"mean\"}).reset_index()\n",
    "df1 = df1.groupby([\"Fold\", \"MissingRate\"]).agg( {\"Accuracy\":[\"mean\", \"std\"]})# df1.columns = df1.columns.droplevel(0)\n",
    "df1"
   ],
   "metadata": {
    "collapsed": false,
    "pycharm": {
     "name": "#%%\n"
    }
   }
  },
  {
   "cell_type": "code",
   "execution_count": null,
   "outputs": [],
   "source": [
    "# print(df.groupby([\"MissingRate\", \"MAF\"]).agg( {\"Accuracy\":[\"mean\", \"std\"]}).round({'mean': 4})#.rename(columns={\"Accuracy\": \"Max Accuracy\"})\n",
    "#            .to_latex(multirow=True))"
   ],
   "metadata": {
    "collapsed": false,
    "pycharm": {
     "name": "#%%\n"
    }
   }
  },
  {
   "cell_type": "code",
   "execution_count": null,
   "outputs": [],
   "source": [
    "columns = [\"Fold\", \"MissingRate\", \"MAF\", \"Accuracy\", \"Sample ID\"]\n",
    "dfs = []\n",
    "N_SPLITS=3\n",
    "kf = KFold(n_splits=N_SPLITS, shuffle=True, random_state=2022)\n",
    "fold = 0\n",
    "_x = X[X.index.isin(Y_train.index)].to_numpy()\n",
    "for train_index, test_index in kf.split(_x):\n",
    "  fold += 1\n",
    "  print(f\"Fold: {fold}\")\n",
    "  y = _x[test_index]\n",
    "  for missing_perc in [0.01,\n",
    "                       0.05,\n",
    "                       0.1,\n",
    "                       0.2]:\n",
    "    dataframe = pd.DataFrame(columns = columns)\n",
    "    file_name = f\"./experimental_results/hla/maf/STI/preds_mixed_mr_{missing_perc}_rs_{fold}_.csv\"\n",
    "    result_genotypes = pd.read_csv(file_name, index_col=0)\n",
    "    result_genotypes = result_genotypes.replace({\n",
    "        '0|0': 0,\n",
    "        '0|1': 1,\n",
    "        '1|0': 2,\n",
    "        '1|1': 3\n",
    "    })\n",
    "    yhat = result_genotypes.to_numpy()\n",
    "    assert y.shape == yhat.shape\n",
    "    for i in tqdm(list(range(y.shape[0]))):\n",
    "        missing_index, _ = train_test_split(np.arange(y.shape[1]), train_size=missing_perc,\n",
    "                                            random_state=i + fold,\n",
    "                                            shuffle=True,\n",
    "                                            stratify=bin_labels)\n",
    "        a = np.reshape(maf_bin_labels[missing_index], (-1, 1))\n",
    "        b = np.array([fold for _ in missing_index]).reshape((-1, 1))\n",
    "        c = np.array([missing_perc for _ in missing_index]).reshape((-1, 1))\n",
    "        d = (yhat[i, missing_index]==y[i, missing_index]).astype(int).reshape((-1, 1))\n",
    "        e = np.array([X.index[test_index][i] for _ in missing_index]).astype(object).reshape((-1, 1))\n",
    "        dataframe = pd.concat([pd.DataFrame(np.concatenate([b,c,a,d,e], axis=1), columns=dataframe.columns), dataframe], ignore_index=True)\n",
    "    dfs.append(dataframe)\n",
    "\n",
    "df = pd.DataFrame(columns = columns)\n",
    "print(\"Combining the results...\")\n",
    "for i, dff in tqdm(enumerate(dfs)):\n",
    "    df = pd.concat([df, dff], ignore_index=True)\n",
    "del dfs\n",
    "\n",
    "df"
   ],
   "metadata": {
    "collapsed": false,
    "pycharm": {
     "name": "#%%\n"
    }
   }
  },
  {
   "cell_type": "code",
   "execution_count": null,
   "outputs": [],
   "source": [
    "df.to_csv(\"results_in_table/hla/maf/HLA_MAF_STI.csv\")"
   ],
   "metadata": {
    "collapsed": false,
    "pycharm": {
     "name": "#%%\n"
    }
   }
  },
  {
   "cell_type": "code",
   "execution_count": null,
   "outputs": [],
   "source": [
    "df1 = df.groupby([\"Fold\", \"MissingRate\", \"MAF\", \"Sample ID\"]).agg( {\"Accuracy\":\"mean\"}).reset_index()\n",
    "df1 = df1.groupby([\"Fold\", \"MissingRate\", \"MAF\"]).agg( {\"Accuracy\":\"mean\"}).reset_index()# df1.columns = df1.columns.droplevel(0)\n",
    "df1 = df1.groupby([\"MissingRate\", \"MAF\"]).agg( {\"Accuracy\":[\"mean\", \"std\"]})#.reset_index()\n",
    "df1"
   ],
   "metadata": {
    "collapsed": false,
    "pycharm": {
     "name": "#%%\n"
    }
   }
  },
  {
   "cell_type": "code",
   "execution_count": null,
   "outputs": [],
   "source": [
    "# df.groupby([\"MissingRate\"]).agg( {\"Accuracy\":[\"mean\", \"std\"]}).round({'mean': 4})#.rename(columns={\"Accuracy\": \"Max Accuracy\"})\n",
    "\n",
    "df1 = df.groupby([\"Fold\", \"MissingRate\", \"Sample ID\"]).agg( {\"Accuracy\":\"mean\"}).reset_index()\n",
    "df1 = df1.groupby([\"Fold\", \"MissingRate\"]).agg( {\"Accuracy\":\"mean\"}).reset_index()# df1.columns = df1.columns.droplevel(0)\n",
    "df1 = df1.groupby([\"MissingRate\"]).agg( {\"Accuracy\":[\"mean\", \"std\"]})#.reset_index()\n",
    "df1"
   ],
   "metadata": {
    "collapsed": false,
    "pycharm": {
     "name": "#%%\n"
    }
   }
  },
  {
   "cell_type": "code",
   "execution_count": 11,
   "outputs": [
    {
     "data": {
      "text/plain": "                  Accuracy          \n                      mean       std\nFold MissingRate                    \n1    0.01         0.991718  0.010755\n     0.05         0.991336  0.005688\n     0.10         0.991071  0.004740\n     0.20         0.990647  0.004160\n2    0.01         0.990284  0.012965\n     0.05         0.991008  0.006433\n     0.10         0.990734  0.005270\n     0.20         0.990504  0.004533\n3    0.01         0.991708  0.010889\n     0.05         0.991546  0.005671\n     0.10         0.991131  0.004975\n     0.20         0.990867  0.004212",
      "text/html": "<div>\n<style scoped>\n    .dataframe tbody tr th:only-of-type {\n        vertical-align: middle;\n    }\n\n    .dataframe tbody tr th {\n        vertical-align: top;\n    }\n\n    .dataframe thead tr th {\n        text-align: left;\n    }\n\n    .dataframe thead tr:last-of-type th {\n        text-align: right;\n    }\n</style>\n<table border=\"1\" class=\"dataframe\">\n  <thead>\n    <tr>\n      <th></th>\n      <th></th>\n      <th colspan=\"2\" halign=\"left\">Accuracy</th>\n    </tr>\n    <tr>\n      <th></th>\n      <th></th>\n      <th>mean</th>\n      <th>std</th>\n    </tr>\n    <tr>\n      <th>Fold</th>\n      <th>MissingRate</th>\n      <th></th>\n      <th></th>\n    </tr>\n  </thead>\n  <tbody>\n    <tr>\n      <th rowspan=\"4\" valign=\"top\">1</th>\n      <th>0.01</th>\n      <td>0.991718</td>\n      <td>0.010755</td>\n    </tr>\n    <tr>\n      <th>0.05</th>\n      <td>0.991336</td>\n      <td>0.005688</td>\n    </tr>\n    <tr>\n      <th>0.10</th>\n      <td>0.991071</td>\n      <td>0.004740</td>\n    </tr>\n    <tr>\n      <th>0.20</th>\n      <td>0.990647</td>\n      <td>0.004160</td>\n    </tr>\n    <tr>\n      <th rowspan=\"4\" valign=\"top\">2</th>\n      <th>0.01</th>\n      <td>0.990284</td>\n      <td>0.012965</td>\n    </tr>\n    <tr>\n      <th>0.05</th>\n      <td>0.991008</td>\n      <td>0.006433</td>\n    </tr>\n    <tr>\n      <th>0.10</th>\n      <td>0.990734</td>\n      <td>0.005270</td>\n    </tr>\n    <tr>\n      <th>0.20</th>\n      <td>0.990504</td>\n      <td>0.004533</td>\n    </tr>\n    <tr>\n      <th rowspan=\"4\" valign=\"top\">3</th>\n      <th>0.01</th>\n      <td>0.991708</td>\n      <td>0.010889</td>\n    </tr>\n    <tr>\n      <th>0.05</th>\n      <td>0.991546</td>\n      <td>0.005671</td>\n    </tr>\n    <tr>\n      <th>0.10</th>\n      <td>0.991131</td>\n      <td>0.004975</td>\n    </tr>\n    <tr>\n      <th>0.20</th>\n      <td>0.990867</td>\n      <td>0.004212</td>\n    </tr>\n  </tbody>\n</table>\n</div>"
     },
     "execution_count": 11,
     "metadata": {},
     "output_type": "execute_result"
    }
   ],
   "source": [
    "df1 = df.groupby([\"Fold\", \"MissingRate\", \"Sample ID\"]).agg( {\"Accuracy\":\"mean\"}).reset_index()\n",
    "df1 = df1.groupby([\"Fold\", \"MissingRate\"]).agg( {\"Accuracy\":[\"mean\", \"std\"]})# df1.columns = df1.columns.droplevel(0)\n",
    "df1"
   ],
   "metadata": {
    "collapsed": false,
    "pycharm": {
     "name": "#%%\n"
    }
   }
  },
  {
   "cell_type": "code",
   "execution_count": null,
   "outputs": [],
   "source": [
    "print(\n",
    "df.groupby([\"MissingRate\", \"MAF\"]).agg( {\"Accuracy\":[\"mean\", \"std\"]}).round({'mean': 4})\n",
    "    .to_latex(multirow=True)\n",
    ")"
   ],
   "metadata": {
    "collapsed": false,
    "pycharm": {
     "name": "#%%\n"
    }
   }
  },
  {
   "cell_type": "code",
   "execution_count": 14,
   "outputs": [
    {
     "name": "stdout",
     "output_type": "stream",
     "text": [
      "Fold: 1\n"
     ]
    },
    {
     "name": "stderr",
     "output_type": "stream",
     "text": [
      "100%|██████████| 835/835 [00:03<00:00, 275.99it/s]\n",
      "100%|██████████| 835/835 [00:08<00:00, 94.06it/s] \n",
      "100%|██████████| 835/835 [00:15<00:00, 53.34it/s]\n",
      "100%|██████████| 835/835 [00:29<00:00, 28.53it/s]\n"
     ]
    },
    {
     "name": "stdout",
     "output_type": "stream",
     "text": [
      "Fold: 2\n"
     ]
    },
    {
     "name": "stderr",
     "output_type": "stream",
     "text": [
      "100%|██████████| 835/835 [00:03<00:00, 277.46it/s]\n",
      "100%|██████████| 835/835 [00:08<00:00, 96.48it/s] \n",
      "100%|██████████| 835/835 [00:14<00:00, 56.81it/s] \n",
      "100%|██████████| 835/835 [00:30<00:00, 27.73it/s]\n"
     ]
    },
    {
     "name": "stdout",
     "output_type": "stream",
     "text": [
      "Fold: 3\n"
     ]
    },
    {
     "name": "stderr",
     "output_type": "stream",
     "text": [
      "100%|██████████| 834/834 [00:02<00:00, 295.10it/s]\n",
      "100%|██████████| 834/834 [00:08<00:00, 94.99it/s] \n",
      "100%|██████████| 834/834 [00:16<00:00, 51.46it/s]\n",
      "100%|██████████| 834/834 [00:28<00:00, 29.15it/s]\n"
     ]
    },
    {
     "name": "stdout",
     "output_type": "stream",
     "text": [
      "Combining the results...\n"
     ]
    },
    {
     "name": "stderr",
     "output_type": "stream",
     "text": [
      "12it [00:01,  9.09it/s]\n"
     ]
    },
    {
     "data": {
      "text/plain": "        Fold MissingRate  MAF Accuracy Sample ID\n0          1        0.01  0.5        1   NA21144\n1          1        0.01  0.1        1   NA21144\n2          1        0.01  0.2        1   NA21144\n3          1        0.01  0.5        1   NA21144\n4          1        0.01  0.5        1   NA21144\n...      ...         ...  ...      ...       ...\n6452803    3         0.2  0.4        1   HG00097\n6452804    3         0.2  0.1        1   HG00097\n6452805    3         0.2  0.4        1   HG00097\n6452806    3         0.2  0.5        1   HG00097\n6452807    3         0.2  0.1        1   HG00097\n\n[6452808 rows x 5 columns]",
      "text/html": "<div>\n<style scoped>\n    .dataframe tbody tr th:only-of-type {\n        vertical-align: middle;\n    }\n\n    .dataframe tbody tr th {\n        vertical-align: top;\n    }\n\n    .dataframe thead th {\n        text-align: right;\n    }\n</style>\n<table border=\"1\" class=\"dataframe\">\n  <thead>\n    <tr style=\"text-align: right;\">\n      <th></th>\n      <th>Fold</th>\n      <th>MissingRate</th>\n      <th>MAF</th>\n      <th>Accuracy</th>\n      <th>Sample ID</th>\n    </tr>\n  </thead>\n  <tbody>\n    <tr>\n      <th>0</th>\n      <td>1</td>\n      <td>0.01</td>\n      <td>0.5</td>\n      <td>1</td>\n      <td>NA21144</td>\n    </tr>\n    <tr>\n      <th>1</th>\n      <td>1</td>\n      <td>0.01</td>\n      <td>0.1</td>\n      <td>1</td>\n      <td>NA21144</td>\n    </tr>\n    <tr>\n      <th>2</th>\n      <td>1</td>\n      <td>0.01</td>\n      <td>0.2</td>\n      <td>1</td>\n      <td>NA21144</td>\n    </tr>\n    <tr>\n      <th>3</th>\n      <td>1</td>\n      <td>0.01</td>\n      <td>0.5</td>\n      <td>1</td>\n      <td>NA21144</td>\n    </tr>\n    <tr>\n      <th>4</th>\n      <td>1</td>\n      <td>0.01</td>\n      <td>0.5</td>\n      <td>1</td>\n      <td>NA21144</td>\n    </tr>\n    <tr>\n      <th>...</th>\n      <td>...</td>\n      <td>...</td>\n      <td>...</td>\n      <td>...</td>\n      <td>...</td>\n    </tr>\n    <tr>\n      <th>6452803</th>\n      <td>3</td>\n      <td>0.2</td>\n      <td>0.4</td>\n      <td>1</td>\n      <td>HG00097</td>\n    </tr>\n    <tr>\n      <th>6452804</th>\n      <td>3</td>\n      <td>0.2</td>\n      <td>0.1</td>\n      <td>1</td>\n      <td>HG00097</td>\n    </tr>\n    <tr>\n      <th>6452805</th>\n      <td>3</td>\n      <td>0.2</td>\n      <td>0.4</td>\n      <td>1</td>\n      <td>HG00097</td>\n    </tr>\n    <tr>\n      <th>6452806</th>\n      <td>3</td>\n      <td>0.2</td>\n      <td>0.5</td>\n      <td>1</td>\n      <td>HG00097</td>\n    </tr>\n    <tr>\n      <th>6452807</th>\n      <td>3</td>\n      <td>0.2</td>\n      <td>0.1</td>\n      <td>1</td>\n      <td>HG00097</td>\n    </tr>\n  </tbody>\n</table>\n<p>6452808 rows × 5 columns</p>\n</div>"
     },
     "execution_count": 14,
     "metadata": {},
     "output_type": "execute_result"
    }
   ],
   "source": [
    "columns = [\"Fold\", \"MissingRate\", \"MAF\", \"Accuracy\", \"Sample ID\"]\n",
    "dfs = []\n",
    "N_SPLITS=3\n",
    "kf = KFold(n_splits=N_SPLITS, shuffle=True, random_state=2022)\n",
    "fold = 0\n",
    "_x = X[X.index.isin(Y_train.index)].to_numpy()\n",
    "for train_index, test_index in kf.split(_x):\n",
    "  fold += 1\n",
    "  print(f\"Fold: {fold}\")\n",
    "  y = _x[test_index]\n",
    "  for missing_perc in [0.01,\n",
    "                       0.05,\n",
    "                       0.1,\n",
    "                       0.2]:\n",
    "    dataframe = pd.DataFrame(columns = columns)\n",
    "    file_name = f\"./experimental_results/hla/maf/STI_wo_emb/preds_mixed_mr_{missing_perc}_rs_{fold}_.csv\"\n",
    "    result_genotypes = pd.read_csv(file_name, index_col=0)\n",
    "    result_genotypes = result_genotypes.replace({\n",
    "        '0|0': 0,\n",
    "        '0|1': 1,\n",
    "        '1|0': 2,\n",
    "        '1|1': 3\n",
    "    })\n",
    "    yhat = result_genotypes.to_numpy()\n",
    "    assert y.shape == yhat.shape\n",
    "    for i in tqdm(list(range(y.shape[0]))):\n",
    "        missing_index, _ = train_test_split(np.arange(y.shape[1]), train_size=missing_perc,\n",
    "                                            random_state=i + fold,\n",
    "                                            shuffle=True,\n",
    "                                            stratify=bin_labels)\n",
    "        a = np.reshape(maf_bin_labels[missing_index], (-1, 1))\n",
    "        b = np.array([fold for _ in missing_index]).reshape((-1, 1))\n",
    "        c = np.array([missing_perc for _ in missing_index]).reshape((-1, 1))\n",
    "        d = (yhat[i, missing_index]==y[i, missing_index]).astype(int).reshape((-1, 1))\n",
    "        e = np.array([X.index[test_index][i] for _ in missing_index]).astype(object).reshape((-1, 1))\n",
    "        dataframe = pd.concat([pd.DataFrame(np.concatenate([b,c,a,d,e], axis=1), columns=dataframe.columns), dataframe], ignore_index=True)\n",
    "    dfs.append(dataframe)\n",
    "\n",
    "df = pd.DataFrame(columns = columns)\n",
    "print(\"Combining the results...\")\n",
    "for i, dff in tqdm(enumerate(dfs)):\n",
    "    df = pd.concat([df, dff], ignore_index=True)\n",
    "del dfs\n",
    "\n",
    "df"
   ],
   "metadata": {
    "collapsed": false,
    "pycharm": {
     "name": "#%%\n"
    }
   }
  },
  {
   "cell_type": "code",
   "execution_count": 15,
   "outputs": [],
   "source": [
    "df.to_csv(\"results_in_table/hla/maf/HLA_MAF_STI_wo_emb.csv\")"
   ],
   "metadata": {
    "collapsed": false,
    "pycharm": {
     "name": "#%%\n"
    }
   }
  },
  {
   "cell_type": "code",
   "execution_count": 16,
   "outputs": [
    {
     "data": {
      "text/plain": "                 Accuracy          \n                     mean       std\nMissingRate MAF                    \n0.01        0.1  0.989772  0.001533\n            0.2  0.989112  0.000357\n            0.3  0.983288  0.001001\n            0.4  0.975728  0.001214\n            0.5  0.986555  0.001754\n0.05        0.1  0.990152  0.000683\n            0.2  0.989011  0.000271\n            0.3  0.983792  0.000813\n            0.4  0.977697  0.001102\n            0.5  0.986621  0.001050\n0.10        0.1  0.990095  0.000625\n            0.2  0.989090  0.000500\n            0.3  0.983909  0.000893\n            0.4  0.977666  0.000809\n            0.5  0.986232  0.000840\n0.20        0.1  0.989950  0.000606\n            0.2  0.988851  0.000328\n            0.3  0.983436  0.000978\n            0.4  0.976942  0.000721\n            0.5  0.985902  0.000645",
      "text/html": "<div>\n<style scoped>\n    .dataframe tbody tr th:only-of-type {\n        vertical-align: middle;\n    }\n\n    .dataframe tbody tr th {\n        vertical-align: top;\n    }\n\n    .dataframe thead tr th {\n        text-align: left;\n    }\n\n    .dataframe thead tr:last-of-type th {\n        text-align: right;\n    }\n</style>\n<table border=\"1\" class=\"dataframe\">\n  <thead>\n    <tr>\n      <th></th>\n      <th></th>\n      <th colspan=\"2\" halign=\"left\">Accuracy</th>\n    </tr>\n    <tr>\n      <th></th>\n      <th></th>\n      <th>mean</th>\n      <th>std</th>\n    </tr>\n    <tr>\n      <th>MissingRate</th>\n      <th>MAF</th>\n      <th></th>\n      <th></th>\n    </tr>\n  </thead>\n  <tbody>\n    <tr>\n      <th rowspan=\"5\" valign=\"top\">0.01</th>\n      <th>0.1</th>\n      <td>0.989772</td>\n      <td>0.001533</td>\n    </tr>\n    <tr>\n      <th>0.2</th>\n      <td>0.989112</td>\n      <td>0.000357</td>\n    </tr>\n    <tr>\n      <th>0.3</th>\n      <td>0.983288</td>\n      <td>0.001001</td>\n    </tr>\n    <tr>\n      <th>0.4</th>\n      <td>0.975728</td>\n      <td>0.001214</td>\n    </tr>\n    <tr>\n      <th>0.5</th>\n      <td>0.986555</td>\n      <td>0.001754</td>\n    </tr>\n    <tr>\n      <th rowspan=\"5\" valign=\"top\">0.05</th>\n      <th>0.1</th>\n      <td>0.990152</td>\n      <td>0.000683</td>\n    </tr>\n    <tr>\n      <th>0.2</th>\n      <td>0.989011</td>\n      <td>0.000271</td>\n    </tr>\n    <tr>\n      <th>0.3</th>\n      <td>0.983792</td>\n      <td>0.000813</td>\n    </tr>\n    <tr>\n      <th>0.4</th>\n      <td>0.977697</td>\n      <td>0.001102</td>\n    </tr>\n    <tr>\n      <th>0.5</th>\n      <td>0.986621</td>\n      <td>0.001050</td>\n    </tr>\n    <tr>\n      <th rowspan=\"5\" valign=\"top\">0.10</th>\n      <th>0.1</th>\n      <td>0.990095</td>\n      <td>0.000625</td>\n    </tr>\n    <tr>\n      <th>0.2</th>\n      <td>0.989090</td>\n      <td>0.000500</td>\n    </tr>\n    <tr>\n      <th>0.3</th>\n      <td>0.983909</td>\n      <td>0.000893</td>\n    </tr>\n    <tr>\n      <th>0.4</th>\n      <td>0.977666</td>\n      <td>0.000809</td>\n    </tr>\n    <tr>\n      <th>0.5</th>\n      <td>0.986232</td>\n      <td>0.000840</td>\n    </tr>\n    <tr>\n      <th rowspan=\"5\" valign=\"top\">0.20</th>\n      <th>0.1</th>\n      <td>0.989950</td>\n      <td>0.000606</td>\n    </tr>\n    <tr>\n      <th>0.2</th>\n      <td>0.988851</td>\n      <td>0.000328</td>\n    </tr>\n    <tr>\n      <th>0.3</th>\n      <td>0.983436</td>\n      <td>0.000978</td>\n    </tr>\n    <tr>\n      <th>0.4</th>\n      <td>0.976942</td>\n      <td>0.000721</td>\n    </tr>\n    <tr>\n      <th>0.5</th>\n      <td>0.985902</td>\n      <td>0.000645</td>\n    </tr>\n  </tbody>\n</table>\n</div>"
     },
     "execution_count": 16,
     "metadata": {},
     "output_type": "execute_result"
    }
   ],
   "source": [
    "df1 = df.groupby([\"Fold\", \"MissingRate\", \"MAF\", \"Sample ID\"]).agg( {\"Accuracy\":\"mean\"}).reset_index()\n",
    "df1 = df1.groupby([\"Fold\", \"MissingRate\", \"MAF\"]).agg( {\"Accuracy\":\"mean\"}).reset_index()# df1.columns = df1.columns.droplevel(0)\n",
    "df1 = df1.groupby([\"MissingRate\", \"MAF\"]).agg( {\"Accuracy\":[\"mean\", \"std\"]})#.reset_index()\n",
    "df1"
   ],
   "metadata": {
    "collapsed": false,
    "pycharm": {
     "name": "#%%\n"
    }
   }
  },
  {
   "cell_type": "code",
   "execution_count": 17,
   "outputs": [
    {
     "data": {
      "text/plain": "             Accuracy          \n                 mean       std\nMissingRate                    \n0.01         0.986084  0.000918\n0.05         0.986476  0.000603\n0.10         0.986433  0.000682\n0.20         0.986110  0.000590",
      "text/html": "<div>\n<style scoped>\n    .dataframe tbody tr th:only-of-type {\n        vertical-align: middle;\n    }\n\n    .dataframe tbody tr th {\n        vertical-align: top;\n    }\n\n    .dataframe thead tr th {\n        text-align: left;\n    }\n\n    .dataframe thead tr:last-of-type th {\n        text-align: right;\n    }\n</style>\n<table border=\"1\" class=\"dataframe\">\n  <thead>\n    <tr>\n      <th></th>\n      <th colspan=\"2\" halign=\"left\">Accuracy</th>\n    </tr>\n    <tr>\n      <th></th>\n      <th>mean</th>\n      <th>std</th>\n    </tr>\n    <tr>\n      <th>MissingRate</th>\n      <th></th>\n      <th></th>\n    </tr>\n  </thead>\n  <tbody>\n    <tr>\n      <th>0.01</th>\n      <td>0.986084</td>\n      <td>0.000918</td>\n    </tr>\n    <tr>\n      <th>0.05</th>\n      <td>0.986476</td>\n      <td>0.000603</td>\n    </tr>\n    <tr>\n      <th>0.10</th>\n      <td>0.986433</td>\n      <td>0.000682</td>\n    </tr>\n    <tr>\n      <th>0.20</th>\n      <td>0.986110</td>\n      <td>0.000590</td>\n    </tr>\n  </tbody>\n</table>\n</div>"
     },
     "execution_count": 17,
     "metadata": {},
     "output_type": "execute_result"
    }
   ],
   "source": [
    "# df.groupby([\"MissingRate\"]).agg( {\"Accuracy\":[\"mean\", \"std\"]}).round({'mean': 4})#.rename(columns={\"Accuracy\": \"Max Accuracy\"})\n",
    "\n",
    "df1 = df.groupby([\"Fold\", \"MissingRate\", \"Sample ID\"]).agg( {\"Accuracy\":\"mean\"}).reset_index()\n",
    "df1 = df1.groupby([\"Fold\", \"MissingRate\"]).agg( {\"Accuracy\":\"mean\"}).reset_index()# df1.columns = df1.columns.droplevel(0)\n",
    "df1 = df1.groupby([\"MissingRate\"]).agg( {\"Accuracy\":[\"mean\", \"std\"]})#.reset_index()\n",
    "df1"
   ],
   "metadata": {
    "collapsed": false,
    "pycharm": {
     "name": "#%%\n"
    }
   }
  },
  {
   "cell_type": "code",
   "execution_count": 18,
   "outputs": [
    {
     "data": {
      "text/plain": "                  Accuracy          \n                      mean       std\nFold MissingRate                    \n1    0.01         0.986759  0.013665\n     0.05         0.986997  0.007322\n     0.10         0.987111  0.005876\n     0.20         0.986774  0.005627\n2    0.01         0.985038  0.015289\n     0.05         0.985816  0.008454\n     0.10         0.985746  0.007092\n     0.20         0.985648  0.006593\n3    0.01         0.986456  0.015220\n     0.05         0.986616  0.007974\n     0.10         0.986444  0.006749\n     0.20         0.985907  0.006342",
      "text/html": "<div>\n<style scoped>\n    .dataframe tbody tr th:only-of-type {\n        vertical-align: middle;\n    }\n\n    .dataframe tbody tr th {\n        vertical-align: top;\n    }\n\n    .dataframe thead tr th {\n        text-align: left;\n    }\n\n    .dataframe thead tr:last-of-type th {\n        text-align: right;\n    }\n</style>\n<table border=\"1\" class=\"dataframe\">\n  <thead>\n    <tr>\n      <th></th>\n      <th></th>\n      <th colspan=\"2\" halign=\"left\">Accuracy</th>\n    </tr>\n    <tr>\n      <th></th>\n      <th></th>\n      <th>mean</th>\n      <th>std</th>\n    </tr>\n    <tr>\n      <th>Fold</th>\n      <th>MissingRate</th>\n      <th></th>\n      <th></th>\n    </tr>\n  </thead>\n  <tbody>\n    <tr>\n      <th rowspan=\"4\" valign=\"top\">1</th>\n      <th>0.01</th>\n      <td>0.986759</td>\n      <td>0.013665</td>\n    </tr>\n    <tr>\n      <th>0.05</th>\n      <td>0.986997</td>\n      <td>0.007322</td>\n    </tr>\n    <tr>\n      <th>0.10</th>\n      <td>0.987111</td>\n      <td>0.005876</td>\n    </tr>\n    <tr>\n      <th>0.20</th>\n      <td>0.986774</td>\n      <td>0.005627</td>\n    </tr>\n    <tr>\n      <th rowspan=\"4\" valign=\"top\">2</th>\n      <th>0.01</th>\n      <td>0.985038</td>\n      <td>0.015289</td>\n    </tr>\n    <tr>\n      <th>0.05</th>\n      <td>0.985816</td>\n      <td>0.008454</td>\n    </tr>\n    <tr>\n      <th>0.10</th>\n      <td>0.985746</td>\n      <td>0.007092</td>\n    </tr>\n    <tr>\n      <th>0.20</th>\n      <td>0.985648</td>\n      <td>0.006593</td>\n    </tr>\n    <tr>\n      <th rowspan=\"4\" valign=\"top\">3</th>\n      <th>0.01</th>\n      <td>0.986456</td>\n      <td>0.015220</td>\n    </tr>\n    <tr>\n      <th>0.05</th>\n      <td>0.986616</td>\n      <td>0.007974</td>\n    </tr>\n    <tr>\n      <th>0.10</th>\n      <td>0.986444</td>\n      <td>0.006749</td>\n    </tr>\n    <tr>\n      <th>0.20</th>\n      <td>0.985907</td>\n      <td>0.006342</td>\n    </tr>\n  </tbody>\n</table>\n</div>"
     },
     "execution_count": 18,
     "metadata": {},
     "output_type": "execute_result"
    }
   ],
   "source": [
    "df1 = df.groupby([\"Fold\", \"MissingRate\", \"Sample ID\"]).agg( {\"Accuracy\":\"mean\"}).reset_index()\n",
    "df1 = df1.groupby([\"Fold\", \"MissingRate\"]).agg( {\"Accuracy\":[\"mean\", \"std\"]})# df1.columns = df1.columns.droplevel(0)\n",
    "df1"
   ],
   "metadata": {
    "collapsed": false,
    "pycharm": {
     "name": "#%%\n"
    }
   }
  },
  {
   "cell_type": "code",
   "execution_count": null,
   "outputs": [],
   "source": [],
   "metadata": {
    "collapsed": false,
    "pycharm": {
     "name": "#%%\n"
    }
   }
  }
 ],
 "metadata": {
  "kernelspec": {
   "display_name": "Python 3",
   "language": "python",
   "name": "python3"
  },
  "language_info": {
   "codemirror_mode": {
    "name": "ipython",
    "version": 2
   },
   "file_extension": ".py",
   "mimetype": "text/x-python",
   "name": "python",
   "nbconvert_exporter": "python",
   "pygments_lexer": "ipython2",
   "version": "2.7.6"
  }
 },
 "nbformat": 4,
 "nbformat_minor": 0
}