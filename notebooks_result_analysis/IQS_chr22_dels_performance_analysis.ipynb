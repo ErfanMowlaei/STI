{
 "cells": [
  {
   "cell_type": "code",
   "execution_count": 13,
   "metadata": {
    "collapsed": true
   },
   "outputs": [],
   "source": [
    "import os\n",
    "import numpy as np\n",
    "import pandas as pd\n",
    "import ast\n",
    "import math\n",
    "import re\n",
    "import itertools\n",
    "import random\n",
    "import json\n",
    "import matplotlib\n",
    "from matplotlib.pyplot import plot as plt\n",
    "from pylab import *\n",
    "mpl.use(\"pgf\")\n",
    "# activate latex text rendering\n",
    "rc('text', usetex=True)\n",
    "rc('axes', linewidth=2)\n",
    "rc('font', weight='bold')\n",
    "mpl.rcParams.update({\n",
    "    \"pgf.texsystem\": \"pdflatex\",\n",
    "    'font.family': 'serif',\n",
    "    'text.usetex': True,\n",
    "    'pgf.rcfonts': False,\n",
    "    'text.latex.preamble':r'\\usepackage{sfmath} \\boldmath'\n",
    "})\n",
    "%matplotlib inline\n",
    "import seaborn as sns\n",
    "sns.set_theme(style=\"whitegrid\")\n",
    "from sklearn.model_selection import KFold,StratifiedKFold\n",
    "from sklearn.model_selection import train_test_split\n",
    "from tqdm import tqdm\n",
    "# sns.set_theme(style=\"ticks\")\n"
   ]
  },
  {
   "cell_type": "code",
   "execution_count": 14,
   "outputs": [
    {
     "data": {
      "text/plain": "         0    1    2    3    4    5    6    7    8    9    ...  563  564  565  \\\nHG00096  0|0  0|0  0|0  0|0  0|0  0|0  1|1  0|0  0|0  0|0  ...  0|0  0|1  0|0   \nHG00097  0|0  0|0  0|0  0|0  0|0  0|0  1|0  0|0  0|0  0|0  ...  0|0  0|1  0|0   \nHG00099  0|0  0|0  0|0  0|0  0|0  0|0  1|0  0|0  0|0  0|0  ...  0|0  0|0  0|0   \nHG00100  0|0  0|0  0|0  0|0  0|0  0|0  1|0  0|0  0|0  0|0  ...  0|0  0|0  0|0   \nHG00101  0|0  0|0  0|0  0|0  0|0  0|0  1|0  0|0  0|0  0|0  ...  0|0  0|0  0|0   \n...      ...  ...  ...  ...  ...  ...  ...  ...  ...  ...  ...  ...  ...  ...   \nNA21137  0|0  0|0  0|0  0|0  0|0  0|0  0|0  0|0  0|0  0|0  ...  0|0  0|0  0|0   \nNA21141  0|0  0|0  0|0  0|0  0|0  0|0  1|0  0|0  0|0  0|0  ...  0|0  1|0  0|0   \nNA21142  0|0  0|0  0|0  0|0  0|0  0|0  0|1  0|0  0|0  0|0  ...  0|0  1|0  0|0   \nNA21143  0|0  0|0  0|0  0|0  0|0  0|0  1|0  0|0  0|0  0|0  ...  0|0  0|1  0|0   \nNA21144  0|0  0|0  0|0  0|0  0|0  0|0  0|0  0|0  0|0  0|0  ...  0|0  0|0  0|0   \n\n         566  567  568  569  570  571  572  \nHG00096  0|0  0|0  0|0  0|0  0|0  0|0  0|0  \nHG00097  0|0  0|0  0|0  0|0  0|0  0|0  0|0  \nHG00099  0|0  0|0  0|0  0|0  0|0  0|0  0|0  \nHG00100  0|0  0|0  0|0  0|0  0|0  0|0  0|0  \nHG00101  0|0  0|0  0|0  0|0  0|0  0|0  0|0  \n...      ...  ...  ...  ...  ...  ...  ...  \nNA21137  0|0  0|0  0|0  0|0  0|0  0|0  0|0  \nNA21141  0|0  0|0  0|0  0|0  0|0  0|0  0|0  \nNA21142  0|0  0|0  0|0  0|0  0|0  0|0  0|0  \nNA21143  0|0  0|0  0|0  0|0  0|0  0|0  0|0  \nNA21144  0|0  0|0  0|0  0|0  0|0  0|0  0|0  \n\n[2504 rows x 573 columns]",
      "text/html": "<div>\n<style scoped>\n    .dataframe tbody tr th:only-of-type {\n        vertical-align: middle;\n    }\n\n    .dataframe tbody tr th {\n        vertical-align: top;\n    }\n\n    .dataframe thead th {\n        text-align: right;\n    }\n</style>\n<table border=\"1\" class=\"dataframe\">\n  <thead>\n    <tr style=\"text-align: right;\">\n      <th></th>\n      <th>0</th>\n      <th>1</th>\n      <th>2</th>\n      <th>3</th>\n      <th>4</th>\n      <th>5</th>\n      <th>6</th>\n      <th>7</th>\n      <th>8</th>\n      <th>9</th>\n      <th>...</th>\n      <th>563</th>\n      <th>564</th>\n      <th>565</th>\n      <th>566</th>\n      <th>567</th>\n      <th>568</th>\n      <th>569</th>\n      <th>570</th>\n      <th>571</th>\n      <th>572</th>\n    </tr>\n  </thead>\n  <tbody>\n    <tr>\n      <th>HG00096</th>\n      <td>0|0</td>\n      <td>0|0</td>\n      <td>0|0</td>\n      <td>0|0</td>\n      <td>0|0</td>\n      <td>0|0</td>\n      <td>1|1</td>\n      <td>0|0</td>\n      <td>0|0</td>\n      <td>0|0</td>\n      <td>...</td>\n      <td>0|0</td>\n      <td>0|1</td>\n      <td>0|0</td>\n      <td>0|0</td>\n      <td>0|0</td>\n      <td>0|0</td>\n      <td>0|0</td>\n      <td>0|0</td>\n      <td>0|0</td>\n      <td>0|0</td>\n    </tr>\n    <tr>\n      <th>HG00097</th>\n      <td>0|0</td>\n      <td>0|0</td>\n      <td>0|0</td>\n      <td>0|0</td>\n      <td>0|0</td>\n      <td>0|0</td>\n      <td>1|0</td>\n      <td>0|0</td>\n      <td>0|0</td>\n      <td>0|0</td>\n      <td>...</td>\n      <td>0|0</td>\n      <td>0|1</td>\n      <td>0|0</td>\n      <td>0|0</td>\n      <td>0|0</td>\n      <td>0|0</td>\n      <td>0|0</td>\n      <td>0|0</td>\n      <td>0|0</td>\n      <td>0|0</td>\n    </tr>\n    <tr>\n      <th>HG00099</th>\n      <td>0|0</td>\n      <td>0|0</td>\n      <td>0|0</td>\n      <td>0|0</td>\n      <td>0|0</td>\n      <td>0|0</td>\n      <td>1|0</td>\n      <td>0|0</td>\n      <td>0|0</td>\n      <td>0|0</td>\n      <td>...</td>\n      <td>0|0</td>\n      <td>0|0</td>\n      <td>0|0</td>\n      <td>0|0</td>\n      <td>0|0</td>\n      <td>0|0</td>\n      <td>0|0</td>\n      <td>0|0</td>\n      <td>0|0</td>\n      <td>0|0</td>\n    </tr>\n    <tr>\n      <th>HG00100</th>\n      <td>0|0</td>\n      <td>0|0</td>\n      <td>0|0</td>\n      <td>0|0</td>\n      <td>0|0</td>\n      <td>0|0</td>\n      <td>1|0</td>\n      <td>0|0</td>\n      <td>0|0</td>\n      <td>0|0</td>\n      <td>...</td>\n      <td>0|0</td>\n      <td>0|0</td>\n      <td>0|0</td>\n      <td>0|0</td>\n      <td>0|0</td>\n      <td>0|0</td>\n      <td>0|0</td>\n      <td>0|0</td>\n      <td>0|0</td>\n      <td>0|0</td>\n    </tr>\n    <tr>\n      <th>HG00101</th>\n      <td>0|0</td>\n      <td>0|0</td>\n      <td>0|0</td>\n      <td>0|0</td>\n      <td>0|0</td>\n      <td>0|0</td>\n      <td>1|0</td>\n      <td>0|0</td>\n      <td>0|0</td>\n      <td>0|0</td>\n      <td>...</td>\n      <td>0|0</td>\n      <td>0|0</td>\n      <td>0|0</td>\n      <td>0|0</td>\n      <td>0|0</td>\n      <td>0|0</td>\n      <td>0|0</td>\n      <td>0|0</td>\n      <td>0|0</td>\n      <td>0|0</td>\n    </tr>\n    <tr>\n      <th>...</th>\n      <td>...</td>\n      <td>...</td>\n      <td>...</td>\n      <td>...</td>\n      <td>...</td>\n      <td>...</td>\n      <td>...</td>\n      <td>...</td>\n      <td>...</td>\n      <td>...</td>\n      <td>...</td>\n      <td>...</td>\n      <td>...</td>\n      <td>...</td>\n      <td>...</td>\n      <td>...</td>\n      <td>...</td>\n      <td>...</td>\n      <td>...</td>\n      <td>...</td>\n      <td>...</td>\n    </tr>\n    <tr>\n      <th>NA21137</th>\n      <td>0|0</td>\n      <td>0|0</td>\n      <td>0|0</td>\n      <td>0|0</td>\n      <td>0|0</td>\n      <td>0|0</td>\n      <td>0|0</td>\n      <td>0|0</td>\n      <td>0|0</td>\n      <td>0|0</td>\n      <td>...</td>\n      <td>0|0</td>\n      <td>0|0</td>\n      <td>0|0</td>\n      <td>0|0</td>\n      <td>0|0</td>\n      <td>0|0</td>\n      <td>0|0</td>\n      <td>0|0</td>\n      <td>0|0</td>\n      <td>0|0</td>\n    </tr>\n    <tr>\n      <th>NA21141</th>\n      <td>0|0</td>\n      <td>0|0</td>\n      <td>0|0</td>\n      <td>0|0</td>\n      <td>0|0</td>\n      <td>0|0</td>\n      <td>1|0</td>\n      <td>0|0</td>\n      <td>0|0</td>\n      <td>0|0</td>\n      <td>...</td>\n      <td>0|0</td>\n      <td>1|0</td>\n      <td>0|0</td>\n      <td>0|0</td>\n      <td>0|0</td>\n      <td>0|0</td>\n      <td>0|0</td>\n      <td>0|0</td>\n      <td>0|0</td>\n      <td>0|0</td>\n    </tr>\n    <tr>\n      <th>NA21142</th>\n      <td>0|0</td>\n      <td>0|0</td>\n      <td>0|0</td>\n      <td>0|0</td>\n      <td>0|0</td>\n      <td>0|0</td>\n      <td>0|1</td>\n      <td>0|0</td>\n      <td>0|0</td>\n      <td>0|0</td>\n      <td>...</td>\n      <td>0|0</td>\n      <td>1|0</td>\n      <td>0|0</td>\n      <td>0|0</td>\n      <td>0|0</td>\n      <td>0|0</td>\n      <td>0|0</td>\n      <td>0|0</td>\n      <td>0|0</td>\n      <td>0|0</td>\n    </tr>\n    <tr>\n      <th>NA21143</th>\n      <td>0|0</td>\n      <td>0|0</td>\n      <td>0|0</td>\n      <td>0|0</td>\n      <td>0|0</td>\n      <td>0|0</td>\n      <td>1|0</td>\n      <td>0|0</td>\n      <td>0|0</td>\n      <td>0|0</td>\n      <td>...</td>\n      <td>0|0</td>\n      <td>0|1</td>\n      <td>0|0</td>\n      <td>0|0</td>\n      <td>0|0</td>\n      <td>0|0</td>\n      <td>0|0</td>\n      <td>0|0</td>\n      <td>0|0</td>\n      <td>0|0</td>\n    </tr>\n    <tr>\n      <th>NA21144</th>\n      <td>0|0</td>\n      <td>0|0</td>\n      <td>0|0</td>\n      <td>0|0</td>\n      <td>0|0</td>\n      <td>0|0</td>\n      <td>0|0</td>\n      <td>0|0</td>\n      <td>0|0</td>\n      <td>0|0</td>\n      <td>...</td>\n      <td>0|0</td>\n      <td>0|0</td>\n      <td>0|0</td>\n      <td>0|0</td>\n      <td>0|0</td>\n      <td>0|0</td>\n      <td>0|0</td>\n      <td>0|0</td>\n      <td>0|0</td>\n      <td>0|0</td>\n    </tr>\n  </tbody>\n</table>\n<p>2504 rows × 573 columns</p>\n</div>"
     },
     "execution_count": 14,
     "metadata": {},
     "output_type": "execute_result"
    }
   ],
   "source": [
    "# load data\n",
    "root_dir = './data/'\n",
    "new_data_header = \"\"\n",
    "# get header\n",
    "with open(root_dir + \"DELL.chr22.genotypes.full.vcf\", 'r') as f_in:\n",
    "    # skip info\n",
    "    for line_num in range(70):\n",
    "        f_in.readline()\n",
    "\n",
    "    new_data_header = f_in.readline()\n",
    "# load data\n",
    "\n",
    "# load genotype\n",
    "genotypes = pd.read_csv(root_dir + \"DELL.chr22.genotypes.full.vcf\",\n",
    "                        comment='#', sep='\\t',\n",
    "                        names=new_data_header.strip().split('\\t'),\n",
    "                        header=None).iloc[:, 9:].T\n",
    "\n",
    "headers = genotypes.columns[:]\n",
    "genotypes\n"
   ],
   "metadata": {
    "collapsed": false,
    "pycharm": {
     "name": "#%%\n"
    }
   }
  },
  {
   "cell_type": "code",
   "execution_count": 15,
   "outputs": [
    {
     "data": {
      "text/plain": "              Family ID Paternal ID Maternal ID  Gender  Phenotype Population  \\\nIndividual ID                                                                   \nHG00096         HG00096           0           0       1          0        GBR   \nHG00097         HG00097           0           0       2          0        GBR   \nHG00098         HG00098           0           0       1          0        GBR   \nHG00099         HG00099           0           0       2          0        GBR   \nHG00100         HG00100           0           0       2          0        GBR   \n\n              Relationship Siblings Second Order Third Order Children  \\\nIndividual ID                                                           \nHG00096              unrel        0            0           0        0   \nHG00097              unrel        0            0           0        0   \nHG00098              unrel        0            0           0        0   \nHG00099              unrel        0            0           0        0   \nHG00100              unrel        0            0           0        0   \n\n              Other Comments  \nIndividual ID                 \nHG00096                    0  \nHG00097                    0  \nHG00098                    0  \nHG00099                    0  \nHG00100                    0  ",
      "text/html": "<div>\n<style scoped>\n    .dataframe tbody tr th:only-of-type {\n        vertical-align: middle;\n    }\n\n    .dataframe tbody tr th {\n        vertical-align: top;\n    }\n\n    .dataframe thead th {\n        text-align: right;\n    }\n</style>\n<table border=\"1\" class=\"dataframe\">\n  <thead>\n    <tr style=\"text-align: right;\">\n      <th></th>\n      <th>Family ID</th>\n      <th>Paternal ID</th>\n      <th>Maternal ID</th>\n      <th>Gender</th>\n      <th>Phenotype</th>\n      <th>Population</th>\n      <th>Relationship</th>\n      <th>Siblings</th>\n      <th>Second Order</th>\n      <th>Third Order</th>\n      <th>Children</th>\n      <th>Other Comments</th>\n    </tr>\n    <tr>\n      <th>Individual ID</th>\n      <th></th>\n      <th></th>\n      <th></th>\n      <th></th>\n      <th></th>\n      <th></th>\n      <th></th>\n      <th></th>\n      <th></th>\n      <th></th>\n      <th></th>\n      <th></th>\n    </tr>\n  </thead>\n  <tbody>\n    <tr>\n      <th>HG00096</th>\n      <td>HG00096</td>\n      <td>0</td>\n      <td>0</td>\n      <td>1</td>\n      <td>0</td>\n      <td>GBR</td>\n      <td>unrel</td>\n      <td>0</td>\n      <td>0</td>\n      <td>0</td>\n      <td>0</td>\n      <td>0</td>\n    </tr>\n    <tr>\n      <th>HG00097</th>\n      <td>HG00097</td>\n      <td>0</td>\n      <td>0</td>\n      <td>2</td>\n      <td>0</td>\n      <td>GBR</td>\n      <td>unrel</td>\n      <td>0</td>\n      <td>0</td>\n      <td>0</td>\n      <td>0</td>\n      <td>0</td>\n    </tr>\n    <tr>\n      <th>HG00098</th>\n      <td>HG00098</td>\n      <td>0</td>\n      <td>0</td>\n      <td>1</td>\n      <td>0</td>\n      <td>GBR</td>\n      <td>unrel</td>\n      <td>0</td>\n      <td>0</td>\n      <td>0</td>\n      <td>0</td>\n      <td>0</td>\n    </tr>\n    <tr>\n      <th>HG00099</th>\n      <td>HG00099</td>\n      <td>0</td>\n      <td>0</td>\n      <td>2</td>\n      <td>0</td>\n      <td>GBR</td>\n      <td>unrel</td>\n      <td>0</td>\n      <td>0</td>\n      <td>0</td>\n      <td>0</td>\n      <td>0</td>\n    </tr>\n    <tr>\n      <th>HG00100</th>\n      <td>HG00100</td>\n      <td>0</td>\n      <td>0</td>\n      <td>2</td>\n      <td>0</td>\n      <td>GBR</td>\n      <td>unrel</td>\n      <td>0</td>\n      <td>0</td>\n      <td>0</td>\n      <td>0</td>\n      <td>0</td>\n    </tr>\n  </tbody>\n</table>\n</div>"
     },
     "execution_count": 15,
     "metadata": {},
     "output_type": "execute_result"
    }
   ],
   "source": [
    "ped_file = 'integrated_call_samples.20130502.ALL.ped'\n",
    "pedigree = pd.read_csv(root_dir+ped_file, sep='\\t', index_col='Individual ID')\n",
    "pedigree.head()"
   ],
   "metadata": {
    "collapsed": false,
    "pycharm": {
     "name": "#%%\n"
    }
   }
  },
  {
   "cell_type": "code",
   "execution_count": 16,
   "outputs": [
    {
     "data": {
      "text/plain": "(2504, 573)"
     },
     "execution_count": 16,
     "metadata": {},
     "output_type": "execute_result"
    }
   ],
   "source": [
    "Y_train = pedigree.loc[genotypes.index]['Population']\n",
    "X = genotypes[genotypes.index.isin(Y_train.index)]\n",
    "X = X.replace({\n",
    "    '0|0': 0,\n",
    "    '0|1': 1,\n",
    "    '1|0': 1,\n",
    "    '1|1': 2\n",
    "})\n",
    "X.shape"
   ],
   "metadata": {
    "collapsed": false,
    "pycharm": {
     "name": "#%%\n"
    }
   }
  },
  {
   "cell_type": "code",
   "execution_count": 17,
   "outputs": [],
   "source": [
    "def iqs_score(data_imp, data_obs):\n",
    "    #predict_onehot = SCDA.predict(test_X_missing[:, :, :])\n",
    "\n",
    "    print('data_imp:', data_imp.shape)\n",
    "\n",
    "    # data_imp: rows (snps); cols (samples)\n",
    "    data_imp_012 = data_imp.transpose(1, 0)\n",
    "\n",
    "    # data_imp_012 = data_imp - 1\n",
    "\n",
    "\n",
    "    print('data_imp_012:', data_imp_012.shape)\n",
    "\n",
    "    snp_cnt = data_imp_012.shape[0]\n",
    "    sample_cnt = data_imp_012.shape[1]\n",
    "    print('snp_cnt:', snp_cnt)\n",
    "    print('sample_cnt:', sample_cnt)\n",
    "\n",
    "    data_obs_012 = data_obs.transpose(1, 0)\n",
    "    print('data_obs_012:', data_obs_012.shape)\n",
    "\n",
    "    # data_obs_012 = data_obs - 1\n",
    "\n",
    "\n",
    "    iqs = [0 for x in range(snp_cnt)]\n",
    "\n",
    "\n",
    "    for i in tqdm(range(snp_cnt)):\n",
    "        iqs_cnt = [[0 for x in range(3)] for y in range(3)]\n",
    "\n",
    "        for j in range(sample_cnt):\n",
    "            if(data_obs_012[i][j]==0) and (data_imp_012[i][j]==0):\n",
    "                iqs_cnt[0][0] += 1\n",
    "            elif(data_obs_012[i][j]==1) and (data_imp_012[i][j]==0):\n",
    "                iqs_cnt[0][1] += 1\n",
    "            elif(data_obs_012[i][j]==2) and (data_imp_012[i][j]==0):\n",
    "                iqs_cnt[0][2] += 1\n",
    "\n",
    "            elif(data_obs_012[i][j]==0) and (data_imp_012[i][j]==1):\n",
    "                iqs_cnt[1][0] += 1\n",
    "            elif(data_obs_012[i][j]==1) and (data_imp_012[i][j]==1):\n",
    "                iqs_cnt[1][1] += 1\n",
    "            elif(data_obs_012[i][j]==2) and (data_imp_012[i][j]==1):\n",
    "                iqs_cnt[1][2] += 1\n",
    "\n",
    "            elif(data_obs_012[i][j]==0) and (data_imp_012[i][j]==2):\n",
    "                iqs_cnt[2][0] += 1\n",
    "            elif(data_obs_012[i][j]==1) and (data_imp_012[i][j]==2):\n",
    "                iqs_cnt[2][1] += 1\n",
    "            elif(data_obs_012[i][j]==2) and (data_imp_012[i][j]==2):\n",
    "                iqs_cnt[2][2] += 1\n",
    "\n",
    "        po = (iqs_cnt[0][0] + iqs_cnt[1][1] + iqs_cnt[2][2])/sample_cnt\n",
    "\n",
    "        pc_rows_0 = iqs_cnt[0][0] + iqs_cnt[0][1] + iqs_cnt[0][2]\n",
    "        pc_rows_1 = iqs_cnt[1][0] + iqs_cnt[1][1] + iqs_cnt[1][2]\n",
    "        pc_rows_2 = iqs_cnt[2][0] + iqs_cnt[2][1] + iqs_cnt[2][2]\n",
    "\n",
    "        pc_cols_0 = iqs_cnt[0][0] + iqs_cnt[1][0] + iqs_cnt[2][0]\n",
    "        pc_cols_1 = iqs_cnt[0][1] + iqs_cnt[1][1] + iqs_cnt[2][1]\n",
    "        pc_cols_2 = iqs_cnt[0][2] + iqs_cnt[1][2] + iqs_cnt[2][2]\n",
    "\n",
    "        pc = (pc_rows_0*pc_cols_0 + pc_rows_1*pc_cols_1 + pc_rows_2*pc_cols_2)/(sample_cnt**2)\n",
    "\n",
    "\n",
    "        if pc == 1:\n",
    "            iqs[i] = 1\n",
    "        else:\n",
    "            iqs[i] = (po - pc)/(1 - pc)\n",
    "\n",
    "\n",
    "    print('iqs mean:', np.mean(iqs))\n",
    "    return iqs, np.mean(iqs)"
   ],
   "metadata": {
    "collapsed": false,
    "pycharm": {
     "name": "#%%\n"
    }
   }
  },
  {
   "cell_type": "code",
   "execution_count": 18,
   "outputs": [],
   "source": [
    "columns = [\"Fold\", \"Missing Rate\", \"IQS\", \"Method\"]\n",
    "dfs = []\n",
    "N_SPLITS=3"
   ],
   "metadata": {
    "collapsed": false,
    "pycharm": {
     "name": "#%%\n"
    }
   }
  },
  {
   "cell_type": "code",
   "execution_count": 19,
   "outputs": [
    {
     "name": "stdout",
     "output_type": "stream",
     "text": [
      "Fold: 1\n",
      "Missing rate: 0.05\n",
      "data_imp: (835, 573)\n",
      "data_imp_012: (573, 835)\n",
      "snp_cnt: 573\n",
      "sample_cnt: 835\n",
      "data_obs_012: (573, 835)\n"
     ]
    },
    {
     "name": "stderr",
     "output_type": "stream",
     "text": [
      "100%|██████████| 573/573 [00:00<00:00, 917.71it/s]\n"
     ]
    },
    {
     "name": "stdout",
     "output_type": "stream",
     "text": [
      "iqs mean: 0.7810578595904459\n",
      "Missing rate: 0.1\n",
      "data_imp: (835, 573)\n",
      "data_imp_012: (573, 835)\n",
      "snp_cnt: 573\n",
      "sample_cnt: 835\n",
      "data_obs_012: (573, 835)\n"
     ]
    },
    {
     "name": "stderr",
     "output_type": "stream",
     "text": [
      "100%|██████████| 573/573 [00:00<00:00, 964.63it/s]\n"
     ]
    },
    {
     "name": "stdout",
     "output_type": "stream",
     "text": [
      "iqs mean: 0.7606228848142589\n",
      "Missing rate: 0.2\n",
      "data_imp: (835, 573)\n",
      "data_imp_012: (573, 835)\n",
      "snp_cnt: 573\n",
      "sample_cnt: 835\n",
      "data_obs_012: (573, 835)\n"
     ]
    },
    {
     "name": "stderr",
     "output_type": "stream",
     "text": [
      "100%|██████████| 573/573 [00:00<00:00, 1039.91it/s]\n"
     ]
    },
    {
     "name": "stdout",
     "output_type": "stream",
     "text": [
      "iqs mean: 0.7253093500793352\n",
      "Fold: 2\n",
      "Missing rate: 0.05\n",
      "data_imp: (835, 573)\n",
      "data_imp_012: (573, 835)\n",
      "snp_cnt: 573\n",
      "sample_cnt: 835\n",
      "data_obs_012: (573, 835)\n"
     ]
    },
    {
     "name": "stderr",
     "output_type": "stream",
     "text": [
      "100%|██████████| 573/573 [00:00<00:00, 1034.27it/s]\n"
     ]
    },
    {
     "name": "stdout",
     "output_type": "stream",
     "text": [
      "iqs mean: 0.8093062444669576\n",
      "Missing rate: 0.1\n",
      "data_imp: (835, 573)\n",
      "data_imp_012: (573, 835)\n",
      "snp_cnt: 573\n",
      "sample_cnt: 835\n",
      "data_obs_012: (573, 835)\n"
     ]
    },
    {
     "name": "stderr",
     "output_type": "stream",
     "text": [
      "100%|██████████| 573/573 [00:00<00:00, 1021.39it/s]\n"
     ]
    },
    {
     "name": "stdout",
     "output_type": "stream",
     "text": [
      "iqs mean: 0.7886545024430117\n",
      "Missing rate: 0.2\n",
      "data_imp: (835, 573)\n",
      "data_imp_012: (573, 835)\n",
      "snp_cnt: 573\n",
      "sample_cnt: 835\n",
      "data_obs_012: (573, 835)\n"
     ]
    },
    {
     "name": "stderr",
     "output_type": "stream",
     "text": [
      "100%|██████████| 573/573 [00:00<00:00, 1005.27it/s]\n"
     ]
    },
    {
     "name": "stdout",
     "output_type": "stream",
     "text": [
      "iqs mean: 0.7650665157960085\n",
      "Fold: 3\n",
      "Missing rate: 0.05\n",
      "data_imp: (834, 573)\n",
      "data_imp_012: (573, 834)\n",
      "snp_cnt: 573\n",
      "sample_cnt: 834\n",
      "data_obs_012: (573, 834)\n"
     ]
    },
    {
     "name": "stderr",
     "output_type": "stream",
     "text": [
      "100%|██████████| 573/573 [00:00<00:00, 1000.00it/s]\n"
     ]
    },
    {
     "name": "stdout",
     "output_type": "stream",
     "text": [
      "iqs mean: 0.7917040502006942\n",
      "Missing rate: 0.1\n",
      "data_imp: (834, 573)\n",
      "data_imp_012: (573, 834)\n",
      "snp_cnt: 573\n",
      "sample_cnt: 834\n",
      "data_obs_012: (573, 834)\n"
     ]
    },
    {
     "name": "stderr",
     "output_type": "stream",
     "text": [
      "100%|██████████| 573/573 [00:00<00:00, 1025.05it/s]\n"
     ]
    },
    {
     "name": "stdout",
     "output_type": "stream",
     "text": [
      "iqs mean: 0.7773012894646297\n",
      "Missing rate: 0.2\n",
      "data_imp: (834, 573)\n",
      "data_imp_012: (573, 834)\n",
      "snp_cnt: 573\n",
      "sample_cnt: 834\n",
      "data_obs_012: (573, 834)\n"
     ]
    },
    {
     "name": "stderr",
     "output_type": "stream",
     "text": [
      "100%|██████████| 573/573 [00:00<00:00, 1019.58it/s]"
     ]
    },
    {
     "name": "stdout",
     "output_type": "stream",
     "text": [
      "iqs mean: 0.7272036898358366\n"
     ]
    },
    {
     "name": "stderr",
     "output_type": "stream",
     "text": [
      "\n"
     ]
    }
   ],
   "source": [
    "kf = KFold(n_splits=N_SPLITS, shuffle=True, random_state=2022)\n",
    "fold = 0\n",
    "_x = X[X.index.isin(Y_train.index)].to_numpy()\n",
    "for train_index, test_index in kf.split(_x):\n",
    "  fold += 1\n",
    "  print(f\"Fold: {fold}\")\n",
    "  y = _x[test_index]\n",
    "  for missing_perc in [0.05,\n",
    "                       0.1,\n",
    "                       0.2]:\n",
    "    print(f\"Missing rate: {missing_perc}\")\n",
    "    file_name = f\"./experimental_results/Chr22/DEL/minimac4/preds_mixed_mr_{missing_perc}_rs_{fold}_.csv\"\n",
    "    result_genotypes = pd.read_csv(file_name, index_col=0)\n",
    "    result_genotypes = result_genotypes.replace({\n",
    "        '0|0': 0,\n",
    "        '0|1': 1,\n",
    "        '1|0': 1,\n",
    "        '1|1': 2\n",
    "    })\n",
    "    yhat = result_genotypes.to_numpy()\n",
    "    assert y.shape == yhat.shape\n",
    "    iqs_a, iqs_mean_a = iqs_score(yhat, y)\n",
    "\n",
    "    # print('iqs_mean:', iqs_mean_a)\n",
    "    # print('iqs:', iqs_a)\n",
    "\n",
    "    dataframe = pd.DataFrame(np.array([fold, missing_perc, iqs_mean_a, \"Minimac4\"]).reshape((1, -1)), columns=columns)\n",
    "    dfs.append(dataframe)"
   ],
   "metadata": {
    "collapsed": false,
    "pycharm": {
     "name": "#%%\n"
    }
   }
  },
  {
   "cell_type": "code",
   "execution_count": 20,
   "outputs": [],
   "source": [
    "# load data\n",
    "root_dir = './data/'\n",
    "new_data_header = \"\"\n",
    "# get header\n",
    "with open(root_dir + \"DELL.chr22.genotypes.for.modeling.vcf\", 'r') as f_in:\n",
    "    # skip info\n",
    "    for line_num in range(70):\n",
    "        f_in.readline()\n",
    "\n",
    "    new_data_header = f_in.readline()\n",
    "# load data\n",
    "\n",
    "# load genotype\n",
    "genotypes = pd.read_csv(root_dir + \"DELL.chr22.genotypes.for.modeling.vcf\",\n",
    "                        comment='#', sep='\\t',\n",
    "                        names=new_data_header.strip().split('\\t'),\n",
    "                        header=1,\n",
    "                        index_col='Sample_id', dtype={'Sample_id':str})\n",
    "\n",
    "headers = genotypes.columns[:]\n",
    "ped_file = 'integrated_call_samples.20130502.ALL.ped'\n",
    "pedigree = pd.read_csv(root_dir+ped_file, sep='\\t', index_col='Individual ID')\n",
    "Y_train = pedigree.loc[genotypes.index]['Population']\n",
    "X = genotypes[genotypes.index.isin(Y_train.index)]\n",
    "X = X.replace({\n",
    "    '0|0': 0,\n",
    "    '0|1': 1,\n",
    "    '1|0': 1,\n",
    "    '1|1': 2\n",
    "})"
   ],
   "metadata": {
    "collapsed": false,
    "pycharm": {
     "name": "#%%\n"
    }
   }
  },
  {
   "cell_type": "code",
   "execution_count": 21,
   "outputs": [
    {
     "name": "stdout",
     "output_type": "stream",
     "text": [
      "Fold: 1\n",
      "Missing rate: 0.05\n",
      "data_imp: (835, 572)\n",
      "data_imp_012: (572, 835)\n",
      "snp_cnt: 572\n",
      "sample_cnt: 835\n",
      "data_obs_012: (572, 835)\n"
     ]
    },
    {
     "name": "stderr",
     "output_type": "stream",
     "text": [
      "100%|██████████| 572/572 [00:00<00:00, 979.46it/s]\n"
     ]
    },
    {
     "name": "stdout",
     "output_type": "stream",
     "text": [
      "iqs mean: 0.8964028078953203\n",
      "Missing rate: 0.1\n",
      "data_imp: (835, 572)\n",
      "data_imp_012: (572, 835)\n",
      "snp_cnt: 572\n",
      "sample_cnt: 835\n",
      "data_obs_012: (572, 835)\n"
     ]
    },
    {
     "name": "stderr",
     "output_type": "stream",
     "text": [
      "100%|██████████| 572/572 [00:00<00:00, 1017.80it/s]\n"
     ]
    },
    {
     "name": "stdout",
     "output_type": "stream",
     "text": [
      "iqs mean: 0.8768880289722408\n",
      "Missing rate: 0.2\n",
      "data_imp: (835, 572)\n",
      "data_imp_012: (572, 835)\n",
      "snp_cnt: 572\n",
      "sample_cnt: 835\n",
      "data_obs_012: (572, 835)\n"
     ]
    },
    {
     "name": "stderr",
     "output_type": "stream",
     "text": [
      "100%|██████████| 572/572 [00:00<00:00, 967.88it/s]\n"
     ]
    },
    {
     "name": "stdout",
     "output_type": "stream",
     "text": [
      "iqs mean: 0.8385497465651487\n",
      "Fold: 2\n",
      "Missing rate: 0.05\n",
      "data_imp: (834, 572)\n",
      "data_imp_012: (572, 834)\n",
      "snp_cnt: 572\n",
      "sample_cnt: 834\n",
      "data_obs_012: (572, 834)\n"
     ]
    },
    {
     "name": "stderr",
     "output_type": "stream",
     "text": [
      "100%|██████████| 572/572 [00:00<00:00, 1014.15it/s]\n"
     ]
    },
    {
     "name": "stdout",
     "output_type": "stream",
     "text": [
      "iqs mean: 0.876545957967092\n",
      "Missing rate: 0.1\n",
      "data_imp: (834, 572)\n",
      "data_imp_012: (572, 834)\n",
      "snp_cnt: 572\n",
      "sample_cnt: 834\n",
      "data_obs_012: (572, 834)\n"
     ]
    },
    {
     "name": "stderr",
     "output_type": "stream",
     "text": [
      "100%|██████████| 572/572 [00:00<00:00, 1030.61it/s]\n"
     ]
    },
    {
     "name": "stdout",
     "output_type": "stream",
     "text": [
      "iqs mean: 0.8621072606174227\n",
      "Missing rate: 0.2\n",
      "data_imp: (834, 572)\n",
      "data_imp_012: (572, 834)\n",
      "snp_cnt: 572\n",
      "sample_cnt: 834\n",
      "data_obs_012: (572, 834)\n"
     ]
    },
    {
     "name": "stderr",
     "output_type": "stream",
     "text": [
      "100%|██████████| 572/572 [00:00<00:00, 1040.01it/s]\n"
     ]
    },
    {
     "name": "stdout",
     "output_type": "stream",
     "text": [
      "iqs mean: 0.8426990265490621\n",
      "Fold: 3\n",
      "Missing rate: 0.05\n",
      "data_imp: (834, 572)\n",
      "data_imp_012: (572, 834)\n",
      "snp_cnt: 572\n",
      "sample_cnt: 834\n",
      "data_obs_012: (572, 834)\n"
     ]
    },
    {
     "name": "stderr",
     "output_type": "stream",
     "text": [
      "100%|██████████| 572/572 [00:00<00:00, 977.81it/s] \n"
     ]
    },
    {
     "name": "stdout",
     "output_type": "stream",
     "text": [
      "iqs mean: 0.8782428858082865\n",
      "Missing rate: 0.1\n",
      "data_imp: (834, 572)\n",
      "data_imp_012: (572, 834)\n",
      "snp_cnt: 572\n",
      "sample_cnt: 834\n",
      "data_obs_012: (572, 834)\n"
     ]
    },
    {
     "name": "stderr",
     "output_type": "stream",
     "text": [
      "100%|██████████| 572/572 [00:00<00:00, 933.14it/s] \n"
     ]
    },
    {
     "name": "stdout",
     "output_type": "stream",
     "text": [
      "iqs mean: 0.8624152972610523\n",
      "Missing rate: 0.2\n",
      "data_imp: (834, 572)\n",
      "data_imp_012: (572, 834)\n",
      "snp_cnt: 572\n",
      "sample_cnt: 834\n",
      "data_obs_012: (572, 834)\n"
     ]
    },
    {
     "name": "stderr",
     "output_type": "stream",
     "text": [
      "100%|██████████| 572/572 [00:00<00:00, 1025.09it/s]"
     ]
    },
    {
     "name": "stdout",
     "output_type": "stream",
     "text": [
      "iqs mean: 0.8352408330806385\n"
     ]
    },
    {
     "name": "stderr",
     "output_type": "stream",
     "text": [
      "\n"
     ]
    }
   ],
   "source": [
    "kf = KFold(n_splits=N_SPLITS, shuffle=True, random_state=2022)\n",
    "fold = 0\n",
    "_x = X[X.index.isin(Y_train.index)].to_numpy()[:, :-1]\n",
    "for train_index, test_index in kf.split(_x):\n",
    "  fold += 1\n",
    "  print(f\"Fold: {fold}\")\n",
    "  y = _x[test_index]\n",
    "  for missing_perc in [0.05,\n",
    "                       0.1,\n",
    "                       0.2]:\n",
    "    print(f\"Missing rate: {missing_perc}\")\n",
    "    file_name = f\"./experimental_results/Chr22/DEL/HLA_DEEP/preds_mixed_mr_{missing_perc}_rs_{fold}_.csv\"\n",
    "    result_genotypes = pd.read_csv(file_name, index_col=0)\n",
    "    result_genotypes = result_genotypes.replace({\n",
    "        '0|0': 0,\n",
    "        '0|1': 1,\n",
    "        '1|0': 1,\n",
    "        '1|1': 2\n",
    "    })\n",
    "    yhat = result_genotypes.to_numpy()\n",
    "    assert y.shape == yhat.shape\n",
    "    iqs_a, iqs_mean_a = iqs_score(yhat, y)\n",
    "\n",
    "    # print('iqs_mean:', iqs_mean_a)\n",
    "    # print('iqs:', iqs_a)\n",
    "\n",
    "    dataframe = pd.DataFrame(np.array([fold, missing_perc, iqs_mean_a, \"HLA*DEEP\"]).reshape((1, -1)), columns=columns)\n",
    "    dfs.append(dataframe)"
   ],
   "metadata": {
    "collapsed": false,
    "pycharm": {
     "name": "#%%\n"
    }
   }
  },
  {
   "cell_type": "code",
   "execution_count": 22,
   "outputs": [
    {
     "name": "stdout",
     "output_type": "stream",
     "text": [
      "Fold: 1\n",
      "Missing rate: 0.05\n",
      "data_imp: (835, 572)\n",
      "data_imp_012: (572, 835)\n",
      "snp_cnt: 572\n",
      "sample_cnt: 835\n",
      "data_obs_012: (572, 835)\n"
     ]
    },
    {
     "name": "stderr",
     "output_type": "stream",
     "text": [
      "100%|██████████| 572/572 [00:00<00:00, 1026.98it/s]\n"
     ]
    },
    {
     "name": "stdout",
     "output_type": "stream",
     "text": [
      "iqs mean: 0.890564282123477\n",
      "Missing rate: 0.1\n",
      "data_imp: (835, 572)\n",
      "data_imp_012: (572, 835)\n",
      "snp_cnt: 572\n",
      "sample_cnt: 835\n",
      "data_obs_012: (572, 835)\n"
     ]
    },
    {
     "name": "stderr",
     "output_type": "stream",
     "text": [
      "100%|██████████| 572/572 [00:00<00:00, 903.62it/s] \n"
     ]
    },
    {
     "name": "stdout",
     "output_type": "stream",
     "text": [
      "iqs mean: 0.8692987403066246\n",
      "Missing rate: 0.2\n",
      "data_imp: (835, 572)\n",
      "data_imp_012: (572, 835)\n",
      "snp_cnt: 572\n",
      "sample_cnt: 835\n",
      "data_obs_012: (572, 835)\n"
     ]
    },
    {
     "name": "stderr",
     "output_type": "stream",
     "text": [
      "100%|██████████| 572/572 [00:00<00:00, 1034.36it/s]\n"
     ]
    },
    {
     "name": "stdout",
     "output_type": "stream",
     "text": [
      "iqs mean: 0.8200527116201248\n",
      "Fold: 2\n",
      "Missing rate: 0.05\n",
      "data_imp: (834, 572)\n",
      "data_imp_012: (572, 834)\n",
      "snp_cnt: 572\n",
      "sample_cnt: 834\n",
      "data_obs_012: (572, 834)\n"
     ]
    },
    {
     "name": "stderr",
     "output_type": "stream",
     "text": [
      "100%|██████████| 572/572 [00:00<00:00, 1026.96it/s]\n"
     ]
    },
    {
     "name": "stdout",
     "output_type": "stream",
     "text": [
      "iqs mean: 0.8865959485144825\n",
      "Missing rate: 0.1\n",
      "data_imp: (834, 572)\n",
      "data_imp_012: (572, 834)\n",
      "snp_cnt: 572\n",
      "sample_cnt: 834\n",
      "data_obs_012: (572, 834)\n"
     ]
    },
    {
     "name": "stderr",
     "output_type": "stream",
     "text": [
      "100%|██████████| 572/572 [00:00<00:00, 1005.25it/s]\n"
     ]
    },
    {
     "name": "stdout",
     "output_type": "stream",
     "text": [
      "iqs mean: 0.8620584525452124\n",
      "Missing rate: 0.2\n",
      "data_imp: (834, 572)\n",
      "data_imp_012: (572, 834)\n",
      "snp_cnt: 572\n",
      "sample_cnt: 834\n",
      "data_obs_012: (572, 834)\n"
     ]
    },
    {
     "name": "stderr",
     "output_type": "stream",
     "text": [
      "100%|██████████| 572/572 [00:00<00:00, 1037.99it/s]\n"
     ]
    },
    {
     "name": "stdout",
     "output_type": "stream",
     "text": [
      "iqs mean: 0.8164034005950548\n",
      "Fold: 3\n",
      "Missing rate: 0.05\n",
      "data_imp: (834, 572)\n",
      "data_imp_012: (572, 834)\n",
      "snp_cnt: 572\n",
      "sample_cnt: 834\n",
      "data_obs_012: (572, 834)\n"
     ]
    },
    {
     "name": "stderr",
     "output_type": "stream",
     "text": [
      "100%|██████████| 572/572 [00:00<00:00, 1017.80it/s]\n"
     ]
    },
    {
     "name": "stdout",
     "output_type": "stream",
     "text": [
      "iqs mean: 0.8715485577225671\n",
      "Missing rate: 0.1\n",
      "data_imp: (834, 572)\n",
      "data_imp_012: (572, 834)\n",
      "snp_cnt: 572\n",
      "sample_cnt: 834\n",
      "data_obs_012: (572, 834)\n"
     ]
    },
    {
     "name": "stderr",
     "output_type": "stream",
     "text": [
      "100%|██████████| 572/572 [00:00<00:00, 1032.51it/s]\n"
     ]
    },
    {
     "name": "stdout",
     "output_type": "stream",
     "text": [
      "iqs mean: 0.8492924191985115\n",
      "Missing rate: 0.2\n",
      "data_imp: (834, 572)\n",
      "data_imp_012: (572, 834)\n",
      "snp_cnt: 572\n",
      "sample_cnt: 834\n",
      "data_obs_012: (572, 834)\n"
     ]
    },
    {
     "name": "stderr",
     "output_type": "stream",
     "text": [
      "100%|██████████| 572/572 [00:00<00:00, 927.07it/s]"
     ]
    },
    {
     "name": "stdout",
     "output_type": "stream",
     "text": [
      "iqs mean: 0.8207741148714447\n"
     ]
    },
    {
     "name": "stderr",
     "output_type": "stream",
     "text": [
      "\n"
     ]
    }
   ],
   "source": [
    "kf = KFold(n_splits=N_SPLITS, shuffle=True, random_state=2022)\n",
    "fold = 0\n",
    "_x = X[X.index.isin(Y_train.index)].to_numpy()[:, :-1]\n",
    "for train_index, test_index in kf.split(_x):\n",
    "  fold += 1\n",
    "  print(f\"Fold: {fold}\")\n",
    "  y = _x[test_index]\n",
    "  for missing_perc in [0.05,\n",
    "                       0.1,\n",
    "                       0.2]:\n",
    "    print(f\"Missing rate: {missing_perc}\")\n",
    "    file_name = f\"./experimental_results/Chr22/DEL/SCDA/preds_mixed_mr_{missing_perc}_rs_{fold}_.csv\"\n",
    "    result_genotypes = pd.read_csv(file_name, index_col=0)\n",
    "    result_genotypes = result_genotypes.replace({\n",
    "        '0|0': 0,\n",
    "        '0|1': 1,\n",
    "        '1|0': 1,\n",
    "        '1|1': 2\n",
    "    })\n",
    "    yhat = result_genotypes.to_numpy()\n",
    "    assert y.shape == yhat.shape\n",
    "    iqs_a, iqs_mean_a = iqs_score(yhat, y)\n",
    "\n",
    "    # print('iqs_mean:', iqs_mean_a)\n",
    "    # print('iqs:', iqs_a)\n",
    "\n",
    "    dataframe = pd.DataFrame(np.array([fold, missing_perc, iqs_mean_a, \"SCDA+\"]).reshape((1, -1)), columns=columns)\n",
    "    dfs.append(dataframe)"
   ],
   "metadata": {
    "collapsed": false,
    "pycharm": {
     "name": "#%%\n"
    }
   }
  },
  {
   "cell_type": "code",
   "execution_count": 23,
   "outputs": [
    {
     "name": "stdout",
     "output_type": "stream",
     "text": [
      "Fold: 1\n",
      "Missing rate: 0.05\n",
      "data_imp: (835, 572)\n",
      "data_imp_012: (572, 835)\n",
      "snp_cnt: 572\n",
      "sample_cnt: 835\n",
      "data_obs_012: (572, 835)\n"
     ]
    },
    {
     "name": "stderr",
     "output_type": "stream",
     "text": [
      "100%|██████████| 572/572 [00:00<00:00, 1030.62it/s]\n"
     ]
    },
    {
     "name": "stdout",
     "output_type": "stream",
     "text": [
      "iqs mean: 0.7306372096062076\n",
      "Missing rate: 0.1\n",
      "data_imp: (835, 572)\n",
      "data_imp_012: (572, 835)\n",
      "snp_cnt: 572\n",
      "sample_cnt: 835\n",
      "data_obs_012: (572, 835)\n"
     ]
    },
    {
     "name": "stderr",
     "output_type": "stream",
     "text": [
      "100%|██████████| 572/572 [00:00<00:00, 1026.95it/s]\n"
     ]
    },
    {
     "name": "stdout",
     "output_type": "stream",
     "text": [
      "iqs mean: 0.7453162231824787\n",
      "Missing rate: 0.2\n",
      "data_imp: (835, 572)\n",
      "data_imp_012: (572, 835)\n",
      "snp_cnt: 572\n",
      "sample_cnt: 835\n",
      "data_obs_012: (572, 835)\n"
     ]
    },
    {
     "name": "stderr",
     "output_type": "stream",
     "text": [
      "100%|██████████| 572/572 [00:00<00:00, 1017.82it/s]\n"
     ]
    },
    {
     "name": "stdout",
     "output_type": "stream",
     "text": [
      "iqs mean: 0.724838350395821\n",
      "Fold: 2\n",
      "Missing rate: 0.05\n",
      "data_imp: (834, 572)\n",
      "data_imp_012: (572, 834)\n",
      "snp_cnt: 572\n",
      "sample_cnt: 834\n",
      "data_obs_012: (572, 834)\n"
     ]
    },
    {
     "name": "stderr",
     "output_type": "stream",
     "text": [
      "100%|██████████| 572/572 [00:00<00:00, 982.85it/s] \n"
     ]
    },
    {
     "name": "stdout",
     "output_type": "stream",
     "text": [
      "iqs mean: 0.7789628136378918\n",
      "Missing rate: 0.1\n",
      "data_imp: (834, 572)\n",
      "data_imp_012: (572, 834)\n",
      "snp_cnt: 572\n",
      "sample_cnt: 834\n",
      "data_obs_012: (572, 834)\n"
     ]
    },
    {
     "name": "stderr",
     "output_type": "stream",
     "text": [
      "100%|██████████| 572/572 [00:00<00:00, 1005.24it/s]\n"
     ]
    },
    {
     "name": "stdout",
     "output_type": "stream",
     "text": [
      "iqs mean: 0.8406451721493636\n",
      "Missing rate: 0.2\n",
      "data_imp: (834, 572)\n",
      "data_imp_012: (572, 834)\n",
      "snp_cnt: 572\n",
      "sample_cnt: 834\n",
      "data_obs_012: (572, 834)\n"
     ]
    },
    {
     "name": "stderr",
     "output_type": "stream",
     "text": [
      "100%|██████████| 572/572 [00:00<00:00, 1106.35it/s]\n"
     ]
    },
    {
     "name": "stdout",
     "output_type": "stream",
     "text": [
      "iqs mean: 0.3688811188811189\n",
      "Fold: 3\n",
      "Missing rate: 0.05\n",
      "data_imp: (834, 572)\n",
      "data_imp_012: (572, 834)\n",
      "snp_cnt: 572\n",
      "sample_cnt: 834\n",
      "data_obs_012: (572, 834)\n"
     ]
    },
    {
     "name": "stderr",
     "output_type": "stream",
     "text": [
      "100%|██████████| 572/572 [00:00<00:00, 971.14it/s] \n"
     ]
    },
    {
     "name": "stdout",
     "output_type": "stream",
     "text": [
      "iqs mean: 0.7645384623626381\n",
      "Missing rate: 0.1\n",
      "data_imp: (834, 572)\n",
      "data_imp_012: (572, 834)\n",
      "snp_cnt: 572\n",
      "sample_cnt: 834\n",
      "data_obs_012: (572, 834)\n"
     ]
    },
    {
     "name": "stderr",
     "output_type": "stream",
     "text": [
      "100%|██████████| 572/572 [00:00<00:00, 1028.24it/s]\n"
     ]
    },
    {
     "name": "stdout",
     "output_type": "stream",
     "text": [
      "iqs mean: 0.7977114318166706\n",
      "Missing rate: 0.2\n",
      "data_imp: (834, 572)\n",
      "data_imp_012: (572, 834)\n",
      "snp_cnt: 572\n",
      "sample_cnt: 834\n",
      "data_obs_012: (572, 834)\n"
     ]
    },
    {
     "name": "stderr",
     "output_type": "stream",
     "text": [
      "100%|██████████| 572/572 [00:00<00:00, 1019.58it/s]"
     ]
    },
    {
     "name": "stdout",
     "output_type": "stream",
     "text": [
      "iqs mean: 0.651826938307196\n"
     ]
    },
    {
     "name": "stderr",
     "output_type": "stream",
     "text": [
      "\n"
     ]
    }
   ],
   "source": [
    "kf = KFold(n_splits=N_SPLITS, shuffle=True, random_state=2022)\n",
    "fold = 0\n",
    "_x = X[X.index.isin(Y_train.index)].to_numpy()[:, :-1]\n",
    "for train_index, test_index in kf.split(_x):\n",
    "  fold += 1\n",
    "  print(f\"Fold: {fold}\")\n",
    "  y = _x[test_index]\n",
    "  for missing_perc in [0.05,\n",
    "                       0.1,\n",
    "                       0.2]:\n",
    "    print(f\"Missing rate: {missing_perc}\")\n",
    "    file_name = f\"./experimental_results/Chr22/DEL/AE/preds_mixed_mr_{missing_perc}_fold_{fold}_.csv\"\n",
    "    result_genotypes = pd.read_csv(file_name, index_col=0)\n",
    "    result_genotypes = result_genotypes.replace({\n",
    "        0 : 0,\n",
    "        1 : 1,\n",
    "        2 : 1,\n",
    "        3 : 2\n",
    "    })\n",
    "    yhat = result_genotypes.to_numpy()\n",
    "    assert y.shape == yhat.shape\n",
    "    iqs_a, iqs_mean_a = iqs_score(yhat, y)\n",
    "\n",
    "    # print('iqs_mean:', iqs_mean_a)\n",
    "    # print('iqs:', iqs_a)\n",
    "\n",
    "    dataframe = pd.DataFrame(np.array([fold, missing_perc, iqs_mean_a, \"AE\"]).reshape((1, -1)), columns=columns)\n",
    "    dfs.append(dataframe)"
   ],
   "metadata": {
    "collapsed": false,
    "pycharm": {
     "name": "#%%\n"
    }
   }
  },
  {
   "cell_type": "code",
   "execution_count": 24,
   "outputs": [
    {
     "name": "stdout",
     "output_type": "stream",
     "text": [
      "Fold: 1\n",
      "Missing rate: 0.05\n",
      "data_imp: (835, 573)\n",
      "data_imp_012: (573, 835)\n",
      "snp_cnt: 573\n",
      "sample_cnt: 835\n",
      "data_obs_012: (573, 835)\n"
     ]
    },
    {
     "name": "stderr",
     "output_type": "stream",
     "text": [
      "100%|██████████| 573/573 [00:00<00:00, 994.80it/s] \n"
     ]
    },
    {
     "name": "stdout",
     "output_type": "stream",
     "text": [
      "iqs mean: 0.9572486015916011\n",
      "Missing rate: 0.1\n",
      "data_imp: (835, 573)\n",
      "data_imp_012: (573, 835)\n",
      "snp_cnt: 573\n",
      "sample_cnt: 835\n",
      "data_obs_012: (573, 835)\n"
     ]
    },
    {
     "name": "stderr",
     "output_type": "stream",
     "text": [
      "100%|██████████| 573/573 [00:00<00:00, 969.54it/s] \n"
     ]
    },
    {
     "name": "stdout",
     "output_type": "stream",
     "text": [
      "iqs mean: 0.9331872308771746\n",
      "Missing rate: 0.2\n",
      "data_imp: (835, 573)\n",
      "data_imp_012: (573, 835)\n",
      "snp_cnt: 573\n",
      "sample_cnt: 835\n",
      "data_obs_012: (573, 835)\n"
     ]
    },
    {
     "name": "stderr",
     "output_type": "stream",
     "text": [
      "100%|██████████| 573/573 [00:00<00:00, 969.52it/s]\n"
     ]
    },
    {
     "name": "stdout",
     "output_type": "stream",
     "text": [
      "iqs mean: 0.8801961146942185\n",
      "Fold: 2\n",
      "Missing rate: 0.05\n",
      "data_imp: (834, 573)\n",
      "data_imp_012: (573, 834)\n",
      "snp_cnt: 573\n",
      "sample_cnt: 834\n",
      "data_obs_012: (573, 834)\n"
     ]
    },
    {
     "name": "stderr",
     "output_type": "stream",
     "text": [
      "100%|██████████| 573/573 [00:00<00:00, 991.35it/s] \n"
     ]
    },
    {
     "name": "stdout",
     "output_type": "stream",
     "text": [
      "iqs mean: 0.9566823500643878\n",
      "Missing rate: 0.1\n",
      "data_imp: (834, 573)\n",
      "data_imp_012: (573, 834)\n",
      "snp_cnt: 573\n",
      "sample_cnt: 834\n",
      "data_obs_012: (573, 834)\n"
     ]
    },
    {
     "name": "stderr",
     "output_type": "stream",
     "text": [
      "100%|██████████| 573/573 [00:00<00:00, 994.77it/s] \n"
     ]
    },
    {
     "name": "stdout",
     "output_type": "stream",
     "text": [
      "iqs mean: 0.9274252900730815\n",
      "Missing rate: 0.2\n",
      "data_imp: (834, 573)\n",
      "data_imp_012: (573, 834)\n",
      "snp_cnt: 573\n",
      "sample_cnt: 834\n",
      "data_obs_012: (573, 834)\n"
     ]
    },
    {
     "name": "stderr",
     "output_type": "stream",
     "text": [
      "100%|██████████| 573/573 [00:00<00:00, 1032.44it/s]\n"
     ]
    },
    {
     "name": "stdout",
     "output_type": "stream",
     "text": [
      "iqs mean: 0.881315491776947\n",
      "Fold: 3\n",
      "Missing rate: 0.05\n",
      "data_imp: (834, 573)\n",
      "data_imp_012: (573, 834)\n",
      "snp_cnt: 573\n",
      "sample_cnt: 834\n",
      "data_obs_012: (573, 834)\n"
     ]
    },
    {
     "name": "stderr",
     "output_type": "stream",
     "text": [
      "100%|██████████| 573/573 [00:00<00:00, 976.15it/s] \n"
     ]
    },
    {
     "name": "stdout",
     "output_type": "stream",
     "text": [
      "iqs mean: 0.9459849922332983\n",
      "Missing rate: 0.1\n",
      "data_imp: (834, 573)\n",
      "data_imp_012: (573, 834)\n",
      "snp_cnt: 573\n",
      "sample_cnt: 834\n",
      "data_obs_012: (573, 834)\n"
     ]
    },
    {
     "name": "stderr",
     "output_type": "stream",
     "text": [
      "100%|██████████| 573/573 [00:00<00:00, 968.90it/s] \n"
     ]
    },
    {
     "name": "stdout",
     "output_type": "stream",
     "text": [
      "iqs mean: 0.912673203328194\n",
      "Missing rate: 0.2\n",
      "data_imp: (834, 573)\n",
      "data_imp_012: (573, 834)\n",
      "snp_cnt: 573\n",
      "sample_cnt: 834\n",
      "data_obs_012: (573, 834)\n"
     ]
    },
    {
     "name": "stderr",
     "output_type": "stream",
     "text": [
      "100%|██████████| 573/573 [00:00<00:00, 915.34it/s]"
     ]
    },
    {
     "name": "stdout",
     "output_type": "stream",
     "text": [
      "iqs mean: 0.8539854827113504\n"
     ]
    },
    {
     "name": "stderr",
     "output_type": "stream",
     "text": [
      "\n"
     ]
    }
   ],
   "source": [
    "kf = KFold(n_splits=N_SPLITS, shuffle=True, random_state=2022)\n",
    "fold = 0\n",
    "_x = X[X.index.isin(Y_train.index)].to_numpy()\n",
    "for train_index, test_index in kf.split(_x):\n",
    "  fold += 1\n",
    "  print(f\"Fold: {fold}\")\n",
    "  y = _x[test_index]\n",
    "  for missing_perc in [0.05,\n",
    "                       0.1,\n",
    "                       0.2]:\n",
    "    print(f\"Missing rate: {missing_perc}\")\n",
    "    file_name = f\"./experimental_results/Chr22/DEL/STI_WE/preds_mixed_mr_{missing_perc}_rs_{fold}_.csv\"\n",
    "    result_genotypes = pd.read_csv(file_name, index_col=0)\n",
    "    result_genotypes = result_genotypes.replace({\n",
    "        '0|0': 0,\n",
    "        '0|1': 1,\n",
    "        '1|0': 1,\n",
    "        '1|1': 2\n",
    "    })\n",
    "    yhat = result_genotypes.to_numpy()\n",
    "    assert y.shape == yhat.shape\n",
    "    iqs_a, iqs_mean_a = iqs_score(yhat, y)\n",
    "\n",
    "    # print('iqs_mean:', iqs_mean_a)\n",
    "    # print('iqs:', iqs_a)\n",
    "\n",
    "    dataframe = pd.DataFrame(np.array([fold, missing_perc, iqs_mean_a, \"STI*WE\"]).reshape((1, -1)), columns=columns)\n",
    "    dfs.append(dataframe)\n"
   ],
   "metadata": {
    "collapsed": false,
    "pycharm": {
     "name": "#%%\n"
    }
   }
  },
  {
   "cell_type": "code",
   "execution_count": 25,
   "outputs": [
    {
     "name": "stdout",
     "output_type": "stream",
     "text": [
      "Fold: 1\n",
      "Missing rate: 0.05\n",
      "data_imp: (835, 573)\n",
      "data_imp_012: (573, 835)\n",
      "snp_cnt: 573\n",
      "sample_cnt: 835\n",
      "data_obs_012: (573, 835)\n"
     ]
    },
    {
     "name": "stderr",
     "output_type": "stream",
     "text": [
      "100%|██████████| 573/573 [00:00<00:00, 1028.13it/s]\n"
     ]
    },
    {
     "name": "stdout",
     "output_type": "stream",
     "text": [
      "iqs mean: 0.9681944310614421\n",
      "Missing rate: 0.1\n",
      "data_imp: (835, 573)\n",
      "data_imp_012: (573, 835)\n",
      "snp_cnt: 573\n",
      "sample_cnt: 835\n",
      "data_obs_012: (573, 835)\n"
     ]
    },
    {
     "name": "stderr",
     "output_type": "stream",
     "text": [
      "100%|██████████| 573/573 [00:00<00:00, 1026.92it/s]\n"
     ]
    },
    {
     "name": "stdout",
     "output_type": "stream",
     "text": [
      "iqs mean: 0.9237875857774382\n",
      "Missing rate: 0.2\n",
      "data_imp: (835, 573)\n",
      "data_imp_012: (573, 835)\n",
      "snp_cnt: 573\n",
      "sample_cnt: 835\n",
      "data_obs_012: (573, 835)\n"
     ]
    },
    {
     "name": "stderr",
     "output_type": "stream",
     "text": [
      "100%|██████████| 573/573 [00:00<00:00, 999.79it/s] \n"
     ]
    },
    {
     "name": "stdout",
     "output_type": "stream",
     "text": [
      "iqs mean: 0.8630704066941796\n",
      "Fold: 2\n",
      "Missing rate: 0.05\n",
      "data_imp: (834, 573)\n",
      "data_imp_012: (573, 834)\n",
      "snp_cnt: 573\n",
      "sample_cnt: 834\n",
      "data_obs_012: (573, 834)\n"
     ]
    },
    {
     "name": "stderr",
     "output_type": "stream",
     "text": [
      "100%|██████████| 573/573 [00:00<00:00, 1032.44it/s]\n"
     ]
    },
    {
     "name": "stdout",
     "output_type": "stream",
     "text": [
      "iqs mean: 0.9715622754531428\n",
      "Missing rate: 0.1\n",
      "data_imp: (834, 573)\n",
      "data_imp_012: (573, 834)\n",
      "snp_cnt: 573\n",
      "sample_cnt: 834\n",
      "data_obs_012: (573, 834)\n"
     ]
    },
    {
     "name": "stderr",
     "output_type": "stream",
     "text": [
      "100%|██████████| 573/573 [00:00<00:00, 1015.96it/s]\n"
     ]
    },
    {
     "name": "stdout",
     "output_type": "stream",
     "text": [
      "iqs mean: 0.952017344129189\n",
      "Missing rate: 0.2\n",
      "data_imp: (834, 573)\n",
      "data_imp_012: (573, 834)\n",
      "snp_cnt: 573\n",
      "sample_cnt: 834\n",
      "data_obs_012: (573, 834)\n"
     ]
    },
    {
     "name": "stderr",
     "output_type": "stream",
     "text": [
      "100%|██████████| 573/573 [00:00<00:00, 1005.32it/s]\n"
     ]
    },
    {
     "name": "stdout",
     "output_type": "stream",
     "text": [
      "iqs mean: 0.8982521711450453\n",
      "Fold: 3\n",
      "Missing rate: 0.05\n",
      "data_imp: (834, 573)\n",
      "data_imp_012: (573, 834)\n",
      "snp_cnt: 573\n",
      "sample_cnt: 834\n",
      "data_obs_012: (573, 834)\n"
     ]
    },
    {
     "name": "stderr",
     "output_type": "stream",
     "text": [
      "100%|██████████| 573/573 [00:00<00:00, 981.18it/s] \n"
     ]
    },
    {
     "name": "stdout",
     "output_type": "stream",
     "text": [
      "iqs mean: 0.9526346454373085\n",
      "Missing rate: 0.1\n",
      "data_imp: (834, 573)\n",
      "data_imp_012: (573, 834)\n",
      "snp_cnt: 573\n",
      "sample_cnt: 834\n",
      "data_obs_012: (573, 834)\n"
     ]
    },
    {
     "name": "stderr",
     "output_type": "stream",
     "text": [
      "100%|██████████| 573/573 [00:00<00:00, 1032.39it/s]\n"
     ]
    },
    {
     "name": "stdout",
     "output_type": "stream",
     "text": [
      "iqs mean: 0.9273173110620081\n",
      "Missing rate: 0.2\n",
      "data_imp: (834, 573)\n",
      "data_imp_012: (573, 834)\n",
      "snp_cnt: 573\n",
      "sample_cnt: 834\n",
      "data_obs_012: (573, 834)\n"
     ]
    },
    {
     "name": "stderr",
     "output_type": "stream",
     "text": [
      "100%|██████████| 573/573 [00:00<00:00, 1045.64it/s]"
     ]
    },
    {
     "name": "stdout",
     "output_type": "stream",
     "text": [
      "iqs mean: 0.8727860573256593\n",
      "Combining the results...\n"
     ]
    },
    {
     "name": "stderr",
     "output_type": "stream",
     "text": [
      "\n"
     ]
    },
    {
     "data": {
      "text/plain": "   Fold Missing Rate                 IQS    Method\n0     1         0.05  0.7810578595904459  Minimac4\n1     1          0.1  0.7606228848142589  Minimac4\n2     1          0.2  0.7253093500793352  Minimac4\n3     2         0.05  0.8093062444669576  Minimac4\n4     2          0.1  0.7886545024430117  Minimac4\n5     2          0.2  0.7650665157960085  Minimac4\n6     3         0.05  0.7917040502006942  Minimac4\n7     3          0.1  0.7773012894646297  Minimac4\n8     3          0.2  0.7272036898358366  Minimac4\n9     1         0.05  0.8964028078953203  HLA*DEEP\n10    1          0.1  0.8768880289722408  HLA*DEEP\n11    1          0.2  0.8385497465651487  HLA*DEEP\n12    2         0.05   0.876545957967092  HLA*DEEP\n13    2          0.1  0.8621072606174227  HLA*DEEP\n14    2          0.2  0.8426990265490621  HLA*DEEP\n15    3         0.05  0.8782428858082865  HLA*DEEP\n16    3          0.1  0.8624152972610523  HLA*DEEP\n17    3          0.2  0.8352408330806385  HLA*DEEP\n18    1         0.05   0.890564282123477     SCDA+\n19    1          0.1  0.8692987403066246     SCDA+\n20    1          0.2  0.8200527116201248     SCDA+\n21    2         0.05  0.8865959485144825     SCDA+\n22    2          0.1  0.8620584525452124     SCDA+\n23    2          0.2  0.8164034005950548     SCDA+\n24    3         0.05  0.8715485577225671     SCDA+\n25    3          0.1  0.8492924191985115     SCDA+\n26    3          0.2  0.8207741148714447     SCDA+\n27    1         0.05  0.7306372096062076        AE\n28    1          0.1  0.7453162231824787        AE\n29    1          0.2   0.724838350395821        AE\n30    2         0.05  0.7789628136378918        AE\n31    2          0.1  0.8406451721493636        AE\n32    2          0.2  0.3688811188811189        AE\n33    3         0.05  0.7645384623626381        AE\n34    3          0.1  0.7977114318166706        AE\n35    3          0.2   0.651826938307196        AE\n36    1         0.05  0.9572486015916011    STI*WE\n37    1          0.1  0.9331872308771746    STI*WE\n38    1          0.2  0.8801961146942185    STI*WE\n39    2         0.05  0.9566823500643878    STI*WE\n40    2          0.1  0.9274252900730815    STI*WE\n41    2          0.2   0.881315491776947    STI*WE\n42    3         0.05  0.9459849922332983    STI*WE\n43    3          0.1   0.912673203328194    STI*WE\n44    3          0.2  0.8539854827113504    STI*WE\n45    1         0.05  0.9681944310614421       STI\n46    1          0.1  0.9237875857774382       STI\n47    1          0.2  0.8630704066941796       STI\n48    2         0.05  0.9715622754531428       STI\n49    2          0.1   0.952017344129189       STI\n50    2          0.2  0.8982521711450453       STI\n51    3         0.05  0.9526346454373085       STI\n52    3          0.1  0.9273173110620081       STI\n53    3          0.2  0.8727860573256593       STI",
      "text/html": "<div>\n<style scoped>\n    .dataframe tbody tr th:only-of-type {\n        vertical-align: middle;\n    }\n\n    .dataframe tbody tr th {\n        vertical-align: top;\n    }\n\n    .dataframe thead th {\n        text-align: right;\n    }\n</style>\n<table border=\"1\" class=\"dataframe\">\n  <thead>\n    <tr style=\"text-align: right;\">\n      <th></th>\n      <th>Fold</th>\n      <th>Missing Rate</th>\n      <th>IQS</th>\n      <th>Method</th>\n    </tr>\n  </thead>\n  <tbody>\n    <tr>\n      <th>0</th>\n      <td>1</td>\n      <td>0.05</td>\n      <td>0.7810578595904459</td>\n      <td>Minimac4</td>\n    </tr>\n    <tr>\n      <th>1</th>\n      <td>1</td>\n      <td>0.1</td>\n      <td>0.7606228848142589</td>\n      <td>Minimac4</td>\n    </tr>\n    <tr>\n      <th>2</th>\n      <td>1</td>\n      <td>0.2</td>\n      <td>0.7253093500793352</td>\n      <td>Minimac4</td>\n    </tr>\n    <tr>\n      <th>3</th>\n      <td>2</td>\n      <td>0.05</td>\n      <td>0.8093062444669576</td>\n      <td>Minimac4</td>\n    </tr>\n    <tr>\n      <th>4</th>\n      <td>2</td>\n      <td>0.1</td>\n      <td>0.7886545024430117</td>\n      <td>Minimac4</td>\n    </tr>\n    <tr>\n      <th>5</th>\n      <td>2</td>\n      <td>0.2</td>\n      <td>0.7650665157960085</td>\n      <td>Minimac4</td>\n    </tr>\n    <tr>\n      <th>6</th>\n      <td>3</td>\n      <td>0.05</td>\n      <td>0.7917040502006942</td>\n      <td>Minimac4</td>\n    </tr>\n    <tr>\n      <th>7</th>\n      <td>3</td>\n      <td>0.1</td>\n      <td>0.7773012894646297</td>\n      <td>Minimac4</td>\n    </tr>\n    <tr>\n      <th>8</th>\n      <td>3</td>\n      <td>0.2</td>\n      <td>0.7272036898358366</td>\n      <td>Minimac4</td>\n    </tr>\n    <tr>\n      <th>9</th>\n      <td>1</td>\n      <td>0.05</td>\n      <td>0.8964028078953203</td>\n      <td>HLA*DEEP</td>\n    </tr>\n    <tr>\n      <th>10</th>\n      <td>1</td>\n      <td>0.1</td>\n      <td>0.8768880289722408</td>\n      <td>HLA*DEEP</td>\n    </tr>\n    <tr>\n      <th>11</th>\n      <td>1</td>\n      <td>0.2</td>\n      <td>0.8385497465651487</td>\n      <td>HLA*DEEP</td>\n    </tr>\n    <tr>\n      <th>12</th>\n      <td>2</td>\n      <td>0.05</td>\n      <td>0.876545957967092</td>\n      <td>HLA*DEEP</td>\n    </tr>\n    <tr>\n      <th>13</th>\n      <td>2</td>\n      <td>0.1</td>\n      <td>0.8621072606174227</td>\n      <td>HLA*DEEP</td>\n    </tr>\n    <tr>\n      <th>14</th>\n      <td>2</td>\n      <td>0.2</td>\n      <td>0.8426990265490621</td>\n      <td>HLA*DEEP</td>\n    </tr>\n    <tr>\n      <th>15</th>\n      <td>3</td>\n      <td>0.05</td>\n      <td>0.8782428858082865</td>\n      <td>HLA*DEEP</td>\n    </tr>\n    <tr>\n      <th>16</th>\n      <td>3</td>\n      <td>0.1</td>\n      <td>0.8624152972610523</td>\n      <td>HLA*DEEP</td>\n    </tr>\n    <tr>\n      <th>17</th>\n      <td>3</td>\n      <td>0.2</td>\n      <td>0.8352408330806385</td>\n      <td>HLA*DEEP</td>\n    </tr>\n    <tr>\n      <th>18</th>\n      <td>1</td>\n      <td>0.05</td>\n      <td>0.890564282123477</td>\n      <td>SCDA+</td>\n    </tr>\n    <tr>\n      <th>19</th>\n      <td>1</td>\n      <td>0.1</td>\n      <td>0.8692987403066246</td>\n      <td>SCDA+</td>\n    </tr>\n    <tr>\n      <th>20</th>\n      <td>1</td>\n      <td>0.2</td>\n      <td>0.8200527116201248</td>\n      <td>SCDA+</td>\n    </tr>\n    <tr>\n      <th>21</th>\n      <td>2</td>\n      <td>0.05</td>\n      <td>0.8865959485144825</td>\n      <td>SCDA+</td>\n    </tr>\n    <tr>\n      <th>22</th>\n      <td>2</td>\n      <td>0.1</td>\n      <td>0.8620584525452124</td>\n      <td>SCDA+</td>\n    </tr>\n    <tr>\n      <th>23</th>\n      <td>2</td>\n      <td>0.2</td>\n      <td>0.8164034005950548</td>\n      <td>SCDA+</td>\n    </tr>\n    <tr>\n      <th>24</th>\n      <td>3</td>\n      <td>0.05</td>\n      <td>0.8715485577225671</td>\n      <td>SCDA+</td>\n    </tr>\n    <tr>\n      <th>25</th>\n      <td>3</td>\n      <td>0.1</td>\n      <td>0.8492924191985115</td>\n      <td>SCDA+</td>\n    </tr>\n    <tr>\n      <th>26</th>\n      <td>3</td>\n      <td>0.2</td>\n      <td>0.8207741148714447</td>\n      <td>SCDA+</td>\n    </tr>\n    <tr>\n      <th>27</th>\n      <td>1</td>\n      <td>0.05</td>\n      <td>0.7306372096062076</td>\n      <td>AE</td>\n    </tr>\n    <tr>\n      <th>28</th>\n      <td>1</td>\n      <td>0.1</td>\n      <td>0.7453162231824787</td>\n      <td>AE</td>\n    </tr>\n    <tr>\n      <th>29</th>\n      <td>1</td>\n      <td>0.2</td>\n      <td>0.724838350395821</td>\n      <td>AE</td>\n    </tr>\n    <tr>\n      <th>30</th>\n      <td>2</td>\n      <td>0.05</td>\n      <td>0.7789628136378918</td>\n      <td>AE</td>\n    </tr>\n    <tr>\n      <th>31</th>\n      <td>2</td>\n      <td>0.1</td>\n      <td>0.8406451721493636</td>\n      <td>AE</td>\n    </tr>\n    <tr>\n      <th>32</th>\n      <td>2</td>\n      <td>0.2</td>\n      <td>0.3688811188811189</td>\n      <td>AE</td>\n    </tr>\n    <tr>\n      <th>33</th>\n      <td>3</td>\n      <td>0.05</td>\n      <td>0.7645384623626381</td>\n      <td>AE</td>\n    </tr>\n    <tr>\n      <th>34</th>\n      <td>3</td>\n      <td>0.1</td>\n      <td>0.7977114318166706</td>\n      <td>AE</td>\n    </tr>\n    <tr>\n      <th>35</th>\n      <td>3</td>\n      <td>0.2</td>\n      <td>0.651826938307196</td>\n      <td>AE</td>\n    </tr>\n    <tr>\n      <th>36</th>\n      <td>1</td>\n      <td>0.05</td>\n      <td>0.9572486015916011</td>\n      <td>STI*WE</td>\n    </tr>\n    <tr>\n      <th>37</th>\n      <td>1</td>\n      <td>0.1</td>\n      <td>0.9331872308771746</td>\n      <td>STI*WE</td>\n    </tr>\n    <tr>\n      <th>38</th>\n      <td>1</td>\n      <td>0.2</td>\n      <td>0.8801961146942185</td>\n      <td>STI*WE</td>\n    </tr>\n    <tr>\n      <th>39</th>\n      <td>2</td>\n      <td>0.05</td>\n      <td>0.9566823500643878</td>\n      <td>STI*WE</td>\n    </tr>\n    <tr>\n      <th>40</th>\n      <td>2</td>\n      <td>0.1</td>\n      <td>0.9274252900730815</td>\n      <td>STI*WE</td>\n    </tr>\n    <tr>\n      <th>41</th>\n      <td>2</td>\n      <td>0.2</td>\n      <td>0.881315491776947</td>\n      <td>STI*WE</td>\n    </tr>\n    <tr>\n      <th>42</th>\n      <td>3</td>\n      <td>0.05</td>\n      <td>0.9459849922332983</td>\n      <td>STI*WE</td>\n    </tr>\n    <tr>\n      <th>43</th>\n      <td>3</td>\n      <td>0.1</td>\n      <td>0.912673203328194</td>\n      <td>STI*WE</td>\n    </tr>\n    <tr>\n      <th>44</th>\n      <td>3</td>\n      <td>0.2</td>\n      <td>0.8539854827113504</td>\n      <td>STI*WE</td>\n    </tr>\n    <tr>\n      <th>45</th>\n      <td>1</td>\n      <td>0.05</td>\n      <td>0.9681944310614421</td>\n      <td>STI</td>\n    </tr>\n    <tr>\n      <th>46</th>\n      <td>1</td>\n      <td>0.1</td>\n      <td>0.9237875857774382</td>\n      <td>STI</td>\n    </tr>\n    <tr>\n      <th>47</th>\n      <td>1</td>\n      <td>0.2</td>\n      <td>0.8630704066941796</td>\n      <td>STI</td>\n    </tr>\n    <tr>\n      <th>48</th>\n      <td>2</td>\n      <td>0.05</td>\n      <td>0.9715622754531428</td>\n      <td>STI</td>\n    </tr>\n    <tr>\n      <th>49</th>\n      <td>2</td>\n      <td>0.1</td>\n      <td>0.952017344129189</td>\n      <td>STI</td>\n    </tr>\n    <tr>\n      <th>50</th>\n      <td>2</td>\n      <td>0.2</td>\n      <td>0.8982521711450453</td>\n      <td>STI</td>\n    </tr>\n    <tr>\n      <th>51</th>\n      <td>3</td>\n      <td>0.05</td>\n      <td>0.9526346454373085</td>\n      <td>STI</td>\n    </tr>\n    <tr>\n      <th>52</th>\n      <td>3</td>\n      <td>0.1</td>\n      <td>0.9273173110620081</td>\n      <td>STI</td>\n    </tr>\n    <tr>\n      <th>53</th>\n      <td>3</td>\n      <td>0.2</td>\n      <td>0.8727860573256593</td>\n      <td>STI</td>\n    </tr>\n  </tbody>\n</table>\n</div>"
     },
     "execution_count": 25,
     "metadata": {},
     "output_type": "execute_result"
    }
   ],
   "source": [
    "kf = KFold(n_splits=N_SPLITS, shuffle=True, random_state=2022)\n",
    "fold = 0\n",
    "_x = X[X.index.isin(Y_train.index)].to_numpy()\n",
    "for train_index, test_index in kf.split(_x):\n",
    "  fold += 1\n",
    "  print(f\"Fold: {fold}\")\n",
    "  y = _x[test_index]\n",
    "  for missing_perc in [0.05,\n",
    "                       0.1,\n",
    "                       0.2]:\n",
    "    print(f\"Missing rate: {missing_perc}\")\n",
    "    file_name = f\"./experimental_results/Chr22/DEL/STI/preds_mixed_mr_{missing_perc}_rs_{fold}_.csv\"\n",
    "    result_genotypes = pd.read_csv(file_name, index_col=0)\n",
    "    result_genotypes = result_genotypes.replace({\n",
    "        '0|0': 0,\n",
    "        '0|1': 1,\n",
    "        '1|0': 1,\n",
    "        '1|1': 2\n",
    "    })\n",
    "    yhat = result_genotypes.to_numpy()\n",
    "    assert y.shape == yhat.shape\n",
    "    iqs_a, iqs_mean_a = iqs_score(yhat, y)\n",
    "\n",
    "    # print('iqs_mean:', iqs_mean_a)\n",
    "    # print('iqs:', iqs_a)\n",
    "\n",
    "    dataframe = pd.DataFrame(np.array([fold, missing_perc, iqs_mean_a, \"STI\"]).reshape((1, -1)), columns=columns)\n",
    "    dfs.append(dataframe)\n",
    "\n",
    "df = pd.DataFrame(columns = columns)\n",
    "print(\"Combining the results...\")\n",
    "df = pd.concat(dfs, ignore_index=True)\n",
    "del dfs\n",
    "\n",
    "df"
   ],
   "metadata": {
    "collapsed": false,
    "pycharm": {
     "name": "#%%\n"
    }
   }
  },
  {
   "cell_type": "code",
   "execution_count": 26,
   "outputs": [
    {
     "data": {
      "text/plain": "   Fold Missing Rate      IQS    Method\n0     1         0.05  0.78106  Minimac4\n1     1          0.1  0.76062  Minimac4\n2     1          0.2  0.72531  Minimac4\n3     2         0.05  0.80931  Minimac4\n4     2          0.1  0.78865  Minimac4\n5     2          0.2  0.76507  Minimac4\n6     3         0.05  0.79170  Minimac4\n7     3          0.1  0.77730  Minimac4\n8     3          0.2  0.72720  Minimac4\n9     1         0.05  0.89640  HLA*DEEP\n10    1          0.1  0.87689  HLA*DEEP\n11    1          0.2  0.83855  HLA*DEEP\n12    2         0.05  0.87655  HLA*DEEP\n13    2          0.1  0.86211  HLA*DEEP\n14    2          0.2  0.84270  HLA*DEEP\n15    3         0.05  0.87824  HLA*DEEP\n16    3          0.1  0.86242  HLA*DEEP\n17    3          0.2  0.83524  HLA*DEEP\n18    1         0.05  0.89056     SCDA+\n19    1          0.1  0.86930     SCDA+\n20    1          0.2  0.82005     SCDA+\n21    2         0.05  0.88660     SCDA+\n22    2          0.1  0.86206     SCDA+\n23    2          0.2  0.81640     SCDA+\n24    3         0.05  0.87155     SCDA+\n25    3          0.1  0.84929     SCDA+\n26    3          0.2  0.82077     SCDA+\n27    1         0.05  0.73064        AE\n28    1          0.1  0.74532        AE\n29    1          0.2  0.72484        AE\n30    2         0.05  0.77896        AE\n31    2          0.1  0.84065        AE\n32    2          0.2  0.36888        AE\n33    3         0.05  0.76454        AE\n34    3          0.1  0.79771        AE\n35    3          0.2  0.65183        AE\n36    1         0.05  0.95725    STI*WE\n37    1          0.1  0.93319    STI*WE\n38    1          0.2  0.88020    STI*WE\n39    2         0.05  0.95668    STI*WE\n40    2          0.1  0.92743    STI*WE\n41    2          0.2  0.88132    STI*WE\n42    3         0.05  0.94598    STI*WE\n43    3          0.1  0.91267    STI*WE\n44    3          0.2  0.85399    STI*WE\n45    1         0.05  0.96819       STI\n46    1          0.1  0.92379       STI\n47    1          0.2  0.86307       STI\n48    2         0.05  0.97156       STI\n49    2          0.1  0.95202       STI\n50    2          0.2  0.89825       STI\n51    3         0.05  0.95263       STI\n52    3          0.1  0.92732       STI\n53    3          0.2  0.87279       STI",
      "text/html": "<div>\n<style scoped>\n    .dataframe tbody tr th:only-of-type {\n        vertical-align: middle;\n    }\n\n    .dataframe tbody tr th {\n        vertical-align: top;\n    }\n\n    .dataframe thead th {\n        text-align: right;\n    }\n</style>\n<table border=\"1\" class=\"dataframe\">\n  <thead>\n    <tr style=\"text-align: right;\">\n      <th></th>\n      <th>Fold</th>\n      <th>Missing Rate</th>\n      <th>IQS</th>\n      <th>Method</th>\n    </tr>\n  </thead>\n  <tbody>\n    <tr>\n      <th>0</th>\n      <td>1</td>\n      <td>0.05</td>\n      <td>0.78106</td>\n      <td>Minimac4</td>\n    </tr>\n    <tr>\n      <th>1</th>\n      <td>1</td>\n      <td>0.1</td>\n      <td>0.76062</td>\n      <td>Minimac4</td>\n    </tr>\n    <tr>\n      <th>2</th>\n      <td>1</td>\n      <td>0.2</td>\n      <td>0.72531</td>\n      <td>Minimac4</td>\n    </tr>\n    <tr>\n      <th>3</th>\n      <td>2</td>\n      <td>0.05</td>\n      <td>0.80931</td>\n      <td>Minimac4</td>\n    </tr>\n    <tr>\n      <th>4</th>\n      <td>2</td>\n      <td>0.1</td>\n      <td>0.78865</td>\n      <td>Minimac4</td>\n    </tr>\n    <tr>\n      <th>5</th>\n      <td>2</td>\n      <td>0.2</td>\n      <td>0.76507</td>\n      <td>Minimac4</td>\n    </tr>\n    <tr>\n      <th>6</th>\n      <td>3</td>\n      <td>0.05</td>\n      <td>0.79170</td>\n      <td>Minimac4</td>\n    </tr>\n    <tr>\n      <th>7</th>\n      <td>3</td>\n      <td>0.1</td>\n      <td>0.77730</td>\n      <td>Minimac4</td>\n    </tr>\n    <tr>\n      <th>8</th>\n      <td>3</td>\n      <td>0.2</td>\n      <td>0.72720</td>\n      <td>Minimac4</td>\n    </tr>\n    <tr>\n      <th>9</th>\n      <td>1</td>\n      <td>0.05</td>\n      <td>0.89640</td>\n      <td>HLA*DEEP</td>\n    </tr>\n    <tr>\n      <th>10</th>\n      <td>1</td>\n      <td>0.1</td>\n      <td>0.87689</td>\n      <td>HLA*DEEP</td>\n    </tr>\n    <tr>\n      <th>11</th>\n      <td>1</td>\n      <td>0.2</td>\n      <td>0.83855</td>\n      <td>HLA*DEEP</td>\n    </tr>\n    <tr>\n      <th>12</th>\n      <td>2</td>\n      <td>0.05</td>\n      <td>0.87655</td>\n      <td>HLA*DEEP</td>\n    </tr>\n    <tr>\n      <th>13</th>\n      <td>2</td>\n      <td>0.1</td>\n      <td>0.86211</td>\n      <td>HLA*DEEP</td>\n    </tr>\n    <tr>\n      <th>14</th>\n      <td>2</td>\n      <td>0.2</td>\n      <td>0.84270</td>\n      <td>HLA*DEEP</td>\n    </tr>\n    <tr>\n      <th>15</th>\n      <td>3</td>\n      <td>0.05</td>\n      <td>0.87824</td>\n      <td>HLA*DEEP</td>\n    </tr>\n    <tr>\n      <th>16</th>\n      <td>3</td>\n      <td>0.1</td>\n      <td>0.86242</td>\n      <td>HLA*DEEP</td>\n    </tr>\n    <tr>\n      <th>17</th>\n      <td>3</td>\n      <td>0.2</td>\n      <td>0.83524</td>\n      <td>HLA*DEEP</td>\n    </tr>\n    <tr>\n      <th>18</th>\n      <td>1</td>\n      <td>0.05</td>\n      <td>0.89056</td>\n      <td>SCDA+</td>\n    </tr>\n    <tr>\n      <th>19</th>\n      <td>1</td>\n      <td>0.1</td>\n      <td>0.86930</td>\n      <td>SCDA+</td>\n    </tr>\n    <tr>\n      <th>20</th>\n      <td>1</td>\n      <td>0.2</td>\n      <td>0.82005</td>\n      <td>SCDA+</td>\n    </tr>\n    <tr>\n      <th>21</th>\n      <td>2</td>\n      <td>0.05</td>\n      <td>0.88660</td>\n      <td>SCDA+</td>\n    </tr>\n    <tr>\n      <th>22</th>\n      <td>2</td>\n      <td>0.1</td>\n      <td>0.86206</td>\n      <td>SCDA+</td>\n    </tr>\n    <tr>\n      <th>23</th>\n      <td>2</td>\n      <td>0.2</td>\n      <td>0.81640</td>\n      <td>SCDA+</td>\n    </tr>\n    <tr>\n      <th>24</th>\n      <td>3</td>\n      <td>0.05</td>\n      <td>0.87155</td>\n      <td>SCDA+</td>\n    </tr>\n    <tr>\n      <th>25</th>\n      <td>3</td>\n      <td>0.1</td>\n      <td>0.84929</td>\n      <td>SCDA+</td>\n    </tr>\n    <tr>\n      <th>26</th>\n      <td>3</td>\n      <td>0.2</td>\n      <td>0.82077</td>\n      <td>SCDA+</td>\n    </tr>\n    <tr>\n      <th>27</th>\n      <td>1</td>\n      <td>0.05</td>\n      <td>0.73064</td>\n      <td>AE</td>\n    </tr>\n    <tr>\n      <th>28</th>\n      <td>1</td>\n      <td>0.1</td>\n      <td>0.74532</td>\n      <td>AE</td>\n    </tr>\n    <tr>\n      <th>29</th>\n      <td>1</td>\n      <td>0.2</td>\n      <td>0.72484</td>\n      <td>AE</td>\n    </tr>\n    <tr>\n      <th>30</th>\n      <td>2</td>\n      <td>0.05</td>\n      <td>0.77896</td>\n      <td>AE</td>\n    </tr>\n    <tr>\n      <th>31</th>\n      <td>2</td>\n      <td>0.1</td>\n      <td>0.84065</td>\n      <td>AE</td>\n    </tr>\n    <tr>\n      <th>32</th>\n      <td>2</td>\n      <td>0.2</td>\n      <td>0.36888</td>\n      <td>AE</td>\n    </tr>\n    <tr>\n      <th>33</th>\n      <td>3</td>\n      <td>0.05</td>\n      <td>0.76454</td>\n      <td>AE</td>\n    </tr>\n    <tr>\n      <th>34</th>\n      <td>3</td>\n      <td>0.1</td>\n      <td>0.79771</td>\n      <td>AE</td>\n    </tr>\n    <tr>\n      <th>35</th>\n      <td>3</td>\n      <td>0.2</td>\n      <td>0.65183</td>\n      <td>AE</td>\n    </tr>\n    <tr>\n      <th>36</th>\n      <td>1</td>\n      <td>0.05</td>\n      <td>0.95725</td>\n      <td>STI*WE</td>\n    </tr>\n    <tr>\n      <th>37</th>\n      <td>1</td>\n      <td>0.1</td>\n      <td>0.93319</td>\n      <td>STI*WE</td>\n    </tr>\n    <tr>\n      <th>38</th>\n      <td>1</td>\n      <td>0.2</td>\n      <td>0.88020</td>\n      <td>STI*WE</td>\n    </tr>\n    <tr>\n      <th>39</th>\n      <td>2</td>\n      <td>0.05</td>\n      <td>0.95668</td>\n      <td>STI*WE</td>\n    </tr>\n    <tr>\n      <th>40</th>\n      <td>2</td>\n      <td>0.1</td>\n      <td>0.92743</td>\n      <td>STI*WE</td>\n    </tr>\n    <tr>\n      <th>41</th>\n      <td>2</td>\n      <td>0.2</td>\n      <td>0.88132</td>\n      <td>STI*WE</td>\n    </tr>\n    <tr>\n      <th>42</th>\n      <td>3</td>\n      <td>0.05</td>\n      <td>0.94598</td>\n      <td>STI*WE</td>\n    </tr>\n    <tr>\n      <th>43</th>\n      <td>3</td>\n      <td>0.1</td>\n      <td>0.91267</td>\n      <td>STI*WE</td>\n    </tr>\n    <tr>\n      <th>44</th>\n      <td>3</td>\n      <td>0.2</td>\n      <td>0.85399</td>\n      <td>STI*WE</td>\n    </tr>\n    <tr>\n      <th>45</th>\n      <td>1</td>\n      <td>0.05</td>\n      <td>0.96819</td>\n      <td>STI</td>\n    </tr>\n    <tr>\n      <th>46</th>\n      <td>1</td>\n      <td>0.1</td>\n      <td>0.92379</td>\n      <td>STI</td>\n    </tr>\n    <tr>\n      <th>47</th>\n      <td>1</td>\n      <td>0.2</td>\n      <td>0.86307</td>\n      <td>STI</td>\n    </tr>\n    <tr>\n      <th>48</th>\n      <td>2</td>\n      <td>0.05</td>\n      <td>0.97156</td>\n      <td>STI</td>\n    </tr>\n    <tr>\n      <th>49</th>\n      <td>2</td>\n      <td>0.1</td>\n      <td>0.95202</td>\n      <td>STI</td>\n    </tr>\n    <tr>\n      <th>50</th>\n      <td>2</td>\n      <td>0.2</td>\n      <td>0.89825</td>\n      <td>STI</td>\n    </tr>\n    <tr>\n      <th>51</th>\n      <td>3</td>\n      <td>0.05</td>\n      <td>0.95263</td>\n      <td>STI</td>\n    </tr>\n    <tr>\n      <th>52</th>\n      <td>3</td>\n      <td>0.1</td>\n      <td>0.92732</td>\n      <td>STI</td>\n    </tr>\n    <tr>\n      <th>53</th>\n      <td>3</td>\n      <td>0.2</td>\n      <td>0.87279</td>\n      <td>STI</td>\n    </tr>\n  </tbody>\n</table>\n</div>"
     },
     "execution_count": 26,
     "metadata": {},
     "output_type": "execute_result"
    }
   ],
   "source": [
    "df[\"IQS\"] = df[\"IQS\"].astype(float)\n",
    "df = df.round({'IQS': 5})\n",
    "df"
   ],
   "metadata": {
    "collapsed": false,
    "pycharm": {
     "name": "#%%\n"
    }
   }
  },
  {
   "cell_type": "code",
   "execution_count": 27,
   "outputs": [],
   "source": [
    "df.to_csv(\"results_in_table/Chr22/DEL/IQS_all.csv\")\n"
   ],
   "metadata": {
    "collapsed": false,
    "pycharm": {
     "name": "#%%\n"
    }
   }
  },
  {
   "cell_type": "code",
   "execution_count": 29,
   "outputs": [
    {
     "data": {
      "text/plain": "                                IQS\nMethod   Fold Missing Rate         \nAE       1    0.05          0.73064\n              0.1           0.74532\n              0.2           0.72484\n         2    0.05          0.77896\n              0.1           0.84065\n              0.2           0.36888\n         3    0.05          0.76454\n              0.1           0.79771\n              0.2           0.65183\nHLA*DEEP 1    0.05          0.89640\n              0.1           0.87689\n              0.2           0.83855\n         2    0.05          0.87655\n              0.1           0.86211\n              0.2           0.84270\n         3    0.05          0.87824\n              0.1           0.86242\n              0.2           0.83524\nMinimac4 1    0.05          0.78106\n              0.1           0.76062\n              0.2           0.72531\n         2    0.05          0.80931\n              0.1           0.78865\n              0.2           0.76507\n         3    0.05          0.79170\n              0.1           0.77730\n              0.2           0.72720\nSCDA+    1    0.05          0.89056\n              0.1           0.86930\n              0.2           0.82005\n         2    0.05          0.88660\n              0.1           0.86206\n              0.2           0.81640\n         3    0.05          0.87155\n              0.1           0.84929\n              0.2           0.82077\nSTI      1    0.05          0.96819\n              0.1           0.92379\n              0.2           0.86307\n         2    0.05          0.97156\n              0.1           0.95202\n              0.2           0.89825\n         3    0.05          0.95263\n              0.1           0.92732\n              0.2           0.87279\nSTI*WE   1    0.05          0.95725\n              0.1           0.93319\n              0.2           0.88020\n         2    0.05          0.95668\n              0.1           0.92743\n              0.2           0.88132\n         3    0.05          0.94598\n              0.1           0.91267\n              0.2           0.85399",
      "text/html": "<div>\n<style scoped>\n    .dataframe tbody tr th:only-of-type {\n        vertical-align: middle;\n    }\n\n    .dataframe tbody tr th {\n        vertical-align: top;\n    }\n\n    .dataframe thead th {\n        text-align: right;\n    }\n</style>\n<table border=\"1\" class=\"dataframe\">\n  <thead>\n    <tr style=\"text-align: right;\">\n      <th></th>\n      <th></th>\n      <th></th>\n      <th>IQS</th>\n    </tr>\n    <tr>\n      <th>Method</th>\n      <th>Fold</th>\n      <th>Missing Rate</th>\n      <th></th>\n    </tr>\n  </thead>\n  <tbody>\n    <tr>\n      <th rowspan=\"9\" valign=\"top\">AE</th>\n      <th rowspan=\"3\" valign=\"top\">1</th>\n      <th>0.05</th>\n      <td>0.73064</td>\n    </tr>\n    <tr>\n      <th>0.1</th>\n      <td>0.74532</td>\n    </tr>\n    <tr>\n      <th>0.2</th>\n      <td>0.72484</td>\n    </tr>\n    <tr>\n      <th rowspan=\"3\" valign=\"top\">2</th>\n      <th>0.05</th>\n      <td>0.77896</td>\n    </tr>\n    <tr>\n      <th>0.1</th>\n      <td>0.84065</td>\n    </tr>\n    <tr>\n      <th>0.2</th>\n      <td>0.36888</td>\n    </tr>\n    <tr>\n      <th rowspan=\"3\" valign=\"top\">3</th>\n      <th>0.05</th>\n      <td>0.76454</td>\n    </tr>\n    <tr>\n      <th>0.1</th>\n      <td>0.79771</td>\n    </tr>\n    <tr>\n      <th>0.2</th>\n      <td>0.65183</td>\n    </tr>\n    <tr>\n      <th rowspan=\"9\" valign=\"top\">HLA*DEEP</th>\n      <th rowspan=\"3\" valign=\"top\">1</th>\n      <th>0.05</th>\n      <td>0.89640</td>\n    </tr>\n    <tr>\n      <th>0.1</th>\n      <td>0.87689</td>\n    </tr>\n    <tr>\n      <th>0.2</th>\n      <td>0.83855</td>\n    </tr>\n    <tr>\n      <th rowspan=\"3\" valign=\"top\">2</th>\n      <th>0.05</th>\n      <td>0.87655</td>\n    </tr>\n    <tr>\n      <th>0.1</th>\n      <td>0.86211</td>\n    </tr>\n    <tr>\n      <th>0.2</th>\n      <td>0.84270</td>\n    </tr>\n    <tr>\n      <th rowspan=\"3\" valign=\"top\">3</th>\n      <th>0.05</th>\n      <td>0.87824</td>\n    </tr>\n    <tr>\n      <th>0.1</th>\n      <td>0.86242</td>\n    </tr>\n    <tr>\n      <th>0.2</th>\n      <td>0.83524</td>\n    </tr>\n    <tr>\n      <th rowspan=\"9\" valign=\"top\">Minimac4</th>\n      <th rowspan=\"3\" valign=\"top\">1</th>\n      <th>0.05</th>\n      <td>0.78106</td>\n    </tr>\n    <tr>\n      <th>0.1</th>\n      <td>0.76062</td>\n    </tr>\n    <tr>\n      <th>0.2</th>\n      <td>0.72531</td>\n    </tr>\n    <tr>\n      <th rowspan=\"3\" valign=\"top\">2</th>\n      <th>0.05</th>\n      <td>0.80931</td>\n    </tr>\n    <tr>\n      <th>0.1</th>\n      <td>0.78865</td>\n    </tr>\n    <tr>\n      <th>0.2</th>\n      <td>0.76507</td>\n    </tr>\n    <tr>\n      <th rowspan=\"3\" valign=\"top\">3</th>\n      <th>0.05</th>\n      <td>0.79170</td>\n    </tr>\n    <tr>\n      <th>0.1</th>\n      <td>0.77730</td>\n    </tr>\n    <tr>\n      <th>0.2</th>\n      <td>0.72720</td>\n    </tr>\n    <tr>\n      <th rowspan=\"9\" valign=\"top\">SCDA+</th>\n      <th rowspan=\"3\" valign=\"top\">1</th>\n      <th>0.05</th>\n      <td>0.89056</td>\n    </tr>\n    <tr>\n      <th>0.1</th>\n      <td>0.86930</td>\n    </tr>\n    <tr>\n      <th>0.2</th>\n      <td>0.82005</td>\n    </tr>\n    <tr>\n      <th rowspan=\"3\" valign=\"top\">2</th>\n      <th>0.05</th>\n      <td>0.88660</td>\n    </tr>\n    <tr>\n      <th>0.1</th>\n      <td>0.86206</td>\n    </tr>\n    <tr>\n      <th>0.2</th>\n      <td>0.81640</td>\n    </tr>\n    <tr>\n      <th rowspan=\"3\" valign=\"top\">3</th>\n      <th>0.05</th>\n      <td>0.87155</td>\n    </tr>\n    <tr>\n      <th>0.1</th>\n      <td>0.84929</td>\n    </tr>\n    <tr>\n      <th>0.2</th>\n      <td>0.82077</td>\n    </tr>\n    <tr>\n      <th rowspan=\"9\" valign=\"top\">STI</th>\n      <th rowspan=\"3\" valign=\"top\">1</th>\n      <th>0.05</th>\n      <td>0.96819</td>\n    </tr>\n    <tr>\n      <th>0.1</th>\n      <td>0.92379</td>\n    </tr>\n    <tr>\n      <th>0.2</th>\n      <td>0.86307</td>\n    </tr>\n    <tr>\n      <th rowspan=\"3\" valign=\"top\">2</th>\n      <th>0.05</th>\n      <td>0.97156</td>\n    </tr>\n    <tr>\n      <th>0.1</th>\n      <td>0.95202</td>\n    </tr>\n    <tr>\n      <th>0.2</th>\n      <td>0.89825</td>\n    </tr>\n    <tr>\n      <th rowspan=\"3\" valign=\"top\">3</th>\n      <th>0.05</th>\n      <td>0.95263</td>\n    </tr>\n    <tr>\n      <th>0.1</th>\n      <td>0.92732</td>\n    </tr>\n    <tr>\n      <th>0.2</th>\n      <td>0.87279</td>\n    </tr>\n    <tr>\n      <th rowspan=\"9\" valign=\"top\">STI*WE</th>\n      <th rowspan=\"3\" valign=\"top\">1</th>\n      <th>0.05</th>\n      <td>0.95725</td>\n    </tr>\n    <tr>\n      <th>0.1</th>\n      <td>0.93319</td>\n    </tr>\n    <tr>\n      <th>0.2</th>\n      <td>0.88020</td>\n    </tr>\n    <tr>\n      <th rowspan=\"3\" valign=\"top\">2</th>\n      <th>0.05</th>\n      <td>0.95668</td>\n    </tr>\n    <tr>\n      <th>0.1</th>\n      <td>0.92743</td>\n    </tr>\n    <tr>\n      <th>0.2</th>\n      <td>0.88132</td>\n    </tr>\n    <tr>\n      <th rowspan=\"3\" valign=\"top\">3</th>\n      <th>0.05</th>\n      <td>0.94598</td>\n    </tr>\n    <tr>\n      <th>0.1</th>\n      <td>0.91267</td>\n    </tr>\n    <tr>\n      <th>0.2</th>\n      <td>0.85399</td>\n    </tr>\n  </tbody>\n</table>\n</div>"
     },
     "execution_count": 29,
     "metadata": {},
     "output_type": "execute_result"
    }
   ],
   "source": [
    "df1 = df.groupby([\"Method\", \"Fold\", \"Missing Rate\"]).agg( {\"IQS\":\"mean\"})\n",
    "df1"
   ],
   "metadata": {
    "collapsed": false,
    "pycharm": {
     "name": "#%%\n"
    }
   }
  },
  {
   "cell_type": "code",
   "execution_count": 30,
   "outputs": [
    {
     "data": {
      "text/plain": "                            IQS          \n                           mean       std\nMethod   Missing Rate                    \nAE       0.05          0.758047  0.024806\n         0.1           0.794560  0.047743\n         0.2           0.581850  0.188015\nHLA*DEEP 0.05          0.883730  0.011005\n         0.1           0.867140  0.008445\n         0.2           0.838830  0.003738\nMinimac4 0.05          0.794023  0.014268\n         0.1           0.775523  0.014099\n         0.2           0.739193  0.022430\nSCDA+    0.05          0.882903  0.010030\n         0.1           0.860217  0.010132\n         0.2           0.819073  0.002343\nSTI      0.05          0.964127  0.010098\n         0.1           0.934377  0.015381\n         0.2           0.878037  0.018167\nSTI*WE   0.05          0.953303  0.006349\n         0.1           0.924430  0.010584\n         0.2           0.871837  0.015466",
      "text/html": "<div>\n<style scoped>\n    .dataframe tbody tr th:only-of-type {\n        vertical-align: middle;\n    }\n\n    .dataframe tbody tr th {\n        vertical-align: top;\n    }\n\n    .dataframe thead tr th {\n        text-align: left;\n    }\n\n    .dataframe thead tr:last-of-type th {\n        text-align: right;\n    }\n</style>\n<table border=\"1\" class=\"dataframe\">\n  <thead>\n    <tr>\n      <th></th>\n      <th></th>\n      <th colspan=\"2\" halign=\"left\">IQS</th>\n    </tr>\n    <tr>\n      <th></th>\n      <th></th>\n      <th>mean</th>\n      <th>std</th>\n    </tr>\n    <tr>\n      <th>Method</th>\n      <th>Missing Rate</th>\n      <th></th>\n      <th></th>\n    </tr>\n  </thead>\n  <tbody>\n    <tr>\n      <th rowspan=\"3\" valign=\"top\">AE</th>\n      <th>0.05</th>\n      <td>0.758047</td>\n      <td>0.024806</td>\n    </tr>\n    <tr>\n      <th>0.1</th>\n      <td>0.794560</td>\n      <td>0.047743</td>\n    </tr>\n    <tr>\n      <th>0.2</th>\n      <td>0.581850</td>\n      <td>0.188015</td>\n    </tr>\n    <tr>\n      <th rowspan=\"3\" valign=\"top\">HLA*DEEP</th>\n      <th>0.05</th>\n      <td>0.883730</td>\n      <td>0.011005</td>\n    </tr>\n    <tr>\n      <th>0.1</th>\n      <td>0.867140</td>\n      <td>0.008445</td>\n    </tr>\n    <tr>\n      <th>0.2</th>\n      <td>0.838830</td>\n      <td>0.003738</td>\n    </tr>\n    <tr>\n      <th rowspan=\"3\" valign=\"top\">Minimac4</th>\n      <th>0.05</th>\n      <td>0.794023</td>\n      <td>0.014268</td>\n    </tr>\n    <tr>\n      <th>0.1</th>\n      <td>0.775523</td>\n      <td>0.014099</td>\n    </tr>\n    <tr>\n      <th>0.2</th>\n      <td>0.739193</td>\n      <td>0.022430</td>\n    </tr>\n    <tr>\n      <th rowspan=\"3\" valign=\"top\">SCDA+</th>\n      <th>0.05</th>\n      <td>0.882903</td>\n      <td>0.010030</td>\n    </tr>\n    <tr>\n      <th>0.1</th>\n      <td>0.860217</td>\n      <td>0.010132</td>\n    </tr>\n    <tr>\n      <th>0.2</th>\n      <td>0.819073</td>\n      <td>0.002343</td>\n    </tr>\n    <tr>\n      <th rowspan=\"3\" valign=\"top\">STI</th>\n      <th>0.05</th>\n      <td>0.964127</td>\n      <td>0.010098</td>\n    </tr>\n    <tr>\n      <th>0.1</th>\n      <td>0.934377</td>\n      <td>0.015381</td>\n    </tr>\n    <tr>\n      <th>0.2</th>\n      <td>0.878037</td>\n      <td>0.018167</td>\n    </tr>\n    <tr>\n      <th rowspan=\"3\" valign=\"top\">STI*WE</th>\n      <th>0.05</th>\n      <td>0.953303</td>\n      <td>0.006349</td>\n    </tr>\n    <tr>\n      <th>0.1</th>\n      <td>0.924430</td>\n      <td>0.010584</td>\n    </tr>\n    <tr>\n      <th>0.2</th>\n      <td>0.871837</td>\n      <td>0.015466</td>\n    </tr>\n  </tbody>\n</table>\n</div>"
     },
     "execution_count": 30,
     "metadata": {},
     "output_type": "execute_result"
    }
   ],
   "source": [
    "df1 = df.groupby([\"Method\", \"Fold\", \"Missing Rate\"]).agg( {\"IQS\":\"mean\"}).reset_index()# df1.columns = df1.columns.droplevel(0)\n",
    "df1 = df1.groupby([\"Method\", \"Missing Rate\"]).agg( {\"IQS\":[\"mean\", \"std\"]})#.reset_index()\n",
    "df1\n"
   ],
   "metadata": {
    "collapsed": false,
    "pycharm": {
     "name": "#%%\n"
    }
   }
  },
  {
   "cell_type": "code",
   "execution_count": 20,
   "outputs": [],
   "source": [],
   "metadata": {
    "collapsed": false,
    "pycharm": {
     "name": "#%%\n"
    }
   }
  }
 ],
 "metadata": {
  "kernelspec": {
   "display_name": "Python 3",
   "language": "python",
   "name": "python3"
  },
  "language_info": {
   "codemirror_mode": {
    "name": "ipython",
    "version": 2
   },
   "file_extension": ".py",
   "mimetype": "text/x-python",
   "name": "python",
   "nbconvert_exporter": "python",
   "pygments_lexer": "ipython2",
   "version": "2.7.6"
  }
 },
 "nbformat": 4,
 "nbformat_minor": 0
}