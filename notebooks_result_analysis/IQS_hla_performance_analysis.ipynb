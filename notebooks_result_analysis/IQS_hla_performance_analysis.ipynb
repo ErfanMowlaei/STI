{
 "cells": [
  {
   "cell_type": "code",
   "execution_count": 2,
   "metadata": {
    "collapsed": true
   },
   "outputs": [],
   "source": [
    "import os\n",
    "\n",
    "import allel\n",
    "import numpy as np\n",
    "import pandas as pd\n",
    "import ast\n",
    "import math\n",
    "import re\n",
    "import itertools\n",
    "import random\n",
    "import json\n",
    "import matplotlib\n",
    "from matplotlib.pyplot import plot as plt\n",
    "from pylab import *\n",
    "from scipy.spatial.distance import squareform\n",
    "\n",
    "mpl.use(\"pgf\")\n",
    "# activate latex text rendering\n",
    "rc('text', usetex=True)\n",
    "rc('axes', linewidth=2)\n",
    "rc('font', weight='bold')\n",
    "mpl.rcParams.update({\n",
    "    \"pgf.texsystem\": \"pdflatex\",\n",
    "    'font.family': 'serif',\n",
    "    'text.usetex': True,\n",
    "    'pgf.rcfonts': False,\n",
    "    'text.latex.preamble':r'\\usepackage{sfmath} \\boldmath'\n",
    "})\n",
    "%matplotlib inline\n",
    "import seaborn as sns\n",
    "sns.set_theme(style=\"whitegrid\")\n",
    "from sklearn.model_selection import KFold,StratifiedKFold\n",
    "from sklearn.model_selection import train_test_split\n",
    "from tqdm import tqdm\n",
    "# sns.set_theme(style=\"ticks\")\n"
   ]
  },
  {
   "cell_type": "code",
   "execution_count": 43,
   "outputs": [
    {
     "data": {
      "text/plain": "        0    1    2    3    4    5    6    7    8    9     ... 7151 7152 7153  \\\nHG00096  0|0  0|0  0|0  0|0  0|0  0|0  0|0  0|0  0|0  0|0  ...  0|0  0|0  0|0   \nHG00097  0|0  1|0  1|0  0|0  1|0  0|0  0|0  0|0  0|0  1|0  ...  0|1  0|1  0|1   \nHG00099  0|0  0|1  0|0  0|0  0|0  0|0  0|0  0|0  0|0  0|0  ...  1|1  1|1  1|1   \nHG00100  0|0  0|1  0|1  0|0  0|1  0|0  0|0  0|0  0|0  0|1  ...  0|1  0|1  0|1   \nHG00101  0|0  1|1  1|0  0|0  1|0  0|0  0|0  0|0  0|0  1|0  ...  1|0  1|0  1|0   \n...      ...  ...  ...  ...  ...  ...  ...  ...  ...  ...  ...  ...  ...  ...   \nNA21137  0|0  0|0  0|0  0|0  0|0  0|0  0|0  0|0  0|0  0|0  ...  0|0  0|0  0|0   \nNA21141  0|0  1|1  1|1  0|0  1|1  0|0  0|0  0|0  0|0  1|1  ...  1|0  1|0  0|0   \nNA21142  0|0  1|1  0|1  0|0  0|1  0|0  0|0  0|0  0|0  0|1  ...  0|1  0|1  0|1   \nNA21143  0|0  1|0  0|0  0|0  0|0  0|0  0|0  0|0  0|0  0|0  ...  1|1  1|1  1|1   \nNA21144  0|0  1|0  0|0  0|0  0|0  0|0  0|0  0|0  0|0  0|0  ...  1|1  1|1  0|0   \n\n        7154 7155 7156 7157 7158 7159 7160  \nHG00096  0|0  0|0  0|0  0|0  0|0  0|0  0|0  \nHG00097  0|1  0|0  0|1  0|1  0|1  0|1  0|0  \nHG00099  1|1  0|0  1|1  1|1  1|1  1|1  0|0  \nHG00100  0|1  0|0  0|1  0|1  0|1  0|1  0|0  \nHG00101  1|0  0|0  1|0  1|0  1|0  1|0  0|0  \n...      ...  ...  ...  ...  ...  ...  ...  \nNA21137  0|0  0|0  0|0  0|0  0|0  0|0  0|0  \nNA21141  1|0  1|0  0|0  0|0  1|0  0|0  0|0  \nNA21142  0|1  0|0  0|1  0|1  0|1  0|1  0|0  \nNA21143  1|1  0|0  1|1  1|1  1|1  1|1  0|0  \nNA21144  1|1  1|1  0|0  0|0  1|1  0|0  0|0  \n\n[2504 rows x 7161 columns]",
      "text/html": "<div>\n<style scoped>\n    .dataframe tbody tr th:only-of-type {\n        vertical-align: middle;\n    }\n\n    .dataframe tbody tr th {\n        vertical-align: top;\n    }\n\n    .dataframe thead th {\n        text-align: right;\n    }\n</style>\n<table border=\"1\" class=\"dataframe\">\n  <thead>\n    <tr style=\"text-align: right;\">\n      <th></th>\n      <th>0</th>\n      <th>1</th>\n      <th>2</th>\n      <th>3</th>\n      <th>4</th>\n      <th>5</th>\n      <th>6</th>\n      <th>7</th>\n      <th>8</th>\n      <th>9</th>\n      <th>...</th>\n      <th>7151</th>\n      <th>7152</th>\n      <th>7153</th>\n      <th>7154</th>\n      <th>7155</th>\n      <th>7156</th>\n      <th>7157</th>\n      <th>7158</th>\n      <th>7159</th>\n      <th>7160</th>\n    </tr>\n  </thead>\n  <tbody>\n    <tr>\n      <th>HG00096</th>\n      <td>0|0</td>\n      <td>0|0</td>\n      <td>0|0</td>\n      <td>0|0</td>\n      <td>0|0</td>\n      <td>0|0</td>\n      <td>0|0</td>\n      <td>0|0</td>\n      <td>0|0</td>\n      <td>0|0</td>\n      <td>...</td>\n      <td>0|0</td>\n      <td>0|0</td>\n      <td>0|0</td>\n      <td>0|0</td>\n      <td>0|0</td>\n      <td>0|0</td>\n      <td>0|0</td>\n      <td>0|0</td>\n      <td>0|0</td>\n      <td>0|0</td>\n    </tr>\n    <tr>\n      <th>HG00097</th>\n      <td>0|0</td>\n      <td>1|0</td>\n      <td>1|0</td>\n      <td>0|0</td>\n      <td>1|0</td>\n      <td>0|0</td>\n      <td>0|0</td>\n      <td>0|0</td>\n      <td>0|0</td>\n      <td>1|0</td>\n      <td>...</td>\n      <td>0|1</td>\n      <td>0|1</td>\n      <td>0|1</td>\n      <td>0|1</td>\n      <td>0|0</td>\n      <td>0|1</td>\n      <td>0|1</td>\n      <td>0|1</td>\n      <td>0|1</td>\n      <td>0|0</td>\n    </tr>\n    <tr>\n      <th>HG00099</th>\n      <td>0|0</td>\n      <td>0|1</td>\n      <td>0|0</td>\n      <td>0|0</td>\n      <td>0|0</td>\n      <td>0|0</td>\n      <td>0|0</td>\n      <td>0|0</td>\n      <td>0|0</td>\n      <td>0|0</td>\n      <td>...</td>\n      <td>1|1</td>\n      <td>1|1</td>\n      <td>1|1</td>\n      <td>1|1</td>\n      <td>0|0</td>\n      <td>1|1</td>\n      <td>1|1</td>\n      <td>1|1</td>\n      <td>1|1</td>\n      <td>0|0</td>\n    </tr>\n    <tr>\n      <th>HG00100</th>\n      <td>0|0</td>\n      <td>0|1</td>\n      <td>0|1</td>\n      <td>0|0</td>\n      <td>0|1</td>\n      <td>0|0</td>\n      <td>0|0</td>\n      <td>0|0</td>\n      <td>0|0</td>\n      <td>0|1</td>\n      <td>...</td>\n      <td>0|1</td>\n      <td>0|1</td>\n      <td>0|1</td>\n      <td>0|1</td>\n      <td>0|0</td>\n      <td>0|1</td>\n      <td>0|1</td>\n      <td>0|1</td>\n      <td>0|1</td>\n      <td>0|0</td>\n    </tr>\n    <tr>\n      <th>HG00101</th>\n      <td>0|0</td>\n      <td>1|1</td>\n      <td>1|0</td>\n      <td>0|0</td>\n      <td>1|0</td>\n      <td>0|0</td>\n      <td>0|0</td>\n      <td>0|0</td>\n      <td>0|0</td>\n      <td>1|0</td>\n      <td>...</td>\n      <td>1|0</td>\n      <td>1|0</td>\n      <td>1|0</td>\n      <td>1|0</td>\n      <td>0|0</td>\n      <td>1|0</td>\n      <td>1|0</td>\n      <td>1|0</td>\n      <td>1|0</td>\n      <td>0|0</td>\n    </tr>\n    <tr>\n      <th>...</th>\n      <td>...</td>\n      <td>...</td>\n      <td>...</td>\n      <td>...</td>\n      <td>...</td>\n      <td>...</td>\n      <td>...</td>\n      <td>...</td>\n      <td>...</td>\n      <td>...</td>\n      <td>...</td>\n      <td>...</td>\n      <td>...</td>\n      <td>...</td>\n      <td>...</td>\n      <td>...</td>\n      <td>...</td>\n      <td>...</td>\n      <td>...</td>\n      <td>...</td>\n      <td>...</td>\n    </tr>\n    <tr>\n      <th>NA21137</th>\n      <td>0|0</td>\n      <td>0|0</td>\n      <td>0|0</td>\n      <td>0|0</td>\n      <td>0|0</td>\n      <td>0|0</td>\n      <td>0|0</td>\n      <td>0|0</td>\n      <td>0|0</td>\n      <td>0|0</td>\n      <td>...</td>\n      <td>0|0</td>\n      <td>0|0</td>\n      <td>0|0</td>\n      <td>0|0</td>\n      <td>0|0</td>\n      <td>0|0</td>\n      <td>0|0</td>\n      <td>0|0</td>\n      <td>0|0</td>\n      <td>0|0</td>\n    </tr>\n    <tr>\n      <th>NA21141</th>\n      <td>0|0</td>\n      <td>1|1</td>\n      <td>1|1</td>\n      <td>0|0</td>\n      <td>1|1</td>\n      <td>0|0</td>\n      <td>0|0</td>\n      <td>0|0</td>\n      <td>0|0</td>\n      <td>1|1</td>\n      <td>...</td>\n      <td>1|0</td>\n      <td>1|0</td>\n      <td>0|0</td>\n      <td>1|0</td>\n      <td>1|0</td>\n      <td>0|0</td>\n      <td>0|0</td>\n      <td>1|0</td>\n      <td>0|0</td>\n      <td>0|0</td>\n    </tr>\n    <tr>\n      <th>NA21142</th>\n      <td>0|0</td>\n      <td>1|1</td>\n      <td>0|1</td>\n      <td>0|0</td>\n      <td>0|1</td>\n      <td>0|0</td>\n      <td>0|0</td>\n      <td>0|0</td>\n      <td>0|0</td>\n      <td>0|1</td>\n      <td>...</td>\n      <td>0|1</td>\n      <td>0|1</td>\n      <td>0|1</td>\n      <td>0|1</td>\n      <td>0|0</td>\n      <td>0|1</td>\n      <td>0|1</td>\n      <td>0|1</td>\n      <td>0|1</td>\n      <td>0|0</td>\n    </tr>\n    <tr>\n      <th>NA21143</th>\n      <td>0|0</td>\n      <td>1|0</td>\n      <td>0|0</td>\n      <td>0|0</td>\n      <td>0|0</td>\n      <td>0|0</td>\n      <td>0|0</td>\n      <td>0|0</td>\n      <td>0|0</td>\n      <td>0|0</td>\n      <td>...</td>\n      <td>1|1</td>\n      <td>1|1</td>\n      <td>1|1</td>\n      <td>1|1</td>\n      <td>0|0</td>\n      <td>1|1</td>\n      <td>1|1</td>\n      <td>1|1</td>\n      <td>1|1</td>\n      <td>0|0</td>\n    </tr>\n    <tr>\n      <th>NA21144</th>\n      <td>0|0</td>\n      <td>1|0</td>\n      <td>0|0</td>\n      <td>0|0</td>\n      <td>0|0</td>\n      <td>0|0</td>\n      <td>0|0</td>\n      <td>0|0</td>\n      <td>0|0</td>\n      <td>0|0</td>\n      <td>...</td>\n      <td>1|1</td>\n      <td>1|1</td>\n      <td>0|0</td>\n      <td>1|1</td>\n      <td>1|1</td>\n      <td>0|0</td>\n      <td>0|0</td>\n      <td>1|1</td>\n      <td>0|0</td>\n      <td>0|0</td>\n    </tr>\n  </tbody>\n</table>\n<p>2504 rows × 7161 columns</p>\n</div>"
     },
     "execution_count": 43,
     "metadata": {},
     "output_type": "execute_result"
    }
   ],
   "source": [
    "# load data\n",
    "root_dir = './data/'\n",
    "# load data\n",
    "new_data_header = \"\"\n",
    "# get header\n",
    "with open(root_dir + \"HLA.recode.vcf\", 'r') as f_in:\n",
    "    # skip info\n",
    "    for line_num in range(252):\n",
    "        f_in.readline()\n",
    "\n",
    "    new_data_header = f_in.readline()\n",
    "# load data\n",
    "\n",
    "# load genotype\n",
    "genotypes = pd.read_csv(root_dir + \"HLA.recode.vcf\",\n",
    "                        comment='#', sep='\\t',\n",
    "                        names=new_data_header.strip().split('\\t'),\n",
    "                        header=None).iloc[:, 9:].T\n",
    "\n",
    "headers = genotypes.columns[:]\n",
    "genotypes\n"
   ],
   "metadata": {
    "collapsed": false
   }
  },
  {
   "cell_type": "code",
   "execution_count": 44,
   "outputs": [
    {
     "data": {
      "text/plain": "              Family ID Paternal ID Maternal ID  Gender  Phenotype Population  \\\nIndividual ID                                                                   \nHG00096         HG00096           0           0       1          0        GBR   \nHG00097         HG00097           0           0       2          0        GBR   \nHG00098         HG00098           0           0       1          0        GBR   \nHG00099         HG00099           0           0       2          0        GBR   \nHG00100         HG00100           0           0       2          0        GBR   \n\n              Relationship Siblings Second Order Third Order Children  \\\nIndividual ID                                                           \nHG00096              unrel        0            0           0        0   \nHG00097              unrel        0            0           0        0   \nHG00098              unrel        0            0           0        0   \nHG00099              unrel        0            0           0        0   \nHG00100              unrel        0            0           0        0   \n\n              Other Comments  \nIndividual ID                 \nHG00096                    0  \nHG00097                    0  \nHG00098                    0  \nHG00099                    0  \nHG00100                    0  ",
      "text/html": "<div>\n<style scoped>\n    .dataframe tbody tr th:only-of-type {\n        vertical-align: middle;\n    }\n\n    .dataframe tbody tr th {\n        vertical-align: top;\n    }\n\n    .dataframe thead th {\n        text-align: right;\n    }\n</style>\n<table border=\"1\" class=\"dataframe\">\n  <thead>\n    <tr style=\"text-align: right;\">\n      <th></th>\n      <th>Family ID</th>\n      <th>Paternal ID</th>\n      <th>Maternal ID</th>\n      <th>Gender</th>\n      <th>Phenotype</th>\n      <th>Population</th>\n      <th>Relationship</th>\n      <th>Siblings</th>\n      <th>Second Order</th>\n      <th>Third Order</th>\n      <th>Children</th>\n      <th>Other Comments</th>\n    </tr>\n    <tr>\n      <th>Individual ID</th>\n      <th></th>\n      <th></th>\n      <th></th>\n      <th></th>\n      <th></th>\n      <th></th>\n      <th></th>\n      <th></th>\n      <th></th>\n      <th></th>\n      <th></th>\n      <th></th>\n    </tr>\n  </thead>\n  <tbody>\n    <tr>\n      <th>HG00096</th>\n      <td>HG00096</td>\n      <td>0</td>\n      <td>0</td>\n      <td>1</td>\n      <td>0</td>\n      <td>GBR</td>\n      <td>unrel</td>\n      <td>0</td>\n      <td>0</td>\n      <td>0</td>\n      <td>0</td>\n      <td>0</td>\n    </tr>\n    <tr>\n      <th>HG00097</th>\n      <td>HG00097</td>\n      <td>0</td>\n      <td>0</td>\n      <td>2</td>\n      <td>0</td>\n      <td>GBR</td>\n      <td>unrel</td>\n      <td>0</td>\n      <td>0</td>\n      <td>0</td>\n      <td>0</td>\n      <td>0</td>\n    </tr>\n    <tr>\n      <th>HG00098</th>\n      <td>HG00098</td>\n      <td>0</td>\n      <td>0</td>\n      <td>1</td>\n      <td>0</td>\n      <td>GBR</td>\n      <td>unrel</td>\n      <td>0</td>\n      <td>0</td>\n      <td>0</td>\n      <td>0</td>\n      <td>0</td>\n    </tr>\n    <tr>\n      <th>HG00099</th>\n      <td>HG00099</td>\n      <td>0</td>\n      <td>0</td>\n      <td>2</td>\n      <td>0</td>\n      <td>GBR</td>\n      <td>unrel</td>\n      <td>0</td>\n      <td>0</td>\n      <td>0</td>\n      <td>0</td>\n      <td>0</td>\n    </tr>\n    <tr>\n      <th>HG00100</th>\n      <td>HG00100</td>\n      <td>0</td>\n      <td>0</td>\n      <td>2</td>\n      <td>0</td>\n      <td>GBR</td>\n      <td>unrel</td>\n      <td>0</td>\n      <td>0</td>\n      <td>0</td>\n      <td>0</td>\n      <td>0</td>\n    </tr>\n  </tbody>\n</table>\n</div>"
     },
     "execution_count": 44,
     "metadata": {},
     "output_type": "execute_result"
    }
   ],
   "source": [
    "ped_file = 'integrated_call_samples.20130502.ALL.ped'\n",
    "pedigree = pd.read_csv(root_dir+ped_file, sep='\\t', index_col='Individual ID')\n",
    "pedigree.head()"
   ],
   "metadata": {
    "collapsed": false
   }
  },
  {
   "cell_type": "code",
   "execution_count": 70,
   "outputs": [
    {
     "data": {
      "text/plain": "(2504, 7161)"
     },
     "execution_count": 70,
     "metadata": {},
     "output_type": "execute_result"
    }
   ],
   "source": [
    "Y_train = pedigree.loc[genotypes.index]['Population']\n",
    "X = genotypes[genotypes.index.isin(Y_train.index)]\n",
    "X = X.replace({\n",
    "    '0|0': 0,\n",
    "    '0|1': 1,\n",
    "    '1|0': 1,\n",
    "    '1|1': 2\n",
    "})\n",
    "X.shape"
   ],
   "metadata": {
    "collapsed": false
   }
  },
  {
   "cell_type": "code",
   "execution_count": 71,
   "outputs": [
    {
     "data": {
      "text/plain": "(array([1, 2, 3, 4, 5], dtype=int64),\n array([1904, 1710, 1222, 1227, 1098], dtype=int64))"
     },
     "execution_count": 71,
     "metadata": {},
     "output_type": "execute_result"
    }
   ],
   "source": [
    "\n",
    "def freq_mapper(g):\n",
    "  return 0 if g == 0 else 1 if g==1 or g==2 else 2\n",
    "\n",
    "def bin_label_to_maf(g):\n",
    "    return g/10\n",
    "\n",
    "def maf_mapper(g):\n",
    "  return min(g, 1-g)\n",
    "\n",
    "_X = X.applymap(freq_mapper)\n",
    "_X = _X.sum(axis=0)/(2*X.shape[0])\n",
    "mafs = _X.map(maf_mapper)\n",
    "\n",
    "bin_labels = np.digitize(mafs, bins=[0, 0.1, 0.2, 0.3, 0.4, 0.5], right=True)\n",
    "maf_bin_labels = np.vectorize(bin_label_to_maf)(bin_labels)\n",
    "bin_general_labels, bin_counts = np.unique(bin_labels, return_counts=True)\n",
    "bin_general_labels, bin_counts\n"
   ],
   "metadata": {
    "collapsed": false
   }
  },
  {
   "cell_type": "code",
   "execution_count": 72,
   "outputs": [
    {
     "data": {
      "text/plain": "['$0 \\\\le MAF < 0.1 $', '$0.3 \\\\le MAF < 0.4 $']"
     },
     "execution_count": 72,
     "metadata": {},
     "output_type": "execute_result"
    }
   ],
   "source": [
    "def bin_label_mapper(bin_label):\n",
    "    if bin_label == 1:\n",
    "        return \"$0 \\le MAF < 0.1 $\"\n",
    "    elif bin_label == 2:\n",
    "        return \"$0.1 \\le MAF < 0.2 $\"\n",
    "    elif bin_label == 3:\n",
    "        return \"$0.2 \\le MAF < 0.3 $\"\n",
    "    elif bin_label == 4:\n",
    "        return \"$0.3 \\le MAF < 0.4 $\"\n",
    "    else:\n",
    "        return \"$0.4 \\le MAF \\le 0.5 $\"\n",
    "\n",
    "bin_labels_str = list(map(bin_label_mapper, bin_labels))\n",
    "bin_labels_str[:2]"
   ],
   "metadata": {
    "collapsed": false
   }
  },
  {
   "cell_type": "code",
   "execution_count": 73,
   "outputs": [],
   "source": [
    "def iqs_score(data_imp, data_obs):\n",
    "    #predict_onehot = SCDA.predict(test_X_missing[:, :, :])\n",
    "\n",
    "    print('data_imp:', data_imp.shape)\n",
    "\n",
    "    # data_imp: rows (snps); cols (samples)\n",
    "    data_imp_012 = data_imp.transpose(1, 0)\n",
    "\n",
    "    # data_imp_012 = data_imp - 1\n",
    "\n",
    "\n",
    "    print('data_imp_012:', data_imp_012.shape)\n",
    "\n",
    "    snp_cnt = data_imp_012.shape[0]\n",
    "    sample_cnt = data_imp_012.shape[1]\n",
    "    print('snp_cnt:', snp_cnt)\n",
    "    print('sample_cnt:', sample_cnt)\n",
    "\n",
    "    data_obs_012 = data_obs.transpose(1, 0)\n",
    "    print('data_obs_012:', data_obs_012.shape)\n",
    "\n",
    "    # data_obs_012 = data_obs - 1\n",
    "\n",
    "\n",
    "    iqs = [0 for _ in range(snp_cnt)]\n",
    "\n",
    "\n",
    "    for i in tqdm(range(snp_cnt)):\n",
    "        iqs_cnt = [[0 for x in range(3)] for y in range(3)]\n",
    "\n",
    "        for j in range(sample_cnt):\n",
    "            if(data_obs_012[i][j]==0) and (data_imp_012[i][j]==0):\n",
    "                iqs_cnt[0][0] += 1\n",
    "            elif(data_obs_012[i][j]==1) and (data_imp_012[i][j]==0):\n",
    "                iqs_cnt[0][1] += 1\n",
    "            elif(data_obs_012[i][j]==2) and (data_imp_012[i][j]==0):\n",
    "                iqs_cnt[0][2] += 1\n",
    "\n",
    "            elif(data_obs_012[i][j]==0) and (data_imp_012[i][j]==1):\n",
    "                iqs_cnt[1][0] += 1\n",
    "            elif(data_obs_012[i][j]==1) and (data_imp_012[i][j]==1):\n",
    "                iqs_cnt[1][1] += 1\n",
    "            elif(data_obs_012[i][j]==2) and (data_imp_012[i][j]==1):\n",
    "                iqs_cnt[1][2] += 1\n",
    "\n",
    "            elif(data_obs_012[i][j]==0) and (data_imp_012[i][j]==2):\n",
    "                iqs_cnt[2][0] += 1\n",
    "            elif(data_obs_012[i][j]==1) and (data_imp_012[i][j]==2):\n",
    "                iqs_cnt[2][1] += 1\n",
    "            elif(data_obs_012[i][j]==2) and (data_imp_012[i][j]==2):\n",
    "                iqs_cnt[2][2] += 1\n",
    "\n",
    "        po = (iqs_cnt[0][0] + iqs_cnt[1][1] + iqs_cnt[2][2])/sample_cnt\n",
    "\n",
    "        pc_rows_0 = iqs_cnt[0][0] + iqs_cnt[0][1] + iqs_cnt[0][2]\n",
    "        pc_rows_1 = iqs_cnt[1][0] + iqs_cnt[1][1] + iqs_cnt[1][2]\n",
    "        pc_rows_2 = iqs_cnt[2][0] + iqs_cnt[2][1] + iqs_cnt[2][2]\n",
    "\n",
    "        pc_cols_0 = iqs_cnt[0][0] + iqs_cnt[1][0] + iqs_cnt[2][0]\n",
    "        pc_cols_1 = iqs_cnt[0][1] + iqs_cnt[1][1] + iqs_cnt[2][1]\n",
    "        pc_cols_2 = iqs_cnt[0][2] + iqs_cnt[1][2] + iqs_cnt[2][2]\n",
    "\n",
    "        pc = (pc_rows_0*pc_cols_0 + pc_rows_1*pc_cols_1 + pc_rows_2*pc_cols_2)/(sample_cnt**2)\n",
    "\n",
    "\n",
    "        if pc == 1:\n",
    "            iqs[i] = 1\n",
    "        else:\n",
    "            iqs[i] = (po - pc)/(1 - pc)\n",
    "\n",
    "\n",
    "    print('iqs mean:', np.mean(iqs))\n",
    "    return iqs, np.mean(iqs)"
   ],
   "metadata": {
    "collapsed": false
   }
  },
  {
   "cell_type": "code",
   "execution_count": 74,
   "outputs": [],
   "source": [
    "columns = [\"Fold\", \"Missing Rate\", \"IQS\", \"Method\", \"MAF\"]\n",
    "dfs = []\n",
    "N_SPLITS=3"
   ],
   "metadata": {
    "collapsed": false
   }
  },
  {
   "cell_type": "code",
   "execution_count": 75,
   "outputs": [
    {
     "name": "stdout",
     "output_type": "stream",
     "text": [
      "Fold: 1\n",
      "Missing rate: 0.01\n",
      "data_imp: (835, 7161)\n",
      "data_imp_012: (7161, 835)\n",
      "snp_cnt: 7161\n",
      "sample_cnt: 835\n",
      "data_obs_012: (7161, 835)\n"
     ]
    },
    {
     "name": "stderr",
     "output_type": "stream",
     "text": [
      "100%|██████████| 7161/7161 [00:15<00:00, 448.20it/s]\n"
     ]
    },
    {
     "name": "stdout",
     "output_type": "stream",
     "text": [
      "iqs mean: 0.9965428517051288\n",
      "Missing rate: 0.05\n",
      "data_imp: (835, 7161)\n",
      "data_imp_012: (7161, 835)\n",
      "snp_cnt: 7161\n",
      "sample_cnt: 835\n",
      "data_obs_012: (7161, 835)\n"
     ]
    },
    {
     "name": "stderr",
     "output_type": "stream",
     "text": [
      "100%|██████████| 7161/7161 [00:15<00:00, 451.45it/s]\n"
     ]
    },
    {
     "name": "stdout",
     "output_type": "stream",
     "text": [
      "iqs mean: 0.9960551361826521\n",
      "Missing rate: 0.1\n",
      "data_imp: (835, 7161)\n",
      "data_imp_012: (7161, 835)\n",
      "snp_cnt: 7161\n",
      "sample_cnt: 835\n",
      "data_obs_012: (7161, 835)\n"
     ]
    },
    {
     "name": "stderr",
     "output_type": "stream",
     "text": [
      "100%|██████████| 7161/7161 [00:15<00:00, 451.83it/s]\n"
     ]
    },
    {
     "name": "stdout",
     "output_type": "stream",
     "text": [
      "iqs mean: 0.9954832843960545\n",
      "Missing rate: 0.2\n",
      "data_imp: (835, 7161)\n",
      "data_imp_012: (7161, 835)\n",
      "snp_cnt: 7161\n",
      "sample_cnt: 835\n",
      "data_obs_012: (7161, 835)\n"
     ]
    },
    {
     "name": "stderr",
     "output_type": "stream",
     "text": [
      "100%|██████████| 7161/7161 [00:15<00:00, 448.57it/s]\n"
     ]
    },
    {
     "name": "stdout",
     "output_type": "stream",
     "text": [
      "iqs mean: 0.9941121617785712\n",
      "Fold: 2\n",
      "Missing rate: 0.01\n",
      "data_imp: (835, 7161)\n",
      "data_imp_012: (7161, 835)\n",
      "snp_cnt: 7161\n",
      "sample_cnt: 835\n",
      "data_obs_012: (7161, 835)\n"
     ]
    },
    {
     "name": "stderr",
     "output_type": "stream",
     "text": [
      "100%|██████████| 7161/7161 [00:15<00:00, 455.98it/s]\n"
     ]
    },
    {
     "name": "stdout",
     "output_type": "stream",
     "text": [
      "iqs mean: 0.9963996057015703\n",
      "Missing rate: 0.05\n",
      "data_imp: (835, 7161)\n",
      "data_imp_012: (7161, 835)\n",
      "snp_cnt: 7161\n",
      "sample_cnt: 835\n",
      "data_obs_012: (7161, 835)\n"
     ]
    },
    {
     "name": "stderr",
     "output_type": "stream",
     "text": [
      "100%|██████████| 7161/7161 [00:15<00:00, 457.06it/s]\n"
     ]
    },
    {
     "name": "stdout",
     "output_type": "stream",
     "text": [
      "iqs mean: 0.9959179188904884\n",
      "Missing rate: 0.1\n",
      "data_imp: (835, 7161)\n",
      "data_imp_012: (7161, 835)\n",
      "snp_cnt: 7161\n",
      "sample_cnt: 835\n",
      "data_obs_012: (7161, 835)\n"
     ]
    },
    {
     "name": "stderr",
     "output_type": "stream",
     "text": [
      "100%|██████████| 7161/7161 [00:15<00:00, 455.07it/s]\n"
     ]
    },
    {
     "name": "stdout",
     "output_type": "stream",
     "text": [
      "iqs mean: 0.9952842051801987\n",
      "Missing rate: 0.2\n",
      "data_imp: (835, 7161)\n",
      "data_imp_012: (7161, 835)\n",
      "snp_cnt: 7161\n",
      "sample_cnt: 835\n",
      "data_obs_012: (7161, 835)\n"
     ]
    },
    {
     "name": "stderr",
     "output_type": "stream",
     "text": [
      "100%|██████████| 7161/7161 [00:15<00:00, 451.66it/s]\n"
     ]
    },
    {
     "name": "stdout",
     "output_type": "stream",
     "text": [
      "iqs mean: 0.9939105380149833\n",
      "Fold: 3\n",
      "Missing rate: 0.01\n",
      "data_imp: (834, 7161)\n",
      "data_imp_012: (7161, 834)\n",
      "snp_cnt: 7161\n",
      "sample_cnt: 834\n",
      "data_obs_012: (7161, 834)\n"
     ]
    },
    {
     "name": "stderr",
     "output_type": "stream",
     "text": [
      "100%|██████████| 7161/7161 [00:15<00:00, 457.08it/s]\n"
     ]
    },
    {
     "name": "stdout",
     "output_type": "stream",
     "text": [
      "iqs mean: 0.9964433781373275\n",
      "Missing rate: 0.05\n",
      "data_imp: (834, 7161)\n",
      "data_imp_012: (7161, 834)\n",
      "snp_cnt: 7161\n",
      "sample_cnt: 834\n",
      "data_obs_012: (7161, 834)\n"
     ]
    },
    {
     "name": "stderr",
     "output_type": "stream",
     "text": [
      "100%|██████████| 7161/7161 [00:15<00:00, 455.02it/s]\n"
     ]
    },
    {
     "name": "stdout",
     "output_type": "stream",
     "text": [
      "iqs mean: 0.996074819077267\n",
      "Missing rate: 0.1\n",
      "data_imp: (834, 7161)\n",
      "data_imp_012: (7161, 834)\n",
      "snp_cnt: 7161\n",
      "sample_cnt: 834\n",
      "data_obs_012: (7161, 834)\n"
     ]
    },
    {
     "name": "stderr",
     "output_type": "stream",
     "text": [
      "100%|██████████| 7161/7161 [00:15<00:00, 454.83it/s]\n"
     ]
    },
    {
     "name": "stdout",
     "output_type": "stream",
     "text": [
      "iqs mean: 0.9954696281558381\n",
      "Missing rate: 0.2\n",
      "data_imp: (834, 7161)\n",
      "data_imp_012: (7161, 834)\n",
      "snp_cnt: 7161\n",
      "sample_cnt: 834\n",
      "data_obs_012: (7161, 834)\n"
     ]
    },
    {
     "name": "stderr",
     "output_type": "stream",
     "text": [
      "100%|██████████| 7161/7161 [00:15<00:00, 454.96it/s]"
     ]
    },
    {
     "name": "stdout",
     "output_type": "stream",
     "text": [
      "iqs mean: 0.9942150404104487\n"
     ]
    },
    {
     "name": "stderr",
     "output_type": "stream",
     "text": [
      "\n"
     ]
    }
   ],
   "source": [
    "kf = KFold(n_splits=N_SPLITS, shuffle=True, random_state=2022)\n",
    "fold = 0\n",
    "_x = X[X.index.isin(Y_train.index)].to_numpy()\n",
    "for train_index, test_index in kf.split(_x):\n",
    "  fold += 1\n",
    "  print(f\"Fold: {fold}\")\n",
    "  y = _x[test_index]\n",
    "  for missing_perc in [0.01,\n",
    "                       0.05,\n",
    "                       0.1,\n",
    "                       0.2]:\n",
    "    print(f\"Missing rate: {missing_perc}\")\n",
    "    file_name = f\"./experimental_results/hla/maf/Minimac4/preds_mr_{missing_perc}_rs_{fold}_.csv\"\n",
    "    result_genotypes = pd.read_csv(file_name, index_col=0)\n",
    "    result_genotypes = result_genotypes.replace({\n",
    "        '0|0': 0,\n",
    "        '0|1': 1,\n",
    "        '1|0': 1,\n",
    "        '1|1': 2\n",
    "    })\n",
    "    yhat = result_genotypes.to_numpy()\n",
    "    assert y.shape == yhat.shape\n",
    "    iqs_a, iqs_mean_a = iqs_score(yhat, y)\n",
    "\n",
    "    # print('iqs_mean:', iqs_mean_a)\n",
    "    # print('iqs:', iqs_a)\n",
    "\n",
    "    dataframe = pd.DataFrame(np.stack([np.full((len(iqs_a)), fold),\n",
    "                                       np.full((len(iqs_a)), missing_perc),\n",
    "                                       np.array(iqs_a),\n",
    "                                       np.full((len(iqs_a)), \"Minimac4\"),\n",
    "                                       np.array(bin_labels_str)], axis=1), columns=columns)\n",
    "    dfs.append(dataframe)"
   ],
   "metadata": {
    "collapsed": false
   }
  },
  {
   "cell_type": "code",
   "execution_count": 76,
   "outputs": [
    {
     "name": "stdout",
     "output_type": "stream",
     "text": [
      "Fold: 1\n",
      "Missing rate: 0.01\n",
      "data_imp: (835, 7160)\n",
      "data_imp_012: (7160, 835)\n",
      "snp_cnt: 7160\n",
      "sample_cnt: 835\n",
      "data_obs_012: (7160, 835)\n"
     ]
    },
    {
     "name": "stderr",
     "output_type": "stream",
     "text": [
      "100%|██████████| 7160/7160 [00:15<00:00, 456.54it/s]\n"
     ]
    },
    {
     "name": "stdout",
     "output_type": "stream",
     "text": [
      "iqs mean: 0.9884320858485816\n",
      "Missing rate: 0.05\n",
      "data_imp: (835, 7160)\n",
      "data_imp_012: (7160, 835)\n",
      "snp_cnt: 7160\n",
      "sample_cnt: 835\n",
      "data_obs_012: (7160, 835)\n"
     ]
    },
    {
     "name": "stderr",
     "output_type": "stream",
     "text": [
      "100%|██████████| 7160/7160 [00:15<00:00, 448.49it/s]\n"
     ]
    },
    {
     "name": "stdout",
     "output_type": "stream",
     "text": [
      "iqs mean: 0.987841894462968\n",
      "Missing rate: 0.1\n",
      "data_imp: (835, 7160)\n",
      "data_imp_012: (7160, 835)\n",
      "snp_cnt: 7160\n",
      "sample_cnt: 835\n",
      "data_obs_012: (7160, 835)\n"
     ]
    },
    {
     "name": "stderr",
     "output_type": "stream",
     "text": [
      "100%|██████████| 7160/7160 [00:15<00:00, 455.16it/s]\n"
     ]
    },
    {
     "name": "stdout",
     "output_type": "stream",
     "text": [
      "iqs mean: 0.9870337441645407\n",
      "Missing rate: 0.2\n",
      "data_imp: (835, 7160)\n",
      "data_imp_012: (7160, 835)\n",
      "snp_cnt: 7160\n",
      "sample_cnt: 835\n",
      "data_obs_012: (7160, 835)\n"
     ]
    },
    {
     "name": "stderr",
     "output_type": "stream",
     "text": [
      "100%|██████████| 7160/7160 [00:15<00:00, 458.75it/s]\n"
     ]
    },
    {
     "name": "stdout",
     "output_type": "stream",
     "text": [
      "iqs mean: 0.9851231220100413\n",
      "Fold: 2\n",
      "Missing rate: 0.01\n",
      "data_imp: (835, 7160)\n",
      "data_imp_012: (7160, 835)\n",
      "snp_cnt: 7160\n",
      "sample_cnt: 835\n",
      "data_obs_012: (7160, 835)\n"
     ]
    },
    {
     "name": "stderr",
     "output_type": "stream",
     "text": [
      "100%|██████████| 7160/7160 [00:15<00:00, 453.82it/s]\n"
     ]
    },
    {
     "name": "stdout",
     "output_type": "stream",
     "text": [
      "iqs mean: 0.9877082414053668\n",
      "Missing rate: 0.05\n",
      "data_imp: (835, 7160)\n",
      "data_imp_012: (7160, 835)\n",
      "snp_cnt: 7160\n",
      "sample_cnt: 835\n",
      "data_obs_012: (7160, 835)\n"
     ]
    },
    {
     "name": "stderr",
     "output_type": "stream",
     "text": [
      "100%|██████████| 7160/7160 [00:15<00:00, 455.53it/s]\n"
     ]
    },
    {
     "name": "stdout",
     "output_type": "stream",
     "text": [
      "iqs mean: 0.9871827664552102\n",
      "Missing rate: 0.1\n",
      "data_imp: (835, 7160)\n",
      "data_imp_012: (7160, 835)\n",
      "snp_cnt: 7160\n",
      "sample_cnt: 835\n",
      "data_obs_012: (7160, 835)\n"
     ]
    },
    {
     "name": "stderr",
     "output_type": "stream",
     "text": [
      "100%|██████████| 7160/7160 [00:15<00:00, 457.65it/s]\n"
     ]
    },
    {
     "name": "stdout",
     "output_type": "stream",
     "text": [
      "iqs mean: 0.9865111132669283\n",
      "Missing rate: 0.2\n",
      "data_imp: (835, 7160)\n",
      "data_imp_012: (7160, 835)\n",
      "snp_cnt: 7160\n",
      "sample_cnt: 835\n",
      "data_obs_012: (7160, 835)\n"
     ]
    },
    {
     "name": "stderr",
     "output_type": "stream",
     "text": [
      "100%|██████████| 7160/7160 [00:15<00:00, 453.74it/s]\n"
     ]
    },
    {
     "name": "stdout",
     "output_type": "stream",
     "text": [
      "iqs mean: 0.9848554412912124\n",
      "Fold: 3\n",
      "Missing rate: 0.01\n",
      "data_imp: (834, 7160)\n",
      "data_imp_012: (7160, 834)\n",
      "snp_cnt: 7160\n",
      "sample_cnt: 834\n",
      "data_obs_012: (7160, 834)\n"
     ]
    },
    {
     "name": "stderr",
     "output_type": "stream",
     "text": [
      "100%|██████████| 7160/7160 [00:15<00:00, 459.26it/s]\n"
     ]
    },
    {
     "name": "stdout",
     "output_type": "stream",
     "text": [
      "iqs mean: 0.9874874974575327\n",
      "Missing rate: 0.05\n",
      "data_imp: (834, 7160)\n",
      "data_imp_012: (7160, 834)\n",
      "snp_cnt: 7160\n",
      "sample_cnt: 834\n",
      "data_obs_012: (7160, 834)\n"
     ]
    },
    {
     "name": "stderr",
     "output_type": "stream",
     "text": [
      "100%|██████████| 7160/7160 [00:15<00:00, 454.85it/s]\n"
     ]
    },
    {
     "name": "stdout",
     "output_type": "stream",
     "text": [
      "iqs mean: 0.9869934365738271\n",
      "Missing rate: 0.1\n",
      "data_imp: (834, 7160)\n",
      "data_imp_012: (7160, 834)\n",
      "snp_cnt: 7160\n",
      "sample_cnt: 834\n",
      "data_obs_012: (7160, 834)\n"
     ]
    },
    {
     "name": "stderr",
     "output_type": "stream",
     "text": [
      "100%|██████████| 7160/7160 [00:15<00:00, 458.24it/s]\n"
     ]
    },
    {
     "name": "stdout",
     "output_type": "stream",
     "text": [
      "iqs mean: 0.9862765417714316\n",
      "Missing rate: 0.2\n",
      "data_imp: (834, 7160)\n",
      "data_imp_012: (7160, 834)\n",
      "snp_cnt: 7160\n",
      "sample_cnt: 834\n",
      "data_obs_012: (7160, 834)\n"
     ]
    },
    {
     "name": "stderr",
     "output_type": "stream",
     "text": [
      "100%|██████████| 7160/7160 [00:15<00:00, 456.06it/s]"
     ]
    },
    {
     "name": "stdout",
     "output_type": "stream",
     "text": [
      "iqs mean: 0.9845855992517462\n"
     ]
    },
    {
     "name": "stderr",
     "output_type": "stream",
     "text": [
      "\n"
     ]
    }
   ],
   "source": [
    "kf = KFold(n_splits=N_SPLITS, shuffle=True, random_state=2022)\n",
    "fold = 0\n",
    "_x = X[X.index.isin(Y_train.index)].to_numpy()[:, :-1]\n",
    "for train_index, test_index in kf.split(_x):\n",
    "  fold += 1\n",
    "  print(f\"Fold: {fold}\")\n",
    "  y = _x[test_index]\n",
    "  for missing_perc in [0.01,\n",
    "                       0.05,\n",
    "                       0.1,\n",
    "                       0.2]:\n",
    "    print(f\"Missing rate: {missing_perc}\")\n",
    "    file_name = f\"./experimental_results/hla/maf/HLA_DEEP/HLA_DEEP_preds_mixed_mr_{missing_perc}_rs_{fold}_.csv\"\n",
    "    result_genotypes = pd.read_csv(file_name, index_col=0)\n",
    "    result_genotypes = result_genotypes.replace({\n",
    "        '0|0': 0,\n",
    "        '0|1': 1,\n",
    "        '1|0': 1,\n",
    "        '1|1': 2\n",
    "    })\n",
    "    yhat = result_genotypes.to_numpy()\n",
    "    assert y.shape == yhat.shape\n",
    "    iqs_a, iqs_mean_a = iqs_score(yhat, y)\n",
    "\n",
    "    # print('iqs_mean:', iqs_mean_a)\n",
    "    # print('iqs:', iqs_a)\n",
    "\n",
    "    dataframe = pd.DataFrame(np.stack([np.full((len(iqs_a)), fold),\n",
    "                                       np.full((len(iqs_a)), missing_perc),\n",
    "                                       np.array(iqs_a),\n",
    "                                       np.full((len(iqs_a)), \"HLA*DEEP\"),\n",
    "                                       np.array(bin_labels_str[:-1])], axis=1), columns=columns)\n",
    "    dfs.append(dataframe)"
   ],
   "metadata": {
    "collapsed": false
   }
  },
  {
   "cell_type": "code",
   "execution_count": 77,
   "outputs": [
    {
     "name": "stdout",
     "output_type": "stream",
     "text": [
      "Fold: 1\n",
      "Missing rate: 0.01\n",
      "data_imp: (835, 7160)\n",
      "data_imp_012: (7160, 835)\n",
      "snp_cnt: 7160\n",
      "sample_cnt: 835\n",
      "data_obs_012: (7160, 835)\n"
     ]
    },
    {
     "name": "stderr",
     "output_type": "stream",
     "text": [
      "100%|██████████| 7160/7160 [00:15<00:00, 452.14it/s]\n"
     ]
    },
    {
     "name": "stdout",
     "output_type": "stream",
     "text": [
      "iqs mean: 0.9966600279620402\n",
      "Missing rate: 0.05\n",
      "data_imp: (835, 7160)\n",
      "data_imp_012: (7160, 835)\n",
      "snp_cnt: 7160\n",
      "sample_cnt: 835\n",
      "data_obs_012: (7160, 835)\n"
     ]
    },
    {
     "name": "stderr",
     "output_type": "stream",
     "text": [
      "100%|██████████| 7160/7160 [00:15<00:00, 451.36it/s]\n"
     ]
    },
    {
     "name": "stdout",
     "output_type": "stream",
     "text": [
      "iqs mean: 0.9955595741845441\n",
      "Missing rate: 0.1\n",
      "data_imp: (835, 7160)\n",
      "data_imp_012: (7160, 835)\n",
      "snp_cnt: 7160\n",
      "sample_cnt: 835\n",
      "data_obs_012: (7160, 835)\n"
     ]
    },
    {
     "name": "stderr",
     "output_type": "stream",
     "text": [
      "100%|██████████| 7160/7160 [00:15<00:00, 457.22it/s]\n"
     ]
    },
    {
     "name": "stdout",
     "output_type": "stream",
     "text": [
      "iqs mean: 0.9941829315456854\n",
      "Missing rate: 0.2\n",
      "data_imp: (835, 7160)\n",
      "data_imp_012: (7160, 835)\n",
      "snp_cnt: 7160\n",
      "sample_cnt: 835\n",
      "data_obs_012: (7160, 835)\n"
     ]
    },
    {
     "name": "stderr",
     "output_type": "stream",
     "text": [
      "100%|██████████| 7160/7160 [00:15<00:00, 455.47it/s]\n"
     ]
    },
    {
     "name": "stdout",
     "output_type": "stream",
     "text": [
      "iqs mean: 0.9910068301769029\n",
      "Fold: 2\n",
      "Missing rate: 0.01\n",
      "data_imp: (835, 7160)\n",
      "data_imp_012: (7160, 835)\n",
      "snp_cnt: 7160\n",
      "sample_cnt: 835\n",
      "data_obs_012: (7160, 835)\n"
     ]
    },
    {
     "name": "stderr",
     "output_type": "stream",
     "text": [
      "100%|██████████| 7160/7160 [00:15<00:00, 449.66it/s]\n"
     ]
    },
    {
     "name": "stdout",
     "output_type": "stream",
     "text": [
      "iqs mean: 0.9964761430848228\n",
      "Missing rate: 0.05\n",
      "data_imp: (835, 7160)\n",
      "data_imp_012: (7160, 835)\n",
      "snp_cnt: 7160\n",
      "sample_cnt: 835\n",
      "data_obs_012: (7160, 835)\n"
     ]
    },
    {
     "name": "stderr",
     "output_type": "stream",
     "text": [
      "100%|██████████| 7160/7160 [00:15<00:00, 453.12it/s]\n"
     ]
    },
    {
     "name": "stdout",
     "output_type": "stream",
     "text": [
      "iqs mean: 0.9953219877639019\n",
      "Missing rate: 0.1\n",
      "data_imp: (835, 7160)\n",
      "data_imp_012: (7160, 835)\n",
      "snp_cnt: 7160\n",
      "sample_cnt: 835\n",
      "data_obs_012: (7160, 835)\n"
     ]
    },
    {
     "name": "stderr",
     "output_type": "stream",
     "text": [
      "100%|██████████| 7160/7160 [00:15<00:00, 454.59it/s]\n"
     ]
    },
    {
     "name": "stdout",
     "output_type": "stream",
     "text": [
      "iqs mean: 0.9938688753012251\n",
      "Missing rate: 0.2\n",
      "data_imp: (835, 7160)\n",
      "data_imp_012: (7160, 835)\n",
      "snp_cnt: 7160\n",
      "sample_cnt: 835\n",
      "data_obs_012: (7160, 835)\n"
     ]
    },
    {
     "name": "stderr",
     "output_type": "stream",
     "text": [
      "100%|██████████| 7160/7160 [00:15<00:00, 451.24it/s]\n"
     ]
    },
    {
     "name": "stdout",
     "output_type": "stream",
     "text": [
      "iqs mean: 0.9908123042937553\n",
      "Fold: 3\n",
      "Missing rate: 0.01\n",
      "data_imp: (834, 7160)\n",
      "data_imp_012: (7160, 834)\n",
      "snp_cnt: 7160\n",
      "sample_cnt: 834\n",
      "data_obs_012: (7160, 834)\n"
     ]
    },
    {
     "name": "stderr",
     "output_type": "stream",
     "text": [
      "100%|██████████| 7160/7160 [00:15<00:00, 449.82it/s]\n"
     ]
    },
    {
     "name": "stdout",
     "output_type": "stream",
     "text": [
      "iqs mean: 0.9963659954448923\n",
      "Missing rate: 0.05\n",
      "data_imp: (834, 7160)\n",
      "data_imp_012: (7160, 834)\n",
      "snp_cnt: 7160\n",
      "sample_cnt: 834\n",
      "data_obs_012: (7160, 834)\n"
     ]
    },
    {
     "name": "stderr",
     "output_type": "stream",
     "text": [
      "100%|██████████| 7160/7160 [00:15<00:00, 451.33it/s]\n"
     ]
    },
    {
     "name": "stdout",
     "output_type": "stream",
     "text": [
      "iqs mean: 0.9952392153006936\n",
      "Missing rate: 0.1\n",
      "data_imp: (834, 7160)\n",
      "data_imp_012: (7160, 834)\n",
      "snp_cnt: 7160\n",
      "sample_cnt: 834\n",
      "data_obs_012: (7160, 834)\n"
     ]
    },
    {
     "name": "stderr",
     "output_type": "stream",
     "text": [
      "100%|██████████| 7160/7160 [00:15<00:00, 460.89it/s]\n"
     ]
    },
    {
     "name": "stdout",
     "output_type": "stream",
     "text": [
      "iqs mean: 0.9938139116443612\n",
      "Missing rate: 0.2\n",
      "data_imp: (834, 7160)\n",
      "data_imp_012: (7160, 834)\n",
      "snp_cnt: 7160\n",
      "sample_cnt: 834\n",
      "data_obs_012: (7160, 834)\n"
     ]
    },
    {
     "name": "stderr",
     "output_type": "stream",
     "text": [
      "100%|██████████| 7160/7160 [00:15<00:00, 457.05it/s]"
     ]
    },
    {
     "name": "stdout",
     "output_type": "stream",
     "text": [
      "iqs mean: 0.9906947624174149\n"
     ]
    },
    {
     "name": "stderr",
     "output_type": "stream",
     "text": [
      "\n"
     ]
    }
   ],
   "source": [
    "kf = KFold(n_splits=N_SPLITS, shuffle=True, random_state=2022)\n",
    "fold = 0\n",
    "_x = X[X.index.isin(Y_train.index)].to_numpy()[:, :-1]\n",
    "for train_index, test_index in kf.split(_x):\n",
    "  fold += 1\n",
    "  print(f\"Fold: {fold}\")\n",
    "  y = _x[test_index]\n",
    "  for missing_perc in [0.01,\n",
    "                       0.05,\n",
    "                       0.1,\n",
    "                       0.2]:\n",
    "    print(f\"Missing rate: {missing_perc}\")\n",
    "    file_name = f\"./experimental_results/hla/maf/SCDA/SCDA_preds_mixed_mr_{missing_perc}_rs_{fold}_.csv\"\n",
    "    result_genotypes = pd.read_csv(file_name, index_col=0)\n",
    "    result_genotypes = result_genotypes.replace({\n",
    "        '0|0': 0,\n",
    "        '0|1': 1,\n",
    "        '1|0': 1,\n",
    "        '1|1': 2\n",
    "    })\n",
    "    yhat = result_genotypes.to_numpy()\n",
    "    assert y.shape == yhat.shape\n",
    "    iqs_a, iqs_mean_a = iqs_score(yhat, y)\n",
    "\n",
    "    # print('iqs_mean:', iqs_mean_a)\n",
    "    # print('iqs:', iqs_a)\n",
    "\n",
    "    dataframe = pd.DataFrame(np.stack([np.full((len(iqs_a)), fold),\n",
    "                                       np.full((len(iqs_a)), missing_perc),\n",
    "                                       np.array(iqs_a),\n",
    "                                       np.full((len(iqs_a)), \"SCDA+\"),\n",
    "                                       np.array(bin_labels_str[:-1])], axis=1), columns=columns)\n",
    "    dfs.append(dataframe)"
   ],
   "metadata": {
    "collapsed": false
   }
  },
  {
   "cell_type": "code",
   "execution_count": 78,
   "outputs": [
    {
     "name": "stdout",
     "output_type": "stream",
     "text": [
      "Fold: 1\n",
      "Missing rate: 0.01\n",
      "data_imp: (835, 7160)\n",
      "data_imp_012: (7160, 835)\n",
      "snp_cnt: 7160\n",
      "sample_cnt: 835\n",
      "data_obs_012: (7160, 835)\n"
     ]
    },
    {
     "name": "stderr",
     "output_type": "stream",
     "text": [
      "100%|██████████| 7160/7160 [00:15<00:00, 455.70it/s]\n"
     ]
    },
    {
     "name": "stdout",
     "output_type": "stream",
     "text": [
      "iqs mean: 0.9957168617064006\n",
      "Missing rate: 0.05\n",
      "data_imp: (835, 7160)\n",
      "data_imp_012: (7160, 835)\n",
      "snp_cnt: 7160\n",
      "sample_cnt: 835\n",
      "data_obs_012: (7160, 835)\n"
     ]
    },
    {
     "name": "stderr",
     "output_type": "stream",
     "text": [
      "100%|██████████| 7160/7160 [00:15<00:00, 450.16it/s]\n"
     ]
    },
    {
     "name": "stdout",
     "output_type": "stream",
     "text": [
      "iqs mean: 0.9882750538183256\n",
      "Missing rate: 0.1\n",
      "data_imp: (835, 7160)\n",
      "data_imp_012: (7160, 835)\n",
      "snp_cnt: 7160\n",
      "sample_cnt: 835\n",
      "data_obs_012: (7160, 835)\n"
     ]
    },
    {
     "name": "stderr",
     "output_type": "stream",
     "text": [
      "100%|██████████| 7160/7160 [00:15<00:00, 453.91it/s]\n"
     ]
    },
    {
     "name": "stdout",
     "output_type": "stream",
     "text": [
      "iqs mean: 0.9807548505970903\n",
      "Missing rate: 0.2\n",
      "data_imp: (835, 7160)\n",
      "data_imp_012: (7160, 835)\n",
      "snp_cnt: 7160\n",
      "sample_cnt: 835\n",
      "data_obs_012: (7160, 835)\n"
     ]
    },
    {
     "name": "stderr",
     "output_type": "stream",
     "text": [
      "100%|██████████| 7160/7160 [00:15<00:00, 453.77it/s]\n"
     ]
    },
    {
     "name": "stdout",
     "output_type": "stream",
     "text": [
      "iqs mean: 0.9617684986458356\n",
      "Fold: 2\n",
      "Missing rate: 0.01\n",
      "data_imp: (835, 7160)\n",
      "data_imp_012: (7160, 835)\n",
      "snp_cnt: 7160\n",
      "sample_cnt: 835\n",
      "data_obs_012: (7160, 835)\n"
     ]
    },
    {
     "name": "stderr",
     "output_type": "stream",
     "text": [
      "100%|██████████| 7160/7160 [00:15<00:00, 456.48it/s]\n"
     ]
    },
    {
     "name": "stdout",
     "output_type": "stream",
     "text": [
      "iqs mean: 0.9957390285916038\n",
      "Missing rate: 0.05\n",
      "data_imp: (835, 7160)\n",
      "data_imp_012: (7160, 835)\n",
      "snp_cnt: 7160\n",
      "sample_cnt: 835\n",
      "data_obs_012: (7160, 835)\n"
     ]
    },
    {
     "name": "stderr",
     "output_type": "stream",
     "text": [
      "100%|██████████| 7160/7160 [00:15<00:00, 453.70it/s]\n"
     ]
    },
    {
     "name": "stdout",
     "output_type": "stream",
     "text": [
      "iqs mean: 0.9879563593091466\n",
      "Missing rate: 0.1\n",
      "data_imp: (835, 7160)\n",
      "data_imp_012: (7160, 835)\n",
      "snp_cnt: 7160\n",
      "sample_cnt: 835\n",
      "data_obs_012: (7160, 835)\n"
     ]
    },
    {
     "name": "stderr",
     "output_type": "stream",
     "text": [
      "100%|██████████| 7160/7160 [00:15<00:00, 456.93it/s]\n"
     ]
    },
    {
     "name": "stdout",
     "output_type": "stream",
     "text": [
      "iqs mean: 0.9804459425324552\n",
      "Missing rate: 0.2\n",
      "data_imp: (835, 7160)\n",
      "data_imp_012: (7160, 835)\n",
      "snp_cnt: 7160\n",
      "sample_cnt: 835\n",
      "data_obs_012: (7160, 835)\n"
     ]
    },
    {
     "name": "stderr",
     "output_type": "stream",
     "text": [
      "100%|██████████| 7160/7160 [00:15<00:00, 455.72it/s]\n"
     ]
    },
    {
     "name": "stdout",
     "output_type": "stream",
     "text": [
      "iqs mean: 0.961379735692194\n",
      "Fold: 3\n",
      "Missing rate: 0.01\n",
      "data_imp: (834, 7160)\n",
      "data_imp_012: (7160, 834)\n",
      "snp_cnt: 7160\n",
      "sample_cnt: 834\n",
      "data_obs_012: (7160, 834)\n"
     ]
    },
    {
     "name": "stderr",
     "output_type": "stream",
     "text": [
      "100%|██████████| 7160/7160 [00:15<00:00, 453.16it/s]\n"
     ]
    },
    {
     "name": "stdout",
     "output_type": "stream",
     "text": [
      "iqs mean: 0.9957727400849349\n",
      "Missing rate: 0.05\n",
      "data_imp: (834, 7160)\n",
      "data_imp_012: (7160, 834)\n",
      "snp_cnt: 7160\n",
      "sample_cnt: 834\n",
      "data_obs_012: (7160, 834)\n"
     ]
    },
    {
     "name": "stderr",
     "output_type": "stream",
     "text": [
      "100%|██████████| 7160/7160 [00:15<00:00, 455.85it/s]\n"
     ]
    },
    {
     "name": "stdout",
     "output_type": "stream",
     "text": [
      "iqs mean: 0.9880347575102788\n",
      "Missing rate: 0.1\n",
      "data_imp: (834, 7160)\n",
      "data_imp_012: (7160, 834)\n",
      "snp_cnt: 7160\n",
      "sample_cnt: 834\n",
      "data_obs_012: (7160, 834)\n"
     ]
    },
    {
     "name": "stderr",
     "output_type": "stream",
     "text": [
      "100%|██████████| 7160/7160 [00:15<00:00, 450.93it/s]\n"
     ]
    },
    {
     "name": "stdout",
     "output_type": "stream",
     "text": [
      "iqs mean: 0.9809134473116534\n",
      "Missing rate: 0.2\n",
      "data_imp: (834, 7160)\n",
      "data_imp_012: (7160, 834)\n",
      "snp_cnt: 7160\n",
      "sample_cnt: 834\n",
      "data_obs_012: (7160, 834)\n"
     ]
    },
    {
     "name": "stderr",
     "output_type": "stream",
     "text": [
      "100%|██████████| 7160/7160 [00:15<00:00, 459.18it/s]"
     ]
    },
    {
     "name": "stdout",
     "output_type": "stream",
     "text": [
      "iqs mean: 0.9626951593971564\n"
     ]
    },
    {
     "name": "stderr",
     "output_type": "stream",
     "text": [
      "\n"
     ]
    }
   ],
   "source": [
    "kf = KFold(n_splits=N_SPLITS, shuffle=True, random_state=2022)\n",
    "fold = 0\n",
    "_x = X[X.index.isin(Y_train.index)].to_numpy()[:, :-1]\n",
    "for train_index, test_index in kf.split(_x):\n",
    "  fold += 1\n",
    "  print(f\"Fold: {fold}\")\n",
    "  y = _x[test_index]\n",
    "  for missing_perc in [0.01,\n",
    "                       0.05,\n",
    "                       0.1,\n",
    "                       0.2]:\n",
    "    print(f\"Missing rate: {missing_perc}\")\n",
    "    file_name = f\"./experimental_results/hla/maf/AE/AE_preds_mixed_mr_{missing_perc}_fold_{fold}_.csv\"\n",
    "    result_genotypes = pd.read_csv(file_name, index_col=0)\n",
    "    result_genotypes = result_genotypes.replace({\n",
    "        0 : 0,\n",
    "        1 : 1,\n",
    "        2 : 1,\n",
    "        3 : 2\n",
    "    })\n",
    "    yhat = result_genotypes.to_numpy()\n",
    "    assert y.shape == yhat.shape\n",
    "    iqs_a, iqs_mean_a = iqs_score(yhat, y)\n",
    "\n",
    "    # print('iqs_mean:', iqs_mean_a)\n",
    "    # print('iqs:', iqs_a)\n",
    "\n",
    "    dataframe = pd.DataFrame(np.stack([np.full((len(iqs_a)), fold),\n",
    "                                       np.full((len(iqs_a)), missing_perc),\n",
    "                                       np.array(iqs_a),\n",
    "                                       np.full((len(iqs_a)), \"AE\"),\n",
    "                                       np.array(bin_labels_str[:-1])], axis=1), columns=columns)\n",
    "    dfs.append(dataframe)"
   ],
   "metadata": {
    "collapsed": false
   }
  },
  {
   "cell_type": "code",
   "execution_count": 79,
   "outputs": [
    {
     "name": "stdout",
     "output_type": "stream",
     "text": [
      "Fold: 1\n",
      "Missing rate: 0.01\n",
      "data_imp: (835, 7161)\n",
      "data_imp_012: (7161, 835)\n",
      "snp_cnt: 7161\n",
      "sample_cnt: 835\n",
      "data_obs_012: (7161, 835)\n"
     ]
    },
    {
     "name": "stderr",
     "output_type": "stream",
     "text": [
      "100%|██████████| 7161/7161 [00:15<00:00, 450.81it/s]\n"
     ]
    },
    {
     "name": "stdout",
     "output_type": "stream",
     "text": [
      "iqs mean: 0.9982221594188123\n",
      "Missing rate: 0.05\n",
      "data_imp: (835, 7161)\n",
      "data_imp_012: (7161, 835)\n",
      "snp_cnt: 7161\n",
      "sample_cnt: 835\n",
      "data_obs_012: (7161, 835)\n"
     ]
    },
    {
     "name": "stderr",
     "output_type": "stream",
     "text": [
      "100%|██████████| 7161/7161 [00:15<00:00, 449.53it/s]\n"
     ]
    },
    {
     "name": "stdout",
     "output_type": "stream",
     "text": [
      "iqs mean: 0.9970456277057649\n",
      "Missing rate: 0.1\n",
      "data_imp: (835, 7161)\n",
      "data_imp_012: (7161, 835)\n",
      "snp_cnt: 7161\n",
      "sample_cnt: 835\n",
      "data_obs_012: (7161, 835)\n"
     ]
    },
    {
     "name": "stderr",
     "output_type": "stream",
     "text": [
      "100%|██████████| 7161/7161 [00:16<00:00, 446.89it/s]\n"
     ]
    },
    {
     "name": "stdout",
     "output_type": "stream",
     "text": [
      "iqs mean: 0.9956140334097724\n",
      "Missing rate: 0.2\n",
      "data_imp: (835, 7161)\n",
      "data_imp_012: (7161, 835)\n",
      "snp_cnt: 7161\n",
      "sample_cnt: 835\n",
      "data_obs_012: (7161, 835)\n"
     ]
    },
    {
     "name": "stderr",
     "output_type": "stream",
     "text": [
      "100%|██████████| 7161/7161 [00:16<00:00, 446.34it/s]\n"
     ]
    },
    {
     "name": "stdout",
     "output_type": "stream",
     "text": [
      "iqs mean: 0.9925926154086838\n",
      "Fold: 2\n",
      "Missing rate: 0.01\n",
      "data_imp: (835, 7161)\n",
      "data_imp_012: (7161, 835)\n",
      "snp_cnt: 7161\n",
      "sample_cnt: 835\n",
      "data_obs_012: (7161, 835)\n"
     ]
    },
    {
     "name": "stderr",
     "output_type": "stream",
     "text": [
      "100%|██████████| 7161/7161 [00:15<00:00, 454.18it/s]\n"
     ]
    },
    {
     "name": "stdout",
     "output_type": "stream",
     "text": [
      "iqs mean: 0.9981527210433013\n",
      "Missing rate: 0.05\n",
      "data_imp: (835, 7161)\n",
      "data_imp_012: (7161, 835)\n",
      "snp_cnt: 7161\n",
      "sample_cnt: 835\n",
      "data_obs_012: (7161, 835)\n"
     ]
    },
    {
     "name": "stderr",
     "output_type": "stream",
     "text": [
      "100%|██████████| 7161/7161 [00:16<00:00, 447.48it/s]\n"
     ]
    },
    {
     "name": "stdout",
     "output_type": "stream",
     "text": [
      "iqs mean: 0.9968895800769924\n",
      "Missing rate: 0.1\n",
      "data_imp: (835, 7161)\n",
      "data_imp_012: (7161, 835)\n",
      "snp_cnt: 7161\n",
      "sample_cnt: 835\n",
      "data_obs_012: (7161, 835)\n"
     ]
    },
    {
     "name": "stderr",
     "output_type": "stream",
     "text": [
      "100%|██████████| 7161/7161 [00:15<00:00, 451.82it/s]\n"
     ]
    },
    {
     "name": "stdout",
     "output_type": "stream",
     "text": [
      "iqs mean: 0.9952836446960531\n",
      "Missing rate: 0.2\n",
      "data_imp: (835, 7161)\n",
      "data_imp_012: (7161, 835)\n",
      "snp_cnt: 7161\n",
      "sample_cnt: 835\n",
      "data_obs_012: (7161, 835)\n"
     ]
    },
    {
     "name": "stderr",
     "output_type": "stream",
     "text": [
      "100%|██████████| 7161/7161 [00:15<00:00, 451.76it/s]\n"
     ]
    },
    {
     "name": "stdout",
     "output_type": "stream",
     "text": [
      "iqs mean: 0.9920144661132284\n",
      "Fold: 3\n",
      "Missing rate: 0.01\n",
      "data_imp: (834, 7161)\n",
      "data_imp_012: (7161, 834)\n",
      "snp_cnt: 7161\n",
      "sample_cnt: 834\n",
      "data_obs_012: (7161, 834)\n"
     ]
    },
    {
     "name": "stderr",
     "output_type": "stream",
     "text": [
      "100%|██████████| 7161/7161 [00:15<00:00, 448.71it/s]\n"
     ]
    },
    {
     "name": "stdout",
     "output_type": "stream",
     "text": [
      "iqs mean: 0.9980927793790011\n",
      "Missing rate: 0.05\n",
      "data_imp: (834, 7161)\n",
      "data_imp_012: (7161, 834)\n",
      "snp_cnt: 7161\n",
      "sample_cnt: 834\n",
      "data_obs_012: (7161, 834)\n"
     ]
    },
    {
     "name": "stderr",
     "output_type": "stream",
     "text": [
      "100%|██████████| 7161/7161 [00:16<00:00, 447.28it/s]\n"
     ]
    },
    {
     "name": "stdout",
     "output_type": "stream",
     "text": [
      "iqs mean: 0.99697693277458\n",
      "Missing rate: 0.1\n",
      "data_imp: (834, 7161)\n",
      "data_imp_012: (7161, 834)\n",
      "snp_cnt: 7161\n",
      "sample_cnt: 834\n",
      "data_obs_012: (7161, 834)\n"
     ]
    },
    {
     "name": "stderr",
     "output_type": "stream",
     "text": [
      "100%|██████████| 7161/7161 [00:15<00:00, 453.22it/s]\n"
     ]
    },
    {
     "name": "stdout",
     "output_type": "stream",
     "text": [
      "iqs mean: 0.9954974629979897\n",
      "Missing rate: 0.2\n",
      "data_imp: (834, 7161)\n",
      "data_imp_012: (7161, 834)\n",
      "snp_cnt: 7161\n",
      "sample_cnt: 834\n",
      "data_obs_012: (7161, 834)\n"
     ]
    },
    {
     "name": "stderr",
     "output_type": "stream",
     "text": [
      "100%|██████████| 7161/7161 [00:15<00:00, 453.14it/s]"
     ]
    },
    {
     "name": "stdout",
     "output_type": "stream",
     "text": [
      "iqs mean: 0.9923200583538639\n"
     ]
    },
    {
     "name": "stderr",
     "output_type": "stream",
     "text": [
      "\n"
     ]
    }
   ],
   "source": [
    "kf = KFold(n_splits=N_SPLITS, shuffle=True, random_state=2022)\n",
    "fold = 0\n",
    "_x = X[X.index.isin(Y_train.index)].to_numpy()\n",
    "for train_index, test_index in kf.split(_x):\n",
    "  fold += 1\n",
    "  print(f\"Fold: {fold}\")\n",
    "  y = _x[test_index]\n",
    "  for missing_perc in [0.01,\n",
    "                       0.05,\n",
    "                       0.1,\n",
    "                       0.2]:\n",
    "    print(f\"Missing rate: {missing_perc}\")\n",
    "    file_name = f\"./experimental_results/hla/maf/STI_wo_emb/preds_mixed_mr_{missing_perc}_rs_{fold}_.csv\"\n",
    "    result_genotypes = pd.read_csv(file_name, index_col=0)\n",
    "    result_genotypes = result_genotypes.replace({\n",
    "        '0|0': 0,\n",
    "        '0|1': 1,\n",
    "        '1|0': 1,\n",
    "        '1|1': 2\n",
    "    })\n",
    "    yhat = result_genotypes.to_numpy()\n",
    "    assert y.shape == yhat.shape\n",
    "    iqs_a, iqs_mean_a = iqs_score(yhat, y)\n",
    "\n",
    "    # print('iqs_mean:', iqs_mean_a)\n",
    "    # print('iqs:', iqs_a)\n",
    "\n",
    "    dataframe = pd.DataFrame(np.stack([np.full((len(iqs_a)), fold),\n",
    "                                       np.full((len(iqs_a)), missing_perc),\n",
    "                                       np.array(iqs_a),\n",
    "                                       np.full((len(iqs_a)), \"STI*WE\"),\n",
    "                                       np.array(bin_labels_str)], axis=1), columns=columns)\n",
    "    dfs.append(dataframe)"
   ],
   "metadata": {
    "collapsed": false
   }
  },
  {
   "cell_type": "code",
   "execution_count": 80,
   "outputs": [
    {
     "name": "stdout",
     "output_type": "stream",
     "text": [
      "Fold: 1\n",
      "Missing rate: 0.01\n",
      "data_imp: (835, 7161)\n",
      "data_imp_012: (7161, 835)\n",
      "snp_cnt: 7161\n",
      "sample_cnt: 835\n",
      "data_obs_012: (7161, 835)\n"
     ]
    },
    {
     "name": "stderr",
     "output_type": "stream",
     "text": [
      "100%|██████████| 7161/7161 [00:15<00:00, 452.11it/s]\n"
     ]
    },
    {
     "name": "stdout",
     "output_type": "stream",
     "text": [
      "iqs mean: 0.99781957100763\n",
      "Missing rate: 0.05\n",
      "data_imp: (835, 7161)\n",
      "data_imp_012: (7161, 835)\n",
      "snp_cnt: 7161\n",
      "sample_cnt: 835\n",
      "data_obs_012: (7161, 835)\n"
     ]
    },
    {
     "name": "stderr",
     "output_type": "stream",
     "text": [
      "100%|██████████| 7161/7161 [00:15<00:00, 451.09it/s]\n"
     ]
    },
    {
     "name": "stdout",
     "output_type": "stream",
     "text": [
      "iqs mean: 0.9971245894365086\n",
      "Missing rate: 0.1\n",
      "data_imp: (835, 7161)\n",
      "data_imp_012: (7161, 835)\n",
      "snp_cnt: 7161\n",
      "sample_cnt: 835\n",
      "data_obs_012: (7161, 835)\n"
     ]
    },
    {
     "name": "stderr",
     "output_type": "stream",
     "text": [
      "100%|██████████| 7161/7161 [00:15<00:00, 452.04it/s]\n"
     ]
    },
    {
     "name": "stdout",
     "output_type": "stream",
     "text": [
      "iqs mean: 0.9962302229019924\n",
      "Missing rate: 0.2\n",
      "data_imp: (835, 7161)\n",
      "data_imp_012: (7161, 835)\n",
      "snp_cnt: 7161\n",
      "sample_cnt: 835\n",
      "data_obs_012: (7161, 835)\n"
     ]
    },
    {
     "name": "stderr",
     "output_type": "stream",
     "text": [
      "100%|██████████| 7161/7161 [00:15<00:00, 455.89it/s]\n"
     ]
    },
    {
     "name": "stdout",
     "output_type": "stream",
     "text": [
      "iqs mean: 0.9942597393200208\n",
      "Fold: 2\n",
      "Missing rate: 0.01\n",
      "data_imp: (835, 7161)\n",
      "data_imp_012: (7161, 835)\n",
      "snp_cnt: 7161\n",
      "sample_cnt: 835\n",
      "data_obs_012: (7161, 835)\n"
     ]
    },
    {
     "name": "stderr",
     "output_type": "stream",
     "text": [
      "100%|██████████| 7161/7161 [00:15<00:00, 454.51it/s]\n"
     ]
    },
    {
     "name": "stdout",
     "output_type": "stream",
     "text": [
      "iqs mean: 0.997873609622208\n",
      "Missing rate: 0.05\n",
      "data_imp: (835, 7161)\n",
      "data_imp_012: (7161, 835)\n",
      "snp_cnt: 7161\n",
      "sample_cnt: 835\n",
      "data_obs_012: (7161, 835)\n"
     ]
    },
    {
     "name": "stderr",
     "output_type": "stream",
     "text": [
      "100%|██████████| 7161/7161 [00:15<00:00, 451.86it/s]\n"
     ]
    },
    {
     "name": "stdout",
     "output_type": "stream",
     "text": [
      "iqs mean: 0.9971638259203606\n",
      "Missing rate: 0.1\n",
      "data_imp: (835, 7161)\n",
      "data_imp_012: (7161, 835)\n",
      "snp_cnt: 7161\n",
      "sample_cnt: 835\n",
      "data_obs_012: (7161, 835)\n"
     ]
    },
    {
     "name": "stderr",
     "output_type": "stream",
     "text": [
      "100%|██████████| 7161/7161 [00:15<00:00, 459.26it/s]\n"
     ]
    },
    {
     "name": "stdout",
     "output_type": "stream",
     "text": [
      "iqs mean: 0.9962006314333312\n",
      "Missing rate: 0.2\n",
      "data_imp: (835, 7161)\n",
      "data_imp_012: (7161, 835)\n",
      "snp_cnt: 7161\n",
      "sample_cnt: 835\n",
      "data_obs_012: (7161, 835)\n"
     ]
    },
    {
     "name": "stderr",
     "output_type": "stream",
     "text": [
      "100%|██████████| 7161/7161 [00:15<00:00, 451.38it/s]\n"
     ]
    },
    {
     "name": "stdout",
     "output_type": "stream",
     "text": [
      "iqs mean: 0.9942560767228821\n",
      "Fold: 3\n",
      "Missing rate: 0.01\n",
      "data_imp: (834, 7161)\n",
      "data_imp_012: (7161, 834)\n",
      "snp_cnt: 7161\n",
      "sample_cnt: 834\n",
      "data_obs_012: (7161, 834)\n"
     ]
    },
    {
     "name": "stderr",
     "output_type": "stream",
     "text": [
      "100%|██████████| 7161/7161 [00:15<00:00, 457.42it/s]\n"
     ]
    },
    {
     "name": "stdout",
     "output_type": "stream",
     "text": [
      "iqs mean: 0.9978111273403758\n",
      "Missing rate: 0.05\n",
      "data_imp: (834, 7161)\n",
      "data_imp_012: (7161, 834)\n",
      "snp_cnt: 7161\n",
      "sample_cnt: 834\n",
      "data_obs_012: (7161, 834)\n"
     ]
    },
    {
     "name": "stderr",
     "output_type": "stream",
     "text": [
      "100%|██████████| 7161/7161 [00:15<00:00, 454.51it/s]\n"
     ]
    },
    {
     "name": "stdout",
     "output_type": "stream",
     "text": [
      "iqs mean: 0.997163591024564\n",
      "Missing rate: 0.1\n",
      "data_imp: (834, 7161)\n",
      "data_imp_012: (7161, 834)\n",
      "snp_cnt: 7161\n",
      "sample_cnt: 834\n",
      "data_obs_012: (7161, 834)\n"
     ]
    },
    {
     "name": "stderr",
     "output_type": "stream",
     "text": [
      "100%|██████████| 7161/7161 [00:15<00:00, 450.35it/s]\n"
     ]
    },
    {
     "name": "stdout",
     "output_type": "stream",
     "text": [
      "iqs mean: 0.9962536907369116\n",
      "Missing rate: 0.2\n",
      "data_imp: (834, 7161)\n",
      "data_imp_012: (7161, 834)\n",
      "snp_cnt: 7161\n",
      "sample_cnt: 834\n",
      "data_obs_012: (7161, 834)\n"
     ]
    },
    {
     "name": "stderr",
     "output_type": "stream",
     "text": [
      "100%|██████████| 7161/7161 [00:15<00:00, 453.18it/s]\n"
     ]
    },
    {
     "name": "stdout",
     "output_type": "stream",
     "text": [
      "iqs mean: 0.9943829204671665\n",
      "Combining the results...\n"
     ]
    },
    {
     "data": {
      "text/plain": "       Fold Missing Rate                 IQS    Method                   MAF\n0         1         0.01                 1.0  Minimac4    $0 \\le MAF < 0.1 $\n1         1         0.01                 1.0  Minimac4  $0.3 \\le MAF < 0.4 $\n2         1         0.01                 1.0  Minimac4    $0 \\le MAF < 0.1 $\n3         1         0.01  0.9950215830769596  Minimac4    $0 \\le MAF < 0.1 $\n4         1         0.01                 1.0  Minimac4    $0 \\le MAF < 0.1 $\n...     ...          ...                 ...       ...                   ...\n515551    3          0.2  0.9975396705990637       STI  $0.1 \\le MAF < 0.2 $\n515552    3          0.2  0.9976034827085818       STI  $0.1 \\le MAF < 0.2 $\n515553    3          0.2  0.9981237134275976       STI  $0.3 \\le MAF < 0.4 $\n515554    3          0.2                 1.0       STI  $0.1 \\le MAF < 0.2 $\n515555    3          0.2  0.9853233611966565       STI    $0 \\le MAF < 0.1 $\n\n[515556 rows x 5 columns]",
      "text/html": "<div>\n<style scoped>\n    .dataframe tbody tr th:only-of-type {\n        vertical-align: middle;\n    }\n\n    .dataframe tbody tr th {\n        vertical-align: top;\n    }\n\n    .dataframe thead th {\n        text-align: right;\n    }\n</style>\n<table border=\"1\" class=\"dataframe\">\n  <thead>\n    <tr style=\"text-align: right;\">\n      <th></th>\n      <th>Fold</th>\n      <th>Missing Rate</th>\n      <th>IQS</th>\n      <th>Method</th>\n      <th>MAF</th>\n    </tr>\n  </thead>\n  <tbody>\n    <tr>\n      <th>0</th>\n      <td>1</td>\n      <td>0.01</td>\n      <td>1.0</td>\n      <td>Minimac4</td>\n      <td>$0 \\le MAF &lt; 0.1 $</td>\n    </tr>\n    <tr>\n      <th>1</th>\n      <td>1</td>\n      <td>0.01</td>\n      <td>1.0</td>\n      <td>Minimac4</td>\n      <td>$0.3 \\le MAF &lt; 0.4 $</td>\n    </tr>\n    <tr>\n      <th>2</th>\n      <td>1</td>\n      <td>0.01</td>\n      <td>1.0</td>\n      <td>Minimac4</td>\n      <td>$0 \\le MAF &lt; 0.1 $</td>\n    </tr>\n    <tr>\n      <th>3</th>\n      <td>1</td>\n      <td>0.01</td>\n      <td>0.9950215830769596</td>\n      <td>Minimac4</td>\n      <td>$0 \\le MAF &lt; 0.1 $</td>\n    </tr>\n    <tr>\n      <th>4</th>\n      <td>1</td>\n      <td>0.01</td>\n      <td>1.0</td>\n      <td>Minimac4</td>\n      <td>$0 \\le MAF &lt; 0.1 $</td>\n    </tr>\n    <tr>\n      <th>...</th>\n      <td>...</td>\n      <td>...</td>\n      <td>...</td>\n      <td>...</td>\n      <td>...</td>\n    </tr>\n    <tr>\n      <th>515551</th>\n      <td>3</td>\n      <td>0.2</td>\n      <td>0.9975396705990637</td>\n      <td>STI</td>\n      <td>$0.1 \\le MAF &lt; 0.2 $</td>\n    </tr>\n    <tr>\n      <th>515552</th>\n      <td>3</td>\n      <td>0.2</td>\n      <td>0.9976034827085818</td>\n      <td>STI</td>\n      <td>$0.1 \\le MAF &lt; 0.2 $</td>\n    </tr>\n    <tr>\n      <th>515553</th>\n      <td>3</td>\n      <td>0.2</td>\n      <td>0.9981237134275976</td>\n      <td>STI</td>\n      <td>$0.3 \\le MAF &lt; 0.4 $</td>\n    </tr>\n    <tr>\n      <th>515554</th>\n      <td>3</td>\n      <td>0.2</td>\n      <td>1.0</td>\n      <td>STI</td>\n      <td>$0.1 \\le MAF &lt; 0.2 $</td>\n    </tr>\n    <tr>\n      <th>515555</th>\n      <td>3</td>\n      <td>0.2</td>\n      <td>0.9853233611966565</td>\n      <td>STI</td>\n      <td>$0 \\le MAF &lt; 0.1 $</td>\n    </tr>\n  </tbody>\n</table>\n<p>515556 rows × 5 columns</p>\n</div>"
     },
     "execution_count": 80,
     "metadata": {},
     "output_type": "execute_result"
    }
   ],
   "source": [
    "kf = KFold(n_splits=N_SPLITS, shuffle=True, random_state=2022)\n",
    "fold = 0\n",
    "_x = X[X.index.isin(Y_train.index)].to_numpy()\n",
    "for train_index, test_index in kf.split(_x):\n",
    "  fold += 1\n",
    "  print(f\"Fold: {fold}\")\n",
    "  y = _x[test_index]\n",
    "  for missing_perc in [\n",
    "                        0.01,\n",
    "                       0.05,\n",
    "                       0.1,\n",
    "                       0.2]:\n",
    "    print(f\"Missing rate: {missing_perc}\")\n",
    "    file_name = f\"./experimental_results/hla/maf/STI/preds_mixed_mr_{missing_perc}_rs_{fold}_.csv\"\n",
    "    result_genotypes = pd.read_csv(file_name, index_col=0)\n",
    "    result_genotypes = result_genotypes.replace({\n",
    "        '0|0': 0,\n",
    "        '0|1': 1,\n",
    "        '1|0': 1,\n",
    "        '1|1': 2\n",
    "    })\n",
    "    yhat = result_genotypes.to_numpy()\n",
    "    assert y.shape == yhat.shape\n",
    "    iqs_a, iqs_mean_a = iqs_score(yhat, y)\n",
    "\n",
    "    # print('iqs_mean:', iqs_mean_a)\n",
    "    # print('iqs:', iqs_a)\n",
    "\n",
    "    dataframe = pd.DataFrame(np.stack([np.full((len(iqs_a)), fold),\n",
    "                                       np.full((len(iqs_a)), missing_perc),\n",
    "                                       np.array(iqs_a),\n",
    "                                       np.full((len(iqs_a)), \"STI\"),\n",
    "                                       np.array(bin_labels_str)], axis=1), columns=columns)\n",
    "    dfs.append(dataframe)\n",
    "\n",
    "df = pd.DataFrame(columns = columns)\n",
    "print(\"Combining the results...\")\n",
    "df = pd.concat(dfs, ignore_index=True)\n",
    "del dfs\n",
    "\n",
    "df"
   ],
   "metadata": {
    "collapsed": false
   }
  },
  {
   "cell_type": "code",
   "execution_count": 81,
   "outputs": [
    {
     "data": {
      "text/plain": "((834, 7161), (834, 7161), (834, 7161))"
     },
     "execution_count": 81,
     "metadata": {},
     "output_type": "execute_result"
    }
   ],
   "source": [
    "y.shape, yhat.shape, result_genotypes.shape"
   ],
   "metadata": {
    "collapsed": false
   }
  },
  {
   "cell_type": "code",
   "execution_count": 82,
   "outputs": [
    {
     "data": {
      "text/plain": "       Fold Missing Rate      IQS    Method                   MAF\n0         1         0.01  1.00000  Minimac4    $0 \\le MAF < 0.1 $\n1         1         0.01  1.00000  Minimac4  $0.3 \\le MAF < 0.4 $\n2         1         0.01  1.00000  Minimac4    $0 \\le MAF < 0.1 $\n3         1         0.01  0.99502  Minimac4    $0 \\le MAF < 0.1 $\n4         1         0.01  1.00000  Minimac4    $0 \\le MAF < 0.1 $\n...     ...          ...      ...       ...                   ...\n515551    3          0.2  0.99754       STI  $0.1 \\le MAF < 0.2 $\n515552    3          0.2  0.99760       STI  $0.1 \\le MAF < 0.2 $\n515553    3          0.2  0.99812       STI  $0.3 \\le MAF < 0.4 $\n515554    3          0.2  1.00000       STI  $0.1 \\le MAF < 0.2 $\n515555    3          0.2  0.98532       STI    $0 \\le MAF < 0.1 $\n\n[515556 rows x 5 columns]",
      "text/html": "<div>\n<style scoped>\n    .dataframe tbody tr th:only-of-type {\n        vertical-align: middle;\n    }\n\n    .dataframe tbody tr th {\n        vertical-align: top;\n    }\n\n    .dataframe thead th {\n        text-align: right;\n    }\n</style>\n<table border=\"1\" class=\"dataframe\">\n  <thead>\n    <tr style=\"text-align: right;\">\n      <th></th>\n      <th>Fold</th>\n      <th>Missing Rate</th>\n      <th>IQS</th>\n      <th>Method</th>\n      <th>MAF</th>\n    </tr>\n  </thead>\n  <tbody>\n    <tr>\n      <th>0</th>\n      <td>1</td>\n      <td>0.01</td>\n      <td>1.00000</td>\n      <td>Minimac4</td>\n      <td>$0 \\le MAF &lt; 0.1 $</td>\n    </tr>\n    <tr>\n      <th>1</th>\n      <td>1</td>\n      <td>0.01</td>\n      <td>1.00000</td>\n      <td>Minimac4</td>\n      <td>$0.3 \\le MAF &lt; 0.4 $</td>\n    </tr>\n    <tr>\n      <th>2</th>\n      <td>1</td>\n      <td>0.01</td>\n      <td>1.00000</td>\n      <td>Minimac4</td>\n      <td>$0 \\le MAF &lt; 0.1 $</td>\n    </tr>\n    <tr>\n      <th>3</th>\n      <td>1</td>\n      <td>0.01</td>\n      <td>0.99502</td>\n      <td>Minimac4</td>\n      <td>$0 \\le MAF &lt; 0.1 $</td>\n    </tr>\n    <tr>\n      <th>4</th>\n      <td>1</td>\n      <td>0.01</td>\n      <td>1.00000</td>\n      <td>Minimac4</td>\n      <td>$0 \\le MAF &lt; 0.1 $</td>\n    </tr>\n    <tr>\n      <th>...</th>\n      <td>...</td>\n      <td>...</td>\n      <td>...</td>\n      <td>...</td>\n      <td>...</td>\n    </tr>\n    <tr>\n      <th>515551</th>\n      <td>3</td>\n      <td>0.2</td>\n      <td>0.99754</td>\n      <td>STI</td>\n      <td>$0.1 \\le MAF &lt; 0.2 $</td>\n    </tr>\n    <tr>\n      <th>515552</th>\n      <td>3</td>\n      <td>0.2</td>\n      <td>0.99760</td>\n      <td>STI</td>\n      <td>$0.1 \\le MAF &lt; 0.2 $</td>\n    </tr>\n    <tr>\n      <th>515553</th>\n      <td>3</td>\n      <td>0.2</td>\n      <td>0.99812</td>\n      <td>STI</td>\n      <td>$0.3 \\le MAF &lt; 0.4 $</td>\n    </tr>\n    <tr>\n      <th>515554</th>\n      <td>3</td>\n      <td>0.2</td>\n      <td>1.00000</td>\n      <td>STI</td>\n      <td>$0.1 \\le MAF &lt; 0.2 $</td>\n    </tr>\n    <tr>\n      <th>515555</th>\n      <td>3</td>\n      <td>0.2</td>\n      <td>0.98532</td>\n      <td>STI</td>\n      <td>$0 \\le MAF &lt; 0.1 $</td>\n    </tr>\n  </tbody>\n</table>\n<p>515556 rows × 5 columns</p>\n</div>"
     },
     "execution_count": 82,
     "metadata": {},
     "output_type": "execute_result"
    }
   ],
   "source": [
    "    df[\"IQS\"] = df[\"IQS\"].astype(float)\n",
    "    df = df.round({'IQS': 5})\n",
    "df"
   ],
   "metadata": {
    "collapsed": false
   }
  },
  {
   "cell_type": "code",
   "execution_count": 4,
   "outputs": [
    {
     "data": {
      "text/plain": "        Fold  Missing Rate      IQS    Method                   MAF\n0          1          0.01  1.00000  Minimac4    $0 \\le MAF < 0.1 $\n1          1          0.01  1.00000  Minimac4  $0.3 \\le MAF < 0.4 $\n2          1          0.01  1.00000  Minimac4    $0 \\le MAF < 0.1 $\n3          1          0.01  0.99502  Minimac4    $0 \\le MAF < 0.1 $\n4          1          0.01  1.00000  Minimac4    $0 \\le MAF < 0.1 $\n...      ...           ...      ...       ...                   ...\n515551     3          0.20  0.99754       STI  $0.1 \\le MAF < 0.2 $\n515552     3          0.20  0.99760       STI  $0.1 \\le MAF < 0.2 $\n515553     3          0.20  0.99812       STI  $0.3 \\le MAF < 0.4 $\n515554     3          0.20  1.00000       STI  $0.1 \\le MAF < 0.2 $\n515555     3          0.20  0.98532       STI    $0 \\le MAF < 0.1 $\n\n[515556 rows x 5 columns]",
      "text/html": "<div>\n<style scoped>\n    .dataframe tbody tr th:only-of-type {\n        vertical-align: middle;\n    }\n\n    .dataframe tbody tr th {\n        vertical-align: top;\n    }\n\n    .dataframe thead th {\n        text-align: right;\n    }\n</style>\n<table border=\"1\" class=\"dataframe\">\n  <thead>\n    <tr style=\"text-align: right;\">\n      <th></th>\n      <th>Fold</th>\n      <th>Missing Rate</th>\n      <th>IQS</th>\n      <th>Method</th>\n      <th>MAF</th>\n    </tr>\n  </thead>\n  <tbody>\n    <tr>\n      <th>0</th>\n      <td>1</td>\n      <td>0.01</td>\n      <td>1.00000</td>\n      <td>Minimac4</td>\n      <td>$0 \\le MAF &lt; 0.1 $</td>\n    </tr>\n    <tr>\n      <th>1</th>\n      <td>1</td>\n      <td>0.01</td>\n      <td>1.00000</td>\n      <td>Minimac4</td>\n      <td>$0.3 \\le MAF &lt; 0.4 $</td>\n    </tr>\n    <tr>\n      <th>2</th>\n      <td>1</td>\n      <td>0.01</td>\n      <td>1.00000</td>\n      <td>Minimac4</td>\n      <td>$0 \\le MAF &lt; 0.1 $</td>\n    </tr>\n    <tr>\n      <th>3</th>\n      <td>1</td>\n      <td>0.01</td>\n      <td>0.99502</td>\n      <td>Minimac4</td>\n      <td>$0 \\le MAF &lt; 0.1 $</td>\n    </tr>\n    <tr>\n      <th>4</th>\n      <td>1</td>\n      <td>0.01</td>\n      <td>1.00000</td>\n      <td>Minimac4</td>\n      <td>$0 \\le MAF &lt; 0.1 $</td>\n    </tr>\n    <tr>\n      <th>...</th>\n      <td>...</td>\n      <td>...</td>\n      <td>...</td>\n      <td>...</td>\n      <td>...</td>\n    </tr>\n    <tr>\n      <th>515551</th>\n      <td>3</td>\n      <td>0.20</td>\n      <td>0.99754</td>\n      <td>STI</td>\n      <td>$0.1 \\le MAF &lt; 0.2 $</td>\n    </tr>\n    <tr>\n      <th>515552</th>\n      <td>3</td>\n      <td>0.20</td>\n      <td>0.99760</td>\n      <td>STI</td>\n      <td>$0.1 \\le MAF &lt; 0.2 $</td>\n    </tr>\n    <tr>\n      <th>515553</th>\n      <td>3</td>\n      <td>0.20</td>\n      <td>0.99812</td>\n      <td>STI</td>\n      <td>$0.3 \\le MAF &lt; 0.4 $</td>\n    </tr>\n    <tr>\n      <th>515554</th>\n      <td>3</td>\n      <td>0.20</td>\n      <td>1.00000</td>\n      <td>STI</td>\n      <td>$0.1 \\le MAF &lt; 0.2 $</td>\n    </tr>\n    <tr>\n      <th>515555</th>\n      <td>3</td>\n      <td>0.20</td>\n      <td>0.98532</td>\n      <td>STI</td>\n      <td>$0 \\le MAF &lt; 0.1 $</td>\n    </tr>\n  </tbody>\n</table>\n<p>515556 rows × 5 columns</p>\n</div>"
     },
     "execution_count": 4,
     "metadata": {},
     "output_type": "execute_result"
    }
   ],
   "source": [
    "# df.to_csv(\"results_in_table/hla/maf/IQS_all.csv\")\n",
    "df = pd.read_csv(\"results_in_table/hla/maf/IQS_all.csv\", index_col=0)\n",
    "df"
   ],
   "metadata": {
    "collapsed": false
   }
  },
  {
   "cell_type": "code",
   "execution_count": 5,
   "outputs": [
    {
     "data": {
      "text/plain": "                               IQS\nMethod Fold Missing Rate          \nAE     1    0.01          0.995717\n            0.05          0.988275\n            0.10          0.980755\n            0.20          0.961768\n       2    0.01          0.995739\n...                            ...\nSTI*WE 2    0.20          0.992014\n       3    0.01          0.998093\n            0.05          0.996977\n            0.10          0.995497\n            0.20          0.992320\n\n[72 rows x 1 columns]",
      "text/html": "<div>\n<style scoped>\n    .dataframe tbody tr th:only-of-type {\n        vertical-align: middle;\n    }\n\n    .dataframe tbody tr th {\n        vertical-align: top;\n    }\n\n    .dataframe thead th {\n        text-align: right;\n    }\n</style>\n<table border=\"1\" class=\"dataframe\">\n  <thead>\n    <tr style=\"text-align: right;\">\n      <th></th>\n      <th></th>\n      <th></th>\n      <th>IQS</th>\n    </tr>\n    <tr>\n      <th>Method</th>\n      <th>Fold</th>\n      <th>Missing Rate</th>\n      <th></th>\n    </tr>\n  </thead>\n  <tbody>\n    <tr>\n      <th rowspan=\"5\" valign=\"top\">AE</th>\n      <th rowspan=\"4\" valign=\"top\">1</th>\n      <th>0.01</th>\n      <td>0.995717</td>\n    </tr>\n    <tr>\n      <th>0.05</th>\n      <td>0.988275</td>\n    </tr>\n    <tr>\n      <th>0.10</th>\n      <td>0.980755</td>\n    </tr>\n    <tr>\n      <th>0.20</th>\n      <td>0.961768</td>\n    </tr>\n    <tr>\n      <th>2</th>\n      <th>0.01</th>\n      <td>0.995739</td>\n    </tr>\n    <tr>\n      <th>...</th>\n      <th>...</th>\n      <th>...</th>\n      <td>...</td>\n    </tr>\n    <tr>\n      <th rowspan=\"5\" valign=\"top\">STI*WE</th>\n      <th>2</th>\n      <th>0.20</th>\n      <td>0.992014</td>\n    </tr>\n    <tr>\n      <th rowspan=\"4\" valign=\"top\">3</th>\n      <th>0.01</th>\n      <td>0.998093</td>\n    </tr>\n    <tr>\n      <th>0.05</th>\n      <td>0.996977</td>\n    </tr>\n    <tr>\n      <th>0.10</th>\n      <td>0.995497</td>\n    </tr>\n    <tr>\n      <th>0.20</th>\n      <td>0.992320</td>\n    </tr>\n  </tbody>\n</table>\n<p>72 rows × 1 columns</p>\n</div>"
     },
     "execution_count": 5,
     "metadata": {},
     "output_type": "execute_result"
    }
   ],
   "source": [
    "df1 = df.groupby([\"Method\", \"Fold\", \"Missing Rate\"]).agg( {\"IQS\":\"mean\"})\n",
    "df1"
   ],
   "metadata": {
    "collapsed": false
   }
  },
  {
   "cell_type": "code",
   "execution_count": 6,
   "outputs": [
    {
     "data": {
      "text/plain": "                            IQS          \n                           mean       std\nMethod   Missing Rate                    \nAE       0.01          0.995743  0.000028\n         0.05          0.988089  0.000166\n         0.10          0.980705  0.000238\n         0.20          0.961948  0.000676\nHLA*DEEP 0.01          0.987876  0.000494\n         0.05          0.987339  0.000445\n         0.10          0.986607  0.000388\n         0.20          0.984855  0.000269\nMinimac4 0.01          0.996462  0.000073\n         0.05          0.996016  0.000085\n         0.10          0.995412  0.000111\n         0.20          0.994079  0.000155\nSCDA+    0.01          0.996501  0.000149\n         0.05          0.995374  0.000166\n         0.10          0.993955  0.000199\n         0.20          0.990838  0.000158\nSTI      0.01          0.997835  0.000034\n         0.05          0.997151  0.000023\n         0.10          0.996228  0.000027\n         0.20          0.994300  0.000072\nSTI*WE   0.01          0.998156  0.000065\n         0.05          0.996971  0.000078\n         0.10          0.995465  0.000168\n         0.20          0.992309  0.000289",
      "text/html": "<div>\n<style scoped>\n    .dataframe tbody tr th:only-of-type {\n        vertical-align: middle;\n    }\n\n    .dataframe tbody tr th {\n        vertical-align: top;\n    }\n\n    .dataframe thead tr th {\n        text-align: left;\n    }\n\n    .dataframe thead tr:last-of-type th {\n        text-align: right;\n    }\n</style>\n<table border=\"1\" class=\"dataframe\">\n  <thead>\n    <tr>\n      <th></th>\n      <th></th>\n      <th colspan=\"2\" halign=\"left\">IQS</th>\n    </tr>\n    <tr>\n      <th></th>\n      <th></th>\n      <th>mean</th>\n      <th>std</th>\n    </tr>\n    <tr>\n      <th>Method</th>\n      <th>Missing Rate</th>\n      <th></th>\n      <th></th>\n    </tr>\n  </thead>\n  <tbody>\n    <tr>\n      <th rowspan=\"4\" valign=\"top\">AE</th>\n      <th>0.01</th>\n      <td>0.995743</td>\n      <td>0.000028</td>\n    </tr>\n    <tr>\n      <th>0.05</th>\n      <td>0.988089</td>\n      <td>0.000166</td>\n    </tr>\n    <tr>\n      <th>0.10</th>\n      <td>0.980705</td>\n      <td>0.000238</td>\n    </tr>\n    <tr>\n      <th>0.20</th>\n      <td>0.961948</td>\n      <td>0.000676</td>\n    </tr>\n    <tr>\n      <th rowspan=\"4\" valign=\"top\">HLA*DEEP</th>\n      <th>0.01</th>\n      <td>0.987876</td>\n      <td>0.000494</td>\n    </tr>\n    <tr>\n      <th>0.05</th>\n      <td>0.987339</td>\n      <td>0.000445</td>\n    </tr>\n    <tr>\n      <th>0.10</th>\n      <td>0.986607</td>\n      <td>0.000388</td>\n    </tr>\n    <tr>\n      <th>0.20</th>\n      <td>0.984855</td>\n      <td>0.000269</td>\n    </tr>\n    <tr>\n      <th rowspan=\"4\" valign=\"top\">Minimac4</th>\n      <th>0.01</th>\n      <td>0.996462</td>\n      <td>0.000073</td>\n    </tr>\n    <tr>\n      <th>0.05</th>\n      <td>0.996016</td>\n      <td>0.000085</td>\n    </tr>\n    <tr>\n      <th>0.10</th>\n      <td>0.995412</td>\n      <td>0.000111</td>\n    </tr>\n    <tr>\n      <th>0.20</th>\n      <td>0.994079</td>\n      <td>0.000155</td>\n    </tr>\n    <tr>\n      <th rowspan=\"4\" valign=\"top\">SCDA+</th>\n      <th>0.01</th>\n      <td>0.996501</td>\n      <td>0.000149</td>\n    </tr>\n    <tr>\n      <th>0.05</th>\n      <td>0.995374</td>\n      <td>0.000166</td>\n    </tr>\n    <tr>\n      <th>0.10</th>\n      <td>0.993955</td>\n      <td>0.000199</td>\n    </tr>\n    <tr>\n      <th>0.20</th>\n      <td>0.990838</td>\n      <td>0.000158</td>\n    </tr>\n    <tr>\n      <th rowspan=\"4\" valign=\"top\">STI</th>\n      <th>0.01</th>\n      <td>0.997835</td>\n      <td>0.000034</td>\n    </tr>\n    <tr>\n      <th>0.05</th>\n      <td>0.997151</td>\n      <td>0.000023</td>\n    </tr>\n    <tr>\n      <th>0.10</th>\n      <td>0.996228</td>\n      <td>0.000027</td>\n    </tr>\n    <tr>\n      <th>0.20</th>\n      <td>0.994300</td>\n      <td>0.000072</td>\n    </tr>\n    <tr>\n      <th rowspan=\"4\" valign=\"top\">STI*WE</th>\n      <th>0.01</th>\n      <td>0.998156</td>\n      <td>0.000065</td>\n    </tr>\n    <tr>\n      <th>0.05</th>\n      <td>0.996971</td>\n      <td>0.000078</td>\n    </tr>\n    <tr>\n      <th>0.10</th>\n      <td>0.995465</td>\n      <td>0.000168</td>\n    </tr>\n    <tr>\n      <th>0.20</th>\n      <td>0.992309</td>\n      <td>0.000289</td>\n    </tr>\n  </tbody>\n</table>\n</div>"
     },
     "execution_count": 6,
     "metadata": {},
     "output_type": "execute_result"
    }
   ],
   "source": [
    "df1 = df.groupby([\"Method\", \"Fold\", \"Missing Rate\"]).agg( {\"IQS\":\"mean\"}).reset_index()# df1.columns = df1.columns.droplevel(0)\n",
    "df1 = df1.groupby([\"Method\", \"Missing Rate\"]).agg( {\"IQS\":[\"mean\", \"std\"]})#.reset_index()\n",
    "df1\n"
   ],
   "metadata": {
    "collapsed": false
   }
  },
  {
   "cell_type": "code",
   "execution_count": 9,
   "outputs": [
    {
     "data": {
      "text/plain": "     Missing Rate                     MAF    Method     IQS\n0            0.01      $0 \\le MAF < 0.1 $        AE  0.9941\n1            0.01      $0 \\le MAF < 0.1 $  HLA*DEEP  0.9843\n2            0.01      $0 \\le MAF < 0.1 $  Minimac4  0.9964\n3            0.01      $0 \\le MAF < 0.1 $     SCDA+  0.9957\n4            0.01      $0 \\le MAF < 0.1 $       STI  0.9971\n..            ...                     ...       ...     ...\n115          0.20  $0.4 \\le MAF \\le 0.5 $  HLA*DEEP  0.9846\n116          0.20  $0.4 \\le MAF \\le 0.5 $  Minimac4  0.9940\n117          0.20  $0.4 \\le MAF \\le 0.5 $     SCDA+  0.9907\n118          0.20  $0.4 \\le MAF \\le 0.5 $       STI  0.9944\n119          0.20  $0.4 \\le MAF \\le 0.5 $    STI*WE  0.9921\n\n[120 rows x 4 columns]",
      "text/html": "<div>\n<style scoped>\n    .dataframe tbody tr th:only-of-type {\n        vertical-align: middle;\n    }\n\n    .dataframe tbody tr th {\n        vertical-align: top;\n    }\n\n    .dataframe thead th {\n        text-align: right;\n    }\n</style>\n<table border=\"1\" class=\"dataframe\">\n  <thead>\n    <tr style=\"text-align: right;\">\n      <th></th>\n      <th>Missing Rate</th>\n      <th>MAF</th>\n      <th>Method</th>\n      <th>IQS</th>\n    </tr>\n  </thead>\n  <tbody>\n    <tr>\n      <th>0</th>\n      <td>0.01</td>\n      <td>$0 \\le MAF &lt; 0.1 $</td>\n      <td>AE</td>\n      <td>0.9941</td>\n    </tr>\n    <tr>\n      <th>1</th>\n      <td>0.01</td>\n      <td>$0 \\le MAF &lt; 0.1 $</td>\n      <td>HLA*DEEP</td>\n      <td>0.9843</td>\n    </tr>\n    <tr>\n      <th>2</th>\n      <td>0.01</td>\n      <td>$0 \\le MAF &lt; 0.1 $</td>\n      <td>Minimac4</td>\n      <td>0.9964</td>\n    </tr>\n    <tr>\n      <th>3</th>\n      <td>0.01</td>\n      <td>$0 \\le MAF &lt; 0.1 $</td>\n      <td>SCDA+</td>\n      <td>0.9957</td>\n    </tr>\n    <tr>\n      <th>4</th>\n      <td>0.01</td>\n      <td>$0 \\le MAF &lt; 0.1 $</td>\n      <td>STI</td>\n      <td>0.9971</td>\n    </tr>\n    <tr>\n      <th>...</th>\n      <td>...</td>\n      <td>...</td>\n      <td>...</td>\n      <td>...</td>\n    </tr>\n    <tr>\n      <th>115</th>\n      <td>0.20</td>\n      <td>$0.4 \\le MAF \\le 0.5 $</td>\n      <td>HLA*DEEP</td>\n      <td>0.9846</td>\n    </tr>\n    <tr>\n      <th>116</th>\n      <td>0.20</td>\n      <td>$0.4 \\le MAF \\le 0.5 $</td>\n      <td>Minimac4</td>\n      <td>0.9940</td>\n    </tr>\n    <tr>\n      <th>117</th>\n      <td>0.20</td>\n      <td>$0.4 \\le MAF \\le 0.5 $</td>\n      <td>SCDA+</td>\n      <td>0.9907</td>\n    </tr>\n    <tr>\n      <th>118</th>\n      <td>0.20</td>\n      <td>$0.4 \\le MAF \\le 0.5 $</td>\n      <td>STI</td>\n      <td>0.9944</td>\n    </tr>\n    <tr>\n      <th>119</th>\n      <td>0.20</td>\n      <td>$0.4 \\le MAF \\le 0.5 $</td>\n      <td>STI*WE</td>\n      <td>0.9921</td>\n    </tr>\n  </tbody>\n</table>\n<p>120 rows × 4 columns</p>\n</div>"
     },
     "execution_count": 9,
     "metadata": {},
     "output_type": "execute_result"
    }
   ],
   "source": [
    "# df1 = df.groupby([\"Fold\", \"Missing Rate\", \"Method\", \"MAF\"]).agg( {\"IQS\":\"mean\"}).reset_index()# df1.columns = df1.columns.droplevel(0)\n",
    "df1 = df.groupby([\"Missing Rate\", \"MAF\", \"Method\"]).agg( {\"IQS\":\"mean\"}).reset_index()\n",
    "df1[\"IQS\"] = df1[\"IQS\"].astype(float)\n",
    "df1 = df1.round({'IQS': 4})\n",
    "df1\n"
   ],
   "metadata": {
    "collapsed": false
   }
  },
  {
   "cell_type": "code",
   "execution_count": null,
   "outputs": [],
   "source": [],
   "metadata": {
    "collapsed": false
   }
  }
 ],
 "metadata": {
  "kernelspec": {
   "display_name": "Python 3",
   "language": "python",
   "name": "python3"
  },
  "language_info": {
   "codemirror_mode": {
    "name": "ipython",
    "version": 2
   },
   "file_extension": ".py",
   "mimetype": "text/x-python",
   "name": "python",
   "nbconvert_exporter": "python",
   "pygments_lexer": "ipython2",
   "version": "2.7.6"
  }
 },
 "nbformat": 4,
 "nbformat_minor": 0
}
