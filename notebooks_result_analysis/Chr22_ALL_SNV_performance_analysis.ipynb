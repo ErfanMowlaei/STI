{
 "cells": [
  {
   "cell_type": "code",
   "execution_count": 13,
   "metadata": {
    "collapsed": true
   },
   "outputs": [
    {
     "name": "stdout",
     "output_type": "stream",
     "text": [
      "Requirement already satisfied: toolz in c:\\users\\lab\\appdata\\local\\programs\\python\\python38\\lib\\site-packages (0.12.0)\n",
      "Requirement already satisfied: scikit-allel in c:\\users\\lab\\appdata\\local\\programs\\python\\python38\\lib\\site-packages (1.3.5)\n"
     ]
    },
    {
     "name": "stderr",
     "output_type": "stream",
     "text": [
      "WARNING: You are using pip version 21.1.1; however, version 22.3.1 is available.\n",
      "You should consider upgrading via the 'c:\\users\\lab\\appdata\\local\\programs\\python\\python38\\python.exe -m pip install --upgrade pip' command.\n"
     ]
    },
    {
     "name": "stdout",
     "output_type": "stream",
     "text": [
      "Requirement already satisfied: numpy in c:\\users\\lab\\appdata\\local\\programs\\python\\python38\\lib\\site-packages (from scikit-allel) (1.19.5)\n",
      "Requirement already satisfied: dask[array] in c:\\users\\lab\\appdata\\local\\programs\\python\\python38\\lib\\site-packages (from scikit-allel) (2023.1.0)\n",
      "Requirement already satisfied: click>=7.0 in c:\\users\\lab\\appdata\\local\\programs\\python\\python38\\lib\\site-packages (from dask[array]->scikit-allel) (8.0.3)\n",
      "Requirement already satisfied: fsspec>=0.6.0 in c:\\users\\lab\\appdata\\local\\programs\\python\\python38\\lib\\site-packages (from dask[array]->scikit-allel) (2023.1.0)\n",
      "Requirement already satisfied: partd>=0.3.10 in c:\\users\\lab\\appdata\\local\\programs\\python\\python38\\lib\\site-packages (from dask[array]->scikit-allel) (1.3.0)\n",
      "Requirement already satisfied: cloudpickle>=1.1.1 in c:\\users\\lab\\appdata\\local\\programs\\python\\python38\\lib\\site-packages (from dask[array]->scikit-allel) (2.2.1)\n",
      "Requirement already satisfied: pyyaml>=5.3.1 in c:\\users\\lab\\appdata\\local\\programs\\python\\python38\\lib\\site-packages (from dask[array]->scikit-allel) (6.0)\n",
      "Requirement already satisfied: packaging>=20.0 in c:\\users\\lab\\appdata\\local\\programs\\python\\python38\\lib\\site-packages (from dask[array]->scikit-allel) (21.0)\n",
      "Requirement already satisfied: colorama in c:\\users\\lab\\appdata\\local\\programs\\python\\python38\\lib\\site-packages (from click>=7.0->dask[array]->scikit-allel) (0.4.4)\n",
      "Requirement already satisfied: pyparsing>=2.0.2 in c:\\users\\lab\\appdata\\local\\programs\\python\\python38\\lib\\site-packages (from packaging>=20.0->dask[array]->scikit-allel) (3.0.1)\n",
      "Requirement already satisfied: locket in c:\\users\\lab\\appdata\\local\\programs\\python\\python38\\lib\\site-packages (from partd>=0.3.10->dask[array]->scikit-allel) (1.0.0)\n"
     ]
    }
   ],
   "source": [
    "!pip install toolz scikit-allel\n",
    "\n",
    "import os\n",
    "import numpy as np\n",
    "import pandas as pd\n",
    "import ast\n",
    "import math\n",
    "import re\n",
    "import itertools\n",
    "import random\n",
    "import json\n",
    "import matplotlib\n",
    "from matplotlib.pyplot import plot as plt\n",
    "from scipy.spatial.distance import squareform\n",
    "from pylab import *\n",
    "# mpl.use(\"pgf\")\n",
    "# # activate latex text rendering\n",
    "# rc('text', usetex=True)\n",
    "# rc('axes', linewidth=2)\n",
    "# rc('font', weight='bold')\n",
    "# mpl.rcParams.update({\n",
    "#     \"pgf.texsystem\": \"pdflatex\",\n",
    "#     'font.family': 'serif',\n",
    "#     'text.usetex': True,\n",
    "#     'pgf.rcfonts': False,\n",
    "#     'text.latex.preamble':r'\\usepackage{sfmath} \\boldmath'\n",
    "# })\n",
    "%matplotlib inline\n",
    "import seaborn as sns\n",
    "sns.set_theme(style=\"whitegrid\")\n",
    "from sklearn.model_selection import KFold,StratifiedKFold\n",
    "from sklearn.model_selection import train_test_split\n",
    "from tqdm import tqdm\n",
    "import allel\n",
    "sns.set_theme(style=\"white\")\n"
   ]
  },
  {
   "cell_type": "code",
   "execution_count": 14,
   "outputs": [],
   "source": [
    "# load data\n",
    "root_dir = './data/'\n",
    "file_name = \"ALL.chr22.mergedSV.v8.20130502.svs.genotypes.vcf\"\n",
    "new_data_header = \"\"\n",
    "# get header\n",
    "with open(root_dir + file_name, 'r') as f_in:\n",
    "    # skip info\n",
    "    for line_num in range(70):\n",
    "        f_in.readline()\n",
    "\n",
    "    new_data_header = f_in.readline()\n",
    "# load data\n",
    "\n",
    "# load genotype\n",
    "genotypes = pd.read_csv(root_dir + file_name,\n",
    "                        comment='#', sep='\\t',\n",
    "                        names=new_data_header.strip().split('\\t'),\n",
    "                        header=None)"
   ],
   "metadata": {
    "collapsed": false,
    "pycharm": {
     "name": "#%%\n"
    }
   }
  },
  {
   "cell_type": "code",
   "execution_count": 15,
   "outputs": [
    {
     "data": {
      "text/plain": "[16050654, 16533236]"
     },
     "execution_count": 15,
     "metadata": {},
     "output_type": "execute_result"
    }
   ],
   "source": [
    "geno_headers = genotypes.POS.values\n",
    "positions = [int(h) for h in geno_headers]\n",
    "positions[:2]\n"
   ],
   "metadata": {
    "collapsed": false,
    "pycharm": {
     "name": "#%%\n"
    }
   }
  },
  {
   "cell_type": "code",
   "execution_count": 16,
   "outputs": [],
   "source": [
    "def find_snv_chunk(s):\n",
    "  s_split = s.split(\";\")\n",
    "  for ss in s_split:\n",
    "    if ss.startswith(\"SVTYPE\"):\n",
    "      return ss\n",
    "  return \"\"\n"
   ],
   "metadata": {
    "collapsed": false,
    "pycharm": {
     "name": "#%%\n"
    }
   }
  },
  {
   "cell_type": "code",
   "execution_count": 17,
   "outputs": [
    {
     "data": {
      "text/plain": "(array(['ALU', 'CNV', 'DEL', 'DEL_ALU', 'DUP', 'INS', 'INV', 'LINE1',\n        'SVA'], dtype=object),\n array([ 96,  55, 573,   9,  79,   4,   5,   7,  20], dtype=int64))"
     },
     "execution_count": 17,
     "metadata": {},
     "output_type": "execute_result"
    }
   ],
   "source": [
    "info = genotypes.iloc[:, 7:8]\n",
    "snv_types = info.applymap(lambda x: find_snv_chunk(x).split(\"=\")[-1]).values.flatten()\n",
    "np.unique(snv_types, return_counts=True)"
   ],
   "metadata": {
    "collapsed": false,
    "pycharm": {
     "name": "#%%\n"
    }
   }
  },
  {
   "cell_type": "code",
   "execution_count": 18,
   "outputs": [
    {
     "data": {
      "text/plain": "         0    1    2    3    4    5    6    7    8    9    ...  838  839  840  \\\nHG00096  3|0  0|0  0|0  0|0  0|0  0|0  0|0  0|0  0|0  0|0  ...  0|0  0|0  0|0   \nHG00097  0|0  0|0  0|0  0|0  0|0  0|0  1|0  0|0  0|0  0|0  ...  0|0  0|0  0|0   \nHG00099  0|0  0|0  0|0  0|0  0|0  0|1  0|1  0|0  0|0  0|0  ...  0|0  0|0  0|0   \nHG00100  0|0  0|0  0|0  0|0  0|0  0|0  0|1  0|0  0|0  0|0  ...  0|0  0|0  0|0   \nHG00101  0|0  0|0  0|0  0|0  0|0  0|0  0|0  0|0  0|0  0|0  ...  0|0  0|0  0|0   \n...      ...  ...  ...  ...  ...  ...  ...  ...  ...  ...  ...  ...  ...  ...   \nNA21137  3|0  0|0  0|0  0|0  0|0  0|0  0|1  0|0  0|0  0|0  ...  0|0  0|0  0|0   \nNA21141  3|0  0|0  0|0  0|0  0|0  0|0  1|0  0|0  0|0  0|0  ...  0|0  0|0  0|0   \nNA21142  0|0  0|0  0|0  0|0  0|0  0|0  0|1  0|0  0|0  0|0  ...  0|0  0|0  0|0   \nNA21143  0|0  0|0  0|0  0|0  0|0  0|0  1|0  0|0  0|0  0|0  ...  0|0  0|0  0|0   \nNA21144  0|0  0|0  0|0  0|0  0|0  0|0  0|1  0|0  0|0  0|0  ...  0|0  0|0  0|0   \n\n         841  842  843  844  845  846  847  \nHG00096  0|0  0|0  0|0  0|0  0|0  0|0  0|0  \nHG00097  0|0  0|0  0|0  0|0  0|0  0|0  0|0  \nHG00099  0|0  0|0  0|0  0|0  0|0  0|0  0|0  \nHG00100  0|0  0|0  0|0  0|0  0|0  0|0  0|0  \nHG00101  0|0  0|0  0|0  0|0  0|0  0|0  0|0  \n...      ...  ...  ...  ...  ...  ...  ...  \nNA21137  0|0  0|0  0|0  0|0  0|0  0|0  0|0  \nNA21141  0|0  0|0  0|0  0|0  0|0  0|0  0|0  \nNA21142  0|0  0|0  0|0  0|0  0|0  0|0  0|0  \nNA21143  0|0  0|0  0|0  0|0  0|0  0|0  0|0  \nNA21144  0|0  0|0  0|0  0|0  0|0  0|0  0|0  \n\n[2504 rows x 848 columns]",
      "text/html": "<div>\n<style scoped>\n    .dataframe tbody tr th:only-of-type {\n        vertical-align: middle;\n    }\n\n    .dataframe tbody tr th {\n        vertical-align: top;\n    }\n\n    .dataframe thead th {\n        text-align: right;\n    }\n</style>\n<table border=\"1\" class=\"dataframe\">\n  <thead>\n    <tr style=\"text-align: right;\">\n      <th></th>\n      <th>0</th>\n      <th>1</th>\n      <th>2</th>\n      <th>3</th>\n      <th>4</th>\n      <th>5</th>\n      <th>6</th>\n      <th>7</th>\n      <th>8</th>\n      <th>9</th>\n      <th>...</th>\n      <th>838</th>\n      <th>839</th>\n      <th>840</th>\n      <th>841</th>\n      <th>842</th>\n      <th>843</th>\n      <th>844</th>\n      <th>845</th>\n      <th>846</th>\n      <th>847</th>\n    </tr>\n  </thead>\n  <tbody>\n    <tr>\n      <th>HG00096</th>\n      <td>3|0</td>\n      <td>0|0</td>\n      <td>0|0</td>\n      <td>0|0</td>\n      <td>0|0</td>\n      <td>0|0</td>\n      <td>0|0</td>\n      <td>0|0</td>\n      <td>0|0</td>\n      <td>0|0</td>\n      <td>...</td>\n      <td>0|0</td>\n      <td>0|0</td>\n      <td>0|0</td>\n      <td>0|0</td>\n      <td>0|0</td>\n      <td>0|0</td>\n      <td>0|0</td>\n      <td>0|0</td>\n      <td>0|0</td>\n      <td>0|0</td>\n    </tr>\n    <tr>\n      <th>HG00097</th>\n      <td>0|0</td>\n      <td>0|0</td>\n      <td>0|0</td>\n      <td>0|0</td>\n      <td>0|0</td>\n      <td>0|0</td>\n      <td>1|0</td>\n      <td>0|0</td>\n      <td>0|0</td>\n      <td>0|0</td>\n      <td>...</td>\n      <td>0|0</td>\n      <td>0|0</td>\n      <td>0|0</td>\n      <td>0|0</td>\n      <td>0|0</td>\n      <td>0|0</td>\n      <td>0|0</td>\n      <td>0|0</td>\n      <td>0|0</td>\n      <td>0|0</td>\n    </tr>\n    <tr>\n      <th>HG00099</th>\n      <td>0|0</td>\n      <td>0|0</td>\n      <td>0|0</td>\n      <td>0|0</td>\n      <td>0|0</td>\n      <td>0|1</td>\n      <td>0|1</td>\n      <td>0|0</td>\n      <td>0|0</td>\n      <td>0|0</td>\n      <td>...</td>\n      <td>0|0</td>\n      <td>0|0</td>\n      <td>0|0</td>\n      <td>0|0</td>\n      <td>0|0</td>\n      <td>0|0</td>\n      <td>0|0</td>\n      <td>0|0</td>\n      <td>0|0</td>\n      <td>0|0</td>\n    </tr>\n    <tr>\n      <th>HG00100</th>\n      <td>0|0</td>\n      <td>0|0</td>\n      <td>0|0</td>\n      <td>0|0</td>\n      <td>0|0</td>\n      <td>0|0</td>\n      <td>0|1</td>\n      <td>0|0</td>\n      <td>0|0</td>\n      <td>0|0</td>\n      <td>...</td>\n      <td>0|0</td>\n      <td>0|0</td>\n      <td>0|0</td>\n      <td>0|0</td>\n      <td>0|0</td>\n      <td>0|0</td>\n      <td>0|0</td>\n      <td>0|0</td>\n      <td>0|0</td>\n      <td>0|0</td>\n    </tr>\n    <tr>\n      <th>HG00101</th>\n      <td>0|0</td>\n      <td>0|0</td>\n      <td>0|0</td>\n      <td>0|0</td>\n      <td>0|0</td>\n      <td>0|0</td>\n      <td>0|0</td>\n      <td>0|0</td>\n      <td>0|0</td>\n      <td>0|0</td>\n      <td>...</td>\n      <td>0|0</td>\n      <td>0|0</td>\n      <td>0|0</td>\n      <td>0|0</td>\n      <td>0|0</td>\n      <td>0|0</td>\n      <td>0|0</td>\n      <td>0|0</td>\n      <td>0|0</td>\n      <td>0|0</td>\n    </tr>\n    <tr>\n      <th>...</th>\n      <td>...</td>\n      <td>...</td>\n      <td>...</td>\n      <td>...</td>\n      <td>...</td>\n      <td>...</td>\n      <td>...</td>\n      <td>...</td>\n      <td>...</td>\n      <td>...</td>\n      <td>...</td>\n      <td>...</td>\n      <td>...</td>\n      <td>...</td>\n      <td>...</td>\n      <td>...</td>\n      <td>...</td>\n      <td>...</td>\n      <td>...</td>\n      <td>...</td>\n      <td>...</td>\n    </tr>\n    <tr>\n      <th>NA21137</th>\n      <td>3|0</td>\n      <td>0|0</td>\n      <td>0|0</td>\n      <td>0|0</td>\n      <td>0|0</td>\n      <td>0|0</td>\n      <td>0|1</td>\n      <td>0|0</td>\n      <td>0|0</td>\n      <td>0|0</td>\n      <td>...</td>\n      <td>0|0</td>\n      <td>0|0</td>\n      <td>0|0</td>\n      <td>0|0</td>\n      <td>0|0</td>\n      <td>0|0</td>\n      <td>0|0</td>\n      <td>0|0</td>\n      <td>0|0</td>\n      <td>0|0</td>\n    </tr>\n    <tr>\n      <th>NA21141</th>\n      <td>3|0</td>\n      <td>0|0</td>\n      <td>0|0</td>\n      <td>0|0</td>\n      <td>0|0</td>\n      <td>0|0</td>\n      <td>1|0</td>\n      <td>0|0</td>\n      <td>0|0</td>\n      <td>0|0</td>\n      <td>...</td>\n      <td>0|0</td>\n      <td>0|0</td>\n      <td>0|0</td>\n      <td>0|0</td>\n      <td>0|0</td>\n      <td>0|0</td>\n      <td>0|0</td>\n      <td>0|0</td>\n      <td>0|0</td>\n      <td>0|0</td>\n    </tr>\n    <tr>\n      <th>NA21142</th>\n      <td>0|0</td>\n      <td>0|0</td>\n      <td>0|0</td>\n      <td>0|0</td>\n      <td>0|0</td>\n      <td>0|0</td>\n      <td>0|1</td>\n      <td>0|0</td>\n      <td>0|0</td>\n      <td>0|0</td>\n      <td>...</td>\n      <td>0|0</td>\n      <td>0|0</td>\n      <td>0|0</td>\n      <td>0|0</td>\n      <td>0|0</td>\n      <td>0|0</td>\n      <td>0|0</td>\n      <td>0|0</td>\n      <td>0|0</td>\n      <td>0|0</td>\n    </tr>\n    <tr>\n      <th>NA21143</th>\n      <td>0|0</td>\n      <td>0|0</td>\n      <td>0|0</td>\n      <td>0|0</td>\n      <td>0|0</td>\n      <td>0|0</td>\n      <td>1|0</td>\n      <td>0|0</td>\n      <td>0|0</td>\n      <td>0|0</td>\n      <td>...</td>\n      <td>0|0</td>\n      <td>0|0</td>\n      <td>0|0</td>\n      <td>0|0</td>\n      <td>0|0</td>\n      <td>0|0</td>\n      <td>0|0</td>\n      <td>0|0</td>\n      <td>0|0</td>\n      <td>0|0</td>\n    </tr>\n    <tr>\n      <th>NA21144</th>\n      <td>0|0</td>\n      <td>0|0</td>\n      <td>0|0</td>\n      <td>0|0</td>\n      <td>0|0</td>\n      <td>0|0</td>\n      <td>0|1</td>\n      <td>0|0</td>\n      <td>0|0</td>\n      <td>0|0</td>\n      <td>...</td>\n      <td>0|0</td>\n      <td>0|0</td>\n      <td>0|0</td>\n      <td>0|0</td>\n      <td>0|0</td>\n      <td>0|0</td>\n      <td>0|0</td>\n      <td>0|0</td>\n      <td>0|0</td>\n      <td>0|0</td>\n    </tr>\n  </tbody>\n</table>\n<p>2504 rows × 848 columns</p>\n</div>"
     },
     "execution_count": 18,
     "metadata": {},
     "output_type": "execute_result"
    }
   ],
   "source": [
    "genotypes = genotypes.iloc[:, 9:].T\n",
    "headers = genotypes.columns[:]\n",
    "genotypes"
   ],
   "metadata": {
    "collapsed": false,
    "pycharm": {
     "name": "#%%\n"
    }
   }
  },
  {
   "cell_type": "code",
   "execution_count": 19,
   "outputs": [
    {
     "data": {
      "text/plain": "              Family ID Paternal ID Maternal ID  Gender  Phenotype Population  \\\nIndividual ID                                                                   \nHG00096         HG00096           0           0       1          0        GBR   \nHG00097         HG00097           0           0       2          0        GBR   \nHG00098         HG00098           0           0       1          0        GBR   \nHG00099         HG00099           0           0       2          0        GBR   \nHG00100         HG00100           0           0       2          0        GBR   \n\n              Relationship Siblings Second Order Third Order Children  \\\nIndividual ID                                                           \nHG00096              unrel        0            0           0        0   \nHG00097              unrel        0            0           0        0   \nHG00098              unrel        0            0           0        0   \nHG00099              unrel        0            0           0        0   \nHG00100              unrel        0            0           0        0   \n\n              Other Comments  \nIndividual ID                 \nHG00096                    0  \nHG00097                    0  \nHG00098                    0  \nHG00099                    0  \nHG00100                    0  ",
      "text/html": "<div>\n<style scoped>\n    .dataframe tbody tr th:only-of-type {\n        vertical-align: middle;\n    }\n\n    .dataframe tbody tr th {\n        vertical-align: top;\n    }\n\n    .dataframe thead th {\n        text-align: right;\n    }\n</style>\n<table border=\"1\" class=\"dataframe\">\n  <thead>\n    <tr style=\"text-align: right;\">\n      <th></th>\n      <th>Family ID</th>\n      <th>Paternal ID</th>\n      <th>Maternal ID</th>\n      <th>Gender</th>\n      <th>Phenotype</th>\n      <th>Population</th>\n      <th>Relationship</th>\n      <th>Siblings</th>\n      <th>Second Order</th>\n      <th>Third Order</th>\n      <th>Children</th>\n      <th>Other Comments</th>\n    </tr>\n    <tr>\n      <th>Individual ID</th>\n      <th></th>\n      <th></th>\n      <th></th>\n      <th></th>\n      <th></th>\n      <th></th>\n      <th></th>\n      <th></th>\n      <th></th>\n      <th></th>\n      <th></th>\n      <th></th>\n    </tr>\n  </thead>\n  <tbody>\n    <tr>\n      <th>HG00096</th>\n      <td>HG00096</td>\n      <td>0</td>\n      <td>0</td>\n      <td>1</td>\n      <td>0</td>\n      <td>GBR</td>\n      <td>unrel</td>\n      <td>0</td>\n      <td>0</td>\n      <td>0</td>\n      <td>0</td>\n      <td>0</td>\n    </tr>\n    <tr>\n      <th>HG00097</th>\n      <td>HG00097</td>\n      <td>0</td>\n      <td>0</td>\n      <td>2</td>\n      <td>0</td>\n      <td>GBR</td>\n      <td>unrel</td>\n      <td>0</td>\n      <td>0</td>\n      <td>0</td>\n      <td>0</td>\n      <td>0</td>\n    </tr>\n    <tr>\n      <th>HG00098</th>\n      <td>HG00098</td>\n      <td>0</td>\n      <td>0</td>\n      <td>1</td>\n      <td>0</td>\n      <td>GBR</td>\n      <td>unrel</td>\n      <td>0</td>\n      <td>0</td>\n      <td>0</td>\n      <td>0</td>\n      <td>0</td>\n    </tr>\n    <tr>\n      <th>HG00099</th>\n      <td>HG00099</td>\n      <td>0</td>\n      <td>0</td>\n      <td>2</td>\n      <td>0</td>\n      <td>GBR</td>\n      <td>unrel</td>\n      <td>0</td>\n      <td>0</td>\n      <td>0</td>\n      <td>0</td>\n      <td>0</td>\n    </tr>\n    <tr>\n      <th>HG00100</th>\n      <td>HG00100</td>\n      <td>0</td>\n      <td>0</td>\n      <td>2</td>\n      <td>0</td>\n      <td>GBR</td>\n      <td>unrel</td>\n      <td>0</td>\n      <td>0</td>\n      <td>0</td>\n      <td>0</td>\n      <td>0</td>\n    </tr>\n  </tbody>\n</table>\n</div>"
     },
     "execution_count": 19,
     "metadata": {},
     "output_type": "execute_result"
    }
   ],
   "source": [
    "ped_file = 'integrated_call_samples.20130502.ALL.ped'\n",
    "pedigree = pd.read_csv(root_dir+ped_file, sep='\\t', index_col='Individual ID')\n",
    "pedigree.head()"
   ],
   "metadata": {
    "collapsed": false,
    "pycharm": {
     "name": "#%%\n"
    }
   }
  },
  {
   "cell_type": "code",
   "execution_count": 20,
   "outputs": [
    {
     "data": {
      "text/plain": "(6, 37)"
     },
     "execution_count": 20,
     "metadata": {},
     "output_type": "execute_result"
    }
   ],
   "source": [
    "def get_max_genotype(g):\n",
    "  v1, v2 = g.split(\"|\")\n",
    "  return max(int(v1), int(v2)) + 1\n",
    "\n",
    "def key_gen(v1, v2):\n",
    "  return f\"{v1}|{v2}\"\n",
    "\n",
    "genotype_keys = np.unique(genotypes.values)\n",
    "max_gen = max(map(get_max_genotype, genotype_keys))\n",
    "onehot_encoding_depth = max_gen**2 + 1\n",
    "genotype_keys = [key_gen(i,j) for i in range(max_gen) for j in range(max_gen)]\n",
    "replacement_dict = {k:i for i,k in enumerate(genotype_keys)}\n",
    "reverse_replacement_dict = {v:k for k,v in replacement_dict.items()}\n",
    "max_gen, onehot_encoding_depth"
   ],
   "metadata": {
    "collapsed": false,
    "pycharm": {
     "name": "#%%\n"
    }
   }
  },
  {
   "cell_type": "code",
   "execution_count": 21,
   "outputs": [
    {
     "data": {
      "text/plain": "(2504, 848)"
     },
     "execution_count": 21,
     "metadata": {},
     "output_type": "execute_result"
    }
   ],
   "source": [
    "Y_train = pedigree.loc[genotypes.index]['Population']\n",
    "X = genotypes[genotypes.index.isin(Y_train.index)]\n",
    "X = X.replace(replacement_dict)\n",
    "X.shape"
   ],
   "metadata": {
    "collapsed": false,
    "pycharm": {
     "name": "#%%\n"
    }
   }
  },
  {
   "cell_type": "code",
   "execution_count": 22,
   "outputs": [
    {
     "data": {
      "text/plain": "(848, 848)"
     },
     "execution_count": 22,
     "metadata": {},
     "output_type": "execute_result"
    }
   ],
   "source": [
    "callset = allel.read_vcf(root_dir + 'ALL.chr22.mergedSV.v8.20130502.svs.genotypes.vcf')\n",
    "g = allel.GenotypeArray(callset['calldata/GT'][callset['variants/CHROM'] == '22'])\n",
    "gn = g.to_n_alt(fill=-1)\n",
    "r = allel.rogers_huff_r(gn)\n",
    "LD = squareform(r ** 2)\n",
    "LD.shape"
   ],
   "metadata": {
    "collapsed": false,
    "pycharm": {
     "name": "#%%\n"
    }
   }
  },
  {
   "cell_type": "code",
   "execution_count": 23,
   "outputs": [],
   "source": [
    "# plt.figure(figsize=(8,8))\n",
    "# sns.heatmap(LD, cmap=sns.cubehelix_palette(as_cmap=True))\n",
    "#plt.show()\n",
    "#"
   ],
   "metadata": {
    "collapsed": false,
    "pycharm": {
     "name": "#%%\n"
    }
   }
  },
  {
   "cell_type": "code",
   "execution_count": 24,
   "outputs": [
    {
     "data": {
      "text/plain": "(array([553.,  97.,  81.,  19.,  98.]),\n array([0. , 0.2, 0.4, 0.6, 0.8, 1. ]),\n <BarContainer object of 5 artists>)"
     },
     "execution_count": 24,
     "metadata": {},
     "output_type": "execute_result"
    },
    {
     "data": {
      "text/plain": "<Figure size 432x288 with 1 Axes>",
      "image/png": "[encoded data removed]"
     },
     "metadata": {},
     "output_type": "display_data"
    }
   ],
   "source": [
    "bins = [0, 0.2, 0.4, 0.6, 0.8, 1]\n",
    "plt.hist(np.max(LD, axis=1), bins=bins)"
   ],
   "metadata": {
    "collapsed": false,
    "pycharm": {
     "name": "#%%\n"
    }
   }
  },
  {
   "cell_type": "code",
   "execution_count": 25,
   "outputs": [
    {
     "data": {
      "text/plain": "(array([1, 2, 3, 4, 5], dtype=int64),\n array([553,  97,  81,  19,  98], dtype=int64))"
     },
     "execution_count": 25,
     "metadata": {},
     "output_type": "execute_result"
    }
   ],
   "source": [
    "LD_max_freqs = np.amax(LD, axis=1)\n",
    "# mean_LDs = np.mean(LD, axis=1)\n",
    "# max_mean_LD = np.max(mean_LDs)\n",
    "# min_mean_LD = np.min(mean_LDs)\n",
    "# mean_LDs_min_max_scaled = (mean_LDs - min_mean_LD)/(max_mean_LD - min_mean_LD)\n",
    "bin_labels = np.digitize(LD_max_freqs, bins=bins, right=True)\n",
    "# bin_labels = np.digitize(mean_LDs_min_max_scaled, bins=bins[1:], right=True)\n",
    "bin_general_labels, bin_counts = np.unique(bin_labels, return_counts=True)\n",
    "bin_general_labels, bin_counts"
   ],
   "metadata": {
    "collapsed": false,
    "pycharm": {
     "name": "#%%\n"
    }
   }
  },
  {
   "cell_type": "code",
   "execution_count": 27,
   "outputs": [
    {
     "name": "stdout",
     "output_type": "stream",
     "text": [
      "Fold: 1\n",
      "Missing rate: 0.05\n"
     ]
    },
    {
     "name": "stderr",
     "output_type": "stream",
     "text": [
      "100%|██████████| 835/835 [00:03<00:00, 234.68it/s]\n"
     ]
    },
    {
     "name": "stdout",
     "output_type": "stream",
     "text": [
      "Missing rate: 0.1\n"
     ]
    },
    {
     "name": "stderr",
     "output_type": "stream",
     "text": [
      "100%|██████████| 835/835 [00:04<00:00, 181.09it/s]\n"
     ]
    },
    {
     "name": "stdout",
     "output_type": "stream",
     "text": [
      "Missing rate: 0.2\n"
     ]
    },
    {
     "name": "stderr",
     "output_type": "stream",
     "text": [
      "100%|██████████| 835/835 [00:07<00:00, 117.31it/s]\n"
     ]
    },
    {
     "name": "stdout",
     "output_type": "stream",
     "text": [
      "Fold: 2\n",
      "Missing rate: 0.05\n"
     ]
    },
    {
     "name": "stderr",
     "output_type": "stream",
     "text": [
      "100%|██████████| 835/835 [00:02<00:00, 294.53it/s]\n"
     ]
    },
    {
     "name": "stdout",
     "output_type": "stream",
     "text": [
      "Missing rate: 0.1\n"
     ]
    },
    {
     "name": "stderr",
     "output_type": "stream",
     "text": [
      "100%|██████████| 835/835 [00:04<00:00, 190.07it/s]\n"
     ]
    },
    {
     "name": "stdout",
     "output_type": "stream",
     "text": [
      "Missing rate: 0.2\n"
     ]
    },
    {
     "name": "stderr",
     "output_type": "stream",
     "text": [
      "100%|██████████| 835/835 [00:07<00:00, 113.14it/s]\n"
     ]
    },
    {
     "name": "stdout",
     "output_type": "stream",
     "text": [
      "Fold: 3\n",
      "Missing rate: 0.05\n"
     ]
    },
    {
     "name": "stderr",
     "output_type": "stream",
     "text": [
      "100%|██████████| 834/834 [00:02<00:00, 293.45it/s]\n"
     ]
    },
    {
     "name": "stdout",
     "output_type": "stream",
     "text": [
      "Missing rate: 0.1\n"
     ]
    },
    {
     "name": "stderr",
     "output_type": "stream",
     "text": [
      "100%|██████████| 834/834 [00:04<00:00, 195.85it/s]\n"
     ]
    },
    {
     "name": "stdout",
     "output_type": "stream",
     "text": [
      "Missing rate: 0.2\n"
     ]
    },
    {
     "name": "stderr",
     "output_type": "stream",
     "text": [
      "100%|██████████| 834/834 [00:07<00:00, 116.47it/s]\n"
     ]
    },
    {
     "name": "stdout",
     "output_type": "stream",
     "text": [
      "Combining the results...\n"
     ]
    },
    {
     "name": "stderr",
     "output_type": "stream",
     "text": [
      "9it [00:00, 56.60it/s]\n"
     ]
    },
    {
     "data": {
      "text/plain": "       Fold MissingRate               LD Accuracy Sample ID SNV type\n0         1        0.05  0.4 <= LD < 0.6        1   NA21144      DEL\n1         1        0.05  0.2 <= LD < 0.4        1   NA21144      DEL\n2         1        0.05    0 <= LD < 0.2        1   NA21144      DEL\n3         1        0.05    0 <= LD < 0.2        1   NA21144      DEL\n4         1        0.05    0 <= LD < 0.2        1   NA21144      ALU\n...     ...         ...              ...      ...       ...      ...\n738675    3         0.2    0 <= LD < 0.2        1   HG00097      DEL\n738676    3         0.2    0 <= LD < 0.2        0   HG00097      ALU\n738677    3         0.2  0.4 <= LD < 0.6        1   HG00097      DEL\n738678    3         0.2    0 <= LD < 0.2        1   HG00097      DEL\n738679    3         0.2  0.2 <= LD < 0.4        1   HG00097      DEL\n\n[738680 rows x 6 columns]",
      "text/html": "<div>\n<style scoped>\n    .dataframe tbody tr th:only-of-type {\n        vertical-align: middle;\n    }\n\n    .dataframe tbody tr th {\n        vertical-align: top;\n    }\n\n    .dataframe thead th {\n        text-align: right;\n    }\n</style>\n<table border=\"1\" class=\"dataframe\">\n  <thead>\n    <tr style=\"text-align: right;\">\n      <th></th>\n      <th>Fold</th>\n      <th>MissingRate</th>\n      <th>LD</th>\n      <th>Accuracy</th>\n      <th>Sample ID</th>\n      <th>SNV type</th>\n    </tr>\n  </thead>\n  <tbody>\n    <tr>\n      <th>0</th>\n      <td>1</td>\n      <td>0.05</td>\n      <td>0.4 &lt;= LD &lt; 0.6</td>\n      <td>1</td>\n      <td>NA21144</td>\n      <td>DEL</td>\n    </tr>\n    <tr>\n      <th>1</th>\n      <td>1</td>\n      <td>0.05</td>\n      <td>0.2 &lt;= LD &lt; 0.4</td>\n      <td>1</td>\n      <td>NA21144</td>\n      <td>DEL</td>\n    </tr>\n    <tr>\n      <th>2</th>\n      <td>1</td>\n      <td>0.05</td>\n      <td>0 &lt;= LD &lt; 0.2</td>\n      <td>1</td>\n      <td>NA21144</td>\n      <td>DEL</td>\n    </tr>\n    <tr>\n      <th>3</th>\n      <td>1</td>\n      <td>0.05</td>\n      <td>0 &lt;= LD &lt; 0.2</td>\n      <td>1</td>\n      <td>NA21144</td>\n      <td>DEL</td>\n    </tr>\n    <tr>\n      <th>4</th>\n      <td>1</td>\n      <td>0.05</td>\n      <td>0 &lt;= LD &lt; 0.2</td>\n      <td>1</td>\n      <td>NA21144</td>\n      <td>ALU</td>\n    </tr>\n    <tr>\n      <th>...</th>\n      <td>...</td>\n      <td>...</td>\n      <td>...</td>\n      <td>...</td>\n      <td>...</td>\n      <td>...</td>\n    </tr>\n    <tr>\n      <th>738675</th>\n      <td>3</td>\n      <td>0.2</td>\n      <td>0 &lt;= LD &lt; 0.2</td>\n      <td>1</td>\n      <td>HG00097</td>\n      <td>DEL</td>\n    </tr>\n    <tr>\n      <th>738676</th>\n      <td>3</td>\n      <td>0.2</td>\n      <td>0 &lt;= LD &lt; 0.2</td>\n      <td>0</td>\n      <td>HG00097</td>\n      <td>ALU</td>\n    </tr>\n    <tr>\n      <th>738677</th>\n      <td>3</td>\n      <td>0.2</td>\n      <td>0.4 &lt;= LD &lt; 0.6</td>\n      <td>1</td>\n      <td>HG00097</td>\n      <td>DEL</td>\n    </tr>\n    <tr>\n      <th>738678</th>\n      <td>3</td>\n      <td>0.2</td>\n      <td>0 &lt;= LD &lt; 0.2</td>\n      <td>1</td>\n      <td>HG00097</td>\n      <td>DEL</td>\n    </tr>\n    <tr>\n      <th>738679</th>\n      <td>3</td>\n      <td>0.2</td>\n      <td>0.2 &lt;= LD &lt; 0.4</td>\n      <td>1</td>\n      <td>HG00097</td>\n      <td>DEL</td>\n    </tr>\n  </tbody>\n</table>\n<p>738680 rows × 6 columns</p>\n</div>"
     },
     "execution_count": 27,
     "metadata": {},
     "output_type": "execute_result"
    }
   ],
   "source": [
    "columns = [\"Fold\", \"MissingRate\", \"LD\", \"Accuracy\", \"Sample ID\", \"SNV type\"]\n",
    "dfs = []\n",
    "\n",
    "N_SPLITS=3\n",
    "kf = KFold(n_splits=N_SPLITS, shuffle=True, random_state=2022)\n",
    "fold = 0\n",
    "_x = X[X.index.isin(Y_train.index)].to_numpy()\n",
    "for train_index, test_index in kf.split(_x):\n",
    "  fold += 1\n",
    "  print(f\"Fold: {fold}\")\n",
    "  y = _x[test_index]\n",
    "  for missing_perc in [0.05,\n",
    "                       0.1,\n",
    "                       0.2]:\n",
    "    dataframe = pd.DataFrame(columns = columns)\n",
    "    print(f\"Missing rate: {missing_perc}\")\n",
    "    file_name = f\"./experimental_results/Chr22/ALL/SNV/SCDA/preds_mixed_mr_{missing_perc}_rs_{fold}_.csv\"\n",
    "    result_genotypes = pd.read_csv(file_name, index_col=0)\n",
    "    result_genotypes = result_genotypes.replace(replacement_dict)\n",
    "    yhat = result_genotypes.to_numpy()\n",
    "    assert y.shape == yhat.shape\n",
    "    for i in tqdm(list(range(y.shape[0]))):\n",
    "        missing_index, _ = train_test_split(np.arange(y.shape[1]), train_size=missing_perc,\n",
    "                                            random_state=i + fold,\n",
    "                                            shuffle=True,\n",
    "                                            stratify=snv_types\n",
    "                                            )\n",
    "        # for mi in missing_index:\n",
    "        #     maf_bin_label = maf_bin_labels[mi]\n",
    "        #     df.loc[-1] = [fold, missing_perc, maf_bin_label, int(yhat[i, mi]==y[i, mi])]\n",
    "        #     df.index += 1\n",
    "        a = np.reshape(bin_labels[missing_index], (-1, 1))\n",
    "        b = np.array([fold for _ in missing_index]).reshape((-1, 1))\n",
    "        c = np.array([missing_perc for _ in missing_index]).reshape((-1, 1))\n",
    "        d = (yhat[i, missing_index]==y[i, missing_index]).astype(int).reshape((-1, 1))\n",
    "        e = np.array([X.index[test_index][i] for _ in missing_index]).astype(object).reshape((-1, 1))\n",
    "        f = np.array(snv_types[missing_index]).astype(object).reshape((-1, 1))\n",
    "        dataframe = pd.concat([pd.DataFrame(np.concatenate([b,c,a,d,e,f], axis=1), columns=dataframe.columns), dataframe], ignore_index=True)\n",
    "    dfs.append(dataframe)\n",
    "\n",
    "df = pd.DataFrame(columns = columns)\n",
    "print(\"Combining the results...\")\n",
    "for i, dff in tqdm(enumerate(dfs)):\n",
    "    df = pd.concat([df, dff], ignore_index=True)\n",
    "del dfs\n",
    "\n",
    "df[\"LD\"] = df[\"LD\"].replace({\n",
    "    1.0: '0 <= LD < 0.2',\n",
    "    2.0: '0.2 <= LD < 0.4',\n",
    "    3.0: '0.4 <= LD < 0.6',\n",
    "    4.0: '0.6 <= LD < 0.8',\n",
    "    5.0: '0.8 <= LD <= 1',\n",
    "})\n",
    "df"
   ],
   "metadata": {
    "collapsed": false,
    "pycharm": {
     "name": "#%%\n"
    }
   }
  },
  {
   "cell_type": "code",
   "execution_count": 28,
   "outputs": [
    {
     "data": {
      "text/plain": "                      Accuracy          \n                          mean       std\nMissingRate SNV type                    \n0.05        ALU       0.924201  0.264686\n            CNV       0.942226  0.233332\n            DEL       0.961790  0.191705\n            DEL_ALU   0.469649  0.499178\n            DUP       0.996805  0.056436\n            SVA       0.928514  0.257686\n0.10        ALU       0.925040  0.263332\n            CNV       0.943610  0.230682\n            DEL       0.962033  0.191118\n            DEL_ALU   0.484425  0.499857\n            DUP       0.997304  0.051851\n            LINE1     0.927716  0.259010\n            SVA       0.918131  0.274192\n0.20        ALU       0.925761  0.262162\n            CNV       0.945215  0.227564\n            DEL       0.962292  0.190490\n            DEL_ALU   0.484026  0.499795\n            DUP       0.997005  0.054647\n            INS       0.991613  0.091212\n            INV       0.990815  0.095418\n            LINE1     0.928514  0.257686\n            SVA       0.916534  0.276600",
      "text/html": "<div>\n<style scoped>\n    .dataframe tbody tr th:only-of-type {\n        vertical-align: middle;\n    }\n\n    .dataframe tbody tr th {\n        vertical-align: top;\n    }\n\n    .dataframe thead tr th {\n        text-align: left;\n    }\n\n    .dataframe thead tr:last-of-type th {\n        text-align: right;\n    }\n</style>\n<table border=\"1\" class=\"dataframe\">\n  <thead>\n    <tr>\n      <th></th>\n      <th></th>\n      <th colspan=\"2\" halign=\"left\">Accuracy</th>\n    </tr>\n    <tr>\n      <th></th>\n      <th></th>\n      <th>mean</th>\n      <th>std</th>\n    </tr>\n    <tr>\n      <th>MissingRate</th>\n      <th>SNV type</th>\n      <th></th>\n      <th></th>\n    </tr>\n  </thead>\n  <tbody>\n    <tr>\n      <th rowspan=\"6\" valign=\"top\">0.05</th>\n      <th>ALU</th>\n      <td>0.924201</td>\n      <td>0.264686</td>\n    </tr>\n    <tr>\n      <th>CNV</th>\n      <td>0.942226</td>\n      <td>0.233332</td>\n    </tr>\n    <tr>\n      <th>DEL</th>\n      <td>0.961790</td>\n      <td>0.191705</td>\n    </tr>\n    <tr>\n      <th>DEL_ALU</th>\n      <td>0.469649</td>\n      <td>0.499178</td>\n    </tr>\n    <tr>\n      <th>DUP</th>\n      <td>0.996805</td>\n      <td>0.056436</td>\n    </tr>\n    <tr>\n      <th>SVA</th>\n      <td>0.928514</td>\n      <td>0.257686</td>\n    </tr>\n    <tr>\n      <th rowspan=\"7\" valign=\"top\">0.10</th>\n      <th>ALU</th>\n      <td>0.925040</td>\n      <td>0.263332</td>\n    </tr>\n    <tr>\n      <th>CNV</th>\n      <td>0.943610</td>\n      <td>0.230682</td>\n    </tr>\n    <tr>\n      <th>DEL</th>\n      <td>0.962033</td>\n      <td>0.191118</td>\n    </tr>\n    <tr>\n      <th>DEL_ALU</th>\n      <td>0.484425</td>\n      <td>0.499857</td>\n    </tr>\n    <tr>\n      <th>DUP</th>\n      <td>0.997304</td>\n      <td>0.051851</td>\n    </tr>\n    <tr>\n      <th>LINE1</th>\n      <td>0.927716</td>\n      <td>0.259010</td>\n    </tr>\n    <tr>\n      <th>SVA</th>\n      <td>0.918131</td>\n      <td>0.274192</td>\n    </tr>\n    <tr>\n      <th rowspan=\"9\" valign=\"top\">0.20</th>\n      <th>ALU</th>\n      <td>0.925761</td>\n      <td>0.262162</td>\n    </tr>\n    <tr>\n      <th>CNV</th>\n      <td>0.945215</td>\n      <td>0.227564</td>\n    </tr>\n    <tr>\n      <th>DEL</th>\n      <td>0.962292</td>\n      <td>0.190490</td>\n    </tr>\n    <tr>\n      <th>DEL_ALU</th>\n      <td>0.484026</td>\n      <td>0.499795</td>\n    </tr>\n    <tr>\n      <th>DUP</th>\n      <td>0.997005</td>\n      <td>0.054647</td>\n    </tr>\n    <tr>\n      <th>INS</th>\n      <td>0.991613</td>\n      <td>0.091212</td>\n    </tr>\n    <tr>\n      <th>INV</th>\n      <td>0.990815</td>\n      <td>0.095418</td>\n    </tr>\n    <tr>\n      <th>LINE1</th>\n      <td>0.928514</td>\n      <td>0.257686</td>\n    </tr>\n    <tr>\n      <th>SVA</th>\n      <td>0.916534</td>\n      <td>0.276600</td>\n    </tr>\n  </tbody>\n</table>\n</div>"
     },
     "execution_count": 28,
     "metadata": {},
     "output_type": "execute_result"
    }
   ],
   "source": [
    "df.groupby([\"MissingRate\", \"SNV type\"]).agg( {\"Accuracy\":[\"mean\", \"std\"]})"
   ],
   "metadata": {
    "collapsed": false,
    "pycharm": {
     "name": "#%%\n"
    }
   }
  },
  {
   "cell_type": "code",
   "execution_count": 22,
   "outputs": [
    {
     "data": {
      "text/plain": "                  Accuracy\nFold MissingRate          \n1    0.05         0.952837\n     0.10         0.953650\n     0.20         0.953818\n2    0.05         0.954919\n     0.10         0.954691\n     0.20         0.954569\n3    0.05         0.952895\n     0.10         0.953423\n     0.20         0.954366",
      "text/html": "<div>\n<style scoped>\n    .dataframe tbody tr th:only-of-type {\n        vertical-align: middle;\n    }\n\n    .dataframe tbody tr th {\n        vertical-align: top;\n    }\n\n    .dataframe thead th {\n        text-align: right;\n    }\n</style>\n<table border=\"1\" class=\"dataframe\">\n  <thead>\n    <tr style=\"text-align: right;\">\n      <th></th>\n      <th></th>\n      <th>Accuracy</th>\n    </tr>\n    <tr>\n      <th>Fold</th>\n      <th>MissingRate</th>\n      <th></th>\n    </tr>\n  </thead>\n  <tbody>\n    <tr>\n      <th rowspan=\"3\" valign=\"top\">1</th>\n      <th>0.05</th>\n      <td>0.952837</td>\n    </tr>\n    <tr>\n      <th>0.10</th>\n      <td>0.953650</td>\n    </tr>\n    <tr>\n      <th>0.20</th>\n      <td>0.953818</td>\n    </tr>\n    <tr>\n      <th rowspan=\"3\" valign=\"top\">2</th>\n      <th>0.05</th>\n      <td>0.954919</td>\n    </tr>\n    <tr>\n      <th>0.10</th>\n      <td>0.954691</td>\n    </tr>\n    <tr>\n      <th>0.20</th>\n      <td>0.954569</td>\n    </tr>\n    <tr>\n      <th rowspan=\"3\" valign=\"top\">3</th>\n      <th>0.05</th>\n      <td>0.952895</td>\n    </tr>\n    <tr>\n      <th>0.10</th>\n      <td>0.953423</td>\n    </tr>\n    <tr>\n      <th>0.20</th>\n      <td>0.954366</td>\n    </tr>\n  </tbody>\n</table>\n</div>"
     },
     "execution_count": 22,
     "metadata": {},
     "output_type": "execute_result"
    }
   ],
   "source": [
    "df1 = df.groupby([\"Fold\", \"MissingRate\", \"Sample ID\"]).agg( {\"Accuracy\":\"mean\"}).reset_index()\n",
    "df1 = df1.groupby([\"Fold\", \"MissingRate\"]).agg( {\"Accuracy\":\"mean\"})\n",
    "df1"
   ],
   "metadata": {
    "collapsed": false,
    "pycharm": {
     "name": "#%%\n"
    }
   }
  },
  {
   "cell_type": "code",
   "execution_count": 23,
   "outputs": [
    {
     "data": {
      "text/plain": "             Accuracy          \n                 mean       std\nMissingRate                    \n0.05         0.953550  0.001185\n0.10         0.953921  0.000676\n0.20         0.954251  0.000389",
      "text/html": "<div>\n<style scoped>\n    .dataframe tbody tr th:only-of-type {\n        vertical-align: middle;\n    }\n\n    .dataframe tbody tr th {\n        vertical-align: top;\n    }\n\n    .dataframe thead tr th {\n        text-align: left;\n    }\n\n    .dataframe thead tr:last-of-type th {\n        text-align: right;\n    }\n</style>\n<table border=\"1\" class=\"dataframe\">\n  <thead>\n    <tr>\n      <th></th>\n      <th colspan=\"2\" halign=\"left\">Accuracy</th>\n    </tr>\n    <tr>\n      <th></th>\n      <th>mean</th>\n      <th>std</th>\n    </tr>\n    <tr>\n      <th>MissingRate</th>\n      <th></th>\n      <th></th>\n    </tr>\n  </thead>\n  <tbody>\n    <tr>\n      <th>0.05</th>\n      <td>0.953550</td>\n      <td>0.001185</td>\n    </tr>\n    <tr>\n      <th>0.10</th>\n      <td>0.953921</td>\n      <td>0.000676</td>\n    </tr>\n    <tr>\n      <th>0.20</th>\n      <td>0.954251</td>\n      <td>0.000389</td>\n    </tr>\n  </tbody>\n</table>\n</div>"
     },
     "execution_count": 23,
     "metadata": {},
     "output_type": "execute_result"
    }
   ],
   "source": [
    "df1 = df.groupby([\"Fold\", \"MissingRate\", \"Sample ID\"]).agg( {\"Accuracy\":\"mean\"}).reset_index()\n",
    "df1 = df1.groupby([\"Fold\", \"MissingRate\"]).agg( {\"Accuracy\":\"mean\"}).reset_index()# df1.columns = df1.columns.droplevel(0)\n",
    "df1 = df1.groupby([\"MissingRate\"]).agg( {\"Accuracy\":[\"mean\", \"std\"]})#.reset_index()\n",
    "df1"
   ],
   "metadata": {
    "collapsed": false,
    "pycharm": {
     "name": "#%%\n"
    }
   }
  },
  {
   "cell_type": "code",
   "execution_count": 27,
   "outputs": [],
   "source": [
    "# print(df.groupby([\"MissingRate\", \"LD\"]).agg( {\"Accuracy\":[\"mean\", \"std\"]}).round({'mean': 4})#.rename(columns={\"Accuracy\": \"Max Accuracy\"})\n",
    "#             .to_latex(multirow=True))"
   ],
   "metadata": {
    "collapsed": false,
    "pycharm": {
     "name": "#%%\n"
    }
   }
  },
  {
   "cell_type": "code",
   "execution_count": 24,
   "outputs": [
    {
     "name": "stdout",
     "output_type": "stream",
     "text": [
      "Fold: 1\n",
      "Missing rate: 0.05\n"
     ]
    },
    {
     "name": "stderr",
     "output_type": "stream",
     "text": [
      "100%|██████████| 835/835 [00:01<00:00, 605.69it/s]\n"
     ]
    },
    {
     "name": "stdout",
     "output_type": "stream",
     "text": [
      "Missing rate: 0.1\n"
     ]
    },
    {
     "name": "stderr",
     "output_type": "stream",
     "text": [
      "100%|██████████| 835/835 [00:02<00:00, 345.85it/s]\n"
     ]
    },
    {
     "name": "stdout",
     "output_type": "stream",
     "text": [
      "Missing rate: 0.2\n"
     ]
    },
    {
     "name": "stderr",
     "output_type": "stream",
     "text": [
      "100%|██████████| 835/835 [00:03<00:00, 230.03it/s]\n"
     ]
    },
    {
     "name": "stdout",
     "output_type": "stream",
     "text": [
      "Fold: 2\n",
      "Missing rate: 0.05\n"
     ]
    },
    {
     "name": "stderr",
     "output_type": "stream",
     "text": [
      "100%|██████████| 835/835 [00:01<00:00, 525.14it/s]\n"
     ]
    },
    {
     "name": "stdout",
     "output_type": "stream",
     "text": [
      "Missing rate: 0.1\n"
     ]
    },
    {
     "name": "stderr",
     "output_type": "stream",
     "text": [
      "100%|██████████| 835/835 [00:02<00:00, 388.78it/s]\n"
     ]
    },
    {
     "name": "stdout",
     "output_type": "stream",
     "text": [
      "Missing rate: 0.2\n"
     ]
    },
    {
     "name": "stderr",
     "output_type": "stream",
     "text": [
      "100%|██████████| 835/835 [00:03<00:00, 229.07it/s]\n"
     ]
    },
    {
     "name": "stdout",
     "output_type": "stream",
     "text": [
      "Fold: 3\n",
      "Missing rate: 0.05\n"
     ]
    },
    {
     "name": "stderr",
     "output_type": "stream",
     "text": [
      "100%|██████████| 834/834 [00:01<00:00, 543.28it/s]\n"
     ]
    },
    {
     "name": "stdout",
     "output_type": "stream",
     "text": [
      "Missing rate: 0.1\n"
     ]
    },
    {
     "name": "stderr",
     "output_type": "stream",
     "text": [
      "100%|██████████| 834/834 [00:02<00:00, 393.91it/s]\n"
     ]
    },
    {
     "name": "stdout",
     "output_type": "stream",
     "text": [
      "Missing rate: 0.2\n"
     ]
    },
    {
     "name": "stderr",
     "output_type": "stream",
     "text": [
      "100%|██████████| 834/834 [00:04<00:00, 204.46it/s]\n"
     ]
    },
    {
     "name": "stdout",
     "output_type": "stream",
     "text": [
      "Combining the results...\n"
     ]
    },
    {
     "name": "stderr",
     "output_type": "stream",
     "text": [
      "9it [00:00, 81.35it/s]\n"
     ]
    },
    {
     "data": {
      "text/plain": "       Fold MissingRate               LD Accuracy Sample ID\n0         1        0.05    0 <= LD < 0.2        1   NA21144\n1         1        0.05  0.2 <= LD < 0.4        1   NA21144\n2         1        0.05    0 <= LD < 0.2        1   NA21144\n3         1        0.05    0 <= LD < 0.2        1   NA21144\n4         1        0.05    0 <= LD < 0.2        1   NA21144\n...     ...         ...              ...      ...       ...\n738675    3         0.2  0.2 <= LD < 0.4        1   HG00097\n738676    3         0.2    0 <= LD < 0.2        1   HG00097\n738677    3         0.2    0 <= LD < 0.2        1   HG00097\n738678    3         0.2  0.4 <= LD < 0.6        1   HG00097\n738679    3         0.2    0 <= LD < 0.2        1   HG00097\n\n[738680 rows x 5 columns]",
      "text/html": "<div>\n<style scoped>\n    .dataframe tbody tr th:only-of-type {\n        vertical-align: middle;\n    }\n\n    .dataframe tbody tr th {\n        vertical-align: top;\n    }\n\n    .dataframe thead th {\n        text-align: right;\n    }\n</style>\n<table border=\"1\" class=\"dataframe\">\n  <thead>\n    <tr style=\"text-align: right;\">\n      <th></th>\n      <th>Fold</th>\n      <th>MissingRate</th>\n      <th>LD</th>\n      <th>Accuracy</th>\n      <th>Sample ID</th>\n    </tr>\n  </thead>\n  <tbody>\n    <tr>\n      <th>0</th>\n      <td>1</td>\n      <td>0.05</td>\n      <td>0 &lt;= LD &lt; 0.2</td>\n      <td>1</td>\n      <td>NA21144</td>\n    </tr>\n    <tr>\n      <th>1</th>\n      <td>1</td>\n      <td>0.05</td>\n      <td>0.2 &lt;= LD &lt; 0.4</td>\n      <td>1</td>\n      <td>NA21144</td>\n    </tr>\n    <tr>\n      <th>2</th>\n      <td>1</td>\n      <td>0.05</td>\n      <td>0 &lt;= LD &lt; 0.2</td>\n      <td>1</td>\n      <td>NA21144</td>\n    </tr>\n    <tr>\n      <th>3</th>\n      <td>1</td>\n      <td>0.05</td>\n      <td>0 &lt;= LD &lt; 0.2</td>\n      <td>1</td>\n      <td>NA21144</td>\n    </tr>\n    <tr>\n      <th>4</th>\n      <td>1</td>\n      <td>0.05</td>\n      <td>0 &lt;= LD &lt; 0.2</td>\n      <td>1</td>\n      <td>NA21144</td>\n    </tr>\n    <tr>\n      <th>...</th>\n      <td>...</td>\n      <td>...</td>\n      <td>...</td>\n      <td>...</td>\n      <td>...</td>\n    </tr>\n    <tr>\n      <th>738675</th>\n      <td>3</td>\n      <td>0.2</td>\n      <td>0.2 &lt;= LD &lt; 0.4</td>\n      <td>1</td>\n      <td>HG00097</td>\n    </tr>\n    <tr>\n      <th>738676</th>\n      <td>3</td>\n      <td>0.2</td>\n      <td>0 &lt;= LD &lt; 0.2</td>\n      <td>1</td>\n      <td>HG00097</td>\n    </tr>\n    <tr>\n      <th>738677</th>\n      <td>3</td>\n      <td>0.2</td>\n      <td>0 &lt;= LD &lt; 0.2</td>\n      <td>1</td>\n      <td>HG00097</td>\n    </tr>\n    <tr>\n      <th>738678</th>\n      <td>3</td>\n      <td>0.2</td>\n      <td>0.4 &lt;= LD &lt; 0.6</td>\n      <td>1</td>\n      <td>HG00097</td>\n    </tr>\n    <tr>\n      <th>738679</th>\n      <td>3</td>\n      <td>0.2</td>\n      <td>0 &lt;= LD &lt; 0.2</td>\n      <td>1</td>\n      <td>HG00097</td>\n    </tr>\n  </tbody>\n</table>\n<p>738680 rows × 5 columns</p>\n</div>"
     },
     "execution_count": 24,
     "metadata": {},
     "output_type": "execute_result"
    }
   ],
   "source": [
    "columns = [\"Fold\", \"MissingRate\", \"LD\", \"Accuracy\", \"Sample ID\"]\n",
    "dfs = []\n",
    "\n",
    "N_SPLITS=3\n",
    "kf = KFold(n_splits=N_SPLITS, shuffle=True, random_state=2022)\n",
    "fold = 0\n",
    "_x = X[X.index.isin(Y_train.index)].to_numpy()\n",
    "for train_index, test_index in kf.split(_x):\n",
    "  fold += 1\n",
    "  print(f\"Fold: {fold}\")\n",
    "  y = _x[test_index]\n",
    "  for missing_perc in [0.05,\n",
    "                       0.1,\n",
    "                       0.2]:\n",
    "    dataframe = pd.DataFrame(columns = columns)\n",
    "    print(f\"Missing rate: {missing_perc}\")\n",
    "    file_name = f\"./experimental_results/Chr22/ALL/AE/preds_mixed_mr_{missing_perc}_fold_{fold}_.csv\"\n",
    "    result_genotypes = pd.read_csv(file_name, index_col=0)\n",
    "    # result_genotypes = result_genotypes.replace(replacement_dict)\n",
    "    yhat = result_genotypes.to_numpy()\n",
    "    assert y.shape == yhat.shape\n",
    "    for i in tqdm(list(range(y.shape[0]))):\n",
    "        missing_index, _ = train_test_split(np.arange(y.shape[1]), train_size=missing_perc,\n",
    "                                            random_state=i + fold,\n",
    "                                            shuffle=True,\n",
    "                                            stratify=bin_labels\n",
    "                                            )\n",
    "        # for mi in missing_index:\n",
    "        #     maf_bin_label = maf_bin_labels[mi]\n",
    "        #     df.loc[-1] = [fold, missing_perc, maf_bin_label, int(yhat[i, mi]==y[i, mi])]\n",
    "        #     df.index += 1\n",
    "        a = np.reshape(bin_labels[missing_index], (-1, 1))\n",
    "        b = np.array([fold for _ in missing_index]).reshape((-1, 1))\n",
    "        c = np.array([missing_perc for _ in missing_index]).reshape((-1, 1))\n",
    "        d = (yhat[i, missing_index]==y[i, missing_index]).astype(int).reshape((-1, 1))\n",
    "        e = np.array([X.index[test_index][i] for _ in missing_index]).astype(object).reshape((-1, 1))\n",
    "        dataframe = pd.concat([pd.DataFrame(np.concatenate([b,c,a,d,e], axis=1), columns=dataframe.columns), dataframe], ignore_index=True)\n",
    "    dfs.append(dataframe)\n",
    "\n",
    "df = pd.DataFrame(columns = columns)\n",
    "print(\"Combining the results...\")\n",
    "for i, dff in tqdm(enumerate(dfs)):\n",
    "    df = pd.concat([df, dff], ignore_index=True)\n",
    "del dfs\n",
    "\n",
    "df[\"LD\"] = df[\"LD\"].replace({\n",
    "    1.0: '0 <= LD < 0.2',\n",
    "    2.0: '0.2 <= LD < 0.4',\n",
    "    3.0: '0.4 <= LD < 0.6',\n",
    "    4.0: '0.6 <= LD < 0.8',\n",
    "    5.0: '0.8 <= LD <= 1',\n",
    "})\n",
    "df"
   ],
   "metadata": {
    "collapsed": false,
    "pycharm": {
     "name": "#%%\n"
    }
   }
  },
  {
   "cell_type": "code",
   "execution_count": 25,
   "outputs": [],
   "source": [
    "df.to_csv(\"results_in_table/Chr22/ALL/LD_AE.csv\")"
   ],
   "metadata": {
    "collapsed": false,
    "pycharm": {
     "name": "#%%\n"
    }
   }
  },
  {
   "cell_type": "code",
   "execution_count": 26,
   "outputs": [
    {
     "data": {
      "text/plain": "                             Accuracy          \n                                 mean       std\nMissingRate LD                                 \n0.05        0 <= LD < 0.2    0.933795  0.248642\n            0.2 <= LD < 0.4  0.965655  0.182121\n            0.4 <= LD < 0.6  0.996905  0.055550\n            0.6 <= LD < 0.8  0.994409  0.074579\n            0.8 <= LD <= 1   0.987859  0.109518\n0.10        0 <= LD < 0.2    0.935870  0.244985\n            0.2 <= LD < 0.4  0.963037  0.188675\n            0.4 <= LD < 0.6  0.997304  0.051851\n            0.6 <= LD < 0.8  0.993411  0.080916\n            0.8 <= LD <= 1   0.980112  0.139619\n0.20        0 <= LD < 0.2    0.937006  0.242952\n            0.2 <= LD < 0.4  0.964940  0.183933\n            0.4 <= LD < 0.6  0.996905  0.055548\n            0.6 <= LD < 0.8  0.992612  0.085641\n            0.8 <= LD <= 1   0.986482  0.115481",
      "text/html": "<div>\n<style scoped>\n    .dataframe tbody tr th:only-of-type {\n        vertical-align: middle;\n    }\n\n    .dataframe tbody tr th {\n        vertical-align: top;\n    }\n\n    .dataframe thead tr th {\n        text-align: left;\n    }\n\n    .dataframe thead tr:last-of-type th {\n        text-align: right;\n    }\n</style>\n<table border=\"1\" class=\"dataframe\">\n  <thead>\n    <tr>\n      <th></th>\n      <th></th>\n      <th colspan=\"2\" halign=\"left\">Accuracy</th>\n    </tr>\n    <tr>\n      <th></th>\n      <th></th>\n      <th>mean</th>\n      <th>std</th>\n    </tr>\n    <tr>\n      <th>MissingRate</th>\n      <th>LD</th>\n      <th></th>\n      <th></th>\n    </tr>\n  </thead>\n  <tbody>\n    <tr>\n      <th rowspan=\"5\" valign=\"top\">0.05</th>\n      <th>0 &lt;= LD &lt; 0.2</th>\n      <td>0.933795</td>\n      <td>0.248642</td>\n    </tr>\n    <tr>\n      <th>0.2 &lt;= LD &lt; 0.4</th>\n      <td>0.965655</td>\n      <td>0.182121</td>\n    </tr>\n    <tr>\n      <th>0.4 &lt;= LD &lt; 0.6</th>\n      <td>0.996905</td>\n      <td>0.055550</td>\n    </tr>\n    <tr>\n      <th>0.6 &lt;= LD &lt; 0.8</th>\n      <td>0.994409</td>\n      <td>0.074579</td>\n    </tr>\n    <tr>\n      <th>0.8 &lt;= LD &lt;= 1</th>\n      <td>0.987859</td>\n      <td>0.109518</td>\n    </tr>\n    <tr>\n      <th rowspan=\"5\" valign=\"top\">0.10</th>\n      <th>0 &lt;= LD &lt; 0.2</th>\n      <td>0.935870</td>\n      <td>0.244985</td>\n    </tr>\n    <tr>\n      <th>0.2 &lt;= LD &lt; 0.4</th>\n      <td>0.963037</td>\n      <td>0.188675</td>\n    </tr>\n    <tr>\n      <th>0.4 &lt;= LD &lt; 0.6</th>\n      <td>0.997304</td>\n      <td>0.051851</td>\n    </tr>\n    <tr>\n      <th>0.6 &lt;= LD &lt; 0.8</th>\n      <td>0.993411</td>\n      <td>0.080916</td>\n    </tr>\n    <tr>\n      <th>0.8 &lt;= LD &lt;= 1</th>\n      <td>0.980112</td>\n      <td>0.139619</td>\n    </tr>\n    <tr>\n      <th rowspan=\"5\" valign=\"top\">0.20</th>\n      <th>0 &lt;= LD &lt; 0.2</th>\n      <td>0.937006</td>\n      <td>0.242952</td>\n    </tr>\n    <tr>\n      <th>0.2 &lt;= LD &lt; 0.4</th>\n      <td>0.964940</td>\n      <td>0.183933</td>\n    </tr>\n    <tr>\n      <th>0.4 &lt;= LD &lt; 0.6</th>\n      <td>0.996905</td>\n      <td>0.055548</td>\n    </tr>\n    <tr>\n      <th>0.6 &lt;= LD &lt; 0.8</th>\n      <td>0.992612</td>\n      <td>0.085641</td>\n    </tr>\n    <tr>\n      <th>0.8 &lt;= LD &lt;= 1</th>\n      <td>0.986482</td>\n      <td>0.115481</td>\n    </tr>\n  </tbody>\n</table>\n</div>"
     },
     "execution_count": 26,
     "metadata": {},
     "output_type": "execute_result"
    }
   ],
   "source": [
    "df.groupby([\"MissingRate\", \"LD\"]).agg( {\"Accuracy\":[\"mean\", \"std\"]})"
   ],
   "metadata": {
    "collapsed": false,
    "pycharm": {
     "name": "#%%\n"
    }
   }
  },
  {
   "cell_type": "code",
   "execution_count": 27,
   "outputs": [
    {
     "data": {
      "text/plain": "                  Accuracy\nFold MissingRate          \n1    0.05         0.950271\n     0.10         0.950941\n     0.20         0.953180\n2    0.05         0.953065\n     0.10         0.950299\n     0.20         0.953109\n3    0.05         0.951096\n     0.10         0.952567\n     0.20         0.952677",
      "text/html": "<div>\n<style scoped>\n    .dataframe tbody tr th:only-of-type {\n        vertical-align: middle;\n    }\n\n    .dataframe tbody tr th {\n        vertical-align: top;\n    }\n\n    .dataframe thead th {\n        text-align: right;\n    }\n</style>\n<table border=\"1\" class=\"dataframe\">\n  <thead>\n    <tr style=\"text-align: right;\">\n      <th></th>\n      <th></th>\n      <th>Accuracy</th>\n    </tr>\n    <tr>\n      <th>Fold</th>\n      <th>MissingRate</th>\n      <th></th>\n    </tr>\n  </thead>\n  <tbody>\n    <tr>\n      <th rowspan=\"3\" valign=\"top\">1</th>\n      <th>0.05</th>\n      <td>0.950271</td>\n    </tr>\n    <tr>\n      <th>0.10</th>\n      <td>0.950941</td>\n    </tr>\n    <tr>\n      <th>0.20</th>\n      <td>0.953180</td>\n    </tr>\n    <tr>\n      <th rowspan=\"3\" valign=\"top\">2</th>\n      <th>0.05</th>\n      <td>0.953065</td>\n    </tr>\n    <tr>\n      <th>0.10</th>\n      <td>0.950299</td>\n    </tr>\n    <tr>\n      <th>0.20</th>\n      <td>0.953109</td>\n    </tr>\n    <tr>\n      <th rowspan=\"3\" valign=\"top\">3</th>\n      <th>0.05</th>\n      <td>0.951096</td>\n    </tr>\n    <tr>\n      <th>0.10</th>\n      <td>0.952567</td>\n    </tr>\n    <tr>\n      <th>0.20</th>\n      <td>0.952677</td>\n    </tr>\n  </tbody>\n</table>\n</div>"
     },
     "execution_count": 27,
     "metadata": {},
     "output_type": "execute_result"
    }
   ],
   "source": [
    "df1 = df.groupby([\"Fold\", \"MissingRate\", \"Sample ID\"]).agg( {\"Accuracy\":\"mean\"}).reset_index()\n",
    "df1 = df1.groupby([\"Fold\", \"MissingRate\"]).agg( {\"Accuracy\":\"mean\"})\n",
    "df1"
   ],
   "metadata": {
    "collapsed": false,
    "pycharm": {
     "name": "#%%\n"
    }
   }
  },
  {
   "cell_type": "code",
   "execution_count": 28,
   "outputs": [
    {
     "data": {
      "text/plain": "             Accuracy          \n                 mean       std\nMissingRate                    \n0.05         0.951477  0.001436\n0.10         0.951269  0.001169\n0.20         0.952989  0.000272",
      "text/html": "<div>\n<style scoped>\n    .dataframe tbody tr th:only-of-type {\n        vertical-align: middle;\n    }\n\n    .dataframe tbody tr th {\n        vertical-align: top;\n    }\n\n    .dataframe thead tr th {\n        text-align: left;\n    }\n\n    .dataframe thead tr:last-of-type th {\n        text-align: right;\n    }\n</style>\n<table border=\"1\" class=\"dataframe\">\n  <thead>\n    <tr>\n      <th></th>\n      <th colspan=\"2\" halign=\"left\">Accuracy</th>\n    </tr>\n    <tr>\n      <th></th>\n      <th>mean</th>\n      <th>std</th>\n    </tr>\n    <tr>\n      <th>MissingRate</th>\n      <th></th>\n      <th></th>\n    </tr>\n  </thead>\n  <tbody>\n    <tr>\n      <th>0.05</th>\n      <td>0.951477</td>\n      <td>0.001436</td>\n    </tr>\n    <tr>\n      <th>0.10</th>\n      <td>0.951269</td>\n      <td>0.001169</td>\n    </tr>\n    <tr>\n      <th>0.20</th>\n      <td>0.952989</td>\n      <td>0.000272</td>\n    </tr>\n  </tbody>\n</table>\n</div>"
     },
     "execution_count": 28,
     "metadata": {},
     "output_type": "execute_result"
    }
   ],
   "source": [
    "df1 = df.groupby([\"Fold\", \"MissingRate\", \"Sample ID\"]).agg( {\"Accuracy\":\"mean\"}).reset_index()\n",
    "df1 = df1.groupby([\"Fold\", \"MissingRate\"]).agg( {\"Accuracy\":\"mean\"}).reset_index()# df1.columns = df1.columns.droplevel(0)\n",
    "df1 = df1.groupby([\"MissingRate\"]).agg( {\"Accuracy\":[\"mean\", \"std\"]})#.reset_index()\n",
    "df1"
   ],
   "metadata": {
    "collapsed": false,
    "pycharm": {
     "name": "#%%\n"
    }
   }
  },
  {
   "cell_type": "code",
   "execution_count": 29,
   "outputs": [],
   "source": [
    "# print(df.groupby([\"MissingRate\", \"LD\"]).agg( {\"Accuracy\":[\"mean\", \"std\"]}).round({'mean': 4})#.rename(columns={\"Accuracy\": \"Max Accuracy\"})\n",
    "#             .to_latex(multirow=True))"
   ],
   "metadata": {
    "collapsed": false,
    "pycharm": {
     "name": "#%%\n"
    }
   }
  },
  {
   "cell_type": "code",
   "execution_count": 49,
   "outputs": [
    {
     "name": "stdout",
     "output_type": "stream",
     "text": [
      "Fold: 1\n",
      "Missing rate: 0.05\n"
     ]
    },
    {
     "name": "stderr",
     "output_type": "stream",
     "text": [
      "100%|██████████| 835/835 [00:01<00:00, 614.22it/s]\n"
     ]
    },
    {
     "name": "stdout",
     "output_type": "stream",
     "text": [
      "Missing rate: 0.1\n"
     ]
    },
    {
     "name": "stderr",
     "output_type": "stream",
     "text": [
      "100%|██████████| 835/835 [00:02<00:00, 414.70it/s]\n"
     ]
    },
    {
     "name": "stdout",
     "output_type": "stream",
     "text": [
      "Missing rate: 0.2\n"
     ]
    },
    {
     "name": "stderr",
     "output_type": "stream",
     "text": [
      "100%|██████████| 835/835 [00:03<00:00, 235.77it/s]\n"
     ]
    },
    {
     "name": "stdout",
     "output_type": "stream",
     "text": [
      "Fold: 2\n",
      "Missing rate: 0.05\n"
     ]
    },
    {
     "name": "stderr",
     "output_type": "stream",
     "text": [
      "100%|██████████| 835/835 [00:01<00:00, 583.82it/s]\n"
     ]
    },
    {
     "name": "stdout",
     "output_type": "stream",
     "text": [
      "Missing rate: 0.1\n"
     ]
    },
    {
     "name": "stderr",
     "output_type": "stream",
     "text": [
      "100%|██████████| 835/835 [00:02<00:00, 394.81it/s]\n"
     ]
    },
    {
     "name": "stdout",
     "output_type": "stream",
     "text": [
      "Missing rate: 0.2\n"
     ]
    },
    {
     "name": "stderr",
     "output_type": "stream",
     "text": [
      "100%|██████████| 835/835 [00:03<00:00, 231.19it/s]\n"
     ]
    },
    {
     "name": "stdout",
     "output_type": "stream",
     "text": [
      "Fold: 3\n",
      "Missing rate: 0.05\n"
     ]
    },
    {
     "name": "stderr",
     "output_type": "stream",
     "text": [
      "100%|██████████| 834/834 [00:01<00:00, 618.46it/s]\n"
     ]
    },
    {
     "name": "stdout",
     "output_type": "stream",
     "text": [
      "Missing rate: 0.1\n"
     ]
    },
    {
     "name": "stderr",
     "output_type": "stream",
     "text": [
      "100%|██████████| 834/834 [00:01<00:00, 422.89it/s]\n"
     ]
    },
    {
     "name": "stdout",
     "output_type": "stream",
     "text": [
      "Missing rate: 0.2\n"
     ]
    },
    {
     "name": "stderr",
     "output_type": "stream",
     "text": [
      "100%|██████████| 834/834 [00:03<00:00, 225.77it/s]\n"
     ]
    },
    {
     "name": "stdout",
     "output_type": "stream",
     "text": [
      "Combining the results...\n"
     ]
    },
    {
     "name": "stderr",
     "output_type": "stream",
     "text": [
      "9it [00:00, 81.63it/s]\n"
     ]
    },
    {
     "data": {
      "text/plain": "       Fold MissingRate               LD Accuracy Sample ID\n0         1        0.05    0 <= LD < 0.2        1   NA21144\n1         1        0.05  0.2 <= LD < 0.4        1   NA21144\n2         1        0.05    0 <= LD < 0.2        1   NA21144\n3         1        0.05    0 <= LD < 0.2        1   NA21144\n4         1        0.05    0 <= LD < 0.2        1   NA21144\n...     ...         ...              ...      ...       ...\n738675    3         0.2  0.2 <= LD < 0.4        1   HG00097\n738676    3         0.2    0 <= LD < 0.2        1   HG00097\n738677    3         0.2    0 <= LD < 0.2        1   HG00097\n738678    3         0.2  0.4 <= LD < 0.6        1   HG00097\n738679    3         0.2    0 <= LD < 0.2        1   HG00097\n\n[738680 rows x 5 columns]",
      "text/html": "<div>\n<style scoped>\n    .dataframe tbody tr th:only-of-type {\n        vertical-align: middle;\n    }\n\n    .dataframe tbody tr th {\n        vertical-align: top;\n    }\n\n    .dataframe thead th {\n        text-align: right;\n    }\n</style>\n<table border=\"1\" class=\"dataframe\">\n  <thead>\n    <tr style=\"text-align: right;\">\n      <th></th>\n      <th>Fold</th>\n      <th>MissingRate</th>\n      <th>LD</th>\n      <th>Accuracy</th>\n      <th>Sample ID</th>\n    </tr>\n  </thead>\n  <tbody>\n    <tr>\n      <th>0</th>\n      <td>1</td>\n      <td>0.05</td>\n      <td>0 &lt;= LD &lt; 0.2</td>\n      <td>1</td>\n      <td>NA21144</td>\n    </tr>\n    <tr>\n      <th>1</th>\n      <td>1</td>\n      <td>0.05</td>\n      <td>0.2 &lt;= LD &lt; 0.4</td>\n      <td>1</td>\n      <td>NA21144</td>\n    </tr>\n    <tr>\n      <th>2</th>\n      <td>1</td>\n      <td>0.05</td>\n      <td>0 &lt;= LD &lt; 0.2</td>\n      <td>1</td>\n      <td>NA21144</td>\n    </tr>\n    <tr>\n      <th>3</th>\n      <td>1</td>\n      <td>0.05</td>\n      <td>0 &lt;= LD &lt; 0.2</td>\n      <td>1</td>\n      <td>NA21144</td>\n    </tr>\n    <tr>\n      <th>4</th>\n      <td>1</td>\n      <td>0.05</td>\n      <td>0 &lt;= LD &lt; 0.2</td>\n      <td>1</td>\n      <td>NA21144</td>\n    </tr>\n    <tr>\n      <th>...</th>\n      <td>...</td>\n      <td>...</td>\n      <td>...</td>\n      <td>...</td>\n      <td>...</td>\n    </tr>\n    <tr>\n      <th>738675</th>\n      <td>3</td>\n      <td>0.2</td>\n      <td>0.2 &lt;= LD &lt; 0.4</td>\n      <td>1</td>\n      <td>HG00097</td>\n    </tr>\n    <tr>\n      <th>738676</th>\n      <td>3</td>\n      <td>0.2</td>\n      <td>0 &lt;= LD &lt; 0.2</td>\n      <td>1</td>\n      <td>HG00097</td>\n    </tr>\n    <tr>\n      <th>738677</th>\n      <td>3</td>\n      <td>0.2</td>\n      <td>0 &lt;= LD &lt; 0.2</td>\n      <td>1</td>\n      <td>HG00097</td>\n    </tr>\n    <tr>\n      <th>738678</th>\n      <td>3</td>\n      <td>0.2</td>\n      <td>0.4 &lt;= LD &lt; 0.6</td>\n      <td>1</td>\n      <td>HG00097</td>\n    </tr>\n    <tr>\n      <th>738679</th>\n      <td>3</td>\n      <td>0.2</td>\n      <td>0 &lt;= LD &lt; 0.2</td>\n      <td>1</td>\n      <td>HG00097</td>\n    </tr>\n  </tbody>\n</table>\n<p>738680 rows × 5 columns</p>\n</div>"
     },
     "execution_count": 49,
     "metadata": {},
     "output_type": "execute_result"
    }
   ],
   "source": [
    "columns = [\"Fold\", \"MissingRate\", \"LD\", \"Accuracy\", \"Sample ID\"]\n",
    "dfs = []\n",
    "\n",
    "N_SPLITS=3\n",
    "kf = KFold(n_splits=N_SPLITS, shuffle=True, random_state=2022)\n",
    "fold = 0\n",
    "_x = X[X.index.isin(Y_train.index)].to_numpy()\n",
    "for train_index, test_index in kf.split(_x):\n",
    "  fold += 1\n",
    "  print(f\"Fold: {fold}\")\n",
    "  y = _x[test_index]\n",
    "  for missing_perc in [0.05,\n",
    "                       0.1,\n",
    "                       0.2]:\n",
    "    dataframe = pd.DataFrame(columns = columns)\n",
    "    print(f\"Missing rate: {missing_perc}\")\n",
    "    file_name = f\"./experimental_results/Chr22/ALL/HLA_DEEP/preds_mixed_mr_{missing_perc}_rs_{fold}_.csv\"\n",
    "    result_genotypes = pd.read_csv(file_name, index_col=0)\n",
    "    result_genotypes = result_genotypes.replace(replacement_dict)\n",
    "    yhat = result_genotypes.to_numpy()\n",
    "    assert y.shape == yhat.shape\n",
    "    for i in tqdm(list(range(y.shape[0]))):\n",
    "        missing_index, _ = train_test_split(np.arange(y.shape[1]), train_size=missing_perc,\n",
    "                                            random_state=i + fold,\n",
    "                                            shuffle=True,\n",
    "                                            stratify=bin_labels\n",
    "                                            )\n",
    "        # for mi in missing_index:\n",
    "        #     maf_bin_label = maf_bin_labels[mi]\n",
    "        #     df.loc[-1] = [fold, missing_perc, maf_bin_label, int(yhat[i, mi]==y[i, mi])]\n",
    "        #     df.index += 1\n",
    "        a = np.reshape(bin_labels[missing_index], (-1, 1))\n",
    "        b = np.array([fold for _ in missing_index]).reshape((-1, 1))\n",
    "        c = np.array([missing_perc for _ in missing_index]).reshape((-1, 1))\n",
    "        d = (yhat[i, missing_index]==y[i, missing_index]).astype(int).reshape((-1, 1))\n",
    "        e = np.array([X.index[test_index][i] for _ in missing_index]).astype(object).reshape((-1, 1))\n",
    "        dataframe = pd.concat([pd.DataFrame(np.concatenate([b,c,a,d,e], axis=1), columns=dataframe.columns), dataframe], ignore_index=True)\n",
    "    dfs.append(dataframe)\n",
    "\n",
    "df = pd.DataFrame(columns = columns)\n",
    "print(\"Combining the results...\")\n",
    "for i, dff in tqdm(enumerate(dfs)):\n",
    "    df = pd.concat([df, dff], ignore_index=True)\n",
    "del dfs\n",
    "\n",
    "df[\"LD\"] = df[\"LD\"].replace({\n",
    "    1.0: '0 <= LD < 0.2',\n",
    "    2.0: '0.2 <= LD < 0.4',\n",
    "    3.0: '0.4 <= LD < 0.6',\n",
    "    4.0: '0.6 <= LD < 0.8',\n",
    "    5.0: '0.8 <= LD <= 1',\n",
    "})\n",
    "df"
   ],
   "metadata": {
    "collapsed": false,
    "pycharm": {
     "name": "#%%\n"
    }
   }
  },
  {
   "cell_type": "code",
   "execution_count": 50,
   "outputs": [],
   "source": [
    "df.to_csv(\"results_in_table/Chr22/ALL/LD_HLA_DEEP.csv\")"
   ],
   "metadata": {
    "collapsed": false,
    "pycharm": {
     "name": "#%%\n"
    }
   }
  },
  {
   "cell_type": "code",
   "execution_count": 51,
   "outputs": [
    {
     "data": {
      "text/plain": "                             Accuracy          \n                                 mean       std\nMissingRate LD                                 \n0.05        0 <= LD < 0.2    0.937700  0.241702\n            0.2 <= LD < 0.4  0.973642  0.160203\n            0.4 <= LD < 0.6  0.998303  0.041165\n            0.6 <= LD < 0.8  0.994808  0.071880\n            0.8 <= LD <= 1   0.986422  0.115737\n0.10        0 <= LD < 0.2    0.938419  0.240395\n            0.2 <= LD < 0.4  0.973110  0.161766\n            0.4 <= LD < 0.6  0.998053  0.044082\n            0.6 <= LD < 0.8  0.994609  0.073235\n            0.8 <= LD <= 1   0.986222  0.116570\n0.20        0 <= LD < 0.2    0.938331  0.240553\n            0.2 <= LD < 0.4  0.972087  0.164726\n            0.4 <= LD < 0.6  0.997804  0.046816\n            0.6 <= LD < 0.8  0.993011  0.083311\n            0.8 <= LD <= 1   0.986562  0.115144",
      "text/html": "<div>\n<style scoped>\n    .dataframe tbody tr th:only-of-type {\n        vertical-align: middle;\n    }\n\n    .dataframe tbody tr th {\n        vertical-align: top;\n    }\n\n    .dataframe thead tr th {\n        text-align: left;\n    }\n\n    .dataframe thead tr:last-of-type th {\n        text-align: right;\n    }\n</style>\n<table border=\"1\" class=\"dataframe\">\n  <thead>\n    <tr>\n      <th></th>\n      <th></th>\n      <th colspan=\"2\" halign=\"left\">Accuracy</th>\n    </tr>\n    <tr>\n      <th></th>\n      <th></th>\n      <th>mean</th>\n      <th>std</th>\n    </tr>\n    <tr>\n      <th>MissingRate</th>\n      <th>LD</th>\n      <th></th>\n      <th></th>\n    </tr>\n  </thead>\n  <tbody>\n    <tr>\n      <th rowspan=\"5\" valign=\"top\">0.05</th>\n      <th>0 &lt;= LD &lt; 0.2</th>\n      <td>0.937700</td>\n      <td>0.241702</td>\n    </tr>\n    <tr>\n      <th>0.2 &lt;= LD &lt; 0.4</th>\n      <td>0.973642</td>\n      <td>0.160203</td>\n    </tr>\n    <tr>\n      <th>0.4 &lt;= LD &lt; 0.6</th>\n      <td>0.998303</td>\n      <td>0.041165</td>\n    </tr>\n    <tr>\n      <th>0.6 &lt;= LD &lt; 0.8</th>\n      <td>0.994808</td>\n      <td>0.071880</td>\n    </tr>\n    <tr>\n      <th>0.8 &lt;= LD &lt;= 1</th>\n      <td>0.986422</td>\n      <td>0.115737</td>\n    </tr>\n    <tr>\n      <th rowspan=\"5\" valign=\"top\">0.10</th>\n      <th>0 &lt;= LD &lt; 0.2</th>\n      <td>0.938419</td>\n      <td>0.240395</td>\n    </tr>\n    <tr>\n      <th>0.2 &lt;= LD &lt; 0.4</th>\n      <td>0.973110</td>\n      <td>0.161766</td>\n    </tr>\n    <tr>\n      <th>0.4 &lt;= LD &lt; 0.6</th>\n      <td>0.998053</td>\n      <td>0.044082</td>\n    </tr>\n    <tr>\n      <th>0.6 &lt;= LD &lt; 0.8</th>\n      <td>0.994609</td>\n      <td>0.073235</td>\n    </tr>\n    <tr>\n      <th>0.8 &lt;= LD &lt;= 1</th>\n      <td>0.986222</td>\n      <td>0.116570</td>\n    </tr>\n    <tr>\n      <th rowspan=\"5\" valign=\"top\">0.20</th>\n      <th>0 &lt;= LD &lt; 0.2</th>\n      <td>0.938331</td>\n      <td>0.240553</td>\n    </tr>\n    <tr>\n      <th>0.2 &lt;= LD &lt; 0.4</th>\n      <td>0.972087</td>\n      <td>0.164726</td>\n    </tr>\n    <tr>\n      <th>0.4 &lt;= LD &lt; 0.6</th>\n      <td>0.997804</td>\n      <td>0.046816</td>\n    </tr>\n    <tr>\n      <th>0.6 &lt;= LD &lt; 0.8</th>\n      <td>0.993011</td>\n      <td>0.083311</td>\n    </tr>\n    <tr>\n      <th>0.8 &lt;= LD &lt;= 1</th>\n      <td>0.986562</td>\n      <td>0.115144</td>\n    </tr>\n  </tbody>\n</table>\n</div>"
     },
     "execution_count": 51,
     "metadata": {},
     "output_type": "execute_result"
    }
   ],
   "source": [
    "df.groupby([\"MissingRate\", \"LD\"]).agg( {\"Accuracy\":[\"mean\", \"std\"]})"
   ],
   "metadata": {
    "collapsed": false,
    "pycharm": {
     "name": "#%%\n"
    }
   }
  },
  {
   "cell_type": "code",
   "execution_count": 52,
   "outputs": [
    {
     "data": {
      "text/plain": "                  Accuracy\nFold MissingRate          \n1    0.05         0.953094\n     0.10         0.953921\n     0.20         0.953747\n2    0.05         0.956573\n     0.10         0.955845\n     0.20         0.955271\n3    0.05         0.955065\n     0.10         0.954765\n     0.20         0.955259",
      "text/html": "<div>\n<style scoped>\n    .dataframe tbody tr th:only-of-type {\n        vertical-align: middle;\n    }\n\n    .dataframe tbody tr th {\n        vertical-align: top;\n    }\n\n    .dataframe thead th {\n        text-align: right;\n    }\n</style>\n<table border=\"1\" class=\"dataframe\">\n  <thead>\n    <tr style=\"text-align: right;\">\n      <th></th>\n      <th></th>\n      <th>Accuracy</th>\n    </tr>\n    <tr>\n      <th>Fold</th>\n      <th>MissingRate</th>\n      <th></th>\n    </tr>\n  </thead>\n  <tbody>\n    <tr>\n      <th rowspan=\"3\" valign=\"top\">1</th>\n      <th>0.05</th>\n      <td>0.953094</td>\n    </tr>\n    <tr>\n      <th>0.10</th>\n      <td>0.953921</td>\n    </tr>\n    <tr>\n      <th>0.20</th>\n      <td>0.953747</td>\n    </tr>\n    <tr>\n      <th rowspan=\"3\" valign=\"top\">2</th>\n      <th>0.05</th>\n      <td>0.956573</td>\n    </tr>\n    <tr>\n      <th>0.10</th>\n      <td>0.955845</td>\n    </tr>\n    <tr>\n      <th>0.20</th>\n      <td>0.955271</td>\n    </tr>\n    <tr>\n      <th rowspan=\"3\" valign=\"top\">3</th>\n      <th>0.05</th>\n      <td>0.955065</td>\n    </tr>\n    <tr>\n      <th>0.10</th>\n      <td>0.954765</td>\n    </tr>\n    <tr>\n      <th>0.20</th>\n      <td>0.955259</td>\n    </tr>\n  </tbody>\n</table>\n</div>"
     },
     "execution_count": 52,
     "metadata": {},
     "output_type": "execute_result"
    }
   ],
   "source": [
    "df1 = df.groupby([\"Fold\", \"MissingRate\", \"Sample ID\"]).agg( {\"Accuracy\":\"mean\"}).reset_index()\n",
    "df1 = df1.groupby([\"Fold\", \"MissingRate\"]).agg( {\"Accuracy\":\"mean\"})\n",
    "df1"
   ],
   "metadata": {
    "collapsed": false,
    "pycharm": {
     "name": "#%%\n"
    }
   }
  },
  {
   "cell_type": "code",
   "execution_count": 53,
   "outputs": [
    {
     "data": {
      "text/plain": "             Accuracy          \n                 mean       std\nMissingRate                    \n0.05         0.954910  0.001744\n0.10         0.954844  0.000965\n0.20         0.954759  0.000876",
      "text/html": "<div>\n<style scoped>\n    .dataframe tbody tr th:only-of-type {\n        vertical-align: middle;\n    }\n\n    .dataframe tbody tr th {\n        vertical-align: top;\n    }\n\n    .dataframe thead tr th {\n        text-align: left;\n    }\n\n    .dataframe thead tr:last-of-type th {\n        text-align: right;\n    }\n</style>\n<table border=\"1\" class=\"dataframe\">\n  <thead>\n    <tr>\n      <th></th>\n      <th colspan=\"2\" halign=\"left\">Accuracy</th>\n    </tr>\n    <tr>\n      <th></th>\n      <th>mean</th>\n      <th>std</th>\n    </tr>\n    <tr>\n      <th>MissingRate</th>\n      <th></th>\n      <th></th>\n    </tr>\n  </thead>\n  <tbody>\n    <tr>\n      <th>0.05</th>\n      <td>0.954910</td>\n      <td>0.001744</td>\n    </tr>\n    <tr>\n      <th>0.10</th>\n      <td>0.954844</td>\n      <td>0.000965</td>\n    </tr>\n    <tr>\n      <th>0.20</th>\n      <td>0.954759</td>\n      <td>0.000876</td>\n    </tr>\n  </tbody>\n</table>\n</div>"
     },
     "execution_count": 53,
     "metadata": {},
     "output_type": "execute_result"
    }
   ],
   "source": [
    "df1 = df.groupby([\"Fold\", \"MissingRate\", \"Sample ID\"]).agg( {\"Accuracy\":\"mean\"}).reset_index()\n",
    "df1 = df1.groupby([\"Fold\", \"MissingRate\"]).agg( {\"Accuracy\":\"mean\"}).reset_index()# df1.columns = df1.columns.droplevel(0)\n",
    "df1 = df1.groupby([\"MissingRate\"]).agg( {\"Accuracy\":[\"mean\", \"std\"]})#.reset_index()\n",
    "df1"
   ],
   "metadata": {
    "collapsed": false,
    "pycharm": {
     "name": "#%%\n"
    }
   }
  },
  {
   "cell_type": "code",
   "execution_count": 21,
   "outputs": [],
   "source": [
    "# print(df.groupby([\"MissingRate\", \"LD\"]).agg( {\"Accuracy\":[\"mean\", \"std\"]}).round({'mean': 4})#.rename(columns={\"Accuracy\": \"Max Accuracy\"})\n",
    "#             .to_latex(multirow=True))"
   ],
   "metadata": {
    "collapsed": false,
    "pycharm": {
     "name": "#%%\n"
    }
   }
  },
  {
   "cell_type": "code",
   "execution_count": 35,
   "outputs": [
    {
     "name": "stdout",
     "output_type": "stream",
     "text": [
      "Fold: 1\n",
      "Missing rate: 0.05\n"
     ]
    },
    {
     "name": "stderr",
     "output_type": "stream",
     "text": [
      "100%|██████████| 835/835 [00:01<00:00, 591.50it/s]\n"
     ]
    },
    {
     "name": "stdout",
     "output_type": "stream",
     "text": [
      "Missing rate: 0.1\n"
     ]
    },
    {
     "name": "stderr",
     "output_type": "stream",
     "text": [
      "100%|██████████| 835/835 [00:02<00:00, 368.78it/s]\n"
     ]
    },
    {
     "name": "stdout",
     "output_type": "stream",
     "text": [
      "Missing rate: 0.2\n"
     ]
    },
    {
     "name": "stderr",
     "output_type": "stream",
     "text": [
      "100%|██████████| 835/835 [00:03<00:00, 222.49it/s]\n"
     ]
    },
    {
     "name": "stdout",
     "output_type": "stream",
     "text": [
      "Fold: 2\n",
      "Missing rate: 0.05\n"
     ]
    },
    {
     "name": "stderr",
     "output_type": "stream",
     "text": [
      "100%|██████████| 835/835 [00:01<00:00, 630.53it/s]\n"
     ]
    },
    {
     "name": "stdout",
     "output_type": "stream",
     "text": [
      "Missing rate: 0.1\n"
     ]
    },
    {
     "name": "stderr",
     "output_type": "stream",
     "text": [
      "100%|██████████| 835/835 [00:02<00:00, 407.72it/s]\n"
     ]
    },
    {
     "name": "stdout",
     "output_type": "stream",
     "text": [
      "Missing rate: 0.2\n"
     ]
    },
    {
     "name": "stderr",
     "output_type": "stream",
     "text": [
      "100%|██████████| 835/835 [00:03<00:00, 235.69it/s]\n"
     ]
    },
    {
     "name": "stdout",
     "output_type": "stream",
     "text": [
      "Fold: 3\n",
      "Missing rate: 0.05\n"
     ]
    },
    {
     "name": "stderr",
     "output_type": "stream",
     "text": [
      "100%|██████████| 834/834 [00:01<00:00, 605.31it/s]\n"
     ]
    },
    {
     "name": "stdout",
     "output_type": "stream",
     "text": [
      "Missing rate: 0.1\n"
     ]
    },
    {
     "name": "stderr",
     "output_type": "stream",
     "text": [
      "100%|██████████| 834/834 [00:02<00:00, 388.29it/s]\n"
     ]
    },
    {
     "name": "stdout",
     "output_type": "stream",
     "text": [
      "Missing rate: 0.2\n"
     ]
    },
    {
     "name": "stderr",
     "output_type": "stream",
     "text": [
      "100%|██████████| 834/834 [00:03<00:00, 227.41it/s]\n"
     ]
    },
    {
     "name": "stdout",
     "output_type": "stream",
     "text": [
      "Combining the results...\n"
     ]
    },
    {
     "name": "stderr",
     "output_type": "stream",
     "text": [
      "9it [00:00, 81.06it/s]\n"
     ]
    },
    {
     "data": {
      "text/plain": "       Fold MissingRate               LD Accuracy Sample ID\n0         1        0.05    0 <= LD < 0.2        1   NA21144\n1         1        0.05  0.2 <= LD < 0.4        1   NA21144\n2         1        0.05    0 <= LD < 0.2        1   NA21144\n3         1        0.05    0 <= LD < 0.2        1   NA21144\n4         1        0.05    0 <= LD < 0.2        1   NA21144\n...     ...         ...              ...      ...       ...\n738675    3         0.2  0.2 <= LD < 0.4        1   HG00097\n738676    3         0.2    0 <= LD < 0.2        1   HG00097\n738677    3         0.2    0 <= LD < 0.2        1   HG00097\n738678    3         0.2  0.4 <= LD < 0.6        1   HG00097\n738679    3         0.2    0 <= LD < 0.2        1   HG00097\n\n[738680 rows x 5 columns]",
      "text/html": "<div>\n<style scoped>\n    .dataframe tbody tr th:only-of-type {\n        vertical-align: middle;\n    }\n\n    .dataframe tbody tr th {\n        vertical-align: top;\n    }\n\n    .dataframe thead th {\n        text-align: right;\n    }\n</style>\n<table border=\"1\" class=\"dataframe\">\n  <thead>\n    <tr style=\"text-align: right;\">\n      <th></th>\n      <th>Fold</th>\n      <th>MissingRate</th>\n      <th>LD</th>\n      <th>Accuracy</th>\n      <th>Sample ID</th>\n    </tr>\n  </thead>\n  <tbody>\n    <tr>\n      <th>0</th>\n      <td>1</td>\n      <td>0.05</td>\n      <td>0 &lt;= LD &lt; 0.2</td>\n      <td>1</td>\n      <td>NA21144</td>\n    </tr>\n    <tr>\n      <th>1</th>\n      <td>1</td>\n      <td>0.05</td>\n      <td>0.2 &lt;= LD &lt; 0.4</td>\n      <td>1</td>\n      <td>NA21144</td>\n    </tr>\n    <tr>\n      <th>2</th>\n      <td>1</td>\n      <td>0.05</td>\n      <td>0 &lt;= LD &lt; 0.2</td>\n      <td>1</td>\n      <td>NA21144</td>\n    </tr>\n    <tr>\n      <th>3</th>\n      <td>1</td>\n      <td>0.05</td>\n      <td>0 &lt;= LD &lt; 0.2</td>\n      <td>1</td>\n      <td>NA21144</td>\n    </tr>\n    <tr>\n      <th>4</th>\n      <td>1</td>\n      <td>0.05</td>\n      <td>0 &lt;= LD &lt; 0.2</td>\n      <td>1</td>\n      <td>NA21144</td>\n    </tr>\n    <tr>\n      <th>...</th>\n      <td>...</td>\n      <td>...</td>\n      <td>...</td>\n      <td>...</td>\n      <td>...</td>\n    </tr>\n    <tr>\n      <th>738675</th>\n      <td>3</td>\n      <td>0.2</td>\n      <td>0.2 &lt;= LD &lt; 0.4</td>\n      <td>1</td>\n      <td>HG00097</td>\n    </tr>\n    <tr>\n      <th>738676</th>\n      <td>3</td>\n      <td>0.2</td>\n      <td>0 &lt;= LD &lt; 0.2</td>\n      <td>1</td>\n      <td>HG00097</td>\n    </tr>\n    <tr>\n      <th>738677</th>\n      <td>3</td>\n      <td>0.2</td>\n      <td>0 &lt;= LD &lt; 0.2</td>\n      <td>1</td>\n      <td>HG00097</td>\n    </tr>\n    <tr>\n      <th>738678</th>\n      <td>3</td>\n      <td>0.2</td>\n      <td>0.4 &lt;= LD &lt; 0.6</td>\n      <td>1</td>\n      <td>HG00097</td>\n    </tr>\n    <tr>\n      <th>738679</th>\n      <td>3</td>\n      <td>0.2</td>\n      <td>0 &lt;= LD &lt; 0.2</td>\n      <td>1</td>\n      <td>HG00097</td>\n    </tr>\n  </tbody>\n</table>\n<p>738680 rows × 5 columns</p>\n</div>"
     },
     "execution_count": 35,
     "metadata": {},
     "output_type": "execute_result"
    }
   ],
   "source": [
    "\n",
    "columns = [\"Fold\", \"MissingRate\", \"LD\", \"Accuracy\", \"Sample ID\"]\n",
    "dfs = []\n",
    "\n",
    "N_SPLITS=3\n",
    "kf = KFold(n_splits=N_SPLITS, shuffle=True, random_state=2022)\n",
    "fold = 0\n",
    "_x = X[X.index.isin(Y_train.index)].to_numpy()\n",
    "for train_index, test_index in kf.split(_x):\n",
    "  fold += 1\n",
    "  print(f\"Fold: {fold}\")\n",
    "  y = _x[test_index]\n",
    "  for missing_perc in [0.05,\n",
    "                       0.1,\n",
    "                       0.2]:\n",
    "    dataframe = pd.DataFrame(columns = columns)\n",
    "    print(f\"Missing rate: {missing_perc}\")\n",
    "    file_name = f\"./experimental_results/Chr22/ALL/STI/preds_mixed_mr_{missing_perc}_rs_{fold}_.csv\"\n",
    "    result_genotypes = pd.read_csv(file_name, index_col=0)\n",
    "    result_genotypes = result_genotypes.replace(replacement_dict)\n",
    "    yhat = result_genotypes.to_numpy()\n",
    "    assert y.shape == yhat.shape\n",
    "    for i in tqdm(list(range(y.shape[0]))):\n",
    "        missing_index, _ = train_test_split(np.arange(y.shape[1]), train_size=missing_perc,\n",
    "                                            random_state=i + fold,\n",
    "                                            shuffle=True,\n",
    "                                            stratify=bin_labels\n",
    "                                            )\n",
    "        # for mi in missing_index:\n",
    "        #     maf_bin_label = maf_bin_labels[mi]\n",
    "        #     df.loc[-1] = [fold, missing_perc, maf_bin_label, int(yhat[i, mi]==y[i, mi])]\n",
    "        #     df.index += 1\n",
    "        a = np.reshape(bin_labels[missing_index], (-1, 1))\n",
    "        b = np.array([fold for _ in missing_index]).reshape((-1, 1))\n",
    "        c = np.array([missing_perc for _ in missing_index]).reshape((-1, 1))\n",
    "        d = (yhat[i, missing_index]==y[i, missing_index]).astype(int).reshape((-1, 1))\n",
    "        e = np.array([X.index[test_index][i] for _ in missing_index]).astype(object).reshape((-1, 1))\n",
    "        dataframe = pd.concat([pd.DataFrame(np.concatenate([b,c,a,d,e], axis=1), columns=dataframe.columns), dataframe], ignore_index=True)\n",
    "    dfs.append(dataframe)\n",
    "\n",
    "df = pd.DataFrame(columns = columns)\n",
    "print(\"Combining the results...\")\n",
    "for i, dff in tqdm(enumerate(dfs)):\n",
    "    df = pd.concat([df, dff], ignore_index=True)\n",
    "del dfs\n",
    "\n",
    "df[\"LD\"] = df[\"LD\"].replace({\n",
    "    1.0: '0 <= LD < 0.2',\n",
    "    2.0: '0.2 <= LD < 0.4',\n",
    "    3.0: '0.4 <= LD < 0.6',\n",
    "    4.0: '0.6 <= LD < 0.8',\n",
    "    5.0: '0.8 <= LD <= 1',\n",
    "})\n",
    "df"
   ],
   "metadata": {
    "collapsed": false,
    "pycharm": {
     "name": "#%%\n"
    }
   }
  },
  {
   "cell_type": "code",
   "execution_count": 36,
   "outputs": [],
   "source": [
    "df.to_csv(\"results_in_table/Chr22/ALL/LD_STI.csv\")"
   ],
   "metadata": {
    "collapsed": false,
    "pycharm": {
     "name": "#%%\n"
    }
   }
  },
  {
   "cell_type": "code",
   "execution_count": 37,
   "outputs": [
    {
     "data": {
      "text/plain": "                             Accuracy          \n                                 mean       std\nMissingRate LD                                 \n0.05        0 <= LD < 0.2    0.937300  0.242424\n            0.2 <= LD < 0.4  0.969169  0.172866\n            0.4 <= LD < 0.6  0.997903  0.045743\n            0.6 <= LD < 0.8  0.994808  0.071880\n            0.8 <= LD <= 1   0.984265  0.124453\n0.10        0 <= LD < 0.2    0.938535  0.240183\n            0.2 <= LD < 0.4  0.970092  0.170336\n            0.4 <= LD < 0.6  0.997804  0.046816\n            0.6 <= LD < 0.8  0.994808  0.071873\n            0.8 <= LD <= 1   0.984265  0.124450\n0.20        0 <= LD < 0.2    0.939032  0.239272\n            0.2 <= LD < 0.4  0.970300  0.169760\n            0.4 <= LD < 0.6  0.997554  0.049398\n            0.6 <= LD < 0.8  0.992911  0.083899\n            0.8 <= LD <= 1   0.987041  0.113100",
      "text/html": "<div>\n<style scoped>\n    .dataframe tbody tr th:only-of-type {\n        vertical-align: middle;\n    }\n\n    .dataframe tbody tr th {\n        vertical-align: top;\n    }\n\n    .dataframe thead tr th {\n        text-align: left;\n    }\n\n    .dataframe thead tr:last-of-type th {\n        text-align: right;\n    }\n</style>\n<table border=\"1\" class=\"dataframe\">\n  <thead>\n    <tr>\n      <th></th>\n      <th></th>\n      <th colspan=\"2\" halign=\"left\">Accuracy</th>\n    </tr>\n    <tr>\n      <th></th>\n      <th></th>\n      <th>mean</th>\n      <th>std</th>\n    </tr>\n    <tr>\n      <th>MissingRate</th>\n      <th>LD</th>\n      <th></th>\n      <th></th>\n    </tr>\n  </thead>\n  <tbody>\n    <tr>\n      <th rowspan=\"5\" valign=\"top\">0.05</th>\n      <th>0 &lt;= LD &lt; 0.2</th>\n      <td>0.937300</td>\n      <td>0.242424</td>\n    </tr>\n    <tr>\n      <th>0.2 &lt;= LD &lt; 0.4</th>\n      <td>0.969169</td>\n      <td>0.172866</td>\n    </tr>\n    <tr>\n      <th>0.4 &lt;= LD &lt; 0.6</th>\n      <td>0.997903</td>\n      <td>0.045743</td>\n    </tr>\n    <tr>\n      <th>0.6 &lt;= LD &lt; 0.8</th>\n      <td>0.994808</td>\n      <td>0.071880</td>\n    </tr>\n    <tr>\n      <th>0.8 &lt;= LD &lt;= 1</th>\n      <td>0.984265</td>\n      <td>0.124453</td>\n    </tr>\n    <tr>\n      <th rowspan=\"5\" valign=\"top\">0.10</th>\n      <th>0 &lt;= LD &lt; 0.2</th>\n      <td>0.938535</td>\n      <td>0.240183</td>\n    </tr>\n    <tr>\n      <th>0.2 &lt;= LD &lt; 0.4</th>\n      <td>0.970092</td>\n      <td>0.170336</td>\n    </tr>\n    <tr>\n      <th>0.4 &lt;= LD &lt; 0.6</th>\n      <td>0.997804</td>\n      <td>0.046816</td>\n    </tr>\n    <tr>\n      <th>0.6 &lt;= LD &lt; 0.8</th>\n      <td>0.994808</td>\n      <td>0.071873</td>\n    </tr>\n    <tr>\n      <th>0.8 &lt;= LD &lt;= 1</th>\n      <td>0.984265</td>\n      <td>0.124450</td>\n    </tr>\n    <tr>\n      <th rowspan=\"5\" valign=\"top\">0.20</th>\n      <th>0 &lt;= LD &lt; 0.2</th>\n      <td>0.939032</td>\n      <td>0.239272</td>\n    </tr>\n    <tr>\n      <th>0.2 &lt;= LD &lt; 0.4</th>\n      <td>0.970300</td>\n      <td>0.169760</td>\n    </tr>\n    <tr>\n      <th>0.4 &lt;= LD &lt; 0.6</th>\n      <td>0.997554</td>\n      <td>0.049398</td>\n    </tr>\n    <tr>\n      <th>0.6 &lt;= LD &lt; 0.8</th>\n      <td>0.992911</td>\n      <td>0.083899</td>\n    </tr>\n    <tr>\n      <th>0.8 &lt;= LD &lt;= 1</th>\n      <td>0.987041</td>\n      <td>0.113100</td>\n    </tr>\n  </tbody>\n</table>\n</div>"
     },
     "execution_count": 37,
     "metadata": {},
     "output_type": "execute_result"
    }
   ],
   "source": [
    "df.groupby([\"MissingRate\", \"LD\"]).agg( {\"Accuracy\":[\"mean\", \"std\"]})\n"
   ],
   "metadata": {
    "collapsed": false,
    "pycharm": {
     "name": "#%%\n"
    }
   }
  },
  {
   "cell_type": "code",
   "execution_count": 38,
   "outputs": [
    {
     "data": {
      "text/plain": "                  Accuracy\nFold MissingRate          \n1    0.05         0.955232\n     0.10         0.956601\n     0.20         0.956567\n2    0.05         0.950214\n     0.10         0.950114\n     0.20         0.951741\n3    0.05         0.956035\n     0.10         0.956321\n     0.20         0.956827",
      "text/html": "<div>\n<style scoped>\n    .dataframe tbody tr th:only-of-type {\n        vertical-align: middle;\n    }\n\n    .dataframe tbody tr th {\n        vertical-align: top;\n    }\n\n    .dataframe thead th {\n        text-align: right;\n    }\n</style>\n<table border=\"1\" class=\"dataframe\">\n  <thead>\n    <tr style=\"text-align: right;\">\n      <th></th>\n      <th></th>\n      <th>Accuracy</th>\n    </tr>\n    <tr>\n      <th>Fold</th>\n      <th>MissingRate</th>\n      <th></th>\n    </tr>\n  </thead>\n  <tbody>\n    <tr>\n      <th rowspan=\"3\" valign=\"top\">1</th>\n      <th>0.05</th>\n      <td>0.955232</td>\n    </tr>\n    <tr>\n      <th>0.10</th>\n      <td>0.956601</td>\n    </tr>\n    <tr>\n      <th>0.20</th>\n      <td>0.956567</td>\n    </tr>\n    <tr>\n      <th rowspan=\"3\" valign=\"top\">2</th>\n      <th>0.05</th>\n      <td>0.950214</td>\n    </tr>\n    <tr>\n      <th>0.10</th>\n      <td>0.950114</td>\n    </tr>\n    <tr>\n      <th>0.20</th>\n      <td>0.951741</td>\n    </tr>\n    <tr>\n      <th rowspan=\"3\" valign=\"top\">3</th>\n      <th>0.05</th>\n      <td>0.956035</td>\n    </tr>\n    <tr>\n      <th>0.10</th>\n      <td>0.956321</td>\n    </tr>\n    <tr>\n      <th>0.20</th>\n      <td>0.956827</td>\n    </tr>\n  </tbody>\n</table>\n</div>"
     },
     "execution_count": 38,
     "metadata": {},
     "output_type": "execute_result"
    }
   ],
   "source": [
    "df1 = df.groupby([\"Fold\", \"MissingRate\", \"Sample ID\"]).agg( {\"Accuracy\":\"mean\"}).reset_index()\n",
    "df1 = df1.groupby([\"Fold\", \"MissingRate\"]).agg( {\"Accuracy\":\"mean\"})\n",
    "df1"
   ],
   "metadata": {
    "collapsed": false,
    "pycharm": {
     "name": "#%%\n"
    }
   }
  },
  {
   "cell_type": "code",
   "execution_count": 39,
   "outputs": [
    {
     "data": {
      "text/plain": "             Accuracy          \n                 mean       std\nMissingRate                    \n0.05         0.953827  0.003155\n0.10         0.954345  0.003667\n0.20         0.955045  0.002864",
      "text/html": "<div>\n<style scoped>\n    .dataframe tbody tr th:only-of-type {\n        vertical-align: middle;\n    }\n\n    .dataframe tbody tr th {\n        vertical-align: top;\n    }\n\n    .dataframe thead tr th {\n        text-align: left;\n    }\n\n    .dataframe thead tr:last-of-type th {\n        text-align: right;\n    }\n</style>\n<table border=\"1\" class=\"dataframe\">\n  <thead>\n    <tr>\n      <th></th>\n      <th colspan=\"2\" halign=\"left\">Accuracy</th>\n    </tr>\n    <tr>\n      <th></th>\n      <th>mean</th>\n      <th>std</th>\n    </tr>\n    <tr>\n      <th>MissingRate</th>\n      <th></th>\n      <th></th>\n    </tr>\n  </thead>\n  <tbody>\n    <tr>\n      <th>0.05</th>\n      <td>0.953827</td>\n      <td>0.003155</td>\n    </tr>\n    <tr>\n      <th>0.10</th>\n      <td>0.954345</td>\n      <td>0.003667</td>\n    </tr>\n    <tr>\n      <th>0.20</th>\n      <td>0.955045</td>\n      <td>0.002864</td>\n    </tr>\n  </tbody>\n</table>\n</div>"
     },
     "execution_count": 39,
     "metadata": {},
     "output_type": "execute_result"
    }
   ],
   "source": [
    "df1 = df.groupby([\"Fold\", \"MissingRate\", \"Sample ID\"]).agg( {\"Accuracy\":\"mean\"}).reset_index()\n",
    "df1 = df1.groupby([\"Fold\", \"MissingRate\"]).agg( {\"Accuracy\":\"mean\"}).reset_index()# df1.columns = df1.columns.droplevel(0)\n",
    "df1 = df1.groupby([\"MissingRate\"]).agg( {\"Accuracy\":[\"mean\", \"std\"]})#.reset_index()\n",
    "df1"
   ],
   "metadata": {
    "collapsed": false,
    "pycharm": {
     "name": "#%%\n"
    }
   }
  },
  {
   "cell_type": "code",
   "execution_count": null,
   "outputs": [],
   "source": [
    "print(df.groupby([\"MissingRate\", \"LD\"]).agg( {\"Accuracy\":[\"mean\", \"std\"]}).round({'mean': 4})#.rename(columns={\"Accuracy\": \"Max Accuracy\"})\n",
    "            .to_latex(multirow=True))\n",
    "\n",
    "\n",
    "\n"
   ],
   "metadata": {
    "collapsed": false,
    "pycharm": {
     "name": "#%%\n"
    }
   }
  }
 ],
 "metadata": {
  "kernelspec": {
   "display_name": "Python 3",
   "language": "python",
   "name": "python3"
  },
  "language_info": {
   "codemirror_mode": {
    "name": "ipython",
    "version": 2
   },
   "file_extension": ".py",
   "mimetype": "text/x-python",
   "name": "python",
   "nbconvert_exporter": "python",
   "pygments_lexer": "ipython2",
   "version": "2.7.6"
  }
 },
 "nbformat": 4,
 "nbformat_minor": 0
}