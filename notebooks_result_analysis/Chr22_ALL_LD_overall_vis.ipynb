{
 "cells": [
  {
   "cell_type": "code",
   "execution_count": 1,
   "metadata": {
    "collapsed": true
   },
   "outputs": [],
   "source": [
    "import os\n",
    "import numpy as np\n",
    "import pandas as pd\n",
    "import ast\n",
    "import math\n",
    "import re\n",
    "import itertools\n",
    "import random\n",
    "import json\n",
    "import matplotlib\n",
    "from matplotlib.pyplot import plot as plt\n",
    "from scipy.spatial.distance import squareform\n",
    "from pylab import *\n",
    "mpl.use(\"pgf\")\n",
    "# activate latex text rendering\n",
    "rc('text', usetex=True)\n",
    "rc('axes', linewidth=2)\n",
    "rc('font', weight='bold')\n",
    "mpl.rcParams.update({\n",
    "    \"pgf.texsystem\": \"pdflatex\",\n",
    "    'font.family': 'serif',\n",
    "    'text.usetex': True,\n",
    "    'pgf.rcfonts': False,\n",
    "    'text.latex.preamble':r'\\usepackage{sfmath} \\boldmath'\n",
    "})\n",
    "%matplotlib inline\n",
    "import seaborn as sns\n",
    "sns.set_theme(style=\"whitegrid\")\n",
    "from sklearn.model_selection import KFold,StratifiedKFold\n",
    "from sklearn.model_selection import train_test_split\n",
    "from tqdm import tqdm\n",
    "import allel\n",
    "# sns.set_theme(style=\"ticks\")\n",
    "import tikzplotlib"
   ]
  },
  {
   "cell_type": "code",
   "execution_count": 16,
   "outputs": [
    {
     "data": {
      "text/plain": "   Missing Rate    Method  Accuracy\n0          0.05  HLA*DEEP  0.953094\n1          0.05  HLA*DEEP  0.956573\n2          0.05  HLA*DEEP  0.955065\n3           0.1  HLA*DEEP  0.953921\n4           0.1  HLA*DEEP  0.955845\n5           0.1  HLA*DEEP  0.954765\n6           0.2  HLA*DEEP  0.953747\n7           0.2  HLA*DEEP  0.955271\n8           0.2  HLA*DEEP  0.955259\n9          0.05     SCDA+  0.952837\n10         0.05     SCDA+  0.954919\n11         0.05     SCDA+  0.952895\n12          0.1     SCDA+  0.953650\n13          0.1     SCDA+  0.954691\n14          0.1     SCDA+  0.953423\n15          0.2     SCDA+  0.953818\n16          0.2     SCDA+  0.954569\n17          0.2     SCDA+  0.954366\n18         0.05        AE  0.950271\n19         0.05        AE  0.953065\n20         0.05        AE  0.951096\n21          0.1        AE  0.950941\n22          0.1        AE  0.950299\n23          0.1        AE  0.952567\n24          0.2        AE  0.953180\n25          0.2        AE  0.953109\n26          0.2        AE  0.952677\n27         0.05       STI  0.955232\n28         0.05       STI  0.950214\n29         0.05       STI  0.956035\n30          0.1       STI  0.956601\n31          0.1       STI  0.950114\n32          0.1       STI  0.956321\n33          0.2       STI  0.956567\n34          0.2       STI  0.951741\n35          0.2       STI  0.956827",
      "text/html": "<div>\n<style scoped>\n    .dataframe tbody tr th:only-of-type {\n        vertical-align: middle;\n    }\n\n    .dataframe tbody tr th {\n        vertical-align: top;\n    }\n\n    .dataframe thead th {\n        text-align: right;\n    }\n</style>\n<table border=\"1\" class=\"dataframe\">\n  <thead>\n    <tr style=\"text-align: right;\">\n      <th></th>\n      <th>Missing Rate</th>\n      <th>Method</th>\n      <th>Accuracy</th>\n    </tr>\n  </thead>\n  <tbody>\n    <tr>\n      <th>0</th>\n      <td>0.05</td>\n      <td>HLA*DEEP</td>\n      <td>0.953094</td>\n    </tr>\n    <tr>\n      <th>1</th>\n      <td>0.05</td>\n      <td>HLA*DEEP</td>\n      <td>0.956573</td>\n    </tr>\n    <tr>\n      <th>2</th>\n      <td>0.05</td>\n      <td>HLA*DEEP</td>\n      <td>0.955065</td>\n    </tr>\n    <tr>\n      <th>3</th>\n      <td>0.1</td>\n      <td>HLA*DEEP</td>\n      <td>0.953921</td>\n    </tr>\n    <tr>\n      <th>4</th>\n      <td>0.1</td>\n      <td>HLA*DEEP</td>\n      <td>0.955845</td>\n    </tr>\n    <tr>\n      <th>5</th>\n      <td>0.1</td>\n      <td>HLA*DEEP</td>\n      <td>0.954765</td>\n    </tr>\n    <tr>\n      <th>6</th>\n      <td>0.2</td>\n      <td>HLA*DEEP</td>\n      <td>0.953747</td>\n    </tr>\n    <tr>\n      <th>7</th>\n      <td>0.2</td>\n      <td>HLA*DEEP</td>\n      <td>0.955271</td>\n    </tr>\n    <tr>\n      <th>8</th>\n      <td>0.2</td>\n      <td>HLA*DEEP</td>\n      <td>0.955259</td>\n    </tr>\n    <tr>\n      <th>9</th>\n      <td>0.05</td>\n      <td>SCDA+</td>\n      <td>0.952837</td>\n    </tr>\n    <tr>\n      <th>10</th>\n      <td>0.05</td>\n      <td>SCDA+</td>\n      <td>0.954919</td>\n    </tr>\n    <tr>\n      <th>11</th>\n      <td>0.05</td>\n      <td>SCDA+</td>\n      <td>0.952895</td>\n    </tr>\n    <tr>\n      <th>12</th>\n      <td>0.1</td>\n      <td>SCDA+</td>\n      <td>0.953650</td>\n    </tr>\n    <tr>\n      <th>13</th>\n      <td>0.1</td>\n      <td>SCDA+</td>\n      <td>0.954691</td>\n    </tr>\n    <tr>\n      <th>14</th>\n      <td>0.1</td>\n      <td>SCDA+</td>\n      <td>0.953423</td>\n    </tr>\n    <tr>\n      <th>15</th>\n      <td>0.2</td>\n      <td>SCDA+</td>\n      <td>0.953818</td>\n    </tr>\n    <tr>\n      <th>16</th>\n      <td>0.2</td>\n      <td>SCDA+</td>\n      <td>0.954569</td>\n    </tr>\n    <tr>\n      <th>17</th>\n      <td>0.2</td>\n      <td>SCDA+</td>\n      <td>0.954366</td>\n    </tr>\n    <tr>\n      <th>18</th>\n      <td>0.05</td>\n      <td>AE</td>\n      <td>0.950271</td>\n    </tr>\n    <tr>\n      <th>19</th>\n      <td>0.05</td>\n      <td>AE</td>\n      <td>0.953065</td>\n    </tr>\n    <tr>\n      <th>20</th>\n      <td>0.05</td>\n      <td>AE</td>\n      <td>0.951096</td>\n    </tr>\n    <tr>\n      <th>21</th>\n      <td>0.1</td>\n      <td>AE</td>\n      <td>0.950941</td>\n    </tr>\n    <tr>\n      <th>22</th>\n      <td>0.1</td>\n      <td>AE</td>\n      <td>0.950299</td>\n    </tr>\n    <tr>\n      <th>23</th>\n      <td>0.1</td>\n      <td>AE</td>\n      <td>0.952567</td>\n    </tr>\n    <tr>\n      <th>24</th>\n      <td>0.2</td>\n      <td>AE</td>\n      <td>0.953180</td>\n    </tr>\n    <tr>\n      <th>25</th>\n      <td>0.2</td>\n      <td>AE</td>\n      <td>0.953109</td>\n    </tr>\n    <tr>\n      <th>26</th>\n      <td>0.2</td>\n      <td>AE</td>\n      <td>0.952677</td>\n    </tr>\n    <tr>\n      <th>27</th>\n      <td>0.05</td>\n      <td>STI</td>\n      <td>0.955232</td>\n    </tr>\n    <tr>\n      <th>28</th>\n      <td>0.05</td>\n      <td>STI</td>\n      <td>0.950214</td>\n    </tr>\n    <tr>\n      <th>29</th>\n      <td>0.05</td>\n      <td>STI</td>\n      <td>0.956035</td>\n    </tr>\n    <tr>\n      <th>30</th>\n      <td>0.1</td>\n      <td>STI</td>\n      <td>0.956601</td>\n    </tr>\n    <tr>\n      <th>31</th>\n      <td>0.1</td>\n      <td>STI</td>\n      <td>0.950114</td>\n    </tr>\n    <tr>\n      <th>32</th>\n      <td>0.1</td>\n      <td>STI</td>\n      <td>0.956321</td>\n    </tr>\n    <tr>\n      <th>33</th>\n      <td>0.2</td>\n      <td>STI</td>\n      <td>0.956567</td>\n    </tr>\n    <tr>\n      <th>34</th>\n      <td>0.2</td>\n      <td>STI</td>\n      <td>0.951741</td>\n    </tr>\n    <tr>\n      <th>35</th>\n      <td>0.2</td>\n      <td>STI</td>\n      <td>0.956827</td>\n    </tr>\n  </tbody>\n</table>\n</div>"
     },
     "execution_count": 16,
     "metadata": {},
     "output_type": "execute_result"
    }
   ],
   "source": [
    "df = pd.read_csv(\"experimental_results/Chr22/ALL/overall_results.csv\", header=0)\n",
    "df[\"Missing Rate\"] = df[\"Missing Rate\"].astype(object)\n",
    "df"
   ],
   "metadata": {
    "collapsed": false,
    "pycharm": {
     "name": "#%%\n"
    }
   }
  },
  {
   "cell_type": "code",
   "execution_count": 17,
   "outputs": [
    {
     "data": {
      "text/plain": "Missing Rate     object\nMethod           object\nAccuracy        float64\ndtype: object"
     },
     "execution_count": 17,
     "metadata": {},
     "output_type": "execute_result"
    }
   ],
   "source": [
    "df.dtypes"
   ],
   "metadata": {
    "collapsed": false,
    "pycharm": {
     "name": "#%%\n"
    }
   }
  },
  {
   "cell_type": "code",
   "execution_count": 29,
   "outputs": [
    {
     "data": {
      "text/plain": "<Figure size 576x720 with 1 Axes>",
      "image/png": "[encoded data removed]"
     },
     "metadata": {},
     "output_type": "display_data"
    }
   ],
   "source": [
    "xticks = np.unique(df[\"Missing Rate\"].values)\n",
    "fig, ax = plt.subplots(figsize=(8,10))\n",
    "# sns.barplot(\n",
    "#     data=df,\n",
    "#     x=\"Missing Rate\", y=\"Accuracy\", hue=\"Method\",\n",
    "#     markers=True, dashes=False, ax=ax\n",
    "# )\n",
    "sns.barplot(\n",
    "    data=df,\n",
    "    x=\"Missing Rate\", y=\"Accuracy\", hue=\"Method\",\n",
    "    errorbar=\"ci\", palette=sns.color_palette(\"flare\"), alpha=0.9, ax=ax\n",
    ")\n",
    "# ax.set_xscale(\"logit\")\n",
    "# ax.set_xticks(xticks) # <--- set the ticks first\n",
    "# ax.set_xticklabels(xticks)\n",
    "ax.set_ylim(.94, .958)\n",
    "# ax.set_axis_labels(\"\", \"Body mass (g)\")\n",
    "# ax.legend.set_title(\"\")\n",
    "# plt.show()\n",
    "tikzplotlib.save(\"Chr22_dels.tex\", flavor=\"context\")\n",
    "fig.savefig(f\"Chr22_all.pdf\", bbox_inches='tight', format=\"pdf\", dpi=800)"
   ],
   "metadata": {
    "collapsed": false,
    "pycharm": {
     "name": "#%%\n"
    }
   }
  },
  {
   "cell_type": "code",
   "execution_count": 19,
   "outputs": [
    {
     "data": {
      "text/plain": "[(0.8911479999999999, 0.63919675, 0.3084760000000001, 0.9),\n (0.8911479999999999, 0.63919675, 0.3084760000000001, 0.9),\n (0.8911479999999999, 0.63919675, 0.3084760000000001, 0.9),\n (0.81916625, 0.45248075000000004, 0.44550575000000003, 0.9),\n (0.81916625, 0.45248075000000004, 0.44550575000000003, 0.9),\n (0.81916625, 0.45248075000000004, 0.44550575000000003, 0.9),\n (0.626877625, 0.231103375, 0.5306391249999999, 0.9),\n (0.626877625, 0.231103375, 0.5306391249999999, 0.9),\n (0.626877625, 0.231103375, 0.5306391249999999, 0.9),\n (0.39560075, 0.08279225000000001, 0.57616175, 0.9),\n (0.39560075, 0.08279225000000001, 0.57616175, 0.9),\n (0.39560075, 0.08279225000000001, 0.57616175, 0.9)]"
     },
     "execution_count": 19,
     "metadata": {},
     "output_type": "execute_result"
    }
   ],
   "source": [
    "bars = [r for r in ax.get_children() if type(r)==Rectangle]\n",
    "colors = [c.get_facecolor() for c in bars[:-1]]\n",
    "colors"
   ],
   "metadata": {
    "collapsed": false,
    "pycharm": {
     "name": "#%%\n"
    }
   }
  },
  {
   "cell_type": "code",
   "execution_count": 28,
   "outputs": [
    {
     "data": {
      "text/plain": "['#e98d6b', '#e3685c', '#d14a61', '#b13c6c', '#8f3371', '#6c2b6d']",
      "text/html": "<svg  width=\"330\" height=\"55\"><rect x=\"0\" y=\"0\" width=\"55\" height=\"55\" style=\"fill:#e98d6b;stroke-width:2;stroke:rgb(255,255,255)\"/><rect x=\"55\" y=\"0\" width=\"55\" height=\"55\" style=\"fill:#e3685c;stroke-width:2;stroke:rgb(255,255,255)\"/><rect x=\"110\" y=\"0\" width=\"55\" height=\"55\" style=\"fill:#d14a61;stroke-width:2;stroke:rgb(255,255,255)\"/><rect x=\"165\" y=\"0\" width=\"55\" height=\"55\" style=\"fill:#b13c6c;stroke-width:2;stroke:rgb(255,255,255)\"/><rect x=\"220\" y=\"0\" width=\"55\" height=\"55\" style=\"fill:#8f3371;stroke-width:2;stroke:rgb(255,255,255)\"/><rect x=\"275\" y=\"0\" width=\"55\" height=\"55\" style=\"fill:#6c2b6d;stroke-width:2;stroke:rgb(255,255,255)\"/></svg>"
     },
     "execution_count": 28,
     "metadata": {},
     "output_type": "execute_result"
    }
   ],
   "source": [
    "sns.color_palette(\"flare\").as_hex()"
   ],
   "metadata": {
    "collapsed": false,
    "pycharm": {
     "name": "#%%\n"
    }
   }
  },
  {
   "cell_type": "code",
   "execution_count": null,
   "outputs": [],
   "source": [],
   "metadata": {
    "collapsed": false,
    "pycharm": {
     "name": "#%%\n"
    }
   }
  }
 ],
 "metadata": {
  "kernelspec": {
   "display_name": "Python 3",
   "language": "python",
   "name": "python3"
  },
  "language_info": {
   "codemirror_mode": {
    "name": "ipython",
    "version": 2
   },
   "file_extension": ".py",
   "mimetype": "text/x-python",
   "name": "python",
   "nbconvert_exporter": "python",
   "pygments_lexer": "ipython2",
   "version": "2.7.6"
  }
 },
 "nbformat": 4,
 "nbformat_minor": 0
}