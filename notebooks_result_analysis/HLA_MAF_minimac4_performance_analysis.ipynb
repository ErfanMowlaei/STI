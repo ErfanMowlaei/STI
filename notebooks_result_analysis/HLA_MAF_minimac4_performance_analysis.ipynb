{
 "cells": [
  {
   "cell_type": "code",
   "execution_count": 12,
   "metadata": {
    "collapsed": true
   },
   "outputs": [
    {
     "name": "stdout",
     "output_type": "stream",
     "text": [
      "Requirement already satisfied: toolz in c:\\users\\sleepy\\appdata\\local\\programs\\python\\python38\\lib\\site-packages (0.11.2)\n",
      "Requirement already satisfied: scikit-allel in c:\\users\\sleepy\\appdata\\local\\programs\\python\\python38\\lib\\site-packages (1.3.5)\n",
      "Requirement already satisfied: numpy in c:\\users\\sleepy\\appdata\\local\\programs\\python\\python38\\lib\\site-packages (from scikit-allel) (1.21.4+mkl)\n",
      "Requirement already satisfied: dask[array] in c:\\users\\sleepy\\appdata\\local\\programs\\python\\python38\\lib\\site-packages (from scikit-allel) (2022.2.1)\n",
      "Requirement already satisfied: packaging>=20.0 in c:\\users\\sleepy\\appdata\\local\\programs\\python\\python38\\lib\\site-packages (from dask[array]->scikit-allel) (21.3)\n",
      "Requirement already satisfied: partd>=0.3.10 in c:\\users\\sleepy\\appdata\\local\\programs\\python\\python38\\lib\\site-packages (from dask[array]->scikit-allel) (1.2.0)\n",
      "Requirement already satisfied: fsspec>=0.6.0 in c:\\users\\sleepy\\appdata\\local\\programs\\python\\python38\\lib\\site-packages (from dask[array]->scikit-allel) (2022.2.0)\n",
      "Requirement already satisfied: cloudpickle>=1.1.1 in c:\\users\\sleepy\\appdata\\local\\programs\\python\\python38\\lib\\site-packages (from dask[array]->scikit-allel) (2.0.0)\n",
      "Requirement already satisfied: pyyaml>=5.3.1 in c:\\users\\sleepy\\appdata\\local\\programs\\python\\python38\\lib\\site-packages (from dask[array]->scikit-allel) (6.0)\n",
      "Requirement already satisfied: pyparsing!=3.0.5,>=2.0.2 in c:\\users\\sleepy\\appdata\\local\\programs\\python\\python38\\lib\\site-packages (from packaging>=20.0->dask[array]->scikit-allel) (3.0.6)\n",
      "Requirement already satisfied: locket in c:\\users\\sleepy\\appdata\\local\\programs\\python\\python38\\lib\\site-packages (from partd>=0.3.10->dask[array]->scikit-allel) (0.2.1)\n"
     ]
    },
    {
     "name": "stderr",
     "output_type": "stream",
     "text": [
      "WARNING: You are using pip version 21.3.1; however, version 22.3.1 is available.\n",
      "You should consider upgrading via the 'c:\\users\\sleepy\\appdata\\local\\programs\\python\\python38\\python.exe -m pip install --upgrade pip' command.\n"
     ]
    }
   ],
   "source": [
    "!pip install toolz scikit-allel\n",
    "\n",
    "import os\n",
    "import numpy as np\n",
    "import pandas as pd\n",
    "import ast\n",
    "import math\n",
    "import re\n",
    "import itertools\n",
    "import random\n",
    "import json\n",
    "import matplotlib\n",
    "from matplotlib.pyplot import plot as plt\n",
    "from scipy.spatial.distance import squareform\n",
    "from pylab import *\n",
    "mpl.use(\"pgf\")\n",
    "# activate latex text rendering\n",
    "rc('text', usetex=True)\n",
    "rc('axes', linewidth=2)\n",
    "rc('font', weight='bold')\n",
    "mpl.rcParams.update({\n",
    "    \"pgf.texsystem\": \"pdflatex\",\n",
    "    'font.family': 'serif',\n",
    "    'text.usetex': True,\n",
    "    'pgf.rcfonts': False,\n",
    "    'text.latex.preamble':r'\\usepackage{sfmath} \\boldmath'\n",
    "})\n",
    "%matplotlib inline\n",
    "import seaborn as sns\n",
    "sns.set_theme(style=\"whitegrid\")\n",
    "from sklearn.model_selection import KFold,StratifiedKFold\n",
    "from sklearn.model_selection import train_test_split\n",
    "from tqdm import tqdm\n",
    "import allel\n",
    "# sns.set_theme(style=\"ticks\")\n"
   ]
  },
  {
   "cell_type": "code",
   "execution_count": 13,
   "outputs": [
    {
     "data": {
      "text/plain": "        0    1    2    3    4    5    6    7    8    9     ... 7151 7152 7153  \\\nHG00096  0|0  0|0  0|0  0|0  0|0  0|0  0|0  0|0  0|0  0|0  ...  0|0  0|0  0|0   \nHG00097  0|0  1|0  1|0  0|0  1|0  0|0  0|0  0|0  0|0  1|0  ...  0|1  0|1  0|1   \nHG00099  0|0  0|1  0|0  0|0  0|0  0|0  0|0  0|0  0|0  0|0  ...  1|1  1|1  1|1   \nHG00100  0|0  0|1  0|1  0|0  0|1  0|0  0|0  0|0  0|0  0|1  ...  0|1  0|1  0|1   \nHG00101  0|0  1|1  1|0  0|0  1|0  0|0  0|0  0|0  0|0  1|0  ...  1|0  1|0  1|0   \n...      ...  ...  ...  ...  ...  ...  ...  ...  ...  ...  ...  ...  ...  ...   \nNA21137  0|0  0|0  0|0  0|0  0|0  0|0  0|0  0|0  0|0  0|0  ...  0|0  0|0  0|0   \nNA21141  0|0  1|1  1|1  0|0  1|1  0|0  0|0  0|0  0|0  1|1  ...  1|0  1|0  0|0   \nNA21142  0|0  1|1  0|1  0|0  0|1  0|0  0|0  0|0  0|0  0|1  ...  0|1  0|1  0|1   \nNA21143  0|0  1|0  0|0  0|0  0|0  0|0  0|0  0|0  0|0  0|0  ...  1|1  1|1  1|1   \nNA21144  0|0  1|0  0|0  0|0  0|0  0|0  0|0  0|0  0|0  0|0  ...  1|1  1|1  0|0   \n\n        7154 7155 7156 7157 7158 7159 7160  \nHG00096  0|0  0|0  0|0  0|0  0|0  0|0  0|0  \nHG00097  0|1  0|0  0|1  0|1  0|1  0|1  0|0  \nHG00099  1|1  0|0  1|1  1|1  1|1  1|1  0|0  \nHG00100  0|1  0|0  0|1  0|1  0|1  0|1  0|0  \nHG00101  1|0  0|0  1|0  1|0  1|0  1|0  0|0  \n...      ...  ...  ...  ...  ...  ...  ...  \nNA21137  0|0  0|0  0|0  0|0  0|0  0|0  0|0  \nNA21141  1|0  1|0  0|0  0|0  1|0  0|0  0|0  \nNA21142  0|1  0|0  0|1  0|1  0|1  0|1  0|0  \nNA21143  1|1  0|0  1|1  1|1  1|1  1|1  0|0  \nNA21144  1|1  1|1  0|0  0|0  1|1  0|0  0|0  \n\n[2504 rows x 7161 columns]",
      "text/html": "<div>\n<style scoped>\n    .dataframe tbody tr th:only-of-type {\n        vertical-align: middle;\n    }\n\n    .dataframe tbody tr th {\n        vertical-align: top;\n    }\n\n    .dataframe thead th {\n        text-align: right;\n    }\n</style>\n<table border=\"1\" class=\"dataframe\">\n  <thead>\n    <tr style=\"text-align: right;\">\n      <th></th>\n      <th>0</th>\n      <th>1</th>\n      <th>2</th>\n      <th>3</th>\n      <th>4</th>\n      <th>5</th>\n      <th>6</th>\n      <th>7</th>\n      <th>8</th>\n      <th>9</th>\n      <th>...</th>\n      <th>7151</th>\n      <th>7152</th>\n      <th>7153</th>\n      <th>7154</th>\n      <th>7155</th>\n      <th>7156</th>\n      <th>7157</th>\n      <th>7158</th>\n      <th>7159</th>\n      <th>7160</th>\n    </tr>\n  </thead>\n  <tbody>\n    <tr>\n      <th>HG00096</th>\n      <td>0|0</td>\n      <td>0|0</td>\n      <td>0|0</td>\n      <td>0|0</td>\n      <td>0|0</td>\n      <td>0|0</td>\n      <td>0|0</td>\n      <td>0|0</td>\n      <td>0|0</td>\n      <td>0|0</td>\n      <td>...</td>\n      <td>0|0</td>\n      <td>0|0</td>\n      <td>0|0</td>\n      <td>0|0</td>\n      <td>0|0</td>\n      <td>0|0</td>\n      <td>0|0</td>\n      <td>0|0</td>\n      <td>0|0</td>\n      <td>0|0</td>\n    </tr>\n    <tr>\n      <th>HG00097</th>\n      <td>0|0</td>\n      <td>1|0</td>\n      <td>1|0</td>\n      <td>0|0</td>\n      <td>1|0</td>\n      <td>0|0</td>\n      <td>0|0</td>\n      <td>0|0</td>\n      <td>0|0</td>\n      <td>1|0</td>\n      <td>...</td>\n      <td>0|1</td>\n      <td>0|1</td>\n      <td>0|1</td>\n      <td>0|1</td>\n      <td>0|0</td>\n      <td>0|1</td>\n      <td>0|1</td>\n      <td>0|1</td>\n      <td>0|1</td>\n      <td>0|0</td>\n    </tr>\n    <tr>\n      <th>HG00099</th>\n      <td>0|0</td>\n      <td>0|1</td>\n      <td>0|0</td>\n      <td>0|0</td>\n      <td>0|0</td>\n      <td>0|0</td>\n      <td>0|0</td>\n      <td>0|0</td>\n      <td>0|0</td>\n      <td>0|0</td>\n      <td>...</td>\n      <td>1|1</td>\n      <td>1|1</td>\n      <td>1|1</td>\n      <td>1|1</td>\n      <td>0|0</td>\n      <td>1|1</td>\n      <td>1|1</td>\n      <td>1|1</td>\n      <td>1|1</td>\n      <td>0|0</td>\n    </tr>\n    <tr>\n      <th>HG00100</th>\n      <td>0|0</td>\n      <td>0|1</td>\n      <td>0|1</td>\n      <td>0|0</td>\n      <td>0|1</td>\n      <td>0|0</td>\n      <td>0|0</td>\n      <td>0|0</td>\n      <td>0|0</td>\n      <td>0|1</td>\n      <td>...</td>\n      <td>0|1</td>\n      <td>0|1</td>\n      <td>0|1</td>\n      <td>0|1</td>\n      <td>0|0</td>\n      <td>0|1</td>\n      <td>0|1</td>\n      <td>0|1</td>\n      <td>0|1</td>\n      <td>0|0</td>\n    </tr>\n    <tr>\n      <th>HG00101</th>\n      <td>0|0</td>\n      <td>1|1</td>\n      <td>1|0</td>\n      <td>0|0</td>\n      <td>1|0</td>\n      <td>0|0</td>\n      <td>0|0</td>\n      <td>0|0</td>\n      <td>0|0</td>\n      <td>1|0</td>\n      <td>...</td>\n      <td>1|0</td>\n      <td>1|0</td>\n      <td>1|0</td>\n      <td>1|0</td>\n      <td>0|0</td>\n      <td>1|0</td>\n      <td>1|0</td>\n      <td>1|0</td>\n      <td>1|0</td>\n      <td>0|0</td>\n    </tr>\n    <tr>\n      <th>...</th>\n      <td>...</td>\n      <td>...</td>\n      <td>...</td>\n      <td>...</td>\n      <td>...</td>\n      <td>...</td>\n      <td>...</td>\n      <td>...</td>\n      <td>...</td>\n      <td>...</td>\n      <td>...</td>\n      <td>...</td>\n      <td>...</td>\n      <td>...</td>\n      <td>...</td>\n      <td>...</td>\n      <td>...</td>\n      <td>...</td>\n      <td>...</td>\n      <td>...</td>\n      <td>...</td>\n    </tr>\n    <tr>\n      <th>NA21137</th>\n      <td>0|0</td>\n      <td>0|0</td>\n      <td>0|0</td>\n      <td>0|0</td>\n      <td>0|0</td>\n      <td>0|0</td>\n      <td>0|0</td>\n      <td>0|0</td>\n      <td>0|0</td>\n      <td>0|0</td>\n      <td>...</td>\n      <td>0|0</td>\n      <td>0|0</td>\n      <td>0|0</td>\n      <td>0|0</td>\n      <td>0|0</td>\n      <td>0|0</td>\n      <td>0|0</td>\n      <td>0|0</td>\n      <td>0|0</td>\n      <td>0|0</td>\n    </tr>\n    <tr>\n      <th>NA21141</th>\n      <td>0|0</td>\n      <td>1|1</td>\n      <td>1|1</td>\n      <td>0|0</td>\n      <td>1|1</td>\n      <td>0|0</td>\n      <td>0|0</td>\n      <td>0|0</td>\n      <td>0|0</td>\n      <td>1|1</td>\n      <td>...</td>\n      <td>1|0</td>\n      <td>1|0</td>\n      <td>0|0</td>\n      <td>1|0</td>\n      <td>1|0</td>\n      <td>0|0</td>\n      <td>0|0</td>\n      <td>1|0</td>\n      <td>0|0</td>\n      <td>0|0</td>\n    </tr>\n    <tr>\n      <th>NA21142</th>\n      <td>0|0</td>\n      <td>1|1</td>\n      <td>0|1</td>\n      <td>0|0</td>\n      <td>0|1</td>\n      <td>0|0</td>\n      <td>0|0</td>\n      <td>0|0</td>\n      <td>0|0</td>\n      <td>0|1</td>\n      <td>...</td>\n      <td>0|1</td>\n      <td>0|1</td>\n      <td>0|1</td>\n      <td>0|1</td>\n      <td>0|0</td>\n      <td>0|1</td>\n      <td>0|1</td>\n      <td>0|1</td>\n      <td>0|1</td>\n      <td>0|0</td>\n    </tr>\n    <tr>\n      <th>NA21143</th>\n      <td>0|0</td>\n      <td>1|0</td>\n      <td>0|0</td>\n      <td>0|0</td>\n      <td>0|0</td>\n      <td>0|0</td>\n      <td>0|0</td>\n      <td>0|0</td>\n      <td>0|0</td>\n      <td>0|0</td>\n      <td>...</td>\n      <td>1|1</td>\n      <td>1|1</td>\n      <td>1|1</td>\n      <td>1|1</td>\n      <td>0|0</td>\n      <td>1|1</td>\n      <td>1|1</td>\n      <td>1|1</td>\n      <td>1|1</td>\n      <td>0|0</td>\n    </tr>\n    <tr>\n      <th>NA21144</th>\n      <td>0|0</td>\n      <td>1|0</td>\n      <td>0|0</td>\n      <td>0|0</td>\n      <td>0|0</td>\n      <td>0|0</td>\n      <td>0|0</td>\n      <td>0|0</td>\n      <td>0|0</td>\n      <td>0|0</td>\n      <td>...</td>\n      <td>1|1</td>\n      <td>1|1</td>\n      <td>0|0</td>\n      <td>1|1</td>\n      <td>1|1</td>\n      <td>0|0</td>\n      <td>0|0</td>\n      <td>1|1</td>\n      <td>0|0</td>\n      <td>0|0</td>\n    </tr>\n  </tbody>\n</table>\n<p>2504 rows × 7161 columns</p>\n</div>"
     },
     "execution_count": 13,
     "metadata": {},
     "output_type": "execute_result"
    }
   ],
   "source": [
    "# load data\n",
    "root_dir = './data/'\n",
    "new_data_header = \"\"\n",
    "# get header\n",
    "with open(root_dir + \"HLA.recode.vcf\", 'r') as f_in:\n",
    "    # skip info\n",
    "    for line_num in range(252):\n",
    "        f_in.readline()\n",
    "\n",
    "    new_data_header = f_in.readline()\n",
    "# load data\n",
    "\n",
    "# load genotype\n",
    "genotypes = pd.read_csv(root_dir + \"HLA.recode.vcf\",\n",
    "                        comment='#', sep='\\t',\n",
    "                        names=new_data_header.strip().split('\\t'),\n",
    "                        header=None).iloc[:, 9:].T\n",
    "\n",
    "headers = genotypes.columns[:]\n",
    "genotypes"
   ],
   "metadata": {
    "collapsed": false,
    "pycharm": {
     "name": "#%%\n"
    }
   }
  },
  {
   "cell_type": "code",
   "execution_count": 14,
   "outputs": [
    {
     "data": {
      "text/plain": "              Family ID Paternal ID Maternal ID  Gender  Phenotype Population  \\\nIndividual ID                                                                   \nHG00096         HG00096           0           0       1          0        GBR   \nHG00097         HG00097           0           0       2          0        GBR   \nHG00098         HG00098           0           0       1          0        GBR   \nHG00099         HG00099           0           0       2          0        GBR   \nHG00100         HG00100           0           0       2          0        GBR   \n\n              Relationship Siblings Second Order Third Order Children  \\\nIndividual ID                                                           \nHG00096              unrel        0            0           0        0   \nHG00097              unrel        0            0           0        0   \nHG00098              unrel        0            0           0        0   \nHG00099              unrel        0            0           0        0   \nHG00100              unrel        0            0           0        0   \n\n              Other Comments  \nIndividual ID                 \nHG00096                    0  \nHG00097                    0  \nHG00098                    0  \nHG00099                    0  \nHG00100                    0  ",
      "text/html": "<div>\n<style scoped>\n    .dataframe tbody tr th:only-of-type {\n        vertical-align: middle;\n    }\n\n    .dataframe tbody tr th {\n        vertical-align: top;\n    }\n\n    .dataframe thead th {\n        text-align: right;\n    }\n</style>\n<table border=\"1\" class=\"dataframe\">\n  <thead>\n    <tr style=\"text-align: right;\">\n      <th></th>\n      <th>Family ID</th>\n      <th>Paternal ID</th>\n      <th>Maternal ID</th>\n      <th>Gender</th>\n      <th>Phenotype</th>\n      <th>Population</th>\n      <th>Relationship</th>\n      <th>Siblings</th>\n      <th>Second Order</th>\n      <th>Third Order</th>\n      <th>Children</th>\n      <th>Other Comments</th>\n    </tr>\n    <tr>\n      <th>Individual ID</th>\n      <th></th>\n      <th></th>\n      <th></th>\n      <th></th>\n      <th></th>\n      <th></th>\n      <th></th>\n      <th></th>\n      <th></th>\n      <th></th>\n      <th></th>\n      <th></th>\n    </tr>\n  </thead>\n  <tbody>\n    <tr>\n      <th>HG00096</th>\n      <td>HG00096</td>\n      <td>0</td>\n      <td>0</td>\n      <td>1</td>\n      <td>0</td>\n      <td>GBR</td>\n      <td>unrel</td>\n      <td>0</td>\n      <td>0</td>\n      <td>0</td>\n      <td>0</td>\n      <td>0</td>\n    </tr>\n    <tr>\n      <th>HG00097</th>\n      <td>HG00097</td>\n      <td>0</td>\n      <td>0</td>\n      <td>2</td>\n      <td>0</td>\n      <td>GBR</td>\n      <td>unrel</td>\n      <td>0</td>\n      <td>0</td>\n      <td>0</td>\n      <td>0</td>\n      <td>0</td>\n    </tr>\n    <tr>\n      <th>HG00098</th>\n      <td>HG00098</td>\n      <td>0</td>\n      <td>0</td>\n      <td>1</td>\n      <td>0</td>\n      <td>GBR</td>\n      <td>unrel</td>\n      <td>0</td>\n      <td>0</td>\n      <td>0</td>\n      <td>0</td>\n      <td>0</td>\n    </tr>\n    <tr>\n      <th>HG00099</th>\n      <td>HG00099</td>\n      <td>0</td>\n      <td>0</td>\n      <td>2</td>\n      <td>0</td>\n      <td>GBR</td>\n      <td>unrel</td>\n      <td>0</td>\n      <td>0</td>\n      <td>0</td>\n      <td>0</td>\n      <td>0</td>\n    </tr>\n    <tr>\n      <th>HG00100</th>\n      <td>HG00100</td>\n      <td>0</td>\n      <td>0</td>\n      <td>2</td>\n      <td>0</td>\n      <td>GBR</td>\n      <td>unrel</td>\n      <td>0</td>\n      <td>0</td>\n      <td>0</td>\n      <td>0</td>\n      <td>0</td>\n    </tr>\n  </tbody>\n</table>\n</div>"
     },
     "execution_count": 14,
     "metadata": {},
     "output_type": "execute_result"
    }
   ],
   "source": [
    "ped_file = 'integrated_call_samples.20130502.ALL.ped'\n",
    "pedigree = pd.read_csv(root_dir+ped_file, sep='\\t', index_col='Individual ID')\n",
    "pedigree.head()"
   ],
   "metadata": {
    "collapsed": false,
    "pycharm": {
     "name": "#%%\n"
    }
   }
  },
  {
   "cell_type": "code",
   "execution_count": 15,
   "outputs": [
    {
     "data": {
      "text/plain": "(2504, 7161)"
     },
     "execution_count": 15,
     "metadata": {},
     "output_type": "execute_result"
    }
   ],
   "source": [
    "Y_train = pedigree.loc[genotypes.index]['Population']\n",
    "X = genotypes[genotypes.index.isin(Y_train.index)]\n",
    "X = X.replace({\n",
    "    '0|0': 0,\n",
    "    '0|1': 1,\n",
    "    '1|0': 2,\n",
    "    '1|1': 3\n",
    "})\n",
    "X.shape"
   ],
   "metadata": {
    "collapsed": false,
    "pycharm": {
     "name": "#%%\n"
    }
   }
  },
  {
   "cell_type": "code",
   "execution_count": 16,
   "outputs": [
    {
     "data": {
      "text/plain": "(array([1763., 1946., 1297.,  917., 1238.]),\n array([0. , 0.1, 0.2, 0.3, 0.4, 0.5]),\n <BarContainer object of 5 artists>)"
     },
     "execution_count": 16,
     "metadata": {},
     "output_type": "execute_result"
    },
    {
     "data": {
      "text/plain": "<Figure size 432x288 with 1 Axes>",
      "image/png": "[encoded data removed]"
     },
     "metadata": {},
     "output_type": "display_data"
    }
   ],
   "source": [
    "def freq_mapper(g):\n",
    "  return 0 if g == 0 else 1 if g==1 or g==2 else 2\n",
    "\n",
    "def maf_mapper(g):\n",
    "  return min(g, 1-g)\n",
    "\n",
    "_X = X.applymap(freq_mapper)\n",
    "_X = _X.sum(axis=0)/(2*X.shape[0])\n",
    "mafs = _X.map(maf_mapper)\n",
    "plt.hist(mafs, bins=[0, 0.1, 0.2, 0.3, 0.4, 0.5])"
   ],
   "metadata": {
    "collapsed": false,
    "pycharm": {
     "name": "#%%\n"
    }
   }
  },
  {
   "cell_type": "code",
   "execution_count": 17,
   "outputs": [
    {
     "data": {
      "text/plain": "(array([1, 2, 3, 4, 5], dtype=int64),\n array([1763, 1946, 1297,  917, 1238], dtype=int64))"
     },
     "execution_count": 17,
     "metadata": {},
     "output_type": "execute_result"
    }
   ],
   "source": [
    "bin_labels = np.digitize(mafs, bins=[0, 0.1, 0.2, 0.3, 0.4, 0.5], right=True)\n",
    "bin_general_labels, bin_counts = np.unique(bin_labels, return_counts=True)\n",
    "bin_general_labels, bin_counts"
   ],
   "metadata": {
    "collapsed": false,
    "pycharm": {
     "name": "#%%\n"
    }
   }
  },
  {
   "cell_type": "code",
   "execution_count": 21,
   "outputs": [
    {
     "name": "stdout",
     "output_type": "stream",
     "text": [
      "Fold: 1\n",
      "Missing rate: 0.01\n"
     ]
    },
    {
     "name": "stderr",
     "output_type": "stream",
     "text": [
      "100%|██████████| 835/835 [00:02<00:00, 300.55it/s]\n"
     ]
    },
    {
     "name": "stdout",
     "output_type": "stream",
     "text": [
      "Missing rate: 0.05\n"
     ]
    },
    {
     "name": "stderr",
     "output_type": "stream",
     "text": [
      "100%|██████████| 835/835 [00:07<00:00, 107.19it/s]\n"
     ]
    },
    {
     "name": "stdout",
     "output_type": "stream",
     "text": [
      "Missing rate: 0.1\n"
     ]
    },
    {
     "name": "stderr",
     "output_type": "stream",
     "text": [
      "100%|██████████| 835/835 [00:14<00:00, 58.91it/s] \n"
     ]
    },
    {
     "name": "stdout",
     "output_type": "stream",
     "text": [
      "Missing rate: 0.2\n"
     ]
    },
    {
     "name": "stderr",
     "output_type": "stream",
     "text": [
      "100%|██████████| 835/835 [00:25<00:00, 32.77it/s]\n"
     ]
    },
    {
     "name": "stdout",
     "output_type": "stream",
     "text": [
      "Fold: 2\n",
      "Missing rate: 0.01\n"
     ]
    },
    {
     "name": "stderr",
     "output_type": "stream",
     "text": [
      "100%|██████████| 835/835 [00:02<00:00, 321.45it/s]\n"
     ]
    },
    {
     "name": "stdout",
     "output_type": "stream",
     "text": [
      "Missing rate: 0.05\n"
     ]
    },
    {
     "name": "stderr",
     "output_type": "stream",
     "text": [
      "100%|██████████| 835/835 [00:07<00:00, 109.92it/s]\n"
     ]
    },
    {
     "name": "stdout",
     "output_type": "stream",
     "text": [
      "Missing rate: 0.1\n"
     ]
    },
    {
     "name": "stderr",
     "output_type": "stream",
     "text": [
      "100%|██████████| 835/835 [00:13<00:00, 61.30it/s]\n"
     ]
    },
    {
     "name": "stdout",
     "output_type": "stream",
     "text": [
      "Missing rate: 0.2\n"
     ]
    },
    {
     "name": "stderr",
     "output_type": "stream",
     "text": [
      "100%|██████████| 835/835 [00:25<00:00, 32.73it/s]\n"
     ]
    },
    {
     "name": "stdout",
     "output_type": "stream",
     "text": [
      "Fold: 3\n",
      "Missing rate: 0.01\n"
     ]
    },
    {
     "name": "stderr",
     "output_type": "stream",
     "text": [
      "100%|██████████| 834/834 [00:02<00:00, 303.08it/s]\n"
     ]
    },
    {
     "name": "stdout",
     "output_type": "stream",
     "text": [
      "Missing rate: 0.05\n"
     ]
    },
    {
     "name": "stderr",
     "output_type": "stream",
     "text": [
      "100%|██████████| 834/834 [00:07<00:00, 109.02it/s]\n"
     ]
    },
    {
     "name": "stdout",
     "output_type": "stream",
     "text": [
      "Missing rate: 0.1\n"
     ]
    },
    {
     "name": "stderr",
     "output_type": "stream",
     "text": [
      "100%|██████████| 834/834 [00:13<00:00, 60.81it/s] \n"
     ]
    },
    {
     "name": "stdout",
     "output_type": "stream",
     "text": [
      "Missing rate: 0.2\n"
     ]
    },
    {
     "name": "stderr",
     "output_type": "stream",
     "text": [
      "100%|██████████| 834/834 [00:25<00:00, 33.11it/s]\n"
     ]
    },
    {
     "name": "stdout",
     "output_type": "stream",
     "text": [
      "Combining the results...\n"
     ]
    },
    {
     "name": "stderr",
     "output_type": "stream",
     "text": [
      "12it [00:00, 12.09it/s]\n"
     ]
    },
    {
     "data": {
      "text/plain": "        Fold MissingRate                MAF Accuracy Sample ID\n0          1        0.01  0.4 <= MAF <= 0.5        1   NA21144\n1          1        0.01     0 <= MAF < 0.1        1   NA21144\n2          1        0.01   0.1 <= MAF < 0.2        1   NA21144\n3          1        0.01  0.4 <= MAF <= 0.5        1   NA21144\n4          1        0.01  0.4 <= MAF <= 0.5        1   NA21144\n...      ...         ...                ...      ...       ...\n6452803    3         0.2   0.3 <= MAF < 0.4        1   HG00097\n6452804    3         0.2     0 <= MAF < 0.1        1   HG00097\n6452805    3         0.2   0.3 <= MAF < 0.4        1   HG00097\n6452806    3         0.2  0.4 <= MAF <= 0.5        1   HG00097\n6452807    3         0.2     0 <= MAF < 0.1        1   HG00097\n\n[6452808 rows x 5 columns]",
      "text/html": "<div>\n<style scoped>\n    .dataframe tbody tr th:only-of-type {\n        vertical-align: middle;\n    }\n\n    .dataframe tbody tr th {\n        vertical-align: top;\n    }\n\n    .dataframe thead th {\n        text-align: right;\n    }\n</style>\n<table border=\"1\" class=\"dataframe\">\n  <thead>\n    <tr style=\"text-align: right;\">\n      <th></th>\n      <th>Fold</th>\n      <th>MissingRate</th>\n      <th>MAF</th>\n      <th>Accuracy</th>\n      <th>Sample ID</th>\n    </tr>\n  </thead>\n  <tbody>\n    <tr>\n      <th>0</th>\n      <td>1</td>\n      <td>0.01</td>\n      <td>0.4 &lt;= MAF &lt;= 0.5</td>\n      <td>1</td>\n      <td>NA21144</td>\n    </tr>\n    <tr>\n      <th>1</th>\n      <td>1</td>\n      <td>0.01</td>\n      <td>0 &lt;= MAF &lt; 0.1</td>\n      <td>1</td>\n      <td>NA21144</td>\n    </tr>\n    <tr>\n      <th>2</th>\n      <td>1</td>\n      <td>0.01</td>\n      <td>0.1 &lt;= MAF &lt; 0.2</td>\n      <td>1</td>\n      <td>NA21144</td>\n    </tr>\n    <tr>\n      <th>3</th>\n      <td>1</td>\n      <td>0.01</td>\n      <td>0.4 &lt;= MAF &lt;= 0.5</td>\n      <td>1</td>\n      <td>NA21144</td>\n    </tr>\n    <tr>\n      <th>4</th>\n      <td>1</td>\n      <td>0.01</td>\n      <td>0.4 &lt;= MAF &lt;= 0.5</td>\n      <td>1</td>\n      <td>NA21144</td>\n    </tr>\n    <tr>\n      <th>...</th>\n      <td>...</td>\n      <td>...</td>\n      <td>...</td>\n      <td>...</td>\n      <td>...</td>\n    </tr>\n    <tr>\n      <th>6452803</th>\n      <td>3</td>\n      <td>0.2</td>\n      <td>0.3 &lt;= MAF &lt; 0.4</td>\n      <td>1</td>\n      <td>HG00097</td>\n    </tr>\n    <tr>\n      <th>6452804</th>\n      <td>3</td>\n      <td>0.2</td>\n      <td>0 &lt;= MAF &lt; 0.1</td>\n      <td>1</td>\n      <td>HG00097</td>\n    </tr>\n    <tr>\n      <th>6452805</th>\n      <td>3</td>\n      <td>0.2</td>\n      <td>0.3 &lt;= MAF &lt; 0.4</td>\n      <td>1</td>\n      <td>HG00097</td>\n    </tr>\n    <tr>\n      <th>6452806</th>\n      <td>3</td>\n      <td>0.2</td>\n      <td>0.4 &lt;= MAF &lt;= 0.5</td>\n      <td>1</td>\n      <td>HG00097</td>\n    </tr>\n    <tr>\n      <th>6452807</th>\n      <td>3</td>\n      <td>0.2</td>\n      <td>0 &lt;= MAF &lt; 0.1</td>\n      <td>1</td>\n      <td>HG00097</td>\n    </tr>\n  </tbody>\n</table>\n<p>6452808 rows × 5 columns</p>\n</div>"
     },
     "execution_count": 21,
     "metadata": {},
     "output_type": "execute_result"
    }
   ],
   "source": [
    "columns = [\"Fold\", \"MissingRate\", \"MAF\", \"Accuracy\", \"Sample ID\"]\n",
    "dfs = []\n",
    "\n",
    "N_SPLITS=3\n",
    "kf = KFold(n_splits=N_SPLITS, shuffle=True, random_state=2022)\n",
    "fold = 0\n",
    "_x = X[X.index.isin(Y_train.index)].to_numpy()\n",
    "for train_index, test_index in kf.split(_x):\n",
    "  fold += 1\n",
    "  print(f\"Fold: {fold}\")\n",
    "  y = _x[test_index]\n",
    "  for missing_perc in [0.01,\n",
    "                       0.05,\n",
    "                       0.1,\n",
    "                       0.2]:\n",
    "    dataframe = pd.DataFrame(columns = columns)\n",
    "    print(f\"Missing rate: {missing_perc}\")\n",
    "    file_name = f\"./experimental_results/hla/maf/Minimac4/preds_mr_{missing_perc}_rs_{fold}_.csv\"\n",
    "    result_genotypes = pd.read_csv(file_name, index_col=0)\n",
    "    result_genotypes = result_genotypes.replace({\n",
    "        '0|0': 0,\n",
    "        '0|1': 1,\n",
    "        '1|0': 2,\n",
    "        '1|1': 3\n",
    "    })\n",
    "    yhat = result_genotypes.to_numpy()\n",
    "    assert y.shape == yhat.shape\n",
    "    for i in tqdm(list(range(y.shape[0]))):\n",
    "        missing_index, _ = train_test_split(np.arange(y.shape[1]), train_size=missing_perc,\n",
    "                                            random_state=i + fold,\n",
    "                                            shuffle=True,\n",
    "                                            stratify=bin_labels\n",
    "                                            )\n",
    "        # for mi in missing_index:\n",
    "        #     maf_bin_label = maf_bin_labels[mi]\n",
    "        #     df.loc[-1] = [fold, missing_perc, maf_bin_label, int(yhat[i, mi]==y[i, mi])]\n",
    "        #     df.index += 1\n",
    "        a = np.reshape(bin_labels[missing_index], (-1, 1))\n",
    "        b = np.array([fold for _ in missing_index]).reshape((-1, 1))\n",
    "        c = np.array([missing_perc for _ in missing_index]).reshape((-1, 1))\n",
    "        d = (yhat[i, missing_index]==y[i, missing_index]).astype(int).reshape((-1, 1))\n",
    "        e = np.array([X.index[test_index][i] for _ in missing_index]).astype(object).reshape((-1, 1))\n",
    "        dataframe = pd.concat([pd.DataFrame(np.concatenate([b,c,a,d,e], axis=1), columns=dataframe.columns), dataframe], ignore_index=True)\n",
    "    dfs.append(dataframe)\n",
    "\n",
    "print(\"Combining the results...\")\n",
    "df = pd.concat(dfs, ignore_index=True)\n",
    "del dfs\n",
    "\n",
    "df[\"MAF\"] = df[\"MAF\"].replace({\n",
    "    1.0: '0 <= MAF < 0.1',\n",
    "    2.0: '0.1 <= MAF < 0.2',\n",
    "    3.0: '0.2 <= MAF < 0.3',\n",
    "    4.0: '0.3 <= MAF < 0.4',\n",
    "    5.0: '0.4 <= MAF <= 0.5',\n",
    "})\n",
    "df"
   ],
   "metadata": {
    "collapsed": false,
    "pycharm": {
     "name": "#%%\n"
    }
   }
  },
  {
   "cell_type": "code",
   "execution_count": 22,
   "outputs": [],
   "source": [
    "df.to_csv(\"results_in_table/hla/maf/maf_minimac4.csv\")"
   ],
   "metadata": {
    "collapsed": false,
    "pycharm": {
     "name": "#%%\n"
    }
   }
  },
  {
   "cell_type": "code",
   "execution_count": 28,
   "outputs": [
    {
     "data": {
      "text/plain": "                  Accuracy\nFold MissingRate          \n1    0.01         0.993641\n     0.05         0.993514\n     0.10         0.993340\n     0.20         0.993031\n2    0.01         0.993219\n     0.05         0.993363\n     0.10         0.993017\n     0.20         0.992757\n3    0.01         0.993566\n     0.05         0.993479\n     0.10         0.993306\n     0.20         0.993149",
      "text/html": "<div>\n<style scoped>\n    .dataframe tbody tr th:only-of-type {\n        vertical-align: middle;\n    }\n\n    .dataframe tbody tr th {\n        vertical-align: top;\n    }\n\n    .dataframe thead th {\n        text-align: right;\n    }\n</style>\n<table border=\"1\" class=\"dataframe\">\n  <thead>\n    <tr style=\"text-align: right;\">\n      <th></th>\n      <th></th>\n      <th>Accuracy</th>\n    </tr>\n    <tr>\n      <th>Fold</th>\n      <th>MissingRate</th>\n      <th></th>\n    </tr>\n  </thead>\n  <tbody>\n    <tr>\n      <th rowspan=\"4\" valign=\"top\">1</th>\n      <th>0.01</th>\n      <td>0.993641</td>\n    </tr>\n    <tr>\n      <th>0.05</th>\n      <td>0.993514</td>\n    </tr>\n    <tr>\n      <th>0.10</th>\n      <td>0.993340</td>\n    </tr>\n    <tr>\n      <th>0.20</th>\n      <td>0.993031</td>\n    </tr>\n    <tr>\n      <th rowspan=\"4\" valign=\"top\">2</th>\n      <th>0.01</th>\n      <td>0.993219</td>\n    </tr>\n    <tr>\n      <th>0.05</th>\n      <td>0.993363</td>\n    </tr>\n    <tr>\n      <th>0.10</th>\n      <td>0.993017</td>\n    </tr>\n    <tr>\n      <th>0.20</th>\n      <td>0.992757</td>\n    </tr>\n    <tr>\n      <th rowspan=\"4\" valign=\"top\">3</th>\n      <th>0.01</th>\n      <td>0.993566</td>\n    </tr>\n    <tr>\n      <th>0.05</th>\n      <td>0.993479</td>\n    </tr>\n    <tr>\n      <th>0.10</th>\n      <td>0.993306</td>\n    </tr>\n    <tr>\n      <th>0.20</th>\n      <td>0.993149</td>\n    </tr>\n  </tbody>\n</table>\n</div>"
     },
     "execution_count": 28,
     "metadata": {},
     "output_type": "execute_result"
    }
   ],
   "source": [
    "df1 = df.groupby([\"Fold\", \"MissingRate\", \"Sample ID\"]).agg( {\"Accuracy\":\"mean\"}).reset_index()\n",
    "df1 = df1.groupby([\"Fold\", \"MissingRate\"]).agg( {\"Accuracy\":\"mean\"})\n",
    "df1"
   ],
   "metadata": {
    "collapsed": false,
    "pycharm": {
     "name": "#%%\n"
    }
   }
  },
  {
   "cell_type": "code",
   "execution_count": 29,
   "outputs": [
    {
     "data": {
      "text/plain": "             Accuracy          \n                 mean       std\nMissingRate                    \n0.01         0.993475  0.000225\n0.05         0.993452  0.000079\n0.10         0.993221  0.000178\n0.20         0.992979  0.000201",
      "text/html": "<div>\n<style scoped>\n    .dataframe tbody tr th:only-of-type {\n        vertical-align: middle;\n    }\n\n    .dataframe tbody tr th {\n        vertical-align: top;\n    }\n\n    .dataframe thead tr th {\n        text-align: left;\n    }\n\n    .dataframe thead tr:last-of-type th {\n        text-align: right;\n    }\n</style>\n<table border=\"1\" class=\"dataframe\">\n  <thead>\n    <tr>\n      <th></th>\n      <th colspan=\"2\" halign=\"left\">Accuracy</th>\n    </tr>\n    <tr>\n      <th></th>\n      <th>mean</th>\n      <th>std</th>\n    </tr>\n    <tr>\n      <th>MissingRate</th>\n      <th></th>\n      <th></th>\n    </tr>\n  </thead>\n  <tbody>\n    <tr>\n      <th>0.01</th>\n      <td>0.993475</td>\n      <td>0.000225</td>\n    </tr>\n    <tr>\n      <th>0.05</th>\n      <td>0.993452</td>\n      <td>0.000079</td>\n    </tr>\n    <tr>\n      <th>0.10</th>\n      <td>0.993221</td>\n      <td>0.000178</td>\n    </tr>\n    <tr>\n      <th>0.20</th>\n      <td>0.992979</td>\n      <td>0.000201</td>\n    </tr>\n  </tbody>\n</table>\n</div>"
     },
     "execution_count": 29,
     "metadata": {},
     "output_type": "execute_result"
    }
   ],
   "source": [
    "df1 = df.groupby([\"Fold\", \"MissingRate\", \"Sample ID\"]).agg( {\"Accuracy\":\"mean\"}).reset_index()\n",
    "df1 = df1.groupby([\"Fold\", \"MissingRate\"]).agg( {\"Accuracy\":\"mean\"}).reset_index()# df1.columns = df1.columns.droplevel(0)\n",
    "df1 = df1.groupby([\"MissingRate\"]).agg( {\"Accuracy\":[\"mean\", \"std\"]})#.reset_index()\n",
    "df1"
   ],
   "metadata": {
    "collapsed": false,
    "pycharm": {
     "name": "#%%\n"
    }
   }
  },
  {
   "cell_type": "code",
   "execution_count": 27,
   "outputs": [
    {
     "data": {
      "text/plain": "                               Accuracy          \n                                   mean       std\nMissingRate MAF                                  \n0.01        0 <= MAF < 0.1     0.996273  0.060939\n            0.1 <= MAF < 0.2   0.994976  0.070699\n            0.2 <= MAF < 0.3   0.991951  0.089354\n            0.3 <= MAF < 0.4   0.986289  0.116293\n            0.4 <= MAF <= 0.5  0.993943  0.077592\n0.05        0 <= MAF < 0.1     0.996261  0.061037\n            0.1 <= MAF < 0.2   0.995187  0.069208\n            0.2 <= MAF < 0.3   0.991620  0.091161\n            0.3 <= MAF < 0.4   0.987342  0.111794\n            0.4 <= MAF <= 0.5  0.993204  0.082155\n0.10        0 <= MAF < 0.1     0.996136  0.062043\n            0.1 <= MAF < 0.2   0.994969  0.070752\n            0.2 <= MAF < 0.3   0.991030  0.094286\n            0.3 <= MAF < 0.4   0.987524  0.110996\n            0.4 <= MAF <= 0.5  0.992873  0.084122\n0.20        0 <= MAF < 0.1     0.996035  0.062846\n            0.1 <= MAF < 0.2   0.994776  0.072085\n            0.2 <= MAF < 0.3   0.990805  0.095446\n            0.3 <= MAF < 0.4   0.986919  0.113621\n            0.4 <= MAF <= 0.5  0.992551  0.085988",
      "text/html": "<div>\n<style scoped>\n    .dataframe tbody tr th:only-of-type {\n        vertical-align: middle;\n    }\n\n    .dataframe tbody tr th {\n        vertical-align: top;\n    }\n\n    .dataframe thead tr th {\n        text-align: left;\n    }\n\n    .dataframe thead tr:last-of-type th {\n        text-align: right;\n    }\n</style>\n<table border=\"1\" class=\"dataframe\">\n  <thead>\n    <tr>\n      <th></th>\n      <th></th>\n      <th colspan=\"2\" halign=\"left\">Accuracy</th>\n    </tr>\n    <tr>\n      <th></th>\n      <th></th>\n      <th>mean</th>\n      <th>std</th>\n    </tr>\n    <tr>\n      <th>MissingRate</th>\n      <th>MAF</th>\n      <th></th>\n      <th></th>\n    </tr>\n  </thead>\n  <tbody>\n    <tr>\n      <th rowspan=\"5\" valign=\"top\">0.01</th>\n      <th>0 &lt;= MAF &lt; 0.1</th>\n      <td>0.996273</td>\n      <td>0.060939</td>\n    </tr>\n    <tr>\n      <th>0.1 &lt;= MAF &lt; 0.2</th>\n      <td>0.994976</td>\n      <td>0.070699</td>\n    </tr>\n    <tr>\n      <th>0.2 &lt;= MAF &lt; 0.3</th>\n      <td>0.991951</td>\n      <td>0.089354</td>\n    </tr>\n    <tr>\n      <th>0.3 &lt;= MAF &lt; 0.4</th>\n      <td>0.986289</td>\n      <td>0.116293</td>\n    </tr>\n    <tr>\n      <th>0.4 &lt;= MAF &lt;= 0.5</th>\n      <td>0.993943</td>\n      <td>0.077592</td>\n    </tr>\n    <tr>\n      <th rowspan=\"5\" valign=\"top\">0.05</th>\n      <th>0 &lt;= MAF &lt; 0.1</th>\n      <td>0.996261</td>\n      <td>0.061037</td>\n    </tr>\n    <tr>\n      <th>0.1 &lt;= MAF &lt; 0.2</th>\n      <td>0.995187</td>\n      <td>0.069208</td>\n    </tr>\n    <tr>\n      <th>0.2 &lt;= MAF &lt; 0.3</th>\n      <td>0.991620</td>\n      <td>0.091161</td>\n    </tr>\n    <tr>\n      <th>0.3 &lt;= MAF &lt; 0.4</th>\n      <td>0.987342</td>\n      <td>0.111794</td>\n    </tr>\n    <tr>\n      <th>0.4 &lt;= MAF &lt;= 0.5</th>\n      <td>0.993204</td>\n      <td>0.082155</td>\n    </tr>\n    <tr>\n      <th rowspan=\"5\" valign=\"top\">0.10</th>\n      <th>0 &lt;= MAF &lt; 0.1</th>\n      <td>0.996136</td>\n      <td>0.062043</td>\n    </tr>\n    <tr>\n      <th>0.1 &lt;= MAF &lt; 0.2</th>\n      <td>0.994969</td>\n      <td>0.070752</td>\n    </tr>\n    <tr>\n      <th>0.2 &lt;= MAF &lt; 0.3</th>\n      <td>0.991030</td>\n      <td>0.094286</td>\n    </tr>\n    <tr>\n      <th>0.3 &lt;= MAF &lt; 0.4</th>\n      <td>0.987524</td>\n      <td>0.110996</td>\n    </tr>\n    <tr>\n      <th>0.4 &lt;= MAF &lt;= 0.5</th>\n      <td>0.992873</td>\n      <td>0.084122</td>\n    </tr>\n    <tr>\n      <th rowspan=\"5\" valign=\"top\">0.20</th>\n      <th>0 &lt;= MAF &lt; 0.1</th>\n      <td>0.996035</td>\n      <td>0.062846</td>\n    </tr>\n    <tr>\n      <th>0.1 &lt;= MAF &lt; 0.2</th>\n      <td>0.994776</td>\n      <td>0.072085</td>\n    </tr>\n    <tr>\n      <th>0.2 &lt;= MAF &lt; 0.3</th>\n      <td>0.990805</td>\n      <td>0.095446</td>\n    </tr>\n    <tr>\n      <th>0.3 &lt;= MAF &lt; 0.4</th>\n      <td>0.986919</td>\n      <td>0.113621</td>\n    </tr>\n    <tr>\n      <th>0.4 &lt;= MAF &lt;= 0.5</th>\n      <td>0.992551</td>\n      <td>0.085988</td>\n    </tr>\n  </tbody>\n</table>\n</div>"
     },
     "execution_count": 27,
     "metadata": {},
     "output_type": "execute_result"
    }
   ],
   "source": [
    "df1 = df.groupby([\"Fold\", \"MissingRate\", \"Sample ID\"]).agg( {\"Accuracy\":\"mean\"}).reset_index()\n",
    "df1 = df1.groupby([\"Fold\", \"MissingRate\"]).agg( {\"Accuracy\":\"mean\"}).reset_index()# df1.columns = df1.columns.droplevel(0)\n",
    "df1 = df1.groupby([\"MissingRate\"]).agg( {\"Accuracy\":[\"mean\", \"std\"]})#.reset_index()\n",
    "df1"
   ],
   "metadata": {
    "collapsed": false,
    "pycharm": {
     "name": "#%%\n"
    }
   }
  },
  {
   "cell_type": "code",
   "execution_count": null,
   "outputs": [],
   "source": [],
   "metadata": {
    "collapsed": false,
    "pycharm": {
     "name": "#%%\n"
    }
   }
  }
 ],
 "metadata": {
  "kernelspec": {
   "display_name": "Python 3",
   "language": "python",
   "name": "python3"
  },
  "language_info": {
   "codemirror_mode": {
    "name": "ipython",
    "version": 2
   },
   "file_extension": ".py",
   "mimetype": "text/x-python",
   "name": "python",
   "nbconvert_exporter": "python",
   "pygments_lexer": "ipython2",
   "version": "2.7.6"
  }
 },
 "nbformat": 4,
 "nbformat_minor": 0
}