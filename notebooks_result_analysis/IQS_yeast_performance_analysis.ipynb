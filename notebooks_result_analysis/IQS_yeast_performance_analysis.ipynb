{
 "cells": [
  {
   "cell_type": "code",
   "execution_count": 10,
   "metadata": {
    "collapsed": true
   },
   "outputs": [],
   "source": [
    "import os\n",
    "import numpy as np\n",
    "import pandas as pd\n",
    "import ast\n",
    "import math\n",
    "import re\n",
    "import itertools\n",
    "import random\n",
    "import json\n",
    "import matplotlib\n",
    "from matplotlib.pyplot import plot as plt\n",
    "from pylab import *\n",
    "mpl.use(\"pgf\")\n",
    "# activate latex text rendering\n",
    "rc('text', usetex=True)\n",
    "rc('axes', linewidth=2)\n",
    "rc('font', weight='bold')\n",
    "mpl.rcParams.update({\n",
    "    \"pgf.texsystem\": \"pdflatex\",\n",
    "    'font.family': 'serif',\n",
    "    'text.usetex': True,\n",
    "    'pgf.rcfonts': False,\n",
    "    'text.latex.preamble':r'\\usepackage{sfmath} \\boldmath'\n",
    "})\n",
    "%matplotlib inline\n",
    "import seaborn as sns\n",
    "sns.set_theme(style=\"whitegrid\")\n",
    "from sklearn.model_selection import KFold,StratifiedKFold\n",
    "from sklearn.model_selection import train_test_split\n",
    "from tqdm import tqdm\n",
    "# sns.set_theme(style=\"ticks\")\n"
   ]
  },
  {
   "cell_type": "code",
   "execution_count": 11,
   "outputs": [
    {
     "data": {
      "text/plain": "       33070_chrI_33070_A_T  33147_chrI_33147_G_T  33152_chrI_33152_T_C  \\\nSAMID                                                                     \n01_01                     1                     1                     1   \n01_02                     1                     1                     1   \n01_03                     0                     0                     0   \n01_04                     1                     1                     1   \n01_06                     0                     0                     0   \n\n       33200_chrI_33200_C_T  33293_chrI_33293_A_T  33328_chrI_33328_C_A  \\\nSAMID                                                                     \n01_01                     1                     1                     1   \n01_02                     1                     1                     1   \n01_03                     0                     0                     0   \n01_04                     1                     1                     1   \n01_06                     0                     0                     0   \n\n       33348_chrI_33348_G_C  33403_chrI_33403_C_T  33502_chrI_33502_A_G  \\\nSAMID                                                                     \n01_01                     1                     1                     1   \n01_02                     1                     1                     1   \n01_03                     0                     0                     0   \n01_04                     1                     1                     1   \n01_06                     0                     0                     0   \n\n       33548_chrI_33548_A_C  ...  12048853_chrXVI_925593_G_C  \\\nSAMID                        ...                               \n01_01                     1  ...                           0   \n01_02                     1  ...                           0   \n01_03                     0  ...                           1   \n01_04                     1  ...                           1   \n01_06                     0  ...                           0   \n\n       12049199_chrXVI_925939_T_C  12049441_chrXVI_926181_C_T  \\\nSAMID                                                           \n01_01                           0                           0   \n01_02                           0                           0   \n01_03                           1                           1   \n01_04                           1                           1   \n01_06                           0                           0   \n\n       12050613_chrXVI_927353_T_G  12051167_chrXVI_927907_A_C  \\\nSAMID                                                           \n01_01                           0                           0   \n01_02                           0                           0   \n01_03                           1                           1   \n01_04                           1                           1   \n01_06                           0                           0   \n\n       12051240_chrXVI_927980_A_G  12051367_chrXVI_928107_C_T  \\\nSAMID                                                           \n01_01                           0                           0   \n01_02                           0                           0   \n01_03                           1                           1   \n01_04                           1                           1   \n01_06                           0                           0   \n\n       12052782_chrXVI_929522_C_T  12052988_chrXVI_929728_A_G  \\\nSAMID                                                           \n01_01                           0                           0   \n01_02                           0                           0   \n01_03                           1                           1   \n01_04                           1                           1   \n01_06                           0                           0   \n\n       12053130_chrXVI_929870_C_T  \nSAMID                              \n01_01                           0  \n01_02                           0  \n01_03                           1  \n01_04                           1  \n01_06                           0  \n\n[5 rows x 28220 columns]",
      "text/html": "<div>\n<style scoped>\n    .dataframe tbody tr th:only-of-type {\n        vertical-align: middle;\n    }\n\n    .dataframe tbody tr th {\n        vertical-align: top;\n    }\n\n    .dataframe thead th {\n        text-align: right;\n    }\n</style>\n<table border=\"1\" class=\"dataframe\">\n  <thead>\n    <tr style=\"text-align: right;\">\n      <th></th>\n      <th>33070_chrI_33070_A_T</th>\n      <th>33147_chrI_33147_G_T</th>\n      <th>33152_chrI_33152_T_C</th>\n      <th>33200_chrI_33200_C_T</th>\n      <th>33293_chrI_33293_A_T</th>\n      <th>33328_chrI_33328_C_A</th>\n      <th>33348_chrI_33348_G_C</th>\n      <th>33403_chrI_33403_C_T</th>\n      <th>33502_chrI_33502_A_G</th>\n      <th>33548_chrI_33548_A_C</th>\n      <th>...</th>\n      <th>12048853_chrXVI_925593_G_C</th>\n      <th>12049199_chrXVI_925939_T_C</th>\n      <th>12049441_chrXVI_926181_C_T</th>\n      <th>12050613_chrXVI_927353_T_G</th>\n      <th>12051167_chrXVI_927907_A_C</th>\n      <th>12051240_chrXVI_927980_A_G</th>\n      <th>12051367_chrXVI_928107_C_T</th>\n      <th>12052782_chrXVI_929522_C_T</th>\n      <th>12052988_chrXVI_929728_A_G</th>\n      <th>12053130_chrXVI_929870_C_T</th>\n    </tr>\n    <tr>\n      <th>SAMID</th>\n      <th></th>\n      <th></th>\n      <th></th>\n      <th></th>\n      <th></th>\n      <th></th>\n      <th></th>\n      <th></th>\n      <th></th>\n      <th></th>\n      <th></th>\n      <th></th>\n      <th></th>\n      <th></th>\n      <th></th>\n      <th></th>\n      <th></th>\n      <th></th>\n      <th></th>\n      <th></th>\n      <th></th>\n    </tr>\n  </thead>\n  <tbody>\n    <tr>\n      <th>01_01</th>\n      <td>1</td>\n      <td>1</td>\n      <td>1</td>\n      <td>1</td>\n      <td>1</td>\n      <td>1</td>\n      <td>1</td>\n      <td>1</td>\n      <td>1</td>\n      <td>1</td>\n      <td>...</td>\n      <td>0</td>\n      <td>0</td>\n      <td>0</td>\n      <td>0</td>\n      <td>0</td>\n      <td>0</td>\n      <td>0</td>\n      <td>0</td>\n      <td>0</td>\n      <td>0</td>\n    </tr>\n    <tr>\n      <th>01_02</th>\n      <td>1</td>\n      <td>1</td>\n      <td>1</td>\n      <td>1</td>\n      <td>1</td>\n      <td>1</td>\n      <td>1</td>\n      <td>1</td>\n      <td>1</td>\n      <td>1</td>\n      <td>...</td>\n      <td>0</td>\n      <td>0</td>\n      <td>0</td>\n      <td>0</td>\n      <td>0</td>\n      <td>0</td>\n      <td>0</td>\n      <td>0</td>\n      <td>0</td>\n      <td>0</td>\n    </tr>\n    <tr>\n      <th>01_03</th>\n      <td>0</td>\n      <td>0</td>\n      <td>0</td>\n      <td>0</td>\n      <td>0</td>\n      <td>0</td>\n      <td>0</td>\n      <td>0</td>\n      <td>0</td>\n      <td>0</td>\n      <td>...</td>\n      <td>1</td>\n      <td>1</td>\n      <td>1</td>\n      <td>1</td>\n      <td>1</td>\n      <td>1</td>\n      <td>1</td>\n      <td>1</td>\n      <td>1</td>\n      <td>1</td>\n    </tr>\n    <tr>\n      <th>01_04</th>\n      <td>1</td>\n      <td>1</td>\n      <td>1</td>\n      <td>1</td>\n      <td>1</td>\n      <td>1</td>\n      <td>1</td>\n      <td>1</td>\n      <td>1</td>\n      <td>1</td>\n      <td>...</td>\n      <td>1</td>\n      <td>1</td>\n      <td>1</td>\n      <td>1</td>\n      <td>1</td>\n      <td>1</td>\n      <td>1</td>\n      <td>1</td>\n      <td>1</td>\n      <td>1</td>\n    </tr>\n    <tr>\n      <th>01_06</th>\n      <td>0</td>\n      <td>0</td>\n      <td>0</td>\n      <td>0</td>\n      <td>0</td>\n      <td>0</td>\n      <td>0</td>\n      <td>0</td>\n      <td>0</td>\n      <td>0</td>\n      <td>...</td>\n      <td>0</td>\n      <td>0</td>\n      <td>0</td>\n      <td>0</td>\n      <td>0</td>\n      <td>0</td>\n      <td>0</td>\n      <td>0</td>\n      <td>0</td>\n      <td>0</td>\n    </tr>\n  </tbody>\n</table>\n<p>5 rows × 28220 columns</p>\n</div>"
     },
     "execution_count": 11,
     "metadata": {},
     "output_type": "execute_result"
    }
   ],
   "source": [
    "# load data\n",
    "root_dir = './data/'\n",
    "# load data\n",
    "\n",
    "# load genotype\n",
    "genotypes = pd.read_csv(root_dir+ 'genotype_full.txt',\n",
    "                        sep='\\t',\n",
    "                        index_col=0)\n",
    "genotypes[genotypes == -1] = 0\n",
    "headers = genotypes.columns[:]\n",
    "genotypes.head()\n"
   ],
   "metadata": {
    "collapsed": false,
    "pycharm": {
     "name": "#%%\n"
    }
   }
  },
  {
   "cell_type": "code",
   "execution_count": 12,
   "outputs": [],
   "source": [
    "def iqs_score(data_imp, data_obs):\n",
    "    #predict_onehot = SCDA.predict(test_X_missing[:, :, :])\n",
    "\n",
    "    print('data_imp:', data_imp.shape)\n",
    "\n",
    "    # data_imp: rows (snps); cols (samples)\n",
    "    data_imp_012 = data_imp.transpose(1, 0)\n",
    "\n",
    "    # data_imp_012 = data_imp - 1\n",
    "\n",
    "\n",
    "    print('data_imp_012:', data_imp_012.shape)\n",
    "\n",
    "    snp_cnt = data_imp_012.shape[0]\n",
    "    sample_cnt = data_imp_012.shape[1]\n",
    "    print('snp_cnt:', snp_cnt)\n",
    "    print('sample_cnt:', sample_cnt)\n",
    "\n",
    "    data_obs_012 = data_obs.transpose(1, 0)\n",
    "    print('data_obs_012:', data_obs_012.shape)\n",
    "\n",
    "    # data_obs_012 = data_obs - 1\n",
    "\n",
    "\n",
    "    iqs = [0 for x in range(snp_cnt)]\n",
    "\n",
    "\n",
    "    for i in tqdm(range(snp_cnt)):\n",
    "        iqs_cnt = [[0 for x in range(3)] for y in range(3)]\n",
    "\n",
    "        for j in range(sample_cnt):\n",
    "            if(data_obs_012[i][j]==0) and (data_imp_012[i][j]==0):\n",
    "                iqs_cnt[0][0] = iqs_cnt[0][0] + 1\n",
    "            elif(data_obs_012[i][j]==1) and (data_imp_012[i][j]==0):\n",
    "                iqs_cnt[0][1] = iqs_cnt[0][1] + 1\n",
    "            elif(data_obs_012[i][j]==2) and (data_imp_012[i][j]==0):\n",
    "                iqs_cnt[0][2] = iqs_cnt[0][2] + 1\n",
    "\n",
    "            elif(data_obs_012[i][j]==0) and (data_imp_012[i][j]==1):\n",
    "                iqs_cnt[1][0] = iqs_cnt[1][0] + 1\n",
    "            elif(data_obs_012[i][j]==1) and (data_imp_012[i][j]==1):\n",
    "                iqs_cnt[1][1] = iqs_cnt[1][1] + 1\n",
    "            elif(data_obs_012[i][j]==2) and (data_imp_012[i][j]==1):\n",
    "                iqs_cnt[1][2] = iqs_cnt[1][2] + 1\n",
    "\n",
    "            elif(data_obs_012[i][j]==0) and (data_imp_012[i][j]==2):\n",
    "                iqs_cnt[2][0] = iqs_cnt[2][0] + 1\n",
    "            elif(data_obs_012[i][j]==1) and (data_imp_012[i][j]==2):\n",
    "                iqs_cnt[2][1] = iqs_cnt[2][1] + 1\n",
    "            elif(data_obs_012[i][j]==2) and (data_imp_012[i][j]==2):\n",
    "                iqs_cnt[2][2] = iqs_cnt[2][2] + 1\n",
    "\n",
    "        po = (iqs_cnt[0][0] + iqs_cnt[1][1]+ iqs_cnt[2][2])/sample_cnt\n",
    "\n",
    "        pc_rows_0 = iqs_cnt[0][0] + iqs_cnt[0][1]+ iqs_cnt[0][2]\n",
    "        pc_rows_1 = iqs_cnt[1][0] + iqs_cnt[1][1]+ iqs_cnt[1][2]\n",
    "        pc_rows_2 = iqs_cnt[2][0] + iqs_cnt[2][1]+ iqs_cnt[2][2]\n",
    "\n",
    "        pc_cols_0 = iqs_cnt[0][0] + iqs_cnt[1][0]+ iqs_cnt[2][0]\n",
    "        pc_cols_1 = iqs_cnt[0][1] + iqs_cnt[1][1]+ iqs_cnt[2][1]\n",
    "        pc_cols_2 = iqs_cnt[0][2] + iqs_cnt[1][2]+ iqs_cnt[2][2]\n",
    "\n",
    "        pc = (pc_rows_0*pc_cols_0 + pc_rows_1*pc_cols_1 + pc_rows_2*pc_cols_2)/(sample_cnt**2)\n",
    "\n",
    "\n",
    "        if pc == 1:\n",
    "            iqs[i] = 1\n",
    "        else:\n",
    "            iqs[i] = (po - pc)/(1 - pc)\n",
    "\n",
    "\n",
    "    print('iqs mean:', np.mean(iqs))\n",
    "    return iqs, np.mean(iqs)"
   ],
   "metadata": {
    "collapsed": false,
    "pycharm": {
     "name": "#%%\n"
    }
   }
  },
  {
   "cell_type": "code",
   "execution_count": 13,
   "outputs": [],
   "source": [
    "columns = [\"Fold\", \"Missing Rate\", \"IQS\", \"Method\"]\n",
    "dfs = []\n",
    "N_SPLITS=3"
   ],
   "metadata": {
    "collapsed": false,
    "pycharm": {
     "name": "#%%\n"
    }
   }
  },
  {
   "cell_type": "code",
   "execution_count": 14,
   "outputs": [
    {
     "name": "stdout",
     "output_type": "stream",
     "text": [
      "Fold: 1\n",
      "Missing rate: 0.01\n",
      "data_imp: (1464, 28220)\n",
      "data_imp_012: (28220, 1464)\n",
      "snp_cnt: 28220\n",
      "sample_cnt: 1464\n",
      "data_obs_012: (28220, 1464)\n"
     ]
    },
    {
     "name": "stderr",
     "output_type": "stream",
     "text": [
      "100%|██████████| 28220/28220 [00:52<00:00, 534.36it/s]\n"
     ]
    },
    {
     "name": "stdout",
     "output_type": "stream",
     "text": [
      "iqs mean: 0.9998297743737391\n",
      "Missing rate: 0.05\n",
      "data_imp: (1464, 28220)\n",
      "data_imp_012: (28220, 1464)\n",
      "snp_cnt: 28220\n",
      "sample_cnt: 1464\n",
      "data_obs_012: (28220, 1464)\n"
     ]
    },
    {
     "name": "stderr",
     "output_type": "stream",
     "text": [
      "100%|██████████| 28220/28220 [00:50<00:00, 562.18it/s]\n"
     ]
    },
    {
     "name": "stdout",
     "output_type": "stream",
     "text": [
      "iqs mean: 0.9996911397501229\n",
      "Missing rate: 0.1\n",
      "data_imp: (1464, 28220)\n",
      "data_imp_012: (28220, 1464)\n",
      "snp_cnt: 28220\n",
      "sample_cnt: 1464\n",
      "data_obs_012: (28220, 1464)\n"
     ]
    },
    {
     "name": "stderr",
     "output_type": "stream",
     "text": [
      "100%|██████████| 28220/28220 [00:50<00:00, 560.98it/s]\n"
     ]
    },
    {
     "name": "stdout",
     "output_type": "stream",
     "text": [
      "iqs mean: 0.9995218297263782\n",
      "Missing rate: 0.2\n",
      "data_imp: (1464, 28220)\n",
      "data_imp_012: (28220, 1464)\n",
      "snp_cnt: 28220\n",
      "sample_cnt: 1464\n",
      "data_obs_012: (28220, 1464)\n"
     ]
    },
    {
     "name": "stderr",
     "output_type": "stream",
     "text": [
      "100%|██████████| 28220/28220 [00:50<00:00, 560.57it/s]\n"
     ]
    },
    {
     "name": "stdout",
     "output_type": "stream",
     "text": [
      "iqs mean: 0.9991786638425214\n",
      "Fold: 2\n",
      "Missing rate: 0.01\n",
      "data_imp: (1463, 28220)\n",
      "data_imp_012: (28220, 1463)\n",
      "snp_cnt: 28220\n",
      "sample_cnt: 1463\n",
      "data_obs_012: (28220, 1463)\n"
     ]
    },
    {
     "name": "stderr",
     "output_type": "stream",
     "text": [
      "100%|██████████| 28220/28220 [00:50<00:00, 555.15it/s]\n"
     ]
    },
    {
     "name": "stdout",
     "output_type": "stream",
     "text": [
      "iqs mean: 0.9998387238758168\n",
      "Missing rate: 0.05\n",
      "data_imp: (1463, 28220)\n",
      "data_imp_012: (28220, 1463)\n",
      "snp_cnt: 28220\n",
      "sample_cnt: 1463\n",
      "data_obs_012: (28220, 1463)\n"
     ]
    },
    {
     "name": "stderr",
     "output_type": "stream",
     "text": [
      "100%|██████████| 28220/28220 [00:52<00:00, 542.61it/s]\n"
     ]
    },
    {
     "name": "stdout",
     "output_type": "stream",
     "text": [
      "iqs mean: 0.9996967991155525\n",
      "Missing rate: 0.1\n",
      "data_imp: (1463, 28220)\n",
      "data_imp_012: (28220, 1463)\n",
      "snp_cnt: 28220\n",
      "sample_cnt: 1463\n",
      "data_obs_012: (28220, 1463)\n"
     ]
    },
    {
     "name": "stderr",
     "output_type": "stream",
     "text": [
      "100%|██████████| 28220/28220 [00:51<00:00, 547.41it/s]\n"
     ]
    },
    {
     "name": "stdout",
     "output_type": "stream",
     "text": [
      "iqs mean: 0.9995197886345294\n",
      "Missing rate: 0.2\n",
      "data_imp: (1463, 28220)\n",
      "data_imp_012: (28220, 1463)\n",
      "snp_cnt: 28220\n",
      "sample_cnt: 1463\n",
      "data_obs_012: (28220, 1463)\n"
     ]
    },
    {
     "name": "stderr",
     "output_type": "stream",
     "text": [
      "100%|██████████| 28220/28220 [00:50<00:00, 558.73it/s]\n"
     ]
    },
    {
     "name": "stdout",
     "output_type": "stream",
     "text": [
      "iqs mean: 0.9991782264304861\n",
      "Fold: 3\n",
      "Missing rate: 0.01\n",
      "data_imp: (1463, 28220)\n",
      "data_imp_012: (28220, 1463)\n",
      "snp_cnt: 28220\n",
      "sample_cnt: 1463\n",
      "data_obs_012: (28220, 1463)\n"
     ]
    },
    {
     "name": "stderr",
     "output_type": "stream",
     "text": [
      "100%|██████████| 28220/28220 [00:49<00:00, 566.64it/s]\n"
     ]
    },
    {
     "name": "stdout",
     "output_type": "stream",
     "text": [
      "iqs mean: 0.9998652437151124\n",
      "Missing rate: 0.05\n",
      "data_imp: (1463, 28220)\n",
      "data_imp_012: (28220, 1463)\n",
      "snp_cnt: 28220\n",
      "sample_cnt: 1463\n",
      "data_obs_012: (28220, 1463)\n"
     ]
    },
    {
     "name": "stderr",
     "output_type": "stream",
     "text": [
      "100%|██████████| 28220/28220 [00:49<00:00, 566.86it/s]\n"
     ]
    },
    {
     "name": "stdout",
     "output_type": "stream",
     "text": [
      "iqs mean: 0.9997211271665883\n",
      "Missing rate: 0.1\n",
      "data_imp: (1463, 28220)\n",
      "data_imp_012: (28220, 1463)\n",
      "snp_cnt: 28220\n",
      "sample_cnt: 1463\n",
      "data_obs_012: (28220, 1463)\n"
     ]
    },
    {
     "name": "stderr",
     "output_type": "stream",
     "text": [
      "100%|██████████| 28220/28220 [00:50<00:00, 555.92it/s]\n"
     ]
    },
    {
     "name": "stdout",
     "output_type": "stream",
     "text": [
      "iqs mean: 0.9995465173966629\n",
      "Missing rate: 0.2\n",
      "data_imp: (1463, 28220)\n",
      "data_imp_012: (28220, 1463)\n",
      "snp_cnt: 28220\n",
      "sample_cnt: 1463\n",
      "data_obs_012: (28220, 1463)\n"
     ]
    },
    {
     "name": "stderr",
     "output_type": "stream",
     "text": [
      "100%|██████████| 28220/28220 [00:49<00:00, 574.09it/s]"
     ]
    },
    {
     "name": "stdout",
     "output_type": "stream",
     "text": [
      "iqs mean: 0.9991951423896422\n"
     ]
    },
    {
     "name": "stderr",
     "output_type": "stream",
     "text": [
      "\n"
     ]
    }
   ],
   "source": [
    "kf = KFold(n_splits=N_SPLITS, shuffle=True, random_state=2022)\n",
    "fold = 0\n",
    "_x = genotypes.to_numpy()\n",
    "for train_index, test_index in kf.split(_x):\n",
    "  fold += 1\n",
    "  print(f\"Fold: {fold}\")\n",
    "  y = _x[test_index]\n",
    "  for missing_perc in [0.01,\n",
    "                       0.05,\n",
    "                       0.1,\n",
    "                       0.2]:\n",
    "    print(f\"Missing rate: {missing_perc}\")\n",
    "    file_name = f\"./experimental_results/yeast/HLA_DEEP/preds_mixed_mr_{missing_perc}_fold_{fold}_.csv\"\n",
    "    result_genotypes = pd.read_csv(file_name, index_col=0)\n",
    "    result_genotypes[result_genotypes == -1] = 0\n",
    "    yhat = result_genotypes.to_numpy()\n",
    "    assert y.shape == yhat.shape\n",
    "    iqs_a, iqs_mean_a = iqs_score(yhat, y)\n",
    "\n",
    "    # print('iqs_mean:', iqs_mean_a)\n",
    "    # print('iqs:', iqs_a)\n",
    "\n",
    "    dataframe = pd.DataFrame(np.array([fold, missing_perc, iqs_mean_a, \"HLA*DEEP\"]).reshape((1, -1)), columns=columns)\n",
    "    dfs.append(dataframe)"
   ],
   "metadata": {
    "collapsed": false,
    "pycharm": {
     "name": "#%%\n"
    }
   }
  },
  {
   "cell_type": "code",
   "execution_count": 15,
   "outputs": [
    {
     "name": "stdout",
     "output_type": "stream",
     "text": [
      "Fold: 1\n",
      "Missing rate: 0.01\n",
      "data_imp: (1464, 28220)\n",
      "data_imp_012: (28220, 1464)\n",
      "snp_cnt: 28220\n",
      "sample_cnt: 1464\n",
      "data_obs_012: (28220, 1464)\n"
     ]
    },
    {
     "name": "stderr",
     "output_type": "stream",
     "text": [
      "100%|██████████| 28220/28220 [00:49<00:00, 569.63it/s]\n"
     ]
    },
    {
     "name": "stdout",
     "output_type": "stream",
     "text": [
      "iqs mean: 0.9998946788676805\n",
      "Missing rate: 0.05\n",
      "data_imp: (1464, 28220)\n",
      "data_imp_012: (28220, 1464)\n",
      "snp_cnt: 28220\n",
      "sample_cnt: 1464\n",
      "data_obs_012: (28220, 1464)\n"
     ]
    },
    {
     "name": "stderr",
     "output_type": "stream",
     "text": [
      "100%|██████████| 28220/28220 [00:49<00:00, 569.97it/s]\n"
     ]
    },
    {
     "name": "stdout",
     "output_type": "stream",
     "text": [
      "iqs mean: 0.9997453219937419\n",
      "Missing rate: 0.1\n",
      "data_imp: (1464, 28220)\n",
      "data_imp_012: (28220, 1464)\n",
      "snp_cnt: 28220\n",
      "sample_cnt: 1464\n",
      "data_obs_012: (28220, 1464)\n"
     ]
    },
    {
     "name": "stderr",
     "output_type": "stream",
     "text": [
      "100%|██████████| 28220/28220 [00:49<00:00, 571.98it/s]\n"
     ]
    },
    {
     "name": "stdout",
     "output_type": "stream",
     "text": [
      "iqs mean: 0.9995612847448404\n",
      "Missing rate: 0.2\n",
      "data_imp: (1464, 28220)\n",
      "data_imp_012: (28220, 1464)\n",
      "snp_cnt: 28220\n",
      "sample_cnt: 1464\n",
      "data_obs_012: (28220, 1464)\n"
     ]
    },
    {
     "name": "stderr",
     "output_type": "stream",
     "text": [
      "100%|██████████| 28220/28220 [00:50<00:00, 564.34it/s]\n"
     ]
    },
    {
     "name": "stdout",
     "output_type": "stream",
     "text": [
      "iqs mean: 0.999210159001086\n",
      "Fold: 2\n",
      "Missing rate: 0.01\n",
      "data_imp: (1463, 28220)\n",
      "data_imp_012: (28220, 1463)\n",
      "snp_cnt: 28220\n",
      "sample_cnt: 1463\n",
      "data_obs_012: (28220, 1463)\n"
     ]
    },
    {
     "name": "stderr",
     "output_type": "stream",
     "text": [
      "100%|██████████| 28220/28220 [00:49<00:00, 567.86it/s]\n"
     ]
    },
    {
     "name": "stdout",
     "output_type": "stream",
     "text": [
      "iqs mean: 0.9998414787372322\n",
      "Missing rate: 0.05\n",
      "data_imp: (1463, 28220)\n",
      "data_imp_012: (28220, 1463)\n",
      "snp_cnt: 28220\n",
      "sample_cnt: 1463\n",
      "data_obs_012: (28220, 1463)\n"
     ]
    },
    {
     "name": "stderr",
     "output_type": "stream",
     "text": [
      "100%|██████████| 28220/28220 [00:49<00:00, 569.42it/s]\n"
     ]
    },
    {
     "name": "stdout",
     "output_type": "stream",
     "text": [
      "iqs mean: 0.9996991250538765\n",
      "Missing rate: 0.1\n",
      "data_imp: (1463, 28220)\n",
      "data_imp_012: (28220, 1463)\n",
      "snp_cnt: 28220\n",
      "sample_cnt: 1463\n",
      "data_obs_012: (28220, 1463)\n"
     ]
    },
    {
     "name": "stderr",
     "output_type": "stream",
     "text": [
      "100%|██████████| 28220/28220 [00:48<00:00, 583.29it/s]\n"
     ]
    },
    {
     "name": "stdout",
     "output_type": "stream",
     "text": [
      "iqs mean: 0.9995172716934343\n",
      "Missing rate: 0.2\n",
      "data_imp: (1463, 28220)\n",
      "data_imp_012: (28220, 1463)\n",
      "snp_cnt: 28220\n",
      "sample_cnt: 1463\n",
      "data_obs_012: (28220, 1463)\n"
     ]
    },
    {
     "name": "stderr",
     "output_type": "stream",
     "text": [
      "100%|██████████| 28220/28220 [00:49<00:00, 570.05it/s]\n"
     ]
    },
    {
     "name": "stdout",
     "output_type": "stream",
     "text": [
      "iqs mean: 0.9991710502793857\n",
      "Fold: 3\n",
      "Missing rate: 0.01\n",
      "data_imp: (1463, 28220)\n",
      "data_imp_012: (28220, 1463)\n",
      "snp_cnt: 28220\n",
      "sample_cnt: 1463\n",
      "data_obs_012: (28220, 1463)\n"
     ]
    },
    {
     "name": "stderr",
     "output_type": "stream",
     "text": [
      "100%|██████████| 28220/28220 [00:48<00:00, 582.39it/s]\n"
     ]
    },
    {
     "name": "stdout",
     "output_type": "stream",
     "text": [
      "iqs mean: 0.9998542693138176\n",
      "Missing rate: 0.05\n",
      "data_imp: (1463, 28220)\n",
      "data_imp_012: (28220, 1463)\n",
      "snp_cnt: 28220\n",
      "sample_cnt: 1463\n",
      "data_obs_012: (28220, 1463)\n"
     ]
    },
    {
     "name": "stderr",
     "output_type": "stream",
     "text": [
      "100%|██████████| 28220/28220 [00:49<00:00, 569.28it/s]\n"
     ]
    },
    {
     "name": "stdout",
     "output_type": "stream",
     "text": [
      "iqs mean: 0.9997114069059717\n",
      "Missing rate: 0.1\n",
      "data_imp: (1463, 28220)\n",
      "data_imp_012: (28220, 1463)\n",
      "snp_cnt: 28220\n",
      "sample_cnt: 1463\n",
      "data_obs_012: (28220, 1463)\n"
     ]
    },
    {
     "name": "stderr",
     "output_type": "stream",
     "text": [
      "100%|██████████| 28220/28220 [00:49<00:00, 575.16it/s]\n"
     ]
    },
    {
     "name": "stdout",
     "output_type": "stream",
     "text": [
      "iqs mean: 0.9995328630100891\n",
      "Missing rate: 0.2\n",
      "data_imp: (1463, 28220)\n",
      "data_imp_012: (28220, 1463)\n",
      "snp_cnt: 28220\n",
      "sample_cnt: 1463\n",
      "data_obs_012: (28220, 1463)\n"
     ]
    },
    {
     "name": "stderr",
     "output_type": "stream",
     "text": [
      "100%|██████████| 28220/28220 [00:49<00:00, 567.17it/s]"
     ]
    },
    {
     "name": "stdout",
     "output_type": "stream",
     "text": [
      "iqs mean: 0.9991727434975075\n"
     ]
    },
    {
     "name": "stderr",
     "output_type": "stream",
     "text": [
      "\n"
     ]
    }
   ],
   "source": [
    "kf = KFold(n_splits=N_SPLITS, shuffle=True, random_state=2022)\n",
    "fold = 0\n",
    "_x = genotypes.to_numpy()\n",
    "for train_index, test_index in kf.split(_x):\n",
    "  fold += 1\n",
    "  print(f\"Fold: {fold}\")\n",
    "  y = _x[test_index]\n",
    "  for missing_perc in [0.01,\n",
    "                       0.05,\n",
    "                       0.1,\n",
    "                       0.2]:\n",
    "    print(f\"Missing rate: {missing_perc}\")\n",
    "    file_name = f\"./experimental_results/yeast/SCDA/preds_mixed_mr_{missing_perc}_fold_{fold}_.csv\"\n",
    "    result_genotypes = pd.read_csv(file_name, index_col=0)\n",
    "    result_genotypes[result_genotypes == -1] = 0\n",
    "    yhat = result_genotypes.to_numpy()\n",
    "    assert y.shape == yhat.shape\n",
    "    iqs_a, iqs_mean_a = iqs_score(yhat, y)\n",
    "\n",
    "    # print('iqs_mean:', iqs_mean_a)\n",
    "    # print('iqs:', iqs_a)\n",
    "\n",
    "    dataframe = pd.DataFrame(np.array([fold, missing_perc, iqs_mean_a, \"SCDA\"]).reshape((1, -1)), columns=columns)\n",
    "    dfs.append(dataframe)"
   ],
   "metadata": {
    "collapsed": false,
    "pycharm": {
     "name": "#%%\n"
    }
   }
  },
  {
   "cell_type": "code",
   "execution_count": 16,
   "outputs": [
    {
     "name": "stdout",
     "output_type": "stream",
     "text": [
      "Fold: 1\n",
      "Missing rate: 0.01\n",
      "data_imp: (1464, 28220)\n",
      "data_imp_012: (28220, 1464)\n",
      "snp_cnt: 28220\n",
      "sample_cnt: 1464\n",
      "data_obs_012: (28220, 1464)\n"
     ]
    },
    {
     "name": "stderr",
     "output_type": "stream",
     "text": [
      "100%|██████████| 28220/28220 [00:47<00:00, 588.69it/s]\n"
     ]
    },
    {
     "name": "stdout",
     "output_type": "stream",
     "text": [
      "iqs mean: 0.9999541978598373\n",
      "Missing rate: 0.05\n",
      "data_imp: (1464, 28220)\n",
      "data_imp_012: (28220, 1464)\n",
      "snp_cnt: 28220\n",
      "sample_cnt: 1464\n",
      "data_obs_012: (28220, 1464)\n"
     ]
    },
    {
     "name": "stderr",
     "output_type": "stream",
     "text": [
      "100%|██████████| 28220/28220 [00:47<00:00, 591.14it/s]\n"
     ]
    },
    {
     "name": "stdout",
     "output_type": "stream",
     "text": [
      "iqs mean: 0.9998002911686824\n",
      "Missing rate: 0.1\n",
      "data_imp: (1464, 28220)\n",
      "data_imp_012: (28220, 1464)\n",
      "snp_cnt: 28220\n",
      "sample_cnt: 1464\n",
      "data_obs_012: (28220, 1464)\n"
     ]
    },
    {
     "name": "stderr",
     "output_type": "stream",
     "text": [
      "100%|██████████| 28220/28220 [00:47<00:00, 592.38it/s]\n"
     ]
    },
    {
     "name": "stdout",
     "output_type": "stream",
     "text": [
      "iqs mean: 0.9996109904730566\n",
      "Missing rate: 0.2\n",
      "data_imp: (1464, 28220)\n",
      "data_imp_012: (28220, 1464)\n",
      "snp_cnt: 28220\n",
      "sample_cnt: 1464\n",
      "data_obs_012: (28220, 1464)\n"
     ]
    },
    {
     "name": "stderr",
     "output_type": "stream",
     "text": [
      "100%|██████████| 28220/28220 [00:47<00:00, 591.52it/s]\n"
     ]
    },
    {
     "name": "stdout",
     "output_type": "stream",
     "text": [
      "iqs mean: 0.9992477428214512\n",
      "Fold: 2\n",
      "Missing rate: 0.01\n",
      "data_imp: (1463, 28220)\n",
      "data_imp_012: (28220, 1463)\n",
      "snp_cnt: 28220\n",
      "sample_cnt: 1463\n",
      "data_obs_012: (28220, 1463)\n"
     ]
    },
    {
     "name": "stderr",
     "output_type": "stream",
     "text": [
      "100%|██████████| 28220/28220 [00:48<00:00, 578.57it/s]\n"
     ]
    },
    {
     "name": "stdout",
     "output_type": "stream",
     "text": [
      "iqs mean: 0.9999277175551007\n",
      "Missing rate: 0.05\n",
      "data_imp: (1463, 28220)\n",
      "data_imp_012: (28220, 1463)\n",
      "snp_cnt: 28220\n",
      "sample_cnt: 1463\n",
      "data_obs_012: (28220, 1463)\n"
     ]
    },
    {
     "name": "stderr",
     "output_type": "stream",
     "text": [
      "100%|██████████| 28220/28220 [00:48<00:00, 586.21it/s]\n"
     ]
    },
    {
     "name": "stdout",
     "output_type": "stream",
     "text": [
      "iqs mean: 0.9997824558797147\n",
      "Missing rate: 0.1\n",
      "data_imp: (1463, 28220)\n",
      "data_imp_012: (28220, 1463)\n",
      "snp_cnt: 28220\n",
      "sample_cnt: 1463\n",
      "data_obs_012: (28220, 1463)\n"
     ]
    },
    {
     "name": "stderr",
     "output_type": "stream",
     "text": [
      "100%|██████████| 28220/28220 [00:47<00:00, 596.84it/s]\n"
     ]
    },
    {
     "name": "stdout",
     "output_type": "stream",
     "text": [
      "iqs mean: 0.9995890676631985\n",
      "Missing rate: 0.2\n",
      "data_imp: (1463, 28220)\n",
      "data_imp_012: (28220, 1463)\n",
      "snp_cnt: 28220\n",
      "sample_cnt: 1463\n",
      "data_obs_012: (28220, 1463)\n"
     ]
    },
    {
     "name": "stderr",
     "output_type": "stream",
     "text": [
      "100%|██████████| 28220/28220 [00:47<00:00, 593.20it/s]\n"
     ]
    },
    {
     "name": "stdout",
     "output_type": "stream",
     "text": [
      "iqs mean: 0.9992169598984915\n",
      "Fold: 3\n",
      "Missing rate: 0.01\n",
      "data_imp: (1463, 28220)\n",
      "data_imp_012: (28220, 1463)\n",
      "snp_cnt: 28220\n",
      "sample_cnt: 1463\n",
      "data_obs_012: (28220, 1463)\n"
     ]
    },
    {
     "name": "stderr",
     "output_type": "stream",
     "text": [
      "100%|██████████| 28220/28220 [00:47<00:00, 596.64it/s]\n"
     ]
    },
    {
     "name": "stdout",
     "output_type": "stream",
     "text": [
      "iqs mean: 0.9999378591912056\n",
      "Missing rate: 0.05\n",
      "data_imp: (1463, 28220)\n",
      "data_imp_012: (28220, 1463)\n",
      "snp_cnt: 28220\n",
      "sample_cnt: 1463\n",
      "data_obs_012: (28220, 1463)\n"
     ]
    },
    {
     "name": "stderr",
     "output_type": "stream",
     "text": [
      "100%|██████████| 28220/28220 [00:47<00:00, 590.50it/s]\n"
     ]
    },
    {
     "name": "stdout",
     "output_type": "stream",
     "text": [
      "iqs mean: 0.9997786186470409\n",
      "Missing rate: 0.1\n",
      "data_imp: (1463, 28220)\n",
      "data_imp_012: (28220, 1463)\n",
      "snp_cnt: 28220\n",
      "sample_cnt: 1463\n",
      "data_obs_012: (28220, 1463)\n"
     ]
    },
    {
     "name": "stderr",
     "output_type": "stream",
     "text": [
      "100%|██████████| 28220/28220 [00:48<00:00, 577.40it/s]\n"
     ]
    },
    {
     "name": "stdout",
     "output_type": "stream",
     "text": [
      "iqs mean: 0.9996027001618768\n",
      "Missing rate: 0.2\n",
      "data_imp: (1463, 28220)\n",
      "data_imp_012: (28220, 1463)\n",
      "snp_cnt: 28220\n",
      "sample_cnt: 1463\n",
      "data_obs_012: (28220, 1463)\n"
     ]
    },
    {
     "name": "stderr",
     "output_type": "stream",
     "text": [
      "100%|██████████| 28220/28220 [00:48<00:00, 587.65it/s]"
     ]
    },
    {
     "name": "stdout",
     "output_type": "stream",
     "text": [
      "iqs mean: 0.9992164750178015\n"
     ]
    },
    {
     "name": "stderr",
     "output_type": "stream",
     "text": [
      "\n"
     ]
    }
   ],
   "source": [
    "kf = KFold(n_splits=N_SPLITS, shuffle=True, random_state=2022)\n",
    "fold = 0\n",
    "_x = genotypes.to_numpy()\n",
    "for train_index, test_index in kf.split(_x):\n",
    "  fold += 1\n",
    "  print(f\"Fold: {fold}\")\n",
    "  y = _x[test_index]\n",
    "  for missing_perc in [0.01,\n",
    "                       0.05,\n",
    "                       0.1,\n",
    "                       0.2]:\n",
    "    print(f\"Missing rate: {missing_perc}\")\n",
    "    file_name = f\"./experimental_results/yeast/AE/preds_mixed_mr_{missing_perc}_fold_{fold}_.csv\"\n",
    "    result_genotypes = pd.read_csv(file_name, index_col=0)\n",
    "    result_genotypes[result_genotypes == -1] = 0\n",
    "    yhat = result_genotypes.to_numpy()\n",
    "    assert y.shape == yhat.shape\n",
    "    iqs_a, iqs_mean_a = iqs_score(yhat, y)\n",
    "\n",
    "    # print('iqs_mean:', iqs_mean_a)\n",
    "    # print('iqs:', iqs_a)\n",
    "\n",
    "    dataframe = pd.DataFrame(np.array([fold, missing_perc, iqs_mean_a, \"AE\"]).reshape((1, -1)), columns=columns)\n",
    "    dfs.append(dataframe)"
   ],
   "metadata": {
    "collapsed": false,
    "pycharm": {
     "name": "#%%\n"
    }
   }
  },
  {
   "cell_type": "code",
   "execution_count": 17,
   "outputs": [
    {
     "name": "stdout",
     "output_type": "stream",
     "text": [
      "Fold: 1\n",
      "Missing rate: 0.01\n",
      "data_imp: (1464, 28220)\n",
      "data_imp_012: (28220, 1464)\n",
      "snp_cnt: 28220\n",
      "sample_cnt: 1464\n",
      "data_obs_012: (28220, 1464)\n"
     ]
    },
    {
     "name": "stderr",
     "output_type": "stream",
     "text": [
      "100%|██████████| 28220/28220 [00:47<00:00, 597.54it/s]\n"
     ]
    },
    {
     "name": "stdout",
     "output_type": "stream",
     "text": [
      "iqs mean: 0.9997248754000115\n",
      "Missing rate: 0.05\n",
      "data_imp: (1464, 28220)\n",
      "data_imp_012: (28220, 1464)\n",
      "snp_cnt: 28220\n",
      "sample_cnt: 1464\n",
      "data_obs_012: (28220, 1464)\n"
     ]
    },
    {
     "name": "stderr",
     "output_type": "stream",
     "text": [
      "100%|██████████| 28220/28220 [00:47<00:00, 593.71it/s]\n"
     ]
    },
    {
     "name": "stdout",
     "output_type": "stream",
     "text": [
      "iqs mean: 0.999598453890404\n",
      "Missing rate: 0.1\n",
      "data_imp: (1464, 28220)\n",
      "data_imp_012: (28220, 1464)\n",
      "snp_cnt: 28220\n",
      "sample_cnt: 1464\n",
      "data_obs_012: (28220, 1464)\n"
     ]
    },
    {
     "name": "stderr",
     "output_type": "stream",
     "text": [
      "100%|██████████| 28220/28220 [00:47<00:00, 596.57it/s]\n"
     ]
    },
    {
     "name": "stdout",
     "output_type": "stream",
     "text": [
      "iqs mean: 0.9994409913197551\n",
      "Missing rate: 0.2\n",
      "data_imp: (1464, 28220)\n",
      "data_imp_012: (28220, 1464)\n",
      "snp_cnt: 28220\n",
      "sample_cnt: 1464\n",
      "data_obs_012: (28220, 1464)\n"
     ]
    },
    {
     "name": "stderr",
     "output_type": "stream",
     "text": [
      "100%|██████████| 28220/28220 [00:47<00:00, 596.75it/s]\n"
     ]
    },
    {
     "name": "stdout",
     "output_type": "stream",
     "text": [
      "iqs mean: 0.999132174418715\n",
      "Fold: 2\n",
      "Missing rate: 0.01\n",
      "data_imp: (1463, 28220)\n",
      "data_imp_012: (28220, 1463)\n",
      "snp_cnt: 28220\n",
      "sample_cnt: 1463\n",
      "data_obs_012: (28220, 1463)\n"
     ]
    },
    {
     "name": "stderr",
     "output_type": "stream",
     "text": [
      "100%|██████████| 28220/28220 [00:47<00:00, 595.20it/s]\n"
     ]
    },
    {
     "name": "stdout",
     "output_type": "stream",
     "text": [
      "iqs mean: 0.9997600895297347\n",
      "Missing rate: 0.05\n",
      "data_imp: (1463, 28220)\n",
      "data_imp_012: (28220, 1463)\n",
      "snp_cnt: 28220\n",
      "sample_cnt: 1463\n",
      "data_obs_012: (28220, 1463)\n"
     ]
    },
    {
     "name": "stderr",
     "output_type": "stream",
     "text": [
      "100%|██████████| 28220/28220 [00:47<00:00, 591.93it/s]\n"
     ]
    },
    {
     "name": "stdout",
     "output_type": "stream",
     "text": [
      "iqs mean: 0.9996180219463825\n",
      "Missing rate: 0.1\n",
      "data_imp: (1463, 28220)\n",
      "data_imp_012: (28220, 1463)\n",
      "snp_cnt: 28220\n",
      "sample_cnt: 1463\n",
      "data_obs_012: (28220, 1463)\n"
     ]
    },
    {
     "name": "stderr",
     "output_type": "stream",
     "text": [
      "100%|██████████| 28220/28220 [00:47<00:00, 598.28it/s]\n"
     ]
    },
    {
     "name": "stdout",
     "output_type": "stream",
     "text": [
      "iqs mean: 0.999434252446694\n",
      "Missing rate: 0.2\n",
      "data_imp: (1463, 28220)\n",
      "data_imp_012: (28220, 1463)\n",
      "snp_cnt: 28220\n",
      "sample_cnt: 1463\n",
      "data_obs_012: (28220, 1463)\n"
     ]
    },
    {
     "name": "stderr",
     "output_type": "stream",
     "text": [
      "100%|██████████| 28220/28220 [00:47<00:00, 590.42it/s]\n"
     ]
    },
    {
     "name": "stdout",
     "output_type": "stream",
     "text": [
      "iqs mean: 0.9990854037098065\n",
      "Fold: 3\n",
      "Missing rate: 0.01\n",
      "data_imp: (1463, 28220)\n",
      "data_imp_012: (28220, 1463)\n",
      "snp_cnt: 28220\n",
      "sample_cnt: 1463\n",
      "data_obs_012: (28220, 1463)\n"
     ]
    },
    {
     "name": "stderr",
     "output_type": "stream",
     "text": [
      "100%|██████████| 28220/28220 [00:47<00:00, 597.27it/s]\n"
     ]
    },
    {
     "name": "stdout",
     "output_type": "stream",
     "text": [
      "iqs mean: 0.9998095466846395\n",
      "Missing rate: 0.05\n",
      "data_imp: (1463, 28220)\n",
      "data_imp_012: (28220, 1463)\n",
      "snp_cnt: 28220\n",
      "sample_cnt: 1463\n",
      "data_obs_012: (28220, 1463)\n"
     ]
    },
    {
     "name": "stderr",
     "output_type": "stream",
     "text": [
      "100%|██████████| 28220/28220 [00:47<00:00, 599.83it/s]\n"
     ]
    },
    {
     "name": "stdout",
     "output_type": "stream",
     "text": [
      "iqs mean: 0.9996632523502983\n",
      "Missing rate: 0.1\n",
      "data_imp: (1463, 28220)\n",
      "data_imp_012: (28220, 1463)\n",
      "snp_cnt: 28220\n",
      "sample_cnt: 1463\n",
      "data_obs_012: (28220, 1463)\n"
     ]
    },
    {
     "name": "stderr",
     "output_type": "stream",
     "text": [
      "100%|██████████| 28220/28220 [00:46<00:00, 600.58it/s]\n"
     ]
    },
    {
     "name": "stdout",
     "output_type": "stream",
     "text": [
      "iqs mean: 0.9994866572863538\n",
      "Missing rate: 0.2\n",
      "data_imp: (1463, 28220)\n",
      "data_imp_012: (28220, 1463)\n",
      "snp_cnt: 28220\n",
      "sample_cnt: 1463\n",
      "data_obs_012: (28220, 1463)\n"
     ]
    },
    {
     "name": "stderr",
     "output_type": "stream",
     "text": [
      "100%|██████████| 28220/28220 [00:47<00:00, 598.52it/s]"
     ]
    },
    {
     "name": "stdout",
     "output_type": "stream",
     "text": [
      "iqs mean: 0.9991349475114798\n"
     ]
    },
    {
     "name": "stderr",
     "output_type": "stream",
     "text": [
      "\n"
     ]
    }
   ],
   "source": [
    "kf = KFold(n_splits=N_SPLITS, shuffle=True, random_state=2022)\n",
    "fold = 0\n",
    "_x = genotypes.to_numpy()\n",
    "for train_index, test_index in kf.split(_x):\n",
    "  fold += 1\n",
    "  print(f\"Fold: {fold}\")\n",
    "  y = _x[test_index]\n",
    "  for missing_perc in [0.01,\n",
    "                       0.05,\n",
    "                       0.1,\n",
    "                       0.2]:\n",
    "    print(f\"Missing rate: {missing_perc}\")\n",
    "    file_name = f\"./experimental_results/yeast/STI_wo_emb/preds_mixed_mr_{missing_perc}_fold_{fold}_.csv\"\n",
    "    result_genotypes = pd.read_csv(file_name, index_col=0)\n",
    "    result_genotypes[result_genotypes == -1] = 0\n",
    "    yhat = result_genotypes.to_numpy()\n",
    "    assert y.shape == yhat.shape\n",
    "    iqs_a, iqs_mean_a = iqs_score(yhat, y)\n",
    "\n",
    "    # print('iqs_mean:', iqs_mean_a)\n",
    "    # print('iqs:', iqs_a)\n",
    "\n",
    "    dataframe = pd.DataFrame(np.array([fold, missing_perc, iqs_mean_a, \"STI*WE\"]).reshape((1, -1)), columns=columns)\n",
    "    dfs.append(dataframe)"
   ],
   "metadata": {
    "collapsed": false,
    "pycharm": {
     "name": "#%%\n"
    }
   }
  },
  {
   "cell_type": "code",
   "execution_count": 18,
   "outputs": [
    {
     "name": "stdout",
     "output_type": "stream",
     "text": [
      "Fold: 1\n",
      "Missing rate: 0.01\n",
      "data_imp: (1464, 28220)\n",
      "data_imp_012: (28220, 1464)\n",
      "snp_cnt: 28220\n",
      "sample_cnt: 1464\n",
      "data_obs_012: (28220, 1464)\n"
     ]
    },
    {
     "name": "stderr",
     "output_type": "stream",
     "text": [
      "100%|██████████| 28220/28220 [00:47<00:00, 597.44it/s]\n"
     ]
    },
    {
     "name": "stdout",
     "output_type": "stream",
     "text": [
      "iqs mean: 0.9998838309481506\n",
      "Missing rate: 0.05\n",
      "data_imp: (1464, 28220)\n",
      "data_imp_012: (28220, 1464)\n",
      "snp_cnt: 28220\n",
      "sample_cnt: 1464\n",
      "data_obs_012: (28220, 1464)\n"
     ]
    },
    {
     "name": "stderr",
     "output_type": "stream",
     "text": [
      "100%|██████████| 28220/28220 [00:47<00:00, 598.39it/s]\n"
     ]
    },
    {
     "name": "stdout",
     "output_type": "stream",
     "text": [
      "iqs mean: 0.9997828835311254\n",
      "Missing rate: 0.1\n",
      "data_imp: (1464, 28220)\n",
      "data_imp_012: (28220, 1464)\n",
      "snp_cnt: 28220\n",
      "sample_cnt: 1464\n",
      "data_obs_012: (28220, 1464)\n"
     ]
    },
    {
     "name": "stderr",
     "output_type": "stream",
     "text": [
      "100%|██████████| 28220/28220 [00:47<00:00, 599.32it/s]\n"
     ]
    },
    {
     "name": "stdout",
     "output_type": "stream",
     "text": [
      "iqs mean: 0.999667690382948\n",
      "Missing rate: 0.2\n",
      "data_imp: (1464, 28220)\n",
      "data_imp_012: (28220, 1464)\n",
      "snp_cnt: 28220\n",
      "sample_cnt: 1464\n",
      "data_obs_012: (28220, 1464)\n"
     ]
    },
    {
     "name": "stderr",
     "output_type": "stream",
     "text": [
      "100%|██████████| 28220/28220 [00:47<00:00, 599.25it/s]\n"
     ]
    },
    {
     "name": "stdout",
     "output_type": "stream",
     "text": [
      "iqs mean: 0.9994294458563554\n",
      "Fold: 2\n",
      "Missing rate: 0.01\n",
      "data_imp: (1463, 28220)\n",
      "data_imp_012: (28220, 1463)\n",
      "snp_cnt: 28220\n",
      "sample_cnt: 1463\n",
      "data_obs_012: (28220, 1463)\n"
     ]
    },
    {
     "name": "stderr",
     "output_type": "stream",
     "text": [
      "100%|██████████| 28220/28220 [00:47<00:00, 598.13it/s]\n"
     ]
    },
    {
     "name": "stdout",
     "output_type": "stream",
     "text": [
      "iqs mean: 0.9998147284228881\n",
      "Missing rate: 0.05\n",
      "data_imp: (1463, 28220)\n",
      "data_imp_012: (28220, 1463)\n",
      "snp_cnt: 28220\n",
      "sample_cnt: 1463\n",
      "data_obs_012: (28220, 1463)\n"
     ]
    },
    {
     "name": "stderr",
     "output_type": "stream",
     "text": [
      "100%|██████████| 28220/28220 [00:47<00:00, 598.42it/s]\n"
     ]
    },
    {
     "name": "stdout",
     "output_type": "stream",
     "text": [
      "iqs mean: 0.999722828163956\n",
      "Missing rate: 0.1\n",
      "data_imp: (1463, 28220)\n",
      "data_imp_012: (28220, 1463)\n",
      "snp_cnt: 28220\n",
      "sample_cnt: 1463\n",
      "data_obs_012: (28220, 1463)\n"
     ]
    },
    {
     "name": "stderr",
     "output_type": "stream",
     "text": [
      "100%|██████████| 28220/28220 [00:47<00:00, 597.35it/s]\n"
     ]
    },
    {
     "name": "stdout",
     "output_type": "stream",
     "text": [
      "iqs mean: 0.9996091728808921\n",
      "Missing rate: 0.2\n",
      "data_imp: (1463, 28220)\n",
      "data_imp_012: (28220, 1463)\n",
      "snp_cnt: 28220\n",
      "sample_cnt: 1463\n",
      "data_obs_012: (28220, 1463)\n"
     ]
    },
    {
     "name": "stderr",
     "output_type": "stream",
     "text": [
      "100%|██████████| 28220/28220 [00:47<00:00, 598.62it/s]\n"
     ]
    },
    {
     "name": "stdout",
     "output_type": "stream",
     "text": [
      "iqs mean: 0.9993712455087284\n",
      "Fold: 3\n",
      "Missing rate: 0.01\n",
      "data_imp: (1463, 28220)\n",
      "data_imp_012: (28220, 1463)\n",
      "snp_cnt: 28220\n",
      "sample_cnt: 1463\n",
      "data_obs_012: (28220, 1463)\n"
     ]
    },
    {
     "name": "stderr",
     "output_type": "stream",
     "text": [
      "100%|██████████| 28220/28220 [00:47<00:00, 599.30it/s]\n"
     ]
    },
    {
     "name": "stdout",
     "output_type": "stream",
     "text": [
      "iqs mean: 0.9998432339330708\n",
      "Missing rate: 0.05\n",
      "data_imp: (1463, 28220)\n",
      "data_imp_012: (28220, 1463)\n",
      "snp_cnt: 28220\n",
      "sample_cnt: 1463\n",
      "data_obs_012: (28220, 1463)\n"
     ]
    },
    {
     "name": "stderr",
     "output_type": "stream",
     "text": [
      "100%|██████████| 28220/28220 [00:47<00:00, 599.35it/s]\n"
     ]
    },
    {
     "name": "stdout",
     "output_type": "stream",
     "text": [
      "iqs mean: 0.9997506587450659\n",
      "Missing rate: 0.1\n",
      "data_imp: (1463, 28220)\n",
      "data_imp_012: (28220, 1463)\n",
      "snp_cnt: 28220\n",
      "sample_cnt: 1463\n",
      "data_obs_012: (28220, 1463)\n"
     ]
    },
    {
     "name": "stderr",
     "output_type": "stream",
     "text": [
      "100%|██████████| 28220/28220 [00:47<00:00, 599.84it/s]\n"
     ]
    },
    {
     "name": "stdout",
     "output_type": "stream",
     "text": [
      "iqs mean: 0.9996270083595543\n",
      "Missing rate: 0.2\n",
      "data_imp: (1463, 28220)\n",
      "data_imp_012: (28220, 1463)\n",
      "snp_cnt: 28220\n",
      "sample_cnt: 1463\n",
      "data_obs_012: (28220, 1463)\n"
     ]
    },
    {
     "name": "stderr",
     "output_type": "stream",
     "text": [
      "100%|██████████| 28220/28220 [00:47<00:00, 599.88it/s]\n"
     ]
    },
    {
     "name": "stdout",
     "output_type": "stream",
     "text": [
      "iqs mean: 0.9993814046896261\n",
      "Combining the results...\n"
     ]
    },
    {
     "data": {
      "text/plain": "   Fold MissingRate                 IQS    Method\n0     1        0.01  0.9998297743737391  HLA*DEEP\n1     1        0.05  0.9996911397501229  HLA*DEEP\n2     1         0.1  0.9995218297263782  HLA*DEEP\n3     1         0.2  0.9991786638425214  HLA*DEEP\n4     2        0.01  0.9998387238758168  HLA*DEEP\n5     2        0.05  0.9996967991155525  HLA*DEEP\n6     2         0.1  0.9995197886345294  HLA*DEEP\n7     2         0.2  0.9991782264304861  HLA*DEEP\n8     3        0.01  0.9998652437151124  HLA*DEEP\n9     3        0.05  0.9997211271665883  HLA*DEEP\n10    3         0.1  0.9995465173966629  HLA*DEEP\n11    3         0.2  0.9991951423896422  HLA*DEEP\n12    1        0.01  0.9998946788676805      SCDA\n13    1        0.05  0.9997453219937419      SCDA\n14    1         0.1  0.9995612847448404      SCDA\n15    1         0.2   0.999210159001086      SCDA\n16    2        0.01  0.9998414787372322      SCDA\n17    2        0.05  0.9996991250538765      SCDA\n18    2         0.1  0.9995172716934343      SCDA\n19    2         0.2  0.9991710502793857      SCDA\n20    3        0.01  0.9998542693138176      SCDA\n21    3        0.05  0.9997114069059717      SCDA\n22    3         0.1  0.9995328630100891      SCDA\n23    3         0.2  0.9991727434975075      SCDA\n24    1        0.01  0.9999541978598373        AE\n25    1        0.05  0.9998002911686824        AE\n26    1         0.1  0.9996109904730566        AE\n27    1         0.2  0.9992477428214512        AE\n28    2        0.01  0.9999277175551007        AE\n29    2        0.05  0.9997824558797147        AE\n30    2         0.1  0.9995890676631985        AE\n31    2         0.2  0.9992169598984915        AE\n32    3        0.01  0.9999378591912056        AE\n33    3        0.05  0.9997786186470409        AE\n34    3         0.1  0.9996027001618768        AE\n35    3         0.2  0.9992164750178015        AE\n36    1        0.01  0.9997248754000115    STI*WE\n37    1        0.05   0.999598453890404    STI*WE\n38    1         0.1  0.9994409913197551    STI*WE\n39    1         0.2   0.999132174418715    STI*WE\n40    2        0.01  0.9997600895297347    STI*WE\n41    2        0.05  0.9996180219463825    STI*WE\n42    2         0.1   0.999434252446694    STI*WE\n43    2         0.2  0.9990854037098065    STI*WE\n44    3        0.01  0.9998095466846395    STI*WE\n45    3        0.05  0.9996632523502983    STI*WE\n46    3         0.1  0.9994866572863538    STI*WE\n47    3         0.2  0.9991349475114798    STI*WE\n48    1        0.01  0.9998838309481506       STI\n49    1        0.05  0.9997828835311254       STI\n50    1         0.1   0.999667690382948       STI\n51    1         0.2  0.9994294458563554       STI\n52    2        0.01  0.9998147284228881       STI\n53    2        0.05   0.999722828163956       STI\n54    2         0.1  0.9996091728808921       STI\n55    2         0.2  0.9993712455087284       STI\n56    3        0.01  0.9998432339330708       STI\n57    3        0.05  0.9997506587450659       STI\n58    3         0.1  0.9996270083595543       STI\n59    3         0.2  0.9993814046896261       STI",
      "text/html": "<div>\n<style scoped>\n    .dataframe tbody tr th:only-of-type {\n        vertical-align: middle;\n    }\n\n    .dataframe tbody tr th {\n        vertical-align: top;\n    }\n\n    .dataframe thead th {\n        text-align: right;\n    }\n</style>\n<table border=\"1\" class=\"dataframe\">\n  <thead>\n    <tr style=\"text-align: right;\">\n      <th></th>\n      <th>Fold</th>\n      <th>MissingRate</th>\n      <th>IQS</th>\n      <th>Method</th>\n    </tr>\n  </thead>\n  <tbody>\n    <tr>\n      <th>0</th>\n      <td>1</td>\n      <td>0.01</td>\n      <td>0.9998297743737391</td>\n      <td>HLA*DEEP</td>\n    </tr>\n    <tr>\n      <th>1</th>\n      <td>1</td>\n      <td>0.05</td>\n      <td>0.9996911397501229</td>\n      <td>HLA*DEEP</td>\n    </tr>\n    <tr>\n      <th>2</th>\n      <td>1</td>\n      <td>0.1</td>\n      <td>0.9995218297263782</td>\n      <td>HLA*DEEP</td>\n    </tr>\n    <tr>\n      <th>3</th>\n      <td>1</td>\n      <td>0.2</td>\n      <td>0.9991786638425214</td>\n      <td>HLA*DEEP</td>\n    </tr>\n    <tr>\n      <th>4</th>\n      <td>2</td>\n      <td>0.01</td>\n      <td>0.9998387238758168</td>\n      <td>HLA*DEEP</td>\n    </tr>\n    <tr>\n      <th>5</th>\n      <td>2</td>\n      <td>0.05</td>\n      <td>0.9996967991155525</td>\n      <td>HLA*DEEP</td>\n    </tr>\n    <tr>\n      <th>6</th>\n      <td>2</td>\n      <td>0.1</td>\n      <td>0.9995197886345294</td>\n      <td>HLA*DEEP</td>\n    </tr>\n    <tr>\n      <th>7</th>\n      <td>2</td>\n      <td>0.2</td>\n      <td>0.9991782264304861</td>\n      <td>HLA*DEEP</td>\n    </tr>\n    <tr>\n      <th>8</th>\n      <td>3</td>\n      <td>0.01</td>\n      <td>0.9998652437151124</td>\n      <td>HLA*DEEP</td>\n    </tr>\n    <tr>\n      <th>9</th>\n      <td>3</td>\n      <td>0.05</td>\n      <td>0.9997211271665883</td>\n      <td>HLA*DEEP</td>\n    </tr>\n    <tr>\n      <th>10</th>\n      <td>3</td>\n      <td>0.1</td>\n      <td>0.9995465173966629</td>\n      <td>HLA*DEEP</td>\n    </tr>\n    <tr>\n      <th>11</th>\n      <td>3</td>\n      <td>0.2</td>\n      <td>0.9991951423896422</td>\n      <td>HLA*DEEP</td>\n    </tr>\n    <tr>\n      <th>12</th>\n      <td>1</td>\n      <td>0.01</td>\n      <td>0.9998946788676805</td>\n      <td>SCDA</td>\n    </tr>\n    <tr>\n      <th>13</th>\n      <td>1</td>\n      <td>0.05</td>\n      <td>0.9997453219937419</td>\n      <td>SCDA</td>\n    </tr>\n    <tr>\n      <th>14</th>\n      <td>1</td>\n      <td>0.1</td>\n      <td>0.9995612847448404</td>\n      <td>SCDA</td>\n    </tr>\n    <tr>\n      <th>15</th>\n      <td>1</td>\n      <td>0.2</td>\n      <td>0.999210159001086</td>\n      <td>SCDA</td>\n    </tr>\n    <tr>\n      <th>16</th>\n      <td>2</td>\n      <td>0.01</td>\n      <td>0.9998414787372322</td>\n      <td>SCDA</td>\n    </tr>\n    <tr>\n      <th>17</th>\n      <td>2</td>\n      <td>0.05</td>\n      <td>0.9996991250538765</td>\n      <td>SCDA</td>\n    </tr>\n    <tr>\n      <th>18</th>\n      <td>2</td>\n      <td>0.1</td>\n      <td>0.9995172716934343</td>\n      <td>SCDA</td>\n    </tr>\n    <tr>\n      <th>19</th>\n      <td>2</td>\n      <td>0.2</td>\n      <td>0.9991710502793857</td>\n      <td>SCDA</td>\n    </tr>\n    <tr>\n      <th>20</th>\n      <td>3</td>\n      <td>0.01</td>\n      <td>0.9998542693138176</td>\n      <td>SCDA</td>\n    </tr>\n    <tr>\n      <th>21</th>\n      <td>3</td>\n      <td>0.05</td>\n      <td>0.9997114069059717</td>\n      <td>SCDA</td>\n    </tr>\n    <tr>\n      <th>22</th>\n      <td>3</td>\n      <td>0.1</td>\n      <td>0.9995328630100891</td>\n      <td>SCDA</td>\n    </tr>\n    <tr>\n      <th>23</th>\n      <td>3</td>\n      <td>0.2</td>\n      <td>0.9991727434975075</td>\n      <td>SCDA</td>\n    </tr>\n    <tr>\n      <th>24</th>\n      <td>1</td>\n      <td>0.01</td>\n      <td>0.9999541978598373</td>\n      <td>AE</td>\n    </tr>\n    <tr>\n      <th>25</th>\n      <td>1</td>\n      <td>0.05</td>\n      <td>0.9998002911686824</td>\n      <td>AE</td>\n    </tr>\n    <tr>\n      <th>26</th>\n      <td>1</td>\n      <td>0.1</td>\n      <td>0.9996109904730566</td>\n      <td>AE</td>\n    </tr>\n    <tr>\n      <th>27</th>\n      <td>1</td>\n      <td>0.2</td>\n      <td>0.9992477428214512</td>\n      <td>AE</td>\n    </tr>\n    <tr>\n      <th>28</th>\n      <td>2</td>\n      <td>0.01</td>\n      <td>0.9999277175551007</td>\n      <td>AE</td>\n    </tr>\n    <tr>\n      <th>29</th>\n      <td>2</td>\n      <td>0.05</td>\n      <td>0.9997824558797147</td>\n      <td>AE</td>\n    </tr>\n    <tr>\n      <th>30</th>\n      <td>2</td>\n      <td>0.1</td>\n      <td>0.9995890676631985</td>\n      <td>AE</td>\n    </tr>\n    <tr>\n      <th>31</th>\n      <td>2</td>\n      <td>0.2</td>\n      <td>0.9992169598984915</td>\n      <td>AE</td>\n    </tr>\n    <tr>\n      <th>32</th>\n      <td>3</td>\n      <td>0.01</td>\n      <td>0.9999378591912056</td>\n      <td>AE</td>\n    </tr>\n    <tr>\n      <th>33</th>\n      <td>3</td>\n      <td>0.05</td>\n      <td>0.9997786186470409</td>\n      <td>AE</td>\n    </tr>\n    <tr>\n      <th>34</th>\n      <td>3</td>\n      <td>0.1</td>\n      <td>0.9996027001618768</td>\n      <td>AE</td>\n    </tr>\n    <tr>\n      <th>35</th>\n      <td>3</td>\n      <td>0.2</td>\n      <td>0.9992164750178015</td>\n      <td>AE</td>\n    </tr>\n    <tr>\n      <th>36</th>\n      <td>1</td>\n      <td>0.01</td>\n      <td>0.9997248754000115</td>\n      <td>STI*WE</td>\n    </tr>\n    <tr>\n      <th>37</th>\n      <td>1</td>\n      <td>0.05</td>\n      <td>0.999598453890404</td>\n      <td>STI*WE</td>\n    </tr>\n    <tr>\n      <th>38</th>\n      <td>1</td>\n      <td>0.1</td>\n      <td>0.9994409913197551</td>\n      <td>STI*WE</td>\n    </tr>\n    <tr>\n      <th>39</th>\n      <td>1</td>\n      <td>0.2</td>\n      <td>0.999132174418715</td>\n      <td>STI*WE</td>\n    </tr>\n    <tr>\n      <th>40</th>\n      <td>2</td>\n      <td>0.01</td>\n      <td>0.9997600895297347</td>\n      <td>STI*WE</td>\n    </tr>\n    <tr>\n      <th>41</th>\n      <td>2</td>\n      <td>0.05</td>\n      <td>0.9996180219463825</td>\n      <td>STI*WE</td>\n    </tr>\n    <tr>\n      <th>42</th>\n      <td>2</td>\n      <td>0.1</td>\n      <td>0.999434252446694</td>\n      <td>STI*WE</td>\n    </tr>\n    <tr>\n      <th>43</th>\n      <td>2</td>\n      <td>0.2</td>\n      <td>0.9990854037098065</td>\n      <td>STI*WE</td>\n    </tr>\n    <tr>\n      <th>44</th>\n      <td>3</td>\n      <td>0.01</td>\n      <td>0.9998095466846395</td>\n      <td>STI*WE</td>\n    </tr>\n    <tr>\n      <th>45</th>\n      <td>3</td>\n      <td>0.05</td>\n      <td>0.9996632523502983</td>\n      <td>STI*WE</td>\n    </tr>\n    <tr>\n      <th>46</th>\n      <td>3</td>\n      <td>0.1</td>\n      <td>0.9994866572863538</td>\n      <td>STI*WE</td>\n    </tr>\n    <tr>\n      <th>47</th>\n      <td>3</td>\n      <td>0.2</td>\n      <td>0.9991349475114798</td>\n      <td>STI*WE</td>\n    </tr>\n    <tr>\n      <th>48</th>\n      <td>1</td>\n      <td>0.01</td>\n      <td>0.9998838309481506</td>\n      <td>STI</td>\n    </tr>\n    <tr>\n      <th>49</th>\n      <td>1</td>\n      <td>0.05</td>\n      <td>0.9997828835311254</td>\n      <td>STI</td>\n    </tr>\n    <tr>\n      <th>50</th>\n      <td>1</td>\n      <td>0.1</td>\n      <td>0.999667690382948</td>\n      <td>STI</td>\n    </tr>\n    <tr>\n      <th>51</th>\n      <td>1</td>\n      <td>0.2</td>\n      <td>0.9994294458563554</td>\n      <td>STI</td>\n    </tr>\n    <tr>\n      <th>52</th>\n      <td>2</td>\n      <td>0.01</td>\n      <td>0.9998147284228881</td>\n      <td>STI</td>\n    </tr>\n    <tr>\n      <th>53</th>\n      <td>2</td>\n      <td>0.05</td>\n      <td>0.999722828163956</td>\n      <td>STI</td>\n    </tr>\n    <tr>\n      <th>54</th>\n      <td>2</td>\n      <td>0.1</td>\n      <td>0.9996091728808921</td>\n      <td>STI</td>\n    </tr>\n    <tr>\n      <th>55</th>\n      <td>2</td>\n      <td>0.2</td>\n      <td>0.9993712455087284</td>\n      <td>STI</td>\n    </tr>\n    <tr>\n      <th>56</th>\n      <td>3</td>\n      <td>0.01</td>\n      <td>0.9998432339330708</td>\n      <td>STI</td>\n    </tr>\n    <tr>\n      <th>57</th>\n      <td>3</td>\n      <td>0.05</td>\n      <td>0.9997506587450659</td>\n      <td>STI</td>\n    </tr>\n    <tr>\n      <th>58</th>\n      <td>3</td>\n      <td>0.1</td>\n      <td>0.9996270083595543</td>\n      <td>STI</td>\n    </tr>\n    <tr>\n      <th>59</th>\n      <td>3</td>\n      <td>0.2</td>\n      <td>0.9993814046896261</td>\n      <td>STI</td>\n    </tr>\n  </tbody>\n</table>\n</div>"
     },
     "execution_count": 18,
     "metadata": {},
     "output_type": "execute_result"
    }
   ],
   "source": [
    "kf = KFold(n_splits=N_SPLITS, shuffle=True, random_state=2022)\n",
    "fold = 0\n",
    "_x = genotypes.to_numpy()\n",
    "for train_index, test_index in kf.split(_x):\n",
    "  fold += 1\n",
    "  print(f\"Fold: {fold}\")\n",
    "  y = _x[test_index]\n",
    "  for missing_perc in [0.01,\n",
    "                       0.05,\n",
    "                       0.1,\n",
    "                       0.2]:\n",
    "    print(f\"Missing rate: {missing_perc}\")\n",
    "    file_name = f\"./experimental_results/yeast/STI/preds_mixed_mr_{missing_perc}_fold_{fold}_.csv\"\n",
    "    result_genotypes = pd.read_csv(file_name, index_col=0)\n",
    "    result_genotypes[result_genotypes == -1] = 0\n",
    "    yhat = result_genotypes.to_numpy()\n",
    "    assert y.shape == yhat.shape\n",
    "    iqs_a, iqs_mean_a = iqs_score(yhat, y)\n",
    "\n",
    "    # print('iqs_mean:', iqs_mean_a)\n",
    "    # print('iqs:', iqs_a)\n",
    "\n",
    "    dataframe = pd.DataFrame(np.array([fold, missing_perc, iqs_mean_a, \"STI\"]).reshape((1, -1)), columns=columns)\n",
    "    dfs.append(dataframe)\n",
    "\n",
    "df = pd.DataFrame(columns = columns)\n",
    "print(\"Combining the results...\")\n",
    "df = pd.concat(dfs, ignore_index=True)\n",
    "del dfs\n",
    "\n",
    "df"
   ],
   "metadata": {
    "collapsed": false,
    "pycharm": {
     "name": "#%%\n"
    }
   }
  },
  {
   "cell_type": "code",
   "execution_count": 19,
   "outputs": [
    {
     "data": {
      "text/plain": "   Fold MissingRate      IQS    Method\n0     1        0.01  0.99983  HLA*DEEP\n1     1        0.05  0.99969  HLA*DEEP\n2     1         0.1  0.99952  HLA*DEEP\n3     1         0.2  0.99918  HLA*DEEP\n4     2        0.01  0.99984  HLA*DEEP\n5     2        0.05  0.99970  HLA*DEEP\n6     2         0.1  0.99952  HLA*DEEP\n7     2         0.2  0.99918  HLA*DEEP\n8     3        0.01  0.99987  HLA*DEEP\n9     3        0.05  0.99972  HLA*DEEP\n10    3         0.1  0.99955  HLA*DEEP\n11    3         0.2  0.99920  HLA*DEEP\n12    1        0.01  0.99989      SCDA\n13    1        0.05  0.99975      SCDA\n14    1         0.1  0.99956      SCDA\n15    1         0.2  0.99921      SCDA\n16    2        0.01  0.99984      SCDA\n17    2        0.05  0.99970      SCDA\n18    2         0.1  0.99952      SCDA\n19    2         0.2  0.99917      SCDA\n20    3        0.01  0.99985      SCDA\n21    3        0.05  0.99971      SCDA\n22    3         0.1  0.99953      SCDA\n23    3         0.2  0.99917      SCDA\n24    1        0.01  0.99995        AE\n25    1        0.05  0.99980        AE\n26    1         0.1  0.99961        AE\n27    1         0.2  0.99925        AE\n28    2        0.01  0.99993        AE\n29    2        0.05  0.99978        AE\n30    2         0.1  0.99959        AE\n31    2         0.2  0.99922        AE\n32    3        0.01  0.99994        AE\n33    3        0.05  0.99978        AE\n34    3         0.1  0.99960        AE\n35    3         0.2  0.99922        AE\n36    1        0.01  0.99972    STI*WE\n37    1        0.05  0.99960    STI*WE\n38    1         0.1  0.99944    STI*WE\n39    1         0.2  0.99913    STI*WE\n40    2        0.01  0.99976    STI*WE\n41    2        0.05  0.99962    STI*WE\n42    2         0.1  0.99943    STI*WE\n43    2         0.2  0.99909    STI*WE\n44    3        0.01  0.99981    STI*WE\n45    3        0.05  0.99966    STI*WE\n46    3         0.1  0.99949    STI*WE\n47    3         0.2  0.99913    STI*WE\n48    1        0.01  0.99988       STI\n49    1        0.05  0.99978       STI\n50    1         0.1  0.99967       STI\n51    1         0.2  0.99943       STI\n52    2        0.01  0.99981       STI\n53    2        0.05  0.99972       STI\n54    2         0.1  0.99961       STI\n55    2         0.2  0.99937       STI\n56    3        0.01  0.99984       STI\n57    3        0.05  0.99975       STI\n58    3         0.1  0.99963       STI\n59    3         0.2  0.99938       STI",
      "text/html": "<div>\n<style scoped>\n    .dataframe tbody tr th:only-of-type {\n        vertical-align: middle;\n    }\n\n    .dataframe tbody tr th {\n        vertical-align: top;\n    }\n\n    .dataframe thead th {\n        text-align: right;\n    }\n</style>\n<table border=\"1\" class=\"dataframe\">\n  <thead>\n    <tr style=\"text-align: right;\">\n      <th></th>\n      <th>Fold</th>\n      <th>MissingRate</th>\n      <th>IQS</th>\n      <th>Method</th>\n    </tr>\n  </thead>\n  <tbody>\n    <tr>\n      <th>0</th>\n      <td>1</td>\n      <td>0.01</td>\n      <td>0.99983</td>\n      <td>HLA*DEEP</td>\n    </tr>\n    <tr>\n      <th>1</th>\n      <td>1</td>\n      <td>0.05</td>\n      <td>0.99969</td>\n      <td>HLA*DEEP</td>\n    </tr>\n    <tr>\n      <th>2</th>\n      <td>1</td>\n      <td>0.1</td>\n      <td>0.99952</td>\n      <td>HLA*DEEP</td>\n    </tr>\n    <tr>\n      <th>3</th>\n      <td>1</td>\n      <td>0.2</td>\n      <td>0.99918</td>\n      <td>HLA*DEEP</td>\n    </tr>\n    <tr>\n      <th>4</th>\n      <td>2</td>\n      <td>0.01</td>\n      <td>0.99984</td>\n      <td>HLA*DEEP</td>\n    </tr>\n    <tr>\n      <th>5</th>\n      <td>2</td>\n      <td>0.05</td>\n      <td>0.99970</td>\n      <td>HLA*DEEP</td>\n    </tr>\n    <tr>\n      <th>6</th>\n      <td>2</td>\n      <td>0.1</td>\n      <td>0.99952</td>\n      <td>HLA*DEEP</td>\n    </tr>\n    <tr>\n      <th>7</th>\n      <td>2</td>\n      <td>0.2</td>\n      <td>0.99918</td>\n      <td>HLA*DEEP</td>\n    </tr>\n    <tr>\n      <th>8</th>\n      <td>3</td>\n      <td>0.01</td>\n      <td>0.99987</td>\n      <td>HLA*DEEP</td>\n    </tr>\n    <tr>\n      <th>9</th>\n      <td>3</td>\n      <td>0.05</td>\n      <td>0.99972</td>\n      <td>HLA*DEEP</td>\n    </tr>\n    <tr>\n      <th>10</th>\n      <td>3</td>\n      <td>0.1</td>\n      <td>0.99955</td>\n      <td>HLA*DEEP</td>\n    </tr>\n    <tr>\n      <th>11</th>\n      <td>3</td>\n      <td>0.2</td>\n      <td>0.99920</td>\n      <td>HLA*DEEP</td>\n    </tr>\n    <tr>\n      <th>12</th>\n      <td>1</td>\n      <td>0.01</td>\n      <td>0.99989</td>\n      <td>SCDA</td>\n    </tr>\n    <tr>\n      <th>13</th>\n      <td>1</td>\n      <td>0.05</td>\n      <td>0.99975</td>\n      <td>SCDA</td>\n    </tr>\n    <tr>\n      <th>14</th>\n      <td>1</td>\n      <td>0.1</td>\n      <td>0.99956</td>\n      <td>SCDA</td>\n    </tr>\n    <tr>\n      <th>15</th>\n      <td>1</td>\n      <td>0.2</td>\n      <td>0.99921</td>\n      <td>SCDA</td>\n    </tr>\n    <tr>\n      <th>16</th>\n      <td>2</td>\n      <td>0.01</td>\n      <td>0.99984</td>\n      <td>SCDA</td>\n    </tr>\n    <tr>\n      <th>17</th>\n      <td>2</td>\n      <td>0.05</td>\n      <td>0.99970</td>\n      <td>SCDA</td>\n    </tr>\n    <tr>\n      <th>18</th>\n      <td>2</td>\n      <td>0.1</td>\n      <td>0.99952</td>\n      <td>SCDA</td>\n    </tr>\n    <tr>\n      <th>19</th>\n      <td>2</td>\n      <td>0.2</td>\n      <td>0.99917</td>\n      <td>SCDA</td>\n    </tr>\n    <tr>\n      <th>20</th>\n      <td>3</td>\n      <td>0.01</td>\n      <td>0.99985</td>\n      <td>SCDA</td>\n    </tr>\n    <tr>\n      <th>21</th>\n      <td>3</td>\n      <td>0.05</td>\n      <td>0.99971</td>\n      <td>SCDA</td>\n    </tr>\n    <tr>\n      <th>22</th>\n      <td>3</td>\n      <td>0.1</td>\n      <td>0.99953</td>\n      <td>SCDA</td>\n    </tr>\n    <tr>\n      <th>23</th>\n      <td>3</td>\n      <td>0.2</td>\n      <td>0.99917</td>\n      <td>SCDA</td>\n    </tr>\n    <tr>\n      <th>24</th>\n      <td>1</td>\n      <td>0.01</td>\n      <td>0.99995</td>\n      <td>AE</td>\n    </tr>\n    <tr>\n      <th>25</th>\n      <td>1</td>\n      <td>0.05</td>\n      <td>0.99980</td>\n      <td>AE</td>\n    </tr>\n    <tr>\n      <th>26</th>\n      <td>1</td>\n      <td>0.1</td>\n      <td>0.99961</td>\n      <td>AE</td>\n    </tr>\n    <tr>\n      <th>27</th>\n      <td>1</td>\n      <td>0.2</td>\n      <td>0.99925</td>\n      <td>AE</td>\n    </tr>\n    <tr>\n      <th>28</th>\n      <td>2</td>\n      <td>0.01</td>\n      <td>0.99993</td>\n      <td>AE</td>\n    </tr>\n    <tr>\n      <th>29</th>\n      <td>2</td>\n      <td>0.05</td>\n      <td>0.99978</td>\n      <td>AE</td>\n    </tr>\n    <tr>\n      <th>30</th>\n      <td>2</td>\n      <td>0.1</td>\n      <td>0.99959</td>\n      <td>AE</td>\n    </tr>\n    <tr>\n      <th>31</th>\n      <td>2</td>\n      <td>0.2</td>\n      <td>0.99922</td>\n      <td>AE</td>\n    </tr>\n    <tr>\n      <th>32</th>\n      <td>3</td>\n      <td>0.01</td>\n      <td>0.99994</td>\n      <td>AE</td>\n    </tr>\n    <tr>\n      <th>33</th>\n      <td>3</td>\n      <td>0.05</td>\n      <td>0.99978</td>\n      <td>AE</td>\n    </tr>\n    <tr>\n      <th>34</th>\n      <td>3</td>\n      <td>0.1</td>\n      <td>0.99960</td>\n      <td>AE</td>\n    </tr>\n    <tr>\n      <th>35</th>\n      <td>3</td>\n      <td>0.2</td>\n      <td>0.99922</td>\n      <td>AE</td>\n    </tr>\n    <tr>\n      <th>36</th>\n      <td>1</td>\n      <td>0.01</td>\n      <td>0.99972</td>\n      <td>STI*WE</td>\n    </tr>\n    <tr>\n      <th>37</th>\n      <td>1</td>\n      <td>0.05</td>\n      <td>0.99960</td>\n      <td>STI*WE</td>\n    </tr>\n    <tr>\n      <th>38</th>\n      <td>1</td>\n      <td>0.1</td>\n      <td>0.99944</td>\n      <td>STI*WE</td>\n    </tr>\n    <tr>\n      <th>39</th>\n      <td>1</td>\n      <td>0.2</td>\n      <td>0.99913</td>\n      <td>STI*WE</td>\n    </tr>\n    <tr>\n      <th>40</th>\n      <td>2</td>\n      <td>0.01</td>\n      <td>0.99976</td>\n      <td>STI*WE</td>\n    </tr>\n    <tr>\n      <th>41</th>\n      <td>2</td>\n      <td>0.05</td>\n      <td>0.99962</td>\n      <td>STI*WE</td>\n    </tr>\n    <tr>\n      <th>42</th>\n      <td>2</td>\n      <td>0.1</td>\n      <td>0.99943</td>\n      <td>STI*WE</td>\n    </tr>\n    <tr>\n      <th>43</th>\n      <td>2</td>\n      <td>0.2</td>\n      <td>0.99909</td>\n      <td>STI*WE</td>\n    </tr>\n    <tr>\n      <th>44</th>\n      <td>3</td>\n      <td>0.01</td>\n      <td>0.99981</td>\n      <td>STI*WE</td>\n    </tr>\n    <tr>\n      <th>45</th>\n      <td>3</td>\n      <td>0.05</td>\n      <td>0.99966</td>\n      <td>STI*WE</td>\n    </tr>\n    <tr>\n      <th>46</th>\n      <td>3</td>\n      <td>0.1</td>\n      <td>0.99949</td>\n      <td>STI*WE</td>\n    </tr>\n    <tr>\n      <th>47</th>\n      <td>3</td>\n      <td>0.2</td>\n      <td>0.99913</td>\n      <td>STI*WE</td>\n    </tr>\n    <tr>\n      <th>48</th>\n      <td>1</td>\n      <td>0.01</td>\n      <td>0.99988</td>\n      <td>STI</td>\n    </tr>\n    <tr>\n      <th>49</th>\n      <td>1</td>\n      <td>0.05</td>\n      <td>0.99978</td>\n      <td>STI</td>\n    </tr>\n    <tr>\n      <th>50</th>\n      <td>1</td>\n      <td>0.1</td>\n      <td>0.99967</td>\n      <td>STI</td>\n    </tr>\n    <tr>\n      <th>51</th>\n      <td>1</td>\n      <td>0.2</td>\n      <td>0.99943</td>\n      <td>STI</td>\n    </tr>\n    <tr>\n      <th>52</th>\n      <td>2</td>\n      <td>0.01</td>\n      <td>0.99981</td>\n      <td>STI</td>\n    </tr>\n    <tr>\n      <th>53</th>\n      <td>2</td>\n      <td>0.05</td>\n      <td>0.99972</td>\n      <td>STI</td>\n    </tr>\n    <tr>\n      <th>54</th>\n      <td>2</td>\n      <td>0.1</td>\n      <td>0.99961</td>\n      <td>STI</td>\n    </tr>\n    <tr>\n      <th>55</th>\n      <td>2</td>\n      <td>0.2</td>\n      <td>0.99937</td>\n      <td>STI</td>\n    </tr>\n    <tr>\n      <th>56</th>\n      <td>3</td>\n      <td>0.01</td>\n      <td>0.99984</td>\n      <td>STI</td>\n    </tr>\n    <tr>\n      <th>57</th>\n      <td>3</td>\n      <td>0.05</td>\n      <td>0.99975</td>\n      <td>STI</td>\n    </tr>\n    <tr>\n      <th>58</th>\n      <td>3</td>\n      <td>0.1</td>\n      <td>0.99963</td>\n      <td>STI</td>\n    </tr>\n    <tr>\n      <th>59</th>\n      <td>3</td>\n      <td>0.2</td>\n      <td>0.99938</td>\n      <td>STI</td>\n    </tr>\n  </tbody>\n</table>\n</div>"
     },
     "execution_count": 19,
     "metadata": {},
     "output_type": "execute_result"
    }
   ],
   "source": [
    "df[\"IQS\"] = df[\"IQS\"].astype(float)\n",
    "df = df.round({'IQS': 5})\n",
    "df"
   ],
   "metadata": {
    "collapsed": false,
    "pycharm": {
     "name": "#%%\n"
    }
   }
  },
  {
   "cell_type": "code",
   "execution_count": 20,
   "outputs": [],
   "source": [
    "df.to_csv(\"results_in_table/yeast/IQS_all.csv\")\n"
   ],
   "metadata": {
    "collapsed": false,
    "pycharm": {
     "name": "#%%\n"
    }
   }
  },
  {
   "cell_type": "code",
   "execution_count": 21,
   "outputs": [
    {
     "data": {
      "text/plain": "                               IQS\nMethod   Fold MissingRate         \nAE       1    0.01         0.99995\n              0.05         0.99980\n              0.1          0.99961\n              0.2          0.99925\n         2    0.01         0.99993\n              0.05         0.99978\n              0.1          0.99959\n              0.2          0.99922\n         3    0.01         0.99994\n              0.05         0.99978\n              0.1          0.99960\n              0.2          0.99922\nHLA*DEEP 1    0.01         0.99983\n              0.05         0.99969\n              0.1          0.99952\n              0.2          0.99918\n         2    0.01         0.99984\n              0.05         0.99970\n              0.1          0.99952\n              0.2          0.99918\n         3    0.01         0.99987\n              0.05         0.99972\n              0.1          0.99955\n              0.2          0.99920\nSCDA     1    0.01         0.99989\n              0.05         0.99975\n              0.1          0.99956\n              0.2          0.99921\n         2    0.01         0.99984\n              0.05         0.99970\n              0.1          0.99952\n              0.2          0.99917\n         3    0.01         0.99985\n              0.05         0.99971\n              0.1          0.99953\n              0.2          0.99917\nSTI      1    0.01         0.99988\n              0.05         0.99978\n              0.1          0.99967\n              0.2          0.99943\n         2    0.01         0.99981\n              0.05         0.99972\n              0.1          0.99961\n              0.2          0.99937\n         3    0.01         0.99984\n              0.05         0.99975\n              0.1          0.99963\n              0.2          0.99938\nSTI*WE   1    0.01         0.99972\n              0.05         0.99960\n              0.1          0.99944\n              0.2          0.99913\n         2    0.01         0.99976\n              0.05         0.99962\n              0.1          0.99943\n              0.2          0.99909\n         3    0.01         0.99981\n              0.05         0.99966\n              0.1          0.99949\n              0.2          0.99913",
      "text/html": "<div>\n<style scoped>\n    .dataframe tbody tr th:only-of-type {\n        vertical-align: middle;\n    }\n\n    .dataframe tbody tr th {\n        vertical-align: top;\n    }\n\n    .dataframe thead th {\n        text-align: right;\n    }\n</style>\n<table border=\"1\" class=\"dataframe\">\n  <thead>\n    <tr style=\"text-align: right;\">\n      <th></th>\n      <th></th>\n      <th></th>\n      <th>IQS</th>\n    </tr>\n    <tr>\n      <th>Method</th>\n      <th>Fold</th>\n      <th>MissingRate</th>\n      <th></th>\n    </tr>\n  </thead>\n  <tbody>\n    <tr>\n      <th rowspan=\"12\" valign=\"top\">AE</th>\n      <th rowspan=\"4\" valign=\"top\">1</th>\n      <th>0.01</th>\n      <td>0.99995</td>\n    </tr>\n    <tr>\n      <th>0.05</th>\n      <td>0.99980</td>\n    </tr>\n    <tr>\n      <th>0.1</th>\n      <td>0.99961</td>\n    </tr>\n    <tr>\n      <th>0.2</th>\n      <td>0.99925</td>\n    </tr>\n    <tr>\n      <th rowspan=\"4\" valign=\"top\">2</th>\n      <th>0.01</th>\n      <td>0.99993</td>\n    </tr>\n    <tr>\n      <th>0.05</th>\n      <td>0.99978</td>\n    </tr>\n    <tr>\n      <th>0.1</th>\n      <td>0.99959</td>\n    </tr>\n    <tr>\n      <th>0.2</th>\n      <td>0.99922</td>\n    </tr>\n    <tr>\n      <th rowspan=\"4\" valign=\"top\">3</th>\n      <th>0.01</th>\n      <td>0.99994</td>\n    </tr>\n    <tr>\n      <th>0.05</th>\n      <td>0.99978</td>\n    </tr>\n    <tr>\n      <th>0.1</th>\n      <td>0.99960</td>\n    </tr>\n    <tr>\n      <th>0.2</th>\n      <td>0.99922</td>\n    </tr>\n    <tr>\n      <th rowspan=\"12\" valign=\"top\">HLA*DEEP</th>\n      <th rowspan=\"4\" valign=\"top\">1</th>\n      <th>0.01</th>\n      <td>0.99983</td>\n    </tr>\n    <tr>\n      <th>0.05</th>\n      <td>0.99969</td>\n    </tr>\n    <tr>\n      <th>0.1</th>\n      <td>0.99952</td>\n    </tr>\n    <tr>\n      <th>0.2</th>\n      <td>0.99918</td>\n    </tr>\n    <tr>\n      <th rowspan=\"4\" valign=\"top\">2</th>\n      <th>0.01</th>\n      <td>0.99984</td>\n    </tr>\n    <tr>\n      <th>0.05</th>\n      <td>0.99970</td>\n    </tr>\n    <tr>\n      <th>0.1</th>\n      <td>0.99952</td>\n    </tr>\n    <tr>\n      <th>0.2</th>\n      <td>0.99918</td>\n    </tr>\n    <tr>\n      <th rowspan=\"4\" valign=\"top\">3</th>\n      <th>0.01</th>\n      <td>0.99987</td>\n    </tr>\n    <tr>\n      <th>0.05</th>\n      <td>0.99972</td>\n    </tr>\n    <tr>\n      <th>0.1</th>\n      <td>0.99955</td>\n    </tr>\n    <tr>\n      <th>0.2</th>\n      <td>0.99920</td>\n    </tr>\n    <tr>\n      <th rowspan=\"12\" valign=\"top\">SCDA</th>\n      <th rowspan=\"4\" valign=\"top\">1</th>\n      <th>0.01</th>\n      <td>0.99989</td>\n    </tr>\n    <tr>\n      <th>0.05</th>\n      <td>0.99975</td>\n    </tr>\n    <tr>\n      <th>0.1</th>\n      <td>0.99956</td>\n    </tr>\n    <tr>\n      <th>0.2</th>\n      <td>0.99921</td>\n    </tr>\n    <tr>\n      <th rowspan=\"4\" valign=\"top\">2</th>\n      <th>0.01</th>\n      <td>0.99984</td>\n    </tr>\n    <tr>\n      <th>0.05</th>\n      <td>0.99970</td>\n    </tr>\n    <tr>\n      <th>0.1</th>\n      <td>0.99952</td>\n    </tr>\n    <tr>\n      <th>0.2</th>\n      <td>0.99917</td>\n    </tr>\n    <tr>\n      <th rowspan=\"4\" valign=\"top\">3</th>\n      <th>0.01</th>\n      <td>0.99985</td>\n    </tr>\n    <tr>\n      <th>0.05</th>\n      <td>0.99971</td>\n    </tr>\n    <tr>\n      <th>0.1</th>\n      <td>0.99953</td>\n    </tr>\n    <tr>\n      <th>0.2</th>\n      <td>0.99917</td>\n    </tr>\n    <tr>\n      <th rowspan=\"12\" valign=\"top\">STI</th>\n      <th rowspan=\"4\" valign=\"top\">1</th>\n      <th>0.01</th>\n      <td>0.99988</td>\n    </tr>\n    <tr>\n      <th>0.05</th>\n      <td>0.99978</td>\n    </tr>\n    <tr>\n      <th>0.1</th>\n      <td>0.99967</td>\n    </tr>\n    <tr>\n      <th>0.2</th>\n      <td>0.99943</td>\n    </tr>\n    <tr>\n      <th rowspan=\"4\" valign=\"top\">2</th>\n      <th>0.01</th>\n      <td>0.99981</td>\n    </tr>\n    <tr>\n      <th>0.05</th>\n      <td>0.99972</td>\n    </tr>\n    <tr>\n      <th>0.1</th>\n      <td>0.99961</td>\n    </tr>\n    <tr>\n      <th>0.2</th>\n      <td>0.99937</td>\n    </tr>\n    <tr>\n      <th rowspan=\"4\" valign=\"top\">3</th>\n      <th>0.01</th>\n      <td>0.99984</td>\n    </tr>\n    <tr>\n      <th>0.05</th>\n      <td>0.99975</td>\n    </tr>\n    <tr>\n      <th>0.1</th>\n      <td>0.99963</td>\n    </tr>\n    <tr>\n      <th>0.2</th>\n      <td>0.99938</td>\n    </tr>\n    <tr>\n      <th rowspan=\"12\" valign=\"top\">STI*WE</th>\n      <th rowspan=\"4\" valign=\"top\">1</th>\n      <th>0.01</th>\n      <td>0.99972</td>\n    </tr>\n    <tr>\n      <th>0.05</th>\n      <td>0.99960</td>\n    </tr>\n    <tr>\n      <th>0.1</th>\n      <td>0.99944</td>\n    </tr>\n    <tr>\n      <th>0.2</th>\n      <td>0.99913</td>\n    </tr>\n    <tr>\n      <th rowspan=\"4\" valign=\"top\">2</th>\n      <th>0.01</th>\n      <td>0.99976</td>\n    </tr>\n    <tr>\n      <th>0.05</th>\n      <td>0.99962</td>\n    </tr>\n    <tr>\n      <th>0.1</th>\n      <td>0.99943</td>\n    </tr>\n    <tr>\n      <th>0.2</th>\n      <td>0.99909</td>\n    </tr>\n    <tr>\n      <th rowspan=\"4\" valign=\"top\">3</th>\n      <th>0.01</th>\n      <td>0.99981</td>\n    </tr>\n    <tr>\n      <th>0.05</th>\n      <td>0.99966</td>\n    </tr>\n    <tr>\n      <th>0.1</th>\n      <td>0.99949</td>\n    </tr>\n    <tr>\n      <th>0.2</th>\n      <td>0.99913</td>\n    </tr>\n  </tbody>\n</table>\n</div>"
     },
     "execution_count": 21,
     "metadata": {},
     "output_type": "execute_result"
    }
   ],
   "source": [
    "df1 = df.groupby([\"Method\", \"Fold\", \"Missing Rate\"]).agg( {\"IQS\":\"mean\"})\n",
    "df1"
   ],
   "metadata": {
    "collapsed": false,
    "pycharm": {
     "name": "#%%\n"
    }
   }
  },
  {
   "cell_type": "code",
   "execution_count": 22,
   "outputs": [
    {
     "data": {
      "text/plain": "                           IQS          \n                          mean       std\nMethod   MissingRate                    \nAE       0.01         0.999940  0.000010\n         0.05         0.999787  0.000012\n         0.1          0.999600  0.000010\n         0.2          0.999230  0.000017\nHLA*DEEP 0.01         0.999847  0.000021\n         0.05         0.999703  0.000015\n         0.1          0.999530  0.000017\n         0.2          0.999187  0.000012\nSCDA     0.01         0.999860  0.000026\n         0.05         0.999720  0.000026\n         0.1          0.999537  0.000021\n         0.2          0.999183  0.000023\nSTI      0.01         0.999843  0.000035\n         0.05         0.999750  0.000030\n         0.1          0.999637  0.000031\n         0.2          0.999393  0.000032\nSTI*WE   0.01         0.999763  0.000045\n         0.05         0.999627  0.000031\n         0.1          0.999453  0.000032\n         0.2          0.999117  0.000023",
      "text/html": "<div>\n<style scoped>\n    .dataframe tbody tr th:only-of-type {\n        vertical-align: middle;\n    }\n\n    .dataframe tbody tr th {\n        vertical-align: top;\n    }\n\n    .dataframe thead tr th {\n        text-align: left;\n    }\n\n    .dataframe thead tr:last-of-type th {\n        text-align: right;\n    }\n</style>\n<table border=\"1\" class=\"dataframe\">\n  <thead>\n    <tr>\n      <th></th>\n      <th></th>\n      <th colspan=\"2\" halign=\"left\">IQS</th>\n    </tr>\n    <tr>\n      <th></th>\n      <th></th>\n      <th>mean</th>\n      <th>std</th>\n    </tr>\n    <tr>\n      <th>Method</th>\n      <th>MissingRate</th>\n      <th></th>\n      <th></th>\n    </tr>\n  </thead>\n  <tbody>\n    <tr>\n      <th rowspan=\"4\" valign=\"top\">AE</th>\n      <th>0.01</th>\n      <td>0.999940</td>\n      <td>0.000010</td>\n    </tr>\n    <tr>\n      <th>0.05</th>\n      <td>0.999787</td>\n      <td>0.000012</td>\n    </tr>\n    <tr>\n      <th>0.1</th>\n      <td>0.999600</td>\n      <td>0.000010</td>\n    </tr>\n    <tr>\n      <th>0.2</th>\n      <td>0.999230</td>\n      <td>0.000017</td>\n    </tr>\n    <tr>\n      <th rowspan=\"4\" valign=\"top\">HLA*DEEP</th>\n      <th>0.01</th>\n      <td>0.999847</td>\n      <td>0.000021</td>\n    </tr>\n    <tr>\n      <th>0.05</th>\n      <td>0.999703</td>\n      <td>0.000015</td>\n    </tr>\n    <tr>\n      <th>0.1</th>\n      <td>0.999530</td>\n      <td>0.000017</td>\n    </tr>\n    <tr>\n      <th>0.2</th>\n      <td>0.999187</td>\n      <td>0.000012</td>\n    </tr>\n    <tr>\n      <th rowspan=\"4\" valign=\"top\">SCDA</th>\n      <th>0.01</th>\n      <td>0.999860</td>\n      <td>0.000026</td>\n    </tr>\n    <tr>\n      <th>0.05</th>\n      <td>0.999720</td>\n      <td>0.000026</td>\n    </tr>\n    <tr>\n      <th>0.1</th>\n      <td>0.999537</td>\n      <td>0.000021</td>\n    </tr>\n    <tr>\n      <th>0.2</th>\n      <td>0.999183</td>\n      <td>0.000023</td>\n    </tr>\n    <tr>\n      <th rowspan=\"4\" valign=\"top\">STI</th>\n      <th>0.01</th>\n      <td>0.999843</td>\n      <td>0.000035</td>\n    </tr>\n    <tr>\n      <th>0.05</th>\n      <td>0.999750</td>\n      <td>0.000030</td>\n    </tr>\n    <tr>\n      <th>0.1</th>\n      <td>0.999637</td>\n      <td>0.000031</td>\n    </tr>\n    <tr>\n      <th>0.2</th>\n      <td>0.999393</td>\n      <td>0.000032</td>\n    </tr>\n    <tr>\n      <th rowspan=\"4\" valign=\"top\">STI*WE</th>\n      <th>0.01</th>\n      <td>0.999763</td>\n      <td>0.000045</td>\n    </tr>\n    <tr>\n      <th>0.05</th>\n      <td>0.999627</td>\n      <td>0.000031</td>\n    </tr>\n    <tr>\n      <th>0.1</th>\n      <td>0.999453</td>\n      <td>0.000032</td>\n    </tr>\n    <tr>\n      <th>0.2</th>\n      <td>0.999117</td>\n      <td>0.000023</td>\n    </tr>\n  </tbody>\n</table>\n</div>"
     },
     "execution_count": 22,
     "metadata": {},
     "output_type": "execute_result"
    }
   ],
   "source": [
    "df1 = df.groupby([\"Method\", \"Fold\", \"Missing Rate\"]).agg( {\"IQS\":\"mean\"}).reset_index()# df1.columns = df1.columns.droplevel(0)\n",
    "df1 = df1.groupby([\"Method\", \"Missing Rate\"]).agg( {\"IQS\":[\"mean\", \"std\"]})#.reset_index()\n",
    "df1\n"
   ],
   "metadata": {
    "collapsed": false,
    "pycharm": {
     "name": "#%%\n"
    }
   }
  },
  {
   "cell_type": "code",
   "execution_count": 20,
   "outputs": [],
   "source": [],
   "metadata": {
    "collapsed": false,
    "pycharm": {
     "name": "#%%\n"
    }
   }
  }
 ],
 "metadata": {
  "kernelspec": {
   "display_name": "Python 3",
   "language": "python",
   "name": "python3"
  },
  "language_info": {
   "codemirror_mode": {
    "name": "ipython",
    "version": 2
   },
   "file_extension": ".py",
   "mimetype": "text/x-python",
   "name": "python",
   "nbconvert_exporter": "python",
   "pygments_lexer": "ipython2",
   "version": "2.7.6"
  }
 },
 "nbformat": 4,
 "nbformat_minor": 0
}