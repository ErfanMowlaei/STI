{
 "cells": [
  {
   "cell_type": "code",
   "execution_count": 1,
   "metadata": {
    "collapsed": true
   },
   "outputs": [
    {
     "name": "stdout",
     "output_type": "stream",
     "text": [
      "Requirement already satisfied: toolz in c:\\users\\sleepy\\appdata\\local\\programs\\python\\python38\\lib\\site-packages (0.11.2)\n",
      "Requirement already satisfied: scikit-allel in c:\\users\\sleepy\\appdata\\local\\programs\\python\\python38\\lib\\site-packages (1.3.5)\n",
      "Requirement already satisfied: dask[array] in c:\\users\\sleepy\\appdata\\local\\programs\\python\\python38\\lib\\site-packages (from scikit-allel) (2022.2.1)\n",
      "Requirement already satisfied: numpy in c:\\users\\sleepy\\appdata\\local\\programs\\python\\python38\\lib\\site-packages (from scikit-allel) (1.21.4+mkl)\n",
      "Requirement already satisfied: pyyaml>=5.3.1 in c:\\users\\sleepy\\appdata\\local\\programs\\python\\python38\\lib\\site-packages (from dask[array]->scikit-allel) (6.0)\n",
      "Requirement already satisfied: fsspec>=0.6.0 in c:\\users\\sleepy\\appdata\\local\\programs\\python\\python38\\lib\\site-packages (from dask[array]->scikit-allel) (2022.2.0)\n",
      "Requirement already satisfied: partd>=0.3.10 in c:\\users\\sleepy\\appdata\\local\\programs\\python\\python38\\lib\\site-packages (from dask[array]->scikit-allel) (1.2.0)\n",
      "Requirement already satisfied: packaging>=20.0 in c:\\users\\sleepy\\appdata\\local\\programs\\python\\python38\\lib\\site-packages (from dask[array]->scikit-allel) (21.3)\n",
      "Requirement already satisfied: cloudpickle>=1.1.1 in c:\\users\\sleepy\\appdata\\local\\programs\\python\\python38\\lib\\site-packages (from dask[array]->scikit-allel) (2.0.0)\n",
      "Requirement already satisfied: pyparsing!=3.0.5,>=2.0.2 in c:\\users\\sleepy\\appdata\\local\\programs\\python\\python38\\lib\\site-packages (from packaging>=20.0->dask[array]->scikit-allel) (3.0.6)\n",
      "Requirement already satisfied: locket in c:\\users\\sleepy\\appdata\\local\\programs\\python\\python38\\lib\\site-packages (from partd>=0.3.10->dask[array]->scikit-allel) (0.2.1)\n"
     ]
    },
    {
     "name": "stderr",
     "output_type": "stream",
     "text": [
      "WARNING: You are using pip version 21.3.1; however, version 23.0 is available.\n",
      "You should consider upgrading via the 'c:\\users\\sleepy\\appdata\\local\\programs\\python\\python38\\python.exe -m pip install --upgrade pip' command.\n"
     ]
    }
   ],
   "source": [
    "!pip install toolz scikit-allel\n",
    "\n",
    "import os\n",
    "import numpy as np\n",
    "import pandas as pd\n",
    "import ast\n",
    "import math\n",
    "import re\n",
    "import itertools\n",
    "import random\n",
    "import json\n",
    "import matplotlib\n",
    "from matplotlib.pyplot import plot as plt\n",
    "from scipy.spatial.distance import squareform\n",
    "from pylab import *\n",
    "mpl.use(\"pgf\")\n",
    "# activate latex text rendering\n",
    "rc('text', usetex=True)\n",
    "rc('axes', linewidth=2)\n",
    "rc('font', weight='bold')\n",
    "mpl.rcParams.update({\n",
    "    \"pgf.texsystem\": \"pdflatex\",\n",
    "    'font.family': 'serif',\n",
    "    'text.usetex': True,\n",
    "    'pgf.rcfonts': False,\n",
    "    'text.latex.preamble':r'\\usepackage{sfmath} \\boldmath'\n",
    "})\n",
    "%matplotlib inline\n",
    "import seaborn as sns\n",
    "sns.set_theme(style=\"whitegrid\")\n",
    "from sklearn.model_selection import KFold,StratifiedKFold\n",
    "from sklearn.model_selection import train_test_split\n",
    "from tqdm import tqdm\n",
    "import allel\n",
    "sns.set_theme(style=\"white\")\n"
   ]
  },
  {
   "cell_type": "code",
   "execution_count": 2,
   "outputs": [
    {
     "data": {
      "text/plain": "   #CHROM       POS                               ID REF  \\\n0      22  16050654  DUP_gs_CNV_22_16050654_16063474   A   \n1      22  16533236                      SI_BD_17525   C   \n2      22  16577743                   YL_CN_CEU_5170   T   \n3      22  16589908                      SI_BD_17528   T   \n4      22  16633635                   YL_CN_STU_4360   G   \n\n                       ALT QUAL FILTER  \\\n0  <CN0>,<CN2>,<CN3>,<CN4>    .   PASS   \n1                    <CN0>  100   PASS   \n2                    <CN0>  100   PASS   \n3                    <CN0>  100   PASS   \n4                    <CN0>  100   PASS   \n\n                                                INFO FORMAT HG00096  ...  \\\n0  AC=9,87,599,20;AF=0.00179712,0.0173722,0.11960...     GT     3|0  ...   \n1  AC=125;AF=0.0249601;AFR_AF=0.09;AMR_AF=0.0086;...     GT     0|0  ...   \n2  AC=29;AF=0.00579073;AFR_AF=0.0098;AMR_AF=0.001...     GT     0|0  ...   \n3  AC=186;AF=0.0371406;AFR_AF=0.1021;AMR_AF=0.014...     GT     0|0  ...   \n4  AC=2;AF=0.00039936;AFR_AF=0;AMR_AF=0;AN=5008;C...     GT     0|0  ...   \n\n  NA21128 NA21129 NA21130 NA21133 NA21135 NA21137 NA21141 NA21142 NA21143  \\\n0     0|0     0|0     0|0     0|0     0|0     3|0     3|0     0|0     0|0   \n1     0|0     0|0     0|0     0|0     0|0     0|0     0|0     0|0     0|0   \n2     0|0     0|0     0|0     0|0     0|0     0|0     0|0     0|0     0|0   \n3     0|0     0|0     0|0     0|0     0|0     0|0     0|0     0|0     0|0   \n4     0|0     0|0     0|0     0|0     0|0     0|0     0|0     0|0     0|0   \n\n  NA21144  \n0     0|0  \n1     0|0  \n2     0|0  \n3     0|0  \n4     0|0  \n\n[5 rows x 2513 columns]",
      "text/html": "<div>\n<style scoped>\n    .dataframe tbody tr th:only-of-type {\n        vertical-align: middle;\n    }\n\n    .dataframe tbody tr th {\n        vertical-align: top;\n    }\n\n    .dataframe thead th {\n        text-align: right;\n    }\n</style>\n<table border=\"1\" class=\"dataframe\">\n  <thead>\n    <tr style=\"text-align: right;\">\n      <th></th>\n      <th>#CHROM</th>\n      <th>POS</th>\n      <th>ID</th>\n      <th>REF</th>\n      <th>ALT</th>\n      <th>QUAL</th>\n      <th>FILTER</th>\n      <th>INFO</th>\n      <th>FORMAT</th>\n      <th>HG00096</th>\n      <th>...</th>\n      <th>NA21128</th>\n      <th>NA21129</th>\n      <th>NA21130</th>\n      <th>NA21133</th>\n      <th>NA21135</th>\n      <th>NA21137</th>\n      <th>NA21141</th>\n      <th>NA21142</th>\n      <th>NA21143</th>\n      <th>NA21144</th>\n    </tr>\n  </thead>\n  <tbody>\n    <tr>\n      <th>0</th>\n      <td>22</td>\n      <td>16050654</td>\n      <td>DUP_gs_CNV_22_16050654_16063474</td>\n      <td>A</td>\n      <td>&lt;CN0&gt;,&lt;CN2&gt;,&lt;CN3&gt;,&lt;CN4&gt;</td>\n      <td>.</td>\n      <td>PASS</td>\n      <td>AC=9,87,599,20;AF=0.00179712,0.0173722,0.11960...</td>\n      <td>GT</td>\n      <td>3|0</td>\n      <td>...</td>\n      <td>0|0</td>\n      <td>0|0</td>\n      <td>0|0</td>\n      <td>0|0</td>\n      <td>0|0</td>\n      <td>3|0</td>\n      <td>3|0</td>\n      <td>0|0</td>\n      <td>0|0</td>\n      <td>0|0</td>\n    </tr>\n    <tr>\n      <th>1</th>\n      <td>22</td>\n      <td>16533236</td>\n      <td>SI_BD_17525</td>\n      <td>C</td>\n      <td>&lt;CN0&gt;</td>\n      <td>100</td>\n      <td>PASS</td>\n      <td>AC=125;AF=0.0249601;AFR_AF=0.09;AMR_AF=0.0086;...</td>\n      <td>GT</td>\n      <td>0|0</td>\n      <td>...</td>\n      <td>0|0</td>\n      <td>0|0</td>\n      <td>0|0</td>\n      <td>0|0</td>\n      <td>0|0</td>\n      <td>0|0</td>\n      <td>0|0</td>\n      <td>0|0</td>\n      <td>0|0</td>\n      <td>0|0</td>\n    </tr>\n    <tr>\n      <th>2</th>\n      <td>22</td>\n      <td>16577743</td>\n      <td>YL_CN_CEU_5170</td>\n      <td>T</td>\n      <td>&lt;CN0&gt;</td>\n      <td>100</td>\n      <td>PASS</td>\n      <td>AC=29;AF=0.00579073;AFR_AF=0.0098;AMR_AF=0.001...</td>\n      <td>GT</td>\n      <td>0|0</td>\n      <td>...</td>\n      <td>0|0</td>\n      <td>0|0</td>\n      <td>0|0</td>\n      <td>0|0</td>\n      <td>0|0</td>\n      <td>0|0</td>\n      <td>0|0</td>\n      <td>0|0</td>\n      <td>0|0</td>\n      <td>0|0</td>\n    </tr>\n    <tr>\n      <th>3</th>\n      <td>22</td>\n      <td>16589908</td>\n      <td>SI_BD_17528</td>\n      <td>T</td>\n      <td>&lt;CN0&gt;</td>\n      <td>100</td>\n      <td>PASS</td>\n      <td>AC=186;AF=0.0371406;AFR_AF=0.1021;AMR_AF=0.014...</td>\n      <td>GT</td>\n      <td>0|0</td>\n      <td>...</td>\n      <td>0|0</td>\n      <td>0|0</td>\n      <td>0|0</td>\n      <td>0|0</td>\n      <td>0|0</td>\n      <td>0|0</td>\n      <td>0|0</td>\n      <td>0|0</td>\n      <td>0|0</td>\n      <td>0|0</td>\n    </tr>\n    <tr>\n      <th>4</th>\n      <td>22</td>\n      <td>16633635</td>\n      <td>YL_CN_STU_4360</td>\n      <td>G</td>\n      <td>&lt;CN0&gt;</td>\n      <td>100</td>\n      <td>PASS</td>\n      <td>AC=2;AF=0.00039936;AFR_AF=0;AMR_AF=0;AN=5008;C...</td>\n      <td>GT</td>\n      <td>0|0</td>\n      <td>...</td>\n      <td>0|0</td>\n      <td>0|0</td>\n      <td>0|0</td>\n      <td>0|0</td>\n      <td>0|0</td>\n      <td>0|0</td>\n      <td>0|0</td>\n      <td>0|0</td>\n      <td>0|0</td>\n      <td>0|0</td>\n    </tr>\n  </tbody>\n</table>\n<p>5 rows × 2513 columns</p>\n</div>"
     },
     "execution_count": 2,
     "metadata": {},
     "output_type": "execute_result"
    }
   ],
   "source": [
    "# load data\n",
    "root_dir = './data/'\n",
    "file_name = \"ALL.chr22.mergedSV.v8.20130502.svs.genotypes.vcf\"\n",
    "new_data_header = \"\"\n",
    "# get header\n",
    "with open(root_dir + file_name, 'r') as f_in:\n",
    "    # skip info\n",
    "    for line_num in range(70):\n",
    "        f_in.readline()\n",
    "\n",
    "    new_data_header = f_in.readline()\n",
    "# load data\n",
    "\n",
    "# load genotype\n",
    "genotypes = pd.read_csv(root_dir + file_name,\n",
    "                        comment='#', sep='\\t',\n",
    "                        names=new_data_header.strip().split('\\t'),\n",
    "                        header=None)\n",
    "headers = genotypes.columns[9:]\n",
    "genotypes.head()"
   ],
   "metadata": {
    "collapsed": false
   }
  },
  {
   "cell_type": "code",
   "execution_count": 3,
   "outputs": [],
   "source": [
    "def find_info_chunk(s, info_key=\"SVTYPE\"):\n",
    "  s_split = s.split(\";\")\n",
    "  for ss in s_split:\n",
    "    if ss.startswith(info_key):\n",
    "      return ss\n",
    "  return \"\""
   ],
   "metadata": {
    "collapsed": false
   }
  },
  {
   "cell_type": "code",
   "execution_count": 4,
   "outputs": [
    {
     "data": {
      "text/plain": "((848,),\n (array(['ALU', 'CNV', 'DEL', 'DEL_ALU', 'DUP', 'INS', 'INV', 'LINE1',\n         'SVA'], dtype=object),\n  array([ 96,  55, 573,   9,  79,   4,   5,   7,  20], dtype=int64)))"
     },
     "execution_count": 4,
     "metadata": {},
     "output_type": "execute_result"
    }
   ],
   "source": [
    "info = genotypes.iloc[:, 7:8]\n",
    "snv_types = info.applymap(lambda x: find_info_chunk(x, \"SVTYPE\").split(\"=\")[-1]).values.flatten()\n",
    "ACs = info.applymap(lambda x: len([int(m) for m in find_info_chunk(x, \"AC\").split(\"=\")[-1].split(\",\")])).values.flatten()\n",
    "is_biallelic = np.array([ac==1 for ac in ACs])\n",
    "snv_types.shape, np.unique(snv_types, return_counts=True)"
   ],
   "metadata": {
    "collapsed": false
   }
  },
  {
   "cell_type": "code",
   "execution_count": 5,
   "outputs": [
    {
     "data": {
      "text/plain": "              Family ID Paternal ID Maternal ID  Gender  Phenotype Population  \\\nIndividual ID                                                                   \nHG00096         HG00096           0           0       1          0        GBR   \nHG00097         HG00097           0           0       2          0        GBR   \nHG00098         HG00098           0           0       1          0        GBR   \nHG00099         HG00099           0           0       2          0        GBR   \nHG00100         HG00100           0           0       2          0        GBR   \n\n              Relationship Siblings Second Order Third Order Children  \\\nIndividual ID                                                           \nHG00096              unrel        0            0           0        0   \nHG00097              unrel        0            0           0        0   \nHG00098              unrel        0            0           0        0   \nHG00099              unrel        0            0           0        0   \nHG00100              unrel        0            0           0        0   \n\n              Other Comments  \nIndividual ID                 \nHG00096                    0  \nHG00097                    0  \nHG00098                    0  \nHG00099                    0  \nHG00100                    0  ",
      "text/html": "<div>\n<style scoped>\n    .dataframe tbody tr th:only-of-type {\n        vertical-align: middle;\n    }\n\n    .dataframe tbody tr th {\n        vertical-align: top;\n    }\n\n    .dataframe thead th {\n        text-align: right;\n    }\n</style>\n<table border=\"1\" class=\"dataframe\">\n  <thead>\n    <tr style=\"text-align: right;\">\n      <th></th>\n      <th>Family ID</th>\n      <th>Paternal ID</th>\n      <th>Maternal ID</th>\n      <th>Gender</th>\n      <th>Phenotype</th>\n      <th>Population</th>\n      <th>Relationship</th>\n      <th>Siblings</th>\n      <th>Second Order</th>\n      <th>Third Order</th>\n      <th>Children</th>\n      <th>Other Comments</th>\n    </tr>\n    <tr>\n      <th>Individual ID</th>\n      <th></th>\n      <th></th>\n      <th></th>\n      <th></th>\n      <th></th>\n      <th></th>\n      <th></th>\n      <th></th>\n      <th></th>\n      <th></th>\n      <th></th>\n      <th></th>\n    </tr>\n  </thead>\n  <tbody>\n    <tr>\n      <th>HG00096</th>\n      <td>HG00096</td>\n      <td>0</td>\n      <td>0</td>\n      <td>1</td>\n      <td>0</td>\n      <td>GBR</td>\n      <td>unrel</td>\n      <td>0</td>\n      <td>0</td>\n      <td>0</td>\n      <td>0</td>\n      <td>0</td>\n    </tr>\n    <tr>\n      <th>HG00097</th>\n      <td>HG00097</td>\n      <td>0</td>\n      <td>0</td>\n      <td>2</td>\n      <td>0</td>\n      <td>GBR</td>\n      <td>unrel</td>\n      <td>0</td>\n      <td>0</td>\n      <td>0</td>\n      <td>0</td>\n      <td>0</td>\n    </tr>\n    <tr>\n      <th>HG00098</th>\n      <td>HG00098</td>\n      <td>0</td>\n      <td>0</td>\n      <td>1</td>\n      <td>0</td>\n      <td>GBR</td>\n      <td>unrel</td>\n      <td>0</td>\n      <td>0</td>\n      <td>0</td>\n      <td>0</td>\n      <td>0</td>\n    </tr>\n    <tr>\n      <th>HG00099</th>\n      <td>HG00099</td>\n      <td>0</td>\n      <td>0</td>\n      <td>2</td>\n      <td>0</td>\n      <td>GBR</td>\n      <td>unrel</td>\n      <td>0</td>\n      <td>0</td>\n      <td>0</td>\n      <td>0</td>\n      <td>0</td>\n    </tr>\n    <tr>\n      <th>HG00100</th>\n      <td>HG00100</td>\n      <td>0</td>\n      <td>0</td>\n      <td>2</td>\n      <td>0</td>\n      <td>GBR</td>\n      <td>unrel</td>\n      <td>0</td>\n      <td>0</td>\n      <td>0</td>\n      <td>0</td>\n      <td>0</td>\n    </tr>\n  </tbody>\n</table>\n</div>"
     },
     "execution_count": 5,
     "metadata": {},
     "output_type": "execute_result"
    }
   ],
   "source": [
    "ped_file = 'integrated_call_samples.20130502.ALL.ped'\n",
    "pedigree = pd.read_csv(root_dir+ped_file, sep='\\t', index_col='Individual ID')\n",
    "pedigree.head()"
   ],
   "metadata": {
    "collapsed": false
   }
  },
  {
   "cell_type": "code",
   "execution_count": 6,
   "outputs": [
    {
     "data": {
      "text/plain": "(6, 37)"
     },
     "execution_count": 6,
     "metadata": {},
     "output_type": "execute_result"
    }
   ],
   "source": [
    "def get_max_genotype(g):\n",
    "  v1, v2 = g.split(\"|\")\n",
    "  return max(int(v1), int(v2)) + 1\n",
    "\n",
    "def key_gen(v1, v2):\n",
    "  return f\"{v1}|{v2}\"\n",
    "\n",
    "genotype_keys = np.unique(genotypes.iloc[:, 9:].T.values)\n",
    "max_gen = max(map(get_max_genotype, genotype_keys))\n",
    "onehot_encoding_depth = max_gen**2 + 1\n",
    "genotype_keys = [key_gen(i,j) for i in range(max_gen) for j in range(max_gen)]\n",
    "replacement_dict = {k:i for i,k in enumerate(genotype_keys)}\n",
    "reverse_replacement_dict = {v:k for k,v in replacement_dict.items()}\n",
    "max_gen, onehot_encoding_depth"
   ],
   "metadata": {
    "collapsed": false
   }
  },
  {
   "cell_type": "code",
   "execution_count": 7,
   "outputs": [
    {
     "data": {
      "text/plain": "(2504, 848)"
     },
     "execution_count": 7,
     "metadata": {},
     "output_type": "execute_result"
    }
   ],
   "source": [
    "Y_train = pedigree.loc[genotypes.iloc[:, 9:].T.index]['Population']\n",
    "X = genotypes.iloc[:, 9:].T[genotypes.iloc[:, 9:].T.index.isin(Y_train.index)]\n",
    "X = X.replace(replacement_dict)\n",
    "X.shape"
   ],
   "metadata": {
    "collapsed": false
   }
  },
  {
   "cell_type": "code",
   "execution_count": 8,
   "outputs": [
    {
     "data": {
      "text/plain": "(848, 848)"
     },
     "execution_count": 8,
     "metadata": {},
     "output_type": "execute_result"
    }
   ],
   "source": [
    "callset = allel.read_vcf(root_dir + 'ALL.chr22.mergedSV.v8.20130502.svs.genotypes.vcf')\n",
    "g = allel.GenotypeArray(callset['calldata/GT'][callset['variants/CHROM'] == '22'])\n",
    "gn = g.to_n_alt(fill=-1)\n",
    "r = allel.rogers_huff_r(gn)\n",
    "LD = squareform(r ** 2)\n",
    "LD.shape"
   ],
   "metadata": {
    "collapsed": false
   }
  },
  {
   "cell_type": "code",
   "execution_count": 82,
   "outputs": [
    {
     "data": {
      "text/plain": "<AxesSubplot:>"
     },
     "execution_count": 82,
     "metadata": {},
     "output_type": "execute_result"
    },
    {
     "data": {
      "text/plain": "<Figure size 432x288 with 2 Axes>",
      "image/png": "[encoded data removed]"
     },
     "metadata": {},
     "output_type": "display_data"
    }
   ],
   "source": [
    "# plt.figure(figsize=(8,8))\n",
    "sns.heatmap(LD, cmap=sns.cubehelix_palette(as_cmap=True))\n",
    "# plt.show()"
   ],
   "metadata": {
    "collapsed": false
   }
  },
  {
   "cell_type": "code",
   "execution_count": 9,
   "outputs": [
    {
     "data": {
      "text/plain": "(array([553.,  97.,  81.,  19.,  98.]),\n array([0. , 0.2, 0.4, 0.6, 0.8, 1. ]),\n <BarContainer object of 5 artists>)"
     },
     "execution_count": 9,
     "metadata": {},
     "output_type": "execute_result"
    },
    {
     "data": {
      "text/plain": "<Figure size 432x288 with 1 Axes>",
      "image/png": "[encoded data removed]"
     },
     "metadata": {},
     "output_type": "display_data"
    }
   ],
   "source": [
    "bins = [0, 0.2, 0.4, 0.6, 0.8, 1]\n",
    "plt.hist(np.max(LD, axis=1), bins=bins)"
   ],
   "metadata": {
    "collapsed": false
   }
  },
  {
   "cell_type": "code",
   "execution_count": 10,
   "outputs": [
    {
     "data": {
      "text/plain": "(array([1, 2, 3, 4, 5], dtype=int64),\n array([553,  97,  81,  19,  98], dtype=int64))"
     },
     "execution_count": 10,
     "metadata": {},
     "output_type": "execute_result"
    }
   ],
   "source": [
    "LD_max_freqs = np.amax(LD, axis=1)\n",
    "bin_labels = np.digitize(LD_max_freqs, bins=bins, right=True)\n",
    "bin_general_labels, bin_counts = np.unique(bin_labels, return_counts=True)\n",
    "bin_general_labels, bin_counts"
   ],
   "metadata": {
    "collapsed": false
   }
  },
  {
   "cell_type": "code",
   "execution_count": 11,
   "outputs": [
    {
     "name": "stdout",
     "output_type": "stream",
     "text": [
      "Fold: 1\n",
      "Missing rate: 0.05\n"
     ]
    },
    {
     "name": "stderr",
     "output_type": "stream",
     "text": [
      "100%|██████████| 835/835 [00:01<00:00, 528.63it/s]\n"
     ]
    },
    {
     "name": "stdout",
     "output_type": "stream",
     "text": [
      "Missing rate: 0.1\n"
     ]
    },
    {
     "name": "stderr",
     "output_type": "stream",
     "text": [
      "100%|██████████| 835/835 [00:02<00:00, 331.88it/s]\n"
     ]
    },
    {
     "name": "stdout",
     "output_type": "stream",
     "text": [
      "Missing rate: 0.2\n"
     ]
    },
    {
     "name": "stderr",
     "output_type": "stream",
     "text": [
      "100%|██████████| 835/835 [00:04<00:00, 188.60it/s]\n"
     ]
    },
    {
     "name": "stdout",
     "output_type": "stream",
     "text": [
      "Fold: 2\n",
      "Missing rate: 0.05\n"
     ]
    },
    {
     "name": "stderr",
     "output_type": "stream",
     "text": [
      "100%|██████████| 835/835 [00:01<00:00, 559.03it/s]\n"
     ]
    },
    {
     "name": "stdout",
     "output_type": "stream",
     "text": [
      "Missing rate: 0.1\n"
     ]
    },
    {
     "name": "stderr",
     "output_type": "stream",
     "text": [
      "100%|██████████| 835/835 [00:02<00:00, 332.25it/s]\n"
     ]
    },
    {
     "name": "stdout",
     "output_type": "stream",
     "text": [
      "Missing rate: 0.2\n"
     ]
    },
    {
     "name": "stderr",
     "output_type": "stream",
     "text": [
      "100%|██████████| 835/835 [00:04<00:00, 189.36it/s]\n"
     ]
    },
    {
     "name": "stdout",
     "output_type": "stream",
     "text": [
      "Fold: 3\n",
      "Missing rate: 0.05\n"
     ]
    },
    {
     "name": "stderr",
     "output_type": "stream",
     "text": [
      "100%|██████████| 834/834 [00:01<00:00, 548.72it/s]\n"
     ]
    },
    {
     "name": "stdout",
     "output_type": "stream",
     "text": [
      "Missing rate: 0.1\n"
     ]
    },
    {
     "name": "stderr",
     "output_type": "stream",
     "text": [
      "100%|██████████| 834/834 [00:02<00:00, 344.66it/s]\n"
     ]
    },
    {
     "name": "stdout",
     "output_type": "stream",
     "text": [
      "Missing rate: 0.2\n"
     ]
    },
    {
     "name": "stderr",
     "output_type": "stream",
     "text": [
      "100%|██████████| 834/834 [00:04<00:00, 187.45it/s]\n"
     ]
    },
    {
     "name": "stdout",
     "output_type": "stream",
     "text": [
      "Combining the results...\n"
     ]
    },
    {
     "name": "stderr",
     "output_type": "stream",
     "text": [
      "9it [00:00, 60.93it/s]\n"
     ]
    },
    {
     "data": {
      "text/plain": "       Fold MissingRate               LD Accuracy Sample ID SNV type  \\\n0         1        0.05    0 <= LD < 0.2        1   NA21144      DUP   \n1         1        0.05  0.2 <= LD < 0.4        1   NA21144      DEL   \n2         1        0.05    0 <= LD < 0.2        1   NA21144      DEL   \n3         1        0.05    0 <= LD < 0.2        1   NA21144      DEL   \n4         1        0.05    0 <= LD < 0.2        1   NA21144      DEL   \n...     ...         ...              ...      ...       ...      ...   \n738675    3         0.2  0.2 <= LD < 0.4        1   HG00097      DEL   \n738676    3         0.2    0 <= LD < 0.2        1   HG00097      DEL   \n738677    3         0.2    0 <= LD < 0.2        1   HG00097      DEL   \n738678    3         0.2  0.4 <= LD < 0.6        1   HG00097      DEL   \n738679    3         0.2    0 <= LD < 0.2        1   HG00097      DEL   \n\n       Is Biallelic  \n0              True  \n1              True  \n2              True  \n3              True  \n4              True  \n...             ...  \n738675         True  \n738676         True  \n738677         True  \n738678         True  \n738679         True  \n\n[738680 rows x 7 columns]",
      "text/html": "<div>\n<style scoped>\n    .dataframe tbody tr th:only-of-type {\n        vertical-align: middle;\n    }\n\n    .dataframe tbody tr th {\n        vertical-align: top;\n    }\n\n    .dataframe thead th {\n        text-align: right;\n    }\n</style>\n<table border=\"1\" class=\"dataframe\">\n  <thead>\n    <tr style=\"text-align: right;\">\n      <th></th>\n      <th>Fold</th>\n      <th>MissingRate</th>\n      <th>LD</th>\n      <th>Accuracy</th>\n      <th>Sample ID</th>\n      <th>SNV type</th>\n      <th>Is Biallelic</th>\n    </tr>\n  </thead>\n  <tbody>\n    <tr>\n      <th>0</th>\n      <td>1</td>\n      <td>0.05</td>\n      <td>0 &lt;= LD &lt; 0.2</td>\n      <td>1</td>\n      <td>NA21144</td>\n      <td>DUP</td>\n      <td>True</td>\n    </tr>\n    <tr>\n      <th>1</th>\n      <td>1</td>\n      <td>0.05</td>\n      <td>0.2 &lt;= LD &lt; 0.4</td>\n      <td>1</td>\n      <td>NA21144</td>\n      <td>DEL</td>\n      <td>True</td>\n    </tr>\n    <tr>\n      <th>2</th>\n      <td>1</td>\n      <td>0.05</td>\n      <td>0 &lt;= LD &lt; 0.2</td>\n      <td>1</td>\n      <td>NA21144</td>\n      <td>DEL</td>\n      <td>True</td>\n    </tr>\n    <tr>\n      <th>3</th>\n      <td>1</td>\n      <td>0.05</td>\n      <td>0 &lt;= LD &lt; 0.2</td>\n      <td>1</td>\n      <td>NA21144</td>\n      <td>DEL</td>\n      <td>True</td>\n    </tr>\n    <tr>\n      <th>4</th>\n      <td>1</td>\n      <td>0.05</td>\n      <td>0 &lt;= LD &lt; 0.2</td>\n      <td>1</td>\n      <td>NA21144</td>\n      <td>DEL</td>\n      <td>True</td>\n    </tr>\n    <tr>\n      <th>...</th>\n      <td>...</td>\n      <td>...</td>\n      <td>...</td>\n      <td>...</td>\n      <td>...</td>\n      <td>...</td>\n      <td>...</td>\n    </tr>\n    <tr>\n      <th>738675</th>\n      <td>3</td>\n      <td>0.2</td>\n      <td>0.2 &lt;= LD &lt; 0.4</td>\n      <td>1</td>\n      <td>HG00097</td>\n      <td>DEL</td>\n      <td>True</td>\n    </tr>\n    <tr>\n      <th>738676</th>\n      <td>3</td>\n      <td>0.2</td>\n      <td>0 &lt;= LD &lt; 0.2</td>\n      <td>1</td>\n      <td>HG00097</td>\n      <td>DEL</td>\n      <td>True</td>\n    </tr>\n    <tr>\n      <th>738677</th>\n      <td>3</td>\n      <td>0.2</td>\n      <td>0 &lt;= LD &lt; 0.2</td>\n      <td>1</td>\n      <td>HG00097</td>\n      <td>DEL</td>\n      <td>True</td>\n    </tr>\n    <tr>\n      <th>738678</th>\n      <td>3</td>\n      <td>0.2</td>\n      <td>0.4 &lt;= LD &lt; 0.6</td>\n      <td>1</td>\n      <td>HG00097</td>\n      <td>DEL</td>\n      <td>True</td>\n    </tr>\n    <tr>\n      <th>738679</th>\n      <td>3</td>\n      <td>0.2</td>\n      <td>0 &lt;= LD &lt; 0.2</td>\n      <td>1</td>\n      <td>HG00097</td>\n      <td>DEL</td>\n      <td>True</td>\n    </tr>\n  </tbody>\n</table>\n<p>738680 rows × 7 columns</p>\n</div>"
     },
     "execution_count": 11,
     "metadata": {},
     "output_type": "execute_result"
    }
   ],
   "source": [
    "columns = [\"Fold\", \"MissingRate\", \"LD\", \"Accuracy\", \"Sample ID\", \"SNV type\", \"Is Biallelic\"]\n",
    "dfs = []\n",
    "\n",
    "N_SPLITS=3\n",
    "kf = KFold(n_splits=N_SPLITS, shuffle=True, random_state=2022)\n",
    "fold = 0\n",
    "_x = X[X.index.isin(Y_train.index)].to_numpy()\n",
    "for train_index, test_index in kf.split(_x):\n",
    "  fold += 1\n",
    "  print(f\"Fold: {fold}\")\n",
    "  y = _x[test_index]\n",
    "  for missing_perc in [0.05,\n",
    "                       0.1,\n",
    "                       0.2]:\n",
    "    dataframe = pd.DataFrame(columns = columns)\n",
    "    print(f\"Missing rate: {missing_perc}\")\n",
    "    file_name = f\"./experimental_results/Chr22/ALL/HLA_DEEP/preds_mixed_mr_{missing_perc}_rs_{fold}_.csv\"\n",
    "    result_genotypes = pd.read_csv(file_name, index_col=0)\n",
    "    result_genotypes = result_genotypes.replace(replacement_dict)\n",
    "    yhat = result_genotypes.to_numpy()\n",
    "    assert y.shape == yhat.shape\n",
    "    for i in tqdm(list(range(y.shape[0]))):\n",
    "        missing_index, _ = train_test_split(np.arange(y.shape[1]), train_size=missing_perc,\n",
    "                                            random_state=i + fold,\n",
    "                                            shuffle=True,\n",
    "                                            stratify=bin_labels\n",
    "                                            )\n",
    "        # for mi in missing_index:\n",
    "        #     maf_bin_label = maf_bin_labels[mi]\n",
    "        #     df.loc[-1] = [fold, missing_perc, maf_bin_label, int(yhat[i, mi]==y[i, mi])]\n",
    "        #     df.index += 1\n",
    "        a = np.reshape(bin_labels[missing_index], (-1, 1))\n",
    "        b = np.array([fold for _ in missing_index]).reshape((-1, 1))\n",
    "        c = np.array([missing_perc for _ in missing_index]).reshape((-1, 1))\n",
    "        d = (yhat[i, missing_index]==y[i, missing_index]).astype(int).reshape((-1, 1))\n",
    "        e = np.array([X.index[test_index][i] for _ in missing_index]).astype(object).reshape((-1, 1))\n",
    "        f = snv_types[missing_index].reshape((-1, 1))\n",
    "        g = is_biallelic[missing_index].reshape((-1, 1))\n",
    "        dataframe = pd.concat([pd.DataFrame(np.concatenate([b,c,a,d,e,f,g], axis=1), columns=dataframe.columns), dataframe], ignore_index=True)\n",
    "    dfs.append(dataframe)\n",
    "\n",
    "df = pd.DataFrame(columns = columns)\n",
    "print(\"Combining the results...\")\n",
    "for i, dff in tqdm(enumerate(dfs)):\n",
    "    df = pd.concat([df, dff], ignore_index=True)\n",
    "del dfs\n",
    "\n",
    "df[\"LD\"] = df[\"LD\"].replace({\n",
    "    1.0: '0 <= LD < 0.2',\n",
    "    2.0: '0.2 <= LD < 0.4',\n",
    "    3.0: '0.4 <= LD < 0.6',\n",
    "    4.0: '0.6 <= LD < 0.8',\n",
    "    5.0: '0.8 <= LD <= 1',\n",
    "})\n",
    "df"
   ],
   "metadata": {
    "collapsed": false
   }
  },
  {
   "cell_type": "code",
   "execution_count": 86,
   "outputs": [],
   "source": [
    "df.to_csv(\"results_in_table/Chr22/ALL/LD_HLA_DEEP.csv\")"
   ],
   "metadata": {
    "collapsed": false
   }
  },
  {
   "cell_type": "code",
   "execution_count": 87,
   "outputs": [
    {
     "data": {
      "text/plain": "                             Accuracy          \n                                 mean       std\nMissingRate LD                                 \n0.05        0 <= LD < 0.2    0.937700  0.241702\n            0.2 <= LD < 0.4  0.973642  0.160203\n            0.4 <= LD < 0.6  0.998303  0.041165\n            0.6 <= LD < 0.8  0.994808  0.071880\n            0.8 <= LD <= 1   0.986422  0.115737\n0.10        0 <= LD < 0.2    0.938419  0.240395\n            0.2 <= LD < 0.4  0.973110  0.161766\n            0.4 <= LD < 0.6  0.998053  0.044082\n            0.6 <= LD < 0.8  0.994609  0.073235\n            0.8 <= LD <= 1   0.986222  0.116570\n0.20        0 <= LD < 0.2    0.938331  0.240553\n            0.2 <= LD < 0.4  0.972087  0.164726\n            0.4 <= LD < 0.6  0.997804  0.046816\n            0.6 <= LD < 0.8  0.993011  0.083311\n            0.8 <= LD <= 1   0.986562  0.115144",
      "text/html": "<div>\n<style scoped>\n    .dataframe tbody tr th:only-of-type {\n        vertical-align: middle;\n    }\n\n    .dataframe tbody tr th {\n        vertical-align: top;\n    }\n\n    .dataframe thead tr th {\n        text-align: left;\n    }\n\n    .dataframe thead tr:last-of-type th {\n        text-align: right;\n    }\n</style>\n<table border=\"1\" class=\"dataframe\">\n  <thead>\n    <tr>\n      <th></th>\n      <th></th>\n      <th colspan=\"2\" halign=\"left\">Accuracy</th>\n    </tr>\n    <tr>\n      <th></th>\n      <th></th>\n      <th>mean</th>\n      <th>std</th>\n    </tr>\n    <tr>\n      <th>MissingRate</th>\n      <th>LD</th>\n      <th></th>\n      <th></th>\n    </tr>\n  </thead>\n  <tbody>\n    <tr>\n      <th rowspan=\"5\" valign=\"top\">0.05</th>\n      <th>0 &lt;= LD &lt; 0.2</th>\n      <td>0.937700</td>\n      <td>0.241702</td>\n    </tr>\n    <tr>\n      <th>0.2 &lt;= LD &lt; 0.4</th>\n      <td>0.973642</td>\n      <td>0.160203</td>\n    </tr>\n    <tr>\n      <th>0.4 &lt;= LD &lt; 0.6</th>\n      <td>0.998303</td>\n      <td>0.041165</td>\n    </tr>\n    <tr>\n      <th>0.6 &lt;= LD &lt; 0.8</th>\n      <td>0.994808</td>\n      <td>0.071880</td>\n    </tr>\n    <tr>\n      <th>0.8 &lt;= LD &lt;= 1</th>\n      <td>0.986422</td>\n      <td>0.115737</td>\n    </tr>\n    <tr>\n      <th rowspan=\"5\" valign=\"top\">0.10</th>\n      <th>0 &lt;= LD &lt; 0.2</th>\n      <td>0.938419</td>\n      <td>0.240395</td>\n    </tr>\n    <tr>\n      <th>0.2 &lt;= LD &lt; 0.4</th>\n      <td>0.973110</td>\n      <td>0.161766</td>\n    </tr>\n    <tr>\n      <th>0.4 &lt;= LD &lt; 0.6</th>\n      <td>0.998053</td>\n      <td>0.044082</td>\n    </tr>\n    <tr>\n      <th>0.6 &lt;= LD &lt; 0.8</th>\n      <td>0.994609</td>\n      <td>0.073235</td>\n    </tr>\n    <tr>\n      <th>0.8 &lt;= LD &lt;= 1</th>\n      <td>0.986222</td>\n      <td>0.116570</td>\n    </tr>\n    <tr>\n      <th rowspan=\"5\" valign=\"top\">0.20</th>\n      <th>0 &lt;= LD &lt; 0.2</th>\n      <td>0.938331</td>\n      <td>0.240553</td>\n    </tr>\n    <tr>\n      <th>0.2 &lt;= LD &lt; 0.4</th>\n      <td>0.972087</td>\n      <td>0.164726</td>\n    </tr>\n    <tr>\n      <th>0.4 &lt;= LD &lt; 0.6</th>\n      <td>0.997804</td>\n      <td>0.046816</td>\n    </tr>\n    <tr>\n      <th>0.6 &lt;= LD &lt; 0.8</th>\n      <td>0.993011</td>\n      <td>0.083311</td>\n    </tr>\n    <tr>\n      <th>0.8 &lt;= LD &lt;= 1</th>\n      <td>0.986562</td>\n      <td>0.115144</td>\n    </tr>\n  </tbody>\n</table>\n</div>"
     },
     "execution_count": 87,
     "metadata": {},
     "output_type": "execute_result"
    }
   ],
   "source": [
    "df.groupby([\"MissingRate\", \"LD\"]).agg( {\"Accuracy\":[\"mean\", \"std\"]})"
   ],
   "metadata": {
    "collapsed": false
   }
  },
  {
   "cell_type": "code",
   "execution_count": 88,
   "outputs": [
    {
     "data": {
      "text/plain": "                  Accuracy\nFold MissingRate          \n1    0.05         0.953094\n     0.10         0.953921\n     0.20         0.953747\n2    0.05         0.956573\n     0.10         0.955845\n     0.20         0.955271\n3    0.05         0.955065\n     0.10         0.954765\n     0.20         0.955259",
      "text/html": "<div>\n<style scoped>\n    .dataframe tbody tr th:only-of-type {\n        vertical-align: middle;\n    }\n\n    .dataframe tbody tr th {\n        vertical-align: top;\n    }\n\n    .dataframe thead th {\n        text-align: right;\n    }\n</style>\n<table border=\"1\" class=\"dataframe\">\n  <thead>\n    <tr style=\"text-align: right;\">\n      <th></th>\n      <th></th>\n      <th>Accuracy</th>\n    </tr>\n    <tr>\n      <th>Fold</th>\n      <th>MissingRate</th>\n      <th></th>\n    </tr>\n  </thead>\n  <tbody>\n    <tr>\n      <th rowspan=\"3\" valign=\"top\">1</th>\n      <th>0.05</th>\n      <td>0.953094</td>\n    </tr>\n    <tr>\n      <th>0.10</th>\n      <td>0.953921</td>\n    </tr>\n    <tr>\n      <th>0.20</th>\n      <td>0.953747</td>\n    </tr>\n    <tr>\n      <th rowspan=\"3\" valign=\"top\">2</th>\n      <th>0.05</th>\n      <td>0.956573</td>\n    </tr>\n    <tr>\n      <th>0.10</th>\n      <td>0.955845</td>\n    </tr>\n    <tr>\n      <th>0.20</th>\n      <td>0.955271</td>\n    </tr>\n    <tr>\n      <th rowspan=\"3\" valign=\"top\">3</th>\n      <th>0.05</th>\n      <td>0.955065</td>\n    </tr>\n    <tr>\n      <th>0.10</th>\n      <td>0.954765</td>\n    </tr>\n    <tr>\n      <th>0.20</th>\n      <td>0.955259</td>\n    </tr>\n  </tbody>\n</table>\n</div>"
     },
     "execution_count": 88,
     "metadata": {},
     "output_type": "execute_result"
    }
   ],
   "source": [
    "df1 = df.groupby([\"Fold\", \"MissingRate\", \"Sample ID\"]).agg( {\"Accuracy\":\"mean\"}).reset_index()\n",
    "df1 = df1.groupby([\"Fold\", \"MissingRate\"]).agg( {\"Accuracy\":\"mean\"})\n",
    "df1"
   ],
   "metadata": {
    "collapsed": false
   }
  },
  {
   "cell_type": "code",
   "execution_count": 89,
   "outputs": [
    {
     "data": {
      "text/plain": "             Accuracy          \n                 mean       std\nMissingRate                    \n0.05         0.954910  0.001744\n0.10         0.954844  0.000965\n0.20         0.954759  0.000876",
      "text/html": "<div>\n<style scoped>\n    .dataframe tbody tr th:only-of-type {\n        vertical-align: middle;\n    }\n\n    .dataframe tbody tr th {\n        vertical-align: top;\n    }\n\n    .dataframe thead tr th {\n        text-align: left;\n    }\n\n    .dataframe thead tr:last-of-type th {\n        text-align: right;\n    }\n</style>\n<table border=\"1\" class=\"dataframe\">\n  <thead>\n    <tr>\n      <th></th>\n      <th colspan=\"2\" halign=\"left\">Accuracy</th>\n    </tr>\n    <tr>\n      <th></th>\n      <th>mean</th>\n      <th>std</th>\n    </tr>\n    <tr>\n      <th>MissingRate</th>\n      <th></th>\n      <th></th>\n    </tr>\n  </thead>\n  <tbody>\n    <tr>\n      <th>0.05</th>\n      <td>0.954910</td>\n      <td>0.001744</td>\n    </tr>\n    <tr>\n      <th>0.10</th>\n      <td>0.954844</td>\n      <td>0.000965</td>\n    </tr>\n    <tr>\n      <th>0.20</th>\n      <td>0.954759</td>\n      <td>0.000876</td>\n    </tr>\n  </tbody>\n</table>\n</div>"
     },
     "execution_count": 89,
     "metadata": {},
     "output_type": "execute_result"
    }
   ],
   "source": [
    "df1 = df.groupby([\"Fold\", \"MissingRate\", \"Sample ID\"]).agg( {\"Accuracy\":\"mean\"}).reset_index()\n",
    "df1 = df1.groupby([\"Fold\", \"MissingRate\"]).agg( {\"Accuracy\":\"mean\"}).reset_index()# df1.columns = df1.columns.droplevel(0)\n",
    "df1 = df1.groupby([\"MissingRate\"]).agg( {\"Accuracy\":[\"mean\", \"std\"]})#.reset_index()\n",
    "df1"
   ],
   "metadata": {
    "collapsed": false
   }
  },
  {
   "cell_type": "code",
   "execution_count": 12,
   "outputs": [
    {
     "data": {
      "text/plain": "       Fold MissingRate SNV type Accuracy Sample ID\n0         1        0.05      DUP        1   NA21144\n1         1        0.05      DEL        1   NA21144\n2         1        0.05      DEL        1   NA21144\n3         1        0.05      DEL        1   NA21144\n4         1        0.05      DEL        1   NA21144\n...     ...         ...      ...      ...       ...\n738675    3         0.2      DEL        1   HG00097\n738676    3         0.2      DEL        1   HG00097\n738677    3         0.2      DEL        1   HG00097\n738678    3         0.2      DEL        1   HG00097\n738679    3         0.2      DEL        1   HG00097\n\n[738680 rows x 5 columns]",
      "text/html": "<div>\n<style scoped>\n    .dataframe tbody tr th:only-of-type {\n        vertical-align: middle;\n    }\n\n    .dataframe tbody tr th {\n        vertical-align: top;\n    }\n\n    .dataframe thead th {\n        text-align: right;\n    }\n</style>\n<table border=\"1\" class=\"dataframe\">\n  <thead>\n    <tr style=\"text-align: right;\">\n      <th></th>\n      <th>Fold</th>\n      <th>MissingRate</th>\n      <th>SNV type</th>\n      <th>Accuracy</th>\n      <th>Sample ID</th>\n    </tr>\n  </thead>\n  <tbody>\n    <tr>\n      <th>0</th>\n      <td>1</td>\n      <td>0.05</td>\n      <td>DUP</td>\n      <td>1</td>\n      <td>NA21144</td>\n    </tr>\n    <tr>\n      <th>1</th>\n      <td>1</td>\n      <td>0.05</td>\n      <td>DEL</td>\n      <td>1</td>\n      <td>NA21144</td>\n    </tr>\n    <tr>\n      <th>2</th>\n      <td>1</td>\n      <td>0.05</td>\n      <td>DEL</td>\n      <td>1</td>\n      <td>NA21144</td>\n    </tr>\n    <tr>\n      <th>3</th>\n      <td>1</td>\n      <td>0.05</td>\n      <td>DEL</td>\n      <td>1</td>\n      <td>NA21144</td>\n    </tr>\n    <tr>\n      <th>4</th>\n      <td>1</td>\n      <td>0.05</td>\n      <td>DEL</td>\n      <td>1</td>\n      <td>NA21144</td>\n    </tr>\n    <tr>\n      <th>...</th>\n      <td>...</td>\n      <td>...</td>\n      <td>...</td>\n      <td>...</td>\n      <td>...</td>\n    </tr>\n    <tr>\n      <th>738675</th>\n      <td>3</td>\n      <td>0.2</td>\n      <td>DEL</td>\n      <td>1</td>\n      <td>HG00097</td>\n    </tr>\n    <tr>\n      <th>738676</th>\n      <td>3</td>\n      <td>0.2</td>\n      <td>DEL</td>\n      <td>1</td>\n      <td>HG00097</td>\n    </tr>\n    <tr>\n      <th>738677</th>\n      <td>3</td>\n      <td>0.2</td>\n      <td>DEL</td>\n      <td>1</td>\n      <td>HG00097</td>\n    </tr>\n    <tr>\n      <th>738678</th>\n      <td>3</td>\n      <td>0.2</td>\n      <td>DEL</td>\n      <td>1</td>\n      <td>HG00097</td>\n    </tr>\n    <tr>\n      <th>738679</th>\n      <td>3</td>\n      <td>0.2</td>\n      <td>DEL</td>\n      <td>1</td>\n      <td>HG00097</td>\n    </tr>\n  </tbody>\n</table>\n<p>738680 rows × 5 columns</p>\n</div>"
     },
     "execution_count": 12,
     "metadata": {},
     "output_type": "execute_result"
    }
   ],
   "source": [
    "# df1 = df.groupby([\"Fold\", \"SNV type\", \"MissingRate\", \"Sample ID\"]).agg( {\"Accuracy\":\"mean\"}).reset_index()\n",
    "# df1 = df1.groupby([\"Fold\", \"MissingRate\", \"SNV type\"]).agg( {\"Accuracy\":\"mean\"}).reset_index()# df1.columns = df1.columns.droplevel(0)\n",
    "# df1 = df1.groupby([\"SNV type\"]).agg( {\"Accuracy\":[\"mean\", \"std\"]})#.reset_index()\n",
    "# df_to_write = df1.loc[:, [\"Fold\", \"MissingRate\", \"SNV type\",\"Accuracy\", \"Sample ID\"]]\n",
    "df_to_write = df.copy()\n",
    "df_to_write[\"Method\"] = \"HLA*DEEP\"\n",
    "df_to_write.to_csv(\"experimental_results/Chr22/ALL/detailed_results.csv\",\n",
    "                   index=False, header=True, mode='w')\n",
    "df.loc[:, [\"Fold\", \"MissingRate\", \"SNV type\",\"Accuracy\", \"Sample ID\"]]"
   ],
   "metadata": {
    "collapsed": false
   }
  },
  {
   "cell_type": "code",
   "execution_count": 13,
   "outputs": [
    {
     "name": "stdout",
     "output_type": "stream",
     "text": [
      "Fold: 1\n",
      "Missing rate: 0.05\n"
     ]
    },
    {
     "name": "stderr",
     "output_type": "stream",
     "text": [
      "100%|██████████| 835/835 [00:01<00:00, 530.45it/s]\n"
     ]
    },
    {
     "name": "stdout",
     "output_type": "stream",
     "text": [
      "Missing rate: 0.1\n"
     ]
    },
    {
     "name": "stderr",
     "output_type": "stream",
     "text": [
      "100%|██████████| 835/835 [00:02<00:00, 341.10it/s]\n"
     ]
    },
    {
     "name": "stdout",
     "output_type": "stream",
     "text": [
      "Missing rate: 0.2\n"
     ]
    },
    {
     "name": "stderr",
     "output_type": "stream",
     "text": [
      "100%|██████████| 835/835 [00:04<00:00, 189.82it/s]\n"
     ]
    },
    {
     "name": "stdout",
     "output_type": "stream",
     "text": [
      "Fold: 2\n",
      "Missing rate: 0.05\n"
     ]
    },
    {
     "name": "stderr",
     "output_type": "stream",
     "text": [
      "100%|██████████| 835/835 [00:01<00:00, 550.70it/s]\n"
     ]
    },
    {
     "name": "stdout",
     "output_type": "stream",
     "text": [
      "Missing rate: 0.1\n"
     ]
    },
    {
     "name": "stderr",
     "output_type": "stream",
     "text": [
      "100%|██████████| 835/835 [00:02<00:00, 340.75it/s]\n"
     ]
    },
    {
     "name": "stdout",
     "output_type": "stream",
     "text": [
      "Missing rate: 0.2\n"
     ]
    },
    {
     "name": "stderr",
     "output_type": "stream",
     "text": [
      "100%|██████████| 835/835 [00:04<00:00, 182.37it/s]\n"
     ]
    },
    {
     "name": "stdout",
     "output_type": "stream",
     "text": [
      "Fold: 3\n",
      "Missing rate: 0.05\n"
     ]
    },
    {
     "name": "stderr",
     "output_type": "stream",
     "text": [
      "100%|██████████| 834/834 [00:01<00:00, 529.44it/s]\n"
     ]
    },
    {
     "name": "stdout",
     "output_type": "stream",
     "text": [
      "Missing rate: 0.1\n"
     ]
    },
    {
     "name": "stderr",
     "output_type": "stream",
     "text": [
      "100%|██████████| 834/834 [00:02<00:00, 332.29it/s]\n"
     ]
    },
    {
     "name": "stdout",
     "output_type": "stream",
     "text": [
      "Missing rate: 0.2\n"
     ]
    },
    {
     "name": "stderr",
     "output_type": "stream",
     "text": [
      "100%|██████████| 834/834 [00:04<00:00, 187.15it/s]\n"
     ]
    },
    {
     "name": "stdout",
     "output_type": "stream",
     "text": [
      "Combining the results...\n"
     ]
    },
    {
     "name": "stderr",
     "output_type": "stream",
     "text": [
      "9it [00:00, 56.08it/s]\n"
     ]
    },
    {
     "data": {
      "text/plain": "       Fold MissingRate               LD Accuracy Sample ID SNV type  \\\n0         1        0.05    0 <= LD < 0.2        1   NA21144      DUP   \n1         1        0.05  0.2 <= LD < 0.4        1   NA21144      DEL   \n2         1        0.05    0 <= LD < 0.2        1   NA21144      DEL   \n3         1        0.05    0 <= LD < 0.2        1   NA21144      DEL   \n4         1        0.05    0 <= LD < 0.2        1   NA21144      DEL   \n...     ...         ...              ...      ...       ...      ...   \n738675    3         0.2  0.2 <= LD < 0.4        1   HG00097      DEL   \n738676    3         0.2    0 <= LD < 0.2        1   HG00097      DEL   \n738677    3         0.2    0 <= LD < 0.2        1   HG00097      DEL   \n738678    3         0.2  0.4 <= LD < 0.6        1   HG00097      DEL   \n738679    3         0.2    0 <= LD < 0.2        1   HG00097      DEL   \n\n       Is Biallelic  \n0              True  \n1              True  \n2              True  \n3              True  \n4              True  \n...             ...  \n738675         True  \n738676         True  \n738677         True  \n738678         True  \n738679         True  \n\n[738680 rows x 7 columns]",
      "text/html": "<div>\n<style scoped>\n    .dataframe tbody tr th:only-of-type {\n        vertical-align: middle;\n    }\n\n    .dataframe tbody tr th {\n        vertical-align: top;\n    }\n\n    .dataframe thead th {\n        text-align: right;\n    }\n</style>\n<table border=\"1\" class=\"dataframe\">\n  <thead>\n    <tr style=\"text-align: right;\">\n      <th></th>\n      <th>Fold</th>\n      <th>MissingRate</th>\n      <th>LD</th>\n      <th>Accuracy</th>\n      <th>Sample ID</th>\n      <th>SNV type</th>\n      <th>Is Biallelic</th>\n    </tr>\n  </thead>\n  <tbody>\n    <tr>\n      <th>0</th>\n      <td>1</td>\n      <td>0.05</td>\n      <td>0 &lt;= LD &lt; 0.2</td>\n      <td>1</td>\n      <td>NA21144</td>\n      <td>DUP</td>\n      <td>True</td>\n    </tr>\n    <tr>\n      <th>1</th>\n      <td>1</td>\n      <td>0.05</td>\n      <td>0.2 &lt;= LD &lt; 0.4</td>\n      <td>1</td>\n      <td>NA21144</td>\n      <td>DEL</td>\n      <td>True</td>\n    </tr>\n    <tr>\n      <th>2</th>\n      <td>1</td>\n      <td>0.05</td>\n      <td>0 &lt;= LD &lt; 0.2</td>\n      <td>1</td>\n      <td>NA21144</td>\n      <td>DEL</td>\n      <td>True</td>\n    </tr>\n    <tr>\n      <th>3</th>\n      <td>1</td>\n      <td>0.05</td>\n      <td>0 &lt;= LD &lt; 0.2</td>\n      <td>1</td>\n      <td>NA21144</td>\n      <td>DEL</td>\n      <td>True</td>\n    </tr>\n    <tr>\n      <th>4</th>\n      <td>1</td>\n      <td>0.05</td>\n      <td>0 &lt;= LD &lt; 0.2</td>\n      <td>1</td>\n      <td>NA21144</td>\n      <td>DEL</td>\n      <td>True</td>\n    </tr>\n    <tr>\n      <th>...</th>\n      <td>...</td>\n      <td>...</td>\n      <td>...</td>\n      <td>...</td>\n      <td>...</td>\n      <td>...</td>\n      <td>...</td>\n    </tr>\n    <tr>\n      <th>738675</th>\n      <td>3</td>\n      <td>0.2</td>\n      <td>0.2 &lt;= LD &lt; 0.4</td>\n      <td>1</td>\n      <td>HG00097</td>\n      <td>DEL</td>\n      <td>True</td>\n    </tr>\n    <tr>\n      <th>738676</th>\n      <td>3</td>\n      <td>0.2</td>\n      <td>0 &lt;= LD &lt; 0.2</td>\n      <td>1</td>\n      <td>HG00097</td>\n      <td>DEL</td>\n      <td>True</td>\n    </tr>\n    <tr>\n      <th>738677</th>\n      <td>3</td>\n      <td>0.2</td>\n      <td>0 &lt;= LD &lt; 0.2</td>\n      <td>1</td>\n      <td>HG00097</td>\n      <td>DEL</td>\n      <td>True</td>\n    </tr>\n    <tr>\n      <th>738678</th>\n      <td>3</td>\n      <td>0.2</td>\n      <td>0.4 &lt;= LD &lt; 0.6</td>\n      <td>1</td>\n      <td>HG00097</td>\n      <td>DEL</td>\n      <td>True</td>\n    </tr>\n    <tr>\n      <th>738679</th>\n      <td>3</td>\n      <td>0.2</td>\n      <td>0 &lt;= LD &lt; 0.2</td>\n      <td>1</td>\n      <td>HG00097</td>\n      <td>DEL</td>\n      <td>True</td>\n    </tr>\n  </tbody>\n</table>\n<p>738680 rows × 7 columns</p>\n</div>"
     },
     "execution_count": 13,
     "metadata": {},
     "output_type": "execute_result"
    }
   ],
   "source": [
    "columns = [\"Fold\", \"MissingRate\", \"LD\", \"Accuracy\", \"Sample ID\", \"SNV type\", \"Is Biallelic\"]\n",
    "dfs = []\n",
    "\n",
    "N_SPLITS=3\n",
    "kf = KFold(n_splits=N_SPLITS, shuffle=True, random_state=2022)\n",
    "fold = 0\n",
    "_x = X[X.index.isin(Y_train.index)].to_numpy()\n",
    "for train_index, test_index in kf.split(_x):\n",
    "  fold += 1\n",
    "  print(f\"Fold: {fold}\")\n",
    "  y = _x[test_index]\n",
    "  for missing_perc in [0.05,\n",
    "                       0.1,\n",
    "                       0.2]:\n",
    "    dataframe = pd.DataFrame(columns = columns)\n",
    "    print(f\"Missing rate: {missing_perc}\")\n",
    "    file_name = f\"./experimental_results/Chr22/ALL/SCDA/preds_mixed_mr_{missing_perc}_rs_{fold}_.csv\"\n",
    "    result_genotypes = pd.read_csv(file_name, index_col=0)\n",
    "    result_genotypes = result_genotypes.replace(replacement_dict)\n",
    "    yhat = result_genotypes.to_numpy()\n",
    "    assert y.shape == yhat.shape\n",
    "    for i in tqdm(list(range(y.shape[0]))):\n",
    "        missing_index, _ = train_test_split(np.arange(y.shape[1]), train_size=missing_perc,\n",
    "                                            random_state=i + fold,\n",
    "                                            shuffle=True,\n",
    "                                            stratify=bin_labels\n",
    "                                            )\n",
    "        # for mi in missing_index:\n",
    "        #     maf_bin_label = maf_bin_labels[mi]\n",
    "        #     df.loc[-1] = [fold, missing_perc, maf_bin_label, int(yhat[i, mi]==y[i, mi])]\n",
    "        #     df.index += 1\n",
    "        a = np.reshape(bin_labels[missing_index], (-1, 1))\n",
    "        b = np.array([fold for _ in missing_index]).reshape((-1, 1))\n",
    "        c = np.array([missing_perc for _ in missing_index]).reshape((-1, 1))\n",
    "        d = (yhat[i, missing_index]==y[i, missing_index]).astype(int).reshape((-1, 1))\n",
    "        e = np.array([X.index[test_index][i] for _ in missing_index]).astype(object).reshape((-1, 1))\n",
    "        f = snv_types[missing_index].reshape((-1, 1))\n",
    "        g = is_biallelic[missing_index].reshape((-1, 1))\n",
    "        dataframe = pd.concat([pd.DataFrame(np.concatenate([b,c,a,d,e,f,g], axis=1), columns=dataframe.columns), dataframe], ignore_index=True)\n",
    "    dfs.append(dataframe)\n",
    "\n",
    "df = pd.DataFrame(columns = columns)\n",
    "print(\"Combining the results...\")\n",
    "for i, dff in tqdm(enumerate(dfs)):\n",
    "    df = pd.concat([df, dff], ignore_index=True)\n",
    "del dfs\n",
    "\n",
    "df[\"LD\"] = df[\"LD\"].replace({\n",
    "    1.0: '0 <= LD < 0.2',\n",
    "    2.0: '0.2 <= LD < 0.4',\n",
    "    3.0: '0.4 <= LD < 0.6',\n",
    "    4.0: '0.6 <= LD < 0.8',\n",
    "    5.0: '0.8 <= LD <= 1',\n",
    "})\n",
    "df"
   ],
   "metadata": {
    "collapsed": false
   }
  },
  {
   "cell_type": "code",
   "execution_count": 14,
   "outputs": [],
   "source": [
    "# df.to_csv(\"results_in_table/Chr22/ALL/LD_SCDA.csv\")"
   ],
   "metadata": {
    "collapsed": false
   }
  },
  {
   "cell_type": "code",
   "execution_count": 15,
   "outputs": [
    {
     "data": {
      "text/plain": "                             Accuracy          \n                                 mean       std\nMissingRate LD                                 \n0.05        0 <= LD < 0.2    0.936265  0.244282\n            0.2 <= LD < 0.4  0.970367  0.169578\n            0.4 <= LD < 0.6  0.997704  0.047867\n            0.6 <= LD < 0.8  0.994010  0.077181\n            0.8 <= LD <= 1   0.986661  0.114725\n0.10        0 <= LD < 0.2    0.937838  0.241451\n            0.2 <= LD < 0.4  0.969382  0.172283\n            0.4 <= LD < 0.6  0.997354  0.051370\n            0.6 <= LD < 0.8  0.993810  0.078441\n            0.8 <= LD <= 1   0.985743  0.118552\n0.20        0 <= LD < 0.2    0.938484  0.240275\n            0.2 <= LD < 0.4  0.968261  0.175305\n            0.4 <= LD < 0.6  0.997180  0.053034\n            0.6 <= LD < 0.8  0.992312  0.087346\n            0.8 <= LD <= 1   0.985703  0.118714",
      "text/html": "<div>\n<style scoped>\n    .dataframe tbody tr th:only-of-type {\n        vertical-align: middle;\n    }\n\n    .dataframe tbody tr th {\n        vertical-align: top;\n    }\n\n    .dataframe thead tr th {\n        text-align: left;\n    }\n\n    .dataframe thead tr:last-of-type th {\n        text-align: right;\n    }\n</style>\n<table border=\"1\" class=\"dataframe\">\n  <thead>\n    <tr>\n      <th></th>\n      <th></th>\n      <th colspan=\"2\" halign=\"left\">Accuracy</th>\n    </tr>\n    <tr>\n      <th></th>\n      <th></th>\n      <th>mean</th>\n      <th>std</th>\n    </tr>\n    <tr>\n      <th>MissingRate</th>\n      <th>LD</th>\n      <th></th>\n      <th></th>\n    </tr>\n  </thead>\n  <tbody>\n    <tr>\n      <th rowspan=\"5\" valign=\"top\">0.05</th>\n      <th>0 &lt;= LD &lt; 0.2</th>\n      <td>0.936265</td>\n      <td>0.244282</td>\n    </tr>\n    <tr>\n      <th>0.2 &lt;= LD &lt; 0.4</th>\n      <td>0.970367</td>\n      <td>0.169578</td>\n    </tr>\n    <tr>\n      <th>0.4 &lt;= LD &lt; 0.6</th>\n      <td>0.997704</td>\n      <td>0.047867</td>\n    </tr>\n    <tr>\n      <th>0.6 &lt;= LD &lt; 0.8</th>\n      <td>0.994010</td>\n      <td>0.077181</td>\n    </tr>\n    <tr>\n      <th>0.8 &lt;= LD &lt;= 1</th>\n      <td>0.986661</td>\n      <td>0.114725</td>\n    </tr>\n    <tr>\n      <th rowspan=\"5\" valign=\"top\">0.10</th>\n      <th>0 &lt;= LD &lt; 0.2</th>\n      <td>0.937838</td>\n      <td>0.241451</td>\n    </tr>\n    <tr>\n      <th>0.2 &lt;= LD &lt; 0.4</th>\n      <td>0.969382</td>\n      <td>0.172283</td>\n    </tr>\n    <tr>\n      <th>0.4 &lt;= LD &lt; 0.6</th>\n      <td>0.997354</td>\n      <td>0.051370</td>\n    </tr>\n    <tr>\n      <th>0.6 &lt;= LD &lt; 0.8</th>\n      <td>0.993810</td>\n      <td>0.078441</td>\n    </tr>\n    <tr>\n      <th>0.8 &lt;= LD &lt;= 1</th>\n      <td>0.985743</td>\n      <td>0.118552</td>\n    </tr>\n    <tr>\n      <th rowspan=\"5\" valign=\"top\">0.20</th>\n      <th>0 &lt;= LD &lt; 0.2</th>\n      <td>0.938484</td>\n      <td>0.240275</td>\n    </tr>\n    <tr>\n      <th>0.2 &lt;= LD &lt; 0.4</th>\n      <td>0.968261</td>\n      <td>0.175305</td>\n    </tr>\n    <tr>\n      <th>0.4 &lt;= LD &lt; 0.6</th>\n      <td>0.997180</td>\n      <td>0.053034</td>\n    </tr>\n    <tr>\n      <th>0.6 &lt;= LD &lt; 0.8</th>\n      <td>0.992312</td>\n      <td>0.087346</td>\n    </tr>\n    <tr>\n      <th>0.8 &lt;= LD &lt;= 1</th>\n      <td>0.985703</td>\n      <td>0.118714</td>\n    </tr>\n  </tbody>\n</table>\n</div>"
     },
     "execution_count": 15,
     "metadata": {},
     "output_type": "execute_result"
    }
   ],
   "source": [
    "df.groupby([\"MissingRate\", \"LD\"]).agg( {\"Accuracy\":[\"mean\", \"std\"]})"
   ],
   "metadata": {
    "collapsed": false
   }
  },
  {
   "cell_type": "code",
   "execution_count": 16,
   "outputs": [
    {
     "data": {
      "text/plain": "                  Accuracy\nFold MissingRate          \n1    0.05         0.952837\n     0.10         0.953650\n     0.20         0.953818\n2    0.05         0.954919\n     0.10         0.954691\n     0.20         0.954569\n3    0.05         0.952895\n     0.10         0.953423\n     0.20         0.954366",
      "text/html": "<div>\n<style scoped>\n    .dataframe tbody tr th:only-of-type {\n        vertical-align: middle;\n    }\n\n    .dataframe tbody tr th {\n        vertical-align: top;\n    }\n\n    .dataframe thead th {\n        text-align: right;\n    }\n</style>\n<table border=\"1\" class=\"dataframe\">\n  <thead>\n    <tr style=\"text-align: right;\">\n      <th></th>\n      <th></th>\n      <th>Accuracy</th>\n    </tr>\n    <tr>\n      <th>Fold</th>\n      <th>MissingRate</th>\n      <th></th>\n    </tr>\n  </thead>\n  <tbody>\n    <tr>\n      <th rowspan=\"3\" valign=\"top\">1</th>\n      <th>0.05</th>\n      <td>0.952837</td>\n    </tr>\n    <tr>\n      <th>0.10</th>\n      <td>0.953650</td>\n    </tr>\n    <tr>\n      <th>0.20</th>\n      <td>0.953818</td>\n    </tr>\n    <tr>\n      <th rowspan=\"3\" valign=\"top\">2</th>\n      <th>0.05</th>\n      <td>0.954919</td>\n    </tr>\n    <tr>\n      <th>0.10</th>\n      <td>0.954691</td>\n    </tr>\n    <tr>\n      <th>0.20</th>\n      <td>0.954569</td>\n    </tr>\n    <tr>\n      <th rowspan=\"3\" valign=\"top\">3</th>\n      <th>0.05</th>\n      <td>0.952895</td>\n    </tr>\n    <tr>\n      <th>0.10</th>\n      <td>0.953423</td>\n    </tr>\n    <tr>\n      <th>0.20</th>\n      <td>0.954366</td>\n    </tr>\n  </tbody>\n</table>\n</div>"
     },
     "execution_count": 16,
     "metadata": {},
     "output_type": "execute_result"
    }
   ],
   "source": [
    "df1 = df.groupby([\"Fold\", \"MissingRate\", \"Sample ID\"]).agg( {\"Accuracy\":\"mean\"}).reset_index()\n",
    "df1 = df1.groupby([\"Fold\", \"MissingRate\"]).agg( {\"Accuracy\":\"mean\"})\n",
    "df1"
   ],
   "metadata": {
    "collapsed": false
   }
  },
  {
   "cell_type": "code",
   "execution_count": 17,
   "outputs": [
    {
     "data": {
      "text/plain": "             Accuracy          \n                 mean       std\nMissingRate                    \n0.05         0.953550  0.001185\n0.10         0.953921  0.000676\n0.20         0.954251  0.000389",
      "text/html": "<div>\n<style scoped>\n    .dataframe tbody tr th:only-of-type {\n        vertical-align: middle;\n    }\n\n    .dataframe tbody tr th {\n        vertical-align: top;\n    }\n\n    .dataframe thead tr th {\n        text-align: left;\n    }\n\n    .dataframe thead tr:last-of-type th {\n        text-align: right;\n    }\n</style>\n<table border=\"1\" class=\"dataframe\">\n  <thead>\n    <tr>\n      <th></th>\n      <th colspan=\"2\" halign=\"left\">Accuracy</th>\n    </tr>\n    <tr>\n      <th></th>\n      <th>mean</th>\n      <th>std</th>\n    </tr>\n    <tr>\n      <th>MissingRate</th>\n      <th></th>\n      <th></th>\n    </tr>\n  </thead>\n  <tbody>\n    <tr>\n      <th>0.05</th>\n      <td>0.953550</td>\n      <td>0.001185</td>\n    </tr>\n    <tr>\n      <th>0.10</th>\n      <td>0.953921</td>\n      <td>0.000676</td>\n    </tr>\n    <tr>\n      <th>0.20</th>\n      <td>0.954251</td>\n      <td>0.000389</td>\n    </tr>\n  </tbody>\n</table>\n</div>"
     },
     "execution_count": 17,
     "metadata": {},
     "output_type": "execute_result"
    }
   ],
   "source": [
    "df1 = df.groupby([\"Fold\", \"MissingRate\", \"Sample ID\"]).agg( {\"Accuracy\":\"mean\"}).reset_index()\n",
    "df1 = df1.groupby([\"Fold\", \"MissingRate\"]).agg( {\"Accuracy\":\"mean\"}).reset_index()# df1.columns = df1.columns.droplevel(0)\n",
    "df1 = df1.groupby([\"MissingRate\"]).agg( {\"Accuracy\":[\"mean\", \"std\"]})#.reset_index()\n",
    "df1"
   ],
   "metadata": {
    "collapsed": false
   }
  },
  {
   "cell_type": "code",
   "execution_count": 18,
   "outputs": [
    {
     "data": {
      "text/plain": "       MissingRate SNV type Accuracy Sample ID\n0             0.05      DUP        1   NA21144\n1             0.05      DEL        1   NA21144\n2             0.05      DEL        1   NA21144\n3             0.05      DEL        1   NA21144\n4             0.05      DEL        1   NA21144\n...            ...      ...      ...       ...\n738675         0.2      DEL        1   HG00097\n738676         0.2      DEL        1   HG00097\n738677         0.2      DEL        1   HG00097\n738678         0.2      DEL        1   HG00097\n738679         0.2      DEL        1   HG00097\n\n[738680 rows x 4 columns]",
      "text/html": "<div>\n<style scoped>\n    .dataframe tbody tr th:only-of-type {\n        vertical-align: middle;\n    }\n\n    .dataframe tbody tr th {\n        vertical-align: top;\n    }\n\n    .dataframe thead th {\n        text-align: right;\n    }\n</style>\n<table border=\"1\" class=\"dataframe\">\n  <thead>\n    <tr style=\"text-align: right;\">\n      <th></th>\n      <th>MissingRate</th>\n      <th>SNV type</th>\n      <th>Accuracy</th>\n      <th>Sample ID</th>\n    </tr>\n  </thead>\n  <tbody>\n    <tr>\n      <th>0</th>\n      <td>0.05</td>\n      <td>DUP</td>\n      <td>1</td>\n      <td>NA21144</td>\n    </tr>\n    <tr>\n      <th>1</th>\n      <td>0.05</td>\n      <td>DEL</td>\n      <td>1</td>\n      <td>NA21144</td>\n    </tr>\n    <tr>\n      <th>2</th>\n      <td>0.05</td>\n      <td>DEL</td>\n      <td>1</td>\n      <td>NA21144</td>\n    </tr>\n    <tr>\n      <th>3</th>\n      <td>0.05</td>\n      <td>DEL</td>\n      <td>1</td>\n      <td>NA21144</td>\n    </tr>\n    <tr>\n      <th>4</th>\n      <td>0.05</td>\n      <td>DEL</td>\n      <td>1</td>\n      <td>NA21144</td>\n    </tr>\n    <tr>\n      <th>...</th>\n      <td>...</td>\n      <td>...</td>\n      <td>...</td>\n      <td>...</td>\n    </tr>\n    <tr>\n      <th>738675</th>\n      <td>0.2</td>\n      <td>DEL</td>\n      <td>1</td>\n      <td>HG00097</td>\n    </tr>\n    <tr>\n      <th>738676</th>\n      <td>0.2</td>\n      <td>DEL</td>\n      <td>1</td>\n      <td>HG00097</td>\n    </tr>\n    <tr>\n      <th>738677</th>\n      <td>0.2</td>\n      <td>DEL</td>\n      <td>1</td>\n      <td>HG00097</td>\n    </tr>\n    <tr>\n      <th>738678</th>\n      <td>0.2</td>\n      <td>DEL</td>\n      <td>1</td>\n      <td>HG00097</td>\n    </tr>\n    <tr>\n      <th>738679</th>\n      <td>0.2</td>\n      <td>DEL</td>\n      <td>1</td>\n      <td>HG00097</td>\n    </tr>\n  </tbody>\n</table>\n<p>738680 rows × 4 columns</p>\n</div>"
     },
     "execution_count": 18,
     "metadata": {},
     "output_type": "execute_result"
    }
   ],
   "source": [
    "# df1 = df.groupby([\"Fold\", \"SNV type\", \"MissingRate\", \"Sample ID\"]).agg( {\"Accuracy\":\"mean\"}).reset_index()\n",
    "# df1 = df1.groupby([\"Fold\", \"MissingRate\", \"SNV type\"]).agg( {\"Accuracy\":\"mean\"}).reset_index()# df1.columns = df1.columns.droplevel(0)\n",
    "# df1 = df1.groupby([\"SNV type\"]).agg( {\"Accuracy\":[\"mean\", \"std\"]})#.reset_index()\n",
    "# df_to_write = df1.loc[:, [\"MissingRate\", \"SNV type\",\"Accuracy\", \"Sample ID\"]]\n",
    "df_to_write = df.copy()\n",
    "df_to_write[\"Method\"] = \"SCDA+\"\n",
    "df_to_write.to_csv(\"experimental_results/Chr22/ALL/detailed_results.csv\",\n",
    "                   index=False, header=False, mode='a')\n",
    "df.loc[:, [\"MissingRate\", \"SNV type\",\"Accuracy\", \"Sample ID\"]]"
   ],
   "metadata": {
    "collapsed": false
   }
  },
  {
   "cell_type": "code",
   "execution_count": 19,
   "outputs": [
    {
     "name": "stdout",
     "output_type": "stream",
     "text": [
      "Fold: 1\n",
      "Missing rate: 0.05\n"
     ]
    },
    {
     "name": "stderr",
     "output_type": "stream",
     "text": [
      "100%|██████████| 835/835 [00:01<00:00, 528.51it/s]\n"
     ]
    },
    {
     "name": "stdout",
     "output_type": "stream",
     "text": [
      "Missing rate: 0.1\n"
     ]
    },
    {
     "name": "stderr",
     "output_type": "stream",
     "text": [
      "100%|██████████| 835/835 [00:03<00:00, 262.22it/s]\n"
     ]
    },
    {
     "name": "stdout",
     "output_type": "stream",
     "text": [
      "Missing rate: 0.2\n"
     ]
    },
    {
     "name": "stderr",
     "output_type": "stream",
     "text": [
      "100%|██████████| 835/835 [00:04<00:00, 167.00it/s]\n"
     ]
    },
    {
     "name": "stdout",
     "output_type": "stream",
     "text": [
      "Fold: 2\n",
      "Missing rate: 0.05\n"
     ]
    },
    {
     "name": "stderr",
     "output_type": "stream",
     "text": [
      "100%|██████████| 835/835 [00:01<00:00, 532.71it/s]\n"
     ]
    },
    {
     "name": "stdout",
     "output_type": "stream",
     "text": [
      "Missing rate: 0.1\n"
     ]
    },
    {
     "name": "stderr",
     "output_type": "stream",
     "text": [
      "100%|██████████| 835/835 [00:02<00:00, 346.71it/s]\n"
     ]
    },
    {
     "name": "stdout",
     "output_type": "stream",
     "text": [
      "Missing rate: 0.2\n"
     ]
    },
    {
     "name": "stderr",
     "output_type": "stream",
     "text": [
      "100%|██████████| 835/835 [00:04<00:00, 188.50it/s]\n"
     ]
    },
    {
     "name": "stdout",
     "output_type": "stream",
     "text": [
      "Fold: 3\n",
      "Missing rate: 0.05\n"
     ]
    },
    {
     "name": "stderr",
     "output_type": "stream",
     "text": [
      "100%|██████████| 834/834 [00:01<00:00, 550.07it/s]\n"
     ]
    },
    {
     "name": "stdout",
     "output_type": "stream",
     "text": [
      "Missing rate: 0.1\n"
     ]
    },
    {
     "name": "stderr",
     "output_type": "stream",
     "text": [
      "100%|██████████| 834/834 [00:02<00:00, 347.13it/s]\n"
     ]
    },
    {
     "name": "stdout",
     "output_type": "stream",
     "text": [
      "Missing rate: 0.2\n"
     ]
    },
    {
     "name": "stderr",
     "output_type": "stream",
     "text": [
      "100%|██████████| 834/834 [00:04<00:00, 187.99it/s]\n"
     ]
    },
    {
     "name": "stdout",
     "output_type": "stream",
     "text": [
      "Combining the results...\n"
     ]
    },
    {
     "name": "stderr",
     "output_type": "stream",
     "text": [
      "9it [00:00, 61.50it/s]\n"
     ]
    },
    {
     "data": {
      "text/plain": "       Fold MissingRate               LD Accuracy Sample ID SNV type  \\\n0         1        0.05    0 <= LD < 0.2        1   NA21144      DUP   \n1         1        0.05  0.2 <= LD < 0.4        1   NA21144      DEL   \n2         1        0.05    0 <= LD < 0.2        1   NA21144      DEL   \n3         1        0.05    0 <= LD < 0.2        1   NA21144      DEL   \n4         1        0.05    0 <= LD < 0.2        1   NA21144      DEL   \n...     ...         ...              ...      ...       ...      ...   \n738675    3         0.2  0.2 <= LD < 0.4        1   HG00097      DEL   \n738676    3         0.2    0 <= LD < 0.2        1   HG00097      DEL   \n738677    3         0.2    0 <= LD < 0.2        1   HG00097      DEL   \n738678    3         0.2  0.4 <= LD < 0.6        1   HG00097      DEL   \n738679    3         0.2    0 <= LD < 0.2        1   HG00097      DEL   \n\n       Is Biallelic  \n0              True  \n1              True  \n2              True  \n3              True  \n4              True  \n...             ...  \n738675         True  \n738676         True  \n738677         True  \n738678         True  \n738679         True  \n\n[738680 rows x 7 columns]",
      "text/html": "<div>\n<style scoped>\n    .dataframe tbody tr th:only-of-type {\n        vertical-align: middle;\n    }\n\n    .dataframe tbody tr th {\n        vertical-align: top;\n    }\n\n    .dataframe thead th {\n        text-align: right;\n    }\n</style>\n<table border=\"1\" class=\"dataframe\">\n  <thead>\n    <tr style=\"text-align: right;\">\n      <th></th>\n      <th>Fold</th>\n      <th>MissingRate</th>\n      <th>LD</th>\n      <th>Accuracy</th>\n      <th>Sample ID</th>\n      <th>SNV type</th>\n      <th>Is Biallelic</th>\n    </tr>\n  </thead>\n  <tbody>\n    <tr>\n      <th>0</th>\n      <td>1</td>\n      <td>0.05</td>\n      <td>0 &lt;= LD &lt; 0.2</td>\n      <td>1</td>\n      <td>NA21144</td>\n      <td>DUP</td>\n      <td>True</td>\n    </tr>\n    <tr>\n      <th>1</th>\n      <td>1</td>\n      <td>0.05</td>\n      <td>0.2 &lt;= LD &lt; 0.4</td>\n      <td>1</td>\n      <td>NA21144</td>\n      <td>DEL</td>\n      <td>True</td>\n    </tr>\n    <tr>\n      <th>2</th>\n      <td>1</td>\n      <td>0.05</td>\n      <td>0 &lt;= LD &lt; 0.2</td>\n      <td>1</td>\n      <td>NA21144</td>\n      <td>DEL</td>\n      <td>True</td>\n    </tr>\n    <tr>\n      <th>3</th>\n      <td>1</td>\n      <td>0.05</td>\n      <td>0 &lt;= LD &lt; 0.2</td>\n      <td>1</td>\n      <td>NA21144</td>\n      <td>DEL</td>\n      <td>True</td>\n    </tr>\n    <tr>\n      <th>4</th>\n      <td>1</td>\n      <td>0.05</td>\n      <td>0 &lt;= LD &lt; 0.2</td>\n      <td>1</td>\n      <td>NA21144</td>\n      <td>DEL</td>\n      <td>True</td>\n    </tr>\n    <tr>\n      <th>...</th>\n      <td>...</td>\n      <td>...</td>\n      <td>...</td>\n      <td>...</td>\n      <td>...</td>\n      <td>...</td>\n      <td>...</td>\n    </tr>\n    <tr>\n      <th>738675</th>\n      <td>3</td>\n      <td>0.2</td>\n      <td>0.2 &lt;= LD &lt; 0.4</td>\n      <td>1</td>\n      <td>HG00097</td>\n      <td>DEL</td>\n      <td>True</td>\n    </tr>\n    <tr>\n      <th>738676</th>\n      <td>3</td>\n      <td>0.2</td>\n      <td>0 &lt;= LD &lt; 0.2</td>\n      <td>1</td>\n      <td>HG00097</td>\n      <td>DEL</td>\n      <td>True</td>\n    </tr>\n    <tr>\n      <th>738677</th>\n      <td>3</td>\n      <td>0.2</td>\n      <td>0 &lt;= LD &lt; 0.2</td>\n      <td>1</td>\n      <td>HG00097</td>\n      <td>DEL</td>\n      <td>True</td>\n    </tr>\n    <tr>\n      <th>738678</th>\n      <td>3</td>\n      <td>0.2</td>\n      <td>0.4 &lt;= LD &lt; 0.6</td>\n      <td>1</td>\n      <td>HG00097</td>\n      <td>DEL</td>\n      <td>True</td>\n    </tr>\n    <tr>\n      <th>738679</th>\n      <td>3</td>\n      <td>0.2</td>\n      <td>0 &lt;= LD &lt; 0.2</td>\n      <td>1</td>\n      <td>HG00097</td>\n      <td>DEL</td>\n      <td>True</td>\n    </tr>\n  </tbody>\n</table>\n<p>738680 rows × 7 columns</p>\n</div>"
     },
     "execution_count": 19,
     "metadata": {},
     "output_type": "execute_result"
    }
   ],
   "source": [
    "columns = [\"Fold\", \"MissingRate\", \"LD\", \"Accuracy\", \"Sample ID\", \"SNV type\", \"Is Biallelic\"]\n",
    "dfs = []\n",
    "\n",
    "N_SPLITS=3\n",
    "kf = KFold(n_splits=N_SPLITS, shuffle=True, random_state=2022)\n",
    "fold = 0\n",
    "_x = X[X.index.isin(Y_train.index)].to_numpy()\n",
    "for train_index, test_index in kf.split(_x):\n",
    "  fold += 1\n",
    "  print(f\"Fold: {fold}\")\n",
    "  y = _x[test_index]\n",
    "  for missing_perc in [0.05,\n",
    "                       0.1,\n",
    "                       0.2]:\n",
    "    dataframe = pd.DataFrame(columns = columns)\n",
    "    print(f\"Missing rate: {missing_perc}\")\n",
    "    file_name = f\"./experimental_results/Chr22/ALL/AE/preds_mixed_mr_{missing_perc}_fold_{fold}_.csv\"\n",
    "    result_genotypes = pd.read_csv(file_name, index_col=0)\n",
    "    # result_genotypes = result_genotypes.replace(replacement_dict)\n",
    "    yhat = result_genotypes.to_numpy()\n",
    "    assert y.shape == yhat.shape\n",
    "    for i in tqdm(list(range(y.shape[0]))):\n",
    "        missing_index, _ = train_test_split(np.arange(y.shape[1]), train_size=missing_perc,\n",
    "                                            random_state=i + fold,\n",
    "                                            shuffle=True,\n",
    "                                            stratify=bin_labels\n",
    "                                            )\n",
    "        # for mi in missing_index:\n",
    "        #     maf_bin_label = maf_bin_labels[mi]\n",
    "        #     df.loc[-1] = [fold, missing_perc, maf_bin_label, int(yhat[i, mi]==y[i, mi])]\n",
    "        #     df.index += 1\n",
    "        a = np.reshape(bin_labels[missing_index], (-1, 1))\n",
    "        b = np.array([fold for _ in missing_index]).reshape((-1, 1))\n",
    "        c = np.array([missing_perc for _ in missing_index]).reshape((-1, 1))\n",
    "        d = (yhat[i, missing_index]==y[i, missing_index]).astype(int).reshape((-1, 1))\n",
    "        e = np.array([X.index[test_index][i] for _ in missing_index]).astype(object).reshape((-1, 1))\n",
    "        f = snv_types[missing_index].reshape((-1, 1))\n",
    "        g = is_biallelic[missing_index].reshape((-1, 1))\n",
    "        dataframe = pd.concat([pd.DataFrame(np.concatenate([b,c,a,d,e,f,g], axis=1), columns=dataframe.columns), dataframe], ignore_index=True)\n",
    "    dfs.append(dataframe)\n",
    "\n",
    "df = pd.DataFrame(columns = columns)\n",
    "print(\"Combining the results...\")\n",
    "for i, dff in tqdm(enumerate(dfs)):\n",
    "    df = pd.concat([df, dff], ignore_index=True)\n",
    "del dfs\n",
    "\n",
    "df[\"LD\"] = df[\"LD\"].replace({\n",
    "    1.0: '0 <= LD < 0.2',\n",
    "    2.0: '0.2 <= LD < 0.4',\n",
    "    3.0: '0.4 <= LD < 0.6',\n",
    "    4.0: '0.6 <= LD < 0.8',\n",
    "    5.0: '0.8 <= LD <= 1',\n",
    "})\n",
    "df"
   ],
   "metadata": {
    "collapsed": false
   }
  },
  {
   "cell_type": "code",
   "execution_count": 20,
   "outputs": [],
   "source": [
    "# df.to_csv(\"results_in_table/Chr22/ALL/LD_AE.csv\")"
   ],
   "metadata": {
    "collapsed": false
   }
  },
  {
   "cell_type": "code",
   "execution_count": 21,
   "outputs": [
    {
     "data": {
      "text/plain": "                             Accuracy          \n                                 mean       std\nMissingRate LD                                 \n0.05        0 <= LD < 0.2    0.933795  0.248642\n            0.2 <= LD < 0.4  0.965655  0.182121\n            0.4 <= LD < 0.6  0.996905  0.055550\n            0.6 <= LD < 0.8  0.994409  0.074579\n            0.8 <= LD <= 1   0.987859  0.109518\n0.10        0 <= LD < 0.2    0.935870  0.244985\n            0.2 <= LD < 0.4  0.963037  0.188675\n            0.4 <= LD < 0.6  0.997304  0.051851\n            0.6 <= LD < 0.8  0.993411  0.080916\n            0.8 <= LD <= 1   0.980112  0.139619\n0.20        0 <= LD < 0.2    0.937006  0.242952\n            0.2 <= LD < 0.4  0.964940  0.183933\n            0.4 <= LD < 0.6  0.996905  0.055548\n            0.6 <= LD < 0.8  0.992612  0.085641\n            0.8 <= LD <= 1   0.986482  0.115481",
      "text/html": "<div>\n<style scoped>\n    .dataframe tbody tr th:only-of-type {\n        vertical-align: middle;\n    }\n\n    .dataframe tbody tr th {\n        vertical-align: top;\n    }\n\n    .dataframe thead tr th {\n        text-align: left;\n    }\n\n    .dataframe thead tr:last-of-type th {\n        text-align: right;\n    }\n</style>\n<table border=\"1\" class=\"dataframe\">\n  <thead>\n    <tr>\n      <th></th>\n      <th></th>\n      <th colspan=\"2\" halign=\"left\">Accuracy</th>\n    </tr>\n    <tr>\n      <th></th>\n      <th></th>\n      <th>mean</th>\n      <th>std</th>\n    </tr>\n    <tr>\n      <th>MissingRate</th>\n      <th>LD</th>\n      <th></th>\n      <th></th>\n    </tr>\n  </thead>\n  <tbody>\n    <tr>\n      <th rowspan=\"5\" valign=\"top\">0.05</th>\n      <th>0 &lt;= LD &lt; 0.2</th>\n      <td>0.933795</td>\n      <td>0.248642</td>\n    </tr>\n    <tr>\n      <th>0.2 &lt;= LD &lt; 0.4</th>\n      <td>0.965655</td>\n      <td>0.182121</td>\n    </tr>\n    <tr>\n      <th>0.4 &lt;= LD &lt; 0.6</th>\n      <td>0.996905</td>\n      <td>0.055550</td>\n    </tr>\n    <tr>\n      <th>0.6 &lt;= LD &lt; 0.8</th>\n      <td>0.994409</td>\n      <td>0.074579</td>\n    </tr>\n    <tr>\n      <th>0.8 &lt;= LD &lt;= 1</th>\n      <td>0.987859</td>\n      <td>0.109518</td>\n    </tr>\n    <tr>\n      <th rowspan=\"5\" valign=\"top\">0.10</th>\n      <th>0 &lt;= LD &lt; 0.2</th>\n      <td>0.935870</td>\n      <td>0.244985</td>\n    </tr>\n    <tr>\n      <th>0.2 &lt;= LD &lt; 0.4</th>\n      <td>0.963037</td>\n      <td>0.188675</td>\n    </tr>\n    <tr>\n      <th>0.4 &lt;= LD &lt; 0.6</th>\n      <td>0.997304</td>\n      <td>0.051851</td>\n    </tr>\n    <tr>\n      <th>0.6 &lt;= LD &lt; 0.8</th>\n      <td>0.993411</td>\n      <td>0.080916</td>\n    </tr>\n    <tr>\n      <th>0.8 &lt;= LD &lt;= 1</th>\n      <td>0.980112</td>\n      <td>0.139619</td>\n    </tr>\n    <tr>\n      <th rowspan=\"5\" valign=\"top\">0.20</th>\n      <th>0 &lt;= LD &lt; 0.2</th>\n      <td>0.937006</td>\n      <td>0.242952</td>\n    </tr>\n    <tr>\n      <th>0.2 &lt;= LD &lt; 0.4</th>\n      <td>0.964940</td>\n      <td>0.183933</td>\n    </tr>\n    <tr>\n      <th>0.4 &lt;= LD &lt; 0.6</th>\n      <td>0.996905</td>\n      <td>0.055548</td>\n    </tr>\n    <tr>\n      <th>0.6 &lt;= LD &lt; 0.8</th>\n      <td>0.992612</td>\n      <td>0.085641</td>\n    </tr>\n    <tr>\n      <th>0.8 &lt;= LD &lt;= 1</th>\n      <td>0.986482</td>\n      <td>0.115481</td>\n    </tr>\n  </tbody>\n</table>\n</div>"
     },
     "execution_count": 21,
     "metadata": {},
     "output_type": "execute_result"
    }
   ],
   "source": [
    "df.groupby([\"MissingRate\", \"LD\"]).agg( {\"Accuracy\":[\"mean\", \"std\"]})"
   ],
   "metadata": {
    "collapsed": false
   }
  },
  {
   "cell_type": "code",
   "execution_count": 22,
   "outputs": [
    {
     "data": {
      "text/plain": "                  Accuracy\nFold MissingRate          \n1    0.05         0.950271\n     0.10         0.950941\n     0.20         0.953180\n2    0.05         0.953065\n     0.10         0.950299\n     0.20         0.953109\n3    0.05         0.951096\n     0.10         0.952567\n     0.20         0.952677",
      "text/html": "<div>\n<style scoped>\n    .dataframe tbody tr th:only-of-type {\n        vertical-align: middle;\n    }\n\n    .dataframe tbody tr th {\n        vertical-align: top;\n    }\n\n    .dataframe thead th {\n        text-align: right;\n    }\n</style>\n<table border=\"1\" class=\"dataframe\">\n  <thead>\n    <tr style=\"text-align: right;\">\n      <th></th>\n      <th></th>\n      <th>Accuracy</th>\n    </tr>\n    <tr>\n      <th>Fold</th>\n      <th>MissingRate</th>\n      <th></th>\n    </tr>\n  </thead>\n  <tbody>\n    <tr>\n      <th rowspan=\"3\" valign=\"top\">1</th>\n      <th>0.05</th>\n      <td>0.950271</td>\n    </tr>\n    <tr>\n      <th>0.10</th>\n      <td>0.950941</td>\n    </tr>\n    <tr>\n      <th>0.20</th>\n      <td>0.953180</td>\n    </tr>\n    <tr>\n      <th rowspan=\"3\" valign=\"top\">2</th>\n      <th>0.05</th>\n      <td>0.953065</td>\n    </tr>\n    <tr>\n      <th>0.10</th>\n      <td>0.950299</td>\n    </tr>\n    <tr>\n      <th>0.20</th>\n      <td>0.953109</td>\n    </tr>\n    <tr>\n      <th rowspan=\"3\" valign=\"top\">3</th>\n      <th>0.05</th>\n      <td>0.951096</td>\n    </tr>\n    <tr>\n      <th>0.10</th>\n      <td>0.952567</td>\n    </tr>\n    <tr>\n      <th>0.20</th>\n      <td>0.952677</td>\n    </tr>\n  </tbody>\n</table>\n</div>"
     },
     "execution_count": 22,
     "metadata": {},
     "output_type": "execute_result"
    }
   ],
   "source": [
    "df1 = df.groupby([\"Fold\", \"MissingRate\", \"Sample ID\"]).agg( {\"Accuracy\":\"mean\"}).reset_index()\n",
    "df1 = df1.groupby([\"Fold\", \"MissingRate\"]).agg( {\"Accuracy\":\"mean\"})\n",
    "df1"
   ],
   "metadata": {
    "collapsed": false
   }
  },
  {
   "cell_type": "code",
   "execution_count": 23,
   "outputs": [
    {
     "data": {
      "text/plain": "             Accuracy          \n                 mean       std\nMissingRate                    \n0.05         0.951477  0.001436\n0.10         0.951269  0.001169\n0.20         0.952989  0.000272",
      "text/html": "<div>\n<style scoped>\n    .dataframe tbody tr th:only-of-type {\n        vertical-align: middle;\n    }\n\n    .dataframe tbody tr th {\n        vertical-align: top;\n    }\n\n    .dataframe thead tr th {\n        text-align: left;\n    }\n\n    .dataframe thead tr:last-of-type th {\n        text-align: right;\n    }\n</style>\n<table border=\"1\" class=\"dataframe\">\n  <thead>\n    <tr>\n      <th></th>\n      <th colspan=\"2\" halign=\"left\">Accuracy</th>\n    </tr>\n    <tr>\n      <th></th>\n      <th>mean</th>\n      <th>std</th>\n    </tr>\n    <tr>\n      <th>MissingRate</th>\n      <th></th>\n      <th></th>\n    </tr>\n  </thead>\n  <tbody>\n    <tr>\n      <th>0.05</th>\n      <td>0.951477</td>\n      <td>0.001436</td>\n    </tr>\n    <tr>\n      <th>0.10</th>\n      <td>0.951269</td>\n      <td>0.001169</td>\n    </tr>\n    <tr>\n      <th>0.20</th>\n      <td>0.952989</td>\n      <td>0.000272</td>\n    </tr>\n  </tbody>\n</table>\n</div>"
     },
     "execution_count": 23,
     "metadata": {},
     "output_type": "execute_result"
    }
   ],
   "source": [
    "df1 = df.groupby([\"Fold\", \"MissingRate\", \"Sample ID\"]).agg( {\"Accuracy\":\"mean\"}).reset_index()\n",
    "df1 = df1.groupby([\"Fold\", \"MissingRate\"]).agg( {\"Accuracy\":\"mean\"}).reset_index()# df1.columns = df1.columns.droplevel(0)\n",
    "df1 = df1.groupby([\"MissingRate\"]).agg( {\"Accuracy\":[\"mean\", \"std\"]})#.reset_index()\n",
    "df1"
   ],
   "metadata": {
    "collapsed": false
   }
  },
  {
   "cell_type": "code",
   "execution_count": 24,
   "outputs": [
    {
     "data": {
      "text/plain": "       MissingRate SNV type Accuracy Sample ID\n0             0.05      DUP        1   NA21144\n1             0.05      DEL        1   NA21144\n2             0.05      DEL        1   NA21144\n3             0.05      DEL        1   NA21144\n4             0.05      DEL        1   NA21144\n...            ...      ...      ...       ...\n738675         0.2      DEL        1   HG00097\n738676         0.2      DEL        1   HG00097\n738677         0.2      DEL        1   HG00097\n738678         0.2      DEL        1   HG00097\n738679         0.2      DEL        1   HG00097\n\n[738680 rows x 4 columns]",
      "text/html": "<div>\n<style scoped>\n    .dataframe tbody tr th:only-of-type {\n        vertical-align: middle;\n    }\n\n    .dataframe tbody tr th {\n        vertical-align: top;\n    }\n\n    .dataframe thead th {\n        text-align: right;\n    }\n</style>\n<table border=\"1\" class=\"dataframe\">\n  <thead>\n    <tr style=\"text-align: right;\">\n      <th></th>\n      <th>MissingRate</th>\n      <th>SNV type</th>\n      <th>Accuracy</th>\n      <th>Sample ID</th>\n    </tr>\n  </thead>\n  <tbody>\n    <tr>\n      <th>0</th>\n      <td>0.05</td>\n      <td>DUP</td>\n      <td>1</td>\n      <td>NA21144</td>\n    </tr>\n    <tr>\n      <th>1</th>\n      <td>0.05</td>\n      <td>DEL</td>\n      <td>1</td>\n      <td>NA21144</td>\n    </tr>\n    <tr>\n      <th>2</th>\n      <td>0.05</td>\n      <td>DEL</td>\n      <td>1</td>\n      <td>NA21144</td>\n    </tr>\n    <tr>\n      <th>3</th>\n      <td>0.05</td>\n      <td>DEL</td>\n      <td>1</td>\n      <td>NA21144</td>\n    </tr>\n    <tr>\n      <th>4</th>\n      <td>0.05</td>\n      <td>DEL</td>\n      <td>1</td>\n      <td>NA21144</td>\n    </tr>\n    <tr>\n      <th>...</th>\n      <td>...</td>\n      <td>...</td>\n      <td>...</td>\n      <td>...</td>\n    </tr>\n    <tr>\n      <th>738675</th>\n      <td>0.2</td>\n      <td>DEL</td>\n      <td>1</td>\n      <td>HG00097</td>\n    </tr>\n    <tr>\n      <th>738676</th>\n      <td>0.2</td>\n      <td>DEL</td>\n      <td>1</td>\n      <td>HG00097</td>\n    </tr>\n    <tr>\n      <th>738677</th>\n      <td>0.2</td>\n      <td>DEL</td>\n      <td>1</td>\n      <td>HG00097</td>\n    </tr>\n    <tr>\n      <th>738678</th>\n      <td>0.2</td>\n      <td>DEL</td>\n      <td>1</td>\n      <td>HG00097</td>\n    </tr>\n    <tr>\n      <th>738679</th>\n      <td>0.2</td>\n      <td>DEL</td>\n      <td>1</td>\n      <td>HG00097</td>\n    </tr>\n  </tbody>\n</table>\n<p>738680 rows × 4 columns</p>\n</div>"
     },
     "execution_count": 24,
     "metadata": {},
     "output_type": "execute_result"
    }
   ],
   "source": [
    "df_to_write = df.copy()\n",
    "df_to_write[\"Method\"] = \"AE+\"\n",
    "df_to_write.to_csv(\"experimental_results/Chr22/ALL/detailed_results.csv\",\n",
    "                   index=False, header=False, mode='a')\n",
    "df.loc[:, [\"MissingRate\", \"SNV type\",\"Accuracy\", \"Sample ID\"]]"
   ],
   "metadata": {
    "collapsed": false
   }
  },
  {
   "cell_type": "code",
   "execution_count": 25,
   "outputs": [
    {
     "name": "stdout",
     "output_type": "stream",
     "text": [
      "Fold: 1\n",
      "Missing rate: 0.05\n"
     ]
    },
    {
     "name": "stderr",
     "output_type": "stream",
     "text": [
      "100%|██████████| 835/835 [00:01<00:00, 452.04it/s]\n"
     ]
    },
    {
     "name": "stdout",
     "output_type": "stream",
     "text": [
      "Missing rate: 0.1\n"
     ]
    },
    {
     "name": "stderr",
     "output_type": "stream",
     "text": [
      "100%|██████████| 835/835 [00:02<00:00, 280.10it/s]\n"
     ]
    },
    {
     "name": "stdout",
     "output_type": "stream",
     "text": [
      "Missing rate: 0.2\n"
     ]
    },
    {
     "name": "stderr",
     "output_type": "stream",
     "text": [
      "100%|██████████| 835/835 [00:04<00:00, 177.04it/s]\n"
     ]
    },
    {
     "name": "stdout",
     "output_type": "stream",
     "text": [
      "Fold: 2\n",
      "Missing rate: 0.05\n"
     ]
    },
    {
     "name": "stderr",
     "output_type": "stream",
     "text": [
      "100%|██████████| 835/835 [00:01<00:00, 561.90it/s]\n"
     ]
    },
    {
     "name": "stdout",
     "output_type": "stream",
     "text": [
      "Missing rate: 0.1\n"
     ]
    },
    {
     "name": "stderr",
     "output_type": "stream",
     "text": [
      "100%|██████████| 835/835 [00:02<00:00, 345.78it/s]\n"
     ]
    },
    {
     "name": "stdout",
     "output_type": "stream",
     "text": [
      "Missing rate: 0.2\n"
     ]
    },
    {
     "name": "stderr",
     "output_type": "stream",
     "text": [
      "100%|██████████| 835/835 [00:04<00:00, 193.50it/s]\n"
     ]
    },
    {
     "name": "stdout",
     "output_type": "stream",
     "text": [
      "Fold: 3\n",
      "Missing rate: 0.05\n"
     ]
    },
    {
     "name": "stderr",
     "output_type": "stream",
     "text": [
      "100%|██████████| 834/834 [00:01<00:00, 559.12it/s]\n"
     ]
    },
    {
     "name": "stdout",
     "output_type": "stream",
     "text": [
      "Missing rate: 0.1\n"
     ]
    },
    {
     "name": "stderr",
     "output_type": "stream",
     "text": [
      "100%|██████████| 834/834 [00:02<00:00, 350.66it/s]\n"
     ]
    },
    {
     "name": "stdout",
     "output_type": "stream",
     "text": [
      "Missing rate: 0.2\n"
     ]
    },
    {
     "name": "stderr",
     "output_type": "stream",
     "text": [
      "100%|██████████| 834/834 [00:04<00:00, 188.73it/s]\n"
     ]
    },
    {
     "name": "stdout",
     "output_type": "stream",
     "text": [
      "Combining the results...\n"
     ]
    },
    {
     "name": "stderr",
     "output_type": "stream",
     "text": [
      "9it [00:00, 62.09it/s]\n"
     ]
    },
    {
     "data": {
      "text/plain": "       Fold MissingRate               LD Accuracy Sample ID SNV type  \\\n0         1        0.05    0 <= LD < 0.2        1   NA21144      DUP   \n1         1        0.05  0.2 <= LD < 0.4        1   NA21144      DEL   \n2         1        0.05    0 <= LD < 0.2        1   NA21144      DEL   \n3         1        0.05    0 <= LD < 0.2        1   NA21144      DEL   \n4         1        0.05    0 <= LD < 0.2        1   NA21144      DEL   \n...     ...         ...              ...      ...       ...      ...   \n738675    3         0.2  0.2 <= LD < 0.4        1   HG00097      DEL   \n738676    3         0.2    0 <= LD < 0.2        1   HG00097      DEL   \n738677    3         0.2    0 <= LD < 0.2        1   HG00097      DEL   \n738678    3         0.2  0.4 <= LD < 0.6        1   HG00097      DEL   \n738679    3         0.2    0 <= LD < 0.2        1   HG00097      DEL   \n\n       Is Biallelic  \n0              True  \n1              True  \n2              True  \n3              True  \n4              True  \n...             ...  \n738675         True  \n738676         True  \n738677         True  \n738678         True  \n738679         True  \n\n[738680 rows x 7 columns]",
      "text/html": "<div>\n<style scoped>\n    .dataframe tbody tr th:only-of-type {\n        vertical-align: middle;\n    }\n\n    .dataframe tbody tr th {\n        vertical-align: top;\n    }\n\n    .dataframe thead th {\n        text-align: right;\n    }\n</style>\n<table border=\"1\" class=\"dataframe\">\n  <thead>\n    <tr style=\"text-align: right;\">\n      <th></th>\n      <th>Fold</th>\n      <th>MissingRate</th>\n      <th>LD</th>\n      <th>Accuracy</th>\n      <th>Sample ID</th>\n      <th>SNV type</th>\n      <th>Is Biallelic</th>\n    </tr>\n  </thead>\n  <tbody>\n    <tr>\n      <th>0</th>\n      <td>1</td>\n      <td>0.05</td>\n      <td>0 &lt;= LD &lt; 0.2</td>\n      <td>1</td>\n      <td>NA21144</td>\n      <td>DUP</td>\n      <td>True</td>\n    </tr>\n    <tr>\n      <th>1</th>\n      <td>1</td>\n      <td>0.05</td>\n      <td>0.2 &lt;= LD &lt; 0.4</td>\n      <td>1</td>\n      <td>NA21144</td>\n      <td>DEL</td>\n      <td>True</td>\n    </tr>\n    <tr>\n      <th>2</th>\n      <td>1</td>\n      <td>0.05</td>\n      <td>0 &lt;= LD &lt; 0.2</td>\n      <td>1</td>\n      <td>NA21144</td>\n      <td>DEL</td>\n      <td>True</td>\n    </tr>\n    <tr>\n      <th>3</th>\n      <td>1</td>\n      <td>0.05</td>\n      <td>0 &lt;= LD &lt; 0.2</td>\n      <td>1</td>\n      <td>NA21144</td>\n      <td>DEL</td>\n      <td>True</td>\n    </tr>\n    <tr>\n      <th>4</th>\n      <td>1</td>\n      <td>0.05</td>\n      <td>0 &lt;= LD &lt; 0.2</td>\n      <td>1</td>\n      <td>NA21144</td>\n      <td>DEL</td>\n      <td>True</td>\n    </tr>\n    <tr>\n      <th>...</th>\n      <td>...</td>\n      <td>...</td>\n      <td>...</td>\n      <td>...</td>\n      <td>...</td>\n      <td>...</td>\n      <td>...</td>\n    </tr>\n    <tr>\n      <th>738675</th>\n      <td>3</td>\n      <td>0.2</td>\n      <td>0.2 &lt;= LD &lt; 0.4</td>\n      <td>1</td>\n      <td>HG00097</td>\n      <td>DEL</td>\n      <td>True</td>\n    </tr>\n    <tr>\n      <th>738676</th>\n      <td>3</td>\n      <td>0.2</td>\n      <td>0 &lt;= LD &lt; 0.2</td>\n      <td>1</td>\n      <td>HG00097</td>\n      <td>DEL</td>\n      <td>True</td>\n    </tr>\n    <tr>\n      <th>738677</th>\n      <td>3</td>\n      <td>0.2</td>\n      <td>0 &lt;= LD &lt; 0.2</td>\n      <td>1</td>\n      <td>HG00097</td>\n      <td>DEL</td>\n      <td>True</td>\n    </tr>\n    <tr>\n      <th>738678</th>\n      <td>3</td>\n      <td>0.2</td>\n      <td>0.4 &lt;= LD &lt; 0.6</td>\n      <td>1</td>\n      <td>HG00097</td>\n      <td>DEL</td>\n      <td>True</td>\n    </tr>\n    <tr>\n      <th>738679</th>\n      <td>3</td>\n      <td>0.2</td>\n      <td>0 &lt;= LD &lt; 0.2</td>\n      <td>1</td>\n      <td>HG00097</td>\n      <td>DEL</td>\n      <td>True</td>\n    </tr>\n  </tbody>\n</table>\n<p>738680 rows × 7 columns</p>\n</div>"
     },
     "execution_count": 25,
     "metadata": {},
     "output_type": "execute_result"
    }
   ],
   "source": [
    "columns = [\"Fold\", \"MissingRate\", \"LD\", \"Accuracy\", \"Sample ID\", \"SNV type\", \"Is Biallelic\"]\n",
    "dfs = []\n",
    "\n",
    "N_SPLITS=3\n",
    "kf = KFold(n_splits=N_SPLITS, shuffle=True, random_state=2022)\n",
    "fold = 0\n",
    "_x = X[X.index.isin(Y_train.index)].to_numpy()\n",
    "for train_index, test_index in kf.split(_x):\n",
    "  fold += 1\n",
    "  print(f\"Fold: {fold}\")\n",
    "  y = _x[test_index]\n",
    "  for missing_perc in [0.05,\n",
    "                       0.1,\n",
    "                       0.2]:\n",
    "    dataframe = pd.DataFrame(columns = columns)\n",
    "    print(f\"Missing rate: {missing_perc}\")\n",
    "    file_name = f\"./experimental_results/Chr22/ALL/STI_WE/preds_mixed_mr_{missing_perc}_rs_{fold}_.csv\"\n",
    "    result_genotypes = pd.read_csv(file_name, index_col=0)\n",
    "    result_genotypes = result_genotypes.replace(replacement_dict)\n",
    "    yhat = result_genotypes.to_numpy()\n",
    "    assert y.shape == yhat.shape\n",
    "    for i in tqdm(list(range(y.shape[0]))):\n",
    "        missing_index, _ = train_test_split(np.arange(y.shape[1]), train_size=missing_perc,\n",
    "                                            random_state=i + fold,\n",
    "                                            shuffle=True,\n",
    "                                            stratify=bin_labels\n",
    "                                            )\n",
    "        # for mi in missing_index:\n",
    "        #     maf_bin_label = maf_bin_labels[mi]\n",
    "        #     df.loc[-1] = [fold, missing_perc, maf_bin_label, int(yhat[i, mi]==y[i, mi])]\n",
    "        #     df.index += 1\n",
    "        a = np.reshape(bin_labels[missing_index], (-1, 1))\n",
    "        b = np.array([fold for _ in missing_index]).reshape((-1, 1))\n",
    "        c = np.array([missing_perc for _ in missing_index]).reshape((-1, 1))\n",
    "        d = (yhat[i, missing_index]==y[i, missing_index]).astype(int).reshape((-1, 1))\n",
    "        e = np.array([X.index[test_index][i] for _ in missing_index]).astype(object).reshape((-1, 1))\n",
    "        f = snv_types[missing_index].reshape((-1, 1))\n",
    "        g = is_biallelic[missing_index].reshape((-1, 1))\n",
    "        dataframe = pd.concat([pd.DataFrame(np.concatenate([b,c,a,d,e,f,g], axis=1), columns=dataframe.columns), dataframe], ignore_index=True)\n",
    "    dfs.append(dataframe)\n",
    "\n",
    "df = pd.DataFrame(columns = columns)\n",
    "print(\"Combining the results...\")\n",
    "for i, dff in tqdm(enumerate(dfs)):\n",
    "    df = pd.concat([df, dff], ignore_index=True)\n",
    "del dfs\n",
    "\n",
    "df[\"LD\"] = df[\"LD\"].replace({\n",
    "    1.0: '0 <= LD < 0.2',\n",
    "    2.0: '0.2 <= LD < 0.4',\n",
    "    3.0: '0.4 <= LD < 0.6',\n",
    "    4.0: '0.6 <= LD < 0.8',\n",
    "    5.0: '0.8 <= LD <= 1',\n",
    "})\n",
    "df\n"
   ],
   "metadata": {
    "collapsed": false
   }
  },
  {
   "cell_type": "code",
   "execution_count": 26,
   "outputs": [
    {
     "data": {
      "text/plain": "                             Accuracy          \n                                 mean       std\nMissingRate LD                                 \n0.05        0 <= LD < 0.2    0.937818  0.241488\n            0.2 <= LD < 0.4  0.972923  0.162313\n            0.4 <= LD < 0.6  0.997604  0.048894\n            0.6 <= LD < 0.8  0.994409  0.074579\n            0.8 <= LD <= 1   0.988578  0.106265\n0.10        0 <= LD < 0.2    0.938912  0.239492\n            0.2 <= LD < 0.4  0.972710  0.162930\n            0.4 <= LD < 0.6  0.997504  0.049899\n            0.6 <= LD < 0.8  0.994209  0.075884\n            0.8 <= LD <= 1   0.988578  0.106263\n0.20        0 <= LD < 0.2    0.939148  0.239059\n            0.2 <= LD < 0.4  0.971814  0.165507\n            0.4 <= LD < 0.6  0.997454  0.050394\n            0.6 <= LD < 0.8  0.992412  0.086782\n            0.8 <= LD <= 1   0.987600  0.110665",
      "text/html": "<div>\n<style scoped>\n    .dataframe tbody tr th:only-of-type {\n        vertical-align: middle;\n    }\n\n    .dataframe tbody tr th {\n        vertical-align: top;\n    }\n\n    .dataframe thead tr th {\n        text-align: left;\n    }\n\n    .dataframe thead tr:last-of-type th {\n        text-align: right;\n    }\n</style>\n<table border=\"1\" class=\"dataframe\">\n  <thead>\n    <tr>\n      <th></th>\n      <th></th>\n      <th colspan=\"2\" halign=\"left\">Accuracy</th>\n    </tr>\n    <tr>\n      <th></th>\n      <th></th>\n      <th>mean</th>\n      <th>std</th>\n    </tr>\n    <tr>\n      <th>MissingRate</th>\n      <th>LD</th>\n      <th></th>\n      <th></th>\n    </tr>\n  </thead>\n  <tbody>\n    <tr>\n      <th rowspan=\"5\" valign=\"top\">0.05</th>\n      <th>0 &lt;= LD &lt; 0.2</th>\n      <td>0.937818</td>\n      <td>0.241488</td>\n    </tr>\n    <tr>\n      <th>0.2 &lt;= LD &lt; 0.4</th>\n      <td>0.972923</td>\n      <td>0.162313</td>\n    </tr>\n    <tr>\n      <th>0.4 &lt;= LD &lt; 0.6</th>\n      <td>0.997604</td>\n      <td>0.048894</td>\n    </tr>\n    <tr>\n      <th>0.6 &lt;= LD &lt; 0.8</th>\n      <td>0.994409</td>\n      <td>0.074579</td>\n    </tr>\n    <tr>\n      <th>0.8 &lt;= LD &lt;= 1</th>\n      <td>0.988578</td>\n      <td>0.106265</td>\n    </tr>\n    <tr>\n      <th rowspan=\"5\" valign=\"top\">0.10</th>\n      <th>0 &lt;= LD &lt; 0.2</th>\n      <td>0.938912</td>\n      <td>0.239492</td>\n    </tr>\n    <tr>\n      <th>0.2 &lt;= LD &lt; 0.4</th>\n      <td>0.972710</td>\n      <td>0.162930</td>\n    </tr>\n    <tr>\n      <th>0.4 &lt;= LD &lt; 0.6</th>\n      <td>0.997504</td>\n      <td>0.049899</td>\n    </tr>\n    <tr>\n      <th>0.6 &lt;= LD &lt; 0.8</th>\n      <td>0.994209</td>\n      <td>0.075884</td>\n    </tr>\n    <tr>\n      <th>0.8 &lt;= LD &lt;= 1</th>\n      <td>0.988578</td>\n      <td>0.106263</td>\n    </tr>\n    <tr>\n      <th rowspan=\"5\" valign=\"top\">0.20</th>\n      <th>0 &lt;= LD &lt; 0.2</th>\n      <td>0.939148</td>\n      <td>0.239059</td>\n    </tr>\n    <tr>\n      <th>0.2 &lt;= LD &lt; 0.4</th>\n      <td>0.971814</td>\n      <td>0.165507</td>\n    </tr>\n    <tr>\n      <th>0.4 &lt;= LD &lt; 0.6</th>\n      <td>0.997454</td>\n      <td>0.050394</td>\n    </tr>\n    <tr>\n      <th>0.6 &lt;= LD &lt; 0.8</th>\n      <td>0.992412</td>\n      <td>0.086782</td>\n    </tr>\n    <tr>\n      <th>0.8 &lt;= LD &lt;= 1</th>\n      <td>0.987600</td>\n      <td>0.110665</td>\n    </tr>\n  </tbody>\n</table>\n</div>"
     },
     "execution_count": 26,
     "metadata": {},
     "output_type": "execute_result"
    }
   ],
   "source": [
    "df.groupby([\"MissingRate\", \"LD\"]).agg( {\"Accuracy\":[\"mean\", \"std\"]})"
   ],
   "metadata": {
    "collapsed": false
   }
  },
  {
   "cell_type": "code",
   "execution_count": 27,
   "outputs": [
    {
     "data": {
      "text/plain": "                  Accuracy\nFold MissingRate          \n1    0.05         0.954063\n     0.10         0.955033\n     0.20         0.954959\n2    0.05         0.956259\n     0.10         0.955703\n     0.20         0.955341\n3    0.05         0.954922\n     0.10         0.955293\n     0.20         0.955706",
      "text/html": "<div>\n<style scoped>\n    .dataframe tbody tr th:only-of-type {\n        vertical-align: middle;\n    }\n\n    .dataframe tbody tr th {\n        vertical-align: top;\n    }\n\n    .dataframe thead th {\n        text-align: right;\n    }\n</style>\n<table border=\"1\" class=\"dataframe\">\n  <thead>\n    <tr style=\"text-align: right;\">\n      <th></th>\n      <th></th>\n      <th>Accuracy</th>\n    </tr>\n    <tr>\n      <th>Fold</th>\n      <th>MissingRate</th>\n      <th></th>\n    </tr>\n  </thead>\n  <tbody>\n    <tr>\n      <th rowspan=\"3\" valign=\"top\">1</th>\n      <th>0.05</th>\n      <td>0.954063</td>\n    </tr>\n    <tr>\n      <th>0.10</th>\n      <td>0.955033</td>\n    </tr>\n    <tr>\n      <th>0.20</th>\n      <td>0.954959</td>\n    </tr>\n    <tr>\n      <th rowspan=\"3\" valign=\"top\">2</th>\n      <th>0.05</th>\n      <td>0.956259</td>\n    </tr>\n    <tr>\n      <th>0.10</th>\n      <td>0.955703</td>\n    </tr>\n    <tr>\n      <th>0.20</th>\n      <td>0.955341</td>\n    </tr>\n    <tr>\n      <th rowspan=\"3\" valign=\"top\">3</th>\n      <th>0.05</th>\n      <td>0.954922</td>\n    </tr>\n    <tr>\n      <th>0.10</th>\n      <td>0.955293</td>\n    </tr>\n    <tr>\n      <th>0.20</th>\n      <td>0.955706</td>\n    </tr>\n  </tbody>\n</table>\n</div>"
     },
     "execution_count": 27,
     "metadata": {},
     "output_type": "execute_result"
    }
   ],
   "source": [
    "df1 = df.groupby([\"Fold\", \"MissingRate\", \"Sample ID\"]).agg( {\"Accuracy\":\"mean\"}).reset_index()\n",
    "df1 = df1.groupby([\"Fold\", \"MissingRate\"]).agg( {\"Accuracy\":\"mean\"})\n",
    "df1"
   ],
   "metadata": {
    "collapsed": false
   }
  },
  {
   "cell_type": "code",
   "execution_count": 28,
   "outputs": [
    {
     "data": {
      "text/plain": "             Accuracy          \n                 mean       std\nMissingRate                    \n0.05         0.955081  0.001106\n0.10         0.955343  0.000338\n0.20         0.955336  0.000374",
      "text/html": "<div>\n<style scoped>\n    .dataframe tbody tr th:only-of-type {\n        vertical-align: middle;\n    }\n\n    .dataframe tbody tr th {\n        vertical-align: top;\n    }\n\n    .dataframe thead tr th {\n        text-align: left;\n    }\n\n    .dataframe thead tr:last-of-type th {\n        text-align: right;\n    }\n</style>\n<table border=\"1\" class=\"dataframe\">\n  <thead>\n    <tr>\n      <th></th>\n      <th colspan=\"2\" halign=\"left\">Accuracy</th>\n    </tr>\n    <tr>\n      <th></th>\n      <th>mean</th>\n      <th>std</th>\n    </tr>\n    <tr>\n      <th>MissingRate</th>\n      <th></th>\n      <th></th>\n    </tr>\n  </thead>\n  <tbody>\n    <tr>\n      <th>0.05</th>\n      <td>0.955081</td>\n      <td>0.001106</td>\n    </tr>\n    <tr>\n      <th>0.10</th>\n      <td>0.955343</td>\n      <td>0.000338</td>\n    </tr>\n    <tr>\n      <th>0.20</th>\n      <td>0.955336</td>\n      <td>0.000374</td>\n    </tr>\n  </tbody>\n</table>\n</div>"
     },
     "execution_count": 28,
     "metadata": {},
     "output_type": "execute_result"
    }
   ],
   "source": [
    "df1 = df.groupby([\"Fold\", \"MissingRate\", \"Sample ID\"]).agg( {\"Accuracy\":\"mean\"}).reset_index()\n",
    "df1 = df1.groupby([\"Fold\", \"MissingRate\"]).agg( {\"Accuracy\":\"mean\"}).reset_index()# df1.columns = df1.columns.droplevel(0)\n",
    "df1 = df1.groupby([\"MissingRate\"]).agg( {\"Accuracy\":[\"mean\", \"std\"]})#.reset_index()\n",
    "df1"
   ],
   "metadata": {
    "collapsed": false
   }
  },
  {
   "cell_type": "code",
   "execution_count": 29,
   "outputs": [
    {
     "data": {
      "text/plain": "       MissingRate SNV type Accuracy Sample ID\n0             0.05      DUP        1   NA21144\n1             0.05      DEL        1   NA21144\n2             0.05      DEL        1   NA21144\n3             0.05      DEL        1   NA21144\n4             0.05      DEL        1   NA21144\n...            ...      ...      ...       ...\n738675         0.2      DEL        1   HG00097\n738676         0.2      DEL        1   HG00097\n738677         0.2      DEL        1   HG00097\n738678         0.2      DEL        1   HG00097\n738679         0.2      DEL        1   HG00097\n\n[738680 rows x 4 columns]",
      "text/html": "<div>\n<style scoped>\n    .dataframe tbody tr th:only-of-type {\n        vertical-align: middle;\n    }\n\n    .dataframe tbody tr th {\n        vertical-align: top;\n    }\n\n    .dataframe thead th {\n        text-align: right;\n    }\n</style>\n<table border=\"1\" class=\"dataframe\">\n  <thead>\n    <tr style=\"text-align: right;\">\n      <th></th>\n      <th>MissingRate</th>\n      <th>SNV type</th>\n      <th>Accuracy</th>\n      <th>Sample ID</th>\n    </tr>\n  </thead>\n  <tbody>\n    <tr>\n      <th>0</th>\n      <td>0.05</td>\n      <td>DUP</td>\n      <td>1</td>\n      <td>NA21144</td>\n    </tr>\n    <tr>\n      <th>1</th>\n      <td>0.05</td>\n      <td>DEL</td>\n      <td>1</td>\n      <td>NA21144</td>\n    </tr>\n    <tr>\n      <th>2</th>\n      <td>0.05</td>\n      <td>DEL</td>\n      <td>1</td>\n      <td>NA21144</td>\n    </tr>\n    <tr>\n      <th>3</th>\n      <td>0.05</td>\n      <td>DEL</td>\n      <td>1</td>\n      <td>NA21144</td>\n    </tr>\n    <tr>\n      <th>4</th>\n      <td>0.05</td>\n      <td>DEL</td>\n      <td>1</td>\n      <td>NA21144</td>\n    </tr>\n    <tr>\n      <th>...</th>\n      <td>...</td>\n      <td>...</td>\n      <td>...</td>\n      <td>...</td>\n    </tr>\n    <tr>\n      <th>738675</th>\n      <td>0.2</td>\n      <td>DEL</td>\n      <td>1</td>\n      <td>HG00097</td>\n    </tr>\n    <tr>\n      <th>738676</th>\n      <td>0.2</td>\n      <td>DEL</td>\n      <td>1</td>\n      <td>HG00097</td>\n    </tr>\n    <tr>\n      <th>738677</th>\n      <td>0.2</td>\n      <td>DEL</td>\n      <td>1</td>\n      <td>HG00097</td>\n    </tr>\n    <tr>\n      <th>738678</th>\n      <td>0.2</td>\n      <td>DEL</td>\n      <td>1</td>\n      <td>HG00097</td>\n    </tr>\n    <tr>\n      <th>738679</th>\n      <td>0.2</td>\n      <td>DEL</td>\n      <td>1</td>\n      <td>HG00097</td>\n    </tr>\n  </tbody>\n</table>\n<p>738680 rows × 4 columns</p>\n</div>"
     },
     "execution_count": 29,
     "metadata": {},
     "output_type": "execute_result"
    }
   ],
   "source": [
    "# df1 = df.groupby([\"Fold\", \"SNV type\", \"MissingRate\", \"Sample ID\"]).agg( {\"Accuracy\":\"mean\"}).reset_index()\n",
    "# df1 = df1.groupby([\"Fold\", \"MissingRate\", \"SNV type\"]).agg( {\"Accuracy\":\"mean\"}).reset_index()# df1.columns = df1.columns.droplevel(0)\n",
    "# df1 = df1.groupby([\"SNV type\"]).agg( {\"Accuracy\":[\"mean\", \"std\"]})#.reset_index()\n",
    "# df_to_write = df1.loc[:, [\"MissingRate\", \"SNV type\",\"Accuracy\", \"Sample ID\"]]\n",
    "df_to_write = df.copy()\n",
    "df_to_write[\"Method\"] = \"STI*WE\"\n",
    "df_to_write.to_csv(\"experimental_results/Chr22/ALL/detailed_results.csv\",\n",
    "                   index=False, header=False, mode='a')\n",
    "df.loc[:, [\"MissingRate\", \"SNV type\",\"Accuracy\", \"Sample ID\"]]\n",
    "\n"
   ],
   "metadata": {
    "collapsed": false
   }
  },
  {
   "cell_type": "code",
   "execution_count": 30,
   "outputs": [
    {
     "name": "stdout",
     "output_type": "stream",
     "text": [
      "Fold: 1\n",
      "Missing rate: 0.05\n"
     ]
    },
    {
     "name": "stderr",
     "output_type": "stream",
     "text": [
      "100%|██████████| 835/835 [00:01<00:00, 476.28it/s]\n"
     ]
    },
    {
     "name": "stdout",
     "output_type": "stream",
     "text": [
      "Missing rate: 0.1\n"
     ]
    },
    {
     "name": "stderr",
     "output_type": "stream",
     "text": [
      "100%|██████████| 835/835 [00:02<00:00, 288.41it/s]\n"
     ]
    },
    {
     "name": "stdout",
     "output_type": "stream",
     "text": [
      "Missing rate: 0.2\n"
     ]
    },
    {
     "name": "stderr",
     "output_type": "stream",
     "text": [
      "100%|██████████| 835/835 [00:04<00:00, 185.63it/s]\n"
     ]
    },
    {
     "name": "stdout",
     "output_type": "stream",
     "text": [
      "Fold: 2\n",
      "Missing rate: 0.05\n"
     ]
    },
    {
     "name": "stderr",
     "output_type": "stream",
     "text": [
      "100%|██████████| 835/835 [00:01<00:00, 558.60it/s]\n"
     ]
    },
    {
     "name": "stdout",
     "output_type": "stream",
     "text": [
      "Missing rate: 0.1\n"
     ]
    },
    {
     "name": "stderr",
     "output_type": "stream",
     "text": [
      "100%|██████████| 835/835 [00:02<00:00, 346.46it/s]\n"
     ]
    },
    {
     "name": "stdout",
     "output_type": "stream",
     "text": [
      "Missing rate: 0.2\n"
     ]
    },
    {
     "name": "stderr",
     "output_type": "stream",
     "text": [
      "100%|██████████| 835/835 [00:04<00:00, 193.91it/s]\n"
     ]
    },
    {
     "name": "stdout",
     "output_type": "stream",
     "text": [
      "Fold: 3\n",
      "Missing rate: 0.05\n"
     ]
    },
    {
     "name": "stderr",
     "output_type": "stream",
     "text": [
      "100%|██████████| 834/834 [00:01<00:00, 501.09it/s]\n"
     ]
    },
    {
     "name": "stdout",
     "output_type": "stream",
     "text": [
      "Missing rate: 0.1\n"
     ]
    },
    {
     "name": "stderr",
     "output_type": "stream",
     "text": [
      "100%|██████████| 834/834 [00:02<00:00, 335.02it/s]\n"
     ]
    },
    {
     "name": "stdout",
     "output_type": "stream",
     "text": [
      "Missing rate: 0.2\n"
     ]
    },
    {
     "name": "stderr",
     "output_type": "stream",
     "text": [
      "100%|██████████| 834/834 [00:04<00:00, 188.89it/s]\n"
     ]
    },
    {
     "name": "stdout",
     "output_type": "stream",
     "text": [
      "Combining the results...\n"
     ]
    },
    {
     "name": "stderr",
     "output_type": "stream",
     "text": [
      "9it [00:00, 55.19it/s]\n"
     ]
    },
    {
     "data": {
      "text/plain": "       Fold MissingRate               LD Accuracy Sample ID SNV type  \\\n0         1        0.05    0 <= LD < 0.2        1   NA21144      DUP   \n1         1        0.05  0.2 <= LD < 0.4        1   NA21144      DEL   \n2         1        0.05    0 <= LD < 0.2        1   NA21144      DEL   \n3         1        0.05    0 <= LD < 0.2        1   NA21144      DEL   \n4         1        0.05    0 <= LD < 0.2        1   NA21144      DEL   \n...     ...         ...              ...      ...       ...      ...   \n738675    3         0.2  0.2 <= LD < 0.4        1   HG00097      DEL   \n738676    3         0.2    0 <= LD < 0.2        1   HG00097      DEL   \n738677    3         0.2    0 <= LD < 0.2        1   HG00097      DEL   \n738678    3         0.2  0.4 <= LD < 0.6        1   HG00097      DEL   \n738679    3         0.2    0 <= LD < 0.2        1   HG00097      DEL   \n\n       Is Biallelic  \n0              True  \n1              True  \n2              True  \n3              True  \n4              True  \n...             ...  \n738675         True  \n738676         True  \n738677         True  \n738678         True  \n738679         True  \n\n[738680 rows x 7 columns]",
      "text/html": "<div>\n<style scoped>\n    .dataframe tbody tr th:only-of-type {\n        vertical-align: middle;\n    }\n\n    .dataframe tbody tr th {\n        vertical-align: top;\n    }\n\n    .dataframe thead th {\n        text-align: right;\n    }\n</style>\n<table border=\"1\" class=\"dataframe\">\n  <thead>\n    <tr style=\"text-align: right;\">\n      <th></th>\n      <th>Fold</th>\n      <th>MissingRate</th>\n      <th>LD</th>\n      <th>Accuracy</th>\n      <th>Sample ID</th>\n      <th>SNV type</th>\n      <th>Is Biallelic</th>\n    </tr>\n  </thead>\n  <tbody>\n    <tr>\n      <th>0</th>\n      <td>1</td>\n      <td>0.05</td>\n      <td>0 &lt;= LD &lt; 0.2</td>\n      <td>1</td>\n      <td>NA21144</td>\n      <td>DUP</td>\n      <td>True</td>\n    </tr>\n    <tr>\n      <th>1</th>\n      <td>1</td>\n      <td>0.05</td>\n      <td>0.2 &lt;= LD &lt; 0.4</td>\n      <td>1</td>\n      <td>NA21144</td>\n      <td>DEL</td>\n      <td>True</td>\n    </tr>\n    <tr>\n      <th>2</th>\n      <td>1</td>\n      <td>0.05</td>\n      <td>0 &lt;= LD &lt; 0.2</td>\n      <td>1</td>\n      <td>NA21144</td>\n      <td>DEL</td>\n      <td>True</td>\n    </tr>\n    <tr>\n      <th>3</th>\n      <td>1</td>\n      <td>0.05</td>\n      <td>0 &lt;= LD &lt; 0.2</td>\n      <td>1</td>\n      <td>NA21144</td>\n      <td>DEL</td>\n      <td>True</td>\n    </tr>\n    <tr>\n      <th>4</th>\n      <td>1</td>\n      <td>0.05</td>\n      <td>0 &lt;= LD &lt; 0.2</td>\n      <td>1</td>\n      <td>NA21144</td>\n      <td>DEL</td>\n      <td>True</td>\n    </tr>\n    <tr>\n      <th>...</th>\n      <td>...</td>\n      <td>...</td>\n      <td>...</td>\n      <td>...</td>\n      <td>...</td>\n      <td>...</td>\n      <td>...</td>\n    </tr>\n    <tr>\n      <th>738675</th>\n      <td>3</td>\n      <td>0.2</td>\n      <td>0.2 &lt;= LD &lt; 0.4</td>\n      <td>1</td>\n      <td>HG00097</td>\n      <td>DEL</td>\n      <td>True</td>\n    </tr>\n    <tr>\n      <th>738676</th>\n      <td>3</td>\n      <td>0.2</td>\n      <td>0 &lt;= LD &lt; 0.2</td>\n      <td>1</td>\n      <td>HG00097</td>\n      <td>DEL</td>\n      <td>True</td>\n    </tr>\n    <tr>\n      <th>738677</th>\n      <td>3</td>\n      <td>0.2</td>\n      <td>0 &lt;= LD &lt; 0.2</td>\n      <td>1</td>\n      <td>HG00097</td>\n      <td>DEL</td>\n      <td>True</td>\n    </tr>\n    <tr>\n      <th>738678</th>\n      <td>3</td>\n      <td>0.2</td>\n      <td>0.4 &lt;= LD &lt; 0.6</td>\n      <td>1</td>\n      <td>HG00097</td>\n      <td>DEL</td>\n      <td>True</td>\n    </tr>\n    <tr>\n      <th>738679</th>\n      <td>3</td>\n      <td>0.2</td>\n      <td>0 &lt;= LD &lt; 0.2</td>\n      <td>1</td>\n      <td>HG00097</td>\n      <td>DEL</td>\n      <td>True</td>\n    </tr>\n  </tbody>\n</table>\n<p>738680 rows × 7 columns</p>\n</div>"
     },
     "execution_count": 30,
     "metadata": {},
     "output_type": "execute_result"
    }
   ],
   "source": [
    "\n",
    "columns = [\"Fold\", \"MissingRate\", \"LD\", \"Accuracy\", \"Sample ID\", \"SNV type\", \"Is Biallelic\"]\n",
    "dfs = []\n",
    "\n",
    "N_SPLITS=3\n",
    "kf = KFold(n_splits=N_SPLITS, shuffle=True, random_state=2022)\n",
    "fold = 0\n",
    "_x = X[X.index.isin(Y_train.index)].to_numpy()\n",
    "for train_index, test_index in kf.split(_x):\n",
    "  fold += 1\n",
    "  print(f\"Fold: {fold}\")\n",
    "  y = _x[test_index]\n",
    "  for missing_perc in [0.05,\n",
    "                       0.1,\n",
    "                       0.2]:\n",
    "    dataframe = pd.DataFrame(columns = columns)\n",
    "    print(f\"Missing rate: {missing_perc}\")\n",
    "    file_name = f\"./experimental_results/Chr22/ALL/STI/preds_mixed_mr_{missing_perc}_rs_{fold}_.csv\"\n",
    "    result_genotypes = pd.read_csv(file_name, index_col=0)\n",
    "    result_genotypes = result_genotypes.replace(replacement_dict)\n",
    "    yhat = result_genotypes.to_numpy()\n",
    "    assert y.shape == yhat.shape\n",
    "    for i in tqdm(list(range(y.shape[0]))):\n",
    "        missing_index, _ = train_test_split(np.arange(y.shape[1]), train_size=missing_perc,\n",
    "                                            random_state=i + fold,\n",
    "                                            shuffle=True,\n",
    "                                            stratify=bin_labels\n",
    "                                            )\n",
    "        # for mi in missing_index:\n",
    "        #     maf_bin_label = maf_bin_labels[mi]\n",
    "        #     df.loc[-1] = [fold, missing_perc, maf_bin_label, int(yhat[i, mi]==y[i, mi])]\n",
    "        #     df.index += 1\n",
    "        a = np.reshape(bin_labels[missing_index], (-1, 1))\n",
    "        b = np.array([fold for _ in missing_index]).reshape((-1, 1))\n",
    "        c = np.array([missing_perc for _ in missing_index]).reshape((-1, 1))\n",
    "        d = (yhat[i, missing_index]==y[i, missing_index]).astype(int).reshape((-1, 1))\n",
    "        e = np.array([X.index[test_index][i] for _ in missing_index]).astype(object).reshape((-1, 1))\n",
    "        f = snv_types[missing_index].reshape((-1, 1))\n",
    "        g = is_biallelic[missing_index].reshape((-1, 1))\n",
    "        dataframe = pd.concat([pd.DataFrame(np.concatenate([b,c,a,d,e,f,g], axis=1), columns=dataframe.columns), dataframe], ignore_index=True)\n",
    "    dfs.append(dataframe)\n",
    "\n",
    "df = pd.DataFrame(columns = columns)\n",
    "print(\"Combining the results...\")\n",
    "for i, dff in tqdm(enumerate(dfs)):\n",
    "    df = pd.concat([df, dff], ignore_index=True)\n",
    "del dfs\n",
    "\n",
    "df[\"LD\"] = df[\"LD\"].replace({\n",
    "    1.0: '0 <= LD < 0.2',\n",
    "    2.0: '0.2 <= LD < 0.4',\n",
    "    3.0: '0.4 <= LD < 0.6',\n",
    "    4.0: '0.6 <= LD < 0.8',\n",
    "    5.0: '0.8 <= LD <= 1',\n",
    "})\n",
    "df"
   ],
   "metadata": {
    "collapsed": false
   }
  },
  {
   "cell_type": "code",
   "execution_count": 31,
   "outputs": [],
   "source": [
    "# df.to_csv(\"results_in_table/Chr22/ALL/LD_STI.csv\")"
   ],
   "metadata": {
    "collapsed": false
   }
  },
  {
   "cell_type": "code",
   "execution_count": 32,
   "outputs": [
    {
     "data": {
      "text/plain": "                             Accuracy          \n                                 mean       std\nMissingRate LD                                 \n0.05        0 <= LD < 0.2    0.937774  0.241568\n            0.2 <= LD < 0.4  0.974042  0.159018\n            0.4 <= LD < 0.6  0.997404  0.050886\n            0.6 <= LD < 0.8  0.994010  0.077181\n            0.8 <= LD <= 1   0.990815  0.095403\n0.10        0 <= LD < 0.2    0.939239  0.238892\n            0.2 <= LD < 0.4  0.974175  0.158618\n            0.4 <= LD < 0.6  0.997454  0.050394\n            0.6 <= LD < 0.8  0.994209  0.075884\n            0.8 <= LD <= 1   0.991294  0.092901\n0.20        0 <= LD < 0.2    0.939686  0.238069\n            0.2 <= LD < 0.4  0.972717  0.162908\n            0.4 <= LD < 0.6  0.997479  0.050147\n            0.6 <= LD < 0.8  0.993011  0.083311\n            0.8 <= LD <= 1   0.990435  0.097331",
      "text/html": "<div>\n<style scoped>\n    .dataframe tbody tr th:only-of-type {\n        vertical-align: middle;\n    }\n\n    .dataframe tbody tr th {\n        vertical-align: top;\n    }\n\n    .dataframe thead tr th {\n        text-align: left;\n    }\n\n    .dataframe thead tr:last-of-type th {\n        text-align: right;\n    }\n</style>\n<table border=\"1\" class=\"dataframe\">\n  <thead>\n    <tr>\n      <th></th>\n      <th></th>\n      <th colspan=\"2\" halign=\"left\">Accuracy</th>\n    </tr>\n    <tr>\n      <th></th>\n      <th></th>\n      <th>mean</th>\n      <th>std</th>\n    </tr>\n    <tr>\n      <th>MissingRate</th>\n      <th>LD</th>\n      <th></th>\n      <th></th>\n    </tr>\n  </thead>\n  <tbody>\n    <tr>\n      <th rowspan=\"5\" valign=\"top\">0.05</th>\n      <th>0 &lt;= LD &lt; 0.2</th>\n      <td>0.937774</td>\n      <td>0.241568</td>\n    </tr>\n    <tr>\n      <th>0.2 &lt;= LD &lt; 0.4</th>\n      <td>0.974042</td>\n      <td>0.159018</td>\n    </tr>\n    <tr>\n      <th>0.4 &lt;= LD &lt; 0.6</th>\n      <td>0.997404</td>\n      <td>0.050886</td>\n    </tr>\n    <tr>\n      <th>0.6 &lt;= LD &lt; 0.8</th>\n      <td>0.994010</td>\n      <td>0.077181</td>\n    </tr>\n    <tr>\n      <th>0.8 &lt;= LD &lt;= 1</th>\n      <td>0.990815</td>\n      <td>0.095403</td>\n    </tr>\n    <tr>\n      <th rowspan=\"5\" valign=\"top\">0.10</th>\n      <th>0 &lt;= LD &lt; 0.2</th>\n      <td>0.939239</td>\n      <td>0.238892</td>\n    </tr>\n    <tr>\n      <th>0.2 &lt;= LD &lt; 0.4</th>\n      <td>0.974175</td>\n      <td>0.158618</td>\n    </tr>\n    <tr>\n      <th>0.4 &lt;= LD &lt; 0.6</th>\n      <td>0.997454</td>\n      <td>0.050394</td>\n    </tr>\n    <tr>\n      <th>0.6 &lt;= LD &lt; 0.8</th>\n      <td>0.994209</td>\n      <td>0.075884</td>\n    </tr>\n    <tr>\n      <th>0.8 &lt;= LD &lt;= 1</th>\n      <td>0.991294</td>\n      <td>0.092901</td>\n    </tr>\n    <tr>\n      <th rowspan=\"5\" valign=\"top\">0.20</th>\n      <th>0 &lt;= LD &lt; 0.2</th>\n      <td>0.939686</td>\n      <td>0.238069</td>\n    </tr>\n    <tr>\n      <th>0.2 &lt;= LD &lt; 0.4</th>\n      <td>0.972717</td>\n      <td>0.162908</td>\n    </tr>\n    <tr>\n      <th>0.4 &lt;= LD &lt; 0.6</th>\n      <td>0.997479</td>\n      <td>0.050147</td>\n    </tr>\n    <tr>\n      <th>0.6 &lt;= LD &lt; 0.8</th>\n      <td>0.993011</td>\n      <td>0.083311</td>\n    </tr>\n    <tr>\n      <th>0.8 &lt;= LD &lt;= 1</th>\n      <td>0.990435</td>\n      <td>0.097331</td>\n    </tr>\n  </tbody>\n</table>\n</div>"
     },
     "execution_count": 32,
     "metadata": {},
     "output_type": "execute_result"
    }
   ],
   "source": [
    "df.groupby([\"MissingRate\", \"LD\"]).agg( {\"Accuracy\":[\"mean\", \"std\"]})\n"
   ],
   "metadata": {
    "collapsed": false
   }
  },
  {
   "cell_type": "code",
   "execution_count": 33,
   "outputs": [
    {
     "data": {
      "text/plain": "                  Accuracy\nFold MissingRate          \n1    0.05         0.953179\n     0.10         0.954363\n     0.20         0.954597\n2    0.05         0.957228\n     0.10         0.957200\n     0.20         0.956858\n3    0.05         0.955864\n     0.10         0.956535\n     0.20         0.956962",
      "text/html": "<div>\n<style scoped>\n    .dataframe tbody tr th:only-of-type {\n        vertical-align: middle;\n    }\n\n    .dataframe tbody tr th {\n        vertical-align: top;\n    }\n\n    .dataframe thead th {\n        text-align: right;\n    }\n</style>\n<table border=\"1\" class=\"dataframe\">\n  <thead>\n    <tr style=\"text-align: right;\">\n      <th></th>\n      <th></th>\n      <th>Accuracy</th>\n    </tr>\n    <tr>\n      <th>Fold</th>\n      <th>MissingRate</th>\n      <th></th>\n    </tr>\n  </thead>\n  <tbody>\n    <tr>\n      <th rowspan=\"3\" valign=\"top\">1</th>\n      <th>0.05</th>\n      <td>0.953179</td>\n    </tr>\n    <tr>\n      <th>0.10</th>\n      <td>0.954363</td>\n    </tr>\n    <tr>\n      <th>0.20</th>\n      <td>0.954597</td>\n    </tr>\n    <tr>\n      <th rowspan=\"3\" valign=\"top\">2</th>\n      <th>0.05</th>\n      <td>0.957228</td>\n    </tr>\n    <tr>\n      <th>0.10</th>\n      <td>0.957200</td>\n    </tr>\n    <tr>\n      <th>0.20</th>\n      <td>0.956858</td>\n    </tr>\n    <tr>\n      <th rowspan=\"3\" valign=\"top\">3</th>\n      <th>0.05</th>\n      <td>0.955864</td>\n    </tr>\n    <tr>\n      <th>0.10</th>\n      <td>0.956535</td>\n    </tr>\n    <tr>\n      <th>0.20</th>\n      <td>0.956962</td>\n    </tr>\n  </tbody>\n</table>\n</div>"
     },
     "execution_count": 33,
     "metadata": {},
     "output_type": "execute_result"
    }
   ],
   "source": [
    "df1 = df.groupby([\"Fold\", \"MissingRate\", \"Sample ID\"]).agg( {\"Accuracy\":\"mean\"}).reset_index()\n",
    "df1 = df1.groupby([\"Fold\", \"MissingRate\"]).agg( {\"Accuracy\":\"mean\"})\n",
    "df1"
   ],
   "metadata": {
    "collapsed": false
   }
  },
  {
   "cell_type": "code",
   "execution_count": 34,
   "outputs": [
    {
     "data": {
      "text/plain": "             Accuracy          \n                 mean       std\nMissingRate                    \n0.05         0.955424  0.002060\n0.10         0.956032  0.001484\n0.20         0.956139  0.001336",
      "text/html": "<div>\n<style scoped>\n    .dataframe tbody tr th:only-of-type {\n        vertical-align: middle;\n    }\n\n    .dataframe tbody tr th {\n        vertical-align: top;\n    }\n\n    .dataframe thead tr th {\n        text-align: left;\n    }\n\n    .dataframe thead tr:last-of-type th {\n        text-align: right;\n    }\n</style>\n<table border=\"1\" class=\"dataframe\">\n  <thead>\n    <tr>\n      <th></th>\n      <th colspan=\"2\" halign=\"left\">Accuracy</th>\n    </tr>\n    <tr>\n      <th></th>\n      <th>mean</th>\n      <th>std</th>\n    </tr>\n    <tr>\n      <th>MissingRate</th>\n      <th></th>\n      <th></th>\n    </tr>\n  </thead>\n  <tbody>\n    <tr>\n      <th>0.05</th>\n      <td>0.955424</td>\n      <td>0.002060</td>\n    </tr>\n    <tr>\n      <th>0.10</th>\n      <td>0.956032</td>\n      <td>0.001484</td>\n    </tr>\n    <tr>\n      <th>0.20</th>\n      <td>0.956139</td>\n      <td>0.001336</td>\n    </tr>\n  </tbody>\n</table>\n</div>"
     },
     "execution_count": 34,
     "metadata": {},
     "output_type": "execute_result"
    }
   ],
   "source": [
    "df1 = df.groupby([\"Fold\", \"MissingRate\", \"Sample ID\"]).agg( {\"Accuracy\":\"mean\"}).reset_index()\n",
    "df1 = df1.groupby([\"Fold\", \"MissingRate\"]).agg( {\"Accuracy\":\"mean\"}).reset_index()# df1.columns = df1.columns.droplevel(0)\n",
    "df1 = df1.groupby([\"MissingRate\"]).agg( {\"Accuracy\":[\"mean\", \"std\"]})#.reset_index()\n",
    "df1\n"
   ],
   "metadata": {
    "collapsed": false
   }
  },
  {
   "cell_type": "code",
   "execution_count": 35,
   "outputs": [
    {
     "data": {
      "text/plain": "       MissingRate SNV type Accuracy Sample ID\n0             0.05      DUP        1   NA21144\n1             0.05      DEL        1   NA21144\n2             0.05      DEL        1   NA21144\n3             0.05      DEL        1   NA21144\n4             0.05      DEL        1   NA21144\n...            ...      ...      ...       ...\n738675         0.2      DEL        1   HG00097\n738676         0.2      DEL        1   HG00097\n738677         0.2      DEL        1   HG00097\n738678         0.2      DEL        1   HG00097\n738679         0.2      DEL        1   HG00097\n\n[738680 rows x 4 columns]",
      "text/html": "<div>\n<style scoped>\n    .dataframe tbody tr th:only-of-type {\n        vertical-align: middle;\n    }\n\n    .dataframe tbody tr th {\n        vertical-align: top;\n    }\n\n    .dataframe thead th {\n        text-align: right;\n    }\n</style>\n<table border=\"1\" class=\"dataframe\">\n  <thead>\n    <tr style=\"text-align: right;\">\n      <th></th>\n      <th>MissingRate</th>\n      <th>SNV type</th>\n      <th>Accuracy</th>\n      <th>Sample ID</th>\n    </tr>\n  </thead>\n  <tbody>\n    <tr>\n      <th>0</th>\n      <td>0.05</td>\n      <td>DUP</td>\n      <td>1</td>\n      <td>NA21144</td>\n    </tr>\n    <tr>\n      <th>1</th>\n      <td>0.05</td>\n      <td>DEL</td>\n      <td>1</td>\n      <td>NA21144</td>\n    </tr>\n    <tr>\n      <th>2</th>\n      <td>0.05</td>\n      <td>DEL</td>\n      <td>1</td>\n      <td>NA21144</td>\n    </tr>\n    <tr>\n      <th>3</th>\n      <td>0.05</td>\n      <td>DEL</td>\n      <td>1</td>\n      <td>NA21144</td>\n    </tr>\n    <tr>\n      <th>4</th>\n      <td>0.05</td>\n      <td>DEL</td>\n      <td>1</td>\n      <td>NA21144</td>\n    </tr>\n    <tr>\n      <th>...</th>\n      <td>...</td>\n      <td>...</td>\n      <td>...</td>\n      <td>...</td>\n    </tr>\n    <tr>\n      <th>738675</th>\n      <td>0.2</td>\n      <td>DEL</td>\n      <td>1</td>\n      <td>HG00097</td>\n    </tr>\n    <tr>\n      <th>738676</th>\n      <td>0.2</td>\n      <td>DEL</td>\n      <td>1</td>\n      <td>HG00097</td>\n    </tr>\n    <tr>\n      <th>738677</th>\n      <td>0.2</td>\n      <td>DEL</td>\n      <td>1</td>\n      <td>HG00097</td>\n    </tr>\n    <tr>\n      <th>738678</th>\n      <td>0.2</td>\n      <td>DEL</td>\n      <td>1</td>\n      <td>HG00097</td>\n    </tr>\n    <tr>\n      <th>738679</th>\n      <td>0.2</td>\n      <td>DEL</td>\n      <td>1</td>\n      <td>HG00097</td>\n    </tr>\n  </tbody>\n</table>\n<p>738680 rows × 4 columns</p>\n</div>"
     },
     "execution_count": 35,
     "metadata": {},
     "output_type": "execute_result"
    }
   ],
   "source": [
    "# df1 = df.groupby([\"Fold\", \"SNV type\", \"MissingRate\", \"Sample ID\"]).agg( {\"Accuracy\":\"mean\"}).reset_index()\n",
    "# df1 = df1.groupby([\"Fold\", \"MissingRate\", \"SNV type\"]).agg( {\"Accuracy\":\"mean\"}).reset_index()# df1.columns = df1.columns.droplevel(0)\n",
    "# df1 = df1.groupby([\"SNV type\"]).agg( {\"Accuracy\":[\"mean\", \"std\"]})#.reset_index()\n",
    "# df_to_write = df1.loc[:, [\"MissingRate\", \"SNV type\",\"Accuracy\", \"Sample ID\"]]\n",
    "df_to_write = df.copy()\n",
    "df_to_write[\"Method\"] = \"STI\"\n",
    "df_to_write.to_csv(\"experimental_results/Chr22/ALL/detailed_results.csv\",\n",
    "                   index=False, header=False, mode='a')\n",
    "df.loc[:, [\"MissingRate\", \"SNV type\",\"Accuracy\", \"Sample ID\"]]"
   ],
   "metadata": {
    "collapsed": false
   }
  },
  {
   "cell_type": "code",
   "execution_count": null,
   "outputs": [],
   "source": [],
   "metadata": {
    "collapsed": false
   }
  }
 ],
 "metadata": {
  "kernelspec": {
   "display_name": "Python 3",
   "language": "python",
   "name": "python3"
  },
  "language_info": {
   "codemirror_mode": {
    "name": "ipython",
    "version": 2
   },
   "file_extension": ".py",
   "mimetype": "text/x-python",
   "name": "python",
   "nbconvert_exporter": "python",
   "pygments_lexer": "ipython2",
   "version": "2.7.6"
  }
 },
 "nbformat": 4,
 "nbformat_minor": 0
}
