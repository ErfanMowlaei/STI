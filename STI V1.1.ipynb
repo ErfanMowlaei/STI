{
 "cells": [
  {
   "cell_type": "code",
   "execution_count": 3,
   "id": "initial_id",
   "metadata": {
    "collapsed": true,
    "ExecuteTime": {
     "end_time": "2023-09-12T00:26:05.988016200Z",
     "start_time": "2023-09-12T00:26:05.974500100Z"
    }
   },
   "outputs": [
    {
     "name": "stdout",
     "output_type": "stream",
     "text": [
      "Tensorflow version 2.13.0\n"
     ]
    }
   ],
   "source": [
    "import os\n",
    "import numpy as np\n",
    "import math\n",
    "import re\n",
    "import random\n",
    "import shutil\n",
    "import gzip\n",
    "import pandas as pd\n",
    "from scipy.special import softmax\n",
    "from sklearn.model_selection import train_test_split\n",
    "from sklearn.utils import resample\n",
    "import tensorflow as tf\n",
    "from tensorflow import keras\n",
    "import tensorflow.keras.backend as K\n",
    "from tensorflow.keras import layers\n",
    "from tensorflow.keras import regularizers\n",
    "from tensorflow.keras.preprocessing.sequence import pad_sequences\n",
    "import tensorflow_addons as tfa\n",
    "from sklearn import metrics\n",
    "from tensorflow.keras.utils import to_categorical\n",
    "from tensorflow.keras import constraints\n",
    "from tensorflow.keras import initializers\n",
    "from tensorflow.keras import regularizers\n",
    "from tensorflow.keras.applications import efficientnet as efn\n",
    "from sklearn.metrics import confusion_matrix\n",
    "from sklearn.metrics import f1_score\n",
    "from tensorflow.keras.constraints import Constraint\n",
    "from scipy.spatial.distance import squareform\n",
    "%matplotlib inline\n",
    "from toolz import interleave\n",
    "from tqdm import tqdm\n",
    "from matplotlib import pyplot as plt\n",
    "from sklearn.metrics import mean_squared_error\n",
    "from sklearn.linear_model import LassoCV, ElasticNetCV\n",
    "from sklearn.model_selection import KFold,StratifiedKFold\n",
    "\n",
    "print(\"Tensorflow version \" + tf.__version__)"
   ]
  },
  {
   "cell_type": "code",
   "execution_count": 4,
   "outputs": [
    {
     "name": "stdout",
     "output_type": "stream",
     "text": [
      "Running on GPU\n",
      "N_REPLICAS: 1\n"
     ]
    }
   ],
   "source": [
    "# Detect hardware, return appropriate distribution strategy\n",
    "try:\n",
    "    TPU = tf.distribute.cluster_resolver.TPUClusterResolver()  # TPU detection. No parameters necessary if TPU_NAME environment variable is set. On Kaggle this is always the case.\n",
    "    print('Running on TPU ', TPU.master())\n",
    "except ValueError:\n",
    "    print('Running on GPU')\n",
    "    TPU = None\n",
    "\n",
    "if TPU:\n",
    "    tf.config.experimental_connect_to_cluster(TPU)\n",
    "    tf.tpu.experimental.initialize_tpu_system(TPU)\n",
    "    strategy = tf.distribute.TPUStrategy(TPU)\n",
    "else:\n",
    "    strategy = tf.distribute.get_strategy() # default distribution strategy in Tensorflow. Works on CPU and single GPU.\n",
    "\n",
    "N_REPLICAS = strategy.num_replicas_in_sync\n",
    "# Number of computing cores, is 8 for a TPU V3-8\n",
    "print(f'N_REPLICAS: {N_REPLICAS}')"
   ],
   "metadata": {
    "collapsed": false,
    "ExecuteTime": {
     "end_time": "2023-09-12T00:26:08.417576800Z",
     "start_time": "2023-09-12T00:26:08.398782100Z"
    }
   },
   "id": "58e3080e72ae46d8"
  },
  {
   "cell_type": "code",
   "execution_count": 6,
   "outputs": [],
   "source": [
    "reference_panel_file_path, target_file_path, sep, index_column, variants_as_columns = \"./data/yeast_genotype_train.txt.zip\", \"./data/yeast_genotype_test.txt.zip\", \"\\t\", 0, True"
   ],
   "metadata": {
    "collapsed": false,
    "ExecuteTime": {
     "end_time": "2023-09-12T00:26:45.611688500Z",
     "start_time": "2023-09-12T00:26:45.591651300Z"
    }
   },
   "id": "b80b99e671f3f499"
  },
  {
   "cell_type": "code",
   "execution_count": 20,
   "outputs": [
    {
     "name": "stdout",
     "output_type": "stream",
     "text": [
      "Reading the reference file...\n"
     ]
    },
    {
     "data": {
      "text/plain": "      SAMID 33070_chrI_33070_A_T 33147_chrI_33147_G_T 33152_chrI_33152_T_C  \\\n0     01_01                    1                    1                    1   \n1     01_02                    1                    1                    1   \n2     01_03                    2                    2                    2   \n3     01_04                    1                    1                    1   \n4     01_06                    2                    2                    2   \n...     ...                  ...                  ...                  ...   \n3508  40_68                    1                    1                    1   \n3509  40_69                    1                    1                    1   \n3510  40_70                    1                    1                    1   \n3511  40_71                    2                    2                    2   \n3512  40_72                    1                    1                    1   \n\n     33200_chrI_33200_C_T 33293_chrI_33293_A_T 33328_chrI_33328_C_A  \\\n0                       1                    1                    1   \n1                       1                    1                    1   \n2                       2                    2                    2   \n3                       1                    1                    1   \n4                       2                    2                    2   \n...                   ...                  ...                  ...   \n3508                    1                    1                    1   \n3509                    1                    1                    1   \n3510                    1                    1                    1   \n3511                    2                    2                    2   \n3512                    1                    1                    1   \n\n     33348_chrI_33348_G_C 33403_chrI_33403_C_T 33502_chrI_33502_A_G  ...  \\\n0                       1                    1                    1  ...   \n1                       1                    1                    1  ...   \n2                       2                    2                    2  ...   \n3                       1                    1                    1  ...   \n4                       2                    2                    2  ...   \n...                   ...                  ...                  ...  ...   \n3508                    1                    1                    1  ...   \n3509                    1                    1                    1  ...   \n3510                    1                    1                    1  ...   \n3511                    2                    2                    2  ...   \n3512                    1                    1                    1  ...   \n\n     12048853_chrXVI_925593_G_C 12049199_chrXVI_925939_T_C  \\\n0                             2                          2   \n1                             2                          2   \n2                             1                          1   \n3                             1                          1   \n4                             2                          2   \n...                         ...                        ...   \n3508                          2                          2   \n3509                          1                          1   \n3510                          1                          1   \n3511                          2                          2   \n3512                          1                          1   \n\n     12049441_chrXVI_926181_C_T 12050613_chrXVI_927353_T_G  \\\n0                             2                          2   \n1                             2                          2   \n2                             1                          1   \n3                             1                          1   \n4                             2                          2   \n...                         ...                        ...   \n3508                          2                          2   \n3509                          1                          1   \n3510                          1                          2   \n3511                          2                          2   \n3512                          1                          1   \n\n     12051167_chrXVI_927907_A_C 12051240_chrXVI_927980_A_G  \\\n0                             2                          2   \n1                             2                          2   \n2                             1                          1   \n3                             1                          1   \n4                             2                          2   \n...                         ...                        ...   \n3508                          2                          2   \n3509                          1                          1   \n3510                          2                          2   \n3511                          2                          2   \n3512                          1                          1   \n\n     12051367_chrXVI_928107_C_T 12052782_chrXVI_929522_C_T  \\\n0                             2                          2   \n1                             2                          2   \n2                             1                          1   \n3                             1                          1   \n4                             2                          2   \n...                         ...                        ...   \n3508                          2                          2   \n3509                          1                          1   \n3510                          2                          2   \n3511                          2                          2   \n3512                          1                          1   \n\n     12052988_chrXVI_929728_A_G 12053130_chrXVI_929870_C_T  \n0                             2                          2  \n1                             2                          2  \n2                             1                          1  \n3                             1                          1  \n4                             2                          2  \n...                         ...                        ...  \n3508                          2                          2  \n3509                          1                          1  \n3510                          2                          2  \n3511                          2                          2  \n3512                          1                          1  \n\n[3513 rows x 28221 columns]",
      "text/html": "<div>\n<style scoped>\n    .dataframe tbody tr th:only-of-type {\n        vertical-align: middle;\n    }\n\n    .dataframe tbody tr th {\n        vertical-align: top;\n    }\n\n    .dataframe thead th {\n        text-align: right;\n    }\n</style>\n<table border=\"1\" class=\"dataframe\">\n  <thead>\n    <tr style=\"text-align: right;\">\n      <th></th>\n      <th>SAMID</th>\n      <th>33070_chrI_33070_A_T</th>\n      <th>33147_chrI_33147_G_T</th>\n      <th>33152_chrI_33152_T_C</th>\n      <th>33200_chrI_33200_C_T</th>\n      <th>33293_chrI_33293_A_T</th>\n      <th>33328_chrI_33328_C_A</th>\n      <th>33348_chrI_33348_G_C</th>\n      <th>33403_chrI_33403_C_T</th>\n      <th>33502_chrI_33502_A_G</th>\n      <th>...</th>\n      <th>12048853_chrXVI_925593_G_C</th>\n      <th>12049199_chrXVI_925939_T_C</th>\n      <th>12049441_chrXVI_926181_C_T</th>\n      <th>12050613_chrXVI_927353_T_G</th>\n      <th>12051167_chrXVI_927907_A_C</th>\n      <th>12051240_chrXVI_927980_A_G</th>\n      <th>12051367_chrXVI_928107_C_T</th>\n      <th>12052782_chrXVI_929522_C_T</th>\n      <th>12052988_chrXVI_929728_A_G</th>\n      <th>12053130_chrXVI_929870_C_T</th>\n    </tr>\n  </thead>\n  <tbody>\n    <tr>\n      <th>0</th>\n      <td>01_01</td>\n      <td>1</td>\n      <td>1</td>\n      <td>1</td>\n      <td>1</td>\n      <td>1</td>\n      <td>1</td>\n      <td>1</td>\n      <td>1</td>\n      <td>1</td>\n      <td>...</td>\n      <td>2</td>\n      <td>2</td>\n      <td>2</td>\n      <td>2</td>\n      <td>2</td>\n      <td>2</td>\n      <td>2</td>\n      <td>2</td>\n      <td>2</td>\n      <td>2</td>\n    </tr>\n    <tr>\n      <th>1</th>\n      <td>01_02</td>\n      <td>1</td>\n      <td>1</td>\n      <td>1</td>\n      <td>1</td>\n      <td>1</td>\n      <td>1</td>\n      <td>1</td>\n      <td>1</td>\n      <td>1</td>\n      <td>...</td>\n      <td>2</td>\n      <td>2</td>\n      <td>2</td>\n      <td>2</td>\n      <td>2</td>\n      <td>2</td>\n      <td>2</td>\n      <td>2</td>\n      <td>2</td>\n      <td>2</td>\n    </tr>\n    <tr>\n      <th>2</th>\n      <td>01_03</td>\n      <td>2</td>\n      <td>2</td>\n      <td>2</td>\n      <td>2</td>\n      <td>2</td>\n      <td>2</td>\n      <td>2</td>\n      <td>2</td>\n      <td>2</td>\n      <td>...</td>\n      <td>1</td>\n      <td>1</td>\n      <td>1</td>\n      <td>1</td>\n      <td>1</td>\n      <td>1</td>\n      <td>1</td>\n      <td>1</td>\n      <td>1</td>\n      <td>1</td>\n    </tr>\n    <tr>\n      <th>3</th>\n      <td>01_04</td>\n      <td>1</td>\n      <td>1</td>\n      <td>1</td>\n      <td>1</td>\n      <td>1</td>\n      <td>1</td>\n      <td>1</td>\n      <td>1</td>\n      <td>1</td>\n      <td>...</td>\n      <td>1</td>\n      <td>1</td>\n      <td>1</td>\n      <td>1</td>\n      <td>1</td>\n      <td>1</td>\n      <td>1</td>\n      <td>1</td>\n      <td>1</td>\n      <td>1</td>\n    </tr>\n    <tr>\n      <th>4</th>\n      <td>01_06</td>\n      <td>2</td>\n      <td>2</td>\n      <td>2</td>\n      <td>2</td>\n      <td>2</td>\n      <td>2</td>\n      <td>2</td>\n      <td>2</td>\n      <td>2</td>\n      <td>...</td>\n      <td>2</td>\n      <td>2</td>\n      <td>2</td>\n      <td>2</td>\n      <td>2</td>\n      <td>2</td>\n      <td>2</td>\n      <td>2</td>\n      <td>2</td>\n      <td>2</td>\n    </tr>\n    <tr>\n      <th>...</th>\n      <td>...</td>\n      <td>...</td>\n      <td>...</td>\n      <td>...</td>\n      <td>...</td>\n      <td>...</td>\n      <td>...</td>\n      <td>...</td>\n      <td>...</td>\n      <td>...</td>\n      <td>...</td>\n      <td>...</td>\n      <td>...</td>\n      <td>...</td>\n      <td>...</td>\n      <td>...</td>\n      <td>...</td>\n      <td>...</td>\n      <td>...</td>\n      <td>...</td>\n      <td>...</td>\n    </tr>\n    <tr>\n      <th>3508</th>\n      <td>40_68</td>\n      <td>1</td>\n      <td>1</td>\n      <td>1</td>\n      <td>1</td>\n      <td>1</td>\n      <td>1</td>\n      <td>1</td>\n      <td>1</td>\n      <td>1</td>\n      <td>...</td>\n      <td>2</td>\n      <td>2</td>\n      <td>2</td>\n      <td>2</td>\n      <td>2</td>\n      <td>2</td>\n      <td>2</td>\n      <td>2</td>\n      <td>2</td>\n      <td>2</td>\n    </tr>\n    <tr>\n      <th>3509</th>\n      <td>40_69</td>\n      <td>1</td>\n      <td>1</td>\n      <td>1</td>\n      <td>1</td>\n      <td>1</td>\n      <td>1</td>\n      <td>1</td>\n      <td>1</td>\n      <td>1</td>\n      <td>...</td>\n      <td>1</td>\n      <td>1</td>\n      <td>1</td>\n      <td>1</td>\n      <td>1</td>\n      <td>1</td>\n      <td>1</td>\n      <td>1</td>\n      <td>1</td>\n      <td>1</td>\n    </tr>\n    <tr>\n      <th>3510</th>\n      <td>40_70</td>\n      <td>1</td>\n      <td>1</td>\n      <td>1</td>\n      <td>1</td>\n      <td>1</td>\n      <td>1</td>\n      <td>1</td>\n      <td>1</td>\n      <td>1</td>\n      <td>...</td>\n      <td>1</td>\n      <td>1</td>\n      <td>1</td>\n      <td>2</td>\n      <td>2</td>\n      <td>2</td>\n      <td>2</td>\n      <td>2</td>\n      <td>2</td>\n      <td>2</td>\n    </tr>\n    <tr>\n      <th>3511</th>\n      <td>40_71</td>\n      <td>2</td>\n      <td>2</td>\n      <td>2</td>\n      <td>2</td>\n      <td>2</td>\n      <td>2</td>\n      <td>2</td>\n      <td>2</td>\n      <td>2</td>\n      <td>...</td>\n      <td>2</td>\n      <td>2</td>\n      <td>2</td>\n      <td>2</td>\n      <td>2</td>\n      <td>2</td>\n      <td>2</td>\n      <td>2</td>\n      <td>2</td>\n      <td>2</td>\n    </tr>\n    <tr>\n      <th>3512</th>\n      <td>40_72</td>\n      <td>1</td>\n      <td>1</td>\n      <td>1</td>\n      <td>1</td>\n      <td>1</td>\n      <td>1</td>\n      <td>1</td>\n      <td>1</td>\n      <td>1</td>\n      <td>...</td>\n      <td>1</td>\n      <td>1</td>\n      <td>1</td>\n      <td>1</td>\n      <td>1</td>\n      <td>1</td>\n      <td>1</td>\n      <td>1</td>\n      <td>1</td>\n      <td>1</td>\n    </tr>\n  </tbody>\n</table>\n<p>3513 rows × 28221 columns</p>\n</div>"
     },
     "execution_count": 20,
     "metadata": {},
     "output_type": "execute_result"
    }
   ],
   "source": [
    "\n",
    "print(\"Reading the reference file...\")\n",
    "reference_panel = pd.read_csv(reference_panel_file_path,\n",
    "                                   comment='#',\n",
    "                                   sep=sep,\n",
    "                                   index_col=index_column,\n",
    "                                    dtype=\"string\")\n",
    "reference_panel"
   ],
   "metadata": {
    "collapsed": false,
    "ExecuteTime": {
     "end_time": "2023-09-12T02:24:25.436082900Z",
     "start_time": "2023-09-12T02:23:35.472394Z"
    }
   },
   "id": "7dea52ae98e2241d"
  },
  {
   "cell_type": "code",
   "execution_count": 21,
   "outputs": [
    {
     "name": "stdout",
     "output_type": "stream",
     "text": [
      "Reading the target file...\n"
     ]
    },
    {
     "data": {
      "text/plain": "     SAMID 33070_chrI_33070_A_T 33147_chrI_33147_G_T 33152_chrI_33152_T_C  \\\n0    40_73                    1                    1                    1   \n1    40_74                    1                    1                    1   \n2    40_75                    2                    2                    2   \n3    40_76                    2                    2                    2   \n4    40_77                    1                    1                    1   \n..     ...                  ...                  ...                  ...   \n872  50_10                    2                    2                    2   \n873  50_11                    2                    2                    2   \n874  50_26                    1                    1                    1   \n875  50_27                    2                    2                    2   \n876  50_35                    2                    2                    2   \n\n    33200_chrI_33200_C_T 33293_chrI_33293_A_T 33328_chrI_33328_C_A  \\\n0                      1                    1                    1   \n1                      1                    1                    1   \n2                      2                    2                    2   \n3                      2                    2                    2   \n4                      1                    1                    1   \n..                   ...                  ...                  ...   \n872                    2                    2                    2   \n873                    2                    2                    2   \n874                    1                    1                    1   \n875                    2                    2                    2   \n876                    2                    2                    2   \n\n    33348_chrI_33348_G_C 33403_chrI_33403_C_T 33502_chrI_33502_A_G  ...  \\\n0                      1                    1                    1  ...   \n1                      1                    1                    1  ...   \n2                      2                    2                    2  ...   \n3                      2                    2                    2  ...   \n4                      1                    1                    1  ...   \n..                   ...                  ...                  ...  ...   \n872                    2                    2                    2  ...   \n873                    2                    2                    2  ...   \n874                    1                    1                    1  ...   \n875                    2                    2                    2  ...   \n876                    2                    2                    2  ...   \n\n    12048853_chrXVI_925593_G_C 12049199_chrXVI_925939_T_C  \\\n0                            2                          2   \n1                            1                          1   \n2                            1                          1   \n3                            2                          2   \n4                            2                          2   \n..                         ...                        ...   \n872                          1                          1   \n873                          2                          2   \n874                          2                          2   \n875                          1                          1   \n876                          1                          1   \n\n    12049441_chrXVI_926181_C_T 12050613_chrXVI_927353_T_G  \\\n0                            2                          2   \n1                            1                          1   \n2                            1                          1   \n3                            2                          2   \n4                            2                          2   \n..                         ...                        ...   \n872                          1                          1   \n873                          2                          2   \n874                          2                          2   \n875                          1                          1   \n876                          1                          1   \n\n    12051167_chrXVI_927907_A_C 12051240_chrXVI_927980_A_G  \\\n0                            2                          2   \n1                            1                          1   \n2                            1                          1   \n3                            2                          2   \n4                            2                          2   \n..                         ...                        ...   \n872                          1                          1   \n873                          2                          2   \n874                          2                          2   \n875                          1                          1   \n876                          1                          1   \n\n    12051367_chrXVI_928107_C_T 12052782_chrXVI_929522_C_T  \\\n0                            2                          2   \n1                            1                          1   \n2                            1                          1   \n3                            2                          2   \n4                            2                          2   \n..                         ...                        ...   \n872                          1                          1   \n873                          2                          2   \n874                          2                          2   \n875                          1                          1   \n876                          1                          1   \n\n    12052988_chrXVI_929728_A_G 12053130_chrXVI_929870_C_T  \n0                            2                          2  \n1                            1                          1  \n2                            1                          1  \n3                            2                          2  \n4                            2                          2  \n..                         ...                        ...  \n872                          1                          1  \n873                          2                          2  \n874                          2                          2  \n875                          1                          1  \n876                          1                          1  \n\n[877 rows x 28221 columns]",
      "text/html": "<div>\n<style scoped>\n    .dataframe tbody tr th:only-of-type {\n        vertical-align: middle;\n    }\n\n    .dataframe tbody tr th {\n        vertical-align: top;\n    }\n\n    .dataframe thead th {\n        text-align: right;\n    }\n</style>\n<table border=\"1\" class=\"dataframe\">\n  <thead>\n    <tr style=\"text-align: right;\">\n      <th></th>\n      <th>SAMID</th>\n      <th>33070_chrI_33070_A_T</th>\n      <th>33147_chrI_33147_G_T</th>\n      <th>33152_chrI_33152_T_C</th>\n      <th>33200_chrI_33200_C_T</th>\n      <th>33293_chrI_33293_A_T</th>\n      <th>33328_chrI_33328_C_A</th>\n      <th>33348_chrI_33348_G_C</th>\n      <th>33403_chrI_33403_C_T</th>\n      <th>33502_chrI_33502_A_G</th>\n      <th>...</th>\n      <th>12048853_chrXVI_925593_G_C</th>\n      <th>12049199_chrXVI_925939_T_C</th>\n      <th>12049441_chrXVI_926181_C_T</th>\n      <th>12050613_chrXVI_927353_T_G</th>\n      <th>12051167_chrXVI_927907_A_C</th>\n      <th>12051240_chrXVI_927980_A_G</th>\n      <th>12051367_chrXVI_928107_C_T</th>\n      <th>12052782_chrXVI_929522_C_T</th>\n      <th>12052988_chrXVI_929728_A_G</th>\n      <th>12053130_chrXVI_929870_C_T</th>\n    </tr>\n  </thead>\n  <tbody>\n    <tr>\n      <th>0</th>\n      <td>40_73</td>\n      <td>1</td>\n      <td>1</td>\n      <td>1</td>\n      <td>1</td>\n      <td>1</td>\n      <td>1</td>\n      <td>1</td>\n      <td>1</td>\n      <td>1</td>\n      <td>...</td>\n      <td>2</td>\n      <td>2</td>\n      <td>2</td>\n      <td>2</td>\n      <td>2</td>\n      <td>2</td>\n      <td>2</td>\n      <td>2</td>\n      <td>2</td>\n      <td>2</td>\n    </tr>\n    <tr>\n      <th>1</th>\n      <td>40_74</td>\n      <td>1</td>\n      <td>1</td>\n      <td>1</td>\n      <td>1</td>\n      <td>1</td>\n      <td>1</td>\n      <td>1</td>\n      <td>1</td>\n      <td>1</td>\n      <td>...</td>\n      <td>1</td>\n      <td>1</td>\n      <td>1</td>\n      <td>1</td>\n      <td>1</td>\n      <td>1</td>\n      <td>1</td>\n      <td>1</td>\n      <td>1</td>\n      <td>1</td>\n    </tr>\n    <tr>\n      <th>2</th>\n      <td>40_75</td>\n      <td>2</td>\n      <td>2</td>\n      <td>2</td>\n      <td>2</td>\n      <td>2</td>\n      <td>2</td>\n      <td>2</td>\n      <td>2</td>\n      <td>2</td>\n      <td>...</td>\n      <td>1</td>\n      <td>1</td>\n      <td>1</td>\n      <td>1</td>\n      <td>1</td>\n      <td>1</td>\n      <td>1</td>\n      <td>1</td>\n      <td>1</td>\n      <td>1</td>\n    </tr>\n    <tr>\n      <th>3</th>\n      <td>40_76</td>\n      <td>2</td>\n      <td>2</td>\n      <td>2</td>\n      <td>2</td>\n      <td>2</td>\n      <td>2</td>\n      <td>2</td>\n      <td>2</td>\n      <td>2</td>\n      <td>...</td>\n      <td>2</td>\n      <td>2</td>\n      <td>2</td>\n      <td>2</td>\n      <td>2</td>\n      <td>2</td>\n      <td>2</td>\n      <td>2</td>\n      <td>2</td>\n      <td>2</td>\n    </tr>\n    <tr>\n      <th>4</th>\n      <td>40_77</td>\n      <td>1</td>\n      <td>1</td>\n      <td>1</td>\n      <td>1</td>\n      <td>1</td>\n      <td>1</td>\n      <td>1</td>\n      <td>1</td>\n      <td>1</td>\n      <td>...</td>\n      <td>2</td>\n      <td>2</td>\n      <td>2</td>\n      <td>2</td>\n      <td>2</td>\n      <td>2</td>\n      <td>2</td>\n      <td>2</td>\n      <td>2</td>\n      <td>2</td>\n    </tr>\n    <tr>\n      <th>...</th>\n      <td>...</td>\n      <td>...</td>\n      <td>...</td>\n      <td>...</td>\n      <td>...</td>\n      <td>...</td>\n      <td>...</td>\n      <td>...</td>\n      <td>...</td>\n      <td>...</td>\n      <td>...</td>\n      <td>...</td>\n      <td>...</td>\n      <td>...</td>\n      <td>...</td>\n      <td>...</td>\n      <td>...</td>\n      <td>...</td>\n      <td>...</td>\n      <td>...</td>\n      <td>...</td>\n    </tr>\n    <tr>\n      <th>872</th>\n      <td>50_10</td>\n      <td>2</td>\n      <td>2</td>\n      <td>2</td>\n      <td>2</td>\n      <td>2</td>\n      <td>2</td>\n      <td>2</td>\n      <td>2</td>\n      <td>2</td>\n      <td>...</td>\n      <td>1</td>\n      <td>1</td>\n      <td>1</td>\n      <td>1</td>\n      <td>1</td>\n      <td>1</td>\n      <td>1</td>\n      <td>1</td>\n      <td>1</td>\n      <td>1</td>\n    </tr>\n    <tr>\n      <th>873</th>\n      <td>50_11</td>\n      <td>2</td>\n      <td>2</td>\n      <td>2</td>\n      <td>2</td>\n      <td>2</td>\n      <td>2</td>\n      <td>2</td>\n      <td>2</td>\n      <td>2</td>\n      <td>...</td>\n      <td>2</td>\n      <td>2</td>\n      <td>2</td>\n      <td>2</td>\n      <td>2</td>\n      <td>2</td>\n      <td>2</td>\n      <td>2</td>\n      <td>2</td>\n      <td>2</td>\n    </tr>\n    <tr>\n      <th>874</th>\n      <td>50_26</td>\n      <td>1</td>\n      <td>1</td>\n      <td>1</td>\n      <td>1</td>\n      <td>1</td>\n      <td>1</td>\n      <td>1</td>\n      <td>1</td>\n      <td>1</td>\n      <td>...</td>\n      <td>2</td>\n      <td>2</td>\n      <td>2</td>\n      <td>2</td>\n      <td>2</td>\n      <td>2</td>\n      <td>2</td>\n      <td>2</td>\n      <td>2</td>\n      <td>2</td>\n    </tr>\n    <tr>\n      <th>875</th>\n      <td>50_27</td>\n      <td>2</td>\n      <td>2</td>\n      <td>2</td>\n      <td>2</td>\n      <td>2</td>\n      <td>2</td>\n      <td>2</td>\n      <td>2</td>\n      <td>2</td>\n      <td>...</td>\n      <td>1</td>\n      <td>1</td>\n      <td>1</td>\n      <td>1</td>\n      <td>1</td>\n      <td>1</td>\n      <td>1</td>\n      <td>1</td>\n      <td>1</td>\n      <td>1</td>\n    </tr>\n    <tr>\n      <th>876</th>\n      <td>50_35</td>\n      <td>2</td>\n      <td>2</td>\n      <td>2</td>\n      <td>2</td>\n      <td>2</td>\n      <td>2</td>\n      <td>2</td>\n      <td>2</td>\n      <td>2</td>\n      <td>...</td>\n      <td>1</td>\n      <td>1</td>\n      <td>1</td>\n      <td>1</td>\n      <td>1</td>\n      <td>1</td>\n      <td>1</td>\n      <td>1</td>\n      <td>1</td>\n      <td>1</td>\n    </tr>\n  </tbody>\n</table>\n<p>877 rows × 28221 columns</p>\n</div>"
     },
     "execution_count": 21,
     "metadata": {},
     "output_type": "execute_result"
    }
   ],
   "source": [
    "print(\"Reading the target file...\")\n",
    "real_target_set = pd.read_csv(target_file_path,\n",
    "                                   comment='#',\n",
    "                                   sep=sep,\n",
    "                                   index_col=index_column,\n",
    "                                    dtype=\"string\")\n",
    "real_target_set"
   ],
   "metadata": {
    "collapsed": false,
    "ExecuteTime": {
     "end_time": "2023-09-12T02:24:38.383001100Z",
     "start_time": "2023-09-12T02:24:25.436082900Z"
    }
   },
   "id": "8c7485e611754b03"
  },
  {
   "cell_type": "code",
   "execution_count": 22,
   "outputs": [],
   "source": [
    "reference_panel = reference_panel.astype(str)\n",
    "real_target_set = real_target_set.astype(str)"
   ],
   "metadata": {
    "collapsed": false,
    "ExecuteTime": {
     "end_time": "2023-09-12T02:24:40.989243200Z",
     "start_time": "2023-09-12T02:24:38.377984Z"
    }
   },
   "id": "aa5de046d57afc79"
  },
  {
   "cell_type": "code",
   "execution_count": 23,
   "outputs": [
    {
     "name": "stdout",
     "output_type": "stream",
     "text": [
      "28221 haplotype variants found!\n",
      "28221 haplotype variants found!\n",
      "Creating the new target dataframe\n",
      "Extracting genotype information...\n"
     ]
    }
   ],
   "source": [
    "if variants_as_columns:\n",
    "    reference_panel = reference_panel.transpose().reset_index()\n",
    "else:\n",
    "    reference_panel = reference_panel.reset_index()\n",
    "\n",
    "reference_panel = reference_panel.rename(columns={ reference_panel.columns[0]: \"ID\"})\n",
    "\n",
    "VARIANT_COUNT = reference_panel.shape[0]\n",
    "ref_is_hap = not(\"|\" in reference_panel.iloc[0, 2] or \"/\"  in reference_panel.iloc[0, 2])\n",
    "\n",
    "print(f\"{VARIANT_COUNT} {'haplotype' if ref_is_hap else 'diplotype'} variants found!\")\n",
    "\n",
    "if variants_as_columns:\n",
    "    real_target_set = real_target_set.transpose().reset_index()\n",
    "else:\n",
    "    real_target_set = real_target_set.reset_index()\n",
    "real_target_set = real_target_set.rename(columns={ real_target_set.columns[0]: \"ID\"})\n",
    "\n",
    "target_is_hap = not(\"|\"  in real_target_set.iloc[0, 2] or \"/\" in real_target_set.iloc[0, 2])\n",
    "print(f\"{real_target_set.shape[0]} {'haplotype' if target_is_hap else 'diplotype'} variants found!\")\n",
    "\n",
    "target_is_phased = \"|\" in real_target_set.iloc[0, 2] or target_is_hap\n",
    "ref_is_phased = \"|\" in reference_panel.iloc[0, 2] or ref_is_hap\n",
    "is_phased = target_is_phased and ref_is_phased\n",
    "print(\"Creating the new target dataframe\")\n",
    "target_set = real_target_set.merge(reference_panel[\"ID\"], on='ID', how='right')\n",
    "# target_set[reference_panel.columns[0]] = reference_panel[reference_panel.columns[0]]\n",
    "target_set.fillna(\".\" if target_is_hap else \".|.\" if is_phased else \"./.\", inplace=True)\n",
    "print(\"Extracting genotype information...\")"
   ],
   "metadata": {
    "collapsed": false,
    "ExecuteTime": {
     "end_time": "2023-09-12T02:24:51.445951100Z",
     "start_time": "2023-09-12T02:24:40.992242900Z"
    }
   },
   "id": "12d28d81519cbee0"
  },
  {
   "cell_type": "code",
   "execution_count": null,
   "outputs": [],
   "source": [
    "reference_panel"
   ],
   "metadata": {
    "collapsed": false,
    "ExecuteTime": {
     "start_time": "2023-09-12T02:19:01.068086800Z"
    }
   },
   "id": "238c3b1dd96a9c59"
  },
  {
   "cell_type": "code",
   "execution_count": 60,
   "outputs": [
    {
     "data": {
      "text/plain": "                               ID  0  1  2  3  4  5  6  7  8  ...  867  868  \\\n0            33070_chrI_33070_A_T  1  1  2  2  1  2  1  1  2  ...    1    1   \n1            33147_chrI_33147_G_T  1  1  2  2  1  2  1  1  2  ...    1    1   \n2            33152_chrI_33152_T_C  1  1  2  2  1  2  1  1  2  ...    1    1   \n3            33200_chrI_33200_C_T  1  1  2  2  1  2  1  1  2  ...    1    1   \n4            33293_chrI_33293_A_T  1  1  2  2  1  2  1  1  2  ...    1    1   \n...                           ... .. .. .. .. .. .. .. .. ..  ...  ...  ...   \n28215  12051240_chrXVI_927980_A_G  2  1  1  2  2  2  1  1  1  ...    2    1   \n28216  12051367_chrXVI_928107_C_T  2  1  1  2  2  2  1  1  1  ...    2    1   \n28217  12052782_chrXVI_929522_C_T  2  1  1  2  2  2  1  1  1  ...    2    1   \n28218  12052988_chrXVI_929728_A_G  2  1  1  2  2  2  1  1  1  ...    2    1   \n28219  12053130_chrXVI_929870_C_T  2  1  1  2  2  2  1  1  1  ...    2    1   \n\n       869  870  871  872  873  874  875  876  \n0        2    2    1    2    2    1    2    2  \n1        2    2    1    2    2    1    2    2  \n2        2    2    1    2    2    1    2    2  \n3        2    2    1    2    2    1    2    2  \n4        2    2    1    2    2    1    2    2  \n...    ...  ...  ...  ...  ...  ...  ...  ...  \n28215    2    2    1    1    2    2    1    1  \n28216    2    2    1    1    2    2    1    1  \n28217    2    2    1    1    2    2    1    1  \n28218    2    2    1    1    2    2    1    1  \n28219    2    2    1    1    2    2    1    1  \n\n[28220 rows x 878 columns]",
      "text/html": "<div>\n<style scoped>\n    .dataframe tbody tr th:only-of-type {\n        vertical-align: middle;\n    }\n\n    .dataframe tbody tr th {\n        vertical-align: top;\n    }\n\n    .dataframe thead th {\n        text-align: right;\n    }\n</style>\n<table border=\"1\" class=\"dataframe\">\n  <thead>\n    <tr style=\"text-align: right;\">\n      <th></th>\n      <th>ID</th>\n      <th>0</th>\n      <th>1</th>\n      <th>2</th>\n      <th>3</th>\n      <th>4</th>\n      <th>5</th>\n      <th>6</th>\n      <th>7</th>\n      <th>8</th>\n      <th>...</th>\n      <th>867</th>\n      <th>868</th>\n      <th>869</th>\n      <th>870</th>\n      <th>871</th>\n      <th>872</th>\n      <th>873</th>\n      <th>874</th>\n      <th>875</th>\n      <th>876</th>\n    </tr>\n  </thead>\n  <tbody>\n    <tr>\n      <th>0</th>\n      <td>33070_chrI_33070_A_T</td>\n      <td>1</td>\n      <td>1</td>\n      <td>2</td>\n      <td>2</td>\n      <td>1</td>\n      <td>2</td>\n      <td>1</td>\n      <td>1</td>\n      <td>2</td>\n      <td>...</td>\n      <td>1</td>\n      <td>1</td>\n      <td>2</td>\n      <td>2</td>\n      <td>1</td>\n      <td>2</td>\n      <td>2</td>\n      <td>1</td>\n      <td>2</td>\n      <td>2</td>\n    </tr>\n    <tr>\n      <th>1</th>\n      <td>33147_chrI_33147_G_T</td>\n      <td>1</td>\n      <td>1</td>\n      <td>2</td>\n      <td>2</td>\n      <td>1</td>\n      <td>2</td>\n      <td>1</td>\n      <td>1</td>\n      <td>2</td>\n      <td>...</td>\n      <td>1</td>\n      <td>1</td>\n      <td>2</td>\n      <td>2</td>\n      <td>1</td>\n      <td>2</td>\n      <td>2</td>\n      <td>1</td>\n      <td>2</td>\n      <td>2</td>\n    </tr>\n    <tr>\n      <th>2</th>\n      <td>33152_chrI_33152_T_C</td>\n      <td>1</td>\n      <td>1</td>\n      <td>2</td>\n      <td>2</td>\n      <td>1</td>\n      <td>2</td>\n      <td>1</td>\n      <td>1</td>\n      <td>2</td>\n      <td>...</td>\n      <td>1</td>\n      <td>1</td>\n      <td>2</td>\n      <td>2</td>\n      <td>1</td>\n      <td>2</td>\n      <td>2</td>\n      <td>1</td>\n      <td>2</td>\n      <td>2</td>\n    </tr>\n    <tr>\n      <th>3</th>\n      <td>33200_chrI_33200_C_T</td>\n      <td>1</td>\n      <td>1</td>\n      <td>2</td>\n      <td>2</td>\n      <td>1</td>\n      <td>2</td>\n      <td>1</td>\n      <td>1</td>\n      <td>2</td>\n      <td>...</td>\n      <td>1</td>\n      <td>1</td>\n      <td>2</td>\n      <td>2</td>\n      <td>1</td>\n      <td>2</td>\n      <td>2</td>\n      <td>1</td>\n      <td>2</td>\n      <td>2</td>\n    </tr>\n    <tr>\n      <th>4</th>\n      <td>33293_chrI_33293_A_T</td>\n      <td>1</td>\n      <td>1</td>\n      <td>2</td>\n      <td>2</td>\n      <td>1</td>\n      <td>2</td>\n      <td>1</td>\n      <td>1</td>\n      <td>2</td>\n      <td>...</td>\n      <td>1</td>\n      <td>1</td>\n      <td>2</td>\n      <td>2</td>\n      <td>1</td>\n      <td>2</td>\n      <td>2</td>\n      <td>1</td>\n      <td>2</td>\n      <td>2</td>\n    </tr>\n    <tr>\n      <th>...</th>\n      <td>...</td>\n      <td>...</td>\n      <td>...</td>\n      <td>...</td>\n      <td>...</td>\n      <td>...</td>\n      <td>...</td>\n      <td>...</td>\n      <td>...</td>\n      <td>...</td>\n      <td>...</td>\n      <td>...</td>\n      <td>...</td>\n      <td>...</td>\n      <td>...</td>\n      <td>...</td>\n      <td>...</td>\n      <td>...</td>\n      <td>...</td>\n      <td>...</td>\n      <td>...</td>\n    </tr>\n    <tr>\n      <th>28215</th>\n      <td>12051240_chrXVI_927980_A_G</td>\n      <td>2</td>\n      <td>1</td>\n      <td>1</td>\n      <td>2</td>\n      <td>2</td>\n      <td>2</td>\n      <td>1</td>\n      <td>1</td>\n      <td>1</td>\n      <td>...</td>\n      <td>2</td>\n      <td>1</td>\n      <td>2</td>\n      <td>2</td>\n      <td>1</td>\n      <td>1</td>\n      <td>2</td>\n      <td>2</td>\n      <td>1</td>\n      <td>1</td>\n    </tr>\n    <tr>\n      <th>28216</th>\n      <td>12051367_chrXVI_928107_C_T</td>\n      <td>2</td>\n      <td>1</td>\n      <td>1</td>\n      <td>2</td>\n      <td>2</td>\n      <td>2</td>\n      <td>1</td>\n      <td>1</td>\n      <td>1</td>\n      <td>...</td>\n      <td>2</td>\n      <td>1</td>\n      <td>2</td>\n      <td>2</td>\n      <td>1</td>\n      <td>1</td>\n      <td>2</td>\n      <td>2</td>\n      <td>1</td>\n      <td>1</td>\n    </tr>\n    <tr>\n      <th>28217</th>\n      <td>12052782_chrXVI_929522_C_T</td>\n      <td>2</td>\n      <td>1</td>\n      <td>1</td>\n      <td>2</td>\n      <td>2</td>\n      <td>2</td>\n      <td>1</td>\n      <td>1</td>\n      <td>1</td>\n      <td>...</td>\n      <td>2</td>\n      <td>1</td>\n      <td>2</td>\n      <td>2</td>\n      <td>1</td>\n      <td>1</td>\n      <td>2</td>\n      <td>2</td>\n      <td>1</td>\n      <td>1</td>\n    </tr>\n    <tr>\n      <th>28218</th>\n      <td>12052988_chrXVI_929728_A_G</td>\n      <td>2</td>\n      <td>1</td>\n      <td>1</td>\n      <td>2</td>\n      <td>2</td>\n      <td>2</td>\n      <td>1</td>\n      <td>1</td>\n      <td>1</td>\n      <td>...</td>\n      <td>2</td>\n      <td>1</td>\n      <td>2</td>\n      <td>2</td>\n      <td>1</td>\n      <td>1</td>\n      <td>2</td>\n      <td>2</td>\n      <td>1</td>\n      <td>1</td>\n    </tr>\n    <tr>\n      <th>28219</th>\n      <td>12053130_chrXVI_929870_C_T</td>\n      <td>2</td>\n      <td>1</td>\n      <td>1</td>\n      <td>2</td>\n      <td>2</td>\n      <td>2</td>\n      <td>1</td>\n      <td>1</td>\n      <td>1</td>\n      <td>...</td>\n      <td>2</td>\n      <td>1</td>\n      <td>2</td>\n      <td>2</td>\n      <td>1</td>\n      <td>1</td>\n      <td>2</td>\n      <td>2</td>\n      <td>1</td>\n      <td>1</td>\n    </tr>\n  </tbody>\n</table>\n<p>28220 rows × 878 columns</p>\n</div>"
     },
     "execution_count": 60,
     "metadata": {},
     "output_type": "execute_result"
    }
   ],
   "source": [
    "real_target_set"
   ],
   "metadata": {
    "collapsed": false,
    "ExecuteTime": {
     "end_time": "2023-09-11T20:12:43.432530800Z",
     "start_time": "2023-09-11T20:12:43.386518400Z"
    }
   },
   "id": "2b973ca1ded5d3f7"
  },
  {
   "cell_type": "code",
   "execution_count": 40,
   "outputs": [],
   "source": [],
   "metadata": {
    "collapsed": false,
    "ExecuteTime": {
     "end_time": "2023-09-11T19:46:53.581493800Z",
     "start_time": "2023-09-11T19:46:53.194066600Z"
    }
   },
   "id": "c2cb5272531abe78"
  },
  {
   "cell_type": "code",
   "execution_count": 62,
   "outputs": [
    {
     "data": {
      "text/plain": "                               ID  0  1  2  3  4  5  6  7  8  ...  867  868  \\\n0            33070_chrI_33070_A_T  1  1  2  2  1  2  1  1  2  ...    1    1   \n1            33147_chrI_33147_G_T  1  1  2  2  1  2  1  1  2  ...    1    1   \n2            33152_chrI_33152_T_C  1  1  2  2  1  2  1  1  2  ...    1    1   \n3            33200_chrI_33200_C_T  1  1  2  2  1  2  1  1  2  ...    1    1   \n4            33293_chrI_33293_A_T  1  1  2  2  1  2  1  1  2  ...    1    1   \n...                           ... .. .. .. .. .. .. .. .. ..  ...  ...  ...   \n28215  12051240_chrXVI_927980_A_G  2  1  1  2  2  2  1  1  1  ...    2    1   \n28216  12051367_chrXVI_928107_C_T  2  1  1  2  2  2  1  1  1  ...    2    1   \n28217  12052782_chrXVI_929522_C_T  2  1  1  2  2  2  1  1  1  ...    2    1   \n28218  12052988_chrXVI_929728_A_G  2  1  1  2  2  2  1  1  1  ...    2    1   \n28219  12053130_chrXVI_929870_C_T  2  1  1  2  2  2  1  1  1  ...    2    1   \n\n       869  870  871  872  873  874  875  876  \n0        2    2    1    2    2    1    2    2  \n1        2    2    1    2    2    1    2    2  \n2        2    2    1    2    2    1    2    2  \n3        2    2    1    2    2    1    2    2  \n4        2    2    1    2    2    1    2    2  \n...    ...  ...  ...  ...  ...  ...  ...  ...  \n28215    2    2    1    1    2    2    1    1  \n28216    2    2    1    1    2    2    1    1  \n28217    2    2    1    1    2    2    1    1  \n28218    2    2    1    1    2    2    1    1  \n28219    2    2    1    1    2    2    1    1  \n\n[28220 rows x 878 columns]",
      "text/html": "<div>\n<style scoped>\n    .dataframe tbody tr th:only-of-type {\n        vertical-align: middle;\n    }\n\n    .dataframe tbody tr th {\n        vertical-align: top;\n    }\n\n    .dataframe thead th {\n        text-align: right;\n    }\n</style>\n<table border=\"1\" class=\"dataframe\">\n  <thead>\n    <tr style=\"text-align: right;\">\n      <th></th>\n      <th>ID</th>\n      <th>0</th>\n      <th>1</th>\n      <th>2</th>\n      <th>3</th>\n      <th>4</th>\n      <th>5</th>\n      <th>6</th>\n      <th>7</th>\n      <th>8</th>\n      <th>...</th>\n      <th>867</th>\n      <th>868</th>\n      <th>869</th>\n      <th>870</th>\n      <th>871</th>\n      <th>872</th>\n      <th>873</th>\n      <th>874</th>\n      <th>875</th>\n      <th>876</th>\n    </tr>\n  </thead>\n  <tbody>\n    <tr>\n      <th>0</th>\n      <td>33070_chrI_33070_A_T</td>\n      <td>1</td>\n      <td>1</td>\n      <td>2</td>\n      <td>2</td>\n      <td>1</td>\n      <td>2</td>\n      <td>1</td>\n      <td>1</td>\n      <td>2</td>\n      <td>...</td>\n      <td>1</td>\n      <td>1</td>\n      <td>2</td>\n      <td>2</td>\n      <td>1</td>\n      <td>2</td>\n      <td>2</td>\n      <td>1</td>\n      <td>2</td>\n      <td>2</td>\n    </tr>\n    <tr>\n      <th>1</th>\n      <td>33147_chrI_33147_G_T</td>\n      <td>1</td>\n      <td>1</td>\n      <td>2</td>\n      <td>2</td>\n      <td>1</td>\n      <td>2</td>\n      <td>1</td>\n      <td>1</td>\n      <td>2</td>\n      <td>...</td>\n      <td>1</td>\n      <td>1</td>\n      <td>2</td>\n      <td>2</td>\n      <td>1</td>\n      <td>2</td>\n      <td>2</td>\n      <td>1</td>\n      <td>2</td>\n      <td>2</td>\n    </tr>\n    <tr>\n      <th>2</th>\n      <td>33152_chrI_33152_T_C</td>\n      <td>1</td>\n      <td>1</td>\n      <td>2</td>\n      <td>2</td>\n      <td>1</td>\n      <td>2</td>\n      <td>1</td>\n      <td>1</td>\n      <td>2</td>\n      <td>...</td>\n      <td>1</td>\n      <td>1</td>\n      <td>2</td>\n      <td>2</td>\n      <td>1</td>\n      <td>2</td>\n      <td>2</td>\n      <td>1</td>\n      <td>2</td>\n      <td>2</td>\n    </tr>\n    <tr>\n      <th>3</th>\n      <td>33200_chrI_33200_C_T</td>\n      <td>1</td>\n      <td>1</td>\n      <td>2</td>\n      <td>2</td>\n      <td>1</td>\n      <td>2</td>\n      <td>1</td>\n      <td>1</td>\n      <td>2</td>\n      <td>...</td>\n      <td>1</td>\n      <td>1</td>\n      <td>2</td>\n      <td>2</td>\n      <td>1</td>\n      <td>2</td>\n      <td>2</td>\n      <td>1</td>\n      <td>2</td>\n      <td>2</td>\n    </tr>\n    <tr>\n      <th>4</th>\n      <td>33293_chrI_33293_A_T</td>\n      <td>1</td>\n      <td>1</td>\n      <td>2</td>\n      <td>2</td>\n      <td>1</td>\n      <td>2</td>\n      <td>1</td>\n      <td>1</td>\n      <td>2</td>\n      <td>...</td>\n      <td>1</td>\n      <td>1</td>\n      <td>2</td>\n      <td>2</td>\n      <td>1</td>\n      <td>2</td>\n      <td>2</td>\n      <td>1</td>\n      <td>2</td>\n      <td>2</td>\n    </tr>\n    <tr>\n      <th>...</th>\n      <td>...</td>\n      <td>...</td>\n      <td>...</td>\n      <td>...</td>\n      <td>...</td>\n      <td>...</td>\n      <td>...</td>\n      <td>...</td>\n      <td>...</td>\n      <td>...</td>\n      <td>...</td>\n      <td>...</td>\n      <td>...</td>\n      <td>...</td>\n      <td>...</td>\n      <td>...</td>\n      <td>...</td>\n      <td>...</td>\n      <td>...</td>\n      <td>...</td>\n      <td>...</td>\n    </tr>\n    <tr>\n      <th>28215</th>\n      <td>12051240_chrXVI_927980_A_G</td>\n      <td>2</td>\n      <td>1</td>\n      <td>1</td>\n      <td>2</td>\n      <td>2</td>\n      <td>2</td>\n      <td>1</td>\n      <td>1</td>\n      <td>1</td>\n      <td>...</td>\n      <td>2</td>\n      <td>1</td>\n      <td>2</td>\n      <td>2</td>\n      <td>1</td>\n      <td>1</td>\n      <td>2</td>\n      <td>2</td>\n      <td>1</td>\n      <td>1</td>\n    </tr>\n    <tr>\n      <th>28216</th>\n      <td>12051367_chrXVI_928107_C_T</td>\n      <td>2</td>\n      <td>1</td>\n      <td>1</td>\n      <td>2</td>\n      <td>2</td>\n      <td>2</td>\n      <td>1</td>\n      <td>1</td>\n      <td>1</td>\n      <td>...</td>\n      <td>2</td>\n      <td>1</td>\n      <td>2</td>\n      <td>2</td>\n      <td>1</td>\n      <td>1</td>\n      <td>2</td>\n      <td>2</td>\n      <td>1</td>\n      <td>1</td>\n    </tr>\n    <tr>\n      <th>28217</th>\n      <td>12052782_chrXVI_929522_C_T</td>\n      <td>2</td>\n      <td>1</td>\n      <td>1</td>\n      <td>2</td>\n      <td>2</td>\n      <td>2</td>\n      <td>1</td>\n      <td>1</td>\n      <td>1</td>\n      <td>...</td>\n      <td>2</td>\n      <td>1</td>\n      <td>2</td>\n      <td>2</td>\n      <td>1</td>\n      <td>1</td>\n      <td>2</td>\n      <td>2</td>\n      <td>1</td>\n      <td>1</td>\n    </tr>\n    <tr>\n      <th>28218</th>\n      <td>12052988_chrXVI_929728_A_G</td>\n      <td>2</td>\n      <td>1</td>\n      <td>1</td>\n      <td>2</td>\n      <td>2</td>\n      <td>2</td>\n      <td>1</td>\n      <td>1</td>\n      <td>1</td>\n      <td>...</td>\n      <td>2</td>\n      <td>1</td>\n      <td>2</td>\n      <td>2</td>\n      <td>1</td>\n      <td>1</td>\n      <td>2</td>\n      <td>2</td>\n      <td>1</td>\n      <td>1</td>\n    </tr>\n    <tr>\n      <th>28219</th>\n      <td>12053130_chrXVI_929870_C_T</td>\n      <td>2</td>\n      <td>1</td>\n      <td>1</td>\n      <td>2</td>\n      <td>2</td>\n      <td>2</td>\n      <td>1</td>\n      <td>1</td>\n      <td>1</td>\n      <td>...</td>\n      <td>2</td>\n      <td>1</td>\n      <td>2</td>\n      <td>2</td>\n      <td>1</td>\n      <td>1</td>\n      <td>2</td>\n      <td>2</td>\n      <td>1</td>\n      <td>1</td>\n    </tr>\n  </tbody>\n</table>\n<p>28220 rows × 878 columns</p>\n</div>"
     },
     "execution_count": 62,
     "metadata": {},
     "output_type": "execute_result"
    }
   ],
   "source": [
    "real_target_set.merge(reference_panel[\"ID\"], on='ID', how='right')"
   ],
   "metadata": {
    "collapsed": false,
    "ExecuteTime": {
     "end_time": "2023-09-11T20:21:32.321332200Z",
     "start_time": "2023-09-11T20:21:32.143335700Z"
    }
   },
   "id": "db002419ba2afc39"
  },
  {
   "cell_type": "code",
   "execution_count": 3,
   "outputs": [
    {
     "data": {
      "text/plain": "<function tensorflow.python.eager.context.set_log_device_placement(enabled)>"
     },
     "execution_count": 3,
     "metadata": {},
     "output_type": "execute_result"
    }
   ],
   "source": [
    "class DataLoader:\n",
    "    \"\"\"\n",
    "    If the reference is unphased, cannot handle phased target data, so the valid (ref, target) combinations are:\n",
    "    (phased, phased), (phased, unphased), (unphased, unphased)\n",
    "    Important note: for each case, the model should be trained separately\n",
    "    \"\"\"\n",
    "    def __init__(self, ):\n",
    "        self.VARIANT_COUNT = 0\n",
    "        self.is_phased = False\n",
    "        self.MISSING_VALUE = None\n",
    "        self.ref_is_hap = False\n",
    "        self.target_is_hap = False\n",
    "        self.ref_n_header_lines = []\n",
    "        self.ref_n_data_header = \"\"\n",
    "        self.target_n_header_lines = []\n",
    "        self.target_n_data_header = \"\"\n",
    "        self.map_values_1_vec = np.vectorize(self.map_hap_2_ind_parent_1)\n",
    "        self.map_values_2_vec = np.vectorize(self.map_hap_2_ind_parent_2)\n",
    "        \n",
    "    def read_csvs(self, reference_panel_file_path, target_file_path, sep=\",\", index_column=None, variants_as_columns=False, comments=\"##\"):\n",
    "        \"\"\"\n",
    "        In this form the data should not have more than a column for ids. The first column can be either sample ids or variant ids. In case of latter, make sure to pass :param variants_as_columns=True. Example of sample input file:\n",
    "        ## Comment line 0\n",
    "        ## Comment line 1\n",
    "        Sample_id 17392_chrI_17400_T_G ....\n",
    "        HG1023               1\n",
    "        HG1024               0\n",
    "        \"\"\"\n",
    "        self.variants_as_columns = variants_as_columns\n",
    "        print(\"Reading the reference file...\")\n",
    "        root, ext = os.path.splitext(reference_panel_file_path)\n",
    "        with gzip.open(reference_panel_file_path, 'rt') if ext == '.gz' or ext == '.zip' else open(reference_panel_file_path, 'rt') as f_in:\n",
    "            # skip info\n",
    "            while True:\n",
    "                line = f_in.readline()\n",
    "                if line.startswith(comments):\n",
    "                    self.ref_n_header_lines.append(line)\n",
    "                else:\n",
    "                    self.ref_n_data_header = line\n",
    "                    break\n",
    "        self.reference_panel = pd.read_csv(reference_panel_file_path,\n",
    "                                           comment='#',\n",
    "                                           sep=sep,\n",
    "                                           index_col=index_column,\n",
    "                                           dtype=\"string\",\n",
    "                                           names=self.target_n_data_header.strip().split(sep))\n",
    "        if self.variants_as_columns:\n",
    "            self.reference_panel = self.reference_panel.transpose()\n",
    "        self.reference_panel.reset_index(inplace=True)\n",
    "        self.reference_panel = self.reference_panel.astype(str)\n",
    "        self.reference_panel.rename(columns={self.reference_panel.columns[0]: \"ID\"}, inplace=True)\n",
    "        self.VARIANT_COUNT = self.reference_panel.shape[0]\n",
    "        self.ref_is_hap = not(\"|\" in reference_panel.iloc[0, 2] or \"/\"  in reference_panel.iloc[0, 2])\n",
    "\n",
    "        print(f\"{self.VARIANT_COUNT} {'haplotype' if self.ref_is_hap else 'diplotype'} variants found!\")\n",
    "        print(\"Reading the target file...\")\n",
    "        real_target_set = pd.read_csv(target_file_path,\n",
    "                                           comment='#',\n",
    "                                           sep=sep,\n",
    "                                           index_col=index_column,\n",
    "                                           dtype=\"string\",\n",
    "                                           names=self.target_n_data_header.strip().split(sep))\n",
    "        if self.variants_as_columns:\n",
    "            real_target_set = real_target_set.transpose()\n",
    "        real_target_set.reset_index(inplace=True)\n",
    "        real_target_set = real_target_set.astype(str)\n",
    "        real_target_set.rename(columns={real_target_set.columns[0]: \"ID\"}, inplace=True)\n",
    "        self.target_is_hap = not(\"|\" in real_target_set.iloc[0, 2] or \"/\" in real_target_set.iloc[0, 2])\n",
    "        print(f\"{real_target_set.shape[0]} {'haplotype' if self.target_is_hap else 'diplotype'} variants found!\")\n",
    "\n",
    "        target_is_phased = \"|\" in real_target_set.iloc[0, 2] or self.target_is_hap\n",
    "        ref_is_phased = \"|\" in self.reference_panel.iloc[0, 2] or self.ref_is_hap\n",
    "        self.is_phased = target_is_phased and ref_is_phased\n",
    "        print(\"Creating the new target dataframe\")\n",
    "        self.target_set = real_target_set.merge(self.reference_panel[\"ID\"], on='ID', how='right')\n",
    "        # self.target_set[self.reference_panel.columns[:1]] = self.reference_panel[self.reference_panel.columns[:1]]\n",
    "        self.target_set.fillna(\".\" if self.target_is_hap else \".|.\" if self.is_phased else \"./.\", inplace=True)\n",
    "        print(\"Extracting genotype information...\")\n",
    "        SEP = \"|\" if self.is_phased else \"/\"\n",
    "        def get_num_allels(g):\n",
    "            v1, v2 = g.split(SEP)\n",
    "            return max(int(v1), int(v2)) + 1\n",
    "\n",
    "        def key_gen(v1, v2):\n",
    "            return f\"{v1}{SEP}{v2}\"\n",
    "\n",
    "        genotype_vals = np.unique(self.reference_panel.iloc[:, 9:].values)\n",
    "        if target_is_phased != ref_is_phased:\n",
    "            phased_to_unphased_dict = {}\n",
    "            for i in range(genotype_vals.shape[0]):\n",
    "                key = genotype_vals[i]\n",
    "                v1, v2 = [int(s) for s in genotype_vals[i].split(\"|\")]\n",
    "                genotype_vals[i] = f\"{min(v1, v2)}{SEP}{max(v1, v2)}\"\n",
    "                phased_to_unphased_dict[key] = genotype_vals[i]\n",
    "            self.reference_panel.replace(phased_to_unphased_dict, inplace=True)\n",
    "        genotype_vals = np.unique(genotype_vals)\n",
    "        allele_count = max(map(get_num_allels, genotype_vals))\n",
    "        if self.is_phased:\n",
    "            self.hap_map = {str(i): i for i in range(allele_count)}\n",
    "            self.hap_map.update({\".\": allele_count})\n",
    "            self.r_hap_map = {i:k for k, i in self.hap_map.items()}\n",
    "            self.map_preds_2_allele = np.vectorize(lambda x: self.r_hap_map[x])\n",
    "        self.MISSING_VALUE = self.SEQ_DEPTH = allele_count + 1 if self.is_phased else len(genotype_vals) + 1\n",
    "        self.genotype_keys = np.array([key_gen(i,j) for i in range(allele_count) for j in range(allele_count)]) if self.is_phased else genotype_vals\n",
    "        self.genotype_keys = np.hstack([self.genotype_keys, [\".|.\"] if self.is_phased else [\"./.\"]])\n",
    "        self.replacement_dict = {g:i for i,g in enumerate(self.genotype_keys)}\n",
    "        self.reverse_replacement_dict = {i:g for g,i in self.replacement_dict.items()}\n",
    "        \n",
    "        \n",
    "    def read_vcfs(self, reference_panel_file_path, target_file_path):\n",
    "        \n",
    "        print(\"Reading the reference file...\")\n",
    "        # get header\n",
    "        root, ext = os.path.splitext(reference_panel_file_path)\n",
    "        with gzip.open(reference_panel_file_path, 'rt') if ext == '.gz' else open(reference_panel_file_path, 'rt') as f_in:\n",
    "            # skip info\n",
    "            while True:\n",
    "                line = f_in.readline()\n",
    "                if line.startswith(\"##\"):\n",
    "                    self.ref_n_header_lines.append(line)\n",
    "                else:\n",
    "                    self.ref_n_data_header = line\n",
    "                    break\n",
    "        self.reference_panel = pd.read_csv(reference_panel_file_path,\n",
    "                                           comment='#',\n",
    "                                           sep='\\t',\n",
    "                                           names=self.ref_n_data_header.strip().split('\\t'))\n",
    "        self.VARIANT_COUNT = self.reference_panel.shape[0]\n",
    "        print(f\"{self.VARIANT_COUNT} variants found. Done!\")\n",
    "        print(\"Reading the target file...\")\n",
    "        \n",
    "        root, ext = os.path.splitext(target_file_path)\n",
    "        # get header\n",
    "        with gzip.open(target_file_path, 'rt') if ext == '.gz' else open(target_file_path, 'rt') as f_in:\n",
    "            # skip info\n",
    "            while True:\n",
    "                line = f_in.readline()\n",
    "                if line.startswith(\"##\"):\n",
    "                    self.target_n_header_lines.append(line)\n",
    "                else:\n",
    "                    self.target_n_data_header = line\n",
    "                    break\n",
    "        real_target_set = pd.read_csv(target_file_path,\n",
    "                                           comment='#',\n",
    "                                           sep='\\t',\n",
    "                                           names=self.target_n_data_header.strip().split('\\t'),)\n",
    "        print(f\"{real_target_set.shape[0]} variants found. Done!\")\n",
    "        target_is_phased = \"|\" in real_target_set.iloc[0, 10].astype(str)\n",
    "        ref_is_phased = \"|\" in self.reference_panel.iloc[0, 10].astype(str)\n",
    "        self.is_phased = target_is_phased and ref_is_phased\n",
    "        print(\"Creating the new target dataframe\")\n",
    "        self.target_set = real_target_set.merge(self.reference_panel[\"ID\"], on='ID', how='right')\n",
    "        self.target_set[self.reference_panel.columns[:9]] = self.reference_panel[self.reference_panel.columns[:9]]\n",
    "        self.target_set.fillna(\".|.\" if self.is_phased else \"./.\", inplace=True)\n",
    "        print(\"Extracting genotype information...\")\n",
    "        SEP = \"|\" if self.is_phased else \"/\"\n",
    "        def get_num_allels(g):\n",
    "            v1, v2 = g.split(SEP)\n",
    "            return max(int(v1), int(v2)) + 1\n",
    "\n",
    "        def key_gen(v1, v2):\n",
    "            return f\"{v1}{SEP}{v2}\"\n",
    "\n",
    "        genotype_vals = np.unique(self.reference_panel.iloc[:, 9:].values)\n",
    "        if target_is_phased != ref_is_phased:\n",
    "            phased_to_unphased_dict = {}\n",
    "            for i in range(genotype_vals.shape[0]):\n",
    "                key = genotype_vals[i]\n",
    "                v1, v2 = [int(s) for s in genotype_vals[i].split(\"|\")]\n",
    "                genotype_vals[i] = f\"{min(v1, v2)}{SEP}{max(v1, v2)}\"\n",
    "                phased_to_unphased_dict[key] = genotype_vals[i]\n",
    "            self.reference_panel.replace(phased_to_unphased_dict, inplace=True)\n",
    "        genotype_vals = np.unique(genotype_vals)\n",
    "        allele_count = max(map(get_num_allels, genotype_vals))\n",
    "        if self.is_phased:\n",
    "            self.hap_map = {str(i): i for i in range(allele_count)}\n",
    "            self.hap_map.update({\".\": allele_count})\n",
    "            self.r_hap_map = {i:k for k, i in self.hap_map.items()}\n",
    "            self.map_preds_2_allele = np.vectorize(lambda x: self.r_hap_map[x])\n",
    "        self.MISSING_VALUE = self.SEQ_DEPTH = allele_count + 1 if self.is_phased else len(genotype_vals) + 1\n",
    "        self.genotype_keys = np.array([key_gen(i,j) for i in range(allele_count) for j in range(allele_count)]) if self.is_phased else genotype_vals\n",
    "        self.genotype_keys = np.hstack([self.genotype_keys, [\".|.\"] if self.is_phased else [\"./.\"]])\n",
    "        self.replacement_dict = {g:i for i,g in enumerate(self.genotype_keys)}\n",
    "        self.reverse_replacement_dict = {i:g for g,i in self.replacement_dict.items()}\n",
    "\n",
    "    def map_hap_2_ind_parent_1(self, x):\n",
    "        return self.hap_map[x.split('|')[0]]\n",
    "\n",
    "    def map_hap_2_ind_parent_2(self, x):\n",
    "        return self.hap_map[x.split('|')[1]]\n",
    "\n",
    "    def __get_forward_data(self, data: pd.DataFrame):\n",
    "        if self.is_phased:\n",
    "            # break it into haplotypes\n",
    "            _x = np.empty((data.shape[1] * 2, data.shape[0]), dtype=np.int32)\n",
    "\n",
    "            _x[0::2] = self.map_values_1_vec(data.values.T)\n",
    "            _x[1::2] = self.map_values_2_vec(data.values.T)\n",
    "            return _x\n",
    "        else:\n",
    "            return data.replace(self.replacement_dict).values.T.astype(np.int32)\n",
    "\n",
    "    def get_ref_set(self, starting_var_index=None, ending_var_index=None):\n",
    "        if starting_var_index>=0 and ending_var_index>=starting_var_index:\n",
    "            return self.__get_forward_data(self.reference_panel.iloc[starting_var_index:ending_var_index, 9:])\n",
    "        else:\n",
    "            print(\"No variant indices provided or indices not valid, using the whole sequence...\")\n",
    "            return self.__get_forward_data(self.reference_panel.iloc[:, 9:])\n",
    "\n",
    "    def get_target_set(self, starting_var_index=None, ending_var_index=None):\n",
    "        if starting_var_index>=0 and ending_var_index>=starting_var_index:\n",
    "            return self.__get_forward_data(self.target_set.iloc[starting_var_index:ending_var_index, 9:])\n",
    "        else:\n",
    "            print(\"No variant indices provided or indices not valid, using the whole sequence...\")\n",
    "            return self.__get_forward_data(self.target_set.iloc[:, 9:])\n",
    "\n",
    "    def convert_haps_to_genotypes(self, allele_probs):\n",
    "      '''output format: GT:DS:GP'''\n",
    "      FORMAT = \"GT:DS:GP\"\n",
    "      n_haploids, n_variants, n_alleles = allele_probs.shape\n",
    "      allele_probs_normalized = softmax(allele_probs, axis=-1)\n",
    "\n",
    "      if n_haploids % 2 != 0:\n",
    "          raise ValueError(\"Number of haploids should be even.\")\n",
    "\n",
    "      n_samples = n_haploids // 2\n",
    "      genotypes = np.zeros((n_samples, n_variants), dtype=object)\n",
    "\n",
    "      for i in tqdm(range(n_samples)):\n",
    "        haploid_1 = allele_probs_normalized[2 * i]\n",
    "        haploid_2 = allele_probs_normalized[2 * i + 1]\n",
    "\n",
    "        for j in range(n_variants):\n",
    "          phased_probs = np.multiply.outer(haploid_1[j], haploid_2[j]).flatten()\n",
    "          unphased_probs = np.array([phased_probs[0], sum(phased_probs[1:3]), phased_probs[-1]])\n",
    "          unphased_probs_str = \",\".join([f\"{v:.6f}\" for v in unphased_probs])\n",
    "          alt_dosage = np.dot(unphased_probs, [0, 1, 2])\n",
    "          variant_genotypes = [str(v) for v in np.argmax(allele_probs_normalized[i*2:(i+1)*2, j], axis=-1)]\n",
    "          genotypes[i, j] = '|'.join(variant_genotypes) + f\":{alt_dosage:.3f}:{unphased_probs_str}\"\n",
    "\n",
    "      new_vcf = self.target_set.copy()\n",
    "      new_vcf.iloc[:n_variants, 9:] = genotypes.T\n",
    "      new_vcf[\"FORMAT\"] = FORMAT\n",
    "      new_vcf[\"QUAL\"] = \".\"\n",
    "      new_vcf[\"FILTER\"] = \".\"\n",
    "      new_vcf[\"INFO\"] = \"IMPUTED\"\n",
    "      return new_vcf\n",
    "\n",
    "    def convert_unphased_probs_to_genotypes(self, allele_probs):\n",
    "      '''output format: GT:DS:GP'''\n",
    "      FORMAT = \"GT:DS:GP\"\n",
    "      n_samples, n_variants, n_alleles = allele_probs.shape\n",
    "      allele_probs_normalized = softmax(allele_probs, axis=-1)\n",
    "      genotypes = np.zeros((n_samples, n_variants), dtype=object)\n",
    "\n",
    "      for i in tqdm(range(n_samples)):\n",
    "          for j in range(n_variants):\n",
    "              unphased_probs = allele_probs_normalized[i, j]\n",
    "              unphased_probs_str = \",\".join([f\"{v:.6f}\" for v in unphased_probs])\n",
    "              alt_dosage = np.dot(unphased_probs, [0, 1, 2])\n",
    "              variant_genotypes = np.vectorize(self.reverse_replacement_dict.get)(np.argmax(unphased_probs, axis=-1)).flatten()\n",
    "              genotypes[i, j] = '/'.join(variant_genotypes) + f\":{unphased_probs_str}:{alt_dosage:.3f}\"\n",
    "\n",
    "      new_vcf = self.target_set.copy()\n",
    "      new_vcf.iloc[:, 9:] = genotypes.T\n",
    "      new_vcf[\"FORMAT\"] = FORMAT\n",
    "      new_vcf[\"QUAL\"] = \".\"\n",
    "      new_vcf[\"FILTER\"] = \".\"\n",
    "      new_vcf[\"INFO\"] = \"IMPUTED\"\n",
    "      return new_vcf\n",
    "\n",
    "    def __get_headers_for_output(self):\n",
    "      headers = [\"##fileformat=VCFv4.2\",\n",
    "           '''##source=STI v1.0.0''',\n",
    "           '''##INFO=<ID=IMPUTED,Number=0,Type=Flag,Description=\"Marker was imputed\">''',\n",
    "           '''##FORMAT=<ID=GT,Number=1,Type=String,Description=\"Genotype\">''',\n",
    "           '''##FORMAT=<ID=DS,Number=A,Type=Float,Description=\"Estimated Alternate Allele Dosage : [P(0/1)+2*P(1/1)]\">''',\n",
    "           '''##FORMAT=<ID=GP,Number=G,Type=Float,Description=\"Estimated Posterior Probabilities for Genotypes 0/0, 0/1 and 1/1\">''']\n",
    "      return headers\n",
    "\n",
    "    def preds_to_genotypes(self, preds):\n",
    "        \"\"\"\n",
    "        WARNING: This only supports bi-allelic data right now!\n",
    "        :param preds: numpy array of (n_samples, n_variants, n_alleles)\n",
    "        :return: numpy array of the same shape, with genotype calls, e.g., \"0/1\"\n",
    "        \"\"\"\n",
    "        if self.is_phased:\n",
    "          return self.convert_haps_to_genotypes(preds)\n",
    "        else:\n",
    "          return self.convert_unphased_probs_to_genotypes(preds)\n",
    "\n",
    "    def write_ligated_results_to_vcf(self, df, file_name):\n",
    "      with gzip.open(file_name, 'wt') if file_name.endswith(\".gz\") else open(file_name, 'wt') as f_out:\n",
    "          # write info\n",
    "          f_out.write(\"\\n\".join(self.__get_headers_for_output())+\"\\n\")\n",
    "      df.to_csv(file_name, sep=\"\\t\", mode='a', index=False)"
   ],
   "metadata": {
    "collapsed": false,
    "ExecuteTime": {
     "end_time": "2023-09-11T01:49:11.141485100Z",
     "start_time": "2023-09-11T01:49:11.122423900Z"
    }
   },
   "id": "addd78d2ffdfdbf0"
  },
  {
   "cell_type": "code",
   "execution_count": null,
   "outputs": [],
   "source": [],
   "metadata": {
    "collapsed": false
   },
   "id": "fecfa6c805e681e8"
  }
 ],
 "metadata": {
  "kernelspec": {
   "display_name": "Python 3",
   "language": "python",
   "name": "python3"
  },
  "language_info": {
   "codemirror_mode": {
    "name": "ipython",
    "version": 2
   },
   "file_extension": ".py",
   "mimetype": "text/x-python",
   "name": "python",
   "nbconvert_exporter": "python",
   "pygments_lexer": "ipython2",
   "version": "2.7.6"
  }
 },
 "nbformat": 4,
 "nbformat_minor": 5
}
