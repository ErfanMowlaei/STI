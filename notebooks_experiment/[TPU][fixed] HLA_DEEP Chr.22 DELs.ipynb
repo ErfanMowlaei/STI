{
 "cells": [
  {
   "cell_type": "code",
   "execution_count": null,
   "metadata": {
    "colab": {
     "base_uri": "https://localhost:8080/"
    },
    "executionInfo": {
     "elapsed": 16810,
     "status": "ok",
     "timestamp": 1690835807690,
     "user": {
      "displayName": "Erfan Mowlaei",
      "userId": "07890245825539195560"
     },
     "user_tz": 240
    },
    "id": "doSuiA3dyTyg",
    "outputId": "fcd29743-cba3-4e18-fb8a-2776199ae024"
   },
   "outputs": [
    {
     "output_type": "stream",
     "name": "stdout",
     "text": [
      "Mounted at /content/drive\n"
     ]
    }
   ],
   "source": [
    "from google.colab import drive\n",
    "drive.mount('/content/drive')"
   ]
  },
  {
   "cell_type": "code",
   "execution_count": null,
   "metadata": {
    "colab": {
     "base_uri": "https://localhost:8080/"
    },
    "executionInfo": {
     "elapsed": 30791,
     "status": "ok",
     "timestamp": 1690835838474,
     "user": {
      "displayName": "Erfan Mowlaei",
      "userId": "07890245825539195560"
     },
     "user_tz": 240
    },
    "id": "liJJGzQp4qzO",
    "outputId": "54e37b00-8b6f-4573-feca-462426ab13e2"
   },
   "outputs": [
    {
     "output_type": "stream",
     "name": "stdout",
     "text": [
      "Collecting tensorflow-addons\n",
      "  Downloading tensorflow_addons-0.21.0-cp310-cp310-manylinux_2_17_x86_64.manylinux2014_x86_64.whl (612 kB)\n",
      "\u001B[2K     \u001B[90m━━━━━━━━━━━━━━━━━━━━━━━━━━━━━━━━━━━━━━━\u001B[0m \u001B[32m612.1/612.1 kB\u001B[0m \u001B[31m2.3 MB/s\u001B[0m eta \u001B[36m0:00:00\u001B[0m\n",
      "\u001B[?25hRequirement already satisfied: packaging in /usr/local/lib/python3.10/dist-packages (from tensorflow-addons) (23.1)\n",
      "Collecting typeguard<3.0.0,>=2.7 (from tensorflow-addons)\n",
      "  Downloading typeguard-2.13.3-py3-none-any.whl (17 kB)\n",
      "Installing collected packages: typeguard, tensorflow-addons\n",
      "Successfully installed tensorflow-addons-0.21.0 typeguard-2.13.3\n",
      "Requirement already satisfied: toolz in /usr/local/lib/python3.10/dist-packages (0.12.0)\n",
      "Collecting scikit-allel\n",
      "  Downloading scikit_allel-1.3.6-cp310-cp310-manylinux_2_17_x86_64.manylinux2014_x86_64.whl (7.4 MB)\n",
      "\u001B[2K     \u001B[90m━━━━━━━━━━━━━━━━━━━━━━━━━━━━━━━━━━━━━━━━\u001B[0m \u001B[32m7.4/7.4 MB\u001B[0m \u001B[31m11.1 MB/s\u001B[0m eta \u001B[36m0:00:00\u001B[0m\n",
      "\u001B[?25hRequirement already satisfied: numpy in /usr/local/lib/python3.10/dist-packages (from scikit-allel) (1.25.2)\n",
      "Requirement already satisfied: dask[array] in /usr/local/lib/python3.10/dist-packages (from scikit-allel) (2022.12.1)\n",
      "Requirement already satisfied: click>=7.0 in /usr/local/lib/python3.10/dist-packages (from dask[array]->scikit-allel) (8.1.6)\n",
      "Requirement already satisfied: cloudpickle>=1.1.1 in /usr/local/lib/python3.10/dist-packages (from dask[array]->scikit-allel) (2.2.1)\n",
      "Requirement already satisfied: fsspec>=0.6.0 in /usr/local/lib/python3.10/dist-packages (from dask[array]->scikit-allel) (2023.6.0)\n",
      "Requirement already satisfied: packaging>=20.0 in /usr/local/lib/python3.10/dist-packages (from dask[array]->scikit-allel) (23.1)\n",
      "Requirement already satisfied: partd>=0.3.10 in /usr/local/lib/python3.10/dist-packages (from dask[array]->scikit-allel) (1.4.0)\n",
      "Requirement already satisfied: pyyaml>=5.3.1 in /usr/local/lib/python3.10/dist-packages (from dask[array]->scikit-allel) (6.0.1)\n",
      "Requirement already satisfied: locket in /usr/local/lib/python3.10/dist-packages (from partd>=0.3.10->dask[array]->scikit-allel) (1.0.0)\n",
      "Installing collected packages: scikit-allel\n",
      "Successfully installed scikit-allel-1.3.6\n"
     ]
    }
   ],
   "source": [
    "!pip install tensorflow-addons\n",
    "!pip install toolz scikit-allel"
   ]
  },
  {
   "cell_type": "code",
   "execution_count": null,
   "metadata": {
    "colab": {
     "base_uri": "https://localhost:8080/"
    },
    "executionInfo": {
     "elapsed": 11833,
     "status": "ok",
     "timestamp": 1690835850303,
     "user": {
      "displayName": "Erfan Mowlaei",
      "userId": "07890245825539195560"
     },
     "user_tz": 240
    },
    "id": "ZWzi3Z3L5RO2",
    "outputId": "ddaded3c-2027-4f5f-a1c8-24fb5a99c361"
   },
   "outputs": [
    {
     "output_type": "stream",
     "name": "stdout",
     "text": [
      "Colab only includes TensorFlow 2.x; %tensorflow_version has no effect.\n",
      "Tensorflow version 2.12.0\n"
     ]
    }
   ],
   "source": [
    "import numpy as np\n",
    "%tensorflow_version 2.x\n",
    "import tensorflow as tf\n",
    "print(\"Tensorflow version \" + tf.__version__)"
   ]
  },
  {
   "cell_type": "markdown",
   "metadata": {
    "id": "RjGOO5PdFPf7"
   },
   "source": [
    "## Setup"
   ]
  },
  {
   "cell_type": "code",
   "execution_count": null,
   "metadata": {
    "colab": {
     "base_uri": "https://localhost:8080/"
    },
    "executionInfo": {
     "elapsed": 4237,
     "status": "ok",
     "timestamp": 1690835854536,
     "user": {
      "displayName": "Erfan Mowlaei",
      "userId": "07890245825539195560"
     },
     "user_tz": 240
    },
    "id": "odmhCqSVFPf8",
    "outputId": "25fd0688-0f32-414d-888b-cd7318c1c154"
   },
   "outputs": [
    {
     "output_type": "stream",
     "name": "stderr",
     "text": [
      "/usr/local/lib/python3.10/dist-packages/tensorflow_addons/utils/tfa_eol_msg.py:23: UserWarning: \n",
      "\n",
      "TensorFlow Addons (TFA) has ended development and introduction of new features.\n",
      "TFA has entered a minimal maintenance and release mode until a planned end of life in May 2024.\n",
      "Please modify downstream libraries to take dependencies from other repositories in our TensorFlow community (e.g. Keras, Keras-CV, and Keras-NLP). \n",
      "\n",
      "For more information see: https://github.com/tensorflow/addons/issues/2807 \n",
      "\n",
      "  warnings.warn(\n"
     ]
    },
    {
     "output_type": "stream",
     "name": "stdout",
     "text": [
      "Tensorflow version 2.12.0\n"
     ]
    }
   ],
   "source": [
    "import os\n",
    "# os.environ[\"MODIN_CPUS\"] = \"8\"\n",
    "# from distributed import Client\n",
    "# client = Client()\n",
    "import numpy as np\n",
    "import math\n",
    "import re\n",
    "import itertools\n",
    "import random\n",
    "import pandas as pd\n",
    "from sklearn.model_selection import train_test_split\n",
    "from sklearn.utils import resample\n",
    "import tensorflow as tf\n",
    "from tensorflow import keras\n",
    "import tensorflow.keras.backend as K\n",
    "from tensorflow.keras import layers\n",
    "from tensorflow.keras import regularizers\n",
    "from tensorflow.keras.preprocessing.sequence import pad_sequences\n",
    "import tensorflow_addons as tfa\n",
    "from sklearn import metrics\n",
    "from sklearn.model_selection import KFold\n",
    "from tensorflow.keras.utils import to_categorical\n",
    "from tensorflow.keras import constraints\n",
    "from tensorflow.keras import initializers\n",
    "from tensorflow.keras import regularizers\n",
    "from tensorflow.keras.applications import efficientnet as efn\n",
    "from sklearn.metrics import confusion_matrix\n",
    "from sklearn.metrics import f1_score\n",
    "from tensorflow.keras.constraints import Constraint\n",
    "# import allel\n",
    "from scipy.spatial.distance import squareform\n",
    "%matplotlib inline\n",
    "from toolz import interleave\n",
    "from tqdm import tqdm\n",
    "import allel\n",
    "from scipy.spatial.distance import squareform\n",
    "from matplotlib import pyplot as plt\n",
    "import tensorflow_datasets as tfds\n",
    "from sklearn.metrics import mean_squared_error\n",
    "from sklearn.linear_model import LassoCV, ElasticNetCV\n",
    "from sklearn.model_selection import KFold,StratifiedKFold\n",
    "\n",
    "print(\"Tensorflow version \" + tf.__version__)"
   ]
  },
  {
   "cell_type": "markdown",
   "metadata": {
    "id": "SLd26RspFhaS"
   },
   "source": [
    "## Hardware Config"
   ]
  },
  {
   "cell_type": "code",
   "execution_count": null,
   "metadata": {
    "colab": {
     "base_uri": "https://localhost:8080/"
    },
    "executionInfo": {
     "elapsed": 7364,
     "status": "ok",
     "timestamp": 1690835862026,
     "user": {
      "displayName": "Erfan Mowlaei",
      "userId": "07890245825539195560"
     },
     "user_tz": 240
    },
    "id": "SLd7mAFgFUnR",
    "outputId": "bc665bec-0a6a-4833-921c-fc97d38b20f5"
   },
   "outputs": [
    {
     "output_type": "stream",
     "name": "stdout",
     "text": [
      "Running on TPU  grpc://10.46.134.218:8470\n",
      "N_REPLICAS: 8\n"
     ]
    }
   ],
   "source": [
    "# Detect hardware, return appropriate distribution strategy\n",
    "try:\n",
    "    TPU = tf.distribute.cluster_resolver.TPUClusterResolver()  # TPU detection. No parameters necessary if TPU_NAME environment variable is set. On Kaggle this is always the case.\n",
    "    print('Running on TPU ', TPU.master())\n",
    "except ValueError:\n",
    "    print('Running on GPU')\n",
    "    TPU = None\n",
    "\n",
    "if TPU:\n",
    "    tf.config.experimental_connect_to_cluster(TPU)\n",
    "    tf.tpu.experimental.initialize_tpu_system(TPU)\n",
    "    strategy = tf.distribute.TPUStrategy(TPU)\n",
    "else:\n",
    "    strategy = tf.distribute.get_strategy() # default distribution strategy in Tensorflow. Works on CPU and single GPU.\n",
    "\n",
    "N_REPLICAS = strategy.num_replicas_in_sync\n",
    "# Number of computing cores, is 8 for a TPU V3-8\n",
    "print(f'N_REPLICAS: {N_REPLICAS}')"
   ]
  },
  {
   "cell_type": "markdown",
   "metadata": {
    "id": "A77GFE3xFPf8"
   },
   "source": [
    "## Prepare the data"
   ]
  },
  {
   "cell_type": "code",
   "execution_count": null,
   "metadata": {
    "id": "j3zy8i_8FPf_",
    "colab": {
     "base_uri": "https://localhost:8080/",
     "height": 424
    },
    "executionInfo": {
     "status": "ok",
     "timestamp": 1690836974454,
     "user_tz": 240,
     "elapsed": 916,
     "user": {
      "displayName": "Erfan Mowlaei",
      "userId": "07890245825539195560"
     }
    },
    "outputId": "013c6c71-472e-40e8-80a0-c83d16a091bd"
   },
   "outputs": [
    {
     "output_type": "execute_result",
     "data": {
      "text/plain": [
       "         0    1    2    3    4    5    6    7    8    9    ...  562  563  564  \\\n",
       "HG00096  0|0  0|0  0|0  0|0  0|0  0|0  1|1  0|0  0|0  0|0  ...  0|0  0|0  0|1   \n",
       "HG00097  0|0  0|0  0|0  0|0  0|0  0|0  1|0  0|0  0|0  0|0  ...  0|0  0|0  0|1   \n",
       "HG00099  0|0  0|0  0|0  0|0  0|0  0|0  1|0  0|0  0|0  0|0  ...  0|0  0|0  0|0   \n",
       "HG00100  0|0  0|0  0|0  0|0  0|0  0|0  1|0  0|0  0|0  0|0  ...  0|0  0|0  0|0   \n",
       "HG00101  0|0  0|0  0|0  0|0  0|0  0|0  1|0  0|0  0|0  0|0  ...  0|0  0|0  0|0   \n",
       "...      ...  ...  ...  ...  ...  ...  ...  ...  ...  ...  ...  ...  ...  ...   \n",
       "NA21137  0|0  0|0  0|0  0|0  0|0  0|0  0|0  0|0  0|0  0|0  ...  0|0  0|0  0|0   \n",
       "NA21141  0|0  0|0  0|0  0|0  0|0  0|0  1|0  0|0  0|0  0|0  ...  0|0  0|0  1|0   \n",
       "NA21142  0|0  0|0  0|0  0|0  0|0  0|0  0|1  0|0  0|0  0|0  ...  0|0  0|0  1|0   \n",
       "NA21143  0|0  0|0  0|0  0|0  0|0  0|0  1|0  0|0  0|0  0|0  ...  0|0  0|0  0|1   \n",
       "NA21144  0|0  0|0  0|0  0|0  0|0  0|0  0|0  0|0  0|0  0|0  ...  0|0  0|0  0|0   \n",
       "\n",
       "         565  566  567  568  569  570  571  \n",
       "HG00096  0|0  0|0  0|0  0|0  0|0  0|0  0|0  \n",
       "HG00097  0|0  0|0  0|0  0|0  0|0  0|0  0|0  \n",
       "HG00099  0|0  0|0  0|0  0|0  0|0  0|0  0|0  \n",
       "HG00100  0|0  0|0  0|0  0|0  0|0  0|0  0|0  \n",
       "HG00101  0|0  0|0  0|0  0|0  0|0  0|0  0|0  \n",
       "...      ...  ...  ...  ...  ...  ...  ...  \n",
       "NA21137  0|0  0|0  0|0  0|0  0|0  0|0  0|0  \n",
       "NA21141  0|0  0|0  0|0  0|0  0|0  0|0  0|0  \n",
       "NA21142  0|0  0|0  0|0  0|0  0|0  0|0  0|0  \n",
       "NA21143  0|0  0|0  0|0  0|0  0|0  0|0  0|0  \n",
       "NA21144  0|0  0|0  0|0  0|0  0|0  0|0  0|0  \n",
       "\n",
       "[2504 rows x 572 columns]"
      ],
      "text/html": [
       "\n",
       "\n",
       "  <div id=\"df-b67df939-94a5-4323-9e92-bd1442c613ee\">\n",
       "    <div class=\"colab-df-container\">\n",
       "      <div>\n",
       "<style scoped>\n",
       "    .dataframe tbody tr th:only-of-type {\n",
       "        vertical-align: middle;\n",
       "    }\n",
       "\n",
       "    .dataframe tbody tr th {\n",
       "        vertical-align: top;\n",
       "    }\n",
       "\n",
       "    .dataframe thead th {\n",
       "        text-align: right;\n",
       "    }\n",
       "</style>\n",
       "<table border=\"1\" class=\"dataframe\">\n",
       "  <thead>\n",
       "    <tr style=\"text-align: right;\">\n",
       "      <th></th>\n",
       "      <th>0</th>\n",
       "      <th>1</th>\n",
       "      <th>2</th>\n",
       "      <th>3</th>\n",
       "      <th>4</th>\n",
       "      <th>5</th>\n",
       "      <th>6</th>\n",
       "      <th>7</th>\n",
       "      <th>8</th>\n",
       "      <th>9</th>\n",
       "      <th>...</th>\n",
       "      <th>562</th>\n",
       "      <th>563</th>\n",
       "      <th>564</th>\n",
       "      <th>565</th>\n",
       "      <th>566</th>\n",
       "      <th>567</th>\n",
       "      <th>568</th>\n",
       "      <th>569</th>\n",
       "      <th>570</th>\n",
       "      <th>571</th>\n",
       "    </tr>\n",
       "  </thead>\n",
       "  <tbody>\n",
       "    <tr>\n",
       "      <th>HG00096</th>\n",
       "      <td>0|0</td>\n",
       "      <td>0|0</td>\n",
       "      <td>0|0</td>\n",
       "      <td>0|0</td>\n",
       "      <td>0|0</td>\n",
       "      <td>0|0</td>\n",
       "      <td>1|1</td>\n",
       "      <td>0|0</td>\n",
       "      <td>0|0</td>\n",
       "      <td>0|0</td>\n",
       "      <td>...</td>\n",
       "      <td>0|0</td>\n",
       "      <td>0|0</td>\n",
       "      <td>0|1</td>\n",
       "      <td>0|0</td>\n",
       "      <td>0|0</td>\n",
       "      <td>0|0</td>\n",
       "      <td>0|0</td>\n",
       "      <td>0|0</td>\n",
       "      <td>0|0</td>\n",
       "      <td>0|0</td>\n",
       "    </tr>\n",
       "    <tr>\n",
       "      <th>HG00097</th>\n",
       "      <td>0|0</td>\n",
       "      <td>0|0</td>\n",
       "      <td>0|0</td>\n",
       "      <td>0|0</td>\n",
       "      <td>0|0</td>\n",
       "      <td>0|0</td>\n",
       "      <td>1|0</td>\n",
       "      <td>0|0</td>\n",
       "      <td>0|0</td>\n",
       "      <td>0|0</td>\n",
       "      <td>...</td>\n",
       "      <td>0|0</td>\n",
       "      <td>0|0</td>\n",
       "      <td>0|1</td>\n",
       "      <td>0|0</td>\n",
       "      <td>0|0</td>\n",
       "      <td>0|0</td>\n",
       "      <td>0|0</td>\n",
       "      <td>0|0</td>\n",
       "      <td>0|0</td>\n",
       "      <td>0|0</td>\n",
       "    </tr>\n",
       "    <tr>\n",
       "      <th>HG00099</th>\n",
       "      <td>0|0</td>\n",
       "      <td>0|0</td>\n",
       "      <td>0|0</td>\n",
       "      <td>0|0</td>\n",
       "      <td>0|0</td>\n",
       "      <td>0|0</td>\n",
       "      <td>1|0</td>\n",
       "      <td>0|0</td>\n",
       "      <td>0|0</td>\n",
       "      <td>0|0</td>\n",
       "      <td>...</td>\n",
       "      <td>0|0</td>\n",
       "      <td>0|0</td>\n",
       "      <td>0|0</td>\n",
       "      <td>0|0</td>\n",
       "      <td>0|0</td>\n",
       "      <td>0|0</td>\n",
       "      <td>0|0</td>\n",
       "      <td>0|0</td>\n",
       "      <td>0|0</td>\n",
       "      <td>0|0</td>\n",
       "    </tr>\n",
       "    <tr>\n",
       "      <th>HG00100</th>\n",
       "      <td>0|0</td>\n",
       "      <td>0|0</td>\n",
       "      <td>0|0</td>\n",
       "      <td>0|0</td>\n",
       "      <td>0|0</td>\n",
       "      <td>0|0</td>\n",
       "      <td>1|0</td>\n",
       "      <td>0|0</td>\n",
       "      <td>0|0</td>\n",
       "      <td>0|0</td>\n",
       "      <td>...</td>\n",
       "      <td>0|0</td>\n",
       "      <td>0|0</td>\n",
       "      <td>0|0</td>\n",
       "      <td>0|0</td>\n",
       "      <td>0|0</td>\n",
       "      <td>0|0</td>\n",
       "      <td>0|0</td>\n",
       "      <td>0|0</td>\n",
       "      <td>0|0</td>\n",
       "      <td>0|0</td>\n",
       "    </tr>\n",
       "    <tr>\n",
       "      <th>HG00101</th>\n",
       "      <td>0|0</td>\n",
       "      <td>0|0</td>\n",
       "      <td>0|0</td>\n",
       "      <td>0|0</td>\n",
       "      <td>0|0</td>\n",
       "      <td>0|0</td>\n",
       "      <td>1|0</td>\n",
       "      <td>0|0</td>\n",
       "      <td>0|0</td>\n",
       "      <td>0|0</td>\n",
       "      <td>...</td>\n",
       "      <td>0|0</td>\n",
       "      <td>0|0</td>\n",
       "      <td>0|0</td>\n",
       "      <td>0|0</td>\n",
       "      <td>0|0</td>\n",
       "      <td>0|0</td>\n",
       "      <td>0|0</td>\n",
       "      <td>0|0</td>\n",
       "      <td>0|0</td>\n",
       "      <td>0|0</td>\n",
       "    </tr>\n",
       "    <tr>\n",
       "      <th>...</th>\n",
       "      <td>...</td>\n",
       "      <td>...</td>\n",
       "      <td>...</td>\n",
       "      <td>...</td>\n",
       "      <td>...</td>\n",
       "      <td>...</td>\n",
       "      <td>...</td>\n",
       "      <td>...</td>\n",
       "      <td>...</td>\n",
       "      <td>...</td>\n",
       "      <td>...</td>\n",
       "      <td>...</td>\n",
       "      <td>...</td>\n",
       "      <td>...</td>\n",
       "      <td>...</td>\n",
       "      <td>...</td>\n",
       "      <td>...</td>\n",
       "      <td>...</td>\n",
       "      <td>...</td>\n",
       "      <td>...</td>\n",
       "      <td>...</td>\n",
       "    </tr>\n",
       "    <tr>\n",
       "      <th>NA21137</th>\n",
       "      <td>0|0</td>\n",
       "      <td>0|0</td>\n",
       "      <td>0|0</td>\n",
       "      <td>0|0</td>\n",
       "      <td>0|0</td>\n",
       "      <td>0|0</td>\n",
       "      <td>0|0</td>\n",
       "      <td>0|0</td>\n",
       "      <td>0|0</td>\n",
       "      <td>0|0</td>\n",
       "      <td>...</td>\n",
       "      <td>0|0</td>\n",
       "      <td>0|0</td>\n",
       "      <td>0|0</td>\n",
       "      <td>0|0</td>\n",
       "      <td>0|0</td>\n",
       "      <td>0|0</td>\n",
       "      <td>0|0</td>\n",
       "      <td>0|0</td>\n",
       "      <td>0|0</td>\n",
       "      <td>0|0</td>\n",
       "    </tr>\n",
       "    <tr>\n",
       "      <th>NA21141</th>\n",
       "      <td>0|0</td>\n",
       "      <td>0|0</td>\n",
       "      <td>0|0</td>\n",
       "      <td>0|0</td>\n",
       "      <td>0|0</td>\n",
       "      <td>0|0</td>\n",
       "      <td>1|0</td>\n",
       "      <td>0|0</td>\n",
       "      <td>0|0</td>\n",
       "      <td>0|0</td>\n",
       "      <td>...</td>\n",
       "      <td>0|0</td>\n",
       "      <td>0|0</td>\n",
       "      <td>1|0</td>\n",
       "      <td>0|0</td>\n",
       "      <td>0|0</td>\n",
       "      <td>0|0</td>\n",
       "      <td>0|0</td>\n",
       "      <td>0|0</td>\n",
       "      <td>0|0</td>\n",
       "      <td>0|0</td>\n",
       "    </tr>\n",
       "    <tr>\n",
       "      <th>NA21142</th>\n",
       "      <td>0|0</td>\n",
       "      <td>0|0</td>\n",
       "      <td>0|0</td>\n",
       "      <td>0|0</td>\n",
       "      <td>0|0</td>\n",
       "      <td>0|0</td>\n",
       "      <td>0|1</td>\n",
       "      <td>0|0</td>\n",
       "      <td>0|0</td>\n",
       "      <td>0|0</td>\n",
       "      <td>...</td>\n",
       "      <td>0|0</td>\n",
       "      <td>0|0</td>\n",
       "      <td>1|0</td>\n",
       "      <td>0|0</td>\n",
       "      <td>0|0</td>\n",
       "      <td>0|0</td>\n",
       "      <td>0|0</td>\n",
       "      <td>0|0</td>\n",
       "      <td>0|0</td>\n",
       "      <td>0|0</td>\n",
       "    </tr>\n",
       "    <tr>\n",
       "      <th>NA21143</th>\n",
       "      <td>0|0</td>\n",
       "      <td>0|0</td>\n",
       "      <td>0|0</td>\n",
       "      <td>0|0</td>\n",
       "      <td>0|0</td>\n",
       "      <td>0|0</td>\n",
       "      <td>1|0</td>\n",
       "      <td>0|0</td>\n",
       "      <td>0|0</td>\n",
       "      <td>0|0</td>\n",
       "      <td>...</td>\n",
       "      <td>0|0</td>\n",
       "      <td>0|0</td>\n",
       "      <td>0|1</td>\n",
       "      <td>0|0</td>\n",
       "      <td>0|0</td>\n",
       "      <td>0|0</td>\n",
       "      <td>0|0</td>\n",
       "      <td>0|0</td>\n",
       "      <td>0|0</td>\n",
       "      <td>0|0</td>\n",
       "    </tr>\n",
       "    <tr>\n",
       "      <th>NA21144</th>\n",
       "      <td>0|0</td>\n",
       "      <td>0|0</td>\n",
       "      <td>0|0</td>\n",
       "      <td>0|0</td>\n",
       "      <td>0|0</td>\n",
       "      <td>0|0</td>\n",
       "      <td>0|0</td>\n",
       "      <td>0|0</td>\n",
       "      <td>0|0</td>\n",
       "      <td>0|0</td>\n",
       "      <td>...</td>\n",
       "      <td>0|0</td>\n",
       "      <td>0|0</td>\n",
       "      <td>0|0</td>\n",
       "      <td>0|0</td>\n",
       "      <td>0|0</td>\n",
       "      <td>0|0</td>\n",
       "      <td>0|0</td>\n",
       "      <td>0|0</td>\n",
       "      <td>0|0</td>\n",
       "      <td>0|0</td>\n",
       "    </tr>\n",
       "  </tbody>\n",
       "</table>\n",
       "<p>2504 rows × 572 columns</p>\n",
       "</div>\n",
       "      <button class=\"colab-df-convert\" onclick=\"convertToInteractive('df-b67df939-94a5-4323-9e92-bd1442c613ee')\"\n",
       "              title=\"Convert this dataframe to an interactive table.\"\n",
       "              style=\"display:none;\">\n",
       "\n",
       "  <svg xmlns=\"http://www.w3.org/2000/svg\" height=\"24px\"viewBox=\"0 0 24 24\"\n",
       "       width=\"24px\">\n",
       "    <path d=\"M0 0h24v24H0V0z\" fill=\"none\"/>\n",
       "    <path d=\"M18.56 5.44l.94 2.06.94-2.06 2.06-.94-2.06-.94-.94-2.06-.94 2.06-2.06.94zm-11 1L8.5 8.5l.94-2.06 2.06-.94-2.06-.94L8.5 2.5l-.94 2.06-2.06.94zm10 10l.94 2.06.94-2.06 2.06-.94-2.06-.94-.94-2.06-.94 2.06-2.06.94z\"/><path d=\"M17.41 7.96l-1.37-1.37c-.4-.4-.92-.59-1.43-.59-.52 0-1.04.2-1.43.59L10.3 9.45l-7.72 7.72c-.78.78-.78 2.05 0 2.83L4 21.41c.39.39.9.59 1.41.59.51 0 1.02-.2 1.41-.59l7.78-7.78 2.81-2.81c.8-.78.8-2.07 0-2.86zM5.41 20L4 18.59l7.72-7.72 1.47 1.35L5.41 20z\"/>\n",
       "  </svg>\n",
       "      </button>\n",
       "\n",
       "\n",
       "\n",
       "    <div id=\"df-a2095108-847a-4255-b643-f08f51487979\">\n",
       "      <button class=\"colab-df-quickchart\" onclick=\"quickchart('df-a2095108-847a-4255-b643-f08f51487979')\"\n",
       "              title=\"Suggest charts.\"\n",
       "              style=\"display:none;\">\n",
       "\n",
       "<svg xmlns=\"http://www.w3.org/2000/svg\" height=\"24px\"viewBox=\"0 0 24 24\"\n",
       "     width=\"24px\">\n",
       "    <g>\n",
       "        <path d=\"M19 3H5c-1.1 0-2 .9-2 2v14c0 1.1.9 2 2 2h14c1.1 0 2-.9 2-2V5c0-1.1-.9-2-2-2zM9 17H7v-7h2v7zm4 0h-2V7h2v10zm4 0h-2v-4h2v4z\"/>\n",
       "    </g>\n",
       "</svg>\n",
       "      </button>\n",
       "    </div>\n",
       "\n",
       "<style>\n",
       "  .colab-df-quickchart {\n",
       "    background-color: #E8F0FE;\n",
       "    border: none;\n",
       "    border-radius: 50%;\n",
       "    cursor: pointer;\n",
       "    display: none;\n",
       "    fill: #1967D2;\n",
       "    height: 32px;\n",
       "    padding: 0 0 0 0;\n",
       "    width: 32px;\n",
       "  }\n",
       "\n",
       "  .colab-df-quickchart:hover {\n",
       "    background-color: #E2EBFA;\n",
       "    box-shadow: 0px 1px 2px rgba(60, 64, 67, 0.3), 0px 1px 3px 1px rgba(60, 64, 67, 0.15);\n",
       "    fill: #174EA6;\n",
       "  }\n",
       "\n",
       "  [theme=dark] .colab-df-quickchart {\n",
       "    background-color: #3B4455;\n",
       "    fill: #D2E3FC;\n",
       "  }\n",
       "\n",
       "  [theme=dark] .colab-df-quickchart:hover {\n",
       "    background-color: #434B5C;\n",
       "    box-shadow: 0px 1px 3px 1px rgba(0, 0, 0, 0.15);\n",
       "    filter: drop-shadow(0px 1px 2px rgba(0, 0, 0, 0.3));\n",
       "    fill: #FFFFFF;\n",
       "  }\n",
       "</style>\n",
       "\n",
       "    <script>\n",
       "      async function quickchart(key) {\n",
       "        const containerElement = document.querySelector('#' + key);\n",
       "        const charts = await google.colab.kernel.invokeFunction(\n",
       "            'suggestCharts', [key], {});\n",
       "      }\n",
       "    </script>\n",
       "\n",
       "      <script>\n",
       "\n",
       "function displayQuickchartButton(domScope) {\n",
       "  let quickchartButtonEl =\n",
       "    domScope.querySelector('#df-a2095108-847a-4255-b643-f08f51487979 button.colab-df-quickchart');\n",
       "  quickchartButtonEl.style.display =\n",
       "    google.colab.kernel.accessAllowed ? 'block' : 'none';\n",
       "}\n",
       "\n",
       "        displayQuickchartButton(document);\n",
       "      </script>\n",
       "      <style>\n",
       "    .colab-df-container {\n",
       "      display:flex;\n",
       "      flex-wrap:wrap;\n",
       "      gap: 12px;\n",
       "    }\n",
       "\n",
       "    .colab-df-convert {\n",
       "      background-color: #E8F0FE;\n",
       "      border: none;\n",
       "      border-radius: 50%;\n",
       "      cursor: pointer;\n",
       "      display: none;\n",
       "      fill: #1967D2;\n",
       "      height: 32px;\n",
       "      padding: 0 0 0 0;\n",
       "      width: 32px;\n",
       "    }\n",
       "\n",
       "    .colab-df-convert:hover {\n",
       "      background-color: #E2EBFA;\n",
       "      box-shadow: 0px 1px 2px rgba(60, 64, 67, 0.3), 0px 1px 3px 1px rgba(60, 64, 67, 0.15);\n",
       "      fill: #174EA6;\n",
       "    }\n",
       "\n",
       "    [theme=dark] .colab-df-convert {\n",
       "      background-color: #3B4455;\n",
       "      fill: #D2E3FC;\n",
       "    }\n",
       "\n",
       "    [theme=dark] .colab-df-convert:hover {\n",
       "      background-color: #434B5C;\n",
       "      box-shadow: 0px 1px 3px 1px rgba(0, 0, 0, 0.15);\n",
       "      filter: drop-shadow(0px 1px 2px rgba(0, 0, 0, 0.3));\n",
       "      fill: #FFFFFF;\n",
       "    }\n",
       "  </style>\n",
       "\n",
       "      <script>\n",
       "        const buttonEl =\n",
       "          document.querySelector('#df-b67df939-94a5-4323-9e92-bd1442c613ee button.colab-df-convert');\n",
       "        buttonEl.style.display =\n",
       "          google.colab.kernel.accessAllowed ? 'block' : 'none';\n",
       "\n",
       "        async function convertToInteractive(key) {\n",
       "          const element = document.querySelector('#df-b67df939-94a5-4323-9e92-bd1442c613ee');\n",
       "          const dataTable =\n",
       "            await google.colab.kernel.invokeFunction('convertToInteractive',\n",
       "                                                     [key], {});\n",
       "          if (!dataTable) return;\n",
       "\n",
       "          const docLinkHtml = 'Like what you see? Visit the ' +\n",
       "            '<a target=\"_blank\" href=https://colab.research.google.com/notebooks/data_table.ipynb>data table notebook</a>'\n",
       "            + ' to learn more about interactive tables.';\n",
       "          element.innerHTML = '';\n",
       "          dataTable['output_type'] = 'display_data';\n",
       "          await google.colab.output.renderOutput(dataTable, element);\n",
       "          const docLink = document.createElement('div');\n",
       "          docLink.innerHTML = docLinkHtml;\n",
       "          element.appendChild(docLink);\n",
       "        }\n",
       "      </script>\n",
       "    </div>\n",
       "  </div>\n"
      ]
     },
     "metadata": {},
     "execution_count": 34
    }
   ],
   "source": [
    "root_dir = '[data_path]'\n",
    "new_data_header = \"\"\n",
    "# get header\n",
    "with open(root_dir + \"DELL.chr22.genotypes.full.vcf\", 'r') as f_in:\n",
    "    # skip info\n",
    "    for line_num in range(70):\n",
    "        f_in.readline()\n",
    "\n",
    "    new_data_header = f_in.readline()\n",
    "# load data\n",
    "\n",
    "# load genotype\n",
    "genotypes = pd.read_csv(root_dir + \"DELL.chr22.genotypes.full.vcf\", comment='#', sep='\\t', names=new_data_header.strip().split('\\t'), header=None).iloc[:-1, 9:].T\n",
    "headers = genotypes.columns[:]\n",
    "genotypes"
   ]
  },
  {
   "cell_type": "code",
   "execution_count": null,
   "metadata": {
    "id": "-gFMrUnhV80n"
   },
   "outputs": [],
   "source": [
    "ped_file = '[data_path]/integrated_call_samples.20130502.ALL.ped'\n",
    "pedigree = pd.read_csv(ped_file, sep='\\t', index_col='Individual ID')"
   ]
  },
  {
   "cell_type": "code",
   "execution_count": null,
   "metadata": {
    "colab": {
     "base_uri": "https://localhost:8080/",
     "height": 238
    },
    "executionInfo": {
     "elapsed": 11,
     "status": "ok",
     "timestamp": 1690836974456,
     "user": {
      "displayName": "Erfan Mowlaei",
      "userId": "07890245825539195560"
     },
     "user_tz": 240
    },
    "id": "Zgb8Fn-EV_PU",
    "outputId": "19bb1abd-9639-4b44-8f43-afa0b61bef05"
   },
   "outputs": [
    {
     "output_type": "execute_result",
     "data": {
      "text/plain": [
       "              Family ID Paternal ID Maternal ID  Gender  Phenotype Population  \\\n",
       "Individual ID                                                                   \n",
       "HG00096         HG00096           0           0       1          0        GBR   \n",
       "HG00097         HG00097           0           0       2          0        GBR   \n",
       "HG00098         HG00098           0           0       1          0        GBR   \n",
       "HG00099         HG00099           0           0       2          0        GBR   \n",
       "HG00100         HG00100           0           0       2          0        GBR   \n",
       "\n",
       "              Relationship Siblings Second Order Third Order Children  \\\n",
       "Individual ID                                                           \n",
       "HG00096              unrel        0            0           0        0   \n",
       "HG00097              unrel        0            0           0        0   \n",
       "HG00098              unrel        0            0           0        0   \n",
       "HG00099              unrel        0            0           0        0   \n",
       "HG00100              unrel        0            0           0        0   \n",
       "\n",
       "              Other Comments  \n",
       "Individual ID                 \n",
       "HG00096                    0  \n",
       "HG00097                    0  \n",
       "HG00098                    0  \n",
       "HG00099                    0  \n",
       "HG00100                    0  "
      ],
      "text/html": [
       "\n",
       "\n",
       "  <div id=\"df-4bdbcf98-50bf-4ff7-8a80-632f782e1549\">\n",
       "    <div class=\"colab-df-container\">\n",
       "      <div>\n",
       "<style scoped>\n",
       "    .dataframe tbody tr th:only-of-type {\n",
       "        vertical-align: middle;\n",
       "    }\n",
       "\n",
       "    .dataframe tbody tr th {\n",
       "        vertical-align: top;\n",
       "    }\n",
       "\n",
       "    .dataframe thead th {\n",
       "        text-align: right;\n",
       "    }\n",
       "</style>\n",
       "<table border=\"1\" class=\"dataframe\">\n",
       "  <thead>\n",
       "    <tr style=\"text-align: right;\">\n",
       "      <th></th>\n",
       "      <th>Family ID</th>\n",
       "      <th>Paternal ID</th>\n",
       "      <th>Maternal ID</th>\n",
       "      <th>Gender</th>\n",
       "      <th>Phenotype</th>\n",
       "      <th>Population</th>\n",
       "      <th>Relationship</th>\n",
       "      <th>Siblings</th>\n",
       "      <th>Second Order</th>\n",
       "      <th>Third Order</th>\n",
       "      <th>Children</th>\n",
       "      <th>Other Comments</th>\n",
       "    </tr>\n",
       "    <tr>\n",
       "      <th>Individual ID</th>\n",
       "      <th></th>\n",
       "      <th></th>\n",
       "      <th></th>\n",
       "      <th></th>\n",
       "      <th></th>\n",
       "      <th></th>\n",
       "      <th></th>\n",
       "      <th></th>\n",
       "      <th></th>\n",
       "      <th></th>\n",
       "      <th></th>\n",
       "      <th></th>\n",
       "    </tr>\n",
       "  </thead>\n",
       "  <tbody>\n",
       "    <tr>\n",
       "      <th>HG00096</th>\n",
       "      <td>HG00096</td>\n",
       "      <td>0</td>\n",
       "      <td>0</td>\n",
       "      <td>1</td>\n",
       "      <td>0</td>\n",
       "      <td>GBR</td>\n",
       "      <td>unrel</td>\n",
       "      <td>0</td>\n",
       "      <td>0</td>\n",
       "      <td>0</td>\n",
       "      <td>0</td>\n",
       "      <td>0</td>\n",
       "    </tr>\n",
       "    <tr>\n",
       "      <th>HG00097</th>\n",
       "      <td>HG00097</td>\n",
       "      <td>0</td>\n",
       "      <td>0</td>\n",
       "      <td>2</td>\n",
       "      <td>0</td>\n",
       "      <td>GBR</td>\n",
       "      <td>unrel</td>\n",
       "      <td>0</td>\n",
       "      <td>0</td>\n",
       "      <td>0</td>\n",
       "      <td>0</td>\n",
       "      <td>0</td>\n",
       "    </tr>\n",
       "    <tr>\n",
       "      <th>HG00098</th>\n",
       "      <td>HG00098</td>\n",
       "      <td>0</td>\n",
       "      <td>0</td>\n",
       "      <td>1</td>\n",
       "      <td>0</td>\n",
       "      <td>GBR</td>\n",
       "      <td>unrel</td>\n",
       "      <td>0</td>\n",
       "      <td>0</td>\n",
       "      <td>0</td>\n",
       "      <td>0</td>\n",
       "      <td>0</td>\n",
       "    </tr>\n",
       "    <tr>\n",
       "      <th>HG00099</th>\n",
       "      <td>HG00099</td>\n",
       "      <td>0</td>\n",
       "      <td>0</td>\n",
       "      <td>2</td>\n",
       "      <td>0</td>\n",
       "      <td>GBR</td>\n",
       "      <td>unrel</td>\n",
       "      <td>0</td>\n",
       "      <td>0</td>\n",
       "      <td>0</td>\n",
       "      <td>0</td>\n",
       "      <td>0</td>\n",
       "    </tr>\n",
       "    <tr>\n",
       "      <th>HG00100</th>\n",
       "      <td>HG00100</td>\n",
       "      <td>0</td>\n",
       "      <td>0</td>\n",
       "      <td>2</td>\n",
       "      <td>0</td>\n",
       "      <td>GBR</td>\n",
       "      <td>unrel</td>\n",
       "      <td>0</td>\n",
       "      <td>0</td>\n",
       "      <td>0</td>\n",
       "      <td>0</td>\n",
       "      <td>0</td>\n",
       "    </tr>\n",
       "  </tbody>\n",
       "</table>\n",
       "</div>\n",
       "      <button class=\"colab-df-convert\" onclick=\"convertToInteractive('df-4bdbcf98-50bf-4ff7-8a80-632f782e1549')\"\n",
       "              title=\"Convert this dataframe to an interactive table.\"\n",
       "              style=\"display:none;\">\n",
       "\n",
       "  <svg xmlns=\"http://www.w3.org/2000/svg\" height=\"24px\"viewBox=\"0 0 24 24\"\n",
       "       width=\"24px\">\n",
       "    <path d=\"M0 0h24v24H0V0z\" fill=\"none\"/>\n",
       "    <path d=\"M18.56 5.44l.94 2.06.94-2.06 2.06-.94-2.06-.94-.94-2.06-.94 2.06-2.06.94zm-11 1L8.5 8.5l.94-2.06 2.06-.94-2.06-.94L8.5 2.5l-.94 2.06-2.06.94zm10 10l.94 2.06.94-2.06 2.06-.94-2.06-.94-.94-2.06-.94 2.06-2.06.94z\"/><path d=\"M17.41 7.96l-1.37-1.37c-.4-.4-.92-.59-1.43-.59-.52 0-1.04.2-1.43.59L10.3 9.45l-7.72 7.72c-.78.78-.78 2.05 0 2.83L4 21.41c.39.39.9.59 1.41.59.51 0 1.02-.2 1.41-.59l7.78-7.78 2.81-2.81c.8-.78.8-2.07 0-2.86zM5.41 20L4 18.59l7.72-7.72 1.47 1.35L5.41 20z\"/>\n",
       "  </svg>\n",
       "      </button>\n",
       "\n",
       "\n",
       "\n",
       "    <div id=\"df-926d10f2-bf40-43b3-95a1-97ddc462c031\">\n",
       "      <button class=\"colab-df-quickchart\" onclick=\"quickchart('df-926d10f2-bf40-43b3-95a1-97ddc462c031')\"\n",
       "              title=\"Suggest charts.\"\n",
       "              style=\"display:none;\">\n",
       "\n",
       "<svg xmlns=\"http://www.w3.org/2000/svg\" height=\"24px\"viewBox=\"0 0 24 24\"\n",
       "     width=\"24px\">\n",
       "    <g>\n",
       "        <path d=\"M19 3H5c-1.1 0-2 .9-2 2v14c0 1.1.9 2 2 2h14c1.1 0 2-.9 2-2V5c0-1.1-.9-2-2-2zM9 17H7v-7h2v7zm4 0h-2V7h2v10zm4 0h-2v-4h2v4z\"/>\n",
       "    </g>\n",
       "</svg>\n",
       "      </button>\n",
       "    </div>\n",
       "\n",
       "<style>\n",
       "  .colab-df-quickchart {\n",
       "    background-color: #E8F0FE;\n",
       "    border: none;\n",
       "    border-radius: 50%;\n",
       "    cursor: pointer;\n",
       "    display: none;\n",
       "    fill: #1967D2;\n",
       "    height: 32px;\n",
       "    padding: 0 0 0 0;\n",
       "    width: 32px;\n",
       "  }\n",
       "\n",
       "  .colab-df-quickchart:hover {\n",
       "    background-color: #E2EBFA;\n",
       "    box-shadow: 0px 1px 2px rgba(60, 64, 67, 0.3), 0px 1px 3px 1px rgba(60, 64, 67, 0.15);\n",
       "    fill: #174EA6;\n",
       "  }\n",
       "\n",
       "  [theme=dark] .colab-df-quickchart {\n",
       "    background-color: #3B4455;\n",
       "    fill: #D2E3FC;\n",
       "  }\n",
       "\n",
       "  [theme=dark] .colab-df-quickchart:hover {\n",
       "    background-color: #434B5C;\n",
       "    box-shadow: 0px 1px 3px 1px rgba(0, 0, 0, 0.15);\n",
       "    filter: drop-shadow(0px 1px 2px rgba(0, 0, 0, 0.3));\n",
       "    fill: #FFFFFF;\n",
       "  }\n",
       "</style>\n",
       "\n",
       "    <script>\n",
       "      async function quickchart(key) {\n",
       "        const containerElement = document.querySelector('#' + key);\n",
       "        const charts = await google.colab.kernel.invokeFunction(\n",
       "            'suggestCharts', [key], {});\n",
       "      }\n",
       "    </script>\n",
       "\n",
       "      <script>\n",
       "\n",
       "function displayQuickchartButton(domScope) {\n",
       "  let quickchartButtonEl =\n",
       "    domScope.querySelector('#df-926d10f2-bf40-43b3-95a1-97ddc462c031 button.colab-df-quickchart');\n",
       "  quickchartButtonEl.style.display =\n",
       "    google.colab.kernel.accessAllowed ? 'block' : 'none';\n",
       "}\n",
       "\n",
       "        displayQuickchartButton(document);\n",
       "      </script>\n",
       "      <style>\n",
       "    .colab-df-container {\n",
       "      display:flex;\n",
       "      flex-wrap:wrap;\n",
       "      gap: 12px;\n",
       "    }\n",
       "\n",
       "    .colab-df-convert {\n",
       "      background-color: #E8F0FE;\n",
       "      border: none;\n",
       "      border-radius: 50%;\n",
       "      cursor: pointer;\n",
       "      display: none;\n",
       "      fill: #1967D2;\n",
       "      height: 32px;\n",
       "      padding: 0 0 0 0;\n",
       "      width: 32px;\n",
       "    }\n",
       "\n",
       "    .colab-df-convert:hover {\n",
       "      background-color: #E2EBFA;\n",
       "      box-shadow: 0px 1px 2px rgba(60, 64, 67, 0.3), 0px 1px 3px 1px rgba(60, 64, 67, 0.15);\n",
       "      fill: #174EA6;\n",
       "    }\n",
       "\n",
       "    [theme=dark] .colab-df-convert {\n",
       "      background-color: #3B4455;\n",
       "      fill: #D2E3FC;\n",
       "    }\n",
       "\n",
       "    [theme=dark] .colab-df-convert:hover {\n",
       "      background-color: #434B5C;\n",
       "      box-shadow: 0px 1px 3px 1px rgba(0, 0, 0, 0.15);\n",
       "      filter: drop-shadow(0px 1px 2px rgba(0, 0, 0, 0.3));\n",
       "      fill: #FFFFFF;\n",
       "    }\n",
       "  </style>\n",
       "\n",
       "      <script>\n",
       "        const buttonEl =\n",
       "          document.querySelector('#df-4bdbcf98-50bf-4ff7-8a80-632f782e1549 button.colab-df-convert');\n",
       "        buttonEl.style.display =\n",
       "          google.colab.kernel.accessAllowed ? 'block' : 'none';\n",
       "\n",
       "        async function convertToInteractive(key) {\n",
       "          const element = document.querySelector('#df-4bdbcf98-50bf-4ff7-8a80-632f782e1549');\n",
       "          const dataTable =\n",
       "            await google.colab.kernel.invokeFunction('convertToInteractive',\n",
       "                                                     [key], {});\n",
       "          if (!dataTable) return;\n",
       "\n",
       "          const docLinkHtml = 'Like what you see? Visit the ' +\n",
       "            '<a target=\"_blank\" href=https://colab.research.google.com/notebooks/data_table.ipynb>data table notebook</a>'\n",
       "            + ' to learn more about interactive tables.';\n",
       "          element.innerHTML = '';\n",
       "          dataTable['output_type'] = 'display_data';\n",
       "          await google.colab.output.renderOutput(dataTable, element);\n",
       "          const docLink = document.createElement('div');\n",
       "          docLink.innerHTML = docLinkHtml;\n",
       "          element.appendChild(docLink);\n",
       "        }\n",
       "      </script>\n",
       "    </div>\n",
       "  </div>\n"
      ]
     },
     "metadata": {},
     "execution_count": 36
    }
   ],
   "source": [
    "pedigree.head()"
   ]
  },
  {
   "cell_type": "code",
   "execution_count": null,
   "metadata": {
    "colab": {
     "base_uri": "https://localhost:8080/"
    },
    "executionInfo": {
     "elapsed": 3,
     "status": "ok",
     "timestamp": 1690836974872,
     "user": {
      "displayName": "Erfan Mowlaei",
      "userId": "07890245825539195560"
     },
     "user_tz": 240
    },
    "id": "GBSfo4FlV_A_",
    "outputId": "cbac43b2-9a39-4b58-c0cb-4b854635d980"
   },
   "outputs": [
    {
     "output_type": "execute_result",
     "data": {
      "text/plain": [
       "(2504,)"
      ]
     },
     "metadata": {},
     "execution_count": 37
    }
   ],
   "source": [
    "Y_train = pedigree.loc[genotypes.index]['Population']\n",
    "Y_train.shape"
   ]
  },
  {
   "cell_type": "code",
   "execution_count": null,
   "metadata": {
    "colab": {
     "base_uri": "https://localhost:8080/"
    },
    "executionInfo": {
     "elapsed": 92,
     "status": "ok",
     "timestamp": 1690836975096,
     "user": {
      "displayName": "Erfan Mowlaei",
      "userId": "07890245825539195560"
     },
     "user_tz": 240
    },
    "id": "hiP0EEwsEMNP",
    "outputId": "f4f0ed8a-cf03-46b9-bd35-b5779d0d19e1"
   },
   "outputs": [
    {
     "output_type": "execute_result",
     "data": {
      "text/plain": [
       "(2504, 572)"
      ]
     },
     "metadata": {},
     "execution_count": 38
    }
   ],
   "source": [
    "X = genotypes[genotypes.index.isin(Y_train.index)]\n",
    "X.shape"
   ]
  },
  {
   "cell_type": "code",
   "execution_count": null,
   "metadata": {
    "colab": {
     "base_uri": "https://localhost:8080/"
    },
    "executionInfo": {
     "elapsed": 2218,
     "status": "ok",
     "timestamp": 1690836977416,
     "user": {
      "displayName": "Erfan Mowlaei",
      "userId": "07890245825539195560"
     },
     "user_tz": 240
    },
    "id": "DNU6deVHXIdE",
    "outputId": "06e25bb4-c54c-49ad-a11b-1538f2d23b95"
   },
   "outputs": [
    {
     "output_type": "execute_result",
     "data": {
      "text/plain": [
       "(2504, 572)"
      ]
     },
     "metadata": {},
     "execution_count": 39
    }
   ],
   "source": [
    "X = X.replace({\n",
    "    '0|0': 0,\n",
    "    '0|1': 1,\n",
    "    '1|0': 2,\n",
    "    '1|1': 3\n",
    "})\n",
    "X.shape"
   ]
  },
  {
   "cell_type": "markdown",
   "source": [
    "### LD\n"
   ],
   "metadata": {
    "id": "asV65bA-j1aw"
   }
  },
  {
   "cell_type": "code",
   "source": [
    "r = allel.rogers_huff_r(X.T)\n",
    "LD = squareform(r ** 2)\n",
    "LD.shape"
   ],
   "metadata": {
    "id": "P4m28zGLMtXK",
    "executionInfo": {
     "status": "ok",
     "timestamp": 1690836979611,
     "user_tz": 240,
     "elapsed": 1616,
     "user": {
      "displayName": "Erfan Mowlaei",
      "userId": "07890245825539195560"
     }
    },
    "colab": {
     "base_uri": "https://localhost:8080/"
    },
    "outputId": "66e45ef6-d5f8-400c-98f4-cb5e0943a62f"
   },
   "execution_count": null,
   "outputs": [
    {
     "output_type": "execute_result",
     "data": {
      "text/plain": [
       "(572, 572)"
      ]
     },
     "metadata": {},
     "execution_count": 40
    }
   ]
  },
  {
   "cell_type": "code",
   "source": [
    "plt.figure(figsize=(8,8))\n",
    "plt.imshow(LD)"
   ],
   "metadata": {
    "colab": {
     "base_uri": "https://localhost:8080/",
     "height": 698
    },
    "id": "PoX14d2YGB8c",
    "executionInfo": {
     "status": "ok",
     "timestamp": 1690836980158,
     "user_tz": 240,
     "elapsed": 550,
     "user": {
      "displayName": "Erfan Mowlaei",
      "userId": "07890245825539195560"
     }
    },
    "outputId": "dc959a7f-a0b7-4a4a-c50c-ba8315dca714"
   },
   "execution_count": null,
   "outputs": [
    {
     "output_type": "execute_result",
     "data": {
      "text/plain": [
       "<matplotlib.image.AxesImage at 0x7a653835e0e0>"
      ]
     },
     "metadata": {},
     "execution_count": 41
    },
    {
     "output_type": "display_data",
     "data": {
      "text/plain": [
       "<Figure size 800x800 with 1 Axes>"
      ],
      "image/png": "[encoded data removed]"
     },
     "metadata": {}
    }
   ]
  },
  {
   "cell_type": "code",
   "source": [
    "bins = [0, 0.2, 0.4, 0.6, 0.8, 1]\n",
    "plt.hist(np.amax(LD, axis=1), bins=bins)"
   ],
   "metadata": {
    "colab": {
     "base_uri": "https://localhost:8080/",
     "height": 482
    },
    "id": "KaBtVvHmRL-X",
    "executionInfo": {
     "status": "ok",
     "timestamp": 1690836980362,
     "user_tz": 240,
     "elapsed": 208,
     "user": {
      "displayName": "Erfan Mowlaei",
      "userId": "07890245825539195560"
     }
    },
    "outputId": "00c748df-65e2-43a9-e5ca-eb8444df1701"
   },
   "execution_count": null,
   "outputs": [
    {
     "output_type": "execute_result",
     "data": {
      "text/plain": [
       "(array([421.,  44.,  29.,  31.,  47.]),\n",
       " array([0. , 0.2, 0.4, 0.6, 0.8, 1. ]),\n",
       " <BarContainer object of 5 artists>)"
      ]
     },
     "metadata": {},
     "execution_count": 42
    },
    {
     "output_type": "display_data",
     "data": {
      "text/plain": [
       "<Figure size 640x480 with 1 Axes>"
      ],
      "image/png": "[encoded data removed]"
     },
     "metadata": {}
    }
   ]
  },
  {
   "cell_type": "code",
   "source": [
    "LD_max_freqs = np.amax(LD, axis=1)\n",
    "bin_labels = np.digitize(LD_max_freqs, bins=bins, right=True)\n",
    "bin_general_labels, bin_counts = np.unique(bin_labels, return_counts=True)\n",
    "bin_general_labels, bin_counts"
   ],
   "metadata": {
    "colab": {
     "base_uri": "https://localhost:8080/"
    },
    "id": "12UAf-X8dPBf",
    "executionInfo": {
     "status": "ok",
     "timestamp": 1690836980475,
     "user_tz": 240,
     "elapsed": 117,
     "user": {
      "displayName": "Erfan Mowlaei",
      "userId": "07890245825539195560"
     }
    },
    "outputId": "2d0dd8be-f80d-4cf6-ab59-94b006f9bde4"
   },
   "execution_count": null,
   "outputs": [
    {
     "output_type": "execute_result",
     "data": {
      "text/plain": [
       "(array([1, 2, 3, 4, 5]), array([421,  44,  29,  31,  47]))"
      ]
     },
     "metadata": {},
     "execution_count": 43
    }
   ]
  },
  {
   "cell_type": "code",
   "execution_count": null,
   "metadata": {
    "id": "_pZoO-FvKdr3"
   },
   "outputs": [],
   "source": [
    "# hyperparameters\n",
    "feature_size = X.shape[1]\n",
    "inChannel = 3\n",
    "learning_rate = 0.004\n",
    "weight_decay = 0.00001\n",
    "embed_dim = 64  # Embedding size for each token\n",
    "num_heads = 8 # Number of attention heads\n",
    "ff_dim = 32  # Hidden layer size in feed forward network inside transformer\n",
    "regularization_coef_l1 = 1e-4\n",
    "dropout_rate = 0.25\n",
    "chunk_size = feature_size\n",
    "flanking_region_range = 0"
   ]
  },
  {
   "cell_type": "markdown",
   "metadata": {
    "id": "LtSxW2eMOOCU"
   },
   "source": [
    "## Convert to tensorflow dataset"
   ]
  },
  {
   "cell_type": "code",
   "execution_count": null,
   "metadata": {
    "id": "KDiVoe67JHcy"
   },
   "outputs": [],
   "source": [
    "@tf.function()\n",
    "def add_attention_mask(X_sample, y_sample):\n",
    "  depth = 3\n",
    "  # mask_size = tf.cast(X_sample.shape[0]*0.5, dtype=tf.int64)\n",
    "  # mask_idx = tf.reshape(tf.random.shuffle(tf.range(X_sample.shape[0]))[:mask_size], (-1, 1))\n",
    "  # updates = tf.math.add(tf.ones(shape=(mask_idx.shape[0]), dtype=tf.int64), 1)\n",
    "  # X_masked = tf.tensor_scatter_nd_update(X_sample, mask_idx, updates)\n",
    "  return tf.one_hot(X_sample, depth), tf.one_hot(y_sample, depth-1)"
   ]
  },
  {
   "cell_type": "code",
   "execution_count": null,
   "metadata": {
    "id": "SlyxYCy96H7V"
   },
   "outputs": [],
   "source": [
    "def map_values_1(x):\n",
    "  return 0 if (x == 0 or x == 1) else 1\n",
    "\n",
    "def map_values_2(x):\n",
    "  return 0 if (x == 0 or x == 2) else 1\n",
    "\n",
    "def get_dataset(x, chunk_start, chunk_end, start_offset, end_offset, batch_size, training=True):\n",
    "  AUTO = tf.data.AUTOTUNE\n",
    "\n",
    "  _x = np.empty((x.shape[0] * 2, chunk_end-chunk_start), dtype=x.dtype)\n",
    "\n",
    "  map_values_1_vec = np.vectorize(map_values_1)\n",
    "  map_values_2_vec = np.vectorize(map_values_2)\n",
    "\n",
    "  _x[0::2] = map_values_1_vec(x[:, chunk_start:chunk_end])\n",
    "  _x[1::2] = map_values_2_vec(x[:, chunk_start:chunk_end])\n",
    "  new_chunk_end = _x.shape[1]\n",
    "\n",
    "  dataset = tf.data.Dataset.from_tensor_slices((_x,\n",
    "                                                _x[:, start_offset:new_chunk_end-end_offset]))\n",
    "\n",
    "  if training:\n",
    "    dataset = dataset.shuffle(_x.shape[0], reshuffle_each_iteration=True)\n",
    "    dataset = dataset.repeat()\n",
    "\n",
    "  # Add Attention Mask\n",
    "  dataset = dataset.map(add_attention_mask, num_parallel_calls=AUTO, deterministic=False)\n",
    "\n",
    "  # Prefetech to not map the whole dataset\n",
    "  dataset = dataset.prefetch(AUTO)\n",
    "\n",
    "  dataset = dataset.batch(batch_size, drop_remainder=training, num_parallel_calls=AUTO)\n",
    "\n",
    "  return dataset"
   ]
  },
  {
   "cell_type": "markdown",
   "metadata": {
    "id": "NpRUjMp_L914"
   },
   "source": [
    "## Custom Layers"
   ]
  },
  {
   "cell_type": "code",
   "execution_count": null,
   "metadata": {
    "id": "9h9OjeMZ8_XU"
   },
   "outputs": [],
   "source": [
    "class SharedNet(tf.keras.Model):\n",
    "    def __init__(self, conv1_n_filters, conv2_n_filters, conv1_kernel_size, conv2_kernel_size, fc_len, start_offset, end_offset, n_features_out):\n",
    "        super(SharedNet, self).__init__()\n",
    "        self.fc_len = fc_len\n",
    "        self.start_offset = start_offset\n",
    "        self.end_offset = end_offset\n",
    "        self.n_features_out = n_features_out\n",
    "        self.conv1 = layers.Conv1D(conv1_n_filters, kernel_size=conv1_kernel_size, strides=1, padding='same', activation=tf.nn.relu)\n",
    "        self.pool1 = layers.MaxPooling1D(2)\n",
    "        self.bn1 = layers.BatchNormalization()\n",
    "        self.do1 = layers.Dropout(0.5)\n",
    "        self.conv2 = layers.Conv1D(conv2_n_filters, kernel_size=conv2_kernel_size, strides=1, padding='same', activation=tf.nn.relu)\n",
    "        self.pool2 = layers.MaxPooling1D(2)\n",
    "        self.bn2 = layers.BatchNormalization()\n",
    "        self.do2 = layers.Dropout(0.5)\n",
    "        # self.flatten = layers.Flatten()\n",
    "        self.fc1 = layers.Dense(4*(inChannel-1), activation=tf.nn.relu)\n",
    "        self.reshape = layers.Reshape((-1, inChannel-1))\n",
    "        # self.fc1 = layers.Dense(inChannel-1, activation=tf.nn.relu)\n",
    "\n",
    "    def build(self, input_shape):\n",
    "      self.input_len = input_shape[1]\n",
    "      # self.reshape = layers.Reshape((self.input_len, self.fc_len))\n",
    "      # super(SharedNet, self).build(input_shape)\n",
    "\n",
    "    def call(self, inputs):\n",
    "        x = self.conv1(inputs)\n",
    "        x = self.bn1(x)\n",
    "        x = self.pool1(x)\n",
    "        x = self.conv2(x)\n",
    "        x = self.bn2(x)\n",
    "        x = self.pool2(x)\n",
    "        # x = self.flatten(x)\n",
    "        x = self.fc1(x)\n",
    "        x = self.reshape(x)\n",
    "        return x[:, self.start_offset:self.input_len-self.end_offset,]\n",
    "\n",
    "\n",
    "class EachNet(tf.keras.Model):\n",
    "    def __init__(self, num_classes):\n",
    "        super(EachNet, self).__init__()\n",
    "        self.fc1 = layers.Dense(num_classes, activation=tf.nn.softmax)\n",
    "        self.dropout = tf.keras.layers.Dropout(0.5)\n",
    "\n",
    "    def call(self, inputs):\n",
    "        x = self.dropout(inputs)\n",
    "        x = self.fc1(x)\n",
    "        return x"
   ]
  },
  {
   "cell_type": "markdown",
   "metadata": {
    "id": "waFVuh7DMCkM"
   },
   "source": [
    "## Modules"
   ]
  },
  {
   "cell_type": "code",
   "execution_count": null,
   "metadata": {
    "id": "7FgZf0fOb5yG"
   },
   "outputs": [],
   "source": [
    "def chunk_module(conv1_n_filters, conv2_n_filters,\n",
    "                conv1_kernel_size, conv2_kernel_size,\n",
    "                input_len, inChannel, fc_len=256,\n",
    "                start_offset=0, end_offset=0):\n",
    "  inputs = layers.Input(shape=(input_len, inChannel))\n",
    "  n_features_out = input_len - start_offset - end_offset\n",
    "  xa = SharedNet(conv1_n_filters, conv2_n_filters, conv1_kernel_size, conv2_kernel_size, fc_len, start_offset, end_offset, n_features_out)(inputs)\n",
    "  xa_out1 = EachNet(inChannel-1)(xa)\n",
    "\n",
    "  model = keras.Model(inputs=inputs, outputs=xa_out1)\n",
    "  return model"
   ]
  },
  {
   "cell_type": "code",
   "execution_count": null,
   "metadata": {
    "colab": {
     "base_uri": "https://localhost:8080/"
    },
    "executionInfo": {
     "elapsed": 123,
     "status": "ok",
     "timestamp": 1690836981782,
     "user": {
      "displayName": "Erfan Mowlaei",
      "userId": "07890245825539195560"
     },
     "user_tz": 240
    },
    "id": "sD7WOyyoNYGv",
    "outputId": "c8329d09-0b07-4f39-cd79-62bb7e71cf8a"
   },
   "outputs": [
    {
     "output_type": "execute_result",
     "data": {
      "text/plain": [
       "26"
      ]
     },
     "metadata": {},
     "execution_count": 49
    }
   ],
   "source": [
    "num_classes = len(np.unique(Y_train))\n",
    "num_classes"
   ]
  },
  {
   "cell_type": "markdown",
   "metadata": {
    "id": "OCkow4q5MJk_"
   },
   "source": [
    "## Model"
   ]
  },
  {
   "cell_type": "code",
   "execution_count": null,
   "metadata": {
    "id": "vgGz9_6u8u-O"
   },
   "outputs": [],
   "source": [
    "class DEEP_HLA(keras.Model):\n",
    "  def __init__(\n",
    "      self, in_channel,\n",
    "      conv1_n_filters, conv2_n_filters,\n",
    "      conv1_kernel_size, conv2_kernel_size,\n",
    "      chunk_size=chunk_size,\n",
    "      activation=tf.nn.relu,\n",
    "      dropout_rate=0.5,\n",
    "      flanking_region_range=flanking_region_range):\n",
    "    super(DEEP_HLA, self).__init__()\n",
    "    self.in_channel = in_channel\n",
    "    self.embed_dim = embed_dim\n",
    "    self.conv1_n_filters = conv1_n_filters\n",
    "    self.conv2_n_filters = conv2_n_filters\n",
    "    self.conv1_kernel_size = conv1_kernel_size\n",
    "    self.conv2_kernel_size = conv2_kernel_size\n",
    "    self.chunk_size = chunk_size\n",
    "    self.activation = activation\n",
    "    self.dropout_rate = dropout_rate\n",
    "    self.flanking_region_range = flanking_region_range\n",
    "\n",
    "  def build(self, input_shape):\n",
    "    self.chunk_starts = list(range(0, input_shape[1], self.chunk_size))\n",
    "    self.chunk_ends = []\n",
    "    for cs in self.chunk_starts:\n",
    "      self.chunk_ends.append(min(cs+self.chunk_size, input_shape[1]))\n",
    "    self.mask_starts = [max(0, cs-self.flanking_region_range) for cs in self.chunk_starts]\n",
    "    self.mask_ends = [min(ce+self.flanking_region_range, input_shape[1]) for ce in self.chunk_ends]\n",
    "    self.chunkers = [chunk_module(self.conv1_n_filters, self.conv2_n_filters,\n",
    "                                  self.conv1_kernel_size, self.conv2_kernel_size,\n",
    "                                  self.mask_ends[i] - self.mask_starts[i],\n",
    "                                  self.in_channel,\n",
    "                                  start_offset=cs - self.mask_starts[i],\n",
    "                                  end_offset=self.mask_ends[i]-self.chunk_ends[i]) for i,cs in enumerate(self.chunk_starts)]\n",
    "    self.concat_layer = layers.Concatenate(axis=-2)\n",
    "    super(DEEP_HLA, self).build(input_shape)\n",
    "\n",
    "\n",
    "  def call(self, inputs):\n",
    "    chunks = [self.chunkers[i](inputs[:, self.mask_starts[i]:self.mask_ends[i]]) for i, chunker in enumerate(self.chunkers)]\n",
    "    y = self.concat_layer(chunks)\n",
    "    return y\n"
   ]
  },
  {
   "cell_type": "code",
   "execution_count": null,
   "metadata": {
    "id": "61EgnuNmoFLT"
   },
   "outputs": [],
   "source": [
    "METRIC = \"val_loss\"\n",
    "\n",
    "def create_callbacks(kfold=0, metric = METRIC):\n",
    "\n",
    "    reducelr = tf.keras.callbacks.ReduceLROnPlateau(\n",
    "        monitor= metric,\n",
    "        mode='auto',\n",
    "        factor=0.2,\n",
    "        patience=3,\n",
    "        verbose=0\n",
    "    )\n",
    "\n",
    "    earlystop = tf.keras.callbacks.EarlyStopping(\n",
    "        monitor= metric,\n",
    "        mode='auto',\n",
    "        patience= 20,\n",
    "        verbose=1,\n",
    "        restore_best_weights=True\n",
    "    )\n",
    "\n",
    "    callbacks = [\n",
    "                 reducelr,\n",
    "                 earlystop]\n",
    "\n",
    "    return callbacks"
   ]
  },
  {
   "cell_type": "code",
   "execution_count": null,
   "metadata": {
    "id": "bWFbNNF4i4HD"
   },
   "outputs": [],
   "source": [
    "def create_model(base_dim = 128):\n",
    "  model =  DEEP_HLA(in_channel=inChannel,\n",
    "      conv1_n_filters=base_dim, conv2_n_filters=base_dim//2,\n",
    "      conv1_kernel_size=base_dim//2, conv2_kernel_size=base_dim//2)\n",
    "  optimizer = tfa.optimizers.LAMB(learning_rate=learning_rate)\n",
    "  model.compile(optimizer, loss='categorical_crossentropy', metrics=tf.keras.metrics.CategoricalAccuracy())\n",
    "  return model"
   ]
  },
  {
   "cell_type": "code",
   "source": [
    "temp_model = create_model()\n",
    "temp_model.build((1, X.shape[1], inChannel))\n",
    "temp_model.summary()"
   ],
   "metadata": {
    "colab": {
     "base_uri": "https://localhost:8080/"
    },
    "id": "-D8GM9EKgmcP",
    "executionInfo": {
     "status": "ok",
     "timestamp": 1690836984619,
     "user_tz": 240,
     "elapsed": 431,
     "user": {
      "displayName": "Erfan Mowlaei",
      "userId": "07890245825539195560"
     }
    },
    "outputId": "33ce8749-5585-4012-8778-bfcf5638a828"
   },
   "execution_count": null,
   "outputs": [
    {
     "output_type": "stream",
     "name": "stdout",
     "text": [
      "Model: \"deep_hla_1\"\n",
      "_________________________________________________________________\n",
      " Layer (type)                Output Shape              Param #   \n",
      "=================================================================\n",
      " model (Functional)          (None, 572, 2)            550350    \n",
      "                                                                 \n",
      " concatenate (Concatenate)   multiple                  0         \n",
      "                                                                 \n",
      "=================================================================\n",
      "Total params: 550,350\n",
      "Trainable params: 549,966\n",
      "Non-trainable params: 384\n",
      "_________________________________________________________________\n"
     ]
    }
   ]
  },
  {
   "cell_type": "code",
   "execution_count": null,
   "metadata": {
    "id": "Mv32H3-y75Fo"
   },
   "outputs": [],
   "source": [
    "def get_three_sets(x, y, random_state, population_label, missing_perc):\n",
    "  np.random.seed(seed=random_state)\n",
    "  _x = x[x.index.isin(y.index)].to_numpy()\n",
    "  _y = y.to_numpy()\n",
    "  x_train, x_test, y_train, y_test = train_test_split(_x, _y, test_size=0.20,\n",
    "                                        random_state=random_state,\n",
    "                                        shuffle=True,\n",
    "                                        stratify=_y,)\n",
    "  train_indices, test_indices = train_test_split(y.index, test_size=0.20,\n",
    "                                        random_state=random_state,\n",
    "                                        shuffle=True,\n",
    "                                        stratify=_y,)\n",
    "  return x_train, y_train, (x_test, y_test), test_indices\n"
   ]
  },
  {
   "cell_type": "code",
   "execution_count": null,
   "metadata": {
    "colab": {
     "base_uri": "https://localhost:8080/"
    },
    "executionInfo": {
     "elapsed": 80,
     "status": "ok",
     "timestamp": 1690836985984,
     "user": {
      "displayName": "Erfan Mowlaei",
      "userId": "07890245825539195560"
     },
     "user_tz": 240
    },
    "id": "5CVnIE7HK63r",
    "outputId": "8dda3fdf-845f-4725-c1ed-1889ba258a80"
   },
   "outputs": [
    {
     "output_type": "execute_result",
     "data": {
      "text/plain": [
       "array(['ACB', 'ASW', 'BEB', 'CDX', 'CEU', 'CHB', 'CHS', 'CLM', 'ESN',\n",
       "       'FIN', 'GBR', 'GIH', 'GWD', 'IBS', 'ITU', 'JPT', 'KHV', 'LWK',\n",
       "       'MSL', 'MXL', 'PEL', 'PJL', 'PUR', 'STU', 'TSI', 'YRI'],\n",
       "      dtype=object)"
      ]
     },
     "metadata": {},
     "execution_count": 55
    }
   ],
   "source": [
    "np.unique(Y_train.values)"
   ]
  },
  {
   "cell_type": "markdown",
   "metadata": {
    "id": "TOA_NexzN5Qq"
   },
   "source": [
    "## Training"
   ]
  },
  {
   "cell_type": "code",
   "execution_count": null,
   "metadata": {
    "colab": {
     "base_uri": "https://localhost:8080/"
    },
    "executionInfo": {
     "elapsed": 86,
     "status": "ok",
     "timestamp": 1690836987157,
     "user": {
      "displayName": "Erfan Mowlaei",
      "userId": "07890245825539195560"
     },
     "user_tz": 240
    },
    "id": "Ey5lpPElXlUd",
    "outputId": "9b249c2f-f52c-40fa-ea59-2e5677ca80ae"
   },
   "outputs": [
    {
     "output_type": "execute_result",
     "data": {
      "text/plain": [
       "16"
      ]
     },
     "metadata": {},
     "execution_count": 56
    }
   ],
   "source": [
    "# A TPU V3-8 has 8 computing cores, the global batch size will be 1/16 x 8 = 8/128\n",
    "BATCH_SIZE_BASE = 2\n",
    "# Training configuration\n",
    "BATCH_SIZE = BATCH_SIZE_BASE * N_REPLICAS if TPU else 5\n",
    "BATCH_SIZE"
   ]
  },
  {
   "cell_type": "code",
   "source": [
    "save_dir = \"[save_path]/\"\n",
    "\n",
    "if not os.path.exists(save_dir):\n",
    "  # shutil.rmtree(save_dir)\n",
    "  os.makedirs(save_dir)"
   ],
   "metadata": {
    "id": "0DSNMMjf0Ipo"
   },
   "execution_count": null,
   "outputs": []
  },
  {
   "cell_type": "code",
   "source": [
    "# With constraint\n",
    "missing_perc = 0.1\n",
    "N_SPLITS=3\n",
    "NUM_EPOCHS = 1000\n",
    "accuracies = []\n",
    "results = None\n",
    "kf = KFold(n_splits=N_SPLITS, shuffle=True, random_state=2022)\n",
    "fold = 0\n",
    "_x = X[X.index.isin(Y_train.index)].to_numpy()\n",
    "_y = Y_train.to_numpy()\n",
    "for train_index, test_index in kf.split(_x):\n",
    "  fold += 1\n",
    "\n",
    "  print(f\"Training using fold {fold}\")\n",
    "\n",
    "  x_train, y_train, test_dataset, test_indices = _x[train_index], _y[train_index], (_x[test_index], _y[test_index]),Y_train.index[test_index]\n",
    "  x_train, x_valid, y_train, y_valid = train_test_split(x_train, y_train, test_size=0.10,\n",
    "                                      random_state=fold,\n",
    "                                      shuffle=True)\n",
    "\n",
    "  steps_per_epoch = 2*x_train.shape[0]//BATCH_SIZE\n",
    "  validation_steps = 2*x_valid.shape[0]//BATCH_SIZE\n",
    "  train_dataset = get_dataset(x_train, 0, feature_size, 0, 0, BATCH_SIZE)\n",
    "  valid_dataset = get_dataset(x_valid, 0, feature_size, 0, 0, BATCH_SIZE, training=False)\n",
    "\n",
    "  K.clear_session()\n",
    "  callbacks = create_callbacks()\n",
    "  with strategy.scope():\n",
    "    model = create_model()\n",
    "    history = model.fit(train_dataset, steps_per_epoch=steps_per_epoch, epochs=NUM_EPOCHS,\n",
    "            validation_data=valid_dataset,\n",
    "            validation_steps=validation_steps,\n",
    "            callbacks=callbacks, verbose=2)\n",
    "  for missing_perc in [\n",
    "                         0.05,\n",
    "                         0.1,\n",
    "                         0.2\n",
    "                         ]:\n",
    "    save_name = save_dir + f\"preds_mixed_mr_{missing_perc}_fold_{fold}_probs\"\n",
    "    avg_accuracy = []\n",
    "    preds = []\n",
    "    true_labels = []\n",
    "\n",
    "    # to_save_array = np.zeros((test_dataset[0].shape[0], test_dataset[0].shape[1]), dtype=object)\n",
    "    test_X_missing = np.empty((test_dataset[0].shape[0] * 2, test_dataset[0].shape[1]), dtype=test_dataset[0].dtype)\n",
    "    map_values_1_vec = np.vectorize(map_values_1)\n",
    "    map_values_2_vec = np.vectorize(map_values_2)\n",
    "    test_X_missing[0::2] = map_values_1_vec(test_dataset[0])\n",
    "    test_X_missing[1::2] = map_values_2_vec(test_dataset[0])\n",
    "    test_X_missing = to_categorical(test_X_missing, 3)\n",
    "\n",
    "\n",
    "    for i in tqdm(range(test_dataset[0].shape[0])):\n",
    "      missing_index, _ = train_test_split(np.arange(x_train.shape[1]), train_size=missing_perc,\n",
    "                                    random_state=i + fold,\n",
    "                                    shuffle=True,\n",
    "                                    stratify=bin_labels\n",
    "                                    )\n",
    "      test_X_missing[i*2:i*2+2, missing_index, :] = [0, 0, 1]\n",
    "      # mMask = np.tile(attention_mask, (1, 1, 1))\n",
    "      # predict\n",
    "    predict_onehots = model.predict(test_X_missing, verbose=0)\n",
    "    to_save_array = np.copy(predict_onehots)\n",
    "    for i in tqdm(range(test_dataset[0].shape[0])):\n",
    "      missing_index, _ = train_test_split(np.arange(x_train.shape[1]), train_size=missing_perc,\n",
    "                                    random_state=i + fold,\n",
    "                                    shuffle=True,\n",
    "                                    stratify=bin_labels\n",
    "                                    )\n",
    "      predict_missing_onehot = predict_onehots[i*2:(i+1)*2, missing_index, :]\n",
    "      # predict label\n",
    "      predict_missing = np.argmax(predict_missing_onehot, axis=2)\n",
    "      predict_missing_final = np.zeros((1, predict_missing.shape[1]))\n",
    "      for j in range(predict_missing.shape[1]):\n",
    "        if predict_missing[:, j].tolist() == [0, 0]:\n",
    "          predict_missing_final[:, j] = 0\n",
    "        elif predict_missing[:, j].tolist() == [0, 1]:\n",
    "          predict_missing_final[:, j] = 1\n",
    "        elif predict_missing[:, j].tolist() == [1, 0]:\n",
    "          predict_missing_final[:, j] = 2\n",
    "        elif predict_missing[:, j].tolist() == [1, 1]:\n",
    "          predict_missing_final[:, j] = 3\n",
    "        else:\n",
    "          predict_missing_final[:, j] = 4\n",
    "      preds.extend(predict_missing_final.ravel().tolist())\n",
    "\n",
    "      # predict_haplotypes = np.argmax(predict_onehots[i*2:(i+1)*2], axis=2)\n",
    "      # for j in range(predict_onehots.shape[1]):\n",
    "      #   if predict_haplotypes[:, j].tolist() == [0,0]:\n",
    "      #     to_save_array[i, j] = '0|0'\n",
    "      #   elif predict_haplotypes[:, j].tolist() == [0,1]:\n",
    "      #     to_save_array[i, j] = '0|1'\n",
    "      #   elif predict_haplotypes[:, j].tolist() == [1,0]:\n",
    "      #     to_save_array[i, j] = '1|0'\n",
    "      #   elif predict_haplotypes[:, j].tolist() == [1, 1]:\n",
    "      #     to_save_array[i, j] = '1|1'\n",
    "      #   else:\n",
    "      #     to_save_array[i, j] = '.|.'\n",
    "      # real label\n",
    "      label_missing_onehot = test_dataset[0][i:i + 1, missing_index]\n",
    "      # label_missing = np.argmax(label_missing_onehot, axis=2)\n",
    "      label_missing = test_dataset[0][i:i + 1, missing_index]\n",
    "      true_labels.extend(label_missing.ravel().tolist())\n",
    "      # accuracy\n",
    "      correct_prediction = np.equal(predict_missing_final, label_missing)\n",
    "      accuracy = np.mean(correct_prediction)\n",
    "      # print('{}/{}, accuracy: {:.4f}'.format(\n",
    "      #     i, test_X_missing.shape[0], accuracy))\n",
    "\n",
    "      avg_accuracy.append(accuracy)\n",
    "\n",
    "    # df = pd.DataFrame(to_save_array, columns= headers[:], index = Y_train.index[test_index])\n",
    "    # df.to_csv(save_name)\n",
    "    np.save(save_name, to_save_array)\n",
    "    print('The average imputation accuracy' \\\n",
    "          'on test data with {} missing genotypes is {:.4f}: '\n",
    "        .format(missing_perc, np.mean(avg_accuracy)))\n",
    "    cnf_matrix = confusion_matrix(true_labels, preds)\n",
    "    FP = cnf_matrix.sum(axis=0) - np.diag(cnf_matrix)\n",
    "    FN = cnf_matrix.sum(axis=1) - np.diag(cnf_matrix)\n",
    "    TP = np.diag(cnf_matrix)\n",
    "    TN = cnf_matrix.sum() - (FP + FN + TP)\n",
    "    FP = FP.astype(float)\n",
    "    FN = FN.astype(float)\n",
    "    TP = TP.astype(float)\n",
    "    TN = TN.astype(float)\n",
    "    # Sensitivity, hit rate, recall, or true positive rate\n",
    "    TPR = TP/(TP+FN)\n",
    "    # Specificity or true negative rate\n",
    "    TNR = TN/(TN+FP)\n",
    "    print(f\"Sensitivity: {np.mean(TPR)}\")\n",
    "    print(f\"Specificity: {np.mean(TNR)}\")\n",
    "    print(f\"F1-score macro: {f1_score(true_labels, preds, average='macro')}\")\n",
    "    print(f\"F1-score micro: {f1_score(true_labels, preds, average='micro')}\")\n",
    "    accuracies.append(np.mean(avg_accuracy))\n",
    "  print(f\"=====================================\")\n",
    "\n"
   ],
   "metadata": {
    "id": "Gq5VWuKWVZVx",
    "colab": {
     "base_uri": "https://localhost:8080/"
    },
    "executionInfo": {
     "status": "ok",
     "timestamp": 1690837345500,
     "user_tz": 240,
     "elapsed": 356913,
     "user": {
      "displayName": "Erfan Mowlaei",
      "userId": "07890245825539195560"
     }
    },
    "outputId": "6f535aa7-a195-49b8-f6f1-810f37108068"
   },
   "execution_count": null,
   "outputs": [
    {
     "output_type": "stream",
     "name": "stdout",
     "text": [
      "Training using fold 1\n",
      "Epoch 1/1000\n",
      "187/187 - 20s - loss: 0.4661 - categorical_accuracy: 0.9702 - val_loss: 1.4959 - val_categorical_accuracy: 0.0274 - lr: 0.0040 - 20s/epoch - 107ms/step\n",
      "Epoch 2/1000\n",
      "187/187 - 2s - loss: 0.3477 - categorical_accuracy: 0.9868 - val_loss: 1.0383 - val_categorical_accuracy: 0.3065 - lr: 0.0040 - 2s/epoch - 11ms/step\n",
      "Epoch 3/1000\n",
      "187/187 - 2s - loss: 0.3348 - categorical_accuracy: 0.9871 - val_loss: 0.1816 - val_categorical_accuracy: 0.9392 - lr: 0.0040 - 2s/epoch - 11ms/step\n",
      "Epoch 4/1000\n",
      "187/187 - 2s - loss: 0.3220 - categorical_accuracy: 0.9871 - val_loss: 0.0011 - val_categorical_accuracy: 0.9998 - lr: 0.0040 - 2s/epoch - 12ms/step\n",
      "Epoch 5/1000\n",
      "187/187 - 2s - loss: 0.2946 - categorical_accuracy: 0.9873 - val_loss: 1.3070 - val_categorical_accuracy: 0.5926 - lr: 0.0040 - 2s/epoch - 11ms/step\n",
      "Epoch 6/1000\n",
      "187/187 - 3s - loss: 0.2454 - categorical_accuracy: 0.9873 - val_loss: 0.0012 - val_categorical_accuracy: 0.9999 - lr: 0.0040 - 3s/epoch - 14ms/step\n",
      "Epoch 7/1000\n",
      "187/187 - 3s - loss: 0.1668 - categorical_accuracy: 0.9873 - val_loss: 5.9549e-04 - val_categorical_accuracy: 0.9999 - lr: 0.0040 - 3s/epoch - 14ms/step\n",
      "Epoch 8/1000\n",
      "187/187 - 2s - loss: 0.0852 - categorical_accuracy: 0.9875 - val_loss: 0.0024 - val_categorical_accuracy: 0.9994 - lr: 0.0040 - 2s/epoch - 11ms/step\n",
      "Epoch 9/1000\n",
      "187/187 - 2s - loss: 0.0594 - categorical_accuracy: 0.9873 - val_loss: 0.0065 - val_categorical_accuracy: 0.9971 - lr: 0.0040 - 2s/epoch - 11ms/step\n",
      "Epoch 10/1000\n",
      "187/187 - 2s - loss: 0.0588 - categorical_accuracy: 0.9874 - val_loss: 0.0133 - val_categorical_accuracy: 0.9983 - lr: 0.0040 - 2s/epoch - 11ms/step\n",
      "Epoch 11/1000\n",
      "187/187 - 2s - loss: 0.0588 - categorical_accuracy: 0.9874 - val_loss: 6.6842e-05 - val_categorical_accuracy: 1.0000 - lr: 8.0000e-04 - 2s/epoch - 11ms/step\n",
      "Epoch 12/1000\n",
      "187/187 - 2s - loss: 0.0587 - categorical_accuracy: 0.9874 - val_loss: 1.8963e-04 - val_categorical_accuracy: 1.0000 - lr: 8.0000e-04 - 2s/epoch - 11ms/step\n",
      "Epoch 13/1000\n",
      "187/187 - 3s - loss: 0.0590 - categorical_accuracy: 0.9874 - val_loss: 7.7132e-05 - val_categorical_accuracy: 1.0000 - lr: 8.0000e-04 - 3s/epoch - 13ms/step\n",
      "Epoch 14/1000\n",
      "187/187 - 3s - loss: 0.0590 - categorical_accuracy: 0.9873 - val_loss: 3.6183e-05 - val_categorical_accuracy: 1.0000 - lr: 8.0000e-04 - 3s/epoch - 15ms/step\n",
      "Epoch 15/1000\n",
      "187/187 - 2s - loss: 0.0588 - categorical_accuracy: 0.9874 - val_loss: 1.8444e-05 - val_categorical_accuracy: 1.0000 - lr: 1.6000e-04 - 2s/epoch - 11ms/step\n",
      "Epoch 16/1000\n",
      "187/187 - 2s - loss: 0.0588 - categorical_accuracy: 0.9874 - val_loss: 3.0609e-05 - val_categorical_accuracy: 1.0000 - lr: 1.6000e-04 - 2s/epoch - 10ms/step\n",
      "Epoch 17/1000\n",
      "187/187 - 2s - loss: 0.0588 - categorical_accuracy: 0.9874 - val_loss: 3.9670e-05 - val_categorical_accuracy: 1.0000 - lr: 1.6000e-04 - 2s/epoch - 11ms/step\n",
      "Epoch 18/1000\n",
      "187/187 - 2s - loss: 0.0588 - categorical_accuracy: 0.9874 - val_loss: 1.0252e-05 - val_categorical_accuracy: 1.0000 - lr: 3.2000e-05 - 2s/epoch - 11ms/step\n",
      "Epoch 19/1000\n",
      "187/187 - 2s - loss: 0.0587 - categorical_accuracy: 0.9874 - val_loss: 6.1521e-06 - val_categorical_accuracy: 1.0000 - lr: 3.2000e-05 - 2s/epoch - 11ms/step\n",
      "Epoch 20/1000\n",
      "187/187 - 3s - loss: 0.0590 - categorical_accuracy: 0.9873 - val_loss: 6.1366e-06 - val_categorical_accuracy: 1.0000 - lr: 3.2000e-05 - 3s/epoch - 14ms/step\n",
      "Epoch 21/1000\n",
      "187/187 - 3s - loss: 0.0588 - categorical_accuracy: 0.9874 - val_loss: 5.9609e-06 - val_categorical_accuracy: 1.0000 - lr: 6.4000e-06 - 3s/epoch - 13ms/step\n",
      "Epoch 22/1000\n",
      "187/187 - 3s - loss: 0.0590 - categorical_accuracy: 0.9873 - val_loss: 5.8645e-06 - val_categorical_accuracy: 1.0000 - lr: 6.4000e-06 - 3s/epoch - 14ms/step\n",
      "Epoch 23/1000\n",
      "187/187 - 2s - loss: 0.0585 - categorical_accuracy: 0.9875 - val_loss: 4.9764e-06 - val_categorical_accuracy: 1.0000 - lr: 6.4000e-06 - 2s/epoch - 11ms/step\n",
      "Epoch 24/1000\n",
      "187/187 - 2s - loss: 0.0591 - categorical_accuracy: 0.9873 - val_loss: 5.6477e-06 - val_categorical_accuracy: 1.0000 - lr: 1.2800e-06 - 2s/epoch - 11ms/step\n",
      "Epoch 25/1000\n",
      "187/187 - 2s - loss: 0.0592 - categorical_accuracy: 0.9873 - val_loss: 1.1762e-05 - val_categorical_accuracy: 1.0000 - lr: 1.2800e-06 - 2s/epoch - 10ms/step\n",
      "Epoch 26/1000\n",
      "187/187 - 2s - loss: 0.0586 - categorical_accuracy: 0.9875 - val_loss: 5.7472e-06 - val_categorical_accuracy: 1.0000 - lr: 1.2800e-06 - 2s/epoch - 12ms/step\n",
      "Epoch 27/1000\n",
      "187/187 - 2s - loss: 0.0592 - categorical_accuracy: 0.9873 - val_loss: 9.3650e-06 - val_categorical_accuracy: 1.0000 - lr: 2.5600e-07 - 2s/epoch - 13ms/step\n",
      "Epoch 28/1000\n",
      "187/187 - 2s - loss: 0.0588 - categorical_accuracy: 0.9874 - val_loss: 6.4032e-06 - val_categorical_accuracy: 1.0000 - lr: 2.5600e-07 - 2s/epoch - 13ms/step\n",
      "Epoch 29/1000\n",
      "187/187 - 2s - loss: 0.0588 - categorical_accuracy: 0.9874 - val_loss: 1.0815e-05 - val_categorical_accuracy: 1.0000 - lr: 2.5600e-07 - 2s/epoch - 10ms/step\n",
      "Epoch 30/1000\n",
      "187/187 - 2s - loss: 0.0592 - categorical_accuracy: 0.9873 - val_loss: 1.1748e-05 - val_categorical_accuracy: 1.0000 - lr: 5.1200e-08 - 2s/epoch - 10ms/step\n",
      "Epoch 31/1000\n",
      "187/187 - 2s - loss: 0.0589 - categorical_accuracy: 0.9874 - val_loss: 7.7234e-06 - val_categorical_accuracy: 1.0000 - lr: 5.1200e-08 - 2s/epoch - 11ms/step\n",
      "Epoch 32/1000\n",
      "187/187 - 2s - loss: 0.0588 - categorical_accuracy: 0.9874 - val_loss: 1.5338e-05 - val_categorical_accuracy: 1.0000 - lr: 5.1200e-08 - 2s/epoch - 11ms/step\n",
      "Epoch 33/1000\n",
      "187/187 - 2s - loss: 0.0591 - categorical_accuracy: 0.9873 - val_loss: 5.1632e-06 - val_categorical_accuracy: 1.0000 - lr: 1.0240e-08 - 2s/epoch - 12ms/step\n",
      "Epoch 34/1000\n",
      "187/187 - 3s - loss: 0.0591 - categorical_accuracy: 0.9873 - val_loss: 7.2094e-06 - val_categorical_accuracy: 1.0000 - lr: 1.0240e-08 - 3s/epoch - 13ms/step\n",
      "Epoch 35/1000\n",
      "187/187 - 3s - loss: 0.0588 - categorical_accuracy: 0.9874 - val_loss: 4.7908e-06 - val_categorical_accuracy: 1.0000 - lr: 1.0240e-08 - 3s/epoch - 14ms/step\n",
      "Epoch 36/1000\n",
      "187/187 - 2s - loss: 0.0588 - categorical_accuracy: 0.9874 - val_loss: 6.8598e-06 - val_categorical_accuracy: 1.0000 - lr: 2.0480e-09 - 2s/epoch - 11ms/step\n",
      "Epoch 37/1000\n",
      "187/187 - 2s - loss: 0.0583 - categorical_accuracy: 0.9875 - val_loss: 7.3851e-06 - val_categorical_accuracy: 1.0000 - lr: 2.0480e-09 - 2s/epoch - 11ms/step\n",
      "Epoch 38/1000\n",
      "187/187 - 2s - loss: 0.0593 - categorical_accuracy: 0.9873 - val_loss: 5.2752e-06 - val_categorical_accuracy: 1.0000 - lr: 2.0480e-09 - 2s/epoch - 12ms/step\n",
      "Epoch 39/1000\n",
      "187/187 - 2s - loss: 0.0587 - categorical_accuracy: 0.9874 - val_loss: 5.2861e-06 - val_categorical_accuracy: 1.0000 - lr: 4.0960e-10 - 2s/epoch - 11ms/step\n",
      "Epoch 40/1000\n",
      "187/187 - 2s - loss: 0.0592 - categorical_accuracy: 0.9873 - val_loss: 5.2864e-06 - val_categorical_accuracy: 1.0000 - lr: 4.0960e-10 - 2s/epoch - 12ms/step\n",
      "Epoch 41/1000\n",
      "187/187 - 3s - loss: 0.0590 - categorical_accuracy: 0.9874 - val_loss: 5.1405e-06 - val_categorical_accuracy: 1.0000 - lr: 4.0960e-10 - 3s/epoch - 13ms/step\n",
      "Epoch 42/1000\n",
      "187/187 - 2s - loss: 0.0590 - categorical_accuracy: 0.9873 - val_loss: 5.7571e-06 - val_categorical_accuracy: 1.0000 - lr: 8.1920e-11 - 2s/epoch - 13ms/step\n",
      "Epoch 43/1000\n",
      "187/187 - 3s - loss: 0.0591 - categorical_accuracy: 0.9873 - val_loss: 5.5582e-06 - val_categorical_accuracy: 1.0000 - lr: 8.1920e-11 - 3s/epoch - 16ms/step\n",
      "Epoch 44/1000\n",
      "187/187 - 2s - loss: 0.0592 - categorical_accuracy: 0.9873 - val_loss: 6.1995e-06 - val_categorical_accuracy: 1.0000 - lr: 8.1920e-11 - 2s/epoch - 11ms/step\n",
      "Epoch 45/1000\n",
      "187/187 - 2s - loss: 0.0587 - categorical_accuracy: 0.9874 - val_loss: 5.2565e-06 - val_categorical_accuracy: 1.0000 - lr: 1.6384e-11 - 2s/epoch - 11ms/step\n",
      "Epoch 46/1000\n",
      "187/187 - 2s - loss: 0.0590 - categorical_accuracy: 0.9874 - val_loss: 5.5981e-06 - val_categorical_accuracy: 1.0000 - lr: 1.6384e-11 - 2s/epoch - 11ms/step\n",
      "Epoch 47/1000\n",
      "187/187 - 3s - loss: 0.0590 - categorical_accuracy: 0.9874 - val_loss: 4.6991e-06 - val_categorical_accuracy: 1.0000 - lr: 1.6384e-11 - 3s/epoch - 14ms/step\n",
      "Epoch 48/1000\n",
      "187/187 - 3s - loss: 0.0588 - categorical_accuracy: 0.9874 - val_loss: 8.0221e-06 - val_categorical_accuracy: 1.0000 - lr: 3.2768e-12 - 3s/epoch - 14ms/step\n",
      "Epoch 49/1000\n",
      "187/187 - 2s - loss: 0.0589 - categorical_accuracy: 0.9874 - val_loss: 4.9908e-06 - val_categorical_accuracy: 1.0000 - lr: 3.2768e-12 - 2s/epoch - 11ms/step\n",
      "Epoch 50/1000\n",
      "187/187 - 2s - loss: 0.0586 - categorical_accuracy: 0.9875 - val_loss: 8.0130e-06 - val_categorical_accuracy: 1.0000 - lr: 3.2768e-12 - 2s/epoch - 11ms/step\n",
      "Epoch 51/1000\n",
      "187/187 - 2s - loss: 0.0592 - categorical_accuracy: 0.9873 - val_loss: 5.5363e-06 - val_categorical_accuracy: 1.0000 - lr: 6.5536e-13 - 2s/epoch - 11ms/step\n",
      "Epoch 52/1000\n",
      "187/187 - 2s - loss: 0.0591 - categorical_accuracy: 0.9873 - val_loss: 5.0814e-06 - val_categorical_accuracy: 1.0000 - lr: 6.5536e-13 - 2s/epoch - 11ms/step\n",
      "Epoch 53/1000\n",
      "187/187 - 2s - loss: 0.0593 - categorical_accuracy: 0.9873 - val_loss: 5.2907e-06 - val_categorical_accuracy: 1.0000 - lr: 6.5536e-13 - 2s/epoch - 11ms/step\n",
      "Epoch 54/1000\n",
      "187/187 - 3s - loss: 0.0588 - categorical_accuracy: 0.9874 - val_loss: 6.4608e-06 - val_categorical_accuracy: 1.0000 - lr: 1.3107e-13 - 3s/epoch - 17ms/step\n",
      "Epoch 55/1000\n",
      "187/187 - 2s - loss: 0.0591 - categorical_accuracy: 0.9873 - val_loss: 8.6839e-06 - val_categorical_accuracy: 1.0000 - lr: 1.3107e-13 - 2s/epoch - 13ms/step\n",
      "Epoch 56/1000\n",
      "187/187 - 2s - loss: 0.0593 - categorical_accuracy: 0.9873 - val_loss: 6.2000e-06 - val_categorical_accuracy: 1.0000 - lr: 1.3107e-13 - 2s/epoch - 11ms/step\n",
      "Epoch 57/1000\n",
      "187/187 - 2s - loss: 0.0591 - categorical_accuracy: 0.9873 - val_loss: 1.0812e-05 - val_categorical_accuracy: 1.0000 - lr: 2.6214e-14 - 2s/epoch - 11ms/step\n",
      "Epoch 58/1000\n",
      "187/187 - 2s - loss: 0.0590 - categorical_accuracy: 0.9874 - val_loss: 1.1455e-05 - val_categorical_accuracy: 1.0000 - lr: 2.6214e-14 - 2s/epoch - 11ms/step\n",
      "Epoch 59/1000\n",
      "187/187 - 2s - loss: 0.0585 - categorical_accuracy: 0.9875 - val_loss: 1.2415e-05 - val_categorical_accuracy: 1.0000 - lr: 2.6214e-14 - 2s/epoch - 11ms/step\n",
      "Epoch 60/1000\n",
      "187/187 - 2s - loss: 0.0587 - categorical_accuracy: 0.9874 - val_loss: 8.7802e-06 - val_categorical_accuracy: 1.0000 - lr: 5.2429e-15 - 2s/epoch - 11ms/step\n",
      "Epoch 61/1000\n",
      "187/187 - 2s - loss: 0.0587 - categorical_accuracy: 0.9874 - val_loss: 1.0304e-05 - val_categorical_accuracy: 1.0000 - lr: 5.2429e-15 - 2s/epoch - 13ms/step\n",
      "Epoch 62/1000\n",
      "187/187 - 3s - loss: 0.0589 - categorical_accuracy: 0.9874 - val_loss: 5.6116e-06 - val_categorical_accuracy: 1.0000 - lr: 5.2429e-15 - 3s/epoch - 14ms/step\n",
      "Epoch 63/1000\n",
      "187/187 - 2s - loss: 0.0587 - categorical_accuracy: 0.9874 - val_loss: 7.2741e-06 - val_categorical_accuracy: 1.0000 - lr: 1.0486e-15 - 2s/epoch - 11ms/step\n",
      "Epoch 64/1000\n",
      "187/187 - 2s - loss: 0.0586 - categorical_accuracy: 0.9875 - val_loss: 5.2400e-06 - val_categorical_accuracy: 1.0000 - lr: 1.0486e-15 - 2s/epoch - 11ms/step\n",
      "Epoch 65/1000\n",
      "187/187 - 2s - loss: 0.0589 - categorical_accuracy: 0.9874 - val_loss: 5.0992e-06 - val_categorical_accuracy: 1.0000 - lr: 1.0486e-15 - 2s/epoch - 11ms/step\n",
      "Epoch 66/1000\n",
      "187/187 - 2s - loss: 0.0591 - categorical_accuracy: 0.9873 - val_loss: 8.9105e-06 - val_categorical_accuracy: 1.0000 - lr: 2.0972e-16 - 2s/epoch - 11ms/step\n",
      "Epoch 67/1000\n",
      "Restoring model weights from the end of the best epoch: 47.\n",
      "187/187 - 2s - loss: 0.0590 - categorical_accuracy: 0.9874 - val_loss: 5.7885e-06 - val_categorical_accuracy: 1.0000 - lr: 2.0972e-16 - 2s/epoch - 12ms/step\n",
      "Epoch 67: early stopping\n"
     ]
    },
    {
     "output_type": "stream",
     "name": "stderr",
     "text": [
      "100%|██████████| 835/835 [00:01<00:00, 620.03it/s]\n",
      "100%|██████████| 835/835 [00:00<00:00, 925.91it/s]\n"
     ]
    },
    {
     "output_type": "stream",
     "name": "stdout",
     "text": [
      "The average imputation accuracyon test data with 0.05 missing genotypes is 0.7272: \n",
      "Sensitivity: 0.27518727357788486\n",
      "Specificity: 0.770573422220466\n",
      "F1-score macro: 0.23493025243263352\n",
      "F1-score micro: 0.7272027373823781\n"
     ]
    },
    {
     "output_type": "stream",
     "name": "stderr",
     "text": [
      "100%|██████████| 835/835 [00:00<00:00, 996.78it/s]\n",
      "100%|██████████| 835/835 [00:00<00:00, 866.62it/s]\n"
     ]
    },
    {
     "output_type": "stream",
     "name": "stdout",
     "text": [
      "The average imputation accuracyon test data with 0.1 missing genotypes is 0.8249: \n",
      "Sensitivity: 0.279781003983836\n",
      "Specificity: 0.7653905380366525\n",
      "F1-score macro: 0.2542094925908432\n",
      "F1-score micro: 0.8248555520537871\n"
     ]
    },
    {
     "output_type": "stream",
     "name": "stderr",
     "text": [
      "100%|██████████| 835/835 [00:00<00:00, 1001.45it/s]\n",
      "100%|██████████| 835/835 [00:01<00:00, 785.20it/s]\n"
     ]
    },
    {
     "output_type": "stream",
     "name": "stdout",
     "text": [
      "The average imputation accuracyon test data with 0.2 missing genotypes is 0.8804: \n",
      "Sensitivity: 0.2686295062188661\n",
      "Specificity: 0.7620934796241012\n",
      "F1-score macro: 0.2589699168832003\n",
      "F1-score micro: 0.8804286164513079\n",
      "=====================================\n",
      "Training using fold 2\n",
      "Epoch 1/1000\n",
      "187/187 - 10s - loss: 0.2314 - categorical_accuracy: 0.9745 - val_loss: 0.6852 - val_categorical_accuracy: 0.9750 - lr: 0.0040 - 10s/epoch - 51ms/step\n",
      "Epoch 2/1000\n",
      "187/187 - 2s - loss: 0.1869 - categorical_accuracy: 0.9745 - val_loss: 0.5653 - val_categorical_accuracy: 0.9750 - lr: 0.0040 - 2s/epoch - 11ms/step\n",
      "Epoch 3/1000\n",
      "187/187 - 2s - loss: 0.1820 - categorical_accuracy: 0.9745 - val_loss: 0.0911 - val_categorical_accuracy: 0.9750 - lr: 0.0040 - 2s/epoch - 11ms/step\n",
      "Epoch 4/1000\n",
      "187/187 - 2s - loss: 0.1752 - categorical_accuracy: 0.9744 - val_loss: 0.0209 - val_categorical_accuracy: 0.9750 - lr: 0.0040 - 2s/epoch - 13ms/step\n",
      "Epoch 5/1000\n",
      "187/187 - 3s - loss: 0.1632 - categorical_accuracy: 0.9745 - val_loss: 0.0225 - val_categorical_accuracy: 0.9750 - lr: 0.0040 - 3s/epoch - 14ms/step\n",
      "Epoch 6/1000\n",
      "187/187 - 2s - loss: 0.1414 - categorical_accuracy: 0.9745 - val_loss: 0.0539 - val_categorical_accuracy: 0.9750 - lr: 0.0040 - 2s/epoch - 13ms/step\n",
      "Epoch 7/1000\n",
      "187/187 - 2s - loss: 0.1093 - categorical_accuracy: 0.9745 - val_loss: 0.0455 - val_categorical_accuracy: 0.9750 - lr: 0.0040 - 2s/epoch - 11ms/step\n",
      "Epoch 8/1000\n",
      "187/187 - 2s - loss: 0.0906 - categorical_accuracy: 0.9745 - val_loss: 0.0473 - val_categorical_accuracy: 0.9750 - lr: 8.0000e-04 - 2s/epoch - 11ms/step\n",
      "Epoch 9/1000\n",
      "187/187 - 2s - loss: 0.0865 - categorical_accuracy: 0.9745 - val_loss: 0.0537 - val_categorical_accuracy: 0.9750 - lr: 8.0000e-04 - 2s/epoch - 11ms/step\n",
      "Epoch 10/1000\n",
      "187/187 - 2s - loss: 0.0847 - categorical_accuracy: 0.9744 - val_loss: 0.0589 - val_categorical_accuracy: 0.9750 - lr: 8.0000e-04 - 2s/epoch - 11ms/step\n",
      "Epoch 11/1000\n",
      "187/187 - 2s - loss: 0.0844 - categorical_accuracy: 0.9745 - val_loss: 0.0590 - val_categorical_accuracy: 0.9750 - lr: 1.6000e-04 - 2s/epoch - 13ms/step\n",
      "Epoch 12/1000\n",
      "187/187 - 5s - loss: 0.0844 - categorical_accuracy: 0.9745 - val_loss: 0.0590 - val_categorical_accuracy: 0.9750 - lr: 1.6000e-04 - 5s/epoch - 24ms/step\n",
      "Epoch 13/1000\n",
      "187/187 - 2s - loss: 0.0844 - categorical_accuracy: 0.9745 - val_loss: 0.0588 - val_categorical_accuracy: 0.9750 - lr: 1.6000e-04 - 2s/epoch - 11ms/step\n",
      "Epoch 14/1000\n",
      "187/187 - 2s - loss: 0.0844 - categorical_accuracy: 0.9745 - val_loss: 0.0588 - val_categorical_accuracy: 0.9750 - lr: 3.2000e-05 - 2s/epoch - 11ms/step\n",
      "Epoch 15/1000\n",
      "187/187 - 2s - loss: 0.0844 - categorical_accuracy: 0.9745 - val_loss: 0.0590 - val_categorical_accuracy: 0.9750 - lr: 3.2000e-05 - 2s/epoch - 11ms/step\n",
      "Epoch 16/1000\n",
      "187/187 - 2s - loss: 0.0844 - categorical_accuracy: 0.9744 - val_loss: 0.0590 - val_categorical_accuracy: 0.9750 - lr: 3.2000e-05 - 2s/epoch - 12ms/step\n",
      "Epoch 17/1000\n",
      "187/187 - 2s - loss: 0.0844 - categorical_accuracy: 0.9745 - val_loss: 0.0590 - val_categorical_accuracy: 0.9750 - lr: 6.4000e-06 - 2s/epoch - 12ms/step\n",
      "Epoch 18/1000\n",
      "187/187 - 3s - loss: 0.0843 - categorical_accuracy: 0.9745 - val_loss: 0.0590 - val_categorical_accuracy: 0.9750 - lr: 6.4000e-06 - 3s/epoch - 14ms/step\n",
      "Epoch 19/1000\n",
      "187/187 - 3s - loss: 0.0844 - categorical_accuracy: 0.9745 - val_loss: 0.0590 - val_categorical_accuracy: 0.9750 - lr: 6.4000e-06 - 3s/epoch - 14ms/step\n",
      "Epoch 20/1000\n",
      "187/187 - 2s - loss: 0.0844 - categorical_accuracy: 0.9745 - val_loss: 0.0590 - val_categorical_accuracy: 0.9750 - lr: 1.2800e-06 - 2s/epoch - 12ms/step\n",
      "Epoch 21/1000\n",
      "187/187 - 2s - loss: 0.0843 - categorical_accuracy: 0.9745 - val_loss: 0.0590 - val_categorical_accuracy: 0.9750 - lr: 1.2800e-06 - 2s/epoch - 12ms/step\n",
      "Epoch 22/1000\n",
      "187/187 - 2s - loss: 0.0844 - categorical_accuracy: 0.9745 - val_loss: 0.0590 - val_categorical_accuracy: 0.9750 - lr: 1.2800e-06 - 2s/epoch - 12ms/step\n",
      "Epoch 23/1000\n",
      "187/187 - 2s - loss: 0.0845 - categorical_accuracy: 0.9744 - val_loss: 0.0590 - val_categorical_accuracy: 0.9750 - lr: 2.5600e-07 - 2s/epoch - 12ms/step\n",
      "Epoch 24/1000\n",
      "Restoring model weights from the end of the best epoch: 4.\n",
      "187/187 - 3s - loss: 0.0843 - categorical_accuracy: 0.9745 - val_loss: 0.0590 - val_categorical_accuracy: 0.9750 - lr: 2.5600e-07 - 3s/epoch - 15ms/step\n",
      "Epoch 24: early stopping\n"
     ]
    },
    {
     "output_type": "stream",
     "name": "stderr",
     "text": [
      "100%|██████████| 835/835 [00:01<00:00, 618.65it/s]\n",
      "100%|██████████| 835/835 [00:00<00:00, 891.87it/s]\n"
     ]
    },
    {
     "output_type": "stream",
     "name": "stdout",
     "text": [
      "The average imputation accuracyon test data with 0.05 missing genotypes is 0.9583: \n",
      "Sensitivity: 0.25\n",
      "Specificity: 0.75\n",
      "F1-score macro: 0.2446706272933776\n",
      "F1-score micro: 0.9582549187339606\n"
     ]
    },
    {
     "output_type": "stream",
     "name": "stderr",
     "text": [
      "100%|██████████| 835/835 [00:00<00:00, 965.01it/s]\n",
      "100%|██████████| 835/835 [00:00<00:00, 850.55it/s]\n"
     ]
    },
    {
     "output_type": "stream",
     "name": "stdout",
     "text": [
      "The average imputation accuracyon test data with 0.1 missing genotypes is 0.9585: \n",
      "Sensitivity: 0.25\n",
      "Specificity: 0.75\n",
      "F1-score macro: 0.24469762801325995\n",
      "F1-score micro: 0.9584620233217775\n"
     ]
    },
    {
     "output_type": "stream",
     "name": "stderr",
     "text": [
      "100%|██████████| 835/835 [00:00<00:00, 957.40it/s]\n",
      "100%|██████████| 835/835 [00:01<00:00, 756.47it/s]\n"
     ]
    },
    {
     "output_type": "stream",
     "name": "stdout",
     "text": [
      "The average imputation accuracyon test data with 0.2 missing genotypes is 0.9585: \n",
      "Sensitivity: 0.25\n",
      "Specificity: 0.75\n",
      "F1-score macro: 0.24470036689767632\n",
      "F1-score micro: 0.9584830339321357\n",
      "=====================================\n",
      "Training using fold 3\n",
      "Epoch 1/1000\n",
      "187/187 - 9s - loss: 0.3133 - categorical_accuracy: 0.9649 - val_loss: 0.6838 - val_categorical_accuracy: 0.9743 - lr: 0.0040 - 9s/epoch - 47ms/step\n",
      "Epoch 2/1000\n",
      "187/187 - 2s - loss: 0.2034 - categorical_accuracy: 0.9746 - val_loss: 0.6353 - val_categorical_accuracy: 0.9743 - lr: 0.0040 - 2s/epoch - 12ms/step\n",
      "Epoch 3/1000\n",
      "187/187 - 2s - loss: 0.1962 - categorical_accuracy: 0.9746 - val_loss: 0.0324 - val_categorical_accuracy: 0.9743 - lr: 0.0040 - 2s/epoch - 12ms/step\n",
      "Epoch 4/1000\n",
      "187/187 - 3s - loss: 0.1900 - categorical_accuracy: 0.9746 - val_loss: 0.0350 - val_categorical_accuracy: 0.9743 - lr: 0.0040 - 3s/epoch - 14ms/step\n",
      "Epoch 5/1000\n",
      "187/187 - 3s - loss: 0.1730 - categorical_accuracy: 0.9746 - val_loss: 0.4025 - val_categorical_accuracy: 0.9743 - lr: 0.0040 - 3s/epoch - 14ms/step\n",
      "Epoch 6/1000\n",
      "187/187 - 2s - loss: 0.1419 - categorical_accuracy: 0.9746 - val_loss: 0.1208 - val_categorical_accuracy: 0.9743 - lr: 0.0040 - 2s/epoch - 12ms/step\n",
      "Epoch 7/1000\n",
      "187/187 - 2s - loss: 0.1230 - categorical_accuracy: 0.9745 - val_loss: 0.0305 - val_categorical_accuracy: 0.9743 - lr: 8.0000e-04 - 2s/epoch - 12ms/step\n",
      "Epoch 8/1000\n",
      "187/187 - 2s - loss: 0.1157 - categorical_accuracy: 0.9746 - val_loss: 0.0334 - val_categorical_accuracy: 0.9743 - lr: 8.0000e-04 - 2s/epoch - 11ms/step\n",
      "Epoch 9/1000\n",
      "187/187 - 2s - loss: 0.1088 - categorical_accuracy: 0.9746 - val_loss: 0.0359 - val_categorical_accuracy: 0.9743 - lr: 8.0000e-04 - 2s/epoch - 11ms/step\n",
      "Epoch 10/1000\n",
      "187/187 - 2s - loss: 0.1021 - categorical_accuracy: 0.9745 - val_loss: 0.0782 - val_categorical_accuracy: 0.9743 - lr: 8.0000e-04 - 2s/epoch - 13ms/step\n",
      "Epoch 11/1000\n",
      "187/187 - 3s - loss: 0.0980 - categorical_accuracy: 0.9746 - val_loss: 0.0401 - val_categorical_accuracy: 0.9743 - lr: 1.6000e-04 - 3s/epoch - 14ms/step\n",
      "Epoch 12/1000\n",
      "187/187 - 3s - loss: 0.0968 - categorical_accuracy: 0.9746 - val_loss: 0.0410 - val_categorical_accuracy: 0.9743 - lr: 1.6000e-04 - 3s/epoch - 15ms/step\n",
      "Epoch 13/1000\n",
      "187/187 - 2s - loss: 0.0957 - categorical_accuracy: 0.9746 - val_loss: 0.0417 - val_categorical_accuracy: 0.9743 - lr: 1.6000e-04 - 2s/epoch - 11ms/step\n",
      "Epoch 14/1000\n",
      "187/187 - 2s - loss: 0.0948 - categorical_accuracy: 0.9746 - val_loss: 0.0419 - val_categorical_accuracy: 0.9743 - lr: 3.2000e-05 - 2s/epoch - 11ms/step\n",
      "Epoch 15/1000\n",
      "187/187 - 2s - loss: 0.0945 - categorical_accuracy: 0.9746 - val_loss: 0.0421 - val_categorical_accuracy: 0.9743 - lr: 3.2000e-05 - 2s/epoch - 11ms/step\n",
      "Epoch 16/1000\n",
      "187/187 - 2s - loss: 0.0946 - categorical_accuracy: 0.9746 - val_loss: 0.0423 - val_categorical_accuracy: 0.9743 - lr: 3.2000e-05 - 2s/epoch - 11ms/step\n",
      "Epoch 17/1000\n",
      "187/187 - 3s - loss: 0.0944 - categorical_accuracy: 0.9746 - val_loss: 0.0423 - val_categorical_accuracy: 0.9743 - lr: 6.4000e-06 - 3s/epoch - 14ms/step\n",
      "Epoch 18/1000\n",
      "187/187 - 3s - loss: 0.0943 - categorical_accuracy: 0.9746 - val_loss: 0.0423 - val_categorical_accuracy: 0.9743 - lr: 6.4000e-06 - 3s/epoch - 15ms/step\n",
      "Epoch 19/1000\n",
      "187/187 - 2s - loss: 0.0942 - categorical_accuracy: 0.9746 - val_loss: 0.0424 - val_categorical_accuracy: 0.9743 - lr: 6.4000e-06 - 2s/epoch - 13ms/step\n",
      "Epoch 20/1000\n",
      "187/187 - 2s - loss: 0.0941 - categorical_accuracy: 0.9745 - val_loss: 0.0424 - val_categorical_accuracy: 0.9743 - lr: 1.2800e-06 - 2s/epoch - 11ms/step\n",
      "Epoch 21/1000\n",
      "187/187 - 2s - loss: 0.0939 - categorical_accuracy: 0.9746 - val_loss: 0.0424 - val_categorical_accuracy: 0.9743 - lr: 1.2800e-06 - 2s/epoch - 11ms/step\n",
      "Epoch 22/1000\n",
      "187/187 - 2s - loss: 0.0940 - categorical_accuracy: 0.9746 - val_loss: 0.0424 - val_categorical_accuracy: 0.9743 - lr: 1.2800e-06 - 2s/epoch - 11ms/step\n",
      "Epoch 23/1000\n",
      "187/187 - 2s - loss: 0.0941 - categorical_accuracy: 0.9746 - val_loss: 0.0424 - val_categorical_accuracy: 0.9743 - lr: 2.5600e-07 - 2s/epoch - 12ms/step\n",
      "Epoch 24/1000\n",
      "187/187 - 3s - loss: 0.0942 - categorical_accuracy: 0.9745 - val_loss: 0.0424 - val_categorical_accuracy: 0.9743 - lr: 2.5600e-07 - 3s/epoch - 14ms/step\n",
      "Epoch 25/1000\n",
      "187/187 - 3s - loss: 0.0940 - categorical_accuracy: 0.9747 - val_loss: 0.0424 - val_categorical_accuracy: 0.9743 - lr: 2.5600e-07 - 3s/epoch - 14ms/step\n",
      "Epoch 26/1000\n",
      "187/187 - 2s - loss: 0.0941 - categorical_accuracy: 0.9746 - val_loss: 0.0424 - val_categorical_accuracy: 0.9743 - lr: 5.1200e-08 - 2s/epoch - 12ms/step\n",
      "Epoch 27/1000\n",
      "Restoring model weights from the end of the best epoch: 7.\n",
      "187/187 - 2s - loss: 0.0942 - categorical_accuracy: 0.9745 - val_loss: 0.0424 - val_categorical_accuracy: 0.9743 - lr: 5.1200e-08 - 2s/epoch - 12ms/step\n",
      "Epoch 27: early stopping\n"
     ]
    },
    {
     "output_type": "stream",
     "name": "stderr",
     "text": [
      "100%|██████████| 834/834 [00:00<00:00, 1054.45it/s]\n",
      "100%|██████████| 834/834 [00:00<00:00, 921.62it/s]\n"
     ]
    },
    {
     "output_type": "stream",
     "name": "stdout",
     "text": [
      "The average imputation accuracyon test data with 0.05 missing genotypes is 0.9584: \n",
      "Sensitivity: 0.25\n",
      "Specificity: 0.75\n",
      "F1-score macro: 0.24468643400682236\n",
      "F1-score micro: 0.9583761562178829\n"
     ]
    },
    {
     "output_type": "stream",
     "name": "stderr",
     "text": [
      "100%|██████████| 834/834 [00:00<00:00, 967.48it/s]\n",
      "100%|██████████| 834/834 [00:01<00:00, 537.52it/s]\n"
     ]
    },
    {
     "output_type": "stream",
     "name": "stdout",
     "text": [
      "The average imputation accuracyon test data with 0.1 missing genotypes is 0.9577: \n",
      "Sensitivity: 0.25\n",
      "Specificity: 0.75\n",
      "F1-score macro: 0.2445951173386057\n",
      "F1-score micro: 0.9576759644915647\n"
     ]
    },
    {
     "output_type": "stream",
     "name": "stderr",
     "text": [
      "100%|██████████| 834/834 [00:01<00:00, 616.44it/s]\n",
      "100%|██████████| 834/834 [00:01<00:00, 785.06it/s]\n"
     ]
    },
    {
     "output_type": "stream",
     "name": "stdout",
     "text": [
      "The average imputation accuracyon test data with 0.2 missing genotypes is 0.9584: \n",
      "Sensitivity: 0.25\n",
      "Specificity: 0.75\n",
      "F1-score macro: 0.24468565045060528\n",
      "F1-score micro: 0.9583701459884724\n",
      "=====================================\n"
     ]
    }
   ]
  },
  {
   "cell_type": "code",
   "source": [
    "from google.colab import runtime\n",
    "runtime.unassign()"
   ],
   "metadata": {
    "id": "ifLke-oWc1Ok"
   },
   "execution_count": null,
   "outputs": []
  },
  {
   "cell_type": "code",
   "source": [],
   "metadata": {
    "id": "fN0M7HSLQn8I"
   },
   "execution_count": null,
   "outputs": []
  }
 ],
 "metadata": {
  "accelerator": "TPU",
  "colab": {
   "provenance": [
    {
     "file_id": "1lo9cmptjRRESsVlVECvlJFHbLeaygq2s",
     "timestamp": 1640128751823
    },
    {
     "file_id": "https://github.com/keras-team/keras-io/blob/master/examples/vision/ipynb/perceiver_image_classification.ipynb",
     "timestamp": 1621552889682
    }
   ]
  },
  "kernelspec": {
   "display_name": "Python 3",
   "language": "python",
   "name": "python3"
  },
  "language_info": {
   "codemirror_mode": {
    "name": "ipython",
    "version": 3
   },
   "file_extension": ".py",
   "mimetype": "text/x-python",
   "name": "python",
   "nbconvert_exporter": "python",
   "pygments_lexer": "ipython3",
   "version": "3.7.0"
  },
  "gpuClass": "standard"
 },
 "nbformat": 4,
 "nbformat_minor": 0
}
