{
 "cells": [
  {
   "cell_type": "code",
   "execution_count": 1,
   "metadata": {
    "id": "doSuiA3dyTyg",
    "colab": {
     "base_uri": "https://localhost:8080/"
    },
    "executionInfo": {
     "status": "ok",
     "timestamp": 1694134930245,
     "user_tz": 240,
     "elapsed": 61056,
     "user": {
      "displayName": "net crowmaster",
      "userId": "14126946344391667924"
     }
    },
    "outputId": "6c200687-aaca-49c6-f50f-21534d65011e"
   },
   "outputs": [
    {
     "output_type": "stream",
     "name": "stdout",
     "text": [
      "Mounted at /content/drive\n"
     ]
    }
   ],
   "source": [
    "from google.colab import drive\n",
    "drive.mount('/content/drive')"
   ]
  },
  {
   "cell_type": "code",
   "execution_count": 2,
   "metadata": {
    "id": "liJJGzQp4qzO",
    "colab": {
     "base_uri": "https://localhost:8080/"
    },
    "executionInfo": {
     "status": "ok",
     "timestamp": 1694134962774,
     "user_tz": 240,
     "elapsed": 32532,
     "user": {
      "displayName": "net crowmaster",
      "userId": "14126946344391667924"
     }
    },
    "outputId": "2e99a31d-b1d9-4adf-9fc5-578e03fd1fa0"
   },
   "outputs": [
    {
     "output_type": "stream",
     "name": "stdout",
     "text": [
      "Collecting tensorflow-addons\n",
      "  Downloading tensorflow_addons-0.21.0-cp310-cp310-manylinux_2_17_x86_64.manylinux2014_x86_64.whl (612 kB)\n",
      "\u001B[2K     \u001B[90m━━━━━━━━━━━━━━━━━━━━━━━━━━━━━━━━━━━━━━━\u001B[0m \u001B[32m612.1/612.1 kB\u001B[0m \u001B[31m4.3 MB/s\u001B[0m eta \u001B[36m0:00:00\u001B[0m\n",
      "\u001B[?25hRequirement already satisfied: packaging in /usr/local/lib/python3.10/dist-packages (from tensorflow-addons) (23.1)\n",
      "Collecting typeguard<3.0.0,>=2.7 (from tensorflow-addons)\n",
      "  Downloading typeguard-2.13.3-py3-none-any.whl (17 kB)\n",
      "Installing collected packages: typeguard, tensorflow-addons\n",
      "Successfully installed tensorflow-addons-0.21.0 typeguard-2.13.3\n",
      "Requirement already satisfied: pyyaml in /usr/local/lib/python3.10/dist-packages (6.0.1)\n",
      "Requirement already satisfied: h5py in /usr/local/lib/python3.10/dist-packages (3.9.0)\n",
      "Requirement already satisfied: numpy>=1.17.3 in /usr/local/lib/python3.10/dist-packages (from h5py) (1.23.5)\n",
      "Requirement already satisfied: toolz in /usr/local/lib/python3.10/dist-packages (0.12.0)\n",
      "Collecting scikit-allel\n",
      "  Downloading scikit_allel-1.3.7-cp310-cp310-manylinux_2_17_x86_64.manylinux2014_x86_64.whl (8.1 MB)\n",
      "\u001B[2K     \u001B[90m━━━━━━━━━━━━━━━━━━━━━━━━━━━━━━━━━━━━━━━━\u001B[0m \u001B[32m8.1/8.1 MB\u001B[0m \u001B[31m18.7 MB/s\u001B[0m eta \u001B[36m0:00:00\u001B[0m\n",
      "\u001B[?25hRequirement already satisfied: numpy in /usr/local/lib/python3.10/dist-packages (from scikit-allel) (1.23.5)\n",
      "Requirement already satisfied: dask[array] in /usr/local/lib/python3.10/dist-packages (from scikit-allel) (2023.8.1)\n",
      "Requirement already satisfied: click>=8.0 in /usr/local/lib/python3.10/dist-packages (from dask[array]->scikit-allel) (8.1.7)\n",
      "Requirement already satisfied: cloudpickle>=1.5.0 in /usr/local/lib/python3.10/dist-packages (from dask[array]->scikit-allel) (2.2.1)\n",
      "Requirement already satisfied: fsspec>=2021.09.0 in /usr/local/lib/python3.10/dist-packages (from dask[array]->scikit-allel) (2023.6.0)\n",
      "Requirement already satisfied: packaging>=20.0 in /usr/local/lib/python3.10/dist-packages (from dask[array]->scikit-allel) (23.1)\n",
      "Requirement already satisfied: partd>=1.2.0 in /usr/local/lib/python3.10/dist-packages (from dask[array]->scikit-allel) (1.4.0)\n",
      "Requirement already satisfied: pyyaml>=5.3.1 in /usr/local/lib/python3.10/dist-packages (from dask[array]->scikit-allel) (6.0.1)\n",
      "Requirement already satisfied: importlib-metadata>=4.13.0 in /usr/local/lib/python3.10/dist-packages (from dask[array]->scikit-allel) (6.8.0)\n",
      "Requirement already satisfied: zipp>=0.5 in /usr/local/lib/python3.10/dist-packages (from importlib-metadata>=4.13.0->dask[array]->scikit-allel) (3.16.2)\n",
      "Requirement already satisfied: locket in /usr/local/lib/python3.10/dist-packages (from partd>=1.2.0->dask[array]->scikit-allel) (1.0.0)\n",
      "Installing collected packages: scikit-allel\n",
      "Successfully installed scikit-allel-1.3.7\n"
     ]
    }
   ],
   "source": [
    "!pip install tensorflow-addons\n",
    "!pip install pyyaml h5py\n",
    "!pip install toolz scikit-allel"
   ]
  },
  {
   "cell_type": "code",
   "execution_count": 3,
   "metadata": {
    "id": "ZWzi3Z3L5RO2",
    "colab": {
     "base_uri": "https://localhost:8080/"
    },
    "executionInfo": {
     "status": "ok",
     "timestamp": 1694134970317,
     "user_tz": 240,
     "elapsed": 7548,
     "user": {
      "displayName": "net crowmaster",
      "userId": "14126946344391667924"
     }
    },
    "outputId": "ed52164f-7505-48b9-810b-aa4a6b50a198"
   },
   "outputs": [
    {
     "output_type": "stream",
     "name": "stdout",
     "text": [
      "Tensorflow version 2.12.0\n"
     ]
    }
   ],
   "source": [
    "import numpy as np\n",
    "import tensorflow as tf\n",
    "print(\"Tensorflow version \" + tf.__version__)"
   ]
  },
  {
   "cell_type": "markdown",
   "metadata": {
    "id": "RjGOO5PdFPf7"
   },
   "source": [
    "## Setup"
   ]
  },
  {
   "cell_type": "code",
   "execution_count": 4,
   "metadata": {
    "id": "odmhCqSVFPf8",
    "colab": {
     "base_uri": "https://localhost:8080/"
    },
    "executionInfo": {
     "status": "ok",
     "timestamp": 1694134974592,
     "user_tz": 240,
     "elapsed": 4279,
     "user": {
      "displayName": "net crowmaster",
      "userId": "14126946344391667924"
     }
    },
    "outputId": "9d70a5b5-e9c2-4ad1-8f95-982b17e25dd2"
   },
   "outputs": [
    {
     "output_type": "stream",
     "name": "stderr",
     "text": [
      "/usr/local/lib/python3.10/dist-packages/tensorflow_addons/utils/tfa_eol_msg.py:23: UserWarning: \n",
      "\n",
      "TensorFlow Addons (TFA) has ended development and introduction of new features.\n",
      "TFA has entered a minimal maintenance and release mode until a planned end of life in May 2024.\n",
      "Please modify downstream libraries to take dependencies from other repositories in our TensorFlow community (e.g. Keras, Keras-CV, and Keras-NLP). \n",
      "\n",
      "For more information see: https://github.com/tensorflow/addons/issues/2807 \n",
      "\n",
      "  warnings.warn(\n"
     ]
    },
    {
     "output_type": "stream",
     "name": "stdout",
     "text": [
      "Tensorflow version 2.12.0\n"
     ]
    }
   ],
   "source": [
    "import os\n",
    "# os.environ[\"MODIN_CPUS\"] = \"8\"\n",
    "# from distributed import Client\n",
    "# client = Client()\n",
    "import numpy as np\n",
    "import math\n",
    "import re\n",
    "import itertools\n",
    "import random\n",
    "import pandas as pd\n",
    "from sklearn.model_selection import train_test_split\n",
    "from sklearn.utils import resample\n",
    "import tensorflow as tf\n",
    "from tensorflow import keras\n",
    "import tensorflow.keras.backend as K\n",
    "from tensorflow.keras import layers\n",
    "from tensorflow.keras import regularizers\n",
    "from tensorflow.keras.preprocessing.sequence import pad_sequences\n",
    "import tensorflow_addons as tfa\n",
    "from sklearn import metrics\n",
    "from sklearn.model_selection import KFold\n",
    "from tensorflow.keras.utils import to_categorical\n",
    "from tensorflow.keras import constraints\n",
    "from tensorflow.keras import initializers\n",
    "from tensorflow.keras import regularizers\n",
    "from tensorflow.keras.applications import efficientnet as efn\n",
    "from sklearn.metrics import confusion_matrix\n",
    "from sklearn.metrics import f1_score\n",
    "from tensorflow.keras.constraints import Constraint\n",
    "# import allel\n",
    "from scipy.spatial.distance import squareform\n",
    "%matplotlib inline\n",
    "from toolz import interleave\n",
    "from tqdm import tqdm\n",
    "import allel\n",
    "from scipy.spatial.distance import squareform\n",
    "from matplotlib import pyplot as plt\n",
    "import tensorflow_datasets as tfds\n",
    "from sklearn.metrics import mean_squared_error\n",
    "from sklearn.linear_model import LassoCV, ElasticNetCV\n",
    "from sklearn.model_selection import KFold,StratifiedKFold\n",
    "\n",
    "print(\"Tensorflow version \" + tf.__version__)"
   ]
  },
  {
   "cell_type": "markdown",
   "metadata": {
    "id": "SLd26RspFhaS"
   },
   "source": [
    "## Hardware Config"
   ]
  },
  {
   "cell_type": "code",
   "execution_count": 5,
   "metadata": {
    "id": "SLd7mAFgFUnR",
    "colab": {
     "base_uri": "https://localhost:8080/"
    },
    "outputId": "7fefed67-758f-46fe-9a55-431298f3077f",
    "executionInfo": {
     "status": "ok",
     "timestamp": 1694134991169,
     "user_tz": 240,
     "elapsed": 16579,
     "user": {
      "displayName": "net crowmaster",
      "userId": "14126946344391667924"
     }
    }
   },
   "outputs": [
    {
     "output_type": "stream",
     "name": "stdout",
     "text": [
      "Running on TPU  grpc://10.74.62.210:8470\n"
     ]
    },
    {
     "output_type": "stream",
     "name": "stderr",
     "text": [
      "WARNING:absl:`tf.distribute.experimental.TPUStrategy` is deprecated, please use  the non experimental symbol `tf.distribute.TPUStrategy` instead.\n"
     ]
    },
    {
     "output_type": "stream",
     "name": "stdout",
     "text": [
      "N_REPLICAS: 8\n"
     ]
    }
   ],
   "source": [
    "# Detect hardware, return appropriate distribution strategy\n",
    "try:\n",
    "    TPU = tf.distribute.cluster_resolver.TPUClusterResolver()  # TPU detection. No parameters necessary if TPU_NAME environment variable is set. On Kaggle this is always the case.\n",
    "    print('Running on TPU ', TPU.master())\n",
    "except ValueError:\n",
    "    print('Running on GPU')\n",
    "    TPU = None\n",
    "\n",
    "if TPU:\n",
    "    tf.config.experimental_connect_to_cluster(TPU)\n",
    "    tf.tpu.experimental.initialize_tpu_system(TPU)\n",
    "    strategy = tf.distribute.experimental.TPUStrategy(TPU)\n",
    "else:\n",
    "    strategy = tf.distribute.get_strategy() # default distribution strategy in Tensorflow. Works on CPU and single GPU.\n",
    "\n",
    "N_REPLICAS = strategy.num_replicas_in_sync\n",
    "# Number of computing cores, is 8 for a TPU V3-8\n",
    "print(f'N_REPLICAS: {N_REPLICAS}')"
   ]
  },
  {
   "cell_type": "markdown",
   "metadata": {
    "id": "A77GFE3xFPf8"
   },
   "source": [
    "## Prepare the data"
   ]
  },
  {
   "cell_type": "code",
   "execution_count": 6,
   "metadata": {
    "id": "j3zy8i_8FPf_",
    "executionInfo": {
     "status": "ok",
     "timestamp": 1694135006973,
     "user_tz": 240,
     "elapsed": 15807,
     "user": {
      "displayName": "net crowmaster",
      "userId": "14126946344391667924"
     }
    }
   },
   "outputs": [],
   "source": [
    "# load data\n",
    "vcf_file = '[data_dir]/HLA_recode_chr_pos.vcf'\n",
    "\n",
    "# load genotype\n",
    "genotypes = pd.read_csv(vcf_file, sep='\\t', index_col=0).iloc[:, :-1]\n",
    "\n",
    "headers = genotypes.columns[:]"
   ]
  },
  {
   "cell_type": "code",
   "execution_count": 7,
   "metadata": {
    "id": "H2LdnKzXnW0P",
    "colab": {
     "base_uri": "https://localhost:8080/",
     "height": 255
    },
    "executionInfo": {
     "status": "ok",
     "timestamp": 1694135006974,
     "user_tz": 240,
     "elapsed": 9,
     "user": {
      "displayName": "net crowmaster",
      "userId": "14126946344391667924"
     }
    },
    "outputId": "953da6c4-62d8-4dbd-88ba-4e31ea796bae"
   },
   "outputs": [
    {
     "output_type": "execute_result",
     "data": {
      "text/plain": [
       "        6_33500639 6_33500853 6_33500930 6_33501330 6_33501648 6_33501844  \\\n",
       "HG00096        0|0        0|0        0|0        0|0        0|0        0|0   \n",
       "HG00097        0|0        1|0        1|0        0|0        1|0        0|0   \n",
       "HG00099        0|0        0|1        0|0        0|0        0|0        0|0   \n",
       "HG00100        0|0        0|1        0|1        0|0        0|1        0|0   \n",
       "HG00101        0|0        1|1        1|0        0|0        1|0        0|0   \n",
       "\n",
       "        6_33503018 6_33503323 6_33503878 6_33504462  ... 6_36591755  \\\n",
       "HG00096        0|0        0|0        0|0        0|0  ...        0|0   \n",
       "HG00097        0|0        0|0        0|0        1|0  ...        0|1   \n",
       "HG00099        0|0        0|0        0|0        0|0  ...        0|1   \n",
       "HG00100        0|0        0|0        0|0        0|1  ...        0|0   \n",
       "HG00101        0|0        0|0        0|0        1|0  ...        1|0   \n",
       "\n",
       "        6_36596648 6_36596784 6_36597695 6_36597907 6_36598178 6_36598209  \\\n",
       "HG00096        0|0        0|0        0|0        0|0        0|0        0|0   \n",
       "HG00097        0|1        0|1        0|1        0|1        0|0        0|1   \n",
       "HG00099        1|1        1|1        1|1        1|1        0|0        1|1   \n",
       "HG00100        0|1        0|1        0|1        0|1        0|0        0|1   \n",
       "HG00101        1|0        1|0        1|0        1|0        0|0        1|0   \n",
       "\n",
       "        6_36598837 6_36599010 6_36599596  \n",
       "HG00096        0|0        0|0        0|0  \n",
       "HG00097        0|1        0|1        0|1  \n",
       "HG00099        1|1        1|1        1|1  \n",
       "HG00100        0|1        0|1        0|1  \n",
       "HG00101        1|0        1|0        1|0  \n",
       "\n",
       "[5 rows x 7160 columns]"
      ],
      "text/html": [
       "\n",
       "  <div id=\"df-edb76b2c-98aa-4247-8af9-3abe80d7e15a\" class=\"colab-df-container\">\n",
       "    <div>\n",
       "<style scoped>\n",
       "    .dataframe tbody tr th:only-of-type {\n",
       "        vertical-align: middle;\n",
       "    }\n",
       "\n",
       "    .dataframe tbody tr th {\n",
       "        vertical-align: top;\n",
       "    }\n",
       "\n",
       "    .dataframe thead th {\n",
       "        text-align: right;\n",
       "    }\n",
       "</style>\n",
       "<table border=\"1\" class=\"dataframe\">\n",
       "  <thead>\n",
       "    <tr style=\"text-align: right;\">\n",
       "      <th></th>\n",
       "      <th>6_33500639</th>\n",
       "      <th>6_33500853</th>\n",
       "      <th>6_33500930</th>\n",
       "      <th>6_33501330</th>\n",
       "      <th>6_33501648</th>\n",
       "      <th>6_33501844</th>\n",
       "      <th>6_33503018</th>\n",
       "      <th>6_33503323</th>\n",
       "      <th>6_33503878</th>\n",
       "      <th>6_33504462</th>\n",
       "      <th>...</th>\n",
       "      <th>6_36591755</th>\n",
       "      <th>6_36596648</th>\n",
       "      <th>6_36596784</th>\n",
       "      <th>6_36597695</th>\n",
       "      <th>6_36597907</th>\n",
       "      <th>6_36598178</th>\n",
       "      <th>6_36598209</th>\n",
       "      <th>6_36598837</th>\n",
       "      <th>6_36599010</th>\n",
       "      <th>6_36599596</th>\n",
       "    </tr>\n",
       "  </thead>\n",
       "  <tbody>\n",
       "    <tr>\n",
       "      <th>HG00096</th>\n",
       "      <td>0|0</td>\n",
       "      <td>0|0</td>\n",
       "      <td>0|0</td>\n",
       "      <td>0|0</td>\n",
       "      <td>0|0</td>\n",
       "      <td>0|0</td>\n",
       "      <td>0|0</td>\n",
       "      <td>0|0</td>\n",
       "      <td>0|0</td>\n",
       "      <td>0|0</td>\n",
       "      <td>...</td>\n",
       "      <td>0|0</td>\n",
       "      <td>0|0</td>\n",
       "      <td>0|0</td>\n",
       "      <td>0|0</td>\n",
       "      <td>0|0</td>\n",
       "      <td>0|0</td>\n",
       "      <td>0|0</td>\n",
       "      <td>0|0</td>\n",
       "      <td>0|0</td>\n",
       "      <td>0|0</td>\n",
       "    </tr>\n",
       "    <tr>\n",
       "      <th>HG00097</th>\n",
       "      <td>0|0</td>\n",
       "      <td>1|0</td>\n",
       "      <td>1|0</td>\n",
       "      <td>0|0</td>\n",
       "      <td>1|0</td>\n",
       "      <td>0|0</td>\n",
       "      <td>0|0</td>\n",
       "      <td>0|0</td>\n",
       "      <td>0|0</td>\n",
       "      <td>1|0</td>\n",
       "      <td>...</td>\n",
       "      <td>0|1</td>\n",
       "      <td>0|1</td>\n",
       "      <td>0|1</td>\n",
       "      <td>0|1</td>\n",
       "      <td>0|1</td>\n",
       "      <td>0|0</td>\n",
       "      <td>0|1</td>\n",
       "      <td>0|1</td>\n",
       "      <td>0|1</td>\n",
       "      <td>0|1</td>\n",
       "    </tr>\n",
       "    <tr>\n",
       "      <th>HG00099</th>\n",
       "      <td>0|0</td>\n",
       "      <td>0|1</td>\n",
       "      <td>0|0</td>\n",
       "      <td>0|0</td>\n",
       "      <td>0|0</td>\n",
       "      <td>0|0</td>\n",
       "      <td>0|0</td>\n",
       "      <td>0|0</td>\n",
       "      <td>0|0</td>\n",
       "      <td>0|0</td>\n",
       "      <td>...</td>\n",
       "      <td>0|1</td>\n",
       "      <td>1|1</td>\n",
       "      <td>1|1</td>\n",
       "      <td>1|1</td>\n",
       "      <td>1|1</td>\n",
       "      <td>0|0</td>\n",
       "      <td>1|1</td>\n",
       "      <td>1|1</td>\n",
       "      <td>1|1</td>\n",
       "      <td>1|1</td>\n",
       "    </tr>\n",
       "    <tr>\n",
       "      <th>HG00100</th>\n",
       "      <td>0|0</td>\n",
       "      <td>0|1</td>\n",
       "      <td>0|1</td>\n",
       "      <td>0|0</td>\n",
       "      <td>0|1</td>\n",
       "      <td>0|0</td>\n",
       "      <td>0|0</td>\n",
       "      <td>0|0</td>\n",
       "      <td>0|0</td>\n",
       "      <td>0|1</td>\n",
       "      <td>...</td>\n",
       "      <td>0|0</td>\n",
       "      <td>0|1</td>\n",
       "      <td>0|1</td>\n",
       "      <td>0|1</td>\n",
       "      <td>0|1</td>\n",
       "      <td>0|0</td>\n",
       "      <td>0|1</td>\n",
       "      <td>0|1</td>\n",
       "      <td>0|1</td>\n",
       "      <td>0|1</td>\n",
       "    </tr>\n",
       "    <tr>\n",
       "      <th>HG00101</th>\n",
       "      <td>0|0</td>\n",
       "      <td>1|1</td>\n",
       "      <td>1|0</td>\n",
       "      <td>0|0</td>\n",
       "      <td>1|0</td>\n",
       "      <td>0|0</td>\n",
       "      <td>0|0</td>\n",
       "      <td>0|0</td>\n",
       "      <td>0|0</td>\n",
       "      <td>1|0</td>\n",
       "      <td>...</td>\n",
       "      <td>1|0</td>\n",
       "      <td>1|0</td>\n",
       "      <td>1|0</td>\n",
       "      <td>1|0</td>\n",
       "      <td>1|0</td>\n",
       "      <td>0|0</td>\n",
       "      <td>1|0</td>\n",
       "      <td>1|0</td>\n",
       "      <td>1|0</td>\n",
       "      <td>1|0</td>\n",
       "    </tr>\n",
       "  </tbody>\n",
       "</table>\n",
       "<p>5 rows × 7160 columns</p>\n",
       "</div>\n",
       "    <div class=\"colab-df-buttons\">\n",
       "\n",
       "  <div class=\"colab-df-container\">\n",
       "    <button class=\"colab-df-convert\" onclick=\"convertToInteractive('df-edb76b2c-98aa-4247-8af9-3abe80d7e15a')\"\n",
       "            title=\"Convert this dataframe to an interactive table.\"\n",
       "            style=\"display:none;\">\n",
       "\n",
       "  <svg xmlns=\"http://www.w3.org/2000/svg\" height=\"24px\" viewBox=\"0 -960 960 960\">\n",
       "    <path d=\"M120-120v-720h720v720H120Zm60-500h600v-160H180v160Zm220 220h160v-160H400v160Zm0 220h160v-160H400v160ZM180-400h160v-160H180v160Zm440 0h160v-160H620v160ZM180-180h160v-160H180v160Zm440 0h160v-160H620v160Z\"/>\n",
       "  </svg>\n",
       "    </button>\n",
       "\n",
       "  <style>\n",
       "    .colab-df-container {\n",
       "      display:flex;\n",
       "      gap: 12px;\n",
       "    }\n",
       "\n",
       "    .colab-df-convert {\n",
       "      background-color: #E8F0FE;\n",
       "      border: none;\n",
       "      border-radius: 50%;\n",
       "      cursor: pointer;\n",
       "      display: none;\n",
       "      fill: #1967D2;\n",
       "      height: 32px;\n",
       "      padding: 0 0 0 0;\n",
       "      width: 32px;\n",
       "    }\n",
       "\n",
       "    .colab-df-convert:hover {\n",
       "      background-color: #E2EBFA;\n",
       "      box-shadow: 0px 1px 2px rgba(60, 64, 67, 0.3), 0px 1px 3px 1px rgba(60, 64, 67, 0.15);\n",
       "      fill: #174EA6;\n",
       "    }\n",
       "\n",
       "    .colab-df-buttons div {\n",
       "      margin-bottom: 4px;\n",
       "    }\n",
       "\n",
       "    [theme=dark] .colab-df-convert {\n",
       "      background-color: #3B4455;\n",
       "      fill: #D2E3FC;\n",
       "    }\n",
       "\n",
       "    [theme=dark] .colab-df-convert:hover {\n",
       "      background-color: #434B5C;\n",
       "      box-shadow: 0px 1px 3px 1px rgba(0, 0, 0, 0.15);\n",
       "      filter: drop-shadow(0px 1px 2px rgba(0, 0, 0, 0.3));\n",
       "      fill: #FFFFFF;\n",
       "    }\n",
       "  </style>\n",
       "\n",
       "    <script>\n",
       "      const buttonEl =\n",
       "        document.querySelector('#df-edb76b2c-98aa-4247-8af9-3abe80d7e15a button.colab-df-convert');\n",
       "      buttonEl.style.display =\n",
       "        google.colab.kernel.accessAllowed ? 'block' : 'none';\n",
       "\n",
       "      async function convertToInteractive(key) {\n",
       "        const element = document.querySelector('#df-edb76b2c-98aa-4247-8af9-3abe80d7e15a');\n",
       "        const dataTable =\n",
       "          await google.colab.kernel.invokeFunction('convertToInteractive',\n",
       "                                                    [key], {});\n",
       "        if (!dataTable) return;\n",
       "\n",
       "        const docLinkHtml = 'Like what you see? Visit the ' +\n",
       "          '<a target=\"_blank\" href=https://colab.research.google.com/notebooks/data_table.ipynb>data table notebook</a>'\n",
       "          + ' to learn more about interactive tables.';\n",
       "        element.innerHTML = '';\n",
       "        dataTable['output_type'] = 'display_data';\n",
       "        await google.colab.output.renderOutput(dataTable, element);\n",
       "        const docLink = document.createElement('div');\n",
       "        docLink.innerHTML = docLinkHtml;\n",
       "        element.appendChild(docLink);\n",
       "      }\n",
       "    </script>\n",
       "  </div>\n",
       "\n",
       "\n",
       "<div id=\"df-0c0c87d2-275d-4209-8123-d77e221e42b0\">\n",
       "  <button class=\"colab-df-quickchart\" onclick=\"quickchart('df-0c0c87d2-275d-4209-8123-d77e221e42b0')\"\n",
       "            title=\"Suggest charts.\"\n",
       "            style=\"display:none;\">\n",
       "\n",
       "<svg xmlns=\"http://www.w3.org/2000/svg\" height=\"24px\"viewBox=\"0 0 24 24\"\n",
       "     width=\"24px\">\n",
       "    <g>\n",
       "        <path d=\"M19 3H5c-1.1 0-2 .9-2 2v14c0 1.1.9 2 2 2h14c1.1 0 2-.9 2-2V5c0-1.1-.9-2-2-2zM9 17H7v-7h2v7zm4 0h-2V7h2v10zm4 0h-2v-4h2v4z\"/>\n",
       "    </g>\n",
       "</svg>\n",
       "  </button>\n",
       "\n",
       "<style>\n",
       "  .colab-df-quickchart {\n",
       "      --bg-color: #E8F0FE;\n",
       "      --fill-color: #1967D2;\n",
       "      --hover-bg-color: #E2EBFA;\n",
       "      --hover-fill-color: #174EA6;\n",
       "      --disabled-fill-color: #AAA;\n",
       "      --disabled-bg-color: #DDD;\n",
       "  }\n",
       "\n",
       "  [theme=dark] .colab-df-quickchart {\n",
       "      --bg-color: #3B4455;\n",
       "      --fill-color: #D2E3FC;\n",
       "      --hover-bg-color: #434B5C;\n",
       "      --hover-fill-color: #FFFFFF;\n",
       "      --disabled-bg-color: #3B4455;\n",
       "      --disabled-fill-color: #666;\n",
       "  }\n",
       "\n",
       "  .colab-df-quickchart {\n",
       "    background-color: var(--bg-color);\n",
       "    border: none;\n",
       "    border-radius: 50%;\n",
       "    cursor: pointer;\n",
       "    display: none;\n",
       "    fill: var(--fill-color);\n",
       "    height: 32px;\n",
       "    padding: 0;\n",
       "    width: 32px;\n",
       "  }\n",
       "\n",
       "  .colab-df-quickchart:hover {\n",
       "    background-color: var(--hover-bg-color);\n",
       "    box-shadow: 0 1px 2px rgba(60, 64, 67, 0.3), 0 1px 3px 1px rgba(60, 64, 67, 0.15);\n",
       "    fill: var(--button-hover-fill-color);\n",
       "  }\n",
       "\n",
       "  .colab-df-quickchart-complete:disabled,\n",
       "  .colab-df-quickchart-complete:disabled:hover {\n",
       "    background-color: var(--disabled-bg-color);\n",
       "    fill: var(--disabled-fill-color);\n",
       "    box-shadow: none;\n",
       "  }\n",
       "\n",
       "  .colab-df-spinner {\n",
       "    border: 2px solid var(--fill-color);\n",
       "    border-color: transparent;\n",
       "    border-bottom-color: var(--fill-color);\n",
       "    animation:\n",
       "      spin 1s steps(1) infinite;\n",
       "  }\n",
       "\n",
       "  @keyframes spin {\n",
       "    0% {\n",
       "      border-color: transparent;\n",
       "      border-bottom-color: var(--fill-color);\n",
       "      border-left-color: var(--fill-color);\n",
       "    }\n",
       "    20% {\n",
       "      border-color: transparent;\n",
       "      border-left-color: var(--fill-color);\n",
       "      border-top-color: var(--fill-color);\n",
       "    }\n",
       "    30% {\n",
       "      border-color: transparent;\n",
       "      border-left-color: var(--fill-color);\n",
       "      border-top-color: var(--fill-color);\n",
       "      border-right-color: var(--fill-color);\n",
       "    }\n",
       "    40% {\n",
       "      border-color: transparent;\n",
       "      border-right-color: var(--fill-color);\n",
       "      border-top-color: var(--fill-color);\n",
       "    }\n",
       "    60% {\n",
       "      border-color: transparent;\n",
       "      border-right-color: var(--fill-color);\n",
       "    }\n",
       "    80% {\n",
       "      border-color: transparent;\n",
       "      border-right-color: var(--fill-color);\n",
       "      border-bottom-color: var(--fill-color);\n",
       "    }\n",
       "    90% {\n",
       "      border-color: transparent;\n",
       "      border-bottom-color: var(--fill-color);\n",
       "    }\n",
       "  }\n",
       "</style>\n",
       "\n",
       "  <script>\n",
       "    async function quickchart(key) {\n",
       "      const quickchartButtonEl =\n",
       "        document.querySelector('#' + key + ' button');\n",
       "      quickchartButtonEl.disabled = true;  // To prevent multiple clicks.\n",
       "      quickchartButtonEl.classList.add('colab-df-spinner');\n",
       "      try {\n",
       "        const charts = await google.colab.kernel.invokeFunction(\n",
       "            'suggestCharts', [key], {});\n",
       "      } catch (error) {\n",
       "        console.error('Error during call to suggestCharts:', error);\n",
       "      }\n",
       "      quickchartButtonEl.classList.remove('colab-df-spinner');\n",
       "      quickchartButtonEl.classList.add('colab-df-quickchart-complete');\n",
       "    }\n",
       "    (() => {\n",
       "      let quickchartButtonEl =\n",
       "        document.querySelector('#df-0c0c87d2-275d-4209-8123-d77e221e42b0 button');\n",
       "      quickchartButtonEl.style.display =\n",
       "        google.colab.kernel.accessAllowed ? 'block' : 'none';\n",
       "    })();\n",
       "  </script>\n",
       "</div>\n",
       "\n",
       "    </div>\n",
       "  </div>\n"
      ]
     },
     "metadata": {},
     "execution_count": 7
    }
   ],
   "source": [
    "genotypes.head()"
   ]
  },
  {
   "cell_type": "code",
   "execution_count": 8,
   "metadata": {
    "id": "-gFMrUnhV80n",
    "executionInfo": {
     "status": "ok",
     "timestamp": 1694135007163,
     "user_tz": 240,
     "elapsed": 195,
     "user": {
      "displayName": "net crowmaster",
      "userId": "14126946344391667924"
     }
    }
   },
   "outputs": [],
   "source": [
    "ped_file = '[data_dir]/integrated_call_samples.20130502.ALL.ped'\n",
    "pedigree = pd.read_csv(ped_file, sep='\\t', index_col='Individual ID')"
   ]
  },
  {
   "cell_type": "code",
   "execution_count": 9,
   "metadata": {
    "id": "Zgb8Fn-EV_PU",
    "colab": {
     "base_uri": "https://localhost:8080/",
     "height": 272
    },
    "executionInfo": {
     "status": "ok",
     "timestamp": 1694135007163,
     "user_tz": 240,
     "elapsed": 8,
     "user": {
      "displayName": "net crowmaster",
      "userId": "14126946344391667924"
     }
    },
    "outputId": "8dee5e2a-20d3-49f2-bcbd-962f9b9e4a93"
   },
   "outputs": [
    {
     "output_type": "execute_result",
     "data": {
      "text/plain": [
       "              Family ID Paternal ID Maternal ID  Gender  Phenotype Population  \\\n",
       "Individual ID                                                                   \n",
       "HG00096         HG00096           0           0       1          0        GBR   \n",
       "HG00097         HG00097           0           0       2          0        GBR   \n",
       "HG00098         HG00098           0           0       1          0        GBR   \n",
       "HG00099         HG00099           0           0       2          0        GBR   \n",
       "HG00100         HG00100           0           0       2          0        GBR   \n",
       "\n",
       "              Relationship Siblings Second Order Third Order Children  \\\n",
       "Individual ID                                                           \n",
       "HG00096              unrel        0            0           0        0   \n",
       "HG00097              unrel        0            0           0        0   \n",
       "HG00098              unrel        0            0           0        0   \n",
       "HG00099              unrel        0            0           0        0   \n",
       "HG00100              unrel        0            0           0        0   \n",
       "\n",
       "              Other Comments  \n",
       "Individual ID                 \n",
       "HG00096                    0  \n",
       "HG00097                    0  \n",
       "HG00098                    0  \n",
       "HG00099                    0  \n",
       "HG00100                    0  "
      ],
      "text/html": [
       "\n",
       "  <div id=\"df-509d6741-c08a-4274-a57e-d32e9745de7b\" class=\"colab-df-container\">\n",
       "    <div>\n",
       "<style scoped>\n",
       "    .dataframe tbody tr th:only-of-type {\n",
       "        vertical-align: middle;\n",
       "    }\n",
       "\n",
       "    .dataframe tbody tr th {\n",
       "        vertical-align: top;\n",
       "    }\n",
       "\n",
       "    .dataframe thead th {\n",
       "        text-align: right;\n",
       "    }\n",
       "</style>\n",
       "<table border=\"1\" class=\"dataframe\">\n",
       "  <thead>\n",
       "    <tr style=\"text-align: right;\">\n",
       "      <th></th>\n",
       "      <th>Family ID</th>\n",
       "      <th>Paternal ID</th>\n",
       "      <th>Maternal ID</th>\n",
       "      <th>Gender</th>\n",
       "      <th>Phenotype</th>\n",
       "      <th>Population</th>\n",
       "      <th>Relationship</th>\n",
       "      <th>Siblings</th>\n",
       "      <th>Second Order</th>\n",
       "      <th>Third Order</th>\n",
       "      <th>Children</th>\n",
       "      <th>Other Comments</th>\n",
       "    </tr>\n",
       "    <tr>\n",
       "      <th>Individual ID</th>\n",
       "      <th></th>\n",
       "      <th></th>\n",
       "      <th></th>\n",
       "      <th></th>\n",
       "      <th></th>\n",
       "      <th></th>\n",
       "      <th></th>\n",
       "      <th></th>\n",
       "      <th></th>\n",
       "      <th></th>\n",
       "      <th></th>\n",
       "      <th></th>\n",
       "    </tr>\n",
       "  </thead>\n",
       "  <tbody>\n",
       "    <tr>\n",
       "      <th>HG00096</th>\n",
       "      <td>HG00096</td>\n",
       "      <td>0</td>\n",
       "      <td>0</td>\n",
       "      <td>1</td>\n",
       "      <td>0</td>\n",
       "      <td>GBR</td>\n",
       "      <td>unrel</td>\n",
       "      <td>0</td>\n",
       "      <td>0</td>\n",
       "      <td>0</td>\n",
       "      <td>0</td>\n",
       "      <td>0</td>\n",
       "    </tr>\n",
       "    <tr>\n",
       "      <th>HG00097</th>\n",
       "      <td>HG00097</td>\n",
       "      <td>0</td>\n",
       "      <td>0</td>\n",
       "      <td>2</td>\n",
       "      <td>0</td>\n",
       "      <td>GBR</td>\n",
       "      <td>unrel</td>\n",
       "      <td>0</td>\n",
       "      <td>0</td>\n",
       "      <td>0</td>\n",
       "      <td>0</td>\n",
       "      <td>0</td>\n",
       "    </tr>\n",
       "    <tr>\n",
       "      <th>HG00098</th>\n",
       "      <td>HG00098</td>\n",
       "      <td>0</td>\n",
       "      <td>0</td>\n",
       "      <td>1</td>\n",
       "      <td>0</td>\n",
       "      <td>GBR</td>\n",
       "      <td>unrel</td>\n",
       "      <td>0</td>\n",
       "      <td>0</td>\n",
       "      <td>0</td>\n",
       "      <td>0</td>\n",
       "      <td>0</td>\n",
       "    </tr>\n",
       "    <tr>\n",
       "      <th>HG00099</th>\n",
       "      <td>HG00099</td>\n",
       "      <td>0</td>\n",
       "      <td>0</td>\n",
       "      <td>2</td>\n",
       "      <td>0</td>\n",
       "      <td>GBR</td>\n",
       "      <td>unrel</td>\n",
       "      <td>0</td>\n",
       "      <td>0</td>\n",
       "      <td>0</td>\n",
       "      <td>0</td>\n",
       "      <td>0</td>\n",
       "    </tr>\n",
       "    <tr>\n",
       "      <th>HG00100</th>\n",
       "      <td>HG00100</td>\n",
       "      <td>0</td>\n",
       "      <td>0</td>\n",
       "      <td>2</td>\n",
       "      <td>0</td>\n",
       "      <td>GBR</td>\n",
       "      <td>unrel</td>\n",
       "      <td>0</td>\n",
       "      <td>0</td>\n",
       "      <td>0</td>\n",
       "      <td>0</td>\n",
       "      <td>0</td>\n",
       "    </tr>\n",
       "  </tbody>\n",
       "</table>\n",
       "</div>\n",
       "    <div class=\"colab-df-buttons\">\n",
       "\n",
       "  <div class=\"colab-df-container\">\n",
       "    <button class=\"colab-df-convert\" onclick=\"convertToInteractive('df-509d6741-c08a-4274-a57e-d32e9745de7b')\"\n",
       "            title=\"Convert this dataframe to an interactive table.\"\n",
       "            style=\"display:none;\">\n",
       "\n",
       "  <svg xmlns=\"http://www.w3.org/2000/svg\" height=\"24px\" viewBox=\"0 -960 960 960\">\n",
       "    <path d=\"M120-120v-720h720v720H120Zm60-500h600v-160H180v160Zm220 220h160v-160H400v160Zm0 220h160v-160H400v160ZM180-400h160v-160H180v160Zm440 0h160v-160H620v160ZM180-180h160v-160H180v160Zm440 0h160v-160H620v160Z\"/>\n",
       "  </svg>\n",
       "    </button>\n",
       "\n",
       "  <style>\n",
       "    .colab-df-container {\n",
       "      display:flex;\n",
       "      gap: 12px;\n",
       "    }\n",
       "\n",
       "    .colab-df-convert {\n",
       "      background-color: #E8F0FE;\n",
       "      border: none;\n",
       "      border-radius: 50%;\n",
       "      cursor: pointer;\n",
       "      display: none;\n",
       "      fill: #1967D2;\n",
       "      height: 32px;\n",
       "      padding: 0 0 0 0;\n",
       "      width: 32px;\n",
       "    }\n",
       "\n",
       "    .colab-df-convert:hover {\n",
       "      background-color: #E2EBFA;\n",
       "      box-shadow: 0px 1px 2px rgba(60, 64, 67, 0.3), 0px 1px 3px 1px rgba(60, 64, 67, 0.15);\n",
       "      fill: #174EA6;\n",
       "    }\n",
       "\n",
       "    .colab-df-buttons div {\n",
       "      margin-bottom: 4px;\n",
       "    }\n",
       "\n",
       "    [theme=dark] .colab-df-convert {\n",
       "      background-color: #3B4455;\n",
       "      fill: #D2E3FC;\n",
       "    }\n",
       "\n",
       "    [theme=dark] .colab-df-convert:hover {\n",
       "      background-color: #434B5C;\n",
       "      box-shadow: 0px 1px 3px 1px rgba(0, 0, 0, 0.15);\n",
       "      filter: drop-shadow(0px 1px 2px rgba(0, 0, 0, 0.3));\n",
       "      fill: #FFFFFF;\n",
       "    }\n",
       "  </style>\n",
       "\n",
       "    <script>\n",
       "      const buttonEl =\n",
       "        document.querySelector('#df-509d6741-c08a-4274-a57e-d32e9745de7b button.colab-df-convert');\n",
       "      buttonEl.style.display =\n",
       "        google.colab.kernel.accessAllowed ? 'block' : 'none';\n",
       "\n",
       "      async function convertToInteractive(key) {\n",
       "        const element = document.querySelector('#df-509d6741-c08a-4274-a57e-d32e9745de7b');\n",
       "        const dataTable =\n",
       "          await google.colab.kernel.invokeFunction('convertToInteractive',\n",
       "                                                    [key], {});\n",
       "        if (!dataTable) return;\n",
       "\n",
       "        const docLinkHtml = 'Like what you see? Visit the ' +\n",
       "          '<a target=\"_blank\" href=https://colab.research.google.com/notebooks/data_table.ipynb>data table notebook</a>'\n",
       "          + ' to learn more about interactive tables.';\n",
       "        element.innerHTML = '';\n",
       "        dataTable['output_type'] = 'display_data';\n",
       "        await google.colab.output.renderOutput(dataTable, element);\n",
       "        const docLink = document.createElement('div');\n",
       "        docLink.innerHTML = docLinkHtml;\n",
       "        element.appendChild(docLink);\n",
       "      }\n",
       "    </script>\n",
       "  </div>\n",
       "\n",
       "\n",
       "<div id=\"df-516f1bc6-defe-4968-9ede-a17a9cda25ab\">\n",
       "  <button class=\"colab-df-quickchart\" onclick=\"quickchart('df-516f1bc6-defe-4968-9ede-a17a9cda25ab')\"\n",
       "            title=\"Suggest charts.\"\n",
       "            style=\"display:none;\">\n",
       "\n",
       "<svg xmlns=\"http://www.w3.org/2000/svg\" height=\"24px\"viewBox=\"0 0 24 24\"\n",
       "     width=\"24px\">\n",
       "    <g>\n",
       "        <path d=\"M19 3H5c-1.1 0-2 .9-2 2v14c0 1.1.9 2 2 2h14c1.1 0 2-.9 2-2V5c0-1.1-.9-2-2-2zM9 17H7v-7h2v7zm4 0h-2V7h2v10zm4 0h-2v-4h2v4z\"/>\n",
       "    </g>\n",
       "</svg>\n",
       "  </button>\n",
       "\n",
       "<style>\n",
       "  .colab-df-quickchart {\n",
       "      --bg-color: #E8F0FE;\n",
       "      --fill-color: #1967D2;\n",
       "      --hover-bg-color: #E2EBFA;\n",
       "      --hover-fill-color: #174EA6;\n",
       "      --disabled-fill-color: #AAA;\n",
       "      --disabled-bg-color: #DDD;\n",
       "  }\n",
       "\n",
       "  [theme=dark] .colab-df-quickchart {\n",
       "      --bg-color: #3B4455;\n",
       "      --fill-color: #D2E3FC;\n",
       "      --hover-bg-color: #434B5C;\n",
       "      --hover-fill-color: #FFFFFF;\n",
       "      --disabled-bg-color: #3B4455;\n",
       "      --disabled-fill-color: #666;\n",
       "  }\n",
       "\n",
       "  .colab-df-quickchart {\n",
       "    background-color: var(--bg-color);\n",
       "    border: none;\n",
       "    border-radius: 50%;\n",
       "    cursor: pointer;\n",
       "    display: none;\n",
       "    fill: var(--fill-color);\n",
       "    height: 32px;\n",
       "    padding: 0;\n",
       "    width: 32px;\n",
       "  }\n",
       "\n",
       "  .colab-df-quickchart:hover {\n",
       "    background-color: var(--hover-bg-color);\n",
       "    box-shadow: 0 1px 2px rgba(60, 64, 67, 0.3), 0 1px 3px 1px rgba(60, 64, 67, 0.15);\n",
       "    fill: var(--button-hover-fill-color);\n",
       "  }\n",
       "\n",
       "  .colab-df-quickchart-complete:disabled,\n",
       "  .colab-df-quickchart-complete:disabled:hover {\n",
       "    background-color: var(--disabled-bg-color);\n",
       "    fill: var(--disabled-fill-color);\n",
       "    box-shadow: none;\n",
       "  }\n",
       "\n",
       "  .colab-df-spinner {\n",
       "    border: 2px solid var(--fill-color);\n",
       "    border-color: transparent;\n",
       "    border-bottom-color: var(--fill-color);\n",
       "    animation:\n",
       "      spin 1s steps(1) infinite;\n",
       "  }\n",
       "\n",
       "  @keyframes spin {\n",
       "    0% {\n",
       "      border-color: transparent;\n",
       "      border-bottom-color: var(--fill-color);\n",
       "      border-left-color: var(--fill-color);\n",
       "    }\n",
       "    20% {\n",
       "      border-color: transparent;\n",
       "      border-left-color: var(--fill-color);\n",
       "      border-top-color: var(--fill-color);\n",
       "    }\n",
       "    30% {\n",
       "      border-color: transparent;\n",
       "      border-left-color: var(--fill-color);\n",
       "      border-top-color: var(--fill-color);\n",
       "      border-right-color: var(--fill-color);\n",
       "    }\n",
       "    40% {\n",
       "      border-color: transparent;\n",
       "      border-right-color: var(--fill-color);\n",
       "      border-top-color: var(--fill-color);\n",
       "    }\n",
       "    60% {\n",
       "      border-color: transparent;\n",
       "      border-right-color: var(--fill-color);\n",
       "    }\n",
       "    80% {\n",
       "      border-color: transparent;\n",
       "      border-right-color: var(--fill-color);\n",
       "      border-bottom-color: var(--fill-color);\n",
       "    }\n",
       "    90% {\n",
       "      border-color: transparent;\n",
       "      border-bottom-color: var(--fill-color);\n",
       "    }\n",
       "  }\n",
       "</style>\n",
       "\n",
       "  <script>\n",
       "    async function quickchart(key) {\n",
       "      const quickchartButtonEl =\n",
       "        document.querySelector('#' + key + ' button');\n",
       "      quickchartButtonEl.disabled = true;  // To prevent multiple clicks.\n",
       "      quickchartButtonEl.classList.add('colab-df-spinner');\n",
       "      try {\n",
       "        const charts = await google.colab.kernel.invokeFunction(\n",
       "            'suggestCharts', [key], {});\n",
       "      } catch (error) {\n",
       "        console.error('Error during call to suggestCharts:', error);\n",
       "      }\n",
       "      quickchartButtonEl.classList.remove('colab-df-spinner');\n",
       "      quickchartButtonEl.classList.add('colab-df-quickchart-complete');\n",
       "    }\n",
       "    (() => {\n",
       "      let quickchartButtonEl =\n",
       "        document.querySelector('#df-516f1bc6-defe-4968-9ede-a17a9cda25ab button');\n",
       "      quickchartButtonEl.style.display =\n",
       "        google.colab.kernel.accessAllowed ? 'block' : 'none';\n",
       "    })();\n",
       "  </script>\n",
       "</div>\n",
       "\n",
       "    </div>\n",
       "  </div>\n"
      ]
     },
     "metadata": {},
     "execution_count": 9
    }
   ],
   "source": [
    "pedigree.head()"
   ]
  },
  {
   "cell_type": "code",
   "execution_count": 10,
   "metadata": {
    "id": "GBSfo4FlV_A_",
    "colab": {
     "base_uri": "https://localhost:8080/"
    },
    "executionInfo": {
     "status": "ok",
     "timestamp": 1694135007164,
     "user_tz": 240,
     "elapsed": 8,
     "user": {
      "displayName": "net crowmaster",
      "userId": "14126946344391667924"
     }
    },
    "outputId": "2c71a82f-dff5-4f5c-a135-32a28d9adf94"
   },
   "outputs": [
    {
     "output_type": "execute_result",
     "data": {
      "text/plain": [
       "(2504,)"
      ]
     },
     "metadata": {},
     "execution_count": 10
    }
   ],
   "source": [
    "Y_train = pedigree.loc[genotypes.index]['Population']\n",
    "Y_train.shape"
   ]
  },
  {
   "cell_type": "code",
   "execution_count": 11,
   "metadata": {
    "id": "hiP0EEwsEMNP",
    "colab": {
     "base_uri": "https://localhost:8080/"
    },
    "executionInfo": {
     "status": "ok",
     "timestamp": 1694135007605,
     "user_tz": 240,
     "elapsed": 445,
     "user": {
      "displayName": "net crowmaster",
      "userId": "14126946344391667924"
     }
    },
    "outputId": "0699562d-7b3b-47f7-92ec-34228be1db8c"
   },
   "outputs": [
    {
     "output_type": "execute_result",
     "data": {
      "text/plain": [
       "(2504, 7160)"
      ]
     },
     "metadata": {},
     "execution_count": 11
    }
   ],
   "source": [
    "X = genotypes[genotypes.index.isin(Y_train.index)]\n",
    "X.shape"
   ]
  },
  {
   "cell_type": "code",
   "execution_count": 12,
   "metadata": {
    "id": "DNU6deVHXIdE",
    "colab": {
     "base_uri": "https://localhost:8080/"
    },
    "executionInfo": {
     "status": "ok",
     "timestamp": 1694135022528,
     "user_tz": 240,
     "elapsed": 14925,
     "user": {
      "displayName": "net crowmaster",
      "userId": "14126946344391667924"
     }
    },
    "outputId": "9eb74e2e-6f3c-4dbe-ea94-23c5c94f67c5"
   },
   "outputs": [
    {
     "output_type": "execute_result",
     "data": {
      "text/plain": [
       "(2504, 7160)"
      ]
     },
     "metadata": {},
     "execution_count": 12
    }
   ],
   "source": [
    "X = X.replace({\n",
    "    '0|0': 0,\n",
    "    '0|1': 1,\n",
    "    '1|0': 2,\n",
    "    '1|1': 3\n",
    "})\n",
    "X.shape"
   ]
  },
  {
   "cell_type": "markdown",
   "source": [
    "### MAF"
   ],
   "metadata": {
    "id": "asV65bA-j1aw"
   }
  },
  {
   "cell_type": "code",
   "source": [
    "def freq_mapper(g):\n",
    "  return 0 if g == 0 else 1 if g==1 or g==2 else 2\n",
    "\n",
    "def maf_mapper(g):\n",
    "  return min(g, 1-g)"
   ],
   "metadata": {
    "id": "P4m28zGLMtXK",
    "executionInfo": {
     "status": "ok",
     "timestamp": 1694135022529,
     "user_tz": 240,
     "elapsed": 7,
     "user": {
      "displayName": "net crowmaster",
      "userId": "14126946344391667924"
     }
    }
   },
   "execution_count": 13,
   "outputs": []
  },
  {
   "cell_type": "code",
   "source": [
    "_X = X.applymap(freq_mapper)\n",
    "_X = _X.sum(axis=0)/(2*X.shape[0])\n",
    "_X"
   ],
   "metadata": {
    "id": "PoX14d2YGB8c",
    "colab": {
     "base_uri": "https://localhost:8080/"
    },
    "executionInfo": {
     "status": "ok",
     "timestamp": 1694135034014,
     "user_tz": 240,
     "elapsed": 11489,
     "user": {
      "displayName": "net crowmaster",
      "userId": "14126946344391667924"
     }
    },
    "outputId": "dc8ceb0b-ddcd-47d3-c037-f153f81a29db"
   },
   "execution_count": 14,
   "outputs": [
    {
     "output_type": "execute_result",
     "data": {
      "text/plain": [
       "6_33500639    0.072484\n",
       "6_33500853    0.507388\n",
       "6_33500930    0.098243\n",
       "6_33501330    0.075479\n",
       "6_33501648    0.098243\n",
       "                ...   \n",
       "6_36598178    0.052915\n",
       "6_36598209    0.211462\n",
       "6_36598837    0.224840\n",
       "6_36599010    0.480032\n",
       "6_36599596    0.221446\n",
       "Length: 7160, dtype: float64"
      ]
     },
     "metadata": {},
     "execution_count": 14
    }
   ]
  },
  {
   "cell_type": "code",
   "source": [
    "mafs = _X.map(maf_mapper)\n",
    "mafs"
   ],
   "metadata": {
    "id": "KaBtVvHmRL-X",
    "colab": {
     "base_uri": "https://localhost:8080/"
    },
    "executionInfo": {
     "status": "ok",
     "timestamp": 1694135034014,
     "user_tz": 240,
     "elapsed": 8,
     "user": {
      "displayName": "net crowmaster",
      "userId": "14126946344391667924"
     }
    },
    "outputId": "a85e2b32-3355-4447-c295-6b0559724bb2"
   },
   "execution_count": 15,
   "outputs": [
    {
     "output_type": "execute_result",
     "data": {
      "text/plain": [
       "6_33500639    0.072484\n",
       "6_33500853    0.492612\n",
       "6_33500930    0.098243\n",
       "6_33501330    0.075479\n",
       "6_33501648    0.098243\n",
       "                ...   \n",
       "6_36598178    0.052915\n",
       "6_36598209    0.211462\n",
       "6_36598837    0.224840\n",
       "6_36599010    0.480032\n",
       "6_36599596    0.221446\n",
       "Length: 7160, dtype: float64"
      ]
     },
     "metadata": {},
     "execution_count": 15
    }
   ]
  },
  {
   "cell_type": "code",
   "source": [
    "plt.hist(mafs, bins=[0, 0.1, 0.2, 0.3, 0.4, 0.5])"
   ],
   "metadata": {
    "id": "12UAf-X8dPBf",
    "colab": {
     "base_uri": "https://localhost:8080/",
     "height": 482
    },
    "executionInfo": {
     "status": "ok",
     "timestamp": 1694135034330,
     "user_tz": 240,
     "elapsed": 320,
     "user": {
      "displayName": "net crowmaster",
      "userId": "14126946344391667924"
     }
    },
    "outputId": "ded62d66-8d5d-474b-82d4-9752e9550ef1"
   },
   "execution_count": 16,
   "outputs": [
    {
     "output_type": "execute_result",
     "data": {
      "text/plain": [
       "(array([1762., 1946., 1297.,  917., 1238.]),\n",
       " array([0. , 0.1, 0.2, 0.3, 0.4, 0.5]),\n",
       " <BarContainer object of 5 artists>)"
      ]
     },
     "metadata": {},
     "execution_count": 16
    },
    {
     "output_type": "display_data",
     "data": {
      "text/plain": [
       "<Figure size 640x480 with 1 Axes>"
      ],
      "image/png": "[encoded data removed]"
     },
     "metadata": {}
    }
   ]
  },
  {
   "cell_type": "code",
   "source": [
    "bin_labels = np.digitize(mafs, bins=[0, 0.1, 0.2, 0.3, 0.4, 0.5], right=True)\n",
    "bin_general_labels, bin_counts = np.unique(bin_labels, return_counts=True)\n",
    "bin_general_labels, bin_counts"
   ],
   "metadata": {
    "id": "gWiEzZuzeABb",
    "colab": {
     "base_uri": "https://localhost:8080/"
    },
    "executionInfo": {
     "status": "ok",
     "timestamp": 1694135034331,
     "user_tz": 240,
     "elapsed": 10,
     "user": {
      "displayName": "net crowmaster",
      "userId": "14126946344391667924"
     }
    },
    "outputId": "84d7eb11-856a-4fae-b54c-e7ed79bc2ebb"
   },
   "execution_count": 17,
   "outputs": [
    {
     "output_type": "execute_result",
     "data": {
      "text/plain": [
       "(array([1, 2, 3, 4, 5]), array([1762, 1946, 1297,  917, 1238]))"
      ]
     },
     "metadata": {},
     "execution_count": 17
    }
   ]
  },
  {
   "cell_type": "code",
   "execution_count": 18,
   "metadata": {
    "id": "rFpb329KbMae",
    "executionInfo": {
     "status": "ok",
     "timestamp": 1694135034331,
     "user_tz": 240,
     "elapsed": 7,
     "user": {
      "displayName": "net crowmaster",
      "userId": "14126946344391667924"
     }
    }
   },
   "outputs": [],
   "source": [
    "# X = to_categorical(X, 4)"
   ]
  },
  {
   "cell_type": "code",
   "execution_count": 19,
   "metadata": {
    "id": "_pZoO-FvKdr3",
    "executionInfo": {
     "status": "ok",
     "timestamp": 1694135034332,
     "user_tz": 240,
     "elapsed": 7,
     "user": {
      "displayName": "net crowmaster",
      "userId": "14126946344391667924"
     }
    }
   },
   "outputs": [],
   "source": [
    "# hyperparameters\n",
    "feature_size = X.shape[1]\n",
    "inChannel = 3\n",
    "learning_rate = 1e-2\n",
    "weight_decay = 0.00001\n",
    "embed_dim = 64  # Embedding size for each token\n",
    "num_heads = 8 # Number of attention heads\n",
    "ff_dim = 32  # Hidden layer size in feed forward network inside transformer\n",
    "regularization_coef_l1 = 1e-4\n",
    "dropout_rate = 0.25\n",
    "chunk_size = 1000\n",
    "flanking_region_range = chunk_size*2"
   ]
  },
  {
   "cell_type": "markdown",
   "metadata": {
    "id": "LtSxW2eMOOCU"
   },
   "source": [
    "## Convert to tensorflow dataset"
   ]
  },
  {
   "cell_type": "code",
   "source": [
    "@tf.function()\n",
    "def add_attention_mask(X_sample, y_sample):\n",
    "  depth = 3\n",
    "  mask_size = tf.cast(X_sample.shape[0]*0.5, dtype=tf.int64)\n",
    "  mask_idx = tf.reshape(tf.random.shuffle(tf.range(X_sample.shape[0]))[:mask_size], (-1, 1))\n",
    "  updates = tf.math.add(tf.ones(shape=(mask_idx.shape[0]), dtype=tf.int64), 1)\n",
    "  X_masked = tf.tensor_scatter_nd_update(X_sample, mask_idx, updates)\n",
    "\n",
    "  return tf.one_hot(X_masked, depth), tf.one_hot(y_sample, depth-1)"
   ],
   "metadata": {
    "id": "4QWNbgwknQLF",
    "executionInfo": {
     "status": "ok",
     "timestamp": 1694135034488,
     "user_tz": 240,
     "elapsed": 162,
     "user": {
      "displayName": "net crowmaster",
      "userId": "14126946344391667924"
     }
    }
   },
   "execution_count": 20,
   "outputs": []
  },
  {
   "cell_type": "code",
   "execution_count": 21,
   "metadata": {
    "id": "SlyxYCy96H7V",
    "executionInfo": {
     "status": "ok",
     "timestamp": 1694135034489,
     "user_tz": 240,
     "elapsed": 11,
     "user": {
      "displayName": "net crowmaster",
      "userId": "14126946344391667924"
     }
    }
   },
   "outputs": [],
   "source": [
    "def map_values_1(x):\n",
    "  return 0 if (x == 0 or x == 1) else 1\n",
    "\n",
    "def map_values_2(x):\n",
    "  return 0 if (x == 0 or x == 2) else 1\n",
    "\n",
    "def get_dataset(x, chunk_start, chunk_end, start_offset, end_offset, batch_size, training=True):\n",
    "  AUTO = tf.data.AUTOTUNE\n",
    "\n",
    "  _x = np.empty((x.shape[0] * 2, chunk_end-chunk_start), dtype=x.dtype)\n",
    "\n",
    "  map_values_1_vec = np.vectorize(map_values_1)\n",
    "  map_values_2_vec = np.vectorize(map_values_2)\n",
    "\n",
    "  _x[0::2] = map_values_1_vec(x[:, chunk_start:chunk_end])\n",
    "  _x[1::2] = map_values_2_vec(x[:, chunk_start:chunk_end])\n",
    "  new_chunk_end = _x.shape[1]\n",
    "\n",
    "\n",
    "  dataset = tf.data.Dataset.from_tensor_slices((_x,\n",
    "                                                _x[:, start_offset:new_chunk_end-end_offset]))\n",
    "\n",
    "  if training:\n",
    "    dataset = dataset.shuffle(_x.shape[0], reshuffle_each_iteration=True)\n",
    "    dataset = dataset.repeat()\n",
    "\n",
    "  # Add Attention Mask\n",
    "  dataset = dataset.map(add_attention_mask, num_parallel_calls=AUTO, deterministic=False)\n",
    "\n",
    "  # Prefetech to not map the whole dataset\n",
    "  dataset = dataset.prefetch(AUTO)\n",
    "\n",
    "  dataset = dataset.batch(batch_size, drop_remainder=training, num_parallel_calls=AUTO)\n",
    "\n",
    "  return dataset"
   ]
  },
  {
   "cell_type": "markdown",
   "metadata": {
    "id": "NpRUjMp_L914"
   },
   "source": [
    "## Custom Layers"
   ]
  },
  {
   "cell_type": "code",
   "execution_count": 22,
   "metadata": {
    "id": "9h9OjeMZ8_XU",
    "executionInfo": {
     "status": "ok",
     "timestamp": 1694135034489,
     "user_tz": 240,
     "elapsed": 11,
     "user": {
      "displayName": "net crowmaster",
      "userId": "14126946344391667924"
     }
    }
   },
   "outputs": [],
   "source": [
    "class SharedNet(tf.keras.Model):\n",
    "    def __init__(self, conv1_n_filters, conv2_n_filters, conv1_kernel_size, conv2_kernel_size, fc_len, start_offset, end_offset, n_features_out):\n",
    "        super(SharedNet, self).__init__()\n",
    "        self.fc_len = fc_len\n",
    "        self.start_offset = start_offset\n",
    "        self.end_offset = end_offset\n",
    "        self.n_features_out = n_features_out\n",
    "        self.conv1 = layers.Conv1D(conv1_n_filters, kernel_size=conv1_kernel_size, strides=1, padding='same', activation=tf.nn.relu)\n",
    "        self.pool1 = layers.MaxPooling1D(2)\n",
    "        self.bn1 = layers.BatchNormalization()\n",
    "        self.do1 = layers.Dropout(0.5)\n",
    "        self.conv2 = layers.Conv1D(conv2_n_filters, kernel_size=conv2_kernel_size, strides=1, padding='same', activation=tf.nn.relu)\n",
    "        self.pool2 = layers.MaxPooling1D(2)\n",
    "        self.bn2 = layers.BatchNormalization()\n",
    "        self.do2 = layers.Dropout(0.5)\n",
    "        # self.flatten = layers.Flatten()\n",
    "        self.fc1 = layers.Dense(4*(inChannel-1), activation=tf.nn.relu)\n",
    "        self.reshape = layers.Reshape((-1, inChannel-1))\n",
    "        # self.fc1 = layers.Dense(inChannel-1, activation=tf.nn.relu)\n",
    "\n",
    "    def build(self, input_shape):\n",
    "      self.input_len = input_shape[1]\n",
    "      # self.reshape = layers.Reshape((self.input_len, self.fc_len))\n",
    "      # super(SharedNet, self).build(input_shape)\n",
    "\n",
    "    def call(self, inputs):\n",
    "        x = self.conv1(inputs)\n",
    "        x = self.bn1(x)\n",
    "        x = self.pool1(x)\n",
    "        x = self.conv2(x)\n",
    "        x = self.bn2(x)\n",
    "        x = self.pool2(x)\n",
    "        # x = self.flatten(x)\n",
    "        x = self.fc1(x)\n",
    "        x = self.reshape(x)\n",
    "        return x[:, self.start_offset:self.input_len-self.end_offset,]\n",
    "\n",
    "\n",
    "class EachNet(tf.keras.Model):\n",
    "    def __init__(self, num_classes):\n",
    "        super(EachNet, self).__init__()\n",
    "        self.fc1 = layers.Dense(num_classes, activation=tf.nn.softmax)\n",
    "        self.dropout = tf.keras.layers.Dropout(0.5)\n",
    "\n",
    "    def call(self, inputs):\n",
    "        x = self.dropout(inputs)\n",
    "        x = self.fc1(x)\n",
    "        return x"
   ]
  },
  {
   "cell_type": "markdown",
   "metadata": {
    "id": "waFVuh7DMCkM"
   },
   "source": [
    "## Modules"
   ]
  },
  {
   "cell_type": "code",
   "execution_count": 23,
   "metadata": {
    "id": "7FgZf0fOb5yG",
    "executionInfo": {
     "status": "ok",
     "timestamp": 1694135034489,
     "user_tz": 240,
     "elapsed": 10,
     "user": {
      "displayName": "net crowmaster",
      "userId": "14126946344391667924"
     }
    }
   },
   "outputs": [],
   "source": [
    "def chunk_module(conv1_n_filters, conv2_n_filters,\n",
    "                conv1_kernel_size, conv2_kernel_size,\n",
    "                input_len, inChannel, fc_len=256,\n",
    "                start_offset=0, end_offset=0):\n",
    "  inputs = layers.Input(shape=(input_len, inChannel))\n",
    "  n_features_out = input_len - start_offset - end_offset\n",
    "  xa = SharedNet(conv1_n_filters, conv2_n_filters, conv1_kernel_size, conv2_kernel_size, fc_len, start_offset, end_offset, n_features_out)(inputs)\n",
    "  xa_out1 = EachNet(inChannel-1)(xa)\n",
    "\n",
    "  model = keras.Model(inputs=inputs, outputs=xa_out1)\n",
    "  return model"
   ]
  },
  {
   "cell_type": "code",
   "execution_count": 24,
   "metadata": {
    "id": "VIpx08HJcs-G",
    "executionInfo": {
     "status": "ok",
     "timestamp": 1694135034490,
     "user_tz": 240,
     "elapsed": 11,
     "user": {
      "displayName": "net crowmaster",
      "userId": "14126946344391667924"
     }
    }
   },
   "outputs": [],
   "source": [
    "# temp_model = chunk_module(256, 128,\n",
    "#                 128, 128,\n",
    "#                 1500, 3, 256,\n",
    "#                 start_offset=500, end_offset=500)\n",
    "# temp_model.build((1, 1500, inChannel))\n",
    "# temp_model.summary()\n",
    "\n",
    "# tf.keras.utils.plot_model(temp_model, show_shapes=True,\n",
    "#                                         expand_nested=True)"
   ]
  },
  {
   "cell_type": "code",
   "execution_count": 25,
   "metadata": {
    "id": "sD7WOyyoNYGv",
    "colab": {
     "base_uri": "https://localhost:8080/"
    },
    "executionInfo": {
     "status": "ok",
     "timestamp": 1694135034490,
     "user_tz": 240,
     "elapsed": 10,
     "user": {
      "displayName": "net crowmaster",
      "userId": "14126946344391667924"
     }
    },
    "outputId": "faf14a64-5f39-4207-d979-1c5ab655a6a8"
   },
   "outputs": [
    {
     "output_type": "execute_result",
     "data": {
      "text/plain": [
       "26"
      ]
     },
     "metadata": {},
     "execution_count": 25
    }
   ],
   "source": [
    "num_classes = len(np.unique(Y_train))\n",
    "num_classes"
   ]
  },
  {
   "cell_type": "markdown",
   "metadata": {
    "id": "OCkow4q5MJk_"
   },
   "source": [
    "## Model"
   ]
  },
  {
   "cell_type": "code",
   "execution_count": 26,
   "metadata": {
    "id": "vgGz9_6u8u-O",
    "executionInfo": {
     "status": "ok",
     "timestamp": 1694135034490,
     "user_tz": 240,
     "elapsed": 6,
     "user": {
      "displayName": "net crowmaster",
      "userId": "14126946344391667924"
     }
    }
   },
   "outputs": [],
   "source": [
    "class DEEP_HLA(keras.Model):\n",
    "  def __init__(\n",
    "      self, in_channel,\n",
    "      conv1_n_filters, conv2_n_filters,\n",
    "      conv1_kernel_size, conv2_kernel_size,\n",
    "      chunk_size=chunk_size,\n",
    "      activation=tf.nn.relu,\n",
    "      dropout_rate=0.5,\n",
    "      flanking_region_range=flanking_region_range):\n",
    "    super(DEEP_HLA, self).__init__()\n",
    "    self.in_channel = in_channel\n",
    "    self.embed_dim = embed_dim\n",
    "    self.conv1_n_filters = conv1_n_filters\n",
    "    self.conv2_n_filters = conv2_n_filters\n",
    "    self.conv1_kernel_size = conv1_kernel_size\n",
    "    self.conv2_kernel_size = conv2_kernel_size\n",
    "    self.chunk_size = chunk_size\n",
    "    self.activation = activation\n",
    "    self.dropout_rate = dropout_rate\n",
    "    self.flanking_region_range = flanking_region_range\n",
    "\n",
    "  def build(self, input_shape):\n",
    "    self.chunk_starts = list(range(0, input_shape[1], self.chunk_size))\n",
    "    self.chunk_ends = []\n",
    "    for cs in self.chunk_starts:\n",
    "      self.chunk_ends.append(min(cs+self.chunk_size, input_shape[1]))\n",
    "    self.mask_starts = [max(0, cs-self.flanking_region_range) for cs in self.chunk_starts]\n",
    "    self.mask_ends = [min(ce+self.flanking_region_range, input_shape[1]) for ce in self.chunk_ends]\n",
    "    self.chunkers = [chunk_module(self.conv1_n_filters, self.conv2_n_filters,\n",
    "                                  self.conv1_kernel_size, self.conv2_kernel_size,\n",
    "                                  self.mask_ends[i] - self.mask_starts[i],\n",
    "                                  self.in_channel,\n",
    "                                  start_offset=cs - self.mask_starts[i],\n",
    "                                  end_offset=self.mask_ends[i]-self.chunk_ends[i]) for i,cs in enumerate(self.chunk_starts)]\n",
    "    self.concat_layer = layers.Concatenate(axis=-2)\n",
    "    super(DEEP_HLA, self).build(input_shape)\n",
    "\n",
    "\n",
    "  def call(self, inputs):\n",
    "    chunks = [self.chunkers[i](inputs[:, self.mask_starts[i]:self.mask_ends[i]]) for i, chunker in enumerate(self.chunkers)]\n",
    "    y = self.concat_layer(chunks)\n",
    "    return y\n"
   ]
  },
  {
   "cell_type": "code",
   "execution_count": 27,
   "metadata": {
    "id": "61EgnuNmoFLT",
    "executionInfo": {
     "status": "ok",
     "timestamp": 1694135034490,
     "user_tz": 240,
     "elapsed": 6,
     "user": {
      "displayName": "net crowmaster",
      "userId": "14126946344391667924"
     }
    }
   },
   "outputs": [],
   "source": [
    "METRIC = \"val_loss\"\n",
    "\n",
    "def create_callbacks(kfold=0, metric = METRIC):\n",
    "\n",
    "    reducelr = tf.keras.callbacks.ReduceLROnPlateau(\n",
    "        monitor= metric,\n",
    "        mode='auto',\n",
    "        factor=0.5,\n",
    "        patience=5,\n",
    "        verbose=0\n",
    "    )\n",
    "\n",
    "    earlystop = tf.keras.callbacks.EarlyStopping(\n",
    "        monitor= metric,\n",
    "        mode='auto',\n",
    "        patience= 20,\n",
    "        verbose=1,\n",
    "        restore_best_weights=True\n",
    "    )\n",
    "\n",
    "    callbacks = [\n",
    "                 reducelr,\n",
    "                 earlystop]\n",
    "\n",
    "    return callbacks"
   ]
  },
  {
   "cell_type": "code",
   "execution_count": 28,
   "metadata": {
    "id": "bWFbNNF4i4HD",
    "executionInfo": {
     "status": "ok",
     "timestamp": 1694135034491,
     "user_tz": 240,
     "elapsed": 6,
     "user": {
      "displayName": "net crowmaster",
      "userId": "14126946344391667924"
     }
    }
   },
   "outputs": [],
   "source": [
    "def create_model(base_dim = 256):\n",
    "  model =  DEEP_HLA(in_channel=inChannel,\n",
    "      conv1_n_filters=base_dim, conv2_n_filters=base_dim//2,\n",
    "      conv1_kernel_size=base_dim//2, conv2_kernel_size=base_dim//2)\n",
    "  optimizer = tfa.optimizers.LAMB(learning_rate=learning_rate)\n",
    "  model.compile(optimizer, loss='categorical_crossentropy', metrics=tf.keras.metrics.CategoricalAccuracy())\n",
    "  return model"
   ]
  },
  {
   "cell_type": "code",
   "source": [
    "temp_model = create_model()\n",
    "temp_model.build((1, feature_size, inChannel))\n",
    "temp_model.summary()"
   ],
   "metadata": {
    "id": "6rJSJJ78JkfQ",
    "colab": {
     "base_uri": "https://localhost:8080/"
    },
    "executionInfo": {
     "status": "ok",
     "timestamp": 1694135036959,
     "user_tz": 240,
     "elapsed": 2474,
     "user": {
      "displayName": "net crowmaster",
      "userId": "14126946344391667924"
     }
    },
    "outputId": "06589ebc-f062-4716-8304-cfdc6ae31517"
   },
   "execution_count": 29,
   "outputs": [
    {
     "output_type": "stream",
     "name": "stdout",
     "text": [
      "Model: \"deep_hla\"\n",
      "_________________________________________________________________\n",
      " Layer (type)                Output Shape              Param #   \n",
      "=================================================================\n",
      " model (Functional)          (None, 1000, 2)           4295566   \n",
      "                                                                 \n",
      " model_1 (Functional)        (None, 1000, 2)           4295566   \n",
      "                                                                 \n",
      " model_2 (Functional)        (None, 1000, 2)           4295566   \n",
      "                                                                 \n",
      " model_3 (Functional)        (None, 1000, 2)           4295566   \n",
      "                                                                 \n",
      " model_4 (Functional)        (None, 1000, 2)           4295566   \n",
      "                                                                 \n",
      " model_5 (Functional)        (None, 1000, 2)           4295566   \n",
      "                                                                 \n",
      " model_6 (Functional)        (None, 1000, 2)           4295566   \n",
      "                                                                 \n",
      " model_7 (Functional)        (None, 160, 2)            4295566   \n",
      "                                                                 \n",
      " concatenate (Concatenate)   multiple                  0         \n",
      "                                                                 \n",
      "=================================================================\n",
      "Total params: 34,364,528\n",
      "Trainable params: 34,358,384\n",
      "Non-trainable params: 6,144\n",
      "_________________________________________________________________\n"
     ]
    }
   ]
  },
  {
   "cell_type": "code",
   "execution_count": 30,
   "metadata": {
    "id": "Mv32H3-y75Fo",
    "executionInfo": {
     "status": "ok",
     "timestamp": 1694135036959,
     "user_tz": 240,
     "elapsed": 8,
     "user": {
      "displayName": "net crowmaster",
      "userId": "14126946344391667924"
     }
    }
   },
   "outputs": [],
   "source": [
    "def get_three_sets(x, y, random_state, population_label, missing_perc):\n",
    "  np.random.seed(seed=random_state)\n",
    "  _x = x[x.index.isin(y.index)].to_numpy()\n",
    "  _y = y.to_numpy()\n",
    "  x_train, x_test, y_train, y_test = train_test_split(_x, _y, test_size=0.20,\n",
    "                                        random_state=random_state,\n",
    "                                        shuffle=True,\n",
    "                                        stratify=_y,)\n",
    "  train_indices, test_indices = train_test_split(y.index, test_size=0.20,\n",
    "                                        random_state=random_state,\n",
    "                                        shuffle=True,\n",
    "                                        stratify=_y,)\n",
    "  return x_train, y_train, (x_test, y_test), test_indices\n"
   ]
  },
  {
   "cell_type": "code",
   "execution_count": 31,
   "metadata": {
    "id": "5CVnIE7HK63r",
    "colab": {
     "base_uri": "https://localhost:8080/"
    },
    "executionInfo": {
     "status": "ok",
     "timestamp": 1694135036959,
     "user_tz": 240,
     "elapsed": 7,
     "user": {
      "displayName": "net crowmaster",
      "userId": "14126946344391667924"
     }
    },
    "outputId": "0a92e394-07d8-419c-a1c4-1e95fc4d7bb5"
   },
   "outputs": [
    {
     "output_type": "execute_result",
     "data": {
      "text/plain": [
       "array(['ACB', 'ASW', 'BEB', 'CDX', 'CEU', 'CHB', 'CHS', 'CLM', 'ESN',\n",
       "       'FIN', 'GBR', 'GIH', 'GWD', 'IBS', 'ITU', 'JPT', 'KHV', 'LWK',\n",
       "       'MSL', 'MXL', 'PEL', 'PJL', 'PUR', 'STU', 'TSI', 'YRI'],\n",
       "      dtype=object)"
      ]
     },
     "metadata": {},
     "execution_count": 31
    }
   ],
   "source": [
    "np.unique(Y_train.values)"
   ]
  },
  {
   "cell_type": "markdown",
   "metadata": {
    "id": "TOA_NexzN5Qq"
   },
   "source": [
    "## Training"
   ]
  },
  {
   "cell_type": "code",
   "source": [
    "save_dir = \"[save_dir]\"\n",
    "\n",
    "if not os.path.exists(save_dir):\n",
    "  # shutil.rmtree(save_dir)\n",
    "  os.makedirs(save_dir)"
   ],
   "metadata": {
    "id": "HVk8mOl5MhY6",
    "executionInfo": {
     "status": "ok",
     "timestamp": 1694135037273,
     "user_tz": 240,
     "elapsed": 316,
     "user": {
      "displayName": "net crowmaster",
      "userId": "14126946344391667924"
     }
    }
   },
   "execution_count": 32,
   "outputs": []
  },
  {
   "cell_type": "code",
   "execution_count": 33,
   "metadata": {
    "id": "Ey5lpPElXlUd",
    "colab": {
     "base_uri": "https://localhost:8080/"
    },
    "executionInfo": {
     "status": "ok",
     "timestamp": 1694135037273,
     "user_tz": 240,
     "elapsed": 7,
     "user": {
      "displayName": "net crowmaster",
      "userId": "14126946344391667924"
     }
    },
    "outputId": "3088f0d0-42c8-4616-b340-f3fc50a18580"
   },
   "outputs": [
    {
     "output_type": "execute_result",
     "data": {
      "text/plain": [
       "16"
      ]
     },
     "metadata": {},
     "execution_count": 33
    }
   ],
   "source": [
    "# A TPU V3-8 has 8 computing cores, the global batch size will be 1/16 x 8 = 8/128\n",
    "BATCH_SIZE_BASE = 2\n",
    "# Training configuration\n",
    "BATCH_SIZE = BATCH_SIZE_BASE * N_REPLICAS if TPU else 5\n",
    "BATCH_SIZE"
   ]
  },
  {
   "cell_type": "markdown",
   "source": [
    "## Timing test"
   ],
   "metadata": {
    "collapsed": false
   }
  },
  {
   "cell_type": "code",
   "source": [
    "# With constraint\n",
    "missing_perc = 0.1\n",
    "N_SPLITS=3\n",
    "NUM_EPOCHS = 1000\n",
    "accuracies = []\n",
    "results = None\n",
    "kf = KFold(n_splits=N_SPLITS, shuffle=True, random_state=2022)\n",
    "fold = 0\n",
    "_x = X[X.index.isin(Y_train.index)].to_numpy()\n",
    "_y = Y_train.to_numpy()\n",
    "for train_index, test_index in kf.split(_x):\n",
    "  fold += 1\n",
    "  if fold != 1:\n",
    "    continue\n",
    "\n",
    "  print(f\"Training using fold {fold}\")\n",
    "\n",
    "  x_train, y_train, test_dataset, test_indices = _x[train_index], _y[train_index], (_x[test_index], _y[test_index]),Y_train.index[test_index]\n",
    "  x_train, x_valid, y_train, y_valid = train_test_split(x_train, y_train, test_size=0.10,\n",
    "                                      random_state=fold,\n",
    "                                      shuffle=True)\n",
    "\n",
    "  steps_per_epoch = 2*x_train.shape[0]//BATCH_SIZE\n",
    "  validation_steps = 2*x_valid.shape[0]//BATCH_SIZE\n",
    "  train_dataset = get_dataset(x_train, 0, feature_size, 0, 0, BATCH_SIZE)\n",
    "  valid_dataset = get_dataset(x_valid, 0, feature_size, 0, 0, BATCH_SIZE, training=False)\n",
    "\n",
    "  K.clear_session()\n",
    "  callbacks = create_callbacks()\n",
    "  with strategy.scope():\n",
    "    model = create_model()\n",
    "    history = model.fit(train_dataset, steps_per_epoch=steps_per_epoch, epochs=1,\n",
    "            validation_data=valid_dataset,\n",
    "            validation_steps=validation_steps,\n",
    "            callbacks=callbacks, verbose=2)\n",
    "  for missing_perc in [\n",
    "                         0.01, 0.05,\n",
    "                         0.1,\n",
    "                         0.2\n",
    "                         ]:\n",
    "    save_name = save_dir + f\"preds_mixed_mr_{missing_perc}_fold_{fold}_probs\"\n",
    "    avg_accuracy = []\n",
    "    preds = []\n",
    "    true_labels = []\n",
    "\n",
    "    # to_save_array = np.zeros((test_dataset[0].shape[0], test_dataset[0].shape[1]), dtype=object)\n",
    "    test_X_missing = np.empty((test_dataset[0].shape[0] * 2, test_dataset[0].shape[1]), dtype=test_dataset[0].dtype)\n",
    "    map_values_1_vec = np.vectorize(map_values_1)\n",
    "    map_values_2_vec = np.vectorize(map_values_2)\n",
    "    test_X_missing[0::2] = map_values_1_vec(test_dataset[0])\n",
    "    test_X_missing[1::2] = map_values_2_vec(test_dataset[0])\n",
    "    test_X_missing = to_categorical(test_X_missing, 3)\n",
    "\n",
    "    for i in tqdm(range(test_dataset[0].shape[0])):\n",
    "      missing_index, _ = train_test_split(np.arange(x_train.shape[1]), train_size=missing_perc,\n",
    "                                    random_state=i + fold,\n",
    "                                    shuffle=True,\n",
    "                                    stratify=bin_labels)\n",
    "      test_X_missing[i*2:(i+1)*2, missing_index, :] = [0, 0, 1]\n",
    "      # mMask = np.tile(attention_mask, (1, 1, 1))\n",
    "      # predict\n",
    "    predict_onehot = model.predict(test_X_missing, verbose=1)\n"
   ],
   "metadata": {
    "colab": {
     "base_uri": "https://localhost:8080/"
    },
    "id": "6bEMgFDmThEq",
    "executionInfo": {
     "status": "ok",
     "timestamp": 1694135247123,
     "user_tz": 240,
     "elapsed": 209853,
     "user": {
      "displayName": "net crowmaster",
      "userId": "14126946344391667924"
     }
    },
    "outputId": "e6148be1-19de-49e1-c304-a5990263e3cc"
   },
   "execution_count": 34,
   "outputs": [
    {
     "output_type": "stream",
     "name": "stdout",
     "text": [
      "Training using fold 1\n",
      "187/187 - 121s - loss: 0.4711 - categorical_accuracy: 0.7459 - val_loss: 0.7797 - val_categorical_accuracy: 0.4881 - lr: 0.0100 - 121s/epoch - 649ms/step\n"
     ]
    },
    {
     "output_type": "stream",
     "name": "stderr",
     "text": [
      "100%|██████████| 835/835 [00:02<00:00, 337.26it/s]\n"
     ]
    },
    {
     "output_type": "stream",
     "name": "stdout",
     "text": [
      "53/53 [==============================] - 33s 587ms/step\n"
     ]
    },
    {
     "output_type": "stream",
     "name": "stderr",
     "text": [
      "100%|██████████| 835/835 [00:02<00:00, 294.79it/s]\n"
     ]
    },
    {
     "output_type": "stream",
     "name": "stdout",
     "text": [
      "53/53 [==============================] - 4s 59ms/step\n"
     ]
    },
    {
     "output_type": "stream",
     "name": "stderr",
     "text": [
      "100%|██████████| 835/835 [00:04<00:00, 182.47it/s]\n"
     ]
    },
    {
     "output_type": "stream",
     "name": "stdout",
     "text": [
      "53/53 [==============================] - 4s 58ms/step\n"
     ]
    },
    {
     "output_type": "stream",
     "name": "stderr",
     "text": [
      "100%|██████████| 835/835 [00:02<00:00, 314.56it/s]\n"
     ]
    },
    {
     "output_type": "stream",
     "name": "stdout",
     "text": [
      "53/53 [==============================] - 4s 60ms/step\n"
     ]
    }
   ]
  },
  {
   "cell_type": "markdown",
   "source": [
    "## Training loop"
   ],
   "metadata": {
    "collapsed": false
   }
  },
  {
   "cell_type": "code",
   "source": [
    "# With constraint\n",
    "missing_perc = 0.1\n",
    "N_SPLITS=3\n",
    "NUM_EPOCHS = 1000\n",
    "accuracies = []\n",
    "results = None\n",
    "kf = KFold(n_splits=N_SPLITS, shuffle=True, random_state=2022)\n",
    "fold = 0\n",
    "_x = X[X.index.isin(Y_train.index)].to_numpy()\n",
    "_y = Y_train.to_numpy()\n",
    "for train_index, test_index in kf.split(_x):\n",
    "  fold += 1\n",
    "  # if fold != 3:\n",
    "  #   continue\n",
    "\n",
    "  print(f\"Training using fold {fold}\")\n",
    "\n",
    "  x_train, y_train, test_dataset, test_indices = _x[train_index], _y[train_index], (_x[test_index], _y[test_index]),Y_train.index[test_index]\n",
    "  x_train, x_valid, y_train, y_valid = train_test_split(x_train, y_train, test_size=0.10,\n",
    "                                      random_state=fold,\n",
    "                                      shuffle=True)\n",
    "\n",
    "  steps_per_epoch = 2*x_train.shape[0]//BATCH_SIZE\n",
    "  validation_steps = 2*x_valid.shape[0]//BATCH_SIZE\n",
    "  train_dataset = get_dataset(x_train, 0, feature_size, 0, 0, BATCH_SIZE)\n",
    "  valid_dataset = get_dataset(x_valid, 0, feature_size, 0, 0, BATCH_SIZE, training=False)\n",
    "\n",
    "  K.clear_session()\n",
    "  callbacks = create_callbacks()\n",
    "  with strategy.scope():\n",
    "    model = create_model()\n",
    "    history = model.fit(train_dataset, steps_per_epoch=steps_per_epoch, epochs=NUM_EPOCHS,\n",
    "            validation_data=valid_dataset,\n",
    "            validation_steps=validation_steps,\n",
    "            callbacks=callbacks, verbose=2)\n",
    "  for missing_perc in [\n",
    "                         0.01, 0.05,\n",
    "                         0.1,\n",
    "                         0.2\n",
    "                         ]:\n",
    "    save_name = save_dir + f\"preds_mixed_mr_{missing_perc}_fold_{fold}_probs\"\n",
    "    avg_accuracy = []\n",
    "    preds = []\n",
    "    true_labels = []\n",
    "\n",
    "    # to_save_array = np.zeros((test_dataset[0].shape[0], test_dataset[0].shape[1]), dtype=object)\n",
    "    test_X_missing = np.empty((test_dataset[0].shape[0] * 2, test_dataset[0].shape[1]), dtype=test_dataset[0].dtype)\n",
    "    map_values_1_vec = np.vectorize(map_values_1)\n",
    "    map_values_2_vec = np.vectorize(map_values_2)\n",
    "    test_X_missing[0::2] = map_values_1_vec(test_dataset[0])\n",
    "    test_X_missing[1::2] = map_values_2_vec(test_dataset[0])\n",
    "    test_X_missing = to_categorical(test_X_missing, 3)\n",
    "\n",
    "    for i in tqdm(range(test_dataset[0].shape[0])):\n",
    "      missing_index, _ = train_test_split(np.arange(x_train.shape[1]), train_size=missing_perc,\n",
    "                                    random_state=i + fold,\n",
    "                                    shuffle=True,\n",
    "                                    stratify=bin_labels)\n",
    "      test_X_missing[i*2:(i+1)*2, missing_index, :] = [0, 0, 1]\n",
    "      # mMask = np.tile(attention_mask, (1, 1, 1))\n",
    "      # predict\n",
    "    predict_onehot = model.predict(test_X_missing, verbose=0)\n",
    "    to_save_array = np.copy(predict_onehot)\n",
    "    for i in tqdm(range(test_dataset[0].shape[0])):\n",
    "      missing_index, _ = train_test_split(np.arange(x_train.shape[1]), train_size=missing_perc,\n",
    "                                    random_state=i + fold,\n",
    "                                    shuffle=True,\n",
    "                                    stratify=bin_labels)\n",
    "      # only care the missing position\n",
    "      predict_missing_onehot = predict_onehot[i*2:(i+1)*2, missing_index, :]\n",
    "      # predict label\n",
    "      predict_missing = np.argmax(predict_missing_onehot, axis=2)\n",
    "      predict_missing_final = np.zeros((1, predict_missing.shape[1]))\n",
    "      for j in range(predict_missing.shape[1]):\n",
    "        if predict_missing[:, j].tolist() == [0, 0]:\n",
    "          predict_missing_final[:, j] = 0\n",
    "        elif predict_missing[:, j].tolist() == [0, 1]:\n",
    "          predict_missing_final[:, j] = 1\n",
    "        elif predict_missing[:, j].tolist() == [1, 0]:\n",
    "          predict_missing_final[:, j] = 2\n",
    "        elif predict_missing[:, j].tolist() == [1, 1]:\n",
    "          predict_missing_final[:, j] = 3\n",
    "        else:\n",
    "          predict_missing_final[:, j] = 4\n",
    "      preds.extend(predict_missing_final.ravel().tolist())\n",
    "\n",
    "      # predict_haplotypes = np.argmax(predict_onehot[i*2:(i+1)*2, :, :], axis=2)\n",
    "      # for j in range(predict_onehot.shape[1]):\n",
    "      #   if predict_haplotypes[:, j].tolist() == [0,0]:\n",
    "      #     to_save_array[i, j] = '0|0'\n",
    "      #   elif predict_haplotypes[:, j].tolist() == [0,1]:\n",
    "      #     to_save_array[i, j] = '0|1'\n",
    "      #   elif predict_haplotypes[:, j].tolist() == [1,0]:\n",
    "      #     to_save_array[i, j] = '1|0'\n",
    "      #   elif predict_haplotypes[:, j].tolist() == [1, 1]:\n",
    "      #     to_save_array[i, j] = '1|1'\n",
    "      #   else:\n",
    "      #     to_save_array[i, j] = '.|.'\n",
    "      # real label\n",
    "      label_missing_onehot = test_dataset[0][i:i + 1, missing_index]\n",
    "      # label_missing = np.argmax(label_missing_onehot, axis=2)\n",
    "      label_missing = test_dataset[0][i:i + 1, missing_index]\n",
    "      true_labels.extend(label_missing.ravel().tolist())\n",
    "      # accuracy\n",
    "      correct_prediction = np.equal(predict_missing_final, label_missing)\n",
    "      accuracy = np.mean(correct_prediction)\n",
    "      # print('{}/{}, accuracy: {:.4f}'.format(\n",
    "      #     i, test_X_missing.shape[0], accuracy))\n",
    "\n",
    "      avg_accuracy.append(accuracy)\n",
    "\n",
    "    # df = pd.DataFrame(to_save_array, columns= headers[:], index = Y_train.index[test_index])\n",
    "    # df.to_csv(save_name)\n",
    "    np.save(save_name, to_save_array)\n",
    "    print('The average imputation accuracy' \\\n",
    "          'on test data with {} missing genotypes is {:.4f}: '\n",
    "        .format(missing_perc, np.mean(avg_accuracy)))\n",
    "    cnf_matrix = confusion_matrix(true_labels, preds)\n",
    "    FP = cnf_matrix.sum(axis=0) - np.diag(cnf_matrix)\n",
    "    FN = cnf_matrix.sum(axis=1) - np.diag(cnf_matrix)\n",
    "    TP = np.diag(cnf_matrix)\n",
    "    TN = cnf_matrix.sum() - (FP + FN + TP)\n",
    "    FP = FP.astype(float)\n",
    "    FN = FN.astype(float)\n",
    "    TP = TP.astype(float)\n",
    "    TN = TN.astype(float)\n",
    "    # Sensitivity, hit rate, recall, or true positive rate\n",
    "    TPR = TP/(TP+FN)\n",
    "    # Specificity or true negative rate\n",
    "    TNR = TN/(TN+FP)\n",
    "    print(f\"Sensitivity: {np.mean(TPR)}\")\n",
    "    print(f\"Specificity: {np.mean(TNR)}\")\n",
    "    print(f\"F1-score macro: {f1_score(true_labels, preds, average='macro')}\")\n",
    "    print(f\"F1-score micro: {f1_score(true_labels, preds, average='micro')}\")\n",
    "    accuracies.append(np.mean(avg_accuracy))\n",
    "  print(f\"=====================================\")\n",
    "\n"
   ],
   "metadata": {
    "colab": {
     "base_uri": "https://localhost:8080/"
    },
    "id": "waObG9RIa0SZ",
    "outputId": "97651563-fcf0-4aa9-89bb-ceb916cd065e",
    "executionInfo": {
     "status": "ok",
     "timestamp": 1686849814715,
     "user_tz": 240,
     "elapsed": 7695231,
     "user": {
      "displayName": "Erfan Mowlaei",
      "userId": "07890245825539195560"
     }
    }
   },
   "execution_count": null,
   "outputs": [
    {
     "output_type": "stream",
     "name": "stdout",
     "text": [
      "Training using fold 1\n",
      "Epoch 1/1000\n",
      "187/187 - 114s - loss: 0.5080 - categorical_accuracy: 0.7814 - val_loss: 0.9576 - val_categorical_accuracy: 0.3470 - lr: 0.0100 - 114s/epoch - 610ms/step\n",
      "Epoch 2/1000\n",
      "187/187 - 19s - loss: 0.4047 - categorical_accuracy: 0.8315 - val_loss: 0.4011 - val_categorical_accuracy: 0.8625 - lr: 0.0100 - 19s/epoch - 101ms/step\n",
      "Epoch 3/1000\n",
      "187/187 - 19s - loss: 0.3404 - categorical_accuracy: 0.8432 - val_loss: 0.1752 - val_categorical_accuracy: 0.9512 - lr: 0.0100 - 19s/epoch - 100ms/step\n",
      "Epoch 4/1000\n",
      "187/187 - 19s - loss: 0.3279 - categorical_accuracy: 0.8477 - val_loss: 0.1322 - val_categorical_accuracy: 0.9663 - lr: 0.0100 - 19s/epoch - 100ms/step\n",
      "Epoch 5/1000\n",
      "187/187 - 19s - loss: 0.3235 - categorical_accuracy: 0.8498 - val_loss: 0.1149 - val_categorical_accuracy: 0.9735 - lr: 0.0100 - 19s/epoch - 100ms/step\n",
      "Epoch 6/1000\n",
      "187/187 - 19s - loss: 0.3206 - categorical_accuracy: 0.8512 - val_loss: 0.0995 - val_categorical_accuracy: 0.9775 - lr: 0.0100 - 19s/epoch - 101ms/step\n",
      "Epoch 7/1000\n",
      "187/187 - 19s - loss: 0.3189 - categorical_accuracy: 0.8521 - val_loss: 0.1134 - val_categorical_accuracy: 0.9732 - lr: 0.0100 - 19s/epoch - 99ms/step\n",
      "Epoch 8/1000\n",
      "187/187 - 19s - loss: 0.3180 - categorical_accuracy: 0.8524 - val_loss: 0.0933 - val_categorical_accuracy: 0.9797 - lr: 0.0100 - 19s/epoch - 100ms/step\n",
      "Epoch 9/1000\n",
      "187/187 - 19s - loss: 0.3176 - categorical_accuracy: 0.8527 - val_loss: 0.0926 - val_categorical_accuracy: 0.9804 - lr: 0.0100 - 19s/epoch - 103ms/step\n",
      "Epoch 10/1000\n",
      "187/187 - 18s - loss: 0.3169 - categorical_accuracy: 0.8529 - val_loss: 0.0980 - val_categorical_accuracy: 0.9804 - lr: 0.0100 - 18s/epoch - 98ms/step\n",
      "Epoch 11/1000\n",
      "187/187 - 19s - loss: 0.3165 - categorical_accuracy: 0.8533 - val_loss: 0.0925 - val_categorical_accuracy: 0.9817 - lr: 0.0100 - 19s/epoch - 101ms/step\n",
      "Epoch 12/1000\n",
      "187/187 - 18s - loss: 0.3162 - categorical_accuracy: 0.8533 - val_loss: 0.0929 - val_categorical_accuracy: 0.9818 - lr: 0.0100 - 18s/epoch - 98ms/step\n",
      "Epoch 13/1000\n",
      "187/187 - 19s - loss: 0.3158 - categorical_accuracy: 0.8536 - val_loss: 0.0916 - val_categorical_accuracy: 0.9819 - lr: 0.0100 - 19s/epoch - 102ms/step\n",
      "Epoch 14/1000\n",
      "187/187 - 19s - loss: 0.3164 - categorical_accuracy: 0.8532 - val_loss: 0.0915 - val_categorical_accuracy: 0.9807 - lr: 0.0100 - 19s/epoch - 102ms/step\n",
      "Epoch 15/1000\n",
      "187/187 - 18s - loss: 0.3163 - categorical_accuracy: 0.8534 - val_loss: 0.0925 - val_categorical_accuracy: 0.9814 - lr: 0.0100 - 18s/epoch - 98ms/step\n",
      "Epoch 16/1000\n",
      "187/187 - 18s - loss: 0.3162 - categorical_accuracy: 0.8534 - val_loss: 0.0962 - val_categorical_accuracy: 0.9807 - lr: 0.0100 - 18s/epoch - 97ms/step\n",
      "Epoch 17/1000\n",
      "187/187 - 18s - loss: 0.3164 - categorical_accuracy: 0.8532 - val_loss: 0.1020 - val_categorical_accuracy: 0.9779 - lr: 0.0100 - 18s/epoch - 97ms/step\n",
      "Epoch 18/1000\n",
      "187/187 - 18s - loss: 0.3166 - categorical_accuracy: 0.8533 - val_loss: 0.0950 - val_categorical_accuracy: 0.9811 - lr: 0.0100 - 18s/epoch - 97ms/step\n",
      "Epoch 19/1000\n",
      "187/187 - 19s - loss: 0.3125 - categorical_accuracy: 0.8547 - val_loss: 0.0816 - val_categorical_accuracy: 0.9859 - lr: 0.0050 - 19s/epoch - 101ms/step\n",
      "Epoch 20/1000\n",
      "187/187 - 18s - loss: 0.3109 - categorical_accuracy: 0.8555 - val_loss: 0.0825 - val_categorical_accuracy: 0.9867 - lr: 0.0050 - 18s/epoch - 97ms/step\n",
      "Epoch 21/1000\n",
      "187/187 - 19s - loss: 0.3101 - categorical_accuracy: 0.8561 - val_loss: 0.0806 - val_categorical_accuracy: 0.9871 - lr: 0.0050 - 19s/epoch - 101ms/step\n",
      "Epoch 22/1000\n",
      "187/187 - 19s - loss: 0.3101 - categorical_accuracy: 0.8557 - val_loss: 0.0736 - val_categorical_accuracy: 0.9885 - lr: 0.0050 - 19s/epoch - 101ms/step\n",
      "Epoch 23/1000\n",
      "187/187 - 18s - loss: 0.3098 - categorical_accuracy: 0.8558 - val_loss: 0.0762 - val_categorical_accuracy: 0.9882 - lr: 0.0050 - 18s/epoch - 97ms/step\n",
      "Epoch 24/1000\n",
      "187/187 - 18s - loss: 0.3094 - categorical_accuracy: 0.8563 - val_loss: 0.0779 - val_categorical_accuracy: 0.9880 - lr: 0.0050 - 18s/epoch - 96ms/step\n",
      "Epoch 25/1000\n",
      "187/187 - 18s - loss: 0.3093 - categorical_accuracy: 0.8561 - val_loss: 0.0742 - val_categorical_accuracy: 0.9885 - lr: 0.0050 - 18s/epoch - 97ms/step\n",
      "Epoch 26/1000\n",
      "187/187 - 18s - loss: 0.3093 - categorical_accuracy: 0.8560 - val_loss: 0.0788 - val_categorical_accuracy: 0.9882 - lr: 0.0050 - 18s/epoch - 97ms/step\n",
      "Epoch 27/1000\n",
      "187/187 - 18s - loss: 0.3088 - categorical_accuracy: 0.8565 - val_loss: 0.0776 - val_categorical_accuracy: 0.9883 - lr: 0.0050 - 18s/epoch - 97ms/step\n",
      "Epoch 28/1000\n",
      "187/187 - 19s - loss: 0.3073 - categorical_accuracy: 0.8570 - val_loss: 0.0713 - val_categorical_accuracy: 0.9907 - lr: 0.0025 - 19s/epoch - 101ms/step\n",
      "Epoch 29/1000\n",
      "187/187 - 19s - loss: 0.3064 - categorical_accuracy: 0.8573 - val_loss: 0.0685 - val_categorical_accuracy: 0.9907 - lr: 0.0025 - 19s/epoch - 101ms/step\n",
      "Epoch 30/1000\n",
      "187/187 - 19s - loss: 0.3060 - categorical_accuracy: 0.8576 - val_loss: 0.0676 - val_categorical_accuracy: 0.9907 - lr: 0.0025 - 19s/epoch - 101ms/step\n",
      "Epoch 31/1000\n",
      "187/187 - 18s - loss: 0.3061 - categorical_accuracy: 0.8574 - val_loss: 0.0676 - val_categorical_accuracy: 0.9910 - lr: 0.0025 - 18s/epoch - 97ms/step\n",
      "Epoch 32/1000\n",
      "187/187 - 18s - loss: 0.3056 - categorical_accuracy: 0.8577 - val_loss: 0.0678 - val_categorical_accuracy: 0.9911 - lr: 0.0025 - 18s/epoch - 97ms/step\n",
      "Epoch 33/1000\n",
      "187/187 - 18s - loss: 0.3058 - categorical_accuracy: 0.8576 - val_loss: 0.0684 - val_categorical_accuracy: 0.9910 - lr: 0.0025 - 18s/epoch - 97ms/step\n",
      "Epoch 34/1000\n",
      "187/187 - 18s - loss: 0.3053 - categorical_accuracy: 0.8577 - val_loss: 0.0681 - val_categorical_accuracy: 0.9912 - lr: 0.0025 - 18s/epoch - 97ms/step\n",
      "Epoch 35/1000\n",
      "187/187 - 19s - loss: 0.3054 - categorical_accuracy: 0.8578 - val_loss: 0.0667 - val_categorical_accuracy: 0.9917 - lr: 0.0025 - 19s/epoch - 101ms/step\n",
      "Epoch 36/1000\n",
      "187/187 - 18s - loss: 0.3053 - categorical_accuracy: 0.8578 - val_loss: 0.0675 - val_categorical_accuracy: 0.9914 - lr: 0.0025 - 18s/epoch - 97ms/step\n",
      "Epoch 37/1000\n",
      "187/187 - 18s - loss: 0.3051 - categorical_accuracy: 0.8579 - val_loss: 0.0682 - val_categorical_accuracy: 0.9912 - lr: 0.0025 - 18s/epoch - 97ms/step\n",
      "Epoch 38/1000\n",
      "187/187 - 18s - loss: 0.3051 - categorical_accuracy: 0.8579 - val_loss: 0.0670 - val_categorical_accuracy: 0.9915 - lr: 0.0025 - 18s/epoch - 97ms/step\n",
      "Epoch 39/1000\n",
      "187/187 - 19s - loss: 0.3051 - categorical_accuracy: 0.8579 - val_loss: 0.0644 - val_categorical_accuracy: 0.9918 - lr: 0.0025 - 19s/epoch - 101ms/step\n",
      "Epoch 40/1000\n",
      "187/187 - 18s - loss: 0.3047 - categorical_accuracy: 0.8581 - val_loss: 0.0673 - val_categorical_accuracy: 0.9915 - lr: 0.0025 - 18s/epoch - 97ms/step\n",
      "Epoch 41/1000\n",
      "187/187 - 18s - loss: 0.3050 - categorical_accuracy: 0.8579 - val_loss: 0.0669 - val_categorical_accuracy: 0.9917 - lr: 0.0025 - 18s/epoch - 97ms/step\n",
      "Epoch 42/1000\n",
      "187/187 - 19s - loss: 0.3047 - categorical_accuracy: 0.8581 - val_loss: 0.0658 - val_categorical_accuracy: 0.9918 - lr: 0.0025 - 19s/epoch - 103ms/step\n",
      "Epoch 43/1000\n",
      "187/187 - 18s - loss: 0.3047 - categorical_accuracy: 0.8580 - val_loss: 0.0656 - val_categorical_accuracy: 0.9916 - lr: 0.0025 - 18s/epoch - 98ms/step\n",
      "Epoch 44/1000\n",
      "187/187 - 18s - loss: 0.3047 - categorical_accuracy: 0.8582 - val_loss: 0.0677 - val_categorical_accuracy: 0.9916 - lr: 0.0025 - 18s/epoch - 98ms/step\n",
      "Epoch 45/1000\n",
      "187/187 - 19s - loss: 0.3038 - categorical_accuracy: 0.8584 - val_loss: 0.0644 - val_categorical_accuracy: 0.9925 - lr: 0.0012 - 19s/epoch - 102ms/step\n",
      "Epoch 46/1000\n",
      "187/187 - 19s - loss: 0.3038 - categorical_accuracy: 0.8583 - val_loss: 0.0640 - val_categorical_accuracy: 0.9927 - lr: 0.0012 - 19s/epoch - 101ms/step\n",
      "Epoch 47/1000\n",
      "187/187 - 19s - loss: 0.3036 - categorical_accuracy: 0.8584 - val_loss: 0.0633 - val_categorical_accuracy: 0.9928 - lr: 0.0012 - 19s/epoch - 102ms/step\n",
      "Epoch 48/1000\n",
      "187/187 - 19s - loss: 0.3032 - categorical_accuracy: 0.8587 - val_loss: 0.0630 - val_categorical_accuracy: 0.9930 - lr: 0.0012 - 19s/epoch - 101ms/step\n",
      "Epoch 49/1000\n",
      "187/187 - 18s - loss: 0.3034 - categorical_accuracy: 0.8584 - val_loss: 0.0635 - val_categorical_accuracy: 0.9928 - lr: 0.0012 - 18s/epoch - 97ms/step\n",
      "Epoch 50/1000\n",
      "187/187 - 18s - loss: 0.3029 - categorical_accuracy: 0.8590 - val_loss: 0.0630 - val_categorical_accuracy: 0.9929 - lr: 0.0012 - 18s/epoch - 97ms/step\n",
      "Epoch 51/1000\n",
      "187/187 - 18s - loss: 0.3029 - categorical_accuracy: 0.8588 - val_loss: 0.0631 - val_categorical_accuracy: 0.9929 - lr: 0.0012 - 18s/epoch - 97ms/step\n",
      "Epoch 52/1000\n",
      "187/187 - 19s - loss: 0.3031 - categorical_accuracy: 0.8587 - val_loss: 0.0625 - val_categorical_accuracy: 0.9930 - lr: 0.0012 - 19s/epoch - 101ms/step\n",
      "Epoch 53/1000\n",
      "187/187 - 19s - loss: 0.3030 - categorical_accuracy: 0.8587 - val_loss: 0.0624 - val_categorical_accuracy: 0.9928 - lr: 0.0012 - 19s/epoch - 101ms/step\n",
      "Epoch 54/1000\n",
      "187/187 - 18s - loss: 0.3026 - categorical_accuracy: 0.8591 - val_loss: 0.0627 - val_categorical_accuracy: 0.9928 - lr: 0.0012 - 18s/epoch - 97ms/step\n",
      "Epoch 55/1000\n",
      "187/187 - 18s - loss: 0.3032 - categorical_accuracy: 0.8585 - val_loss: 0.0629 - val_categorical_accuracy: 0.9929 - lr: 0.0012 - 18s/epoch - 97ms/step\n",
      "Epoch 56/1000\n",
      "187/187 - 19s - loss: 0.3027 - categorical_accuracy: 0.8589 - val_loss: 0.0612 - val_categorical_accuracy: 0.9931 - lr: 0.0012 - 19s/epoch - 102ms/step\n",
      "Epoch 57/1000\n",
      "187/187 - 18s - loss: 0.3031 - categorical_accuracy: 0.8586 - val_loss: 0.0626 - val_categorical_accuracy: 0.9930 - lr: 0.0012 - 18s/epoch - 97ms/step\n",
      "Epoch 58/1000\n",
      "187/187 - 18s - loss: 0.3024 - categorical_accuracy: 0.8590 - val_loss: 0.0621 - val_categorical_accuracy: 0.9931 - lr: 0.0012 - 18s/epoch - 97ms/step\n",
      "Epoch 59/1000\n",
      "187/187 - 18s - loss: 0.3029 - categorical_accuracy: 0.8588 - val_loss: 0.0617 - val_categorical_accuracy: 0.9931 - lr: 0.0012 - 18s/epoch - 97ms/step\n",
      "Epoch 60/1000\n",
      "187/187 - 18s - loss: 0.3025 - categorical_accuracy: 0.8589 - val_loss: 0.0628 - val_categorical_accuracy: 0.9930 - lr: 0.0012 - 18s/epoch - 97ms/step\n",
      "Epoch 61/1000\n",
      "187/187 - 18s - loss: 0.3025 - categorical_accuracy: 0.8591 - val_loss: 0.0619 - val_categorical_accuracy: 0.9931 - lr: 0.0012 - 18s/epoch - 97ms/step\n",
      "Epoch 62/1000\n",
      "187/187 - 18s - loss: 0.3024 - categorical_accuracy: 0.8588 - val_loss: 0.0614 - val_categorical_accuracy: 0.9936 - lr: 6.2500e-04 - 18s/epoch - 97ms/step\n",
      "Epoch 63/1000\n",
      "187/187 - 19s - loss: 0.3021 - categorical_accuracy: 0.8591 - val_loss: 0.0605 - val_categorical_accuracy: 0.9935 - lr: 6.2500e-04 - 19s/epoch - 101ms/step\n",
      "Epoch 64/1000\n",
      "187/187 - 18s - loss: 0.3019 - categorical_accuracy: 0.8593 - val_loss: 0.0608 - val_categorical_accuracy: 0.9934 - lr: 6.2500e-04 - 18s/epoch - 97ms/step\n",
      "Epoch 65/1000\n",
      "187/187 - 18s - loss: 0.3021 - categorical_accuracy: 0.8592 - val_loss: 0.0606 - val_categorical_accuracy: 0.9936 - lr: 6.2500e-04 - 18s/epoch - 97ms/step\n",
      "Epoch 66/1000\n",
      "187/187 - 18s - loss: 0.3016 - categorical_accuracy: 0.8594 - val_loss: 0.0609 - val_categorical_accuracy: 0.9935 - lr: 6.2500e-04 - 18s/epoch - 97ms/step\n",
      "Epoch 67/1000\n",
      "187/187 - 18s - loss: 0.3021 - categorical_accuracy: 0.8589 - val_loss: 0.0608 - val_categorical_accuracy: 0.9935 - lr: 6.2500e-04 - 18s/epoch - 97ms/step\n",
      "Epoch 68/1000\n",
      "187/187 - 18s - loss: 0.3020 - categorical_accuracy: 0.8591 - val_loss: 0.0611 - val_categorical_accuracy: 0.9936 - lr: 6.2500e-04 - 18s/epoch - 98ms/step\n",
      "Epoch 69/1000\n",
      "187/187 - 19s - loss: 0.3019 - categorical_accuracy: 0.8592 - val_loss: 0.0595 - val_categorical_accuracy: 0.9938 - lr: 3.1250e-04 - 19s/epoch - 101ms/step\n",
      "Epoch 70/1000\n",
      "187/187 - 18s - loss: 0.3017 - categorical_accuracy: 0.8592 - val_loss: 0.0598 - val_categorical_accuracy: 0.9937 - lr: 3.1250e-04 - 18s/epoch - 97ms/step\n",
      "Epoch 71/1000\n",
      "187/187 - 18s - loss: 0.3017 - categorical_accuracy: 0.8593 - val_loss: 0.0600 - val_categorical_accuracy: 0.9937 - lr: 3.1250e-04 - 18s/epoch - 97ms/step\n",
      "Epoch 72/1000\n",
      "187/187 - 18s - loss: 0.3018 - categorical_accuracy: 0.8591 - val_loss: 0.0601 - val_categorical_accuracy: 0.9939 - lr: 3.1250e-04 - 18s/epoch - 98ms/step\n",
      "Epoch 73/1000\n",
      "187/187 - 18s - loss: 0.3012 - categorical_accuracy: 0.8595 - val_loss: 0.0597 - val_categorical_accuracy: 0.9938 - lr: 3.1250e-04 - 18s/epoch - 98ms/step\n",
      "Epoch 74/1000\n",
      "187/187 - 18s - loss: 0.3013 - categorical_accuracy: 0.8596 - val_loss: 0.0595 - val_categorical_accuracy: 0.9939 - lr: 3.1250e-04 - 18s/epoch - 97ms/step\n",
      "Epoch 75/1000\n",
      "187/187 - 18s - loss: 0.3018 - categorical_accuracy: 0.8590 - val_loss: 0.0597 - val_categorical_accuracy: 0.9939 - lr: 1.5625e-04 - 18s/epoch - 98ms/step\n",
      "Epoch 76/1000\n",
      "187/187 - 19s - loss: 0.3013 - categorical_accuracy: 0.8595 - val_loss: 0.0590 - val_categorical_accuracy: 0.9940 - lr: 1.5625e-04 - 19s/epoch - 102ms/step\n",
      "Epoch 77/1000\n",
      "187/187 - 18s - loss: 0.3017 - categorical_accuracy: 0.8590 - val_loss: 0.0595 - val_categorical_accuracy: 0.9939 - lr: 1.5625e-04 - 18s/epoch - 97ms/step\n",
      "Epoch 78/1000\n",
      "187/187 - 19s - loss: 0.3012 - categorical_accuracy: 0.8596 - val_loss: 0.0595 - val_categorical_accuracy: 0.9939 - lr: 1.5625e-04 - 19s/epoch - 101ms/step\n",
      "Epoch 79/1000\n",
      "187/187 - 18s - loss: 0.3014 - categorical_accuracy: 0.8593 - val_loss: 0.0591 - val_categorical_accuracy: 0.9940 - lr: 1.5625e-04 - 18s/epoch - 97ms/step\n",
      "Epoch 80/1000\n",
      "187/187 - 18s - loss: 0.3014 - categorical_accuracy: 0.8594 - val_loss: 0.0594 - val_categorical_accuracy: 0.9940 - lr: 1.5625e-04 - 18s/epoch - 98ms/step\n",
      "Epoch 81/1000\n",
      "187/187 - 18s - loss: 0.3011 - categorical_accuracy: 0.8595 - val_loss: 0.0594 - val_categorical_accuracy: 0.9939 - lr: 1.5625e-04 - 18s/epoch - 98ms/step\n",
      "Epoch 82/1000\n",
      "187/187 - 18s - loss: 0.3011 - categorical_accuracy: 0.8597 - val_loss: 0.0592 - val_categorical_accuracy: 0.9939 - lr: 7.8125e-05 - 18s/epoch - 97ms/step\n",
      "Epoch 83/1000\n",
      "187/187 - 19s - loss: 0.3015 - categorical_accuracy: 0.8591 - val_loss: 0.0590 - val_categorical_accuracy: 0.9940 - lr: 7.8125e-05 - 19s/epoch - 101ms/step\n",
      "Epoch 84/1000\n",
      "187/187 - 18s - loss: 0.3009 - categorical_accuracy: 0.8598 - val_loss: 0.0591 - val_categorical_accuracy: 0.9940 - lr: 7.8125e-05 - 18s/epoch - 98ms/step\n",
      "Epoch 85/1000\n",
      "187/187 - 19s - loss: 0.3011 - categorical_accuracy: 0.8595 - val_loss: 0.0589 - val_categorical_accuracy: 0.9941 - lr: 7.8125e-05 - 19s/epoch - 102ms/step\n",
      "Epoch 86/1000\n",
      "187/187 - 18s - loss: 0.3012 - categorical_accuracy: 0.8595 - val_loss: 0.0590 - val_categorical_accuracy: 0.9939 - lr: 7.8125e-05 - 18s/epoch - 98ms/step\n",
      "Epoch 87/1000\n",
      "187/187 - 18s - loss: 0.3011 - categorical_accuracy: 0.8596 - val_loss: 0.0592 - val_categorical_accuracy: 0.9940 - lr: 7.8125e-05 - 18s/epoch - 98ms/step\n",
      "Epoch 88/1000\n",
      "187/187 - 19s - loss: 0.3011 - categorical_accuracy: 0.8593 - val_loss: 0.0588 - val_categorical_accuracy: 0.9940 - lr: 7.8125e-05 - 19s/epoch - 102ms/step\n",
      "Epoch 89/1000\n",
      "187/187 - 18s - loss: 0.3013 - categorical_accuracy: 0.8596 - val_loss: 0.0591 - val_categorical_accuracy: 0.9941 - lr: 7.8125e-05 - 18s/epoch - 98ms/step\n",
      "Epoch 90/1000\n",
      "187/187 - 18s - loss: 0.3012 - categorical_accuracy: 0.8593 - val_loss: 0.0590 - val_categorical_accuracy: 0.9941 - lr: 7.8125e-05 - 18s/epoch - 97ms/step\n",
      "Epoch 91/1000\n",
      "187/187 - 18s - loss: 0.3009 - categorical_accuracy: 0.8598 - val_loss: 0.0590 - val_categorical_accuracy: 0.9940 - lr: 3.9062e-05 - 18s/epoch - 97ms/step\n",
      "Epoch 92/1000\n",
      "187/187 - 18s - loss: 0.3016 - categorical_accuracy: 0.8589 - val_loss: 0.0593 - val_categorical_accuracy: 0.9940 - lr: 3.9062e-05 - 18s/epoch - 97ms/step\n",
      "Epoch 93/1000\n",
      "187/187 - 18s - loss: 0.3008 - categorical_accuracy: 0.8599 - val_loss: 0.0590 - val_categorical_accuracy: 0.9940 - lr: 3.9062e-05 - 18s/epoch - 97ms/step\n",
      "Epoch 94/1000\n",
      "187/187 - 18s - loss: 0.3012 - categorical_accuracy: 0.8595 - val_loss: 0.0589 - val_categorical_accuracy: 0.9941 - lr: 3.9062e-05 - 18s/epoch - 97ms/step\n",
      "Epoch 95/1000\n",
      "187/187 - 19s - loss: 0.3016 - categorical_accuracy: 0.8590 - val_loss: 0.0587 - val_categorical_accuracy: 0.9941 - lr: 3.9062e-05 - 19s/epoch - 100ms/step\n",
      "Epoch 96/1000\n",
      "187/187 - 18s - loss: 0.3010 - categorical_accuracy: 0.8596 - val_loss: 0.0590 - val_categorical_accuracy: 0.9941 - lr: 3.9062e-05 - 18s/epoch - 97ms/step\n",
      "Epoch 97/1000\n",
      "187/187 - 18s - loss: 0.3014 - categorical_accuracy: 0.8593 - val_loss: 0.0589 - val_categorical_accuracy: 0.9940 - lr: 3.9062e-05 - 18s/epoch - 97ms/step\n",
      "Epoch 98/1000\n",
      "187/187 - 18s - loss: 0.3009 - categorical_accuracy: 0.8596 - val_loss: 0.0589 - val_categorical_accuracy: 0.9940 - lr: 3.9062e-05 - 18s/epoch - 97ms/step\n",
      "Epoch 99/1000\n",
      "187/187 - 18s - loss: 0.3012 - categorical_accuracy: 0.8594 - val_loss: 0.0591 - val_categorical_accuracy: 0.9940 - lr: 3.9062e-05 - 18s/epoch - 97ms/step\n",
      "Epoch 100/1000\n",
      "187/187 - 18s - loss: 0.3012 - categorical_accuracy: 0.8594 - val_loss: 0.0589 - val_categorical_accuracy: 0.9941 - lr: 3.9062e-05 - 18s/epoch - 96ms/step\n",
      "Epoch 101/1000\n",
      "187/187 - 18s - loss: 0.3009 - categorical_accuracy: 0.8597 - val_loss: 0.0589 - val_categorical_accuracy: 0.9941 - lr: 1.9531e-05 - 18s/epoch - 97ms/step\n",
      "Epoch 102/1000\n",
      "187/187 - 18s - loss: 0.3011 - categorical_accuracy: 0.8595 - val_loss: 0.0588 - val_categorical_accuracy: 0.9941 - lr: 1.9531e-05 - 18s/epoch - 97ms/step\n",
      "Epoch 103/1000\n",
      "187/187 - 18s - loss: 0.3011 - categorical_accuracy: 0.8594 - val_loss: 0.0587 - val_categorical_accuracy: 0.9941 - lr: 1.9531e-05 - 18s/epoch - 97ms/step\n",
      "Epoch 104/1000\n",
      "187/187 - 18s - loss: 0.3011 - categorical_accuracy: 0.8595 - val_loss: 0.0588 - val_categorical_accuracy: 0.9941 - lr: 1.9531e-05 - 18s/epoch - 97ms/step\n",
      "Epoch 105/1000\n",
      "187/187 - 18s - loss: 0.3012 - categorical_accuracy: 0.8595 - val_loss: 0.0590 - val_categorical_accuracy: 0.9940 - lr: 1.9531e-05 - 18s/epoch - 96ms/step\n",
      "Epoch 106/1000\n",
      "187/187 - 18s - loss: 0.3006 - categorical_accuracy: 0.8598 - val_loss: 0.0588 - val_categorical_accuracy: 0.9941 - lr: 9.7656e-06 - 18s/epoch - 96ms/step\n",
      "Epoch 107/1000\n",
      "187/187 - 18s - loss: 0.3011 - categorical_accuracy: 0.8595 - val_loss: 0.0588 - val_categorical_accuracy: 0.9941 - lr: 9.7656e-06 - 18s/epoch - 97ms/step\n",
      "Epoch 108/1000\n",
      "187/187 - 18s - loss: 0.3016 - categorical_accuracy: 0.8591 - val_loss: 0.0587 - val_categorical_accuracy: 0.9941 - lr: 9.7656e-06 - 18s/epoch - 97ms/step\n",
      "Epoch 109/1000\n",
      "187/187 - 19s - loss: 0.3008 - categorical_accuracy: 0.8598 - val_loss: 0.0586 - val_categorical_accuracy: 0.9941 - lr: 9.7656e-06 - 19s/epoch - 101ms/step\n",
      "Epoch 110/1000\n",
      "187/187 - 18s - loss: 0.3011 - categorical_accuracy: 0.8593 - val_loss: 0.0587 - val_categorical_accuracy: 0.9941 - lr: 9.7656e-06 - 18s/epoch - 97ms/step\n",
      "Epoch 111/1000\n",
      "187/187 - 19s - loss: 0.3007 - categorical_accuracy: 0.8599 - val_loss: 0.0586 - val_categorical_accuracy: 0.9942 - lr: 9.7656e-06 - 19s/epoch - 101ms/step\n",
      "Epoch 112/1000\n",
      "187/187 - 18s - loss: 0.3016 - categorical_accuracy: 0.8590 - val_loss: 0.0590 - val_categorical_accuracy: 0.9940 - lr: 9.7656e-06 - 18s/epoch - 97ms/step\n",
      "Epoch 113/1000\n",
      "187/187 - 18s - loss: 0.3012 - categorical_accuracy: 0.8595 - val_loss: 0.0588 - val_categorical_accuracy: 0.9941 - lr: 9.7656e-06 - 18s/epoch - 97ms/step\n",
      "Epoch 114/1000\n",
      "187/187 - 18s - loss: 0.3010 - categorical_accuracy: 0.8595 - val_loss: 0.0590 - val_categorical_accuracy: 0.9941 - lr: 9.7656e-06 - 18s/epoch - 97ms/step\n",
      "Epoch 115/1000\n",
      "187/187 - 18s - loss: 0.3010 - categorical_accuracy: 0.8595 - val_loss: 0.0589 - val_categorical_accuracy: 0.9940 - lr: 4.8828e-06 - 18s/epoch - 98ms/step\n",
      "Epoch 116/1000\n",
      "187/187 - 18s - loss: 0.3010 - categorical_accuracy: 0.8597 - val_loss: 0.0587 - val_categorical_accuracy: 0.9941 - lr: 4.8828e-06 - 18s/epoch - 97ms/step\n",
      "Epoch 117/1000\n",
      "187/187 - 18s - loss: 0.3007 - categorical_accuracy: 0.8599 - val_loss: 0.0588 - val_categorical_accuracy: 0.9941 - lr: 4.8828e-06 - 18s/epoch - 97ms/step\n",
      "Epoch 118/1000\n",
      "187/187 - 18s - loss: 0.3012 - categorical_accuracy: 0.8594 - val_loss: 0.0589 - val_categorical_accuracy: 0.9941 - lr: 4.8828e-06 - 18s/epoch - 97ms/step\n",
      "Epoch 119/1000\n",
      "187/187 - 18s - loss: 0.3010 - categorical_accuracy: 0.8595 - val_loss: 0.0587 - val_categorical_accuracy: 0.9941 - lr: 4.8828e-06 - 18s/epoch - 97ms/step\n",
      "Epoch 120/1000\n",
      "187/187 - 18s - loss: 0.3012 - categorical_accuracy: 0.8595 - val_loss: 0.0588 - val_categorical_accuracy: 0.9941 - lr: 2.4414e-06 - 18s/epoch - 98ms/step\n",
      "Epoch 121/1000\n",
      "187/187 - 18s - loss: 0.3013 - categorical_accuracy: 0.8594 - val_loss: 0.0589 - val_categorical_accuracy: 0.9941 - lr: 2.4414e-06 - 18s/epoch - 97ms/step\n",
      "Epoch 122/1000\n",
      "187/187 - 18s - loss: 0.3008 - categorical_accuracy: 0.8597 - val_loss: 0.0588 - val_categorical_accuracy: 0.9941 - lr: 2.4414e-06 - 18s/epoch - 97ms/step\n",
      "Epoch 123/1000\n",
      "187/187 - 18s - loss: 0.3008 - categorical_accuracy: 0.8597 - val_loss: 0.0589 - val_categorical_accuracy: 0.9941 - lr: 2.4414e-06 - 18s/epoch - 97ms/step\n",
      "Epoch 124/1000\n",
      "187/187 - 18s - loss: 0.3011 - categorical_accuracy: 0.8594 - val_loss: 0.0587 - val_categorical_accuracy: 0.9941 - lr: 2.4414e-06 - 18s/epoch - 97ms/step\n",
      "Epoch 125/1000\n",
      "187/187 - 18s - loss: 0.3007 - categorical_accuracy: 0.8599 - val_loss: 0.0587 - val_categorical_accuracy: 0.9941 - lr: 1.2207e-06 - 18s/epoch - 97ms/step\n",
      "Epoch 126/1000\n",
      "187/187 - 18s - loss: 0.3010 - categorical_accuracy: 0.8595 - val_loss: 0.0587 - val_categorical_accuracy: 0.9941 - lr: 1.2207e-06 - 18s/epoch - 98ms/step\n",
      "Epoch 127/1000\n",
      "187/187 - 18s - loss: 0.3010 - categorical_accuracy: 0.8597 - val_loss: 0.0589 - val_categorical_accuracy: 0.9941 - lr: 1.2207e-06 - 18s/epoch - 98ms/step\n",
      "Epoch 128/1000\n",
      "187/187 - 18s - loss: 0.3012 - categorical_accuracy: 0.8592 - val_loss: 0.0588 - val_categorical_accuracy: 0.9941 - lr: 1.2207e-06 - 18s/epoch - 98ms/step\n",
      "Epoch 129/1000\n",
      "Restoring model weights from the end of the best epoch: 109.\n",
      "187/187 - 22s - loss: 0.3007 - categorical_accuracy: 0.8599 - val_loss: 0.0588 - val_categorical_accuracy: 0.9941 - lr: 1.2207e-06 - 22s/epoch - 115ms/step\n",
      "Epoch 129: early stopping\n"
     ]
    },
    {
     "output_type": "stream",
     "name": "stderr",
     "text": [
      "100%|██████████| 835/835 [00:02<00:00, 392.59it/s]\n",
      "100%|██████████| 835/835 [00:01<00:00, 452.69it/s]\n"
     ]
    },
    {
     "output_type": "stream",
     "name": "stdout",
     "text": [
      "The average imputation accuracyon test data with 0.01 missing genotypes is 0.9847: \n",
      "Sensitivity: 0.9769977446436381\n",
      "Specificity: 0.9932698477578935\n",
      "F1-score macro: 0.9804947300016795\n",
      "F1-score micro: 0.9846672851480138\n"
     ]
    },
    {
     "output_type": "stream",
     "name": "stderr",
     "text": [
      "100%|██████████| 835/835 [00:01<00:00, 473.64it/s]\n",
      "100%|██████████| 835/835 [00:02<00:00, 345.59it/s]\n"
     ]
    },
    {
     "output_type": "stream",
     "name": "stdout",
     "text": [
      "The average imputation accuracyon test data with 0.05 missing genotypes is 0.9841: \n",
      "Sensitivity: 0.9763877400996366\n",
      "Specificity: 0.993214694474455\n",
      "F1-score macro: 0.9796831754656912\n",
      "F1-score micro: 0.9841267186297795\n"
     ]
    },
    {
     "output_type": "stream",
     "name": "stderr",
     "text": [
      "100%|██████████| 835/835 [00:01<00:00, 447.13it/s]\n",
      "100%|██████████| 835/835 [00:02<00:00, 280.16it/s]\n"
     ]
    },
    {
     "output_type": "stream",
     "name": "stdout",
     "text": [
      "The average imputation accuracyon test data with 0.1 missing genotypes is 0.9841: \n",
      "Sensitivity: 0.9764339130053216\n",
      "Specificity: 0.9932627311076142\n",
      "F1-score macro: 0.9795943003129342\n",
      "F1-score micro: 0.9841250459973907\n"
     ]
    },
    {
     "output_type": "stream",
     "name": "stderr",
     "text": [
      "100%|██████████| 835/835 [00:02<00:00, 394.31it/s]\n",
      "100%|██████████| 835/835 [00:03<00:00, 227.13it/s]\n"
     ]
    },
    {
     "output_type": "stream",
     "name": "stdout",
     "text": [
      "The average imputation accuracyon test data with 0.2 missing genotypes is 0.9835: \n",
      "Sensitivity: 0.975643900713381\n",
      "Specificity: 0.9930075910562292\n",
      "F1-score macro: 0.9788528856489633\n",
      "F1-score micro: 0.9835203893888201\n",
      "=====================================\n",
      "Training using fold 2\n",
      "Epoch 1/1000\n",
      "187/187 - 46s - loss: 0.4733 - categorical_accuracy: 0.7593 - val_loss: 0.8609 - val_categorical_accuracy: 0.4311 - lr: 0.0100 - 46s/epoch - 244ms/step\n",
      "Epoch 2/1000\n",
      "187/187 - 19s - loss: 0.3812 - categorical_accuracy: 0.7960 - val_loss: 0.3866 - val_categorical_accuracy: 0.8586 - lr: 0.0100 - 19s/epoch - 102ms/step\n",
      "Epoch 3/1000\n",
      "187/187 - 19s - loss: 0.3522 - categorical_accuracy: 0.8033 - val_loss: 0.1903 - val_categorical_accuracy: 0.9086 - lr: 0.0100 - 19s/epoch - 102ms/step\n",
      "Epoch 4/1000\n",
      "187/187 - 19s - loss: 0.3445 - categorical_accuracy: 0.8062 - val_loss: 0.1377 - val_categorical_accuracy: 0.9211 - lr: 0.0100 - 19s/epoch - 102ms/step\n",
      "Epoch 5/1000\n",
      "187/187 - 19s - loss: 0.3402 - categorical_accuracy: 0.8078 - val_loss: 0.1362 - val_categorical_accuracy: 0.9252 - lr: 0.0100 - 19s/epoch - 102ms/step\n",
      "Epoch 6/1000\n",
      "187/187 - 19s - loss: 0.3382 - categorical_accuracy: 0.8084 - val_loss: 0.1132 - val_categorical_accuracy: 0.9305 - lr: 0.0100 - 19s/epoch - 102ms/step\n",
      "Epoch 7/1000\n",
      "187/187 - 19s - loss: 0.3369 - categorical_accuracy: 0.8088 - val_loss: 0.1070 - val_categorical_accuracy: 0.9308 - lr: 0.0100 - 19s/epoch - 101ms/step\n",
      "Epoch 8/1000\n",
      "187/187 - 18s - loss: 0.3360 - categorical_accuracy: 0.8092 - val_loss: 0.1136 - val_categorical_accuracy: 0.9304 - lr: 0.0100 - 18s/epoch - 97ms/step\n",
      "Epoch 9/1000\n",
      "187/187 - 19s - loss: 0.3351 - categorical_accuracy: 0.8098 - val_loss: 0.1058 - val_categorical_accuracy: 0.9307 - lr: 0.0100 - 19s/epoch - 102ms/step\n",
      "Epoch 10/1000\n",
      "187/187 - 18s - loss: 0.3352 - categorical_accuracy: 0.8094 - val_loss: 0.1111 - val_categorical_accuracy: 0.9295 - lr: 0.0100 - 18s/epoch - 98ms/step\n",
      "Epoch 11/1000\n",
      "187/187 - 18s - loss: 0.3350 - categorical_accuracy: 0.8095 - val_loss: 0.1100 - val_categorical_accuracy: 0.9300 - lr: 0.0100 - 18s/epoch - 98ms/step\n",
      "Epoch 12/1000\n",
      "187/187 - 19s - loss: 0.3348 - categorical_accuracy: 0.8099 - val_loss: 0.1057 - val_categorical_accuracy: 0.9308 - lr: 0.0100 - 19s/epoch - 103ms/step\n",
      "Epoch 13/1000\n",
      "187/187 - 18s - loss: 0.3348 - categorical_accuracy: 0.8145 - val_loss: 0.1085 - val_categorical_accuracy: 0.9757 - lr: 0.0100 - 18s/epoch - 98ms/step\n",
      "Epoch 14/1000\n",
      "187/187 - 18s - loss: 0.3351 - categorical_accuracy: 0.8345 - val_loss: 0.1070 - val_categorical_accuracy: 0.9806 - lr: 0.0100 - 18s/epoch - 97ms/step\n",
      "Epoch 15/1000\n",
      "187/187 - 19s - loss: 0.3307 - categorical_accuracy: 0.8368 - val_loss: 0.0938 - val_categorical_accuracy: 0.9869 - lr: 0.0050 - 19s/epoch - 101ms/step\n",
      "Epoch 16/1000\n",
      "187/187 - 18s - loss: 0.3296 - categorical_accuracy: 0.8373 - val_loss: 0.0947 - val_categorical_accuracy: 0.9867 - lr: 0.0050 - 18s/epoch - 97ms/step\n",
      "Epoch 17/1000\n",
      "187/187 - 19s - loss: 0.3288 - categorical_accuracy: 0.8378 - val_loss: 0.0907 - val_categorical_accuracy: 0.9875 - lr: 0.0050 - 19s/epoch - 101ms/step\n",
      "Epoch 18/1000\n",
      "187/187 - 18s - loss: 0.3285 - categorical_accuracy: 0.8377 - val_loss: 0.0917 - val_categorical_accuracy: 0.9878 - lr: 0.0050 - 18s/epoch - 97ms/step\n",
      "Epoch 19/1000\n",
      "187/187 - 18s - loss: 0.3282 - categorical_accuracy: 0.8380 - val_loss: 0.0909 - val_categorical_accuracy: 0.9881 - lr: 0.0050 - 18s/epoch - 98ms/step\n",
      "Epoch 20/1000\n",
      "187/187 - 18s - loss: 0.3285 - categorical_accuracy: 0.8379 - val_loss: 0.0918 - val_categorical_accuracy: 0.9874 - lr: 0.0050 - 18s/epoch - 98ms/step\n",
      "Epoch 21/1000\n",
      "187/187 - 18s - loss: 0.3278 - categorical_accuracy: 0.8380 - val_loss: 0.0920 - val_categorical_accuracy: 0.9883 - lr: 0.0050 - 18s/epoch - 98ms/step\n",
      "Epoch 22/1000\n",
      "187/187 - 18s - loss: 0.3279 - categorical_accuracy: 0.8382 - val_loss: 0.0914 - val_categorical_accuracy: 0.9879 - lr: 0.0050 - 18s/epoch - 98ms/step\n",
      "Epoch 23/1000\n",
      "187/187 - 19s - loss: 0.3258 - categorical_accuracy: 0.8391 - val_loss: 0.0850 - val_categorical_accuracy: 0.9904 - lr: 0.0025 - 19s/epoch - 102ms/step\n",
      "Epoch 24/1000\n",
      "187/187 - 19s - loss: 0.3254 - categorical_accuracy: 0.8392 - val_loss: 0.0848 - val_categorical_accuracy: 0.9906 - lr: 0.0025 - 19s/epoch - 101ms/step\n",
      "Epoch 25/1000\n",
      "187/187 - 19s - loss: 0.3253 - categorical_accuracy: 0.8392 - val_loss: 0.0842 - val_categorical_accuracy: 0.9904 - lr: 0.0025 - 19s/epoch - 101ms/step\n",
      "Epoch 26/1000\n",
      "187/187 - 18s - loss: 0.3249 - categorical_accuracy: 0.8394 - val_loss: 0.0849 - val_categorical_accuracy: 0.9905 - lr: 0.0025 - 18s/epoch - 97ms/step\n",
      "Epoch 27/1000\n",
      "187/187 - 19s - loss: 0.3243 - categorical_accuracy: 0.8397 - val_loss: 0.0834 - val_categorical_accuracy: 0.9910 - lr: 0.0025 - 19s/epoch - 100ms/step\n",
      "Epoch 28/1000\n",
      "187/187 - 19s - loss: 0.3244 - categorical_accuracy: 0.8395 - val_loss: 0.0824 - val_categorical_accuracy: 0.9909 - lr: 0.0025 - 19s/epoch - 101ms/step\n",
      "Epoch 29/1000\n",
      "187/187 - 18s - loss: 0.3239 - categorical_accuracy: 0.8397 - val_loss: 0.0834 - val_categorical_accuracy: 0.9912 - lr: 0.0025 - 18s/epoch - 97ms/step\n",
      "Epoch 30/1000\n",
      "187/187 - 19s - loss: 0.3240 - categorical_accuracy: 0.8396 - val_loss: 0.0822 - val_categorical_accuracy: 0.9906 - lr: 0.0025 - 19s/epoch - 101ms/step\n",
      "Epoch 31/1000\n",
      "187/187 - 19s - loss: 0.3232 - categorical_accuracy: 0.8397 - val_loss: 0.0801 - val_categorical_accuracy: 0.9909 - lr: 0.0025 - 19s/epoch - 101ms/step\n",
      "Epoch 32/1000\n",
      "187/187 - 19s - loss: 0.3231 - categorical_accuracy: 0.8396 - val_loss: 0.0791 - val_categorical_accuracy: 0.9911 - lr: 0.0025 - 19s/epoch - 101ms/step\n",
      "Epoch 33/1000\n",
      "187/187 - 19s - loss: 0.3220 - categorical_accuracy: 0.8397 - val_loss: 0.0781 - val_categorical_accuracy: 0.9911 - lr: 0.0025 - 19s/epoch - 101ms/step\n",
      "Epoch 34/1000\n",
      "187/187 - 19s - loss: 0.3211 - categorical_accuracy: 0.8398 - val_loss: 0.0751 - val_categorical_accuracy: 0.9911 - lr: 0.0025 - 19s/epoch - 101ms/step\n",
      "Epoch 35/1000\n",
      "187/187 - 19s - loss: 0.3199 - categorical_accuracy: 0.8400 - val_loss: 0.0708 - val_categorical_accuracy: 0.9914 - lr: 0.0025 - 19s/epoch - 102ms/step\n",
      "Epoch 36/1000\n",
      "187/187 - 19s - loss: 0.3194 - categorical_accuracy: 0.8398 - val_loss: 0.0674 - val_categorical_accuracy: 0.9915 - lr: 0.0025 - 19s/epoch - 102ms/step\n",
      "Epoch 37/1000\n",
      "187/187 - 19s - loss: 0.3192 - categorical_accuracy: 0.8398 - val_loss: 0.0668 - val_categorical_accuracy: 0.9920 - lr: 0.0025 - 19s/epoch - 102ms/step\n",
      "Epoch 38/1000\n",
      "187/187 - 18s - loss: 0.3189 - categorical_accuracy: 0.8401 - val_loss: 0.0676 - val_categorical_accuracy: 0.9913 - lr: 0.0025 - 18s/epoch - 97ms/step\n",
      "Epoch 39/1000\n",
      "187/187 - 18s - loss: 0.3190 - categorical_accuracy: 0.8400 - val_loss: 0.0681 - val_categorical_accuracy: 0.9913 - lr: 0.0025 - 18s/epoch - 98ms/step\n",
      "Epoch 40/1000\n",
      "187/187 - 18s - loss: 0.3189 - categorical_accuracy: 0.8400 - val_loss: 0.0672 - val_categorical_accuracy: 0.9913 - lr: 0.0025 - 18s/epoch - 98ms/step\n",
      "Epoch 41/1000\n",
      "187/187 - 18s - loss: 0.3190 - categorical_accuracy: 0.8400 - val_loss: 0.0678 - val_categorical_accuracy: 0.9914 - lr: 0.0025 - 18s/epoch - 99ms/step\n",
      "Epoch 42/1000\n",
      "187/187 - 19s - loss: 0.3187 - categorical_accuracy: 0.8402 - val_loss: 0.0669 - val_categorical_accuracy: 0.9918 - lr: 0.0025 - 19s/epoch - 103ms/step\n",
      "Epoch 43/1000\n",
      "187/187 - 19s - loss: 0.3182 - categorical_accuracy: 0.8403 - val_loss: 0.0654 - val_categorical_accuracy: 0.9926 - lr: 0.0012 - 19s/epoch - 101ms/step\n",
      "Epoch 44/1000\n",
      "187/187 - 19s - loss: 0.3182 - categorical_accuracy: 0.8401 - val_loss: 0.0641 - val_categorical_accuracy: 0.9925 - lr: 0.0012 - 19s/epoch - 101ms/step\n",
      "Epoch 45/1000\n",
      "187/187 - 18s - loss: 0.3174 - categorical_accuracy: 0.8408 - val_loss: 0.0642 - val_categorical_accuracy: 0.9927 - lr: 0.0012 - 18s/epoch - 98ms/step\n",
      "Epoch 46/1000\n",
      "187/187 - 19s - loss: 0.3179 - categorical_accuracy: 0.8403 - val_loss: 0.0629 - val_categorical_accuracy: 0.9928 - lr: 0.0012 - 19s/epoch - 102ms/step\n",
      "Epoch 47/1000\n",
      "187/187 - 18s - loss: 0.3174 - categorical_accuracy: 0.8406 - val_loss: 0.0630 - val_categorical_accuracy: 0.9928 - lr: 0.0012 - 18s/epoch - 98ms/step\n",
      "Epoch 48/1000\n",
      "187/187 - 20s - loss: 0.3174 - categorical_accuracy: 0.8408 - val_loss: 0.0624 - val_categorical_accuracy: 0.9928 - lr: 0.0012 - 20s/epoch - 106ms/step\n",
      "Epoch 49/1000\n",
      "187/187 - 18s - loss: 0.3170 - categorical_accuracy: 0.8409 - val_loss: 0.0634 - val_categorical_accuracy: 0.9928 - lr: 0.0012 - 18s/epoch - 98ms/step\n",
      "Epoch 50/1000\n",
      "187/187 - 18s - loss: 0.3171 - categorical_accuracy: 0.8406 - val_loss: 0.0632 - val_categorical_accuracy: 0.9929 - lr: 0.0012 - 18s/epoch - 97ms/step\n",
      "Epoch 51/1000\n",
      "187/187 - 18s - loss: 0.3175 - categorical_accuracy: 0.8405 - val_loss: 0.0630 - val_categorical_accuracy: 0.9931 - lr: 0.0012 - 18s/epoch - 98ms/step\n",
      "Epoch 52/1000\n",
      "187/187 - 19s - loss: 0.3167 - categorical_accuracy: 0.8412 - val_loss: 0.0620 - val_categorical_accuracy: 0.9930 - lr: 0.0012 - 19s/epoch - 102ms/step\n",
      "Epoch 53/1000\n",
      "187/187 - 18s - loss: 0.3172 - categorical_accuracy: 0.8407 - val_loss: 0.0639 - val_categorical_accuracy: 0.9928 - lr: 0.0012 - 18s/epoch - 97ms/step\n",
      "Epoch 54/1000\n",
      "187/187 - 18s - loss: 0.3170 - categorical_accuracy: 0.8408 - val_loss: 0.0629 - val_categorical_accuracy: 0.9929 - lr: 0.0012 - 18s/epoch - 98ms/step\n",
      "Epoch 55/1000\n",
      "187/187 - 18s - loss: 0.3175 - categorical_accuracy: 0.8405 - val_loss: 0.0620 - val_categorical_accuracy: 0.9929 - lr: 0.0012 - 18s/epoch - 98ms/step\n",
      "Epoch 56/1000\n",
      "187/187 - 18s - loss: 0.3167 - categorical_accuracy: 0.8410 - val_loss: 0.0626 - val_categorical_accuracy: 0.9930 - lr: 0.0012 - 18s/epoch - 98ms/step\n",
      "Epoch 57/1000\n",
      "187/187 - 18s - loss: 0.3171 - categorical_accuracy: 0.8405 - val_loss: 0.0628 - val_categorical_accuracy: 0.9930 - lr: 0.0012 - 18s/epoch - 97ms/step\n",
      "Epoch 58/1000\n",
      "187/187 - 19s - loss: 0.3167 - categorical_accuracy: 0.8409 - val_loss: 0.0614 - val_categorical_accuracy: 0.9934 - lr: 6.2500e-04 - 19s/epoch - 101ms/step\n",
      "Epoch 59/1000\n",
      "187/187 - 19s - loss: 0.3162 - categorical_accuracy: 0.8412 - val_loss: 0.0612 - val_categorical_accuracy: 0.9933 - lr: 6.2500e-04 - 19s/epoch - 101ms/step\n",
      "Epoch 60/1000\n",
      "187/187 - 18s - loss: 0.3165 - categorical_accuracy: 0.8410 - val_loss: 0.0617 - val_categorical_accuracy: 0.9933 - lr: 6.2500e-04 - 18s/epoch - 97ms/step\n",
      "Epoch 61/1000\n",
      "187/187 - 18s - loss: 0.3164 - categorical_accuracy: 0.8411 - val_loss: 0.0617 - val_categorical_accuracy: 0.9933 - lr: 6.2500e-04 - 18s/epoch - 98ms/step\n",
      "Epoch 62/1000\n",
      "187/187 - 18s - loss: 0.3161 - categorical_accuracy: 0.8412 - val_loss: 0.0612 - val_categorical_accuracy: 0.9934 - lr: 6.2500e-04 - 18s/epoch - 97ms/step\n",
      "Epoch 63/1000\n",
      "187/187 - 18s - loss: 0.3163 - categorical_accuracy: 0.8409 - val_loss: 0.0616 - val_categorical_accuracy: 0.9935 - lr: 6.2500e-04 - 18s/epoch - 98ms/step\n",
      "Epoch 64/1000\n",
      "187/187 - 19s - loss: 0.3165 - categorical_accuracy: 0.8411 - val_loss: 0.0606 - val_categorical_accuracy: 0.9935 - lr: 6.2500e-04 - 19s/epoch - 102ms/step\n",
      "Epoch 65/1000\n",
      "187/187 - 18s - loss: 0.3162 - categorical_accuracy: 0.8410 - val_loss: 0.0613 - val_categorical_accuracy: 0.9933 - lr: 6.2500e-04 - 18s/epoch - 97ms/step\n",
      "Epoch 66/1000\n",
      "187/187 - 19s - loss: 0.3162 - categorical_accuracy: 0.8414 - val_loss: 0.0598 - val_categorical_accuracy: 0.9936 - lr: 6.2500e-04 - 19s/epoch - 100ms/step\n",
      "Epoch 67/1000\n",
      "187/187 - 18s - loss: 0.3160 - categorical_accuracy: 0.8412 - val_loss: 0.0610 - val_categorical_accuracy: 0.9934 - lr: 6.2500e-04 - 18s/epoch - 96ms/step\n",
      "Epoch 68/1000\n",
      "187/187 - 18s - loss: 0.3160 - categorical_accuracy: 0.8413 - val_loss: 0.0603 - val_categorical_accuracy: 0.9937 - lr: 6.2500e-04 - 18s/epoch - 96ms/step\n",
      "Epoch 69/1000\n",
      "187/187 - 18s - loss: 0.3162 - categorical_accuracy: 0.8410 - val_loss: 0.0607 - val_categorical_accuracy: 0.9937 - lr: 6.2500e-04 - 18s/epoch - 97ms/step\n",
      "Epoch 70/1000\n",
      "187/187 - 18s - loss: 0.3158 - categorical_accuracy: 0.8413 - val_loss: 0.0606 - val_categorical_accuracy: 0.9936 - lr: 6.2500e-04 - 18s/epoch - 96ms/step\n",
      "Epoch 71/1000\n",
      "187/187 - 18s - loss: 0.3159 - categorical_accuracy: 0.8414 - val_loss: 0.0601 - val_categorical_accuracy: 0.9936 - lr: 6.2500e-04 - 18s/epoch - 97ms/step\n",
      "Epoch 72/1000\n",
      "187/187 - 18s - loss: 0.3161 - categorical_accuracy: 0.8410 - val_loss: 0.0599 - val_categorical_accuracy: 0.9937 - lr: 3.1250e-04 - 18s/epoch - 97ms/step\n",
      "Epoch 73/1000\n",
      "187/187 - 18s - loss: 0.3155 - categorical_accuracy: 0.8414 - val_loss: 0.0599 - val_categorical_accuracy: 0.9938 - lr: 3.1250e-04 - 18s/epoch - 97ms/step\n",
      "Epoch 74/1000\n",
      "187/187 - 19s - loss: 0.3161 - categorical_accuracy: 0.8411 - val_loss: 0.0598 - val_categorical_accuracy: 0.9939 - lr: 3.1250e-04 - 19s/epoch - 100ms/step\n",
      "Epoch 75/1000\n",
      "187/187 - 19s - loss: 0.3155 - categorical_accuracy: 0.8417 - val_loss: 0.0597 - val_categorical_accuracy: 0.9939 - lr: 3.1250e-04 - 19s/epoch - 100ms/step\n",
      "Epoch 76/1000\n",
      "187/187 - 18s - loss: 0.3158 - categorical_accuracy: 0.8412 - val_loss: 0.0601 - val_categorical_accuracy: 0.9938 - lr: 3.1250e-04 - 18s/epoch - 96ms/step\n",
      "Epoch 77/1000\n",
      "187/187 - 18s - loss: 0.3159 - categorical_accuracy: 0.8410 - val_loss: 0.0601 - val_categorical_accuracy: 0.9939 - lr: 1.5625e-04 - 18s/epoch - 96ms/step\n",
      "Epoch 78/1000\n",
      "187/187 - 19s - loss: 0.3155 - categorical_accuracy: 0.8415 - val_loss: 0.0592 - val_categorical_accuracy: 0.9940 - lr: 1.5625e-04 - 19s/epoch - 101ms/step\n",
      "Epoch 79/1000\n",
      "187/187 - 19s - loss: 0.3153 - categorical_accuracy: 0.8417 - val_loss: 0.0594 - val_categorical_accuracy: 0.9940 - lr: 1.5625e-04 - 19s/epoch - 102ms/step\n",
      "Epoch 80/1000\n",
      "187/187 - 18s - loss: 0.3155 - categorical_accuracy: 0.8414 - val_loss: 0.0597 - val_categorical_accuracy: 0.9939 - lr: 1.5625e-04 - 18s/epoch - 97ms/step\n",
      "Epoch 81/1000\n",
      "187/187 - 18s - loss: 0.3155 - categorical_accuracy: 0.8414 - val_loss: 0.0593 - val_categorical_accuracy: 0.9941 - lr: 1.5625e-04 - 18s/epoch - 97ms/step\n",
      "Epoch 82/1000\n",
      "187/187 - 18s - loss: 0.3153 - categorical_accuracy: 0.8413 - val_loss: 0.0596 - val_categorical_accuracy: 0.9939 - lr: 1.5625e-04 - 18s/epoch - 96ms/step\n",
      "Epoch 83/1000\n",
      "187/187 - 19s - loss: 0.3155 - categorical_accuracy: 0.8417 - val_loss: 0.0591 - val_categorical_accuracy: 0.9940 - lr: 1.5625e-04 - 19s/epoch - 101ms/step\n",
      "Epoch 84/1000\n",
      "187/187 - 18s - loss: 0.3154 - categorical_accuracy: 0.8415 - val_loss: 0.0594 - val_categorical_accuracy: 0.9939 - lr: 1.5625e-04 - 18s/epoch - 96ms/step\n",
      "Epoch 85/1000\n",
      "187/187 - 18s - loss: 0.3153 - categorical_accuracy: 0.8415 - val_loss: 0.0593 - val_categorical_accuracy: 0.9940 - lr: 1.5625e-04 - 18s/epoch - 97ms/step\n",
      "Epoch 86/1000\n",
      "187/187 - 18s - loss: 0.3153 - categorical_accuracy: 0.8413 - val_loss: 0.0593 - val_categorical_accuracy: 0.9940 - lr: 1.5625e-04 - 18s/epoch - 97ms/step\n",
      "Epoch 87/1000\n",
      "187/187 - 19s - loss: 0.3156 - categorical_accuracy: 0.8415 - val_loss: 0.0590 - val_categorical_accuracy: 0.9939 - lr: 1.5625e-04 - 19s/epoch - 100ms/step\n",
      "Epoch 88/1000\n",
      "187/187 - 18s - loss: 0.3155 - categorical_accuracy: 0.8413 - val_loss: 0.0592 - val_categorical_accuracy: 0.9939 - lr: 1.5625e-04 - 18s/epoch - 97ms/step\n",
      "Epoch 89/1000\n",
      "187/187 - 18s - loss: 0.3153 - categorical_accuracy: 0.8415 - val_loss: 0.0593 - val_categorical_accuracy: 0.9940 - lr: 7.8125e-05 - 18s/epoch - 97ms/step\n",
      "Epoch 90/1000\n",
      "187/187 - 18s - loss: 0.3152 - categorical_accuracy: 0.8417 - val_loss: 0.0591 - val_categorical_accuracy: 0.9941 - lr: 7.8125e-05 - 18s/epoch - 97ms/step\n",
      "Epoch 91/1000\n",
      "187/187 - 18s - loss: 0.3155 - categorical_accuracy: 0.8414 - val_loss: 0.0592 - val_categorical_accuracy: 0.9940 - lr: 7.8125e-05 - 18s/epoch - 97ms/step\n",
      "Epoch 92/1000\n",
      "187/187 - 18s - loss: 0.3152 - categorical_accuracy: 0.8415 - val_loss: 0.0593 - val_categorical_accuracy: 0.9939 - lr: 7.8125e-05 - 18s/epoch - 97ms/step\n",
      "Epoch 93/1000\n",
      "187/187 - 19s - loss: 0.3157 - categorical_accuracy: 0.8414 - val_loss: 0.0588 - val_categorical_accuracy: 0.9942 - lr: 7.8125e-05 - 19s/epoch - 101ms/step\n",
      "Epoch 94/1000\n",
      "187/187 - 18s - loss: 0.3149 - categorical_accuracy: 0.8419 - val_loss: 0.0589 - val_categorical_accuracy: 0.9941 - lr: 7.8125e-05 - 18s/epoch - 98ms/step\n",
      "Epoch 95/1000\n",
      "187/187 - 18s - loss: 0.3155 - categorical_accuracy: 0.8412 - val_loss: 0.0588 - val_categorical_accuracy: 0.9941 - lr: 7.8125e-05 - 18s/epoch - 98ms/step\n",
      "Epoch 96/1000\n",
      "187/187 - 18s - loss: 0.3153 - categorical_accuracy: 0.8414 - val_loss: 0.0593 - val_categorical_accuracy: 0.9940 - lr: 7.8125e-05 - 18s/epoch - 97ms/step\n",
      "Epoch 97/1000\n",
      "187/187 - 18s - loss: 0.3152 - categorical_accuracy: 0.8416 - val_loss: 0.0591 - val_categorical_accuracy: 0.9940 - lr: 7.8125e-05 - 18s/epoch - 97ms/step\n",
      "Epoch 98/1000\n",
      "187/187 - 18s - loss: 0.3153 - categorical_accuracy: 0.8413 - val_loss: 0.0591 - val_categorical_accuracy: 0.9940 - lr: 7.8125e-05 - 18s/epoch - 97ms/step\n",
      "Epoch 99/1000\n",
      "187/187 - 18s - loss: 0.3152 - categorical_accuracy: 0.8418 - val_loss: 0.0590 - val_categorical_accuracy: 0.9941 - lr: 3.9062e-05 - 18s/epoch - 97ms/step\n",
      "Epoch 100/1000\n",
      "187/187 - 18s - loss: 0.3152 - categorical_accuracy: 0.8416 - val_loss: 0.0589 - val_categorical_accuracy: 0.9941 - lr: 3.9062e-05 - 18s/epoch - 97ms/step\n",
      "Epoch 101/1000\n",
      "187/187 - 18s - loss: 0.3151 - categorical_accuracy: 0.8416 - val_loss: 0.0590 - val_categorical_accuracy: 0.9941 - lr: 3.9062e-05 - 18s/epoch - 96ms/step\n",
      "Epoch 102/1000\n",
      "187/187 - 18s - loss: 0.3153 - categorical_accuracy: 0.8415 - val_loss: 0.0590 - val_categorical_accuracy: 0.9941 - lr: 3.9062e-05 - 18s/epoch - 97ms/step\n",
      "Epoch 103/1000\n",
      "187/187 - 18s - loss: 0.3155 - categorical_accuracy: 0.8411 - val_loss: 0.0589 - val_categorical_accuracy: 0.9940 - lr: 3.9062e-05 - 18s/epoch - 97ms/step\n",
      "Epoch 104/1000\n",
      "187/187 - 18s - loss: 0.3151 - categorical_accuracy: 0.8417 - val_loss: 0.0590 - val_categorical_accuracy: 0.9941 - lr: 1.9531e-05 - 18s/epoch - 97ms/step\n",
      "Epoch 105/1000\n",
      "187/187 - 18s - loss: 0.3152 - categorical_accuracy: 0.8415 - val_loss: 0.0589 - val_categorical_accuracy: 0.9941 - lr: 1.9531e-05 - 18s/epoch - 97ms/step\n",
      "Epoch 106/1000\n",
      "187/187 - 19s - loss: 0.3152 - categorical_accuracy: 0.8417 - val_loss: 0.0588 - val_categorical_accuracy: 0.9941 - lr: 1.9531e-05 - 19s/epoch - 101ms/step\n",
      "Epoch 107/1000\n",
      "187/187 - 19s - loss: 0.3152 - categorical_accuracy: 0.8415 - val_loss: 0.0588 - val_categorical_accuracy: 0.9941 - lr: 1.9531e-05 - 19s/epoch - 100ms/step\n",
      "Epoch 108/1000\n",
      "187/187 - 18s - loss: 0.3152 - categorical_accuracy: 0.8414 - val_loss: 0.0589 - val_categorical_accuracy: 0.9941 - lr: 1.9531e-05 - 18s/epoch - 97ms/step\n",
      "Epoch 109/1000\n",
      "187/187 - 18s - loss: 0.3152 - categorical_accuracy: 0.8418 - val_loss: 0.0589 - val_categorical_accuracy: 0.9941 - lr: 9.7656e-06 - 18s/epoch - 97ms/step\n",
      "Epoch 110/1000\n",
      "187/187 - 19s - loss: 0.3151 - categorical_accuracy: 0.8416 - val_loss: 0.0587 - val_categorical_accuracy: 0.9942 - lr: 9.7656e-06 - 19s/epoch - 101ms/step\n",
      "Epoch 111/1000\n",
      "187/187 - 18s - loss: 0.3151 - categorical_accuracy: 0.8414 - val_loss: 0.0589 - val_categorical_accuracy: 0.9941 - lr: 9.7656e-06 - 18s/epoch - 97ms/step\n",
      "Epoch 112/1000\n",
      "187/187 - 18s - loss: 0.3153 - categorical_accuracy: 0.8418 - val_loss: 0.0588 - val_categorical_accuracy: 0.9941 - lr: 9.7656e-06 - 18s/epoch - 96ms/step\n",
      "Epoch 113/1000\n",
      "187/187 - 18s - loss: 0.3154 - categorical_accuracy: 0.8411 - val_loss: 0.0589 - val_categorical_accuracy: 0.9941 - lr: 9.7656e-06 - 18s/epoch - 97ms/step\n",
      "Epoch 114/1000\n",
      "187/187 - 18s - loss: 0.3150 - categorical_accuracy: 0.8420 - val_loss: 0.0589 - val_categorical_accuracy: 0.9941 - lr: 9.7656e-06 - 18s/epoch - 97ms/step\n",
      "Epoch 115/1000\n",
      "187/187 - 18s - loss: 0.3152 - categorical_accuracy: 0.8414 - val_loss: 0.0589 - val_categorical_accuracy: 0.9940 - lr: 9.7656e-06 - 18s/epoch - 97ms/step\n",
      "Epoch 116/1000\n",
      "187/187 - 18s - loss: 0.3154 - categorical_accuracy: 0.8413 - val_loss: 0.0587 - val_categorical_accuracy: 0.9942 - lr: 4.8828e-06 - 18s/epoch - 98ms/step\n",
      "Epoch 117/1000\n",
      "187/187 - 19s - loss: 0.3150 - categorical_accuracy: 0.8419 - val_loss: 0.0588 - val_categorical_accuracy: 0.9941 - lr: 4.8828e-06 - 19s/epoch - 103ms/step\n",
      "Epoch 118/1000\n",
      "187/187 - 18s - loss: 0.3156 - categorical_accuracy: 0.8411 - val_loss: 0.0589 - val_categorical_accuracy: 0.9941 - lr: 4.8828e-06 - 18s/epoch - 98ms/step\n",
      "Epoch 119/1000\n",
      "187/187 - 18s - loss: 0.3150 - categorical_accuracy: 0.8418 - val_loss: 0.0589 - val_categorical_accuracy: 0.9941 - lr: 4.8828e-06 - 18s/epoch - 97ms/step\n",
      "Epoch 120/1000\n",
      "187/187 - 18s - loss: 0.3152 - categorical_accuracy: 0.8414 - val_loss: 0.0588 - val_categorical_accuracy: 0.9941 - lr: 4.8828e-06 - 18s/epoch - 98ms/step\n",
      "Epoch 121/1000\n",
      "187/187 - 18s - loss: 0.3152 - categorical_accuracy: 0.8418 - val_loss: 0.0590 - val_categorical_accuracy: 0.9941 - lr: 2.4414e-06 - 18s/epoch - 98ms/step\n",
      "Epoch 122/1000\n",
      "187/187 - 18s - loss: 0.3152 - categorical_accuracy: 0.8415 - val_loss: 0.0589 - val_categorical_accuracy: 0.9940 - lr: 2.4414e-06 - 18s/epoch - 97ms/step\n",
      "Epoch 123/1000\n",
      "187/187 - 18s - loss: 0.3154 - categorical_accuracy: 0.8415 - val_loss: 0.0591 - val_categorical_accuracy: 0.9940 - lr: 2.4414e-06 - 18s/epoch - 98ms/step\n",
      "Epoch 124/1000\n",
      "187/187 - 18s - loss: 0.3151 - categorical_accuracy: 0.8415 - val_loss: 0.0590 - val_categorical_accuracy: 0.9941 - lr: 2.4414e-06 - 18s/epoch - 97ms/step\n",
      "Epoch 125/1000\n",
      "187/187 - 18s - loss: 0.3153 - categorical_accuracy: 0.8416 - val_loss: 0.0589 - val_categorical_accuracy: 0.9941 - lr: 2.4414e-06 - 18s/epoch - 98ms/step\n",
      "Epoch 126/1000\n",
      "187/187 - 18s - loss: 0.3150 - categorical_accuracy: 0.8415 - val_loss: 0.0590 - val_categorical_accuracy: 0.9940 - lr: 1.2207e-06 - 18s/epoch - 97ms/step\n",
      "Epoch 127/1000\n",
      "187/187 - 18s - loss: 0.3153 - categorical_accuracy: 0.8415 - val_loss: 0.0590 - val_categorical_accuracy: 0.9941 - lr: 1.2207e-06 - 18s/epoch - 97ms/step\n",
      "Epoch 128/1000\n",
      "187/187 - 18s - loss: 0.3154 - categorical_accuracy: 0.8415 - val_loss: 0.0588 - val_categorical_accuracy: 0.9942 - lr: 1.2207e-06 - 18s/epoch - 97ms/step\n",
      "Epoch 129/1000\n",
      "187/187 - 18s - loss: 0.3151 - categorical_accuracy: 0.8414 - val_loss: 0.0589 - val_categorical_accuracy: 0.9940 - lr: 1.2207e-06 - 18s/epoch - 97ms/step\n",
      "Epoch 130/1000\n",
      "Restoring model weights from the end of the best epoch: 110.\n",
      "187/187 - 21s - loss: 0.3151 - categorical_accuracy: 0.8417 - val_loss: 0.0589 - val_categorical_accuracy: 0.9941 - lr: 1.2207e-06 - 21s/epoch - 110ms/step\n",
      "Epoch 130: early stopping\n"
     ]
    },
    {
     "output_type": "stream",
     "name": "stderr",
     "text": [
      "100%|██████████| 835/835 [00:02<00:00, 387.86it/s]\n",
      "100%|██████████| 835/835 [00:01<00:00, 454.88it/s]\n"
     ]
    },
    {
     "output_type": "stream",
     "name": "stdout",
     "text": [
      "The average imputation accuracyon test data with 0.01 missing genotypes is 0.9836: \n",
      "Sensitivity: 0.9754992798661611\n",
      "Specificity: 0.9931346223587266\n",
      "F1-score macro: 0.978437507209148\n",
      "F1-score micro: 0.9835540187231171\n"
     ]
    },
    {
     "output_type": "stream",
     "name": "stderr",
     "text": [
      "100%|██████████| 835/835 [00:01<00:00, 441.26it/s]\n",
      "100%|██████████| 835/835 [00:02<00:00, 334.55it/s]\n"
     ]
    },
    {
     "output_type": "stream",
     "name": "stdout",
     "text": [
      "The average imputation accuracyon test data with 0.05 missing genotypes is 0.9836: \n",
      "Sensitivity: 0.9760633852287145\n",
      "Specificity: 0.9931861369020838\n",
      "F1-score macro: 0.9787434681207936\n",
      "F1-score micro: 0.9835580236175693\n"
     ]
    },
    {
     "output_type": "stream",
     "name": "stderr",
     "text": [
      "100%|██████████| 835/835 [00:01<00:00, 433.79it/s]\n",
      "100%|██████████| 835/835 [00:02<00:00, 303.49it/s]\n"
     ]
    },
    {
     "output_type": "stream",
     "name": "stdout",
     "text": [
      "The average imputation accuracyon test data with 0.1 missing genotypes is 0.9833: \n",
      "Sensitivity: 0.975709357217598\n",
      "Specificity: 0.9930705177543079\n",
      "F1-score macro: 0.9784071574176683\n",
      "F1-score micro: 0.9832720034790754\n"
     ]
    },
    {
     "output_type": "stream",
     "name": "stderr",
     "text": [
      "100%|██████████| 835/835 [00:02<00:00, 377.94it/s]\n",
      "100%|██████████| 835/835 [00:03<00:00, 224.72it/s]\n"
     ]
    },
    {
     "output_type": "stream",
     "name": "stdout",
     "text": [
      "The average imputation accuracyon test data with 0.2 missing genotypes is 0.9829: \n",
      "Sensitivity: 0.9751673440376529\n",
      "Specificity: 0.9928827543817741\n",
      "F1-score macro: 0.9779013267860894\n",
      "F1-score micro: 0.9828530090656675\n",
      "=====================================\n",
      "Training using fold 3\n",
      "Epoch 1/1000\n",
      "187/187 - 47s - loss: 0.5094 - categorical_accuracy: 0.7698 - val_loss: 1.0242 - val_categorical_accuracy: 0.4423 - lr: 0.0100 - 47s/epoch - 250ms/step\n",
      "Epoch 2/1000\n",
      "187/187 - 19s - loss: 0.4089 - categorical_accuracy: 0.8055 - val_loss: 0.4304 - val_categorical_accuracy: 0.8349 - lr: 0.0100 - 19s/epoch - 102ms/step\n",
      "Epoch 3/1000\n",
      "187/187 - 19s - loss: 0.3448 - categorical_accuracy: 0.8127 - val_loss: 0.1936 - val_categorical_accuracy: 0.8865 - lr: 0.0100 - 19s/epoch - 101ms/step\n",
      "Epoch 4/1000\n",
      "187/187 - 19s - loss: 0.3323 - categorical_accuracy: 0.8154 - val_loss: 0.1618 - val_categorical_accuracy: 0.8920 - lr: 0.0100 - 19s/epoch - 101ms/step\n",
      "Epoch 5/1000\n",
      "187/187 - 19s - loss: 0.3282 - categorical_accuracy: 0.8168 - val_loss: 0.1555 - val_categorical_accuracy: 0.8943 - lr: 0.0100 - 19s/epoch - 102ms/step\n",
      "Epoch 6/1000\n",
      "187/187 - 19s - loss: 0.3259 - categorical_accuracy: 0.8173 - val_loss: 0.1455 - val_categorical_accuracy: 0.8981 - lr: 0.0100 - 19s/epoch - 102ms/step\n",
      "Epoch 7/1000\n",
      "187/187 - 19s - loss: 0.3241 - categorical_accuracy: 0.8180 - val_loss: 0.1351 - val_categorical_accuracy: 0.8995 - lr: 0.0100 - 19s/epoch - 101ms/step\n",
      "Epoch 8/1000\n",
      "187/187 - 18s - loss: 0.3233 - categorical_accuracy: 0.8180 - val_loss: 0.1371 - val_categorical_accuracy: 0.8989 - lr: 0.0100 - 18s/epoch - 97ms/step\n",
      "Epoch 9/1000\n",
      "187/187 - 19s - loss: 0.3226 - categorical_accuracy: 0.8183 - val_loss: 0.1326 - val_categorical_accuracy: 0.9009 - lr: 0.0100 - 19s/epoch - 101ms/step\n",
      "Epoch 10/1000\n",
      "187/187 - 18s - loss: 0.3219 - categorical_accuracy: 0.8217 - val_loss: 0.1380 - val_categorical_accuracy: 0.9332 - lr: 0.0100 - 18s/epoch - 98ms/step\n",
      "Epoch 11/1000\n",
      "187/187 - 18s - loss: 0.3217 - categorical_accuracy: 0.8403 - val_loss: 0.1336 - val_categorical_accuracy: 0.9790 - lr: 0.0100 - 18s/epoch - 97ms/step\n",
      "Epoch 12/1000\n",
      "187/187 - 18s - loss: 0.3214 - categorical_accuracy: 0.8512 - val_loss: 0.1389 - val_categorical_accuracy: 0.9760 - lr: 0.0100 - 18s/epoch - 97ms/step\n",
      "Epoch 13/1000\n",
      "187/187 - 20s - loss: 0.3215 - categorical_accuracy: 0.8511 - val_loss: 0.1292 - val_categorical_accuracy: 0.9795 - lr: 0.0100 - 20s/epoch - 106ms/step\n",
      "Epoch 14/1000\n",
      "187/187 - 19s - loss: 0.3209 - categorical_accuracy: 0.8514 - val_loss: 0.1287 - val_categorical_accuracy: 0.9794 - lr: 0.0100 - 19s/epoch - 102ms/step\n",
      "Epoch 15/1000\n",
      "187/187 - 18s - loss: 0.3217 - categorical_accuracy: 0.8511 - val_loss: 0.1301 - val_categorical_accuracy: 0.9793 - lr: 0.0100 - 18s/epoch - 98ms/step\n",
      "Epoch 16/1000\n",
      "187/187 - 18s - loss: 0.3211 - categorical_accuracy: 0.8514 - val_loss: 0.1343 - val_categorical_accuracy: 0.9766 - lr: 0.0100 - 18s/epoch - 97ms/step\n",
      "Epoch 17/1000\n",
      "187/187 - 18s - loss: 0.3210 - categorical_accuracy: 0.8515 - val_loss: 0.1302 - val_categorical_accuracy: 0.9794 - lr: 0.0100 - 18s/epoch - 98ms/step\n",
      "Epoch 18/1000\n",
      "187/187 - 18s - loss: 0.3207 - categorical_accuracy: 0.8509 - val_loss: 0.1336 - val_categorical_accuracy: 0.9748 - lr: 0.0100 - 18s/epoch - 97ms/step\n",
      "Epoch 19/1000\n",
      "187/187 - 19s - loss: 0.3184 - categorical_accuracy: 0.8514 - val_loss: 0.1277 - val_categorical_accuracy: 0.9737 - lr: 0.0100 - 19s/epoch - 102ms/step\n",
      "Epoch 20/1000\n",
      "187/187 - 19s - loss: 0.3178 - categorical_accuracy: 0.8513 - val_loss: 0.1244 - val_categorical_accuracy: 0.9746 - lr: 0.0100 - 19s/epoch - 102ms/step\n",
      "Epoch 21/1000\n",
      "187/187 - 19s - loss: 0.3177 - categorical_accuracy: 0.8511 - val_loss: 0.1167 - val_categorical_accuracy: 0.9784 - lr: 0.0100 - 19s/epoch - 101ms/step\n",
      "Epoch 22/1000\n",
      "187/187 - 18s - loss: 0.3180 - categorical_accuracy: 0.8511 - val_loss: 0.1209 - val_categorical_accuracy: 0.9751 - lr: 0.0100 - 18s/epoch - 97ms/step\n",
      "Epoch 23/1000\n",
      "187/187 - 18s - loss: 0.3184 - categorical_accuracy: 0.8509 - val_loss: 0.1307 - val_categorical_accuracy: 0.9706 - lr: 0.0100 - 18s/epoch - 97ms/step\n",
      "Epoch 24/1000\n",
      "187/187 - 18s - loss: 0.3186 - categorical_accuracy: 0.8507 - val_loss: 0.1190 - val_categorical_accuracy: 0.9786 - lr: 0.0100 - 18s/epoch - 97ms/step\n",
      "Epoch 25/1000\n",
      "187/187 - 18s - loss: 0.3193 - categorical_accuracy: 0.8505 - val_loss: 0.1303 - val_categorical_accuracy: 0.9731 - lr: 0.0100 - 18s/epoch - 97ms/step\n",
      "Epoch 26/1000\n",
      "187/187 - 18s - loss: 0.3192 - categorical_accuracy: 0.8506 - val_loss: 0.1237 - val_categorical_accuracy: 0.9750 - lr: 0.0100 - 18s/epoch - 98ms/step\n",
      "Epoch 27/1000\n",
      "187/187 - 19s - loss: 0.3142 - categorical_accuracy: 0.8527 - val_loss: 0.0987 - val_categorical_accuracy: 0.9852 - lr: 0.0050 - 19s/epoch - 102ms/step\n",
      "Epoch 28/1000\n",
      "187/187 - 18s - loss: 0.3124 - categorical_accuracy: 0.8536 - val_loss: 0.0997 - val_categorical_accuracy: 0.9843 - lr: 0.0050 - 18s/epoch - 98ms/step\n",
      "Epoch 29/1000\n",
      "187/187 - 19s - loss: 0.3117 - categorical_accuracy: 0.8538 - val_loss: 0.0977 - val_categorical_accuracy: 0.9871 - lr: 0.0050 - 19s/epoch - 102ms/step\n",
      "Epoch 30/1000\n",
      "187/187 - 18s - loss: 0.3110 - categorical_accuracy: 0.8540 - val_loss: 0.1000 - val_categorical_accuracy: 0.9863 - lr: 0.0050 - 18s/epoch - 98ms/step\n",
      "Epoch 31/1000\n",
      "187/187 - 19s - loss: 0.3108 - categorical_accuracy: 0.8543 - val_loss: 0.0957 - val_categorical_accuracy: 0.9872 - lr: 0.0050 - 19s/epoch - 101ms/step\n",
      "Epoch 32/1000\n",
      "187/187 - 19s - loss: 0.3108 - categorical_accuracy: 0.8541 - val_loss: 0.0952 - val_categorical_accuracy: 0.9863 - lr: 0.0050 - 19s/epoch - 101ms/step\n",
      "Epoch 33/1000\n",
      "187/187 - 18s - loss: 0.3103 - categorical_accuracy: 0.8543 - val_loss: 0.0965 - val_categorical_accuracy: 0.9871 - lr: 0.0050 - 18s/epoch - 97ms/step\n",
      "Epoch 34/1000\n",
      "187/187 - 19s - loss: 0.3103 - categorical_accuracy: 0.8544 - val_loss: 0.0932 - val_categorical_accuracy: 0.9876 - lr: 0.0050 - 19s/epoch - 102ms/step\n",
      "Epoch 35/1000\n",
      "187/187 - 18s - loss: 0.3102 - categorical_accuracy: 0.8544 - val_loss: 0.0947 - val_categorical_accuracy: 0.9868 - lr: 0.0050 - 18s/epoch - 98ms/step\n",
      "Epoch 36/1000\n",
      "187/187 - 18s - loss: 0.3098 - categorical_accuracy: 0.8546 - val_loss: 0.0962 - val_categorical_accuracy: 0.9881 - lr: 0.0050 - 18s/epoch - 98ms/step\n",
      "Epoch 37/1000\n",
      "187/187 - 18s - loss: 0.3101 - categorical_accuracy: 0.8545 - val_loss: 0.0935 - val_categorical_accuracy: 0.9876 - lr: 0.0050 - 18s/epoch - 98ms/step\n",
      "Epoch 38/1000\n",
      "187/187 - 18s - loss: 0.3096 - categorical_accuracy: 0.8547 - val_loss: 0.0940 - val_categorical_accuracy: 0.9871 - lr: 0.0050 - 18s/epoch - 97ms/step\n",
      "Epoch 39/1000\n",
      "187/187 - 18s - loss: 0.3100 - categorical_accuracy: 0.8546 - val_loss: 0.0986 - val_categorical_accuracy: 0.9873 - lr: 0.0050 - 18s/epoch - 98ms/step\n",
      "Epoch 40/1000\n",
      "187/187 - 19s - loss: 0.3079 - categorical_accuracy: 0.8553 - val_loss: 0.0868 - val_categorical_accuracy: 0.9901 - lr: 0.0025 - 19s/epoch - 102ms/step\n",
      "Epoch 41/1000\n",
      "187/187 - 18s - loss: 0.3073 - categorical_accuracy: 0.8556 - val_loss: 0.0894 - val_categorical_accuracy: 0.9901 - lr: 0.0025 - 18s/epoch - 98ms/step\n",
      "Epoch 42/1000\n",
      "187/187 - 18s - loss: 0.3068 - categorical_accuracy: 0.8559 - val_loss: 0.0872 - val_categorical_accuracy: 0.9903 - lr: 0.0025 - 18s/epoch - 98ms/step\n",
      "Epoch 43/1000\n",
      "187/187 - 19s - loss: 0.3065 - categorical_accuracy: 0.8560 - val_loss: 0.0847 - val_categorical_accuracy: 0.9908 - lr: 0.0025 - 19s/epoch - 102ms/step\n",
      "Epoch 44/1000\n",
      "187/187 - 18s - loss: 0.3064 - categorical_accuracy: 0.8561 - val_loss: 0.0858 - val_categorical_accuracy: 0.9909 - lr: 0.0025 - 18s/epoch - 97ms/step\n",
      "Epoch 45/1000\n",
      "187/187 - 18s - loss: 0.3062 - categorical_accuracy: 0.8561 - val_loss: 0.0865 - val_categorical_accuracy: 0.9907 - lr: 0.0025 - 18s/epoch - 98ms/step\n",
      "Epoch 46/1000\n",
      "187/187 - 18s - loss: 0.3063 - categorical_accuracy: 0.8560 - val_loss: 0.0872 - val_categorical_accuracy: 0.9910 - lr: 0.0025 - 18s/epoch - 98ms/step\n",
      "Epoch 47/1000\n",
      "187/187 - 18s - loss: 0.3059 - categorical_accuracy: 0.8563 - val_loss: 0.0854 - val_categorical_accuracy: 0.9911 - lr: 0.0025 - 18s/epoch - 98ms/step\n",
      "Epoch 48/1000\n",
      "187/187 - 18s - loss: 0.3062 - categorical_accuracy: 0.8562 - val_loss: 0.0870 - val_categorical_accuracy: 0.9907 - lr: 0.0025 - 18s/epoch - 98ms/step\n",
      "Epoch 49/1000\n",
      "187/187 - 19s - loss: 0.3049 - categorical_accuracy: 0.8567 - val_loss: 0.0843 - val_categorical_accuracy: 0.9919 - lr: 0.0012 - 19s/epoch - 101ms/step\n",
      "Epoch 50/1000\n",
      "187/187 - 19s - loss: 0.3048 - categorical_accuracy: 0.8567 - val_loss: 0.0829 - val_categorical_accuracy: 0.9919 - lr: 0.0012 - 19s/epoch - 102ms/step\n",
      "Epoch 51/1000\n",
      "187/187 - 19s - loss: 0.3046 - categorical_accuracy: 0.8569 - val_loss: 0.0834 - val_categorical_accuracy: 0.9919 - lr: 0.0012 - 19s/epoch - 104ms/step\n",
      "Epoch 52/1000\n",
      "187/187 - 18s - loss: 0.3044 - categorical_accuracy: 0.8571 - val_loss: 0.0847 - val_categorical_accuracy: 0.9921 - lr: 0.0012 - 18s/epoch - 97ms/step\n",
      "Epoch 53/1000\n",
      "187/187 - 18s - loss: 0.3048 - categorical_accuracy: 0.8566 - val_loss: 0.0832 - val_categorical_accuracy: 0.9921 - lr: 0.0012 - 18s/epoch - 97ms/step\n",
      "Epoch 54/1000\n",
      "187/187 - 19s - loss: 0.3039 - categorical_accuracy: 0.8572 - val_loss: 0.0816 - val_categorical_accuracy: 0.9922 - lr: 0.0012 - 19s/epoch - 101ms/step\n",
      "Epoch 55/1000\n",
      "187/187 - 18s - loss: 0.3041 - categorical_accuracy: 0.8571 - val_loss: 0.0818 - val_categorical_accuracy: 0.9923 - lr: 0.0012 - 18s/epoch - 97ms/step\n",
      "Epoch 56/1000\n",
      "187/187 - 18s - loss: 0.3043 - categorical_accuracy: 0.8569 - val_loss: 0.0822 - val_categorical_accuracy: 0.9924 - lr: 0.0012 - 18s/epoch - 97ms/step\n",
      "Epoch 57/1000\n",
      "187/187 - 19s - loss: 0.3038 - categorical_accuracy: 0.8572 - val_loss: 0.0807 - val_categorical_accuracy: 0.9923 - lr: 0.0012 - 19s/epoch - 101ms/step\n",
      "Epoch 58/1000\n",
      "187/187 - 18s - loss: 0.3042 - categorical_accuracy: 0.8568 - val_loss: 0.0820 - val_categorical_accuracy: 0.9923 - lr: 0.0012 - 18s/epoch - 98ms/step\n",
      "Epoch 59/1000\n",
      "187/187 - 18s - loss: 0.3043 - categorical_accuracy: 0.8569 - val_loss: 0.0821 - val_categorical_accuracy: 0.9924 - lr: 0.0012 - 18s/epoch - 97ms/step\n",
      "Epoch 60/1000\n",
      "187/187 - 18s - loss: 0.3037 - categorical_accuracy: 0.8572 - val_loss: 0.0818 - val_categorical_accuracy: 0.9926 - lr: 0.0012 - 18s/epoch - 97ms/step\n",
      "Epoch 61/1000\n",
      "187/187 - 18s - loss: 0.3038 - categorical_accuracy: 0.8571 - val_loss: 0.0813 - val_categorical_accuracy: 0.9925 - lr: 0.0012 - 18s/epoch - 97ms/step\n",
      "Epoch 62/1000\n",
      "187/187 - 18s - loss: 0.3036 - categorical_accuracy: 0.8572 - val_loss: 0.0812 - val_categorical_accuracy: 0.9927 - lr: 0.0012 - 18s/epoch - 98ms/step\n",
      "Epoch 63/1000\n",
      "187/187 - 19s - loss: 0.3034 - categorical_accuracy: 0.8574 - val_loss: 0.0801 - val_categorical_accuracy: 0.9928 - lr: 6.2500e-04 - 19s/epoch - 102ms/step\n",
      "Epoch 64/1000\n",
      "187/187 - 18s - loss: 0.3034 - categorical_accuracy: 0.8573 - val_loss: 0.0805 - val_categorical_accuracy: 0.9929 - lr: 6.2500e-04 - 18s/epoch - 97ms/step\n",
      "Epoch 65/1000\n",
      "187/187 - 19s - loss: 0.3031 - categorical_accuracy: 0.8574 - val_loss: 0.0800 - val_categorical_accuracy: 0.9929 - lr: 6.2500e-04 - 19s/epoch - 101ms/step\n",
      "Epoch 66/1000\n",
      "187/187 - 18s - loss: 0.3032 - categorical_accuracy: 0.8573 - val_loss: 0.0807 - val_categorical_accuracy: 0.9929 - lr: 6.2500e-04 - 18s/epoch - 97ms/step\n",
      "Epoch 67/1000\n",
      "187/187 - 19s - loss: 0.3030 - categorical_accuracy: 0.8575 - val_loss: 0.0798 - val_categorical_accuracy: 0.9930 - lr: 6.2500e-04 - 19s/epoch - 101ms/step\n",
      "Epoch 68/1000\n",
      "187/187 - 18s - loss: 0.3035 - categorical_accuracy: 0.8571 - val_loss: 0.0799 - val_categorical_accuracy: 0.9930 - lr: 6.2500e-04 - 18s/epoch - 99ms/step\n",
      "Epoch 69/1000\n",
      "187/187 - 19s - loss: 0.3026 - categorical_accuracy: 0.8577 - val_loss: 0.0794 - val_categorical_accuracy: 0.9929 - lr: 6.2500e-04 - 19s/epoch - 102ms/step\n",
      "Epoch 70/1000\n",
      "187/187 - 18s - loss: 0.3023 - categorical_accuracy: 0.8579 - val_loss: 0.0806 - val_categorical_accuracy: 0.9930 - lr: 6.2500e-04 - 18s/epoch - 98ms/step\n",
      "Epoch 71/1000\n",
      "187/187 - 18s - loss: 0.3031 - categorical_accuracy: 0.8574 - val_loss: 0.0797 - val_categorical_accuracy: 0.9930 - lr: 6.2500e-04 - 18s/epoch - 98ms/step\n",
      "Epoch 72/1000\n",
      "187/187 - 18s - loss: 0.3031 - categorical_accuracy: 0.8574 - val_loss: 0.0799 - val_categorical_accuracy: 0.9930 - lr: 6.2500e-04 - 18s/epoch - 98ms/step\n",
      "Epoch 73/1000\n",
      "187/187 - 19s - loss: 0.3028 - categorical_accuracy: 0.8576 - val_loss: 0.0793 - val_categorical_accuracy: 0.9930 - lr: 6.2500e-04 - 19s/epoch - 101ms/step\n",
      "Epoch 74/1000\n",
      "187/187 - 18s - loss: 0.3025 - categorical_accuracy: 0.8577 - val_loss: 0.0794 - val_categorical_accuracy: 0.9930 - lr: 6.2500e-04 - 18s/epoch - 97ms/step\n",
      "Epoch 75/1000\n",
      "187/187 - 19s - loss: 0.3027 - categorical_accuracy: 0.8575 - val_loss: 0.0784 - val_categorical_accuracy: 0.9933 - lr: 3.1250e-04 - 19s/epoch - 101ms/step\n",
      "Epoch 76/1000\n",
      "187/187 - 18s - loss: 0.3027 - categorical_accuracy: 0.8575 - val_loss: 0.0784 - val_categorical_accuracy: 0.9934 - lr: 3.1250e-04 - 18s/epoch - 97ms/step\n",
      "Epoch 77/1000\n",
      "187/187 - 18s - loss: 0.3021 - categorical_accuracy: 0.8580 - val_loss: 0.0784 - val_categorical_accuracy: 0.9934 - lr: 3.1250e-04 - 18s/epoch - 97ms/step\n",
      "Epoch 78/1000\n",
      "187/187 - 19s - loss: 0.3027 - categorical_accuracy: 0.8575 - val_loss: 0.0781 - val_categorical_accuracy: 0.9934 - lr: 3.1250e-04 - 19s/epoch - 102ms/step\n",
      "Epoch 79/1000\n",
      "187/187 - 18s - loss: 0.3026 - categorical_accuracy: 0.8575 - val_loss: 0.0785 - val_categorical_accuracy: 0.9935 - lr: 3.1250e-04 - 18s/epoch - 97ms/step\n",
      "Epoch 80/1000\n",
      "187/187 - 18s - loss: 0.3024 - categorical_accuracy: 0.8578 - val_loss: 0.0786 - val_categorical_accuracy: 0.9934 - lr: 3.1250e-04 - 18s/epoch - 97ms/step\n",
      "Epoch 81/1000\n",
      "187/187 - 18s - loss: 0.3022 - categorical_accuracy: 0.8578 - val_loss: 0.0785 - val_categorical_accuracy: 0.9934 - lr: 3.1250e-04 - 18s/epoch - 97ms/step\n",
      "Epoch 82/1000\n",
      "187/187 - 18s - loss: 0.3027 - categorical_accuracy: 0.8576 - val_loss: 0.0788 - val_categorical_accuracy: 0.9935 - lr: 3.1250e-04 - 18s/epoch - 97ms/step\n",
      "Epoch 83/1000\n",
      "187/187 - 18s - loss: 0.3020 - categorical_accuracy: 0.8579 - val_loss: 0.0786 - val_categorical_accuracy: 0.9935 - lr: 3.1250e-04 - 18s/epoch - 97ms/step\n",
      "Epoch 84/1000\n",
      "187/187 - 18s - loss: 0.3025 - categorical_accuracy: 0.8577 - val_loss: 0.0784 - val_categorical_accuracy: 0.9936 - lr: 1.5625e-04 - 18s/epoch - 98ms/step\n",
      "Epoch 85/1000\n",
      "187/187 - 18s - loss: 0.3021 - categorical_accuracy: 0.8578 - val_loss: 0.0783 - val_categorical_accuracy: 0.9936 - lr: 1.5625e-04 - 18s/epoch - 97ms/step\n",
      "Epoch 86/1000\n",
      "187/187 - 18s - loss: 0.3026 - categorical_accuracy: 0.8576 - val_loss: 0.0782 - val_categorical_accuracy: 0.9936 - lr: 1.5625e-04 - 18s/epoch - 98ms/step\n",
      "Epoch 87/1000\n",
      "187/187 - 18s - loss: 0.3020 - categorical_accuracy: 0.8580 - val_loss: 0.0783 - val_categorical_accuracy: 0.9935 - lr: 1.5625e-04 - 18s/epoch - 97ms/step\n",
      "Epoch 88/1000\n",
      "187/187 - 19s - loss: 0.3016 - categorical_accuracy: 0.8580 - val_loss: 0.0780 - val_categorical_accuracy: 0.9937 - lr: 1.5625e-04 - 19s/epoch - 101ms/step\n",
      "Epoch 89/1000\n",
      "187/187 - 18s - loss: 0.3026 - categorical_accuracy: 0.8575 - val_loss: 0.0780 - val_categorical_accuracy: 0.9936 - lr: 1.5625e-04 - 18s/epoch - 97ms/step\n",
      "Epoch 90/1000\n",
      "187/187 - 20s - loss: 0.3015 - categorical_accuracy: 0.8583 - val_loss: 0.0778 - val_categorical_accuracy: 0.9936 - lr: 1.5625e-04 - 20s/epoch - 108ms/step\n",
      "Epoch 91/1000\n",
      "187/187 - 18s - loss: 0.3021 - categorical_accuracy: 0.8578 - val_loss: 0.0779 - val_categorical_accuracy: 0.9937 - lr: 1.5625e-04 - 18s/epoch - 97ms/step\n",
      "Epoch 92/1000\n",
      "187/187 - 19s - loss: 0.3019 - categorical_accuracy: 0.8579 - val_loss: 0.0778 - val_categorical_accuracy: 0.9938 - lr: 1.5625e-04 - 19s/epoch - 102ms/step\n",
      "Epoch 93/1000\n",
      "187/187 - 18s - loss: 0.3020 - categorical_accuracy: 0.8580 - val_loss: 0.0782 - val_categorical_accuracy: 0.9936 - lr: 1.5625e-04 - 18s/epoch - 97ms/step\n",
      "Epoch 94/1000\n",
      "187/187 - 18s - loss: 0.3026 - categorical_accuracy: 0.8575 - val_loss: 0.0782 - val_categorical_accuracy: 0.9935 - lr: 1.5625e-04 - 18s/epoch - 98ms/step\n",
      "Epoch 95/1000\n",
      "187/187 - 18s - loss: 0.3018 - categorical_accuracy: 0.8580 - val_loss: 0.0781 - val_categorical_accuracy: 0.9936 - lr: 1.5625e-04 - 18s/epoch - 98ms/step\n",
      "Epoch 96/1000\n",
      "187/187 - 18s - loss: 0.3021 - categorical_accuracy: 0.8576 - val_loss: 0.0780 - val_categorical_accuracy: 0.9936 - lr: 7.8125e-05 - 18s/epoch - 97ms/step\n",
      "Epoch 97/1000\n",
      "187/187 - 19s - loss: 0.3019 - categorical_accuracy: 0.8579 - val_loss: 0.0777 - val_categorical_accuracy: 0.9938 - lr: 7.8125e-05 - 19s/epoch - 101ms/step\n",
      "Epoch 98/1000\n",
      "187/187 - 19s - loss: 0.3020 - categorical_accuracy: 0.8580 - val_loss: 0.0777 - val_categorical_accuracy: 0.9937 - lr: 7.8125e-05 - 19s/epoch - 102ms/step\n",
      "Epoch 99/1000\n",
      "187/187 - 18s - loss: 0.3024 - categorical_accuracy: 0.8577 - val_loss: 0.0779 - val_categorical_accuracy: 0.9937 - lr: 7.8125e-05 - 18s/epoch - 97ms/step\n",
      "Epoch 100/1000\n",
      "187/187 - 18s - loss: 0.3017 - categorical_accuracy: 0.8582 - val_loss: 0.0780 - val_categorical_accuracy: 0.9938 - lr: 7.8125e-05 - 18s/epoch - 97ms/step\n",
      "Epoch 101/1000\n",
      "187/187 - 19s - loss: 0.3018 - categorical_accuracy: 0.8578 - val_loss: 0.0777 - val_categorical_accuracy: 0.9937 - lr: 7.8125e-05 - 19s/epoch - 101ms/step\n",
      "Epoch 102/1000\n",
      "187/187 - 18s - loss: 0.3021 - categorical_accuracy: 0.8579 - val_loss: 0.0778 - val_categorical_accuracy: 0.9936 - lr: 7.8125e-05 - 18s/epoch - 97ms/step\n",
      "Epoch 103/1000\n",
      "187/187 - 19s - loss: 0.3018 - categorical_accuracy: 0.8580 - val_loss: 0.0775 - val_categorical_accuracy: 0.9937 - lr: 7.8125e-05 - 19s/epoch - 101ms/step\n",
      "Epoch 104/1000\n",
      "187/187 - 18s - loss: 0.3021 - categorical_accuracy: 0.8579 - val_loss: 0.0778 - val_categorical_accuracy: 0.9937 - lr: 7.8125e-05 - 18s/epoch - 97ms/step\n",
      "Epoch 105/1000\n",
      "187/187 - 18s - loss: 0.3019 - categorical_accuracy: 0.8579 - val_loss: 0.0779 - val_categorical_accuracy: 0.9936 - lr: 7.8125e-05 - 18s/epoch - 97ms/step\n",
      "Epoch 106/1000\n",
      "187/187 - 18s - loss: 0.3017 - categorical_accuracy: 0.8582 - val_loss: 0.0776 - val_categorical_accuracy: 0.9937 - lr: 7.8125e-05 - 18s/epoch - 97ms/step\n",
      "Epoch 107/1000\n",
      "187/187 - 19s - loss: 0.3018 - categorical_accuracy: 0.8579 - val_loss: 0.0774 - val_categorical_accuracy: 0.9937 - lr: 7.8125e-05 - 19s/epoch - 101ms/step\n",
      "Epoch 108/1000\n",
      "187/187 - 18s - loss: 0.3020 - categorical_accuracy: 0.8579 - val_loss: 0.0777 - val_categorical_accuracy: 0.9937 - lr: 7.8125e-05 - 18s/epoch - 98ms/step\n",
      "Epoch 109/1000\n",
      "187/187 - 18s - loss: 0.3020 - categorical_accuracy: 0.8579 - val_loss: 0.0778 - val_categorical_accuracy: 0.9937 - lr: 7.8125e-05 - 18s/epoch - 97ms/step\n",
      "Epoch 110/1000\n",
      "187/187 - 18s - loss: 0.3023 - categorical_accuracy: 0.8577 - val_loss: 0.0776 - val_categorical_accuracy: 0.9937 - lr: 7.8125e-05 - 18s/epoch - 97ms/step\n",
      "Epoch 111/1000\n",
      "187/187 - 18s - loss: 0.3019 - categorical_accuracy: 0.8578 - val_loss: 0.0778 - val_categorical_accuracy: 0.9936 - lr: 7.8125e-05 - 18s/epoch - 97ms/step\n",
      "Epoch 112/1000\n",
      "187/187 - 18s - loss: 0.3015 - categorical_accuracy: 0.8581 - val_loss: 0.0776 - val_categorical_accuracy: 0.9937 - lr: 7.8125e-05 - 18s/epoch - 98ms/step\n",
      "Epoch 113/1000\n",
      "187/187 - 18s - loss: 0.3018 - categorical_accuracy: 0.8582 - val_loss: 0.0778 - val_categorical_accuracy: 0.9937 - lr: 3.9062e-05 - 18s/epoch - 97ms/step\n",
      "Epoch 114/1000\n",
      "187/187 - 18s - loss: 0.3018 - categorical_accuracy: 0.8579 - val_loss: 0.0777 - val_categorical_accuracy: 0.9938 - lr: 3.9062e-05 - 18s/epoch - 97ms/step\n",
      "Epoch 115/1000\n",
      "187/187 - 18s - loss: 0.3023 - categorical_accuracy: 0.8575 - val_loss: 0.0776 - val_categorical_accuracy: 0.9938 - lr: 3.9062e-05 - 18s/epoch - 98ms/step\n",
      "Epoch 116/1000\n",
      "187/187 - 19s - loss: 0.3014 - categorical_accuracy: 0.8583 - val_loss: 0.0773 - val_categorical_accuracy: 0.9938 - lr: 3.9062e-05 - 19s/epoch - 101ms/step\n",
      "Epoch 117/1000\n",
      "187/187 - 18s - loss: 0.3017 - categorical_accuracy: 0.8580 - val_loss: 0.0778 - val_categorical_accuracy: 0.9937 - lr: 3.9062e-05 - 18s/epoch - 97ms/step\n",
      "Epoch 118/1000\n",
      "187/187 - 18s - loss: 0.3022 - categorical_accuracy: 0.8577 - val_loss: 0.0775 - val_categorical_accuracy: 0.9938 - lr: 3.9062e-05 - 18s/epoch - 97ms/step\n",
      "Epoch 119/1000\n",
      "187/187 - 18s - loss: 0.3017 - categorical_accuracy: 0.8580 - val_loss: 0.0774 - val_categorical_accuracy: 0.9938 - lr: 3.9062e-05 - 18s/epoch - 97ms/step\n",
      "Epoch 120/1000\n",
      "187/187 - 18s - loss: 0.3019 - categorical_accuracy: 0.8581 - val_loss: 0.0774 - val_categorical_accuracy: 0.9938 - lr: 3.9062e-05 - 18s/epoch - 97ms/step\n",
      "Epoch 121/1000\n",
      "187/187 - 18s - loss: 0.3020 - categorical_accuracy: 0.8579 - val_loss: 0.0777 - val_categorical_accuracy: 0.9938 - lr: 3.9062e-05 - 18s/epoch - 97ms/step\n",
      "Epoch 122/1000\n",
      "187/187 - 18s - loss: 0.3018 - categorical_accuracy: 0.8578 - val_loss: 0.0776 - val_categorical_accuracy: 0.9938 - lr: 1.9531e-05 - 18s/epoch - 97ms/step\n",
      "Epoch 123/1000\n",
      "187/187 - 18s - loss: 0.3017 - categorical_accuracy: 0.8581 - val_loss: 0.0777 - val_categorical_accuracy: 0.9937 - lr: 1.9531e-05 - 18s/epoch - 97ms/step\n",
      "Epoch 124/1000\n",
      "187/187 - 18s - loss: 0.3015 - categorical_accuracy: 0.8582 - val_loss: 0.0776 - val_categorical_accuracy: 0.9937 - lr: 1.9531e-05 - 18s/epoch - 98ms/step\n",
      "Epoch 125/1000\n",
      "187/187 - 18s - loss: 0.3020 - categorical_accuracy: 0.8576 - val_loss: 0.0775 - val_categorical_accuracy: 0.9938 - lr: 1.9531e-05 - 18s/epoch - 98ms/step\n",
      "Epoch 126/1000\n",
      "187/187 - 18s - loss: 0.3020 - categorical_accuracy: 0.8580 - val_loss: 0.0776 - val_categorical_accuracy: 0.9938 - lr: 1.9531e-05 - 18s/epoch - 98ms/step\n",
      "Epoch 127/1000\n",
      "187/187 - 18s - loss: 0.3021 - categorical_accuracy: 0.8578 - val_loss: 0.0775 - val_categorical_accuracy: 0.9937 - lr: 9.7656e-06 - 18s/epoch - 98ms/step\n",
      "Epoch 128/1000\n",
      "187/187 - 18s - loss: 0.3019 - categorical_accuracy: 0.8579 - val_loss: 0.0776 - val_categorical_accuracy: 0.9937 - lr: 9.7656e-06 - 18s/epoch - 97ms/step\n",
      "Epoch 129/1000\n",
      "187/187 - 18s - loss: 0.3013 - categorical_accuracy: 0.8583 - val_loss: 0.0774 - val_categorical_accuracy: 0.9938 - lr: 9.7656e-06 - 18s/epoch - 97ms/step\n",
      "Epoch 130/1000\n",
      "187/187 - 18s - loss: 0.3020 - categorical_accuracy: 0.8578 - val_loss: 0.0776 - val_categorical_accuracy: 0.9938 - lr: 9.7656e-06 - 18s/epoch - 96ms/step\n",
      "Epoch 131/1000\n",
      "187/187 - 18s - loss: 0.3017 - categorical_accuracy: 0.8581 - val_loss: 0.0776 - val_categorical_accuracy: 0.9938 - lr: 9.7656e-06 - 18s/epoch - 97ms/step\n",
      "Epoch 132/1000\n",
      "187/187 - 18s - loss: 0.3022 - categorical_accuracy: 0.8575 - val_loss: 0.0776 - val_categorical_accuracy: 0.9938 - lr: 4.8828e-06 - 18s/epoch - 97ms/step\n",
      "Epoch 133/1000\n",
      "187/187 - 18s - loss: 0.3014 - categorical_accuracy: 0.8583 - val_loss: 0.0776 - val_categorical_accuracy: 0.9937 - lr: 4.8828e-06 - 18s/epoch - 97ms/step\n",
      "Epoch 134/1000\n",
      "187/187 - 18s - loss: 0.3021 - categorical_accuracy: 0.8578 - val_loss: 0.0775 - val_categorical_accuracy: 0.9938 - lr: 4.8828e-06 - 18s/epoch - 97ms/step\n",
      "Epoch 135/1000\n",
      "187/187 - 18s - loss: 0.3013 - categorical_accuracy: 0.8581 - val_loss: 0.0773 - val_categorical_accuracy: 0.9938 - lr: 4.8828e-06 - 18s/epoch - 97ms/step\n",
      "Epoch 136/1000\n",
      "Restoring model weights from the end of the best epoch: 116.\n",
      "187/187 - 20s - loss: 0.3017 - categorical_accuracy: 0.8581 - val_loss: 0.0773 - val_categorical_accuracy: 0.9938 - lr: 4.8828e-06 - 20s/epoch - 109ms/step\n",
      "Epoch 136: early stopping\n"
     ]
    },
    {
     "output_type": "stream",
     "name": "stderr",
     "text": [
      "100%|██████████| 834/834 [00:02<00:00, 376.28it/s]\n",
      "100%|██████████| 834/834 [00:02<00:00, 303.66it/s]\n"
     ]
    },
    {
     "output_type": "stream",
     "name": "stdout",
     "text": [
      "The average imputation accuracyon test data with 0.01 missing genotypes is 0.9748: \n",
      "Sensitivity: 0.9628042921044663\n",
      "Specificity: 0.9894646220034696\n",
      "F1-score macro: 0.9668805003847986\n",
      "F1-score micro: 0.9747525922923633\n"
     ]
    },
    {
     "output_type": "stream",
     "name": "stderr",
     "text": [
      "100%|██████████| 834/834 [00:01<00:00, 435.44it/s]\n",
      "100%|██████████| 834/834 [00:02<00:00, 333.68it/s]\n"
     ]
    },
    {
     "output_type": "stream",
     "name": "stdout",
     "text": [
      "The average imputation accuracyon test data with 0.05 missing genotypes is 0.9791: \n",
      "Sensitivity: 0.9696647857570568\n",
      "Specificity: 0.9913272418621096\n",
      "F1-score macro: 0.9728736735435738\n",
      "F1-score micro: 0.9790804228125879\n"
     ]
    },
    {
     "output_type": "stream",
     "name": "stderr",
     "text": [
      "100%|██████████| 834/834 [00:01<00:00, 425.35it/s]\n",
      "100%|██████████| 834/834 [00:03<00:00, 263.95it/s]\n"
     ]
    },
    {
     "output_type": "stream",
     "name": "stdout",
     "text": [
      "The average imputation accuracyon test data with 0.1 missing genotypes is 0.9813: \n",
      "Sensitivity: 0.9731860736990404\n",
      "Specificity: 0.9923201321536275\n",
      "F1-score macro: 0.9758305179940652\n",
      "F1-score micro: 0.9813194137427488\n"
     ]
    },
    {
     "output_type": "stream",
     "name": "stderr",
     "text": [
      "100%|██████████| 834/834 [00:02<00:00, 404.80it/s]\n",
      "100%|██████████| 834/834 [00:03<00:00, 213.03it/s]\n"
     ]
    },
    {
     "output_type": "stream",
     "name": "stdout",
     "text": [
      "The average imputation accuracyon test data with 0.2 missing genotypes is 0.9829: \n",
      "Sensitivity: 0.9753093980090688\n",
      "Specificity: 0.9929100305689897\n",
      "F1-score macro: 0.9779006358047122\n",
      "F1-score micro: 0.9828759897110245\n",
      "=====================================\n"
     ]
    }
   ]
  },
  {
   "cell_type": "code",
   "source": [
    "from google.colab import runtime\n",
    "runtime.unassign()"
   ],
   "metadata": {
    "id": "Fv7LbRQQ4EKq",
    "executionInfo": {
     "status": "ok",
     "timestamp": 1694135247357,
     "user_tz": 240,
     "elapsed": 239,
     "user": {
      "displayName": "net crowmaster",
      "userId": "14126946344391667924"
     }
    }
   },
   "execution_count": 35,
   "outputs": []
  },
  {
   "cell_type": "code",
   "source": [],
   "metadata": {
    "id": "0JE2wo6Wkc_q"
   },
   "execution_count": null,
   "outputs": []
  }
 ],
 "metadata": {
  "accelerator": "TPU",
  "colab": {
   "provenance": [
    {
     "file_id": "1lo9cmptjRRESsVlVECvlJFHbLeaygq2s",
     "timestamp": 1640128751823
    },
    {
     "file_id": "https://github.com/keras-team/keras-io/blob/master/examples/vision/ipynb/perceiver_image_classification.ipynb",
     "timestamp": 1621552889682
    }
   ],
   "toc_visible": true
  },
  "kernelspec": {
   "display_name": "Python 3",
   "name": "python3"
  },
  "language_info": {
   "codemirror_mode": {
    "name": "ipython",
    "version": 3
   },
   "file_extension": ".py",
   "mimetype": "text/x-python",
   "name": "python",
   "nbconvert_exporter": "python",
   "pygments_lexer": "ipython3",
   "version": "3.7.0"
  }
 },
 "nbformat": 4,
 "nbformat_minor": 0
}
