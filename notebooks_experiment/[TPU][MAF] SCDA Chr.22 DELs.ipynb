{
 "cells": [
  {
   "cell_type": "code",
   "execution_count": 1,
   "metadata": {
    "colab": {
     "base_uri": "https://localhost:8080/"
    },
    "executionInfo": {
     "elapsed": 328300,
     "status": "ok",
     "timestamp": 1690833969513,
     "user": {
      "displayName": "Erfan Mowlaei",
      "userId": "07890245825539195560"
     },
     "user_tz": 240
    },
    "id": "doSuiA3dyTyg",
    "outputId": "a91a75f2-4f4f-4109-f22f-b723a67a2529"
   },
   "outputs": [
    {
     "output_type": "stream",
     "name": "stdout",
     "text": [
      "Mounted at /content/drive\n"
     ]
    }
   ],
   "source": [
    "from google.colab import drive\n",
    "drive.mount('/content/drive')"
   ]
  },
  {
   "cell_type": "code",
   "execution_count": 2,
   "metadata": {
    "colab": {
     "base_uri": "https://localhost:8080/"
    },
    "executionInfo": {
     "elapsed": 18885,
     "status": "ok",
     "timestamp": 1690833988393,
     "user": {
      "displayName": "Erfan Mowlaei",
      "userId": "07890245825539195560"
     },
     "user_tz": 240
    },
    "id": "liJJGzQp4qzO",
    "outputId": "be1060cf-1b6c-40b1-f5b3-737d8d2ae77d"
   },
   "outputs": [
    {
     "output_type": "stream",
     "name": "stdout",
     "text": [
      "Collecting tensorflow-addons\n",
      "  Downloading tensorflow_addons-0.21.0-cp310-cp310-manylinux_2_17_x86_64.manylinux2014_x86_64.whl (612 kB)\n",
      "\u001B[2K     \u001B[90m━━━━━━━━━━━━━━━━━━━━━━━━━━━━━━━━━━━━━━━\u001B[0m \u001B[32m612.1/612.1 kB\u001B[0m \u001B[31m5.8 MB/s\u001B[0m eta \u001B[36m0:00:00\u001B[0m\n",
      "\u001B[?25hRequirement already satisfied: packaging in /usr/local/lib/python3.10/dist-packages (from tensorflow-addons) (23.1)\n",
      "Collecting typeguard<3.0.0,>=2.7 (from tensorflow-addons)\n",
      "  Downloading typeguard-2.13.3-py3-none-any.whl (17 kB)\n",
      "Installing collected packages: typeguard, tensorflow-addons\n",
      "Successfully installed tensorflow-addons-0.21.0 typeguard-2.13.3\n",
      "Requirement already satisfied: pyyaml in /usr/local/lib/python3.10/dist-packages (6.0.1)\n",
      "Requirement already satisfied: h5py in /usr/local/lib/python3.10/dist-packages (3.8.0)\n",
      "Requirement already satisfied: numpy>=1.14.5 in /usr/local/lib/python3.10/dist-packages (from h5py) (1.25.2)\n",
      "Requirement already satisfied: toolz in /usr/local/lib/python3.10/dist-packages (0.12.0)\n",
      "Collecting scikit-allel\n",
      "  Downloading scikit_allel-1.3.6-cp310-cp310-manylinux_2_17_x86_64.manylinux2014_x86_64.whl (7.4 MB)\n",
      "\u001B[2K     \u001B[90m━━━━━━━━━━━━━━━━━━━━━━━━━━━━━━━━━━━━━━━━\u001B[0m \u001B[32m7.4/7.4 MB\u001B[0m \u001B[31m14.0 MB/s\u001B[0m eta \u001B[36m0:00:00\u001B[0m\n",
      "\u001B[?25hRequirement already satisfied: numpy in /usr/local/lib/python3.10/dist-packages (from scikit-allel) (1.25.2)\n",
      "Requirement already satisfied: dask[array] in /usr/local/lib/python3.10/dist-packages (from scikit-allel) (2022.12.1)\n",
      "Requirement already satisfied: click>=7.0 in /usr/local/lib/python3.10/dist-packages (from dask[array]->scikit-allel) (8.1.6)\n",
      "Requirement already satisfied: cloudpickle>=1.1.1 in /usr/local/lib/python3.10/dist-packages (from dask[array]->scikit-allel) (2.2.1)\n",
      "Requirement already satisfied: fsspec>=0.6.0 in /usr/local/lib/python3.10/dist-packages (from dask[array]->scikit-allel) (2023.6.0)\n",
      "Requirement already satisfied: packaging>=20.0 in /usr/local/lib/python3.10/dist-packages (from dask[array]->scikit-allel) (23.1)\n",
      "Requirement already satisfied: partd>=0.3.10 in /usr/local/lib/python3.10/dist-packages (from dask[array]->scikit-allel) (1.4.0)\n",
      "Requirement already satisfied: pyyaml>=5.3.1 in /usr/local/lib/python3.10/dist-packages (from dask[array]->scikit-allel) (6.0.1)\n",
      "Requirement already satisfied: locket in /usr/local/lib/python3.10/dist-packages (from partd>=0.3.10->dask[array]->scikit-allel) (1.0.0)\n",
      "Installing collected packages: scikit-allel\n",
      "Successfully installed scikit-allel-1.3.6\n"
     ]
    }
   ],
   "source": [
    "!pip install tensorflow-addons\n",
    "!pip install pyyaml h5py\n",
    "!pip install toolz scikit-allel"
   ]
  },
  {
   "cell_type": "code",
   "execution_count": 3,
   "metadata": {
    "colab": {
     "base_uri": "https://localhost:8080/"
    },
    "executionInfo": {
     "elapsed": 6722,
     "status": "ok",
     "timestamp": 1690833995110,
     "user": {
      "displayName": "Erfan Mowlaei",
      "userId": "07890245825539195560"
     },
     "user_tz": 240
    },
    "id": "ZWzi3Z3L5RO2",
    "outputId": "4e036b60-7377-44dd-a7b3-04daeea2cc41"
   },
   "outputs": [
    {
     "output_type": "stream",
     "name": "stdout",
     "text": [
      "Colab only includes TensorFlow 2.x; %tensorflow_version has no effect.\n",
      "Tensorflow version 2.12.0\n"
     ]
    }
   ],
   "source": [
    "import numpy as np\n",
    "%tensorflow_version 2.x\n",
    "import tensorflow as tf\n",
    "print(\"Tensorflow version \" + tf.__version__)"
   ]
  },
  {
   "cell_type": "markdown",
   "metadata": {
    "id": "RjGOO5PdFPf7"
   },
   "source": [
    "## Setup"
   ]
  },
  {
   "cell_type": "code",
   "execution_count": 4,
   "metadata": {
    "colab": {
     "base_uri": "https://localhost:8080/"
    },
    "executionInfo": {
     "elapsed": 5670,
     "status": "ok",
     "timestamp": 1690834000776,
     "user": {
      "displayName": "Erfan Mowlaei",
      "userId": "07890245825539195560"
     },
     "user_tz": 240
    },
    "id": "odmhCqSVFPf8",
    "outputId": "7f67c452-18c8-4d6e-d7e2-ef5ba6379065"
   },
   "outputs": [
    {
     "output_type": "stream",
     "name": "stderr",
     "text": [
      "/usr/local/lib/python3.10/dist-packages/tensorflow_addons/utils/tfa_eol_msg.py:23: UserWarning: \n",
      "\n",
      "TensorFlow Addons (TFA) has ended development and introduction of new features.\n",
      "TFA has entered a minimal maintenance and release mode until a planned end of life in May 2024.\n",
      "Please modify downstream libraries to take dependencies from other repositories in our TensorFlow community (e.g. Keras, Keras-CV, and Keras-NLP). \n",
      "\n",
      "For more information see: https://github.com/tensorflow/addons/issues/2807 \n",
      "\n",
      "  warnings.warn(\n"
     ]
    },
    {
     "output_type": "stream",
     "name": "stdout",
     "text": [
      "Tensorflow version 2.12.0\n"
     ]
    }
   ],
   "source": [
    "import os\n",
    "# os.environ[\"MODIN_CPUS\"] = \"8\"\n",
    "# from distributed import Client\n",
    "# client = Client()\n",
    "import numpy as np\n",
    "import math\n",
    "import re\n",
    "import itertools\n",
    "import random\n",
    "import pandas as pd\n",
    "from sklearn.model_selection import train_test_split\n",
    "from sklearn.utils import resample\n",
    "import tensorflow as tf\n",
    "from tensorflow import keras\n",
    "import tensorflow.keras.backend as K\n",
    "from tensorflow.keras import layers\n",
    "from tensorflow.keras import regularizers\n",
    "from tensorflow.keras.preprocessing.sequence import pad_sequences\n",
    "import tensorflow_addons as tfa\n",
    "from sklearn import metrics\n",
    "from sklearn.model_selection import KFold\n",
    "from tensorflow.keras.utils import to_categorical\n",
    "from tensorflow.keras import constraints\n",
    "from tensorflow.keras import initializers\n",
    "from tensorflow.keras import regularizers\n",
    "from tensorflow.keras.applications import efficientnet as efn\n",
    "from sklearn.metrics import confusion_matrix\n",
    "from sklearn.metrics import f1_score\n",
    "from tensorflow.keras.constraints import Constraint\n",
    "# import allel\n",
    "from scipy.spatial.distance import squareform\n",
    "%matplotlib inline\n",
    "from toolz import interleave\n",
    "from tqdm import tqdm\n",
    "import allel\n",
    "from scipy.spatial.distance import squareform\n",
    "from matplotlib import pyplot as plt\n",
    "import tensorflow_datasets as tfds\n",
    "from sklearn.metrics import mean_squared_error\n",
    "from sklearn.linear_model import LassoCV, ElasticNetCV\n",
    "from sklearn.model_selection import KFold,StratifiedKFold\n",
    "\n",
    "print(\"Tensorflow version \" + tf.__version__)"
   ]
  },
  {
   "cell_type": "markdown",
   "metadata": {
    "id": "SLd26RspFhaS"
   },
   "source": [
    "## Hardware Config"
   ]
  },
  {
   "cell_type": "code",
   "execution_count": 5,
   "metadata": {
    "colab": {
     "base_uri": "https://localhost:8080/"
    },
    "executionInfo": {
     "elapsed": 8002,
     "status": "ok",
     "timestamp": 1690834008776,
     "user": {
      "displayName": "Erfan Mowlaei",
      "userId": "07890245825539195560"
     },
     "user_tz": 240
    },
    "id": "SLd7mAFgFUnR",
    "outputId": "091572c3-3020-4f1b-b3a9-65827ab7345d"
   },
   "outputs": [
    {
     "output_type": "stream",
     "name": "stdout",
     "text": [
      "Running on TPU  grpc://10.30.0.186:8470\n"
     ]
    },
    {
     "output_type": "stream",
     "name": "stderr",
     "text": [
      "WARNING:absl:`tf.distribute.experimental.TPUStrategy` is deprecated, please use  the non experimental symbol `tf.distribute.TPUStrategy` instead.\n"
     ]
    },
    {
     "output_type": "stream",
     "name": "stdout",
     "text": [
      "N_REPLICAS: 8\n"
     ]
    }
   ],
   "source": [
    "# Detect hardware, return appropriate distribution strategy\n",
    "try:\n",
    "    TPU = tf.distribute.cluster_resolver.TPUClusterResolver()  # TPU detection. No parameters necessary if TPU_NAME environment variable is set. On Kaggle this is always the case.\n",
    "    print('Running on TPU ', TPU.master())\n",
    "except ValueError:\n",
    "    print('Running on GPU')\n",
    "    TPU = None\n",
    "\n",
    "if TPU:\n",
    "    tf.config.experimental_connect_to_cluster(TPU)\n",
    "    tf.tpu.experimental.initialize_tpu_system(TPU)\n",
    "    strategy = tf.distribute.experimental.TPUStrategy(TPU)\n",
    "else:\n",
    "    strategy = tf.distribute.get_strategy() # default distribution strategy in Tensorflow. Works on CPU and single GPU.\n",
    "\n",
    "N_REPLICAS = strategy.num_replicas_in_sync\n",
    "# Number of computing cores, is 8 for a TPU V3-8\n",
    "print(f'N_REPLICAS: {N_REPLICAS}')"
   ]
  },
  {
   "cell_type": "markdown",
   "metadata": {
    "id": "A77GFE3xFPf8"
   },
   "source": [
    "## Prepare the data"
   ]
  },
  {
   "cell_type": "code",
   "execution_count": 6,
   "metadata": {
    "id": "j3zy8i_8FPf_",
    "colab": {
     "base_uri": "https://localhost:8080/",
     "height": 424
    },
    "executionInfo": {
     "status": "ok",
     "timestamp": 1690834012980,
     "user_tz": 240,
     "elapsed": 4242,
     "user": {
      "displayName": "Erfan Mowlaei",
      "userId": "07890245825539195560"
     }
    },
    "outputId": "40f1c5f8-ee38-401b-fc5a-7a14c7722edc"
   },
   "outputs": [
    {
     "output_type": "execute_result",
     "data": {
      "text/plain": [
       "         0    1    2    3    4    5    6    7    8    9    ...  562  563  564  \\\n",
       "HG00096  0|0  0|0  0|0  0|0  0|0  0|0  1|1  0|0  0|0  0|0  ...  0|0  0|0  0|1   \n",
       "HG00097  0|0  0|0  0|0  0|0  0|0  0|0  1|0  0|0  0|0  0|0  ...  0|0  0|0  0|1   \n",
       "HG00099  0|0  0|0  0|0  0|0  0|0  0|0  1|0  0|0  0|0  0|0  ...  0|0  0|0  0|0   \n",
       "HG00100  0|0  0|0  0|0  0|0  0|0  0|0  1|0  0|0  0|0  0|0  ...  0|0  0|0  0|0   \n",
       "HG00101  0|0  0|0  0|0  0|0  0|0  0|0  1|0  0|0  0|0  0|0  ...  0|0  0|0  0|0   \n",
       "...      ...  ...  ...  ...  ...  ...  ...  ...  ...  ...  ...  ...  ...  ...   \n",
       "NA21137  0|0  0|0  0|0  0|0  0|0  0|0  0|0  0|0  0|0  0|0  ...  0|0  0|0  0|0   \n",
       "NA21141  0|0  0|0  0|0  0|0  0|0  0|0  1|0  0|0  0|0  0|0  ...  0|0  0|0  1|0   \n",
       "NA21142  0|0  0|0  0|0  0|0  0|0  0|0  0|1  0|0  0|0  0|0  ...  0|0  0|0  1|0   \n",
       "NA21143  0|0  0|0  0|0  0|0  0|0  0|0  1|0  0|0  0|0  0|0  ...  0|0  0|0  0|1   \n",
       "NA21144  0|0  0|0  0|0  0|0  0|0  0|0  0|0  0|0  0|0  0|0  ...  0|0  0|0  0|0   \n",
       "\n",
       "         565  566  567  568  569  570  571  \n",
       "HG00096  0|0  0|0  0|0  0|0  0|0  0|0  0|0  \n",
       "HG00097  0|0  0|0  0|0  0|0  0|0  0|0  0|0  \n",
       "HG00099  0|0  0|0  0|0  0|0  0|0  0|0  0|0  \n",
       "HG00100  0|0  0|0  0|0  0|0  0|0  0|0  0|0  \n",
       "HG00101  0|0  0|0  0|0  0|0  0|0  0|0  0|0  \n",
       "...      ...  ...  ...  ...  ...  ...  ...  \n",
       "NA21137  0|0  0|0  0|0  0|0  0|0  0|0  0|0  \n",
       "NA21141  0|0  0|0  0|0  0|0  0|0  0|0  0|0  \n",
       "NA21142  0|0  0|0  0|0  0|0  0|0  0|0  0|0  \n",
       "NA21143  0|0  0|0  0|0  0|0  0|0  0|0  0|0  \n",
       "NA21144  0|0  0|0  0|0  0|0  0|0  0|0  0|0  \n",
       "\n",
       "[2504 rows x 572 columns]"
      ],
      "text/html": [
       "\n",
       "\n",
       "  <div id=\"df-3014b9de-2d76-4ef7-b52c-754927c69bce\">\n",
       "    <div class=\"colab-df-container\">\n",
       "      <div>\n",
       "<style scoped>\n",
       "    .dataframe tbody tr th:only-of-type {\n",
       "        vertical-align: middle;\n",
       "    }\n",
       "\n",
       "    .dataframe tbody tr th {\n",
       "        vertical-align: top;\n",
       "    }\n",
       "\n",
       "    .dataframe thead th {\n",
       "        text-align: right;\n",
       "    }\n",
       "</style>\n",
       "<table border=\"1\" class=\"dataframe\">\n",
       "  <thead>\n",
       "    <tr style=\"text-align: right;\">\n",
       "      <th></th>\n",
       "      <th>0</th>\n",
       "      <th>1</th>\n",
       "      <th>2</th>\n",
       "      <th>3</th>\n",
       "      <th>4</th>\n",
       "      <th>5</th>\n",
       "      <th>6</th>\n",
       "      <th>7</th>\n",
       "      <th>8</th>\n",
       "      <th>9</th>\n",
       "      <th>...</th>\n",
       "      <th>562</th>\n",
       "      <th>563</th>\n",
       "      <th>564</th>\n",
       "      <th>565</th>\n",
       "      <th>566</th>\n",
       "      <th>567</th>\n",
       "      <th>568</th>\n",
       "      <th>569</th>\n",
       "      <th>570</th>\n",
       "      <th>571</th>\n",
       "    </tr>\n",
       "  </thead>\n",
       "  <tbody>\n",
       "    <tr>\n",
       "      <th>HG00096</th>\n",
       "      <td>0|0</td>\n",
       "      <td>0|0</td>\n",
       "      <td>0|0</td>\n",
       "      <td>0|0</td>\n",
       "      <td>0|0</td>\n",
       "      <td>0|0</td>\n",
       "      <td>1|1</td>\n",
       "      <td>0|0</td>\n",
       "      <td>0|0</td>\n",
       "      <td>0|0</td>\n",
       "      <td>...</td>\n",
       "      <td>0|0</td>\n",
       "      <td>0|0</td>\n",
       "      <td>0|1</td>\n",
       "      <td>0|0</td>\n",
       "      <td>0|0</td>\n",
       "      <td>0|0</td>\n",
       "      <td>0|0</td>\n",
       "      <td>0|0</td>\n",
       "      <td>0|0</td>\n",
       "      <td>0|0</td>\n",
       "    </tr>\n",
       "    <tr>\n",
       "      <th>HG00097</th>\n",
       "      <td>0|0</td>\n",
       "      <td>0|0</td>\n",
       "      <td>0|0</td>\n",
       "      <td>0|0</td>\n",
       "      <td>0|0</td>\n",
       "      <td>0|0</td>\n",
       "      <td>1|0</td>\n",
       "      <td>0|0</td>\n",
       "      <td>0|0</td>\n",
       "      <td>0|0</td>\n",
       "      <td>...</td>\n",
       "      <td>0|0</td>\n",
       "      <td>0|0</td>\n",
       "      <td>0|1</td>\n",
       "      <td>0|0</td>\n",
       "      <td>0|0</td>\n",
       "      <td>0|0</td>\n",
       "      <td>0|0</td>\n",
       "      <td>0|0</td>\n",
       "      <td>0|0</td>\n",
       "      <td>0|0</td>\n",
       "    </tr>\n",
       "    <tr>\n",
       "      <th>HG00099</th>\n",
       "      <td>0|0</td>\n",
       "      <td>0|0</td>\n",
       "      <td>0|0</td>\n",
       "      <td>0|0</td>\n",
       "      <td>0|0</td>\n",
       "      <td>0|0</td>\n",
       "      <td>1|0</td>\n",
       "      <td>0|0</td>\n",
       "      <td>0|0</td>\n",
       "      <td>0|0</td>\n",
       "      <td>...</td>\n",
       "      <td>0|0</td>\n",
       "      <td>0|0</td>\n",
       "      <td>0|0</td>\n",
       "      <td>0|0</td>\n",
       "      <td>0|0</td>\n",
       "      <td>0|0</td>\n",
       "      <td>0|0</td>\n",
       "      <td>0|0</td>\n",
       "      <td>0|0</td>\n",
       "      <td>0|0</td>\n",
       "    </tr>\n",
       "    <tr>\n",
       "      <th>HG00100</th>\n",
       "      <td>0|0</td>\n",
       "      <td>0|0</td>\n",
       "      <td>0|0</td>\n",
       "      <td>0|0</td>\n",
       "      <td>0|0</td>\n",
       "      <td>0|0</td>\n",
       "      <td>1|0</td>\n",
       "      <td>0|0</td>\n",
       "      <td>0|0</td>\n",
       "      <td>0|0</td>\n",
       "      <td>...</td>\n",
       "      <td>0|0</td>\n",
       "      <td>0|0</td>\n",
       "      <td>0|0</td>\n",
       "      <td>0|0</td>\n",
       "      <td>0|0</td>\n",
       "      <td>0|0</td>\n",
       "      <td>0|0</td>\n",
       "      <td>0|0</td>\n",
       "      <td>0|0</td>\n",
       "      <td>0|0</td>\n",
       "    </tr>\n",
       "    <tr>\n",
       "      <th>HG00101</th>\n",
       "      <td>0|0</td>\n",
       "      <td>0|0</td>\n",
       "      <td>0|0</td>\n",
       "      <td>0|0</td>\n",
       "      <td>0|0</td>\n",
       "      <td>0|0</td>\n",
       "      <td>1|0</td>\n",
       "      <td>0|0</td>\n",
       "      <td>0|0</td>\n",
       "      <td>0|0</td>\n",
       "      <td>...</td>\n",
       "      <td>0|0</td>\n",
       "      <td>0|0</td>\n",
       "      <td>0|0</td>\n",
       "      <td>0|0</td>\n",
       "      <td>0|0</td>\n",
       "      <td>0|0</td>\n",
       "      <td>0|0</td>\n",
       "      <td>0|0</td>\n",
       "      <td>0|0</td>\n",
       "      <td>0|0</td>\n",
       "    </tr>\n",
       "    <tr>\n",
       "      <th>...</th>\n",
       "      <td>...</td>\n",
       "      <td>...</td>\n",
       "      <td>...</td>\n",
       "      <td>...</td>\n",
       "      <td>...</td>\n",
       "      <td>...</td>\n",
       "      <td>...</td>\n",
       "      <td>...</td>\n",
       "      <td>...</td>\n",
       "      <td>...</td>\n",
       "      <td>...</td>\n",
       "      <td>...</td>\n",
       "      <td>...</td>\n",
       "      <td>...</td>\n",
       "      <td>...</td>\n",
       "      <td>...</td>\n",
       "      <td>...</td>\n",
       "      <td>...</td>\n",
       "      <td>...</td>\n",
       "      <td>...</td>\n",
       "      <td>...</td>\n",
       "    </tr>\n",
       "    <tr>\n",
       "      <th>NA21137</th>\n",
       "      <td>0|0</td>\n",
       "      <td>0|0</td>\n",
       "      <td>0|0</td>\n",
       "      <td>0|0</td>\n",
       "      <td>0|0</td>\n",
       "      <td>0|0</td>\n",
       "      <td>0|0</td>\n",
       "      <td>0|0</td>\n",
       "      <td>0|0</td>\n",
       "      <td>0|0</td>\n",
       "      <td>...</td>\n",
       "      <td>0|0</td>\n",
       "      <td>0|0</td>\n",
       "      <td>0|0</td>\n",
       "      <td>0|0</td>\n",
       "      <td>0|0</td>\n",
       "      <td>0|0</td>\n",
       "      <td>0|0</td>\n",
       "      <td>0|0</td>\n",
       "      <td>0|0</td>\n",
       "      <td>0|0</td>\n",
       "    </tr>\n",
       "    <tr>\n",
       "      <th>NA21141</th>\n",
       "      <td>0|0</td>\n",
       "      <td>0|0</td>\n",
       "      <td>0|0</td>\n",
       "      <td>0|0</td>\n",
       "      <td>0|0</td>\n",
       "      <td>0|0</td>\n",
       "      <td>1|0</td>\n",
       "      <td>0|0</td>\n",
       "      <td>0|0</td>\n",
       "      <td>0|0</td>\n",
       "      <td>...</td>\n",
       "      <td>0|0</td>\n",
       "      <td>0|0</td>\n",
       "      <td>1|0</td>\n",
       "      <td>0|0</td>\n",
       "      <td>0|0</td>\n",
       "      <td>0|0</td>\n",
       "      <td>0|0</td>\n",
       "      <td>0|0</td>\n",
       "      <td>0|0</td>\n",
       "      <td>0|0</td>\n",
       "    </tr>\n",
       "    <tr>\n",
       "      <th>NA21142</th>\n",
       "      <td>0|0</td>\n",
       "      <td>0|0</td>\n",
       "      <td>0|0</td>\n",
       "      <td>0|0</td>\n",
       "      <td>0|0</td>\n",
       "      <td>0|0</td>\n",
       "      <td>0|1</td>\n",
       "      <td>0|0</td>\n",
       "      <td>0|0</td>\n",
       "      <td>0|0</td>\n",
       "      <td>...</td>\n",
       "      <td>0|0</td>\n",
       "      <td>0|0</td>\n",
       "      <td>1|0</td>\n",
       "      <td>0|0</td>\n",
       "      <td>0|0</td>\n",
       "      <td>0|0</td>\n",
       "      <td>0|0</td>\n",
       "      <td>0|0</td>\n",
       "      <td>0|0</td>\n",
       "      <td>0|0</td>\n",
       "    </tr>\n",
       "    <tr>\n",
       "      <th>NA21143</th>\n",
       "      <td>0|0</td>\n",
       "      <td>0|0</td>\n",
       "      <td>0|0</td>\n",
       "      <td>0|0</td>\n",
       "      <td>0|0</td>\n",
       "      <td>0|0</td>\n",
       "      <td>1|0</td>\n",
       "      <td>0|0</td>\n",
       "      <td>0|0</td>\n",
       "      <td>0|0</td>\n",
       "      <td>...</td>\n",
       "      <td>0|0</td>\n",
       "      <td>0|0</td>\n",
       "      <td>0|1</td>\n",
       "      <td>0|0</td>\n",
       "      <td>0|0</td>\n",
       "      <td>0|0</td>\n",
       "      <td>0|0</td>\n",
       "      <td>0|0</td>\n",
       "      <td>0|0</td>\n",
       "      <td>0|0</td>\n",
       "    </tr>\n",
       "    <tr>\n",
       "      <th>NA21144</th>\n",
       "      <td>0|0</td>\n",
       "      <td>0|0</td>\n",
       "      <td>0|0</td>\n",
       "      <td>0|0</td>\n",
       "      <td>0|0</td>\n",
       "      <td>0|0</td>\n",
       "      <td>0|0</td>\n",
       "      <td>0|0</td>\n",
       "      <td>0|0</td>\n",
       "      <td>0|0</td>\n",
       "      <td>...</td>\n",
       "      <td>0|0</td>\n",
       "      <td>0|0</td>\n",
       "      <td>0|0</td>\n",
       "      <td>0|0</td>\n",
       "      <td>0|0</td>\n",
       "      <td>0|0</td>\n",
       "      <td>0|0</td>\n",
       "      <td>0|0</td>\n",
       "      <td>0|0</td>\n",
       "      <td>0|0</td>\n",
       "    </tr>\n",
       "  </tbody>\n",
       "</table>\n",
       "<p>2504 rows × 572 columns</p>\n",
       "</div>\n",
       "      <button class=\"colab-df-convert\" onclick=\"convertToInteractive('df-3014b9de-2d76-4ef7-b52c-754927c69bce')\"\n",
       "              title=\"Convert this dataframe to an interactive table.\"\n",
       "              style=\"display:none;\">\n",
       "\n",
       "  <svg xmlns=\"http://www.w3.org/2000/svg\" height=\"24px\"viewBox=\"0 0 24 24\"\n",
       "       width=\"24px\">\n",
       "    <path d=\"M0 0h24v24H0V0z\" fill=\"none\"/>\n",
       "    <path d=\"M18.56 5.44l.94 2.06.94-2.06 2.06-.94-2.06-.94-.94-2.06-.94 2.06-2.06.94zm-11 1L8.5 8.5l.94-2.06 2.06-.94-2.06-.94L8.5 2.5l-.94 2.06-2.06.94zm10 10l.94 2.06.94-2.06 2.06-.94-2.06-.94-.94-2.06-.94 2.06-2.06.94z\"/><path d=\"M17.41 7.96l-1.37-1.37c-.4-.4-.92-.59-1.43-.59-.52 0-1.04.2-1.43.59L10.3 9.45l-7.72 7.72c-.78.78-.78 2.05 0 2.83L4 21.41c.39.39.9.59 1.41.59.51 0 1.02-.2 1.41-.59l7.78-7.78 2.81-2.81c.8-.78.8-2.07 0-2.86zM5.41 20L4 18.59l7.72-7.72 1.47 1.35L5.41 20z\"/>\n",
       "  </svg>\n",
       "      </button>\n",
       "\n",
       "\n",
       "\n",
       "    <div id=\"df-6f6700d0-ca9c-473e-982b-2a5bf846eab2\">\n",
       "      <button class=\"colab-df-quickchart\" onclick=\"quickchart('df-6f6700d0-ca9c-473e-982b-2a5bf846eab2')\"\n",
       "              title=\"Suggest charts.\"\n",
       "              style=\"display:none;\">\n",
       "\n",
       "<svg xmlns=\"http://www.w3.org/2000/svg\" height=\"24px\"viewBox=\"0 0 24 24\"\n",
       "     width=\"24px\">\n",
       "    <g>\n",
       "        <path d=\"M19 3H5c-1.1 0-2 .9-2 2v14c0 1.1.9 2 2 2h14c1.1 0 2-.9 2-2V5c0-1.1-.9-2-2-2zM9 17H7v-7h2v7zm4 0h-2V7h2v10zm4 0h-2v-4h2v4z\"/>\n",
       "    </g>\n",
       "</svg>\n",
       "      </button>\n",
       "    </div>\n",
       "\n",
       "<style>\n",
       "  .colab-df-quickchart {\n",
       "    background-color: #E8F0FE;\n",
       "    border: none;\n",
       "    border-radius: 50%;\n",
       "    cursor: pointer;\n",
       "    display: none;\n",
       "    fill: #1967D2;\n",
       "    height: 32px;\n",
       "    padding: 0 0 0 0;\n",
       "    width: 32px;\n",
       "  }\n",
       "\n",
       "  .colab-df-quickchart:hover {\n",
       "    background-color: #E2EBFA;\n",
       "    box-shadow: 0px 1px 2px rgba(60, 64, 67, 0.3), 0px 1px 3px 1px rgba(60, 64, 67, 0.15);\n",
       "    fill: #174EA6;\n",
       "  }\n",
       "\n",
       "  [theme=dark] .colab-df-quickchart {\n",
       "    background-color: #3B4455;\n",
       "    fill: #D2E3FC;\n",
       "  }\n",
       "\n",
       "  [theme=dark] .colab-df-quickchart:hover {\n",
       "    background-color: #434B5C;\n",
       "    box-shadow: 0px 1px 3px 1px rgba(0, 0, 0, 0.15);\n",
       "    filter: drop-shadow(0px 1px 2px rgba(0, 0, 0, 0.3));\n",
       "    fill: #FFFFFF;\n",
       "  }\n",
       "</style>\n",
       "\n",
       "    <script>\n",
       "      async function quickchart(key) {\n",
       "        const containerElement = document.querySelector('#' + key);\n",
       "        const charts = await google.colab.kernel.invokeFunction(\n",
       "            'suggestCharts', [key], {});\n",
       "      }\n",
       "    </script>\n",
       "\n",
       "      <script>\n",
       "\n",
       "function displayQuickchartButton(domScope) {\n",
       "  let quickchartButtonEl =\n",
       "    domScope.querySelector('#df-6f6700d0-ca9c-473e-982b-2a5bf846eab2 button.colab-df-quickchart');\n",
       "  quickchartButtonEl.style.display =\n",
       "    google.colab.kernel.accessAllowed ? 'block' : 'none';\n",
       "}\n",
       "\n",
       "        displayQuickchartButton(document);\n",
       "      </script>\n",
       "      <style>\n",
       "    .colab-df-container {\n",
       "      display:flex;\n",
       "      flex-wrap:wrap;\n",
       "      gap: 12px;\n",
       "    }\n",
       "\n",
       "    .colab-df-convert {\n",
       "      background-color: #E8F0FE;\n",
       "      border: none;\n",
       "      border-radius: 50%;\n",
       "      cursor: pointer;\n",
       "      display: none;\n",
       "      fill: #1967D2;\n",
       "      height: 32px;\n",
       "      padding: 0 0 0 0;\n",
       "      width: 32px;\n",
       "    }\n",
       "\n",
       "    .colab-df-convert:hover {\n",
       "      background-color: #E2EBFA;\n",
       "      box-shadow: 0px 1px 2px rgba(60, 64, 67, 0.3), 0px 1px 3px 1px rgba(60, 64, 67, 0.15);\n",
       "      fill: #174EA6;\n",
       "    }\n",
       "\n",
       "    [theme=dark] .colab-df-convert {\n",
       "      background-color: #3B4455;\n",
       "      fill: #D2E3FC;\n",
       "    }\n",
       "\n",
       "    [theme=dark] .colab-df-convert:hover {\n",
       "      background-color: #434B5C;\n",
       "      box-shadow: 0px 1px 3px 1px rgba(0, 0, 0, 0.15);\n",
       "      filter: drop-shadow(0px 1px 2px rgba(0, 0, 0, 0.3));\n",
       "      fill: #FFFFFF;\n",
       "    }\n",
       "  </style>\n",
       "\n",
       "      <script>\n",
       "        const buttonEl =\n",
       "          document.querySelector('#df-3014b9de-2d76-4ef7-b52c-754927c69bce button.colab-df-convert');\n",
       "        buttonEl.style.display =\n",
       "          google.colab.kernel.accessAllowed ? 'block' : 'none';\n",
       "\n",
       "        async function convertToInteractive(key) {\n",
       "          const element = document.querySelector('#df-3014b9de-2d76-4ef7-b52c-754927c69bce');\n",
       "          const dataTable =\n",
       "            await google.colab.kernel.invokeFunction('convertToInteractive',\n",
       "                                                     [key], {});\n",
       "          if (!dataTable) return;\n",
       "\n",
       "          const docLinkHtml = 'Like what you see? Visit the ' +\n",
       "            '<a target=\"_blank\" href=https://colab.research.google.com/notebooks/data_table.ipynb>data table notebook</a>'\n",
       "            + ' to learn more about interactive tables.';\n",
       "          element.innerHTML = '';\n",
       "          dataTable['output_type'] = 'display_data';\n",
       "          await google.colab.output.renderOutput(dataTable, element);\n",
       "          const docLink = document.createElement('div');\n",
       "          docLink.innerHTML = docLinkHtml;\n",
       "          element.appendChild(docLink);\n",
       "        }\n",
       "      </script>\n",
       "    </div>\n",
       "  </div>\n"
      ]
     },
     "metadata": {},
     "execution_count": 6
    }
   ],
   "source": [
    "root_dir = '[data_dir]/'\n",
    "new_data_header = \"\"\n",
    "# get header\n",
    "with open(root_dir + \"DELL.chr22.genotypes.full.vcf\", 'r') as f_in:\n",
    "    # skip info\n",
    "    for line_num in range(70):\n",
    "        f_in.readline()\n",
    "\n",
    "    new_data_header = f_in.readline()\n",
    "# load data\n",
    "\n",
    "# load genotype\n",
    "genotypes = pd.read_csv(root_dir + \"DELL.chr22.genotypes.full.vcf\", comment='#', sep='\\t', names=new_data_header.strip().split('\\t'), header=None)\n",
    "info = genotypes.iloc[:-1, :9]\n",
    "genotypes = genotypes.iloc[:-1, 9:].T\n",
    "headers = genotypes.columns[:]\n",
    "genotypes"
   ]
  },
  {
   "cell_type": "code",
   "execution_count": 7,
   "metadata": {
    "id": "-gFMrUnhV80n",
    "executionInfo": {
     "status": "ok",
     "timestamp": 1690834013267,
     "user_tz": 240,
     "elapsed": 292,
     "user": {
      "displayName": "Erfan Mowlaei",
      "userId": "07890245825539195560"
     }
    }
   },
   "outputs": [],
   "source": [
    "ped_file = '[data_dir]/integrated_call_samples.20130502.ALL.ped'\n",
    "pedigree = pd.read_csv(ped_file, sep='\\t', index_col='Individual ID')"
   ]
  },
  {
   "cell_type": "code",
   "execution_count": 8,
   "metadata": {
    "colab": {
     "base_uri": "https://localhost:8080/",
     "height": 238
    },
    "executionInfo": {
     "elapsed": 111,
     "status": "ok",
     "timestamp": 1690834013374,
     "user": {
      "displayName": "Erfan Mowlaei",
      "userId": "07890245825539195560"
     },
     "user_tz": 240
    },
    "id": "Zgb8Fn-EV_PU",
    "outputId": "124867cf-407f-4bff-c63f-4d875a3fe1e8"
   },
   "outputs": [
    {
     "output_type": "execute_result",
     "data": {
      "text/plain": [
       "              Family ID Paternal ID Maternal ID  Gender  Phenotype Population  \\\n",
       "Individual ID                                                                   \n",
       "HG00096         HG00096           0           0       1          0        GBR   \n",
       "HG00097         HG00097           0           0       2          0        GBR   \n",
       "HG00098         HG00098           0           0       1          0        GBR   \n",
       "HG00099         HG00099           0           0       2          0        GBR   \n",
       "HG00100         HG00100           0           0       2          0        GBR   \n",
       "\n",
       "              Relationship Siblings Second Order Third Order Children  \\\n",
       "Individual ID                                                           \n",
       "HG00096              unrel        0            0           0        0   \n",
       "HG00097              unrel        0            0           0        0   \n",
       "HG00098              unrel        0            0           0        0   \n",
       "HG00099              unrel        0            0           0        0   \n",
       "HG00100              unrel        0            0           0        0   \n",
       "\n",
       "              Other Comments  \n",
       "Individual ID                 \n",
       "HG00096                    0  \n",
       "HG00097                    0  \n",
       "HG00098                    0  \n",
       "HG00099                    0  \n",
       "HG00100                    0  "
      ],
      "text/html": [
       "\n",
       "\n",
       "  <div id=\"df-ad1ebd4f-b48d-4c3c-8f63-29bc6bc1cd33\">\n",
       "    <div class=\"colab-df-container\">\n",
       "      <div>\n",
       "<style scoped>\n",
       "    .dataframe tbody tr th:only-of-type {\n",
       "        vertical-align: middle;\n",
       "    }\n",
       "\n",
       "    .dataframe tbody tr th {\n",
       "        vertical-align: top;\n",
       "    }\n",
       "\n",
       "    .dataframe thead th {\n",
       "        text-align: right;\n",
       "    }\n",
       "</style>\n",
       "<table border=\"1\" class=\"dataframe\">\n",
       "  <thead>\n",
       "    <tr style=\"text-align: right;\">\n",
       "      <th></th>\n",
       "      <th>Family ID</th>\n",
       "      <th>Paternal ID</th>\n",
       "      <th>Maternal ID</th>\n",
       "      <th>Gender</th>\n",
       "      <th>Phenotype</th>\n",
       "      <th>Population</th>\n",
       "      <th>Relationship</th>\n",
       "      <th>Siblings</th>\n",
       "      <th>Second Order</th>\n",
       "      <th>Third Order</th>\n",
       "      <th>Children</th>\n",
       "      <th>Other Comments</th>\n",
       "    </tr>\n",
       "    <tr>\n",
       "      <th>Individual ID</th>\n",
       "      <th></th>\n",
       "      <th></th>\n",
       "      <th></th>\n",
       "      <th></th>\n",
       "      <th></th>\n",
       "      <th></th>\n",
       "      <th></th>\n",
       "      <th></th>\n",
       "      <th></th>\n",
       "      <th></th>\n",
       "      <th></th>\n",
       "      <th></th>\n",
       "    </tr>\n",
       "  </thead>\n",
       "  <tbody>\n",
       "    <tr>\n",
       "      <th>HG00096</th>\n",
       "      <td>HG00096</td>\n",
       "      <td>0</td>\n",
       "      <td>0</td>\n",
       "      <td>1</td>\n",
       "      <td>0</td>\n",
       "      <td>GBR</td>\n",
       "      <td>unrel</td>\n",
       "      <td>0</td>\n",
       "      <td>0</td>\n",
       "      <td>0</td>\n",
       "      <td>0</td>\n",
       "      <td>0</td>\n",
       "    </tr>\n",
       "    <tr>\n",
       "      <th>HG00097</th>\n",
       "      <td>HG00097</td>\n",
       "      <td>0</td>\n",
       "      <td>0</td>\n",
       "      <td>2</td>\n",
       "      <td>0</td>\n",
       "      <td>GBR</td>\n",
       "      <td>unrel</td>\n",
       "      <td>0</td>\n",
       "      <td>0</td>\n",
       "      <td>0</td>\n",
       "      <td>0</td>\n",
       "      <td>0</td>\n",
       "    </tr>\n",
       "    <tr>\n",
       "      <th>HG00098</th>\n",
       "      <td>HG00098</td>\n",
       "      <td>0</td>\n",
       "      <td>0</td>\n",
       "      <td>1</td>\n",
       "      <td>0</td>\n",
       "      <td>GBR</td>\n",
       "      <td>unrel</td>\n",
       "      <td>0</td>\n",
       "      <td>0</td>\n",
       "      <td>0</td>\n",
       "      <td>0</td>\n",
       "      <td>0</td>\n",
       "    </tr>\n",
       "    <tr>\n",
       "      <th>HG00099</th>\n",
       "      <td>HG00099</td>\n",
       "      <td>0</td>\n",
       "      <td>0</td>\n",
       "      <td>2</td>\n",
       "      <td>0</td>\n",
       "      <td>GBR</td>\n",
       "      <td>unrel</td>\n",
       "      <td>0</td>\n",
       "      <td>0</td>\n",
       "      <td>0</td>\n",
       "      <td>0</td>\n",
       "      <td>0</td>\n",
       "    </tr>\n",
       "    <tr>\n",
       "      <th>HG00100</th>\n",
       "      <td>HG00100</td>\n",
       "      <td>0</td>\n",
       "      <td>0</td>\n",
       "      <td>2</td>\n",
       "      <td>0</td>\n",
       "      <td>GBR</td>\n",
       "      <td>unrel</td>\n",
       "      <td>0</td>\n",
       "      <td>0</td>\n",
       "      <td>0</td>\n",
       "      <td>0</td>\n",
       "      <td>0</td>\n",
       "    </tr>\n",
       "  </tbody>\n",
       "</table>\n",
       "</div>\n",
       "      <button class=\"colab-df-convert\" onclick=\"convertToInteractive('df-ad1ebd4f-b48d-4c3c-8f63-29bc6bc1cd33')\"\n",
       "              title=\"Convert this dataframe to an interactive table.\"\n",
       "              style=\"display:none;\">\n",
       "\n",
       "  <svg xmlns=\"http://www.w3.org/2000/svg\" height=\"24px\"viewBox=\"0 0 24 24\"\n",
       "       width=\"24px\">\n",
       "    <path d=\"M0 0h24v24H0V0z\" fill=\"none\"/>\n",
       "    <path d=\"M18.56 5.44l.94 2.06.94-2.06 2.06-.94-2.06-.94-.94-2.06-.94 2.06-2.06.94zm-11 1L8.5 8.5l.94-2.06 2.06-.94-2.06-.94L8.5 2.5l-.94 2.06-2.06.94zm10 10l.94 2.06.94-2.06 2.06-.94-2.06-.94-.94-2.06-.94 2.06-2.06.94z\"/><path d=\"M17.41 7.96l-1.37-1.37c-.4-.4-.92-.59-1.43-.59-.52 0-1.04.2-1.43.59L10.3 9.45l-7.72 7.72c-.78.78-.78 2.05 0 2.83L4 21.41c.39.39.9.59 1.41.59.51 0 1.02-.2 1.41-.59l7.78-7.78 2.81-2.81c.8-.78.8-2.07 0-2.86zM5.41 20L4 18.59l7.72-7.72 1.47 1.35L5.41 20z\"/>\n",
       "  </svg>\n",
       "      </button>\n",
       "\n",
       "\n",
       "\n",
       "    <div id=\"df-12e023a2-d3f3-40c1-bcbb-a80cf4e01ae9\">\n",
       "      <button class=\"colab-df-quickchart\" onclick=\"quickchart('df-12e023a2-d3f3-40c1-bcbb-a80cf4e01ae9')\"\n",
       "              title=\"Suggest charts.\"\n",
       "              style=\"display:none;\">\n",
       "\n",
       "<svg xmlns=\"http://www.w3.org/2000/svg\" height=\"24px\"viewBox=\"0 0 24 24\"\n",
       "     width=\"24px\">\n",
       "    <g>\n",
       "        <path d=\"M19 3H5c-1.1 0-2 .9-2 2v14c0 1.1.9 2 2 2h14c1.1 0 2-.9 2-2V5c0-1.1-.9-2-2-2zM9 17H7v-7h2v7zm4 0h-2V7h2v10zm4 0h-2v-4h2v4z\"/>\n",
       "    </g>\n",
       "</svg>\n",
       "      </button>\n",
       "    </div>\n",
       "\n",
       "<style>\n",
       "  .colab-df-quickchart {\n",
       "    background-color: #E8F0FE;\n",
       "    border: none;\n",
       "    border-radius: 50%;\n",
       "    cursor: pointer;\n",
       "    display: none;\n",
       "    fill: #1967D2;\n",
       "    height: 32px;\n",
       "    padding: 0 0 0 0;\n",
       "    width: 32px;\n",
       "  }\n",
       "\n",
       "  .colab-df-quickchart:hover {\n",
       "    background-color: #E2EBFA;\n",
       "    box-shadow: 0px 1px 2px rgba(60, 64, 67, 0.3), 0px 1px 3px 1px rgba(60, 64, 67, 0.15);\n",
       "    fill: #174EA6;\n",
       "  }\n",
       "\n",
       "  [theme=dark] .colab-df-quickchart {\n",
       "    background-color: #3B4455;\n",
       "    fill: #D2E3FC;\n",
       "  }\n",
       "\n",
       "  [theme=dark] .colab-df-quickchart:hover {\n",
       "    background-color: #434B5C;\n",
       "    box-shadow: 0px 1px 3px 1px rgba(0, 0, 0, 0.15);\n",
       "    filter: drop-shadow(0px 1px 2px rgba(0, 0, 0, 0.3));\n",
       "    fill: #FFFFFF;\n",
       "  }\n",
       "</style>\n",
       "\n",
       "    <script>\n",
       "      async function quickchart(key) {\n",
       "        const containerElement = document.querySelector('#' + key);\n",
       "        const charts = await google.colab.kernel.invokeFunction(\n",
       "            'suggestCharts', [key], {});\n",
       "      }\n",
       "    </script>\n",
       "\n",
       "      <script>\n",
       "\n",
       "function displayQuickchartButton(domScope) {\n",
       "  let quickchartButtonEl =\n",
       "    domScope.querySelector('#df-12e023a2-d3f3-40c1-bcbb-a80cf4e01ae9 button.colab-df-quickchart');\n",
       "  quickchartButtonEl.style.display =\n",
       "    google.colab.kernel.accessAllowed ? 'block' : 'none';\n",
       "}\n",
       "\n",
       "        displayQuickchartButton(document);\n",
       "      </script>\n",
       "      <style>\n",
       "    .colab-df-container {\n",
       "      display:flex;\n",
       "      flex-wrap:wrap;\n",
       "      gap: 12px;\n",
       "    }\n",
       "\n",
       "    .colab-df-convert {\n",
       "      background-color: #E8F0FE;\n",
       "      border: none;\n",
       "      border-radius: 50%;\n",
       "      cursor: pointer;\n",
       "      display: none;\n",
       "      fill: #1967D2;\n",
       "      height: 32px;\n",
       "      padding: 0 0 0 0;\n",
       "      width: 32px;\n",
       "    }\n",
       "\n",
       "    .colab-df-convert:hover {\n",
       "      background-color: #E2EBFA;\n",
       "      box-shadow: 0px 1px 2px rgba(60, 64, 67, 0.3), 0px 1px 3px 1px rgba(60, 64, 67, 0.15);\n",
       "      fill: #174EA6;\n",
       "    }\n",
       "\n",
       "    [theme=dark] .colab-df-convert {\n",
       "      background-color: #3B4455;\n",
       "      fill: #D2E3FC;\n",
       "    }\n",
       "\n",
       "    [theme=dark] .colab-df-convert:hover {\n",
       "      background-color: #434B5C;\n",
       "      box-shadow: 0px 1px 3px 1px rgba(0, 0, 0, 0.15);\n",
       "      filter: drop-shadow(0px 1px 2px rgba(0, 0, 0, 0.3));\n",
       "      fill: #FFFFFF;\n",
       "    }\n",
       "  </style>\n",
       "\n",
       "      <script>\n",
       "        const buttonEl =\n",
       "          document.querySelector('#df-ad1ebd4f-b48d-4c3c-8f63-29bc6bc1cd33 button.colab-df-convert');\n",
       "        buttonEl.style.display =\n",
       "          google.colab.kernel.accessAllowed ? 'block' : 'none';\n",
       "\n",
       "        async function convertToInteractive(key) {\n",
       "          const element = document.querySelector('#df-ad1ebd4f-b48d-4c3c-8f63-29bc6bc1cd33');\n",
       "          const dataTable =\n",
       "            await google.colab.kernel.invokeFunction('convertToInteractive',\n",
       "                                                     [key], {});\n",
       "          if (!dataTable) return;\n",
       "\n",
       "          const docLinkHtml = 'Like what you see? Visit the ' +\n",
       "            '<a target=\"_blank\" href=https://colab.research.google.com/notebooks/data_table.ipynb>data table notebook</a>'\n",
       "            + ' to learn more about interactive tables.';\n",
       "          element.innerHTML = '';\n",
       "          dataTable['output_type'] = 'display_data';\n",
       "          await google.colab.output.renderOutput(dataTable, element);\n",
       "          const docLink = document.createElement('div');\n",
       "          docLink.innerHTML = docLinkHtml;\n",
       "          element.appendChild(docLink);\n",
       "        }\n",
       "      </script>\n",
       "    </div>\n",
       "  </div>\n"
      ]
     },
     "metadata": {},
     "execution_count": 8
    }
   ],
   "source": [
    "pedigree.head()"
   ]
  },
  {
   "cell_type": "code",
   "execution_count": 9,
   "metadata": {
    "colab": {
     "base_uri": "https://localhost:8080/"
    },
    "executionInfo": {
     "elapsed": 6,
     "status": "ok",
     "timestamp": 1690834013374,
     "user": {
      "displayName": "Erfan Mowlaei",
      "userId": "07890245825539195560"
     },
     "user_tz": 240
    },
    "id": "GBSfo4FlV_A_",
    "outputId": "6500fed2-2dd9-4ae0-8fdb-24d2a7525e4c"
   },
   "outputs": [
    {
     "output_type": "execute_result",
     "data": {
      "text/plain": [
       "(2504,)"
      ]
     },
     "metadata": {},
     "execution_count": 9
    }
   ],
   "source": [
    "Y_train = pedigree.loc[genotypes.index]['Population']\n",
    "Y_train.shape"
   ]
  },
  {
   "cell_type": "code",
   "execution_count": 10,
   "metadata": {
    "colab": {
     "base_uri": "https://localhost:8080/"
    },
    "executionInfo": {
     "elapsed": 8,
     "status": "ok",
     "timestamp": 1690834013482,
     "user": {
      "displayName": "Erfan Mowlaei",
      "userId": "07890245825539195560"
     },
     "user_tz": 240
    },
    "id": "hiP0EEwsEMNP",
    "outputId": "f570c55b-06f8-4e67-8afb-eb5028eeaf17"
   },
   "outputs": [
    {
     "output_type": "execute_result",
     "data": {
      "text/plain": [
       "(2504, 572)"
      ]
     },
     "metadata": {},
     "execution_count": 10
    }
   ],
   "source": [
    "X = genotypes[genotypes.index.isin(Y_train.index)]\n",
    "X.shape"
   ]
  },
  {
   "cell_type": "code",
   "execution_count": 11,
   "metadata": {
    "colab": {
     "base_uri": "https://localhost:8080/"
    },
    "executionInfo": {
     "elapsed": 7081,
     "status": "ok",
     "timestamp": 1690834020559,
     "user": {
      "displayName": "Erfan Mowlaei",
      "userId": "07890245825539195560"
     },
     "user_tz": 240
    },
    "id": "DNU6deVHXIdE",
    "outputId": "8e5cff54-24be-46eb-8fa1-c75770618d44"
   },
   "outputs": [
    {
     "output_type": "execute_result",
     "data": {
      "text/plain": [
       "(2504, 572)"
      ]
     },
     "metadata": {},
     "execution_count": 11
    }
   ],
   "source": [
    "X = X.replace({\n",
    "    '0|0': 0,\n",
    "    '0|1': 1,\n",
    "    '1|0': 2,\n",
    "    '1|1': 3\n",
    "})\n",
    "X.shape"
   ]
  },
  {
   "cell_type": "markdown",
   "source": [
    "### MAF"
   ],
   "metadata": {
    "id": "asV65bA-j1aw"
   }
  },
  {
   "cell_type": "code",
   "source": [
    "def get_max_genotype(g):\n",
    "  v1, v2 = g.split(\"|\")\n",
    "  return max(int(v1), int(v2)) + 1\n",
    "\n",
    "def key_gen(v1, v2):\n",
    "  return f\"{v1}|{v2}\""
   ],
   "metadata": {
    "id": "P4m28zGLMtXK",
    "executionInfo": {
     "status": "ok",
     "timestamp": 1690834020560,
     "user_tz": 240,
     "elapsed": 33,
     "user": {
      "displayName": "Erfan Mowlaei",
      "userId": "07890245825539195560"
     }
    }
   },
   "execution_count": 12,
   "outputs": []
  },
  {
   "cell_type": "code",
   "source": [
    "def maf_mapper(txt):\n",
    "  af = min(list(map(lambda x: float(x), txt.split(\";\")[1].split(\"=\")[1].split(\",\"))))\n",
    "  return min(af, 1-af)"
   ],
   "metadata": {
    "id": "PoX14d2YGB8c",
    "executionInfo": {
     "status": "ok",
     "timestamp": 1690834020685,
     "user_tz": 240,
     "elapsed": 156,
     "user": {
      "displayName": "Erfan Mowlaei",
      "userId": "07890245825539195560"
     }
    }
   },
   "execution_count": 13,
   "outputs": []
  },
  {
   "cell_type": "code",
   "source": [
    "mafs = info.iloc[:, 7:8].applymap(maf_mapper)\n",
    "mafs"
   ],
   "metadata": {
    "colab": {
     "base_uri": "https://localhost:8080/",
     "height": 424
    },
    "id": "7U7xuwDFiVHk",
    "executionInfo": {
     "status": "ok",
     "timestamp": 1690834020686,
     "user_tz": 240,
     "elapsed": 13,
     "user": {
      "displayName": "Erfan Mowlaei",
      "userId": "07890245825539195560"
     }
    },
    "outputId": "d90b56f6-c174-4b4e-b2cd-22e8b7c2d013"
   },
   "execution_count": 14,
   "outputs": [
    {
     "output_type": "execute_result",
     "data": {
      "text/plain": [
       "         INFO\n",
       "0    0.024960\n",
       "1    0.005791\n",
       "2    0.037141\n",
       "3    0.000399\n",
       "4    0.000399\n",
       "..        ...\n",
       "567  0.000799\n",
       "568  0.000599\n",
       "569  0.023562\n",
       "570  0.000200\n",
       "571  0.000200\n",
       "\n",
       "[572 rows x 1 columns]"
      ],
      "text/html": [
       "\n",
       "\n",
       "  <div id=\"df-10bffaba-b375-4d68-a4d9-53c0d5aa6ad1\">\n",
       "    <div class=\"colab-df-container\">\n",
       "      <div>\n",
       "<style scoped>\n",
       "    .dataframe tbody tr th:only-of-type {\n",
       "        vertical-align: middle;\n",
       "    }\n",
       "\n",
       "    .dataframe tbody tr th {\n",
       "        vertical-align: top;\n",
       "    }\n",
       "\n",
       "    .dataframe thead th {\n",
       "        text-align: right;\n",
       "    }\n",
       "</style>\n",
       "<table border=\"1\" class=\"dataframe\">\n",
       "  <thead>\n",
       "    <tr style=\"text-align: right;\">\n",
       "      <th></th>\n",
       "      <th>INFO</th>\n",
       "    </tr>\n",
       "  </thead>\n",
       "  <tbody>\n",
       "    <tr>\n",
       "      <th>0</th>\n",
       "      <td>0.024960</td>\n",
       "    </tr>\n",
       "    <tr>\n",
       "      <th>1</th>\n",
       "      <td>0.005791</td>\n",
       "    </tr>\n",
       "    <tr>\n",
       "      <th>2</th>\n",
       "      <td>0.037141</td>\n",
       "    </tr>\n",
       "    <tr>\n",
       "      <th>3</th>\n",
       "      <td>0.000399</td>\n",
       "    </tr>\n",
       "    <tr>\n",
       "      <th>4</th>\n",
       "      <td>0.000399</td>\n",
       "    </tr>\n",
       "    <tr>\n",
       "      <th>...</th>\n",
       "      <td>...</td>\n",
       "    </tr>\n",
       "    <tr>\n",
       "      <th>567</th>\n",
       "      <td>0.000799</td>\n",
       "    </tr>\n",
       "    <tr>\n",
       "      <th>568</th>\n",
       "      <td>0.000599</td>\n",
       "    </tr>\n",
       "    <tr>\n",
       "      <th>569</th>\n",
       "      <td>0.023562</td>\n",
       "    </tr>\n",
       "    <tr>\n",
       "      <th>570</th>\n",
       "      <td>0.000200</td>\n",
       "    </tr>\n",
       "    <tr>\n",
       "      <th>571</th>\n",
       "      <td>0.000200</td>\n",
       "    </tr>\n",
       "  </tbody>\n",
       "</table>\n",
       "<p>572 rows × 1 columns</p>\n",
       "</div>\n",
       "      <button class=\"colab-df-convert\" onclick=\"convertToInteractive('df-10bffaba-b375-4d68-a4d9-53c0d5aa6ad1')\"\n",
       "              title=\"Convert this dataframe to an interactive table.\"\n",
       "              style=\"display:none;\">\n",
       "\n",
       "  <svg xmlns=\"http://www.w3.org/2000/svg\" height=\"24px\"viewBox=\"0 0 24 24\"\n",
       "       width=\"24px\">\n",
       "    <path d=\"M0 0h24v24H0V0z\" fill=\"none\"/>\n",
       "    <path d=\"M18.56 5.44l.94 2.06.94-2.06 2.06-.94-2.06-.94-.94-2.06-.94 2.06-2.06.94zm-11 1L8.5 8.5l.94-2.06 2.06-.94-2.06-.94L8.5 2.5l-.94 2.06-2.06.94zm10 10l.94 2.06.94-2.06 2.06-.94-2.06-.94-.94-2.06-.94 2.06-2.06.94z\"/><path d=\"M17.41 7.96l-1.37-1.37c-.4-.4-.92-.59-1.43-.59-.52 0-1.04.2-1.43.59L10.3 9.45l-7.72 7.72c-.78.78-.78 2.05 0 2.83L4 21.41c.39.39.9.59 1.41.59.51 0 1.02-.2 1.41-.59l7.78-7.78 2.81-2.81c.8-.78.8-2.07 0-2.86zM5.41 20L4 18.59l7.72-7.72 1.47 1.35L5.41 20z\"/>\n",
       "  </svg>\n",
       "      </button>\n",
       "\n",
       "\n",
       "\n",
       "    <div id=\"df-60e0ab7d-56f1-463a-bd04-a47e9e3128b1\">\n",
       "      <button class=\"colab-df-quickchart\" onclick=\"quickchart('df-60e0ab7d-56f1-463a-bd04-a47e9e3128b1')\"\n",
       "              title=\"Suggest charts.\"\n",
       "              style=\"display:none;\">\n",
       "\n",
       "<svg xmlns=\"http://www.w3.org/2000/svg\" height=\"24px\"viewBox=\"0 0 24 24\"\n",
       "     width=\"24px\">\n",
       "    <g>\n",
       "        <path d=\"M19 3H5c-1.1 0-2 .9-2 2v14c0 1.1.9 2 2 2h14c1.1 0 2-.9 2-2V5c0-1.1-.9-2-2-2zM9 17H7v-7h2v7zm4 0h-2V7h2v10zm4 0h-2v-4h2v4z\"/>\n",
       "    </g>\n",
       "</svg>\n",
       "      </button>\n",
       "    </div>\n",
       "\n",
       "<style>\n",
       "  .colab-df-quickchart {\n",
       "    background-color: #E8F0FE;\n",
       "    border: none;\n",
       "    border-radius: 50%;\n",
       "    cursor: pointer;\n",
       "    display: none;\n",
       "    fill: #1967D2;\n",
       "    height: 32px;\n",
       "    padding: 0 0 0 0;\n",
       "    width: 32px;\n",
       "  }\n",
       "\n",
       "  .colab-df-quickchart:hover {\n",
       "    background-color: #E2EBFA;\n",
       "    box-shadow: 0px 1px 2px rgba(60, 64, 67, 0.3), 0px 1px 3px 1px rgba(60, 64, 67, 0.15);\n",
       "    fill: #174EA6;\n",
       "  }\n",
       "\n",
       "  [theme=dark] .colab-df-quickchart {\n",
       "    background-color: #3B4455;\n",
       "    fill: #D2E3FC;\n",
       "  }\n",
       "\n",
       "  [theme=dark] .colab-df-quickchart:hover {\n",
       "    background-color: #434B5C;\n",
       "    box-shadow: 0px 1px 3px 1px rgba(0, 0, 0, 0.15);\n",
       "    filter: drop-shadow(0px 1px 2px rgba(0, 0, 0, 0.3));\n",
       "    fill: #FFFFFF;\n",
       "  }\n",
       "</style>\n",
       "\n",
       "    <script>\n",
       "      async function quickchart(key) {\n",
       "        const containerElement = document.querySelector('#' + key);\n",
       "        const charts = await google.colab.kernel.invokeFunction(\n",
       "            'suggestCharts', [key], {});\n",
       "      }\n",
       "    </script>\n",
       "\n",
       "      <script>\n",
       "\n",
       "function displayQuickchartButton(domScope) {\n",
       "  let quickchartButtonEl =\n",
       "    domScope.querySelector('#df-60e0ab7d-56f1-463a-bd04-a47e9e3128b1 button.colab-df-quickchart');\n",
       "  quickchartButtonEl.style.display =\n",
       "    google.colab.kernel.accessAllowed ? 'block' : 'none';\n",
       "}\n",
       "\n",
       "        displayQuickchartButton(document);\n",
       "      </script>\n",
       "      <style>\n",
       "    .colab-df-container {\n",
       "      display:flex;\n",
       "      flex-wrap:wrap;\n",
       "      gap: 12px;\n",
       "    }\n",
       "\n",
       "    .colab-df-convert {\n",
       "      background-color: #E8F0FE;\n",
       "      border: none;\n",
       "      border-radius: 50%;\n",
       "      cursor: pointer;\n",
       "      display: none;\n",
       "      fill: #1967D2;\n",
       "      height: 32px;\n",
       "      padding: 0 0 0 0;\n",
       "      width: 32px;\n",
       "    }\n",
       "\n",
       "    .colab-df-convert:hover {\n",
       "      background-color: #E2EBFA;\n",
       "      box-shadow: 0px 1px 2px rgba(60, 64, 67, 0.3), 0px 1px 3px 1px rgba(60, 64, 67, 0.15);\n",
       "      fill: #174EA6;\n",
       "    }\n",
       "\n",
       "    [theme=dark] .colab-df-convert {\n",
       "      background-color: #3B4455;\n",
       "      fill: #D2E3FC;\n",
       "    }\n",
       "\n",
       "    [theme=dark] .colab-df-convert:hover {\n",
       "      background-color: #434B5C;\n",
       "      box-shadow: 0px 1px 3px 1px rgba(0, 0, 0, 0.15);\n",
       "      filter: drop-shadow(0px 1px 2px rgba(0, 0, 0, 0.3));\n",
       "      fill: #FFFFFF;\n",
       "    }\n",
       "  </style>\n",
       "\n",
       "      <script>\n",
       "        const buttonEl =\n",
       "          document.querySelector('#df-10bffaba-b375-4d68-a4d9-53c0d5aa6ad1 button.colab-df-convert');\n",
       "        buttonEl.style.display =\n",
       "          google.colab.kernel.accessAllowed ? 'block' : 'none';\n",
       "\n",
       "        async function convertToInteractive(key) {\n",
       "          const element = document.querySelector('#df-10bffaba-b375-4d68-a4d9-53c0d5aa6ad1');\n",
       "          const dataTable =\n",
       "            await google.colab.kernel.invokeFunction('convertToInteractive',\n",
       "                                                     [key], {});\n",
       "          if (!dataTable) return;\n",
       "\n",
       "          const docLinkHtml = 'Like what you see? Visit the ' +\n",
       "            '<a target=\"_blank\" href=https://colab.research.google.com/notebooks/data_table.ipynb>data table notebook</a>'\n",
       "            + ' to learn more about interactive tables.';\n",
       "          element.innerHTML = '';\n",
       "          dataTable['output_type'] = 'display_data';\n",
       "          await google.colab.output.renderOutput(dataTable, element);\n",
       "          const docLink = document.createElement('div');\n",
       "          docLink.innerHTML = docLinkHtml;\n",
       "          element.appendChild(docLink);\n",
       "        }\n",
       "      </script>\n",
       "    </div>\n",
       "  </div>\n"
      ]
     },
     "metadata": {},
     "execution_count": 14
    }
   ]
  },
  {
   "cell_type": "code",
   "source": [
    "plt.hist(mafs, bins=[0, 0.1, 0.2, 0.3, 0.4, 0.5]);"
   ],
   "metadata": {
    "colab": {
     "base_uri": "https://localhost:8080/",
     "height": 430
    },
    "id": "KaBtVvHmRL-X",
    "executionInfo": {
     "status": "ok",
     "timestamp": 1690834021514,
     "user_tz": 240,
     "elapsed": 838,
     "user": {
      "displayName": "Erfan Mowlaei",
      "userId": "07890245825539195560"
     }
    },
    "outputId": "37e5786a-a4e1-4434-d91a-fb3dcc21d98c"
   },
   "execution_count": 15,
   "outputs": [
    {
     "output_type": "display_data",
     "data": {
      "text/plain": [
       "<Figure size 640x480 with 1 Axes>"
      ],
      "image/png": "[encoded data removed]"
     },
     "metadata": {}
    }
   ]
  },
  {
   "cell_type": "code",
   "source": [
    "bin_labels = np.digitize(mafs, bins=[0, 0.1, 0.2, 0.3, 0.4, 0.5], right=False)\n",
    "bin_general_labels, bin_counts = np.unique(bin_labels, return_counts=True)\n",
    "bin_general_labels, bin_counts"
   ],
   "metadata": {
    "colab": {
     "base_uri": "https://localhost:8080/"
    },
    "id": "12UAf-X8dPBf",
    "executionInfo": {
     "status": "ok",
     "timestamp": 1690834021514,
     "user_tz": 240,
     "elapsed": 8,
     "user": {
      "displayName": "Erfan Mowlaei",
      "userId": "07890245825539195560"
     }
    },
    "outputId": "686eff27-dde1-42e5-e4d5-ce421260c3bf"
   },
   "execution_count": 16,
   "outputs": [
    {
     "output_type": "execute_result",
     "data": {
      "text/plain": [
       "(array([1, 2, 3, 4, 5]), array([528,  18,  10,  10,   6]))"
      ]
     },
     "metadata": {},
     "execution_count": 16
    }
   ]
  },
  {
   "cell_type": "code",
   "execution_count": 17,
   "metadata": {
    "id": "_pZoO-FvKdr3",
    "executionInfo": {
     "status": "ok",
     "timestamp": 1690834021515,
     "user_tz": 240,
     "elapsed": 4,
     "user": {
      "displayName": "Erfan Mowlaei",
      "userId": "07890245825539195560"
     }
    }
   },
   "outputs": [],
   "source": [
    "# hyperparameters\n",
    "feature_size = X.shape[1]\n",
    "inChannel = 3\n",
    "learning_rate = 0.001\n",
    "weight_decay = 0.00001\n",
    "embed_dim = 64  # Embedding size for each token\n",
    "num_heads = 8 # Number of attention heads\n",
    "ff_dim = 32  # Hidden layer size in feed forward network inside transformer\n",
    "regularization_coef_l1 = 1e-5\n",
    "batch_size = 20\n",
    "dropout_rate = 0.25"
   ]
  },
  {
   "cell_type": "markdown",
   "metadata": {
    "id": "LtSxW2eMOOCU"
   },
   "source": [
    "## Convert to tensorflow dataset"
   ]
  },
  {
   "cell_type": "code",
   "execution_count": 18,
   "metadata": {
    "id": "KDiVoe67JHcy",
    "executionInfo": {
     "status": "ok",
     "timestamp": 1690834021683,
     "user_tz": 240,
     "elapsed": 172,
     "user": {
      "displayName": "Erfan Mowlaei",
      "userId": "07890245825539195560"
     }
    }
   },
   "outputs": [],
   "source": [
    "@tf.function()\n",
    "def add_attention_mask(X_sample, y_sample):\n",
    "  depth = 3\n",
    "  mask_size = tf.cast(X_sample.shape[0]*0.5, dtype=tf.int64)\n",
    "  mask_idx = tf.reshape(tf.random.shuffle(tf.range(X_sample.shape[0]))[:mask_size], (-1, 1))\n",
    "  updates = tf.math.add(tf.ones(shape=(mask_idx.shape[0]), dtype=tf.int64), 1)\n",
    "  X_masked = tf.tensor_scatter_nd_update(X_sample, mask_idx, updates)\n",
    "  return tf.one_hot(X_masked, depth), tf.one_hot(y_sample, depth-1)"
   ]
  },
  {
   "cell_type": "code",
   "execution_count": 19,
   "metadata": {
    "id": "SlyxYCy96H7V",
    "executionInfo": {
     "status": "ok",
     "timestamp": 1690834021683,
     "user_tz": 240,
     "elapsed": 6,
     "user": {
      "displayName": "Erfan Mowlaei",
      "userId": "07890245825539195560"
     }
    }
   },
   "outputs": [],
   "source": [
    "def map_values_1(x):\n",
    "  return 0 if (x == 0 or x == 1) else 1\n",
    "\n",
    "def map_values_2(x):\n",
    "  return 0 if (x == 0 or x == 2) else 1\n",
    "\n",
    "def get_dataset(x, chunk_start, chunk_end, start_offset, end_offset, batch_size, training=True):\n",
    "  AUTO = tf.data.AUTOTUNE\n",
    "\n",
    "  _x = np.empty((x.shape[0] * 2, chunk_end-chunk_start), dtype=x.dtype)\n",
    "\n",
    "  map_values_1_vec = np.vectorize(map_values_1)\n",
    "  map_values_2_vec = np.vectorize(map_values_2)\n",
    "\n",
    "  _x[0::2] = map_values_1_vec(x[:, chunk_start:chunk_end])\n",
    "  _x[1::2] = map_values_2_vec(x[:, chunk_start:chunk_end])\n",
    "  new_chunk_end = _x.shape[1]\n",
    "\n",
    "  dataset = tf.data.Dataset.from_tensor_slices((_x,\n",
    "                                                _x[:, start_offset:new_chunk_end-end_offset]))\n",
    "\n",
    "  if training:\n",
    "    dataset = dataset.shuffle(_x.shape[0], reshuffle_each_iteration=True)\n",
    "    dataset = dataset.repeat()\n",
    "\n",
    "  # Add Attention Mask\n",
    "  dataset = dataset.map(add_attention_mask, num_parallel_calls=AUTO, deterministic=False)\n",
    "\n",
    "  # Prefetech to not map the whole dataset\n",
    "  dataset = dataset.prefetch(AUTO)\n",
    "\n",
    "  dataset = dataset.batch(batch_size, drop_remainder=True, num_parallel_calls=AUTO)\n",
    "\n",
    "  return dataset"
   ]
  },
  {
   "cell_type": "markdown",
   "metadata": {
    "id": "OCkow4q5MJk_"
   },
   "source": [
    "## Model"
   ]
  },
  {
   "cell_type": "code",
   "source": [
    "kr = 1e-6\n",
    "drop_prec = 0.25"
   ],
   "metadata": {
    "id": "H71c1Re5TkQx",
    "executionInfo": {
     "status": "ok",
     "timestamp": 1690834021684,
     "user_tz": 240,
     "elapsed": 6,
     "user": {
      "displayName": "Erfan Mowlaei",
      "userId": "07890245825539195560"
     }
    }
   },
   "execution_count": 20,
   "outputs": []
  },
  {
   "cell_type": "code",
   "execution_count": 21,
   "metadata": {
    "id": "vgGz9_6u8u-O",
    "executionInfo": {
     "status": "ok",
     "timestamp": 1690834021685,
     "user_tz": 240,
     "elapsed": 7,
     "user": {
      "displayName": "Erfan Mowlaei",
      "userId": "07890245825539195560"
     }
    }
   },
   "outputs": [],
   "source": [
    "def createSCDA(base_size=128, kernel_size=32):\n",
    "  inputt = layers.Input(shape=(feature_size, inChannel))\n",
    "  # encoder\n",
    "  x = layers.Conv1D(base_size, kernel_size, padding='same',activation='relu',\n",
    "                        kernel_regularizer=regularizers.l1(kr),\n",
    "                        input_shape=(feature_size, inChannel))(inputt)\n",
    "  x = layers.BatchNormalization()(x)\n",
    "  x = layers.MaxPool1D(2)(x)\n",
    "  x = layers.Dropout(drop_prec)(x)\n",
    "  x = layers.Conv1D(base_size*2, kernel_size, padding='same', activation='relu',\n",
    "                        kernel_regularizer=regularizers.l1(kr)\n",
    "                        )(x)\n",
    "  x = layers.BatchNormalization()(x)\n",
    "  x = layers.MaxPool1D(2)(x)\n",
    "  x = layers.Dropout(drop_prec)(x)\n",
    "\n",
    "  # bridge\n",
    "  x = layers.Conv1D(base_size*4, kernel_size, padding='same', activation='relu',\n",
    "                        kernel_regularizer=regularizers.l1(kr)\n",
    "                        )(x)\n",
    "\n",
    "  # decoder\n",
    "  x = layers.Conv1D(base_size*2, kernel_size, padding='same', activation='relu',\n",
    "                        kernel_regularizer=regularizers.l1(kr)\n",
    "                        )(x)\n",
    "  x = layers.BatchNormalization()(x)\n",
    "  x = layers.UpSampling1D(2)(x)\n",
    "  x = layers.Dropout(drop_prec)(x)\n",
    "\n",
    "  x = layers.Conv1D(base_size, kernel_size, padding='same', activation='relu',\n",
    "                        kernel_regularizer=regularizers.l1(kr)\n",
    "                        )(x)\n",
    "  x = layers.BatchNormalization()(x)\n",
    "  x = layers.UpSampling1D(2)(x)\n",
    "  x = layers.Dropout(drop_prec)(x)\n",
    "\n",
    "  x = layers.Conv1D(inChannel-1, kernel_size, activation='softmax', padding='same')(x)\n",
    "  #   x = layers.Dense(inChannel-1, activation=tf.nn.softmax)(x)\n",
    "\n",
    "  SCDA = tf.keras.models.Model(inputt, x)\n",
    "\n",
    "  return SCDA"
   ]
  },
  {
   "cell_type": "code",
   "source": [
    "model = createSCDA()\n",
    "model.build((1, feature_size, inChannel))\n",
    "model.summary()"
   ],
   "metadata": {
    "colab": {
     "base_uri": "https://localhost:8080/"
    },
    "id": "NaAkHl0XKyIM",
    "executionInfo": {
     "status": "ok",
     "timestamp": 1690834022426,
     "user_tz": 240,
     "elapsed": 747,
     "user": {
      "displayName": "Erfan Mowlaei",
      "userId": "07890245825539195560"
     }
    },
    "outputId": "1761c90a-af89-41af-ee3e-1c0e3acabf1e"
   },
   "execution_count": 22,
   "outputs": [
    {
     "output_type": "stream",
     "name": "stdout",
     "text": [
      "Model: \"model\"\n",
      "_________________________________________________________________\n",
      " Layer (type)                Output Shape              Param #   \n",
      "=================================================================\n",
      " input_1 (InputLayer)        [(None, 572, 3)]          0         \n",
      "                                                                 \n",
      " conv1d (Conv1D)             (None, 572, 128)          12416     \n",
      "                                                                 \n",
      " batch_normalization (BatchN  (None, 572, 128)         512       \n",
      " ormalization)                                                   \n",
      "                                                                 \n",
      " max_pooling1d (MaxPooling1D  (None, 286, 128)         0         \n",
      " )                                                               \n",
      "                                                                 \n",
      " dropout (Dropout)           (None, 286, 128)          0         \n",
      "                                                                 \n",
      " conv1d_1 (Conv1D)           (None, 286, 256)          1048832   \n",
      "                                                                 \n",
      " batch_normalization_1 (Batc  (None, 286, 256)         1024      \n",
      " hNormalization)                                                 \n",
      "                                                                 \n",
      " max_pooling1d_1 (MaxPooling  (None, 143, 256)         0         \n",
      " 1D)                                                             \n",
      "                                                                 \n",
      " dropout_1 (Dropout)         (None, 143, 256)          0         \n",
      "                                                                 \n",
      " conv1d_2 (Conv1D)           (None, 143, 512)          4194816   \n",
      "                                                                 \n",
      " conv1d_3 (Conv1D)           (None, 143, 256)          4194560   \n",
      "                                                                 \n",
      " batch_normalization_2 (Batc  (None, 143, 256)         1024      \n",
      " hNormalization)                                                 \n",
      "                                                                 \n",
      " up_sampling1d (UpSampling1D  (None, 286, 256)         0         \n",
      " )                                                               \n",
      "                                                                 \n",
      " dropout_2 (Dropout)         (None, 286, 256)          0         \n",
      "                                                                 \n",
      " conv1d_4 (Conv1D)           (None, 286, 128)          1048704   \n",
      "                                                                 \n",
      " batch_normalization_3 (Batc  (None, 286, 128)         512       \n",
      " hNormalization)                                                 \n",
      "                                                                 \n",
      " up_sampling1d_1 (UpSampling  (None, 572, 128)         0         \n",
      " 1D)                                                             \n",
      "                                                                 \n",
      " dropout_3 (Dropout)         (None, 572, 128)          0         \n",
      "                                                                 \n",
      " conv1d_5 (Conv1D)           (None, 572, 2)            8194      \n",
      "                                                                 \n",
      "=================================================================\n",
      "Total params: 10,510,594\n",
      "Trainable params: 10,509,058\n",
      "Non-trainable params: 1,536\n",
      "_________________________________________________________________\n"
     ]
    }
   ]
  },
  {
   "cell_type": "code",
   "source": [
    "def create_model():\n",
    "  model =  createSCDA()\n",
    "  optimizer = tfa.optimizers.LAMB(learning_rate=learning_rate)\n",
    "  model.compile(optimizer, loss=tf.keras.losses.CategoricalCrossentropy(), metrics=tf.keras.metrics.CategoricalAccuracy())\n",
    "  return model"
   ],
   "metadata": {
    "id": "-EXc-erqK16d",
    "executionInfo": {
     "status": "ok",
     "timestamp": 1690834022428,
     "user_tz": 240,
     "elapsed": 9,
     "user": {
      "displayName": "Erfan Mowlaei",
      "userId": "07890245825539195560"
     }
    }
   },
   "execution_count": 23,
   "outputs": []
  },
  {
   "cell_type": "code",
   "execution_count": 24,
   "metadata": {
    "id": "61EgnuNmoFLT",
    "executionInfo": {
     "status": "ok",
     "timestamp": 1690834022542,
     "user_tz": 240,
     "elapsed": 122,
     "user": {
      "displayName": "Erfan Mowlaei",
      "userId": "07890245825539195560"
     }
    }
   },
   "outputs": [],
   "source": [
    "METRIC = \"val_categorical_accuracy\"\n",
    "\n",
    "def create_callbacks(kfold=0, metric = METRIC):\n",
    "\n",
    "    reducelr = tf.keras.callbacks.ReduceLROnPlateau(\n",
    "        monitor= metric,\n",
    "        mode='auto',\n",
    "        factor=0.2,\n",
    "        patience=3,\n",
    "        verbose=0\n",
    "    )\n",
    "\n",
    "    earlystop = tf.keras.callbacks.EarlyStopping(\n",
    "        monitor= metric,\n",
    "        mode='auto',\n",
    "        patience= 10,\n",
    "        verbose=1,\n",
    "        restore_best_weights=True\n",
    "    )\n",
    "\n",
    "    callbacks = [\n",
    "                 reducelr,\n",
    "                 earlystop]\n",
    "\n",
    "    return callbacks"
   ]
  },
  {
   "cell_type": "code",
   "execution_count": 25,
   "metadata": {
    "colab": {
     "base_uri": "https://localhost:8080/"
    },
    "executionInfo": {
     "elapsed": 6,
     "status": "ok",
     "timestamp": 1690834022542,
     "user": {
      "displayName": "Erfan Mowlaei",
      "userId": "07890245825539195560"
     },
     "user_tz": 240
    },
    "id": "5CVnIE7HK63r",
    "outputId": "9c0310b9-3699-4d9b-f764-d44997e33d52"
   },
   "outputs": [
    {
     "output_type": "execute_result",
     "data": {
      "text/plain": [
       "array(['ACB', 'ASW', 'BEB', 'CDX', 'CEU', 'CHB', 'CHS', 'CLM', 'ESN',\n",
       "       'FIN', 'GBR', 'GIH', 'GWD', 'IBS', 'ITU', 'JPT', 'KHV', 'LWK',\n",
       "       'MSL', 'MXL', 'PEL', 'PJL', 'PUR', 'STU', 'TSI', 'YRI'],\n",
       "      dtype=object)"
      ]
     },
     "metadata": {},
     "execution_count": 25
    }
   ],
   "source": [
    "np.unique(Y_train.values)"
   ]
  },
  {
   "cell_type": "markdown",
   "metadata": {
    "id": "TOA_NexzN5Qq"
   },
   "source": [
    "## Training"
   ]
  },
  {
   "cell_type": "code",
   "source": [
    "save_dir = \"[save_dir]/\"\n",
    "\n",
    "if not os.path.exists(save_dir):\n",
    "  # shutil.rmtree(save_dir)\n",
    "  os.makedirs(save_dir)"
   ],
   "metadata": {
    "id": "D7x6zcOnGGwC",
    "executionInfo": {
     "status": "ok",
     "timestamp": 1690834023216,
     "user_tz": 240,
     "elapsed": 678,
     "user": {
      "displayName": "Erfan Mowlaei",
      "userId": "07890245825539195560"
     }
    }
   },
   "execution_count": 26,
   "outputs": []
  },
  {
   "cell_type": "code",
   "execution_count": 27,
   "metadata": {
    "colab": {
     "base_uri": "https://localhost:8080/"
    },
    "executionInfo": {
     "elapsed": 11,
     "status": "ok",
     "timestamp": 1690834023217,
     "user": {
      "displayName": "Erfan Mowlaei",
      "userId": "07890245825539195560"
     },
     "user_tz": 240
    },
    "id": "Ey5lpPElXlUd",
    "outputId": "6f21ee73-61eb-445a-adae-50155709750d"
   },
   "outputs": [
    {
     "output_type": "execute_result",
     "data": {
      "text/plain": [
       "16"
      ]
     },
     "metadata": {},
     "execution_count": 27
    }
   ],
   "source": [
    "# A TPU V3-8 has 8 computing cores, the global batch size will be 1/16 x 8 = 8/128\n",
    "BATCH_SIZE_BASE = 2\n",
    "# Training configuration\n",
    "BATCH_SIZE = BATCH_SIZE_BASE * N_REPLICAS if TPU else 5\n",
    "BATCH_SIZE"
   ]
  },
  {
   "cell_type": "code",
   "source": [
    "# With constraint\n",
    "missing_perc = 0.1\n",
    "N_SPLITS=3\n",
    "NUM_EPOCHS = 1000\n",
    "accuracies = []\n",
    "results = None\n",
    "kf = KFold(n_splits=N_SPLITS, shuffle=True, random_state=2022)\n",
    "fold = 0\n",
    "_x = X[X.index.isin(Y_train.index)].to_numpy()\n",
    "_y = Y_train.to_numpy()\n",
    "for train_index, test_index in kf.split(_x):\n",
    "  fold += 1\n",
    "\n",
    "  print(f\"Training using fold {fold}\")\n",
    "  x_train, y_train, test_dataset, test_indices = _x[train_index], _y[train_index], (_x[test_index], _y[test_index]),Y_train.index[test_index]\n",
    "  x_train, x_valid, y_train, y_valid = train_test_split(x_train, y_train, test_size=0.10,\n",
    "                                      random_state=fold,\n",
    "                                      shuffle=True)\n",
    "\n",
    "  steps_per_epoch = 2*x_train.shape[0]//BATCH_SIZE\n",
    "  validation_steps = 2*x_valid.shape[0]//BATCH_SIZE\n",
    "  train_dataset = get_dataset(x_train, 0, feature_size, 0, 0, BATCH_SIZE)\n",
    "  valid_dataset = get_dataset(x_valid, 0, feature_size, 0, 0, BATCH_SIZE, training=False)\n",
    "\n",
    "  K.clear_session()\n",
    "  callbacks = create_callbacks()\n",
    "  with strategy.scope():\n",
    "    model = create_model()\n",
    "    history = model.fit(train_dataset, steps_per_epoch=steps_per_epoch, epochs=NUM_EPOCHS,\n",
    "            validation_data=valid_dataset,\n",
    "            validation_steps=validation_steps,\n",
    "            callbacks=callbacks, verbose=1)\n",
    "  for missing_perc in [\n",
    "                         0.05,\n",
    "                         0.1,\n",
    "                         0.2\n",
    "                         ]:\n",
    "    save_name = save_dir + f\"preds_mixed_mr_{missing_perc}_fold_{fold}_probs\"\n",
    "    avg_accuracy = []\n",
    "    preds = []\n",
    "    true_labels = []\n",
    "\n",
    "    # to_save_array = np.zeros((test_dataset[0].shape[0], test_dataset[0].shape[1]), dtype=object)\n",
    "    test_X_missing = np.empty((test_dataset[0].shape[0] * 2, test_dataset[0].shape[1]), dtype=test_dataset[0].dtype)\n",
    "    map_values_1_vec = np.vectorize(map_values_1)\n",
    "    map_values_2_vec = np.vectorize(map_values_2)\n",
    "    test_X_missing[0::2] = map_values_1_vec(test_dataset[0])\n",
    "    test_X_missing[1::2] = map_values_2_vec(test_dataset[0])\n",
    "    test_X_missing = to_categorical(test_X_missing, 3)\n",
    "\n",
    "    for i in tqdm(range(test_dataset[0].shape[0])):\n",
    "      missing_index, _ = train_test_split(np.arange(x_train.shape[1]), train_size=missing_perc,\n",
    "                                    random_state=i + fold,\n",
    "                                    shuffle=True,\n",
    "                                    stratify=bin_labels\n",
    "                                    )\n",
    "      test_X_missing[i*2:i*2+2, missing_index, :] = [0, 0, 1]\n",
    "      # mMask = np.tile(attention_mask, (1, 1, 1))\n",
    "      # predict\n",
    "    predict_onehots = model.predict(test_X_missing, verbose=0)\n",
    "    to_save_array = np.copy(predict_onehots)\n",
    "    for i in tqdm(range(test_dataset[0].shape[0])):\n",
    "      missing_index, _ = train_test_split(np.arange(x_train.shape[1]), train_size=missing_perc,\n",
    "                                    random_state=i + fold,\n",
    "                                    shuffle=True,\n",
    "                                    stratify=bin_labels\n",
    "                                    )\n",
    "      predict_missing_onehot = predict_onehots[i*2:(i+1)*2, missing_index, :]\n",
    "      # predict label\n",
    "      predict_missing = np.argmax(predict_missing_onehot, axis=2)\n",
    "      predict_missing_final = np.zeros((1, predict_missing.shape[1]))\n",
    "      for j in range(predict_missing.shape[1]):\n",
    "        if predict_missing[:, j].tolist() == [0, 0]:\n",
    "          predict_missing_final[:, j] = 0\n",
    "        elif predict_missing[:, j].tolist() == [0, 1]:\n",
    "          predict_missing_final[:, j] = 1\n",
    "        elif predict_missing[:, j].tolist() == [1, 0]:\n",
    "          predict_missing_final[:, j] = 2\n",
    "        elif predict_missing[:, j].tolist() == [1, 1]:\n",
    "          predict_missing_final[:, j] = 3\n",
    "        else:\n",
    "          predict_missing_final[:, j] = 4\n",
    "      preds.extend(predict_missing_final.ravel().tolist())\n",
    "\n",
    "      # predict_haplotypes = np.argmax(predict_onehots[i*2:(i+1)*2], axis=2)\n",
    "      # for j in range(predict_onehots.shape[1]):\n",
    "      #   if predict_haplotypes[:, j].tolist() == [0,0]:\n",
    "      #     to_save_array[i, j] = '0|0'\n",
    "      #   elif predict_haplotypes[:, j].tolist() == [0,1]:\n",
    "      #     to_save_array[i, j] = '0|1'\n",
    "      #   elif predict_haplotypes[:, j].tolist() == [1,0]:\n",
    "      #     to_save_array[i, j] = '1|0'\n",
    "      #   elif predict_haplotypes[:, j].tolist() == [1, 1]:\n",
    "      #     to_save_array[i, j] = '1|1'\n",
    "      #   else:\n",
    "      #     to_save_array[i, j] = '.|.'\n",
    "      # real label\n",
    "      label_missing_onehot = test_dataset[0][i:i + 1, missing_index]\n",
    "      # label_missing = np.argmax(label_missing_onehot, axis=2)\n",
    "      label_missing = test_dataset[0][i:i + 1, missing_index]\n",
    "      true_labels.extend(label_missing.ravel().tolist())\n",
    "      # accuracy\n",
    "      correct_prediction = np.equal(predict_missing_final, label_missing)\n",
    "      accuracy = np.mean(correct_prediction)\n",
    "      # print('{}/{}, accuracy: {:.4f}'.format(\n",
    "      #     i, test_X_missing.shape[0], accuracy))\n",
    "\n",
    "      avg_accuracy.append(accuracy)\n",
    "\n",
    "    # df = pd.DataFrame(to_save_array, columns= headers[:], index = Y_train.index[test_index])\n",
    "    # df.to_csv(save_name)\n",
    "    np.save(save_name, to_save_array)\n",
    "    print('The average imputation accuracy' \\\n",
    "          'on test data with {} missing genotypes is {:.4f}: '\n",
    "        .format(missing_perc, np.mean(avg_accuracy)))\n",
    "    cnf_matrix = confusion_matrix(true_labels, preds)\n",
    "    FP = cnf_matrix.sum(axis=0) - np.diag(cnf_matrix)\n",
    "    FN = cnf_matrix.sum(axis=1) - np.diag(cnf_matrix)\n",
    "    TP = np.diag(cnf_matrix)\n",
    "    TN = cnf_matrix.sum() - (FP + FN + TP)\n",
    "    FP = FP.astype(float)\n",
    "    FN = FN.astype(float)\n",
    "    TP = TP.astype(float)\n",
    "    TN = TN.astype(float)\n",
    "    # Sensitivity, hit rate, recall, or true positive rate\n",
    "    TPR = TP/(TP+FN)\n",
    "    # Specificity or true negative rate\n",
    "    TNR = TN/(TN+FP)\n",
    "    print(f\"Sensitivity: {np.mean(TPR)}\")\n",
    "    print(f\"Specificity: {np.mean(TNR)}\")\n",
    "    print(f\"F1-score macro: {f1_score(true_labels, preds, average='macro')}\")\n",
    "    print(f\"F1-score micro: {f1_score(true_labels, preds, average='micro')}\")\n",
    "    accuracies.append(np.mean(avg_accuracy))\n",
    "  print(f\"=====================================\")\n",
    "\n"
   ],
   "metadata": {
    "id": "Gq5VWuKWVZVx",
    "colab": {
     "base_uri": "https://localhost:8080/"
    },
    "executionInfo": {
     "status": "ok",
     "timestamp": 1690834792138,
     "user_tz": 240,
     "elapsed": 768926,
     "user": {
      "displayName": "Erfan Mowlaei",
      "userId": "07890245825539195560"
     }
    },
    "outputId": "e87c8002-58cb-44d1-d4f5-bae04d1d1dfa"
   },
   "execution_count": 28,
   "outputs": [
    {
     "output_type": "stream",
     "name": "stdout",
     "text": [
      "Training using fold 1\n",
      "Epoch 1/1000\n",
      "187/187 [==============================] - 37s 49ms/step - loss: 0.5610 - categorical_accuracy: 0.8202 - val_loss: 7.1264 - val_categorical_accuracy: 0.0776 - lr: 0.0010\n",
      "Epoch 2/1000\n",
      "187/187 [==============================] - 5s 27ms/step - loss: 0.1851 - categorical_accuracy: 0.9771 - val_loss: 27.3990 - val_categorical_accuracy: 0.0261 - lr: 0.0010\n",
      "Epoch 3/1000\n",
      "187/187 [==============================] - 5s 29ms/step - loss: 0.1456 - categorical_accuracy: 0.9838 - val_loss: 12.1879 - val_categorical_accuracy: 0.1094 - lr: 0.0010\n",
      "Epoch 4/1000\n",
      "187/187 [==============================] - 6s 30ms/step - loss: 0.1352 - categorical_accuracy: 0.9858 - val_loss: 0.9308 - val_categorical_accuracy: 0.6118 - lr: 0.0010\n",
      "Epoch 5/1000\n",
      "187/187 [==============================] - 5s 28ms/step - loss: 0.1301 - categorical_accuracy: 0.9864 - val_loss: 0.1220 - val_categorical_accuracy: 0.9877 - lr: 0.0010\n",
      "Epoch 6/1000\n",
      "187/187 [==============================] - 5s 28ms/step - loss: 0.1251 - categorical_accuracy: 0.9868 - val_loss: 0.1309 - val_categorical_accuracy: 0.9851 - lr: 0.0010\n",
      "Epoch 7/1000\n",
      "187/187 [==============================] - 5s 28ms/step - loss: 0.1215 - categorical_accuracy: 0.9871 - val_loss: 0.1477 - val_categorical_accuracy: 0.9789 - lr: 0.0010\n",
      "Epoch 8/1000\n",
      "187/187 [==============================] - 5s 26ms/step - loss: 0.1184 - categorical_accuracy: 0.9873 - val_loss: 0.1137 - val_categorical_accuracy: 0.9876 - lr: 0.0010\n",
      "Epoch 9/1000\n",
      "187/187 [==============================] - 6s 32ms/step - loss: 0.1159 - categorical_accuracy: 0.9875 - val_loss: 0.1114 - val_categorical_accuracy: 0.9881 - lr: 2.0000e-04\n",
      "Epoch 10/1000\n",
      "187/187 [==============================] - 5s 28ms/step - loss: 0.1149 - categorical_accuracy: 0.9875 - val_loss: 0.1130 - val_categorical_accuracy: 0.9874 - lr: 2.0000e-04\n",
      "Epoch 11/1000\n",
      "187/187 [==============================] - 6s 30ms/step - loss: 0.1140 - categorical_accuracy: 0.9876 - val_loss: 0.1115 - val_categorical_accuracy: 0.9877 - lr: 2.0000e-04\n",
      "Epoch 12/1000\n",
      "187/187 [==============================] - 5s 29ms/step - loss: 0.1134 - categorical_accuracy: 0.9876 - val_loss: 0.1114 - val_categorical_accuracy: 0.9877 - lr: 2.0000e-04\n",
      "Epoch 13/1000\n",
      "187/187 [==============================] - 5s 28ms/step - loss: 0.1125 - categorical_accuracy: 0.9878 - val_loss: 0.1093 - val_categorical_accuracy: 0.9881 - lr: 4.0000e-05\n",
      "Epoch 14/1000\n",
      "187/187 [==============================] - 5s 26ms/step - loss: 0.1127 - categorical_accuracy: 0.9876 - val_loss: 0.1100 - val_categorical_accuracy: 0.9878 - lr: 4.0000e-05\n",
      "Epoch 15/1000\n",
      "187/187 [==============================] - 5s 29ms/step - loss: 0.1124 - categorical_accuracy: 0.9877 - val_loss: 0.1102 - val_categorical_accuracy: 0.9878 - lr: 4.0000e-05\n",
      "Epoch 16/1000\n",
      "187/187 [==============================] - 5s 27ms/step - loss: 0.1125 - categorical_accuracy: 0.9877 - val_loss: 0.1109 - val_categorical_accuracy: 0.9878 - lr: 8.0000e-06\n",
      "Epoch 17/1000\n",
      "187/187 [==============================] - 5s 28ms/step - loss: 0.1121 - categorical_accuracy: 0.9878 - val_loss: 0.1088 - val_categorical_accuracy: 0.9884 - lr: 8.0000e-06\n",
      "Epoch 18/1000\n",
      "187/187 [==============================] - 5s 28ms/step - loss: 0.1125 - categorical_accuracy: 0.9877 - val_loss: 0.1097 - val_categorical_accuracy: 0.9880 - lr: 8.0000e-06\n",
      "Epoch 19/1000\n",
      "187/187 [==============================] - 5s 28ms/step - loss: 0.1124 - categorical_accuracy: 0.9877 - val_loss: 0.1103 - val_categorical_accuracy: 0.9876 - lr: 8.0000e-06\n",
      "Epoch 20/1000\n",
      "187/187 [==============================] - 6s 30ms/step - loss: 0.1124 - categorical_accuracy: 0.9877 - val_loss: 0.1097 - val_categorical_accuracy: 0.9880 - lr: 8.0000e-06\n",
      "Epoch 21/1000\n",
      "187/187 [==============================] - 5s 29ms/step - loss: 0.1121 - categorical_accuracy: 0.9878 - val_loss: 0.1097 - val_categorical_accuracy: 0.9878 - lr: 1.6000e-06\n",
      "Epoch 22/1000\n",
      "187/187 [==============================] - 5s 27ms/step - loss: 0.1122 - categorical_accuracy: 0.9878 - val_loss: 0.1099 - val_categorical_accuracy: 0.9878 - lr: 1.6000e-06\n",
      "Epoch 23/1000\n",
      "187/187 [==============================] - 5s 26ms/step - loss: 0.1125 - categorical_accuracy: 0.9877 - val_loss: 0.1097 - val_categorical_accuracy: 0.9878 - lr: 1.6000e-06\n",
      "Epoch 24/1000\n",
      "187/187 [==============================] - 5s 28ms/step - loss: 0.1118 - categorical_accuracy: 0.9878 - val_loss: 0.1098 - val_categorical_accuracy: 0.9880 - lr: 3.2000e-07\n",
      "Epoch 25/1000\n",
      "187/187 [==============================] - 5s 28ms/step - loss: 0.1128 - categorical_accuracy: 0.9876 - val_loss: 0.1098 - val_categorical_accuracy: 0.9878 - lr: 3.2000e-07\n",
      "Epoch 26/1000\n",
      "187/187 [==============================] - 5s 27ms/step - loss: 0.1125 - categorical_accuracy: 0.9876 - val_loss: 0.1087 - val_categorical_accuracy: 0.9883 - lr: 3.2000e-07\n",
      "Epoch 27/1000\n",
      "187/187 [==============================] - ETA: 0s - loss: 0.1123 - categorical_accuracy: 0.9877Restoring model weights from the end of the best epoch: 17.\n",
      "187/187 [==============================] - 7s 37ms/step - loss: 0.1123 - categorical_accuracy: 0.9877 - val_loss: 0.1101 - val_categorical_accuracy: 0.9878 - lr: 6.4000e-08\n",
      "Epoch 27: early stopping\n"
     ]
    },
    {
     "output_type": "stream",
     "name": "stderr",
     "text": [
      "100%|██████████| 835/835 [00:05<00:00, 143.63it/s]\n",
      "100%|██████████| 835/835 [00:08<00:00, 103.14it/s]\n"
     ]
    },
    {
     "output_type": "stream",
     "name": "stdout",
     "text": [
      "The average imputation accuracyon test data with 0.05 missing genotypes is 0.9533: \n",
      "Sensitivity: 0.3819668763502929\n",
      "Specificity: 0.7994781905381687\n",
      "F1-score macro: 0.4149961861143865\n",
      "F1-score micro: 0.9532934131736527\n"
     ]
    },
    {
     "output_type": "stream",
     "name": "stderr",
     "text": [
      "100%|██████████| 835/835 [00:03<00:00, 258.60it/s]\n",
      "100%|██████████| 835/835 [00:03<00:00, 229.82it/s]\n"
     ]
    },
    {
     "output_type": "stream",
     "name": "stdout",
     "text": [
      "The average imputation accuracyon test data with 0.1 missing genotypes is 0.9635: \n",
      "Sensitivity: 0.36996869207196337\n",
      "Specificity: 0.7980550360555335\n",
      "F1-score macro: 0.41661644347397786\n",
      "F1-score micro: 0.9635255804181111\n"
     ]
    },
    {
     "output_type": "stream",
     "name": "stderr",
     "text": [
      "100%|██████████| 835/835 [00:04<00:00, 185.88it/s]\n",
      "100%|██████████| 835/835 [00:04<00:00, 193.49it/s]\n"
     ]
    },
    {
     "output_type": "stream",
     "name": "stdout",
     "text": [
      "The average imputation accuracyon test data with 0.2 missing genotypes is 0.9613: \n",
      "Sensitivity: 0.3826106786964111\n",
      "Specificity: 0.8087678406991397\n",
      "F1-score macro: 0.4328703392496326\n",
      "F1-score micro: 0.9613089610253178\n",
      "=====================================\n",
      "Training using fold 2\n",
      "Epoch 1/1000\n",
      "187/187 [==============================] - 16s 31ms/step - loss: 0.5308 - categorical_accuracy: 0.8361 - val_loss: 11.8005 - val_categorical_accuracy: 0.0379 - lr: 0.0010\n",
      "Epoch 2/1000\n",
      "187/187 [==============================] - 7s 40ms/step - loss: 0.1770 - categorical_accuracy: 0.9776 - val_loss: 28.9132 - val_categorical_accuracy: 0.0250 - lr: 0.0010\n",
      "Epoch 3/1000\n",
      "187/187 [==============================] - 9s 48ms/step - loss: 0.1463 - categorical_accuracy: 0.9840 - val_loss: 12.9599 - val_categorical_accuracy: 0.1071 - lr: 0.0010\n",
      "Epoch 4/1000\n",
      "187/187 [==============================] - 8s 43ms/step - loss: 0.1367 - categorical_accuracy: 0.9857 - val_loss: 0.4495 - val_categorical_accuracy: 0.8236 - lr: 0.0010\n",
      "Epoch 5/1000\n",
      "187/187 [==============================] - 6s 31ms/step - loss: 0.1310 - categorical_accuracy: 0.9863 - val_loss: 0.1647 - val_categorical_accuracy: 0.9760 - lr: 0.0010\n",
      "Epoch 6/1000\n",
      "187/187 [==============================] - 5s 27ms/step - loss: 0.1272 - categorical_accuracy: 0.9866 - val_loss: 0.1864 - val_categorical_accuracy: 0.9617 - lr: 0.0010\n",
      "Epoch 7/1000\n",
      "187/187 [==============================] - 6s 32ms/step - loss: 0.1230 - categorical_accuracy: 0.9870 - val_loss: 0.1272 - val_categorical_accuracy: 0.9854 - lr: 0.0010\n",
      "Epoch 8/1000\n",
      "187/187 [==============================] - 5s 28ms/step - loss: 0.1201 - categorical_accuracy: 0.9871 - val_loss: 0.1324 - val_categorical_accuracy: 0.9839 - lr: 0.0010\n",
      "Epoch 9/1000\n",
      "187/187 [==============================] - 5s 28ms/step - loss: 0.1171 - categorical_accuracy: 0.9872 - val_loss: 0.1138 - val_categorical_accuracy: 0.9879 - lr: 0.0010\n",
      "Epoch 10/1000\n",
      "187/187 [==============================] - 6s 30ms/step - loss: 0.1143 - categorical_accuracy: 0.9873 - val_loss: 0.1132 - val_categorical_accuracy: 0.9872 - lr: 0.0010\n",
      "Epoch 11/1000\n",
      "187/187 [==============================] - 5s 29ms/step - loss: 0.1118 - categorical_accuracy: 0.9875 - val_loss: 0.1066 - val_categorical_accuracy: 0.9886 - lr: 0.0010\n",
      "Epoch 12/1000\n",
      "187/187 [==============================] - 6s 30ms/step - loss: 0.1094 - categorical_accuracy: 0.9875 - val_loss: 0.1044 - val_categorical_accuracy: 0.9880 - lr: 0.0010\n",
      "Epoch 13/1000\n",
      "187/187 [==============================] - 5s 29ms/step - loss: 0.1070 - categorical_accuracy: 0.9876 - val_loss: 0.1016 - val_categorical_accuracy: 0.9882 - lr: 0.0010\n",
      "Epoch 14/1000\n",
      "187/187 [==============================] - 5s 29ms/step - loss: 0.1046 - categorical_accuracy: 0.9876 - val_loss: 0.1003 - val_categorical_accuracy: 0.9880 - lr: 0.0010\n",
      "Epoch 15/1000\n",
      "187/187 [==============================] - 6s 31ms/step - loss: 0.1024 - categorical_accuracy: 0.9879 - val_loss: 0.0981 - val_categorical_accuracy: 0.9887 - lr: 2.0000e-04\n",
      "Epoch 16/1000\n",
      "187/187 [==============================] - 6s 32ms/step - loss: 0.1017 - categorical_accuracy: 0.9879 - val_loss: 0.0969 - val_categorical_accuracy: 0.9888 - lr: 2.0000e-04\n",
      "Epoch 17/1000\n",
      "187/187 [==============================] - 5s 28ms/step - loss: 0.1014 - categorical_accuracy: 0.9878 - val_loss: 0.0976 - val_categorical_accuracy: 0.9884 - lr: 2.0000e-04\n",
      "Epoch 18/1000\n",
      "187/187 [==============================] - 5s 26ms/step - loss: 0.1004 - categorical_accuracy: 0.9880 - val_loss: 0.0959 - val_categorical_accuracy: 0.9887 - lr: 2.0000e-04\n",
      "Epoch 19/1000\n",
      "187/187 [==============================] - 9s 46ms/step - loss: 0.1003 - categorical_accuracy: 0.9880 - val_loss: 0.0959 - val_categorical_accuracy: 0.9885 - lr: 4.0000e-05\n",
      "Epoch 20/1000\n",
      "187/187 [==============================] - 5s 27ms/step - loss: 0.1000 - categorical_accuracy: 0.9880 - val_loss: 0.0963 - val_categorical_accuracy: 0.9885 - lr: 4.0000e-05\n",
      "Epoch 21/1000\n",
      "187/187 [==============================] - 5s 28ms/step - loss: 0.1001 - categorical_accuracy: 0.9879 - val_loss: 0.0959 - val_categorical_accuracy: 0.9885 - lr: 4.0000e-05\n",
      "Epoch 22/1000\n",
      "187/187 [==============================] - 6s 30ms/step - loss: 0.0998 - categorical_accuracy: 0.9880 - val_loss: 0.0964 - val_categorical_accuracy: 0.9886 - lr: 8.0000e-06\n",
      "Epoch 23/1000\n",
      "187/187 [==============================] - 5s 29ms/step - loss: 0.0999 - categorical_accuracy: 0.9880 - val_loss: 0.0953 - val_categorical_accuracy: 0.9889 - lr: 8.0000e-06\n",
      "Epoch 24/1000\n",
      "187/187 [==============================] - 5s 29ms/step - loss: 0.0999 - categorical_accuracy: 0.9880 - val_loss: 0.0957 - val_categorical_accuracy: 0.9886 - lr: 8.0000e-06\n",
      "Epoch 25/1000\n",
      "187/187 [==============================] - 5s 28ms/step - loss: 0.0998 - categorical_accuracy: 0.9881 - val_loss: 0.0958 - val_categorical_accuracy: 0.9887 - lr: 8.0000e-06\n",
      "Epoch 26/1000\n",
      "187/187 [==============================] - 5s 28ms/step - loss: 0.1001 - categorical_accuracy: 0.9880 - val_loss: 0.0954 - val_categorical_accuracy: 0.9888 - lr: 8.0000e-06\n",
      "Epoch 27/1000\n",
      "187/187 [==============================] - 6s 31ms/step - loss: 0.0997 - categorical_accuracy: 0.9880 - val_loss: 0.0956 - val_categorical_accuracy: 0.9888 - lr: 1.6000e-06\n",
      "Epoch 28/1000\n",
      "187/187 [==============================] - 7s 37ms/step - loss: 0.0996 - categorical_accuracy: 0.9880 - val_loss: 0.0959 - val_categorical_accuracy: 0.9885 - lr: 1.6000e-06\n",
      "Epoch 29/1000\n",
      "187/187 [==============================] - 5s 26ms/step - loss: 0.0997 - categorical_accuracy: 0.9880 - val_loss: 0.0950 - val_categorical_accuracy: 0.9889 - lr: 1.6000e-06\n",
      "Epoch 30/1000\n",
      "187/187 [==============================] - 5s 28ms/step - loss: 0.1001 - categorical_accuracy: 0.9878 - val_loss: 0.0962 - val_categorical_accuracy: 0.9887 - lr: 3.2000e-07\n",
      "Epoch 31/1000\n",
      "187/187 [==============================] - 5s 29ms/step - loss: 0.0999 - categorical_accuracy: 0.9879 - val_loss: 0.0956 - val_categorical_accuracy: 0.9887 - lr: 3.2000e-07\n",
      "Epoch 32/1000\n",
      "187/187 [==============================] - 6s 33ms/step - loss: 0.1000 - categorical_accuracy: 0.9879 - val_loss: 0.0952 - val_categorical_accuracy: 0.9889 - lr: 3.2000e-07\n",
      "Epoch 33/1000\n",
      "187/187 [==============================] - 6s 30ms/step - loss: 0.0998 - categorical_accuracy: 0.9879 - val_loss: 0.0957 - val_categorical_accuracy: 0.9886 - lr: 6.4000e-08\n",
      "Epoch 34/1000\n",
      "187/187 [==============================] - 5s 28ms/step - loss: 0.0998 - categorical_accuracy: 0.9879 - val_loss: 0.0953 - val_categorical_accuracy: 0.9888 - lr: 6.4000e-08\n",
      "Epoch 35/1000\n",
      "187/187 [==============================] - 5s 29ms/step - loss: 0.0998 - categorical_accuracy: 0.9880 - val_loss: 0.0951 - val_categorical_accuracy: 0.9890 - lr: 6.4000e-08\n",
      "Epoch 36/1000\n",
      "187/187 [==============================] - 7s 39ms/step - loss: 0.0998 - categorical_accuracy: 0.9879 - val_loss: 0.0964 - val_categorical_accuracy: 0.9883 - lr: 1.2800e-08\n",
      "Epoch 37/1000\n",
      "187/187 [==============================] - 7s 37ms/step - loss: 0.0998 - categorical_accuracy: 0.9880 - val_loss: 0.0962 - val_categorical_accuracy: 0.9886 - lr: 1.2800e-08\n",
      "Epoch 38/1000\n",
      "187/187 [==============================] - 5s 28ms/step - loss: 0.1002 - categorical_accuracy: 0.9879 - val_loss: 0.0945 - val_categorical_accuracy: 0.9893 - lr: 1.2800e-08\n",
      "Epoch 39/1000\n",
      "187/187 [==============================] - 5s 29ms/step - loss: 0.0999 - categorical_accuracy: 0.9879 - val_loss: 0.0954 - val_categorical_accuracy: 0.9888 - lr: 1.2800e-08\n",
      "Epoch 40/1000\n",
      "187/187 [==============================] - 5s 28ms/step - loss: 0.0995 - categorical_accuracy: 0.9880 - val_loss: 0.0960 - val_categorical_accuracy: 0.9885 - lr: 1.2800e-08\n",
      "Epoch 41/1000\n",
      "187/187 [==============================] - 5s 27ms/step - loss: 0.0996 - categorical_accuracy: 0.9880 - val_loss: 0.0958 - val_categorical_accuracy: 0.9887 - lr: 1.2800e-08\n",
      "Epoch 42/1000\n",
      "187/187 [==============================] - 5s 29ms/step - loss: 0.0999 - categorical_accuracy: 0.9880 - val_loss: 0.0957 - val_categorical_accuracy: 0.9887 - lr: 2.5600e-09\n",
      "Epoch 43/1000\n",
      "187/187 [==============================] - 6s 30ms/step - loss: 0.0998 - categorical_accuracy: 0.9880 - val_loss: 0.0956 - val_categorical_accuracy: 0.9886 - lr: 2.5600e-09\n",
      "Epoch 44/1000\n",
      "187/187 [==============================] - 5s 27ms/step - loss: 0.0995 - categorical_accuracy: 0.9880 - val_loss: 0.0954 - val_categorical_accuracy: 0.9887 - lr: 2.5600e-09\n",
      "Epoch 45/1000\n",
      "187/187 [==============================] - 6s 34ms/step - loss: 0.0999 - categorical_accuracy: 0.9880 - val_loss: 0.0957 - val_categorical_accuracy: 0.9887 - lr: 5.1200e-10\n",
      "Epoch 46/1000\n",
      "187/187 [==============================] - 5s 28ms/step - loss: 0.0999 - categorical_accuracy: 0.9880 - val_loss: 0.0955 - val_categorical_accuracy: 0.9889 - lr: 5.1200e-10\n",
      "Epoch 47/1000\n",
      "187/187 [==============================] - 5s 27ms/step - loss: 0.0999 - categorical_accuracy: 0.9880 - val_loss: 0.0961 - val_categorical_accuracy: 0.9884 - lr: 5.1200e-10\n",
      "Epoch 48/1000\n",
      "187/187 [==============================] - ETA: 0s - loss: 0.0997 - categorical_accuracy: 0.9880Restoring model weights from the end of the best epoch: 38.\n",
      "187/187 [==============================] - 7s 36ms/step - loss: 0.0997 - categorical_accuracy: 0.9880 - val_loss: 0.0951 - val_categorical_accuracy: 0.9889 - lr: 1.0240e-10\n",
      "Epoch 48: early stopping\n"
     ]
    },
    {
     "output_type": "stream",
     "name": "stderr",
     "text": [
      "100%|██████████| 835/835 [00:04<00:00, 191.63it/s]\n",
      "100%|██████████| 835/835 [00:03<00:00, 272.05it/s]\n"
     ]
    },
    {
     "output_type": "stream",
     "name": "stdout",
     "text": [
      "The average imputation accuracyon test data with 0.05 missing genotypes is 0.9672: \n",
      "Sensitivity: 0.3716005839529957\n",
      "Specificity: 0.7938948953133345\n",
      "F1-score macro: 0.42599338069892567\n",
      "F1-score micro: 0.9672369546621044\n"
     ]
    },
    {
     "output_type": "stream",
     "name": "stderr",
     "text": [
      "100%|██████████| 835/835 [00:03<00:00, 209.28it/s]\n",
      "100%|██████████| 835/835 [00:04<00:00, 186.69it/s]\n"
     ]
    },
    {
     "output_type": "stream",
     "name": "stdout",
     "text": [
      "The average imputation accuracyon test data with 0.1 missing genotypes is 0.9691: \n",
      "Sensitivity: 0.37399045378655926\n",
      "Specificity: 0.7943914303307101\n",
      "F1-score macro: 0.42833738673118427\n",
      "F1-score micro: 0.9691354133837587\n"
     ]
    },
    {
     "output_type": "stream",
     "name": "stderr",
     "text": [
      "100%|██████████| 835/835 [00:03<00:00, 258.76it/s]\n",
      "100%|██████████| 835/835 [00:03<00:00, 254.74it/s]\n"
     ]
    },
    {
     "output_type": "stream",
     "name": "stdout",
     "text": [
      "The average imputation accuracyon test data with 0.2 missing genotypes is 0.9638: \n",
      "Sensitivity: 0.3923943774494263\n",
      "Specificity: 0.8109154704136541\n",
      "F1-score macro: 0.4423492606867407\n",
      "F1-score micro: 0.9638092236579473\n",
      "=====================================\n",
      "Training using fold 3\n",
      "Epoch 1/1000\n",
      "187/187 [==============================] - 17s 41ms/step - loss: 0.5791 - categorical_accuracy: 0.8088 - val_loss: 8.3242 - val_categorical_accuracy: 0.0642 - lr: 0.0010\n",
      "Epoch 2/1000\n",
      "187/187 [==============================] - 5s 27ms/step - loss: 0.1911 - categorical_accuracy: 0.9764 - val_loss: 30.4213 - val_categorical_accuracy: 0.0322 - lr: 0.0010\n",
      "Epoch 3/1000\n",
      "187/187 [==============================] - 5s 28ms/step - loss: 0.1468 - categorical_accuracy: 0.9837 - val_loss: 16.5136 - val_categorical_accuracy: 0.0837 - lr: 0.0010\n",
      "Epoch 4/1000\n",
      "187/187 [==============================] - 6s 30ms/step - loss: 0.1353 - categorical_accuracy: 0.9859 - val_loss: 0.9980 - val_categorical_accuracy: 0.5915 - lr: 0.0010\n",
      "Epoch 5/1000\n",
      "187/187 [==============================] - 5s 29ms/step - loss: 0.1299 - categorical_accuracy: 0.9864 - val_loss: 0.3449 - val_categorical_accuracy: 0.8823 - lr: 0.0010\n",
      "Epoch 6/1000\n",
      "187/187 [==============================] - 5s 28ms/step - loss: 0.1258 - categorical_accuracy: 0.9868 - val_loss: 0.1467 - val_categorical_accuracy: 0.9811 - lr: 0.0010\n",
      "Epoch 7/1000\n",
      "187/187 [==============================] - 6s 31ms/step - loss: 0.1219 - categorical_accuracy: 0.9870 - val_loss: 0.1255 - val_categorical_accuracy: 0.9859 - lr: 0.0010\n",
      "Epoch 8/1000\n",
      "187/187 [==============================] - 5s 28ms/step - loss: 0.1186 - categorical_accuracy: 0.9872 - val_loss: 0.1186 - val_categorical_accuracy: 0.9869 - lr: 0.0010\n",
      "Epoch 9/1000\n",
      "187/187 [==============================] - 5s 27ms/step - loss: 0.1160 - categorical_accuracy: 0.9872 - val_loss: 0.1190 - val_categorical_accuracy: 0.9862 - lr: 0.0010\n",
      "Epoch 10/1000\n",
      "187/187 [==============================] - 6s 31ms/step - loss: 0.1133 - categorical_accuracy: 0.9875 - val_loss: 0.1134 - val_categorical_accuracy: 0.9871 - lr: 0.0010\n",
      "Epoch 11/1000\n",
      "187/187 [==============================] - 5s 28ms/step - loss: 0.1109 - categorical_accuracy: 0.9874 - val_loss: 0.1099 - val_categorical_accuracy: 0.9872 - lr: 0.0010\n",
      "Epoch 12/1000\n",
      "187/187 [==============================] - 5s 28ms/step - loss: 0.1080 - categorical_accuracy: 0.9875 - val_loss: 0.1062 - val_categorical_accuracy: 0.9876 - lr: 0.0010\n",
      "Epoch 13/1000\n",
      "187/187 [==============================] - 6s 31ms/step - loss: 0.1054 - categorical_accuracy: 0.9877 - val_loss: 0.1023 - val_categorical_accuracy: 0.9880 - lr: 0.0010\n",
      "Epoch 14/1000\n",
      "187/187 [==============================] - 6s 32ms/step - loss: 0.1032 - categorical_accuracy: 0.9878 - val_loss: 0.1015 - val_categorical_accuracy: 0.9879 - lr: 0.0010\n",
      "Epoch 15/1000\n",
      "187/187 [==============================] - 6s 31ms/step - loss: 0.1011 - categorical_accuracy: 0.9878 - val_loss: 0.0985 - val_categorical_accuracy: 0.9880 - lr: 0.0010\n",
      "Epoch 16/1000\n",
      "187/187 [==============================] - 6s 31ms/step - loss: 0.0990 - categorical_accuracy: 0.9878 - val_loss: 0.0961 - val_categorical_accuracy: 0.9884 - lr: 0.0010\n",
      "Epoch 17/1000\n",
      "187/187 [==============================] - 5s 27ms/step - loss: 0.0972 - categorical_accuracy: 0.9878 - val_loss: 0.0955 - val_categorical_accuracy: 0.9877 - lr: 0.0010\n",
      "Epoch 18/1000\n",
      "187/187 [==============================] - 6s 30ms/step - loss: 0.0955 - categorical_accuracy: 0.9878 - val_loss: 0.0922 - val_categorical_accuracy: 0.9883 - lr: 0.0010\n",
      "Epoch 19/1000\n",
      "187/187 [==============================] - 5s 27ms/step - loss: 0.0934 - categorical_accuracy: 0.9879 - val_loss: 0.0908 - val_categorical_accuracy: 0.9881 - lr: 0.0010\n",
      "Epoch 20/1000\n",
      "187/187 [==============================] - 5s 27ms/step - loss: 0.0917 - categorical_accuracy: 0.9881 - val_loss: 0.0900 - val_categorical_accuracy: 0.9883 - lr: 2.0000e-04\n",
      "Epoch 21/1000\n",
      "187/187 [==============================] - 5s 29ms/step - loss: 0.0911 - categorical_accuracy: 0.9881 - val_loss: 0.0896 - val_categorical_accuracy: 0.9883 - lr: 2.0000e-04\n",
      "Epoch 22/1000\n",
      "187/187 [==============================] - 6s 31ms/step - loss: 0.0908 - categorical_accuracy: 0.9881 - val_loss: 0.0877 - val_categorical_accuracy: 0.9890 - lr: 2.0000e-04\n",
      "Epoch 23/1000\n",
      "187/187 [==============================] - 5s 27ms/step - loss: 0.0900 - categorical_accuracy: 0.9881 - val_loss: 0.0889 - val_categorical_accuracy: 0.9881 - lr: 2.0000e-04\n",
      "Epoch 24/1000\n",
      "187/187 [==============================] - 5s 28ms/step - loss: 0.0899 - categorical_accuracy: 0.9881 - val_loss: 0.0876 - val_categorical_accuracy: 0.9885 - lr: 2.0000e-04\n",
      "Epoch 25/1000\n",
      "187/187 [==============================] - 5s 29ms/step - loss: 0.0897 - categorical_accuracy: 0.9880 - val_loss: 0.0879 - val_categorical_accuracy: 0.9883 - lr: 2.0000e-04\n",
      "Epoch 26/1000\n",
      "187/187 [==============================] - 5s 28ms/step - loss: 0.0891 - categorical_accuracy: 0.9881 - val_loss: 0.0869 - val_categorical_accuracy: 0.9887 - lr: 4.0000e-05\n",
      "Epoch 27/1000\n",
      "187/187 [==============================] - 6s 34ms/step - loss: 0.0893 - categorical_accuracy: 0.9880 - val_loss: 0.0866 - val_categorical_accuracy: 0.9887 - lr: 4.0000e-05\n",
      "Epoch 28/1000\n",
      "187/187 [==============================] - 5s 27ms/step - loss: 0.0891 - categorical_accuracy: 0.9881 - val_loss: 0.0869 - val_categorical_accuracy: 0.9884 - lr: 4.0000e-05\n",
      "Epoch 29/1000\n",
      "187/187 [==============================] - 5s 27ms/step - loss: 0.0887 - categorical_accuracy: 0.9881 - val_loss: 0.0866 - val_categorical_accuracy: 0.9886 - lr: 8.0000e-06\n",
      "Epoch 30/1000\n",
      "187/187 [==============================] - 5s 29ms/step - loss: 0.0887 - categorical_accuracy: 0.9881 - val_loss: 0.0865 - val_categorical_accuracy: 0.9888 - lr: 8.0000e-06\n",
      "Epoch 31/1000\n",
      "187/187 [==============================] - 5s 28ms/step - loss: 0.0885 - categorical_accuracy: 0.9881 - val_loss: 0.0869 - val_categorical_accuracy: 0.9885 - lr: 8.0000e-06\n",
      "Epoch 32/1000\n",
      "187/187 [==============================] - ETA: 0s - loss: 0.0886 - categorical_accuracy: 0.9882Restoring model weights from the end of the best epoch: 22.\n",
      "187/187 [==============================] - 6s 32ms/step - loss: 0.0886 - categorical_accuracy: 0.9882 - val_loss: 0.0865 - val_categorical_accuracy: 0.9886 - lr: 1.6000e-06\n",
      "Epoch 32: early stopping\n"
     ]
    },
    {
     "output_type": "stream",
     "name": "stderr",
     "text": [
      "100%|██████████| 834/834 [00:04<00:00, 176.65it/s]\n",
      "100%|██████████| 834/834 [00:03<00:00, 257.69it/s]\n"
     ]
    },
    {
     "output_type": "stream",
     "name": "stdout",
     "text": [
      "The average imputation accuracyon test data with 0.05 missing genotypes is 0.9662: \n",
      "Sensitivity: 0.3952091611349453\n",
      "Specificity: 0.8036617474841192\n",
      "F1-score macro: 0.45262369269740094\n",
      "F1-score micro: 0.9662127440904419\n"
     ]
    },
    {
     "output_type": "stream",
     "name": "stderr",
     "text": [
      "100%|██████████| 834/834 [00:02<00:00, 283.12it/s]\n",
      "100%|██████████| 834/834 [00:03<00:00, 245.88it/s]\n"
     ]
    },
    {
     "output_type": "stream",
     "name": "stdout",
     "text": [
      "The average imputation accuracyon test data with 0.1 missing genotypes is 0.9681: \n",
      "Sensitivity: 0.3986546740248354\n",
      "Specificity: 0.8006344165801942\n",
      "F1-score macro: 0.4549404584836453\n",
      "F1-score micro: 0.9681307585510539\n"
     ]
    },
    {
     "output_type": "stream",
     "name": "stderr",
     "text": [
      "100%|██████████| 834/834 [00:05<00:00, 159.19it/s]\n",
      "100%|██████████| 834/834 [00:03<00:00, 268.64it/s]\n"
     ]
    },
    {
     "output_type": "stream",
     "name": "stdout",
     "text": [
      "The average imputation accuracyon test data with 0.2 missing genotypes is 0.9628: \n",
      "Sensitivity: 0.4015185352000059\n",
      "Specificity: 0.8126043482480341\n",
      "F1-score macro: 0.4514526929545036\n",
      "F1-score micro: 0.9628192183095629\n",
      "=====================================\n"
     ]
    }
   ]
  },
  {
   "cell_type": "code",
   "source": [
    "from google.colab import runtime\n",
    "runtime.unassign()"
   ],
   "metadata": {
    "id": "ifLke-oWc1Ok"
   },
   "execution_count": null,
   "outputs": []
  }
 ],
 "metadata": {
  "accelerator": "TPU",
  "colab": {
   "provenance": [
    {
     "file_id": "1lo9cmptjRRESsVlVECvlJFHbLeaygq2s",
     "timestamp": 1640128751823
    },
    {
     "file_id": "https://github.com/keras-team/keras-io/blob/master/examples/vision/ipynb/perceiver_image_classification.ipynb",
     "timestamp": 1621552889682
    }
   ],
   "toc_visible": true
  },
  "kernelspec": {
   "display_name": "Python 3",
   "language": "python",
   "name": "python3"
  },
  "language_info": {
   "codemirror_mode": {
    "name": "ipython",
    "version": 3
   },
   "file_extension": ".py",
   "mimetype": "text/x-python",
   "name": "python",
   "nbconvert_exporter": "python",
   "pygments_lexer": "ipython3",
   "version": "3.7.0"
  },
  "gpuClass": "standard"
 },
 "nbformat": 4,
 "nbformat_minor": 0
}
