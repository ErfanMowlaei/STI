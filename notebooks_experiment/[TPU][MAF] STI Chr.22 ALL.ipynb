{
 "cells": [
  {
   "cell_type": "code",
   "execution_count": 1,
   "metadata": {
    "colab": {
     "base_uri": "https://localhost:8080/"
    },
    "executionInfo": {
     "elapsed": 14044,
     "status": "ok",
     "timestamp": 1686920461617,
     "user": {
      "displayName": "net crowmaster",
      "userId": "14126946344391667924"
     },
     "user_tz": 240
    },
    "id": "doSuiA3dyTyg",
    "outputId": "912dbdf2-fd39-4964-ed5d-68426e75fb8f"
   },
   "outputs": [
    {
     "output_type": "stream",
     "name": "stdout",
     "text": [
      "Mounted at /content/drive\n"
     ]
    }
   ],
   "source": [
    "from google.colab import drive\n",
    "drive.mount('/content/drive')"
   ]
  },
  {
   "cell_type": "code",
   "execution_count": 2,
   "metadata": {
    "colab": {
     "base_uri": "https://localhost:8080/"
    },
    "executionInfo": {
     "elapsed": 29745,
     "status": "ok",
     "timestamp": 1686920491358,
     "user": {
      "displayName": "net crowmaster",
      "userId": "14126946344391667924"
     },
     "user_tz": 240
    },
    "id": "liJJGzQp4qzO",
    "outputId": "d72c59b0-e521-4663-dce6-f701e227b7f3"
   },
   "outputs": [
    {
     "output_type": "stream",
     "name": "stdout",
     "text": [
      "Looking in indexes: https://pypi.org/simple, https://us-python.pkg.dev/colab-wheels/public/simple/\n",
      "Collecting tensorflow-addons\n",
      "  Downloading tensorflow_addons-0.20.0-cp310-cp310-manylinux_2_17_x86_64.manylinux2014_x86_64.whl (591 kB)\n",
      "\u001B[2K     \u001B[90m━━━━━━━━━━━━━━━━━━━━━━━━━━━━━━━━━━━━━━━\u001B[0m \u001B[32m591.0/591.0 kB\u001B[0m \u001B[31m5.3 MB/s\u001B[0m eta \u001B[36m0:00:00\u001B[0m\n",
      "\u001B[?25hRequirement already satisfied: packaging in /usr/local/lib/python3.10/dist-packages (from tensorflow-addons) (23.1)\n",
      "Collecting typeguard<3.0.0,>=2.7 (from tensorflow-addons)\n",
      "  Downloading typeguard-2.13.3-py3-none-any.whl (17 kB)\n",
      "Installing collected packages: typeguard, tensorflow-addons\n",
      "Successfully installed tensorflow-addons-0.20.0 typeguard-2.13.3\n",
      "Looking in indexes: https://pypi.org/simple, https://us-python.pkg.dev/colab-wheels/public/simple/\n",
      "Requirement already satisfied: toolz in /usr/local/lib/python3.10/dist-packages (0.12.0)\n",
      "Collecting scikit-allel\n",
      "  Downloading scikit_allel-1.3.6-cp310-cp310-manylinux_2_17_x86_64.manylinux2014_x86_64.whl (7.4 MB)\n",
      "\u001B[2K     \u001B[90m━━━━━━━━━━━━━━━━━━━━━━━━━━━━━━━━━━━━━━━━\u001B[0m \u001B[32m7.4/7.4 MB\u001B[0m \u001B[31m25.6 MB/s\u001B[0m eta \u001B[36m0:00:00\u001B[0m\n",
      "\u001B[?25hRequirement already satisfied: numpy in /usr/local/lib/python3.10/dist-packages (from scikit-allel) (1.24.3)\n",
      "Requirement already satisfied: dask[array] in /usr/local/lib/python3.10/dist-packages (from scikit-allel) (2022.12.1)\n",
      "Requirement already satisfied: click>=7.0 in /usr/local/lib/python3.10/dist-packages (from dask[array]->scikit-allel) (8.1.3)\n",
      "Requirement already satisfied: cloudpickle>=1.1.1 in /usr/local/lib/python3.10/dist-packages (from dask[array]->scikit-allel) (2.2.1)\n",
      "Requirement already satisfied: fsspec>=0.6.0 in /usr/local/lib/python3.10/dist-packages (from dask[array]->scikit-allel) (2023.4.0)\n",
      "Requirement already satisfied: packaging>=20.0 in /usr/local/lib/python3.10/dist-packages (from dask[array]->scikit-allel) (23.1)\n",
      "Requirement already satisfied: partd>=0.3.10 in /usr/local/lib/python3.10/dist-packages (from dask[array]->scikit-allel) (1.4.0)\n",
      "Requirement already satisfied: pyyaml>=5.3.1 in /usr/local/lib/python3.10/dist-packages (from dask[array]->scikit-allel) (6.0)\n",
      "Requirement already satisfied: locket in /usr/local/lib/python3.10/dist-packages (from partd>=0.3.10->dask[array]->scikit-allel) (1.0.0)\n",
      "Installing collected packages: scikit-allel\n",
      "Successfully installed scikit-allel-1.3.6\n"
     ]
    }
   ],
   "source": [
    "!pip install tensorflow-addons\n",
    "!pip install toolz scikit-allel"
   ]
  },
  {
   "cell_type": "code",
   "execution_count": 3,
   "metadata": {
    "colab": {
     "base_uri": "https://localhost:8080/"
    },
    "executionInfo": {
     "elapsed": 7748,
     "status": "ok",
     "timestamp": 1686920499101,
     "user": {
      "displayName": "net crowmaster",
      "userId": "14126946344391667924"
     },
     "user_tz": 240
    },
    "id": "ZWzi3Z3L5RO2",
    "outputId": "224cb684-68d1-4ce8-ff8f-341ef1a12e2e"
   },
   "outputs": [
    {
     "output_type": "stream",
     "name": "stdout",
     "text": [
      "Tensorflow version 2.12.0\n"
     ]
    }
   ],
   "source": [
    "import numpy as np\n",
    "import tensorflow as tf\n",
    "print(\"Tensorflow version \" + tf.__version__)"
   ]
  },
  {
   "cell_type": "markdown",
   "metadata": {
    "id": "RjGOO5PdFPf7"
   },
   "source": [
    "## Setup"
   ]
  },
  {
   "cell_type": "code",
   "execution_count": 4,
   "metadata": {
    "colab": {
     "base_uri": "https://localhost:8080/"
    },
    "executionInfo": {
     "elapsed": 5247,
     "status": "ok",
     "timestamp": 1686920504344,
     "user": {
      "displayName": "net crowmaster",
      "userId": "14126946344391667924"
     },
     "user_tz": 240
    },
    "id": "odmhCqSVFPf8",
    "outputId": "a01acf59-d2ae-41e6-c638-ca2476eb9eac"
   },
   "outputs": [
    {
     "output_type": "stream",
     "name": "stderr",
     "text": [
      "/usr/local/lib/python3.10/dist-packages/tensorflow_addons/utils/tfa_eol_msg.py:23: UserWarning: \n",
      "\n",
      "TensorFlow Addons (TFA) has ended development and introduction of new features.\n",
      "TFA has entered a minimal maintenance and release mode until a planned end of life in May 2024.\n",
      "Please modify downstream libraries to take dependencies from other repositories in our TensorFlow community (e.g. Keras, Keras-CV, and Keras-NLP). \n",
      "\n",
      "For more information see: https://github.com/tensorflow/addons/issues/2807 \n",
      "\n",
      "  warnings.warn(\n"
     ]
    },
    {
     "output_type": "stream",
     "name": "stdout",
     "text": [
      "Tensorflow version 2.12.0\n"
     ]
    }
   ],
   "source": [
    "import os\n",
    "# os.environ[\"MODIN_CPUS\"] = \"8\"\n",
    "# from distributed import Client\n",
    "# client = Client()\n",
    "import numpy as np\n",
    "import math\n",
    "import re\n",
    "import itertools\n",
    "import random\n",
    "import pandas as pd\n",
    "from sklearn.model_selection import train_test_split\n",
    "from sklearn.utils import resample\n",
    "import tensorflow as tf\n",
    "from tensorflow import keras\n",
    "import tensorflow.keras.backend as K\n",
    "from tensorflow.keras import layers\n",
    "from tensorflow.keras import regularizers\n",
    "from tensorflow.keras.preprocessing.sequence import pad_sequences\n",
    "import tensorflow_addons as tfa\n",
    "from sklearn import metrics\n",
    "from sklearn.model_selection import KFold\n",
    "from tensorflow.keras.utils import to_categorical\n",
    "from tensorflow.keras import constraints\n",
    "from tensorflow.keras import initializers\n",
    "from tensorflow.keras import regularizers\n",
    "from tensorflow.keras.applications import efficientnet as efn\n",
    "from sklearn.metrics import confusion_matrix\n",
    "from sklearn.metrics import f1_score\n",
    "from tensorflow.keras.constraints import Constraint\n",
    "# import allel\n",
    "from scipy.spatial.distance import squareform\n",
    "%matplotlib inline\n",
    "from toolz import interleave\n",
    "from tqdm import tqdm\n",
    "import allel\n",
    "from scipy.spatial.distance import squareform\n",
    "from matplotlib import pyplot as plt\n",
    "import tensorflow_datasets as tfds\n",
    "from sklearn.metrics import mean_squared_error\n",
    "from sklearn.linear_model import LassoCV, ElasticNetCV\n",
    "from sklearn.model_selection import KFold,StratifiedKFold\n",
    "\n",
    "print(\"Tensorflow version \" + tf.__version__)"
   ]
  },
  {
   "cell_type": "markdown",
   "metadata": {
    "id": "SLd26RspFhaS"
   },
   "source": [
    "## Hardware Config"
   ]
  },
  {
   "cell_type": "code",
   "execution_count": 5,
   "metadata": {
    "colab": {
     "base_uri": "https://localhost:8080/"
    },
    "executionInfo": {
     "elapsed": 7744,
     "status": "ok",
     "timestamp": 1686920512086,
     "user": {
      "displayName": "net crowmaster",
      "userId": "14126946344391667924"
     },
     "user_tz": 240
    },
    "id": "SLd7mAFgFUnR",
    "outputId": "ce4cff3e-8aaa-4729-e39b-f0ab7f0fbd30"
   },
   "outputs": [
    {
     "output_type": "stream",
     "name": "stdout",
     "text": [
      "Running on TPU  grpc://10.57.34.74:8470\n",
      "N_REPLICAS: 8\n"
     ]
    }
   ],
   "source": [
    "# Detect hardware, return appropriate distribution strategy\n",
    "try:\n",
    "    TPU = tf.distribute.cluster_resolver.TPUClusterResolver()  # TPU detection. No parameters necessary if TPU_NAME environment variable is set. On Kaggle this is always the case.\n",
    "    print('Running on TPU ', TPU.master())\n",
    "except ValueError:\n",
    "    print('Running on GPU')\n",
    "    TPU = None\n",
    "\n",
    "if TPU:\n",
    "    tf.config.experimental_connect_to_cluster(TPU)\n",
    "    tf.tpu.experimental.initialize_tpu_system(TPU)\n",
    "    strategy = tf.distribute.TPUStrategy(TPU)\n",
    "else:\n",
    "    strategy = tf.distribute.get_strategy() # default distribution strategy in Tensorflow. Works on CPU and single GPU.\n",
    "\n",
    "N_REPLICAS = strategy.num_replicas_in_sync\n",
    "# Number of computing cores, is 8 for a TPU V3-8\n",
    "print(f'N_REPLICAS: {N_REPLICAS}')"
   ]
  },
  {
   "cell_type": "markdown",
   "metadata": {
    "id": "A77GFE3xFPf8"
   },
   "source": [
    "## Prepare the data"
   ]
  },
  {
   "cell_type": "code",
   "execution_count": 6,
   "metadata": {
    "id": "j3zy8i_8FPf_",
    "colab": {
     "base_uri": "https://localhost:8080/",
     "height": 424
    },
    "executionInfo": {
     "status": "ok",
     "timestamp": 1686920514259,
     "user_tz": 240,
     "elapsed": 2175,
     "user": {
      "displayName": "net crowmaster",
      "userId": "14126946344391667924"
     }
    },
    "outputId": "850cb7c3-77c2-4d73-d79a-b6f8735d1786"
   },
   "outputs": [
    {
     "output_type": "execute_result",
     "data": {
      "text/plain": [
       "         0    1    2    3    4    5    6    7    8    9    ...  838  839  840  \\\n",
       "HG00096  3|0  0|0  0|0  0|0  0|0  0|0  0|0  0|0  0|0  0|0  ...  0|0  0|0  0|0   \n",
       "HG00097  0|0  0|0  0|0  0|0  0|0  0|0  1|0  0|0  0|0  0|0  ...  0|0  0|0  0|0   \n",
       "HG00099  0|0  0|0  0|0  0|0  0|0  0|1  0|1  0|0  0|0  0|0  ...  0|0  0|0  0|0   \n",
       "HG00100  0|0  0|0  0|0  0|0  0|0  0|0  0|1  0|0  0|0  0|0  ...  0|0  0|0  0|0   \n",
       "HG00101  0|0  0|0  0|0  0|0  0|0  0|0  0|0  0|0  0|0  0|0  ...  0|0  0|0  0|0   \n",
       "...      ...  ...  ...  ...  ...  ...  ...  ...  ...  ...  ...  ...  ...  ...   \n",
       "NA21137  3|0  0|0  0|0  0|0  0|0  0|0  0|1  0|0  0|0  0|0  ...  0|0  0|0  0|0   \n",
       "NA21141  3|0  0|0  0|0  0|0  0|0  0|0  1|0  0|0  0|0  0|0  ...  0|0  0|0  0|0   \n",
       "NA21142  0|0  0|0  0|0  0|0  0|0  0|0  0|1  0|0  0|0  0|0  ...  0|0  0|0  0|0   \n",
       "NA21143  0|0  0|0  0|0  0|0  0|0  0|0  1|0  0|0  0|0  0|0  ...  0|0  0|0  0|0   \n",
       "NA21144  0|0  0|0  0|0  0|0  0|0  0|0  0|1  0|0  0|0  0|0  ...  0|0  0|0  0|0   \n",
       "\n",
       "         841  842  843  844  845  846  847  \n",
       "HG00096  0|0  0|0  0|0  0|0  0|0  0|0  0|0  \n",
       "HG00097  0|0  0|0  0|0  0|0  0|0  0|0  0|0  \n",
       "HG00099  0|0  0|0  0|0  0|0  0|0  0|0  0|0  \n",
       "HG00100  0|0  0|0  0|0  0|0  0|0  0|0  0|0  \n",
       "HG00101  0|0  0|0  0|0  0|0  0|0  0|0  0|0  \n",
       "...      ...  ...  ...  ...  ...  ...  ...  \n",
       "NA21137  0|0  0|0  0|0  0|0  0|0  0|0  0|0  \n",
       "NA21141  0|0  0|0  0|0  0|0  0|0  0|0  0|0  \n",
       "NA21142  0|0  0|0  0|0  0|0  0|0  0|0  0|0  \n",
       "NA21143  0|0  0|0  0|0  0|0  0|0  0|0  0|0  \n",
       "NA21144  0|0  0|0  0|0  0|0  0|0  0|0  0|0  \n",
       "\n",
       "[2504 rows x 848 columns]"
      ],
      "text/html": [
       "\n",
       "  <div id=\"df-bd616838-45b4-4aa9-9f50-0c3b4708f4b7\">\n",
       "    <div class=\"colab-df-container\">\n",
       "      <div>\n",
       "<style scoped>\n",
       "    .dataframe tbody tr th:only-of-type {\n",
       "        vertical-align: middle;\n",
       "    }\n",
       "\n",
       "    .dataframe tbody tr th {\n",
       "        vertical-align: top;\n",
       "    }\n",
       "\n",
       "    .dataframe thead th {\n",
       "        text-align: right;\n",
       "    }\n",
       "</style>\n",
       "<table border=\"1\" class=\"dataframe\">\n",
       "  <thead>\n",
       "    <tr style=\"text-align: right;\">\n",
       "      <th></th>\n",
       "      <th>0</th>\n",
       "      <th>1</th>\n",
       "      <th>2</th>\n",
       "      <th>3</th>\n",
       "      <th>4</th>\n",
       "      <th>5</th>\n",
       "      <th>6</th>\n",
       "      <th>7</th>\n",
       "      <th>8</th>\n",
       "      <th>9</th>\n",
       "      <th>...</th>\n",
       "      <th>838</th>\n",
       "      <th>839</th>\n",
       "      <th>840</th>\n",
       "      <th>841</th>\n",
       "      <th>842</th>\n",
       "      <th>843</th>\n",
       "      <th>844</th>\n",
       "      <th>845</th>\n",
       "      <th>846</th>\n",
       "      <th>847</th>\n",
       "    </tr>\n",
       "  </thead>\n",
       "  <tbody>\n",
       "    <tr>\n",
       "      <th>HG00096</th>\n",
       "      <td>3|0</td>\n",
       "      <td>0|0</td>\n",
       "      <td>0|0</td>\n",
       "      <td>0|0</td>\n",
       "      <td>0|0</td>\n",
       "      <td>0|0</td>\n",
       "      <td>0|0</td>\n",
       "      <td>0|0</td>\n",
       "      <td>0|0</td>\n",
       "      <td>0|0</td>\n",
       "      <td>...</td>\n",
       "      <td>0|0</td>\n",
       "      <td>0|0</td>\n",
       "      <td>0|0</td>\n",
       "      <td>0|0</td>\n",
       "      <td>0|0</td>\n",
       "      <td>0|0</td>\n",
       "      <td>0|0</td>\n",
       "      <td>0|0</td>\n",
       "      <td>0|0</td>\n",
       "      <td>0|0</td>\n",
       "    </tr>\n",
       "    <tr>\n",
       "      <th>HG00097</th>\n",
       "      <td>0|0</td>\n",
       "      <td>0|0</td>\n",
       "      <td>0|0</td>\n",
       "      <td>0|0</td>\n",
       "      <td>0|0</td>\n",
       "      <td>0|0</td>\n",
       "      <td>1|0</td>\n",
       "      <td>0|0</td>\n",
       "      <td>0|0</td>\n",
       "      <td>0|0</td>\n",
       "      <td>...</td>\n",
       "      <td>0|0</td>\n",
       "      <td>0|0</td>\n",
       "      <td>0|0</td>\n",
       "      <td>0|0</td>\n",
       "      <td>0|0</td>\n",
       "      <td>0|0</td>\n",
       "      <td>0|0</td>\n",
       "      <td>0|0</td>\n",
       "      <td>0|0</td>\n",
       "      <td>0|0</td>\n",
       "    </tr>\n",
       "    <tr>\n",
       "      <th>HG00099</th>\n",
       "      <td>0|0</td>\n",
       "      <td>0|0</td>\n",
       "      <td>0|0</td>\n",
       "      <td>0|0</td>\n",
       "      <td>0|0</td>\n",
       "      <td>0|1</td>\n",
       "      <td>0|1</td>\n",
       "      <td>0|0</td>\n",
       "      <td>0|0</td>\n",
       "      <td>0|0</td>\n",
       "      <td>...</td>\n",
       "      <td>0|0</td>\n",
       "      <td>0|0</td>\n",
       "      <td>0|0</td>\n",
       "      <td>0|0</td>\n",
       "      <td>0|0</td>\n",
       "      <td>0|0</td>\n",
       "      <td>0|0</td>\n",
       "      <td>0|0</td>\n",
       "      <td>0|0</td>\n",
       "      <td>0|0</td>\n",
       "    </tr>\n",
       "    <tr>\n",
       "      <th>HG00100</th>\n",
       "      <td>0|0</td>\n",
       "      <td>0|0</td>\n",
       "      <td>0|0</td>\n",
       "      <td>0|0</td>\n",
       "      <td>0|0</td>\n",
       "      <td>0|0</td>\n",
       "      <td>0|1</td>\n",
       "      <td>0|0</td>\n",
       "      <td>0|0</td>\n",
       "      <td>0|0</td>\n",
       "      <td>...</td>\n",
       "      <td>0|0</td>\n",
       "      <td>0|0</td>\n",
       "      <td>0|0</td>\n",
       "      <td>0|0</td>\n",
       "      <td>0|0</td>\n",
       "      <td>0|0</td>\n",
       "      <td>0|0</td>\n",
       "      <td>0|0</td>\n",
       "      <td>0|0</td>\n",
       "      <td>0|0</td>\n",
       "    </tr>\n",
       "    <tr>\n",
       "      <th>HG00101</th>\n",
       "      <td>0|0</td>\n",
       "      <td>0|0</td>\n",
       "      <td>0|0</td>\n",
       "      <td>0|0</td>\n",
       "      <td>0|0</td>\n",
       "      <td>0|0</td>\n",
       "      <td>0|0</td>\n",
       "      <td>0|0</td>\n",
       "      <td>0|0</td>\n",
       "      <td>0|0</td>\n",
       "      <td>...</td>\n",
       "      <td>0|0</td>\n",
       "      <td>0|0</td>\n",
       "      <td>0|0</td>\n",
       "      <td>0|0</td>\n",
       "      <td>0|0</td>\n",
       "      <td>0|0</td>\n",
       "      <td>0|0</td>\n",
       "      <td>0|0</td>\n",
       "      <td>0|0</td>\n",
       "      <td>0|0</td>\n",
       "    </tr>\n",
       "    <tr>\n",
       "      <th>...</th>\n",
       "      <td>...</td>\n",
       "      <td>...</td>\n",
       "      <td>...</td>\n",
       "      <td>...</td>\n",
       "      <td>...</td>\n",
       "      <td>...</td>\n",
       "      <td>...</td>\n",
       "      <td>...</td>\n",
       "      <td>...</td>\n",
       "      <td>...</td>\n",
       "      <td>...</td>\n",
       "      <td>...</td>\n",
       "      <td>...</td>\n",
       "      <td>...</td>\n",
       "      <td>...</td>\n",
       "      <td>...</td>\n",
       "      <td>...</td>\n",
       "      <td>...</td>\n",
       "      <td>...</td>\n",
       "      <td>...</td>\n",
       "      <td>...</td>\n",
       "    </tr>\n",
       "    <tr>\n",
       "      <th>NA21137</th>\n",
       "      <td>3|0</td>\n",
       "      <td>0|0</td>\n",
       "      <td>0|0</td>\n",
       "      <td>0|0</td>\n",
       "      <td>0|0</td>\n",
       "      <td>0|0</td>\n",
       "      <td>0|1</td>\n",
       "      <td>0|0</td>\n",
       "      <td>0|0</td>\n",
       "      <td>0|0</td>\n",
       "      <td>...</td>\n",
       "      <td>0|0</td>\n",
       "      <td>0|0</td>\n",
       "      <td>0|0</td>\n",
       "      <td>0|0</td>\n",
       "      <td>0|0</td>\n",
       "      <td>0|0</td>\n",
       "      <td>0|0</td>\n",
       "      <td>0|0</td>\n",
       "      <td>0|0</td>\n",
       "      <td>0|0</td>\n",
       "    </tr>\n",
       "    <tr>\n",
       "      <th>NA21141</th>\n",
       "      <td>3|0</td>\n",
       "      <td>0|0</td>\n",
       "      <td>0|0</td>\n",
       "      <td>0|0</td>\n",
       "      <td>0|0</td>\n",
       "      <td>0|0</td>\n",
       "      <td>1|0</td>\n",
       "      <td>0|0</td>\n",
       "      <td>0|0</td>\n",
       "      <td>0|0</td>\n",
       "      <td>...</td>\n",
       "      <td>0|0</td>\n",
       "      <td>0|0</td>\n",
       "      <td>0|0</td>\n",
       "      <td>0|0</td>\n",
       "      <td>0|0</td>\n",
       "      <td>0|0</td>\n",
       "      <td>0|0</td>\n",
       "      <td>0|0</td>\n",
       "      <td>0|0</td>\n",
       "      <td>0|0</td>\n",
       "    </tr>\n",
       "    <tr>\n",
       "      <th>NA21142</th>\n",
       "      <td>0|0</td>\n",
       "      <td>0|0</td>\n",
       "      <td>0|0</td>\n",
       "      <td>0|0</td>\n",
       "      <td>0|0</td>\n",
       "      <td>0|0</td>\n",
       "      <td>0|1</td>\n",
       "      <td>0|0</td>\n",
       "      <td>0|0</td>\n",
       "      <td>0|0</td>\n",
       "      <td>...</td>\n",
       "      <td>0|0</td>\n",
       "      <td>0|0</td>\n",
       "      <td>0|0</td>\n",
       "      <td>0|0</td>\n",
       "      <td>0|0</td>\n",
       "      <td>0|0</td>\n",
       "      <td>0|0</td>\n",
       "      <td>0|0</td>\n",
       "      <td>0|0</td>\n",
       "      <td>0|0</td>\n",
       "    </tr>\n",
       "    <tr>\n",
       "      <th>NA21143</th>\n",
       "      <td>0|0</td>\n",
       "      <td>0|0</td>\n",
       "      <td>0|0</td>\n",
       "      <td>0|0</td>\n",
       "      <td>0|0</td>\n",
       "      <td>0|0</td>\n",
       "      <td>1|0</td>\n",
       "      <td>0|0</td>\n",
       "      <td>0|0</td>\n",
       "      <td>0|0</td>\n",
       "      <td>...</td>\n",
       "      <td>0|0</td>\n",
       "      <td>0|0</td>\n",
       "      <td>0|0</td>\n",
       "      <td>0|0</td>\n",
       "      <td>0|0</td>\n",
       "      <td>0|0</td>\n",
       "      <td>0|0</td>\n",
       "      <td>0|0</td>\n",
       "      <td>0|0</td>\n",
       "      <td>0|0</td>\n",
       "    </tr>\n",
       "    <tr>\n",
       "      <th>NA21144</th>\n",
       "      <td>0|0</td>\n",
       "      <td>0|0</td>\n",
       "      <td>0|0</td>\n",
       "      <td>0|0</td>\n",
       "      <td>0|0</td>\n",
       "      <td>0|0</td>\n",
       "      <td>0|1</td>\n",
       "      <td>0|0</td>\n",
       "      <td>0|0</td>\n",
       "      <td>0|0</td>\n",
       "      <td>...</td>\n",
       "      <td>0|0</td>\n",
       "      <td>0|0</td>\n",
       "      <td>0|0</td>\n",
       "      <td>0|0</td>\n",
       "      <td>0|0</td>\n",
       "      <td>0|0</td>\n",
       "      <td>0|0</td>\n",
       "      <td>0|0</td>\n",
       "      <td>0|0</td>\n",
       "      <td>0|0</td>\n",
       "    </tr>\n",
       "  </tbody>\n",
       "</table>\n",
       "<p>2504 rows × 848 columns</p>\n",
       "</div>\n",
       "      <button class=\"colab-df-convert\" onclick=\"convertToInteractive('df-bd616838-45b4-4aa9-9f50-0c3b4708f4b7')\"\n",
       "              title=\"Convert this dataframe to an interactive table.\"\n",
       "              style=\"display:none;\">\n",
       "        \n",
       "  <svg xmlns=\"http://www.w3.org/2000/svg\" height=\"24px\"viewBox=\"0 0 24 24\"\n",
       "       width=\"24px\">\n",
       "    <path d=\"M0 0h24v24H0V0z\" fill=\"none\"/>\n",
       "    <path d=\"M18.56 5.44l.94 2.06.94-2.06 2.06-.94-2.06-.94-.94-2.06-.94 2.06-2.06.94zm-11 1L8.5 8.5l.94-2.06 2.06-.94-2.06-.94L8.5 2.5l-.94 2.06-2.06.94zm10 10l.94 2.06.94-2.06 2.06-.94-2.06-.94-.94-2.06-.94 2.06-2.06.94z\"/><path d=\"M17.41 7.96l-1.37-1.37c-.4-.4-.92-.59-1.43-.59-.52 0-1.04.2-1.43.59L10.3 9.45l-7.72 7.72c-.78.78-.78 2.05 0 2.83L4 21.41c.39.39.9.59 1.41.59.51 0 1.02-.2 1.41-.59l7.78-7.78 2.81-2.81c.8-.78.8-2.07 0-2.86zM5.41 20L4 18.59l7.72-7.72 1.47 1.35L5.41 20z\"/>\n",
       "  </svg>\n",
       "      </button>\n",
       "      \n",
       "  <style>\n",
       "    .colab-df-container {\n",
       "      display:flex;\n",
       "      flex-wrap:wrap;\n",
       "      gap: 12px;\n",
       "    }\n",
       "\n",
       "    .colab-df-convert {\n",
       "      background-color: #E8F0FE;\n",
       "      border: none;\n",
       "      border-radius: 50%;\n",
       "      cursor: pointer;\n",
       "      display: none;\n",
       "      fill: #1967D2;\n",
       "      height: 32px;\n",
       "      padding: 0 0 0 0;\n",
       "      width: 32px;\n",
       "    }\n",
       "\n",
       "    .colab-df-convert:hover {\n",
       "      background-color: #E2EBFA;\n",
       "      box-shadow: 0px 1px 2px rgba(60, 64, 67, 0.3), 0px 1px 3px 1px rgba(60, 64, 67, 0.15);\n",
       "      fill: #174EA6;\n",
       "    }\n",
       "\n",
       "    [theme=dark] .colab-df-convert {\n",
       "      background-color: #3B4455;\n",
       "      fill: #D2E3FC;\n",
       "    }\n",
       "\n",
       "    [theme=dark] .colab-df-convert:hover {\n",
       "      background-color: #434B5C;\n",
       "      box-shadow: 0px 1px 3px 1px rgba(0, 0, 0, 0.15);\n",
       "      filter: drop-shadow(0px 1px 2px rgba(0, 0, 0, 0.3));\n",
       "      fill: #FFFFFF;\n",
       "    }\n",
       "  </style>\n",
       "\n",
       "      <script>\n",
       "        const buttonEl =\n",
       "          document.querySelector('#df-bd616838-45b4-4aa9-9f50-0c3b4708f4b7 button.colab-df-convert');\n",
       "        buttonEl.style.display =\n",
       "          google.colab.kernel.accessAllowed ? 'block' : 'none';\n",
       "\n",
       "        async function convertToInteractive(key) {\n",
       "          const element = document.querySelector('#df-bd616838-45b4-4aa9-9f50-0c3b4708f4b7');\n",
       "          const dataTable =\n",
       "            await google.colab.kernel.invokeFunction('convertToInteractive',\n",
       "                                                     [key], {});\n",
       "          if (!dataTable) return;\n",
       "\n",
       "          const docLinkHtml = 'Like what you see? Visit the ' +\n",
       "            '<a target=\"_blank\" href=https://colab.research.google.com/notebooks/data_table.ipynb>data table notebook</a>'\n",
       "            + ' to learn more about interactive tables.';\n",
       "          element.innerHTML = '';\n",
       "          dataTable['output_type'] = 'display_data';\n",
       "          await google.colab.output.renderOutput(dataTable, element);\n",
       "          const docLink = document.createElement('div');\n",
       "          docLink.innerHTML = docLinkHtml;\n",
       "          element.appendChild(docLink);\n",
       "        }\n",
       "      </script>\n",
       "    </div>\n",
       "  </div>\n",
       "  "
      ]
     },
     "metadata": {},
     "execution_count": 6
    }
   ],
   "source": [
    "root_dir = '[data_dir]'\n",
    "new_data_header = \"\"\n",
    "# get header\n",
    "with open(root_dir + \"ALL.chr22.mergedSV.v8.20130502.svs.genotypes.vcf\", 'r') as f_in:\n",
    "    # skip info\n",
    "    for line_num in range(70):\n",
    "        f_in.readline()\n",
    "\n",
    "    new_data_header = f_in.readline()\n",
    "# load data\n",
    "\n",
    "# load genotype\n",
    "genotypes = pd.read_csv(root_dir + \"ALL.chr22.mergedSV.v8.20130502.svs.genotypes.vcf\",\n",
    "                        comment='#', sep='\\t',\n",
    "                        names=new_data_header.strip().split('\\t'), header=None)\n",
    "info = genotypes.iloc[:, :9]\n",
    "genotypes = genotypes.iloc[:, 9:].T\n",
    "headers = genotypes.columns[:]\n",
    "genotypes"
   ]
  },
  {
   "cell_type": "code",
   "execution_count": 7,
   "metadata": {
    "id": "-gFMrUnhV80n",
    "executionInfo": {
     "status": "ok",
     "timestamp": 1686920514654,
     "user_tz": 240,
     "elapsed": 397,
     "user": {
      "displayName": "net crowmaster",
      "userId": "14126946344391667924"
     }
    }
   },
   "outputs": [],
   "source": [
    "ped_file = '[data_dir]/integrated_call_samples.20130502.ALL.ped'\n",
    "pedigree = pd.read_csv(ped_file, sep='\\t', index_col='Individual ID')"
   ]
  },
  {
   "cell_type": "code",
   "execution_count": 8,
   "metadata": {
    "colab": {
     "base_uri": "https://localhost:8080/",
     "height": 316
    },
    "executionInfo": {
     "elapsed": 8,
     "status": "ok",
     "timestamp": 1686920514655,
     "user": {
      "displayName": "net crowmaster",
      "userId": "14126946344391667924"
     },
     "user_tz": 240
    },
    "id": "Zgb8Fn-EV_PU",
    "outputId": "450d838e-2b88-4243-c3cd-3932835b1b58"
   },
   "outputs": [
    {
     "output_type": "execute_result",
     "data": {
      "text/plain": [
       "              Family ID Paternal ID Maternal ID  Gender  Phenotype Population  \\\n",
       "Individual ID                                                                   \n",
       "HG00096         HG00096           0           0       1          0        GBR   \n",
       "HG00097         HG00097           0           0       2          0        GBR   \n",
       "HG00098         HG00098           0           0       1          0        GBR   \n",
       "HG00099         HG00099           0           0       2          0        GBR   \n",
       "HG00100         HG00100           0           0       2          0        GBR   \n",
       "\n",
       "              Relationship Siblings Second Order Third Order Children  \\\n",
       "Individual ID                                                           \n",
       "HG00096              unrel        0            0           0        0   \n",
       "HG00097              unrel        0            0           0        0   \n",
       "HG00098              unrel        0            0           0        0   \n",
       "HG00099              unrel        0            0           0        0   \n",
       "HG00100              unrel        0            0           0        0   \n",
       "\n",
       "              Other Comments  \n",
       "Individual ID                 \n",
       "HG00096                    0  \n",
       "HG00097                    0  \n",
       "HG00098                    0  \n",
       "HG00099                    0  \n",
       "HG00100                    0  "
      ],
      "text/html": [
       "\n",
       "  <div id=\"df-a26cc76f-0266-4f07-a3ef-4b3954117abc\">\n",
       "    <div class=\"colab-df-container\">\n",
       "      <div>\n",
       "<style scoped>\n",
       "    .dataframe tbody tr th:only-of-type {\n",
       "        vertical-align: middle;\n",
       "    }\n",
       "\n",
       "    .dataframe tbody tr th {\n",
       "        vertical-align: top;\n",
       "    }\n",
       "\n",
       "    .dataframe thead th {\n",
       "        text-align: right;\n",
       "    }\n",
       "</style>\n",
       "<table border=\"1\" class=\"dataframe\">\n",
       "  <thead>\n",
       "    <tr style=\"text-align: right;\">\n",
       "      <th></th>\n",
       "      <th>Family ID</th>\n",
       "      <th>Paternal ID</th>\n",
       "      <th>Maternal ID</th>\n",
       "      <th>Gender</th>\n",
       "      <th>Phenotype</th>\n",
       "      <th>Population</th>\n",
       "      <th>Relationship</th>\n",
       "      <th>Siblings</th>\n",
       "      <th>Second Order</th>\n",
       "      <th>Third Order</th>\n",
       "      <th>Children</th>\n",
       "      <th>Other Comments</th>\n",
       "    </tr>\n",
       "    <tr>\n",
       "      <th>Individual ID</th>\n",
       "      <th></th>\n",
       "      <th></th>\n",
       "      <th></th>\n",
       "      <th></th>\n",
       "      <th></th>\n",
       "      <th></th>\n",
       "      <th></th>\n",
       "      <th></th>\n",
       "      <th></th>\n",
       "      <th></th>\n",
       "      <th></th>\n",
       "      <th></th>\n",
       "    </tr>\n",
       "  </thead>\n",
       "  <tbody>\n",
       "    <tr>\n",
       "      <th>HG00096</th>\n",
       "      <td>HG00096</td>\n",
       "      <td>0</td>\n",
       "      <td>0</td>\n",
       "      <td>1</td>\n",
       "      <td>0</td>\n",
       "      <td>GBR</td>\n",
       "      <td>unrel</td>\n",
       "      <td>0</td>\n",
       "      <td>0</td>\n",
       "      <td>0</td>\n",
       "      <td>0</td>\n",
       "      <td>0</td>\n",
       "    </tr>\n",
       "    <tr>\n",
       "      <th>HG00097</th>\n",
       "      <td>HG00097</td>\n",
       "      <td>0</td>\n",
       "      <td>0</td>\n",
       "      <td>2</td>\n",
       "      <td>0</td>\n",
       "      <td>GBR</td>\n",
       "      <td>unrel</td>\n",
       "      <td>0</td>\n",
       "      <td>0</td>\n",
       "      <td>0</td>\n",
       "      <td>0</td>\n",
       "      <td>0</td>\n",
       "    </tr>\n",
       "    <tr>\n",
       "      <th>HG00098</th>\n",
       "      <td>HG00098</td>\n",
       "      <td>0</td>\n",
       "      <td>0</td>\n",
       "      <td>1</td>\n",
       "      <td>0</td>\n",
       "      <td>GBR</td>\n",
       "      <td>unrel</td>\n",
       "      <td>0</td>\n",
       "      <td>0</td>\n",
       "      <td>0</td>\n",
       "      <td>0</td>\n",
       "      <td>0</td>\n",
       "    </tr>\n",
       "    <tr>\n",
       "      <th>HG00099</th>\n",
       "      <td>HG00099</td>\n",
       "      <td>0</td>\n",
       "      <td>0</td>\n",
       "      <td>2</td>\n",
       "      <td>0</td>\n",
       "      <td>GBR</td>\n",
       "      <td>unrel</td>\n",
       "      <td>0</td>\n",
       "      <td>0</td>\n",
       "      <td>0</td>\n",
       "      <td>0</td>\n",
       "      <td>0</td>\n",
       "    </tr>\n",
       "    <tr>\n",
       "      <th>HG00100</th>\n",
       "      <td>HG00100</td>\n",
       "      <td>0</td>\n",
       "      <td>0</td>\n",
       "      <td>2</td>\n",
       "      <td>0</td>\n",
       "      <td>GBR</td>\n",
       "      <td>unrel</td>\n",
       "      <td>0</td>\n",
       "      <td>0</td>\n",
       "      <td>0</td>\n",
       "      <td>0</td>\n",
       "      <td>0</td>\n",
       "    </tr>\n",
       "  </tbody>\n",
       "</table>\n",
       "</div>\n",
       "      <button class=\"colab-df-convert\" onclick=\"convertToInteractive('df-a26cc76f-0266-4f07-a3ef-4b3954117abc')\"\n",
       "              title=\"Convert this dataframe to an interactive table.\"\n",
       "              style=\"display:none;\">\n",
       "        \n",
       "  <svg xmlns=\"http://www.w3.org/2000/svg\" height=\"24px\"viewBox=\"0 0 24 24\"\n",
       "       width=\"24px\">\n",
       "    <path d=\"M0 0h24v24H0V0z\" fill=\"none\"/>\n",
       "    <path d=\"M18.56 5.44l.94 2.06.94-2.06 2.06-.94-2.06-.94-.94-2.06-.94 2.06-2.06.94zm-11 1L8.5 8.5l.94-2.06 2.06-.94-2.06-.94L8.5 2.5l-.94 2.06-2.06.94zm10 10l.94 2.06.94-2.06 2.06-.94-2.06-.94-.94-2.06-.94 2.06-2.06.94z\"/><path d=\"M17.41 7.96l-1.37-1.37c-.4-.4-.92-.59-1.43-.59-.52 0-1.04.2-1.43.59L10.3 9.45l-7.72 7.72c-.78.78-.78 2.05 0 2.83L4 21.41c.39.39.9.59 1.41.59.51 0 1.02-.2 1.41-.59l7.78-7.78 2.81-2.81c.8-.78.8-2.07 0-2.86zM5.41 20L4 18.59l7.72-7.72 1.47 1.35L5.41 20z\"/>\n",
       "  </svg>\n",
       "      </button>\n",
       "      \n",
       "  <style>\n",
       "    .colab-df-container {\n",
       "      display:flex;\n",
       "      flex-wrap:wrap;\n",
       "      gap: 12px;\n",
       "    }\n",
       "\n",
       "    .colab-df-convert {\n",
       "      background-color: #E8F0FE;\n",
       "      border: none;\n",
       "      border-radius: 50%;\n",
       "      cursor: pointer;\n",
       "      display: none;\n",
       "      fill: #1967D2;\n",
       "      height: 32px;\n",
       "      padding: 0 0 0 0;\n",
       "      width: 32px;\n",
       "    }\n",
       "\n",
       "    .colab-df-convert:hover {\n",
       "      background-color: #E2EBFA;\n",
       "      box-shadow: 0px 1px 2px rgba(60, 64, 67, 0.3), 0px 1px 3px 1px rgba(60, 64, 67, 0.15);\n",
       "      fill: #174EA6;\n",
       "    }\n",
       "\n",
       "    [theme=dark] .colab-df-convert {\n",
       "      background-color: #3B4455;\n",
       "      fill: #D2E3FC;\n",
       "    }\n",
       "\n",
       "    [theme=dark] .colab-df-convert:hover {\n",
       "      background-color: #434B5C;\n",
       "      box-shadow: 0px 1px 3px 1px rgba(0, 0, 0, 0.15);\n",
       "      filter: drop-shadow(0px 1px 2px rgba(0, 0, 0, 0.3));\n",
       "      fill: #FFFFFF;\n",
       "    }\n",
       "  </style>\n",
       "\n",
       "      <script>\n",
       "        const buttonEl =\n",
       "          document.querySelector('#df-a26cc76f-0266-4f07-a3ef-4b3954117abc button.colab-df-convert');\n",
       "        buttonEl.style.display =\n",
       "          google.colab.kernel.accessAllowed ? 'block' : 'none';\n",
       "\n",
       "        async function convertToInteractive(key) {\n",
       "          const element = document.querySelector('#df-a26cc76f-0266-4f07-a3ef-4b3954117abc');\n",
       "          const dataTable =\n",
       "            await google.colab.kernel.invokeFunction('convertToInteractive',\n",
       "                                                     [key], {});\n",
       "          if (!dataTable) return;\n",
       "\n",
       "          const docLinkHtml = 'Like what you see? Visit the ' +\n",
       "            '<a target=\"_blank\" href=https://colab.research.google.com/notebooks/data_table.ipynb>data table notebook</a>'\n",
       "            + ' to learn more about interactive tables.';\n",
       "          element.innerHTML = '';\n",
       "          dataTable['output_type'] = 'display_data';\n",
       "          await google.colab.output.renderOutput(dataTable, element);\n",
       "          const docLink = document.createElement('div');\n",
       "          docLink.innerHTML = docLinkHtml;\n",
       "          element.appendChild(docLink);\n",
       "        }\n",
       "      </script>\n",
       "    </div>\n",
       "  </div>\n",
       "  "
      ]
     },
     "metadata": {},
     "execution_count": 8
    }
   ],
   "source": [
    "pedigree.head()"
   ]
  },
  {
   "cell_type": "code",
   "execution_count": 9,
   "metadata": {
    "colab": {
     "base_uri": "https://localhost:8080/"
    },
    "executionInfo": {
     "elapsed": 199,
     "status": "ok",
     "timestamp": 1686920514848,
     "user": {
      "displayName": "net crowmaster",
      "userId": "14126946344391667924"
     },
     "user_tz": 240
    },
    "id": "GBSfo4FlV_A_",
    "outputId": "96fe0056-a08a-43f9-9a76-d26008c80b5d"
   },
   "outputs": [
    {
     "output_type": "execute_result",
     "data": {
      "text/plain": [
       "(2504,)"
      ]
     },
     "metadata": {},
     "execution_count": 9
    }
   ],
   "source": [
    "Y_train = pedigree.loc[genotypes.index]['Population']\n",
    "Y_train.shape"
   ]
  },
  {
   "cell_type": "code",
   "execution_count": 10,
   "metadata": {
    "colab": {
     "base_uri": "https://localhost:8080/"
    },
    "executionInfo": {
     "elapsed": 6,
     "status": "ok",
     "timestamp": 1686920514849,
     "user": {
      "displayName": "net crowmaster",
      "userId": "14126946344391667924"
     },
     "user_tz": 240
    },
    "id": "hiP0EEwsEMNP",
    "outputId": "1a07c580-dbeb-46c8-daa6-541aa7e06990"
   },
   "outputs": [
    {
     "output_type": "execute_result",
     "data": {
      "text/plain": [
       "(2504, 848)"
      ]
     },
     "metadata": {},
     "execution_count": 10
    }
   ],
   "source": [
    "X = genotypes[genotypes.index.isin(Y_train.index)]\n",
    "X.shape"
   ]
  },
  {
   "cell_type": "code",
   "source": [
    "def get_max_genotype(g):\n",
    "  v1, v2 = g.split(\"|\")\n",
    "  return max(int(v1), int(v2)) + 1\n",
    "\n",
    "def key_gen(v1, v2):\n",
    "  return f\"{v1}|{v2}\""
   ],
   "metadata": {
    "id": "3Yrih8NP_EkA",
    "executionInfo": {
     "status": "ok",
     "timestamp": 1686920515018,
     "user_tz": 240,
     "elapsed": 3,
     "user": {
      "displayName": "net crowmaster",
      "userId": "14126946344391667924"
     }
    }
   },
   "execution_count": 11,
   "outputs": []
  },
  {
   "cell_type": "code",
   "source": [
    "genotype_keys = np.unique(X.values)\n",
    "max_gen = max(map(get_max_genotype, genotype_keys))\n",
    "onehot_encoding_depth = max_gen**2 + 1\n",
    "MISSING_VALUE = [0 for _ in range(max_gen+1)]\n",
    "MISSING_VALUE[-1] = 1\n",
    "genotype_keys = [key_gen(i,j) for i in range(max_gen) for j in range(max_gen)]\n",
    "replacement_dict = {k:i for i,k in enumerate(genotype_keys)}\n",
    "reverse_replacement_dict = {v:k for k,v in replacement_dict.items()}\n",
    "max_gen, onehot_encoding_depth, MISSING_VALUE\n",
    "# replacement_dict"
   ],
   "metadata": {
    "colab": {
     "base_uri": "https://localhost:8080/"
    },
    "id": "nDTlx2_-_E8X",
    "executionInfo": {
     "status": "ok",
     "timestamp": 1686920522750,
     "user_tz": 240,
     "elapsed": 7735,
     "user": {
      "displayName": "net crowmaster",
      "userId": "14126946344391667924"
     }
    },
    "outputId": "db8a45f5-11dc-40bc-96e7-02a590fa3e8c"
   },
   "execution_count": 12,
   "outputs": [
    {
     "output_type": "execute_result",
     "data": {
      "text/plain": [
       "(6, 37, [0, 0, 0, 0, 0, 0, 1])"
      ]
     },
     "metadata": {},
     "execution_count": 12
    }
   ]
  },
  {
   "cell_type": "code",
   "execution_count": 13,
   "metadata": {
    "colab": {
     "base_uri": "https://localhost:8080/"
    },
    "executionInfo": {
     "elapsed": 18877,
     "status": "ok",
     "timestamp": 1686920541622,
     "user": {
      "displayName": "net crowmaster",
      "userId": "14126946344391667924"
     },
     "user_tz": 240
    },
    "id": "DNU6deVHXIdE",
    "outputId": "9a0b1f03-ca64-4092-a4dd-e7d3954da2e9"
   },
   "outputs": [
    {
     "output_type": "execute_result",
     "data": {
      "text/plain": [
       "(2504, 848)"
      ]
     },
     "metadata": {},
     "execution_count": 13
    }
   ],
   "source": [
    "X = X.replace(replacement_dict)\n",
    "X.shape"
   ]
  },
  {
   "cell_type": "markdown",
   "source": [
    "### MAF\n"
   ],
   "metadata": {
    "id": "asV65bA-j1aw"
   }
  },
  {
   "cell_type": "code",
   "source": [
    "def maf_mapper(txt):\n",
    "  af = min(list(map(lambda x: float(x), txt.split(\";\")[1].split(\"=\")[1].split(\",\"))))\n",
    "  return min(af, 1-af)"
   ],
   "metadata": {
    "id": "P4m28zGLMtXK",
    "executionInfo": {
     "status": "ok",
     "timestamp": 1686920541623,
     "user_tz": 240,
     "elapsed": 11,
     "user": {
      "displayName": "net crowmaster",
      "userId": "14126946344391667924"
     }
    }
   },
   "execution_count": 14,
   "outputs": []
  },
  {
   "cell_type": "code",
   "source": [
    "mafs = info.iloc[:, 7:8].applymap(maf_mapper)\n",
    "mafs"
   ],
   "metadata": {
    "colab": {
     "base_uri": "https://localhost:8080/",
     "height": 424
    },
    "id": "PoX14d2YGB8c",
    "executionInfo": {
     "status": "ok",
     "timestamp": 1686920541624,
     "user_tz": 240,
     "elapsed": 10,
     "user": {
      "displayName": "net crowmaster",
      "userId": "14126946344391667924"
     }
    },
    "outputId": "61049c6a-f107-4c80-fd45-f5e81852fb7a"
   },
   "execution_count": 15,
   "outputs": [
    {
     "output_type": "execute_result",
     "data": {
      "text/plain": [
       "         INFO\n",
       "0    0.001797\n",
       "1    0.024960\n",
       "2    0.005791\n",
       "3    0.037141\n",
       "4    0.000399\n",
       "..        ...\n",
       "843  0.000200\n",
       "844  0.001198\n",
       "845  0.000599\n",
       "846  0.000200\n",
       "847  0.000200\n",
       "\n",
       "[848 rows x 1 columns]"
      ],
      "text/html": [
       "\n",
       "  <div id=\"df-c4109f34-2a87-4080-bcc7-9c1743e7bc01\">\n",
       "    <div class=\"colab-df-container\">\n",
       "      <div>\n",
       "<style scoped>\n",
       "    .dataframe tbody tr th:only-of-type {\n",
       "        vertical-align: middle;\n",
       "    }\n",
       "\n",
       "    .dataframe tbody tr th {\n",
       "        vertical-align: top;\n",
       "    }\n",
       "\n",
       "    .dataframe thead th {\n",
       "        text-align: right;\n",
       "    }\n",
       "</style>\n",
       "<table border=\"1\" class=\"dataframe\">\n",
       "  <thead>\n",
       "    <tr style=\"text-align: right;\">\n",
       "      <th></th>\n",
       "      <th>INFO</th>\n",
       "    </tr>\n",
       "  </thead>\n",
       "  <tbody>\n",
       "    <tr>\n",
       "      <th>0</th>\n",
       "      <td>0.001797</td>\n",
       "    </tr>\n",
       "    <tr>\n",
       "      <th>1</th>\n",
       "      <td>0.024960</td>\n",
       "    </tr>\n",
       "    <tr>\n",
       "      <th>2</th>\n",
       "      <td>0.005791</td>\n",
       "    </tr>\n",
       "    <tr>\n",
       "      <th>3</th>\n",
       "      <td>0.037141</td>\n",
       "    </tr>\n",
       "    <tr>\n",
       "      <th>4</th>\n",
       "      <td>0.000399</td>\n",
       "    </tr>\n",
       "    <tr>\n",
       "      <th>...</th>\n",
       "      <td>...</td>\n",
       "    </tr>\n",
       "    <tr>\n",
       "      <th>843</th>\n",
       "      <td>0.000200</td>\n",
       "    </tr>\n",
       "    <tr>\n",
       "      <th>844</th>\n",
       "      <td>0.001198</td>\n",
       "    </tr>\n",
       "    <tr>\n",
       "      <th>845</th>\n",
       "      <td>0.000599</td>\n",
       "    </tr>\n",
       "    <tr>\n",
       "      <th>846</th>\n",
       "      <td>0.000200</td>\n",
       "    </tr>\n",
       "    <tr>\n",
       "      <th>847</th>\n",
       "      <td>0.000200</td>\n",
       "    </tr>\n",
       "  </tbody>\n",
       "</table>\n",
       "<p>848 rows × 1 columns</p>\n",
       "</div>\n",
       "      <button class=\"colab-df-convert\" onclick=\"convertToInteractive('df-c4109f34-2a87-4080-bcc7-9c1743e7bc01')\"\n",
       "              title=\"Convert this dataframe to an interactive table.\"\n",
       "              style=\"display:none;\">\n",
       "        \n",
       "  <svg xmlns=\"http://www.w3.org/2000/svg\" height=\"24px\"viewBox=\"0 0 24 24\"\n",
       "       width=\"24px\">\n",
       "    <path d=\"M0 0h24v24H0V0z\" fill=\"none\"/>\n",
       "    <path d=\"M18.56 5.44l.94 2.06.94-2.06 2.06-.94-2.06-.94-.94-2.06-.94 2.06-2.06.94zm-11 1L8.5 8.5l.94-2.06 2.06-.94-2.06-.94L8.5 2.5l-.94 2.06-2.06.94zm10 10l.94 2.06.94-2.06 2.06-.94-2.06-.94-.94-2.06-.94 2.06-2.06.94z\"/><path d=\"M17.41 7.96l-1.37-1.37c-.4-.4-.92-.59-1.43-.59-.52 0-1.04.2-1.43.59L10.3 9.45l-7.72 7.72c-.78.78-.78 2.05 0 2.83L4 21.41c.39.39.9.59 1.41.59.51 0 1.02-.2 1.41-.59l7.78-7.78 2.81-2.81c.8-.78.8-2.07 0-2.86zM5.41 20L4 18.59l7.72-7.72 1.47 1.35L5.41 20z\"/>\n",
       "  </svg>\n",
       "      </button>\n",
       "      \n",
       "  <style>\n",
       "    .colab-df-container {\n",
       "      display:flex;\n",
       "      flex-wrap:wrap;\n",
       "      gap: 12px;\n",
       "    }\n",
       "\n",
       "    .colab-df-convert {\n",
       "      background-color: #E8F0FE;\n",
       "      border: none;\n",
       "      border-radius: 50%;\n",
       "      cursor: pointer;\n",
       "      display: none;\n",
       "      fill: #1967D2;\n",
       "      height: 32px;\n",
       "      padding: 0 0 0 0;\n",
       "      width: 32px;\n",
       "    }\n",
       "\n",
       "    .colab-df-convert:hover {\n",
       "      background-color: #E2EBFA;\n",
       "      box-shadow: 0px 1px 2px rgba(60, 64, 67, 0.3), 0px 1px 3px 1px rgba(60, 64, 67, 0.15);\n",
       "      fill: #174EA6;\n",
       "    }\n",
       "\n",
       "    [theme=dark] .colab-df-convert {\n",
       "      background-color: #3B4455;\n",
       "      fill: #D2E3FC;\n",
       "    }\n",
       "\n",
       "    [theme=dark] .colab-df-convert:hover {\n",
       "      background-color: #434B5C;\n",
       "      box-shadow: 0px 1px 3px 1px rgba(0, 0, 0, 0.15);\n",
       "      filter: drop-shadow(0px 1px 2px rgba(0, 0, 0, 0.3));\n",
       "      fill: #FFFFFF;\n",
       "    }\n",
       "  </style>\n",
       "\n",
       "      <script>\n",
       "        const buttonEl =\n",
       "          document.querySelector('#df-c4109f34-2a87-4080-bcc7-9c1743e7bc01 button.colab-df-convert');\n",
       "        buttonEl.style.display =\n",
       "          google.colab.kernel.accessAllowed ? 'block' : 'none';\n",
       "\n",
       "        async function convertToInteractive(key) {\n",
       "          const element = document.querySelector('#df-c4109f34-2a87-4080-bcc7-9c1743e7bc01');\n",
       "          const dataTable =\n",
       "            await google.colab.kernel.invokeFunction('convertToInteractive',\n",
       "                                                     [key], {});\n",
       "          if (!dataTable) return;\n",
       "\n",
       "          const docLinkHtml = 'Like what you see? Visit the ' +\n",
       "            '<a target=\"_blank\" href=https://colab.research.google.com/notebooks/data_table.ipynb>data table notebook</a>'\n",
       "            + ' to learn more about interactive tables.';\n",
       "          element.innerHTML = '';\n",
       "          dataTable['output_type'] = 'display_data';\n",
       "          await google.colab.output.renderOutput(dataTable, element);\n",
       "          const docLink = document.createElement('div');\n",
       "          docLink.innerHTML = docLinkHtml;\n",
       "          element.appendChild(docLink);\n",
       "        }\n",
       "      </script>\n",
       "    </div>\n",
       "  </div>\n",
       "  "
      ]
     },
     "metadata": {},
     "execution_count": 15
    }
   ]
  },
  {
   "cell_type": "code",
   "source": [
    "plt.hist(mafs, bins=[0, 0.1, 0.2, 0.3, 0.4, 0.5]);"
   ],
   "metadata": {
    "colab": {
     "base_uri": "https://localhost:8080/",
     "height": 430
    },
    "id": "KaBtVvHmRL-X",
    "executionInfo": {
     "status": "ok",
     "timestamp": 1686920542148,
     "user_tz": 240,
     "elapsed": 532,
     "user": {
      "displayName": "net crowmaster",
      "userId": "14126946344391667924"
     }
    },
    "outputId": "0b8fccae-ad27-4a9d-ef7e-be840c3e2bf1"
   },
   "execution_count": 16,
   "outputs": [
    {
     "output_type": "display_data",
     "data": {
      "text/plain": [
       "<Figure size 640x480 with 1 Axes>"
      ],
      "image/png": "[encoded data removed]"
     },
     "metadata": {}
    }
   ]
  },
  {
   "cell_type": "code",
   "source": [
    "bin_labels = np.digitize(mafs, bins=[0, 0.1, 0.2, 0.3, 0.4, 0.5], right=False)\n",
    "bin_general_labels, bin_counts = np.unique(bin_labels, return_counts=True)\n",
    "bin_general_labels, bin_counts"
   ],
   "metadata": {
    "colab": {
     "base_uri": "https://localhost:8080/"
    },
    "id": "12UAf-X8dPBf",
    "executionInfo": {
     "status": "ok",
     "timestamp": 1686920542149,
     "user_tz": 240,
     "elapsed": 7,
     "user": {
      "displayName": "net crowmaster",
      "userId": "14126946344391667924"
     }
    },
    "outputId": "4ecabc80-829a-4ed8-f1ac-63e29073b8bc"
   },
   "execution_count": 17,
   "outputs": [
    {
     "output_type": "execute_result",
     "data": {
      "text/plain": [
       "(array([1, 2, 3, 4, 5]), array([783,  22,  17,  16,  10]))"
      ]
     },
     "metadata": {},
     "execution_count": 17
    }
   ]
  },
  {
   "cell_type": "code",
   "execution_count": 18,
   "metadata": {
    "id": "_pZoO-FvKdr3",
    "executionInfo": {
     "status": "ok",
     "timestamp": 1686920542149,
     "user_tz": 240,
     "elapsed": 4,
     "user": {
      "displayName": "net crowmaster",
      "userId": "14126946344391667924"
     }
    }
   },
   "outputs": [],
   "source": [
    "# hyperparameters\n",
    "feature_size = X.shape[1]\n",
    "inChannel = max_gen + 1\n",
    "learning_rate = 0.001\n",
    "weight_decay = 0.00001\n",
    "embed_dim = 64  # Embedding size for each token\n",
    "num_heads = 8 # Number of attention heads\n",
    "ff_dim = 32  # Hidden layer size in feed forward network inside transformer\n",
    "regularization_coef_l1 = 1e-4\n",
    "dropout_rate = 0.25\n",
    "attention_range = 0\n",
    "chunk_size = X.shape[1]"
   ]
  },
  {
   "cell_type": "markdown",
   "metadata": {
    "id": "LtSxW2eMOOCU"
   },
   "source": [
    "## Convert to tensorflow dataset"
   ]
  },
  {
   "cell_type": "code",
   "execution_count": 19,
   "metadata": {
    "id": "KDiVoe67JHcy",
    "executionInfo": {
     "status": "ok",
     "timestamp": 1686920542370,
     "user_tz": 240,
     "elapsed": 225,
     "user": {
      "displayName": "net crowmaster",
      "userId": "14126946344391667924"
     }
    }
   },
   "outputs": [],
   "source": [
    "@tf.function()\n",
    "def add_attention_mask(X_sample, y_sample):\n",
    "  depth = max_gen + 1\n",
    "  mask_size = tf.cast(X_sample.shape[0]*0.5, dtype=tf.int64)\n",
    "  mask_idx = tf.reshape(tf.random.shuffle(tf.range(X_sample.shape[0]))[:mask_size], (-1, 1))\n",
    "  updates = tf.math.add(tf.zeros(shape=(mask_idx.shape[0]), dtype=tf.int64), max_gen)\n",
    "  X_masked = tf.tensor_scatter_nd_update(X_sample, mask_idx, updates)\n",
    "\n",
    "  return tf.one_hot(X_masked, depth), tf.one_hot(y_sample, depth-1)"
   ]
  },
  {
   "cell_type": "code",
   "execution_count": 20,
   "metadata": {
    "id": "SlyxYCy96H7V",
    "executionInfo": {
     "status": "ok",
     "timestamp": 1686920542371,
     "user_tz": 240,
     "elapsed": 5,
     "user": {
      "displayName": "net crowmaster",
      "userId": "14126946344391667924"
     }
    }
   },
   "outputs": [],
   "source": [
    "def map_values_1(x):\n",
    "  return int(reverse_replacement_dict[x].split('|')[0])\n",
    "\n",
    "def map_values_2(x):\n",
    "  return int(reverse_replacement_dict[x].split('|')[1])\n",
    "\n",
    "def get_dataset(x, chunk_start, chunk_end, start_offset, end_offset, batch_size, training=True):\n",
    "  AUTO = tf.data.AUTOTUNE\n",
    "\n",
    "  _x = np.empty((x.shape[0] * 2, chunk_end-chunk_start), dtype=x.dtype)\n",
    "\n",
    "  map_values_1_vec = np.vectorize(map_values_1)\n",
    "  map_values_2_vec = np.vectorize(map_values_2)\n",
    "\n",
    "  _x[0::2] = map_values_1_vec(x[:, chunk_start:chunk_end])\n",
    "  _x[1::2] = map_values_2_vec(x[:, chunk_start:chunk_end])\n",
    "  new_chunk_end = _x.shape[1]\n",
    "\n",
    "  dataset = tf.data.Dataset.from_tensor_slices((_x,\n",
    "                                                _x[:, start_offset:new_chunk_end-end_offset]))\n",
    "\n",
    "  if training:\n",
    "    dataset = dataset.shuffle(_x.shape[0], reshuffle_each_iteration=True)\n",
    "    dataset = dataset.repeat()\n",
    "\n",
    "  # Add Attention Mask\n",
    "  dataset = dataset.map(add_attention_mask, num_parallel_calls=AUTO, deterministic=False)\n",
    "\n",
    "  # Prefetech to not map the whole dataset\n",
    "  dataset = dataset.prefetch(AUTO)\n",
    "\n",
    "  dataset = dataset.batch(batch_size, drop_remainder=True, num_parallel_calls=AUTO)\n",
    "\n",
    "  return dataset"
   ]
  },
  {
   "cell_type": "markdown",
   "metadata": {
    "id": "NpRUjMp_L914"
   },
   "source": [
    "## Custom Layers"
   ]
  },
  {
   "cell_type": "code",
   "execution_count": 21,
   "metadata": {
    "id": "9h9OjeMZ8_XU",
    "executionInfo": {
     "status": "ok",
     "timestamp": 1686920542371,
     "user_tz": 240,
     "elapsed": 4,
     "user": {
      "displayName": "net crowmaster",
      "userId": "14126946344391667924"
     }
    }
   },
   "outputs": [],
   "source": [
    "class CrossAttentionLayer(layers.Layer):\n",
    "  def __init__(self, local_dim, global_dim,\n",
    "               start_offset=0, end_offset=0,\n",
    "               activation=tf.nn.gelu, dropout_rate=0.1,\n",
    "               n_heads=num_heads):\n",
    "    super(CrossAttentionLayer, self).__init__()\n",
    "    self.local_dim = local_dim\n",
    "    self.global_dim = global_dim\n",
    "    self.dropout_rate = dropout_rate\n",
    "    self.activation = activation\n",
    "    self.start_offset = start_offset\n",
    "    self.end_offset = end_offset\n",
    "    self.num_heads = n_heads\n",
    "    self.layer_norm00 = layers.LayerNormalization()\n",
    "    self.layer_norm01 = layers.LayerNormalization()\n",
    "    self.layer_norm1 = layers.LayerNormalization()\n",
    "    self.ffn = tf.keras.Sequential(\n",
    "          [\n",
    "            layers.Dense(self.local_dim//2, activation=self.activation,\n",
    "                        ),\n",
    "            layers.Dense(self.local_dim,\n",
    "                        activation=self.activation,\n",
    "                        ), ]\n",
    "      )\n",
    "    self.add0 = layers.Add()\n",
    "    self.add1 = layers.Add()\n",
    "    self.attention = layers.MultiHeadAttention(num_heads=self.num_heads,\n",
    "                                               key_dim=self.local_dim,)\n",
    "\n",
    "  def call(self, inputs, training):\n",
    "    local_repr = self.layer_norm00(inputs[0])\n",
    "    global_repr = self.layer_norm01(inputs[1])\n",
    "    query = local_repr[:, self.start_offset:local_repr.shape[1]-self.end_offset, :]\n",
    "    key = global_repr\n",
    "    value = global_repr\n",
    "\n",
    "    # Generate cross-attention outputs: [batch_size, latent_dim, projection_dim].\n",
    "    attention_output = self.attention(\n",
    "        query, key, value\n",
    "    )\n",
    "    # Skip connection 1.\n",
    "    attention_output = self.add0([attention_output, query])\n",
    "\n",
    "    # Apply layer norm.\n",
    "    attention_output = self.layer_norm1(attention_output)\n",
    "    # Apply Feedforward network.\n",
    "    outputs = self.ffn(attention_output)\n",
    "    # Skip connection 2.\n",
    "    outputs = self.add1([outputs, attention_output])\n",
    "    return outputs\n",
    "\n",
    "class MaskedTransformerBlock(layers.Layer):\n",
    "  def __init__(self, embed_dim, num_heads, ff_dim, attention_range, start_offset=0, end_offset=0, attn_block_repeats=1, activation=tf.nn.gelu, dropout_rate=0.1, use_ffn=True):\n",
    "    super(MaskedTransformerBlock, self).__init__()\n",
    "    self.embed_dim = embed_dim\n",
    "    self.num_heads = num_heads\n",
    "    self.ff_dim = ff_dim\n",
    "    self.start_offset = start_offset\n",
    "    self.end_offset = end_offset\n",
    "    self.attention_range = attention_range\n",
    "    self.attn_block_repeats = attn_block_repeats\n",
    "    self.activation = activation\n",
    "    self.dropout_rate = dropout_rate\n",
    "    self.use_ffn = use_ffn\n",
    "    self.att0 = [layers.MultiHeadAttention(num_heads=self.num_heads, key_dim=self.embed_dim) for _ in range(attn_block_repeats)]\n",
    "    if self.use_ffn:\n",
    "      self.ffn = [tf.keras.Sequential(\n",
    "          [\n",
    "            layers.Dense(self.ff_dim, activation=self.activation,\n",
    "                        ),\n",
    "            layers.Dense(self.embed_dim,\n",
    "                        activation=self.activation,\n",
    "                        ), ]\n",
    "      ) for _ in range(attn_block_repeats)]\n",
    "    self.layer_norm0 = [layers.LayerNormalization() for _ in range(attn_block_repeats)]\n",
    "    self.layer_norm1 = [layers.LayerNormalization() for _ in range(attn_block_repeats)]\n",
    "\n",
    "  def build(self, input_shape):\n",
    "    assert(self.end_offset >= 0)\n",
    "    self.feature_size = input_shape[1]\n",
    "    attention_mask = np.zeros((self.feature_size,\n",
    "                               self.feature_size), dtype=bool)\n",
    "    for i in range(self.start_offset, self.feature_size - self.end_offset):\n",
    "      attention_indices = np.arange(max(0, i-self.attention_range), min(self.feature_size, i+self.attention_range))\n",
    "      attention_mask[i, attention_indices] = True\n",
    "    self.attention_mask = tf.constant(attention_mask[self.start_offset:self.feature_size-self.end_offset])\n",
    "\n",
    "  def call(self, inputs, training):\n",
    "\n",
    "    x = inputs\n",
    "    for i in range(self.attn_block_repeats-1):\n",
    "      x = self.layer_norm0[i](x)\n",
    "      attn_output = self.att0[i](x, x)\n",
    "      out1 = x + attn_output\n",
    "      out1 = self.layer_norm1[i](out1)\n",
    "      if self.use_ffn:\n",
    "        ffn_output = self.ffn[i](out1)\n",
    "        x = out1 + ffn_output\n",
    "      else:\n",
    "        x = out1\n",
    "\n",
    "    x = self.layer_norm0[-1](inputs)\n",
    "    attn_output = self.att0[-1](x[:, self.start_offset:x.shape[1]-self.end_offset, :], x,\n",
    "                            )\n",
    "    out1 = x[:, self.start_offset:x.shape[1]-self.end_offset, :] + attn_output\n",
    "    out1 = self.layer_norm1[-1](out1)\n",
    "    if self.use_ffn:\n",
    "      ffn_output = self.ffn[-1](out1)\n",
    "      x = out1 + ffn_output\n",
    "    else:\n",
    "      x = out1\n",
    "    return x\n",
    "\n",
    "class GenoEmbeddings(layers.Layer):\n",
    "  def __init__(self, embedding_dim,\n",
    "               embeddings_initializer='glorot_uniform',\n",
    "               embeddings_regularizer=None,\n",
    "               activity_regularizer=None,\n",
    "               embeddings_constraint=None):\n",
    "    super(GenoEmbeddings, self).__init__()\n",
    "    self.embedding_dim = embedding_dim\n",
    "    self.embeddings_initializer = initializers.get(embeddings_initializer)\n",
    "    self.embeddings_regularizer = regularizers.get(embeddings_regularizer)\n",
    "    self.activity_regularizer = regularizers.get(activity_regularizer)\n",
    "    self.embeddings_constraint = constraints.get(embeddings_constraint)\n",
    "\n",
    "  def build(self, input_shape):\n",
    "    # print(input_shape)\n",
    "\n",
    "    self.num_of_allels = input_shape[-1]\n",
    "    self.n_snps = input_shape[-2]\n",
    "    self.position_embedding = layers.Embedding(\n",
    "            input_dim=self.n_snps, output_dim=self.embedding_dim\n",
    "        )\n",
    "    self.embedding = self.add_weight(\n",
    "            shape=(self.num_of_allels, self.embedding_dim),\n",
    "            initializer=self.embeddings_initializer,\n",
    "            trainable=True, name='geno_embeddings',\n",
    "            regularizer=self.embeddings_regularizer,\n",
    "            constraint=self.embeddings_constraint,\n",
    "            experimental_autocast=False\n",
    "        )\n",
    "    self.positions = tf.range(start=0, limit=self.n_snps, delta=1)\n",
    "  def call(self, inputs):\n",
    "    self.immediate_result = tf.einsum('ijk,kl->ijl', inputs, self.embedding)\n",
    "    return self.immediate_result + self.position_embedding(self.positions)\n",
    "\n",
    "\n",
    "class Chunker(layers.Layer):\n",
    "  def __init__(self, embed_dim, num_heads, ff_dim, chk_size=chunk_size,\n",
    "               activation=tf.nn.gelu, dropout_rate=0.25, attn_block_repeats=1,\n",
    "               attention_range=attention_range, include_embedding_layer=False):\n",
    "    super(Chunker, self).__init__()\n",
    "    self.concat = layers.Concatenate(axis=-2)\n",
    "    self.chunk_size = chk_size\n",
    "    self.embed_dim = embed_dim\n",
    "    self.num_heads = num_heads\n",
    "    self.ff_dim = ff_dim\n",
    "    self.activation = activation\n",
    "    self.dropout_rate = dropout_rate\n",
    "    self.attention_range = attention_range\n",
    "    self.attn_block_repeats = attn_block_repeats\n",
    "    self.include_embedding_layer = include_embedding_layer\n",
    "\n",
    "  def build(self, input_shape):\n",
    "    self.chunk_starts = list(range(0, input_shape[1], self.chunk_size))\n",
    "    self.chunk_ends = []\n",
    "    for cs in self.chunk_starts:\n",
    "      self.chunk_ends.append(min(cs+self.chunk_size, input_shape[1]))\n",
    "    self.mask_starts = [max(0, cs-self.attention_range) for cs in self.chunk_starts]\n",
    "    self.mask_ends = [min(ce+self.attention_range, input_shape[1]) for ce in self.chunk_ends]\n",
    "    self.chunkers = [SelfAttnChunk(self.embed_dim, self.num_heads, self.ff_dim,\n",
    "                           attention_range,\n",
    "                           include_embedding_layer=self.include_embedding_layer,\n",
    "                           start_offset=cs - self.mask_starts[i],\n",
    "                            end_offset=self.mask_ends[i]-self.chunk_ends[i],\n",
    "                           attn_block_repeats=self.attn_block_repeats) for i, cs in enumerate(self.chunk_starts)]\n",
    "\n",
    "  def call(self, inputs, training):\n",
    "    x = inputs\n",
    "    chunks = [chunker(x[:, self.mask_starts[i]:self.mask_ends[i]]) for i, chunker in enumerate(self.chunkers)]\n",
    "    y = self.concat(chunks)\n",
    "    return y\n",
    "\n",
    "\n",
    "class SelfAttnChunk(layers.Layer):\n",
    "  def __init__(self, embed_dim, num_heads, ff_dim, attention_range,\n",
    "               start_offset=0, end_offset=0,\n",
    "               attn_block_repeats=1,\n",
    "               include_embedding_layer=False):\n",
    "    super(SelfAttnChunk, self).__init__()\n",
    "    self.attention_range = attention_range\n",
    "    self.ff_dim = ff_dim\n",
    "    self.num_heads = num_heads\n",
    "    self.embed_dim = embed_dim\n",
    "    self.attn_block_repeats = attn_block_repeats\n",
    "    self.include_embedding_layer = include_embedding_layer\n",
    "\n",
    "    self.attention_block = MaskedTransformerBlock(self.embed_dim,\n",
    "                                                   self.num_heads, self.ff_dim,\n",
    "                                                   attention_range, start_offset,\n",
    "                                                   end_offset, attn_block_repeats=1)\n",
    "    if include_embedding_layer:\n",
    "      self.embedding = GenoEmbeddings(embed_dim)\n",
    "\n",
    "\n",
    "  def build(self, input_shape):\n",
    "    pass\n",
    "\n",
    "  def call(self, inputs, training):\n",
    "    if self.include_embedding_layer:\n",
    "      x = self.embedding(inputs)\n",
    "    else:\n",
    "      x = inputs\n",
    "    x = self.attention_block(x)\n",
    "    return x\n",
    "\n",
    "class CrossAttnChunk(layers.Layer):\n",
    "  def __init__(self, start_offset=0, end_offset=0, n_heads = num_heads):\n",
    "    super(CrossAttnChunk, self).__init__()\n",
    "    self.attention_range = attention_range\n",
    "    self.start_offset = start_offset\n",
    "    self.end_offset = end_offset\n",
    "    self.n_heads = n_heads\n",
    "\n",
    "\n",
    "  def build(self, input_shape):\n",
    "    self.local_dim = input_shape[0][-1]\n",
    "    self.global_dim = input_shape[1][-1]\n",
    "    self.attention_block = CrossAttentionLayer(self.local_dim, self.global_dim,\n",
    "                                              self.start_offset, self.end_offset,\n",
    "                                              n_heads=self.n_heads)\n",
    "    pass\n",
    "\n",
    "  def call(self, inputs, training):\n",
    "    x = inputs\n",
    "    x = self.attention_block(x)\n",
    "    return x\n"
   ]
  },
  {
   "cell_type": "markdown",
   "metadata": {
    "id": "waFVuh7DMCkM"
   },
   "source": [
    "## Modules"
   ]
  },
  {
   "cell_type": "code",
   "execution_count": 22,
   "metadata": {
    "id": "7FgZf0fOb5yG",
    "executionInfo": {
     "status": "ok",
     "timestamp": 1686920542489,
     "user_tz": 240,
     "elapsed": 4,
     "user": {
      "displayName": "net crowmaster",
      "userId": "14126946344391667924"
     }
    }
   },
   "outputs": [],
   "source": [
    "class ConvBlock(layers.Layer):\n",
    "  def __init__(self, embed_dim):\n",
    "    super(ConvBlock, self).__init__()\n",
    "    self.embed_dim = embed_dim\n",
    "    self.const = None\n",
    "    self.conv000 = layers.Conv1D(embed_dim, 3, padding='same', activation=tf.nn.gelu,\n",
    "                                 kernel_constraint=self.const,\n",
    "                                 kernel_initializer=tf.keras.initializers.variance_scaling,\n",
    "                    )\n",
    "    self.conv010 = layers.Conv1D(embed_dim, 5, padding='same', activation=tf.nn.gelu,\n",
    "                                 kernel_constraint=self.const,\n",
    "                                 kernel_initializer=tf.keras.initializers.variance_scaling,\n",
    "                    )\n",
    "    self.conv011 = layers.Conv1D(embed_dim, 7, padding='same', activation=tf.nn.gelu,\n",
    "                                 kernel_constraint=self.const,\n",
    "                                 kernel_initializer=tf.keras.initializers.variance_scaling,\n",
    "                    )\n",
    "\n",
    "    self.conv020 = layers.Conv1D(embed_dim, 7, padding='same', activation=tf.nn.gelu,\n",
    "                                 kernel_constraint=self.const,\n",
    "                                 kernel_initializer=tf.keras.initializers.variance_scaling,\n",
    "                    )\n",
    "    self.conv021 = layers.Conv1D(embed_dim, 15, padding='same', activation=tf.nn.gelu,\n",
    "                                 kernel_constraint=self.const,\n",
    "                                 kernel_initializer=tf.keras.initializers.variance_scaling,\n",
    "                    )\n",
    "    self.add = layers.Add()\n",
    "\n",
    "    self.conv100 = layers.Conv1D(embed_dim, 3, padding='same',\n",
    "                                 activation=tf.nn.gelu,\n",
    "                                 kernel_constraint=self.const,\n",
    "                                 kernel_initializer=tf.keras.initializers.variance_scaling,)\n",
    "    self.bn0 = layers.BatchNormalization()\n",
    "    self.bn1 = layers.BatchNormalization()\n",
    "    self.dw_conv = layers.DepthwiseConv1D(embed_dim, 1, padding='same',\n",
    "                                 kernel_initializer=tf.keras.initializers.variance_scaling,)\n",
    "    self.activation = layers.Activation(tf.nn.gelu)\n",
    "\n",
    "\n",
    "  def call(self, inputs, training):\n",
    "    xa = self.conv000(inputs)\n",
    "\n",
    "    xb = self.conv010(xa)\n",
    "    xb = self.conv011(xb)\n",
    "\n",
    "    xc = self.conv020(xa)\n",
    "    xc = self.conv021(xc)\n",
    "\n",
    "    xa = self.add([xb, xc])\n",
    "    xa = self.conv100(xa)\n",
    "    xa = self.bn0(xa)\n",
    "    xa = self.dw_conv(xa)\n",
    "    xa = self.bn1(xa)\n",
    "    xa = self.activation(xa)\n",
    "    return xa\n",
    "\n",
    "def chunk_module(embed_dim, num_heads, input_len, input_channels, attention_range,\n",
    "               start_offset=0, end_offset=0,\n",
    "               attn_block_repeats=1, include_embedding=False):\n",
    "  projection_dim = embed_dim\n",
    "  inputs = layers.Input(shape=(input_len, embed_dim))\n",
    "  xa = inputs\n",
    "  xa0 = SelfAttnChunk(projection_dim, num_heads, projection_dim//2, attention_range,\n",
    "            start_offset, end_offset, 1, include_embedding_layer=False)(xa)\n",
    "\n",
    "  xa = ConvBlock(projection_dim)(xa0)\n",
    "  xa_skip = ConvBlock(projection_dim)(xa)\n",
    "\n",
    "  xa = layers.Dense(projection_dim, activation=tf.nn.gelu)(xa)\n",
    "  xa = ConvBlock(projection_dim)(xa)\n",
    "  xa = CrossAttnChunk(0, 0)([xa, xa0])\n",
    "  xa = layers.Dropout(0.25)(xa)\n",
    "  xa = ConvBlock(projection_dim)(xa)\n",
    "\n",
    "  xa = layers.Concatenate(axis=-1)([xa_skip, xa])\n",
    "\n",
    "  xa = layers.Conv1D(projection_dim//2, 5, padding='same', activation=tf.nn.gelu,\n",
    "                                 kernel_initializer=tf.keras.initializers.variance_scaling,)(xa)\n",
    "\n",
    "  xa_out1 = layers.Conv1D(inChannel - 1, 5, padding='same',\n",
    "                          kernel_initializer=tf.keras.initializers.glorot_normal,\n",
    "                          activation=tf.nn.softmax)(xa)\n",
    "\n",
    "  model = keras.Model(inputs=inputs, outputs=xa_out1)\n",
    "  return model"
   ]
  },
  {
   "cell_type": "code",
   "execution_count": 23,
   "metadata": {
    "colab": {
     "base_uri": "https://localhost:8080/",
     "height": 1000
    },
    "executionInfo": {
     "elapsed": 3495,
     "status": "ok",
     "timestamp": 1686920545981,
     "user": {
      "displayName": "net crowmaster",
      "userId": "14126946344391667924"
     },
     "user_tz": 240
    },
    "id": "VIpx08HJcs-G",
    "outputId": "7e4f1644-7767-4f4d-e824-1f82d697c95e"
   },
   "outputs": [
    {
     "output_type": "execute_result",
     "data": {
      "image/png": "[encoded data removed]",
      "text/plain": [
       "<IPython.core.display.Image object>"
      ]
     },
     "metadata": {},
     "execution_count": 23
    }
   ],
   "source": [
    "temp_model = chunk_module(128, 1,500, 3,300,)\n",
    "temp_model.build((2, 500, 3))\n",
    "\n",
    "tf.keras.utils.plot_model(temp_model, show_shapes=True,\n",
    "                                        expand_nested=True)"
   ]
  },
  {
   "cell_type": "code",
   "execution_count": 24,
   "metadata": {
    "colab": {
     "base_uri": "https://localhost:8080/"
    },
    "executionInfo": {
     "elapsed": 186,
     "status": "ok",
     "timestamp": 1686920546162,
     "user": {
      "displayName": "net crowmaster",
      "userId": "14126946344391667924"
     },
     "user_tz": 240
    },
    "id": "sD7WOyyoNYGv",
    "outputId": "3e601171-caa3-4bbb-adfe-5f0570ad8218"
   },
   "outputs": [
    {
     "output_type": "execute_result",
     "data": {
      "text/plain": [
       "26"
      ]
     },
     "metadata": {},
     "execution_count": 24
    }
   ],
   "source": [
    "num_classes = len(np.unique(Y_train))\n",
    "num_classes"
   ]
  },
  {
   "cell_type": "markdown",
   "metadata": {
    "id": "OCkow4q5MJk_"
   },
   "source": [
    "## Model"
   ]
  },
  {
   "cell_type": "code",
   "execution_count": 25,
   "metadata": {
    "id": "vgGz9_6u8u-O",
    "executionInfo": {
     "status": "ok",
     "timestamp": 1686920546163,
     "user_tz": 240,
     "elapsed": 3,
     "user": {
      "displayName": "net crowmaster",
      "userId": "14126946344391667924"
     }
    }
   },
   "outputs": [],
   "source": [
    "class SplitTransformer(tf.keras.Model):\n",
    "  def __init__(\n",
    "      self,\n",
    "      embed_dim,\n",
    "      num_heads,\n",
    "      chunk_size=chunk_size,\n",
    "      activation=tf.nn.gelu,\n",
    "      dropout_rate=0.25,\n",
    "      attn_block_repeats=1,\n",
    "      attention_range=attention_range):\n",
    "    super(SplitTransformer, self).__init__()\n",
    "    self.embed_dim = embed_dim\n",
    "    self.num_heads = num_heads\n",
    "    self.chunk_size = chunk_size\n",
    "    self.activation = activation\n",
    "    self.dropout_rate = dropout_rate\n",
    "    self.attn_block_repeats = attn_block_repeats\n",
    "    self.attention_range = attention_range\n",
    "\n",
    "\n",
    "    # self.latent_dim = latent_dim\n",
    "\n",
    "  def build(self, input_shape):\n",
    "    self.chunk_starts = list(range(0, input_shape[1], self.chunk_size))\n",
    "    self.chunk_ends = []\n",
    "    for cs in self.chunk_starts:\n",
    "      self.chunk_ends.append(min(cs+self.chunk_size, input_shape[1]))\n",
    "    self.mask_starts = [max(0, cs-self.attention_range) for cs in self.chunk_starts]\n",
    "    self.mask_ends = [min(ce+self.attention_range, input_shape[1]) for ce in self.chunk_ends]\n",
    "    self.chunkers = [chunk_module(self.embed_dim, self.num_heads,\n",
    "                                  self.mask_ends[i] - self.mask_starts[i],\n",
    "                                  inChannel, self.attention_range,\n",
    "                                  start_offset=cs - self.mask_starts[i],\n",
    "                                  end_offset=self.mask_ends[i]-self.chunk_ends[i],\n",
    "                                  attn_block_repeats=1, include_embedding=True) for i,cs in enumerate(self.chunk_starts)]\n",
    "\n",
    "    self.concat_layer = layers.Concatenate(axis=-2)\n",
    "    self.embedding = GenoEmbeddings(self.embed_dim)\n",
    "    super(SplitTransformer, self).build(input_shape)\n",
    "\n",
    "\n",
    "  def call(self, inputs):\n",
    "    x = self.embedding(inputs)\n",
    "    chunks = [self.chunkers[i](x[:, self.mask_starts[i]:self.mask_ends[i]]) for i, chunker in enumerate(self.chunkers)]\n",
    "    y = self.concat_layer(chunks)\n",
    "    return y\n"
   ]
  },
  {
   "cell_type": "code",
   "execution_count": 26,
   "metadata": {
    "id": "SYTe_AR_UuCs",
    "executionInfo": {
     "status": "ok",
     "timestamp": 1686920546163,
     "user_tz": 240,
     "elapsed": 3,
     "user": {
      "displayName": "net crowmaster",
      "userId": "14126946344391667924"
     }
    }
   },
   "outputs": [],
   "source": [
    "class MyCustomLoss(tf.keras.losses.Loss):\n",
    "\n",
    "  def call(self, y_true, y_pred):\n",
    "    y_pred = tf.convert_to_tensor(y_pred)\n",
    "    y_true = tf.cast(y_true, y_pred.dtype)\n",
    "\n",
    "    loss_obj = tf.keras.losses.CategoricalCrossentropy(reduction=tf.keras.losses.Reduction.SUM)\n",
    "    cat_loss = loss_obj(y_true, y_pred)\n",
    "\n",
    "    loss_obj = tf.keras.losses.KLDivergence(reduction=tf.keras.losses.Reduction.SUM)\n",
    "    kl_loss = loss_obj(y_true, y_pred)\n",
    "\n",
    "    return cat_loss + kl_loss"
   ]
  },
  {
   "cell_type": "code",
   "execution_count": 27,
   "metadata": {
    "id": "61EgnuNmoFLT",
    "executionInfo": {
     "status": "ok",
     "timestamp": 1686920546164,
     "user_tz": 240,
     "elapsed": 4,
     "user": {
      "displayName": "net crowmaster",
      "userId": "14126946344391667924"
     }
    }
   },
   "outputs": [],
   "source": [
    "METRIC = \"val_loss\"\n",
    "\n",
    "def create_callbacks(kfold=0, metric = METRIC):\n",
    "\n",
    "    reducelr = tf.keras.callbacks.ReduceLROnPlateau(\n",
    "        monitor= metric,\n",
    "        mode='auto',\n",
    "        factor=0.2,\n",
    "        patience=3,\n",
    "        verbose=0\n",
    "    )\n",
    "\n",
    "    earlystop = tf.keras.callbacks.EarlyStopping(\n",
    "        monitor= metric,\n",
    "        mode='auto',\n",
    "        patience= 20,\n",
    "        verbose=1,\n",
    "        restore_best_weights=True\n",
    "    )\n",
    "\n",
    "    callbacks = [\n",
    "                 reducelr,\n",
    "                 earlystop]\n",
    "\n",
    "    return callbacks"
   ]
  },
  {
   "cell_type": "code",
   "execution_count": 28,
   "metadata": {
    "id": "bWFbNNF4i4HD",
    "executionInfo": {
     "status": "ok",
     "timestamp": 1686920546164,
     "user_tz": 240,
     "elapsed": 3,
     "user": {
      "displayName": "net crowmaster",
      "userId": "14126946344391667924"
     }
    }
   },
   "outputs": [],
   "source": [
    "def create_model():\n",
    "  model =  SplitTransformer(embed_dim=256,\n",
    "      num_heads=40,\n",
    "      attn_block_repeats=1,\n",
    "      chunk_size=X.shape[1],\n",
    "      activation=\"gelu\",\n",
    "      attention_range=attention_range\n",
    ")\n",
    "  optimizer = tfa.optimizers.LAMB(learning_rate=learning_rate)\n",
    "  model.compile(optimizer, loss=MyCustomLoss(), metrics=tf.keras.metrics.CategoricalAccuracy())\n",
    "  return model\n"
   ]
  },
  {
   "cell_type": "code",
   "source": [
    "temp_model = create_model()\n",
    "temp_model.build((1, X.shape[1], inChannel))\n",
    "temp_model.summary()"
   ],
   "metadata": {
    "colab": {
     "base_uri": "https://localhost:8080/"
    },
    "id": "-D8GM9EKgmcP",
    "executionInfo": {
     "status": "ok",
     "timestamp": 1686920548410,
     "user_tz": 240,
     "elapsed": 2249,
     "user": {
      "displayName": "net crowmaster",
      "userId": "14126946344391667924"
     }
    },
    "outputId": "0c6a5757-3f46-42d6-d090-7f2e120dbca5"
   },
   "execution_count": 29,
   "outputs": [
    {
     "output_type": "stream",
     "name": "stdout",
     "text": [
      "Model: \"split_transformer\"\n",
      "_________________________________________________________________\n",
      " Layer (type)                Output Shape              Param #   \n",
      "=================================================================\n",
      " model_1 (Functional)        (None, 848, 6)            23915398  \n",
      "                                                                 \n",
      " concatenate_2 (Concatenate)  multiple                 0         \n",
      "                                                                 \n",
      " geno_embeddings (GenoEmbedd  multiple                 218880    \n",
      " ings)                                                           \n",
      "                                                                 \n",
      "=================================================================\n",
      "Total params: 24,134,278\n",
      "Trainable params: 24,130,182\n",
      "Non-trainable params: 4,096\n",
      "_________________________________________________________________\n"
     ]
    }
   ]
  },
  {
   "cell_type": "code",
   "execution_count": 30,
   "metadata": {
    "colab": {
     "base_uri": "https://localhost:8080/"
    },
    "executionInfo": {
     "elapsed": 4,
     "status": "ok",
     "timestamp": 1686920548410,
     "user": {
      "displayName": "net crowmaster",
      "userId": "14126946344391667924"
     },
     "user_tz": 240
    },
    "id": "5CVnIE7HK63r",
    "outputId": "90609d71-5c3e-4bc0-b857-031d015698ca"
   },
   "outputs": [
    {
     "output_type": "execute_result",
     "data": {
      "text/plain": [
       "array(['ACB', 'ASW', 'BEB', 'CDX', 'CEU', 'CHB', 'CHS', 'CLM', 'ESN',\n",
       "       'FIN', 'GBR', 'GIH', 'GWD', 'IBS', 'ITU', 'JPT', 'KHV', 'LWK',\n",
       "       'MSL', 'MXL', 'PEL', 'PJL', 'PUR', 'STU', 'TSI', 'YRI'],\n",
       "      dtype=object)"
      ]
     },
     "metadata": {},
     "execution_count": 30
    }
   ],
   "source": [
    "np.unique(Y_train.values)"
   ]
  },
  {
   "cell_type": "markdown",
   "metadata": {
    "id": "TOA_NexzN5Qq"
   },
   "source": [
    "## Training"
   ]
  },
  {
   "cell_type": "code",
   "source": [
    "save_dir = \"[save_dir]/\"\n",
    "\n",
    "if not os.path.exists(save_dir):\n",
    "  # shutil.rmtree(save_dir)\n",
    "  os.makedirs(save_dir)"
   ],
   "metadata": {
    "id": "VYci2t-apYbZ",
    "executionInfo": {
     "status": "ok",
     "timestamp": 1686920548857,
     "user_tz": 240,
     "elapsed": 449,
     "user": {
      "displayName": "net crowmaster",
      "userId": "14126946344391667924"
     }
    }
   },
   "execution_count": 31,
   "outputs": []
  },
  {
   "cell_type": "code",
   "execution_count": 32,
   "metadata": {
    "colab": {
     "base_uri": "https://localhost:8080/"
    },
    "executionInfo": {
     "elapsed": 6,
     "status": "ok",
     "timestamp": 1686920548858,
     "user": {
      "displayName": "net crowmaster",
      "userId": "14126946344391667924"
     },
     "user_tz": 240
    },
    "id": "Ey5lpPElXlUd",
    "outputId": "0474f4fd-2464-458a-ef92-f39d278f708b"
   },
   "outputs": [
    {
     "output_type": "execute_result",
     "data": {
      "text/plain": [
       "16"
      ]
     },
     "metadata": {},
     "execution_count": 32
    }
   ],
   "source": [
    "# A TPU V3-8 has 8 computing cores, the global batch size will be 1/16 x 8 = 8/128\n",
    "BATCH_SIZE_BASE = 2\n",
    "# Training configuration\n",
    "BATCH_SIZE = BATCH_SIZE_BASE * N_REPLICAS if TPU else 5\n",
    "BATCH_SIZE"
   ]
  },
  {
   "cell_type": "code",
   "source": [
    "# With constraint\n",
    "missing_perc = 0.1\n",
    "N_SPLITS=3\n",
    "NUM_EPOCHS = 1000\n",
    "accuracies = []\n",
    "results = None\n",
    "kf = KFold(n_splits=N_SPLITS, shuffle=True, random_state=2022)\n",
    "fold = 0\n",
    "_x = X[X.index.isin(Y_train.index)].to_numpy()\n",
    "_y = Y_train.to_numpy()\n",
    "for train_index, test_index in kf.split(_x):\n",
    "  fold += 1\n",
    "\n",
    "  print(f\"Training using fold {fold}\")\n",
    "  x_train, y_train, test_dataset, test_indices = _x[train_index], _y[train_index], (_x[test_index], _y[test_index]),Y_train.index[test_index]\n",
    "  x_train, x_valid, y_train, y_valid = train_test_split(x_train, y_train, test_size=0.10,\n",
    "                                      random_state=fold,\n",
    "                                      shuffle=True)\n",
    "\n",
    "  steps_per_epoch = 2*x_train.shape[0]//BATCH_SIZE\n",
    "  validation_steps = 2*x_valid.shape[0]//BATCH_SIZE\n",
    "  train_dataset = get_dataset(x_train, 0, feature_size, 0, 0, BATCH_SIZE)\n",
    "  valid_dataset = get_dataset(x_valid, 0, feature_size, 0, 0, BATCH_SIZE, training=False)\n",
    "\n",
    "  K.clear_session()\n",
    "  callbacks = create_callbacks()\n",
    "  with strategy.scope():\n",
    "    model = create_model()\n",
    "    history = model.fit(train_dataset, steps_per_epoch=steps_per_epoch, epochs=NUM_EPOCHS,\n",
    "            validation_data=valid_dataset,\n",
    "            validation_steps=validation_steps,\n",
    "            callbacks=callbacks, verbose=1)\n",
    "  for missing_perc in [\n",
    "                         0.05,\n",
    "                         0.1,\n",
    "                         0.2\n",
    "                         ]:\n",
    "    save_name = save_dir + f\"preds_mixed_mr_{missing_perc}_fold_{fold}_probs\"\n",
    "    avg_accuracy = []\n",
    "    preds = []\n",
    "    true_labels = []\n",
    "\n",
    "    # to_save_array = np.zeros((test_dataset[0].shape[0], test_dataset[0].shape[1]), dtype=object)\n",
    "    test_X_missing = np.empty((test_dataset[0].shape[0] * 2, test_dataset[0].shape[1]), dtype=test_dataset[0].dtype)\n",
    "    map_values_1_vec = np.vectorize(map_values_1)\n",
    "    map_values_2_vec = np.vectorize(map_values_2)\n",
    "    test_X_missing[0::2] = map_values_1_vec(test_dataset[0])\n",
    "    test_X_missing[1::2] = map_values_2_vec(test_dataset[0])\n",
    "    test_X_missing = to_categorical(test_X_missing, inChannel)\n",
    "\n",
    "\n",
    "    for i in tqdm(range(test_dataset[0].shape[0])):\n",
    "      missing_index, _ = train_test_split(np.arange(x_train.shape[1]), train_size=missing_perc,\n",
    "                                    random_state=i + fold,\n",
    "                                    shuffle=True,\n",
    "                                    stratify=bin_labels\n",
    "                                    )\n",
    "      test_X_missing[i*2:i*2+2, missing_index, :] = MISSING_VALUE\n",
    "      # predict\n",
    "    predict_onehots = model.predict(test_X_missing, verbose=0)\n",
    "    to_save_array = np.copy(predict_onehots)\n",
    "    for i in tqdm(range(test_dataset[0].shape[0])):\n",
    "      missing_index, _ = train_test_split(np.arange(x_train.shape[1]), train_size=missing_perc,\n",
    "                                    random_state=i + fold,\n",
    "                                    shuffle=True,\n",
    "                                    stratify=bin_labels\n",
    "                                    )\n",
    "      # only care the missing position\n",
    "      predict_missing_onehot = predict_onehots[i*2:(i+1)*2, missing_index, :]\n",
    "      # predict label\n",
    "      predict_missing = np.argmax(predict_missing_onehot, axis=2)\n",
    "      predict_missing_final = np.zeros((1, predict_missing.shape[1]))\n",
    "      for j in range(predict_missing.shape[1]):\n",
    "        predict_missing_final[:, j] = replacement_dict['|'.join([str(o) for o in predict_missing[:, j].tolist()])]\n",
    "      preds.extend(predict_missing_final.ravel().tolist())\n",
    "\n",
    "      predict_haplotypes = np.argmax(predict_onehots[i*2:(i+1)*2,], axis=2)\n",
    "      # for j in range(predict_onehots.shape[1]):\n",
    "      #   to_save_array[i, j] = '|'.join([str(o) for o in predict_haplotypes[:, j].tolist()])\n",
    "      # real label\n",
    "      label_missing_onehot = test_dataset[0][i:i + 1, missing_index]\n",
    "      # label_missing = np.argmax(label_missing_onehot, axis=2)\n",
    "      label_missing = test_dataset[0][i:i + 1, missing_index]\n",
    "      true_labels.extend(label_missing.ravel().tolist())\n",
    "      # accuracy\n",
    "      correct_prediction = np.equal(predict_missing_final, label_missing)\n",
    "      accuracy = np.mean(correct_prediction)\n",
    "\n",
    "      avg_accuracy.append(accuracy)\n",
    "\n",
    "    # df = pd.DataFrame(to_save_array, columns= headers[:], index = Y_train.index[test_index])\n",
    "    # df.to_csv(save_name)\n",
    "    np.save(save_name, to_save_array)\n",
    "    print('The average imputation accuracy ' \\\n",
    "          'on test data with {} missing genotypes is {:.4f}: '\n",
    "        .format(missing_perc, np.mean(avg_accuracy)))\n",
    "    cnf_matrix = confusion_matrix(true_labels, preds)\n",
    "    FP = cnf_matrix.sum(axis=0) - np.diag(cnf_matrix)\n",
    "    FN = cnf_matrix.sum(axis=1) - np.diag(cnf_matrix)\n",
    "    TP = np.diag(cnf_matrix)\n",
    "    TN = cnf_matrix.sum() - (FP + FN + TP)\n",
    "    FP = FP.astype(float)\n",
    "    FN = FN.astype(float)\n",
    "    TP = TP.astype(float)\n",
    "    TN = TN.astype(float)\n",
    "    # Sensitivity, hit rate, recall, or true positive rate\n",
    "    TPR = TP/(TP+FN)\n",
    "    # Specificity or true negative rate\n",
    "    TNR = TN/(TN+FP)\n",
    "    print(f\"Sensitivity: {np.mean(TPR)}\")\n",
    "    print(f\"Specificity: {np.mean(TNR)}\")\n",
    "    print(f\"F1-score macro: {f1_score(true_labels, preds, average='macro')}\")\n",
    "    print(f\"F1-score micro: {f1_score(true_labels, preds, average='micro')}\")\n",
    "    accuracies.append(np.mean(avg_accuracy))\n",
    "  print(f\"=====================================\")\n",
    "\n",
    "\n"
   ],
   "metadata": {
    "id": "Gq5VWuKWVZVx",
    "colab": {
     "base_uri": "https://localhost:8080/"
    },
    "executionInfo": {
     "status": "ok",
     "timestamp": 1686923698126,
     "user_tz": 240,
     "elapsed": 3149271,
     "user": {
      "displayName": "net crowmaster",
      "userId": "14126946344391667924"
     }
    },
    "outputId": "45946ade-5def-4578-dd81-223ad1d7260f"
   },
   "execution_count": 33,
   "outputs": [
    {
     "output_type": "stream",
     "name": "stdout",
     "text": [
      "Training using fold 1\n",
      "Epoch 1/1000\n",
      "187/187 [==============================] - 120s 134ms/step - loss: 516.3502 - categorical_accuracy: 0.9667 - val_loss: 4331.6162 - val_categorical_accuracy: 0.9698 - lr: 0.0010\n",
      "Epoch 2/1000\n",
      "187/187 [==============================] - 16s 85ms/step - loss: 127.8125 - categorical_accuracy: 0.9860 - val_loss: 550.4965 - val_categorical_accuracy: 0.9698 - lr: 0.0010\n",
      "Epoch 3/1000\n",
      "187/187 [==============================] - 16s 87ms/step - loss: 120.9048 - categorical_accuracy: 0.9865 - val_loss: 154.5926 - val_categorical_accuracy: 0.9862 - lr: 0.0010\n",
      "Epoch 4/1000\n",
      "187/187 [==============================] - 16s 85ms/step - loss: 118.4195 - categorical_accuracy: 0.9866 - val_loss: 124.9980 - val_categorical_accuracy: 0.9864 - lr: 0.0010\n",
      "Epoch 5/1000\n",
      "187/187 [==============================] - 16s 85ms/step - loss: 115.0297 - categorical_accuracy: 0.9869 - val_loss: 116.5061 - val_categorical_accuracy: 0.9867 - lr: 0.0010\n",
      "Epoch 6/1000\n",
      "187/187 [==============================] - 15s 81ms/step - loss: 113.1184 - categorical_accuracy: 0.9870 - val_loss: 118.3532 - val_categorical_accuracy: 0.9868 - lr: 0.0010\n",
      "Epoch 7/1000\n",
      "187/187 [==============================] - 15s 81ms/step - loss: 111.4932 - categorical_accuracy: 0.9872 - val_loss: 119.1792 - val_categorical_accuracy: 0.9867 - lr: 0.0010\n",
      "Epoch 8/1000\n",
      "187/187 [==============================] - 16s 86ms/step - loss: 110.6815 - categorical_accuracy: 0.9871 - val_loss: 112.1446 - val_categorical_accuracy: 0.9870 - lr: 0.0010\n",
      "Epoch 9/1000\n",
      "187/187 [==============================] - 16s 85ms/step - loss: 109.3856 - categorical_accuracy: 0.9874 - val_loss: 111.7207 - val_categorical_accuracy: 0.9872 - lr: 0.0010\n",
      "Epoch 10/1000\n",
      "187/187 [==============================] - 16s 84ms/step - loss: 109.4954 - categorical_accuracy: 0.9872 - val_loss: 111.2274 - val_categorical_accuracy: 0.9870 - lr: 0.0010\n",
      "Epoch 11/1000\n",
      "187/187 [==============================] - 16s 84ms/step - loss: 107.8261 - categorical_accuracy: 0.9874 - val_loss: 111.2183 - val_categorical_accuracy: 0.9874 - lr: 0.0010\n",
      "Epoch 12/1000\n",
      "187/187 [==============================] - 16s 85ms/step - loss: 108.6391 - categorical_accuracy: 0.9874 - val_loss: 110.5388 - val_categorical_accuracy: 0.9873 - lr: 0.0010\n",
      "Epoch 13/1000\n",
      "187/187 [==============================] - 15s 82ms/step - loss: 106.9524 - categorical_accuracy: 0.9875 - val_loss: 112.4388 - val_categorical_accuracy: 0.9870 - lr: 0.0010\n",
      "Epoch 14/1000\n",
      "187/187 [==============================] - 16s 86ms/step - loss: 106.6884 - categorical_accuracy: 0.9875 - val_loss: 110.1697 - val_categorical_accuracy: 0.9869 - lr: 0.0010\n",
      "Epoch 15/1000\n",
      "187/187 [==============================] - 16s 86ms/step - loss: 106.1525 - categorical_accuracy: 0.9875 - val_loss: 110.1178 - val_categorical_accuracy: 0.9872 - lr: 0.0010\n",
      "Epoch 16/1000\n",
      "187/187 [==============================] - 16s 83ms/step - loss: 106.1485 - categorical_accuracy: 0.9875 - val_loss: 111.0719 - val_categorical_accuracy: 0.9871 - lr: 0.0010\n",
      "Epoch 17/1000\n",
      "187/187 [==============================] - 16s 87ms/step - loss: 104.3719 - categorical_accuracy: 0.9877 - val_loss: 108.6112 - val_categorical_accuracy: 0.9871 - lr: 0.0010\n",
      "Epoch 18/1000\n",
      "187/187 [==============================] - 16s 83ms/step - loss: 105.1069 - categorical_accuracy: 0.9875 - val_loss: 109.7803 - val_categorical_accuracy: 0.9872 - lr: 0.0010\n",
      "Epoch 19/1000\n",
      "187/187 [==============================] - 16s 86ms/step - loss: 104.6405 - categorical_accuracy: 0.9875 - val_loss: 109.3668 - val_categorical_accuracy: 0.9874 - lr: 0.0010\n",
      "Epoch 20/1000\n",
      "187/187 [==============================] - 16s 84ms/step - loss: 103.7754 - categorical_accuracy: 0.9876 - val_loss: 108.5802 - val_categorical_accuracy: 0.9873 - lr: 0.0010\n",
      "Epoch 21/1000\n",
      "187/187 [==============================] - 15s 82ms/step - loss: 102.7114 - categorical_accuracy: 0.9877 - val_loss: 109.0154 - val_categorical_accuracy: 0.9874 - lr: 0.0010\n",
      "Epoch 22/1000\n",
      "187/187 [==============================] - 18s 95ms/step - loss: 102.0612 - categorical_accuracy: 0.9877 - val_loss: 109.0346 - val_categorical_accuracy: 0.9873 - lr: 0.0010\n",
      "Epoch 23/1000\n",
      "187/187 [==============================] - 17s 91ms/step - loss: 101.9692 - categorical_accuracy: 0.9877 - val_loss: 108.5007 - val_categorical_accuracy: 0.9872 - lr: 0.0010\n",
      "Epoch 24/1000\n",
      "187/187 [==============================] - 15s 81ms/step - loss: 101.7123 - categorical_accuracy: 0.9876 - val_loss: 109.2926 - val_categorical_accuracy: 0.9874 - lr: 0.0010\n",
      "Epoch 25/1000\n",
      "187/187 [==============================] - 16s 83ms/step - loss: 101.7917 - categorical_accuracy: 0.9877 - val_loss: 107.5812 - val_categorical_accuracy: 0.9875 - lr: 0.0010\n",
      "Epoch 26/1000\n",
      "187/187 [==============================] - 15s 80ms/step - loss: 101.6252 - categorical_accuracy: 0.9877 - val_loss: 111.0586 - val_categorical_accuracy: 0.9872 - lr: 0.0010\n",
      "Epoch 27/1000\n",
      "187/187 [==============================] - 15s 81ms/step - loss: 100.9676 - categorical_accuracy: 0.9878 - val_loss: 109.5832 - val_categorical_accuracy: 0.9871 - lr: 0.0010\n",
      "Epoch 28/1000\n",
      "187/187 [==============================] - 15s 80ms/step - loss: 101.2972 - categorical_accuracy: 0.9877 - val_loss: 108.8218 - val_categorical_accuracy: 0.9872 - lr: 0.0010\n",
      "Epoch 29/1000\n",
      "187/187 [==============================] - 16s 86ms/step - loss: 97.4314 - categorical_accuracy: 0.9880 - val_loss: 107.3760 - val_categorical_accuracy: 0.9875 - lr: 2.0000e-04\n",
      "Epoch 30/1000\n",
      "187/187 [==============================] - 15s 80ms/step - loss: 95.9585 - categorical_accuracy: 0.9881 - val_loss: 107.5073 - val_categorical_accuracy: 0.9872 - lr: 2.0000e-04\n",
      "Epoch 31/1000\n",
      "187/187 [==============================] - 16s 83ms/step - loss: 96.1195 - categorical_accuracy: 0.9880 - val_loss: 107.2638 - val_categorical_accuracy: 0.9875 - lr: 2.0000e-04\n",
      "Epoch 32/1000\n",
      "187/187 [==============================] - 15s 81ms/step - loss: 95.9532 - categorical_accuracy: 0.9880 - val_loss: 109.0178 - val_categorical_accuracy: 0.9873 - lr: 2.0000e-04\n",
      "Epoch 33/1000\n",
      "187/187 [==============================] - 15s 82ms/step - loss: 96.3007 - categorical_accuracy: 0.9879 - val_loss: 109.8628 - val_categorical_accuracy: 0.9871 - lr: 2.0000e-04\n",
      "Epoch 34/1000\n",
      "187/187 [==============================] - 16s 85ms/step - loss: 95.3880 - categorical_accuracy: 0.9881 - val_loss: 108.6799 - val_categorical_accuracy: 0.9871 - lr: 2.0000e-04\n",
      "Epoch 35/1000\n",
      "187/187 [==============================] - 15s 81ms/step - loss: 94.3848 - categorical_accuracy: 0.9882 - val_loss: 107.3369 - val_categorical_accuracy: 0.9873 - lr: 4.0000e-05\n",
      "Epoch 36/1000\n",
      "187/187 [==============================] - 16s 87ms/step - loss: 94.7687 - categorical_accuracy: 0.9880 - val_loss: 106.7199 - val_categorical_accuracy: 0.9876 - lr: 4.0000e-05\n",
      "Epoch 37/1000\n",
      "187/187 [==============================] - 16s 84ms/step - loss: 94.2193 - categorical_accuracy: 0.9881 - val_loss: 105.6802 - val_categorical_accuracy: 0.9876 - lr: 4.0000e-05\n",
      "Epoch 38/1000\n",
      "187/187 [==============================] - 15s 80ms/step - loss: 94.2234 - categorical_accuracy: 0.9882 - val_loss: 109.5520 - val_categorical_accuracy: 0.9870 - lr: 4.0000e-05\n",
      "Epoch 39/1000\n",
      "187/187 [==============================] - 15s 80ms/step - loss: 94.2618 - categorical_accuracy: 0.9881 - val_loss: 105.7649 - val_categorical_accuracy: 0.9874 - lr: 4.0000e-05\n",
      "Epoch 40/1000\n",
      "187/187 [==============================] - 15s 81ms/step - loss: 94.2476 - categorical_accuracy: 0.9882 - val_loss: 108.4197 - val_categorical_accuracy: 0.9872 - lr: 4.0000e-05\n",
      "Epoch 41/1000\n",
      "187/187 [==============================] - 15s 81ms/step - loss: 94.0205 - categorical_accuracy: 0.9881 - val_loss: 108.3011 - val_categorical_accuracy: 0.9874 - lr: 8.0000e-06\n",
      "Epoch 42/1000\n",
      "187/187 [==============================] - 15s 80ms/step - loss: 93.3899 - categorical_accuracy: 0.9881 - val_loss: 107.0526 - val_categorical_accuracy: 0.9876 - lr: 8.0000e-06\n",
      "Epoch 43/1000\n",
      "187/187 [==============================] - 15s 81ms/step - loss: 93.4798 - categorical_accuracy: 0.9882 - val_loss: 107.1357 - val_categorical_accuracy: 0.9875 - lr: 8.0000e-06\n",
      "Epoch 44/1000\n",
      "187/187 [==============================] - 15s 82ms/step - loss: 94.0647 - categorical_accuracy: 0.9882 - val_loss: 109.6485 - val_categorical_accuracy: 0.9872 - lr: 1.6000e-06\n",
      "Epoch 45/1000\n",
      "187/187 [==============================] - 15s 82ms/step - loss: 93.7455 - categorical_accuracy: 0.9882 - val_loss: 108.6234 - val_categorical_accuracy: 0.9876 - lr: 1.6000e-06\n",
      "Epoch 46/1000\n",
      "187/187 [==============================] - 15s 82ms/step - loss: 93.4613 - categorical_accuracy: 0.9882 - val_loss: 111.1785 - val_categorical_accuracy: 0.9872 - lr: 1.6000e-06\n",
      "Epoch 47/1000\n",
      "187/187 [==============================] - 15s 82ms/step - loss: 93.7694 - categorical_accuracy: 0.9881 - val_loss: 108.6276 - val_categorical_accuracy: 0.9876 - lr: 3.2000e-07\n",
      "Epoch 48/1000\n",
      "187/187 [==============================] - 16s 87ms/step - loss: 93.2431 - categorical_accuracy: 0.9883 - val_loss: 109.3382 - val_categorical_accuracy: 0.9873 - lr: 3.2000e-07\n",
      "Epoch 49/1000\n",
      "187/187 [==============================] - 15s 82ms/step - loss: 94.2439 - categorical_accuracy: 0.9881 - val_loss: 108.6474 - val_categorical_accuracy: 0.9873 - lr: 3.2000e-07\n",
      "Epoch 50/1000\n",
      "187/187 [==============================] - 15s 81ms/step - loss: 93.2586 - categorical_accuracy: 0.9882 - val_loss: 106.0269 - val_categorical_accuracy: 0.9878 - lr: 6.4000e-08\n",
      "Epoch 51/1000\n",
      "187/187 [==============================] - 15s 82ms/step - loss: 93.8471 - categorical_accuracy: 0.9881 - val_loss: 110.8479 - val_categorical_accuracy: 0.9872 - lr: 6.4000e-08\n",
      "Epoch 52/1000\n",
      "187/187 [==============================] - 15s 81ms/step - loss: 93.2675 - categorical_accuracy: 0.9883 - val_loss: 107.9334 - val_categorical_accuracy: 0.9874 - lr: 6.4000e-08\n",
      "Epoch 53/1000\n",
      "187/187 [==============================] - 15s 82ms/step - loss: 93.8218 - categorical_accuracy: 0.9882 - val_loss: 107.8740 - val_categorical_accuracy: 0.9873 - lr: 1.2800e-08\n",
      "Epoch 54/1000\n",
      "187/187 [==============================] - 15s 81ms/step - loss: 93.9720 - categorical_accuracy: 0.9881 - val_loss: 107.9751 - val_categorical_accuracy: 0.9876 - lr: 1.2800e-08\n",
      "Epoch 55/1000\n",
      "187/187 [==============================] - 15s 81ms/step - loss: 93.5054 - categorical_accuracy: 0.9882 - val_loss: 107.4552 - val_categorical_accuracy: 0.9876 - lr: 1.2800e-08\n",
      "Epoch 56/1000\n",
      "187/187 [==============================] - 15s 81ms/step - loss: 94.0606 - categorical_accuracy: 0.9882 - val_loss: 110.1959 - val_categorical_accuracy: 0.9872 - lr: 2.5600e-09\n",
      "Epoch 57/1000\n",
      "187/187 [==============================] - ETA: 0s - loss: 93.2279 - categorical_accuracy: 0.9882Restoring model weights from the end of the best epoch: 37.\n",
      "187/187 [==============================] - 17s 92ms/step - loss: 93.2279 - categorical_accuracy: 0.9882 - val_loss: 108.2043 - val_categorical_accuracy: 0.9873 - lr: 2.5600e-09\n",
      "Epoch 57: early stopping\n"
     ]
    },
    {
     "output_type": "stream",
     "name": "stderr",
     "text": [
      "100%|██████████| 835/835 [00:05<00:00, 164.78it/s]\n",
      "100%|██████████| 835/835 [00:07<00:00, 113.65it/s]\n",
      "<ipython-input-33-4a4cacd1a410>:107: RuntimeWarning: invalid value encountered in divide\n",
      "  TPR = TP/(TP+FN)\n"
     ]
    },
    {
     "output_type": "stream",
     "name": "stdout",
     "text": [
      "The average imputation accuracy on test data with 0.05 missing genotypes is 0.9592: \n",
      "Sensitivity: nan\n",
      "Specificity: 0.9553169910038195\n",
      "F1-score macro: 0.18847871665911659\n",
      "F1-score micro: 0.9591958939264329\n"
     ]
    },
    {
     "output_type": "stream",
     "name": "stderr",
     "text": [
      "100%|██████████| 835/835 [00:04<00:00, 187.59it/s]\n",
      "100%|██████████| 835/835 [00:06<00:00, 123.29it/s]\n"
     ]
    },
    {
     "output_type": "stream",
     "name": "stdout",
     "text": [
      "The average imputation accuracy on test data with 0.1 missing genotypes is 0.9527: \n",
      "Sensitivity: 0.15992283553514194\n",
      "Specificity: 0.9612501543791191\n",
      "F1-score macro: 0.1933559173533989\n",
      "F1-score micro: 0.9527088679783291\n"
     ]
    },
    {
     "output_type": "stream",
     "name": "stderr",
     "text": [
      "100%|██████████| 835/835 [00:04<00:00, 188.12it/s]\n",
      "100%|██████████| 835/835 [00:06<00:00, 130.98it/s]\n"
     ]
    },
    {
     "output_type": "stream",
     "name": "stdout",
     "text": [
      "The average imputation accuracy on test data with 0.2 missing genotypes is 0.9558: \n",
      "Sensitivity: 0.14156275111925865\n",
      "Specificity: 0.9667774381153484\n",
      "F1-score macro: 0.17189233085672936\n",
      "F1-score micro: 0.9557807461999078\n",
      "=====================================\n",
      "Training using fold 2\n",
      "Epoch 1/1000\n",
      "187/187 [==============================] - 120s 133ms/step - loss: 621.0845 - categorical_accuracy: 0.9504 - val_loss: 3860.1121 - val_categorical_accuracy: 0.9706 - lr: 0.0010\n",
      "Epoch 2/1000\n",
      "187/187 [==============================] - 16s 84ms/step - loss: 129.4740 - categorical_accuracy: 0.9859 - val_loss: 480.0195 - val_categorical_accuracy: 0.9706 - lr: 0.0010\n",
      "Epoch 3/1000\n",
      "187/187 [==============================] - 16s 84ms/step - loss: 123.1226 - categorical_accuracy: 0.9862 - val_loss: 138.2408 - val_categorical_accuracy: 0.9863 - lr: 0.0010\n",
      "Epoch 4/1000\n",
      "187/187 [==============================] - 16s 84ms/step - loss: 120.3431 - categorical_accuracy: 0.9865 - val_loss: 128.7173 - val_categorical_accuracy: 0.9869 - lr: 0.0010\n",
      "Epoch 5/1000\n",
      "187/187 [==============================] - 15s 81ms/step - loss: 116.6325 - categorical_accuracy: 0.9867 - val_loss: 162.8800 - val_categorical_accuracy: 0.9862 - lr: 0.0010\n",
      "Epoch 6/1000\n",
      "187/187 [==============================] - 16s 85ms/step - loss: 114.7741 - categorical_accuracy: 0.9869 - val_loss: 122.5339 - val_categorical_accuracy: 0.9866 - lr: 0.0010\n",
      "Epoch 7/1000\n",
      "187/187 [==============================] - 15s 82ms/step - loss: 113.6204 - categorical_accuracy: 0.9869 - val_loss: 123.9991 - val_categorical_accuracy: 0.9870 - lr: 0.0010\n",
      "Epoch 8/1000\n",
      "187/187 [==============================] - 16s 84ms/step - loss: 112.4538 - categorical_accuracy: 0.9870 - val_loss: 108.6031 - val_categorical_accuracy: 0.9877 - lr: 0.0010\n",
      "Epoch 9/1000\n",
      "187/187 [==============================] - 15s 81ms/step - loss: 110.6852 - categorical_accuracy: 0.9872 - val_loss: 111.2874 - val_categorical_accuracy: 0.9874 - lr: 0.0010\n",
      "Epoch 10/1000\n",
      "187/187 [==============================] - 15s 81ms/step - loss: 110.1039 - categorical_accuracy: 0.9872 - val_loss: 110.2141 - val_categorical_accuracy: 0.9873 - lr: 0.0010\n",
      "Epoch 11/1000\n",
      "187/187 [==============================] - 16s 84ms/step - loss: 109.7161 - categorical_accuracy: 0.9872 - val_loss: 108.4679 - val_categorical_accuracy: 0.9874 - lr: 0.0010\n",
      "Epoch 12/1000\n",
      "187/187 [==============================] - 15s 82ms/step - loss: 108.7392 - categorical_accuracy: 0.9874 - val_loss: 108.5265 - val_categorical_accuracy: 0.9875 - lr: 0.0010\n",
      "Epoch 13/1000\n",
      "187/187 [==============================] - 15s 82ms/step - loss: 108.1558 - categorical_accuracy: 0.9873 - val_loss: 109.1087 - val_categorical_accuracy: 0.9876 - lr: 0.0010\n",
      "Epoch 14/1000\n",
      "187/187 [==============================] - 16s 85ms/step - loss: 107.8049 - categorical_accuracy: 0.9873 - val_loss: 107.6358 - val_categorical_accuracy: 0.9875 - lr: 0.0010\n",
      "Epoch 15/1000\n",
      "187/187 [==============================] - 15s 82ms/step - loss: 107.3582 - categorical_accuracy: 0.9873 - val_loss: 113.5621 - val_categorical_accuracy: 0.9873 - lr: 0.0010\n",
      "Epoch 16/1000\n",
      "187/187 [==============================] - 15s 83ms/step - loss: 106.3457 - categorical_accuracy: 0.9875 - val_loss: 113.8795 - val_categorical_accuracy: 0.9872 - lr: 0.0010\n",
      "Epoch 17/1000\n",
      "187/187 [==============================] - 15s 83ms/step - loss: 106.9908 - categorical_accuracy: 0.9873 - val_loss: 108.9113 - val_categorical_accuracy: 0.9873 - lr: 0.0010\n",
      "Epoch 18/1000\n",
      "187/187 [==============================] - 17s 93ms/step - loss: 103.1928 - categorical_accuracy: 0.9875 - val_loss: 104.4403 - val_categorical_accuracy: 0.9879 - lr: 2.0000e-04\n",
      "Epoch 19/1000\n",
      "187/187 [==============================] - 16s 86ms/step - loss: 101.8869 - categorical_accuracy: 0.9877 - val_loss: 103.0543 - val_categorical_accuracy: 0.9878 - lr: 2.0000e-04\n",
      "Epoch 20/1000\n",
      "187/187 [==============================] - 15s 82ms/step - loss: 101.5144 - categorical_accuracy: 0.9877 - val_loss: 105.9966 - val_categorical_accuracy: 0.9877 - lr: 2.0000e-04\n",
      "Epoch 21/1000\n",
      "187/187 [==============================] - 16s 84ms/step - loss: 101.2749 - categorical_accuracy: 0.9876 - val_loss: 102.6896 - val_categorical_accuracy: 0.9879 - lr: 2.0000e-04\n",
      "Epoch 22/1000\n",
      "187/187 [==============================] - 15s 81ms/step - loss: 101.1975 - categorical_accuracy: 0.9877 - val_loss: 106.2035 - val_categorical_accuracy: 0.9877 - lr: 2.0000e-04\n",
      "Epoch 23/1000\n",
      "187/187 [==============================] - 15s 80ms/step - loss: 100.7024 - categorical_accuracy: 0.9877 - val_loss: 106.2277 - val_categorical_accuracy: 0.9873 - lr: 2.0000e-04\n",
      "Epoch 24/1000\n",
      "187/187 [==============================] - 15s 81ms/step - loss: 100.5853 - categorical_accuracy: 0.9877 - val_loss: 105.0791 - val_categorical_accuracy: 0.9878 - lr: 2.0000e-04\n",
      "Epoch 25/1000\n",
      "187/187 [==============================] - 15s 80ms/step - loss: 99.7171 - categorical_accuracy: 0.9878 - val_loss: 106.0153 - val_categorical_accuracy: 0.9875 - lr: 4.0000e-05\n",
      "Epoch 26/1000\n",
      "187/187 [==============================] - 15s 81ms/step - loss: 99.6981 - categorical_accuracy: 0.9878 - val_loss: 104.1532 - val_categorical_accuracy: 0.9878 - lr: 4.0000e-05\n",
      "Epoch 27/1000\n",
      "187/187 [==============================] - 15s 81ms/step - loss: 99.5455 - categorical_accuracy: 0.9878 - val_loss: 105.8465 - val_categorical_accuracy: 0.9877 - lr: 4.0000e-05\n",
      "Epoch 28/1000\n",
      "187/187 [==============================] - 15s 81ms/step - loss: 99.4409 - categorical_accuracy: 0.9878 - val_loss: 104.0133 - val_categorical_accuracy: 0.9878 - lr: 8.0000e-06\n",
      "Epoch 29/1000\n",
      "187/187 [==============================] - 15s 81ms/step - loss: 100.3627 - categorical_accuracy: 0.9877 - val_loss: 104.6955 - val_categorical_accuracy: 0.9876 - lr: 8.0000e-06\n",
      "Epoch 30/1000\n",
      "187/187 [==============================] - 15s 81ms/step - loss: 99.4860 - categorical_accuracy: 0.9878 - val_loss: 105.4738 - val_categorical_accuracy: 0.9877 - lr: 8.0000e-06\n",
      "Epoch 31/1000\n",
      "187/187 [==============================] - 15s 82ms/step - loss: 99.0724 - categorical_accuracy: 0.9878 - val_loss: 104.2181 - val_categorical_accuracy: 0.9878 - lr: 1.6000e-06\n",
      "Epoch 32/1000\n",
      "187/187 [==============================] - 15s 81ms/step - loss: 99.3174 - categorical_accuracy: 0.9878 - val_loss: 103.5204 - val_categorical_accuracy: 0.9877 - lr: 1.6000e-06\n",
      "Epoch 33/1000\n",
      "187/187 [==============================] - 15s 81ms/step - loss: 99.1792 - categorical_accuracy: 0.9878 - val_loss: 105.1746 - val_categorical_accuracy: 0.9877 - lr: 1.6000e-06\n",
      "Epoch 34/1000\n",
      "187/187 [==============================] - 15s 81ms/step - loss: 100.1164 - categorical_accuracy: 0.9877 - val_loss: 106.0304 - val_categorical_accuracy: 0.9877 - lr: 3.2000e-07\n",
      "Epoch 35/1000\n",
      "187/187 [==============================] - 16s 84ms/step - loss: 99.4004 - categorical_accuracy: 0.9877 - val_loss: 102.4993 - val_categorical_accuracy: 0.9878 - lr: 3.2000e-07\n",
      "Epoch 36/1000\n",
      "187/187 [==============================] - 15s 81ms/step - loss: 99.3356 - categorical_accuracy: 0.9877 - val_loss: 104.7798 - val_categorical_accuracy: 0.9875 - lr: 3.2000e-07\n",
      "Epoch 37/1000\n",
      "187/187 [==============================] - 16s 87ms/step - loss: 99.5583 - categorical_accuracy: 0.9878 - val_loss: 103.5854 - val_categorical_accuracy: 0.9878 - lr: 3.2000e-07\n",
      "Epoch 38/1000\n",
      "187/187 [==============================] - 15s 81ms/step - loss: 99.5785 - categorical_accuracy: 0.9877 - val_loss: 102.7015 - val_categorical_accuracy: 0.9880 - lr: 3.2000e-07\n",
      "Epoch 39/1000\n",
      "187/187 [==============================] - 15s 81ms/step - loss: 99.3492 - categorical_accuracy: 0.9878 - val_loss: 105.9031 - val_categorical_accuracy: 0.9878 - lr: 6.4000e-08\n",
      "Epoch 40/1000\n",
      "187/187 [==============================] - 15s 81ms/step - loss: 99.5117 - categorical_accuracy: 0.9878 - val_loss: 105.7209 - val_categorical_accuracy: 0.9875 - lr: 6.4000e-08\n",
      "Epoch 41/1000\n",
      "187/187 [==============================] - 15s 81ms/step - loss: 99.2834 - categorical_accuracy: 0.9878 - val_loss: 104.8402 - val_categorical_accuracy: 0.9875 - lr: 6.4000e-08\n",
      "Epoch 42/1000\n",
      "187/187 [==============================] - 15s 81ms/step - loss: 99.3738 - categorical_accuracy: 0.9878 - val_loss: 104.1423 - val_categorical_accuracy: 0.9877 - lr: 1.2800e-08\n",
      "Epoch 43/1000\n",
      "187/187 [==============================] - 15s 81ms/step - loss: 99.1383 - categorical_accuracy: 0.9878 - val_loss: 103.9568 - val_categorical_accuracy: 0.9878 - lr: 1.2800e-08\n",
      "Epoch 44/1000\n",
      "187/187 [==============================] - 15s 81ms/step - loss: 99.0857 - categorical_accuracy: 0.9878 - val_loss: 103.1109 - val_categorical_accuracy: 0.9878 - lr: 1.2800e-08\n",
      "Epoch 45/1000\n",
      "187/187 [==============================] - 15s 81ms/step - loss: 99.3677 - categorical_accuracy: 0.9878 - val_loss: 103.7473 - val_categorical_accuracy: 0.9876 - lr: 2.5600e-09\n",
      "Epoch 46/1000\n",
      "187/187 [==============================] - 15s 81ms/step - loss: 99.0981 - categorical_accuracy: 0.9878 - val_loss: 104.8620 - val_categorical_accuracy: 0.9875 - lr: 2.5600e-09\n",
      "Epoch 47/1000\n",
      "187/187 [==============================] - 15s 81ms/step - loss: 99.3099 - categorical_accuracy: 0.9878 - val_loss: 104.9106 - val_categorical_accuracy: 0.9877 - lr: 2.5600e-09\n",
      "Epoch 48/1000\n",
      "187/187 [==============================] - 15s 81ms/step - loss: 98.9266 - categorical_accuracy: 0.9878 - val_loss: 105.4053 - val_categorical_accuracy: 0.9876 - lr: 5.1200e-10\n",
      "Epoch 49/1000\n",
      "187/187 [==============================] - 15s 82ms/step - loss: 98.8802 - categorical_accuracy: 0.9879 - val_loss: 103.3296 - val_categorical_accuracy: 0.9880 - lr: 5.1200e-10\n",
      "Epoch 50/1000\n",
      "187/187 [==============================] - 15s 82ms/step - loss: 99.4121 - categorical_accuracy: 0.9878 - val_loss: 103.3758 - val_categorical_accuracy: 0.9877 - lr: 5.1200e-10\n",
      "Epoch 51/1000\n",
      "187/187 [==============================] - 15s 82ms/step - loss: 98.8647 - categorical_accuracy: 0.9878 - val_loss: 105.5802 - val_categorical_accuracy: 0.9877 - lr: 1.0240e-10\n",
      "Epoch 52/1000\n",
      "187/187 [==============================] - 15s 82ms/step - loss: 98.7333 - categorical_accuracy: 0.9878 - val_loss: 103.7841 - val_categorical_accuracy: 0.9876 - lr: 1.0240e-10\n",
      "Epoch 53/1000\n",
      "187/187 [==============================] - 15s 83ms/step - loss: 98.9581 - categorical_accuracy: 0.9879 - val_loss: 105.2942 - val_categorical_accuracy: 0.9875 - lr: 1.0240e-10\n",
      "Epoch 54/1000\n",
      "187/187 [==============================] - 16s 83ms/step - loss: 99.6178 - categorical_accuracy: 0.9878 - val_loss: 104.2234 - val_categorical_accuracy: 0.9878 - lr: 2.0480e-11\n",
      "Epoch 55/1000\n",
      "187/187 [==============================] - ETA: 0s - loss: 99.7032 - categorical_accuracy: 0.9878Restoring model weights from the end of the best epoch: 35.\n",
      "187/187 [==============================] - 19s 103ms/step - loss: 99.7032 - categorical_accuracy: 0.9878 - val_loss: 103.9393 - val_categorical_accuracy: 0.9876 - lr: 2.0480e-11\n",
      "Epoch 55: early stopping\n"
     ]
    },
    {
     "output_type": "stream",
     "name": "stderr",
     "text": [
      "100%|██████████| 835/835 [00:05<00:00, 153.36it/s]\n",
      "100%|██████████| 835/835 [00:04<00:00, 175.59it/s]\n",
      "<ipython-input-33-4a4cacd1a410>:107: RuntimeWarning: invalid value encountered in divide\n",
      "  TPR = TP/(TP+FN)\n"
     ]
    },
    {
     "output_type": "stream",
     "name": "stdout",
     "text": [
      "The average imputation accuracy on test data with 0.05 missing genotypes is 0.9609: \n",
      "Sensitivity: nan\n",
      "Specificity: 0.9369888794790285\n",
      "F1-score macro: 0.2531993620552169\n",
      "F1-score micro: 0.960878243512974\n"
     ]
    },
    {
     "output_type": "stream",
     "name": "stderr",
     "text": [
      "100%|██████████| 835/835 [00:06<00:00, 123.10it/s]\n",
      "100%|██████████| 835/835 [00:04<00:00, 174.04it/s]\n"
     ]
    },
    {
     "output_type": "stream",
     "name": "stdout",
     "text": [
      "The average imputation accuracy on test data with 0.1 missing genotypes is 0.9531: \n",
      "Sensitivity: 0.17359611161892843\n",
      "Specificity: 0.950174102554172\n",
      "F1-score macro: 0.20432382361398652\n",
      "F1-score micro: 0.9531223267750214\n"
     ]
    },
    {
     "output_type": "stream",
     "name": "stderr",
     "text": [
      "100%|██████████| 835/835 [00:05<00:00, 142.03it/s]\n",
      "100%|██████████| 835/835 [00:05<00:00, 166.92it/s]\n"
     ]
    },
    {
     "output_type": "stream",
     "name": "stdout",
     "text": [
      "The average imputation accuracy on test data with 0.2 missing genotypes is 0.9561: \n",
      "Sensitivity: 0.14749673866980398\n",
      "Specificity: 0.9559034669318377\n",
      "F1-score macro: 0.17472010630523105\n",
      "F1-score micro: 0.956106721468306\n",
      "=====================================\n",
      "Training using fold 3\n",
      "Epoch 1/1000\n",
      "187/187 [==============================] - 124s 136ms/step - loss: 505.8633 - categorical_accuracy: 0.9676 - val_loss: 3305.8157 - val_categorical_accuracy: 0.9697 - lr: 0.0010\n",
      "Epoch 2/1000\n",
      "187/187 [==============================] - 16s 87ms/step - loss: 128.2025 - categorical_accuracy: 0.9859 - val_loss: 540.1837 - val_categorical_accuracy: 0.9697 - lr: 0.0010\n",
      "Epoch 3/1000\n",
      "187/187 [==============================] - 16s 88ms/step - loss: 122.8405 - categorical_accuracy: 0.9862 - val_loss: 176.0440 - val_categorical_accuracy: 0.9848 - lr: 0.0010\n",
      "Epoch 4/1000\n",
      "187/187 [==============================] - 16s 85ms/step - loss: 118.9687 - categorical_accuracy: 0.9865 - val_loss: 125.0189 - val_categorical_accuracy: 0.9865 - lr: 0.0010\n",
      "Epoch 5/1000\n",
      "187/187 [==============================] - 15s 81ms/step - loss: 116.7991 - categorical_accuracy: 0.9867 - val_loss: 128.1571 - val_categorical_accuracy: 0.9868 - lr: 0.0010\n",
      "Epoch 6/1000\n",
      "187/187 [==============================] - 16s 84ms/step - loss: 114.3559 - categorical_accuracy: 0.9868 - val_loss: 122.9856 - val_categorical_accuracy: 0.9865 - lr: 0.0010\n",
      "Epoch 7/1000\n",
      "187/187 [==============================] - 16s 84ms/step - loss: 113.1584 - categorical_accuracy: 0.9870 - val_loss: 122.8627 - val_categorical_accuracy: 0.9867 - lr: 0.0010\n",
      "Epoch 8/1000\n",
      "187/187 [==============================] - 16s 85ms/step - loss: 111.2330 - categorical_accuracy: 0.9871 - val_loss: 119.4269 - val_categorical_accuracy: 0.9865 - lr: 0.0010\n",
      "Epoch 9/1000\n",
      "187/187 [==============================] - 16s 84ms/step - loss: 110.9638 - categorical_accuracy: 0.9871 - val_loss: 116.3004 - val_categorical_accuracy: 0.9867 - lr: 0.0010\n",
      "Epoch 10/1000\n",
      "187/187 [==============================] - 15s 81ms/step - loss: 109.8550 - categorical_accuracy: 0.9872 - val_loss: 118.1790 - val_categorical_accuracy: 0.9872 - lr: 0.0010\n",
      "Epoch 11/1000\n",
      "187/187 [==============================] - 15s 81ms/step - loss: 108.6481 - categorical_accuracy: 0.9873 - val_loss: 120.0240 - val_categorical_accuracy: 0.9867 - lr: 0.0010\n",
      "Epoch 12/1000\n",
      "187/187 [==============================] - 15s 81ms/step - loss: 107.9792 - categorical_accuracy: 0.9873 - val_loss: 118.0738 - val_categorical_accuracy: 0.9867 - lr: 0.0010\n",
      "Epoch 13/1000\n",
      "187/187 [==============================] - 16s 84ms/step - loss: 104.8579 - categorical_accuracy: 0.9875 - val_loss: 113.2070 - val_categorical_accuracy: 0.9869 - lr: 2.0000e-04\n",
      "Epoch 14/1000\n",
      "187/187 [==============================] - 16s 84ms/step - loss: 104.1674 - categorical_accuracy: 0.9875 - val_loss: 111.8050 - val_categorical_accuracy: 0.9871 - lr: 2.0000e-04\n",
      "Epoch 15/1000\n",
      "187/187 [==============================] - 15s 82ms/step - loss: 103.4213 - categorical_accuracy: 0.9876 - val_loss: 114.1029 - val_categorical_accuracy: 0.9869 - lr: 2.0000e-04\n",
      "Epoch 16/1000\n",
      "187/187 [==============================] - 17s 90ms/step - loss: 103.9607 - categorical_accuracy: 0.9875 - val_loss: 109.8933 - val_categorical_accuracy: 0.9876 - lr: 2.0000e-04\n",
      "Epoch 17/1000\n",
      "187/187 [==============================] - 15s 82ms/step - loss: 103.1702 - categorical_accuracy: 0.9876 - val_loss: 113.2939 - val_categorical_accuracy: 0.9870 - lr: 2.0000e-04\n",
      "Epoch 18/1000\n",
      "187/187 [==============================] - 16s 83ms/step - loss: 102.7609 - categorical_accuracy: 0.9876 - val_loss: 111.9097 - val_categorical_accuracy: 0.9871 - lr: 2.0000e-04\n",
      "Epoch 19/1000\n",
      "187/187 [==============================] - 15s 82ms/step - loss: 102.2711 - categorical_accuracy: 0.9877 - val_loss: 112.5019 - val_categorical_accuracy: 0.9870 - lr: 2.0000e-04\n",
      "Epoch 20/1000\n",
      "187/187 [==============================] - 15s 82ms/step - loss: 102.1446 - categorical_accuracy: 0.9877 - val_loss: 112.3718 - val_categorical_accuracy: 0.9870 - lr: 4.0000e-05\n",
      "Epoch 21/1000\n",
      "187/187 [==============================] - 15s 82ms/step - loss: 101.8809 - categorical_accuracy: 0.9876 - val_loss: 113.0969 - val_categorical_accuracy: 0.9870 - lr: 4.0000e-05\n",
      "Epoch 22/1000\n",
      "187/187 [==============================] - 15s 82ms/step - loss: 100.8142 - categorical_accuracy: 0.9877 - val_loss: 112.9805 - val_categorical_accuracy: 0.9871 - lr: 4.0000e-05\n",
      "Epoch 23/1000\n",
      "187/187 [==============================] - 16s 86ms/step - loss: 101.2348 - categorical_accuracy: 0.9877 - val_loss: 109.8419 - val_categorical_accuracy: 0.9875 - lr: 8.0000e-06\n",
      "Epoch 24/1000\n",
      "187/187 [==============================] - 15s 82ms/step - loss: 101.2272 - categorical_accuracy: 0.9877 - val_loss: 111.0112 - val_categorical_accuracy: 0.9872 - lr: 8.0000e-06\n",
      "Epoch 25/1000\n",
      "187/187 [==============================] - 15s 82ms/step - loss: 101.2834 - categorical_accuracy: 0.9877 - val_loss: 113.3149 - val_categorical_accuracy: 0.9871 - lr: 8.0000e-06\n",
      "Epoch 26/1000\n",
      "187/187 [==============================] - 15s 82ms/step - loss: 101.3196 - categorical_accuracy: 0.9876 - val_loss: 110.3188 - val_categorical_accuracy: 0.9874 - lr: 8.0000e-06\n",
      "Epoch 27/1000\n",
      "187/187 [==============================] - 15s 83ms/step - loss: 101.0357 - categorical_accuracy: 0.9876 - val_loss: 112.1118 - val_categorical_accuracy: 0.9872 - lr: 1.6000e-06\n",
      "Epoch 28/1000\n",
      "187/187 [==============================] - 16s 85ms/step - loss: 100.9119 - categorical_accuracy: 0.9878 - val_loss: 109.8354 - val_categorical_accuracy: 0.9873 - lr: 1.6000e-06\n",
      "Epoch 29/1000\n",
      "187/187 [==============================] - 15s 81ms/step - loss: 100.2780 - categorical_accuracy: 0.9878 - val_loss: 112.8594 - val_categorical_accuracy: 0.9871 - lr: 1.6000e-06\n",
      "Epoch 30/1000\n",
      "187/187 [==============================] - 15s 80ms/step - loss: 100.5274 - categorical_accuracy: 0.9878 - val_loss: 114.1973 - val_categorical_accuracy: 0.9870 - lr: 1.6000e-06\n",
      "Epoch 31/1000\n",
      "187/187 [==============================] - 15s 81ms/step - loss: 100.7744 - categorical_accuracy: 0.9878 - val_loss: 111.2915 - val_categorical_accuracy: 0.9873 - lr: 1.6000e-06\n",
      "Epoch 32/1000\n",
      "187/187 [==============================] - 15s 81ms/step - loss: 100.5923 - categorical_accuracy: 0.9877 - val_loss: 113.0032 - val_categorical_accuracy: 0.9871 - lr: 3.2000e-07\n",
      "Epoch 33/1000\n",
      "187/187 [==============================] - 15s 81ms/step - loss: 101.6849 - categorical_accuracy: 0.9876 - val_loss: 111.1939 - val_categorical_accuracy: 0.9871 - lr: 3.2000e-07\n",
      "Epoch 34/1000\n",
      "187/187 [==============================] - 15s 81ms/step - loss: 100.5875 - categorical_accuracy: 0.9878 - val_loss: 113.5653 - val_categorical_accuracy: 0.9870 - lr: 3.2000e-07\n",
      "Epoch 35/1000\n",
      "187/187 [==============================] - 15s 81ms/step - loss: 100.9785 - categorical_accuracy: 0.9877 - val_loss: 109.9475 - val_categorical_accuracy: 0.9873 - lr: 6.4000e-08\n",
      "Epoch 36/1000\n",
      "187/187 [==============================] - 17s 90ms/step - loss: 101.3440 - categorical_accuracy: 0.9877 - val_loss: 109.2462 - val_categorical_accuracy: 0.9873 - lr: 6.4000e-08\n",
      "Epoch 37/1000\n",
      "187/187 [==============================] - 15s 81ms/step - loss: 100.1772 - categorical_accuracy: 0.9878 - val_loss: 111.3974 - val_categorical_accuracy: 0.9873 - lr: 6.4000e-08\n",
      "Epoch 38/1000\n",
      "187/187 [==============================] - 15s 80ms/step - loss: 101.4738 - categorical_accuracy: 0.9877 - val_loss: 112.5815 - val_categorical_accuracy: 0.9870 - lr: 6.4000e-08\n",
      "Epoch 39/1000\n",
      "187/187 [==============================] - 15s 81ms/step - loss: 101.2888 - categorical_accuracy: 0.9877 - val_loss: 112.7726 - val_categorical_accuracy: 0.9872 - lr: 6.4000e-08\n",
      "Epoch 40/1000\n",
      "187/187 [==============================] - 15s 81ms/step - loss: 100.8133 - categorical_accuracy: 0.9878 - val_loss: 112.0187 - val_categorical_accuracy: 0.9870 - lr: 1.2800e-08\n",
      "Epoch 41/1000\n",
      "187/187 [==============================] - 15s 81ms/step - loss: 100.5062 - categorical_accuracy: 0.9878 - val_loss: 110.7786 - val_categorical_accuracy: 0.9873 - lr: 1.2800e-08\n",
      "Epoch 42/1000\n",
      "187/187 [==============================] - 15s 80ms/step - loss: 101.0032 - categorical_accuracy: 0.9877 - val_loss: 113.8074 - val_categorical_accuracy: 0.9871 - lr: 1.2800e-08\n",
      "Epoch 43/1000\n",
      "187/187 [==============================] - 15s 81ms/step - loss: 101.0129 - categorical_accuracy: 0.9877 - val_loss: 110.6391 - val_categorical_accuracy: 0.9873 - lr: 2.5600e-09\n",
      "Epoch 44/1000\n",
      "187/187 [==============================] - 15s 80ms/step - loss: 101.7454 - categorical_accuracy: 0.9876 - val_loss: 111.1967 - val_categorical_accuracy: 0.9874 - lr: 2.5600e-09\n",
      "Epoch 45/1000\n",
      "187/187 [==============================] - 15s 81ms/step - loss: 100.7423 - categorical_accuracy: 0.9877 - val_loss: 111.1197 - val_categorical_accuracy: 0.9872 - lr: 2.5600e-09\n",
      "Epoch 46/1000\n",
      "187/187 [==============================] - 15s 81ms/step - loss: 100.7035 - categorical_accuracy: 0.9878 - val_loss: 112.0254 - val_categorical_accuracy: 0.9872 - lr: 5.1200e-10\n",
      "Epoch 47/1000\n",
      "187/187 [==============================] - 15s 81ms/step - loss: 100.6605 - categorical_accuracy: 0.9877 - val_loss: 110.3614 - val_categorical_accuracy: 0.9873 - lr: 5.1200e-10\n",
      "Epoch 48/1000\n",
      "187/187 [==============================] - 15s 81ms/step - loss: 100.6465 - categorical_accuracy: 0.9878 - val_loss: 110.2115 - val_categorical_accuracy: 0.9873 - lr: 5.1200e-10\n",
      "Epoch 49/1000\n",
      "187/187 [==============================] - 15s 80ms/step - loss: 101.5301 - categorical_accuracy: 0.9876 - val_loss: 109.6713 - val_categorical_accuracy: 0.9873 - lr: 1.0240e-10\n",
      "Epoch 50/1000\n",
      "187/187 [==============================] - 15s 81ms/step - loss: 100.1202 - categorical_accuracy: 0.9878 - val_loss: 110.8724 - val_categorical_accuracy: 0.9874 - lr: 1.0240e-10\n",
      "Epoch 51/1000\n",
      "187/187 [==============================] - 15s 81ms/step - loss: 101.2047 - categorical_accuracy: 0.9877 - val_loss: 114.2362 - val_categorical_accuracy: 0.9871 - lr: 1.0240e-10\n",
      "Epoch 52/1000\n",
      "187/187 [==============================] - 15s 80ms/step - loss: 101.1838 - categorical_accuracy: 0.9877 - val_loss: 116.7936 - val_categorical_accuracy: 0.9868 - lr: 2.0480e-11\n",
      "Epoch 53/1000\n",
      "187/187 [==============================] - 15s 81ms/step - loss: 101.1728 - categorical_accuracy: 0.9877 - val_loss: 114.0444 - val_categorical_accuracy: 0.9871 - lr: 2.0480e-11\n",
      "Epoch 54/1000\n",
      "187/187 [==============================] - 15s 80ms/step - loss: 100.4317 - categorical_accuracy: 0.9878 - val_loss: 112.0570 - val_categorical_accuracy: 0.9874 - lr: 2.0480e-11\n",
      "Epoch 55/1000\n",
      "187/187 [==============================] - 16s 86ms/step - loss: 101.4666 - categorical_accuracy: 0.9877 - val_loss: 110.5279 - val_categorical_accuracy: 0.9876 - lr: 4.0960e-12\n",
      "Epoch 56/1000\n",
      "187/187 [==============================] - ETA: 0s - loss: 101.1623 - categorical_accuracy: 0.9877Restoring model weights from the end of the best epoch: 36.\n",
      "187/187 [==============================] - 18s 95ms/step - loss: 101.1623 - categorical_accuracy: 0.9877 - val_loss: 110.2073 - val_categorical_accuracy: 0.9873 - lr: 4.0960e-12\n",
      "Epoch 56: early stopping\n"
     ]
    },
    {
     "output_type": "stream",
     "name": "stderr",
     "text": [
      "100%|██████████| 834/834 [00:05<00:00, 140.06it/s]\n",
      "100%|██████████| 834/834 [00:04<00:00, 178.97it/s]\n"
     ]
    },
    {
     "output_type": "stream",
     "name": "stdout",
     "text": [
      "The average imputation accuracy on test data with 0.05 missing genotypes is 0.9593: \n",
      "Sensitivity: 0.2264776623029761\n",
      "Specificity: 0.9358173700491715\n",
      "F1-score macro: 0.26536782209333554\n",
      "F1-score micro: 0.9593182596779719\n"
     ]
    },
    {
     "output_type": "stream",
     "name": "stderr",
     "text": [
      "100%|██████████| 834/834 [00:05<00:00, 165.35it/s]\n",
      "100%|██████████| 834/834 [00:05<00:00, 161.90it/s]\n"
     ]
    },
    {
     "output_type": "stream",
     "name": "stdout",
     "text": [
      "The average imputation accuracy on test data with 0.1 missing genotypes is 0.9528: \n",
      "Sensitivity: 0.22407852300723735\n",
      "Specificity: 0.9411213286149295\n",
      "F1-score macro: 0.2526174229672129\n",
      "F1-score micro: 0.9528091812264475\n"
     ]
    },
    {
     "output_type": "stream",
     "name": "stderr",
     "text": [
      "100%|██████████| 834/834 [00:04<00:00, 190.35it/s]\n",
      "100%|██████████| 834/834 [00:05<00:00, 141.02it/s]\n"
     ]
    },
    {
     "output_type": "stream",
     "name": "stdout",
     "text": [
      "The average imputation accuracy on test data with 0.2 missing genotypes is 0.9559: \n",
      "Sensitivity: 0.14411889465715072\n",
      "Specificity: 0.9583152814045268\n",
      "F1-score macro: 0.1663476326896412\n",
      "F1-score micro: 0.9559263831538319\n",
      "=====================================\n"
     ]
    }
   ]
  },
  {
   "cell_type": "code",
   "source": [
    "from google.colab import runtime\n",
    "runtime.unassign()"
   ],
   "metadata": {
    "id": "ifLke-oWc1Ok"
   },
   "execution_count": null,
   "outputs": []
  }
 ],
 "metadata": {
  "accelerator": "TPU",
  "colab": {
   "provenance": [
    {
     "file_id": "1lo9cmptjRRESsVlVECvlJFHbLeaygq2s",
     "timestamp": 1640128751823
    },
    {
     "file_id": "https://github.com/keras-team/keras-io/blob/master/examples/vision/ipynb/perceiver_image_classification.ipynb",
     "timestamp": 1621552889682
    }
   ],
   "toc_visible": true
  },
  "kernelspec": {
   "display_name": "Python 3",
   "language": "python",
   "name": "python3"
  },
  "language_info": {
   "codemirror_mode": {
    "name": "ipython",
    "version": 3
   },
   "file_extension": ".py",
   "mimetype": "text/x-python",
   "name": "python",
   "nbconvert_exporter": "python",
   "pygments_lexer": "ipython3",
   "version": "3.7.0"
  },
  "gpuClass": "standard"
 },
 "nbformat": 4,
 "nbformat_minor": 0
}
