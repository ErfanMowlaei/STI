{
 "cells": [
  {
   "cell_type": "code",
   "execution_count": null,
   "metadata": {
    "colab": {
     "base_uri": "https://localhost:8080/"
    },
    "executionInfo": {
     "elapsed": 16318,
     "status": "ok",
     "timestamp": 1686886390866,
     "user": {
      "displayName": "net crowmaster",
      "userId": "14126946344391667924"
     },
     "user_tz": 240
    },
    "id": "doSuiA3dyTyg",
    "outputId": "dff67a22-c8a0-4fb8-9e8a-babd6a6dd106"
   },
   "outputs": [
    {
     "output_type": "stream",
     "name": "stdout",
     "text": [
      "Mounted at /content/drive\n"
     ]
    }
   ],
   "source": [
    "from google.colab import drive\n",
    "drive.mount('/content/drive')"
   ]
  },
  {
   "cell_type": "code",
   "execution_count": null,
   "metadata": {
    "colab": {
     "base_uri": "https://localhost:8080/"
    },
    "executionInfo": {
     "elapsed": 26032,
     "status": "ok",
     "timestamp": 1686886416894,
     "user": {
      "displayName": "net crowmaster",
      "userId": "14126946344391667924"
     },
     "user_tz": 240
    },
    "id": "liJJGzQp4qzO",
    "outputId": "30b2011f-6848-4c73-93bd-677081ea1f65"
   },
   "outputs": [
    {
     "output_type": "stream",
     "name": "stdout",
     "text": [
      "Looking in indexes: https://pypi.org/simple, https://us-python.pkg.dev/colab-wheels/public/simple/\n",
      "Collecting tensorflow-addons\n",
      "  Downloading tensorflow_addons-0.20.0-cp310-cp310-manylinux_2_17_x86_64.manylinux2014_x86_64.whl (591 kB)\n",
      "\u001B[2K     \u001B[90m━━━━━━━━━━━━━━━━━━━━━━━━━━━━━━━━━━━━━━\u001B[0m \u001B[32m591.0/591.0 kB\u001B[0m \u001B[31m11.0 MB/s\u001B[0m eta \u001B[36m0:00:00\u001B[0m\n",
      "\u001B[?25hRequirement already satisfied: packaging in /usr/local/lib/python3.10/dist-packages (from tensorflow-addons) (23.1)\n",
      "Collecting typeguard<3.0.0,>=2.7 (from tensorflow-addons)\n",
      "  Downloading typeguard-2.13.3-py3-none-any.whl (17 kB)\n",
      "Installing collected packages: typeguard, tensorflow-addons\n",
      "Successfully installed tensorflow-addons-0.20.0 typeguard-2.13.3\n",
      "Looking in indexes: https://pypi.org/simple, https://us-python.pkg.dev/colab-wheels/public/simple/\n",
      "Requirement already satisfied: toolz in /usr/local/lib/python3.10/dist-packages (0.12.0)\n",
      "Collecting scikit-allel\n",
      "  Downloading scikit_allel-1.3.6-cp310-cp310-manylinux_2_17_x86_64.manylinux2014_x86_64.whl (7.4 MB)\n",
      "\u001B[2K     \u001B[90m━━━━━━━━━━━━━━━━━━━━━━━━━━━━━━━━━━━━━━━━\u001B[0m \u001B[32m7.4/7.4 MB\u001B[0m \u001B[31m6.9 MB/s\u001B[0m eta \u001B[36m0:00:00\u001B[0m\n",
      "\u001B[?25hRequirement already satisfied: numpy in /usr/local/lib/python3.10/dist-packages (from scikit-allel) (1.24.3)\n",
      "Requirement already satisfied: dask[array] in /usr/local/lib/python3.10/dist-packages (from scikit-allel) (2022.12.1)\n",
      "Requirement already satisfied: click>=7.0 in /usr/local/lib/python3.10/dist-packages (from dask[array]->scikit-allel) (8.1.3)\n",
      "Requirement already satisfied: cloudpickle>=1.1.1 in /usr/local/lib/python3.10/dist-packages (from dask[array]->scikit-allel) (2.2.1)\n",
      "Requirement already satisfied: fsspec>=0.6.0 in /usr/local/lib/python3.10/dist-packages (from dask[array]->scikit-allel) (2023.4.0)\n",
      "Requirement already satisfied: packaging>=20.0 in /usr/local/lib/python3.10/dist-packages (from dask[array]->scikit-allel) (23.1)\n",
      "Requirement already satisfied: partd>=0.3.10 in /usr/local/lib/python3.10/dist-packages (from dask[array]->scikit-allel) (1.4.0)\n",
      "Requirement already satisfied: pyyaml>=5.3.1 in /usr/local/lib/python3.10/dist-packages (from dask[array]->scikit-allel) (6.0)\n",
      "Requirement already satisfied: locket in /usr/local/lib/python3.10/dist-packages (from partd>=0.3.10->dask[array]->scikit-allel) (1.0.0)\n",
      "Installing collected packages: scikit-allel\n",
      "Successfully installed scikit-allel-1.3.6\n"
     ]
    }
   ],
   "source": [
    "!pip install tensorflow-addons\n",
    "!pip install toolz scikit-allel"
   ]
  },
  {
   "cell_type": "code",
   "execution_count": null,
   "metadata": {
    "colab": {
     "base_uri": "https://localhost:8080/"
    },
    "executionInfo": {
     "elapsed": 7151,
     "status": "ok",
     "timestamp": 1686886424041,
     "user": {
      "displayName": "net crowmaster",
      "userId": "14126946344391667924"
     },
     "user_tz": 240
    },
    "id": "ZWzi3Z3L5RO2",
    "outputId": "3b2af04d-c987-4dc8-d97f-abb21e9dba36"
   },
   "outputs": [
    {
     "output_type": "stream",
     "name": "stdout",
     "text": [
      "Tensorflow version 2.12.0\n"
     ]
    }
   ],
   "source": [
    "import numpy as np\n",
    "import tensorflow as tf\n",
    "print(\"Tensorflow version \" + tf.__version__)"
   ]
  },
  {
   "cell_type": "markdown",
   "metadata": {
    "id": "RjGOO5PdFPf7"
   },
   "source": [
    "## Setup"
   ]
  },
  {
   "cell_type": "code",
   "execution_count": null,
   "metadata": {
    "colab": {
     "base_uri": "https://localhost:8080/"
    },
    "executionInfo": {
     "elapsed": 4008,
     "status": "ok",
     "timestamp": 1686886434744,
     "user": {
      "displayName": "net crowmaster",
      "userId": "14126946344391667924"
     },
     "user_tz": 240
    },
    "id": "odmhCqSVFPf8",
    "outputId": "3c8b8df1-2180-4296-b4e3-3cfb82c272de"
   },
   "outputs": [
    {
     "output_type": "stream",
     "name": "stderr",
     "text": [
      "/usr/local/lib/python3.10/dist-packages/tensorflow_addons/utils/tfa_eol_msg.py:23: UserWarning: \n",
      "\n",
      "TensorFlow Addons (TFA) has ended development and introduction of new features.\n",
      "TFA has entered a minimal maintenance and release mode until a planned end of life in May 2024.\n",
      "Please modify downstream libraries to take dependencies from other repositories in our TensorFlow community (e.g. Keras, Keras-CV, and Keras-NLP). \n",
      "\n",
      "For more information see: https://github.com/tensorflow/addons/issues/2807 \n",
      "\n",
      "  warnings.warn(\n"
     ]
    },
    {
     "output_type": "stream",
     "name": "stdout",
     "text": [
      "Tensorflow version 2.12.0\n"
     ]
    }
   ],
   "source": [
    "import os\n",
    "# os.environ[\"MODIN_CPUS\"] = \"8\"\n",
    "# from distributed import Client\n",
    "# client = Client()\n",
    "import numpy as np\n",
    "import math\n",
    "import re\n",
    "import itertools\n",
    "import random\n",
    "import pandas as pd\n",
    "from sklearn.model_selection import train_test_split\n",
    "from sklearn.utils import resample\n",
    "import tensorflow as tf\n",
    "from tensorflow import keras\n",
    "import tensorflow.keras.backend as K\n",
    "from tensorflow.keras import layers\n",
    "from tensorflow.keras import regularizers\n",
    "from tensorflow.keras.preprocessing.sequence import pad_sequences\n",
    "import tensorflow_addons as tfa\n",
    "from sklearn import metrics\n",
    "from sklearn.model_selection import KFold\n",
    "from tensorflow.keras.utils import to_categorical\n",
    "from tensorflow.keras import constraints\n",
    "from tensorflow.keras import initializers\n",
    "from tensorflow.keras import regularizers\n",
    "from tensorflow.keras.applications import efficientnet as efn\n",
    "from sklearn.metrics import confusion_matrix\n",
    "from sklearn.metrics import f1_score\n",
    "from tensorflow.keras.constraints import Constraint\n",
    "# import allel\n",
    "from scipy.spatial.distance import squareform\n",
    "%matplotlib inline\n",
    "from toolz import interleave\n",
    "from tqdm import tqdm\n",
    "import allel\n",
    "from scipy.spatial.distance import squareform\n",
    "from matplotlib import pyplot as plt\n",
    "import tensorflow_datasets as tfds\n",
    "from sklearn.metrics import mean_squared_error\n",
    "from sklearn.linear_model import LassoCV, ElasticNetCV\n",
    "from sklearn.model_selection import KFold,StratifiedKFold\n",
    "\n",
    "print(\"Tensorflow version \" + tf.__version__)"
   ]
  },
  {
   "cell_type": "markdown",
   "metadata": {
    "id": "SLd26RspFhaS"
   },
   "source": [
    "## Hardware Config"
   ]
  },
  {
   "cell_type": "code",
   "execution_count": null,
   "metadata": {
    "colab": {
     "base_uri": "https://localhost:8080/"
    },
    "executionInfo": {
     "elapsed": 29791,
     "status": "ok",
     "timestamp": 1686886542334,
     "user": {
      "displayName": "net crowmaster",
      "userId": "14126946344391667924"
     },
     "user_tz": 240
    },
    "id": "SLd7mAFgFUnR",
    "outputId": "143232d7-508a-417f-89aa-6afe288f5b9f"
   },
   "outputs": [
    {
     "output_type": "stream",
     "name": "stdout",
     "text": [
      "Running on TPU  grpc://10.38.248.74:8470\n"
     ]
    },
    {
     "output_type": "stream",
     "name": "stderr",
     "text": [
      "WARNING:tensorflow:TPU system grpc://10.38.248.74:8470 has already been initialized. Reinitializing the TPU can cause previously created variables on TPU to be lost.\n"
     ]
    },
    {
     "output_type": "stream",
     "name": "stdout",
     "text": [
      "N_REPLICAS: 8\n"
     ]
    }
   ],
   "source": [
    "# Detect hardware, return appropriate distribution strategy\n",
    "try:\n",
    "    TPU = tf.distribute.cluster_resolver.TPUClusterResolver()  # TPU detection. No parameters necessary if TPU_NAME environment variable is set. On Kaggle this is always the case.\n",
    "    print('Running on TPU ', TPU.master())\n",
    "except ValueError:\n",
    "    print('Running on GPU')\n",
    "    TPU = None\n",
    "\n",
    "if TPU:\n",
    "    tf.config.experimental_connect_to_cluster(TPU)\n",
    "    tf.tpu.experimental.initialize_tpu_system(TPU)\n",
    "    strategy = tf.distribute.TPUStrategy(TPU)\n",
    "else:\n",
    "    strategy = tf.distribute.get_strategy() # default distribution strategy in Tensorflow. Works on CPU and single GPU.\n",
    "\n",
    "N_REPLICAS = strategy.num_replicas_in_sync\n",
    "# Number of computing cores, is 8 for a TPU V3-8\n",
    "print(f'N_REPLICAS: {N_REPLICAS}')"
   ]
  },
  {
   "cell_type": "markdown",
   "metadata": {
    "id": "A77GFE3xFPf8"
   },
   "source": [
    "## Prepare the data"
   ]
  },
  {
   "cell_type": "code",
   "execution_count": null,
   "metadata": {
    "id": "j3zy8i_8FPf_",
    "colab": {
     "base_uri": "https://localhost:8080/",
     "height": 424
    },
    "executionInfo": {
     "status": "ok",
     "timestamp": 1686886465690,
     "user_tz": 240,
     "elapsed": 1013,
     "user": {
      "displayName": "net crowmaster",
      "userId": "14126946344391667924"
     }
    },
    "outputId": "87f14c7b-0d01-4e38-f76f-485270cf481a"
   },
   "outputs": [
    {
     "output_type": "execute_result",
     "data": {
      "text/plain": [
       "         0    1    2    3    4    5    6    7    8    9    ...  838  839  840  \\\n",
       "HG00096  3|0  0|0  0|0  0|0  0|0  0|0  0|0  0|0  0|0  0|0  ...  0|0  0|0  0|0   \n",
       "HG00097  0|0  0|0  0|0  0|0  0|0  0|0  1|0  0|0  0|0  0|0  ...  0|0  0|0  0|0   \n",
       "HG00099  0|0  0|0  0|0  0|0  0|0  0|1  0|1  0|0  0|0  0|0  ...  0|0  0|0  0|0   \n",
       "HG00100  0|0  0|0  0|0  0|0  0|0  0|0  0|1  0|0  0|0  0|0  ...  0|0  0|0  0|0   \n",
       "HG00101  0|0  0|0  0|0  0|0  0|0  0|0  0|0  0|0  0|0  0|0  ...  0|0  0|0  0|0   \n",
       "...      ...  ...  ...  ...  ...  ...  ...  ...  ...  ...  ...  ...  ...  ...   \n",
       "NA21137  3|0  0|0  0|0  0|0  0|0  0|0  0|1  0|0  0|0  0|0  ...  0|0  0|0  0|0   \n",
       "NA21141  3|0  0|0  0|0  0|0  0|0  0|0  1|0  0|0  0|0  0|0  ...  0|0  0|0  0|0   \n",
       "NA21142  0|0  0|0  0|0  0|0  0|0  0|0  0|1  0|0  0|0  0|0  ...  0|0  0|0  0|0   \n",
       "NA21143  0|0  0|0  0|0  0|0  0|0  0|0  1|0  0|0  0|0  0|0  ...  0|0  0|0  0|0   \n",
       "NA21144  0|0  0|0  0|0  0|0  0|0  0|0  0|1  0|0  0|0  0|0  ...  0|0  0|0  0|0   \n",
       "\n",
       "         841  842  843  844  845  846  847  \n",
       "HG00096  0|0  0|0  0|0  0|0  0|0  0|0  0|0  \n",
       "HG00097  0|0  0|0  0|0  0|0  0|0  0|0  0|0  \n",
       "HG00099  0|0  0|0  0|0  0|0  0|0  0|0  0|0  \n",
       "HG00100  0|0  0|0  0|0  0|0  0|0  0|0  0|0  \n",
       "HG00101  0|0  0|0  0|0  0|0  0|0  0|0  0|0  \n",
       "...      ...  ...  ...  ...  ...  ...  ...  \n",
       "NA21137  0|0  0|0  0|0  0|0  0|0  0|0  0|0  \n",
       "NA21141  0|0  0|0  0|0  0|0  0|0  0|0  0|0  \n",
       "NA21142  0|0  0|0  0|0  0|0  0|0  0|0  0|0  \n",
       "NA21143  0|0  0|0  0|0  0|0  0|0  0|0  0|0  \n",
       "NA21144  0|0  0|0  0|0  0|0  0|0  0|0  0|0  \n",
       "\n",
       "[2504 rows x 848 columns]"
      ],
      "text/html": [
       "\n",
       "  <div id=\"df-af63447d-e097-4d77-9183-68278565e641\">\n",
       "    <div class=\"colab-df-container\">\n",
       "      <div>\n",
       "<style scoped>\n",
       "    .dataframe tbody tr th:only-of-type {\n",
       "        vertical-align: middle;\n",
       "    }\n",
       "\n",
       "    .dataframe tbody tr th {\n",
       "        vertical-align: top;\n",
       "    }\n",
       "\n",
       "    .dataframe thead th {\n",
       "        text-align: right;\n",
       "    }\n",
       "</style>\n",
       "<table border=\"1\" class=\"dataframe\">\n",
       "  <thead>\n",
       "    <tr style=\"text-align: right;\">\n",
       "      <th></th>\n",
       "      <th>0</th>\n",
       "      <th>1</th>\n",
       "      <th>2</th>\n",
       "      <th>3</th>\n",
       "      <th>4</th>\n",
       "      <th>5</th>\n",
       "      <th>6</th>\n",
       "      <th>7</th>\n",
       "      <th>8</th>\n",
       "      <th>9</th>\n",
       "      <th>...</th>\n",
       "      <th>838</th>\n",
       "      <th>839</th>\n",
       "      <th>840</th>\n",
       "      <th>841</th>\n",
       "      <th>842</th>\n",
       "      <th>843</th>\n",
       "      <th>844</th>\n",
       "      <th>845</th>\n",
       "      <th>846</th>\n",
       "      <th>847</th>\n",
       "    </tr>\n",
       "  </thead>\n",
       "  <tbody>\n",
       "    <tr>\n",
       "      <th>HG00096</th>\n",
       "      <td>3|0</td>\n",
       "      <td>0|0</td>\n",
       "      <td>0|0</td>\n",
       "      <td>0|0</td>\n",
       "      <td>0|0</td>\n",
       "      <td>0|0</td>\n",
       "      <td>0|0</td>\n",
       "      <td>0|0</td>\n",
       "      <td>0|0</td>\n",
       "      <td>0|0</td>\n",
       "      <td>...</td>\n",
       "      <td>0|0</td>\n",
       "      <td>0|0</td>\n",
       "      <td>0|0</td>\n",
       "      <td>0|0</td>\n",
       "      <td>0|0</td>\n",
       "      <td>0|0</td>\n",
       "      <td>0|0</td>\n",
       "      <td>0|0</td>\n",
       "      <td>0|0</td>\n",
       "      <td>0|0</td>\n",
       "    </tr>\n",
       "    <tr>\n",
       "      <th>HG00097</th>\n",
       "      <td>0|0</td>\n",
       "      <td>0|0</td>\n",
       "      <td>0|0</td>\n",
       "      <td>0|0</td>\n",
       "      <td>0|0</td>\n",
       "      <td>0|0</td>\n",
       "      <td>1|0</td>\n",
       "      <td>0|0</td>\n",
       "      <td>0|0</td>\n",
       "      <td>0|0</td>\n",
       "      <td>...</td>\n",
       "      <td>0|0</td>\n",
       "      <td>0|0</td>\n",
       "      <td>0|0</td>\n",
       "      <td>0|0</td>\n",
       "      <td>0|0</td>\n",
       "      <td>0|0</td>\n",
       "      <td>0|0</td>\n",
       "      <td>0|0</td>\n",
       "      <td>0|0</td>\n",
       "      <td>0|0</td>\n",
       "    </tr>\n",
       "    <tr>\n",
       "      <th>HG00099</th>\n",
       "      <td>0|0</td>\n",
       "      <td>0|0</td>\n",
       "      <td>0|0</td>\n",
       "      <td>0|0</td>\n",
       "      <td>0|0</td>\n",
       "      <td>0|1</td>\n",
       "      <td>0|1</td>\n",
       "      <td>0|0</td>\n",
       "      <td>0|0</td>\n",
       "      <td>0|0</td>\n",
       "      <td>...</td>\n",
       "      <td>0|0</td>\n",
       "      <td>0|0</td>\n",
       "      <td>0|0</td>\n",
       "      <td>0|0</td>\n",
       "      <td>0|0</td>\n",
       "      <td>0|0</td>\n",
       "      <td>0|0</td>\n",
       "      <td>0|0</td>\n",
       "      <td>0|0</td>\n",
       "      <td>0|0</td>\n",
       "    </tr>\n",
       "    <tr>\n",
       "      <th>HG00100</th>\n",
       "      <td>0|0</td>\n",
       "      <td>0|0</td>\n",
       "      <td>0|0</td>\n",
       "      <td>0|0</td>\n",
       "      <td>0|0</td>\n",
       "      <td>0|0</td>\n",
       "      <td>0|1</td>\n",
       "      <td>0|0</td>\n",
       "      <td>0|0</td>\n",
       "      <td>0|0</td>\n",
       "      <td>...</td>\n",
       "      <td>0|0</td>\n",
       "      <td>0|0</td>\n",
       "      <td>0|0</td>\n",
       "      <td>0|0</td>\n",
       "      <td>0|0</td>\n",
       "      <td>0|0</td>\n",
       "      <td>0|0</td>\n",
       "      <td>0|0</td>\n",
       "      <td>0|0</td>\n",
       "      <td>0|0</td>\n",
       "    </tr>\n",
       "    <tr>\n",
       "      <th>HG00101</th>\n",
       "      <td>0|0</td>\n",
       "      <td>0|0</td>\n",
       "      <td>0|0</td>\n",
       "      <td>0|0</td>\n",
       "      <td>0|0</td>\n",
       "      <td>0|0</td>\n",
       "      <td>0|0</td>\n",
       "      <td>0|0</td>\n",
       "      <td>0|0</td>\n",
       "      <td>0|0</td>\n",
       "      <td>...</td>\n",
       "      <td>0|0</td>\n",
       "      <td>0|0</td>\n",
       "      <td>0|0</td>\n",
       "      <td>0|0</td>\n",
       "      <td>0|0</td>\n",
       "      <td>0|0</td>\n",
       "      <td>0|0</td>\n",
       "      <td>0|0</td>\n",
       "      <td>0|0</td>\n",
       "      <td>0|0</td>\n",
       "    </tr>\n",
       "    <tr>\n",
       "      <th>...</th>\n",
       "      <td>...</td>\n",
       "      <td>...</td>\n",
       "      <td>...</td>\n",
       "      <td>...</td>\n",
       "      <td>...</td>\n",
       "      <td>...</td>\n",
       "      <td>...</td>\n",
       "      <td>...</td>\n",
       "      <td>...</td>\n",
       "      <td>...</td>\n",
       "      <td>...</td>\n",
       "      <td>...</td>\n",
       "      <td>...</td>\n",
       "      <td>...</td>\n",
       "      <td>...</td>\n",
       "      <td>...</td>\n",
       "      <td>...</td>\n",
       "      <td>...</td>\n",
       "      <td>...</td>\n",
       "      <td>...</td>\n",
       "      <td>...</td>\n",
       "    </tr>\n",
       "    <tr>\n",
       "      <th>NA21137</th>\n",
       "      <td>3|0</td>\n",
       "      <td>0|0</td>\n",
       "      <td>0|0</td>\n",
       "      <td>0|0</td>\n",
       "      <td>0|0</td>\n",
       "      <td>0|0</td>\n",
       "      <td>0|1</td>\n",
       "      <td>0|0</td>\n",
       "      <td>0|0</td>\n",
       "      <td>0|0</td>\n",
       "      <td>...</td>\n",
       "      <td>0|0</td>\n",
       "      <td>0|0</td>\n",
       "      <td>0|0</td>\n",
       "      <td>0|0</td>\n",
       "      <td>0|0</td>\n",
       "      <td>0|0</td>\n",
       "      <td>0|0</td>\n",
       "      <td>0|0</td>\n",
       "      <td>0|0</td>\n",
       "      <td>0|0</td>\n",
       "    </tr>\n",
       "    <tr>\n",
       "      <th>NA21141</th>\n",
       "      <td>3|0</td>\n",
       "      <td>0|0</td>\n",
       "      <td>0|0</td>\n",
       "      <td>0|0</td>\n",
       "      <td>0|0</td>\n",
       "      <td>0|0</td>\n",
       "      <td>1|0</td>\n",
       "      <td>0|0</td>\n",
       "      <td>0|0</td>\n",
       "      <td>0|0</td>\n",
       "      <td>...</td>\n",
       "      <td>0|0</td>\n",
       "      <td>0|0</td>\n",
       "      <td>0|0</td>\n",
       "      <td>0|0</td>\n",
       "      <td>0|0</td>\n",
       "      <td>0|0</td>\n",
       "      <td>0|0</td>\n",
       "      <td>0|0</td>\n",
       "      <td>0|0</td>\n",
       "      <td>0|0</td>\n",
       "    </tr>\n",
       "    <tr>\n",
       "      <th>NA21142</th>\n",
       "      <td>0|0</td>\n",
       "      <td>0|0</td>\n",
       "      <td>0|0</td>\n",
       "      <td>0|0</td>\n",
       "      <td>0|0</td>\n",
       "      <td>0|0</td>\n",
       "      <td>0|1</td>\n",
       "      <td>0|0</td>\n",
       "      <td>0|0</td>\n",
       "      <td>0|0</td>\n",
       "      <td>...</td>\n",
       "      <td>0|0</td>\n",
       "      <td>0|0</td>\n",
       "      <td>0|0</td>\n",
       "      <td>0|0</td>\n",
       "      <td>0|0</td>\n",
       "      <td>0|0</td>\n",
       "      <td>0|0</td>\n",
       "      <td>0|0</td>\n",
       "      <td>0|0</td>\n",
       "      <td>0|0</td>\n",
       "    </tr>\n",
       "    <tr>\n",
       "      <th>NA21143</th>\n",
       "      <td>0|0</td>\n",
       "      <td>0|0</td>\n",
       "      <td>0|0</td>\n",
       "      <td>0|0</td>\n",
       "      <td>0|0</td>\n",
       "      <td>0|0</td>\n",
       "      <td>1|0</td>\n",
       "      <td>0|0</td>\n",
       "      <td>0|0</td>\n",
       "      <td>0|0</td>\n",
       "      <td>...</td>\n",
       "      <td>0|0</td>\n",
       "      <td>0|0</td>\n",
       "      <td>0|0</td>\n",
       "      <td>0|0</td>\n",
       "      <td>0|0</td>\n",
       "      <td>0|0</td>\n",
       "      <td>0|0</td>\n",
       "      <td>0|0</td>\n",
       "      <td>0|0</td>\n",
       "      <td>0|0</td>\n",
       "    </tr>\n",
       "    <tr>\n",
       "      <th>NA21144</th>\n",
       "      <td>0|0</td>\n",
       "      <td>0|0</td>\n",
       "      <td>0|0</td>\n",
       "      <td>0|0</td>\n",
       "      <td>0|0</td>\n",
       "      <td>0|0</td>\n",
       "      <td>0|1</td>\n",
       "      <td>0|0</td>\n",
       "      <td>0|0</td>\n",
       "      <td>0|0</td>\n",
       "      <td>...</td>\n",
       "      <td>0|0</td>\n",
       "      <td>0|0</td>\n",
       "      <td>0|0</td>\n",
       "      <td>0|0</td>\n",
       "      <td>0|0</td>\n",
       "      <td>0|0</td>\n",
       "      <td>0|0</td>\n",
       "      <td>0|0</td>\n",
       "      <td>0|0</td>\n",
       "      <td>0|0</td>\n",
       "    </tr>\n",
       "  </tbody>\n",
       "</table>\n",
       "<p>2504 rows × 848 columns</p>\n",
       "</div>\n",
       "      <button class=\"colab-df-convert\" onclick=\"convertToInteractive('df-af63447d-e097-4d77-9183-68278565e641')\"\n",
       "              title=\"Convert this dataframe to an interactive table.\"\n",
       "              style=\"display:none;\">\n",
       "        \n",
       "  <svg xmlns=\"http://www.w3.org/2000/svg\" height=\"24px\"viewBox=\"0 0 24 24\"\n",
       "       width=\"24px\">\n",
       "    <path d=\"M0 0h24v24H0V0z\" fill=\"none\"/>\n",
       "    <path d=\"M18.56 5.44l.94 2.06.94-2.06 2.06-.94-2.06-.94-.94-2.06-.94 2.06-2.06.94zm-11 1L8.5 8.5l.94-2.06 2.06-.94-2.06-.94L8.5 2.5l-.94 2.06-2.06.94zm10 10l.94 2.06.94-2.06 2.06-.94-2.06-.94-.94-2.06-.94 2.06-2.06.94z\"/><path d=\"M17.41 7.96l-1.37-1.37c-.4-.4-.92-.59-1.43-.59-.52 0-1.04.2-1.43.59L10.3 9.45l-7.72 7.72c-.78.78-.78 2.05 0 2.83L4 21.41c.39.39.9.59 1.41.59.51 0 1.02-.2 1.41-.59l7.78-7.78 2.81-2.81c.8-.78.8-2.07 0-2.86zM5.41 20L4 18.59l7.72-7.72 1.47 1.35L5.41 20z\"/>\n",
       "  </svg>\n",
       "      </button>\n",
       "      \n",
       "  <style>\n",
       "    .colab-df-container {\n",
       "      display:flex;\n",
       "      flex-wrap:wrap;\n",
       "      gap: 12px;\n",
       "    }\n",
       "\n",
       "    .colab-df-convert {\n",
       "      background-color: #E8F0FE;\n",
       "      border: none;\n",
       "      border-radius: 50%;\n",
       "      cursor: pointer;\n",
       "      display: none;\n",
       "      fill: #1967D2;\n",
       "      height: 32px;\n",
       "      padding: 0 0 0 0;\n",
       "      width: 32px;\n",
       "    }\n",
       "\n",
       "    .colab-df-convert:hover {\n",
       "      background-color: #E2EBFA;\n",
       "      box-shadow: 0px 1px 2px rgba(60, 64, 67, 0.3), 0px 1px 3px 1px rgba(60, 64, 67, 0.15);\n",
       "      fill: #174EA6;\n",
       "    }\n",
       "\n",
       "    [theme=dark] .colab-df-convert {\n",
       "      background-color: #3B4455;\n",
       "      fill: #D2E3FC;\n",
       "    }\n",
       "\n",
       "    [theme=dark] .colab-df-convert:hover {\n",
       "      background-color: #434B5C;\n",
       "      box-shadow: 0px 1px 3px 1px rgba(0, 0, 0, 0.15);\n",
       "      filter: drop-shadow(0px 1px 2px rgba(0, 0, 0, 0.3));\n",
       "      fill: #FFFFFF;\n",
       "    }\n",
       "  </style>\n",
       "\n",
       "      <script>\n",
       "        const buttonEl =\n",
       "          document.querySelector('#df-af63447d-e097-4d77-9183-68278565e641 button.colab-df-convert');\n",
       "        buttonEl.style.display =\n",
       "          google.colab.kernel.accessAllowed ? 'block' : 'none';\n",
       "\n",
       "        async function convertToInteractive(key) {\n",
       "          const element = document.querySelector('#df-af63447d-e097-4d77-9183-68278565e641');\n",
       "          const dataTable =\n",
       "            await google.colab.kernel.invokeFunction('convertToInteractive',\n",
       "                                                     [key], {});\n",
       "          if (!dataTable) return;\n",
       "\n",
       "          const docLinkHtml = 'Like what you see? Visit the ' +\n",
       "            '<a target=\"_blank\" href=https://colab.research.google.com/notebooks/data_table.ipynb>data table notebook</a>'\n",
       "            + ' to learn more about interactive tables.';\n",
       "          element.innerHTML = '';\n",
       "          dataTable['output_type'] = 'display_data';\n",
       "          await google.colab.output.renderOutput(dataTable, element);\n",
       "          const docLink = document.createElement('div');\n",
       "          docLink.innerHTML = docLinkHtml;\n",
       "          element.appendChild(docLink);\n",
       "        }\n",
       "      </script>\n",
       "    </div>\n",
       "  </div>\n",
       "  "
      ]
     },
     "metadata": {},
     "execution_count": 7
    }
   ],
   "source": [
    "root_dir = '[data_dir]'\n",
    "new_data_header = \"\"\n",
    "# get header\n",
    "with open(root_dir + \"ALL.chr22.mergedSV.v8.20130502.svs.genotypes.vcf\", 'r') as f_in:\n",
    "    # skip info\n",
    "    for line_num in range(70):\n",
    "        f_in.readline()\n",
    "\n",
    "    new_data_header = f_in.readline()\n",
    "# load data\n",
    "\n",
    "# load genotype\n",
    "genotypes = pd.read_csv(root_dir + \"ALL.chr22.mergedSV.v8.20130502.svs.genotypes.vcf\",\n",
    "                        comment='#', sep='\\t',\n",
    "                        names=new_data_header.strip().split('\\t'), header=None)\n",
    "info = genotypes.iloc[:, :9]\n",
    "genotypes = genotypes.iloc[:, 9:].T\n",
    "headers = genotypes.columns[:]\n",
    "genotypes"
   ]
  },
  {
   "cell_type": "code",
   "execution_count": null,
   "metadata": {
    "id": "-gFMrUnhV80n"
   },
   "outputs": [],
   "source": [
    "ped_file = '[data_dir]/integrated_call_samples.20130502.ALL.ped'\n",
    "pedigree = pd.read_csv(ped_file, sep='\\t', index_col='Individual ID')"
   ]
  },
  {
   "cell_type": "code",
   "execution_count": null,
   "metadata": {
    "colab": {
     "base_uri": "https://localhost:8080/",
     "height": 316
    },
    "executionInfo": {
     "elapsed": 13,
     "status": "ok",
     "timestamp": 1686886466181,
     "user": {
      "displayName": "net crowmaster",
      "userId": "14126946344391667924"
     },
     "user_tz": 240
    },
    "id": "Zgb8Fn-EV_PU",
    "outputId": "dd84bd15-cdfc-49ee-da53-6946eaa12cc8"
   },
   "outputs": [
    {
     "output_type": "execute_result",
     "data": {
      "text/plain": [
       "              Family ID Paternal ID Maternal ID  Gender  Phenotype Population  \\\n",
       "Individual ID                                                                   \n",
       "HG00096         HG00096           0           0       1          0        GBR   \n",
       "HG00097         HG00097           0           0       2          0        GBR   \n",
       "HG00098         HG00098           0           0       1          0        GBR   \n",
       "HG00099         HG00099           0           0       2          0        GBR   \n",
       "HG00100         HG00100           0           0       2          0        GBR   \n",
       "\n",
       "              Relationship Siblings Second Order Third Order Children  \\\n",
       "Individual ID                                                           \n",
       "HG00096              unrel        0            0           0        0   \n",
       "HG00097              unrel        0            0           0        0   \n",
       "HG00098              unrel        0            0           0        0   \n",
       "HG00099              unrel        0            0           0        0   \n",
       "HG00100              unrel        0            0           0        0   \n",
       "\n",
       "              Other Comments  \n",
       "Individual ID                 \n",
       "HG00096                    0  \n",
       "HG00097                    0  \n",
       "HG00098                    0  \n",
       "HG00099                    0  \n",
       "HG00100                    0  "
      ],
      "text/html": [
       "\n",
       "  <div id=\"df-722a4498-c905-46d3-84db-ad47702c823a\">\n",
       "    <div class=\"colab-df-container\">\n",
       "      <div>\n",
       "<style scoped>\n",
       "    .dataframe tbody tr th:only-of-type {\n",
       "        vertical-align: middle;\n",
       "    }\n",
       "\n",
       "    .dataframe tbody tr th {\n",
       "        vertical-align: top;\n",
       "    }\n",
       "\n",
       "    .dataframe thead th {\n",
       "        text-align: right;\n",
       "    }\n",
       "</style>\n",
       "<table border=\"1\" class=\"dataframe\">\n",
       "  <thead>\n",
       "    <tr style=\"text-align: right;\">\n",
       "      <th></th>\n",
       "      <th>Family ID</th>\n",
       "      <th>Paternal ID</th>\n",
       "      <th>Maternal ID</th>\n",
       "      <th>Gender</th>\n",
       "      <th>Phenotype</th>\n",
       "      <th>Population</th>\n",
       "      <th>Relationship</th>\n",
       "      <th>Siblings</th>\n",
       "      <th>Second Order</th>\n",
       "      <th>Third Order</th>\n",
       "      <th>Children</th>\n",
       "      <th>Other Comments</th>\n",
       "    </tr>\n",
       "    <tr>\n",
       "      <th>Individual ID</th>\n",
       "      <th></th>\n",
       "      <th></th>\n",
       "      <th></th>\n",
       "      <th></th>\n",
       "      <th></th>\n",
       "      <th></th>\n",
       "      <th></th>\n",
       "      <th></th>\n",
       "      <th></th>\n",
       "      <th></th>\n",
       "      <th></th>\n",
       "      <th></th>\n",
       "    </tr>\n",
       "  </thead>\n",
       "  <tbody>\n",
       "    <tr>\n",
       "      <th>HG00096</th>\n",
       "      <td>HG00096</td>\n",
       "      <td>0</td>\n",
       "      <td>0</td>\n",
       "      <td>1</td>\n",
       "      <td>0</td>\n",
       "      <td>GBR</td>\n",
       "      <td>unrel</td>\n",
       "      <td>0</td>\n",
       "      <td>0</td>\n",
       "      <td>0</td>\n",
       "      <td>0</td>\n",
       "      <td>0</td>\n",
       "    </tr>\n",
       "    <tr>\n",
       "      <th>HG00097</th>\n",
       "      <td>HG00097</td>\n",
       "      <td>0</td>\n",
       "      <td>0</td>\n",
       "      <td>2</td>\n",
       "      <td>0</td>\n",
       "      <td>GBR</td>\n",
       "      <td>unrel</td>\n",
       "      <td>0</td>\n",
       "      <td>0</td>\n",
       "      <td>0</td>\n",
       "      <td>0</td>\n",
       "      <td>0</td>\n",
       "    </tr>\n",
       "    <tr>\n",
       "      <th>HG00098</th>\n",
       "      <td>HG00098</td>\n",
       "      <td>0</td>\n",
       "      <td>0</td>\n",
       "      <td>1</td>\n",
       "      <td>0</td>\n",
       "      <td>GBR</td>\n",
       "      <td>unrel</td>\n",
       "      <td>0</td>\n",
       "      <td>0</td>\n",
       "      <td>0</td>\n",
       "      <td>0</td>\n",
       "      <td>0</td>\n",
       "    </tr>\n",
       "    <tr>\n",
       "      <th>HG00099</th>\n",
       "      <td>HG00099</td>\n",
       "      <td>0</td>\n",
       "      <td>0</td>\n",
       "      <td>2</td>\n",
       "      <td>0</td>\n",
       "      <td>GBR</td>\n",
       "      <td>unrel</td>\n",
       "      <td>0</td>\n",
       "      <td>0</td>\n",
       "      <td>0</td>\n",
       "      <td>0</td>\n",
       "      <td>0</td>\n",
       "    </tr>\n",
       "    <tr>\n",
       "      <th>HG00100</th>\n",
       "      <td>HG00100</td>\n",
       "      <td>0</td>\n",
       "      <td>0</td>\n",
       "      <td>2</td>\n",
       "      <td>0</td>\n",
       "      <td>GBR</td>\n",
       "      <td>unrel</td>\n",
       "      <td>0</td>\n",
       "      <td>0</td>\n",
       "      <td>0</td>\n",
       "      <td>0</td>\n",
       "      <td>0</td>\n",
       "    </tr>\n",
       "  </tbody>\n",
       "</table>\n",
       "</div>\n",
       "      <button class=\"colab-df-convert\" onclick=\"convertToInteractive('df-722a4498-c905-46d3-84db-ad47702c823a')\"\n",
       "              title=\"Convert this dataframe to an interactive table.\"\n",
       "              style=\"display:none;\">\n",
       "        \n",
       "  <svg xmlns=\"http://www.w3.org/2000/svg\" height=\"24px\"viewBox=\"0 0 24 24\"\n",
       "       width=\"24px\">\n",
       "    <path d=\"M0 0h24v24H0V0z\" fill=\"none\"/>\n",
       "    <path d=\"M18.56 5.44l.94 2.06.94-2.06 2.06-.94-2.06-.94-.94-2.06-.94 2.06-2.06.94zm-11 1L8.5 8.5l.94-2.06 2.06-.94-2.06-.94L8.5 2.5l-.94 2.06-2.06.94zm10 10l.94 2.06.94-2.06 2.06-.94-2.06-.94-.94-2.06-.94 2.06-2.06.94z\"/><path d=\"M17.41 7.96l-1.37-1.37c-.4-.4-.92-.59-1.43-.59-.52 0-1.04.2-1.43.59L10.3 9.45l-7.72 7.72c-.78.78-.78 2.05 0 2.83L4 21.41c.39.39.9.59 1.41.59.51 0 1.02-.2 1.41-.59l7.78-7.78 2.81-2.81c.8-.78.8-2.07 0-2.86zM5.41 20L4 18.59l7.72-7.72 1.47 1.35L5.41 20z\"/>\n",
       "  </svg>\n",
       "      </button>\n",
       "      \n",
       "  <style>\n",
       "    .colab-df-container {\n",
       "      display:flex;\n",
       "      flex-wrap:wrap;\n",
       "      gap: 12px;\n",
       "    }\n",
       "\n",
       "    .colab-df-convert {\n",
       "      background-color: #E8F0FE;\n",
       "      border: none;\n",
       "      border-radius: 50%;\n",
       "      cursor: pointer;\n",
       "      display: none;\n",
       "      fill: #1967D2;\n",
       "      height: 32px;\n",
       "      padding: 0 0 0 0;\n",
       "      width: 32px;\n",
       "    }\n",
       "\n",
       "    .colab-df-convert:hover {\n",
       "      background-color: #E2EBFA;\n",
       "      box-shadow: 0px 1px 2px rgba(60, 64, 67, 0.3), 0px 1px 3px 1px rgba(60, 64, 67, 0.15);\n",
       "      fill: #174EA6;\n",
       "    }\n",
       "\n",
       "    [theme=dark] .colab-df-convert {\n",
       "      background-color: #3B4455;\n",
       "      fill: #D2E3FC;\n",
       "    }\n",
       "\n",
       "    [theme=dark] .colab-df-convert:hover {\n",
       "      background-color: #434B5C;\n",
       "      box-shadow: 0px 1px 3px 1px rgba(0, 0, 0, 0.15);\n",
       "      filter: drop-shadow(0px 1px 2px rgba(0, 0, 0, 0.3));\n",
       "      fill: #FFFFFF;\n",
       "    }\n",
       "  </style>\n",
       "\n",
       "      <script>\n",
       "        const buttonEl =\n",
       "          document.querySelector('#df-722a4498-c905-46d3-84db-ad47702c823a button.colab-df-convert');\n",
       "        buttonEl.style.display =\n",
       "          google.colab.kernel.accessAllowed ? 'block' : 'none';\n",
       "\n",
       "        async function convertToInteractive(key) {\n",
       "          const element = document.querySelector('#df-722a4498-c905-46d3-84db-ad47702c823a');\n",
       "          const dataTable =\n",
       "            await google.colab.kernel.invokeFunction('convertToInteractive',\n",
       "                                                     [key], {});\n",
       "          if (!dataTable) return;\n",
       "\n",
       "          const docLinkHtml = 'Like what you see? Visit the ' +\n",
       "            '<a target=\"_blank\" href=https://colab.research.google.com/notebooks/data_table.ipynb>data table notebook</a>'\n",
       "            + ' to learn more about interactive tables.';\n",
       "          element.innerHTML = '';\n",
       "          dataTable['output_type'] = 'display_data';\n",
       "          await google.colab.output.renderOutput(dataTable, element);\n",
       "          const docLink = document.createElement('div');\n",
       "          docLink.innerHTML = docLinkHtml;\n",
       "          element.appendChild(docLink);\n",
       "        }\n",
       "      </script>\n",
       "    </div>\n",
       "  </div>\n",
       "  "
      ]
     },
     "metadata": {},
     "execution_count": 9
    }
   ],
   "source": [
    "pedigree.head()"
   ]
  },
  {
   "cell_type": "code",
   "execution_count": null,
   "metadata": {
    "colab": {
     "base_uri": "https://localhost:8080/"
    },
    "executionInfo": {
     "elapsed": 11,
     "status": "ok",
     "timestamp": 1686886466181,
     "user": {
      "displayName": "net crowmaster",
      "userId": "14126946344391667924"
     },
     "user_tz": 240
    },
    "id": "GBSfo4FlV_A_",
    "outputId": "035c5c68-c0e7-4e8f-9ab2-3a382721cac2"
   },
   "outputs": [
    {
     "output_type": "execute_result",
     "data": {
      "text/plain": [
       "(2504,)"
      ]
     },
     "metadata": {},
     "execution_count": 10
    }
   ],
   "source": [
    "Y_train = pedigree.loc[genotypes.index]['Population']\n",
    "Y_train.shape"
   ]
  },
  {
   "cell_type": "code",
   "execution_count": null,
   "metadata": {
    "colab": {
     "base_uri": "https://localhost:8080/"
    },
    "executionInfo": {
     "elapsed": 8,
     "status": "ok",
     "timestamp": 1686886466182,
     "user": {
      "displayName": "net crowmaster",
      "userId": "14126946344391667924"
     },
     "user_tz": 240
    },
    "id": "hiP0EEwsEMNP",
    "outputId": "3ca847ae-a24f-4ac6-b1c9-3ceafccc0047"
   },
   "outputs": [
    {
     "output_type": "execute_result",
     "data": {
      "text/plain": [
       "(2504, 848)"
      ]
     },
     "metadata": {},
     "execution_count": 11
    }
   ],
   "source": [
    "X = genotypes[genotypes.index.isin(Y_train.index)]\n",
    "X.shape"
   ]
  },
  {
   "cell_type": "code",
   "source": [
    "def get_max_genotype(g):\n",
    "  v1, v2 = g.split(\"|\")\n",
    "  return max(int(v1), int(v2)) + 1\n",
    "\n",
    "def key_gen(v1, v2):\n",
    "  return f\"{v1}|{v2}\""
   ],
   "metadata": {
    "id": "3Yrih8NP_EkA"
   },
   "execution_count": null,
   "outputs": []
  },
  {
   "cell_type": "code",
   "source": [
    "genotype_keys = np.unique(X.values)\n",
    "max_gen = max(map(get_max_genotype, genotype_keys))\n",
    "onehot_encoding_depth = max_gen**2 + 1\n",
    "MISSING_VALUE = [0 for _ in range(max_gen+1)]\n",
    "MISSING_VALUE[-1] = 1\n",
    "genotype_keys = [key_gen(i,j) for i in range(max_gen) for j in range(max_gen)]\n",
    "replacement_dict = {k:i for i,k in enumerate(genotype_keys)}\n",
    "reverse_replacement_dict = {v:k for k,v in replacement_dict.items()}\n",
    "max_gen, onehot_encoding_depth, MISSING_VALUE\n",
    "# replacement_dict"
   ],
   "metadata": {
    "colab": {
     "base_uri": "https://localhost:8080/"
    },
    "id": "nDTlx2_-_E8X",
    "executionInfo": {
     "status": "ok",
     "timestamp": 1686886467842,
     "user_tz": 240,
     "elapsed": 1665,
     "user": {
      "displayName": "net crowmaster",
      "userId": "14126946344391667924"
     }
    },
    "outputId": "15088b7d-795d-4e31-e3bb-11e360dc246c"
   },
   "execution_count": null,
   "outputs": [
    {
     "output_type": "execute_result",
     "data": {
      "text/plain": [
       "(6, 37, [0, 0, 0, 0, 0, 0, 1])"
      ]
     },
     "metadata": {},
     "execution_count": 13
    }
   ]
  },
  {
   "cell_type": "code",
   "execution_count": null,
   "metadata": {
    "colab": {
     "base_uri": "https://localhost:8080/"
    },
    "executionInfo": {
     "elapsed": 9124,
     "status": "ok",
     "timestamp": 1686886476964,
     "user": {
      "displayName": "net crowmaster",
      "userId": "14126946344391667924"
     },
     "user_tz": 240
    },
    "id": "DNU6deVHXIdE",
    "outputId": "45b81860-fe22-4ced-b448-17e01aa9e550"
   },
   "outputs": [
    {
     "output_type": "execute_result",
     "data": {
      "text/plain": [
       "(2504, 848)"
      ]
     },
     "metadata": {},
     "execution_count": 14
    }
   ],
   "source": [
    "X = X.replace(replacement_dict)\n",
    "X.shape"
   ]
  },
  {
   "cell_type": "markdown",
   "source": [
    "### MAF\n"
   ],
   "metadata": {
    "id": "asV65bA-j1aw"
   }
  },
  {
   "cell_type": "code",
   "source": [
    "def maf_mapper(txt):\n",
    "  af = min(list(map(lambda x: float(x), txt.split(\";\")[1].split(\"=\")[1].split(\",\"))))\n",
    "  return min(af, 1-af)"
   ],
   "metadata": {
    "id": "P4m28zGLMtXK"
   },
   "execution_count": null,
   "outputs": []
  },
  {
   "cell_type": "code",
   "source": [
    "mafs = info.iloc[:, 7:8].applymap(maf_mapper)\n",
    "mafs"
   ],
   "metadata": {
    "colab": {
     "base_uri": "https://localhost:8080/",
     "height": 424
    },
    "id": "PoX14d2YGB8c",
    "executionInfo": {
     "status": "ok",
     "timestamp": 1686886476966,
     "user_tz": 240,
     "elapsed": 8,
     "user": {
      "displayName": "net crowmaster",
      "userId": "14126946344391667924"
     }
    },
    "outputId": "cb939a4d-5c22-4d5b-a18f-41d943a9cc08"
   },
   "execution_count": null,
   "outputs": [
    {
     "output_type": "execute_result",
     "data": {
      "text/plain": [
       "         INFO\n",
       "0    0.001797\n",
       "1    0.024960\n",
       "2    0.005791\n",
       "3    0.037141\n",
       "4    0.000399\n",
       "..        ...\n",
       "843  0.000200\n",
       "844  0.001198\n",
       "845  0.000599\n",
       "846  0.000200\n",
       "847  0.000200\n",
       "\n",
       "[848 rows x 1 columns]"
      ],
      "text/html": [
       "\n",
       "  <div id=\"df-8a080537-50b9-407e-a72a-f83c6762ac10\">\n",
       "    <div class=\"colab-df-container\">\n",
       "      <div>\n",
       "<style scoped>\n",
       "    .dataframe tbody tr th:only-of-type {\n",
       "        vertical-align: middle;\n",
       "    }\n",
       "\n",
       "    .dataframe tbody tr th {\n",
       "        vertical-align: top;\n",
       "    }\n",
       "\n",
       "    .dataframe thead th {\n",
       "        text-align: right;\n",
       "    }\n",
       "</style>\n",
       "<table border=\"1\" class=\"dataframe\">\n",
       "  <thead>\n",
       "    <tr style=\"text-align: right;\">\n",
       "      <th></th>\n",
       "      <th>INFO</th>\n",
       "    </tr>\n",
       "  </thead>\n",
       "  <tbody>\n",
       "    <tr>\n",
       "      <th>0</th>\n",
       "      <td>0.001797</td>\n",
       "    </tr>\n",
       "    <tr>\n",
       "      <th>1</th>\n",
       "      <td>0.024960</td>\n",
       "    </tr>\n",
       "    <tr>\n",
       "      <th>2</th>\n",
       "      <td>0.005791</td>\n",
       "    </tr>\n",
       "    <tr>\n",
       "      <th>3</th>\n",
       "      <td>0.037141</td>\n",
       "    </tr>\n",
       "    <tr>\n",
       "      <th>4</th>\n",
       "      <td>0.000399</td>\n",
       "    </tr>\n",
       "    <tr>\n",
       "      <th>...</th>\n",
       "      <td>...</td>\n",
       "    </tr>\n",
       "    <tr>\n",
       "      <th>843</th>\n",
       "      <td>0.000200</td>\n",
       "    </tr>\n",
       "    <tr>\n",
       "      <th>844</th>\n",
       "      <td>0.001198</td>\n",
       "    </tr>\n",
       "    <tr>\n",
       "      <th>845</th>\n",
       "      <td>0.000599</td>\n",
       "    </tr>\n",
       "    <tr>\n",
       "      <th>846</th>\n",
       "      <td>0.000200</td>\n",
       "    </tr>\n",
       "    <tr>\n",
       "      <th>847</th>\n",
       "      <td>0.000200</td>\n",
       "    </tr>\n",
       "  </tbody>\n",
       "</table>\n",
       "<p>848 rows × 1 columns</p>\n",
       "</div>\n",
       "      <button class=\"colab-df-convert\" onclick=\"convertToInteractive('df-8a080537-50b9-407e-a72a-f83c6762ac10')\"\n",
       "              title=\"Convert this dataframe to an interactive table.\"\n",
       "              style=\"display:none;\">\n",
       "        \n",
       "  <svg xmlns=\"http://www.w3.org/2000/svg\" height=\"24px\"viewBox=\"0 0 24 24\"\n",
       "       width=\"24px\">\n",
       "    <path d=\"M0 0h24v24H0V0z\" fill=\"none\"/>\n",
       "    <path d=\"M18.56 5.44l.94 2.06.94-2.06 2.06-.94-2.06-.94-.94-2.06-.94 2.06-2.06.94zm-11 1L8.5 8.5l.94-2.06 2.06-.94-2.06-.94L8.5 2.5l-.94 2.06-2.06.94zm10 10l.94 2.06.94-2.06 2.06-.94-2.06-.94-.94-2.06-.94 2.06-2.06.94z\"/><path d=\"M17.41 7.96l-1.37-1.37c-.4-.4-.92-.59-1.43-.59-.52 0-1.04.2-1.43.59L10.3 9.45l-7.72 7.72c-.78.78-.78 2.05 0 2.83L4 21.41c.39.39.9.59 1.41.59.51 0 1.02-.2 1.41-.59l7.78-7.78 2.81-2.81c.8-.78.8-2.07 0-2.86zM5.41 20L4 18.59l7.72-7.72 1.47 1.35L5.41 20z\"/>\n",
       "  </svg>\n",
       "      </button>\n",
       "      \n",
       "  <style>\n",
       "    .colab-df-container {\n",
       "      display:flex;\n",
       "      flex-wrap:wrap;\n",
       "      gap: 12px;\n",
       "    }\n",
       "\n",
       "    .colab-df-convert {\n",
       "      background-color: #E8F0FE;\n",
       "      border: none;\n",
       "      border-radius: 50%;\n",
       "      cursor: pointer;\n",
       "      display: none;\n",
       "      fill: #1967D2;\n",
       "      height: 32px;\n",
       "      padding: 0 0 0 0;\n",
       "      width: 32px;\n",
       "    }\n",
       "\n",
       "    .colab-df-convert:hover {\n",
       "      background-color: #E2EBFA;\n",
       "      box-shadow: 0px 1px 2px rgba(60, 64, 67, 0.3), 0px 1px 3px 1px rgba(60, 64, 67, 0.15);\n",
       "      fill: #174EA6;\n",
       "    }\n",
       "\n",
       "    [theme=dark] .colab-df-convert {\n",
       "      background-color: #3B4455;\n",
       "      fill: #D2E3FC;\n",
       "    }\n",
       "\n",
       "    [theme=dark] .colab-df-convert:hover {\n",
       "      background-color: #434B5C;\n",
       "      box-shadow: 0px 1px 3px 1px rgba(0, 0, 0, 0.15);\n",
       "      filter: drop-shadow(0px 1px 2px rgba(0, 0, 0, 0.3));\n",
       "      fill: #FFFFFF;\n",
       "    }\n",
       "  </style>\n",
       "\n",
       "      <script>\n",
       "        const buttonEl =\n",
       "          document.querySelector('#df-8a080537-50b9-407e-a72a-f83c6762ac10 button.colab-df-convert');\n",
       "        buttonEl.style.display =\n",
       "          google.colab.kernel.accessAllowed ? 'block' : 'none';\n",
       "\n",
       "        async function convertToInteractive(key) {\n",
       "          const element = document.querySelector('#df-8a080537-50b9-407e-a72a-f83c6762ac10');\n",
       "          const dataTable =\n",
       "            await google.colab.kernel.invokeFunction('convertToInteractive',\n",
       "                                                     [key], {});\n",
       "          if (!dataTable) return;\n",
       "\n",
       "          const docLinkHtml = 'Like what you see? Visit the ' +\n",
       "            '<a target=\"_blank\" href=https://colab.research.google.com/notebooks/data_table.ipynb>data table notebook</a>'\n",
       "            + ' to learn more about interactive tables.';\n",
       "          element.innerHTML = '';\n",
       "          dataTable['output_type'] = 'display_data';\n",
       "          await google.colab.output.renderOutput(dataTable, element);\n",
       "          const docLink = document.createElement('div');\n",
       "          docLink.innerHTML = docLinkHtml;\n",
       "          element.appendChild(docLink);\n",
       "        }\n",
       "      </script>\n",
       "    </div>\n",
       "  </div>\n",
       "  "
      ]
     },
     "metadata": {},
     "execution_count": 16
    }
   ]
  },
  {
   "cell_type": "code",
   "source": [
    "max(mafs.values)"
   ],
   "metadata": {
    "colab": {
     "base_uri": "https://localhost:8080/"
    },
    "id": "oPiwZCw6Ql6o",
    "executionInfo": {
     "status": "ok",
     "timestamp": 1686886477128,
     "user_tz": 240,
     "elapsed": 169,
     "user": {
      "displayName": "net crowmaster",
      "userId": "14126946344391667924"
     }
    },
    "outputId": "62f4531b-5a2f-4822-d223-f81d44809ea8"
   },
   "execution_count": null,
   "outputs": [
    {
     "output_type": "execute_result",
     "data": {
      "text/plain": [
       "array([0.496605])"
      ]
     },
     "metadata": {},
     "execution_count": 17
    }
   ]
  },
  {
   "cell_type": "code",
   "source": [
    "plt.hist(mafs, bins=[0, 0.1, 0.2, 0.3, 0.4, 0.5]);"
   ],
   "metadata": {
    "colab": {
     "base_uri": "https://localhost:8080/",
     "height": 430
    },
    "id": "KaBtVvHmRL-X",
    "executionInfo": {
     "status": "ok",
     "timestamp": 1686886477439,
     "user_tz": 240,
     "elapsed": 313,
     "user": {
      "displayName": "net crowmaster",
      "userId": "14126946344391667924"
     }
    },
    "outputId": "4ae953ca-a296-4df0-c2e4-352877862361"
   },
   "execution_count": null,
   "outputs": [
    {
     "output_type": "display_data",
     "data": {
      "text/plain": [
       "<Figure size 640x480 with 1 Axes>"
      ],
      "image/png": "[encoded data removed]"
     },
     "metadata": {}
    }
   ]
  },
  {
   "cell_type": "code",
   "source": [
    "bin_labels = np.digitize(mafs, bins=[0, 0.1, 0.2, 0.3, 0.4, 0.5], right=False)\n",
    "bin_general_labels, bin_counts = np.unique(bin_labels, return_counts=True)\n",
    "bin_general_labels, bin_counts"
   ],
   "metadata": {
    "colab": {
     "base_uri": "https://localhost:8080/"
    },
    "id": "12UAf-X8dPBf",
    "executionInfo": {
     "status": "ok",
     "timestamp": 1686886477439,
     "user_tz": 240,
     "elapsed": 6,
     "user": {
      "displayName": "net crowmaster",
      "userId": "14126946344391667924"
     }
    },
    "outputId": "d2b40802-a51e-440c-f3e9-2c593c9512e6"
   },
   "execution_count": null,
   "outputs": [
    {
     "output_type": "execute_result",
     "data": {
      "text/plain": [
       "(array([1, 2, 3, 4, 5]), array([783,  22,  17,  16,  10]))"
      ]
     },
     "metadata": {},
     "execution_count": 19
    }
   ]
  },
  {
   "cell_type": "code",
   "execution_count": null,
   "metadata": {
    "id": "_pZoO-FvKdr3"
   },
   "outputs": [],
   "source": [
    "# hyperparameters\n",
    "feature_size = X.shape[1]\n",
    "inChannel = max_gen + 1\n",
    "learning_rate = 0.001\n",
    "weight_decay = 0.00001\n",
    "embed_dim = 64  # Embedding size for each token\n",
    "num_heads = 8 # Number of attention heads\n",
    "ff_dim = 32  # Hidden layer size in feed forward network inside transformer\n",
    "regularization_coef_l1 = 1e-4\n",
    "dropout_rate = 0.25\n",
    "chunk_size = feature_size\n",
    "flanking_region_range = 0"
   ]
  },
  {
   "cell_type": "markdown",
   "metadata": {
    "id": "LtSxW2eMOOCU"
   },
   "source": [
    "## Convert to tensorflow dataset"
   ]
  },
  {
   "cell_type": "code",
   "execution_count": null,
   "metadata": {
    "id": "KDiVoe67JHcy"
   },
   "outputs": [],
   "source": [
    "@tf.function()\n",
    "def add_attention_mask(X_sample, y_sample):\n",
    "  depth = max_gen + 1\n",
    "  mask_size = tf.cast(X_sample.shape[0]*0.5, dtype=tf.int64)\n",
    "  mask_idx = tf.reshape(tf.random.shuffle(tf.range(X_sample.shape[0]))[:mask_size], (-1, 1))\n",
    "  updates = tf.math.add(tf.zeros(shape=(mask_idx.shape[0]), dtype=tf.int64), max_gen)\n",
    "  X_masked = tf.tensor_scatter_nd_update(X_sample, mask_idx, updates)\n",
    "\n",
    "  return tf.one_hot(X_masked, depth), tf.one_hot(y_sample, depth-1)"
   ]
  },
  {
   "cell_type": "code",
   "execution_count": null,
   "metadata": {
    "id": "SlyxYCy96H7V"
   },
   "outputs": [],
   "source": [
    "def map_values_1(x):\n",
    "  return int(reverse_replacement_dict[x].split('|')[0])\n",
    "\n",
    "def map_values_2(x):\n",
    "  return int(reverse_replacement_dict[x].split('|')[1])\n",
    "\n",
    "def get_dataset(x, chunk_start, chunk_end, start_offset, end_offset, batch_size, training=True):\n",
    "  AUTO = tf.data.AUTOTUNE\n",
    "\n",
    "  _x = np.empty((x.shape[0] * 2, chunk_end-chunk_start), dtype=x.dtype)\n",
    "\n",
    "  map_values_1_vec = np.vectorize(map_values_1)\n",
    "  map_values_2_vec = np.vectorize(map_values_2)\n",
    "\n",
    "  _x[0::2] = map_values_1_vec(x[:, chunk_start:chunk_end])\n",
    "  _x[1::2] = map_values_2_vec(x[:, chunk_start:chunk_end])\n",
    "  new_chunk_end = _x.shape[1]\n",
    "\n",
    "  dataset = tf.data.Dataset.from_tensor_slices((_x,\n",
    "                                                _x[:, start_offset:new_chunk_end-end_offset]))\n",
    "\n",
    "  if training:\n",
    "    dataset = dataset.shuffle(_x.shape[0], reshuffle_each_iteration=True)\n",
    "    dataset = dataset.repeat()\n",
    "\n",
    "  # Add Attention Mask\n",
    "  dataset = dataset.map(add_attention_mask, num_parallel_calls=AUTO, deterministic=False)\n",
    "\n",
    "  # Prefetech to not map the whole dataset\n",
    "  dataset = dataset.prefetch(AUTO)\n",
    "\n",
    "  dataset = dataset.batch(batch_size, drop_remainder=training, num_parallel_calls=AUTO)\n",
    "\n",
    "  return dataset"
   ]
  },
  {
   "cell_type": "markdown",
   "metadata": {
    "id": "NpRUjMp_L914"
   },
   "source": [
    "## Custom Layers"
   ]
  },
  {
   "cell_type": "code",
   "execution_count": null,
   "metadata": {
    "id": "9h9OjeMZ8_XU"
   },
   "outputs": [],
   "source": [
    "class SharedNet(tf.keras.Model):\n",
    "    def __init__(self, conv1_n_filters, conv2_n_filters, conv1_kernel_size, conv2_kernel_size, fc_len, start_offset, end_offset, n_features_out):\n",
    "        super(SharedNet, self).__init__()\n",
    "        self.fc_len = fc_len\n",
    "        self.start_offset = start_offset\n",
    "        self.end_offset = end_offset\n",
    "        self.n_features_out = n_features_out\n",
    "        self.conv1 = layers.Conv1D(conv1_n_filters, kernel_size=conv1_kernel_size, strides=1, padding='same', activation=tf.nn.relu)\n",
    "        self.pool1 = layers.MaxPooling1D(2)\n",
    "        self.bn1 = layers.BatchNormalization()\n",
    "        self.do1 = layers.Dropout(0.5)\n",
    "        self.conv2 = layers.Conv1D(conv2_n_filters, kernel_size=conv2_kernel_size, strides=1, padding='same', activation=tf.nn.relu)\n",
    "        self.pool2 = layers.MaxPooling1D(2)\n",
    "        self.bn2 = layers.BatchNormalization()\n",
    "        self.do2 = layers.Dropout(0.5)\n",
    "        # self.flatten = layers.Flatten()\n",
    "        self.fc1 = layers.Dense(4*(inChannel-1), activation=tf.nn.relu)\n",
    "        self.reshape = layers.Reshape((-1, inChannel-1))\n",
    "        # self.fc1 = layers.Dense(inChannel-1, activation=tf.nn.relu)\n",
    "\n",
    "    def build(self, input_shape):\n",
    "      self.input_len = input_shape[1]\n",
    "      # self.reshape = layers.Reshape((self.input_len, self.fc_len))\n",
    "      # super(SharedNet, self).build(input_shape)\n",
    "\n",
    "    def call(self, inputs):\n",
    "        x = self.conv1(inputs)\n",
    "        x = self.bn1(x)\n",
    "        x = self.pool1(x)\n",
    "        x = self.conv2(x)\n",
    "        x = self.bn2(x)\n",
    "        x = self.pool2(x)\n",
    "        # x = self.flatten(x)\n",
    "        x = self.fc1(x)\n",
    "        x = self.reshape(x)\n",
    "        return x[:, self.start_offset:self.input_len-self.end_offset,]\n",
    "\n",
    "\n",
    "class EachNet(tf.keras.Model):\n",
    "    def __init__(self, num_classes):\n",
    "        super(EachNet, self).__init__()\n",
    "        self.fc1 = layers.Dense(num_classes, activation=tf.nn.softmax)\n",
    "        self.dropout = tf.keras.layers.Dropout(0.5)\n",
    "\n",
    "    def call(self, inputs):\n",
    "        x = self.dropout(inputs)\n",
    "        x = self.fc1(x)\n",
    "        return x"
   ]
  },
  {
   "cell_type": "markdown",
   "metadata": {
    "id": "waFVuh7DMCkM"
   },
   "source": [
    "## Modules"
   ]
  },
  {
   "cell_type": "code",
   "execution_count": null,
   "metadata": {
    "id": "7FgZf0fOb5yG"
   },
   "outputs": [],
   "source": [
    "def chunk_module(conv1_n_filters, conv2_n_filters,\n",
    "                conv1_kernel_size, conv2_kernel_size,\n",
    "                input_len, inChannel, fc_len=256,\n",
    "                start_offset=0, end_offset=0):\n",
    "  inputs = layers.Input(shape=(input_len, inChannel))\n",
    "  n_features_out = input_len - start_offset - end_offset\n",
    "  xa = SharedNet(conv1_n_filters, conv2_n_filters, conv1_kernel_size, conv2_kernel_size, fc_len, start_offset, end_offset, n_features_out)(inputs)\n",
    "  xa_out1 = EachNet(inChannel-1)(xa)\n",
    "\n",
    "  model = keras.Model(inputs=inputs, outputs=xa_out1)\n",
    "  return model"
   ]
  },
  {
   "cell_type": "code",
   "execution_count": null,
   "metadata": {
    "colab": {
     "base_uri": "https://localhost:8080/"
    },
    "executionInfo": {
     "elapsed": 5,
     "status": "ok",
     "timestamp": 1686886477604,
     "user": {
      "displayName": "net crowmaster",
      "userId": "14126946344391667924"
     },
     "user_tz": 240
    },
    "id": "sD7WOyyoNYGv",
    "outputId": "28fc008a-264b-498f-9d60-3b82e754f4d6"
   },
   "outputs": [
    {
     "output_type": "execute_result",
     "data": {
      "text/plain": [
       "26"
      ]
     },
     "metadata": {},
     "execution_count": 25
    }
   ],
   "source": [
    "num_classes = len(np.unique(Y_train))\n",
    "num_classes"
   ]
  },
  {
   "cell_type": "markdown",
   "metadata": {
    "id": "OCkow4q5MJk_"
   },
   "source": [
    "## Model"
   ]
  },
  {
   "cell_type": "code",
   "execution_count": null,
   "metadata": {
    "id": "vgGz9_6u8u-O"
   },
   "outputs": [],
   "source": [
    "class DEEP_HLA(keras.Model):\n",
    "  def __init__(\n",
    "      self, in_channel,\n",
    "      conv1_n_filters, conv2_n_filters,\n",
    "      conv1_kernel_size, conv2_kernel_size,\n",
    "      chunk_size=chunk_size,\n",
    "      activation=tf.nn.relu,\n",
    "      dropout_rate=0.5,\n",
    "      flanking_region_range=flanking_region_range):\n",
    "    super(DEEP_HLA, self).__init__()\n",
    "    self.in_channel = in_channel\n",
    "    self.embed_dim = embed_dim\n",
    "    self.conv1_n_filters = conv1_n_filters\n",
    "    self.conv2_n_filters = conv2_n_filters\n",
    "    self.conv1_kernel_size = conv1_kernel_size\n",
    "    self.conv2_kernel_size = conv2_kernel_size\n",
    "    self.chunk_size = chunk_size\n",
    "    self.activation = activation\n",
    "    self.dropout_rate = dropout_rate\n",
    "    self.flanking_region_range = flanking_region_range\n",
    "\n",
    "  def build(self, input_shape):\n",
    "    self.chunk_starts = list(range(0, input_shape[1], self.chunk_size))\n",
    "    self.chunk_ends = []\n",
    "    for cs in self.chunk_starts:\n",
    "      self.chunk_ends.append(min(cs+self.chunk_size, input_shape[1]))\n",
    "    self.mask_starts = [max(0, cs-self.flanking_region_range) for cs in self.chunk_starts]\n",
    "    self.mask_ends = [min(ce+self.flanking_region_range, input_shape[1]) for ce in self.chunk_ends]\n",
    "    self.chunkers = [chunk_module(self.conv1_n_filters, self.conv2_n_filters,\n",
    "                                  self.conv1_kernel_size, self.conv2_kernel_size,\n",
    "                                  self.mask_ends[i] - self.mask_starts[i],\n",
    "                                  self.in_channel,\n",
    "                                  start_offset=cs - self.mask_starts[i],\n",
    "                                  end_offset=self.mask_ends[i]-self.chunk_ends[i]) for i,cs in enumerate(self.chunk_starts)]\n",
    "    self.concat_layer = layers.Concatenate(axis=-2)\n",
    "    super(DEEP_HLA, self).build(input_shape)\n",
    "\n",
    "\n",
    "  def call(self, inputs):\n",
    "    chunks = [self.chunkers[i](inputs[:, self.mask_starts[i]:self.mask_ends[i]]) for i, chunker in enumerate(self.chunkers)]\n",
    "    y = self.concat_layer(chunks)\n",
    "    return y\n"
   ]
  },
  {
   "cell_type": "code",
   "execution_count": null,
   "metadata": {
    "id": "61EgnuNmoFLT"
   },
   "outputs": [],
   "source": [
    "METRIC = \"val_loss\"\n",
    "\n",
    "def create_callbacks(kfold=0, metric = METRIC):\n",
    "\n",
    "    reducelr = tf.keras.callbacks.ReduceLROnPlateau(\n",
    "        monitor= metric,\n",
    "        mode='auto',\n",
    "        factor=0.2,\n",
    "        patience=3,\n",
    "        verbose=0\n",
    "    )\n",
    "\n",
    "    earlystop = tf.keras.callbacks.EarlyStopping(\n",
    "        monitor= metric,\n",
    "        mode='auto',\n",
    "        patience= 20,\n",
    "        verbose=1,\n",
    "        restore_best_weights=True\n",
    "    )\n",
    "\n",
    "    callbacks = [\n",
    "                 reducelr,\n",
    "                 earlystop]\n",
    "\n",
    "    return callbacks"
   ]
  },
  {
   "cell_type": "code",
   "execution_count": null,
   "metadata": {
    "id": "bWFbNNF4i4HD"
   },
   "outputs": [],
   "source": [
    "def create_model(base_dim = 256):\n",
    "  model =  DEEP_HLA(in_channel=inChannel,\n",
    "      conv1_n_filters=base_dim, conv2_n_filters=base_dim//2,\n",
    "      conv1_kernel_size=base_dim//2, conv2_kernel_size=base_dim//2)\n",
    "  optimizer = tfa.optimizers.LAMB(learning_rate=learning_rate)\n",
    "  model.compile(optimizer, loss='categorical_crossentropy', metrics=tf.keras.metrics.CategoricalAccuracy())\n",
    "  return model"
   ]
  },
  {
   "cell_type": "code",
   "source": [
    "temp_model = create_model()\n",
    "temp_model.build((1, X.shape[1], inChannel))\n",
    "temp_model.summary()"
   ],
   "metadata": {
    "colab": {
     "base_uri": "https://localhost:8080/"
    },
    "id": "-D8GM9EKgmcP",
    "executionInfo": {
     "status": "ok",
     "timestamp": 1686886478159,
     "user_tz": 240,
     "elapsed": 190,
     "user": {
      "displayName": "net crowmaster",
      "userId": "14126946344391667924"
     }
    },
    "outputId": "94b42ec1-2c3e-4603-b99a-d4ac42d57bfb"
   },
   "execution_count": null,
   "outputs": [
    {
     "output_type": "stream",
     "name": "stdout",
     "text": [
      "Model: \"deep_hla\"\n",
      "_________________________________________________________________\n",
      " Layer (type)                Output Shape              Param #   \n",
      "=================================================================\n",
      " model (Functional)          (None, 848, 6)            4428738   \n",
      "                                                                 \n",
      " concatenate (Concatenate)   multiple                  0         \n",
      "                                                                 \n",
      "=================================================================\n",
      "Total params: 4,428,738\n",
      "Trainable params: 4,427,970\n",
      "Non-trainable params: 768\n",
      "_________________________________________________________________\n"
     ]
    }
   ]
  },
  {
   "cell_type": "code",
   "execution_count": null,
   "metadata": {
    "colab": {
     "base_uri": "https://localhost:8080/"
    },
    "executionInfo": {
     "elapsed": 5,
     "status": "ok",
     "timestamp": 1686886478159,
     "user": {
      "displayName": "net crowmaster",
      "userId": "14126946344391667924"
     },
     "user_tz": 240
    },
    "id": "5CVnIE7HK63r",
    "outputId": "6064a35c-04a1-4c55-f0ed-7b67da417875"
   },
   "outputs": [
    {
     "output_type": "execute_result",
     "data": {
      "text/plain": [
       "array(['ACB', 'ASW', 'BEB', 'CDX', 'CEU', 'CHB', 'CHS', 'CLM', 'ESN',\n",
       "       'FIN', 'GBR', 'GIH', 'GWD', 'IBS', 'ITU', 'JPT', 'KHV', 'LWK',\n",
       "       'MSL', 'MXL', 'PEL', 'PJL', 'PUR', 'STU', 'TSI', 'YRI'],\n",
       "      dtype=object)"
      ]
     },
     "metadata": {},
     "execution_count": 30
    }
   ],
   "source": [
    "np.unique(Y_train.values)"
   ]
  },
  {
   "cell_type": "markdown",
   "metadata": {
    "id": "TOA_NexzN5Qq"
   },
   "source": [
    "## Training"
   ]
  },
  {
   "cell_type": "code",
   "source": [
    "save_dir = \"[save_dir]/\"\n",
    "\n",
    "if not os.path.exists(save_dir):\n",
    "  # shutil.rmtree(save_dir)\n",
    "  os.makedirs(save_dir)"
   ],
   "metadata": {
    "id": "VYci2t-apYbZ"
   },
   "execution_count": null,
   "outputs": []
  },
  {
   "cell_type": "code",
   "execution_count": null,
   "metadata": {
    "colab": {
     "base_uri": "https://localhost:8080/"
    },
    "executionInfo": {
     "elapsed": 3,
     "status": "ok",
     "timestamp": 1686886478549,
     "user": {
      "displayName": "net crowmaster",
      "userId": "14126946344391667924"
     },
     "user_tz": 240
    },
    "id": "Ey5lpPElXlUd",
    "outputId": "0c36e8fd-c358-41dd-a626-5f4b6c11c4f9"
   },
   "outputs": [
    {
     "output_type": "execute_result",
     "data": {
      "text/plain": [
       "16"
      ]
     },
     "metadata": {},
     "execution_count": 32
    }
   ],
   "source": [
    "# A TPU V3-8 has 8 computing cores, the global batch size will be 1/16 x 8 = 8/128\n",
    "BATCH_SIZE_BASE = 2\n",
    "# Training configuration\n",
    "BATCH_SIZE = BATCH_SIZE_BASE * N_REPLICAS if TPU else 5\n",
    "BATCH_SIZE"
   ]
  },
  {
   "cell_type": "code",
   "source": [
    "# With constraint\n",
    "missing_perc = 0.1\n",
    "N_SPLITS=3\n",
    "NUM_EPOCHS = 1000\n",
    "accuracies = []\n",
    "results = None\n",
    "kf = KFold(n_splits=N_SPLITS, shuffle=True, random_state=2022)\n",
    "fold = 0\n",
    "_x = X[X.index.isin(Y_train.index)].to_numpy()\n",
    "_y = Y_train.to_numpy()\n",
    "for train_index, test_index in kf.split(_x):\n",
    "  fold += 1\n",
    "\n",
    "  print(f\"Training using fold {fold}\")\n",
    "  x_train, y_train, test_dataset, test_indices = _x[train_index], _y[train_index], (_x[test_index], _y[test_index]),Y_train.index[test_index]\n",
    "  x_train, x_valid, y_train, y_valid = train_test_split(x_train, y_train, test_size=0.10,\n",
    "                                      random_state=fold,\n",
    "                                      shuffle=True)\n",
    "\n",
    "  steps_per_epoch = 2*x_train.shape[0]//BATCH_SIZE\n",
    "  validation_steps = 2*x_valid.shape[0]//BATCH_SIZE\n",
    "  train_dataset = get_dataset(x_train, 0, feature_size, 0, 0, BATCH_SIZE)\n",
    "  valid_dataset = get_dataset(x_valid, 0, feature_size, 0, 0, BATCH_SIZE, training=False)\n",
    "\n",
    "  K.clear_session()\n",
    "  callbacks = create_callbacks()\n",
    "  with strategy.scope():\n",
    "    model = create_model()\n",
    "    history = model.fit(train_dataset, steps_per_epoch=steps_per_epoch, epochs=NUM_EPOCHS,\n",
    "            validation_data=valid_dataset,\n",
    "            validation_steps=validation_steps,\n",
    "            callbacks=callbacks, verbose=1)\n",
    "  for missing_perc in [\n",
    "                         0.05,\n",
    "                         0.1,\n",
    "                         0.2\n",
    "                         ]:\n",
    "    save_name = save_dir + f\"preds_mixed_mr_{missing_perc}_fold_{fold}_probs\"\n",
    "    avg_accuracy = []\n",
    "    preds = []\n",
    "    true_labels = []\n",
    "\n",
    "    # to_save_array = np.zeros((test_dataset[0].shape[0], test_dataset[0].shape[1]), dtype=object)\n",
    "    test_X_missing = np.empty((test_dataset[0].shape[0] * 2, test_dataset[0].shape[1]), dtype=test_dataset[0].dtype)\n",
    "    map_values_1_vec = np.vectorize(map_values_1)\n",
    "    map_values_2_vec = np.vectorize(map_values_2)\n",
    "    test_X_missing[0::2] = map_values_1_vec(test_dataset[0])\n",
    "    test_X_missing[1::2] = map_values_2_vec(test_dataset[0])\n",
    "    test_X_missing = to_categorical(test_X_missing, inChannel)\n",
    "\n",
    "\n",
    "    for i in tqdm(range(test_dataset[0].shape[0])):\n",
    "      missing_index, _ = train_test_split(np.arange(x_train.shape[1]), train_size=missing_perc,\n",
    "                                    random_state=i + fold,\n",
    "                                    shuffle=True,\n",
    "                                    stratify=bin_labels\n",
    "                                    )\n",
    "      test_X_missing[i*2:i*2+2, missing_index, :] = MISSING_VALUE\n",
    "      # predict\n",
    "    predict_onehots = model.predict(test_X_missing, verbose=0)\n",
    "    to_save_array = np.copy(predict_onehots)\n",
    "    for i in tqdm(range(test_dataset[0].shape[0])):\n",
    "      missing_index, _ = train_test_split(np.arange(x_train.shape[1]), train_size=missing_perc,\n",
    "                                    random_state=i + fold,\n",
    "                                    shuffle=True,\n",
    "                                    stratify=bin_labels\n",
    "                                    )\n",
    "      # only care the missing position\n",
    "      predict_missing_onehot = predict_onehots[i*2:(i+1)*2, missing_index, :]\n",
    "      # predict label\n",
    "      predict_missing = np.argmax(predict_missing_onehot, axis=2)\n",
    "      predict_missing_final = np.zeros((1, predict_missing.shape[1]))\n",
    "      for j in range(predict_missing.shape[1]):\n",
    "        predict_missing_final[:, j] = replacement_dict['|'.join([str(o) for o in predict_missing[:, j].tolist()])]\n",
    "      preds.extend(predict_missing_final.ravel().tolist())\n",
    "\n",
    "      predict_haplotypes = np.argmax(predict_onehots[i*2:(i+1)*2,], axis=2)\n",
    "      # for j in range(predict_onehots.shape[1]):\n",
    "      #   to_save_array[i, j] = '|'.join([str(o) for o in predict_haplotypes[:, j].tolist()])\n",
    "      # real label\n",
    "      label_missing_onehot = test_dataset[0][i:i + 1, missing_index]\n",
    "      # label_missing = np.argmax(label_missing_onehot, axis=2)\n",
    "      label_missing = test_dataset[0][i:i + 1, missing_index]\n",
    "      true_labels.extend(label_missing.ravel().tolist())\n",
    "      # accuracy\n",
    "      correct_prediction = np.equal(predict_missing_final, label_missing)\n",
    "      accuracy = np.mean(correct_prediction)\n",
    "\n",
    "      avg_accuracy.append(accuracy)\n",
    "\n",
    "    # df = pd.DataFrame(to_save_array, columns= headers[:], index = Y_train.index[test_index])\n",
    "    # df.to_csv(save_name)\n",
    "    np.save(save_name, to_save_array)\n",
    "    print('The average imputation accuracy ' \\\n",
    "          'on test data with {} missing genotypes is {:.4f}: '\n",
    "        .format(missing_perc, np.mean(avg_accuracy)))\n",
    "    cnf_matrix = confusion_matrix(true_labels, preds)\n",
    "    FP = cnf_matrix.sum(axis=0) - np.diag(cnf_matrix)\n",
    "    FN = cnf_matrix.sum(axis=1) - np.diag(cnf_matrix)\n",
    "    TP = np.diag(cnf_matrix)\n",
    "    TN = cnf_matrix.sum() - (FP + FN + TP)\n",
    "    FP = FP.astype(float)\n",
    "    FN = FN.astype(float)\n",
    "    TP = TP.astype(float)\n",
    "    TN = TN.astype(float)\n",
    "    # Sensitivity, hit rate, recall, or true positive rate\n",
    "    TPR = TP/(TP+FN)\n",
    "    # Specificity or true negative rate\n",
    "    TNR = TN/(TN+FP)\n",
    "    print(f\"Sensitivity: {np.mean(TPR)}\")\n",
    "    print(f\"Specificity: {np.mean(TNR)}\")\n",
    "    print(f\"F1-score macro: {f1_score(true_labels, preds, average='macro')}\")\n",
    "    print(f\"F1-score micro: {f1_score(true_labels, preds, average='micro')}\")\n",
    "    accuracies.append(np.mean(avg_accuracy))\n",
    "  print(f\"=====================================\")\n",
    "\n",
    "\n"
   ],
   "metadata": {
    "id": "Gq5VWuKWVZVx",
    "colab": {
     "base_uri": "https://localhost:8080/"
    },
    "outputId": "12586d2e-fcf1-4100-88f8-73eda14caf55",
    "executionInfo": {
     "status": "ok",
     "timestamp": 1686887414810,
     "user_tz": 240,
     "elapsed": 872480,
     "user": {
      "displayName": "net crowmaster",
      "userId": "14126946344391667924"
     }
    }
   },
   "execution_count": null,
   "outputs": [
    {
     "output_type": "stream",
     "name": "stdout",
     "text": [
      "Training using fold 1\n",
      "Epoch 1/1000\n",
      "187/187 [==============================] - 12s 41ms/step - loss: 1.0195 - categorical_accuracy: 0.8268 - val_loss: 4.4201 - val_categorical_accuracy: 0.0274 - lr: 0.0010\n",
      "Epoch 2/1000\n",
      "187/187 [==============================] - 4s 21ms/step - loss: 0.5556 - categorical_accuracy: 0.9645 - val_loss: 5.6273 - val_categorical_accuracy: 0.0286 - lr: 0.0010\n",
      "Epoch 3/1000\n",
      "187/187 [==============================] - 4s 21ms/step - loss: 0.5140 - categorical_accuracy: 0.9765 - val_loss: 1.8290 - val_categorical_accuracy: 0.2937 - lr: 0.0010\n",
      "Epoch 4/1000\n",
      "187/187 [==============================] - 4s 23ms/step - loss: 0.4984 - categorical_accuracy: 0.9630 - val_loss: 0.0651 - val_categorical_accuracy: 0.9841 - lr: 0.0010\n",
      "Epoch 5/1000\n",
      "187/187 [==============================] - 4s 21ms/step - loss: 0.3925 - categorical_accuracy: 0.9183 - val_loss: 0.0750 - val_categorical_accuracy: 0.9832 - lr: 0.0010\n",
      "Epoch 6/1000\n",
      "187/187 [==============================] - 4s 21ms/step - loss: 0.2993 - categorical_accuracy: 0.9791 - val_loss: 0.0634 - val_categorical_accuracy: 0.9846 - lr: 0.0010\n",
      "Epoch 7/1000\n",
      "187/187 [==============================] - 4s 21ms/step - loss: 0.2934 - categorical_accuracy: 0.9794 - val_loss: 0.0622 - val_categorical_accuracy: 0.9848 - lr: 0.0010\n",
      "Epoch 8/1000\n",
      "187/187 [==============================] - 4s 23ms/step - loss: 0.2910 - categorical_accuracy: 0.9794 - val_loss: 0.0714 - val_categorical_accuracy: 0.9841 - lr: 0.0010\n",
      "Epoch 9/1000\n",
      "187/187 [==============================] - 4s 20ms/step - loss: 0.2897 - categorical_accuracy: 0.9776 - val_loss: 0.0668 - val_categorical_accuracy: 0.9836 - lr: 0.0010\n",
      "Epoch 10/1000\n",
      "187/187 [==============================] - 4s 21ms/step - loss: 0.2387 - categorical_accuracy: 0.9715 - val_loss: 0.0756 - val_categorical_accuracy: 0.9799 - lr: 0.0010\n",
      "Epoch 11/1000\n",
      "187/187 [==============================] - 5s 28ms/step - loss: 0.2087 - categorical_accuracy: 0.9757 - val_loss: 0.0646 - val_categorical_accuracy: 0.9819 - lr: 2.0000e-04\n",
      "Epoch 12/1000\n",
      "187/187 [==============================] - 4s 22ms/step - loss: 0.2043 - categorical_accuracy: 0.9760 - val_loss: 0.0641 - val_categorical_accuracy: 0.9821 - lr: 2.0000e-04\n",
      "Epoch 13/1000\n",
      "187/187 [==============================] - 4s 23ms/step - loss: 0.2006 - categorical_accuracy: 0.9761 - val_loss: 0.0613 - val_categorical_accuracy: 0.9833 - lr: 2.0000e-04\n",
      "Epoch 14/1000\n",
      "187/187 [==============================] - 4s 21ms/step - loss: 0.1973 - categorical_accuracy: 0.9768 - val_loss: 0.0593 - val_categorical_accuracy: 0.9844 - lr: 2.0000e-04\n",
      "Epoch 15/1000\n",
      "187/187 [==============================] - 4s 23ms/step - loss: 0.1934 - categorical_accuracy: 0.9771 - val_loss: 0.0582 - val_categorical_accuracy: 0.9847 - lr: 2.0000e-04\n",
      "Epoch 16/1000\n",
      "187/187 [==============================] - 4s 22ms/step - loss: 0.1913 - categorical_accuracy: 0.9773 - val_loss: 0.0587 - val_categorical_accuracy: 0.9847 - lr: 2.0000e-04\n",
      "Epoch 17/1000\n",
      "187/187 [==============================] - 5s 25ms/step - loss: 0.1903 - categorical_accuracy: 0.9773 - val_loss: 0.0566 - val_categorical_accuracy: 0.9850 - lr: 2.0000e-04\n",
      "Epoch 18/1000\n",
      "187/187 [==============================] - 4s 21ms/step - loss: 0.1883 - categorical_accuracy: 0.9774 - val_loss: 0.0579 - val_categorical_accuracy: 0.9852 - lr: 2.0000e-04\n",
      "Epoch 19/1000\n",
      "187/187 [==============================] - 4s 23ms/step - loss: 0.1873 - categorical_accuracy: 0.9775 - val_loss: 0.0578 - val_categorical_accuracy: 0.9849 - lr: 2.0000e-04\n",
      "Epoch 20/1000\n",
      "187/187 [==============================] - 4s 21ms/step - loss: 0.1867 - categorical_accuracy: 0.9773 - val_loss: 0.0552 - val_categorical_accuracy: 0.9849 - lr: 2.0000e-04\n",
      "Epoch 21/1000\n",
      "187/187 [==============================] - 4s 21ms/step - loss: 0.1867 - categorical_accuracy: 0.9775 - val_loss: 0.0550 - val_categorical_accuracy: 0.9852 - lr: 2.0000e-04\n",
      "Epoch 22/1000\n",
      "187/187 [==============================] - 4s 22ms/step - loss: 0.1860 - categorical_accuracy: 0.9773 - val_loss: 0.0549 - val_categorical_accuracy: 0.9848 - lr: 2.0000e-04\n",
      "Epoch 23/1000\n",
      "187/187 [==============================] - 4s 23ms/step - loss: 0.1851 - categorical_accuracy: 0.9773 - val_loss: 0.0585 - val_categorical_accuracy: 0.9848 - lr: 2.0000e-04\n",
      "Epoch 24/1000\n",
      "187/187 [==============================] - 4s 21ms/step - loss: 0.1852 - categorical_accuracy: 0.9771 - val_loss: 0.0540 - val_categorical_accuracy: 0.9853 - lr: 2.0000e-04\n",
      "Epoch 25/1000\n",
      "187/187 [==============================] - 4s 21ms/step - loss: 0.1830 - categorical_accuracy: 0.9771 - val_loss: 0.0539 - val_categorical_accuracy: 0.9855 - lr: 2.0000e-04\n",
      "Epoch 26/1000\n",
      "187/187 [==============================] - 4s 21ms/step - loss: 0.1836 - categorical_accuracy: 0.9766 - val_loss: 0.0549 - val_categorical_accuracy: 0.9847 - lr: 2.0000e-04\n",
      "Epoch 27/1000\n",
      "187/187 [==============================] - 6s 31ms/step - loss: 0.1824 - categorical_accuracy: 0.9758 - val_loss: 0.0572 - val_categorical_accuracy: 0.9844 - lr: 2.0000e-04\n",
      "Epoch 28/1000\n",
      "187/187 [==============================] - 4s 21ms/step - loss: 0.1818 - categorical_accuracy: 0.9743 - val_loss: 0.0564 - val_categorical_accuracy: 0.9846 - lr: 4.0000e-05\n",
      "Epoch 29/1000\n",
      "187/187 [==============================] - 4s 21ms/step - loss: 0.1815 - categorical_accuracy: 0.9733 - val_loss: 0.0561 - val_categorical_accuracy: 0.9846 - lr: 4.0000e-05\n",
      "Epoch 30/1000\n",
      "187/187 [==============================] - 4s 22ms/step - loss: 0.1812 - categorical_accuracy: 0.9719 - val_loss: 0.0565 - val_categorical_accuracy: 0.9847 - lr: 4.0000e-05\n",
      "Epoch 31/1000\n",
      "187/187 [==============================] - 4s 23ms/step - loss: 0.1802 - categorical_accuracy: 0.9709 - val_loss: 0.0563 - val_categorical_accuracy: 0.9845 - lr: 8.0000e-06\n",
      "Epoch 32/1000\n",
      "187/187 [==============================] - 4s 20ms/step - loss: 0.1805 - categorical_accuracy: 0.9705 - val_loss: 0.0580 - val_categorical_accuracy: 0.9845 - lr: 8.0000e-06\n",
      "Epoch 33/1000\n",
      "187/187 [==============================] - 4s 21ms/step - loss: 0.1803 - categorical_accuracy: 0.9701 - val_loss: 0.0578 - val_categorical_accuracy: 0.9844 - lr: 8.0000e-06\n",
      "Epoch 34/1000\n",
      "187/187 [==============================] - 4s 22ms/step - loss: 0.1793 - categorical_accuracy: 0.9699 - val_loss: 0.0587 - val_categorical_accuracy: 0.9841 - lr: 1.6000e-06\n",
      "Epoch 35/1000\n",
      "187/187 [==============================] - 4s 22ms/step - loss: 0.1801 - categorical_accuracy: 0.9699 - val_loss: 0.0575 - val_categorical_accuracy: 0.9846 - lr: 1.6000e-06\n",
      "Epoch 36/1000\n",
      "187/187 [==============================] - 4s 20ms/step - loss: 0.1800 - categorical_accuracy: 0.9699 - val_loss: 0.0582 - val_categorical_accuracy: 0.9841 - lr: 1.6000e-06\n",
      "Epoch 37/1000\n",
      "187/187 [==============================] - 4s 21ms/step - loss: 0.1802 - categorical_accuracy: 0.9696 - val_loss: 0.0591 - val_categorical_accuracy: 0.9841 - lr: 3.2000e-07\n",
      "Epoch 38/1000\n",
      "187/187 [==============================] - 4s 22ms/step - loss: 0.1797 - categorical_accuracy: 0.9697 - val_loss: 0.0586 - val_categorical_accuracy: 0.9842 - lr: 3.2000e-07\n",
      "Epoch 39/1000\n",
      "187/187 [==============================] - 4s 21ms/step - loss: 0.1797 - categorical_accuracy: 0.9698 - val_loss: 0.0590 - val_categorical_accuracy: 0.9841 - lr: 3.2000e-07\n",
      "Epoch 40/1000\n",
      "187/187 [==============================] - 4s 21ms/step - loss: 0.1797 - categorical_accuracy: 0.9698 - val_loss: 0.0583 - val_categorical_accuracy: 0.9840 - lr: 6.4000e-08\n",
      "Epoch 41/1000\n",
      "187/187 [==============================] - 4s 20ms/step - loss: 0.1794 - categorical_accuracy: 0.9696 - val_loss: 0.0582 - val_categorical_accuracy: 0.9843 - lr: 6.4000e-08\n",
      "Epoch 42/1000\n",
      "187/187 [==============================] - 4s 22ms/step - loss: 0.1800 - categorical_accuracy: 0.9695 - val_loss: 0.0591 - val_categorical_accuracy: 0.9841 - lr: 6.4000e-08\n",
      "Epoch 43/1000\n",
      "187/187 [==============================] - 5s 26ms/step - loss: 0.1794 - categorical_accuracy: 0.9696 - val_loss: 0.0572 - val_categorical_accuracy: 0.9843 - lr: 1.2800e-08\n",
      "Epoch 44/1000\n",
      "187/187 [==============================] - 4s 21ms/step - loss: 0.1796 - categorical_accuracy: 0.9697 - val_loss: 0.0583 - val_categorical_accuracy: 0.9841 - lr: 1.2800e-08\n",
      "Epoch 45/1000\n",
      "185/187 [============================>.] - ETA: 0s - loss: 0.1797 - categorical_accuracy: 0.9697Restoring model weights from the end of the best epoch: 25.\n",
      "187/187 [==============================] - 4s 23ms/step - loss: 0.1797 - categorical_accuracy: 0.9697 - val_loss: 0.0591 - val_categorical_accuracy: 0.9842 - lr: 1.2800e-08\n",
      "Epoch 45: early stopping\n"
     ]
    },
    {
     "output_type": "stream",
     "name": "stderr",
     "text": [
      "100%|██████████| 835/835 [00:06<00:00, 122.15it/s]\n",
      "100%|██████████| 835/835 [00:06<00:00, 119.86it/s]\n",
      "<ipython-input-35-4a4cacd1a410>:107: RuntimeWarning: invalid value encountered in divide\n",
      "  TPR = TP/(TP+FN)\n"
     ]
    },
    {
     "output_type": "stream",
     "name": "stdout",
     "text": [
      "The average imputation accuracy on test data with 0.05 missing genotypes is 0.7189: \n",
      "Sensitivity: nan\n",
      "Specificity: 0.9704739880629936\n",
      "F1-score macro: 0.06935853795888577\n",
      "F1-score micro: 0.7189050470487596\n"
     ]
    },
    {
     "output_type": "stream",
     "name": "stderr",
     "text": [
      "100%|██████████| 835/835 [00:04<00:00, 172.34it/s]\n",
      "100%|██████████| 835/835 [00:06<00:00, 124.34it/s]\n"
     ]
    },
    {
     "output_type": "stream",
     "name": "stdout",
     "text": [
      "The average imputation accuracy on test data with 0.1 missing genotypes is 0.8779: \n",
      "Sensitivity: nan\n",
      "Specificity: 0.9754313539697511\n"
     ]
    },
    {
     "output_type": "stream",
     "name": "stderr",
     "text": [
      "<ipython-input-35-4a4cacd1a410>:107: RuntimeWarning: invalid value encountered in divide\n",
      "  TPR = TP/(TP+FN)\n"
     ]
    },
    {
     "output_type": "stream",
     "name": "stdout",
     "text": [
      "F1-score macro: 0.08827132571558899\n",
      "F1-score micro: 0.8778870829769032\n"
     ]
    },
    {
     "output_type": "stream",
     "name": "stderr",
     "text": [
      "100%|██████████| 835/835 [00:05<00:00, 161.03it/s]\n",
      "100%|██████████| 835/835 [00:05<00:00, 148.82it/s]\n"
     ]
    },
    {
     "output_type": "stream",
     "name": "stdout",
     "text": [
      "The average imputation accuracy on test data with 0.2 missing genotypes is 0.9425: \n"
     ]
    },
    {
     "output_type": "stream",
     "name": "stderr",
     "text": [
      "<ipython-input-35-4a4cacd1a410>:107: RuntimeWarning: invalid value encountered in divide\n",
      "  TPR = TP/(TP+FN)\n"
     ]
    },
    {
     "output_type": "stream",
     "name": "stdout",
     "text": [
      "Sensitivity: nan\n",
      "Specificity: 0.9701397347157388\n",
      "F1-score macro: 0.09235348282695903\n",
      "F1-score micro: 0.9424866243843674\n",
      "=====================================\n",
      "Training using fold 2\n",
      "Epoch 1/1000\n",
      "187/187 [==============================] - 10s 28ms/step - loss: 1.4813 - categorical_accuracy: 0.6970 - val_loss: 5.0474 - val_categorical_accuracy: 0.0072 - lr: 0.0010\n",
      "Epoch 2/1000\n",
      "187/187 [==============================] - 4s 22ms/step - loss: 0.7422 - categorical_accuracy: 0.8565 - val_loss: 5.7670 - val_categorical_accuracy: 0.0057 - lr: 0.0010\n",
      "Epoch 3/1000\n",
      "187/187 [==============================] - 4s 22ms/step - loss: 0.5387 - categorical_accuracy: 0.9705 - val_loss: 0.8278 - val_categorical_accuracy: 0.8166 - lr: 0.0010\n",
      "Epoch 4/1000\n",
      "187/187 [==============================] - 4s 20ms/step - loss: 0.5089 - categorical_accuracy: 0.9777 - val_loss: 0.0747 - val_categorical_accuracy: 0.9841 - lr: 0.0010\n",
      "Epoch 5/1000\n",
      "187/187 [==============================] - 4s 20ms/step - loss: 0.5037 - categorical_accuracy: 0.9793 - val_loss: 0.0671 - val_categorical_accuracy: 0.9850 - lr: 0.0010\n",
      "Epoch 6/1000\n",
      "187/187 [==============================] - 4s 22ms/step - loss: 0.4999 - categorical_accuracy: 0.9774 - val_loss: 0.0754 - val_categorical_accuracy: 0.9828 - lr: 0.0010\n",
      "Epoch 7/1000\n",
      "187/187 [==============================] - 4s 21ms/step - loss: 0.4153 - categorical_accuracy: 0.9611 - val_loss: 0.1011 - val_categorical_accuracy: 0.9770 - lr: 0.0010\n",
      "Epoch 8/1000\n",
      "187/187 [==============================] - 4s 20ms/step - loss: 0.3190 - categorical_accuracy: 0.9747 - val_loss: 0.0683 - val_categorical_accuracy: 0.9816 - lr: 0.0010\n",
      "Epoch 9/1000\n",
      "187/187 [==============================] - 4s 21ms/step - loss: 0.3044 - categorical_accuracy: 0.9752 - val_loss: 0.0635 - val_categorical_accuracy: 0.9816 - lr: 2.0000e-04\n",
      "Epoch 10/1000\n",
      "187/187 [==============================] - 5s 26ms/step - loss: 0.3028 - categorical_accuracy: 0.9753 - val_loss: 0.0657 - val_categorical_accuracy: 0.9813 - lr: 2.0000e-04\n",
      "Epoch 11/1000\n",
      "187/187 [==============================] - 4s 21ms/step - loss: 0.3020 - categorical_accuracy: 0.9754 - val_loss: 0.0614 - val_categorical_accuracy: 0.9820 - lr: 2.0000e-04\n",
      "Epoch 12/1000\n",
      "187/187 [==============================] - 4s 20ms/step - loss: 0.3003 - categorical_accuracy: 0.9753 - val_loss: 0.0624 - val_categorical_accuracy: 0.9816 - lr: 2.0000e-04\n",
      "Epoch 13/1000\n",
      "187/187 [==============================] - 4s 20ms/step - loss: 0.3003 - categorical_accuracy: 0.9754 - val_loss: 0.0624 - val_categorical_accuracy: 0.9818 - lr: 2.0000e-04\n",
      "Epoch 14/1000\n",
      "187/187 [==============================] - 4s 23ms/step - loss: 0.2989 - categorical_accuracy: 0.9755 - val_loss: 0.0624 - val_categorical_accuracy: 0.9817 - lr: 2.0000e-04\n",
      "Epoch 15/1000\n",
      "187/187 [==============================] - 4s 21ms/step - loss: 0.2984 - categorical_accuracy: 0.9755 - val_loss: 0.0615 - val_categorical_accuracy: 0.9817 - lr: 4.0000e-05\n",
      "Epoch 16/1000\n",
      "187/187 [==============================] - 4s 21ms/step - loss: 0.2980 - categorical_accuracy: 0.9755 - val_loss: 0.0605 - val_categorical_accuracy: 0.9817 - lr: 4.0000e-05\n",
      "Epoch 17/1000\n",
      "187/187 [==============================] - 4s 21ms/step - loss: 0.2978 - categorical_accuracy: 0.9754 - val_loss: 0.0614 - val_categorical_accuracy: 0.9817 - lr: 4.0000e-05\n",
      "Epoch 18/1000\n",
      "187/187 [==============================] - 5s 25ms/step - loss: 0.2976 - categorical_accuracy: 0.9756 - val_loss: 0.0607 - val_categorical_accuracy: 0.9817 - lr: 4.0000e-05\n",
      "Epoch 19/1000\n",
      "187/187 [==============================] - 4s 22ms/step - loss: 0.2978 - categorical_accuracy: 0.9755 - val_loss: 0.0616 - val_categorical_accuracy: 0.9816 - lr: 4.0000e-05\n",
      "Epoch 20/1000\n",
      "187/187 [==============================] - 4s 21ms/step - loss: 0.2965 - categorical_accuracy: 0.9755 - val_loss: 0.0599 - val_categorical_accuracy: 0.9820 - lr: 8.0000e-06\n",
      "Epoch 21/1000\n",
      "187/187 [==============================] - 4s 22ms/step - loss: 0.2978 - categorical_accuracy: 0.9756 - val_loss: 0.0603 - val_categorical_accuracy: 0.9820 - lr: 8.0000e-06\n",
      "Epoch 22/1000\n",
      "187/187 [==============================] - 4s 23ms/step - loss: 0.2972 - categorical_accuracy: 0.9754 - val_loss: 0.0602 - val_categorical_accuracy: 0.9817 - lr: 8.0000e-06\n",
      "Epoch 23/1000\n",
      "187/187 [==============================] - 4s 20ms/step - loss: 0.2974 - categorical_accuracy: 0.9756 - val_loss: 0.0605 - val_categorical_accuracy: 0.9817 - lr: 8.0000e-06\n",
      "Epoch 24/1000\n",
      "187/187 [==============================] - 4s 20ms/step - loss: 0.2966 - categorical_accuracy: 0.9755 - val_loss: 0.0609 - val_categorical_accuracy: 0.9817 - lr: 1.6000e-06\n",
      "Epoch 25/1000\n",
      "187/187 [==============================] - 4s 22ms/step - loss: 0.2972 - categorical_accuracy: 0.9756 - val_loss: 0.0609 - val_categorical_accuracy: 0.9817 - lr: 1.6000e-06\n",
      "Epoch 26/1000\n",
      "187/187 [==============================] - 4s 23ms/step - loss: 0.2976 - categorical_accuracy: 0.9754 - val_loss: 0.0602 - val_categorical_accuracy: 0.9818 - lr: 1.6000e-06\n",
      "Epoch 27/1000\n",
      "187/187 [==============================] - 4s 21ms/step - loss: 0.2971 - categorical_accuracy: 0.9756 - val_loss: 0.0597 - val_categorical_accuracy: 0.9818 - lr: 3.2000e-07\n",
      "Epoch 28/1000\n",
      "187/187 [==============================] - 4s 21ms/step - loss: 0.2973 - categorical_accuracy: 0.9755 - val_loss: 0.0597 - val_categorical_accuracy: 0.9818 - lr: 3.2000e-07\n",
      "Epoch 29/1000\n",
      "187/187 [==============================] - 4s 22ms/step - loss: 0.2966 - categorical_accuracy: 0.9756 - val_loss: 0.0600 - val_categorical_accuracy: 0.9820 - lr: 3.2000e-07\n",
      "Epoch 30/1000\n",
      "187/187 [==============================] - 4s 22ms/step - loss: 0.2970 - categorical_accuracy: 0.9756 - val_loss: 0.0619 - val_categorical_accuracy: 0.9816 - lr: 3.2000e-07\n",
      "Epoch 31/1000\n",
      "187/187 [==============================] - 4s 21ms/step - loss: 0.2969 - categorical_accuracy: 0.9755 - val_loss: 0.0612 - val_categorical_accuracy: 0.9817 - lr: 6.4000e-08\n",
      "Epoch 32/1000\n",
      "187/187 [==============================] - 4s 21ms/step - loss: 0.2971 - categorical_accuracy: 0.9756 - val_loss: 0.0600 - val_categorical_accuracy: 0.9818 - lr: 6.4000e-08\n",
      "Epoch 33/1000\n",
      "187/187 [==============================] - 4s 24ms/step - loss: 0.2967 - categorical_accuracy: 0.9754 - val_loss: 0.0608 - val_categorical_accuracy: 0.9816 - lr: 6.4000e-08\n",
      "Epoch 34/1000\n",
      "187/187 [==============================] - 4s 22ms/step - loss: 0.2965 - categorical_accuracy: 0.9756 - val_loss: 0.0604 - val_categorical_accuracy: 0.9818 - lr: 1.2800e-08\n",
      "Epoch 35/1000\n",
      "187/187 [==============================] - 4s 20ms/step - loss: 0.2973 - categorical_accuracy: 0.9754 - val_loss: 0.0604 - val_categorical_accuracy: 0.9818 - lr: 1.2800e-08\n",
      "Epoch 36/1000\n",
      "187/187 [==============================] - 4s 21ms/step - loss: 0.2970 - categorical_accuracy: 0.9755 - val_loss: 0.0612 - val_categorical_accuracy: 0.9817 - lr: 1.2800e-08\n",
      "Epoch 37/1000\n",
      "187/187 [==============================] - 4s 23ms/step - loss: 0.2969 - categorical_accuracy: 0.9755 - val_loss: 0.0602 - val_categorical_accuracy: 0.9820 - lr: 2.5600e-09\n",
      "Epoch 38/1000\n",
      "187/187 [==============================] - 4s 22ms/step - loss: 0.2968 - categorical_accuracy: 0.9755 - val_loss: 0.0593 - val_categorical_accuracy: 0.9820 - lr: 2.5600e-09\n",
      "Epoch 39/1000\n",
      "187/187 [==============================] - 4s 20ms/step - loss: 0.2977 - categorical_accuracy: 0.9755 - val_loss: 0.0601 - val_categorical_accuracy: 0.9818 - lr: 2.5600e-09\n",
      "Epoch 40/1000\n",
      "187/187 [==============================] - 4s 20ms/step - loss: 0.2971 - categorical_accuracy: 0.9755 - val_loss: 0.0612 - val_categorical_accuracy: 0.9817 - lr: 2.5600e-09\n",
      "Epoch 41/1000\n",
      "187/187 [==============================] - 4s 23ms/step - loss: 0.2970 - categorical_accuracy: 0.9756 - val_loss: 0.0604 - val_categorical_accuracy: 0.9819 - lr: 2.5600e-09\n",
      "Epoch 42/1000\n",
      "187/187 [==============================] - 4s 21ms/step - loss: 0.2972 - categorical_accuracy: 0.9755 - val_loss: 0.0605 - val_categorical_accuracy: 0.9819 - lr: 5.1200e-10\n",
      "Epoch 43/1000\n",
      "187/187 [==============================] - 4s 20ms/step - loss: 0.2971 - categorical_accuracy: 0.9755 - val_loss: 0.0605 - val_categorical_accuracy: 0.9818 - lr: 5.1200e-10\n",
      "Epoch 44/1000\n",
      "187/187 [==============================] - 5s 25ms/step - loss: 0.2970 - categorical_accuracy: 0.9756 - val_loss: 0.0595 - val_categorical_accuracy: 0.9819 - lr: 5.1200e-10\n",
      "Epoch 45/1000\n",
      "187/187 [==============================] - 4s 23ms/step - loss: 0.2964 - categorical_accuracy: 0.9756 - val_loss: 0.0612 - val_categorical_accuracy: 0.9817 - lr: 1.0240e-10\n",
      "Epoch 46/1000\n",
      "187/187 [==============================] - 4s 21ms/step - loss: 0.2975 - categorical_accuracy: 0.9755 - val_loss: 0.0604 - val_categorical_accuracy: 0.9818 - lr: 1.0240e-10\n",
      "Epoch 47/1000\n",
      "187/187 [==============================] - 4s 21ms/step - loss: 0.2967 - categorical_accuracy: 0.9755 - val_loss: 0.0612 - val_categorical_accuracy: 0.9817 - lr: 1.0240e-10\n",
      "Epoch 48/1000\n",
      "187/187 [==============================] - 4s 22ms/step - loss: 0.2966 - categorical_accuracy: 0.9755 - val_loss: 0.0608 - val_categorical_accuracy: 0.9818 - lr: 2.0480e-11\n",
      "Epoch 49/1000\n",
      "187/187 [==============================] - 4s 23ms/step - loss: 0.2983 - categorical_accuracy: 0.9755 - val_loss: 0.0608 - val_categorical_accuracy: 0.9816 - lr: 2.0480e-11\n",
      "Epoch 50/1000\n",
      "187/187 [==============================] - 4s 21ms/step - loss: 0.2979 - categorical_accuracy: 0.9755 - val_loss: 0.0609 - val_categorical_accuracy: 0.9817 - lr: 2.0480e-11\n",
      "Epoch 51/1000\n",
      "187/187 [==============================] - 4s 21ms/step - loss: 0.2972 - categorical_accuracy: 0.9755 - val_loss: 0.0603 - val_categorical_accuracy: 0.9816 - lr: 4.0960e-12\n",
      "Epoch 52/1000\n",
      "187/187 [==============================] - 4s 22ms/step - loss: 0.2970 - categorical_accuracy: 0.9755 - val_loss: 0.0608 - val_categorical_accuracy: 0.9817 - lr: 4.0960e-12\n",
      "Epoch 53/1000\n",
      "187/187 [==============================] - 4s 22ms/step - loss: 0.2965 - categorical_accuracy: 0.9755 - val_loss: 0.0609 - val_categorical_accuracy: 0.9817 - lr: 4.0960e-12\n",
      "Epoch 54/1000\n",
      "187/187 [==============================] - 4s 20ms/step - loss: 0.2968 - categorical_accuracy: 0.9756 - val_loss: 0.0614 - val_categorical_accuracy: 0.9816 - lr: 8.1920e-13\n",
      "Epoch 55/1000\n",
      "187/187 [==============================] - 4s 20ms/step - loss: 0.2971 - categorical_accuracy: 0.9755 - val_loss: 0.0608 - val_categorical_accuracy: 0.9815 - lr: 8.1920e-13\n",
      "Epoch 56/1000\n",
      "187/187 [==============================] - 4s 22ms/step - loss: 0.2977 - categorical_accuracy: 0.9754 - val_loss: 0.0606 - val_categorical_accuracy: 0.9818 - lr: 8.1920e-13\n",
      "Epoch 57/1000\n",
      "187/187 [==============================] - 4s 22ms/step - loss: 0.2971 - categorical_accuracy: 0.9755 - val_loss: 0.0613 - val_categorical_accuracy: 0.9816 - lr: 1.6384e-13\n",
      "Epoch 58/1000\n",
      "184/187 [============================>.] - ETA: 0s - loss: 0.2971 - categorical_accuracy: 0.9756Restoring model weights from the end of the best epoch: 38.\n",
      "187/187 [==============================] - 4s 23ms/step - loss: 0.2972 - categorical_accuracy: 0.9756 - val_loss: 0.0601 - val_categorical_accuracy: 0.9818 - lr: 1.6384e-13\n",
      "Epoch 58: early stopping\n"
     ]
    },
    {
     "output_type": "stream",
     "name": "stderr",
     "text": [
      "100%|██████████| 835/835 [00:04<00:00, 167.69it/s]\n",
      "100%|██████████| 835/835 [00:05<00:00, 140.28it/s]\n",
      "<ipython-input-35-4a4cacd1a410>:107: RuntimeWarning: invalid value encountered in divide\n",
      "  TPR = TP/(TP+FN)\n"
     ]
    },
    {
     "output_type": "stream",
     "name": "stdout",
     "text": [
      "The average imputation accuracy on test data with 0.05 missing genotypes is 0.3390: \n",
      "Sensitivity: nan\n",
      "Specificity: 0.953287072645868\n",
      "F1-score macro: 0.03965819734401835\n",
      "F1-score micro: 0.3390362132877103\n"
     ]
    },
    {
     "output_type": "stream",
     "name": "stderr",
     "text": [
      "100%|██████████| 835/835 [00:04<00:00, 167.74it/s]\n",
      "100%|██████████| 835/835 [00:07<00:00, 119.01it/s]\n",
      "<ipython-input-35-4a4cacd1a410>:107: RuntimeWarning: invalid value encountered in divide\n",
      "  TPR = TP/(TP+FN)\n"
     ]
    },
    {
     "output_type": "stream",
     "name": "stdout",
     "text": [
      "The average imputation accuracy on test data with 0.1 missing genotypes is 0.6625: \n",
      "Sensitivity: nan\n",
      "Specificity: 0.9612496504350029\n",
      "F1-score macro: 0.06362908815035036\n",
      "F1-score micro: 0.6624607927003137\n"
     ]
    },
    {
     "output_type": "stream",
     "name": "stderr",
     "text": [
      "100%|██████████| 835/835 [00:04<00:00, 177.61it/s]\n",
      "100%|██████████| 835/835 [00:07<00:00, 107.22it/s]\n"
     ]
    },
    {
     "output_type": "stream",
     "name": "stdout",
     "text": [
      "The average imputation accuracy on test data with 0.2 missing genotypes is 0.9382: \n",
      "Sensitivity: nan\n",
      "Specificity: 0.9580482672927931\n"
     ]
    },
    {
     "output_type": "stream",
     "name": "stderr",
     "text": [
      "<ipython-input-35-4a4cacd1a410>:107: RuntimeWarning: invalid value encountered in divide\n",
      "  TPR = TP/(TP+FN)\n"
     ]
    },
    {
     "output_type": "stream",
     "name": "stdout",
     "text": [
      "F1-score macro: 0.10092190031867121\n",
      "F1-score micro: 0.9382276866385572\n",
      "=====================================\n",
      "Training using fold 3\n",
      "Epoch 1/1000\n",
      "187/187 [==============================] - 11s 35ms/step - loss: 1.1613 - categorical_accuracy: 0.5370 - val_loss: 3.7439 - val_categorical_accuracy: 6.7070e-04 - lr: 0.0010\n",
      "Epoch 2/1000\n",
      "187/187 [==============================] - 4s 21ms/step - loss: 0.4586 - categorical_accuracy: 0.9449 - val_loss: 4.2420 - val_categorical_accuracy: 6.8544e-04 - lr: 0.0010\n",
      "Epoch 3/1000\n",
      "187/187 [==============================] - 4s 21ms/step - loss: 0.3343 - categorical_accuracy: 0.9688 - val_loss: 0.7493 - val_categorical_accuracy: 0.8347 - lr: 0.0010\n",
      "Epoch 4/1000\n",
      "187/187 [==============================] - 4s 21ms/step - loss: 0.3154 - categorical_accuracy: 0.9697 - val_loss: 0.0891 - val_categorical_accuracy: 0.9698 - lr: 0.0010\n",
      "Epoch 5/1000\n",
      "187/187 [==============================] - 4s 24ms/step - loss: 0.3100 - categorical_accuracy: 0.9699 - val_loss: 0.0826 - val_categorical_accuracy: 0.9699 - lr: 0.0010\n",
      "Epoch 6/1000\n",
      "187/187 [==============================] - 4s 21ms/step - loss: 0.3079 - categorical_accuracy: 0.9700 - val_loss: 0.0795 - val_categorical_accuracy: 0.9699 - lr: 0.0010\n",
      "Epoch 7/1000\n",
      "187/187 [==============================] - 4s 20ms/step - loss: 0.3058 - categorical_accuracy: 0.9701 - val_loss: 0.0805 - val_categorical_accuracy: 0.9699 - lr: 0.0010\n",
      "Epoch 8/1000\n",
      "187/187 [==============================] - 4s 22ms/step - loss: 0.3040 - categorical_accuracy: 0.9701 - val_loss: 0.0776 - val_categorical_accuracy: 0.9699 - lr: 0.0010\n",
      "Epoch 9/1000\n",
      "187/187 [==============================] - 4s 23ms/step - loss: 0.3029 - categorical_accuracy: 0.9701 - val_loss: 0.0801 - val_categorical_accuracy: 0.9700 - lr: 0.0010\n",
      "Epoch 10/1000\n",
      "187/187 [==============================] - 4s 20ms/step - loss: 0.3032 - categorical_accuracy: 0.9701 - val_loss: 0.0792 - val_categorical_accuracy: 0.9699 - lr: 0.0010\n",
      "Epoch 11/1000\n",
      "187/187 [==============================] - 4s 21ms/step - loss: 0.3010 - categorical_accuracy: 0.9701 - val_loss: 0.0748 - val_categorical_accuracy: 0.9699 - lr: 0.0010\n",
      "Epoch 12/1000\n",
      "187/187 [==============================] - 4s 22ms/step - loss: 0.2992 - categorical_accuracy: 0.9702 - val_loss: 0.0773 - val_categorical_accuracy: 0.9699 - lr: 0.0010\n",
      "Epoch 13/1000\n",
      "187/187 [==============================] - 4s 23ms/step - loss: 0.2983 - categorical_accuracy: 0.9702 - val_loss: 0.0742 - val_categorical_accuracy: 0.9699 - lr: 0.0010\n",
      "Epoch 14/1000\n",
      "187/187 [==============================] - 4s 20ms/step - loss: 0.2975 - categorical_accuracy: 0.9701 - val_loss: 0.0743 - val_categorical_accuracy: 0.9699 - lr: 0.0010\n",
      "Epoch 15/1000\n",
      "187/187 [==============================] - 4s 21ms/step - loss: 0.2962 - categorical_accuracy: 0.9701 - val_loss: 0.0732 - val_categorical_accuracy: 0.9700 - lr: 0.0010\n",
      "Epoch 16/1000\n",
      "187/187 [==============================] - 4s 22ms/step - loss: 0.2957 - categorical_accuracy: 0.9701 - val_loss: 0.0756 - val_categorical_accuracy: 0.9700 - lr: 0.0010\n",
      "Epoch 17/1000\n",
      "187/187 [==============================] - 4s 21ms/step - loss: 0.2935 - categorical_accuracy: 0.9701 - val_loss: 0.0739 - val_categorical_accuracy: 0.9699 - lr: 0.0010\n",
      "Epoch 18/1000\n",
      "187/187 [==============================] - 4s 21ms/step - loss: 0.2925 - categorical_accuracy: 0.9701 - val_loss: 0.0719 - val_categorical_accuracy: 0.9700 - lr: 0.0010\n",
      "Epoch 19/1000\n",
      "187/187 [==============================] - 4s 20ms/step - loss: 0.2903 - categorical_accuracy: 0.9700 - val_loss: 0.0761 - val_categorical_accuracy: 0.9697 - lr: 0.0010\n",
      "Epoch 20/1000\n",
      "187/187 [==============================] - 4s 22ms/step - loss: 0.2855 - categorical_accuracy: 0.9695 - val_loss: 0.0757 - val_categorical_accuracy: 0.9699 - lr: 0.0010\n",
      "Epoch 21/1000\n",
      "187/187 [==============================] - 4s 22ms/step - loss: 0.2369 - categorical_accuracy: 0.9700 - val_loss: 0.0761 - val_categorical_accuracy: 0.9699 - lr: 0.0010\n",
      "Epoch 22/1000\n",
      "187/187 [==============================] - 4s 20ms/step - loss: 0.2132 - categorical_accuracy: 0.9700 - val_loss: 0.0759 - val_categorical_accuracy: 0.9699 - lr: 2.0000e-04\n",
      "Epoch 23/1000\n",
      "187/187 [==============================] - 4s 21ms/step - loss: 0.1975 - categorical_accuracy: 0.9699 - val_loss: 0.0709 - val_categorical_accuracy: 0.9699 - lr: 2.0000e-04\n",
      "Epoch 24/1000\n",
      "187/187 [==============================] - 4s 22ms/step - loss: 0.1925 - categorical_accuracy: 0.9700 - val_loss: 0.0729 - val_categorical_accuracy: 0.9698 - lr: 2.0000e-04\n",
      "Epoch 25/1000\n",
      "187/187 [==============================] - 4s 23ms/step - loss: 0.1886 - categorical_accuracy: 0.9700 - val_loss: 0.0692 - val_categorical_accuracy: 0.9699 - lr: 2.0000e-04\n",
      "Epoch 26/1000\n",
      "187/187 [==============================] - 4s 24ms/step - loss: 0.1856 - categorical_accuracy: 0.9700 - val_loss: 0.0684 - val_categorical_accuracy: 0.9699 - lr: 2.0000e-04\n",
      "Epoch 27/1000\n",
      "187/187 [==============================] - 4s 21ms/step - loss: 0.1850 - categorical_accuracy: 0.9700 - val_loss: 0.0691 - val_categorical_accuracy: 0.9699 - lr: 2.0000e-04\n",
      "Epoch 28/1000\n",
      "187/187 [==============================] - 4s 23ms/step - loss: 0.1840 - categorical_accuracy: 0.9700 - val_loss: 0.0713 - val_categorical_accuracy: 0.9699 - lr: 2.0000e-04\n",
      "Epoch 29/1000\n",
      "187/187 [==============================] - 4s 21ms/step - loss: 0.1826 - categorical_accuracy: 0.9699 - val_loss: 0.0685 - val_categorical_accuracy: 0.9699 - lr: 2.0000e-04\n",
      "Epoch 30/1000\n",
      "187/187 [==============================] - 4s 20ms/step - loss: 0.1817 - categorical_accuracy: 0.9700 - val_loss: 0.0685 - val_categorical_accuracy: 0.9699 - lr: 4.0000e-05\n",
      "Epoch 31/1000\n",
      "187/187 [==============================] - 4s 21ms/step - loss: 0.1820 - categorical_accuracy: 0.9699 - val_loss: 0.0689 - val_categorical_accuracy: 0.9699 - lr: 4.0000e-05\n",
      "Epoch 32/1000\n",
      "187/187 [==============================] - 4s 23ms/step - loss: 0.1814 - categorical_accuracy: 0.9700 - val_loss: 0.0683 - val_categorical_accuracy: 0.9699 - lr: 4.0000e-05\n",
      "Epoch 33/1000\n",
      "187/187 [==============================] - 4s 22ms/step - loss: 0.1814 - categorical_accuracy: 0.9699 - val_loss: 0.0678 - val_categorical_accuracy: 0.9700 - lr: 4.0000e-05\n",
      "Epoch 34/1000\n",
      "187/187 [==============================] - 4s 24ms/step - loss: 0.1819 - categorical_accuracy: 0.9699 - val_loss: 0.0689 - val_categorical_accuracy: 0.9699 - lr: 4.0000e-05\n",
      "Epoch 35/1000\n",
      "187/187 [==============================] - 4s 21ms/step - loss: 0.1811 - categorical_accuracy: 0.9699 - val_loss: 0.0683 - val_categorical_accuracy: 0.9699 - lr: 4.0000e-05\n",
      "Epoch 36/1000\n",
      "187/187 [==============================] - 4s 23ms/step - loss: 0.1811 - categorical_accuracy: 0.9697 - val_loss: 0.0682 - val_categorical_accuracy: 0.9699 - lr: 4.0000e-05\n",
      "Epoch 37/1000\n",
      "187/187 [==============================] - 4s 20ms/step - loss: 0.1806 - categorical_accuracy: 0.9698 - val_loss: 0.0683 - val_categorical_accuracy: 0.9699 - lr: 8.0000e-06\n",
      "Epoch 38/1000\n",
      "187/187 [==============================] - 4s 20ms/step - loss: 0.1812 - categorical_accuracy: 0.9697 - val_loss: 0.0690 - val_categorical_accuracy: 0.9699 - lr: 8.0000e-06\n",
      "Epoch 39/1000\n",
      "187/187 [==============================] - 4s 20ms/step - loss: 0.1804 - categorical_accuracy: 0.9698 - val_loss: 0.0688 - val_categorical_accuracy: 0.9699 - lr: 8.0000e-06\n",
      "Epoch 40/1000\n",
      "187/187 [==============================] - 4s 23ms/step - loss: 0.1809 - categorical_accuracy: 0.9697 - val_loss: 0.0690 - val_categorical_accuracy: 0.9698 - lr: 1.6000e-06\n",
      "Epoch 41/1000\n",
      "187/187 [==============================] - 4s 20ms/step - loss: 0.1807 - categorical_accuracy: 0.9696 - val_loss: 0.0680 - val_categorical_accuracy: 0.9699 - lr: 1.6000e-06\n",
      "Epoch 42/1000\n",
      "187/187 [==============================] - 4s 20ms/step - loss: 0.1809 - categorical_accuracy: 0.9696 - val_loss: 0.0689 - val_categorical_accuracy: 0.9699 - lr: 1.6000e-06\n",
      "Epoch 43/1000\n",
      "187/187 [==============================] - 4s 21ms/step - loss: 0.1811 - categorical_accuracy: 0.9697 - val_loss: 0.0687 - val_categorical_accuracy: 0.9699 - lr: 3.2000e-07\n",
      "Epoch 44/1000\n",
      "187/187 [==============================] - 4s 23ms/step - loss: 0.1812 - categorical_accuracy: 0.9698 - val_loss: 0.0685 - val_categorical_accuracy: 0.9699 - lr: 3.2000e-07\n",
      "Epoch 45/1000\n",
      "187/187 [==============================] - 4s 21ms/step - loss: 0.1811 - categorical_accuracy: 0.9696 - val_loss: 0.0681 - val_categorical_accuracy: 0.9699 - lr: 3.2000e-07\n",
      "Epoch 46/1000\n",
      "187/187 [==============================] - 4s 20ms/step - loss: 0.1810 - categorical_accuracy: 0.9696 - val_loss: 0.0682 - val_categorical_accuracy: 0.9699 - lr: 6.4000e-08\n",
      "Epoch 47/1000\n",
      "187/187 [==============================] - 4s 21ms/step - loss: 0.1809 - categorical_accuracy: 0.9697 - val_loss: 0.0687 - val_categorical_accuracy: 0.9699 - lr: 6.4000e-08\n",
      "Epoch 48/1000\n",
      "187/187 [==============================] - 4s 23ms/step - loss: 0.1811 - categorical_accuracy: 0.9697 - val_loss: 0.0670 - val_categorical_accuracy: 0.9699 - lr: 6.4000e-08\n",
      "Epoch 49/1000\n",
      "187/187 [==============================] - 4s 20ms/step - loss: 0.1806 - categorical_accuracy: 0.9697 - val_loss: 0.0680 - val_categorical_accuracy: 0.9699 - lr: 6.4000e-08\n",
      "Epoch 50/1000\n",
      "187/187 [==============================] - 4s 21ms/step - loss: 0.1806 - categorical_accuracy: 0.9697 - val_loss: 0.0679 - val_categorical_accuracy: 0.9700 - lr: 6.4000e-08\n",
      "Epoch 51/1000\n",
      "187/187 [==============================] - 5s 26ms/step - loss: 0.1812 - categorical_accuracy: 0.9696 - val_loss: 0.0684 - val_categorical_accuracy: 0.9699 - lr: 6.4000e-08\n",
      "Epoch 52/1000\n",
      "187/187 [==============================] - 4s 21ms/step - loss: 0.1807 - categorical_accuracy: 0.9699 - val_loss: 0.0686 - val_categorical_accuracy: 0.9699 - lr: 1.2800e-08\n",
      "Epoch 53/1000\n",
      "187/187 [==============================] - 4s 21ms/step - loss: 0.1807 - categorical_accuracy: 0.9696 - val_loss: 0.0687 - val_categorical_accuracy: 0.9699 - lr: 1.2800e-08\n",
      "Epoch 54/1000\n",
      "187/187 [==============================] - 4s 20ms/step - loss: 0.1805 - categorical_accuracy: 0.9696 - val_loss: 0.0685 - val_categorical_accuracy: 0.9699 - lr: 1.2800e-08\n",
      "Epoch 55/1000\n",
      "187/187 [==============================] - 4s 22ms/step - loss: 0.1804 - categorical_accuracy: 0.9698 - val_loss: 0.0678 - val_categorical_accuracy: 0.9699 - lr: 2.5600e-09\n",
      "Epoch 56/1000\n",
      "187/187 [==============================] - 4s 21ms/step - loss: 0.1804 - categorical_accuracy: 0.9697 - val_loss: 0.0686 - val_categorical_accuracy: 0.9699 - lr: 2.5600e-09\n",
      "Epoch 57/1000\n",
      "187/187 [==============================] - 4s 20ms/step - loss: 0.1808 - categorical_accuracy: 0.9697 - val_loss: 0.0683 - val_categorical_accuracy: 0.9699 - lr: 2.5600e-09\n",
      "Epoch 58/1000\n",
      "187/187 [==============================] - 4s 20ms/step - loss: 0.1809 - categorical_accuracy: 0.9697 - val_loss: 0.0678 - val_categorical_accuracy: 0.9699 - lr: 5.1200e-10\n",
      "Epoch 59/1000\n",
      "187/187 [==============================] - 4s 22ms/step - loss: 0.1805 - categorical_accuracy: 0.9697 - val_loss: 0.0678 - val_categorical_accuracy: 0.9699 - lr: 5.1200e-10\n",
      "Epoch 60/1000\n",
      "187/187 [==============================] - 4s 22ms/step - loss: 0.1806 - categorical_accuracy: 0.9697 - val_loss: 0.0695 - val_categorical_accuracy: 0.9699 - lr: 5.1200e-10\n",
      "Epoch 61/1000\n",
      "187/187 [==============================] - 4s 20ms/step - loss: 0.1806 - categorical_accuracy: 0.9698 - val_loss: 0.0677 - val_categorical_accuracy: 0.9699 - lr: 1.0240e-10\n",
      "Epoch 62/1000\n",
      "187/187 [==============================] - 4s 20ms/step - loss: 0.1810 - categorical_accuracy: 0.9697 - val_loss: 0.0687 - val_categorical_accuracy: 0.9700 - lr: 1.0240e-10\n",
      "Epoch 63/1000\n",
      "187/187 [==============================] - 4s 22ms/step - loss: 0.1810 - categorical_accuracy: 0.9697 - val_loss: 0.0688 - val_categorical_accuracy: 0.9699 - lr: 1.0240e-10\n",
      "Epoch 64/1000\n",
      "187/187 [==============================] - 4s 22ms/step - loss: 0.1807 - categorical_accuracy: 0.9698 - val_loss: 0.0688 - val_categorical_accuracy: 0.9699 - lr: 2.0480e-11\n",
      "Epoch 65/1000\n",
      "187/187 [==============================] - 4s 20ms/step - loss: 0.1811 - categorical_accuracy: 0.9697 - val_loss: 0.0688 - val_categorical_accuracy: 0.9700 - lr: 2.0480e-11\n",
      "Epoch 66/1000\n",
      "187/187 [==============================] - 4s 20ms/step - loss: 0.1816 - categorical_accuracy: 0.9697 - val_loss: 0.0686 - val_categorical_accuracy: 0.9699 - lr: 2.0480e-11\n",
      "Epoch 67/1000\n",
      "187/187 [==============================] - 4s 22ms/step - loss: 0.1805 - categorical_accuracy: 0.9697 - val_loss: 0.0688 - val_categorical_accuracy: 0.9699 - lr: 4.0960e-12\n",
      "Epoch 68/1000\n",
      "187/187 [==============================] - ETA: 0s - loss: 0.1805 - categorical_accuracy: 0.9696Restoring model weights from the end of the best epoch: 48.\n",
      "187/187 [==============================] - 4s 24ms/step - loss: 0.1805 - categorical_accuracy: 0.9696 - val_loss: 0.0690 - val_categorical_accuracy: 0.9699 - lr: 4.0960e-12\n",
      "Epoch 68: early stopping\n"
     ]
    },
    {
     "output_type": "stream",
     "name": "stderr",
     "text": [
      "100%|██████████| 834/834 [00:04<00:00, 176.70it/s]\n",
      "100%|██████████| 834/834 [00:07<00:00, 113.38it/s]\n"
     ]
    },
    {
     "output_type": "stream",
     "name": "stdout",
     "text": [
      "The average imputation accuracy on test data with 0.05 missing genotypes is 0.9503: \n",
      "Sensitivity: 0.2165878052062781\n",
      "Specificity: 0.902098439579462\n",
      "F1-score macro: 0.16057436032791844\n",
      "F1-score micro: 0.9502969053328766\n"
     ]
    },
    {
     "output_type": "stream",
     "name": "stderr",
     "text": [
      "100%|██████████| 834/834 [00:04<00:00, 178.31it/s]\n",
      "100%|██████████| 834/834 [00:06<00:00, 126.63it/s]\n"
     ]
    },
    {
     "output_type": "stream",
     "name": "stdout",
     "text": [
      "The average imputation accuracy on test data with 0.1 missing genotypes is 0.9431: \n",
      "Sensitivity: 0.17969295755458284\n",
      "Specificity: 0.9013941250548383\n",
      "F1-score macro: 0.13241891621268304\n",
      "F1-score micro: 0.9431169350234099\n"
     ]
    },
    {
     "output_type": "stream",
     "name": "stderr",
     "text": [
      "100%|██████████| 834/834 [00:05<00:00, 153.46it/s]\n",
      "100%|██████████| 834/834 [00:05<00:00, 149.99it/s]\n"
     ]
    },
    {
     "output_type": "stream",
     "name": "stdout",
     "text": [
      "The average imputation accuracy on test data with 0.2 missing genotypes is 0.9481: \n",
      "Sensitivity: 0.1056024208228088\n",
      "Specificity: 0.9339086875533388\n",
      "F1-score macro: 0.10741297008322442\n",
      "F1-score micro: 0.9480723113816639\n",
      "=====================================\n"
     ]
    }
   ]
  },
  {
   "cell_type": "code",
   "source": [
    "from google.colab import runtime\n",
    "runtime.unassign()"
   ],
   "metadata": {
    "id": "ifLke-oWc1Ok"
   },
   "execution_count": null,
   "outputs": []
  },
  {
   "cell_type": "code",
   "source": [],
   "metadata": {
    "id": "P8E4AOiQRGNs"
   },
   "execution_count": null,
   "outputs": []
  }
 ],
 "metadata": {
  "accelerator": "TPU",
  "colab": {
   "provenance": [
    {
     "file_id": "1lo9cmptjRRESsVlVECvlJFHbLeaygq2s",
     "timestamp": 1640128751823
    },
    {
     "file_id": "https://github.com/keras-team/keras-io/blob/master/examples/vision/ipynb/perceiver_image_classification.ipynb",
     "timestamp": 1621552889682
    }
   ],
   "toc_visible": true
  },
  "kernelspec": {
   "display_name": "Python 3",
   "language": "python",
   "name": "python3"
  },
  "language_info": {
   "codemirror_mode": {
    "name": "ipython",
    "version": 3
   },
   "file_extension": ".py",
   "mimetype": "text/x-python",
   "name": "python",
   "nbconvert_exporter": "python",
   "pygments_lexer": "ipython3",
   "version": "3.7.0"
  },
  "gpuClass": "standard"
 },
 "nbformat": 4,
 "nbformat_minor": 0
}
