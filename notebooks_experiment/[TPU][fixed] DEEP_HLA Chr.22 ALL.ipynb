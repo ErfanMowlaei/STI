{
 "cells": [
  {
   "cell_type": "code",
   "execution_count": 1,
   "metadata": {
    "colab": {
     "base_uri": "https://localhost:8080/"
    },
    "executionInfo": {
     "elapsed": 15167,
     "status": "ok",
     "timestamp": 1694134957267,
     "user": {
      "displayName": "net crowmaster",
      "userId": "14126946344391667924"
     },
     "user_tz": 240
    },
    "id": "doSuiA3dyTyg",
    "outputId": "77a9dc53-1a58-449f-d2b1-077cb0f04cfe"
   },
   "outputs": [
    {
     "output_type": "stream",
     "name": "stdout",
     "text": [
      "Mounted at /content/drive\n"
     ]
    }
   ],
   "source": [
    "from google.colab import drive\n",
    "drive.mount('/content/drive')"
   ]
  },
  {
   "cell_type": "code",
   "execution_count": 2,
   "metadata": {
    "colab": {
     "base_uri": "https://localhost:8080/"
    },
    "executionInfo": {
     "elapsed": 39542,
     "status": "ok",
     "timestamp": 1694134996805,
     "user": {
      "displayName": "net crowmaster",
      "userId": "14126946344391667924"
     },
     "user_tz": 240
    },
    "id": "liJJGzQp4qzO",
    "outputId": "207eb937-f91f-40d3-c794-e2918eeb5889"
   },
   "outputs": [
    {
     "output_type": "stream",
     "name": "stdout",
     "text": [
      "Collecting tensorflow-addons\n",
      "  Downloading tensorflow_addons-0.21.0-cp310-cp310-manylinux_2_17_x86_64.manylinux2014_x86_64.whl (612 kB)\n",
      "\u001B[2K     \u001B[90m━━━━━━━━━━━━━━━━━━━━━━━━━━━━━━━━━━━━━━━\u001B[0m \u001B[32m612.1/612.1 kB\u001B[0m \u001B[31m6.4 MB/s\u001B[0m eta \u001B[36m0:00:00\u001B[0m\n",
      "\u001B[?25hRequirement already satisfied: packaging in /usr/local/lib/python3.10/dist-packages (from tensorflow-addons) (23.1)\n",
      "Collecting typeguard<3.0.0,>=2.7 (from tensorflow-addons)\n",
      "  Downloading typeguard-2.13.3-py3-none-any.whl (17 kB)\n",
      "Installing collected packages: typeguard, tensorflow-addons\n",
      "Successfully installed tensorflow-addons-0.21.0 typeguard-2.13.3\n",
      "Requirement already satisfied: pyyaml in /usr/local/lib/python3.10/dist-packages (6.0.1)\n",
      "Requirement already satisfied: h5py in /usr/local/lib/python3.10/dist-packages (3.9.0)\n",
      "Requirement already satisfied: numpy>=1.17.3 in /usr/local/lib/python3.10/dist-packages (from h5py) (1.23.5)\n",
      "Requirement already satisfied: toolz in /usr/local/lib/python3.10/dist-packages (0.12.0)\n",
      "Collecting scikit-allel\n",
      "  Downloading scikit_allel-1.3.7-cp310-cp310-manylinux_2_17_x86_64.manylinux2014_x86_64.whl (8.1 MB)\n",
      "\u001B[2K     \u001B[90m━━━━━━━━━━━━━━━━━━━━━━━━━━━━━━━━━━━━━━━━\u001B[0m \u001B[32m8.1/8.1 MB\u001B[0m \u001B[31m14.5 MB/s\u001B[0m eta \u001B[36m0:00:00\u001B[0m\n",
      "\u001B[?25hRequirement already satisfied: numpy in /usr/local/lib/python3.10/dist-packages (from scikit-allel) (1.23.5)\n",
      "Requirement already satisfied: dask[array] in /usr/local/lib/python3.10/dist-packages (from scikit-allel) (2023.8.1)\n",
      "Requirement already satisfied: click>=8.0 in /usr/local/lib/python3.10/dist-packages (from dask[array]->scikit-allel) (8.1.7)\n",
      "Requirement already satisfied: cloudpickle>=1.5.0 in /usr/local/lib/python3.10/dist-packages (from dask[array]->scikit-allel) (2.2.1)\n",
      "Requirement already satisfied: fsspec>=2021.09.0 in /usr/local/lib/python3.10/dist-packages (from dask[array]->scikit-allel) (2023.6.0)\n",
      "Requirement already satisfied: packaging>=20.0 in /usr/local/lib/python3.10/dist-packages (from dask[array]->scikit-allel) (23.1)\n",
      "Requirement already satisfied: partd>=1.2.0 in /usr/local/lib/python3.10/dist-packages (from dask[array]->scikit-allel) (1.4.0)\n",
      "Requirement already satisfied: pyyaml>=5.3.1 in /usr/local/lib/python3.10/dist-packages (from dask[array]->scikit-allel) (6.0.1)\n",
      "Requirement already satisfied: importlib-metadata>=4.13.0 in /usr/local/lib/python3.10/dist-packages (from dask[array]->scikit-allel) (6.8.0)\n",
      "Requirement already satisfied: zipp>=0.5 in /usr/local/lib/python3.10/dist-packages (from importlib-metadata>=4.13.0->dask[array]->scikit-allel) (3.16.2)\n",
      "Requirement already satisfied: locket in /usr/local/lib/python3.10/dist-packages (from partd>=1.2.0->dask[array]->scikit-allel) (1.0.0)\n",
      "Installing collected packages: scikit-allel\n",
      "Successfully installed scikit-allel-1.3.7\n"
     ]
    }
   ],
   "source": [
    "!pip install tensorflow-addons\n",
    "!pip install pyyaml h5py\n",
    "!pip install toolz scikit-allel"
   ]
  },
  {
   "cell_type": "code",
   "execution_count": 3,
   "metadata": {
    "colab": {
     "base_uri": "https://localhost:8080/"
    },
    "executionInfo": {
     "elapsed": 9378,
     "status": "ok",
     "timestamp": 1694135006178,
     "user": {
      "displayName": "net crowmaster",
      "userId": "14126946344391667924"
     },
     "user_tz": 240
    },
    "id": "ZWzi3Z3L5RO2",
    "outputId": "8359ebe8-11a8-43c6-fe41-e34650ac66ee"
   },
   "outputs": [
    {
     "output_type": "stream",
     "name": "stdout",
     "text": [
      "Colab only includes TensorFlow 2.x; %tensorflow_version has no effect.\n",
      "Tensorflow version 2.12.0\n"
     ]
    }
   ],
   "source": [
    "import numpy as np\n",
    "%tensorflow_version 2.x\n",
    "import tensorflow as tf\n",
    "print(\"Tensorflow version \" + tf.__version__)"
   ]
  },
  {
   "cell_type": "markdown",
   "metadata": {
    "id": "RjGOO5PdFPf7"
   },
   "source": [
    "## Setup"
   ]
  },
  {
   "cell_type": "code",
   "execution_count": 4,
   "metadata": {
    "colab": {
     "base_uri": "https://localhost:8080/"
    },
    "executionInfo": {
     "elapsed": 6337,
     "status": "ok",
     "timestamp": 1694135012512,
     "user": {
      "displayName": "net crowmaster",
      "userId": "14126946344391667924"
     },
     "user_tz": 240
    },
    "id": "odmhCqSVFPf8",
    "outputId": "b447ac42-42b0-4cc8-82ea-b6bdbd0d1f56"
   },
   "outputs": [
    {
     "output_type": "stream",
     "name": "stderr",
     "text": [
      "/usr/local/lib/python3.10/dist-packages/tensorflow_addons/utils/tfa_eol_msg.py:23: UserWarning: \n",
      "\n",
      "TensorFlow Addons (TFA) has ended development and introduction of new features.\n",
      "TFA has entered a minimal maintenance and release mode until a planned end of life in May 2024.\n",
      "Please modify downstream libraries to take dependencies from other repositories in our TensorFlow community (e.g. Keras, Keras-CV, and Keras-NLP). \n",
      "\n",
      "For more information see: https://github.com/tensorflow/addons/issues/2807 \n",
      "\n",
      "  warnings.warn(\n"
     ]
    },
    {
     "output_type": "stream",
     "name": "stdout",
     "text": [
      "Tensorflow version 2.12.0\n"
     ]
    }
   ],
   "source": [
    "import os\n",
    "# os.environ[\"MODIN_CPUS\"] = \"8\"\n",
    "# from distributed import Client\n",
    "# client = Client()\n",
    "import numpy as np\n",
    "import math\n",
    "import re\n",
    "import itertools\n",
    "import random\n",
    "import pandas as pd\n",
    "from sklearn.model_selection import train_test_split\n",
    "from sklearn.utils import resample\n",
    "import tensorflow as tf\n",
    "from tensorflow import keras\n",
    "import tensorflow.keras.backend as K\n",
    "from tensorflow.keras import layers\n",
    "from tensorflow.keras import regularizers\n",
    "from tensorflow.keras.preprocessing.sequence import pad_sequences\n",
    "import tensorflow_addons as tfa\n",
    "from sklearn import metrics\n",
    "from sklearn.model_selection import KFold\n",
    "from tensorflow.keras.utils import to_categorical\n",
    "from tensorflow.keras import constraints\n",
    "from tensorflow.keras import initializers\n",
    "from tensorflow.keras import regularizers\n",
    "from tensorflow.keras.applications import efficientnet as efn\n",
    "from sklearn.metrics import confusion_matrix\n",
    "from sklearn.metrics import f1_score\n",
    "from tensorflow.keras.constraints import Constraint\n",
    "# import allel\n",
    "from scipy.spatial.distance import squareform\n",
    "%matplotlib inline\n",
    "from toolz import interleave\n",
    "from tqdm import tqdm\n",
    "import allel\n",
    "from scipy.spatial.distance import squareform\n",
    "from matplotlib import pyplot as plt\n",
    "import tensorflow_datasets as tfds\n",
    "from sklearn.metrics import mean_squared_error\n",
    "from sklearn.linear_model import LassoCV, ElasticNetCV\n",
    "from sklearn.model_selection import KFold,StratifiedKFold\n",
    "\n",
    "print(\"Tensorflow version \" + tf.__version__)"
   ]
  },
  {
   "cell_type": "markdown",
   "metadata": {
    "id": "SLd26RspFhaS"
   },
   "source": [
    "## Hardware Config"
   ]
  },
  {
   "cell_type": "code",
   "execution_count": 5,
   "metadata": {
    "colab": {
     "base_uri": "https://localhost:8080/"
    },
    "executionInfo": {
     "elapsed": 12188,
     "status": "ok",
     "timestamp": 1694135024698,
     "user": {
      "displayName": "net crowmaster",
      "userId": "14126946344391667924"
     },
     "user_tz": 240
    },
    "id": "SLd7mAFgFUnR",
    "outputId": "d8b31aeb-fa6b-4ed7-afcf-2a2997b81bd7"
   },
   "outputs": [
    {
     "output_type": "stream",
     "name": "stdout",
     "text": [
      "Running on TPU  grpc://10.73.255.146:8470\n"
     ]
    },
    {
     "output_type": "stream",
     "name": "stderr",
     "text": [
      "WARNING:absl:`tf.distribute.experimental.TPUStrategy` is deprecated, please use  the non experimental symbol `tf.distribute.TPUStrategy` instead.\n"
     ]
    },
    {
     "output_type": "stream",
     "name": "stdout",
     "text": [
      "N_REPLICAS: 8\n"
     ]
    }
   ],
   "source": [
    "# Detect hardware, return appropriate distribution strategy\n",
    "try:\n",
    "    TPU = tf.distribute.cluster_resolver.TPUClusterResolver()  # TPU detection. No parameters necessary if TPU_NAME environment variable is set. On Kaggle this is always the case.\n",
    "    print('Running on TPU ', TPU.master())\n",
    "except ValueError:\n",
    "    print('Running on GPU')\n",
    "    TPU = None\n",
    "\n",
    "if TPU:\n",
    "    tf.config.experimental_connect_to_cluster(TPU)\n",
    "    tf.tpu.experimental.initialize_tpu_system(TPU)\n",
    "    strategy = tf.distribute.experimental.TPUStrategy(TPU)\n",
    "else:\n",
    "    strategy = tf.distribute.get_strategy() # default distribution strategy in Tensorflow. Works on CPU and single GPU.\n",
    "\n",
    "N_REPLICAS = strategy.num_replicas_in_sync\n",
    "# Number of computing cores, is 8 for a TPU V3-8\n",
    "print(f'N_REPLICAS: {N_REPLICAS}')"
   ]
  },
  {
   "cell_type": "markdown",
   "metadata": {
    "id": "A77GFE3xFPf8"
   },
   "source": [
    "## Prepare the data"
   ]
  },
  {
   "cell_type": "code",
   "execution_count": 6,
   "metadata": {
    "id": "j3zy8i_8FPf_",
    "colab": {
     "base_uri": "https://localhost:8080/",
     "height": 424
    },
    "executionInfo": {
     "status": "ok",
     "timestamp": 1694135026657,
     "user_tz": 240,
     "elapsed": 1963,
     "user": {
      "displayName": "net crowmaster",
      "userId": "14126946344391667924"
     }
    },
    "outputId": "ea08cc69-92c9-4680-fab2-53833b92110d"
   },
   "outputs": [
    {
     "output_type": "execute_result",
     "data": {
      "text/plain": [
       "         0    1    2    3    4    5    6    7    8    9    ...  838  839  840  \\\n",
       "HG00096  3|0  0|0  0|0  0|0  0|0  0|0  0|0  0|0  0|0  0|0  ...  0|0  0|0  0|0   \n",
       "HG00097  0|0  0|0  0|0  0|0  0|0  0|0  1|0  0|0  0|0  0|0  ...  0|0  0|0  0|0   \n",
       "HG00099  0|0  0|0  0|0  0|0  0|0  0|1  0|1  0|0  0|0  0|0  ...  0|0  0|0  0|0   \n",
       "HG00100  0|0  0|0  0|0  0|0  0|0  0|0  0|1  0|0  0|0  0|0  ...  0|0  0|0  0|0   \n",
       "HG00101  0|0  0|0  0|0  0|0  0|0  0|0  0|0  0|0  0|0  0|0  ...  0|0  0|0  0|0   \n",
       "...      ...  ...  ...  ...  ...  ...  ...  ...  ...  ...  ...  ...  ...  ...   \n",
       "NA21137  3|0  0|0  0|0  0|0  0|0  0|0  0|1  0|0  0|0  0|0  ...  0|0  0|0  0|0   \n",
       "NA21141  3|0  0|0  0|0  0|0  0|0  0|0  1|0  0|0  0|0  0|0  ...  0|0  0|0  0|0   \n",
       "NA21142  0|0  0|0  0|0  0|0  0|0  0|0  0|1  0|0  0|0  0|0  ...  0|0  0|0  0|0   \n",
       "NA21143  0|0  0|0  0|0  0|0  0|0  0|0  1|0  0|0  0|0  0|0  ...  0|0  0|0  0|0   \n",
       "NA21144  0|0  0|0  0|0  0|0  0|0  0|0  0|1  0|0  0|0  0|0  ...  0|0  0|0  0|0   \n",
       "\n",
       "         841  842  843  844  845  846  847  \n",
       "HG00096  0|0  0|0  0|0  0|0  0|0  0|0  0|0  \n",
       "HG00097  0|0  0|0  0|0  0|0  0|0  0|0  0|0  \n",
       "HG00099  0|0  0|0  0|0  0|0  0|0  0|0  0|0  \n",
       "HG00100  0|0  0|0  0|0  0|0  0|0  0|0  0|0  \n",
       "HG00101  0|0  0|0  0|0  0|0  0|0  0|0  0|0  \n",
       "...      ...  ...  ...  ...  ...  ...  ...  \n",
       "NA21137  0|0  0|0  0|0  0|0  0|0  0|0  0|0  \n",
       "NA21141  0|0  0|0  0|0  0|0  0|0  0|0  0|0  \n",
       "NA21142  0|0  0|0  0|0  0|0  0|0  0|0  0|0  \n",
       "NA21143  0|0  0|0  0|0  0|0  0|0  0|0  0|0  \n",
       "NA21144  0|0  0|0  0|0  0|0  0|0  0|0  0|0  \n",
       "\n",
       "[2504 rows x 848 columns]"
      ],
      "text/html": [
       "\n",
       "  <div id=\"df-df2b8ad9-4ef5-44d5-b9f6-8a03d2887d8c\" class=\"colab-df-container\">\n",
       "    <div>\n",
       "<style scoped>\n",
       "    .dataframe tbody tr th:only-of-type {\n",
       "        vertical-align: middle;\n",
       "    }\n",
       "\n",
       "    .dataframe tbody tr th {\n",
       "        vertical-align: top;\n",
       "    }\n",
       "\n",
       "    .dataframe thead th {\n",
       "        text-align: right;\n",
       "    }\n",
       "</style>\n",
       "<table border=\"1\" class=\"dataframe\">\n",
       "  <thead>\n",
       "    <tr style=\"text-align: right;\">\n",
       "      <th></th>\n",
       "      <th>0</th>\n",
       "      <th>1</th>\n",
       "      <th>2</th>\n",
       "      <th>3</th>\n",
       "      <th>4</th>\n",
       "      <th>5</th>\n",
       "      <th>6</th>\n",
       "      <th>7</th>\n",
       "      <th>8</th>\n",
       "      <th>9</th>\n",
       "      <th>...</th>\n",
       "      <th>838</th>\n",
       "      <th>839</th>\n",
       "      <th>840</th>\n",
       "      <th>841</th>\n",
       "      <th>842</th>\n",
       "      <th>843</th>\n",
       "      <th>844</th>\n",
       "      <th>845</th>\n",
       "      <th>846</th>\n",
       "      <th>847</th>\n",
       "    </tr>\n",
       "  </thead>\n",
       "  <tbody>\n",
       "    <tr>\n",
       "      <th>HG00096</th>\n",
       "      <td>3|0</td>\n",
       "      <td>0|0</td>\n",
       "      <td>0|0</td>\n",
       "      <td>0|0</td>\n",
       "      <td>0|0</td>\n",
       "      <td>0|0</td>\n",
       "      <td>0|0</td>\n",
       "      <td>0|0</td>\n",
       "      <td>0|0</td>\n",
       "      <td>0|0</td>\n",
       "      <td>...</td>\n",
       "      <td>0|0</td>\n",
       "      <td>0|0</td>\n",
       "      <td>0|0</td>\n",
       "      <td>0|0</td>\n",
       "      <td>0|0</td>\n",
       "      <td>0|0</td>\n",
       "      <td>0|0</td>\n",
       "      <td>0|0</td>\n",
       "      <td>0|0</td>\n",
       "      <td>0|0</td>\n",
       "    </tr>\n",
       "    <tr>\n",
       "      <th>HG00097</th>\n",
       "      <td>0|0</td>\n",
       "      <td>0|0</td>\n",
       "      <td>0|0</td>\n",
       "      <td>0|0</td>\n",
       "      <td>0|0</td>\n",
       "      <td>0|0</td>\n",
       "      <td>1|0</td>\n",
       "      <td>0|0</td>\n",
       "      <td>0|0</td>\n",
       "      <td>0|0</td>\n",
       "      <td>...</td>\n",
       "      <td>0|0</td>\n",
       "      <td>0|0</td>\n",
       "      <td>0|0</td>\n",
       "      <td>0|0</td>\n",
       "      <td>0|0</td>\n",
       "      <td>0|0</td>\n",
       "      <td>0|0</td>\n",
       "      <td>0|0</td>\n",
       "      <td>0|0</td>\n",
       "      <td>0|0</td>\n",
       "    </tr>\n",
       "    <tr>\n",
       "      <th>HG00099</th>\n",
       "      <td>0|0</td>\n",
       "      <td>0|0</td>\n",
       "      <td>0|0</td>\n",
       "      <td>0|0</td>\n",
       "      <td>0|0</td>\n",
       "      <td>0|1</td>\n",
       "      <td>0|1</td>\n",
       "      <td>0|0</td>\n",
       "      <td>0|0</td>\n",
       "      <td>0|0</td>\n",
       "      <td>...</td>\n",
       "      <td>0|0</td>\n",
       "      <td>0|0</td>\n",
       "      <td>0|0</td>\n",
       "      <td>0|0</td>\n",
       "      <td>0|0</td>\n",
       "      <td>0|0</td>\n",
       "      <td>0|0</td>\n",
       "      <td>0|0</td>\n",
       "      <td>0|0</td>\n",
       "      <td>0|0</td>\n",
       "    </tr>\n",
       "    <tr>\n",
       "      <th>HG00100</th>\n",
       "      <td>0|0</td>\n",
       "      <td>0|0</td>\n",
       "      <td>0|0</td>\n",
       "      <td>0|0</td>\n",
       "      <td>0|0</td>\n",
       "      <td>0|0</td>\n",
       "      <td>0|1</td>\n",
       "      <td>0|0</td>\n",
       "      <td>0|0</td>\n",
       "      <td>0|0</td>\n",
       "      <td>...</td>\n",
       "      <td>0|0</td>\n",
       "      <td>0|0</td>\n",
       "      <td>0|0</td>\n",
       "      <td>0|0</td>\n",
       "      <td>0|0</td>\n",
       "      <td>0|0</td>\n",
       "      <td>0|0</td>\n",
       "      <td>0|0</td>\n",
       "      <td>0|0</td>\n",
       "      <td>0|0</td>\n",
       "    </tr>\n",
       "    <tr>\n",
       "      <th>HG00101</th>\n",
       "      <td>0|0</td>\n",
       "      <td>0|0</td>\n",
       "      <td>0|0</td>\n",
       "      <td>0|0</td>\n",
       "      <td>0|0</td>\n",
       "      <td>0|0</td>\n",
       "      <td>0|0</td>\n",
       "      <td>0|0</td>\n",
       "      <td>0|0</td>\n",
       "      <td>0|0</td>\n",
       "      <td>...</td>\n",
       "      <td>0|0</td>\n",
       "      <td>0|0</td>\n",
       "      <td>0|0</td>\n",
       "      <td>0|0</td>\n",
       "      <td>0|0</td>\n",
       "      <td>0|0</td>\n",
       "      <td>0|0</td>\n",
       "      <td>0|0</td>\n",
       "      <td>0|0</td>\n",
       "      <td>0|0</td>\n",
       "    </tr>\n",
       "    <tr>\n",
       "      <th>...</th>\n",
       "      <td>...</td>\n",
       "      <td>...</td>\n",
       "      <td>...</td>\n",
       "      <td>...</td>\n",
       "      <td>...</td>\n",
       "      <td>...</td>\n",
       "      <td>...</td>\n",
       "      <td>...</td>\n",
       "      <td>...</td>\n",
       "      <td>...</td>\n",
       "      <td>...</td>\n",
       "      <td>...</td>\n",
       "      <td>...</td>\n",
       "      <td>...</td>\n",
       "      <td>...</td>\n",
       "      <td>...</td>\n",
       "      <td>...</td>\n",
       "      <td>...</td>\n",
       "      <td>...</td>\n",
       "      <td>...</td>\n",
       "      <td>...</td>\n",
       "    </tr>\n",
       "    <tr>\n",
       "      <th>NA21137</th>\n",
       "      <td>3|0</td>\n",
       "      <td>0|0</td>\n",
       "      <td>0|0</td>\n",
       "      <td>0|0</td>\n",
       "      <td>0|0</td>\n",
       "      <td>0|0</td>\n",
       "      <td>0|1</td>\n",
       "      <td>0|0</td>\n",
       "      <td>0|0</td>\n",
       "      <td>0|0</td>\n",
       "      <td>...</td>\n",
       "      <td>0|0</td>\n",
       "      <td>0|0</td>\n",
       "      <td>0|0</td>\n",
       "      <td>0|0</td>\n",
       "      <td>0|0</td>\n",
       "      <td>0|0</td>\n",
       "      <td>0|0</td>\n",
       "      <td>0|0</td>\n",
       "      <td>0|0</td>\n",
       "      <td>0|0</td>\n",
       "    </tr>\n",
       "    <tr>\n",
       "      <th>NA21141</th>\n",
       "      <td>3|0</td>\n",
       "      <td>0|0</td>\n",
       "      <td>0|0</td>\n",
       "      <td>0|0</td>\n",
       "      <td>0|0</td>\n",
       "      <td>0|0</td>\n",
       "      <td>1|0</td>\n",
       "      <td>0|0</td>\n",
       "      <td>0|0</td>\n",
       "      <td>0|0</td>\n",
       "      <td>...</td>\n",
       "      <td>0|0</td>\n",
       "      <td>0|0</td>\n",
       "      <td>0|0</td>\n",
       "      <td>0|0</td>\n",
       "      <td>0|0</td>\n",
       "      <td>0|0</td>\n",
       "      <td>0|0</td>\n",
       "      <td>0|0</td>\n",
       "      <td>0|0</td>\n",
       "      <td>0|0</td>\n",
       "    </tr>\n",
       "    <tr>\n",
       "      <th>NA21142</th>\n",
       "      <td>0|0</td>\n",
       "      <td>0|0</td>\n",
       "      <td>0|0</td>\n",
       "      <td>0|0</td>\n",
       "      <td>0|0</td>\n",
       "      <td>0|0</td>\n",
       "      <td>0|1</td>\n",
       "      <td>0|0</td>\n",
       "      <td>0|0</td>\n",
       "      <td>0|0</td>\n",
       "      <td>...</td>\n",
       "      <td>0|0</td>\n",
       "      <td>0|0</td>\n",
       "      <td>0|0</td>\n",
       "      <td>0|0</td>\n",
       "      <td>0|0</td>\n",
       "      <td>0|0</td>\n",
       "      <td>0|0</td>\n",
       "      <td>0|0</td>\n",
       "      <td>0|0</td>\n",
       "      <td>0|0</td>\n",
       "    </tr>\n",
       "    <tr>\n",
       "      <th>NA21143</th>\n",
       "      <td>0|0</td>\n",
       "      <td>0|0</td>\n",
       "      <td>0|0</td>\n",
       "      <td>0|0</td>\n",
       "      <td>0|0</td>\n",
       "      <td>0|0</td>\n",
       "      <td>1|0</td>\n",
       "      <td>0|0</td>\n",
       "      <td>0|0</td>\n",
       "      <td>0|0</td>\n",
       "      <td>...</td>\n",
       "      <td>0|0</td>\n",
       "      <td>0|0</td>\n",
       "      <td>0|0</td>\n",
       "      <td>0|0</td>\n",
       "      <td>0|0</td>\n",
       "      <td>0|0</td>\n",
       "      <td>0|0</td>\n",
       "      <td>0|0</td>\n",
       "      <td>0|0</td>\n",
       "      <td>0|0</td>\n",
       "    </tr>\n",
       "    <tr>\n",
       "      <th>NA21144</th>\n",
       "      <td>0|0</td>\n",
       "      <td>0|0</td>\n",
       "      <td>0|0</td>\n",
       "      <td>0|0</td>\n",
       "      <td>0|0</td>\n",
       "      <td>0|0</td>\n",
       "      <td>0|1</td>\n",
       "      <td>0|0</td>\n",
       "      <td>0|0</td>\n",
       "      <td>0|0</td>\n",
       "      <td>...</td>\n",
       "      <td>0|0</td>\n",
       "      <td>0|0</td>\n",
       "      <td>0|0</td>\n",
       "      <td>0|0</td>\n",
       "      <td>0|0</td>\n",
       "      <td>0|0</td>\n",
       "      <td>0|0</td>\n",
       "      <td>0|0</td>\n",
       "      <td>0|0</td>\n",
       "      <td>0|0</td>\n",
       "    </tr>\n",
       "  </tbody>\n",
       "</table>\n",
       "<p>2504 rows × 848 columns</p>\n",
       "</div>\n",
       "    <div class=\"colab-df-buttons\">\n",
       "\n",
       "  <div class=\"colab-df-container\">\n",
       "    <button class=\"colab-df-convert\" onclick=\"convertToInteractive('df-df2b8ad9-4ef5-44d5-b9f6-8a03d2887d8c')\"\n",
       "            title=\"Convert this dataframe to an interactive table.\"\n",
       "            style=\"display:none;\">\n",
       "\n",
       "  <svg xmlns=\"http://www.w3.org/2000/svg\" height=\"24px\" viewBox=\"0 -960 960 960\">\n",
       "    <path d=\"M120-120v-720h720v720H120Zm60-500h600v-160H180v160Zm220 220h160v-160H400v160Zm0 220h160v-160H400v160ZM180-400h160v-160H180v160Zm440 0h160v-160H620v160ZM180-180h160v-160H180v160Zm440 0h160v-160H620v160Z\"/>\n",
       "  </svg>\n",
       "    </button>\n",
       "\n",
       "  <style>\n",
       "    .colab-df-container {\n",
       "      display:flex;\n",
       "      gap: 12px;\n",
       "    }\n",
       "\n",
       "    .colab-df-convert {\n",
       "      background-color: #E8F0FE;\n",
       "      border: none;\n",
       "      border-radius: 50%;\n",
       "      cursor: pointer;\n",
       "      display: none;\n",
       "      fill: #1967D2;\n",
       "      height: 32px;\n",
       "      padding: 0 0 0 0;\n",
       "      width: 32px;\n",
       "    }\n",
       "\n",
       "    .colab-df-convert:hover {\n",
       "      background-color: #E2EBFA;\n",
       "      box-shadow: 0px 1px 2px rgba(60, 64, 67, 0.3), 0px 1px 3px 1px rgba(60, 64, 67, 0.15);\n",
       "      fill: #174EA6;\n",
       "    }\n",
       "\n",
       "    .colab-df-buttons div {\n",
       "      margin-bottom: 4px;\n",
       "    }\n",
       "\n",
       "    [theme=dark] .colab-df-convert {\n",
       "      background-color: #3B4455;\n",
       "      fill: #D2E3FC;\n",
       "    }\n",
       "\n",
       "    [theme=dark] .colab-df-convert:hover {\n",
       "      background-color: #434B5C;\n",
       "      box-shadow: 0px 1px 3px 1px rgba(0, 0, 0, 0.15);\n",
       "      filter: drop-shadow(0px 1px 2px rgba(0, 0, 0, 0.3));\n",
       "      fill: #FFFFFF;\n",
       "    }\n",
       "  </style>\n",
       "\n",
       "    <script>\n",
       "      const buttonEl =\n",
       "        document.querySelector('#df-df2b8ad9-4ef5-44d5-b9f6-8a03d2887d8c button.colab-df-convert');\n",
       "      buttonEl.style.display =\n",
       "        google.colab.kernel.accessAllowed ? 'block' : 'none';\n",
       "\n",
       "      async function convertToInteractive(key) {\n",
       "        const element = document.querySelector('#df-df2b8ad9-4ef5-44d5-b9f6-8a03d2887d8c');\n",
       "        const dataTable =\n",
       "          await google.colab.kernel.invokeFunction('convertToInteractive',\n",
       "                                                    [key], {});\n",
       "        if (!dataTable) return;\n",
       "\n",
       "        const docLinkHtml = 'Like what you see? Visit the ' +\n",
       "          '<a target=\"_blank\" href=https://colab.research.google.com/notebooks/data_table.ipynb>data table notebook</a>'\n",
       "          + ' to learn more about interactive tables.';\n",
       "        element.innerHTML = '';\n",
       "        dataTable['output_type'] = 'display_data';\n",
       "        await google.colab.output.renderOutput(dataTable, element);\n",
       "        const docLink = document.createElement('div');\n",
       "        docLink.innerHTML = docLinkHtml;\n",
       "        element.appendChild(docLink);\n",
       "      }\n",
       "    </script>\n",
       "  </div>\n",
       "\n",
       "\n",
       "<div id=\"df-1dda2d49-893a-4abe-b14b-25f4a0b66d61\">\n",
       "  <button class=\"colab-df-quickchart\" onclick=\"quickchart('df-1dda2d49-893a-4abe-b14b-25f4a0b66d61')\"\n",
       "            title=\"Suggest charts.\"\n",
       "            style=\"display:none;\">\n",
       "\n",
       "<svg xmlns=\"http://www.w3.org/2000/svg\" height=\"24px\"viewBox=\"0 0 24 24\"\n",
       "     width=\"24px\">\n",
       "    <g>\n",
       "        <path d=\"M19 3H5c-1.1 0-2 .9-2 2v14c0 1.1.9 2 2 2h14c1.1 0 2-.9 2-2V5c0-1.1-.9-2-2-2zM9 17H7v-7h2v7zm4 0h-2V7h2v10zm4 0h-2v-4h2v4z\"/>\n",
       "    </g>\n",
       "</svg>\n",
       "  </button>\n",
       "\n",
       "<style>\n",
       "  .colab-df-quickchart {\n",
       "      --bg-color: #E8F0FE;\n",
       "      --fill-color: #1967D2;\n",
       "      --hover-bg-color: #E2EBFA;\n",
       "      --hover-fill-color: #174EA6;\n",
       "      --disabled-fill-color: #AAA;\n",
       "      --disabled-bg-color: #DDD;\n",
       "  }\n",
       "\n",
       "  [theme=dark] .colab-df-quickchart {\n",
       "      --bg-color: #3B4455;\n",
       "      --fill-color: #D2E3FC;\n",
       "      --hover-bg-color: #434B5C;\n",
       "      --hover-fill-color: #FFFFFF;\n",
       "      --disabled-bg-color: #3B4455;\n",
       "      --disabled-fill-color: #666;\n",
       "  }\n",
       "\n",
       "  .colab-df-quickchart {\n",
       "    background-color: var(--bg-color);\n",
       "    border: none;\n",
       "    border-radius: 50%;\n",
       "    cursor: pointer;\n",
       "    display: none;\n",
       "    fill: var(--fill-color);\n",
       "    height: 32px;\n",
       "    padding: 0;\n",
       "    width: 32px;\n",
       "  }\n",
       "\n",
       "  .colab-df-quickchart:hover {\n",
       "    background-color: var(--hover-bg-color);\n",
       "    box-shadow: 0 1px 2px rgba(60, 64, 67, 0.3), 0 1px 3px 1px rgba(60, 64, 67, 0.15);\n",
       "    fill: var(--button-hover-fill-color);\n",
       "  }\n",
       "\n",
       "  .colab-df-quickchart-complete:disabled,\n",
       "  .colab-df-quickchart-complete:disabled:hover {\n",
       "    background-color: var(--disabled-bg-color);\n",
       "    fill: var(--disabled-fill-color);\n",
       "    box-shadow: none;\n",
       "  }\n",
       "\n",
       "  .colab-df-spinner {\n",
       "    border: 2px solid var(--fill-color);\n",
       "    border-color: transparent;\n",
       "    border-bottom-color: var(--fill-color);\n",
       "    animation:\n",
       "      spin 1s steps(1) infinite;\n",
       "  }\n",
       "\n",
       "  @keyframes spin {\n",
       "    0% {\n",
       "      border-color: transparent;\n",
       "      border-bottom-color: var(--fill-color);\n",
       "      border-left-color: var(--fill-color);\n",
       "    }\n",
       "    20% {\n",
       "      border-color: transparent;\n",
       "      border-left-color: var(--fill-color);\n",
       "      border-top-color: var(--fill-color);\n",
       "    }\n",
       "    30% {\n",
       "      border-color: transparent;\n",
       "      border-left-color: var(--fill-color);\n",
       "      border-top-color: var(--fill-color);\n",
       "      border-right-color: var(--fill-color);\n",
       "    }\n",
       "    40% {\n",
       "      border-color: transparent;\n",
       "      border-right-color: var(--fill-color);\n",
       "      border-top-color: var(--fill-color);\n",
       "    }\n",
       "    60% {\n",
       "      border-color: transparent;\n",
       "      border-right-color: var(--fill-color);\n",
       "    }\n",
       "    80% {\n",
       "      border-color: transparent;\n",
       "      border-right-color: var(--fill-color);\n",
       "      border-bottom-color: var(--fill-color);\n",
       "    }\n",
       "    90% {\n",
       "      border-color: transparent;\n",
       "      border-bottom-color: var(--fill-color);\n",
       "    }\n",
       "  }\n",
       "</style>\n",
       "\n",
       "  <script>\n",
       "    async function quickchart(key) {\n",
       "      const quickchartButtonEl =\n",
       "        document.querySelector('#' + key + ' button');\n",
       "      quickchartButtonEl.disabled = true;  // To prevent multiple clicks.\n",
       "      quickchartButtonEl.classList.add('colab-df-spinner');\n",
       "      try {\n",
       "        const charts = await google.colab.kernel.invokeFunction(\n",
       "            'suggestCharts', [key], {});\n",
       "      } catch (error) {\n",
       "        console.error('Error during call to suggestCharts:', error);\n",
       "      }\n",
       "      quickchartButtonEl.classList.remove('colab-df-spinner');\n",
       "      quickchartButtonEl.classList.add('colab-df-quickchart-complete');\n",
       "    }\n",
       "    (() => {\n",
       "      let quickchartButtonEl =\n",
       "        document.querySelector('#df-1dda2d49-893a-4abe-b14b-25f4a0b66d61 button');\n",
       "      quickchartButtonEl.style.display =\n",
       "        google.colab.kernel.accessAllowed ? 'block' : 'none';\n",
       "    })();\n",
       "  </script>\n",
       "</div>\n",
       "\n",
       "  <div id=\"id_5eeed2f1-50a4-46e0-93f5-d8f37019f94e\">\n",
       "    <style>\n",
       "      .colab-df-generate {\n",
       "        background-color: #E8F0FE;\n",
       "        border: none;\n",
       "        border-radius: 50%;\n",
       "        cursor: pointer;\n",
       "        display: none;\n",
       "        fill: #1967D2;\n",
       "        height: 32px;\n",
       "        padding: 0 0 0 0;\n",
       "        width: 32px;\n",
       "      }\n",
       "\n",
       "      .colab-df-generate:hover {\n",
       "        background-color: #E2EBFA;\n",
       "        box-shadow: 0px 1px 2px rgba(60, 64, 67, 0.3), 0px 1px 3px 1px rgba(60, 64, 67, 0.15);\n",
       "        fill: #174EA6;\n",
       "      }\n",
       "\n",
       "      [theme=dark] .colab-df-generate {\n",
       "        background-color: #3B4455;\n",
       "        fill: #D2E3FC;\n",
       "      }\n",
       "\n",
       "      [theme=dark] .colab-df-generate:hover {\n",
       "        background-color: #434B5C;\n",
       "        box-shadow: 0px 1px 3px 1px rgba(0, 0, 0, 0.15);\n",
       "        filter: drop-shadow(0px 1px 2px rgba(0, 0, 0, 0.3));\n",
       "        fill: #FFFFFF;\n",
       "      }\n",
       "    </style>\n",
       "    <button class=\"colab-df-generate\" onclick=\"generateWithVariable('genotypes')\"\n",
       "            title=\"Generate code using this dataframe.\"\n",
       "            style=\"display:none;\">\n",
       "\n",
       "  <svg xmlns=\"http://www.w3.org/2000/svg\" height=\"24px\"viewBox=\"0 0 24 24\"\n",
       "       width=\"24px\">\n",
       "    <path d=\"M7,19H8.4L18.45,9,17,7.55,7,17.6ZM5,21V16.75L18.45,3.32a2,2,0,0,1,2.83,0l1.4,1.43a1.91,1.91,0,0,1,.58,1.4,1.91,1.91,0,0,1-.58,1.4L9.25,21ZM18.45,9,17,7.55Zm-12,3A5.31,5.31,0,0,0,4.9,8.1,5.31,5.31,0,0,0,1,6.5,5.31,5.31,0,0,0,4.9,4.9,5.31,5.31,0,0,0,6.5,1,5.31,5.31,0,0,0,8.1,4.9,5.31,5.31,0,0,0,12,6.5,5.46,5.46,0,0,0,6.5,12Z\"/>\n",
       "  </svg>\n",
       "    </button>\n",
       "    <script>\n",
       "      (() => {\n",
       "      const buttonEl =\n",
       "        document.querySelector('#id_5eeed2f1-50a4-46e0-93f5-d8f37019f94e button.colab-df-generate');\n",
       "      buttonEl.style.display =\n",
       "        google.colab.kernel.accessAllowed ? 'block' : 'none';\n",
       "\n",
       "      buttonEl.onclick = () => {\n",
       "        google.colab.notebook.generateWithVariable('genotypes');\n",
       "      }\n",
       "      })();\n",
       "    </script>\n",
       "  </div>\n",
       "\n",
       "    </div>\n",
       "  </div>\n"
      ]
     },
     "metadata": {},
     "execution_count": 6
    }
   ],
   "source": [
    "root_dir = '[data_path]'\n",
    "new_data_header = \"\"\n",
    "# get header\n",
    "with open(root_dir + \"ALL.chr22.mergedSV.v8.20130502.svs.genotypes.vcf\", 'r') as f_in:\n",
    "    # skip info\n",
    "    for line_num in range(70):\n",
    "        f_in.readline()\n",
    "\n",
    "    new_data_header = f_in.readline()\n",
    "# load data\n",
    "\n",
    "# load genotype\n",
    "genotypes = pd.read_csv(root_dir + \"ALL.chr22.mergedSV.v8.20130502.svs.genotypes.vcf\", comment='#', sep='\\t', names=new_data_header.strip().split('\\t'), header=None).iloc[:, 9:]\n",
    "genotypes = genotypes.T\n",
    "headers = genotypes.columns[:]\n",
    "genotypes"
   ]
  },
  {
   "cell_type": "code",
   "execution_count": 7,
   "metadata": {
    "id": "-gFMrUnhV80n",
    "executionInfo": {
     "status": "ok",
     "timestamp": 1694135026828,
     "user_tz": 240,
     "elapsed": 175,
     "user": {
      "displayName": "net crowmaster",
      "userId": "14126946344391667924"
     }
    }
   },
   "outputs": [],
   "source": [
    "ped_file = '[data_path]/integrated_call_samples.20130502.ALL.ped'\n",
    "pedigree = pd.read_csv(ped_file, sep='\\t', index_col='Individual ID')"
   ]
  },
  {
   "cell_type": "code",
   "execution_count": 8,
   "metadata": {
    "colab": {
     "base_uri": "https://localhost:8080/",
     "height": 272
    },
    "executionInfo": {
     "elapsed": 162,
     "status": "ok",
     "timestamp": 1694135026989,
     "user": {
      "displayName": "net crowmaster",
      "userId": "14126946344391667924"
     },
     "user_tz": 240
    },
    "id": "Zgb8Fn-EV_PU",
    "outputId": "cf5833ea-c817-46f4-b1b9-7648d2ffc40b"
   },
   "outputs": [
    {
     "output_type": "execute_result",
     "data": {
      "text/plain": [
       "              Family ID Paternal ID Maternal ID  Gender  Phenotype Population  \\\n",
       "Individual ID                                                                   \n",
       "HG00096         HG00096           0           0       1          0        GBR   \n",
       "HG00097         HG00097           0           0       2          0        GBR   \n",
       "HG00098         HG00098           0           0       1          0        GBR   \n",
       "HG00099         HG00099           0           0       2          0        GBR   \n",
       "HG00100         HG00100           0           0       2          0        GBR   \n",
       "\n",
       "              Relationship Siblings Second Order Third Order Children  \\\n",
       "Individual ID                                                           \n",
       "HG00096              unrel        0            0           0        0   \n",
       "HG00097              unrel        0            0           0        0   \n",
       "HG00098              unrel        0            0           0        0   \n",
       "HG00099              unrel        0            0           0        0   \n",
       "HG00100              unrel        0            0           0        0   \n",
       "\n",
       "              Other Comments  \n",
       "Individual ID                 \n",
       "HG00096                    0  \n",
       "HG00097                    0  \n",
       "HG00098                    0  \n",
       "HG00099                    0  \n",
       "HG00100                    0  "
      ],
      "text/html": [
       "\n",
       "  <div id=\"df-6dd5eb28-7da9-42ae-91d8-af0d0e80a9df\" class=\"colab-df-container\">\n",
       "    <div>\n",
       "<style scoped>\n",
       "    .dataframe tbody tr th:only-of-type {\n",
       "        vertical-align: middle;\n",
       "    }\n",
       "\n",
       "    .dataframe tbody tr th {\n",
       "        vertical-align: top;\n",
       "    }\n",
       "\n",
       "    .dataframe thead th {\n",
       "        text-align: right;\n",
       "    }\n",
       "</style>\n",
       "<table border=\"1\" class=\"dataframe\">\n",
       "  <thead>\n",
       "    <tr style=\"text-align: right;\">\n",
       "      <th></th>\n",
       "      <th>Family ID</th>\n",
       "      <th>Paternal ID</th>\n",
       "      <th>Maternal ID</th>\n",
       "      <th>Gender</th>\n",
       "      <th>Phenotype</th>\n",
       "      <th>Population</th>\n",
       "      <th>Relationship</th>\n",
       "      <th>Siblings</th>\n",
       "      <th>Second Order</th>\n",
       "      <th>Third Order</th>\n",
       "      <th>Children</th>\n",
       "      <th>Other Comments</th>\n",
       "    </tr>\n",
       "    <tr>\n",
       "      <th>Individual ID</th>\n",
       "      <th></th>\n",
       "      <th></th>\n",
       "      <th></th>\n",
       "      <th></th>\n",
       "      <th></th>\n",
       "      <th></th>\n",
       "      <th></th>\n",
       "      <th></th>\n",
       "      <th></th>\n",
       "      <th></th>\n",
       "      <th></th>\n",
       "      <th></th>\n",
       "    </tr>\n",
       "  </thead>\n",
       "  <tbody>\n",
       "    <tr>\n",
       "      <th>HG00096</th>\n",
       "      <td>HG00096</td>\n",
       "      <td>0</td>\n",
       "      <td>0</td>\n",
       "      <td>1</td>\n",
       "      <td>0</td>\n",
       "      <td>GBR</td>\n",
       "      <td>unrel</td>\n",
       "      <td>0</td>\n",
       "      <td>0</td>\n",
       "      <td>0</td>\n",
       "      <td>0</td>\n",
       "      <td>0</td>\n",
       "    </tr>\n",
       "    <tr>\n",
       "      <th>HG00097</th>\n",
       "      <td>HG00097</td>\n",
       "      <td>0</td>\n",
       "      <td>0</td>\n",
       "      <td>2</td>\n",
       "      <td>0</td>\n",
       "      <td>GBR</td>\n",
       "      <td>unrel</td>\n",
       "      <td>0</td>\n",
       "      <td>0</td>\n",
       "      <td>0</td>\n",
       "      <td>0</td>\n",
       "      <td>0</td>\n",
       "    </tr>\n",
       "    <tr>\n",
       "      <th>HG00098</th>\n",
       "      <td>HG00098</td>\n",
       "      <td>0</td>\n",
       "      <td>0</td>\n",
       "      <td>1</td>\n",
       "      <td>0</td>\n",
       "      <td>GBR</td>\n",
       "      <td>unrel</td>\n",
       "      <td>0</td>\n",
       "      <td>0</td>\n",
       "      <td>0</td>\n",
       "      <td>0</td>\n",
       "      <td>0</td>\n",
       "    </tr>\n",
       "    <tr>\n",
       "      <th>HG00099</th>\n",
       "      <td>HG00099</td>\n",
       "      <td>0</td>\n",
       "      <td>0</td>\n",
       "      <td>2</td>\n",
       "      <td>0</td>\n",
       "      <td>GBR</td>\n",
       "      <td>unrel</td>\n",
       "      <td>0</td>\n",
       "      <td>0</td>\n",
       "      <td>0</td>\n",
       "      <td>0</td>\n",
       "      <td>0</td>\n",
       "    </tr>\n",
       "    <tr>\n",
       "      <th>HG00100</th>\n",
       "      <td>HG00100</td>\n",
       "      <td>0</td>\n",
       "      <td>0</td>\n",
       "      <td>2</td>\n",
       "      <td>0</td>\n",
       "      <td>GBR</td>\n",
       "      <td>unrel</td>\n",
       "      <td>0</td>\n",
       "      <td>0</td>\n",
       "      <td>0</td>\n",
       "      <td>0</td>\n",
       "      <td>0</td>\n",
       "    </tr>\n",
       "  </tbody>\n",
       "</table>\n",
       "</div>\n",
       "    <div class=\"colab-df-buttons\">\n",
       "\n",
       "  <div class=\"colab-df-container\">\n",
       "    <button class=\"colab-df-convert\" onclick=\"convertToInteractive('df-6dd5eb28-7da9-42ae-91d8-af0d0e80a9df')\"\n",
       "            title=\"Convert this dataframe to an interactive table.\"\n",
       "            style=\"display:none;\">\n",
       "\n",
       "  <svg xmlns=\"http://www.w3.org/2000/svg\" height=\"24px\" viewBox=\"0 -960 960 960\">\n",
       "    <path d=\"M120-120v-720h720v720H120Zm60-500h600v-160H180v160Zm220 220h160v-160H400v160Zm0 220h160v-160H400v160ZM180-400h160v-160H180v160Zm440 0h160v-160H620v160ZM180-180h160v-160H180v160Zm440 0h160v-160H620v160Z\"/>\n",
       "  </svg>\n",
       "    </button>\n",
       "\n",
       "  <style>\n",
       "    .colab-df-container {\n",
       "      display:flex;\n",
       "      gap: 12px;\n",
       "    }\n",
       "\n",
       "    .colab-df-convert {\n",
       "      background-color: #E8F0FE;\n",
       "      border: none;\n",
       "      border-radius: 50%;\n",
       "      cursor: pointer;\n",
       "      display: none;\n",
       "      fill: #1967D2;\n",
       "      height: 32px;\n",
       "      padding: 0 0 0 0;\n",
       "      width: 32px;\n",
       "    }\n",
       "\n",
       "    .colab-df-convert:hover {\n",
       "      background-color: #E2EBFA;\n",
       "      box-shadow: 0px 1px 2px rgba(60, 64, 67, 0.3), 0px 1px 3px 1px rgba(60, 64, 67, 0.15);\n",
       "      fill: #174EA6;\n",
       "    }\n",
       "\n",
       "    .colab-df-buttons div {\n",
       "      margin-bottom: 4px;\n",
       "    }\n",
       "\n",
       "    [theme=dark] .colab-df-convert {\n",
       "      background-color: #3B4455;\n",
       "      fill: #D2E3FC;\n",
       "    }\n",
       "\n",
       "    [theme=dark] .colab-df-convert:hover {\n",
       "      background-color: #434B5C;\n",
       "      box-shadow: 0px 1px 3px 1px rgba(0, 0, 0, 0.15);\n",
       "      filter: drop-shadow(0px 1px 2px rgba(0, 0, 0, 0.3));\n",
       "      fill: #FFFFFF;\n",
       "    }\n",
       "  </style>\n",
       "\n",
       "    <script>\n",
       "      const buttonEl =\n",
       "        document.querySelector('#df-6dd5eb28-7da9-42ae-91d8-af0d0e80a9df button.colab-df-convert');\n",
       "      buttonEl.style.display =\n",
       "        google.colab.kernel.accessAllowed ? 'block' : 'none';\n",
       "\n",
       "      async function convertToInteractive(key) {\n",
       "        const element = document.querySelector('#df-6dd5eb28-7da9-42ae-91d8-af0d0e80a9df');\n",
       "        const dataTable =\n",
       "          await google.colab.kernel.invokeFunction('convertToInteractive',\n",
       "                                                    [key], {});\n",
       "        if (!dataTable) return;\n",
       "\n",
       "        const docLinkHtml = 'Like what you see? Visit the ' +\n",
       "          '<a target=\"_blank\" href=https://colab.research.google.com/notebooks/data_table.ipynb>data table notebook</a>'\n",
       "          + ' to learn more about interactive tables.';\n",
       "        element.innerHTML = '';\n",
       "        dataTable['output_type'] = 'display_data';\n",
       "        await google.colab.output.renderOutput(dataTable, element);\n",
       "        const docLink = document.createElement('div');\n",
       "        docLink.innerHTML = docLinkHtml;\n",
       "        element.appendChild(docLink);\n",
       "      }\n",
       "    </script>\n",
       "  </div>\n",
       "\n",
       "\n",
       "<div id=\"df-805975ca-fa88-4d54-b488-f7b22a19603c\">\n",
       "  <button class=\"colab-df-quickchart\" onclick=\"quickchart('df-805975ca-fa88-4d54-b488-f7b22a19603c')\"\n",
       "            title=\"Suggest charts.\"\n",
       "            style=\"display:none;\">\n",
       "\n",
       "<svg xmlns=\"http://www.w3.org/2000/svg\" height=\"24px\"viewBox=\"0 0 24 24\"\n",
       "     width=\"24px\">\n",
       "    <g>\n",
       "        <path d=\"M19 3H5c-1.1 0-2 .9-2 2v14c0 1.1.9 2 2 2h14c1.1 0 2-.9 2-2V5c0-1.1-.9-2-2-2zM9 17H7v-7h2v7zm4 0h-2V7h2v10zm4 0h-2v-4h2v4z\"/>\n",
       "    </g>\n",
       "</svg>\n",
       "  </button>\n",
       "\n",
       "<style>\n",
       "  .colab-df-quickchart {\n",
       "      --bg-color: #E8F0FE;\n",
       "      --fill-color: #1967D2;\n",
       "      --hover-bg-color: #E2EBFA;\n",
       "      --hover-fill-color: #174EA6;\n",
       "      --disabled-fill-color: #AAA;\n",
       "      --disabled-bg-color: #DDD;\n",
       "  }\n",
       "\n",
       "  [theme=dark] .colab-df-quickchart {\n",
       "      --bg-color: #3B4455;\n",
       "      --fill-color: #D2E3FC;\n",
       "      --hover-bg-color: #434B5C;\n",
       "      --hover-fill-color: #FFFFFF;\n",
       "      --disabled-bg-color: #3B4455;\n",
       "      --disabled-fill-color: #666;\n",
       "  }\n",
       "\n",
       "  .colab-df-quickchart {\n",
       "    background-color: var(--bg-color);\n",
       "    border: none;\n",
       "    border-radius: 50%;\n",
       "    cursor: pointer;\n",
       "    display: none;\n",
       "    fill: var(--fill-color);\n",
       "    height: 32px;\n",
       "    padding: 0;\n",
       "    width: 32px;\n",
       "  }\n",
       "\n",
       "  .colab-df-quickchart:hover {\n",
       "    background-color: var(--hover-bg-color);\n",
       "    box-shadow: 0 1px 2px rgba(60, 64, 67, 0.3), 0 1px 3px 1px rgba(60, 64, 67, 0.15);\n",
       "    fill: var(--button-hover-fill-color);\n",
       "  }\n",
       "\n",
       "  .colab-df-quickchart-complete:disabled,\n",
       "  .colab-df-quickchart-complete:disabled:hover {\n",
       "    background-color: var(--disabled-bg-color);\n",
       "    fill: var(--disabled-fill-color);\n",
       "    box-shadow: none;\n",
       "  }\n",
       "\n",
       "  .colab-df-spinner {\n",
       "    border: 2px solid var(--fill-color);\n",
       "    border-color: transparent;\n",
       "    border-bottom-color: var(--fill-color);\n",
       "    animation:\n",
       "      spin 1s steps(1) infinite;\n",
       "  }\n",
       "\n",
       "  @keyframes spin {\n",
       "    0% {\n",
       "      border-color: transparent;\n",
       "      border-bottom-color: var(--fill-color);\n",
       "      border-left-color: var(--fill-color);\n",
       "    }\n",
       "    20% {\n",
       "      border-color: transparent;\n",
       "      border-left-color: var(--fill-color);\n",
       "      border-top-color: var(--fill-color);\n",
       "    }\n",
       "    30% {\n",
       "      border-color: transparent;\n",
       "      border-left-color: var(--fill-color);\n",
       "      border-top-color: var(--fill-color);\n",
       "      border-right-color: var(--fill-color);\n",
       "    }\n",
       "    40% {\n",
       "      border-color: transparent;\n",
       "      border-right-color: var(--fill-color);\n",
       "      border-top-color: var(--fill-color);\n",
       "    }\n",
       "    60% {\n",
       "      border-color: transparent;\n",
       "      border-right-color: var(--fill-color);\n",
       "    }\n",
       "    80% {\n",
       "      border-color: transparent;\n",
       "      border-right-color: var(--fill-color);\n",
       "      border-bottom-color: var(--fill-color);\n",
       "    }\n",
       "    90% {\n",
       "      border-color: transparent;\n",
       "      border-bottom-color: var(--fill-color);\n",
       "    }\n",
       "  }\n",
       "</style>\n",
       "\n",
       "  <script>\n",
       "    async function quickchart(key) {\n",
       "      const quickchartButtonEl =\n",
       "        document.querySelector('#' + key + ' button');\n",
       "      quickchartButtonEl.disabled = true;  // To prevent multiple clicks.\n",
       "      quickchartButtonEl.classList.add('colab-df-spinner');\n",
       "      try {\n",
       "        const charts = await google.colab.kernel.invokeFunction(\n",
       "            'suggestCharts', [key], {});\n",
       "      } catch (error) {\n",
       "        console.error('Error during call to suggestCharts:', error);\n",
       "      }\n",
       "      quickchartButtonEl.classList.remove('colab-df-spinner');\n",
       "      quickchartButtonEl.classList.add('colab-df-quickchart-complete');\n",
       "    }\n",
       "    (() => {\n",
       "      let quickchartButtonEl =\n",
       "        document.querySelector('#df-805975ca-fa88-4d54-b488-f7b22a19603c button');\n",
       "      quickchartButtonEl.style.display =\n",
       "        google.colab.kernel.accessAllowed ? 'block' : 'none';\n",
       "    })();\n",
       "  </script>\n",
       "</div>\n",
       "\n",
       "    </div>\n",
       "  </div>\n"
      ]
     },
     "metadata": {},
     "execution_count": 8
    }
   ],
   "source": [
    "pedigree.head()"
   ]
  },
  {
   "cell_type": "code",
   "execution_count": 9,
   "metadata": {
    "colab": {
     "base_uri": "https://localhost:8080/"
    },
    "executionInfo": {
     "elapsed": 9,
     "status": "ok",
     "timestamp": 1694135026989,
     "user": {
      "displayName": "net crowmaster",
      "userId": "14126946344391667924"
     },
     "user_tz": 240
    },
    "id": "GBSfo4FlV_A_",
    "outputId": "81a22c01-2053-4e8c-9ce4-31bfabd850a3"
   },
   "outputs": [
    {
     "output_type": "execute_result",
     "data": {
      "text/plain": [
       "(2504,)"
      ]
     },
     "metadata": {},
     "execution_count": 9
    }
   ],
   "source": [
    "Y_train = pedigree.loc[genotypes.index]['Population']\n",
    "Y_train.shape"
   ]
  },
  {
   "cell_type": "code",
   "execution_count": 10,
   "metadata": {
    "colab": {
     "base_uri": "https://localhost:8080/"
    },
    "executionInfo": {
     "elapsed": 169,
     "status": "ok",
     "timestamp": 1694135027152,
     "user": {
      "displayName": "net crowmaster",
      "userId": "14126946344391667924"
     },
     "user_tz": 240
    },
    "id": "hiP0EEwsEMNP",
    "outputId": "23a06b3b-12f6-48cd-d709-e2b94c3a5672"
   },
   "outputs": [
    {
     "output_type": "execute_result",
     "data": {
      "text/plain": [
       "(2504, 848)"
      ]
     },
     "metadata": {},
     "execution_count": 10
    }
   ],
   "source": [
    "X = genotypes[genotypes.index.isin(Y_train.index)]\n",
    "X.shape"
   ]
  },
  {
   "cell_type": "code",
   "source": [
    "def get_max_genotype(g):\n",
    "  v1, v2 = g.split(\"|\")\n",
    "  return max(int(v1), int(v2)) + 1\n",
    "\n",
    "def key_gen(v1, v2):\n",
    "  return f\"{v1}|{v2}\""
   ],
   "metadata": {
    "id": "3Yrih8NP_EkA",
    "executionInfo": {
     "status": "ok",
     "timestamp": 1694135027153,
     "user_tz": 240,
     "elapsed": 4,
     "user": {
      "displayName": "net crowmaster",
      "userId": "14126946344391667924"
     }
    }
   },
   "execution_count": 11,
   "outputs": []
  },
  {
   "cell_type": "code",
   "source": [
    "genotype_keys = np.unique(X.values)\n",
    "max_gen = max(map(get_max_genotype, genotype_keys))\n",
    "onehot_encoding_depth = max_gen**2 + 1\n",
    "MISSING_VALUE = [0 for _ in range(max_gen+1)]\n",
    "MISSING_VALUE[-1] = 1\n",
    "genotype_keys = [key_gen(i,j) for i in range(max_gen) for j in range(max_gen)]\n",
    "replacement_dict = {k:i for i,k in enumerate(genotype_keys)}\n",
    "reverse_replacement_dict = {v:k for k,v in replacement_dict.items()}\n",
    "max_gen, onehot_encoding_depth, MISSING_VALUE\n",
    "# replacement_dict"
   ],
   "metadata": {
    "colab": {
     "base_uri": "https://localhost:8080/"
    },
    "id": "nDTlx2_-_E8X",
    "executionInfo": {
     "status": "ok",
     "timestamp": 1694135031811,
     "user_tz": 240,
     "elapsed": 4661,
     "user": {
      "displayName": "net crowmaster",
      "userId": "14126946344391667924"
     }
    },
    "outputId": "15dc65ba-5a88-43a1-871e-72054fa6a58d"
   },
   "execution_count": 12,
   "outputs": [
    {
     "output_type": "execute_result",
     "data": {
      "text/plain": [
       "(6, 37, [0, 0, 0, 0, 0, 0, 1])"
      ]
     },
     "metadata": {},
     "execution_count": 12
    }
   ]
  },
  {
   "cell_type": "code",
   "execution_count": 13,
   "metadata": {
    "colab": {
     "base_uri": "https://localhost:8080/"
    },
    "executionInfo": {
     "elapsed": 23304,
     "status": "ok",
     "timestamp": 1694135055111,
     "user": {
      "displayName": "net crowmaster",
      "userId": "14126946344391667924"
     },
     "user_tz": 240
    },
    "id": "DNU6deVHXIdE",
    "outputId": "d20cbf1c-0bf9-42cf-e88e-5dc13ee084c2"
   },
   "outputs": [
    {
     "output_type": "execute_result",
     "data": {
      "text/plain": [
       "(2504, 848)"
      ]
     },
     "metadata": {},
     "execution_count": 13
    }
   ],
   "source": [
    "X = X.replace(replacement_dict)\n",
    "X.shape"
   ]
  },
  {
   "cell_type": "markdown",
   "source": [
    "### LD\n"
   ],
   "metadata": {
    "id": "asV65bA-j1aw"
   }
  },
  {
   "cell_type": "code",
   "source": [
    "callset = allel.read_vcf(root_dir + 'ALL.chr22.mergedSV.v8.20130502.svs.genotypes.vcf')\n",
    "g = allel.GenotypeArray(callset['calldata/GT'][callset['variants/CHROM'] == '22'])\n",
    "gn = g.to_n_alt(fill=-1)\n",
    "r = allel.rogers_huff_r(gn)\n",
    "LD = squareform(r ** 2)\n",
    "LD.shape"
   ],
   "metadata": {
    "id": "P4m28zGLMtXK",
    "executionInfo": {
     "status": "ok",
     "timestamp": 1694135059890,
     "user_tz": 240,
     "elapsed": 4783,
     "user": {
      "displayName": "net crowmaster",
      "userId": "14126946344391667924"
     }
    },
    "colab": {
     "base_uri": "https://localhost:8080/"
    },
    "outputId": "fdf05cbe-6df5-4334-ad32-d9d625547e06"
   },
   "execution_count": 14,
   "outputs": [
    {
     "output_type": "execute_result",
     "data": {
      "text/plain": [
       "(848, 848)"
      ]
     },
     "metadata": {},
     "execution_count": 14
    }
   ]
  },
  {
   "cell_type": "code",
   "source": [
    "plt.figure(figsize=(8,8))\n",
    "plt.imshow(LD)"
   ],
   "metadata": {
    "colab": {
     "base_uri": "https://localhost:8080/",
     "height": 698
    },
    "id": "PoX14d2YGB8c",
    "executionInfo": {
     "status": "ok",
     "timestamp": 1694135060438,
     "user_tz": 240,
     "elapsed": 554,
     "user": {
      "displayName": "net crowmaster",
      "userId": "14126946344391667924"
     }
    },
    "outputId": "5ecfd1e9-1545-4310-96a4-2947cdbc2c0b"
   },
   "execution_count": 15,
   "outputs": [
    {
     "output_type": "execute_result",
     "data": {
      "text/plain": [
       "<matplotlib.image.AxesImage at 0x785b201d0bb0>"
      ]
     },
     "metadata": {},
     "execution_count": 15
    },
    {
     "output_type": "display_data",
     "data": {
      "text/plain": [
       "<Figure size 800x800 with 1 Axes>"
      ],
      "image/png": "[encoded data removed]"
     },
     "metadata": {}
    }
   ]
  },
  {
   "cell_type": "code",
   "source": [
    "bins = [0, 0.2, 0.4, 0.6, 0.8, 1]\n",
    "plt.hist(np.amax(LD, axis=1), bins=bins)"
   ],
   "metadata": {
    "colab": {
     "base_uri": "https://localhost:8080/",
     "height": 482
    },
    "id": "KaBtVvHmRL-X",
    "executionInfo": {
     "status": "ok",
     "timestamp": 1694135060775,
     "user_tz": 240,
     "elapsed": 343,
     "user": {
      "displayName": "net crowmaster",
      "userId": "14126946344391667924"
     }
    },
    "outputId": "88e29082-8015-4878-c580-19503ac04e02"
   },
   "execution_count": 16,
   "outputs": [
    {
     "output_type": "execute_result",
     "data": {
      "text/plain": [
       "(array([553.,  97.,  81.,  19.,  98.]),\n",
       " array([0. , 0.2, 0.4, 0.6, 0.8, 1. ]),\n",
       " <BarContainer object of 5 artists>)"
      ]
     },
     "metadata": {},
     "execution_count": 16
    },
    {
     "output_type": "display_data",
     "data": {
      "text/plain": [
       "<Figure size 640x480 with 1 Axes>"
      ],
      "image/png": "[encoded data removed]"
     },
     "metadata": {}
    }
   ]
  },
  {
   "cell_type": "code",
   "source": [
    "LD_max_freqs = np.amax(LD, axis=1)\n",
    "bin_labels = np.digitize(LD_max_freqs, bins=bins, right=True)\n",
    "bin_general_labels, bin_counts = np.unique(bin_labels, return_counts=True)\n",
    "bin_general_labels, bin_counts"
   ],
   "metadata": {
    "colab": {
     "base_uri": "https://localhost:8080/"
    },
    "id": "12UAf-X8dPBf",
    "executionInfo": {
     "status": "ok",
     "timestamp": 1694135060777,
     "user_tz": 240,
     "elapsed": 13,
     "user": {
      "displayName": "net crowmaster",
      "userId": "14126946344391667924"
     }
    },
    "outputId": "9972370b-d8c6-4951-ca29-103766fdfadc"
   },
   "execution_count": 17,
   "outputs": [
    {
     "output_type": "execute_result",
     "data": {
      "text/plain": [
       "(array([1, 2, 3, 4, 5]), array([553,  97,  81,  19,  98]))"
      ]
     },
     "metadata": {},
     "execution_count": 17
    }
   ]
  },
  {
   "cell_type": "code",
   "execution_count": 18,
   "metadata": {
    "id": "_pZoO-FvKdr3",
    "executionInfo": {
     "status": "ok",
     "timestamp": 1694135060777,
     "user_tz": 240,
     "elapsed": 11,
     "user": {
      "displayName": "net crowmaster",
      "userId": "14126946344391667924"
     }
    }
   },
   "outputs": [],
   "source": [
    "# hyperparameters\n",
    "feature_size = X.shape[1]\n",
    "inChannel = max_gen + 1\n",
    "learning_rate = 0.001\n",
    "weight_decay = 0.00001\n",
    "embed_dim = 64  # Embedding size for each token\n",
    "num_heads = 8 # Number of attention heads\n",
    "ff_dim = 32  # Hidden layer size in feed forward network inside transformer\n",
    "regularization_coef_l1 = 1e-4\n",
    "dropout_rate = 0.25\n",
    "chunk_size = feature_size\n",
    "flanking_region_range = 0"
   ]
  },
  {
   "cell_type": "markdown",
   "metadata": {
    "id": "LtSxW2eMOOCU"
   },
   "source": [
    "## Convert to tensorflow dataset"
   ]
  },
  {
   "cell_type": "code",
   "execution_count": 19,
   "metadata": {
    "id": "KDiVoe67JHcy",
    "executionInfo": {
     "status": "ok",
     "timestamp": 1694135060778,
     "user_tz": 240,
     "elapsed": 10,
     "user": {
      "displayName": "net crowmaster",
      "userId": "14126946344391667924"
     }
    }
   },
   "outputs": [],
   "source": [
    "@tf.function()\n",
    "def add_attention_mask(X_sample, y_sample):\n",
    "  depth = max_gen + 1\n",
    "  mask_size = tf.cast(X_sample.shape[0]*0.5, dtype=tf.int64)\n",
    "  mask_idx = tf.reshape(tf.random.shuffle(tf.range(X_sample.shape[0]))[:mask_size], (-1, 1))\n",
    "  updates = tf.math.add(tf.zeros(shape=(mask_idx.shape[0]), dtype=tf.int64), max_gen)\n",
    "  X_masked = tf.tensor_scatter_nd_update(X_sample, mask_idx, updates)\n",
    "\n",
    "  return tf.one_hot(X_masked, depth), tf.one_hot(y_sample, depth-1)"
   ]
  },
  {
   "cell_type": "code",
   "execution_count": 20,
   "metadata": {
    "id": "SlyxYCy96H7V",
    "executionInfo": {
     "status": "ok",
     "timestamp": 1694135060778,
     "user_tz": 240,
     "elapsed": 10,
     "user": {
      "displayName": "net crowmaster",
      "userId": "14126946344391667924"
     }
    }
   },
   "outputs": [],
   "source": [
    "def map_values_1(x):\n",
    "  return int(reverse_replacement_dict[x].split('|')[0])\n",
    "\n",
    "def map_values_2(x):\n",
    "  return int(reverse_replacement_dict[x].split('|')[1])\n",
    "\n",
    "def get_dataset(x, chunk_start, chunk_end, start_offset, end_offset, batch_size, training=True):\n",
    "  AUTO = tf.data.AUTOTUNE\n",
    "\n",
    "  _x = np.empty((x.shape[0] * 2, chunk_end-chunk_start), dtype=x.dtype)\n",
    "\n",
    "  map_values_1_vec = np.vectorize(map_values_1)\n",
    "  map_values_2_vec = np.vectorize(map_values_2)\n",
    "\n",
    "  _x[0::2] = map_values_1_vec(x[:, chunk_start:chunk_end])\n",
    "  _x[1::2] = map_values_2_vec(x[:, chunk_start:chunk_end])\n",
    "  new_chunk_end = _x.shape[1]\n",
    "\n",
    "  dataset = tf.data.Dataset.from_tensor_slices((_x,\n",
    "                                                _x[:, start_offset:new_chunk_end-end_offset]))\n",
    "\n",
    "  if training:\n",
    "    dataset = dataset.shuffle(_x.shape[0], reshuffle_each_iteration=True)\n",
    "    dataset = dataset.repeat()\n",
    "\n",
    "  # Add Attention Mask\n",
    "  dataset = dataset.map(add_attention_mask, num_parallel_calls=AUTO, deterministic=False)\n",
    "\n",
    "  # Prefetech to not map the whole dataset\n",
    "  dataset = dataset.prefetch(AUTO)\n",
    "\n",
    "  dataset = dataset.batch(batch_size, drop_remainder=training, num_parallel_calls=AUTO)\n",
    "\n",
    "  return dataset"
   ]
  },
  {
   "cell_type": "markdown",
   "metadata": {
    "id": "NpRUjMp_L914"
   },
   "source": [
    "## Custom Layers"
   ]
  },
  {
   "cell_type": "code",
   "execution_count": 21,
   "metadata": {
    "id": "9h9OjeMZ8_XU",
    "executionInfo": {
     "status": "ok",
     "timestamp": 1694135060778,
     "user_tz": 240,
     "elapsed": 9,
     "user": {
      "displayName": "net crowmaster",
      "userId": "14126946344391667924"
     }
    }
   },
   "outputs": [],
   "source": [
    "class SharedNet(tf.keras.Model):\n",
    "    def __init__(self, conv1_n_filters, conv2_n_filters, conv1_kernel_size, conv2_kernel_size, fc_len, start_offset, end_offset, n_features_out):\n",
    "        super(SharedNet, self).__init__()\n",
    "        self.fc_len = fc_len\n",
    "        self.start_offset = start_offset\n",
    "        self.end_offset = end_offset\n",
    "        self.n_features_out = n_features_out\n",
    "        self.conv1 = layers.Conv1D(conv1_n_filters, kernel_size=conv1_kernel_size, strides=1, padding='same', activation=tf.nn.relu)\n",
    "        self.pool1 = layers.MaxPooling1D(2)\n",
    "        self.bn1 = layers.BatchNormalization()\n",
    "        self.do1 = layers.Dropout(0.5)\n",
    "        self.conv2 = layers.Conv1D(conv2_n_filters, kernel_size=conv2_kernel_size, strides=1, padding='same', activation=tf.nn.relu)\n",
    "        self.pool2 = layers.MaxPooling1D(2)\n",
    "        self.bn2 = layers.BatchNormalization()\n",
    "        self.do2 = layers.Dropout(0.5)\n",
    "        # self.flatten = layers.Flatten()\n",
    "        self.fc1 = layers.Dense(4*(inChannel-1), activation=tf.nn.relu)\n",
    "        self.reshape = layers.Reshape((-1, inChannel-1))\n",
    "        # self.fc1 = layers.Dense(inChannel-1, activation=tf.nn.relu)\n",
    "\n",
    "    def build(self, input_shape):\n",
    "      self.input_len = input_shape[1]\n",
    "      # self.reshape = layers.Reshape((self.input_len, self.fc_len))\n",
    "      # super(SharedNet, self).build(input_shape)\n",
    "\n",
    "    def call(self, inputs):\n",
    "        x = self.conv1(inputs)\n",
    "        x = self.bn1(x)\n",
    "        x = self.pool1(x)\n",
    "        x = self.conv2(x)\n",
    "        x = self.bn2(x)\n",
    "        x = self.pool2(x)\n",
    "        # x = self.flatten(x)\n",
    "        x = self.fc1(x)\n",
    "        x = self.reshape(x)\n",
    "        return x[:, self.start_offset:self.input_len-self.end_offset,]\n",
    "\n",
    "\n",
    "class EachNet(tf.keras.Model):\n",
    "    def __init__(self, num_classes):\n",
    "        super(EachNet, self).__init__()\n",
    "        self.fc1 = layers.Dense(num_classes, activation=tf.nn.softmax)\n",
    "        self.dropout = tf.keras.layers.Dropout(0.5)\n",
    "\n",
    "    def call(self, inputs):\n",
    "        x = self.dropout(inputs)\n",
    "        x = self.fc1(x)\n",
    "        return x"
   ]
  },
  {
   "cell_type": "markdown",
   "metadata": {
    "id": "waFVuh7DMCkM"
   },
   "source": [
    "## Modules"
   ]
  },
  {
   "cell_type": "code",
   "execution_count": 22,
   "metadata": {
    "id": "7FgZf0fOb5yG",
    "executionInfo": {
     "status": "ok",
     "timestamp": 1694135060779,
     "user_tz": 240,
     "elapsed": 10,
     "user": {
      "displayName": "net crowmaster",
      "userId": "14126946344391667924"
     }
    }
   },
   "outputs": [],
   "source": [
    "def chunk_module(conv1_n_filters, conv2_n_filters,\n",
    "                conv1_kernel_size, conv2_kernel_size,\n",
    "                input_len, inChannel, fc_len=256,\n",
    "                start_offset=0, end_offset=0):\n",
    "  inputs = layers.Input(shape=(input_len, inChannel))\n",
    "  n_features_out = input_len - start_offset - end_offset\n",
    "  xa = SharedNet(conv1_n_filters, conv2_n_filters, conv1_kernel_size, conv2_kernel_size, fc_len, start_offset, end_offset, n_features_out)(inputs)\n",
    "  xa_out1 = EachNet(inChannel-1)(xa)\n",
    "\n",
    "  model = keras.Model(inputs=inputs, outputs=xa_out1)\n",
    "  return model"
   ]
  },
  {
   "cell_type": "code",
   "execution_count": 23,
   "metadata": {
    "colab": {
     "base_uri": "https://localhost:8080/"
    },
    "executionInfo": {
     "elapsed": 9,
     "status": "ok",
     "timestamp": 1694135060779,
     "user": {
      "displayName": "net crowmaster",
      "userId": "14126946344391667924"
     },
     "user_tz": 240
    },
    "id": "sD7WOyyoNYGv",
    "outputId": "0df5ad65-786e-4d72-f39f-cefb2e0b5d82"
   },
   "outputs": [
    {
     "output_type": "execute_result",
     "data": {
      "text/plain": [
       "26"
      ]
     },
     "metadata": {},
     "execution_count": 23
    }
   ],
   "source": [
    "num_classes = len(np.unique(Y_train))\n",
    "num_classes"
   ]
  },
  {
   "cell_type": "markdown",
   "metadata": {
    "id": "OCkow4q5MJk_"
   },
   "source": [
    "## Model"
   ]
  },
  {
   "cell_type": "code",
   "execution_count": 24,
   "metadata": {
    "id": "vgGz9_6u8u-O",
    "executionInfo": {
     "status": "ok",
     "timestamp": 1694135060779,
     "user_tz": 240,
     "elapsed": 8,
     "user": {
      "displayName": "net crowmaster",
      "userId": "14126946344391667924"
     }
    }
   },
   "outputs": [],
   "source": [
    "class DEEP_HLA(keras.Model):\n",
    "  def __init__(\n",
    "      self, in_channel,\n",
    "      conv1_n_filters, conv2_n_filters,\n",
    "      conv1_kernel_size, conv2_kernel_size,\n",
    "      chunk_size=chunk_size,\n",
    "      activation=tf.nn.relu,\n",
    "      dropout_rate=0.5,\n",
    "      flanking_region_range=flanking_region_range):\n",
    "    super(DEEP_HLA, self).__init__()\n",
    "    self.in_channel = in_channel\n",
    "    self.embed_dim = embed_dim\n",
    "    self.conv1_n_filters = conv1_n_filters\n",
    "    self.conv2_n_filters = conv2_n_filters\n",
    "    self.conv1_kernel_size = conv1_kernel_size\n",
    "    self.conv2_kernel_size = conv2_kernel_size\n",
    "    self.chunk_size = chunk_size\n",
    "    self.activation = activation\n",
    "    self.dropout_rate = dropout_rate\n",
    "    self.flanking_region_range = flanking_region_range\n",
    "\n",
    "  def build(self, input_shape):\n",
    "    self.chunk_starts = list(range(0, input_shape[1], self.chunk_size))\n",
    "    self.chunk_ends = []\n",
    "    for cs in self.chunk_starts:\n",
    "      self.chunk_ends.append(min(cs+self.chunk_size, input_shape[1]))\n",
    "    self.mask_starts = [max(0, cs-self.flanking_region_range) for cs in self.chunk_starts]\n",
    "    self.mask_ends = [min(ce+self.flanking_region_range, input_shape[1]) for ce in self.chunk_ends]\n",
    "    self.chunkers = [chunk_module(self.conv1_n_filters, self.conv2_n_filters,\n",
    "                                  self.conv1_kernel_size, self.conv2_kernel_size,\n",
    "                                  self.mask_ends[i] - self.mask_starts[i],\n",
    "                                  self.in_channel,\n",
    "                                  start_offset=cs - self.mask_starts[i],\n",
    "                                  end_offset=self.mask_ends[i]-self.chunk_ends[i]) for i,cs in enumerate(self.chunk_starts)]\n",
    "    self.concat_layer = layers.Concatenate(axis=-2)\n",
    "    super(DEEP_HLA, self).build(input_shape)\n",
    "\n",
    "\n",
    "  def call(self, inputs):\n",
    "    chunks = [self.chunkers[i](inputs[:, self.mask_starts[i]:self.mask_ends[i]]) for i, chunker in enumerate(self.chunkers)]\n",
    "    y = self.concat_layer(chunks)\n",
    "    return y\n"
   ]
  },
  {
   "cell_type": "code",
   "execution_count": 25,
   "metadata": {
    "id": "61EgnuNmoFLT",
    "executionInfo": {
     "status": "ok",
     "timestamp": 1694135060780,
     "user_tz": 240,
     "elapsed": 8,
     "user": {
      "displayName": "net crowmaster",
      "userId": "14126946344391667924"
     }
    }
   },
   "outputs": [],
   "source": [
    "METRIC = \"val_loss\"\n",
    "\n",
    "def create_callbacks(kfold=0, metric = METRIC):\n",
    "\n",
    "    reducelr = tf.keras.callbacks.ReduceLROnPlateau(\n",
    "        monitor= metric,\n",
    "        mode='auto',\n",
    "        factor=0.2,\n",
    "        patience=3,\n",
    "        verbose=0\n",
    "    )\n",
    "\n",
    "    earlystop = tf.keras.callbacks.EarlyStopping(\n",
    "        monitor= metric,\n",
    "        mode='auto',\n",
    "        patience= 20,\n",
    "        verbose=1,\n",
    "        restore_best_weights=True\n",
    "    )\n",
    "\n",
    "    callbacks = [\n",
    "                 reducelr,\n",
    "                 earlystop]\n",
    "\n",
    "    return callbacks"
   ]
  },
  {
   "cell_type": "code",
   "execution_count": 26,
   "metadata": {
    "id": "bWFbNNF4i4HD",
    "executionInfo": {
     "status": "ok",
     "timestamp": 1694135060920,
     "user_tz": 240,
     "elapsed": 148,
     "user": {
      "displayName": "net crowmaster",
      "userId": "14126946344391667924"
     }
    }
   },
   "outputs": [],
   "source": [
    "def create_model(base_dim = 256):\n",
    "  model =  DEEP_HLA(in_channel=inChannel,\n",
    "      conv1_n_filters=base_dim, conv2_n_filters=base_dim//2,\n",
    "      conv1_kernel_size=base_dim//2, conv2_kernel_size=base_dim//2)\n",
    "  optimizer = tfa.optimizers.LAMB(learning_rate=learning_rate)\n",
    "  model.compile(optimizer, loss='categorical_crossentropy', metrics=tf.keras.metrics.CategoricalAccuracy())\n",
    "  return model"
   ]
  },
  {
   "cell_type": "code",
   "source": [
    "temp_model = create_model()\n",
    "temp_model.build((1, X.shape[1], inChannel))\n",
    "temp_model.summary()"
   ],
   "metadata": {
    "colab": {
     "base_uri": "https://localhost:8080/"
    },
    "id": "-D8GM9EKgmcP",
    "executionInfo": {
     "status": "ok",
     "timestamp": 1694135061359,
     "user_tz": 240,
     "elapsed": 440,
     "user": {
      "displayName": "net crowmaster",
      "userId": "14126946344391667924"
     }
    },
    "outputId": "3ef6b271-bb70-4a6f-c611-ee510b873887"
   },
   "execution_count": 27,
   "outputs": [
    {
     "output_type": "stream",
     "name": "stdout",
     "text": [
      "Model: \"deep_hla\"\n",
      "_________________________________________________________________\n",
      " Layer (type)                Output Shape              Param #   \n",
      "=================================================================\n",
      " model (Functional)          (None, 848, 6)            4428738   \n",
      "                                                                 \n",
      " concatenate (Concatenate)   multiple                  0         \n",
      "                                                                 \n",
      "=================================================================\n",
      "Total params: 4,428,738\n",
      "Trainable params: 4,427,970\n",
      "Non-trainable params: 768\n",
      "_________________________________________________________________\n"
     ]
    }
   ]
  },
  {
   "cell_type": "code",
   "execution_count": 28,
   "metadata": {
    "colab": {
     "base_uri": "https://localhost:8080/"
    },
    "executionInfo": {
     "elapsed": 136,
     "status": "ok",
     "timestamp": 1694135061493,
     "user": {
      "displayName": "net crowmaster",
      "userId": "14126946344391667924"
     },
     "user_tz": 240
    },
    "id": "5CVnIE7HK63r",
    "outputId": "47b12e81-9148-4e48-951e-faee832a2967"
   },
   "outputs": [
    {
     "output_type": "execute_result",
     "data": {
      "text/plain": [
       "array(['ACB', 'ASW', 'BEB', 'CDX', 'CEU', 'CHB', 'CHS', 'CLM', 'ESN',\n",
       "       'FIN', 'GBR', 'GIH', 'GWD', 'IBS', 'ITU', 'JPT', 'KHV', 'LWK',\n",
       "       'MSL', 'MXL', 'PEL', 'PJL', 'PUR', 'STU', 'TSI', 'YRI'],\n",
       "      dtype=object)"
      ]
     },
     "metadata": {},
     "execution_count": 28
    }
   ],
   "source": [
    "np.unique(Y_train.values)"
   ]
  },
  {
   "cell_type": "markdown",
   "metadata": {
    "id": "TOA_NexzN5Qq"
   },
   "source": [
    "## Training"
   ]
  },
  {
   "cell_type": "code",
   "source": [
    "save_dir = \"[save_dir]\"\n",
    "\n",
    "if not os.path.exists(save_dir):\n",
    "  # shutil.rmtree(save_dir)\n",
    "  os.makedirs(save_dir)"
   ],
   "metadata": {
    "id": "VYci2t-apYbZ",
    "executionInfo": {
     "status": "ok",
     "timestamp": 1694135061493,
     "user_tz": 240,
     "elapsed": 2,
     "user": {
      "displayName": "net crowmaster",
      "userId": "14126946344391667924"
     }
    }
   },
   "execution_count": 29,
   "outputs": []
  },
  {
   "cell_type": "code",
   "execution_count": 30,
   "metadata": {
    "colab": {
     "base_uri": "https://localhost:8080/"
    },
    "executionInfo": {
     "elapsed": 135,
     "status": "ok",
     "timestamp": 1694135061627,
     "user": {
      "displayName": "net crowmaster",
      "userId": "14126946344391667924"
     },
     "user_tz": 240
    },
    "id": "Ey5lpPElXlUd",
    "outputId": "dd1ea137-c0df-4b0e-ce3c-e60f0de23d31"
   },
   "outputs": [
    {
     "output_type": "execute_result",
     "data": {
      "text/plain": [
       "16"
      ]
     },
     "metadata": {},
     "execution_count": 30
    }
   ],
   "source": [
    "# A TPU V3-8 has 8 computing cores, the global batch size will be 1/16 x 8 = 8/128\n",
    "BATCH_SIZE_BASE = 2\n",
    "# Training configuration\n",
    "BATCH_SIZE = BATCH_SIZE_BASE * N_REPLICAS if TPU else 5\n",
    "BATCH_SIZE"
   ]
  },
  {
   "cell_type": "markdown",
   "source": [
    "## Timing test"
   ],
   "metadata": {
    "collapsed": false
   }
  },
  {
   "cell_type": "code",
   "source": [
    "# With constraint\n",
    "missing_perc = 0.1\n",
    "N_SPLITS=3\n",
    "NUM_EPOCHS = 1000\n",
    "accuracies = []\n",
    "results = None\n",
    "kf = KFold(n_splits=N_SPLITS, shuffle=True, random_state=2022)\n",
    "fold = 0\n",
    "_x = X[X.index.isin(Y_train.index)].to_numpy()\n",
    "_y = Y_train.to_numpy()\n",
    "for train_index, test_index in kf.split(_x):\n",
    "  fold += 1\n",
    "  if fold != 1:\n",
    "    continue\n",
    "  print(f\"Training using fold {fold}\")\n",
    "  x_train, y_train, test_dataset, test_indices = _x[train_index], _y[train_index], (_x[test_index], _y[test_index]),Y_train.index[test_index]\n",
    "  x_train, x_valid, y_train, y_valid = train_test_split(x_train, y_train, test_size=0.10,\n",
    "                                      random_state=fold,\n",
    "                                      shuffle=True)\n",
    "\n",
    "  steps_per_epoch = 2*x_train.shape[0]//BATCH_SIZE\n",
    "  validation_steps = 2*x_valid.shape[0]//BATCH_SIZE\n",
    "  train_dataset = get_dataset(x_train, 0, feature_size, 0, 0, BATCH_SIZE)\n",
    "  valid_dataset = get_dataset(x_valid, 0, feature_size, 0, 0, BATCH_SIZE, training=False)\n",
    "\n",
    "  K.clear_session()\n",
    "  callbacks = create_callbacks()\n",
    "  with strategy.scope():\n",
    "    model = create_model()\n",
    "    history = model.fit(train_dataset, steps_per_epoch=steps_per_epoch, epochs=1,\n",
    "            validation_data=valid_dataset,\n",
    "            validation_steps=validation_steps,\n",
    "            callbacks=callbacks, verbose=1)\n",
    "  for missing_perc in [\n",
    "                         0.05,\n",
    "                         0.1,\n",
    "                         0.2\n",
    "                         ]:\n",
    "    save_name = save_dir + f\"preds_mixed_mr_{missing_perc}_fold_{fold}_probs\"\n",
    "    avg_accuracy = []\n",
    "    preds = []\n",
    "    true_labels = []\n",
    "\n",
    "    # to_save_array = np.zeros((test_dataset[0].shape[0], test_dataset[0].shape[1]), dtype=object)\n",
    "    test_X_missing = np.empty((test_dataset[0].shape[0] * 2, test_dataset[0].shape[1]), dtype=test_dataset[0].dtype)\n",
    "    map_values_1_vec = np.vectorize(map_values_1)\n",
    "    map_values_2_vec = np.vectorize(map_values_2)\n",
    "    test_X_missing[0::2] = map_values_1_vec(test_dataset[0])\n",
    "    test_X_missing[1::2] = map_values_2_vec(test_dataset[0])\n",
    "    test_X_missing = to_categorical(test_X_missing, inChannel)\n",
    "\n",
    "\n",
    "    for i in tqdm(range(test_dataset[0].shape[0])):\n",
    "      missing_index, _ = train_test_split(np.arange(x_train.shape[1]), train_size=missing_perc,\n",
    "                                    random_state=i + fold,\n",
    "                                    shuffle=True,\n",
    "                                    stratify=bin_labels\n",
    "                                    )\n",
    "      test_X_missing[i*2:i*2+2, missing_index, :] = MISSING_VALUE\n",
    "      # predict\n",
    "    predict_onehots = model.predict(test_X_missing, verbose=1)\n"
   ],
   "metadata": {
    "colab": {
     "base_uri": "https://localhost:8080/"
    },
    "id": "F4x1rU_XTvTa",
    "executionInfo": {
     "status": "ok",
     "timestamp": 1694135102865,
     "user_tz": 240,
     "elapsed": 41241,
     "user": {
      "displayName": "net crowmaster",
      "userId": "14126946344391667924"
     }
    },
    "outputId": "460e18c8-9765-4a7c-9495-25b99a633045"
   },
   "execution_count": 31,
   "outputs": [
    {
     "output_type": "stream",
     "name": "stdout",
     "text": [
      "Training using fold 1\n",
      "187/187 [==============================] - 21s 41ms/step - loss: 0.9799 - categorical_accuracy: 0.7920 - val_loss: 3.0692 - val_categorical_accuracy: 5.4540e-04 - lr: 0.0010\n"
     ]
    },
    {
     "output_type": "stream",
     "name": "stderr",
     "text": [
      "100%|██████████| 835/835 [00:00<00:00, 884.91it/s]\n"
     ]
    },
    {
     "output_type": "stream",
     "name": "stdout",
     "text": [
      "53/53 [==============================] - 7s 98ms/step\n"
     ]
    },
    {
     "output_type": "stream",
     "name": "stderr",
     "text": [
      "100%|██████████| 835/835 [00:01<00:00, 576.97it/s]\n"
     ]
    },
    {
     "output_type": "stream",
     "name": "stdout",
     "text": [
      "53/53 [==============================] - 1s 12ms/step\n"
     ]
    },
    {
     "output_type": "stream",
     "name": "stderr",
     "text": [
      "100%|██████████| 835/835 [00:00<00:00, 940.34it/s]\n"
     ]
    },
    {
     "output_type": "stream",
     "name": "stdout",
     "text": [
      "53/53 [==============================] - 1s 11ms/step\n"
     ]
    }
   ]
  },
  {
   "cell_type": "markdown",
   "source": [
    "## Training loops"
   ],
   "metadata": {
    "collapsed": false
   }
  },
  {
   "cell_type": "code",
   "source": [
    "# With constraint\n",
    "missing_perc = 0.1\n",
    "N_SPLITS=3\n",
    "NUM_EPOCHS = 1000\n",
    "accuracies = []\n",
    "results = None\n",
    "kf = KFold(n_splits=N_SPLITS, shuffle=True, random_state=2022)\n",
    "fold = 0\n",
    "_x = X[X.index.isin(Y_train.index)].to_numpy()\n",
    "_y = Y_train.to_numpy()\n",
    "for train_index, test_index in kf.split(_x):\n",
    "  fold += 1\n",
    "\n",
    "  print(f\"Training using fold {fold}\")\n",
    "  x_train, y_train, test_dataset, test_indices = _x[train_index], _y[train_index], (_x[test_index], _y[test_index]),Y_train.index[test_index]\n",
    "  x_train, x_valid, y_train, y_valid = train_test_split(x_train, y_train, test_size=0.10,\n",
    "                                      random_state=fold,\n",
    "                                      shuffle=True)\n",
    "\n",
    "  steps_per_epoch = 2*x_train.shape[0]//BATCH_SIZE\n",
    "  validation_steps = 2*x_valid.shape[0]//BATCH_SIZE\n",
    "  train_dataset = get_dataset(x_train, 0, feature_size, 0, 0, BATCH_SIZE)\n",
    "  valid_dataset = get_dataset(x_valid, 0, feature_size, 0, 0, BATCH_SIZE, training=False)\n",
    "\n",
    "  K.clear_session()\n",
    "  callbacks = create_callbacks()\n",
    "  with strategy.scope():\n",
    "    model = create_model()\n",
    "    history = model.fit(train_dataset, steps_per_epoch=steps_per_epoch, epochs=NUM_EPOCHS,\n",
    "            validation_data=valid_dataset,\n",
    "            validation_steps=validation_steps,\n",
    "            callbacks=callbacks, verbose=1)\n",
    "  for missing_perc in [\n",
    "                         0.05,\n",
    "                         0.1,\n",
    "                         0.2\n",
    "                         ]:\n",
    "    save_name = save_dir + f\"preds_mixed_mr_{missing_perc}_fold_{fold}_probs\"\n",
    "    avg_accuracy = []\n",
    "    preds = []\n",
    "    true_labels = []\n",
    "\n",
    "    # to_save_array = np.zeros((test_dataset[0].shape[0], test_dataset[0].shape[1]), dtype=object)\n",
    "    test_X_missing = np.empty((test_dataset[0].shape[0] * 2, test_dataset[0].shape[1]), dtype=test_dataset[0].dtype)\n",
    "    map_values_1_vec = np.vectorize(map_values_1)\n",
    "    map_values_2_vec = np.vectorize(map_values_2)\n",
    "    test_X_missing[0::2] = map_values_1_vec(test_dataset[0])\n",
    "    test_X_missing[1::2] = map_values_2_vec(test_dataset[0])\n",
    "    test_X_missing = to_categorical(test_X_missing, inChannel)\n",
    "\n",
    "\n",
    "    for i in tqdm(range(test_dataset[0].shape[0])):\n",
    "      missing_index, _ = train_test_split(np.arange(x_train.shape[1]), train_size=missing_perc,\n",
    "                                    random_state=i + fold,\n",
    "                                    shuffle=True,\n",
    "                                    stratify=bin_labels\n",
    "                                    )\n",
    "      test_X_missing[i*2:i*2+2, missing_index, :] = MISSING_VALUE\n",
    "      # predict\n",
    "    predict_onehots = model.predict(test_X_missing, verbose=0)\n",
    "    to_save_array = np.copy(predict_onehots)\n",
    "    for i in tqdm(range(test_dataset[0].shape[0])):\n",
    "      missing_index, _ = train_test_split(np.arange(x_train.shape[1]), train_size=missing_perc,\n",
    "                                    random_state=i + fold,\n",
    "                                    shuffle=True,\n",
    "                                    stratify=bin_labels\n",
    "                                    )\n",
    "      # only care the missing position\n",
    "      predict_missing_onehot = predict_onehots[i*2:(i+1)*2, missing_index, :]\n",
    "      # predict label\n",
    "      predict_missing = np.argmax(predict_missing_onehot, axis=2)\n",
    "      predict_missing_final = np.zeros((1, predict_missing.shape[1]))\n",
    "      for j in range(predict_missing.shape[1]):\n",
    "        predict_missing_final[:, j] = replacement_dict['|'.join([str(o) for o in predict_missing[:, j].tolist()])]\n",
    "      preds.extend(predict_missing_final.ravel().tolist())\n",
    "\n",
    "      predict_haplotypes = np.argmax(predict_onehots[i*2:(i+1)*2,], axis=2)\n",
    "      # for j in range(predict_onehots.shape[1]):\n",
    "      #   to_save_array[i, j] = '|'.join([str(o) for o in predict_haplotypes[:, j].tolist()])\n",
    "      # real label\n",
    "      label_missing_onehot = test_dataset[0][i:i + 1, missing_index]\n",
    "      # label_missing = np.argmax(label_missing_onehot, axis=2)\n",
    "      label_missing = test_dataset[0][i:i + 1, missing_index]\n",
    "      true_labels.extend(label_missing.ravel().tolist())\n",
    "      # accuracy\n",
    "      correct_prediction = np.equal(predict_missing_final, label_missing)\n",
    "      accuracy = np.mean(correct_prediction)\n",
    "\n",
    "      avg_accuracy.append(accuracy)\n",
    "\n",
    "    # df = pd.DataFrame(to_save_array, columns= headers[:], index = Y_train.index[test_index])\n",
    "    # df.to_csv(save_name)\n",
    "    np.save(save_name, to_save_array)\n",
    "    print('The average imputation accuracy ' \\\n",
    "          'on test data with {} missing genotypes is {:.4f}: '\n",
    "        .format(missing_perc, np.mean(avg_accuracy)))\n",
    "    cnf_matrix = confusion_matrix(true_labels, preds)\n",
    "    FP = cnf_matrix.sum(axis=0) - np.diag(cnf_matrix)\n",
    "    FN = cnf_matrix.sum(axis=1) - np.diag(cnf_matrix)\n",
    "    TP = np.diag(cnf_matrix)\n",
    "    TN = cnf_matrix.sum() - (FP + FN + TP)\n",
    "    FP = FP.astype(float)\n",
    "    FN = FN.astype(float)\n",
    "    TP = TP.astype(float)\n",
    "    TN = TN.astype(float)\n",
    "    # Sensitivity, hit rate, recall, or true positive rate\n",
    "    TPR = TP/(TP+FN)\n",
    "    # Specificity or true negative rate\n",
    "    TNR = TN/(TN+FP)\n",
    "    print(f\"Sensitivity: {np.mean(TPR)}\")\n",
    "    print(f\"Specificity: {np.mean(TNR)}\")\n",
    "    print(f\"F1-score macro: {f1_score(true_labels, preds, average='macro')}\")\n",
    "    print(f\"F1-score micro: {f1_score(true_labels, preds, average='micro')}\")\n",
    "    accuracies.append(np.mean(avg_accuracy))\n",
    "  print(f\"=====================================\")\n",
    "\n",
    "\n"
   ],
   "metadata": {
    "id": "Gq5VWuKWVZVx",
    "colab": {
     "base_uri": "https://localhost:8080/"
    },
    "outputId": "625e846b-7418-44b3-aecc-52106a1f8ff9"
   },
   "execution_count": null,
   "outputs": [
    {
     "output_type": "stream",
     "name": "stdout",
     "text": [
      "Training using fold 1\n",
      "Epoch 1/1000\n",
      "187/187 [==============================] - 12s 32ms/step - loss: 0.3854 - categorical_accuracy: 0.9284 - val_loss: 1.7316 - val_categorical_accuracy: 0.0258 - lr: 0.0010\n",
      "Epoch 2/1000\n",
      "187/187 [==============================] - 4s 22ms/step - loss: 0.2307 - categorical_accuracy: 0.9717 - val_loss: 0.1909 - val_categorical_accuracy: 0.9729 - lr: 0.0010\n",
      "Epoch 3/1000\n",
      "187/187 [==============================] - 4s 22ms/step - loss: 0.1938 - categorical_accuracy: 0.9761 - val_loss: 0.0724 - val_categorical_accuracy: 0.9845 - lr: 0.0010\n",
      "Epoch 4/1000\n",
      "187/187 [==============================] - 3s 19ms/step - loss: 0.1728 - categorical_accuracy: 0.9775 - val_loss: 0.0686 - val_categorical_accuracy: 0.9845 - lr: 0.0010\n",
      "Epoch 5/1000\n",
      "187/187 [==============================] - 4s 19ms/step - loss: 0.1536 - categorical_accuracy: 0.9801 - val_loss: 0.0653 - val_categorical_accuracy: 0.9848 - lr: 0.0010\n",
      "Epoch 6/1000\n",
      "187/187 [==============================] - 4s 21ms/step - loss: 0.1402 - categorical_accuracy: 0.9808 - val_loss: 0.0693 - val_categorical_accuracy: 0.9846 - lr: 0.0010\n",
      "Epoch 7/1000\n",
      "187/187 [==============================] - 4s 21ms/step - loss: 0.1302 - categorical_accuracy: 0.9810 - val_loss: 0.0607 - val_categorical_accuracy: 0.9849 - lr: 0.0010\n",
      "Epoch 8/1000\n",
      "187/187 [==============================] - 3s 18ms/step - loss: 0.1218 - categorical_accuracy: 0.9810 - val_loss: 0.0609 - val_categorical_accuracy: 0.9850 - lr: 0.0010\n",
      "Epoch 9/1000\n",
      "187/187 [==============================] - 3s 18ms/step - loss: 0.1141 - categorical_accuracy: 0.9811 - val_loss: 0.0640 - val_categorical_accuracy: 0.9849 - lr: 0.0010\n",
      "Epoch 10/1000\n",
      "187/187 [==============================] - 4s 20ms/step - loss: 0.1085 - categorical_accuracy: 0.9810 - val_loss: 0.0608 - val_categorical_accuracy: 0.9849 - lr: 0.0010\n",
      "Epoch 11/1000\n",
      "187/187 [==============================] - 4s 22ms/step - loss: 0.1042 - categorical_accuracy: 0.9812 - val_loss: 0.0570 - val_categorical_accuracy: 0.9850 - lr: 2.0000e-04\n",
      "Epoch 12/1000\n",
      "187/187 [==============================] - 3s 18ms/step - loss: 0.1027 - categorical_accuracy: 0.9812 - val_loss: 0.0564 - val_categorical_accuracy: 0.9853 - lr: 2.0000e-04\n",
      "Epoch 13/1000\n",
      "187/187 [==============================] - 4s 23ms/step - loss: 0.1010 - categorical_accuracy: 0.9813 - val_loss: 0.0558 - val_categorical_accuracy: 0.9852 - lr: 2.0000e-04\n",
      "Epoch 14/1000\n",
      "187/187 [==============================] - 4s 20ms/step - loss: 0.1003 - categorical_accuracy: 0.9811 - val_loss: 0.0567 - val_categorical_accuracy: 0.9851 - lr: 2.0000e-04\n",
      "Epoch 15/1000\n",
      "187/187 [==============================] - 4s 22ms/step - loss: 0.0986 - categorical_accuracy: 0.9812 - val_loss: 0.0566 - val_categorical_accuracy: 0.9849 - lr: 2.0000e-04\n",
      "Epoch 16/1000\n",
      "187/187 [==============================] - 3s 19ms/step - loss: 0.0975 - categorical_accuracy: 0.9811 - val_loss: 0.0565 - val_categorical_accuracy: 0.9849 - lr: 2.0000e-04\n",
      "Epoch 17/1000\n",
      "187/187 [==============================] - 3s 18ms/step - loss: 0.0961 - categorical_accuracy: 0.9811 - val_loss: 0.0569 - val_categorical_accuracy: 0.9848 - lr: 4.0000e-05\n",
      "Epoch 18/1000\n",
      "187/187 [==============================] - 4s 21ms/step - loss: 0.0953 - categorical_accuracy: 0.9812 - val_loss: 0.0553 - val_categorical_accuracy: 0.9851 - lr: 4.0000e-05\n",
      "Epoch 19/1000\n",
      "187/187 [==============================] - 4s 22ms/step - loss: 0.0950 - categorical_accuracy: 0.9812 - val_loss: 0.0571 - val_categorical_accuracy: 0.9848 - lr: 4.0000e-05\n",
      "Epoch 20/1000\n",
      "187/187 [==============================] - 5s 26ms/step - loss: 0.0948 - categorical_accuracy: 0.9811 - val_loss: 0.0555 - val_categorical_accuracy: 0.9851 - lr: 4.0000e-05\n",
      "Epoch 21/1000\n",
      "187/187 [==============================] - 4s 20ms/step - loss: 0.0938 - categorical_accuracy: 0.9812 - val_loss: 0.0547 - val_categorical_accuracy: 0.9853 - lr: 4.0000e-05\n",
      "Epoch 22/1000\n",
      "187/187 [==============================] - 4s 21ms/step - loss: 0.0939 - categorical_accuracy: 0.9811 - val_loss: 0.0547 - val_categorical_accuracy: 0.9853 - lr: 4.0000e-05\n",
      "Epoch 23/1000\n",
      "187/187 [==============================] - 4s 21ms/step - loss: 0.0931 - categorical_accuracy: 0.9812 - val_loss: 0.0554 - val_categorical_accuracy: 0.9849 - lr: 4.0000e-05\n",
      "Epoch 24/1000\n",
      "187/187 [==============================] - 4s 22ms/step - loss: 0.0924 - categorical_accuracy: 0.9810 - val_loss: 0.0548 - val_categorical_accuracy: 0.9852 - lr: 4.0000e-05\n",
      "Epoch 25/1000\n",
      "187/187 [==============================] - 4s 19ms/step - loss: 0.0918 - categorical_accuracy: 0.9812 - val_loss: 0.0555 - val_categorical_accuracy: 0.9848 - lr: 8.0000e-06\n",
      "Epoch 26/1000\n",
      "187/187 [==============================] - 4s 19ms/step - loss: 0.0922 - categorical_accuracy: 0.9810 - val_loss: 0.0558 - val_categorical_accuracy: 0.9848 - lr: 8.0000e-06\n",
      "Epoch 27/1000\n",
      "187/187 [==============================] - 4s 21ms/step - loss: 0.0921 - categorical_accuracy: 0.9810 - val_loss: 0.0556 - val_categorical_accuracy: 0.9849 - lr: 8.0000e-06\n",
      "Epoch 28/1000\n",
      "187/187 [==============================] - 4s 19ms/step - loss: 0.0917 - categorical_accuracy: 0.9812 - val_loss: 0.0549 - val_categorical_accuracy: 0.9851 - lr: 1.6000e-06\n",
      "Epoch 29/1000\n",
      "187/187 [==============================] - 4s 19ms/step - loss: 0.0920 - categorical_accuracy: 0.9811 - val_loss: 0.0556 - val_categorical_accuracy: 0.9849 - lr: 1.6000e-06\n",
      "Epoch 30/1000\n",
      "187/187 [==============================] - 4s 19ms/step - loss: 0.0916 - categorical_accuracy: 0.9811 - val_loss: 0.0564 - val_categorical_accuracy: 0.9848 - lr: 1.6000e-06\n",
      "Epoch 31/1000\n",
      "187/187 [==============================] - 4s 22ms/step - loss: 0.0918 - categorical_accuracy: 0.9812 - val_loss: 0.0546 - val_categorical_accuracy: 0.9853 - lr: 3.2000e-07\n",
      "Epoch 32/1000\n",
      "187/187 [==============================] - 4s 20ms/step - loss: 0.0917 - categorical_accuracy: 0.9811 - val_loss: 0.0546 - val_categorical_accuracy: 0.9851 - lr: 3.2000e-07\n",
      "Epoch 33/1000\n",
      "187/187 [==============================] - 4s 19ms/step - loss: 0.0918 - categorical_accuracy: 0.9811 - val_loss: 0.0553 - val_categorical_accuracy: 0.9851 - lr: 3.2000e-07\n",
      "Epoch 34/1000\n",
      "187/187 [==============================] - 4s 19ms/step - loss: 0.0919 - categorical_accuracy: 0.9811 - val_loss: 0.0540 - val_categorical_accuracy: 0.9854 - lr: 6.4000e-08\n",
      "Epoch 35/1000\n",
      "187/187 [==============================] - 4s 21ms/step - loss: 0.0921 - categorical_accuracy: 0.9810 - val_loss: 0.0553 - val_categorical_accuracy: 0.9851 - lr: 6.4000e-08\n",
      "Epoch 36/1000\n",
      "187/187 [==============================] - 4s 23ms/step - loss: 0.0917 - categorical_accuracy: 0.9811 - val_loss: 0.0552 - val_categorical_accuracy: 0.9851 - lr: 6.4000e-08\n",
      "Epoch 37/1000\n",
      "187/187 [==============================] - 4s 19ms/step - loss: 0.0917 - categorical_accuracy: 0.9811 - val_loss: 0.0567 - val_categorical_accuracy: 0.9847 - lr: 6.4000e-08\n",
      "Epoch 38/1000\n",
      "187/187 [==============================] - 3s 19ms/step - loss: 0.0917 - categorical_accuracy: 0.9811 - val_loss: 0.0545 - val_categorical_accuracy: 0.9851 - lr: 1.2800e-08\n",
      "Epoch 39/1000\n",
      "187/187 [==============================] - 4s 19ms/step - loss: 0.0917 - categorical_accuracy: 0.9811 - val_loss: 0.0546 - val_categorical_accuracy: 0.9850 - lr: 1.2800e-08\n",
      "Epoch 40/1000\n",
      "187/187 [==============================] - 5s 25ms/step - loss: 0.0923 - categorical_accuracy: 0.9810 - val_loss: 0.0551 - val_categorical_accuracy: 0.9850 - lr: 1.2800e-08\n",
      "Epoch 41/1000\n",
      "187/187 [==============================] - 4s 21ms/step - loss: 0.0917 - categorical_accuracy: 0.9812 - val_loss: 0.0558 - val_categorical_accuracy: 0.9849 - lr: 2.5600e-09\n",
      "Epoch 42/1000\n",
      "187/187 [==============================] - 4s 19ms/step - loss: 0.0917 - categorical_accuracy: 0.9812 - val_loss: 0.0552 - val_categorical_accuracy: 0.9850 - lr: 2.5600e-09\n",
      "Epoch 43/1000\n",
      "187/187 [==============================] - 4s 20ms/step - loss: 0.0916 - categorical_accuracy: 0.9811 - val_loss: 0.0551 - val_categorical_accuracy: 0.9851 - lr: 2.5600e-09\n",
      "Epoch 44/1000\n",
      "187/187 [==============================] - 5s 26ms/step - loss: 0.0921 - categorical_accuracy: 0.9811 - val_loss: 0.0543 - val_categorical_accuracy: 0.9853 - lr: 5.1200e-10\n",
      "Epoch 45/1000\n",
      "187/187 [==============================] - 4s 20ms/step - loss: 0.0916 - categorical_accuracy: 0.9812 - val_loss: 0.0551 - val_categorical_accuracy: 0.9851 - lr: 5.1200e-10\n",
      "Epoch 46/1000\n",
      "187/187 [==============================] - 3s 18ms/step - loss: 0.0920 - categorical_accuracy: 0.9811 - val_loss: 0.0551 - val_categorical_accuracy: 0.9852 - lr: 5.1200e-10\n",
      "Epoch 47/1000\n",
      "187/187 [==============================] - 3s 19ms/step - loss: 0.0921 - categorical_accuracy: 0.9810 - val_loss: 0.0548 - val_categorical_accuracy: 0.9851 - lr: 1.0240e-10\n",
      "Epoch 48/1000\n",
      "187/187 [==============================] - 4s 21ms/step - loss: 0.0916 - categorical_accuracy: 0.9812 - val_loss: 0.0541 - val_categorical_accuracy: 0.9852 - lr: 1.0240e-10\n",
      "Epoch 49/1000\n",
      "187/187 [==============================] - 4s 20ms/step - loss: 0.0917 - categorical_accuracy: 0.9811 - val_loss: 0.0554 - val_categorical_accuracy: 0.9850 - lr: 1.0240e-10\n",
      "Epoch 50/1000\n",
      "187/187 [==============================] - 4s 19ms/step - loss: 0.0914 - categorical_accuracy: 0.9812 - val_loss: 0.0547 - val_categorical_accuracy: 0.9851 - lr: 2.0480e-11\n",
      "Epoch 51/1000\n",
      "187/187 [==============================] - 3s 18ms/step - loss: 0.0914 - categorical_accuracy: 0.9812 - val_loss: 0.0551 - val_categorical_accuracy: 0.9849 - lr: 2.0480e-11\n",
      "Epoch 52/1000\n",
      "187/187 [==============================] - 4s 21ms/step - loss: 0.0915 - categorical_accuracy: 0.9812 - val_loss: 0.0542 - val_categorical_accuracy: 0.9851 - lr: 2.0480e-11\n",
      "Epoch 53/1000\n",
      "187/187 [==============================] - 4s 21ms/step - loss: 0.0920 - categorical_accuracy: 0.9811 - val_loss: 0.0543 - val_categorical_accuracy: 0.9851 - lr: 4.0960e-12\n",
      "Epoch 54/1000\n",
      "184/187 [============================>.] - ETA: 0s - loss: 0.0915 - categorical_accuracy: 0.9812Restoring model weights from the end of the best epoch: 34.\n",
      "187/187 [==============================] - 4s 20ms/step - loss: 0.0915 - categorical_accuracy: 0.9812 - val_loss: 0.0546 - val_categorical_accuracy: 0.9851 - lr: 4.0960e-12\n",
      "Epoch 54: early stopping\n"
     ]
    },
    {
     "output_type": "stream",
     "name": "stderr",
     "text": [
      "100%|██████████| 835/835 [00:00<00:00, 840.80it/s]\n",
      "100%|██████████| 835/835 [00:02<00:00, 415.24it/s]\n"
     ]
    },
    {
     "output_type": "stream",
     "name": "stdout",
     "text": [
      "The average imputation accuracy on test data with 0.05 missing genotypes is 0.9512: \n",
      "Sensitivity: 0.14731708257433646\n",
      "Specificity: 0.9051517976383856\n",
      "F1-score macro: 0.16703223565752612\n",
      "F1-score micro: 0.951211861990305\n"
     ]
    },
    {
     "output_type": "stream",
     "name": "stderr",
     "text": [
      "100%|██████████| 835/835 [00:01<00:00, 650.97it/s]\n",
      "100%|██████████| 835/835 [00:01<00:00, 626.41it/s]\n"
     ]
    },
    {
     "output_type": "stream",
     "name": "stdout",
     "text": [
      "The average imputation accuracy on test data with 0.1 missing genotypes is 0.9521: \n",
      "Sensitivity: 0.11812277623688816\n",
      "Specificity: 0.9213350167203564\n",
      "F1-score macro: 0.13387526971998256\n",
      "F1-score micro: 0.9520958083832335\n"
     ]
    },
    {
     "output_type": "stream",
     "name": "stderr",
     "text": [
      "100%|██████████| 835/835 [00:01<00:00, 794.28it/s]\n",
      "100%|██████████| 835/835 [00:01<00:00, 547.17it/s]\n"
     ]
    },
    {
     "output_type": "stream",
     "name": "stdout",
     "text": [
      "The average imputation accuracy on test data with 0.2 missing genotypes is 0.9519: \n",
      "Sensitivity: 0.07220135043163001\n",
      "Specificity: 0.9475113897960192\n",
      "F1-score macro: 0.08076515772310838\n",
      "F1-score micro: 0.9518690429791304\n",
      "=====================================\n",
      "Training using fold 2\n",
      "Epoch 1/1000\n",
      "187/187 [==============================] - 10s 28ms/step - loss: 0.7164 - categorical_accuracy: 0.8888 - val_loss: 3.0456 - val_categorical_accuracy: 0.0283 - lr: 0.0010\n",
      "Epoch 2/1000\n",
      "187/187 [==============================] - 4s 20ms/step - loss: 0.3135 - categorical_accuracy: 0.9779 - val_loss: 1.0679 - val_categorical_accuracy: 0.6965 - lr: 0.0010\n",
      "Epoch 3/1000\n",
      "187/187 [==============================] - 4s 22ms/step - loss: 0.2734 - categorical_accuracy: 0.9805 - val_loss: 0.0673 - val_categorical_accuracy: 0.9849 - lr: 0.0010\n",
      "Epoch 4/1000\n",
      "187/187 [==============================] - 4s 20ms/step - loss: 0.2469 - categorical_accuracy: 0.9811 - val_loss: 0.0664 - val_categorical_accuracy: 0.9853 - lr: 0.0010\n",
      "Epoch 5/1000\n",
      "187/187 [==============================] - 3s 18ms/step - loss: 0.2246 - categorical_accuracy: 0.9813 - val_loss: 0.0784 - val_categorical_accuracy: 0.9846 - lr: 0.0010\n",
      "Epoch 6/1000\n",
      "187/187 [==============================] - 5s 25ms/step - loss: 0.2045 - categorical_accuracy: 0.9815 - val_loss: 0.0617 - val_categorical_accuracy: 0.9851 - lr: 0.0010\n",
      "Epoch 7/1000\n",
      "187/187 [==============================] - 4s 21ms/step - loss: 0.1871 - categorical_accuracy: 0.9816 - val_loss: 0.0747 - val_categorical_accuracy: 0.9848 - lr: 0.0010\n",
      "Epoch 8/1000\n",
      "187/187 [==============================] - 4s 19ms/step - loss: 0.1718 - categorical_accuracy: 0.9816 - val_loss: 0.0626 - val_categorical_accuracy: 0.9850 - lr: 0.0010\n",
      "Epoch 9/1000\n",
      "187/187 [==============================] - 4s 19ms/step - loss: 0.1581 - categorical_accuracy: 0.9816 - val_loss: 0.0600 - val_categorical_accuracy: 0.9855 - lr: 0.0010\n",
      "Epoch 10/1000\n",
      "187/187 [==============================] - 4s 19ms/step - loss: 0.1454 - categorical_accuracy: 0.9821 - val_loss: 0.0684 - val_categorical_accuracy: 0.9852 - lr: 0.0010\n",
      "Epoch 11/1000\n",
      "187/187 [==============================] - 4s 22ms/step - loss: 0.1348 - categorical_accuracy: 0.9822 - val_loss: 0.0648 - val_categorical_accuracy: 0.9849 - lr: 0.0010\n",
      "Epoch 12/1000\n",
      "187/187 [==============================] - 4s 21ms/step - loss: 0.1251 - categorical_accuracy: 0.9824 - val_loss: 0.0625 - val_categorical_accuracy: 0.9853 - lr: 0.0010\n",
      "Epoch 13/1000\n",
      "187/187 [==============================] - 4s 19ms/step - loss: 0.1194 - categorical_accuracy: 0.9825 - val_loss: 0.0588 - val_categorical_accuracy: 0.9853 - lr: 2.0000e-04\n",
      "Epoch 14/1000\n",
      "187/187 [==============================] - 4s 19ms/step - loss: 0.1174 - categorical_accuracy: 0.9826 - val_loss: 0.0572 - val_categorical_accuracy: 0.9854 - lr: 2.0000e-04\n",
      "Epoch 15/1000\n",
      "187/187 [==============================] - 4s 20ms/step - loss: 0.1151 - categorical_accuracy: 0.9826 - val_loss: 0.0566 - val_categorical_accuracy: 0.9858 - lr: 2.0000e-04\n",
      "Epoch 16/1000\n",
      "187/187 [==============================] - 4s 22ms/step - loss: 0.1134 - categorical_accuracy: 0.9826 - val_loss: 0.0559 - val_categorical_accuracy: 0.9856 - lr: 2.0000e-04\n",
      "Epoch 17/1000\n",
      "187/187 [==============================] - 4s 19ms/step - loss: 0.1126 - categorical_accuracy: 0.9825 - val_loss: 0.0574 - val_categorical_accuracy: 0.9852 - lr: 2.0000e-04\n",
      "Epoch 18/1000\n",
      "187/187 [==============================] - 4s 19ms/step - loss: 0.1105 - categorical_accuracy: 0.9825 - val_loss: 0.0558 - val_categorical_accuracy: 0.9857 - lr: 2.0000e-04\n",
      "Epoch 19/1000\n",
      "187/187 [==============================] - 4s 20ms/step - loss: 0.1087 - categorical_accuracy: 0.9826 - val_loss: 0.0555 - val_categorical_accuracy: 0.9857 - lr: 2.0000e-04\n",
      "Epoch 20/1000\n",
      "187/187 [==============================] - 4s 22ms/step - loss: 0.1068 - categorical_accuracy: 0.9825 - val_loss: 0.0554 - val_categorical_accuracy: 0.9858 - lr: 2.0000e-04\n",
      "Epoch 21/1000\n",
      "187/187 [==============================] - 4s 19ms/step - loss: 0.1051 - categorical_accuracy: 0.9826 - val_loss: 0.0583 - val_categorical_accuracy: 0.9855 - lr: 2.0000e-04\n",
      "Epoch 22/1000\n",
      "187/187 [==============================] - 4s 20ms/step - loss: 0.1031 - categorical_accuracy: 0.9827 - val_loss: 0.0550 - val_categorical_accuracy: 0.9859 - lr: 2.0000e-04\n",
      "Epoch 23/1000\n",
      "187/187 [==============================] - 4s 19ms/step - loss: 0.1024 - categorical_accuracy: 0.9826 - val_loss: 0.0554 - val_categorical_accuracy: 0.9856 - lr: 2.0000e-04\n",
      "Epoch 24/1000\n",
      "187/187 [==============================] - 4s 22ms/step - loss: 0.1000 - categorical_accuracy: 0.9827 - val_loss: 0.0548 - val_categorical_accuracy: 0.9856 - lr: 2.0000e-04\n",
      "Epoch 25/1000\n",
      "187/187 [==============================] - 4s 20ms/step - loss: 0.0988 - categorical_accuracy: 0.9825 - val_loss: 0.0549 - val_categorical_accuracy: 0.9856 - lr: 2.0000e-04\n",
      "Epoch 26/1000\n",
      "187/187 [==============================] - 3s 18ms/step - loss: 0.0970 - categorical_accuracy: 0.9827 - val_loss: 0.0551 - val_categorical_accuracy: 0.9855 - lr: 2.0000e-04\n",
      "Epoch 27/1000\n",
      "187/187 [==============================] - 4s 22ms/step - loss: 0.0955 - categorical_accuracy: 0.9827 - val_loss: 0.0548 - val_categorical_accuracy: 0.9856 - lr: 2.0000e-04\n",
      "Epoch 28/1000\n",
      "187/187 [==============================] - 4s 21ms/step - loss: 0.0941 - categorical_accuracy: 0.9828 - val_loss: 0.0531 - val_categorical_accuracy: 0.9859 - lr: 4.0000e-05\n",
      "Epoch 29/1000\n",
      "187/187 [==============================] - 4s 20ms/step - loss: 0.0941 - categorical_accuracy: 0.9827 - val_loss: 0.0537 - val_categorical_accuracy: 0.9855 - lr: 4.0000e-05\n",
      "Epoch 30/1000\n",
      "187/187 [==============================] - 4s 20ms/step - loss: 0.0936 - categorical_accuracy: 0.9827 - val_loss: 0.0527 - val_categorical_accuracy: 0.9857 - lr: 4.0000e-05\n",
      "Epoch 31/1000\n",
      "187/187 [==============================] - 4s 19ms/step - loss: 0.0934 - categorical_accuracy: 0.9827 - val_loss: 0.0541 - val_categorical_accuracy: 0.9854 - lr: 4.0000e-05\n",
      "Epoch 32/1000\n",
      "187/187 [==============================] - 4s 20ms/step - loss: 0.0927 - categorical_accuracy: 0.9828 - val_loss: 0.0550 - val_categorical_accuracy: 0.9852 - lr: 4.0000e-05\n",
      "Epoch 33/1000\n",
      "187/187 [==============================] - 4s 21ms/step - loss: 0.0932 - categorical_accuracy: 0.9825 - val_loss: 0.0535 - val_categorical_accuracy: 0.9856 - lr: 4.0000e-05\n",
      "Epoch 34/1000\n",
      "187/187 [==============================] - 3s 19ms/step - loss: 0.0923 - categorical_accuracy: 0.9827 - val_loss: 0.0547 - val_categorical_accuracy: 0.9851 - lr: 8.0000e-06\n",
      "Epoch 35/1000\n",
      "187/187 [==============================] - 4s 19ms/step - loss: 0.0919 - categorical_accuracy: 0.9828 - val_loss: 0.0523 - val_categorical_accuracy: 0.9858 - lr: 8.0000e-06\n",
      "Epoch 36/1000\n",
      "187/187 [==============================] - 4s 20ms/step - loss: 0.0919 - categorical_accuracy: 0.9827 - val_loss: 0.0545 - val_categorical_accuracy: 0.9852 - lr: 8.0000e-06\n",
      "Epoch 37/1000\n",
      "187/187 [==============================] - 4s 21ms/step - loss: 0.0921 - categorical_accuracy: 0.9827 - val_loss: 0.0531 - val_categorical_accuracy: 0.9856 - lr: 8.0000e-06\n",
      "Epoch 38/1000\n",
      "187/187 [==============================] - 4s 20ms/step - loss: 0.0922 - categorical_accuracy: 0.9826 - val_loss: 0.0531 - val_categorical_accuracy: 0.9857 - lr: 8.0000e-06\n",
      "Epoch 39/1000\n",
      "187/187 [==============================] - 4s 19ms/step - loss: 0.0920 - categorical_accuracy: 0.9826 - val_loss: 0.0533 - val_categorical_accuracy: 0.9856 - lr: 1.6000e-06\n",
      "Epoch 40/1000\n",
      "187/187 [==============================] - 4s 20ms/step - loss: 0.0920 - categorical_accuracy: 0.9826 - val_loss: 0.0527 - val_categorical_accuracy: 0.9856 - lr: 1.6000e-06\n",
      "Epoch 41/1000\n",
      "187/187 [==============================] - 4s 24ms/step - loss: 0.0924 - categorical_accuracy: 0.9825 - val_loss: 0.0535 - val_categorical_accuracy: 0.9855 - lr: 1.6000e-06\n",
      "Epoch 42/1000\n",
      "187/187 [==============================] - 5s 26ms/step - loss: 0.0915 - categorical_accuracy: 0.9827 - val_loss: 0.0527 - val_categorical_accuracy: 0.9857 - lr: 3.2000e-07\n",
      "Epoch 43/1000\n",
      "187/187 [==============================] - 4s 22ms/step - loss: 0.0919 - categorical_accuracy: 0.9826 - val_loss: 0.0539 - val_categorical_accuracy: 0.9855 - lr: 3.2000e-07\n",
      "Epoch 44/1000\n",
      "187/187 [==============================] - 3s 19ms/step - loss: 0.0917 - categorical_accuracy: 0.9827 - val_loss: 0.0536 - val_categorical_accuracy: 0.9855 - lr: 3.2000e-07\n",
      "Epoch 45/1000\n",
      "187/187 [==============================] - 4s 21ms/step - loss: 0.0914 - categorical_accuracy: 0.9828 - val_loss: 0.0537 - val_categorical_accuracy: 0.9855 - lr: 6.4000e-08\n",
      "Epoch 46/1000\n",
      "187/187 [==============================] - 4s 21ms/step - loss: 0.0916 - categorical_accuracy: 0.9827 - val_loss: 0.0533 - val_categorical_accuracy: 0.9857 - lr: 6.4000e-08\n",
      "Epoch 47/1000\n",
      "187/187 [==============================] - 3s 18ms/step - loss: 0.0914 - categorical_accuracy: 0.9827 - val_loss: 0.0526 - val_categorical_accuracy: 0.9857 - lr: 6.4000e-08\n",
      "Epoch 48/1000\n",
      "187/187 [==============================] - 4s 20ms/step - loss: 0.0919 - categorical_accuracy: 0.9826 - val_loss: 0.0530 - val_categorical_accuracy: 0.9856 - lr: 1.2800e-08\n",
      "Epoch 49/1000\n",
      "187/187 [==============================] - 4s 22ms/step - loss: 0.0921 - categorical_accuracy: 0.9826 - val_loss: 0.0529 - val_categorical_accuracy: 0.9856 - lr: 1.2800e-08\n",
      "Epoch 50/1000\n",
      "187/187 [==============================] - 4s 22ms/step - loss: 0.0916 - categorical_accuracy: 0.9828 - val_loss: 0.0535 - val_categorical_accuracy: 0.9855 - lr: 1.2800e-08\n",
      "Epoch 51/1000\n",
      "187/187 [==============================] - 4s 19ms/step - loss: 0.0918 - categorical_accuracy: 0.9826 - val_loss: 0.0541 - val_categorical_accuracy: 0.9853 - lr: 2.5600e-09\n",
      "Epoch 52/1000\n",
      "187/187 [==============================] - 4s 19ms/step - loss: 0.0915 - categorical_accuracy: 0.9827 - val_loss: 0.0529 - val_categorical_accuracy: 0.9856 - lr: 2.5600e-09\n",
      "Epoch 53/1000\n",
      "187/187 [==============================] - 4s 19ms/step - loss: 0.0917 - categorical_accuracy: 0.9827 - val_loss: 0.0527 - val_categorical_accuracy: 0.9858 - lr: 2.5600e-09\n",
      "Epoch 54/1000\n",
      "187/187 [==============================] - 4s 21ms/step - loss: 0.0922 - categorical_accuracy: 0.9825 - val_loss: 0.0518 - val_categorical_accuracy: 0.9860 - lr: 5.1200e-10\n",
      "Epoch 55/1000\n",
      "187/187 [==============================] - 4s 23ms/step - loss: 0.0916 - categorical_accuracy: 0.9827 - val_loss: 0.0533 - val_categorical_accuracy: 0.9856 - lr: 5.1200e-10\n",
      "Epoch 56/1000\n",
      "187/187 [==============================] - 4s 19ms/step - loss: 0.0921 - categorical_accuracy: 0.9826 - val_loss: 0.0524 - val_categorical_accuracy: 0.9857 - lr: 5.1200e-10\n",
      "Epoch 57/1000\n",
      "187/187 [==============================] - 4s 19ms/step - loss: 0.0923 - categorical_accuracy: 0.9825 - val_loss: 0.0543 - val_categorical_accuracy: 0.9853 - lr: 5.1200e-10\n",
      "Epoch 58/1000\n",
      "187/187 [==============================] - 4s 22ms/step - loss: 0.0918 - categorical_accuracy: 0.9827 - val_loss: 0.0529 - val_categorical_accuracy: 0.9857 - lr: 1.0240e-10\n",
      "Epoch 59/1000\n",
      "187/187 [==============================] - 4s 21ms/step - loss: 0.0914 - categorical_accuracy: 0.9828 - val_loss: 0.0531 - val_categorical_accuracy: 0.9856 - lr: 1.0240e-10\n",
      "Epoch 60/1000\n",
      "187/187 [==============================] - 4s 21ms/step - loss: 0.0918 - categorical_accuracy: 0.9826 - val_loss: 0.0537 - val_categorical_accuracy: 0.9857 - lr: 1.0240e-10\n",
      "Epoch 61/1000\n",
      "187/187 [==============================] - 4s 20ms/step - loss: 0.0917 - categorical_accuracy: 0.9827 - val_loss: 0.0537 - val_categorical_accuracy: 0.9855 - lr: 2.0480e-11\n",
      "Epoch 62/1000\n",
      "187/187 [==============================] - 4s 21ms/step - loss: 0.0921 - categorical_accuracy: 0.9826 - val_loss: 0.0534 - val_categorical_accuracy: 0.9855 - lr: 2.0480e-11\n",
      "Epoch 63/1000\n",
      "187/187 [==============================] - 4s 22ms/step - loss: 0.0920 - categorical_accuracy: 0.9826 - val_loss: 0.0532 - val_categorical_accuracy: 0.9856 - lr: 2.0480e-11\n",
      "Epoch 64/1000\n",
      "187/187 [==============================] - 4s 20ms/step - loss: 0.0918 - categorical_accuracy: 0.9826 - val_loss: 0.0532 - val_categorical_accuracy: 0.9857 - lr: 4.0960e-12\n",
      "Epoch 65/1000\n",
      "187/187 [==============================] - 4s 20ms/step - loss: 0.0920 - categorical_accuracy: 0.9826 - val_loss: 0.0523 - val_categorical_accuracy: 0.9858 - lr: 4.0960e-12\n",
      "Epoch 66/1000\n",
      "187/187 [==============================] - 4s 23ms/step - loss: 0.0916 - categorical_accuracy: 0.9828 - val_loss: 0.0528 - val_categorical_accuracy: 0.9858 - lr: 4.0960e-12\n",
      "Epoch 67/1000\n",
      "187/187 [==============================] - 4s 22ms/step - loss: 0.0919 - categorical_accuracy: 0.9827 - val_loss: 0.0522 - val_categorical_accuracy: 0.9858 - lr: 8.1920e-13\n",
      "Epoch 68/1000\n",
      "187/187 [==============================] - 4s 20ms/step - loss: 0.0918 - categorical_accuracy: 0.9827 - val_loss: 0.0524 - val_categorical_accuracy: 0.9858 - lr: 8.1920e-13\n",
      "Epoch 69/1000\n",
      "187/187 [==============================] - 4s 20ms/step - loss: 0.0915 - categorical_accuracy: 0.9827 - val_loss: 0.0528 - val_categorical_accuracy: 0.9858 - lr: 8.1920e-13\n",
      "Epoch 70/1000\n",
      "187/187 [==============================] - 4s 21ms/step - loss: 0.0921 - categorical_accuracy: 0.9826 - val_loss: 0.0530 - val_categorical_accuracy: 0.9857 - lr: 1.6384e-13\n",
      "Epoch 71/1000\n",
      "187/187 [==============================] - 4s 22ms/step - loss: 0.0922 - categorical_accuracy: 0.9826 - val_loss: 0.0527 - val_categorical_accuracy: 0.9857 - lr: 1.6384e-13\n",
      "Epoch 72/1000\n",
      "187/187 [==============================] - 4s 19ms/step - loss: 0.0918 - categorical_accuracy: 0.9827 - val_loss: 0.0527 - val_categorical_accuracy: 0.9855 - lr: 1.6384e-13\n",
      "Epoch 73/1000\n",
      "187/187 [==============================] - 4s 20ms/step - loss: 0.0916 - categorical_accuracy: 0.9827 - val_loss: 0.0540 - val_categorical_accuracy: 0.9854 - lr: 3.2768e-14\n",
      "Epoch 74/1000\n",
      "185/187 [============================>.] - ETA: 0s - loss: 0.0917 - categorical_accuracy: 0.9827Restoring model weights from the end of the best epoch: 54.\n",
      "187/187 [==============================] - 4s 22ms/step - loss: 0.0916 - categorical_accuracy: 0.9827 - val_loss: 0.0542 - val_categorical_accuracy: 0.9853 - lr: 3.2768e-14\n",
      "Epoch 74: early stopping\n"
     ]
    },
    {
     "output_type": "stream",
     "name": "stderr",
     "text": [
      "100%|██████████| 835/835 [00:01<00:00, 550.83it/s]\n",
      "100%|██████████| 835/835 [00:01<00:00, 755.23it/s]\n"
     ]
    },
    {
     "output_type": "stream",
     "name": "stdout",
     "text": [
      "The average imputation accuracy on test data with 0.05 missing genotypes is 0.9542: \n",
      "Sensitivity: 0.1420763791628648\n",
      "Specificity: 0.9185215129250366\n",
      "F1-score macro: 0.16240140736090614\n",
      "F1-score micro: 0.9542343883661248\n"
     ]
    },
    {
     "output_type": "stream",
     "name": "stderr",
     "text": [
      "100%|██████████| 835/835 [00:00<00:00, 867.73it/s]\n",
      "100%|██████████| 835/835 [00:01<00:00, 637.67it/s]\n"
     ]
    },
    {
     "output_type": "stream",
     "name": "stdout",
     "text": [
      "The average imputation accuracy on test data with 0.1 missing genotypes is 0.9538: \n",
      "Sensitivity: 0.09329016629029134\n",
      "Specificity: 0.9448398080804964\n",
      "F1-score macro: 0.10725126593722505\n",
      "F1-score micro: 0.9538351867693186\n"
     ]
    },
    {
     "output_type": "stream",
     "name": "stderr",
     "text": [
      "100%|██████████| 835/835 [00:00<00:00, 887.91it/s]\n",
      "100%|██████████| 835/835 [00:02<00:00, 289.88it/s]\n"
     ]
    },
    {
     "output_type": "stream",
     "name": "stdout",
     "text": [
      "The average imputation accuracy on test data with 0.2 missing genotypes is 0.9533: \n",
      "Sensitivity: 0.07862454343589656\n",
      "Specificity: 0.9498817733913654\n",
      "F1-score macro: 0.08979002714929514\n",
      "F1-score micro: 0.9533430181058002\n",
      "=====================================\n",
      "Training using fold 3\n",
      "Epoch 1/1000\n",
      "187/187 [==============================] - 8s 26ms/step - loss: 0.5685 - categorical_accuracy: 0.9348 - val_loss: 2.0482 - val_categorical_accuracy: 0.0049 - lr: 0.0010\n",
      "Epoch 2/1000\n",
      "187/187 [==============================] - 4s 22ms/step - loss: 0.3089 - categorical_accuracy: 0.9684 - val_loss: 0.5943 - val_categorical_accuracy: 0.9351 - lr: 0.0010\n",
      "Epoch 3/1000\n",
      "187/187 [==============================] - 4s 20ms/step - loss: 0.2781 - categorical_accuracy: 0.9694 - val_loss: 0.1395 - val_categorical_accuracy: 0.9696 - lr: 0.0010\n",
      "Epoch 4/1000\n",
      "187/187 [==============================] - 4s 19ms/step - loss: 0.2565 - categorical_accuracy: 0.9697 - val_loss: 0.0955 - val_categorical_accuracy: 0.9697 - lr: 0.0010\n",
      "Epoch 5/1000\n",
      "187/187 [==============================] - 4s 19ms/step - loss: 0.2354 - categorical_accuracy: 0.9697 - val_loss: 0.0930 - val_categorical_accuracy: 0.9697 - lr: 0.0010\n",
      "Epoch 6/1000\n",
      "187/187 [==============================] - 4s 21ms/step - loss: 0.2143 - categorical_accuracy: 0.9697 - val_loss: 0.0971 - val_categorical_accuracy: 0.9697 - lr: 0.0010\n",
      "Epoch 7/1000\n",
      "187/187 [==============================] - 4s 21ms/step - loss: 0.1701 - categorical_accuracy: 0.9700 - val_loss: 0.1035 - val_categorical_accuracy: 0.9697 - lr: 0.0010\n",
      "Epoch 8/1000\n",
      "187/187 [==============================] - 4s 19ms/step - loss: 0.1514 - categorical_accuracy: 0.9701 - val_loss: 0.0947 - val_categorical_accuracy: 0.9697 - lr: 0.0010\n",
      "Epoch 9/1000\n",
      "187/187 [==============================] - 4s 20ms/step - loss: 0.1457 - categorical_accuracy: 0.9700 - val_loss: 0.0876 - val_categorical_accuracy: 0.9697 - lr: 2.0000e-04\n",
      "Epoch 10/1000\n",
      "187/187 [==============================] - 4s 21ms/step - loss: 0.1438 - categorical_accuracy: 0.9700 - val_loss: 0.0874 - val_categorical_accuracy: 0.9697 - lr: 2.0000e-04\n",
      "Epoch 11/1000\n",
      "187/187 [==============================] - 4s 23ms/step - loss: 0.1422 - categorical_accuracy: 0.9700 - val_loss: 0.0878 - val_categorical_accuracy: 0.9697 - lr: 2.0000e-04\n",
      "Epoch 12/1000\n",
      "187/187 [==============================] - 4s 20ms/step - loss: 0.1415 - categorical_accuracy: 0.9700 - val_loss: 0.0870 - val_categorical_accuracy: 0.9697 - lr: 2.0000e-04\n",
      "Epoch 13/1000\n",
      "187/187 [==============================] - 4s 21ms/step - loss: 0.1396 - categorical_accuracy: 0.9701 - val_loss: 0.0876 - val_categorical_accuracy: 0.9697 - lr: 2.0000e-04\n",
      "Epoch 14/1000\n",
      "187/187 [==============================] - 4s 21ms/step - loss: 0.1384 - categorical_accuracy: 0.9701 - val_loss: 0.0872 - val_categorical_accuracy: 0.9697 - lr: 2.0000e-04\n",
      "Epoch 15/1000\n",
      "187/187 [==============================] - 4s 23ms/step - loss: 0.1370 - categorical_accuracy: 0.9701 - val_loss: 0.0867 - val_categorical_accuracy: 0.9697 - lr: 2.0000e-04\n",
      "Epoch 16/1000\n",
      "187/187 [==============================] - 4s 20ms/step - loss: 0.1353 - categorical_accuracy: 0.9701 - val_loss: 0.0854 - val_categorical_accuracy: 0.9703 - lr: 2.0000e-04\n",
      "Epoch 17/1000\n",
      "187/187 [==============================] - 4s 22ms/step - loss: 0.1330 - categorical_accuracy: 0.9709 - val_loss: 0.0832 - val_categorical_accuracy: 0.9725 - lr: 2.0000e-04\n",
      "Epoch 18/1000\n",
      "187/187 [==============================] - 4s 22ms/step - loss: 0.1307 - categorical_accuracy: 0.9718 - val_loss: 0.0780 - val_categorical_accuracy: 0.9761 - lr: 2.0000e-04\n",
      "Epoch 19/1000\n",
      "187/187 [==============================] - 4s 22ms/step - loss: 0.1265 - categorical_accuracy: 0.9742 - val_loss: 0.0745 - val_categorical_accuracy: 0.9782 - lr: 2.0000e-04\n",
      "Epoch 20/1000\n",
      "187/187 [==============================] - 4s 21ms/step - loss: 0.1237 - categorical_accuracy: 0.9743 - val_loss: 0.0744 - val_categorical_accuracy: 0.9784 - lr: 2.0000e-04\n",
      "Epoch 21/1000\n",
      "187/187 [==============================] - 4s 19ms/step - loss: 0.1215 - categorical_accuracy: 0.9745 - val_loss: 0.0724 - val_categorical_accuracy: 0.9787 - lr: 2.0000e-04\n",
      "Epoch 22/1000\n",
      "187/187 [==============================] - 4s 19ms/step - loss: 0.1200 - categorical_accuracy: 0.9744 - val_loss: 0.0725 - val_categorical_accuracy: 0.9786 - lr: 2.0000e-04\n",
      "Epoch 23/1000\n",
      "187/187 [==============================] - 4s 21ms/step - loss: 0.1172 - categorical_accuracy: 0.9751 - val_loss: 0.0679 - val_categorical_accuracy: 0.9821 - lr: 2.0000e-04\n",
      "Epoch 24/1000\n",
      "187/187 [==============================] - 4s 20ms/step - loss: 0.1133 - categorical_accuracy: 0.9762 - val_loss: 0.0658 - val_categorical_accuracy: 0.9821 - lr: 2.0000e-04\n",
      "Epoch 25/1000\n",
      "187/187 [==============================] - 4s 20ms/step - loss: 0.1122 - categorical_accuracy: 0.9763 - val_loss: 0.0662 - val_categorical_accuracy: 0.9824 - lr: 2.0000e-04\n",
      "Epoch 26/1000\n",
      "187/187 [==============================] - 4s 19ms/step - loss: 0.1111 - categorical_accuracy: 0.9762 - val_loss: 0.0668 - val_categorical_accuracy: 0.9820 - lr: 2.0000e-04\n",
      "Epoch 27/1000\n",
      "187/187 [==============================] - 4s 22ms/step - loss: 0.1096 - categorical_accuracy: 0.9763 - val_loss: 0.0647 - val_categorical_accuracy: 0.9824 - lr: 2.0000e-04\n",
      "Epoch 28/1000\n",
      "187/187 [==============================] - 4s 21ms/step - loss: 0.1086 - categorical_accuracy: 0.9763 - val_loss: 0.0647 - val_categorical_accuracy: 0.9822 - lr: 2.0000e-04\n",
      "Epoch 29/1000\n",
      "187/187 [==============================] - 4s 19ms/step - loss: 0.1067 - categorical_accuracy: 0.9764 - val_loss: 0.0656 - val_categorical_accuracy: 0.9823 - lr: 2.0000e-04\n",
      "Epoch 30/1000\n",
      "187/187 [==============================] - 4s 20ms/step - loss: 0.1062 - categorical_accuracy: 0.9761 - val_loss: 0.0648 - val_categorical_accuracy: 0.9821 - lr: 2.0000e-04\n",
      "Epoch 31/1000\n",
      "187/187 [==============================] - 4s 21ms/step - loss: 0.1046 - categorical_accuracy: 0.9764 - val_loss: 0.0635 - val_categorical_accuracy: 0.9825 - lr: 4.0000e-05\n",
      "Epoch 32/1000\n",
      "187/187 [==============================] - 4s 21ms/step - loss: 0.1037 - categorical_accuracy: 0.9765 - val_loss: 0.0643 - val_categorical_accuracy: 0.9824 - lr: 4.0000e-05\n",
      "Epoch 33/1000\n",
      "187/187 [==============================] - 4s 20ms/step - loss: 0.1035 - categorical_accuracy: 0.9767 - val_loss: 0.0597 - val_categorical_accuracy: 0.9843 - lr: 4.0000e-05\n",
      "Epoch 34/1000\n",
      "187/187 [==============================] - 4s 20ms/step - loss: 0.1016 - categorical_accuracy: 0.9775 - val_loss: 0.0593 - val_categorical_accuracy: 0.9849 - lr: 4.0000e-05\n",
      "Epoch 35/1000\n",
      "187/187 [==============================] - 4s 21ms/step - loss: 0.1011 - categorical_accuracy: 0.9775 - val_loss: 0.0593 - val_categorical_accuracy: 0.9846 - lr: 4.0000e-05\n",
      "Epoch 36/1000\n",
      "187/187 [==============================] - 4s 23ms/step - loss: 0.1005 - categorical_accuracy: 0.9776 - val_loss: 0.0583 - val_categorical_accuracy: 0.9848 - lr: 4.0000e-05\n",
      "Epoch 37/1000\n",
      "187/187 [==============================] - 4s 20ms/step - loss: 0.1002 - categorical_accuracy: 0.9776 - val_loss: 0.0589 - val_categorical_accuracy: 0.9845 - lr: 4.0000e-05\n",
      "Epoch 38/1000\n",
      "187/187 [==============================] - 4s 19ms/step - loss: 0.0997 - categorical_accuracy: 0.9776 - val_loss: 0.0599 - val_categorical_accuracy: 0.9845 - lr: 4.0000e-05\n",
      "Epoch 39/1000\n",
      "187/187 [==============================] - 4s 21ms/step - loss: 0.0992 - categorical_accuracy: 0.9776 - val_loss: 0.0577 - val_categorical_accuracy: 0.9848 - lr: 4.0000e-05\n",
      "Epoch 40/1000\n",
      "187/187 [==============================] - 4s 21ms/step - loss: 0.0985 - categorical_accuracy: 0.9776 - val_loss: 0.0588 - val_categorical_accuracy: 0.9846 - lr: 4.0000e-05\n",
      "Epoch 41/1000\n",
      "187/187 [==============================] - 4s 22ms/step - loss: 0.0981 - categorical_accuracy: 0.9776 - val_loss: 0.0581 - val_categorical_accuracy: 0.9849 - lr: 4.0000e-05\n",
      "Epoch 42/1000\n",
      "187/187 [==============================] - 4s 19ms/step - loss: 0.0973 - categorical_accuracy: 0.9777 - val_loss: 0.0583 - val_categorical_accuracy: 0.9848 - lr: 4.0000e-05\n",
      "Epoch 43/1000\n",
      "187/187 [==============================] - 4s 20ms/step - loss: 0.0971 - categorical_accuracy: 0.9778 - val_loss: 0.0582 - val_categorical_accuracy: 0.9847 - lr: 8.0000e-06\n",
      "Epoch 44/1000\n",
      "187/187 [==============================] - 4s 21ms/step - loss: 0.0974 - categorical_accuracy: 0.9775 - val_loss: 0.0576 - val_categorical_accuracy: 0.9849 - lr: 8.0000e-06\n",
      "Epoch 45/1000\n",
      "187/187 [==============================] - 4s 19ms/step - loss: 0.0972 - categorical_accuracy: 0.9776 - val_loss: 0.0578 - val_categorical_accuracy: 0.9849 - lr: 8.0000e-06\n",
      "Epoch 46/1000\n",
      "187/187 [==============================] - 3s 18ms/step - loss: 0.0969 - categorical_accuracy: 0.9777 - val_loss: 0.0571 - val_categorical_accuracy: 0.9850 - lr: 1.6000e-06\n",
      "Epoch 47/1000\n",
      "187/187 [==============================] - 3s 18ms/step - loss: 0.0967 - categorical_accuracy: 0.9777 - val_loss: 0.0581 - val_categorical_accuracy: 0.9848 - lr: 1.6000e-06\n",
      "Epoch 48/1000\n",
      "187/187 [==============================] - 4s 21ms/step - loss: 0.0974 - categorical_accuracy: 0.9775 - val_loss: 0.0579 - val_categorical_accuracy: 0.9848 - lr: 1.6000e-06\n",
      "Epoch 49/1000\n",
      "187/187 [==============================] - 4s 21ms/step - loss: 0.0969 - categorical_accuracy: 0.9776 - val_loss: 0.0581 - val_categorical_accuracy: 0.9848 - lr: 1.6000e-06\n",
      "Epoch 50/1000\n",
      "187/187 [==============================] - 3s 19ms/step - loss: 0.0970 - categorical_accuracy: 0.9776 - val_loss: 0.0585 - val_categorical_accuracy: 0.9846 - lr: 3.2000e-07\n",
      "Epoch 51/1000\n",
      "187/187 [==============================] - 4s 19ms/step - loss: 0.0964 - categorical_accuracy: 0.9777 - val_loss: 0.0588 - val_categorical_accuracy: 0.9847 - lr: 3.2000e-07\n",
      "Epoch 52/1000\n",
      "187/187 [==============================] - 4s 21ms/step - loss: 0.0968 - categorical_accuracy: 0.9776 - val_loss: 0.0580 - val_categorical_accuracy: 0.9849 - lr: 3.2000e-07\n",
      "Epoch 53/1000\n",
      "187/187 [==============================] - 4s 21ms/step - loss: 0.0973 - categorical_accuracy: 0.9775 - val_loss: 0.0575 - val_categorical_accuracy: 0.9850 - lr: 6.4000e-08\n",
      "Epoch 54/1000\n",
      "187/187 [==============================] - 3s 18ms/step - loss: 0.0970 - categorical_accuracy: 0.9775 - val_loss: 0.0580 - val_categorical_accuracy: 0.9846 - lr: 6.4000e-08\n",
      "Epoch 55/1000\n",
      "187/187 [==============================] - 4s 19ms/step - loss: 0.0970 - categorical_accuracy: 0.9776 - val_loss: 0.0581 - val_categorical_accuracy: 0.9848 - lr: 6.4000e-08\n",
      "Epoch 56/1000\n",
      "187/187 [==============================] - 4s 20ms/step - loss: 0.0968 - categorical_accuracy: 0.9777 - val_loss: 0.0564 - val_categorical_accuracy: 0.9852 - lr: 1.2800e-08\n",
      "Epoch 57/1000\n",
      "187/187 [==============================] - 4s 21ms/step - loss: 0.0969 - categorical_accuracy: 0.9777 - val_loss: 0.0575 - val_categorical_accuracy: 0.9849 - lr: 1.2800e-08\n",
      "Epoch 58/1000\n",
      "187/187 [==============================] - 4s 19ms/step - loss: 0.0966 - categorical_accuracy: 0.9777 - val_loss: 0.0584 - val_categorical_accuracy: 0.9848 - lr: 1.2800e-08\n",
      "Epoch 59/1000\n",
      "187/187 [==============================] - 3s 19ms/step - loss: 0.0971 - categorical_accuracy: 0.9776 - val_loss: 0.0585 - val_categorical_accuracy: 0.9846 - lr: 1.2800e-08\n",
      "Epoch 60/1000\n",
      "187/187 [==============================] - 4s 19ms/step - loss: 0.0969 - categorical_accuracy: 0.9776 - val_loss: 0.0576 - val_categorical_accuracy: 0.9849 - lr: 2.5600e-09\n",
      "Epoch 61/1000\n",
      "187/187 [==============================] - 4s 21ms/step - loss: 0.0968 - categorical_accuracy: 0.9777 - val_loss: 0.0576 - val_categorical_accuracy: 0.9849 - lr: 2.5600e-09\n",
      "Epoch 62/1000\n",
      "187/187 [==============================] - 4s 20ms/step - loss: 0.0966 - categorical_accuracy: 0.9777 - val_loss: 0.0581 - val_categorical_accuracy: 0.9848 - lr: 2.5600e-09\n",
      "Epoch 63/1000\n",
      "187/187 [==============================] - 4s 20ms/step - loss: 0.0972 - categorical_accuracy: 0.9775 - val_loss: 0.0588 - val_categorical_accuracy: 0.9848 - lr: 5.1200e-10\n",
      "Epoch 64/1000\n",
      "187/187 [==============================] - 4s 22ms/step - loss: 0.0973 - categorical_accuracy: 0.9775 - val_loss: 0.0591 - val_categorical_accuracy: 0.9846 - lr: 5.1200e-10\n",
      "Epoch 65/1000\n",
      "187/187 [==============================] - 4s 21ms/step - loss: 0.0971 - categorical_accuracy: 0.9776 - val_loss: 0.0578 - val_categorical_accuracy: 0.9849 - lr: 5.1200e-10\n",
      "Epoch 66/1000\n",
      "187/187 [==============================] - 4s 21ms/step - loss: 0.0970 - categorical_accuracy: 0.9776 - val_loss: 0.0577 - val_categorical_accuracy: 0.9849 - lr: 1.0240e-10\n",
      "Epoch 67/1000\n",
      "187/187 [==============================] - 4s 19ms/step - loss: 0.0971 - categorical_accuracy: 0.9775 - val_loss: 0.0579 - val_categorical_accuracy: 0.9848 - lr: 1.0240e-10\n",
      "Epoch 68/1000\n",
      "187/187 [==============================] - 3s 19ms/step - loss: 0.0971 - categorical_accuracy: 0.9776 - val_loss: 0.0585 - val_categorical_accuracy: 0.9847 - lr: 1.0240e-10\n",
      "Epoch 69/1000\n",
      "187/187 [==============================] - 4s 21ms/step - loss: 0.0971 - categorical_accuracy: 0.9776 - val_loss: 0.0584 - val_categorical_accuracy: 0.9847 - lr: 2.0480e-11\n",
      "Epoch 70/1000\n",
      "187/187 [==============================] - 4s 23ms/step - loss: 0.0968 - categorical_accuracy: 0.9776 - val_loss: 0.0586 - val_categorical_accuracy: 0.9845 - lr: 2.0480e-11\n",
      "Epoch 71/1000\n",
      "187/187 [==============================] - 4s 20ms/step - loss: 0.0978 - categorical_accuracy: 0.9774 - val_loss: 0.0575 - val_categorical_accuracy: 0.9850 - lr: 2.0480e-11\n",
      "Epoch 72/1000\n",
      "187/187 [==============================] - 4s 20ms/step - loss: 0.0971 - categorical_accuracy: 0.9776 - val_loss: 0.0588 - val_categorical_accuracy: 0.9845 - lr: 4.0960e-12\n",
      "Epoch 73/1000\n",
      "187/187 [==============================] - 4s 20ms/step - loss: 0.0972 - categorical_accuracy: 0.9775 - val_loss: 0.0591 - val_categorical_accuracy: 0.9846 - lr: 4.0960e-12\n",
      "Epoch 74/1000\n",
      "187/187 [==============================] - 4s 21ms/step - loss: 0.0970 - categorical_accuracy: 0.9777 - val_loss: 0.0583 - val_categorical_accuracy: 0.9847 - lr: 4.0960e-12\n",
      "Epoch 75/1000\n",
      "187/187 [==============================] - 4s 21ms/step - loss: 0.0968 - categorical_accuracy: 0.9776 - val_loss: 0.0571 - val_categorical_accuracy: 0.9849 - lr: 8.1920e-13\n",
      "Epoch 76/1000\n",
      "187/187 [==============================] - ETA: 0s - loss: 0.0967 - categorical_accuracy: 0.9777Restoring model weights from the end of the best epoch: 56.\n",
      "187/187 [==============================] - 4s 19ms/step - loss: 0.0967 - categorical_accuracy: 0.9777 - val_loss: 0.0575 - val_categorical_accuracy: 0.9848 - lr: 8.1920e-13\n",
      "Epoch 76: early stopping\n"
     ]
    },
    {
     "output_type": "stream",
     "name": "stderr",
     "text": [
      "100%|██████████| 834/834 [00:00<00:00, 847.54it/s]\n",
      "100%|██████████| 834/834 [00:01<00:00, 472.45it/s]\n"
     ]
    },
    {
     "output_type": "stream",
     "name": "stdout",
     "text": [
      "The average imputation accuracy on test data with 0.05 missing genotypes is 0.9524: \n",
      "Sensitivity: 0.11215273221097215\n",
      "Specificity: 0.9299962191984656\n",
      "F1-score macro: 0.12809473030346444\n",
      "F1-score micro: 0.952409500970652\n"
     ]
    },
    {
     "output_type": "stream",
     "name": "stderr",
     "text": [
      "100%|██████████| 834/834 [00:01<00:00, 550.77it/s]\n",
      "100%|██████████| 834/834 [00:01<00:00, 711.86it/s]\n"
     ]
    },
    {
     "output_type": "stream",
     "name": "stdout",
     "text": [
      "The average imputation accuracy on test data with 0.1 missing genotypes is 0.9522: \n",
      "Sensitivity: 0.09912458424249014\n",
      "Specificity: 0.9332434746807761\n",
      "F1-score macro: 0.1127355339166026\n",
      "F1-score micro: 0.952152563663355\n"
     ]
    },
    {
     "output_type": "stream",
     "name": "stderr",
     "text": [
      "100%|██████████| 834/834 [00:00<00:00, 836.51it/s]\n",
      "100%|██████████| 834/834 [00:01<00:00, 455.47it/s]\n"
     ]
    },
    {
     "output_type": "stream",
     "name": "stdout",
     "text": [
      "The average imputation accuracy on test data with 0.2 missing genotypes is 0.9525: \n",
      "Sensitivity: 0.07809887741494279\n",
      "Specificity: 0.9444862215871018\n",
      "F1-score macro: 0.08819632877891119\n",
      "F1-score micro: 0.9525421083251742\n",
      "=====================================\n"
     ]
    }
   ]
  },
  {
   "cell_type": "code",
   "source": [
    "from google.colab import runtime\n",
    "runtime.unassign()"
   ],
   "metadata": {
    "id": "ifLke-oWc1Ok"
   },
   "execution_count": null,
   "outputs": []
  },
  {
   "cell_type": "code",
   "source": [],
   "metadata": {
    "id": "2dQXprwQT68p"
   },
   "execution_count": null,
   "outputs": []
  }
 ],
 "metadata": {
  "accelerator": "TPU",
  "colab": {
   "provenance": [
    {
     "file_id": "1lo9cmptjRRESsVlVECvlJFHbLeaygq2s",
     "timestamp": 1640128751823
    },
    {
     "file_id": "https://github.com/keras-team/keras-io/blob/master/examples/vision/ipynb/perceiver_image_classification.ipynb",
     "timestamp": 1621552889682
    }
   ],
   "toc_visible": true
  },
  "kernelspec": {
   "display_name": "Python 3",
   "language": "python",
   "name": "python3"
  },
  "language_info": {
   "codemirror_mode": {
    "name": "ipython",
    "version": 3
   },
   "file_extension": ".py",
   "mimetype": "text/x-python",
   "name": "python",
   "nbconvert_exporter": "python",
   "pygments_lexer": "ipython3",
   "version": "3.7.0"
  },
  "gpuClass": "standard"
 },
 "nbformat": 4,
 "nbformat_minor": 0
}
