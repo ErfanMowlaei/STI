{
 "cells": [
  {
   "cell_type": "code",
   "execution_count": 1,
   "metadata": {
    "colab": {
     "base_uri": "https://localhost:8080/"
    },
    "executionInfo": {
     "elapsed": 15755,
     "status": "ok",
     "timestamp": 1690834325212,
     "user": {
      "displayName": "Erfan Mowlaei",
      "userId": "07890245825539195560"
     },
     "user_tz": 240
    },
    "id": "doSuiA3dyTyg",
    "outputId": "49a3e2b3-c067-467c-d102-289ebeca32e8"
   },
   "outputs": [
    {
     "output_type": "stream",
     "name": "stdout",
     "text": [
      "Mounted at /content/drive\n"
     ]
    }
   ],
   "source": [
    "from google.colab import drive\n",
    "drive.mount('/content/drive')"
   ]
  },
  {
   "cell_type": "code",
   "execution_count": 2,
   "metadata": {
    "colab": {
     "base_uri": "https://localhost:8080/"
    },
    "executionInfo": {
     "elapsed": 40969,
     "status": "ok",
     "timestamp": 1690834366173,
     "user": {
      "displayName": "Erfan Mowlaei",
      "userId": "07890245825539195560"
     },
     "user_tz": 240
    },
    "id": "liJJGzQp4qzO",
    "outputId": "cbf1a685-e05f-400d-810b-dd9a2f39e2ef"
   },
   "outputs": [
    {
     "output_type": "stream",
     "name": "stdout",
     "text": [
      "Collecting tensorflow-addons\n",
      "  Downloading tensorflow_addons-0.21.0-cp310-cp310-manylinux_2_17_x86_64.manylinux2014_x86_64.whl (612 kB)\n",
      "\u001B[2K     \u001B[90m━━━━━━━━━━━━━━━━━━━━━━━━━━━━━━━━━━━━━━━\u001B[0m \u001B[32m612.1/612.1 kB\u001B[0m \u001B[31m6.0 MB/s\u001B[0m eta \u001B[36m0:00:00\u001B[0m\n",
      "\u001B[?25hRequirement already satisfied: packaging in /usr/local/lib/python3.10/dist-packages (from tensorflow-addons) (23.1)\n",
      "Collecting typeguard<3.0.0,>=2.7 (from tensorflow-addons)\n",
      "  Downloading typeguard-2.13.3-py3-none-any.whl (17 kB)\n",
      "Installing collected packages: typeguard, tensorflow-addons\n",
      "Successfully installed tensorflow-addons-0.21.0 typeguard-2.13.3\n",
      "Requirement already satisfied: pyyaml in /usr/local/lib/python3.10/dist-packages (6.0.1)\n",
      "Requirement already satisfied: h5py in /usr/local/lib/python3.10/dist-packages (3.8.0)\n",
      "Requirement already satisfied: numpy>=1.14.5 in /usr/local/lib/python3.10/dist-packages (from h5py) (1.25.2)\n",
      "Requirement already satisfied: toolz in /usr/local/lib/python3.10/dist-packages (0.12.0)\n",
      "Collecting scikit-allel\n",
      "  Downloading scikit_allel-1.3.6-cp310-cp310-manylinux_2_17_x86_64.manylinux2014_x86_64.whl (7.4 MB)\n",
      "\u001B[2K     \u001B[90m━━━━━━━━━━━━━━━━━━━━━━━━━━━━━━━━━━━━━━━━\u001B[0m \u001B[32m7.4/7.4 MB\u001B[0m \u001B[31m13.5 MB/s\u001B[0m eta \u001B[36m0:00:00\u001B[0m\n",
      "\u001B[?25hRequirement already satisfied: numpy in /usr/local/lib/python3.10/dist-packages (from scikit-allel) (1.25.2)\n",
      "Requirement already satisfied: dask[array] in /usr/local/lib/python3.10/dist-packages (from scikit-allel) (2022.12.1)\n",
      "Requirement already satisfied: click>=7.0 in /usr/local/lib/python3.10/dist-packages (from dask[array]->scikit-allel) (8.1.6)\n",
      "Requirement already satisfied: cloudpickle>=1.1.1 in /usr/local/lib/python3.10/dist-packages (from dask[array]->scikit-allel) (2.2.1)\n",
      "Requirement already satisfied: fsspec>=0.6.0 in /usr/local/lib/python3.10/dist-packages (from dask[array]->scikit-allel) (2023.6.0)\n",
      "Requirement already satisfied: packaging>=20.0 in /usr/local/lib/python3.10/dist-packages (from dask[array]->scikit-allel) (23.1)\n",
      "Requirement already satisfied: partd>=0.3.10 in /usr/local/lib/python3.10/dist-packages (from dask[array]->scikit-allel) (1.4.0)\n",
      "Requirement already satisfied: pyyaml>=5.3.1 in /usr/local/lib/python3.10/dist-packages (from dask[array]->scikit-allel) (6.0.1)\n",
      "Requirement already satisfied: locket in /usr/local/lib/python3.10/dist-packages (from partd>=0.3.10->dask[array]->scikit-allel) (1.0.0)\n",
      "Installing collected packages: scikit-allel\n",
      "Successfully installed scikit-allel-1.3.6\n"
     ]
    }
   ],
   "source": [
    "!pip install tensorflow-addons\n",
    "!pip install pyyaml h5py\n",
    "!pip install toolz scikit-allel"
   ]
  },
  {
   "cell_type": "code",
   "execution_count": 3,
   "metadata": {
    "colab": {
     "base_uri": "https://localhost:8080/"
    },
    "executionInfo": {
     "elapsed": 8476,
     "status": "ok",
     "timestamp": 1690834374646,
     "user": {
      "displayName": "Erfan Mowlaei",
      "userId": "07890245825539195560"
     },
     "user_tz": 240
    },
    "id": "ZWzi3Z3L5RO2",
    "outputId": "52958b79-5ab0-45e8-ef56-ea0f8f23e362"
   },
   "outputs": [
    {
     "output_type": "stream",
     "name": "stdout",
     "text": [
      "Colab only includes TensorFlow 2.x; %tensorflow_version has no effect.\n",
      "Tensorflow version 2.12.0\n"
     ]
    }
   ],
   "source": [
    "import numpy as np\n",
    "%tensorflow_version 2.x\n",
    "import tensorflow as tf\n",
    "print(\"Tensorflow version \" + tf.__version__)"
   ]
  },
  {
   "cell_type": "markdown",
   "metadata": {
    "id": "RjGOO5PdFPf7"
   },
   "source": [
    "## Setup"
   ]
  },
  {
   "cell_type": "code",
   "execution_count": 4,
   "metadata": {
    "colab": {
     "base_uri": "https://localhost:8080/"
    },
    "executionInfo": {
     "elapsed": 3678,
     "status": "ok",
     "timestamp": 1690834378318,
     "user": {
      "displayName": "Erfan Mowlaei",
      "userId": "07890245825539195560"
     },
     "user_tz": 240
    },
    "id": "odmhCqSVFPf8",
    "outputId": "454990dc-650e-4a46-fbb1-ce8447aafd8c"
   },
   "outputs": [
    {
     "output_type": "stream",
     "name": "stderr",
     "text": [
      "/usr/local/lib/python3.10/dist-packages/tensorflow_addons/utils/tfa_eol_msg.py:23: UserWarning: \n",
      "\n",
      "TensorFlow Addons (TFA) has ended development and introduction of new features.\n",
      "TFA has entered a minimal maintenance and release mode until a planned end of life in May 2024.\n",
      "Please modify downstream libraries to take dependencies from other repositories in our TensorFlow community (e.g. Keras, Keras-CV, and Keras-NLP). \n",
      "\n",
      "For more information see: https://github.com/tensorflow/addons/issues/2807 \n",
      "\n",
      "  warnings.warn(\n"
     ]
    },
    {
     "output_type": "stream",
     "name": "stdout",
     "text": [
      "Tensorflow version 2.12.0\n"
     ]
    }
   ],
   "source": [
    "import os\n",
    "# os.environ[\"MODIN_CPUS\"] = \"8\"\n",
    "# from distributed import Client\n",
    "# client = Client()\n",
    "import numpy as np\n",
    "import math\n",
    "import re\n",
    "import itertools\n",
    "import random\n",
    "import pandas as pd\n",
    "from sklearn.model_selection import train_test_split\n",
    "from sklearn.utils import resample\n",
    "import tensorflow as tf\n",
    "from tensorflow import keras\n",
    "import tensorflow.keras.backend as K\n",
    "from tensorflow.keras import layers\n",
    "from tensorflow.keras import regularizers\n",
    "from tensorflow.keras.preprocessing.sequence import pad_sequences\n",
    "import tensorflow_addons as tfa\n",
    "from sklearn import metrics\n",
    "from sklearn.model_selection import KFold\n",
    "from tensorflow.keras.utils import to_categorical\n",
    "from tensorflow.keras import constraints\n",
    "from tensorflow.keras import initializers\n",
    "from tensorflow.keras import regularizers\n",
    "from tensorflow.keras.applications import efficientnet as efn\n",
    "from sklearn.metrics import confusion_matrix\n",
    "from sklearn.metrics import f1_score\n",
    "from tensorflow.keras.constraints import Constraint\n",
    "# import allel\n",
    "from scipy.spatial.distance import squareform\n",
    "%matplotlib inline\n",
    "from toolz import interleave\n",
    "from tqdm import tqdm\n",
    "import allel\n",
    "from scipy.spatial.distance import squareform\n",
    "from matplotlib import pyplot as plt\n",
    "import tensorflow_datasets as tfds\n",
    "from sklearn.metrics import mean_squared_error\n",
    "from sklearn.linear_model import LassoCV, ElasticNetCV\n",
    "from sklearn.model_selection import KFold,StratifiedKFold\n",
    "\n",
    "print(\"Tensorflow version \" + tf.__version__)"
   ]
  },
  {
   "cell_type": "markdown",
   "metadata": {
    "id": "SLd26RspFhaS"
   },
   "source": [
    "## Hardware Config"
   ]
  },
  {
   "cell_type": "code",
   "execution_count": 5,
   "metadata": {
    "colab": {
     "base_uri": "https://localhost:8080/"
    },
    "executionInfo": {
     "elapsed": 11935,
     "status": "ok",
     "timestamp": 1690834390250,
     "user": {
      "displayName": "Erfan Mowlaei",
      "userId": "07890245825539195560"
     },
     "user_tz": 240
    },
    "id": "SLd7mAFgFUnR",
    "outputId": "dd357b7d-e6fc-4573-a02a-e9d34140c771"
   },
   "outputs": [
    {
     "output_type": "stream",
     "name": "stdout",
     "text": [
      "Running on TPU  grpc://10.44.229.66:8470\n"
     ]
    },
    {
     "output_type": "stream",
     "name": "stderr",
     "text": [
      "WARNING:absl:`tf.distribute.experimental.TPUStrategy` is deprecated, please use  the non experimental symbol `tf.distribute.TPUStrategy` instead.\n"
     ]
    },
    {
     "output_type": "stream",
     "name": "stdout",
     "text": [
      "N_REPLICAS: 8\n"
     ]
    }
   ],
   "source": [
    "# Detect hardware, return appropriate distribution strategy\n",
    "try:\n",
    "    TPU = tf.distribute.cluster_resolver.TPUClusterResolver()  # TPU detection. No parameters necessary if TPU_NAME environment variable is set. On Kaggle this is always the case.\n",
    "    print('Running on TPU ', TPU.master())\n",
    "except ValueError:\n",
    "    print('Running on GPU')\n",
    "    TPU = None\n",
    "\n",
    "if TPU:\n",
    "    tf.config.experimental_connect_to_cluster(TPU)\n",
    "    tf.tpu.experimental.initialize_tpu_system(TPU)\n",
    "    strategy = tf.distribute.experimental.TPUStrategy(TPU)\n",
    "else:\n",
    "    strategy = tf.distribute.get_strategy() # default distribution strategy in Tensorflow. Works on CPU and single GPU.\n",
    "\n",
    "N_REPLICAS = strategy.num_replicas_in_sync\n",
    "# Number of computing cores, is 8 for a TPU V3-8\n",
    "print(f'N_REPLICAS: {N_REPLICAS}')"
   ]
  },
  {
   "cell_type": "markdown",
   "metadata": {
    "id": "A77GFE3xFPf8"
   },
   "source": [
    "## Prepare the data"
   ]
  },
  {
   "cell_type": "code",
   "execution_count": 6,
   "metadata": {
    "id": "j3zy8i_8FPf_",
    "colab": {
     "base_uri": "https://localhost:8080/",
     "height": 424
    },
    "executionInfo": {
     "status": "ok",
     "timestamp": 1690834394213,
     "user_tz": 240,
     "elapsed": 3991,
     "user": {
      "displayName": "Erfan Mowlaei",
      "userId": "07890245825539195560"
     }
    },
    "outputId": "25412e35-e32e-4e63-c3b6-75e07557b0d3"
   },
   "outputs": [
    {
     "output_type": "execute_result",
     "data": {
      "text/plain": [
       "         0    1    2    3    4    5    6    7    8    9    ...  563  564  565  \\\n",
       "HG00096  0|0  0|0  0|0  0|0  0|0  0|0  1|1  0|0  0|0  0|0  ...  0|0  0|1  0|0   \n",
       "HG00097  0|0  0|0  0|0  0|0  0|0  0|0  1|0  0|0  0|0  0|0  ...  0|0  0|1  0|0   \n",
       "HG00099  0|0  0|0  0|0  0|0  0|0  0|0  1|0  0|0  0|0  0|0  ...  0|0  0|0  0|0   \n",
       "HG00100  0|0  0|0  0|0  0|0  0|0  0|0  1|0  0|0  0|0  0|0  ...  0|0  0|0  0|0   \n",
       "HG00101  0|0  0|0  0|0  0|0  0|0  0|0  1|0  0|0  0|0  0|0  ...  0|0  0|0  0|0   \n",
       "...      ...  ...  ...  ...  ...  ...  ...  ...  ...  ...  ...  ...  ...  ...   \n",
       "NA21137  0|0  0|0  0|0  0|0  0|0  0|0  0|0  0|0  0|0  0|0  ...  0|0  0|0  0|0   \n",
       "NA21141  0|0  0|0  0|0  0|0  0|0  0|0  1|0  0|0  0|0  0|0  ...  0|0  1|0  0|0   \n",
       "NA21142  0|0  0|0  0|0  0|0  0|0  0|0  0|1  0|0  0|0  0|0  ...  0|0  1|0  0|0   \n",
       "NA21143  0|0  0|0  0|0  0|0  0|0  0|0  1|0  0|0  0|0  0|0  ...  0|0  0|1  0|0   \n",
       "NA21144  0|0  0|0  0|0  0|0  0|0  0|0  0|0  0|0  0|0  0|0  ...  0|0  0|0  0|0   \n",
       "\n",
       "         566  567  568  569  570  571  572  \n",
       "HG00096  0|0  0|0  0|0  0|0  0|0  0|0  0|0  \n",
       "HG00097  0|0  0|0  0|0  0|0  0|0  0|0  0|0  \n",
       "HG00099  0|0  0|0  0|0  0|0  0|0  0|0  0|0  \n",
       "HG00100  0|0  0|0  0|0  0|0  0|0  0|0  0|0  \n",
       "HG00101  0|0  0|0  0|0  0|0  0|0  0|0  0|0  \n",
       "...      ...  ...  ...  ...  ...  ...  ...  \n",
       "NA21137  0|0  0|0  0|0  0|0  0|0  0|0  0|0  \n",
       "NA21141  0|0  0|0  0|0  0|0  0|0  0|0  0|0  \n",
       "NA21142  0|0  0|0  0|0  0|0  0|0  0|0  0|0  \n",
       "NA21143  0|0  0|0  0|0  0|0  0|0  0|0  0|0  \n",
       "NA21144  0|0  0|0  0|0  0|0  0|0  0|0  0|0  \n",
       "\n",
       "[2504 rows x 573 columns]"
      ],
      "text/html": [
       "\n",
       "\n",
       "  <div id=\"df-caa5342b-0be4-46e6-9180-bf6ea6d16c61\">\n",
       "    <div class=\"colab-df-container\">\n",
       "      <div>\n",
       "<style scoped>\n",
       "    .dataframe tbody tr th:only-of-type {\n",
       "        vertical-align: middle;\n",
       "    }\n",
       "\n",
       "    .dataframe tbody tr th {\n",
       "        vertical-align: top;\n",
       "    }\n",
       "\n",
       "    .dataframe thead th {\n",
       "        text-align: right;\n",
       "    }\n",
       "</style>\n",
       "<table border=\"1\" class=\"dataframe\">\n",
       "  <thead>\n",
       "    <tr style=\"text-align: right;\">\n",
       "      <th></th>\n",
       "      <th>0</th>\n",
       "      <th>1</th>\n",
       "      <th>2</th>\n",
       "      <th>3</th>\n",
       "      <th>4</th>\n",
       "      <th>5</th>\n",
       "      <th>6</th>\n",
       "      <th>7</th>\n",
       "      <th>8</th>\n",
       "      <th>9</th>\n",
       "      <th>...</th>\n",
       "      <th>563</th>\n",
       "      <th>564</th>\n",
       "      <th>565</th>\n",
       "      <th>566</th>\n",
       "      <th>567</th>\n",
       "      <th>568</th>\n",
       "      <th>569</th>\n",
       "      <th>570</th>\n",
       "      <th>571</th>\n",
       "      <th>572</th>\n",
       "    </tr>\n",
       "  </thead>\n",
       "  <tbody>\n",
       "    <tr>\n",
       "      <th>HG00096</th>\n",
       "      <td>0|0</td>\n",
       "      <td>0|0</td>\n",
       "      <td>0|0</td>\n",
       "      <td>0|0</td>\n",
       "      <td>0|0</td>\n",
       "      <td>0|0</td>\n",
       "      <td>1|1</td>\n",
       "      <td>0|0</td>\n",
       "      <td>0|0</td>\n",
       "      <td>0|0</td>\n",
       "      <td>...</td>\n",
       "      <td>0|0</td>\n",
       "      <td>0|1</td>\n",
       "      <td>0|0</td>\n",
       "      <td>0|0</td>\n",
       "      <td>0|0</td>\n",
       "      <td>0|0</td>\n",
       "      <td>0|0</td>\n",
       "      <td>0|0</td>\n",
       "      <td>0|0</td>\n",
       "      <td>0|0</td>\n",
       "    </tr>\n",
       "    <tr>\n",
       "      <th>HG00097</th>\n",
       "      <td>0|0</td>\n",
       "      <td>0|0</td>\n",
       "      <td>0|0</td>\n",
       "      <td>0|0</td>\n",
       "      <td>0|0</td>\n",
       "      <td>0|0</td>\n",
       "      <td>1|0</td>\n",
       "      <td>0|0</td>\n",
       "      <td>0|0</td>\n",
       "      <td>0|0</td>\n",
       "      <td>...</td>\n",
       "      <td>0|0</td>\n",
       "      <td>0|1</td>\n",
       "      <td>0|0</td>\n",
       "      <td>0|0</td>\n",
       "      <td>0|0</td>\n",
       "      <td>0|0</td>\n",
       "      <td>0|0</td>\n",
       "      <td>0|0</td>\n",
       "      <td>0|0</td>\n",
       "      <td>0|0</td>\n",
       "    </tr>\n",
       "    <tr>\n",
       "      <th>HG00099</th>\n",
       "      <td>0|0</td>\n",
       "      <td>0|0</td>\n",
       "      <td>0|0</td>\n",
       "      <td>0|0</td>\n",
       "      <td>0|0</td>\n",
       "      <td>0|0</td>\n",
       "      <td>1|0</td>\n",
       "      <td>0|0</td>\n",
       "      <td>0|0</td>\n",
       "      <td>0|0</td>\n",
       "      <td>...</td>\n",
       "      <td>0|0</td>\n",
       "      <td>0|0</td>\n",
       "      <td>0|0</td>\n",
       "      <td>0|0</td>\n",
       "      <td>0|0</td>\n",
       "      <td>0|0</td>\n",
       "      <td>0|0</td>\n",
       "      <td>0|0</td>\n",
       "      <td>0|0</td>\n",
       "      <td>0|0</td>\n",
       "    </tr>\n",
       "    <tr>\n",
       "      <th>HG00100</th>\n",
       "      <td>0|0</td>\n",
       "      <td>0|0</td>\n",
       "      <td>0|0</td>\n",
       "      <td>0|0</td>\n",
       "      <td>0|0</td>\n",
       "      <td>0|0</td>\n",
       "      <td>1|0</td>\n",
       "      <td>0|0</td>\n",
       "      <td>0|0</td>\n",
       "      <td>0|0</td>\n",
       "      <td>...</td>\n",
       "      <td>0|0</td>\n",
       "      <td>0|0</td>\n",
       "      <td>0|0</td>\n",
       "      <td>0|0</td>\n",
       "      <td>0|0</td>\n",
       "      <td>0|0</td>\n",
       "      <td>0|0</td>\n",
       "      <td>0|0</td>\n",
       "      <td>0|0</td>\n",
       "      <td>0|0</td>\n",
       "    </tr>\n",
       "    <tr>\n",
       "      <th>HG00101</th>\n",
       "      <td>0|0</td>\n",
       "      <td>0|0</td>\n",
       "      <td>0|0</td>\n",
       "      <td>0|0</td>\n",
       "      <td>0|0</td>\n",
       "      <td>0|0</td>\n",
       "      <td>1|0</td>\n",
       "      <td>0|0</td>\n",
       "      <td>0|0</td>\n",
       "      <td>0|0</td>\n",
       "      <td>...</td>\n",
       "      <td>0|0</td>\n",
       "      <td>0|0</td>\n",
       "      <td>0|0</td>\n",
       "      <td>0|0</td>\n",
       "      <td>0|0</td>\n",
       "      <td>0|0</td>\n",
       "      <td>0|0</td>\n",
       "      <td>0|0</td>\n",
       "      <td>0|0</td>\n",
       "      <td>0|0</td>\n",
       "    </tr>\n",
       "    <tr>\n",
       "      <th>...</th>\n",
       "      <td>...</td>\n",
       "      <td>...</td>\n",
       "      <td>...</td>\n",
       "      <td>...</td>\n",
       "      <td>...</td>\n",
       "      <td>...</td>\n",
       "      <td>...</td>\n",
       "      <td>...</td>\n",
       "      <td>...</td>\n",
       "      <td>...</td>\n",
       "      <td>...</td>\n",
       "      <td>...</td>\n",
       "      <td>...</td>\n",
       "      <td>...</td>\n",
       "      <td>...</td>\n",
       "      <td>...</td>\n",
       "      <td>...</td>\n",
       "      <td>...</td>\n",
       "      <td>...</td>\n",
       "      <td>...</td>\n",
       "      <td>...</td>\n",
       "    </tr>\n",
       "    <tr>\n",
       "      <th>NA21137</th>\n",
       "      <td>0|0</td>\n",
       "      <td>0|0</td>\n",
       "      <td>0|0</td>\n",
       "      <td>0|0</td>\n",
       "      <td>0|0</td>\n",
       "      <td>0|0</td>\n",
       "      <td>0|0</td>\n",
       "      <td>0|0</td>\n",
       "      <td>0|0</td>\n",
       "      <td>0|0</td>\n",
       "      <td>...</td>\n",
       "      <td>0|0</td>\n",
       "      <td>0|0</td>\n",
       "      <td>0|0</td>\n",
       "      <td>0|0</td>\n",
       "      <td>0|0</td>\n",
       "      <td>0|0</td>\n",
       "      <td>0|0</td>\n",
       "      <td>0|0</td>\n",
       "      <td>0|0</td>\n",
       "      <td>0|0</td>\n",
       "    </tr>\n",
       "    <tr>\n",
       "      <th>NA21141</th>\n",
       "      <td>0|0</td>\n",
       "      <td>0|0</td>\n",
       "      <td>0|0</td>\n",
       "      <td>0|0</td>\n",
       "      <td>0|0</td>\n",
       "      <td>0|0</td>\n",
       "      <td>1|0</td>\n",
       "      <td>0|0</td>\n",
       "      <td>0|0</td>\n",
       "      <td>0|0</td>\n",
       "      <td>...</td>\n",
       "      <td>0|0</td>\n",
       "      <td>1|0</td>\n",
       "      <td>0|0</td>\n",
       "      <td>0|0</td>\n",
       "      <td>0|0</td>\n",
       "      <td>0|0</td>\n",
       "      <td>0|0</td>\n",
       "      <td>0|0</td>\n",
       "      <td>0|0</td>\n",
       "      <td>0|0</td>\n",
       "    </tr>\n",
       "    <tr>\n",
       "      <th>NA21142</th>\n",
       "      <td>0|0</td>\n",
       "      <td>0|0</td>\n",
       "      <td>0|0</td>\n",
       "      <td>0|0</td>\n",
       "      <td>0|0</td>\n",
       "      <td>0|0</td>\n",
       "      <td>0|1</td>\n",
       "      <td>0|0</td>\n",
       "      <td>0|0</td>\n",
       "      <td>0|0</td>\n",
       "      <td>...</td>\n",
       "      <td>0|0</td>\n",
       "      <td>1|0</td>\n",
       "      <td>0|0</td>\n",
       "      <td>0|0</td>\n",
       "      <td>0|0</td>\n",
       "      <td>0|0</td>\n",
       "      <td>0|0</td>\n",
       "      <td>0|0</td>\n",
       "      <td>0|0</td>\n",
       "      <td>0|0</td>\n",
       "    </tr>\n",
       "    <tr>\n",
       "      <th>NA21143</th>\n",
       "      <td>0|0</td>\n",
       "      <td>0|0</td>\n",
       "      <td>0|0</td>\n",
       "      <td>0|0</td>\n",
       "      <td>0|0</td>\n",
       "      <td>0|0</td>\n",
       "      <td>1|0</td>\n",
       "      <td>0|0</td>\n",
       "      <td>0|0</td>\n",
       "      <td>0|0</td>\n",
       "      <td>...</td>\n",
       "      <td>0|0</td>\n",
       "      <td>0|1</td>\n",
       "      <td>0|0</td>\n",
       "      <td>0|0</td>\n",
       "      <td>0|0</td>\n",
       "      <td>0|0</td>\n",
       "      <td>0|0</td>\n",
       "      <td>0|0</td>\n",
       "      <td>0|0</td>\n",
       "      <td>0|0</td>\n",
       "    </tr>\n",
       "    <tr>\n",
       "      <th>NA21144</th>\n",
       "      <td>0|0</td>\n",
       "      <td>0|0</td>\n",
       "      <td>0|0</td>\n",
       "      <td>0|0</td>\n",
       "      <td>0|0</td>\n",
       "      <td>0|0</td>\n",
       "      <td>0|0</td>\n",
       "      <td>0|0</td>\n",
       "      <td>0|0</td>\n",
       "      <td>0|0</td>\n",
       "      <td>...</td>\n",
       "      <td>0|0</td>\n",
       "      <td>0|0</td>\n",
       "      <td>0|0</td>\n",
       "      <td>0|0</td>\n",
       "      <td>0|0</td>\n",
       "      <td>0|0</td>\n",
       "      <td>0|0</td>\n",
       "      <td>0|0</td>\n",
       "      <td>0|0</td>\n",
       "      <td>0|0</td>\n",
       "    </tr>\n",
       "  </tbody>\n",
       "</table>\n",
       "<p>2504 rows × 573 columns</p>\n",
       "</div>\n",
       "      <button class=\"colab-df-convert\" onclick=\"convertToInteractive('df-caa5342b-0be4-46e6-9180-bf6ea6d16c61')\"\n",
       "              title=\"Convert this dataframe to an interactive table.\"\n",
       "              style=\"display:none;\">\n",
       "\n",
       "  <svg xmlns=\"http://www.w3.org/2000/svg\" height=\"24px\"viewBox=\"0 0 24 24\"\n",
       "       width=\"24px\">\n",
       "    <path d=\"M0 0h24v24H0V0z\" fill=\"none\"/>\n",
       "    <path d=\"M18.56 5.44l.94 2.06.94-2.06 2.06-.94-2.06-.94-.94-2.06-.94 2.06-2.06.94zm-11 1L8.5 8.5l.94-2.06 2.06-.94-2.06-.94L8.5 2.5l-.94 2.06-2.06.94zm10 10l.94 2.06.94-2.06 2.06-.94-2.06-.94-.94-2.06-.94 2.06-2.06.94z\"/><path d=\"M17.41 7.96l-1.37-1.37c-.4-.4-.92-.59-1.43-.59-.52 0-1.04.2-1.43.59L10.3 9.45l-7.72 7.72c-.78.78-.78 2.05 0 2.83L4 21.41c.39.39.9.59 1.41.59.51 0 1.02-.2 1.41-.59l7.78-7.78 2.81-2.81c.8-.78.8-2.07 0-2.86zM5.41 20L4 18.59l7.72-7.72 1.47 1.35L5.41 20z\"/>\n",
       "  </svg>\n",
       "      </button>\n",
       "\n",
       "\n",
       "\n",
       "    <div id=\"df-6fdb357b-3012-4b3a-82dd-4c688f53b7e7\">\n",
       "      <button class=\"colab-df-quickchart\" onclick=\"quickchart('df-6fdb357b-3012-4b3a-82dd-4c688f53b7e7')\"\n",
       "              title=\"Suggest charts.\"\n",
       "              style=\"display:none;\">\n",
       "\n",
       "<svg xmlns=\"http://www.w3.org/2000/svg\" height=\"24px\"viewBox=\"0 0 24 24\"\n",
       "     width=\"24px\">\n",
       "    <g>\n",
       "        <path d=\"M19 3H5c-1.1 0-2 .9-2 2v14c0 1.1.9 2 2 2h14c1.1 0 2-.9 2-2V5c0-1.1-.9-2-2-2zM9 17H7v-7h2v7zm4 0h-2V7h2v10zm4 0h-2v-4h2v4z\"/>\n",
       "    </g>\n",
       "</svg>\n",
       "      </button>\n",
       "    </div>\n",
       "\n",
       "<style>\n",
       "  .colab-df-quickchart {\n",
       "    background-color: #E8F0FE;\n",
       "    border: none;\n",
       "    border-radius: 50%;\n",
       "    cursor: pointer;\n",
       "    display: none;\n",
       "    fill: #1967D2;\n",
       "    height: 32px;\n",
       "    padding: 0 0 0 0;\n",
       "    width: 32px;\n",
       "  }\n",
       "\n",
       "  .colab-df-quickchart:hover {\n",
       "    background-color: #E2EBFA;\n",
       "    box-shadow: 0px 1px 2px rgba(60, 64, 67, 0.3), 0px 1px 3px 1px rgba(60, 64, 67, 0.15);\n",
       "    fill: #174EA6;\n",
       "  }\n",
       "\n",
       "  [theme=dark] .colab-df-quickchart {\n",
       "    background-color: #3B4455;\n",
       "    fill: #D2E3FC;\n",
       "  }\n",
       "\n",
       "  [theme=dark] .colab-df-quickchart:hover {\n",
       "    background-color: #434B5C;\n",
       "    box-shadow: 0px 1px 3px 1px rgba(0, 0, 0, 0.15);\n",
       "    filter: drop-shadow(0px 1px 2px rgba(0, 0, 0, 0.3));\n",
       "    fill: #FFFFFF;\n",
       "  }\n",
       "</style>\n",
       "\n",
       "    <script>\n",
       "      async function quickchart(key) {\n",
       "        const containerElement = document.querySelector('#' + key);\n",
       "        const charts = await google.colab.kernel.invokeFunction(\n",
       "            'suggestCharts', [key], {});\n",
       "      }\n",
       "    </script>\n",
       "\n",
       "      <script>\n",
       "\n",
       "function displayQuickchartButton(domScope) {\n",
       "  let quickchartButtonEl =\n",
       "    domScope.querySelector('#df-6fdb357b-3012-4b3a-82dd-4c688f53b7e7 button.colab-df-quickchart');\n",
       "  quickchartButtonEl.style.display =\n",
       "    google.colab.kernel.accessAllowed ? 'block' : 'none';\n",
       "}\n",
       "\n",
       "        displayQuickchartButton(document);\n",
       "      </script>\n",
       "      <style>\n",
       "    .colab-df-container {\n",
       "      display:flex;\n",
       "      flex-wrap:wrap;\n",
       "      gap: 12px;\n",
       "    }\n",
       "\n",
       "    .colab-df-convert {\n",
       "      background-color: #E8F0FE;\n",
       "      border: none;\n",
       "      border-radius: 50%;\n",
       "      cursor: pointer;\n",
       "      display: none;\n",
       "      fill: #1967D2;\n",
       "      height: 32px;\n",
       "      padding: 0 0 0 0;\n",
       "      width: 32px;\n",
       "    }\n",
       "\n",
       "    .colab-df-convert:hover {\n",
       "      background-color: #E2EBFA;\n",
       "      box-shadow: 0px 1px 2px rgba(60, 64, 67, 0.3), 0px 1px 3px 1px rgba(60, 64, 67, 0.15);\n",
       "      fill: #174EA6;\n",
       "    }\n",
       "\n",
       "    [theme=dark] .colab-df-convert {\n",
       "      background-color: #3B4455;\n",
       "      fill: #D2E3FC;\n",
       "    }\n",
       "\n",
       "    [theme=dark] .colab-df-convert:hover {\n",
       "      background-color: #434B5C;\n",
       "      box-shadow: 0px 1px 3px 1px rgba(0, 0, 0, 0.15);\n",
       "      filter: drop-shadow(0px 1px 2px rgba(0, 0, 0, 0.3));\n",
       "      fill: #FFFFFF;\n",
       "    }\n",
       "  </style>\n",
       "\n",
       "      <script>\n",
       "        const buttonEl =\n",
       "          document.querySelector('#df-caa5342b-0be4-46e6-9180-bf6ea6d16c61 button.colab-df-convert');\n",
       "        buttonEl.style.display =\n",
       "          google.colab.kernel.accessAllowed ? 'block' : 'none';\n",
       "\n",
       "        async function convertToInteractive(key) {\n",
       "          const element = document.querySelector('#df-caa5342b-0be4-46e6-9180-bf6ea6d16c61');\n",
       "          const dataTable =\n",
       "            await google.colab.kernel.invokeFunction('convertToInteractive',\n",
       "                                                     [key], {});\n",
       "          if (!dataTable) return;\n",
       "\n",
       "          const docLinkHtml = 'Like what you see? Visit the ' +\n",
       "            '<a target=\"_blank\" href=https://colab.research.google.com/notebooks/data_table.ipynb>data table notebook</a>'\n",
       "            + ' to learn more about interactive tables.';\n",
       "          element.innerHTML = '';\n",
       "          dataTable['output_type'] = 'display_data';\n",
       "          await google.colab.output.renderOutput(dataTable, element);\n",
       "          const docLink = document.createElement('div');\n",
       "          docLink.innerHTML = docLinkHtml;\n",
       "          element.appendChild(docLink);\n",
       "        }\n",
       "      </script>\n",
       "    </div>\n",
       "  </div>\n"
      ]
     },
     "metadata": {},
     "execution_count": 6
    }
   ],
   "source": [
    "root_dir = '[data_dir]/'\n",
    "new_data_header = \"\"\n",
    "# get header\n",
    "with open(root_dir + \"DELL.chr22.genotypes.full.vcf\", 'r') as f_in:\n",
    "    # skip info\n",
    "    for line_num in range(70):\n",
    "        f_in.readline()\n",
    "\n",
    "    new_data_header = f_in.readline()\n",
    "# load data\n",
    "\n",
    "# load genotype\n",
    "genotypes = pd.read_csv(root_dir + \"DELL.chr22.genotypes.full.vcf\", comment='#', sep='\\t', names=new_data_header.strip().split('\\t'), header=None)\n",
    "info = genotypes.iloc[:, :9]\n",
    "genotypes = genotypes.iloc[:, 9:].T\n",
    "headers = genotypes.columns[:]\n",
    "genotypes"
   ]
  },
  {
   "cell_type": "code",
   "execution_count": 7,
   "metadata": {
    "id": "-gFMrUnhV80n",
    "executionInfo": {
     "status": "ok",
     "timestamp": 1690834394463,
     "user_tz": 240,
     "elapsed": 252,
     "user": {
      "displayName": "Erfan Mowlaei",
      "userId": "07890245825539195560"
     }
    }
   },
   "outputs": [],
   "source": [
    "ped_file = '[data_dir]/integrated_call_samples.20130502.ALL.ped'\n",
    "pedigree = pd.read_csv(ped_file, sep='\\t', index_col='Individual ID')"
   ]
  },
  {
   "cell_type": "code",
   "execution_count": 8,
   "metadata": {
    "colab": {
     "base_uri": "https://localhost:8080/",
     "height": 238
    },
    "executionInfo": {
     "elapsed": 139,
     "status": "ok",
     "timestamp": 1690834394597,
     "user": {
      "displayName": "Erfan Mowlaei",
      "userId": "07890245825539195560"
     },
     "user_tz": 240
    },
    "id": "Zgb8Fn-EV_PU",
    "outputId": "db1f4bee-7e96-4d63-c71c-28176258bd68"
   },
   "outputs": [
    {
     "output_type": "execute_result",
     "data": {
      "text/plain": [
       "              Family ID Paternal ID Maternal ID  Gender  Phenotype Population  \\\n",
       "Individual ID                                                                   \n",
       "HG00096         HG00096           0           0       1          0        GBR   \n",
       "HG00097         HG00097           0           0       2          0        GBR   \n",
       "HG00098         HG00098           0           0       1          0        GBR   \n",
       "HG00099         HG00099           0           0       2          0        GBR   \n",
       "HG00100         HG00100           0           0       2          0        GBR   \n",
       "\n",
       "              Relationship Siblings Second Order Third Order Children  \\\n",
       "Individual ID                                                           \n",
       "HG00096              unrel        0            0           0        0   \n",
       "HG00097              unrel        0            0           0        0   \n",
       "HG00098              unrel        0            0           0        0   \n",
       "HG00099              unrel        0            0           0        0   \n",
       "HG00100              unrel        0            0           0        0   \n",
       "\n",
       "              Other Comments  \n",
       "Individual ID                 \n",
       "HG00096                    0  \n",
       "HG00097                    0  \n",
       "HG00098                    0  \n",
       "HG00099                    0  \n",
       "HG00100                    0  "
      ],
      "text/html": [
       "\n",
       "\n",
       "  <div id=\"df-8a7db5de-1fc9-4891-9924-98834393fb78\">\n",
       "    <div class=\"colab-df-container\">\n",
       "      <div>\n",
       "<style scoped>\n",
       "    .dataframe tbody tr th:only-of-type {\n",
       "        vertical-align: middle;\n",
       "    }\n",
       "\n",
       "    .dataframe tbody tr th {\n",
       "        vertical-align: top;\n",
       "    }\n",
       "\n",
       "    .dataframe thead th {\n",
       "        text-align: right;\n",
       "    }\n",
       "</style>\n",
       "<table border=\"1\" class=\"dataframe\">\n",
       "  <thead>\n",
       "    <tr style=\"text-align: right;\">\n",
       "      <th></th>\n",
       "      <th>Family ID</th>\n",
       "      <th>Paternal ID</th>\n",
       "      <th>Maternal ID</th>\n",
       "      <th>Gender</th>\n",
       "      <th>Phenotype</th>\n",
       "      <th>Population</th>\n",
       "      <th>Relationship</th>\n",
       "      <th>Siblings</th>\n",
       "      <th>Second Order</th>\n",
       "      <th>Third Order</th>\n",
       "      <th>Children</th>\n",
       "      <th>Other Comments</th>\n",
       "    </tr>\n",
       "    <tr>\n",
       "      <th>Individual ID</th>\n",
       "      <th></th>\n",
       "      <th></th>\n",
       "      <th></th>\n",
       "      <th></th>\n",
       "      <th></th>\n",
       "      <th></th>\n",
       "      <th></th>\n",
       "      <th></th>\n",
       "      <th></th>\n",
       "      <th></th>\n",
       "      <th></th>\n",
       "      <th></th>\n",
       "    </tr>\n",
       "  </thead>\n",
       "  <tbody>\n",
       "    <tr>\n",
       "      <th>HG00096</th>\n",
       "      <td>HG00096</td>\n",
       "      <td>0</td>\n",
       "      <td>0</td>\n",
       "      <td>1</td>\n",
       "      <td>0</td>\n",
       "      <td>GBR</td>\n",
       "      <td>unrel</td>\n",
       "      <td>0</td>\n",
       "      <td>0</td>\n",
       "      <td>0</td>\n",
       "      <td>0</td>\n",
       "      <td>0</td>\n",
       "    </tr>\n",
       "    <tr>\n",
       "      <th>HG00097</th>\n",
       "      <td>HG00097</td>\n",
       "      <td>0</td>\n",
       "      <td>0</td>\n",
       "      <td>2</td>\n",
       "      <td>0</td>\n",
       "      <td>GBR</td>\n",
       "      <td>unrel</td>\n",
       "      <td>0</td>\n",
       "      <td>0</td>\n",
       "      <td>0</td>\n",
       "      <td>0</td>\n",
       "      <td>0</td>\n",
       "    </tr>\n",
       "    <tr>\n",
       "      <th>HG00098</th>\n",
       "      <td>HG00098</td>\n",
       "      <td>0</td>\n",
       "      <td>0</td>\n",
       "      <td>1</td>\n",
       "      <td>0</td>\n",
       "      <td>GBR</td>\n",
       "      <td>unrel</td>\n",
       "      <td>0</td>\n",
       "      <td>0</td>\n",
       "      <td>0</td>\n",
       "      <td>0</td>\n",
       "      <td>0</td>\n",
       "    </tr>\n",
       "    <tr>\n",
       "      <th>HG00099</th>\n",
       "      <td>HG00099</td>\n",
       "      <td>0</td>\n",
       "      <td>0</td>\n",
       "      <td>2</td>\n",
       "      <td>0</td>\n",
       "      <td>GBR</td>\n",
       "      <td>unrel</td>\n",
       "      <td>0</td>\n",
       "      <td>0</td>\n",
       "      <td>0</td>\n",
       "      <td>0</td>\n",
       "      <td>0</td>\n",
       "    </tr>\n",
       "    <tr>\n",
       "      <th>HG00100</th>\n",
       "      <td>HG00100</td>\n",
       "      <td>0</td>\n",
       "      <td>0</td>\n",
       "      <td>2</td>\n",
       "      <td>0</td>\n",
       "      <td>GBR</td>\n",
       "      <td>unrel</td>\n",
       "      <td>0</td>\n",
       "      <td>0</td>\n",
       "      <td>0</td>\n",
       "      <td>0</td>\n",
       "      <td>0</td>\n",
       "    </tr>\n",
       "  </tbody>\n",
       "</table>\n",
       "</div>\n",
       "      <button class=\"colab-df-convert\" onclick=\"convertToInteractive('df-8a7db5de-1fc9-4891-9924-98834393fb78')\"\n",
       "              title=\"Convert this dataframe to an interactive table.\"\n",
       "              style=\"display:none;\">\n",
       "\n",
       "  <svg xmlns=\"http://www.w3.org/2000/svg\" height=\"24px\"viewBox=\"0 0 24 24\"\n",
       "       width=\"24px\">\n",
       "    <path d=\"M0 0h24v24H0V0z\" fill=\"none\"/>\n",
       "    <path d=\"M18.56 5.44l.94 2.06.94-2.06 2.06-.94-2.06-.94-.94-2.06-.94 2.06-2.06.94zm-11 1L8.5 8.5l.94-2.06 2.06-.94-2.06-.94L8.5 2.5l-.94 2.06-2.06.94zm10 10l.94 2.06.94-2.06 2.06-.94-2.06-.94-.94-2.06-.94 2.06-2.06.94z\"/><path d=\"M17.41 7.96l-1.37-1.37c-.4-.4-.92-.59-1.43-.59-.52 0-1.04.2-1.43.59L10.3 9.45l-7.72 7.72c-.78.78-.78 2.05 0 2.83L4 21.41c.39.39.9.59 1.41.59.51 0 1.02-.2 1.41-.59l7.78-7.78 2.81-2.81c.8-.78.8-2.07 0-2.86zM5.41 20L4 18.59l7.72-7.72 1.47 1.35L5.41 20z\"/>\n",
       "  </svg>\n",
       "      </button>\n",
       "\n",
       "\n",
       "\n",
       "    <div id=\"df-96db3d4d-0c4f-40b4-af85-7335bdb9eef8\">\n",
       "      <button class=\"colab-df-quickchart\" onclick=\"quickchart('df-96db3d4d-0c4f-40b4-af85-7335bdb9eef8')\"\n",
       "              title=\"Suggest charts.\"\n",
       "              style=\"display:none;\">\n",
       "\n",
       "<svg xmlns=\"http://www.w3.org/2000/svg\" height=\"24px\"viewBox=\"0 0 24 24\"\n",
       "     width=\"24px\">\n",
       "    <g>\n",
       "        <path d=\"M19 3H5c-1.1 0-2 .9-2 2v14c0 1.1.9 2 2 2h14c1.1 0 2-.9 2-2V5c0-1.1-.9-2-2-2zM9 17H7v-7h2v7zm4 0h-2V7h2v10zm4 0h-2v-4h2v4z\"/>\n",
       "    </g>\n",
       "</svg>\n",
       "      </button>\n",
       "    </div>\n",
       "\n",
       "<style>\n",
       "  .colab-df-quickchart {\n",
       "    background-color: #E8F0FE;\n",
       "    border: none;\n",
       "    border-radius: 50%;\n",
       "    cursor: pointer;\n",
       "    display: none;\n",
       "    fill: #1967D2;\n",
       "    height: 32px;\n",
       "    padding: 0 0 0 0;\n",
       "    width: 32px;\n",
       "  }\n",
       "\n",
       "  .colab-df-quickchart:hover {\n",
       "    background-color: #E2EBFA;\n",
       "    box-shadow: 0px 1px 2px rgba(60, 64, 67, 0.3), 0px 1px 3px 1px rgba(60, 64, 67, 0.15);\n",
       "    fill: #174EA6;\n",
       "  }\n",
       "\n",
       "  [theme=dark] .colab-df-quickchart {\n",
       "    background-color: #3B4455;\n",
       "    fill: #D2E3FC;\n",
       "  }\n",
       "\n",
       "  [theme=dark] .colab-df-quickchart:hover {\n",
       "    background-color: #434B5C;\n",
       "    box-shadow: 0px 1px 3px 1px rgba(0, 0, 0, 0.15);\n",
       "    filter: drop-shadow(0px 1px 2px rgba(0, 0, 0, 0.3));\n",
       "    fill: #FFFFFF;\n",
       "  }\n",
       "</style>\n",
       "\n",
       "    <script>\n",
       "      async function quickchart(key) {\n",
       "        const containerElement = document.querySelector('#' + key);\n",
       "        const charts = await google.colab.kernel.invokeFunction(\n",
       "            'suggestCharts', [key], {});\n",
       "      }\n",
       "    </script>\n",
       "\n",
       "      <script>\n",
       "\n",
       "function displayQuickchartButton(domScope) {\n",
       "  let quickchartButtonEl =\n",
       "    domScope.querySelector('#df-96db3d4d-0c4f-40b4-af85-7335bdb9eef8 button.colab-df-quickchart');\n",
       "  quickchartButtonEl.style.display =\n",
       "    google.colab.kernel.accessAllowed ? 'block' : 'none';\n",
       "}\n",
       "\n",
       "        displayQuickchartButton(document);\n",
       "      </script>\n",
       "      <style>\n",
       "    .colab-df-container {\n",
       "      display:flex;\n",
       "      flex-wrap:wrap;\n",
       "      gap: 12px;\n",
       "    }\n",
       "\n",
       "    .colab-df-convert {\n",
       "      background-color: #E8F0FE;\n",
       "      border: none;\n",
       "      border-radius: 50%;\n",
       "      cursor: pointer;\n",
       "      display: none;\n",
       "      fill: #1967D2;\n",
       "      height: 32px;\n",
       "      padding: 0 0 0 0;\n",
       "      width: 32px;\n",
       "    }\n",
       "\n",
       "    .colab-df-convert:hover {\n",
       "      background-color: #E2EBFA;\n",
       "      box-shadow: 0px 1px 2px rgba(60, 64, 67, 0.3), 0px 1px 3px 1px rgba(60, 64, 67, 0.15);\n",
       "      fill: #174EA6;\n",
       "    }\n",
       "\n",
       "    [theme=dark] .colab-df-convert {\n",
       "      background-color: #3B4455;\n",
       "      fill: #D2E3FC;\n",
       "    }\n",
       "\n",
       "    [theme=dark] .colab-df-convert:hover {\n",
       "      background-color: #434B5C;\n",
       "      box-shadow: 0px 1px 3px 1px rgba(0, 0, 0, 0.15);\n",
       "      filter: drop-shadow(0px 1px 2px rgba(0, 0, 0, 0.3));\n",
       "      fill: #FFFFFF;\n",
       "    }\n",
       "  </style>\n",
       "\n",
       "      <script>\n",
       "        const buttonEl =\n",
       "          document.querySelector('#df-8a7db5de-1fc9-4891-9924-98834393fb78 button.colab-df-convert');\n",
       "        buttonEl.style.display =\n",
       "          google.colab.kernel.accessAllowed ? 'block' : 'none';\n",
       "\n",
       "        async function convertToInteractive(key) {\n",
       "          const element = document.querySelector('#df-8a7db5de-1fc9-4891-9924-98834393fb78');\n",
       "          const dataTable =\n",
       "            await google.colab.kernel.invokeFunction('convertToInteractive',\n",
       "                                                     [key], {});\n",
       "          if (!dataTable) return;\n",
       "\n",
       "          const docLinkHtml = 'Like what you see? Visit the ' +\n",
       "            '<a target=\"_blank\" href=https://colab.research.google.com/notebooks/data_table.ipynb>data table notebook</a>'\n",
       "            + ' to learn more about interactive tables.';\n",
       "          element.innerHTML = '';\n",
       "          dataTable['output_type'] = 'display_data';\n",
       "          await google.colab.output.renderOutput(dataTable, element);\n",
       "          const docLink = document.createElement('div');\n",
       "          docLink.innerHTML = docLinkHtml;\n",
       "          element.appendChild(docLink);\n",
       "        }\n",
       "      </script>\n",
       "    </div>\n",
       "  </div>\n"
      ]
     },
     "metadata": {},
     "execution_count": 8
    }
   ],
   "source": [
    "pedigree.head()"
   ]
  },
  {
   "cell_type": "code",
   "execution_count": 9,
   "metadata": {
    "colab": {
     "base_uri": "https://localhost:8080/"
    },
    "executionInfo": {
     "elapsed": 7,
     "status": "ok",
     "timestamp": 1690834394598,
     "user": {
      "displayName": "Erfan Mowlaei",
      "userId": "07890245825539195560"
     },
     "user_tz": 240
    },
    "id": "GBSfo4FlV_A_",
    "outputId": "0da52538-a10b-4c91-8e60-72d81ce3e8ef"
   },
   "outputs": [
    {
     "output_type": "execute_result",
     "data": {
      "text/plain": [
       "(2504,)"
      ]
     },
     "metadata": {},
     "execution_count": 9
    }
   ],
   "source": [
    "Y_train = pedigree.loc[genotypes.index]['Population']\n",
    "Y_train.shape"
   ]
  },
  {
   "cell_type": "code",
   "execution_count": 10,
   "metadata": {
    "colab": {
     "base_uri": "https://localhost:8080/"
    },
    "executionInfo": {
     "elapsed": 5,
     "status": "ok",
     "timestamp": 1690834394598,
     "user": {
      "displayName": "Erfan Mowlaei",
      "userId": "07890245825539195560"
     },
     "user_tz": 240
    },
    "id": "hiP0EEwsEMNP",
    "outputId": "1238e22a-3a7c-4286-d073-312869f3f115"
   },
   "outputs": [
    {
     "output_type": "execute_result",
     "data": {
      "text/plain": [
       "(2504, 573)"
      ]
     },
     "metadata": {},
     "execution_count": 10
    }
   ],
   "source": [
    "X = genotypes[genotypes.index.isin(Y_train.index)]\n",
    "X.shape"
   ]
  },
  {
   "cell_type": "code",
   "execution_count": 11,
   "metadata": {
    "colab": {
     "base_uri": "https://localhost:8080/"
    },
    "executionInfo": {
     "elapsed": 4385,
     "status": "ok",
     "timestamp": 1690834398980,
     "user": {
      "displayName": "Erfan Mowlaei",
      "userId": "07890245825539195560"
     },
     "user_tz": 240
    },
    "id": "DNU6deVHXIdE",
    "outputId": "baef168b-75cb-4c11-ca32-1ce87c9e5cc8"
   },
   "outputs": [
    {
     "output_type": "execute_result",
     "data": {
      "text/plain": [
       "(2504, 573)"
      ]
     },
     "metadata": {},
     "execution_count": 11
    }
   ],
   "source": [
    "X = X.replace({\n",
    "    '0|0': 0,\n",
    "    '0|1': 1,\n",
    "    '1|0': 2,\n",
    "    '1|1': 3\n",
    "})\n",
    "X.shape"
   ]
  },
  {
   "cell_type": "markdown",
   "source": [
    "### MAF\n"
   ],
   "metadata": {
    "id": "asV65bA-j1aw"
   }
  },
  {
   "cell_type": "code",
   "source": [
    "def get_max_genotype(g):\n",
    "  v1, v2 = g.split(\"|\")\n",
    "  return max(int(v1), int(v2)) + 1\n",
    "\n",
    "def key_gen(v1, v2):\n",
    "  return f\"{v1}|{v2}\""
   ],
   "metadata": {
    "id": "P4m28zGLMtXK",
    "executionInfo": {
     "status": "ok",
     "timestamp": 1690834398980,
     "user_tz": 240,
     "elapsed": 3,
     "user": {
      "displayName": "Erfan Mowlaei",
      "userId": "07890245825539195560"
     }
    }
   },
   "execution_count": 12,
   "outputs": []
  },
  {
   "cell_type": "code",
   "source": [
    "def maf_mapper(txt):\n",
    "  af = min(list(map(lambda x: float(x), txt.split(\";\")[1].split(\"=\")[1].split(\",\"))))\n",
    "  return min(af, 1-af)"
   ],
   "metadata": {
    "id": "PoX14d2YGB8c",
    "executionInfo": {
     "status": "ok",
     "timestamp": 1690834399145,
     "user_tz": 240,
     "elapsed": 167,
     "user": {
      "displayName": "Erfan Mowlaei",
      "userId": "07890245825539195560"
     }
    }
   },
   "execution_count": 13,
   "outputs": []
  },
  {
   "cell_type": "code",
   "source": [
    "mafs = info.iloc[:, 7:8].applymap(maf_mapper)\n",
    "mafs"
   ],
   "metadata": {
    "colab": {
     "base_uri": "https://localhost:8080/",
     "height": 424
    },
    "id": "SB9WBJcak0ih",
    "executionInfo": {
     "status": "ok",
     "timestamp": 1690834399146,
     "user_tz": 240,
     "elapsed": 7,
     "user": {
      "displayName": "Erfan Mowlaei",
      "userId": "07890245825539195560"
     }
    },
    "outputId": "8f7fe083-d359-4801-a8db-bd19eb573e19"
   },
   "execution_count": 14,
   "outputs": [
    {
     "output_type": "execute_result",
     "data": {
      "text/plain": [
       "         INFO\n",
       "0    0.024960\n",
       "1    0.005791\n",
       "2    0.037141\n",
       "3    0.000399\n",
       "4    0.000399\n",
       "..        ...\n",
       "568  0.000599\n",
       "569  0.023562\n",
       "570  0.000200\n",
       "571  0.000200\n",
       "572  0.000200\n",
       "\n",
       "[573 rows x 1 columns]"
      ],
      "text/html": [
       "\n",
       "\n",
       "  <div id=\"df-d812dedd-ff38-49a5-9ae0-38e2d7097b81\">\n",
       "    <div class=\"colab-df-container\">\n",
       "      <div>\n",
       "<style scoped>\n",
       "    .dataframe tbody tr th:only-of-type {\n",
       "        vertical-align: middle;\n",
       "    }\n",
       "\n",
       "    .dataframe tbody tr th {\n",
       "        vertical-align: top;\n",
       "    }\n",
       "\n",
       "    .dataframe thead th {\n",
       "        text-align: right;\n",
       "    }\n",
       "</style>\n",
       "<table border=\"1\" class=\"dataframe\">\n",
       "  <thead>\n",
       "    <tr style=\"text-align: right;\">\n",
       "      <th></th>\n",
       "      <th>INFO</th>\n",
       "    </tr>\n",
       "  </thead>\n",
       "  <tbody>\n",
       "    <tr>\n",
       "      <th>0</th>\n",
       "      <td>0.024960</td>\n",
       "    </tr>\n",
       "    <tr>\n",
       "      <th>1</th>\n",
       "      <td>0.005791</td>\n",
       "    </tr>\n",
       "    <tr>\n",
       "      <th>2</th>\n",
       "      <td>0.037141</td>\n",
       "    </tr>\n",
       "    <tr>\n",
       "      <th>3</th>\n",
       "      <td>0.000399</td>\n",
       "    </tr>\n",
       "    <tr>\n",
       "      <th>4</th>\n",
       "      <td>0.000399</td>\n",
       "    </tr>\n",
       "    <tr>\n",
       "      <th>...</th>\n",
       "      <td>...</td>\n",
       "    </tr>\n",
       "    <tr>\n",
       "      <th>568</th>\n",
       "      <td>0.000599</td>\n",
       "    </tr>\n",
       "    <tr>\n",
       "      <th>569</th>\n",
       "      <td>0.023562</td>\n",
       "    </tr>\n",
       "    <tr>\n",
       "      <th>570</th>\n",
       "      <td>0.000200</td>\n",
       "    </tr>\n",
       "    <tr>\n",
       "      <th>571</th>\n",
       "      <td>0.000200</td>\n",
       "    </tr>\n",
       "    <tr>\n",
       "      <th>572</th>\n",
       "      <td>0.000200</td>\n",
       "    </tr>\n",
       "  </tbody>\n",
       "</table>\n",
       "<p>573 rows × 1 columns</p>\n",
       "</div>\n",
       "      <button class=\"colab-df-convert\" onclick=\"convertToInteractive('df-d812dedd-ff38-49a5-9ae0-38e2d7097b81')\"\n",
       "              title=\"Convert this dataframe to an interactive table.\"\n",
       "              style=\"display:none;\">\n",
       "\n",
       "  <svg xmlns=\"http://www.w3.org/2000/svg\" height=\"24px\"viewBox=\"0 0 24 24\"\n",
       "       width=\"24px\">\n",
       "    <path d=\"M0 0h24v24H0V0z\" fill=\"none\"/>\n",
       "    <path d=\"M18.56 5.44l.94 2.06.94-2.06 2.06-.94-2.06-.94-.94-2.06-.94 2.06-2.06.94zm-11 1L8.5 8.5l.94-2.06 2.06-.94-2.06-.94L8.5 2.5l-.94 2.06-2.06.94zm10 10l.94 2.06.94-2.06 2.06-.94-2.06-.94-.94-2.06-.94 2.06-2.06.94z\"/><path d=\"M17.41 7.96l-1.37-1.37c-.4-.4-.92-.59-1.43-.59-.52 0-1.04.2-1.43.59L10.3 9.45l-7.72 7.72c-.78.78-.78 2.05 0 2.83L4 21.41c.39.39.9.59 1.41.59.51 0 1.02-.2 1.41-.59l7.78-7.78 2.81-2.81c.8-.78.8-2.07 0-2.86zM5.41 20L4 18.59l7.72-7.72 1.47 1.35L5.41 20z\"/>\n",
       "  </svg>\n",
       "      </button>\n",
       "\n",
       "\n",
       "\n",
       "    <div id=\"df-9ab0c275-861f-4d0a-8d26-2a9e56dcb1fe\">\n",
       "      <button class=\"colab-df-quickchart\" onclick=\"quickchart('df-9ab0c275-861f-4d0a-8d26-2a9e56dcb1fe')\"\n",
       "              title=\"Suggest charts.\"\n",
       "              style=\"display:none;\">\n",
       "\n",
       "<svg xmlns=\"http://www.w3.org/2000/svg\" height=\"24px\"viewBox=\"0 0 24 24\"\n",
       "     width=\"24px\">\n",
       "    <g>\n",
       "        <path d=\"M19 3H5c-1.1 0-2 .9-2 2v14c0 1.1.9 2 2 2h14c1.1 0 2-.9 2-2V5c0-1.1-.9-2-2-2zM9 17H7v-7h2v7zm4 0h-2V7h2v10zm4 0h-2v-4h2v4z\"/>\n",
       "    </g>\n",
       "</svg>\n",
       "      </button>\n",
       "    </div>\n",
       "\n",
       "<style>\n",
       "  .colab-df-quickchart {\n",
       "    background-color: #E8F0FE;\n",
       "    border: none;\n",
       "    border-radius: 50%;\n",
       "    cursor: pointer;\n",
       "    display: none;\n",
       "    fill: #1967D2;\n",
       "    height: 32px;\n",
       "    padding: 0 0 0 0;\n",
       "    width: 32px;\n",
       "  }\n",
       "\n",
       "  .colab-df-quickchart:hover {\n",
       "    background-color: #E2EBFA;\n",
       "    box-shadow: 0px 1px 2px rgba(60, 64, 67, 0.3), 0px 1px 3px 1px rgba(60, 64, 67, 0.15);\n",
       "    fill: #174EA6;\n",
       "  }\n",
       "\n",
       "  [theme=dark] .colab-df-quickchart {\n",
       "    background-color: #3B4455;\n",
       "    fill: #D2E3FC;\n",
       "  }\n",
       "\n",
       "  [theme=dark] .colab-df-quickchart:hover {\n",
       "    background-color: #434B5C;\n",
       "    box-shadow: 0px 1px 3px 1px rgba(0, 0, 0, 0.15);\n",
       "    filter: drop-shadow(0px 1px 2px rgba(0, 0, 0, 0.3));\n",
       "    fill: #FFFFFF;\n",
       "  }\n",
       "</style>\n",
       "\n",
       "    <script>\n",
       "      async function quickchart(key) {\n",
       "        const containerElement = document.querySelector('#' + key);\n",
       "        const charts = await google.colab.kernel.invokeFunction(\n",
       "            'suggestCharts', [key], {});\n",
       "      }\n",
       "    </script>\n",
       "\n",
       "      <script>\n",
       "\n",
       "function displayQuickchartButton(domScope) {\n",
       "  let quickchartButtonEl =\n",
       "    domScope.querySelector('#df-9ab0c275-861f-4d0a-8d26-2a9e56dcb1fe button.colab-df-quickchart');\n",
       "  quickchartButtonEl.style.display =\n",
       "    google.colab.kernel.accessAllowed ? 'block' : 'none';\n",
       "}\n",
       "\n",
       "        displayQuickchartButton(document);\n",
       "      </script>\n",
       "      <style>\n",
       "    .colab-df-container {\n",
       "      display:flex;\n",
       "      flex-wrap:wrap;\n",
       "      gap: 12px;\n",
       "    }\n",
       "\n",
       "    .colab-df-convert {\n",
       "      background-color: #E8F0FE;\n",
       "      border: none;\n",
       "      border-radius: 50%;\n",
       "      cursor: pointer;\n",
       "      display: none;\n",
       "      fill: #1967D2;\n",
       "      height: 32px;\n",
       "      padding: 0 0 0 0;\n",
       "      width: 32px;\n",
       "    }\n",
       "\n",
       "    .colab-df-convert:hover {\n",
       "      background-color: #E2EBFA;\n",
       "      box-shadow: 0px 1px 2px rgba(60, 64, 67, 0.3), 0px 1px 3px 1px rgba(60, 64, 67, 0.15);\n",
       "      fill: #174EA6;\n",
       "    }\n",
       "\n",
       "    [theme=dark] .colab-df-convert {\n",
       "      background-color: #3B4455;\n",
       "      fill: #D2E3FC;\n",
       "    }\n",
       "\n",
       "    [theme=dark] .colab-df-convert:hover {\n",
       "      background-color: #434B5C;\n",
       "      box-shadow: 0px 1px 3px 1px rgba(0, 0, 0, 0.15);\n",
       "      filter: drop-shadow(0px 1px 2px rgba(0, 0, 0, 0.3));\n",
       "      fill: #FFFFFF;\n",
       "    }\n",
       "  </style>\n",
       "\n",
       "      <script>\n",
       "        const buttonEl =\n",
       "          document.querySelector('#df-d812dedd-ff38-49a5-9ae0-38e2d7097b81 button.colab-df-convert');\n",
       "        buttonEl.style.display =\n",
       "          google.colab.kernel.accessAllowed ? 'block' : 'none';\n",
       "\n",
       "        async function convertToInteractive(key) {\n",
       "          const element = document.querySelector('#df-d812dedd-ff38-49a5-9ae0-38e2d7097b81');\n",
       "          const dataTable =\n",
       "            await google.colab.kernel.invokeFunction('convertToInteractive',\n",
       "                                                     [key], {});\n",
       "          if (!dataTable) return;\n",
       "\n",
       "          const docLinkHtml = 'Like what you see? Visit the ' +\n",
       "            '<a target=\"_blank\" href=https://colab.research.google.com/notebooks/data_table.ipynb>data table notebook</a>'\n",
       "            + ' to learn more about interactive tables.';\n",
       "          element.innerHTML = '';\n",
       "          dataTable['output_type'] = 'display_data';\n",
       "          await google.colab.output.renderOutput(dataTable, element);\n",
       "          const docLink = document.createElement('div');\n",
       "          docLink.innerHTML = docLinkHtml;\n",
       "          element.appendChild(docLink);\n",
       "        }\n",
       "      </script>\n",
       "    </div>\n",
       "  </div>\n"
      ]
     },
     "metadata": {},
     "execution_count": 14
    }
   ]
  },
  {
   "cell_type": "code",
   "source": [
    "plt.hist(mafs, bins=[0, 0.1, 0.2, 0.3, 0.4, 0.5]);"
   ],
   "metadata": {
    "colab": {
     "base_uri": "https://localhost:8080/",
     "height": 430
    },
    "id": "KaBtVvHmRL-X",
    "executionInfo": {
     "status": "ok",
     "timestamp": 1690834400130,
     "user_tz": 240,
     "elapsed": 990,
     "user": {
      "displayName": "Erfan Mowlaei",
      "userId": "07890245825539195560"
     }
    },
    "outputId": "e7f0a885-db0c-4bad-eadf-186dc75978d8"
   },
   "execution_count": 15,
   "outputs": [
    {
     "output_type": "display_data",
     "data": {
      "text/plain": [
       "<Figure size 640x480 with 1 Axes>"
      ],
      "image/png": "[encoded data removed]"
     },
     "metadata": {}
    }
   ]
  },
  {
   "cell_type": "code",
   "source": [
    "bin_labels = np.digitize(mafs, bins=[0, 0.1, 0.2, 0.3, 0.4, 0.5], right=False)\n",
    "bin_general_labels, bin_counts = np.unique(bin_labels, return_counts=True)\n",
    "bin_general_labels, bin_counts"
   ],
   "metadata": {
    "colab": {
     "base_uri": "https://localhost:8080/"
    },
    "id": "12UAf-X8dPBf",
    "executionInfo": {
     "status": "ok",
     "timestamp": 1690834400130,
     "user_tz": 240,
     "elapsed": 7,
     "user": {
      "displayName": "Erfan Mowlaei",
      "userId": "07890245825539195560"
     }
    },
    "outputId": "47c3d76e-2851-4c69-8cc8-9eb8d8ea192d"
   },
   "execution_count": 16,
   "outputs": [
    {
     "output_type": "execute_result",
     "data": {
      "text/plain": [
       "(array([1, 2, 3, 4, 5]), array([529,  18,  10,  10,   6]))"
      ]
     },
     "metadata": {},
     "execution_count": 16
    }
   ]
  },
  {
   "cell_type": "code",
   "execution_count": 17,
   "metadata": {
    "id": "_pZoO-FvKdr3",
    "executionInfo": {
     "status": "ok",
     "timestamp": 1690834400131,
     "user_tz": 240,
     "elapsed": 5,
     "user": {
      "displayName": "Erfan Mowlaei",
      "userId": "07890245825539195560"
     }
    }
   },
   "outputs": [],
   "source": [
    "# hyperparameters\n",
    "feature_size = X.shape[1]\n",
    "inChannel = 3\n",
    "learning_rate = 0.004\n",
    "weight_decay = 0.00001\n",
    "embed_dim = 64  # Embedding size for each token\n",
    "num_heads = 8 # Number of attention heads\n",
    "ff_dim = 32  # Hidden layer size in feed forward network inside transformer\n",
    "regularization_coef_l1 = 1e-4\n",
    "dropout_rate = 0.25\n",
    "attention_range = 0\n",
    "chunk_size = X.shape[1]"
   ]
  },
  {
   "cell_type": "markdown",
   "metadata": {
    "id": "LtSxW2eMOOCU"
   },
   "source": [
    "## Convert to tensorflow dataset"
   ]
  },
  {
   "cell_type": "code",
   "execution_count": 18,
   "metadata": {
    "id": "KDiVoe67JHcy",
    "executionInfo": {
     "status": "ok",
     "timestamp": 1690834400247,
     "user_tz": 240,
     "elapsed": 121,
     "user": {
      "displayName": "Erfan Mowlaei",
      "userId": "07890245825539195560"
     }
    }
   },
   "outputs": [],
   "source": [
    "@tf.function()\n",
    "def add_attention_mask(X_sample, y_sample):\n",
    "  depth = 3\n",
    "  mask_size = tf.cast(X_sample.shape[0]*0.5, dtype=tf.int64)\n",
    "  mask_idx = tf.reshape(tf.random.shuffle(tf.range(X_sample.shape[0]))[:mask_size], (-1, 1))\n",
    "  updates = tf.math.add(tf.ones(shape=(mask_idx.shape[0]), dtype=tf.int64), 1)\n",
    "  X_masked = tf.tensor_scatter_nd_update(X_sample, mask_idx, updates)\n",
    "  return tf.one_hot(X_masked, depth), tf.one_hot(y_sample, depth-1)"
   ]
  },
  {
   "cell_type": "code",
   "execution_count": 19,
   "metadata": {
    "id": "SlyxYCy96H7V",
    "executionInfo": {
     "status": "ok",
     "timestamp": 1690834400247,
     "user_tz": 240,
     "elapsed": 2,
     "user": {
      "displayName": "Erfan Mowlaei",
      "userId": "07890245825539195560"
     }
    }
   },
   "outputs": [],
   "source": [
    "def map_values_1(x):\n",
    "  return 0 if (x == 0 or x == 1) else 1\n",
    "\n",
    "def map_values_2(x):\n",
    "  return 0 if (x == 0 or x == 2) else 1\n",
    "\n",
    "def get_dataset(x, chunk_start, chunk_end, start_offset, end_offset, batch_size, training=True):\n",
    "  AUTO = tf.data.AUTOTUNE\n",
    "\n",
    "  _x = np.empty((x.shape[0] * 2, chunk_end-chunk_start), dtype=x.dtype)\n",
    "\n",
    "  map_values_1_vec = np.vectorize(map_values_1)\n",
    "  map_values_2_vec = np.vectorize(map_values_2)\n",
    "\n",
    "  _x[0::2] = map_values_1_vec(x[:, chunk_start:chunk_end])\n",
    "  _x[1::2] = map_values_2_vec(x[:, chunk_start:chunk_end])\n",
    "  new_chunk_end = _x.shape[1]\n",
    "\n",
    "  dataset = tf.data.Dataset.from_tensor_slices((_x,\n",
    "                                                _x[:, start_offset:new_chunk_end-end_offset]))\n",
    "\n",
    "  if training:\n",
    "    dataset = dataset.shuffle(_x.shape[0], reshuffle_each_iteration=True)\n",
    "    dataset = dataset.repeat()\n",
    "\n",
    "  # Add Attention Mask\n",
    "  dataset = dataset.map(add_attention_mask, num_parallel_calls=AUTO, deterministic=False)\n",
    "\n",
    "  # Prefetech to not map the whole dataset\n",
    "  dataset = dataset.prefetch(AUTO)\n",
    "\n",
    "  dataset = dataset.batch(batch_size, drop_remainder=True, num_parallel_calls=AUTO)\n",
    "\n",
    "  return dataset"
   ]
  },
  {
   "cell_type": "markdown",
   "metadata": {
    "id": "NpRUjMp_L914"
   },
   "source": [
    "## Custom Layers"
   ]
  },
  {
   "cell_type": "code",
   "execution_count": 20,
   "metadata": {
    "id": "9h9OjeMZ8_XU",
    "executionInfo": {
     "status": "ok",
     "timestamp": 1690834400512,
     "user_tz": 240,
     "elapsed": 267,
     "user": {
      "displayName": "Erfan Mowlaei",
      "userId": "07890245825539195560"
     }
    }
   },
   "outputs": [],
   "source": [
    "class CrossAttentionLayer(layers.Layer):\n",
    "  def __init__(self, local_dim, global_dim,\n",
    "               start_offset=0, end_offset=0,\n",
    "               activation=tf.nn.gelu, dropout_rate=0.1,\n",
    "               n_heads=num_heads):\n",
    "    super(CrossAttentionLayer, self).__init__()\n",
    "    self.local_dim = local_dim\n",
    "    self.global_dim = global_dim\n",
    "    self.dropout_rate = dropout_rate\n",
    "    self.activation = activation\n",
    "    self.start_offset = start_offset\n",
    "    self.end_offset = end_offset\n",
    "    self.num_heads = n_heads\n",
    "    self.layer_norm00 = layers.LayerNormalization()\n",
    "    self.layer_norm01 = layers.LayerNormalization()\n",
    "    self.layer_norm1 = layers.LayerNormalization()\n",
    "    self.ffn = tf.keras.Sequential(\n",
    "          [\n",
    "            layers.Dense(self.local_dim//2, activation=self.activation,\n",
    "                        ),\n",
    "            layers.Dense(self.local_dim,\n",
    "                        activation=self.activation,\n",
    "                        ), ]\n",
    "      )\n",
    "    self.add0 = layers.Add()\n",
    "    self.add1 = layers.Add()\n",
    "    self.attention = layers.MultiHeadAttention(num_heads=self.num_heads,\n",
    "                                               key_dim=self.local_dim,)\n",
    "\n",
    "  def call(self, inputs, training):\n",
    "    local_repr = self.layer_norm00(inputs[0])\n",
    "    global_repr = self.layer_norm01(inputs[1])\n",
    "    query = local_repr[:, self.start_offset:local_repr.shape[1]-self.end_offset, :]\n",
    "    key = global_repr\n",
    "    value = global_repr\n",
    "\n",
    "    # Generate cross-attention outputs: [batch_size, latent_dim, projection_dim].\n",
    "    attention_output = self.attention(\n",
    "        query, key, value\n",
    "    )\n",
    "    # Skip connection 1.\n",
    "    attention_output = self.add0([attention_output, query])\n",
    "\n",
    "    # Apply layer norm.\n",
    "    attention_output = self.layer_norm1(attention_output)\n",
    "    # Apply Feedforward network.\n",
    "    outputs = self.ffn(attention_output)\n",
    "    # Skip connection 2.\n",
    "    outputs = self.add1([outputs, attention_output])\n",
    "    return outputs\n",
    "\n",
    "class MaskedTransformerBlock(layers.Layer):\n",
    "  def __init__(self, embed_dim, num_heads, ff_dim, attention_range, start_offset=0, end_offset=0, attn_block_repeats=1, activation=tf.nn.gelu, dropout_rate=0.1, use_ffn=True):\n",
    "    super(MaskedTransformerBlock, self).__init__()\n",
    "    self.embed_dim = embed_dim\n",
    "    self.num_heads = num_heads\n",
    "    self.ff_dim = ff_dim\n",
    "    self.start_offset = start_offset\n",
    "    self.end_offset = end_offset\n",
    "    self.attention_range = attention_range\n",
    "    self.attn_block_repeats = attn_block_repeats\n",
    "    self.activation = activation\n",
    "    self.dropout_rate = dropout_rate\n",
    "    self.use_ffn = use_ffn\n",
    "    self.att0 = [layers.MultiHeadAttention(num_heads=self.num_heads, key_dim=self.embed_dim) for _ in range(attn_block_repeats)]\n",
    "    if self.use_ffn:\n",
    "      self.ffn = [tf.keras.Sequential(\n",
    "          [\n",
    "            layers.Dense(self.ff_dim, activation=self.activation,\n",
    "                        ),\n",
    "            layers.Dense(self.embed_dim,\n",
    "                        activation=self.activation,\n",
    "                        ), ]\n",
    "      ) for _ in range(attn_block_repeats)]\n",
    "    self.layer_norm0 = [layers.LayerNormalization() for _ in range(attn_block_repeats)]\n",
    "    self.layer_norm1 = [layers.LayerNormalization() for _ in range(attn_block_repeats)]\n",
    "\n",
    "  def build(self, input_shape):\n",
    "    assert(self.end_offset >= 0)\n",
    "    self.feature_size = input_shape[1]\n",
    "    attention_mask = np.zeros((self.feature_size,\n",
    "                               self.feature_size), dtype=bool)\n",
    "    for i in range(self.start_offset, self.feature_size - self.end_offset):\n",
    "      attention_indices = np.arange(max(0, i-self.attention_range), min(self.feature_size, i+self.attention_range))\n",
    "      attention_mask[i, attention_indices] = True\n",
    "    self.attention_mask = tf.constant(attention_mask[self.start_offset:self.feature_size-self.end_offset])\n",
    "\n",
    "  def call(self, inputs, training):\n",
    "\n",
    "    x = inputs\n",
    "    for i in range(self.attn_block_repeats-1):\n",
    "      x = self.layer_norm0[i](x)\n",
    "      attn_output = self.att0[i](x, x)\n",
    "      out1 = x + attn_output\n",
    "      out1 = self.layer_norm1[i](out1)\n",
    "      if self.use_ffn:\n",
    "        ffn_output = self.ffn[i](out1)\n",
    "        x = out1 + ffn_output\n",
    "      else:\n",
    "        x = out1\n",
    "\n",
    "    x = self.layer_norm0[-1](inputs)\n",
    "    attn_output = self.att0[-1](x[:, self.start_offset:x.shape[1]-self.end_offset, :], x,\n",
    "                            )\n",
    "    out1 = x[:, self.start_offset:x.shape[1]-self.end_offset, :] + attn_output\n",
    "    out1 = self.layer_norm1[-1](out1)\n",
    "    if self.use_ffn:\n",
    "      ffn_output = self.ffn[-1](out1)\n",
    "      x = out1 + ffn_output\n",
    "    else:\n",
    "      x = out1\n",
    "    return x\n",
    "\n",
    "class GenoEmbeddings(layers.Layer):\n",
    "  def __init__(self, embedding_dim,\n",
    "               embeddings_initializer='glorot_uniform',\n",
    "               embeddings_regularizer=None,\n",
    "               activity_regularizer=None,\n",
    "               embeddings_constraint=None):\n",
    "    super(GenoEmbeddings, self).__init__()\n",
    "    self.embedding_dim = embedding_dim\n",
    "    self.embeddings_initializer = initializers.get(embeddings_initializer)\n",
    "    self.embeddings_regularizer = regularizers.get(embeddings_regularizer)\n",
    "    self.activity_regularizer = regularizers.get(activity_regularizer)\n",
    "    self.embeddings_constraint = constraints.get(embeddings_constraint)\n",
    "\n",
    "  def build(self, input_shape):\n",
    "    # print(input_shape)\n",
    "\n",
    "    self.num_of_allels = input_shape[-1]\n",
    "    self.n_snps = input_shape[-2]\n",
    "    self.position_embedding = layers.Embedding(\n",
    "            input_dim=self.n_snps, output_dim=self.embedding_dim\n",
    "        )\n",
    "    self.embedding = self.add_weight(\n",
    "            shape=(self.num_of_allels, self.embedding_dim),\n",
    "            initializer=self.embeddings_initializer,\n",
    "            trainable=True, name='geno_embeddings',\n",
    "            regularizer=self.embeddings_regularizer,\n",
    "            constraint=self.embeddings_constraint,\n",
    "            experimental_autocast=False\n",
    "        )\n",
    "    self.positions = tf.range(start=0, limit=self.n_snps, delta=1)\n",
    "  def call(self, inputs):\n",
    "    self.immediate_result = tf.einsum('ijk,kl->ijl', inputs, self.embedding)\n",
    "    return self.immediate_result + self.position_embedding(self.positions)\n",
    "\n",
    "\n",
    "class Chunker(layers.Layer):\n",
    "  def __init__(self, embed_dim, num_heads, ff_dim, chk_size=chunk_size,\n",
    "               activation=tf.nn.gelu, dropout_rate=0.25, attn_block_repeats=1,\n",
    "               attention_range=attention_range, include_embedding_layer=False):\n",
    "    super(Chunker, self).__init__()\n",
    "    self.concat = layers.Concatenate(axis=-2)\n",
    "    self.chunk_size = chk_size\n",
    "    self.embed_dim = embed_dim\n",
    "    self.num_heads = num_heads\n",
    "    self.ff_dim = ff_dim\n",
    "    self.activation = activation\n",
    "    self.dropout_rate = dropout_rate\n",
    "    self.attention_range = attention_range\n",
    "    self.attn_block_repeats = attn_block_repeats\n",
    "    self.include_embedding_layer = include_embedding_layer\n",
    "\n",
    "  def build(self, input_shape):\n",
    "    self.chunk_starts = list(range(0, input_shape[1], self.chunk_size))\n",
    "    self.chunk_ends = []\n",
    "    for cs in self.chunk_starts:\n",
    "      self.chunk_ends.append(min(cs+self.chunk_size, input_shape[1]))\n",
    "    self.mask_starts = [max(0, cs-self.attention_range) for cs in self.chunk_starts]\n",
    "    self.mask_ends = [min(ce+self.attention_range, input_shape[1]) for ce in self.chunk_ends]\n",
    "    self.chunkers = [SelfAttnChunk(self.embed_dim, self.num_heads, self.ff_dim,\n",
    "                           attention_range,\n",
    "                           include_embedding_layer=self.include_embedding_layer,\n",
    "                           start_offset=cs - self.mask_starts[i],\n",
    "                            end_offset=self.mask_ends[i]-self.chunk_ends[i],\n",
    "                           attn_block_repeats=self.attn_block_repeats) for i, cs in enumerate(self.chunk_starts)]\n",
    "\n",
    "  def call(self, inputs, training):\n",
    "    x = inputs\n",
    "    chunks = [chunker(x[:, self.mask_starts[i]:self.mask_ends[i]]) for i, chunker in enumerate(self.chunkers)]\n",
    "    y = self.concat(chunks)\n",
    "    return y\n",
    "\n",
    "\n",
    "class SelfAttnChunk(layers.Layer):\n",
    "  def __init__(self, embed_dim, num_heads, ff_dim, attention_range,\n",
    "               start_offset=0, end_offset=0,\n",
    "               attn_block_repeats=1,\n",
    "               include_embedding_layer=False):\n",
    "    super(SelfAttnChunk, self).__init__()\n",
    "    self.attention_range = attention_range\n",
    "    self.ff_dim = ff_dim\n",
    "    self.num_heads = num_heads\n",
    "    self.embed_dim = embed_dim\n",
    "    self.attn_block_repeats = attn_block_repeats\n",
    "    self.include_embedding_layer = include_embedding_layer\n",
    "\n",
    "    self.attention_block = MaskedTransformerBlock(self.embed_dim,\n",
    "                                                   self.num_heads, self.ff_dim,\n",
    "                                                   attention_range, start_offset,\n",
    "                                                   end_offset, attn_block_repeats=1)\n",
    "    if include_embedding_layer:\n",
    "      self.embedding = GenoEmbeddings(embed_dim)\n",
    "\n",
    "\n",
    "  def build(self, input_shape):\n",
    "    pass\n",
    "\n",
    "  def call(self, inputs, training):\n",
    "    if self.include_embedding_layer:\n",
    "      x = self.embedding(inputs)\n",
    "    else:\n",
    "      x = inputs\n",
    "    x = self.attention_block(x)\n",
    "    return x\n",
    "\n",
    "class CrossAttnChunk(layers.Layer):\n",
    "  def __init__(self, start_offset=0, end_offset=0, n_heads = num_heads):\n",
    "    super(CrossAttnChunk, self).__init__()\n",
    "    self.attention_range = attention_range\n",
    "    self.start_offset = start_offset\n",
    "    self.end_offset = end_offset\n",
    "    self.n_heads = n_heads\n",
    "\n",
    "\n",
    "  def build(self, input_shape):\n",
    "    self.local_dim = input_shape[0][-1]\n",
    "    self.global_dim = input_shape[1][-1]\n",
    "    self.attention_block = CrossAttentionLayer(self.local_dim, self.global_dim,\n",
    "                                              self.start_offset, self.end_offset,\n",
    "                                              n_heads=self.n_heads)\n",
    "    pass\n",
    "\n",
    "  def call(self, inputs, training):\n",
    "    x = inputs\n",
    "    x = self.attention_block(x)\n",
    "    return x\n"
   ]
  },
  {
   "cell_type": "markdown",
   "metadata": {
    "id": "waFVuh7DMCkM"
   },
   "source": [
    "## Modules"
   ]
  },
  {
   "cell_type": "code",
   "execution_count": 21,
   "metadata": {
    "id": "7FgZf0fOb5yG",
    "executionInfo": {
     "status": "ok",
     "timestamp": 1690834400621,
     "user_tz": 240,
     "elapsed": 110,
     "user": {
      "displayName": "Erfan Mowlaei",
      "userId": "07890245825539195560"
     }
    }
   },
   "outputs": [],
   "source": [
    "class ConvBlock(layers.Layer):\n",
    "  def __init__(self, embed_dim):\n",
    "    super(ConvBlock, self).__init__()\n",
    "    self.embed_dim = embed_dim\n",
    "    self.const = None\n",
    "    self.conv000 = layers.Conv1D(embed_dim, 3, padding='same', activation=tf.nn.gelu,\n",
    "                                 kernel_constraint=self.const,\n",
    "                    )\n",
    "    self.conv010 = layers.Conv1D(embed_dim, 5, padding='same', activation=tf.nn.gelu,\n",
    "                                 kernel_constraint=self.const,\n",
    "                    )\n",
    "    self.conv011 = layers.Conv1D(embed_dim, 7, padding='same', activation=tf.nn.gelu,\n",
    "                                 kernel_constraint=self.const,\n",
    "                    )\n",
    "\n",
    "    self.conv020 = layers.Conv1D(embed_dim, 7, padding='same', activation=tf.nn.gelu,\n",
    "                                 kernel_constraint=self.const,\n",
    "                    )\n",
    "    self.conv021 = layers.Conv1D(embed_dim, 15, padding='same', activation=tf.nn.gelu,\n",
    "                                 kernel_constraint=self.const,\n",
    "                    )\n",
    "    self.add = layers.Add()\n",
    "\n",
    "    self.conv100 = layers.Conv1D(embed_dim, 3, padding='same',\n",
    "                                 activation=tf.nn.gelu,\n",
    "                                 kernel_constraint=self.const,)\n",
    "    self.bn0 = layers.BatchNormalization()\n",
    "    self.bn1 = layers.BatchNormalization()\n",
    "    self.dw_conv = layers.DepthwiseConv1D(embed_dim, 1, padding='same')\n",
    "    self.activation = layers.Activation(tf.nn.gelu)\n",
    "\n",
    "  def call(self, inputs, training):\n",
    "    # Could add skip connection here?\n",
    "    xa = self.conv000(inputs)\n",
    "\n",
    "    xb = self.conv010(xa)\n",
    "    xb = self.conv011(xb)\n",
    "\n",
    "    xc = self.conv020(xa)\n",
    "    xc = self.conv021(xc)\n",
    "\n",
    "    xa = self.add([xb, xc])\n",
    "    xa = self.conv100(xa)\n",
    "    xa = self.bn0(xa)\n",
    "    xa = self.dw_conv(xa)\n",
    "    xa = self.bn1(xa)\n",
    "    xa = self.activation(xa)\n",
    "    return xa\n",
    "\n",
    "def chunk_module(embed_dim, num_heads, input_len, input_channels, attention_range,\n",
    "               start_offset=0, end_offset=0,\n",
    "               attn_block_repeats=1, include_embedding=False):\n",
    "  projection_dim = embed_dim\n",
    "  inputs = layers.Input(shape=(input_len, embed_dim))\n",
    "  xa = inputs\n",
    "  xa0 = SelfAttnChunk(projection_dim, num_heads, projection_dim//2, attention_range,\n",
    "            start_offset, end_offset, 1, include_embedding_layer=False)(xa)\n",
    "\n",
    "  xa = ConvBlock(projection_dim)(xa0)\n",
    "  xa_skip = ConvBlock(projection_dim)(xa)\n",
    "\n",
    "  xa = layers.Dense(projection_dim, activation=tf.nn.gelu)(xa)\n",
    "  xa = ConvBlock(projection_dim)(xa)\n",
    "  xa = CrossAttnChunk(0, 0)([xa, xa0])\n",
    "  xa = layers.Dropout(0.25)(xa)\n",
    "  xa = ConvBlock(projection_dim)(xa)\n",
    "\n",
    "  xa = layers.Concatenate(axis=-1)([xa_skip, xa])\n",
    "\n",
    "  xa = layers.Conv1D(projection_dim//2, 5, padding='same', activation=tf.nn.gelu)(xa)\n",
    "\n",
    "  xa_out1 = layers.Conv1D(inChannel - 1, 5, padding='same', activation=tf.nn.softmax)(xa)\n",
    "\n",
    "  model = keras.Model(inputs=inputs, outputs=xa_out1)\n",
    "  return model"
   ]
  },
  {
   "cell_type": "code",
   "execution_count": 22,
   "metadata": {
    "colab": {
     "base_uri": "https://localhost:8080/",
     "height": 1000
    },
    "executionInfo": {
     "elapsed": 7320,
     "status": "ok",
     "timestamp": 1690834407939,
     "user": {
      "displayName": "Erfan Mowlaei",
      "userId": "07890245825539195560"
     },
     "user_tz": 240
    },
    "id": "VIpx08HJcs-G",
    "outputId": "f01f6a9b-24c0-4fbc-a1e0-9fcd7a653d0a"
   },
   "outputs": [
    {
     "output_type": "execute_result",
     "data": {
      "image/png": "[encoded data removed]",
      "text/plain": [
       "<IPython.core.display.Image object>"
      ]
     },
     "metadata": {},
     "execution_count": 22
    }
   ],
   "source": [
    "temp_model = chunk_module(128, 1,500, 3,300,)\n",
    "temp_model.build((2, 500, 3))\n",
    "\n",
    "tf.keras.utils.plot_model(temp_model, show_shapes=True,\n",
    "                                        expand_nested=True)"
   ]
  },
  {
   "cell_type": "code",
   "execution_count": 23,
   "metadata": {
    "colab": {
     "base_uri": "https://localhost:8080/"
    },
    "executionInfo": {
     "elapsed": 23,
     "status": "ok",
     "timestamp": 1690834407939,
     "user": {
      "displayName": "Erfan Mowlaei",
      "userId": "07890245825539195560"
     },
     "user_tz": 240
    },
    "id": "sD7WOyyoNYGv",
    "outputId": "faf44ba8-dde5-4a4f-88ef-c12d82f9c0c0"
   },
   "outputs": [
    {
     "output_type": "execute_result",
     "data": {
      "text/plain": [
       "26"
      ]
     },
     "metadata": {},
     "execution_count": 23
    }
   ],
   "source": [
    "num_classes = len(np.unique(Y_train))\n",
    "num_classes"
   ]
  },
  {
   "cell_type": "markdown",
   "metadata": {
    "id": "OCkow4q5MJk_"
   },
   "source": [
    "## Model"
   ]
  },
  {
   "cell_type": "code",
   "execution_count": 24,
   "metadata": {
    "id": "vgGz9_6u8u-O",
    "executionInfo": {
     "status": "ok",
     "timestamp": 1690834407940,
     "user_tz": 240,
     "elapsed": 19,
     "user": {
      "displayName": "Erfan Mowlaei",
      "userId": "07890245825539195560"
     }
    }
   },
   "outputs": [],
   "source": [
    "class SplitTransformer(keras.Model):\n",
    "  def __init__(\n",
    "      self,\n",
    "      embed_dim,\n",
    "      num_heads,\n",
    "      # latent_dim = 512,\n",
    "      chunk_size=chunk_size,\n",
    "      activation=tf.nn.gelu,\n",
    "      dropout_rate=0.25,\n",
    "      attn_block_repeats=1,\n",
    "      attention_range=attention_range):\n",
    "    super(SplitTransformer, self).__init__()\n",
    "    self.embed_dim = embed_dim\n",
    "    self.num_heads = num_heads\n",
    "    self.chunk_size = chunk_size\n",
    "    self.activation = activation\n",
    "    self.dropout_rate = dropout_rate\n",
    "    self.attn_block_repeats = attn_block_repeats\n",
    "    self.attention_range = attention_range\n",
    "\n",
    "  def build(self, input_shape):\n",
    "    self.chunk_starts = list(range(0, input_shape[1], self.chunk_size))\n",
    "    self.chunk_ends = []\n",
    "    for cs in self.chunk_starts:\n",
    "      self.chunk_ends.append(min(cs+self.chunk_size, input_shape[1]))\n",
    "    self.mask_starts = [max(0, cs-self.attention_range) for cs in self.chunk_starts]\n",
    "    self.mask_ends = [min(ce+self.attention_range, input_shape[1]) for ce in self.chunk_ends]\n",
    "    self.chunkers = [chunk_module(self.embed_dim, self.num_heads,\n",
    "                                  self.mask_ends[i] - self.mask_starts[i],\n",
    "                                  inChannel, self.attention_range,\n",
    "                                  start_offset=cs - self.mask_starts[i],\n",
    "                                  end_offset=self.mask_ends[i]-self.chunk_ends[i],\n",
    "                                  attn_block_repeats=1, include_embedding=True) for i,cs in enumerate(self.chunk_starts)]\n",
    "\n",
    "    self.concat_layer = layers.Concatenate(axis=-2)\n",
    "    self.embedding = GenoEmbeddings(self.embed_dim)\n",
    "    super(SplitTransformer, self).build(input_shape)\n",
    "\n",
    "\n",
    "  def call(self, inputs):\n",
    "    x = self.embedding(inputs)\n",
    "    chunks = [self.chunkers[i](x[:, self.mask_starts[i]:self.mask_ends[i]]) for i, chunker in enumerate(self.chunkers)]\n",
    "    y = self.concat_layer(chunks)\n",
    "    return y\n"
   ]
  },
  {
   "cell_type": "code",
   "execution_count": 25,
   "metadata": {
    "id": "SYTe_AR_UuCs",
    "executionInfo": {
     "status": "ok",
     "timestamp": 1690834407940,
     "user_tz": 240,
     "elapsed": 19,
     "user": {
      "displayName": "Erfan Mowlaei",
      "userId": "07890245825539195560"
     }
    }
   },
   "outputs": [],
   "source": [
    "class MyCustomLoss(tf.keras.losses.Loss):\n",
    "\n",
    "  def call(self, y_true, y_pred):\n",
    "    y_pred = tf.convert_to_tensor(y_pred)\n",
    "    y_true = tf.cast(y_true, y_pred.dtype)\n",
    "\n",
    "    loss_obj = tf.keras.losses.CategoricalCrossentropy(reduction=tf.keras.losses.Reduction.SUM)\n",
    "    cat_loss = loss_obj(y_true, y_pred)\n",
    "\n",
    "    loss_obj = tf.keras.losses.KLDivergence(reduction=tf.keras.losses.Reduction.SUM)\n",
    "    kl_loss = loss_obj(y_true, y_pred)\n",
    "\n",
    "    return cat_loss + kl_loss"
   ]
  },
  {
   "cell_type": "code",
   "execution_count": 26,
   "metadata": {
    "id": "61EgnuNmoFLT",
    "executionInfo": {
     "status": "ok",
     "timestamp": 1690834408075,
     "user_tz": 240,
     "elapsed": 4,
     "user": {
      "displayName": "Erfan Mowlaei",
      "userId": "07890245825539195560"
     }
    }
   },
   "outputs": [],
   "source": [
    "METRIC = \"val_loss\"\n",
    "\n",
    "def create_callbacks(kfold=0, metric = METRIC):\n",
    "\n",
    "    reducelr = tf.keras.callbacks.ReduceLROnPlateau(\n",
    "        monitor= metric,\n",
    "        mode='auto',\n",
    "        factor=0.2,\n",
    "        patience=3,\n",
    "        verbose=0\n",
    "    )\n",
    "\n",
    "    earlystop = tf.keras.callbacks.EarlyStopping(\n",
    "        monitor= metric,\n",
    "        mode='auto',\n",
    "        patience= 20,\n",
    "        verbose=1,\n",
    "        restore_best_weights=True\n",
    "    )\n",
    "\n",
    "    callbacks = [\n",
    "                 reducelr,\n",
    "                 earlystop]\n",
    "\n",
    "    return callbacks"
   ]
  },
  {
   "cell_type": "code",
   "execution_count": 27,
   "metadata": {
    "id": "bWFbNNF4i4HD",
    "executionInfo": {
     "status": "ok",
     "timestamp": 1690834408076,
     "user_tz": 240,
     "elapsed": 4,
     "user": {
      "displayName": "Erfan Mowlaei",
      "userId": "07890245825539195560"
     }
    }
   },
   "outputs": [],
   "source": [
    "def create_model():\n",
    "  model =  SplitTransformer(embed_dim=256,\n",
    "      num_heads=40,\n",
    "      attn_block_repeats=1,\n",
    "      chunk_size=X.shape[1],\n",
    "      activation=\"gelu\",\n",
    "      attention_range=0)\n",
    "  optimizer = tfa.optimizers.LAMB(learning_rate=learning_rate)\n",
    "  model.compile(optimizer, loss=MyCustomLoss(), metrics=tf.keras.metrics.CategoricalAccuracy())\n",
    "  return model\n"
   ]
  },
  {
   "cell_type": "code",
   "source": [
    "temp_model = create_model()\n",
    "temp_model.build((1, X.shape[1], inChannel))\n",
    "temp_model.summary()"
   ],
   "metadata": {
    "colab": {
     "base_uri": "https://localhost:8080/"
    },
    "id": "-D8GM9EKgmcP",
    "executionInfo": {
     "status": "ok",
     "timestamp": 1690834413161,
     "user_tz": 240,
     "elapsed": 5089,
     "user": {
      "displayName": "Erfan Mowlaei",
      "userId": "07890245825539195560"
     }
    },
    "outputId": "5bb9274f-be5c-4a5b-aa68-a5cc70d4ea64"
   },
   "execution_count": 28,
   "outputs": [
    {
     "output_type": "stream",
     "name": "stdout",
     "text": [
      "Model: \"split_transformer\"\n",
      "_________________________________________________________________\n",
      " Layer (type)                Output Shape              Param #   \n",
      "=================================================================\n",
      " model_1 (Functional)        (None, 573, 2)            23912834  \n",
      "                                                                 \n",
      " concatenate_2 (Concatenate)  multiple                 0         \n",
      "                                                                 \n",
      " geno_embeddings (GenoEmbedd  multiple                 147456    \n",
      " ings)                                                           \n",
      "                                                                 \n",
      "=================================================================\n",
      "Total params: 24,060,290\n",
      "Trainable params: 24,056,194\n",
      "Non-trainable params: 4,096\n",
      "_________________________________________________________________\n"
     ]
    }
   ]
  },
  {
   "cell_type": "code",
   "execution_count": 29,
   "metadata": {
    "id": "Mv32H3-y75Fo",
    "executionInfo": {
     "status": "ok",
     "timestamp": 1690834413162,
     "user_tz": 240,
     "elapsed": 16,
     "user": {
      "displayName": "Erfan Mowlaei",
      "userId": "07890245825539195560"
     }
    }
   },
   "outputs": [],
   "source": [
    "def get_three_sets(x, y, random_state, population_label, missing_perc):\n",
    "  np.random.seed(seed=random_state)\n",
    "  _x = x[x.index.isin(y.index)].to_numpy()\n",
    "  _y = y.to_numpy()\n",
    "  x_train, x_test, y_train, y_test = train_test_split(_x, _y, test_size=0.20,\n",
    "                                        random_state=random_state,\n",
    "                                        shuffle=True,\n",
    "                                        stratify=_y,)\n",
    "  train_indices, test_indices = train_test_split(y.index, test_size=0.20,\n",
    "                                        random_state=random_state,\n",
    "                                        shuffle=True,\n",
    "                                        stratify=_y,)\n",
    "  return x_train, y_train, (x_test, y_test), test_indices\n"
   ]
  },
  {
   "cell_type": "code",
   "execution_count": 30,
   "metadata": {
    "colab": {
     "base_uri": "https://localhost:8080/"
    },
    "executionInfo": {
     "elapsed": 170,
     "status": "ok",
     "timestamp": 1690834413317,
     "user": {
      "displayName": "Erfan Mowlaei",
      "userId": "07890245825539195560"
     },
     "user_tz": 240
    },
    "id": "5CVnIE7HK63r",
    "outputId": "c849a755-f4fd-445e-bc76-0629cacf6d8f"
   },
   "outputs": [
    {
     "output_type": "execute_result",
     "data": {
      "text/plain": [
       "array(['ACB', 'ASW', 'BEB', 'CDX', 'CEU', 'CHB', 'CHS', 'CLM', 'ESN',\n",
       "       'FIN', 'GBR', 'GIH', 'GWD', 'IBS', 'ITU', 'JPT', 'KHV', 'LWK',\n",
       "       'MSL', 'MXL', 'PEL', 'PJL', 'PUR', 'STU', 'TSI', 'YRI'],\n",
       "      dtype=object)"
      ]
     },
     "metadata": {},
     "execution_count": 30
    }
   ],
   "source": [
    "np.unique(Y_train.values)"
   ]
  },
  {
   "cell_type": "markdown",
   "metadata": {
    "id": "TOA_NexzN5Qq"
   },
   "source": [
    "## Training"
   ]
  },
  {
   "cell_type": "code",
   "execution_count": 31,
   "metadata": {
    "colab": {
     "base_uri": "https://localhost:8080/"
    },
    "executionInfo": {
     "elapsed": 6,
     "status": "ok",
     "timestamp": 1690834413318,
     "user": {
      "displayName": "Erfan Mowlaei",
      "userId": "07890245825539195560"
     },
     "user_tz": 240
    },
    "id": "Ey5lpPElXlUd",
    "outputId": "75b37e36-9f39-41af-ec95-3ee5d9ef359d"
   },
   "outputs": [
    {
     "output_type": "execute_result",
     "data": {
      "text/plain": [
       "16"
      ]
     },
     "metadata": {},
     "execution_count": 31
    }
   ],
   "source": [
    "# A TPU V3-8 has 8 computing cores, the global batch size will be 1/16 x 8 = 8/128\n",
    "BATCH_SIZE_BASE = 2\n",
    "# Training configuration\n",
    "BATCH_SIZE = BATCH_SIZE_BASE * N_REPLICAS if TPU else 5\n",
    "BATCH_SIZE"
   ]
  },
  {
   "cell_type": "code",
   "source": [
    "save_dir = \"[save_dir]/\"\n",
    "\n",
    "if not os.path.exists(save_dir):\n",
    "  # shutil.rmtree(save_dir)\n",
    "  os.makedirs(save_dir)"
   ],
   "metadata": {
    "id": "0DSNMMjf0Ipo",
    "executionInfo": {
     "status": "ok",
     "timestamp": 1690834413935,
     "user_tz": 240,
     "elapsed": 621,
     "user": {
      "displayName": "Erfan Mowlaei",
      "userId": "07890245825539195560"
     }
    }
   },
   "execution_count": 32,
   "outputs": []
  },
  {
   "cell_type": "code",
   "source": [
    "# With constraint\n",
    "missing_perc = 0.1\n",
    "N_SPLITS=3\n",
    "NUM_EPOCHS = 1000\n",
    "accuracies = []\n",
    "results = None\n",
    "kf = KFold(n_splits=N_SPLITS, shuffle=True, random_state=2022)\n",
    "fold = 0\n",
    "_x = X[X.index.isin(Y_train.index)].to_numpy()\n",
    "_y = Y_train.to_numpy()\n",
    "for train_index, test_index in kf.split(_x):\n",
    "  fold += 1\n",
    "\n",
    "  print(f\"Training using fold {fold}\")\n",
    "\n",
    "  x_train, y_train, test_dataset, test_indices = _x[train_index], _y[train_index], (_x[test_index], _y[test_index]),Y_train.index[test_index]\n",
    "  x_train, x_valid, y_train, y_valid = train_test_split(x_train, y_train, test_size=0.10,\n",
    "                                      random_state=fold,\n",
    "                                      shuffle=True)\n",
    "\n",
    "  steps_per_epoch = 2*x_train.shape[0]//BATCH_SIZE\n",
    "  validation_steps = 2*x_valid.shape[0]//BATCH_SIZE\n",
    "  train_dataset = get_dataset(x_train, 0, feature_size, 0, 0, BATCH_SIZE)\n",
    "  valid_dataset = get_dataset(x_valid, 0, feature_size, 0, 0, BATCH_SIZE, training=False)\n",
    "\n",
    "  K.clear_session()\n",
    "  callbacks = create_callbacks()\n",
    "  with strategy.scope():\n",
    "    model = create_model()\n",
    "    history = model.fit(train_dataset, steps_per_epoch=steps_per_epoch, epochs=NUM_EPOCHS,\n",
    "            validation_data=valid_dataset,\n",
    "            validation_steps=validation_steps,\n",
    "            callbacks=callbacks, verbose=0)\n",
    "  for missing_perc in [\n",
    "                         0.05,\n",
    "                         0.1,\n",
    "                         0.2\n",
    "                         ]:\n",
    "    save_name = save_dir + f\"preds_mixed_mr_{missing_perc}_fold_{fold}_probs\"\n",
    "    avg_accuracy = []\n",
    "    preds = []\n",
    "    true_labels = []\n",
    "\n",
    "    # to_save_array = np.zeros((test_dataset[0].shape[0], test_dataset[0].shape[1]), dtype=object)\n",
    "    test_X_missing = np.empty((test_dataset[0].shape[0] * 2, test_dataset[0].shape[1]), dtype=test_dataset[0].dtype)\n",
    "    map_values_1_vec = np.vectorize(map_values_1)\n",
    "    map_values_2_vec = np.vectorize(map_values_2)\n",
    "    test_X_missing[0::2] = map_values_1_vec(test_dataset[0])\n",
    "    test_X_missing[1::2] = map_values_2_vec(test_dataset[0])\n",
    "    test_X_missing = to_categorical(test_X_missing, 3)\n",
    "\n",
    "\n",
    "    for i in tqdm(range(test_dataset[0].shape[0])):\n",
    "      missing_index, _ = train_test_split(np.arange(x_train.shape[1]), train_size=missing_perc,\n",
    "                                    random_state=i + fold,\n",
    "                                    shuffle=True,\n",
    "                                    stratify=bin_labels\n",
    "                                    )\n",
    "      test_X_missing[i*2:i*2+2, missing_index, :] = [0, 0, 1]\n",
    "      # mMask = np.tile(attention_mask, (1, 1, 1))\n",
    "      # predict\n",
    "    predict_onehots = model.predict(test_X_missing, verbose=0)\n",
    "    to_save_array = np.copy(predict_onehots)\n",
    "    for i in tqdm(range(test_dataset[0].shape[0])):\n",
    "      missing_index, _ = train_test_split(np.arange(x_train.shape[1]), train_size=missing_perc,\n",
    "                                    random_state=i + fold,\n",
    "                                    shuffle=True,\n",
    "                                    stratify=bin_labels\n",
    "                                    )\n",
    "      predict_missing_onehot = predict_onehots[i*2:(i+1)*2, missing_index, :]\n",
    "      # predict label\n",
    "      predict_missing = np.argmax(predict_missing_onehot, axis=2)\n",
    "      predict_missing_final = np.zeros((1, predict_missing.shape[1]))\n",
    "      for j in range(predict_missing.shape[1]):\n",
    "        if predict_missing[:, j].tolist() == [0, 0]:\n",
    "          predict_missing_final[:, j] = 0\n",
    "        elif predict_missing[:, j].tolist() == [0, 1]:\n",
    "          predict_missing_final[:, j] = 1\n",
    "        elif predict_missing[:, j].tolist() == [1, 0]:\n",
    "          predict_missing_final[:, j] = 2\n",
    "        elif predict_missing[:, j].tolist() == [1, 1]:\n",
    "          predict_missing_final[:, j] = 3\n",
    "        else:\n",
    "          predict_missing_final[:, j] = 4\n",
    "      preds.extend(predict_missing_final.ravel().tolist())\n",
    "\n",
    "      # predict_haplotypes = np.argmax(predict_onehots[i*2:(i+1)*2], axis=2)\n",
    "      # for j in range(predict_onehots.shape[1]):\n",
    "      #   if predict_haplotypes[:, j].tolist() == [0,0]:\n",
    "      #     to_save_array[i, j] = '0|0'\n",
    "      #   elif predict_haplotypes[:, j].tolist() == [0,1]:\n",
    "      #     to_save_array[i, j] = '0|1'\n",
    "      #   elif predict_haplotypes[:, j].tolist() == [1,0]:\n",
    "      #     to_save_array[i, j] = '1|0'\n",
    "      #   elif predict_haplotypes[:, j].tolist() == [1, 1]:\n",
    "      #     to_save_array[i, j] = '1|1'\n",
    "      #   else:\n",
    "      #     to_save_array[i, j] = '.|.'\n",
    "      # real label\n",
    "      label_missing_onehot = test_dataset[0][i:i + 1, missing_index]\n",
    "      # label_missing = np.argmax(label_missing_onehot, axis=2)\n",
    "      label_missing = test_dataset[0][i:i + 1, missing_index]\n",
    "      true_labels.extend(label_missing.ravel().tolist())\n",
    "      # accuracy\n",
    "      correct_prediction = np.equal(predict_missing_final, label_missing)\n",
    "      accuracy = np.mean(correct_prediction)\n",
    "      # print('{}/{}, accuracy: {:.4f}'.format(\n",
    "      #     i, test_X_missing.shape[0], accuracy))\n",
    "\n",
    "      avg_accuracy.append(accuracy)\n",
    "\n",
    "    # df = pd.DataFrame(to_save_array, columns= headers[:], index = Y_train.index[test_index])\n",
    "    # df.to_csv(save_name)\n",
    "    np.save(save_name, to_save_array)\n",
    "    print('The average imputation accuracy' \\\n",
    "          'on test data with {} missing genotypes is {:.4f}: '\n",
    "        .format(missing_perc, np.mean(avg_accuracy)))\n",
    "    cnf_matrix = confusion_matrix(true_labels, preds)\n",
    "    FP = cnf_matrix.sum(axis=0) - np.diag(cnf_matrix)\n",
    "    FN = cnf_matrix.sum(axis=1) - np.diag(cnf_matrix)\n",
    "    TP = np.diag(cnf_matrix)\n",
    "    TN = cnf_matrix.sum() - (FP + FN + TP)\n",
    "    FP = FP.astype(float)\n",
    "    FN = FN.astype(float)\n",
    "    TP = TP.astype(float)\n",
    "    TN = TN.astype(float)\n",
    "    # Sensitivity, hit rate, recall, or true positive rate\n",
    "    TPR = TP/(TP+FN)\n",
    "    # Specificity or true negative rate\n",
    "    TNR = TN/(TN+FP)\n",
    "    print(f\"Sensitivity: {np.mean(TPR)}\")\n",
    "    print(f\"Specificity: {np.mean(TNR)}\")\n",
    "    print(f\"F1-score macro: {f1_score(true_labels, preds, average='macro')}\")\n",
    "    print(f\"F1-score micro: {f1_score(true_labels, preds, average='micro')}\")\n",
    "    accuracies.append(np.mean(avg_accuracy))\n",
    "  print(f\"=====================================\")\n",
    "\n"
   ],
   "metadata": {
    "id": "Gq5VWuKWVZVx",
    "colab": {
     "base_uri": "https://localhost:8080/"
    },
    "executionInfo": {
     "status": "ok",
     "timestamp": 1690836437026,
     "user_tz": 240,
     "elapsed": 2023093,
     "user": {
      "displayName": "Erfan Mowlaei",
      "userId": "07890245825539195560"
     }
    },
    "outputId": "8229a249-bce2-4e55-8e5d-9af9dff31119"
   },
   "execution_count": 33,
   "outputs": [
    {
     "output_type": "stream",
     "name": "stdout",
     "text": [
      "Training using fold 1\n",
      "Restoring model weights from the end of the best epoch: 17.\n",
      "Epoch 37: early stopping\n"
     ]
    },
    {
     "output_type": "stream",
     "name": "stderr",
     "text": [
      "100%|██████████| 835/835 [00:03<00:00, 260.53it/s]\n",
      "100%|██████████| 835/835 [00:03<00:00, 263.06it/s]\n"
     ]
    },
    {
     "output_type": "stream",
     "name": "stdout",
     "text": [
      "The average imputation accuracyon test data with 0.05 missing genotypes is 0.9679: \n",
      "Sensitivity: 0.42131999342632154\n",
      "Specificity: 0.8051703245925513\n",
      "F1-score macro: 0.4736603474248404\n",
      "F1-score micro: 0.9679213002566296\n"
     ]
    },
    {
     "output_type": "stream",
     "name": "stderr",
     "text": [
      "100%|██████████| 835/835 [00:02<00:00, 288.88it/s]\n",
      "100%|██████████| 835/835 [00:04<00:00, 189.64it/s]\n"
     ]
    },
    {
     "output_type": "stream",
     "name": "stdout",
     "text": [
      "The average imputation accuracyon test data with 0.1 missing genotypes is 0.9676: \n",
      "Sensitivity: 0.40532147219617287\n",
      "Specificity: 0.8010305927563899\n",
      "F1-score macro: 0.46117498520043887\n",
      "F1-score micro: 0.9676226494379662\n"
     ]
    },
    {
     "output_type": "stream",
     "name": "stderr",
     "text": [
      "100%|██████████| 835/835 [00:02<00:00, 291.18it/s]\n",
      "100%|██████████| 835/835 [00:03<00:00, 271.57it/s]\n"
     ]
    },
    {
     "output_type": "stream",
     "name": "stdout",
     "text": [
      "The average imputation accuracyon test data with 0.2 missing genotypes is 0.9631: \n",
      "Sensitivity: 0.4135369834008785\n",
      "Specificity: 0.8120893672647446\n",
      "F1-score macro: 0.46654339012810336\n",
      "F1-score micro: 0.9630738522954092\n",
      "=====================================\n",
      "Training using fold 2\n",
      "Restoring model weights from the end of the best epoch: 20.\n",
      "Epoch 40: early stopping\n"
     ]
    },
    {
     "output_type": "stream",
     "name": "stderr",
     "text": [
      "100%|██████████| 835/835 [00:05<00:00, 147.71it/s]\n",
      "100%|██████████| 835/835 [00:04<00:00, 176.02it/s]\n"
     ]
    },
    {
     "output_type": "stream",
     "name": "stdout",
     "text": [
      "The average imputation accuracyon test data with 0.05 missing genotypes is 0.9696: \n",
      "Sensitivity: 0.4162834614600355\n",
      "Specificity: 0.812900524583385\n",
      "F1-score macro: 0.4768896367708888\n",
      "F1-score micro: 0.9696321642429427\n"
     ]
    },
    {
     "output_type": "stream",
     "name": "stderr",
     "text": [
      "100%|██████████| 835/835 [00:02<00:00, 280.19it/s]\n",
      "100%|██████████| 835/835 [00:03<00:00, 268.55it/s]\n"
     ]
    },
    {
     "output_type": "stream",
     "name": "stdout",
     "text": [
      "The average imputation accuracyon test data with 0.1 missing genotypes is 0.9704: \n",
      "Sensitivity: 0.41733724631822455\n",
      "Specificity: 0.8103289083770829\n",
      "F1-score macro: 0.4786033770637332\n",
      "F1-score micro: 0.9703540287845361\n"
     ]
    },
    {
     "output_type": "stream",
     "name": "stderr",
     "text": [
      "100%|██████████| 835/835 [00:04<00:00, 173.62it/s]\n",
      "100%|██████████| 835/835 [00:03<00:00, 268.31it/s]\n"
     ]
    },
    {
     "output_type": "stream",
     "name": "stdout",
     "text": [
      "The average imputation accuracyon test data with 0.2 missing genotypes is 0.9649: \n",
      "Sensitivity: 0.42775313201204257\n",
      "Specificity: 0.8191305458006676\n",
      "F1-score macro: 0.48089408964875346\n",
      "F1-score micro: 0.9648912700913962\n",
      "=====================================\n",
      "Training using fold 3\n",
      "Restoring model weights from the end of the best epoch: 43.\n",
      "Epoch 63: early stopping\n"
     ]
    },
    {
     "output_type": "stream",
     "name": "stderr",
     "text": [
      "100%|██████████| 834/834 [00:04<00:00, 199.00it/s]\n",
      "100%|██████████| 834/834 [00:03<00:00, 251.13it/s]\n"
     ]
    },
    {
     "output_type": "stream",
     "name": "stdout",
     "text": [
      "The average imputation accuracyon test data with 0.05 missing genotypes is 0.9699: \n",
      "Sensitivity: 0.4292107032654298\n",
      "Specificity: 0.80836039551409\n",
      "F1-score macro: 0.48718791656118104\n",
      "F1-score micro: 0.9699383350462487\n"
     ]
    },
    {
     "output_type": "stream",
     "name": "stderr",
     "text": [
      "100%|██████████| 834/834 [00:03<00:00, 269.37it/s]\n",
      "100%|██████████| 834/834 [00:04<00:00, 175.73it/s]\n"
     ]
    },
    {
     "output_type": "stream",
     "name": "stdout",
     "text": [
      "The average imputation accuracyon test data with 0.1 missing genotypes is 0.9697: \n",
      "Sensitivity: 0.414368521253193\n",
      "Specificity: 0.805214970103482\n",
      "F1-score macro: 0.4738646068066312\n",
      "F1-score micro: 0.9696663721654255\n"
     ]
    },
    {
     "output_type": "stream",
     "name": "stderr",
     "text": [
      "100%|██████████| 834/834 [00:02<00:00, 283.27it/s]\n",
      "100%|██████████| 834/834 [00:03<00:00, 266.05it/s]\n"
     ]
    },
    {
     "output_type": "stream",
     "name": "stdout",
     "text": [
      "The average imputation accuracyon test data with 0.2 missing genotypes is 0.9646: \n",
      "Sensitivity: 0.4198661461896881\n",
      "Specificity: 0.8172960054814388\n",
      "F1-score macro: 0.47629613290734696\n",
      "F1-score micro: 0.9646493331650469\n",
      "=====================================\n"
     ]
    }
   ]
  },
  {
   "cell_type": "code",
   "source": [
    "from google.colab import runtime\n",
    "runtime.unassign()"
   ],
   "metadata": {
    "id": "ifLke-oWc1Ok",
    "executionInfo": {
     "status": "ok",
     "timestamp": 1690836437314,
     "user_tz": 240,
     "elapsed": 316,
     "user": {
      "displayName": "Erfan Mowlaei",
      "userId": "07890245825539195560"
     }
    }
   },
   "execution_count": 34,
   "outputs": []
  },
  {
   "cell_type": "code",
   "source": [],
   "metadata": {
    "id": "Dtq7QG7C09IU",
    "executionInfo": {
     "status": "ok",
     "timestamp": 1690836437315,
     "user_tz": 240,
     "elapsed": 14,
     "user": {
      "displayName": "Erfan Mowlaei",
      "userId": "07890245825539195560"
     }
    }
   },
   "execution_count": 34,
   "outputs": []
  }
 ],
 "metadata": {
  "accelerator": "TPU",
  "colab": {
   "provenance": [
    {
     "file_id": "1lo9cmptjRRESsVlVECvlJFHbLeaygq2s",
     "timestamp": 1640128751823
    },
    {
     "file_id": "https://github.com/keras-team/keras-io/blob/master/examples/vision/ipynb/perceiver_image_classification.ipynb",
     "timestamp": 1621552889682
    }
   ],
   "toc_visible": true
  },
  "kernelspec": {
   "display_name": "Python 3",
   "language": "python",
   "name": "python3"
  },
  "language_info": {
   "codemirror_mode": {
    "name": "ipython",
    "version": 3
   },
   "file_extension": ".py",
   "mimetype": "text/x-python",
   "name": "python",
   "nbconvert_exporter": "python",
   "pygments_lexer": "ipython3",
   "version": "3.7.0"
  },
  "gpuClass": "standard"
 },
 "nbformat": 4,
 "nbformat_minor": 0
}
